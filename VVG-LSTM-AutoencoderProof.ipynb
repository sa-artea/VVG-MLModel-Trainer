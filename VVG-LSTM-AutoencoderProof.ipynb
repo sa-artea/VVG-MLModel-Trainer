{
 "metadata": {
  "language_info": {
   "codemirror_mode": {
    "name": "ipython",
    "version": 3
   },
   "file_extension": ".py",
   "mimetype": "text/x-python",
   "name": "python",
   "nbconvert_exporter": "python",
   "pygments_lexer": "ipython3",
   "version": "3.8.6-final"
  },
  "orig_nbformat": 2,
  "kernelspec": {
   "name": "python3",
   "display_name": "Python 3.8.6 64-bit",
   "metadata": {
    "interpreter": {
     "hash": "1baa965d5efe3ac65b79dfc60c0d706280b1da80fedb7760faf2759126c4f253"
    }
   }
  }
 },
 "nbformat": 4,
 "nbformat_minor": 2,
 "cells": [
  {
   "source": [
    "useful links:\n",
    "\n",
    "- Data Preparation for Variable Length Input Sequences, URL: https://machinelearningmastery.com/data-preparation-variable-length-input-sequences-sequence-prediction/\n",
    "- Masking and padding with Keras, URL: https://www.tensorflow.org/guide/keras/masking_and_padding\n",
    "- Step-by-step understanding LSTM Autoencoder layers, URL: https://towardsdatascience.com/step-by-step-understanding-lstm-autoencoder-layers-ffab055b6352XX, \n",
    "- Understanding input_shape parameter in LSTM with Keras, URL: https://stats.stackexchange.com/questions/274478/understanding-input-shape-parameter-in-lstm-with-keras\n",
    "- tf.convert_to_tensor, URL: https://www.tensorflow.org/api_docs/python/tf/convert_to_tensor\n",
    "- ValueError: Failed to convert a NumPy array to a Tensor (Unsupported object type int) in Python, URL: https://datascience.stackexchange.com/questions/82440/valueerror-failed-to-convert-a-numpy-array-to-a-tensor-unsupported-object-type"
   ],
   "cell_type": "markdown",
   "metadata": {}
  },
  {
   "cell_type": "code",
   "execution_count": 683,
   "metadata": {},
   "outputs": [
    {
     "output_type": "stream",
     "name": "stderr",
     "text": [
      "[nltk_data] Downloading package punkt to\n[nltk_data]     C:\\Users\\Felipe\\AppData\\Roaming\\nltk_data...\n[nltk_data]   Package punkt is already up-to-date!\n[nltk_data] Downloading package stopwords to\n[nltk_data]     C:\\Users\\Felipe\\AppData\\Roaming\\nltk_data...\n[nltk_data]   Package stopwords is already up-to-date!\n[nltk_data] Downloading package wordnet to\n[nltk_data]     C:\\Users\\Felipe\\AppData\\Roaming\\nltk_data...\n[nltk_data]   Package wordnet is already up-to-date!\n"
     ]
    }
   ],
   "source": [
    "\"\"\"\n",
    "* Copyright 2020, Maestria de Humanidades Digitales,\n",
    "* Universidad de Los Andes\n",
    "*\n",
    "* Developed for the Msc graduation project in Digital Humanities\n",
    "*\n",
    "* This program is free software: you can redistribute it and/or modify\n",
    "* it under the terms of the GNU General Public License as published by\n",
    "* the Free Software Foundation, either version 3 of the License, or\n",
    "* (at your option) any later version.\n",
    "*\n",
    "* This program is distributed in the hope that it will be useful,\n",
    "* but WITHOUT ANY WARRANTY; without even the implied warranty of\n",
    "* MERCHANTABILITY or FITNESS FOR A PARTICULAR PURPOSE.  See the\n",
    "* GNU General Public License for more details.\n",
    "*\n",
    "* You should have received a copy of the GNU General Public License\n",
    "* along with this program.  If not, see <http://www.gnu.org/licenses/>.\n",
    "\"\"\"\n",
    "\n",
    "# ===============================\n",
    "# native python libraries\n",
    "# ===============================\n",
    "import re\n",
    "import random\n",
    "import json\n",
    "import csv\n",
    "from datetime import datetime\n",
    "from collections import OrderedDict\n",
    "from collections import Counter\n",
    "from collections import deque\n",
    "\n",
    "# ===============================\n",
    "# extension python libraries\n",
    "# ===============================\n",
    "import pandas as pd\n",
    "from pandas import ExcelWriter\n",
    "from pandas import ExcelFile\n",
    "import numpy as np\n",
    "import matplotlib.pyplot as plt\n",
    "\n",
    "# natural language processing packages\n",
    "import gensim\n",
    "from gensim import models\n",
    "import nltk\n",
    "from nltk.stem import WordNetLemmatizer\n",
    "from nltk.corpus import stopwords\n",
    "\n",
    "# downloading nlkt data\n",
    "nltk.download('punkt')\n",
    "nltk.download('stopwords')\n",
    "nltk.download('wordnet')\n",
    "\n",
    "# sample handling sklearn package\n",
    "from sklearn.preprocessing import MinMaxScaler\n",
    "from sklearn.model_selection import train_test_split\n",
    "from sklearn.metrics import confusion_matrix\n",
    "from sklearn.metrics import classification_report\n",
    "from sklearn.model_selection import cross_val_score\n",
    "from sklearn.metrics import accuracy_score\n",
    "from sklearn.metrics import precision_score\n",
    "from sklearn.metrics import make_scorer\n",
    "\n",
    "# # Keras + Tensorflow ML libraries\n",
    "from keras.preprocessing.sequence import pad_sequences\n",
    "import tensorflow as tf\n",
    "from tensorflow.keras.preprocessing import sequence\n",
    "from tensorflow.keras.callbacks import EarlyStopping\n",
    "from tensorflow.keras.models import Sequential\n",
    "from tensorflow.keras.layers import Masking\n",
    "from tensorflow.keras.layers import Dense\n",
    "from tensorflow.keras.layers import Flatten\n",
    "from tensorflow.keras.layers import TimeDistributed\n",
    "from tensorflow.keras.layers import Dropout\n",
    "from tensorflow.keras.layers import Embedding\n",
    "from tensorflow.keras.layers import LSTM\n",
    "from tensorflow.keras.layers import Reshape\n",
    "from tensorflow.keras.layers import TimeDistributed\n",
    "from tensorflow.keras.layers import Conv1D\n",
    "from tensorflow.keras.layers import GlobalMaxPooling1D\n",
    "from tensorflow.keras.layers import Conv2D\n",
    "from tensorflow.keras.layers import GlobalMaxPooling2D\n",
    "\n",
    "# ===============================\n",
    "# developed python libraries\n",
    "# ==============================="
   ]
  },
  {
   "cell_type": "code",
   "execution_count": 684,
   "metadata": {},
   "outputs": [],
   "source": [
    "'''\n",
    "A UDF to convert input data into 3-D\n",
    "array as required for LSTM network.\n",
    "\n",
    "taken from https://towardsdatascience.com/step-by-step-understanding-lstm-autoencoder-layers-ffab055b6352\n",
    "'''\n",
    "def temporalize(data, lookback):\n",
    "    output_X = list()\n",
    "    for i in range(len(X)-lookback-1):\n",
    "        temp = list()\n",
    "        for j in range(1,lookback+1):\n",
    "            # Gather past records upto the lookback period\n",
    "            temp.append(data[[(i+j+1)], :])\n",
    "        temp = np.array(temp, dtype=\"object\")\n",
    "        output_X.append(temp)\n",
    "    output_X = np.array(output_X, dtype=\"object\")\n",
    "    return output_X"
   ]
  },
  {
   "cell_type": "code",
   "execution_count": 685,
   "metadata": {},
   "outputs": [],
   "source": [
    "# variable definitions\n",
    "# root folder\n",
    "dataf = \"Data\"\n",
    "\n",
    "# subfolder with the OCR transcrived txt data\n",
    "targetf = \"Target\"\n",
    "\n",
    "#  subfolder with the CSV files containing the ML pandas dataframe\n",
    "stdf = \"Std\"\n",
    "\n",
    "# dataframe file extension\n",
    "fext = \"csv\"\n",
    "\n",
    "# dictionary extension\n",
    "dext = \"dict\"\n",
    "\n",
    "# dataframe file name\n",
    "small_fn = \"std-VVG-Gallery-Text-Data-Small\" + \".\" + fext\n",
    "large_fn = \"std-VVG-Gallery-Text-Data-Large\" + \".\" + fext\n",
    "\n",
    "# dictionary file name\n",
    "sdict_fn = \"VVG-Gallery-Text-Data-Small\" + \".\" + dext\n",
    "ldict_fn = \"VVG-Gallery-Text-Data-Large\" + \".\" + dext\n",
    "\n",
    "# ramdom seed\n",
    "randseed = 42\n",
    "\n",
    "# window size\n",
    "min_wsize = 20\n",
    "max_wsize = 30\n",
    "def_wsize = int((min_wsize+max_wsize)/2)\n",
    "\n",
    "# sample distribution train vs test sample size\n",
    "trainf = 0.80\n",
    "testf = 0.20\n",
    "\n",
    "# regex to know that column Im interested in\n",
    "keeper_regex = r\"(^ID$)|(^STD_)\"\n",
    "\n",
    "# default values\n",
    "work_fn = small_fn\n",
    "work_dict = sdict_fn\n",
    "# work_fn = large_fn\n",
    "# work_dict = ldict_fn"
   ]
  },
  {
   "cell_type": "code",
   "execution_count": 686,
   "metadata": {},
   "outputs": [
    {
     "output_type": "stream",
     "name": "stdout",
     "text": [
      "c:\\Users\\Felipe\\Documents\\GitHub\\sa-artea\\VVG-LSTM-TextAutoencoder\\Data\\Std\\std-VVG-Gallery-Text-Data-Small.csv\nc:\\Users\\Felipe\\Documents\\GitHub\\sa-artea\\VVG-LSTM-TextAutoencoder\\Data\\Std\\VVG-Gallery-Text-Data-Small.dict\n"
     ]
    }
   ],
   "source": [
    "# variable reading\n",
    "# dataframe filepath\n",
    "fn_path = os.path.join(os.getcwd(), dataf, stdf, work_fn)\n",
    "print(fn_path)\n",
    "\n",
    "# gensim dictionart filepath\n",
    "dict_path = os.path.join(os.getcwd(), dataf, stdf, work_dict)\n",
    "print(dict_path)"
   ]
  },
  {
   "cell_type": "code",
   "execution_count": 687,
   "metadata": {},
   "outputs": [
    {
     "output_type": "stream",
     "name": "stdout",
     "text": [
      "Dictionary(660 unique tokens: ['1', '11', '16', '1853', '1885']...)\n"
     ]
    }
   ],
   "source": [
    "# reading words dictionary\n",
    "# loading gesim words dictionary\n",
    "vvg_dict = gensim.corpora.Dictionary()\n",
    "vvg_dict = vvg_dict.load(dict_path)\n",
    "print(vvg_dict)"
   ]
  },
  {
   "cell_type": "code",
   "execution_count": 688,
   "metadata": {},
   "outputs": [],
   "source": [
    "# rading training data\n",
    "# loading file\n",
    "source_df = pd.read_csv(\n",
    "                fn_path,\n",
    "                sep=\",\",\n",
    "                encoding=\"utf-8\",\n",
    "                engine=\"python\",\n",
    "            )"
   ]
  },
  {
   "cell_type": "code",
   "execution_count": 689,
   "metadata": {},
   "outputs": [
    {
     "output_type": "stream",
     "name": "stdout",
     "text": [
      "<class 'pandas.core.frame.DataFrame'>\nRangeIndex: 59 entries, 0 to 58\nData columns (total 56 columns):\n #   Column                                                                                              Non-Null Count  Dtype \n---  ------                                                                                              --------------  ----- \n 0   ID                                                                                                  59 non-null     object\n 1   CORE_TEXT                                                                                           59 non-null     object\n 2   EXT_TEXT                                                                                            59 non-null     object\n 3   complementary colours                                                                               59 non-null     object\n 4   this torso of Venus                                                                                 59 non-null     object\n 5   drew                                                                                                59 non-null     object\n 6   Van Gogh wrote                                                                                      59 non-null     object\n 7   standing torso of Venus                                                                             59 non-null     object\n 8   he wrote                                                                                            59 non-null     object\n 9   The Potato Eaters                                                                                   59 non-null     object\n 10  which he painted a number of times                                                                  59 non-null     object\n 11  He would use this technique more than once in his later work                                        59 non-null     object\n 12  Head of a Woman                                                                                     59 non-null     object\n 13  Head of a Man                                                                                       59 non-null     object\n 14  Head of a Woman 1                                                                                   59 non-null     object\n 15  Head of a Woman 2                                                                                   59 non-null     object\n 16  Head of a Woman 3                                                                                   59 non-null     object\n 17  Torso of Venus                                                                                      59 non-null     object\n 18  Horse                                                                                               59 non-null     object\n 19  Torso of Venus 1                                                                                    59 non-null     object\n 20  Male Torso                                                                                          59 non-null     object\n 21  Kneeling Ecorche                                                                                    59 non-null     object\n 22  Torso of Venus 2                                                                                    59 non-null     object\n 23  Portrait of a Prostitute                                                                            59 non-null     object\n 24  Head of an Old Man                                                                                  59 non-null     object\n 25  Head of a Woman 4                                                                                   59 non-null     object\n 26  Plaster Cast of a Womans Torso                                                                      59 non-null     object\n 27  Plaster Cast of a Womans Torso 1                                                                    59 non-null     object\n 28  Torso of Venus 3                                                                                    59 non-null     object\n 29  Woman Sewing                                                                                        59 non-null     object\n 30  Letter from Vincent van Gogh to Theo van Gogh with sketches of Head of a Woman and Head of a Woman  59 non-null     object\n 31  Head of a Prostitute                                                                                59 non-null     object\n 32  1885                                                                                                59 non-null     object\n 33  Nuenen                                                                                              59 non-null     object\n 34  painting                                                                                            59 non-null     object\n 35  heads                                                                                               59 non-null     object\n 36  Antwerp                                                                                             59 non-null     object\n 37  portrait                                                                                            59 non-null     object\n 38  1886                                                                                                59 non-null     object\n 39  Paris                                                                                               59 non-null     object\n 40  still life                                                                                          59 non-null     object\n 41  nude                                                                                                59 non-null     object\n 42  1884                                                                                                59 non-null     object\n 43  1887                                                                                                59 non-null     object\n 44  animal art                                                                                          59 non-null     object\n 45  drawing                                                                                             59 non-null     object\n 46  1890                                                                                                59 non-null     object\n 47  cityscape                                                                                           59 non-null     object\n 48  1881                                                                                                59 non-null     object\n 49  Brussels                                                                                            59 non-null     object\n 50  TOKENS                                                                                              59 non-null     object\n 51  PREP_TOKENS                                                                                         59 non-null     object\n 52  BOWS_TOKENS                                                                                         59 non-null     object\n 53  IDX_TOKENS                                                                                          59 non-null     object\n 54  TFIDF_TOKENS                                                                                        59 non-null     object\n 55  STD_DVEC_TOKENS                                                                                     59 non-null     object\ndtypes: object(56)\nmemory usage: 25.9+ KB\n"
     ]
    }
   ],
   "source": [
    "# checking everything is allrigth\n",
    "source_df.head(5)\n",
    "# chekcing the dataframe\n",
    "source_df.info()"
   ]
  },
  {
   "cell_type": "code",
   "execution_count": 690,
   "metadata": {},
   "outputs": [
    {
     "output_type": "stream",
     "name": "stdout",
     "text": [
      "------ original input/interested columns ------\n['ID', 'CORE_TEXT', 'EXT_TEXT', 'complementary colours', 'this torso of Venus', 'drew', 'Van Gogh wrote', 'standing torso of Venus', 'he wrote', 'The Potato Eaters', 'which he painted a number of times', 'He would use this technique more than once in his later work', 'Head of a Woman', 'Head of a Man', 'Head of a Woman 1', 'Head of a Woman 2', 'Head of a Woman 3', 'Torso of Venus', 'Horse', 'Torso of Venus 1', 'Male Torso', 'Kneeling Ecorche', 'Torso of Venus 2', 'Portrait of a Prostitute', 'Head of an Old Man', 'Head of a Woman 4', 'Plaster Cast of a Womans Torso', 'Plaster Cast of a Womans Torso 1', 'Torso of Venus 3', 'Woman Sewing', 'Letter from Vincent van Gogh to Theo van Gogh with sketches of Head of a Woman and Head of a Woman', 'Head of a Prostitute', '1885', 'Nuenen', 'painting', 'heads', 'Antwerp', 'portrait', '1886', 'Paris', 'still life', 'nude', '1884', '1887', 'animal art', 'drawing', '1890', 'cityscape', '1881', 'Brussels', 'TOKENS', 'PREP_TOKENS', 'BOWS_TOKENS', 'IDX_TOKENS', 'TFIDF_TOKENS', 'STD_DVEC_TOKENS']\n\n\n------ Interesting columns ------\n['ID', 'STD_DVEC_TOKENS']\n"
     ]
    }
   ],
   "source": [
    "# selecting data to train\n",
    "# want to keep the columns starting with STD_\n",
    "df_columns = list(source_df)\n",
    "print(\"------ original input/interested columns ------\")\n",
    "print(df_columns)\n",
    "\n",
    "# create the columns Im interesting in\n",
    "keep_columns = [i for i in df_columns if re.search(keeper_regex, i)]\n",
    "\n",
    "print(\"\\n\\n------ Interesting columns ------\")\n",
    "print(keep_columns)\n"
   ]
  },
  {
   "cell_type": "code",
   "execution_count": 691,
   "metadata": {},
   "outputs": [],
   "source": [
    "# creating the training dataframe\n",
    "train_df = pd.DataFrame(source_df, columns=keep_columns)"
   ]
  },
  {
   "cell_type": "code",
   "execution_count": 692,
   "metadata": {},
   "outputs": [
    {
     "output_type": "stream",
     "name": "stdout",
     "text": [
      "Dense vector column in dataframe:  STD_DVEC_TOKENS\n"
     ]
    }
   ],
   "source": [
    "# getting the column with the relevant data to train\n",
    "dvector_col = [i for i in df_columns if re.search(u\"^STD_\", i)]\n",
    "dvector_col = dvector_col[0]\n",
    "print(\"Dense vector column in dataframe: \", str(dvector_col))"
   ]
  },
  {
   "cell_type": "code",
   "execution_count": 693,
   "metadata": {
    "tags": []
   },
   "outputs": [],
   "source": [
    "# fix column data type\n",
    "work_corpus = train_df[dvector_col]\n",
    "dvec_std_corpus = list()\n",
    "\n",
    "for dvector in work_corpus:\n",
    "    dvector = eval(dvector)\n",
    "    dvector = np.array(dvector)\n",
    "    dvec_std_corpus.append(dvector)\n",
    "\n",
    "dvec_std_corpus = np.array(dvec_std_corpus, dtype=\"object\")"
   ]
  },
  {
   "cell_type": "code",
   "execution_count": 694,
   "metadata": {},
   "outputs": [],
   "source": [
    "# changing type in dataframe\n",
    "train_df[dvector_col] = dvec_std_corpus"
   ]
  },
  {
   "cell_type": "code",
   "execution_count": 695,
   "metadata": {},
   "outputs": [
    {
     "output_type": "stream",
     "name": "stdout",
     "text": [
      "<class 'pandas.core.frame.DataFrame'>\nRangeIndex: 59 entries, 0 to 58\nData columns (total 2 columns):\n #   Column           Non-Null Count  Dtype \n---  ------           --------------  ----- \n 0   ID               59 non-null     object\n 1   STD_DVEC_TOKENS  59 non-null     object\ndtypes: object(2)\nmemory usage: 1.0+ KB\n"
     ]
    }
   ],
   "source": [
    "# checking the train dataframe\n",
    "train_df.head(5)\n",
    "train_df.info()"
   ]
  },
  {
   "cell_type": "code",
   "execution_count": 696,
   "metadata": {},
   "outputs": [
    {
     "output_type": "stream",
     "name": "stdout",
     "text": [
      "(59,)\n",
      "(59, 140)\n",
      "(59, 140)\n"
     ]
    }
   ],
   "source": [
    "# padding training data according to max length of text corpus\n",
    "pad_prefix = \"PAD_\"\n",
    "recurrent_prefix = \"LSTM_\"\n",
    "padded_corpus = None\n",
    "\n",
    "# getting the corpus dense vectors\n",
    "dvec_std_corpus = train_df[dvector_col]\n",
    "\n",
    "# converting list of list to array of array\n",
    "# npdvec_std_corpus = np.array([np.array(x, dtype=\"object\") for x in dvec_std_corpus], dtype=\"object\")\n",
    "# dvec_std_corpus = np.array(dvec_std_corpus, dtype=\"object\")\n",
    "print(dvec_std_corpus.shape)\n",
    "\n",
    "# padding the representation\n",
    "padded_corpus = pad_sequences(dvec_std_corpus, dtype='object', padding=\"post\")\n",
    "print(padded_corpus.shape)\n",
    "\n",
    "# creating the new column and saving padded data\n",
    "padded_col = pad_prefix + dvector_col\n",
    "# print(padded_col)\n",
    "train_df[padded_col] = list(padded_corpus)\n",
    "print(padded_corpus.shape)"
   ]
  },
  {
   "cell_type": "code",
   "execution_count": 697,
   "metadata": {},
   "outputs": [
    {
     "output_type": "stream",
     "name": "stdout",
     "text": [
      "<class 'pandas.core.frame.DataFrame'>\nRangeIndex: 59 entries, 0 to 58\nData columns (total 3 columns):\n #   Column               Non-Null Count  Dtype \n---  ------               --------------  ----- \n 0   ID                   59 non-null     object\n 1   STD_DVEC_TOKENS      59 non-null     object\n 2   PAD_STD_DVEC_TOKENS  59 non-null     object\ndtypes: object(3)\nmemory usage: 1.5+ KB\n"
     ]
    }
   ],
   "source": [
    "# checking the train dataframe\n",
    "train_df.head(5)\n",
    "train_df.info()"
   ]
  },
  {
   "cell_type": "code",
   "execution_count": 698,
   "metadata": {},
   "outputs": [
    {
     "output_type": "stream",
     "name": "stdout",
     "text": [
      "(59, 140)\n(59, 140)\n"
     ]
    }
   ],
   "source": [
    "# creating Train/Test sample\n",
    "# getting the X, y to train, as is autoencoder both are the same\n",
    "X = np.array([np.array(i, dtype=\"object\") for i in train_df[padded_col]], dtype=\"object\")\n",
    "y = np.array([np.array(j, dtype=\"object\") for j in train_df[padded_col]], dtype=\"object\")\n",
    "\n",
    "# X = train_df[padded_col]\n",
    "# y = train_df[padded_col]\n",
    "\n",
    "print(X.shape)\n",
    "print(y.shape)"
   ]
  },
  {
   "cell_type": "code",
   "execution_count": 699,
   "metadata": {},
   "outputs": [
    {
     "output_type": "stream",
     "name": "stdout",
     "text": [
      "<class 'numpy.ndarray'>\n<class 'float'>\n(59, 140)\n"
     ]
    }
   ],
   "source": [
    "print(type(X[0]))\n",
    "print(type(X[0][0]))\n",
    "print(X.shape)"
   ]
  },
  {
   "cell_type": "code",
   "execution_count": 700,
   "metadata": {},
   "outputs": [
    {
     "output_type": "stream",
     "name": "stdout",
     "text": [
      "<class 'numpy.ndarray'>\n<class 'float'>\n(59, 140)\n"
     ]
    }
   ],
   "source": [
    "print(type(y[0]))\n",
    "print(type(y[0][0]))\n",
    "print(y.shape)"
   ]
  },
  {
   "cell_type": "code",
   "execution_count": 701,
   "metadata": {},
   "outputs": [
    {
     "output_type": "stream",
     "name": "stdout",
     "text": [
      "15 140\n"
     ]
    }
   ],
   "source": [
    "# timestep is the memory of what i read, this is the longest sentence I can remember in the short term\n",
    "# neet to look for the best option, in small the max is 15\n",
    "timesteps = 15\n",
    "\n",
    "# features is the max length in the corpus, after padding!!!!\n",
    "features = X.shape[1]\n",
    "print(timesteps, features)"
   ]
  },
  {
   "cell_type": "code",
   "execution_count": 702,
   "metadata": {},
   "outputs": [],
   "source": [
    "# preparation for reshape lstm model\n",
    "Xt = temporalize(X, timesteps)\n",
    "yt = temporalize(y, timesteps)"
   ]
  },
  {
   "cell_type": "code",
   "execution_count": 703,
   "metadata": {},
   "outputs": [
    {
     "output_type": "stream",
     "name": "stdout",
     "text": [
      "(43, 15, 140)\n(43, 15, 140)\n"
     ]
    }
   ],
   "source": [
    "# reshaping for LSTM model\n",
    "X_lstm = Xt.reshape((Xt.shape[0], timesteps, features))\n",
    "y_lstm = yt.reshape((yt.shape[0], timesteps, features))\n",
    "print(X_lstm.shape)\n",
    "print(y_lstm.shape)\n",
    "# X_train = train_inputs.reshape((split,3,2))\n",
    "# X_test = X_test.reshape((test_inputs.shape[0], 3, 2))"
   ]
  },
  {
   "cell_type": "code",
   "execution_count": 704,
   "metadata": {},
   "outputs": [
    {
     "output_type": "stream",
     "name": "stdout",
     "text": [
      "LSTM_STD_DVEC_TOKENS\n"
     ]
    }
   ],
   "source": [
    "# creating the column for the reshape data according to LSTM\n",
    "lstm_col = recurrent_prefix + dvector_col\n",
    "print(lstm_col)\n",
    "# lstm_df\n",
    "# train_df[lstm_col] = list(X_lstm)"
   ]
  },
  {
   "cell_type": "code",
   "execution_count": 705,
   "metadata": {},
   "outputs": [
    {
     "output_type": "stream",
     "name": "stdout",
     "text": [
      "<class 'pandas.core.frame.DataFrame'>\nRangeIndex: 59 entries, 0 to 58\nData columns (total 3 columns):\n #   Column               Non-Null Count  Dtype \n---  ------               --------------  ----- \n 0   ID                   59 non-null     object\n 1   STD_DVEC_TOKENS      59 non-null     object\n 2   PAD_STD_DVEC_TOKENS  59 non-null     object\ndtypes: object(3)\nmemory usage: 1.5+ KB\n"
     ]
    }
   ],
   "source": [
    "# checking the train dataframe\n",
    "train_df.head(5)\n",
    "train_df.info()"
   ]
  },
  {
   "cell_type": "code",
   "execution_count": 706,
   "metadata": {},
   "outputs": [
    {
     "output_type": "stream",
     "name": "stdout",
     "text": [
      "(43, 15, 140)\n"
     ]
    }
   ],
   "source": [
    "# data to numpy format\n",
    "X_lstm = np.asarray(X_lstm).astype(np.float)\n",
    "# y_lstm = np.asarray(y_lstm).astype(np.float)\n",
    "print(X_lstm.shape)\n",
    "# print(y_lstm.shape)\n",
    "# y = y.to_numpy()"
   ]
  },
  {
   "cell_type": "code",
   "execution_count": 707,
   "metadata": {},
   "outputs": [],
   "source": [
    "# dividing according to train/test proportions\n",
    "X_train, X_test, y_train, y_test = train_test_split(X_lstm, y_lstm, train_size = trainf, test_size = testf, random_state = randseed)"
   ]
  },
  {
   "cell_type": "code",
   "execution_count": 708,
   "metadata": {},
   "outputs": [
    {
     "output_type": "stream",
     "name": "stdout",
     "text": [
      "training shape (X, y)\n",
      "X:  (34, 15, 140)  y:  (34, 15, 140)\n",
      "testing shape (X, y)\n",
      "X:  (9, 15, 140)  y:  (9, 15, 140)\n",
      "data types\n",
      "<class 'numpy.ndarray'> <class 'numpy.ndarray'> <class 'numpy.ndarray'> <class 'numpy.ndarray'>\n",
      "<class 'numpy.ndarray'> <class 'numpy.ndarray'> <class 'numpy.ndarray'> <class 'numpy.ndarray'>\n",
      "<class 'numpy.ndarray'> <class 'numpy.ndarray'> <class 'numpy.ndarray'> <class 'numpy.ndarray'>\n",
      "<class 'numpy.float64'> <class 'numpy.float64'> <class 'float'> <class 'float'>\n"
     ]
    }
   ],
   "source": [
    "# checking shaped\n",
    "print(\"training shape (X, y)\")\n",
    "print(\"X: \", X_train.shape, \" y: \", y_train.shape)\n",
    "\n",
    "print(\"testing shape (X, y)\")\n",
    "print(\"X: \", X_test.shape, \" y: \", y_test.shape)\n",
    "\n",
    "print(\"data types\")\n",
    "print(type(X_train), type(X_test), type(y_train), type(y_test))\n",
    "print(type(X_train[0]), type(X_test[0]), type(y_train[0]), type(y_test[0]))\n",
    "print(type(X_train[0][0]), type(X_test[0][0]), type(y_train[0][0]), type(y_test[0][0]))\n",
    "print(type(X_train[0][0][0]), type(X_test[0][0][0]), type(y_train[0][0][0]), type(y_test[0][0][0]))"
   ]
  },
  {
   "cell_type": "code",
   "execution_count": 709,
   "metadata": {},
   "outputs": [],
   "source": [
    "Xtf_train = tf.convert_to_tensor(X_train, dtype=\"float64\")\n",
    "Xtf_test = tf.convert_to_tensor(X_test, dtype=\"float64\")\n",
    "ytf_train = tf.convert_to_tensor(y_train, dtype=\"float64\")\n",
    "ytf_test = tf.convert_to_tensor(y_test, dtype=\"float64\")\n",
    "\n",
    "# y_tensor = tf.convert_to_tensor(y, dtype=tf.float23) "
   ]
  },
  {
   "cell_type": "code",
   "execution_count": 710,
   "metadata": {},
   "outputs": [
    {
     "output_type": "stream",
     "name": "stdout",
     "text": [
      "--- LSTM memory span ---\n",
      "15\n",
      "--- LSTM learning features ---\n",
      "140\n",
      "--- LSTM learning batch size ---\n",
      "3\n",
      "--- LSMT processing units ---\n",
      "200\n",
      "--- Dense processing units ---\n",
      "1024\n",
      "--- Output prediction units ---\n",
      "140\n",
      "200 15 140\n"
     ]
    }
   ],
   "source": [
    "# number of neurons or processing units in LSTM\n",
    "# the number is because of good practices for NLP\n",
    "# min 200 max 500, normaly 300 (related to the semantic number of themes)\n",
    "# 120 for now in this test\n",
    "lstm_units = 200\n",
    "\n",
    "# timestep is 1 because you read a word at a time\n",
    "memory = timesteps\n",
    "print(\"--- LSTM memory span ---\")\n",
    "print(memory)\n",
    "\n",
    "# features is the max length in the corpus, after padding!!!!\n",
    "features = X_train.shape[2]\n",
    "print(\"--- LSTM learning features ---\")\n",
    "print(features)\n",
    "\n",
    "# batch size\n",
    "sample_size = int(X_train.shape[0]*0.1)\n",
    "print(\"--- LSTM learning batch size ---\")\n",
    "print(sample_size)\n",
    "\n",
    "print(\"--- LSMT processing units ---\")\n",
    "print(lstm_units)\n",
    "\n",
    "# configuration to remember previous recurrent layer\n",
    "retSeq = True\n",
    "\n",
    "# neurons/processing units size in the dense layer (THIS SHOULD BE SOM!!!!)\n",
    "dn1 = 32*32\n",
    "print(\"--- Dense processing units ---\")\n",
    "print(dn1)\n",
    "# dn2 = len(XB_set[0])*SECURITY_FACTOR\n",
    "\n",
    "# numero de neuronas de salida\n",
    "outn1 = X_train.shape[2]\n",
    "print(\"--- Output prediction units ---\")\n",
    "print(outn1)\n",
    "\n",
    "# axtivation functions\n",
    "inn = \"relu\"\n",
    "act = \"relu\"\n",
    "out = \"softmax\"\n",
    "\n",
    "# loss percentage\n",
    "ldrop = 0.2\n",
    "\n",
    "# random seed\n",
    "randseed = 42\n",
    "\n",
    "# parameters to compile model\n",
    "# loss function\n",
    "ls = \"mean_squared_error\"\n",
    "# doptimization function\n",
    "opti = \"adam\"\n",
    "# evaluation score\n",
    "met = [\"accuracy\"]\n",
    "\n",
    "# parameters to exeute training\n",
    "# verbose mode\n",
    "ver = 1\n",
    "# training epocha\n",
    "epo = 300\n",
    "# batch size\n",
    "bs = 1 #y.shape[1]\n",
    "\n",
    "\n",
    "# checking values\n",
    "print(lstm_units, memory, features)"
   ]
  },
  {
   "cell_type": "code",
   "execution_count": 711,
   "metadata": {},
   "outputs": [],
   "source": [
    "# model layers\n",
    "# to avoid overfit you need to use dropout in someplaces\n",
    "lstm_layers = (\n",
    "\n",
    "    # input layer (padding and prep)\n",
    "    # Masking(mask_value=0.0, input_shape=(memory, features)),\n",
    "    # first recurrent encoder layer\n",
    "    LSTM(lstm_units, activation=inn, input_shape=(memory, features), return_sequences=True),\n",
    "    Dropout(ldrop, seed=randseed),\n",
    "\n",
    "    # # second recurrent encoder layer\n",
    "    LSTM(int(lstm_units/2), activation=inn, input_shape=(timesteps, features), return_sequences=True),\n",
    "    Dropout(ldrop, seed=randseed),\n",
    "\n",
    "    # # dense layer for abstraction (THIS SHOULD BE SOM!!!!)\n",
    "    Dense(dn1, activation=act),\n",
    "\n",
    "    # # first recurrent decoder layer\n",
    "    Dropout(ldrop, seed=randseed),\n",
    "    LSTM(int(lstm_units/2), activation=inn, input_shape=(timesteps, features), return_sequences=True),\n",
    "\n",
    "    # # second recurrent decoder layer\n",
    "    Dropout(ldrop, seed=randseed),\n",
    "    LSTM(lstm_units, activation=inn, input_shape=(timesteps, features), return_sequences=True),\n",
    "\n",
    "    # output layer, dense time sequential layer.\n",
    "    TimeDistributed(Dense(outn1, activation=out)),\n",
    ")"
   ]
  },
  {
   "cell_type": "code",
   "execution_count": 712,
   "metadata": {},
   "outputs": [],
   "source": [
    "# defining model\n",
    "lstm_model = Sequential(lstm_layers)"
   ]
  },
  {
   "cell_type": "code",
   "execution_count": 713,
   "metadata": {},
   "outputs": [
    {
     "output_type": "stream",
     "name": "stdout",
     "text": [
      "Model: \"sequential_13\"\n_________________________________________________________________\nLayer (type)                 Output Shape              Param #   \n=================================================================\nlstm_28 (LSTM)               (None, 15, 200)           272800    \n_________________________________________________________________\ndropout (Dropout)            (None, 15, 200)           0         \n_________________________________________________________________\nlstm_29 (LSTM)               (None, 15, 100)           120400    \n_________________________________________________________________\ndropout_1 (Dropout)          (None, 15, 100)           0         \n_________________________________________________________________\ndense_19 (Dense)             (None, 15, 1024)          103424    \n_________________________________________________________________\ndropout_2 (Dropout)          (None, 15, 1024)          0         \n_________________________________________________________________\nlstm_30 (LSTM)               (None, 15, 100)           450000    \n_________________________________________________________________\ndropout_3 (Dropout)          (None, 15, 100)           0         \n_________________________________________________________________\nlstm_31 (LSTM)               (None, 15, 200)           240800    \n_________________________________________________________________\ntime_distributed_13 (TimeDis (None, 15, 140)           28140     \n=================================================================\nTotal params: 1,215,564\nTrainable params: 1,215,564\nNon-trainable params: 0\n_________________________________________________________________\n"
     ]
    }
   ],
   "source": [
    "# compile model\n",
    "lstm_model.compile(loss = ls, optimizer = opti, metrics = met)\n",
    "lstm_model.summary()"
   ]
  },
  {
   "cell_type": "code",
   "execution_count": 714,
   "metadata": {},
   "outputs": [],
   "source": [
    "# early stopping condition BECAAUSE THIS ARE TESTS\n",
    "EarlyStopLSTM_Acc = EarlyStopping(monitor = \"val_accuracy\", min_delta = 0, patience = 30, verbose = 1, mode = \"max\", restore_best_weights = True)\n"
   ]
  },
  {
   "cell_type": "code",
   "execution_count": 715,
   "metadata": {},
   "outputs": [
    {
     "output_type": "stream",
     "name": "stdout",
     "text": [
      "Epoch 1/300\n",
      "34/34 [==============================] - 4s 36ms/step - loss: 0.0083 - accuracy: 0.0718 - val_loss: 0.0077 - val_accuracy: 0.1630\n",
      "Epoch 2/300\n",
      "34/34 [==============================] - 1s 21ms/step - loss: 0.0081 - accuracy: 0.1125 - val_loss: 0.0066 - val_accuracy: 0.1630\n",
      "Epoch 3/300\n",
      "34/34 [==============================] - 1s 21ms/step - loss: 0.0072 - accuracy: 0.0768 - val_loss: 0.0063 - val_accuracy: 0.1630\n",
      "Epoch 4/300\n",
      "34/34 [==============================] - 1s 21ms/step - loss: 0.0069 - accuracy: 0.1056 - val_loss: 0.0061 - val_accuracy: 0.1037\n",
      "Epoch 5/300\n",
      "34/34 [==============================] - 1s 22ms/step - loss: 0.0068 - accuracy: 0.1009 - val_loss: 0.0060 - val_accuracy: 0.0889\n",
      "Epoch 6/300\n",
      "34/34 [==============================] - 1s 22ms/step - loss: 0.0067 - accuracy: 0.1073 - val_loss: 0.0059 - val_accuracy: 0.0963\n",
      "Epoch 7/300\n",
      "34/34 [==============================] - 1s 21ms/step - loss: 0.0067 - accuracy: 0.1253 - val_loss: 0.0058 - val_accuracy: 0.1333\n",
      "Epoch 8/300\n",
      "34/34 [==============================] - 1s 20ms/step - loss: 0.0066 - accuracy: 0.1177 - val_loss: 0.0057 - val_accuracy: 0.1259\n",
      "Epoch 9/300\n",
      "34/34 [==============================] - 1s 20ms/step - loss: 0.0064 - accuracy: 0.1502 - val_loss: 0.0057 - val_accuracy: 0.1333\n",
      "Epoch 10/300\n",
      "34/34 [==============================] - 1s 21ms/step - loss: 0.0064 - accuracy: 0.1727 - val_loss: 0.0055 - val_accuracy: 0.1556\n",
      "Epoch 11/300\n",
      "34/34 [==============================] - 1s 20ms/step - loss: 0.0063 - accuracy: 0.1841 - val_loss: 0.0054 - val_accuracy: 0.2222\n",
      "Epoch 12/300\n",
      "34/34 [==============================] - 1s 20ms/step - loss: 0.0062 - accuracy: 0.2210 - val_loss: 0.0053 - val_accuracy: 0.2222\n",
      "Epoch 13/300\n",
      "34/34 [==============================] - 1s 19ms/step - loss: 0.0061 - accuracy: 0.2653 - val_loss: 0.0053 - val_accuracy: 0.2296\n",
      "Epoch 14/300\n",
      "34/34 [==============================] - 1s 20ms/step - loss: 0.0061 - accuracy: 0.2559 - val_loss: 0.0053 - val_accuracy: 0.2667\n",
      "Epoch 15/300\n",
      "34/34 [==============================] - 1s 20ms/step - loss: 0.0060 - accuracy: 0.3070 - val_loss: 0.0051 - val_accuracy: 0.3852\n",
      "Epoch 16/300\n",
      "34/34 [==============================] - 1s 19ms/step - loss: 0.0060 - accuracy: 0.2932 - val_loss: 0.0051 - val_accuracy: 0.3185\n",
      "Epoch 17/300\n",
      "34/34 [==============================] - 1s 23ms/step - loss: 0.0059 - accuracy: 0.3106 - val_loss: 0.0050 - val_accuracy: 0.3037\n",
      "Epoch 18/300\n",
      "34/34 [==============================] - 1s 20ms/step - loss: 0.0059 - accuracy: 0.2816 - val_loss: 0.0050 - val_accuracy: 0.3111\n",
      "Epoch 19/300\n",
      "34/34 [==============================] - 1s 21ms/step - loss: 0.0058 - accuracy: 0.3430 - val_loss: 0.0050 - val_accuracy: 0.3704\n",
      "Epoch 20/300\n",
      "34/34 [==============================] - 1s 19ms/step - loss: 0.0057 - accuracy: 0.3466 - val_loss: 0.0049 - val_accuracy: 0.4000\n",
      "Epoch 21/300\n",
      "34/34 [==============================] - 1s 23ms/step - loss: 0.0057 - accuracy: 0.3369 - val_loss: 0.0048 - val_accuracy: 0.3852\n",
      "Epoch 22/300\n",
      "34/34 [==============================] - 1s 20ms/step - loss: 0.0056 - accuracy: 0.3141 - val_loss: 0.0048 - val_accuracy: 0.3778\n",
      "Epoch 23/300\n",
      "34/34 [==============================] - 1s 20ms/step - loss: 0.0055 - accuracy: 0.3383 - val_loss: 0.0048 - val_accuracy: 0.3333\n",
      "Epoch 24/300\n",
      "34/34 [==============================] - 1s 19ms/step - loss: 0.0055 - accuracy: 0.2841 - val_loss: 0.0047 - val_accuracy: 0.3333\n",
      "Epoch 25/300\n",
      "34/34 [==============================] - 1s 20ms/step - loss: 0.0054 - accuracy: 0.3228 - val_loss: 0.0046 - val_accuracy: 0.4444\n",
      "Epoch 26/300\n",
      "34/34 [==============================] - 1s 24ms/step - loss: 0.0054 - accuracy: 0.3923 - val_loss: 0.0047 - val_accuracy: 0.4000\n",
      "Epoch 27/300\n",
      "34/34 [==============================] - 1s 24ms/step - loss: 0.0053 - accuracy: 0.3975 - val_loss: 0.0047 - val_accuracy: 0.3852\n",
      "Epoch 28/300\n",
      "34/34 [==============================] - 1s 19ms/step - loss: 0.0053 - accuracy: 0.3917 - val_loss: 0.0046 - val_accuracy: 0.5259\n",
      "Epoch 29/300\n",
      "34/34 [==============================] - 1s 25ms/step - loss: 0.0052 - accuracy: 0.3929 - val_loss: 0.0046 - val_accuracy: 0.4593\n",
      "Epoch 30/300\n",
      "34/34 [==============================] - 1s 24ms/step - loss: 0.0052 - accuracy: 0.4265 - val_loss: 0.0046 - val_accuracy: 0.5333\n",
      "Epoch 31/300\n",
      "34/34 [==============================] - 1s 23ms/step - loss: 0.0052 - accuracy: 0.4327 - val_loss: 0.0046 - val_accuracy: 0.4889\n",
      "Epoch 32/300\n",
      "34/34 [==============================] - 1s 23ms/step - loss: 0.0053 - accuracy: 0.4341 - val_loss: 0.0046 - val_accuracy: 0.4370\n",
      "Epoch 33/300\n",
      "34/34 [==============================] - 1s 23ms/step - loss: 0.0052 - accuracy: 0.4487 - val_loss: 0.0046 - val_accuracy: 0.5037\n",
      "Epoch 34/300\n",
      "34/34 [==============================] - 1s 23ms/step - loss: 0.0051 - accuracy: 0.4282 - val_loss: 0.0045 - val_accuracy: 0.5407\n",
      "Epoch 35/300\n",
      "34/34 [==============================] - 1s 24ms/step - loss: 0.0051 - accuracy: 0.4515 - val_loss: 0.0045 - val_accuracy: 0.5481\n",
      "Epoch 36/300\n",
      "34/34 [==============================] - 1s 24ms/step - loss: 0.0051 - accuracy: 0.4941 - val_loss: 0.0046 - val_accuracy: 0.4148\n",
      "Epoch 37/300\n",
      "34/34 [==============================] - 1s 22ms/step - loss: 0.0051 - accuracy: 0.4344 - val_loss: 0.0046 - val_accuracy: 0.4296\n",
      "Epoch 38/300\n",
      "34/34 [==============================] - 1s 22ms/step - loss: 0.0052 - accuracy: 0.4200 - val_loss: 0.0045 - val_accuracy: 0.5037\n",
      "Epoch 39/300\n",
      "34/34 [==============================] - 1s 22ms/step - loss: 0.0051 - accuracy: 0.4827 - val_loss: 0.0044 - val_accuracy: 0.4963\n",
      "Epoch 40/300\n",
      "34/34 [==============================] - 1s 21ms/step - loss: 0.0050 - accuracy: 0.4935 - val_loss: 0.0044 - val_accuracy: 0.4815\n",
      "Epoch 41/300\n",
      "34/34 [==============================] - 1s 24ms/step - loss: 0.0050 - accuracy: 0.5197 - val_loss: 0.0044 - val_accuracy: 0.5481\n",
      "Epoch 42/300\n",
      "34/34 [==============================] - 1s 23ms/step - loss: 0.0050 - accuracy: 0.4927 - val_loss: 0.0044 - val_accuracy: 0.4963\n",
      "Epoch 43/300\n",
      "34/34 [==============================] - 1s 22ms/step - loss: 0.0050 - accuracy: 0.4715 - val_loss: 0.0044 - val_accuracy: 0.5407\n",
      "Epoch 44/300\n",
      "34/34 [==============================] - 1s 23ms/step - loss: 0.0050 - accuracy: 0.5050 - val_loss: 0.0043 - val_accuracy: 0.5333\n",
      "Epoch 45/300\n",
      "34/34 [==============================] - 1s 23ms/step - loss: 0.0050 - accuracy: 0.4745 - val_loss: 0.0044 - val_accuracy: 0.5407\n",
      "Epoch 46/300\n",
      "34/34 [==============================] - 1s 23ms/step - loss: 0.0050 - accuracy: 0.5624 - val_loss: 0.0044 - val_accuracy: 0.4815\n",
      "Epoch 47/300\n",
      "34/34 [==============================] - 1s 24ms/step - loss: 0.0050 - accuracy: 0.4788 - val_loss: 0.0044 - val_accuracy: 0.4889\n",
      "Epoch 48/300\n",
      "34/34 [==============================] - 1s 23ms/step - loss: 0.0050 - accuracy: 0.5473 - val_loss: 0.0044 - val_accuracy: 0.5185\n",
      "Epoch 49/300\n",
      "34/34 [==============================] - 1s 23ms/step - loss: 0.0049 - accuracy: 0.4946 - val_loss: 0.0043 - val_accuracy: 0.5259\n",
      "Epoch 50/300\n",
      "34/34 [==============================] - 1s 23ms/step - loss: 0.0049 - accuracy: 0.5310 - val_loss: 0.0043 - val_accuracy: 0.4889\n",
      "Epoch 51/300\n",
      "34/34 [==============================] - 1s 23ms/step - loss: 0.0050 - accuracy: 0.4483 - val_loss: 0.0044 - val_accuracy: 0.5037\n",
      "Epoch 52/300\n",
      "34/34 [==============================] - 1s 22ms/step - loss: 0.0049 - accuracy: 0.5307 - val_loss: 0.0043 - val_accuracy: 0.5185\n",
      "Epoch 53/300\n",
      "34/34 [==============================] - 1s 22ms/step - loss: 0.0049 - accuracy: 0.5536 - val_loss: 0.0043 - val_accuracy: 0.5481\n",
      "Epoch 54/300\n",
      "34/34 [==============================] - 1s 23ms/step - loss: 0.0049 - accuracy: 0.5558 - val_loss: 0.0044 - val_accuracy: 0.5630\n",
      "Epoch 55/300\n",
      "34/34 [==============================] - 1s 23ms/step - loss: 0.0050 - accuracy: 0.5000 - val_loss: 0.0043 - val_accuracy: 0.3259\n",
      "Epoch 56/300\n",
      "34/34 [==============================] - 1s 24ms/step - loss: 0.0050 - accuracy: 0.4238 - val_loss: 0.0043 - val_accuracy: 0.5407\n",
      "Epoch 57/300\n",
      "34/34 [==============================] - 1s 23ms/step - loss: 0.0049 - accuracy: 0.5409 - val_loss: 0.0042 - val_accuracy: 0.5333\n",
      "Epoch 58/300\n",
      "34/34 [==============================] - 1s 22ms/step - loss: 0.0049 - accuracy: 0.5439 - val_loss: 0.0044 - val_accuracy: 0.4889\n",
      "Epoch 59/300\n",
      "34/34 [==============================] - 1s 23ms/step - loss: 0.0049 - accuracy: 0.5293 - val_loss: 0.0043 - val_accuracy: 0.5556\n",
      "Epoch 60/300\n",
      "34/34 [==============================] - 1s 23ms/step - loss: 0.0049 - accuracy: 0.5363 - val_loss: 0.0044 - val_accuracy: 0.4889\n",
      "Epoch 61/300\n",
      "34/34 [==============================] - 1s 23ms/step - loss: 0.0049 - accuracy: 0.5161 - val_loss: 0.0042 - val_accuracy: 0.5778\n",
      "Epoch 62/300\n",
      "34/34 [==============================] - 1s 22ms/step - loss: 0.0049 - accuracy: 0.5591 - val_loss: 0.0044 - val_accuracy: 0.4000\n",
      "Epoch 63/300\n",
      "34/34 [==============================] - 1s 21ms/step - loss: 0.0049 - accuracy: 0.4985 - val_loss: 0.0042 - val_accuracy: 0.5259\n",
      "Epoch 64/300\n",
      "34/34 [==============================] - 1s 23ms/step - loss: 0.0049 - accuracy: 0.5267 - val_loss: 0.0042 - val_accuracy: 0.4444\n",
      "Epoch 65/300\n",
      "34/34 [==============================] - 1s 21ms/step - loss: 0.0048 - accuracy: 0.4872 - val_loss: 0.0042 - val_accuracy: 0.4889\n",
      "Epoch 66/300\n",
      "34/34 [==============================] - 1s 20ms/step - loss: 0.0049 - accuracy: 0.4997 - val_loss: 0.0042 - val_accuracy: 0.4889\n",
      "Epoch 67/300\n",
      "34/34 [==============================] - 1s 22ms/step - loss: 0.0049 - accuracy: 0.5638 - val_loss: 0.0042 - val_accuracy: 0.5852\n",
      "Epoch 68/300\n",
      "34/34 [==============================] - 1s 23ms/step - loss: 0.0049 - accuracy: 0.5760 - val_loss: 0.0042 - val_accuracy: 0.5704\n",
      "Epoch 69/300\n",
      "34/34 [==============================] - 1s 21ms/step - loss: 0.0049 - accuracy: 0.5078 - val_loss: 0.0043 - val_accuracy: 0.5333\n",
      "Epoch 70/300\n",
      "34/34 [==============================] - 1s 19ms/step - loss: 0.0049 - accuracy: 0.5114 - val_loss: 0.0043 - val_accuracy: 0.4889\n",
      "Epoch 71/300\n",
      "34/34 [==============================] - 1s 18ms/step - loss: 0.0049 - accuracy: 0.5810 - val_loss: 0.0043 - val_accuracy: 0.4593\n",
      "Epoch 72/300\n",
      "34/34 [==============================] - 1s 18ms/step - loss: 0.0048 - accuracy: 0.5430 - val_loss: 0.0042 - val_accuracy: 0.5778\n",
      "Epoch 73/300\n",
      "34/34 [==============================] - 1s 19ms/step - loss: 0.0048 - accuracy: 0.5033 - val_loss: 0.0043 - val_accuracy: 0.5185\n",
      "Epoch 74/300\n",
      "34/34 [==============================] - 1s 20ms/step - loss: 0.0049 - accuracy: 0.5176 - val_loss: 0.0042 - val_accuracy: 0.4963\n",
      "Epoch 75/300\n",
      "34/34 [==============================] - 1s 18ms/step - loss: 0.0048 - accuracy: 0.5498 - val_loss: 0.0042 - val_accuracy: 0.5333\n",
      "Epoch 76/300\n",
      "34/34 [==============================] - 1s 18ms/step - loss: 0.0048 - accuracy: 0.5393 - val_loss: 0.0042 - val_accuracy: 0.5259\n",
      "Epoch 77/300\n",
      "34/34 [==============================] - 1s 18ms/step - loss: 0.0048 - accuracy: 0.5292 - val_loss: 0.0042 - val_accuracy: 0.5111\n",
      "Epoch 78/300\n",
      "34/34 [==============================] - 1s 19ms/step - loss: 0.0048 - accuracy: 0.5230 - val_loss: 0.0042 - val_accuracy: 0.4667\n",
      "Epoch 79/300\n",
      "34/34 [==============================] - 1s 20ms/step - loss: 0.0049 - accuracy: 0.4810 - val_loss: 0.0042 - val_accuracy: 0.5333\n",
      "Epoch 80/300\n",
      "34/34 [==============================] - 1s 20ms/step - loss: 0.0048 - accuracy: 0.5382 - val_loss: 0.0042 - val_accuracy: 0.5630\n",
      "Epoch 81/300\n",
      "34/34 [==============================] - 1s 20ms/step - loss: 0.0048 - accuracy: 0.5021 - val_loss: 0.0042 - val_accuracy: 0.4741\n",
      "Epoch 82/300\n",
      "34/34 [==============================] - 1s 20ms/step - loss: 0.0048 - accuracy: 0.5116 - val_loss: 0.0042 - val_accuracy: 0.4963\n",
      "Epoch 83/300\n",
      "34/34 [==============================] - 1s 20ms/step - loss: 0.0048 - accuracy: 0.5360 - val_loss: 0.0042 - val_accuracy: 0.5259\n",
      "Epoch 84/300\n",
      "34/34 [==============================] - 1s 22ms/step - loss: 0.0048 - accuracy: 0.5253 - val_loss: 0.0042 - val_accuracy: 0.5259\n",
      "Epoch 85/300\n",
      "34/34 [==============================] - 1s 20ms/step - loss: 0.0048 - accuracy: 0.5676 - val_loss: 0.0042 - val_accuracy: 0.5704\n",
      "Epoch 86/300\n",
      "34/34 [==============================] - 1s 20ms/step - loss: 0.0048 - accuracy: 0.5446 - val_loss: 0.0042 - val_accuracy: 0.5037\n",
      "Epoch 87/300\n",
      "34/34 [==============================] - 1s 21ms/step - loss: 0.0048 - accuracy: 0.5671 - val_loss: 0.0042 - val_accuracy: 0.4667\n",
      "Epoch 88/300\n",
      "34/34 [==============================] - 1s 22ms/step - loss: 0.0048 - accuracy: 0.5857 - val_loss: 0.0042 - val_accuracy: 0.5704\n",
      "Epoch 89/300\n",
      "34/34 [==============================] - 1s 22ms/step - loss: 0.0048 - accuracy: 0.5103 - val_loss: 0.0042 - val_accuracy: 0.5630\n",
      "Epoch 90/300\n",
      "34/34 [==============================] - 1s 21ms/step - loss: 0.0048 - accuracy: 0.5402 - val_loss: 0.0042 - val_accuracy: 0.5556\n",
      "Epoch 91/300\n",
      "34/34 [==============================] - 1s 20ms/step - loss: 0.0048 - accuracy: 0.5932 - val_loss: 0.0042 - val_accuracy: 0.6074\n",
      "Epoch 92/300\n",
      "34/34 [==============================] - 1s 20ms/step - loss: 0.0048 - accuracy: 0.5894 - val_loss: 0.0042 - val_accuracy: 0.5333\n",
      "Epoch 93/300\n",
      "34/34 [==============================] - 1s 19ms/step - loss: 0.0048 - accuracy: 0.5562 - val_loss: 0.0042 - val_accuracy: 0.5407\n",
      "Epoch 94/300\n",
      "34/34 [==============================] - 1s 20ms/step - loss: 0.0048 - accuracy: 0.5131 - val_loss: 0.0042 - val_accuracy: 0.6148\n",
      "Epoch 95/300\n",
      "34/34 [==============================] - 1s 21ms/step - loss: 0.0048 - accuracy: 0.5775 - val_loss: 0.0042 - val_accuracy: 0.4519\n",
      "Epoch 96/300\n",
      "34/34 [==============================] - 1s 24ms/step - loss: 0.0048 - accuracy: 0.5159 - val_loss: 0.0042 - val_accuracy: 0.5778\n",
      "Epoch 97/300\n",
      "34/34 [==============================] - 1s 23ms/step - loss: 0.0048 - accuracy: 0.5357 - val_loss: 0.0042 - val_accuracy: 0.5333\n",
      "Epoch 98/300\n",
      "34/34 [==============================] - 1s 20ms/step - loss: 0.0048 - accuracy: 0.5824 - val_loss: 0.0042 - val_accuracy: 0.5037\n",
      "Epoch 99/300\n",
      "34/34 [==============================] - 1s 22ms/step - loss: 0.0048 - accuracy: 0.5551 - val_loss: 0.0043 - val_accuracy: 0.5481\n",
      "Epoch 100/300\n",
      "34/34 [==============================] - 1s 22ms/step - loss: 0.0048 - accuracy: 0.5911 - val_loss: 0.0042 - val_accuracy: 0.5556\n",
      "Epoch 101/300\n",
      "34/34 [==============================] - 1s 22ms/step - loss: 0.0048 - accuracy: 0.5201 - val_loss: 0.0042 - val_accuracy: 0.5333\n",
      "Epoch 102/300\n",
      "34/34 [==============================] - 1s 22ms/step - loss: 0.0048 - accuracy: 0.5080 - val_loss: 0.0042 - val_accuracy: 0.5778\n",
      "Epoch 103/300\n",
      "34/34 [==============================] - 1s 23ms/step - loss: 0.0048 - accuracy: 0.5425 - val_loss: 0.0042 - val_accuracy: 0.5111\n",
      "Epoch 104/300\n",
      "34/34 [==============================] - 1s 23ms/step - loss: 0.0048 - accuracy: 0.5424 - val_loss: 0.0042 - val_accuracy: 0.5556\n",
      "Epoch 105/300\n",
      "34/34 [==============================] - 1s 23ms/step - loss: 0.0048 - accuracy: 0.5413 - val_loss: 0.0042 - val_accuracy: 0.4963\n",
      "Epoch 106/300\n",
      "34/34 [==============================] - 1s 22ms/step - loss: 0.0048 - accuracy: 0.5289 - val_loss: 0.0042 - val_accuracy: 0.5185\n",
      "Epoch 107/300\n",
      "34/34 [==============================] - 1s 21ms/step - loss: 0.0048 - accuracy: 0.5938 - val_loss: 0.0042 - val_accuracy: 0.5259\n",
      "Epoch 108/300\n",
      "34/34 [==============================] - 1s 23ms/step - loss: 0.0048 - accuracy: 0.5365 - val_loss: 0.0042 - val_accuracy: 0.5852\n",
      "Epoch 109/300\n",
      "34/34 [==============================] - 1s 22ms/step - loss: 0.0048 - accuracy: 0.5597 - val_loss: 0.0041 - val_accuracy: 0.5556\n",
      "Epoch 110/300\n",
      "34/34 [==============================] - 1s 21ms/step - loss: 0.0047 - accuracy: 0.5530 - val_loss: 0.0041 - val_accuracy: 0.5407\n",
      "Epoch 111/300\n",
      "34/34 [==============================] - 1s 23ms/step - loss: 0.0048 - accuracy: 0.5494 - val_loss: 0.0043 - val_accuracy: 0.4815\n",
      "Epoch 112/300\n",
      "34/34 [==============================] - 1s 20ms/step - loss: 0.0048 - accuracy: 0.5393 - val_loss: 0.0042 - val_accuracy: 0.5926\n",
      "Epoch 113/300\n",
      "34/34 [==============================] - 1s 20ms/step - loss: 0.0048 - accuracy: 0.6075 - val_loss: 0.0042 - val_accuracy: 0.4963\n",
      "Epoch 114/300\n",
      "34/34 [==============================] - 1s 20ms/step - loss: 0.0048 - accuracy: 0.5487 - val_loss: 0.0042 - val_accuracy: 0.5556\n",
      "Epoch 115/300\n",
      "34/34 [==============================] - 1s 21ms/step - loss: 0.0048 - accuracy: 0.5536 - val_loss: 0.0042 - val_accuracy: 0.5556\n",
      "Epoch 116/300\n",
      "34/34 [==============================] - 1s 20ms/step - loss: 0.0048 - accuracy: 0.5838 - val_loss: 0.0042 - val_accuracy: 0.4667\n",
      "Epoch 117/300\n",
      "34/34 [==============================] - 1s 22ms/step - loss: 0.0048 - accuracy: 0.5330 - val_loss: 0.0042 - val_accuracy: 0.5852\n",
      "Epoch 118/300\n",
      "34/34 [==============================] - 1s 19ms/step - loss: 0.0047 - accuracy: 0.5898 - val_loss: 0.0042 - val_accuracy: 0.5852\n",
      "Epoch 119/300\n",
      "34/34 [==============================] - 1s 18ms/step - loss: 0.0048 - accuracy: 0.5631 - val_loss: 0.0042 - val_accuracy: 0.5481\n",
      "Epoch 120/300\n",
      "34/34 [==============================] - 1s 20ms/step - loss: 0.0048 - accuracy: 0.5773 - val_loss: 0.0042 - val_accuracy: 0.5407\n",
      "Epoch 121/300\n",
      "34/34 [==============================] - 1s 19ms/step - loss: 0.0047 - accuracy: 0.5809 - val_loss: 0.0042 - val_accuracy: 0.5259\n",
      "Epoch 122/300\n",
      "34/34 [==============================] - 1s 20ms/step - loss: 0.0047 - accuracy: 0.5576 - val_loss: 0.0041 - val_accuracy: 0.6074\n",
      "Epoch 123/300\n",
      "34/34 [==============================] - 1s 19ms/step - loss: 0.0047 - accuracy: 0.5738 - val_loss: 0.0042 - val_accuracy: 0.4963\n",
      "Epoch 124/300\n",
      "34/34 [==============================] - 1s 20ms/step - loss: 0.0048 - accuracy: 0.5987 - val_loss: 0.0042 - val_accuracy: 0.5407\n",
      "Restoring model weights from the end of the best epoch.\n",
      "Epoch 00124: early stopping\n"
     ]
    }
   ],
   "source": [
    "# training model\n",
    "history_lstm = lstm_model.fit(\n",
    "    x = Xtf_train, \n",
    "    y = ytf_train,\n",
    "    epochs = epo, \n",
    "    verbose = ver, \n",
    "    workers = 4,\n",
    "    batch_size = bs, \n",
    "    callbacks = [EarlyStopLSTM_Acc],\n",
    "    shuffle = False,\n",
    "    use_multiprocessing = True,\n",
    "    validation_data = (Xtf_test, ytf_test),\n",
    ")"
   ]
  },
  {
   "cell_type": "code",
   "execution_count": 716,
   "metadata": {},
   "outputs": [],
   "source": [
    "# saving model"
   ]
  },
  {
   "cell_type": "code",
   "execution_count": 717,
   "metadata": {},
   "outputs": [],
   "source": [
    "# testing model\n",
    "lstm_results = lstm_model.predict(X_test)#, batch_size = bs)#, verbose = 1)#, batch_size = bs)"
   ]
  },
  {
   "cell_type": "code",
   "execution_count": 718,
   "metadata": {},
   "outputs": [
    {
     "output_type": "stream",
     "name": "stdout",
     "text": [
      "Model: \"sequential_13\"\n_________________________________________________________________\nLayer (type)                 Output Shape              Param #   \n=================================================================\nlstm_28 (LSTM)               (None, 15, 200)           272800    \n_________________________________________________________________\ndropout (Dropout)            (None, 15, 200)           0         \n_________________________________________________________________\nlstm_29 (LSTM)               (None, 15, 100)           120400    \n_________________________________________________________________\ndropout_1 (Dropout)          (None, 15, 100)           0         \n_________________________________________________________________\ndense_19 (Dense)             (None, 15, 1024)          103424    \n_________________________________________________________________\ndropout_2 (Dropout)          (None, 15, 1024)          0         \n_________________________________________________________________\nlstm_30 (LSTM)               (None, 15, 100)           450000    \n_________________________________________________________________\ndropout_3 (Dropout)          (None, 15, 100)           0         \n_________________________________________________________________\nlstm_31 (LSTM)               (None, 15, 200)           240800    \n_________________________________________________________________\ntime_distributed_13 (TimeDis (None, 15, 140)           28140     \n=================================================================\nTotal params: 1,215,564\nTrainable params: 1,215,564\nNon-trainable params: 0\n_________________________________________________________________\n"
     ]
    }
   ],
   "source": [
    "# just checking\n",
    "lstm_model.summary()"
   ]
  },
  {
   "cell_type": "code",
   "execution_count": 719,
   "metadata": {},
   "outputs": [
    {
     "output_type": "stream",
     "name": "stdout",
     "text": [
      "(9, 15, 140)\n"
     ]
    }
   ],
   "source": [
    "# cheking test shape\n",
    "print(lstm_results.shape)"
   ]
  },
  {
   "cell_type": "code",
   "execution_count": 720,
   "metadata": {},
   "outputs": [
    {
     "output_type": "stream",
     "name": "stderr",
     "text": [
      "<ipython-input-720-3ce915c3119e>:21: UserWarning: Matplotlib is currently using module://ipykernel.pylab.backend_inline, which is a non-GUI backend, so cannot show the figure.\n  fig.show()\n"
     ]
    },
    {
     "output_type": "display_data",
     "data": {
      "text/plain": "<Figure size 1152x576 with 2 Axes>",
      "image/svg+xml": "<?xml version=\"1.0\" encoding=\"utf-8\" standalone=\"no\"?>\r\n<!DOCTYPE svg PUBLIC \"-//W3C//DTD SVG 1.1//EN\"\r\n  \"http://www.w3.org/Graphics/SVG/1.1/DTD/svg11.dtd\">\r\n<!-- Created with matplotlib (https://matplotlib.org/) -->\r\n<svg height=\"543.75625pt\" version=\"1.1\" viewBox=\"0 0 1073.06875 543.75625\" width=\"1073.06875pt\" xmlns=\"http://www.w3.org/2000/svg\" xmlns:xlink=\"http://www.w3.org/1999/xlink\">\r\n <metadata>\r\n  <rdf:RDF xmlns:cc=\"http://creativecommons.org/ns#\" xmlns:dc=\"http://purl.org/dc/elements/1.1/\" xmlns:rdf=\"http://www.w3.org/1999/02/22-rdf-syntax-ns#\">\r\n   <cc:Work>\r\n    <dc:type rdf:resource=\"http://purl.org/dc/dcmitype/StillImage\"/>\r\n    <dc:date>2021-03-09T16:02:16.308239</dc:date>\r\n    <dc:format>image/svg+xml</dc:format>\r\n    <dc:creator>\r\n     <cc:Agent>\r\n      <dc:title>Matplotlib v3.3.3, https://matplotlib.org/</dc:title>\r\n     </cc:Agent>\r\n    </dc:creator>\r\n   </cc:Work>\r\n  </rdf:RDF>\r\n </metadata>\r\n <defs>\r\n  <style type=\"text/css\">*{stroke-linecap:butt;stroke-linejoin:round;}</style>\r\n </defs>\r\n <g id=\"figure_1\">\r\n  <g id=\"patch_1\">\r\n   <path d=\"M 0 543.75625 \r\nL 1073.06875 543.75625 \r\nL 1073.06875 0 \r\nL 0 0 \r\nz\r\n\" style=\"fill:none;\"/>\r\n  </g>\r\n  <g id=\"axes_1\">\r\n   <g id=\"patch_2\">\r\n    <path d=\"M 62.86875 506.2 \r\nL 468.686932 506.2 \r\nL 468.686932 71.32 \r\nL 62.86875 71.32 \r\nz\r\n\" style=\"fill:#ffffff;\"/>\r\n   </g>\r\n   <g id=\"matplotlib.axis_1\">\r\n    <g id=\"xtick_1\">\r\n     <g id=\"line2d_1\">\r\n      <path clip-path=\"url(#p0b4831b7ad)\" d=\"M 81.315031 506.2 \r\nL 81.315031 71.32 \r\n\" style=\"fill:none;stroke:#b0b0b0;stroke-linecap:square;stroke-width:0.8;\"/>\r\n     </g>\r\n     <g id=\"line2d_2\">\r\n      <defs>\r\n       <path d=\"M 0 0 \r\nL 0 3.5 \r\n\" id=\"ma5871820a2\" style=\"stroke:#000000;stroke-width:0.8;\"/>\r\n      </defs>\r\n      <g>\r\n       <use style=\"stroke:#000000;stroke-width:0.8;\" x=\"81.315031\" xlink:href=\"#ma5871820a2\" y=\"506.2\"/>\r\n      </g>\r\n     </g>\r\n     <g id=\"text_1\">\r\n      <!-- 0 -->\r\n      <g transform=\"translate(78.133781 520.798438)scale(0.1 -0.1)\">\r\n       <defs>\r\n        <path d=\"M 31.78125 66.40625 \r\nQ 24.171875 66.40625 20.328125 58.90625 \r\nQ 16.5 51.421875 16.5 36.375 \r\nQ 16.5 21.390625 20.328125 13.890625 \r\nQ 24.171875 6.390625 31.78125 6.390625 \r\nQ 39.453125 6.390625 43.28125 13.890625 \r\nQ 47.125 21.390625 47.125 36.375 \r\nQ 47.125 51.421875 43.28125 58.90625 \r\nQ 39.453125 66.40625 31.78125 66.40625 \r\nz\r\nM 31.78125 74.21875 \r\nQ 44.046875 74.21875 50.515625 64.515625 \r\nQ 56.984375 54.828125 56.984375 36.375 \r\nQ 56.984375 17.96875 50.515625 8.265625 \r\nQ 44.046875 -1.421875 31.78125 -1.421875 \r\nQ 19.53125 -1.421875 13.0625 8.265625 \r\nQ 6.59375 17.96875 6.59375 36.375 \r\nQ 6.59375 54.828125 13.0625 64.515625 \r\nQ 19.53125 74.21875 31.78125 74.21875 \r\nz\r\n\" id=\"DejaVuSans-48\"/>\r\n       </defs>\r\n       <use xlink:href=\"#DejaVuSans-48\"/>\r\n      </g>\r\n     </g>\r\n    </g>\r\n    <g id=\"xtick_2\">\r\n     <g id=\"line2d_3\">\r\n      <path clip-path=\"url(#p0b4831b7ad)\" d=\"M 141.302937 506.2 \r\nL 141.302937 71.32 \r\n\" style=\"fill:none;stroke:#b0b0b0;stroke-linecap:square;stroke-width:0.8;\"/>\r\n     </g>\r\n     <g id=\"line2d_4\">\r\n      <g>\r\n       <use style=\"stroke:#000000;stroke-width:0.8;\" x=\"141.302937\" xlink:href=\"#ma5871820a2\" y=\"506.2\"/>\r\n      </g>\r\n     </g>\r\n     <g id=\"text_2\">\r\n      <!-- 20 -->\r\n      <g transform=\"translate(134.940437 520.798438)scale(0.1 -0.1)\">\r\n       <defs>\r\n        <path d=\"M 19.1875 8.296875 \r\nL 53.609375 8.296875 \r\nL 53.609375 0 \r\nL 7.328125 0 \r\nL 7.328125 8.296875 \r\nQ 12.9375 14.109375 22.625 23.890625 \r\nQ 32.328125 33.6875 34.8125 36.53125 \r\nQ 39.546875 41.84375 41.421875 45.53125 \r\nQ 43.3125 49.21875 43.3125 52.78125 \r\nQ 43.3125 58.59375 39.234375 62.25 \r\nQ 35.15625 65.921875 28.609375 65.921875 \r\nQ 23.96875 65.921875 18.8125 64.3125 \r\nQ 13.671875 62.703125 7.8125 59.421875 \r\nL 7.8125 69.390625 \r\nQ 13.765625 71.78125 18.9375 73 \r\nQ 24.125 74.21875 28.421875 74.21875 \r\nQ 39.75 74.21875 46.484375 68.546875 \r\nQ 53.21875 62.890625 53.21875 53.421875 \r\nQ 53.21875 48.921875 51.53125 44.890625 \r\nQ 49.859375 40.875 45.40625 35.40625 \r\nQ 44.1875 33.984375 37.640625 27.21875 \r\nQ 31.109375 20.453125 19.1875 8.296875 \r\nz\r\n\" id=\"DejaVuSans-50\"/>\r\n       </defs>\r\n       <use xlink:href=\"#DejaVuSans-50\"/>\r\n       <use x=\"63.623047\" xlink:href=\"#DejaVuSans-48\"/>\r\n      </g>\r\n     </g>\r\n    </g>\r\n    <g id=\"xtick_3\">\r\n     <g id=\"line2d_5\">\r\n      <path clip-path=\"url(#p0b4831b7ad)\" d=\"M 201.290842 506.2 \r\nL 201.290842 71.32 \r\n\" style=\"fill:none;stroke:#b0b0b0;stroke-linecap:square;stroke-width:0.8;\"/>\r\n     </g>\r\n     <g id=\"line2d_6\">\r\n      <g>\r\n       <use style=\"stroke:#000000;stroke-width:0.8;\" x=\"201.290842\" xlink:href=\"#ma5871820a2\" y=\"506.2\"/>\r\n      </g>\r\n     </g>\r\n     <g id=\"text_3\">\r\n      <!-- 40 -->\r\n      <g transform=\"translate(194.928342 520.798438)scale(0.1 -0.1)\">\r\n       <defs>\r\n        <path d=\"M 37.796875 64.3125 \r\nL 12.890625 25.390625 \r\nL 37.796875 25.390625 \r\nz\r\nM 35.203125 72.90625 \r\nL 47.609375 72.90625 \r\nL 47.609375 25.390625 \r\nL 58.015625 25.390625 \r\nL 58.015625 17.1875 \r\nL 47.609375 17.1875 \r\nL 47.609375 0 \r\nL 37.796875 0 \r\nL 37.796875 17.1875 \r\nL 4.890625 17.1875 \r\nL 4.890625 26.703125 \r\nz\r\n\" id=\"DejaVuSans-52\"/>\r\n       </defs>\r\n       <use xlink:href=\"#DejaVuSans-52\"/>\r\n       <use x=\"63.623047\" xlink:href=\"#DejaVuSans-48\"/>\r\n      </g>\r\n     </g>\r\n    </g>\r\n    <g id=\"xtick_4\">\r\n     <g id=\"line2d_7\">\r\n      <path clip-path=\"url(#p0b4831b7ad)\" d=\"M 261.278748 506.2 \r\nL 261.278748 71.32 \r\n\" style=\"fill:none;stroke:#b0b0b0;stroke-linecap:square;stroke-width:0.8;\"/>\r\n     </g>\r\n     <g id=\"line2d_8\">\r\n      <g>\r\n       <use style=\"stroke:#000000;stroke-width:0.8;\" x=\"261.278748\" xlink:href=\"#ma5871820a2\" y=\"506.2\"/>\r\n      </g>\r\n     </g>\r\n     <g id=\"text_4\">\r\n      <!-- 60 -->\r\n      <g transform=\"translate(254.916248 520.798438)scale(0.1 -0.1)\">\r\n       <defs>\r\n        <path d=\"M 33.015625 40.375 \r\nQ 26.375 40.375 22.484375 35.828125 \r\nQ 18.609375 31.296875 18.609375 23.390625 \r\nQ 18.609375 15.53125 22.484375 10.953125 \r\nQ 26.375 6.390625 33.015625 6.390625 \r\nQ 39.65625 6.390625 43.53125 10.953125 \r\nQ 47.40625 15.53125 47.40625 23.390625 \r\nQ 47.40625 31.296875 43.53125 35.828125 \r\nQ 39.65625 40.375 33.015625 40.375 \r\nz\r\nM 52.59375 71.296875 \r\nL 52.59375 62.3125 \r\nQ 48.875 64.0625 45.09375 64.984375 \r\nQ 41.3125 65.921875 37.59375 65.921875 \r\nQ 27.828125 65.921875 22.671875 59.328125 \r\nQ 17.53125 52.734375 16.796875 39.40625 \r\nQ 19.671875 43.65625 24.015625 45.921875 \r\nQ 28.375 48.1875 33.59375 48.1875 \r\nQ 44.578125 48.1875 50.953125 41.515625 \r\nQ 57.328125 34.859375 57.328125 23.390625 \r\nQ 57.328125 12.15625 50.6875 5.359375 \r\nQ 44.046875 -1.421875 33.015625 -1.421875 \r\nQ 20.359375 -1.421875 13.671875 8.265625 \r\nQ 6.984375 17.96875 6.984375 36.375 \r\nQ 6.984375 53.65625 15.1875 63.9375 \r\nQ 23.390625 74.21875 37.203125 74.21875 \r\nQ 40.921875 74.21875 44.703125 73.484375 \r\nQ 48.484375 72.75 52.59375 71.296875 \r\nz\r\n\" id=\"DejaVuSans-54\"/>\r\n       </defs>\r\n       <use xlink:href=\"#DejaVuSans-54\"/>\r\n       <use x=\"63.623047\" xlink:href=\"#DejaVuSans-48\"/>\r\n      </g>\r\n     </g>\r\n    </g>\r\n    <g id=\"xtick_5\">\r\n     <g id=\"line2d_9\">\r\n      <path clip-path=\"url(#p0b4831b7ad)\" d=\"M 321.266654 506.2 \r\nL 321.266654 71.32 \r\n\" style=\"fill:none;stroke:#b0b0b0;stroke-linecap:square;stroke-width:0.8;\"/>\r\n     </g>\r\n     <g id=\"line2d_10\">\r\n      <g>\r\n       <use style=\"stroke:#000000;stroke-width:0.8;\" x=\"321.266654\" xlink:href=\"#ma5871820a2\" y=\"506.2\"/>\r\n      </g>\r\n     </g>\r\n     <g id=\"text_5\">\r\n      <!-- 80 -->\r\n      <g transform=\"translate(314.904154 520.798438)scale(0.1 -0.1)\">\r\n       <defs>\r\n        <path d=\"M 31.78125 34.625 \r\nQ 24.75 34.625 20.71875 30.859375 \r\nQ 16.703125 27.09375 16.703125 20.515625 \r\nQ 16.703125 13.921875 20.71875 10.15625 \r\nQ 24.75 6.390625 31.78125 6.390625 \r\nQ 38.8125 6.390625 42.859375 10.171875 \r\nQ 46.921875 13.96875 46.921875 20.515625 \r\nQ 46.921875 27.09375 42.890625 30.859375 \r\nQ 38.875 34.625 31.78125 34.625 \r\nz\r\nM 21.921875 38.8125 \r\nQ 15.578125 40.375 12.03125 44.71875 \r\nQ 8.5 49.078125 8.5 55.328125 \r\nQ 8.5 64.0625 14.71875 69.140625 \r\nQ 20.953125 74.21875 31.78125 74.21875 \r\nQ 42.671875 74.21875 48.875 69.140625 \r\nQ 55.078125 64.0625 55.078125 55.328125 \r\nQ 55.078125 49.078125 51.53125 44.71875 \r\nQ 48 40.375 41.703125 38.8125 \r\nQ 48.828125 37.15625 52.796875 32.3125 \r\nQ 56.78125 27.484375 56.78125 20.515625 \r\nQ 56.78125 9.90625 50.3125 4.234375 \r\nQ 43.84375 -1.421875 31.78125 -1.421875 \r\nQ 19.734375 -1.421875 13.25 4.234375 \r\nQ 6.78125 9.90625 6.78125 20.515625 \r\nQ 6.78125 27.484375 10.78125 32.3125 \r\nQ 14.796875 37.15625 21.921875 38.8125 \r\nz\r\nM 18.3125 54.390625 \r\nQ 18.3125 48.734375 21.84375 45.5625 \r\nQ 25.390625 42.390625 31.78125 42.390625 \r\nQ 38.140625 42.390625 41.71875 45.5625 \r\nQ 45.3125 48.734375 45.3125 54.390625 \r\nQ 45.3125 60.0625 41.71875 63.234375 \r\nQ 38.140625 66.40625 31.78125 66.40625 \r\nQ 25.390625 66.40625 21.84375 63.234375 \r\nQ 18.3125 60.0625 18.3125 54.390625 \r\nz\r\n\" id=\"DejaVuSans-56\"/>\r\n       </defs>\r\n       <use xlink:href=\"#DejaVuSans-56\"/>\r\n       <use x=\"63.623047\" xlink:href=\"#DejaVuSans-48\"/>\r\n      </g>\r\n     </g>\r\n    </g>\r\n    <g id=\"xtick_6\">\r\n     <g id=\"line2d_11\">\r\n      <path clip-path=\"url(#p0b4831b7ad)\" d=\"M 381.254559 506.2 \r\nL 381.254559 71.32 \r\n\" style=\"fill:none;stroke:#b0b0b0;stroke-linecap:square;stroke-width:0.8;\"/>\r\n     </g>\r\n     <g id=\"line2d_12\">\r\n      <g>\r\n       <use style=\"stroke:#000000;stroke-width:0.8;\" x=\"381.254559\" xlink:href=\"#ma5871820a2\" y=\"506.2\"/>\r\n      </g>\r\n     </g>\r\n     <g id=\"text_6\">\r\n      <!-- 100 -->\r\n      <g transform=\"translate(371.710809 520.798438)scale(0.1 -0.1)\">\r\n       <defs>\r\n        <path d=\"M 12.40625 8.296875 \r\nL 28.515625 8.296875 \r\nL 28.515625 63.921875 \r\nL 10.984375 60.40625 \r\nL 10.984375 69.390625 \r\nL 28.421875 72.90625 \r\nL 38.28125 72.90625 \r\nL 38.28125 8.296875 \r\nL 54.390625 8.296875 \r\nL 54.390625 0 \r\nL 12.40625 0 \r\nz\r\n\" id=\"DejaVuSans-49\"/>\r\n       </defs>\r\n       <use xlink:href=\"#DejaVuSans-49\"/>\r\n       <use x=\"63.623047\" xlink:href=\"#DejaVuSans-48\"/>\r\n       <use x=\"127.246094\" xlink:href=\"#DejaVuSans-48\"/>\r\n      </g>\r\n     </g>\r\n    </g>\r\n    <g id=\"xtick_7\">\r\n     <g id=\"line2d_13\">\r\n      <path clip-path=\"url(#p0b4831b7ad)\" d=\"M 441.242465 506.2 \r\nL 441.242465 71.32 \r\n\" style=\"fill:none;stroke:#b0b0b0;stroke-linecap:square;stroke-width:0.8;\"/>\r\n     </g>\r\n     <g id=\"line2d_14\">\r\n      <g>\r\n       <use style=\"stroke:#000000;stroke-width:0.8;\" x=\"441.242465\" xlink:href=\"#ma5871820a2\" y=\"506.2\"/>\r\n      </g>\r\n     </g>\r\n     <g id=\"text_7\">\r\n      <!-- 120 -->\r\n      <g transform=\"translate(431.698715 520.798438)scale(0.1 -0.1)\">\r\n       <use xlink:href=\"#DejaVuSans-49\"/>\r\n       <use x=\"63.623047\" xlink:href=\"#DejaVuSans-50\"/>\r\n       <use x=\"127.246094\" xlink:href=\"#DejaVuSans-48\"/>\r\n      </g>\r\n     </g>\r\n    </g>\r\n    <g id=\"text_8\">\r\n     <!-- Epoch [cycle] -->\r\n     <g transform=\"translate(232.052841 534.476563)scale(0.1 -0.1)\">\r\n      <defs>\r\n       <path d=\"M 9.8125 72.90625 \r\nL 55.90625 72.90625 \r\nL 55.90625 64.59375 \r\nL 19.671875 64.59375 \r\nL 19.671875 43.015625 \r\nL 54.390625 43.015625 \r\nL 54.390625 34.71875 \r\nL 19.671875 34.71875 \r\nL 19.671875 8.296875 \r\nL 56.78125 8.296875 \r\nL 56.78125 0 \r\nL 9.8125 0 \r\nz\r\n\" id=\"DejaVuSans-69\"/>\r\n       <path d=\"M 18.109375 8.203125 \r\nL 18.109375 -20.796875 \r\nL 9.078125 -20.796875 \r\nL 9.078125 54.6875 \r\nL 18.109375 54.6875 \r\nL 18.109375 46.390625 \r\nQ 20.953125 51.265625 25.265625 53.625 \r\nQ 29.59375 56 35.59375 56 \r\nQ 45.5625 56 51.78125 48.09375 \r\nQ 58.015625 40.1875 58.015625 27.296875 \r\nQ 58.015625 14.40625 51.78125 6.484375 \r\nQ 45.5625 -1.421875 35.59375 -1.421875 \r\nQ 29.59375 -1.421875 25.265625 0.953125 \r\nQ 20.953125 3.328125 18.109375 8.203125 \r\nz\r\nM 48.6875 27.296875 \r\nQ 48.6875 37.203125 44.609375 42.84375 \r\nQ 40.53125 48.484375 33.40625 48.484375 \r\nQ 26.265625 48.484375 22.1875 42.84375 \r\nQ 18.109375 37.203125 18.109375 27.296875 \r\nQ 18.109375 17.390625 22.1875 11.75 \r\nQ 26.265625 6.109375 33.40625 6.109375 \r\nQ 40.53125 6.109375 44.609375 11.75 \r\nQ 48.6875 17.390625 48.6875 27.296875 \r\nz\r\n\" id=\"DejaVuSans-112\"/>\r\n       <path d=\"M 30.609375 48.390625 \r\nQ 23.390625 48.390625 19.1875 42.75 \r\nQ 14.984375 37.109375 14.984375 27.296875 \r\nQ 14.984375 17.484375 19.15625 11.84375 \r\nQ 23.34375 6.203125 30.609375 6.203125 \r\nQ 37.796875 6.203125 41.984375 11.859375 \r\nQ 46.1875 17.53125 46.1875 27.296875 \r\nQ 46.1875 37.015625 41.984375 42.703125 \r\nQ 37.796875 48.390625 30.609375 48.390625 \r\nz\r\nM 30.609375 56 \r\nQ 42.328125 56 49.015625 48.375 \r\nQ 55.71875 40.765625 55.71875 27.296875 \r\nQ 55.71875 13.875 49.015625 6.21875 \r\nQ 42.328125 -1.421875 30.609375 -1.421875 \r\nQ 18.84375 -1.421875 12.171875 6.21875 \r\nQ 5.515625 13.875 5.515625 27.296875 \r\nQ 5.515625 40.765625 12.171875 48.375 \r\nQ 18.84375 56 30.609375 56 \r\nz\r\n\" id=\"DejaVuSans-111\"/>\r\n       <path d=\"M 48.78125 52.59375 \r\nL 48.78125 44.1875 \r\nQ 44.96875 46.296875 41.140625 47.34375 \r\nQ 37.3125 48.390625 33.40625 48.390625 \r\nQ 24.65625 48.390625 19.8125 42.84375 \r\nQ 14.984375 37.3125 14.984375 27.296875 \r\nQ 14.984375 17.28125 19.8125 11.734375 \r\nQ 24.65625 6.203125 33.40625 6.203125 \r\nQ 37.3125 6.203125 41.140625 7.25 \r\nQ 44.96875 8.296875 48.78125 10.40625 \r\nL 48.78125 2.09375 \r\nQ 45.015625 0.34375 40.984375 -0.53125 \r\nQ 36.96875 -1.421875 32.421875 -1.421875 \r\nQ 20.0625 -1.421875 12.78125 6.34375 \r\nQ 5.515625 14.109375 5.515625 27.296875 \r\nQ 5.515625 40.671875 12.859375 48.328125 \r\nQ 20.21875 56 33.015625 56 \r\nQ 37.15625 56 41.109375 55.140625 \r\nQ 45.0625 54.296875 48.78125 52.59375 \r\nz\r\n\" id=\"DejaVuSans-99\"/>\r\n       <path d=\"M 54.890625 33.015625 \r\nL 54.890625 0 \r\nL 45.90625 0 \r\nL 45.90625 32.71875 \r\nQ 45.90625 40.484375 42.875 44.328125 \r\nQ 39.84375 48.1875 33.796875 48.1875 \r\nQ 26.515625 48.1875 22.3125 43.546875 \r\nQ 18.109375 38.921875 18.109375 30.90625 \r\nL 18.109375 0 \r\nL 9.078125 0 \r\nL 9.078125 75.984375 \r\nL 18.109375 75.984375 \r\nL 18.109375 46.1875 \r\nQ 21.34375 51.125 25.703125 53.5625 \r\nQ 30.078125 56 35.796875 56 \r\nQ 45.21875 56 50.046875 50.171875 \r\nQ 54.890625 44.34375 54.890625 33.015625 \r\nz\r\n\" id=\"DejaVuSans-104\"/>\r\n       <path id=\"DejaVuSans-32\"/>\r\n       <path d=\"M 8.59375 75.984375 \r\nL 29.296875 75.984375 \r\nL 29.296875 69 \r\nL 17.578125 69 \r\nL 17.578125 -6.203125 \r\nL 29.296875 -6.203125 \r\nL 29.296875 -13.1875 \r\nL 8.59375 -13.1875 \r\nz\r\n\" id=\"DejaVuSans-91\"/>\r\n       <path d=\"M 32.171875 -5.078125 \r\nQ 28.375 -14.84375 24.75 -17.8125 \r\nQ 21.140625 -20.796875 15.09375 -20.796875 \r\nL 7.90625 -20.796875 \r\nL 7.90625 -13.28125 \r\nL 13.1875 -13.28125 \r\nQ 16.890625 -13.28125 18.9375 -11.515625 \r\nQ 21 -9.765625 23.484375 -3.21875 \r\nL 25.09375 0.875 \r\nL 2.984375 54.6875 \r\nL 12.5 54.6875 \r\nL 29.59375 11.921875 \r\nL 46.6875 54.6875 \r\nL 56.203125 54.6875 \r\nz\r\n\" id=\"DejaVuSans-121\"/>\r\n       <path d=\"M 9.421875 75.984375 \r\nL 18.40625 75.984375 \r\nL 18.40625 0 \r\nL 9.421875 0 \r\nz\r\n\" id=\"DejaVuSans-108\"/>\r\n       <path d=\"M 56.203125 29.59375 \r\nL 56.203125 25.203125 \r\nL 14.890625 25.203125 \r\nQ 15.484375 15.921875 20.484375 11.0625 \r\nQ 25.484375 6.203125 34.421875 6.203125 \r\nQ 39.59375 6.203125 44.453125 7.46875 \r\nQ 49.3125 8.734375 54.109375 11.28125 \r\nL 54.109375 2.78125 \r\nQ 49.265625 0.734375 44.1875 -0.34375 \r\nQ 39.109375 -1.421875 33.890625 -1.421875 \r\nQ 20.796875 -1.421875 13.15625 6.1875 \r\nQ 5.515625 13.8125 5.515625 26.8125 \r\nQ 5.515625 40.234375 12.765625 48.109375 \r\nQ 20.015625 56 32.328125 56 \r\nQ 43.359375 56 49.78125 48.890625 \r\nQ 56.203125 41.796875 56.203125 29.59375 \r\nz\r\nM 47.21875 32.234375 \r\nQ 47.125 39.59375 43.09375 43.984375 \r\nQ 39.0625 48.390625 32.421875 48.390625 \r\nQ 24.90625 48.390625 20.390625 44.140625 \r\nQ 15.875 39.890625 15.1875 32.171875 \r\nz\r\n\" id=\"DejaVuSans-101\"/>\r\n       <path d=\"M 30.421875 75.984375 \r\nL 30.421875 -13.1875 \r\nL 9.71875 -13.1875 \r\nL 9.71875 -6.203125 \r\nL 21.390625 -6.203125 \r\nL 21.390625 69 \r\nL 9.71875 69 \r\nL 9.71875 75.984375 \r\nz\r\n\" id=\"DejaVuSans-93\"/>\r\n      </defs>\r\n      <use xlink:href=\"#DejaVuSans-69\"/>\r\n      <use x=\"63.183594\" xlink:href=\"#DejaVuSans-112\"/>\r\n      <use x=\"126.660156\" xlink:href=\"#DejaVuSans-111\"/>\r\n      <use x=\"187.841797\" xlink:href=\"#DejaVuSans-99\"/>\r\n      <use x=\"242.822266\" xlink:href=\"#DejaVuSans-104\"/>\r\n      <use x=\"306.201172\" xlink:href=\"#DejaVuSans-32\"/>\r\n      <use x=\"337.988281\" xlink:href=\"#DejaVuSans-91\"/>\r\n      <use x=\"377.001953\" xlink:href=\"#DejaVuSans-99\"/>\r\n      <use x=\"431.982422\" xlink:href=\"#DejaVuSans-121\"/>\r\n      <use x=\"491.162109\" xlink:href=\"#DejaVuSans-99\"/>\r\n      <use x=\"546.142578\" xlink:href=\"#DejaVuSans-108\"/>\r\n      <use x=\"573.925781\" xlink:href=\"#DejaVuSans-101\"/>\r\n      <use x=\"635.449219\" xlink:href=\"#DejaVuSans-93\"/>\r\n     </g>\r\n    </g>\r\n   </g>\r\n   <g id=\"matplotlib.axis_2\">\r\n    <g id=\"ytick_1\">\r\n     <g id=\"line2d_15\">\r\n      <path clip-path=\"url(#p0b4831b7ad)\" d=\"M 62.86875 500.010789 \r\nL 468.686932 500.010789 \r\n\" style=\"fill:none;stroke:#b0b0b0;stroke-linecap:square;stroke-width:0.8;\"/>\r\n     </g>\r\n     <g id=\"line2d_16\">\r\n      <defs>\r\n       <path d=\"M 0 0 \r\nL -3.5 0 \r\n\" id=\"m4db409a73f\" style=\"stroke:#000000;stroke-width:0.8;\"/>\r\n      </defs>\r\n      <g>\r\n       <use style=\"stroke:#000000;stroke-width:0.8;\" x=\"62.86875\" xlink:href=\"#m4db409a73f\" y=\"500.010789\"/>\r\n      </g>\r\n     </g>\r\n     <g id=\"text_9\">\r\n      <!-- 0.0040 -->\r\n      <g transform=\"translate(20.878125 503.810007)scale(0.1 -0.1)\">\r\n       <defs>\r\n        <path d=\"M 10.6875 12.40625 \r\nL 21 12.40625 \r\nL 21 0 \r\nL 10.6875 0 \r\nz\r\n\" id=\"DejaVuSans-46\"/>\r\n       </defs>\r\n       <use xlink:href=\"#DejaVuSans-48\"/>\r\n       <use x=\"63.623047\" xlink:href=\"#DejaVuSans-46\"/>\r\n       <use x=\"95.410156\" xlink:href=\"#DejaVuSans-48\"/>\r\n       <use x=\"159.033203\" xlink:href=\"#DejaVuSans-48\"/>\r\n       <use x=\"222.65625\" xlink:href=\"#DejaVuSans-52\"/>\r\n       <use x=\"286.279297\" xlink:href=\"#DejaVuSans-48\"/>\r\n      </g>\r\n     </g>\r\n    </g>\r\n    <g id=\"ytick_2\">\r\n     <g id=\"line2d_17\">\r\n      <path clip-path=\"url(#p0b4831b7ad)\" d=\"M 62.86875 450.951102 \r\nL 468.686932 450.951102 \r\n\" style=\"fill:none;stroke:#b0b0b0;stroke-linecap:square;stroke-width:0.8;\"/>\r\n     </g>\r\n     <g id=\"line2d_18\">\r\n      <g>\r\n       <use style=\"stroke:#000000;stroke-width:0.8;\" x=\"62.86875\" xlink:href=\"#m4db409a73f\" y=\"450.951102\"/>\r\n      </g>\r\n     </g>\r\n     <g id=\"text_10\">\r\n      <!-- 0.0045 -->\r\n      <g transform=\"translate(20.878125 454.750321)scale(0.1 -0.1)\">\r\n       <defs>\r\n        <path d=\"M 10.796875 72.90625 \r\nL 49.515625 72.90625 \r\nL 49.515625 64.59375 \r\nL 19.828125 64.59375 \r\nL 19.828125 46.734375 \r\nQ 21.96875 47.46875 24.109375 47.828125 \r\nQ 26.265625 48.1875 28.421875 48.1875 \r\nQ 40.625 48.1875 47.75 41.5 \r\nQ 54.890625 34.8125 54.890625 23.390625 \r\nQ 54.890625 11.625 47.5625 5.09375 \r\nQ 40.234375 -1.421875 26.90625 -1.421875 \r\nQ 22.3125 -1.421875 17.546875 -0.640625 \r\nQ 12.796875 0.140625 7.71875 1.703125 \r\nL 7.71875 11.625 \r\nQ 12.109375 9.234375 16.796875 8.0625 \r\nQ 21.484375 6.890625 26.703125 6.890625 \r\nQ 35.15625 6.890625 40.078125 11.328125 \r\nQ 45.015625 15.765625 45.015625 23.390625 \r\nQ 45.015625 31 40.078125 35.4375 \r\nQ 35.15625 39.890625 26.703125 39.890625 \r\nQ 22.75 39.890625 18.8125 39.015625 \r\nQ 14.890625 38.140625 10.796875 36.28125 \r\nz\r\n\" id=\"DejaVuSans-53\"/>\r\n       </defs>\r\n       <use xlink:href=\"#DejaVuSans-48\"/>\r\n       <use x=\"63.623047\" xlink:href=\"#DejaVuSans-46\"/>\r\n       <use x=\"95.410156\" xlink:href=\"#DejaVuSans-48\"/>\r\n       <use x=\"159.033203\" xlink:href=\"#DejaVuSans-48\"/>\r\n       <use x=\"222.65625\" xlink:href=\"#DejaVuSans-52\"/>\r\n       <use x=\"286.279297\" xlink:href=\"#DejaVuSans-53\"/>\r\n      </g>\r\n     </g>\r\n    </g>\r\n    <g id=\"ytick_3\">\r\n     <g id=\"line2d_19\">\r\n      <path clip-path=\"url(#p0b4831b7ad)\" d=\"M 62.86875 401.891415 \r\nL 468.686932 401.891415 \r\n\" style=\"fill:none;stroke:#b0b0b0;stroke-linecap:square;stroke-width:0.8;\"/>\r\n     </g>\r\n     <g id=\"line2d_20\">\r\n      <g>\r\n       <use style=\"stroke:#000000;stroke-width:0.8;\" x=\"62.86875\" xlink:href=\"#m4db409a73f\" y=\"401.891415\"/>\r\n      </g>\r\n     </g>\r\n     <g id=\"text_11\">\r\n      <!-- 0.0050 -->\r\n      <g transform=\"translate(20.878125 405.690634)scale(0.1 -0.1)\">\r\n       <use xlink:href=\"#DejaVuSans-48\"/>\r\n       <use x=\"63.623047\" xlink:href=\"#DejaVuSans-46\"/>\r\n       <use x=\"95.410156\" xlink:href=\"#DejaVuSans-48\"/>\r\n       <use x=\"159.033203\" xlink:href=\"#DejaVuSans-48\"/>\r\n       <use x=\"222.65625\" xlink:href=\"#DejaVuSans-53\"/>\r\n       <use x=\"286.279297\" xlink:href=\"#DejaVuSans-48\"/>\r\n      </g>\r\n     </g>\r\n    </g>\r\n    <g id=\"ytick_4\">\r\n     <g id=\"line2d_21\">\r\n      <path clip-path=\"url(#p0b4831b7ad)\" d=\"M 62.86875 352.831728 \r\nL 468.686932 352.831728 \r\n\" style=\"fill:none;stroke:#b0b0b0;stroke-linecap:square;stroke-width:0.8;\"/>\r\n     </g>\r\n     <g id=\"line2d_22\">\r\n      <g>\r\n       <use style=\"stroke:#000000;stroke-width:0.8;\" x=\"62.86875\" xlink:href=\"#m4db409a73f\" y=\"352.831728\"/>\r\n      </g>\r\n     </g>\r\n     <g id=\"text_12\">\r\n      <!-- 0.0055 -->\r\n      <g transform=\"translate(20.878125 356.630947)scale(0.1 -0.1)\">\r\n       <use xlink:href=\"#DejaVuSans-48\"/>\r\n       <use x=\"63.623047\" xlink:href=\"#DejaVuSans-46\"/>\r\n       <use x=\"95.410156\" xlink:href=\"#DejaVuSans-48\"/>\r\n       <use x=\"159.033203\" xlink:href=\"#DejaVuSans-48\"/>\r\n       <use x=\"222.65625\" xlink:href=\"#DejaVuSans-53\"/>\r\n       <use x=\"286.279297\" xlink:href=\"#DejaVuSans-53\"/>\r\n      </g>\r\n     </g>\r\n    </g>\r\n    <g id=\"ytick_5\">\r\n     <g id=\"line2d_23\">\r\n      <path clip-path=\"url(#p0b4831b7ad)\" d=\"M 62.86875 303.772041 \r\nL 468.686932 303.772041 \r\n\" style=\"fill:none;stroke:#b0b0b0;stroke-linecap:square;stroke-width:0.8;\"/>\r\n     </g>\r\n     <g id=\"line2d_24\">\r\n      <g>\r\n       <use style=\"stroke:#000000;stroke-width:0.8;\" x=\"62.86875\" xlink:href=\"#m4db409a73f\" y=\"303.772041\"/>\r\n      </g>\r\n     </g>\r\n     <g id=\"text_13\">\r\n      <!-- 0.0060 -->\r\n      <g transform=\"translate(20.878125 307.57126)scale(0.1 -0.1)\">\r\n       <use xlink:href=\"#DejaVuSans-48\"/>\r\n       <use x=\"63.623047\" xlink:href=\"#DejaVuSans-46\"/>\r\n       <use x=\"95.410156\" xlink:href=\"#DejaVuSans-48\"/>\r\n       <use x=\"159.033203\" xlink:href=\"#DejaVuSans-48\"/>\r\n       <use x=\"222.65625\" xlink:href=\"#DejaVuSans-54\"/>\r\n       <use x=\"286.279297\" xlink:href=\"#DejaVuSans-48\"/>\r\n      </g>\r\n     </g>\r\n    </g>\r\n    <g id=\"ytick_6\">\r\n     <g id=\"line2d_25\">\r\n      <path clip-path=\"url(#p0b4831b7ad)\" d=\"M 62.86875 254.712354 \r\nL 468.686932 254.712354 \r\n\" style=\"fill:none;stroke:#b0b0b0;stroke-linecap:square;stroke-width:0.8;\"/>\r\n     </g>\r\n     <g id=\"line2d_26\">\r\n      <g>\r\n       <use style=\"stroke:#000000;stroke-width:0.8;\" x=\"62.86875\" xlink:href=\"#m4db409a73f\" y=\"254.712354\"/>\r\n      </g>\r\n     </g>\r\n     <g id=\"text_14\">\r\n      <!-- 0.0065 -->\r\n      <g transform=\"translate(20.878125 258.511573)scale(0.1 -0.1)\">\r\n       <use xlink:href=\"#DejaVuSans-48\"/>\r\n       <use x=\"63.623047\" xlink:href=\"#DejaVuSans-46\"/>\r\n       <use x=\"95.410156\" xlink:href=\"#DejaVuSans-48\"/>\r\n       <use x=\"159.033203\" xlink:href=\"#DejaVuSans-48\"/>\r\n       <use x=\"222.65625\" xlink:href=\"#DejaVuSans-54\"/>\r\n       <use x=\"286.279297\" xlink:href=\"#DejaVuSans-53\"/>\r\n      </g>\r\n     </g>\r\n    </g>\r\n    <g id=\"ytick_7\">\r\n     <g id=\"line2d_27\">\r\n      <path clip-path=\"url(#p0b4831b7ad)\" d=\"M 62.86875 205.652667 \r\nL 468.686932 205.652667 \r\n\" style=\"fill:none;stroke:#b0b0b0;stroke-linecap:square;stroke-width:0.8;\"/>\r\n     </g>\r\n     <g id=\"line2d_28\">\r\n      <g>\r\n       <use style=\"stroke:#000000;stroke-width:0.8;\" x=\"62.86875\" xlink:href=\"#m4db409a73f\" y=\"205.652667\"/>\r\n      </g>\r\n     </g>\r\n     <g id=\"text_15\">\r\n      <!-- 0.0070 -->\r\n      <g transform=\"translate(20.878125 209.451886)scale(0.1 -0.1)\">\r\n       <defs>\r\n        <path d=\"M 8.203125 72.90625 \r\nL 55.078125 72.90625 \r\nL 55.078125 68.703125 \r\nL 28.609375 0 \r\nL 18.3125 0 \r\nL 43.21875 64.59375 \r\nL 8.203125 64.59375 \r\nz\r\n\" id=\"DejaVuSans-55\"/>\r\n       </defs>\r\n       <use xlink:href=\"#DejaVuSans-48\"/>\r\n       <use x=\"63.623047\" xlink:href=\"#DejaVuSans-46\"/>\r\n       <use x=\"95.410156\" xlink:href=\"#DejaVuSans-48\"/>\r\n       <use x=\"159.033203\" xlink:href=\"#DejaVuSans-48\"/>\r\n       <use x=\"222.65625\" xlink:href=\"#DejaVuSans-55\"/>\r\n       <use x=\"286.279297\" xlink:href=\"#DejaVuSans-48\"/>\r\n      </g>\r\n     </g>\r\n    </g>\r\n    <g id=\"ytick_8\">\r\n     <g id=\"line2d_29\">\r\n      <path clip-path=\"url(#p0b4831b7ad)\" d=\"M 62.86875 156.59298 \r\nL 468.686932 156.59298 \r\n\" style=\"fill:none;stroke:#b0b0b0;stroke-linecap:square;stroke-width:0.8;\"/>\r\n     </g>\r\n     <g id=\"line2d_30\">\r\n      <g>\r\n       <use style=\"stroke:#000000;stroke-width:0.8;\" x=\"62.86875\" xlink:href=\"#m4db409a73f\" y=\"156.59298\"/>\r\n      </g>\r\n     </g>\r\n     <g id=\"text_16\">\r\n      <!-- 0.0075 -->\r\n      <g transform=\"translate(20.878125 160.392199)scale(0.1 -0.1)\">\r\n       <use xlink:href=\"#DejaVuSans-48\"/>\r\n       <use x=\"63.623047\" xlink:href=\"#DejaVuSans-46\"/>\r\n       <use x=\"95.410156\" xlink:href=\"#DejaVuSans-48\"/>\r\n       <use x=\"159.033203\" xlink:href=\"#DejaVuSans-48\"/>\r\n       <use x=\"222.65625\" xlink:href=\"#DejaVuSans-55\"/>\r\n       <use x=\"286.279297\" xlink:href=\"#DejaVuSans-53\"/>\r\n      </g>\r\n     </g>\r\n    </g>\r\n    <g id=\"ytick_9\">\r\n     <g id=\"line2d_31\">\r\n      <path clip-path=\"url(#p0b4831b7ad)\" d=\"M 62.86875 107.533293 \r\nL 468.686932 107.533293 \r\n\" style=\"fill:none;stroke:#b0b0b0;stroke-linecap:square;stroke-width:0.8;\"/>\r\n     </g>\r\n     <g id=\"line2d_32\">\r\n      <g>\r\n       <use style=\"stroke:#000000;stroke-width:0.8;\" x=\"62.86875\" xlink:href=\"#m4db409a73f\" y=\"107.533293\"/>\r\n      </g>\r\n     </g>\r\n     <g id=\"text_17\">\r\n      <!-- 0.0080 -->\r\n      <g transform=\"translate(20.878125 111.332512)scale(0.1 -0.1)\">\r\n       <use xlink:href=\"#DejaVuSans-48\"/>\r\n       <use x=\"63.623047\" xlink:href=\"#DejaVuSans-46\"/>\r\n       <use x=\"95.410156\" xlink:href=\"#DejaVuSans-48\"/>\r\n       <use x=\"159.033203\" xlink:href=\"#DejaVuSans-48\"/>\r\n       <use x=\"222.65625\" xlink:href=\"#DejaVuSans-56\"/>\r\n       <use x=\"286.279297\" xlink:href=\"#DejaVuSans-48\"/>\r\n      </g>\r\n     </g>\r\n    </g>\r\n    <g id=\"text_18\">\r\n     <!-- loss [%] -->\r\n     <g transform=\"translate(14.798438 308.659219)rotate(-90)scale(0.1 -0.1)\">\r\n      <defs>\r\n       <path d=\"M 44.28125 53.078125 \r\nL 44.28125 44.578125 \r\nQ 40.484375 46.53125 36.375 47.5 \r\nQ 32.28125 48.484375 27.875 48.484375 \r\nQ 21.1875 48.484375 17.84375 46.4375 \r\nQ 14.5 44.390625 14.5 40.28125 \r\nQ 14.5 37.15625 16.890625 35.375 \r\nQ 19.28125 33.59375 26.515625 31.984375 \r\nL 29.59375 31.296875 \r\nQ 39.15625 29.25 43.1875 25.515625 \r\nQ 47.21875 21.78125 47.21875 15.09375 \r\nQ 47.21875 7.46875 41.1875 3.015625 \r\nQ 35.15625 -1.421875 24.609375 -1.421875 \r\nQ 20.21875 -1.421875 15.453125 -0.5625 \r\nQ 10.6875 0.296875 5.421875 2 \r\nL 5.421875 11.28125 \r\nQ 10.40625 8.6875 15.234375 7.390625 \r\nQ 20.0625 6.109375 24.8125 6.109375 \r\nQ 31.15625 6.109375 34.5625 8.28125 \r\nQ 37.984375 10.453125 37.984375 14.40625 \r\nQ 37.984375 18.0625 35.515625 20.015625 \r\nQ 33.0625 21.96875 24.703125 23.78125 \r\nL 21.578125 24.515625 \r\nQ 13.234375 26.265625 9.515625 29.90625 \r\nQ 5.8125 33.546875 5.8125 39.890625 \r\nQ 5.8125 47.609375 11.28125 51.796875 \r\nQ 16.75 56 26.8125 56 \r\nQ 31.78125 56 36.171875 55.265625 \r\nQ 40.578125 54.546875 44.28125 53.078125 \r\nz\r\n\" id=\"DejaVuSans-115\"/>\r\n       <path d=\"M 72.703125 32.078125 \r\nQ 68.453125 32.078125 66.03125 28.46875 \r\nQ 63.625 24.859375 63.625 18.40625 \r\nQ 63.625 12.0625 66.03125 8.421875 \r\nQ 68.453125 4.78125 72.703125 4.78125 \r\nQ 76.859375 4.78125 79.265625 8.421875 \r\nQ 81.6875 12.0625 81.6875 18.40625 \r\nQ 81.6875 24.8125 79.265625 28.4375 \r\nQ 76.859375 32.078125 72.703125 32.078125 \r\nz\r\nM 72.703125 38.28125 \r\nQ 80.421875 38.28125 84.953125 32.90625 \r\nQ 89.5 27.546875 89.5 18.40625 \r\nQ 89.5 9.28125 84.9375 3.921875 \r\nQ 80.375 -1.421875 72.703125 -1.421875 \r\nQ 64.890625 -1.421875 60.34375 3.921875 \r\nQ 55.8125 9.28125 55.8125 18.40625 \r\nQ 55.8125 27.59375 60.375 32.9375 \r\nQ 64.9375 38.28125 72.703125 38.28125 \r\nz\r\nM 22.3125 68.015625 \r\nQ 18.109375 68.015625 15.6875 64.375 \r\nQ 13.28125 60.75 13.28125 54.390625 \r\nQ 13.28125 47.953125 15.671875 44.328125 \r\nQ 18.0625 40.71875 22.3125 40.71875 \r\nQ 26.5625 40.71875 28.96875 44.328125 \r\nQ 31.390625 47.953125 31.390625 54.390625 \r\nQ 31.390625 60.6875 28.953125 64.34375 \r\nQ 26.515625 68.015625 22.3125 68.015625 \r\nz\r\nM 66.40625 74.21875 \r\nL 74.21875 74.21875 \r\nL 28.609375 -1.421875 \r\nL 20.796875 -1.421875 \r\nz\r\nM 22.3125 74.21875 \r\nQ 30.03125 74.21875 34.609375 68.875 \r\nQ 39.203125 63.53125 39.203125 54.390625 \r\nQ 39.203125 45.171875 34.640625 39.84375 \r\nQ 30.078125 34.515625 22.3125 34.515625 \r\nQ 14.546875 34.515625 10.03125 39.859375 \r\nQ 5.515625 45.21875 5.515625 54.390625 \r\nQ 5.515625 63.484375 10.046875 68.84375 \r\nQ 14.59375 74.21875 22.3125 74.21875 \r\nz\r\n\" id=\"DejaVuSans-37\"/>\r\n      </defs>\r\n      <use xlink:href=\"#DejaVuSans-108\"/>\r\n      <use x=\"27.783203\" xlink:href=\"#DejaVuSans-111\"/>\r\n      <use x=\"88.964844\" xlink:href=\"#DejaVuSans-115\"/>\r\n      <use x=\"141.064453\" xlink:href=\"#DejaVuSans-115\"/>\r\n      <use x=\"193.164062\" xlink:href=\"#DejaVuSans-32\"/>\r\n      <use x=\"224.951172\" xlink:href=\"#DejaVuSans-91\"/>\r\n      <use x=\"263.964844\" xlink:href=\"#DejaVuSans-37\"/>\r\n      <use x=\"358.984375\" xlink:href=\"#DejaVuSans-93\"/>\r\n     </g>\r\n    </g>\r\n   </g>\r\n   <g id=\"line2d_33\">\r\n    <path clip-path=\"url(#p0b4831b7ad)\" d=\"M 81.315031 91.087273 \r\nL 84.314426 134.907148 \r\nL 87.313822 214.080239 \r\nL 90.313217 234.820068 \r\nL 93.312612 246.14658 \r\nL 96.312007 252.654217 \r\nL 99.311403 259.084226 \r\nL 102.310798 269.552535 \r\nL 105.310193 278.956715 \r\nL 108.309589 288.8199 \r\nL 111.308984 297.984251 \r\nL 114.308379 306.81794 \r\nL 117.307774 313.925721 \r\nL 120.30717 315.8677 \r\nL 123.306565 321.719908 \r\nL 126.30596 326.403996 \r\nL 129.305356 329.421298 \r\nL 132.304751 336.30684 \r\nL 135.304146 345.562252 \r\nL 138.303541 345.994346 \r\nL 141.302937 354.673191 \r\nL 144.302332 363.703943 \r\nL 147.301727 365.111755 \r\nL 150.301123 365.617913 \r\nL 153.300518 376.386774 \r\nL 156.299913 383.808813 \r\nL 159.299308 382.329678 \r\nL 162.298704 385.905042 \r\nL 165.298099 393.78362 \r\nL 168.297494 394.188025 \r\nL 171.296889 390.044866 \r\nL 174.296285 394.586857 \r\nL 177.29568 399.068491 \r\nL 180.295075 405.048815 \r\nL 183.294471 406.447352 \r\nL 186.293866 405.010572 \r\nL 189.293261 400.973734 \r\nL 192.292656 401.604719 \r\nL 195.292052 409.063812 \r\nL 198.291447 411.728476 \r\nL 201.290842 413.818446 \r\nL 204.290238 415.042903 \r\nL 207.289633 416.323285 \r\nL 210.289028 414.927261 \r\nL 213.288423 418.44533 \r\nL 216.287819 417.972023 \r\nL 219.287214 419.450564 \r\nL 222.286609 422.342446 \r\nL 225.286005 424.028285 \r\nL 228.2854 423.94129 \r\nL 231.284795 421.771773 \r\nL 234.28419 425.74172 \r\nL 237.283586 428.276806 \r\nL 240.282981 428.385915 \r\nL 243.282376 414.119363 \r\nL 246.281772 422.183992 \r\nL 249.281167 427.315617 \r\nL 252.280562 427.467446 \r\nL 255.279957 429.298443 \r\nL 258.279353 429.143507 \r\nL 261.278748 429.936692 \r\nL 264.278143 430.796083 \r\nL 267.277539 431.085577 \r\nL 270.276934 430.870284 \r\nL 273.276329 432.580841 \r\nL 276.275724 433.242301 \r\nL 279.27512 432.747611 \r\nL 282.274515 433.453436 \r\nL 285.27391 432.111144 \r\nL 288.273306 429.330792 \r\nL 291.272701 432.783341 \r\nL 294.272096 434.72829 \r\nL 297.271491 434.717507 \r\nL 300.270887 433.318056 \r\nL 303.270282 434.482018 \r\nL 306.269677 435.501417 \r\nL 309.269073 435.538335 \r\nL 312.268468 436.645093 \r\nL 315.267863 426.759885 \r\nL 318.267258 433.971976 \r\nL 321.266654 435.223619 \r\nL 324.266049 437.6363 \r\nL 327.265444 437.225178 \r\nL 330.264839 439.163091 \r\nL 333.264235 440.429126 \r\nL 336.26363 439.168299 \r\nL 339.263025 436.959626 \r\nL 342.262421 437.660425 \r\nL 345.261816 440.111395 \r\nL 348.261211 440.528913 \r\nL 351.260606 440.816443 \r\nL 354.260002 438.254126 \r\nL 357.259397 438.362138 \r\nL 360.258792 439.656273 \r\nL 363.258188 438.011007 \r\nL 366.257583 439.316062 \r\nL 369.256978 441.050332 \r\nL 372.256373 441.22327 \r\nL 375.255769 440.754898 \r\nL 378.255164 438.988005 \r\nL 381.254559 440.262995 \r\nL 384.253955 441.952855 \r\nL 387.25335 442.035234 \r\nL 390.252745 442.742065 \r\nL 393.25214 443.073914 \r\nL 396.251536 443.271114 \r\nL 399.250931 443.250645 \r\nL 402.250326 440.959637 \r\nL 405.249722 443.762103 \r\nL 408.249117 443.599811 \r\nL 411.248512 441.078797 \r\nL 414.247907 442.10345 \r\nL 417.247303 443.329643 \r\nL 420.246698 442.502282 \r\nL 423.246093 442.820607 \r\nL 426.245489 443.056643 \r\nL 429.244884 440.871226 \r\nL 432.244279 442.428126 \r\nL 435.243674 442.714102 \r\nL 438.24307 440.011378 \r\nL 441.242465 444.90057 \r\nL 444.24186 444.418354 \r\nL 447.241256 444.971665 \r\nL 450.240651 445.137795 \r\n\" style=\"fill:none;stroke:#ff0000;stroke-linecap:square;stroke-width:1.5;\"/>\r\n   </g>\r\n   <g id=\"line2d_34\">\r\n    <path clip-path=\"url(#p0b4831b7ad)\" d=\"M 81.315031 133.610957 \r\nL 84.314426 243.716308 \r\nL 87.313822 277.635897 \r\nL 90.313217 294.546688 \r\nL 93.312612 305.594626 \r\nL 96.312007 312.261996 \r\nL 99.311403 322.718197 \r\nL 102.310798 335.628886 \r\nL 105.310193 337.383078 \r\nL 108.309589 349.935554 \r\nL 111.308984 363.010911 \r\nL 114.308379 368.925532 \r\nL 117.307774 376.068038 \r\nL 120.30717 374.845134 \r\nL 123.306565 388.3132 \r\nL 126.30596 389.970162 \r\nL 129.305356 399.89174 \r\nL 132.304751 401.102901 \r\nL 135.304146 402.662954 \r\nL 138.303541 410.014036 \r\nL 141.302937 421.113923 \r\nL 144.302332 418.211212 \r\nL 147.301727 417.314858 \r\nL 150.301123 429.17645 \r\nL 153.300518 436.703851 \r\nL 156.299913 431.197107 \r\nL 159.299308 427.490794 \r\nL 162.298704 443.581946 \r\nL 165.298099 445.141496 \r\nL 168.297494 442.742933 \r\nL 171.296889 438.817306 \r\nL 174.296285 444.290238 \r\nL 177.29568 443.970086 \r\nL 180.295075 447.587531 \r\nL 183.294471 448.048913 \r\nL 186.293866 445.873593 \r\nL 189.293261 444.665402 \r\nL 192.292656 453.973403 \r\nL 195.292052 457.213081 \r\nL 198.291447 460.933421 \r\nL 201.290842 458.623909 \r\nL 204.290238 457.578787 \r\nL 207.289633 458.517404 \r\nL 210.289028 466.491429 \r\nL 213.288423 460.691262 \r\nL 216.287819 458.821565 \r\nL 219.287214 457.911458 \r\nL 222.286609 458.514846 \r\nL 225.286005 467.307414 \r\nL 228.2854 469.666454 \r\nL 231.284795 465.146669 \r\nL 234.28419 466.552197 \r\nL 237.283586 470.818446 \r\nL 240.282981 465.486834 \r\nL 243.282376 471.437962 \r\nL 246.281772 471.641239 \r\nL 249.281167 476.571598 \r\nL 252.280562 462.467019 \r\nL 255.279957 467.802652 \r\nL 258.279353 465.378594 \r\nL 261.278748 475.496138 \r\nL 264.278143 465.634003 \r\nL 267.277539 478.887507 \r\nL 270.276934 478.407392 \r\nL 273.276329 479.73182 \r\nL 276.275724 478.489635 \r\nL 279.27512 481.564507 \r\nL 282.274515 478.732982 \r\nL 285.27391 472.255318 \r\nL 288.273306 465.712591 \r\nL 291.272701 473.344348 \r\nL 294.272096 476.566161 \r\nL 297.271491 474.709029 \r\nL 300.270887 478.289328 \r\nL 303.270282 476.173954 \r\nL 306.269677 476.033319 \r\nL 309.269073 479.863043 \r\nL 312.268468 480.159436 \r\nL 315.267863 477.213137 \r\nL 318.267258 483.329162 \r\nL 321.266654 475.500798 \r\nL 324.266049 478.730469 \r\nL 327.265444 480.626301 \r\nL 330.264839 482.793899 \r\nL 333.264235 482.972594 \r\nL 336.26363 485.229197 \r\nL 339.263025 484.803865 \r\nL 342.262421 484.83795 \r\nL 345.261816 479.27784 \r\nL 348.261211 484.918776 \r\nL 351.260606 483.820105 \r\nL 354.260002 482.952855 \r\nL 357.259397 482.9333 \r\nL 360.258792 480.292761 \r\nL 363.258188 480.738699 \r\nL 366.257583 479.800447 \r\nL 369.256978 479.592418 \r\nL 372.256373 483.117204 \r\nL 375.255769 475.429841 \r\nL 378.255164 481.315677 \r\nL 381.254559 484.187867 \r\nL 384.253955 483.611711 \r\nL 387.25335 480.256939 \r\nL 390.252745 483.437722 \r\nL 393.25214 484.658478 \r\nL 396.251536 483.917243 \r\nL 399.250931 483.734847 \r\nL 402.250326 482.685612 \r\nL 405.249722 485.54446 \r\nL 408.249117 486.432727 \r\nL 411.248512 471.17442 \r\nL 414.247907 477.637281 \r\nL 417.247303 475.710654 \r\nL 420.246698 481.228226 \r\nL 423.246093 481.957536 \r\nL 426.245489 478.736043 \r\nL 429.244884 485.023864 \r\nL 432.244279 482.683968 \r\nL 435.243674 483.978102 \r\nL 438.24307 482.828303 \r\nL 441.242465 485.082713 \r\nL 444.24186 486.331569 \r\nL 447.241256 484.492256 \r\nL 450.240651 484.058015 \r\n\" style=\"fill:none;stroke:#ff8c00;stroke-linecap:square;stroke-width:1.5;\"/>\r\n   </g>\r\n   <g id=\"patch_3\">\r\n    <path d=\"M 62.86875 506.2 \r\nL 62.86875 71.32 \r\n\" style=\"fill:none;stroke:#000000;stroke-linecap:square;stroke-linejoin:miter;stroke-width:0.8;\"/>\r\n   </g>\r\n   <g id=\"patch_4\">\r\n    <path d=\"M 468.686932 506.2 \r\nL 468.686932 71.32 \r\n\" style=\"fill:none;stroke:#000000;stroke-linecap:square;stroke-linejoin:miter;stroke-width:0.8;\"/>\r\n   </g>\r\n   <g id=\"patch_5\">\r\n    <path d=\"M 62.86875 506.2 \r\nL 468.686932 506.2 \r\n\" style=\"fill:none;stroke:#000000;stroke-linecap:square;stroke-linejoin:miter;stroke-width:0.8;\"/>\r\n   </g>\r\n   <g id=\"patch_6\">\r\n    <path d=\"M 62.86875 71.32 \r\nL 468.686932 71.32 \r\n\" style=\"fill:none;stroke:#000000;stroke-linecap:square;stroke-linejoin:miter;stroke-width:0.8;\"/>\r\n   </g>\r\n   <g id=\"text_19\">\r\n    <!-- Loss -->\r\n    <g transform=\"translate(252.617216 65.32)scale(0.12 -0.12)\">\r\n     <defs>\r\n      <path d=\"M 9.8125 72.90625 \r\nL 19.671875 72.90625 \r\nL 19.671875 8.296875 \r\nL 55.171875 8.296875 \r\nL 55.171875 0 \r\nL 9.8125 0 \r\nz\r\n\" id=\"DejaVuSans-76\"/>\r\n     </defs>\r\n     <use xlink:href=\"#DejaVuSans-76\"/>\r\n     <use x=\"53.962891\" xlink:href=\"#DejaVuSans-111\"/>\r\n     <use x=\"115.144531\" xlink:href=\"#DejaVuSans-115\"/>\r\n     <use x=\"167.244141\" xlink:href=\"#DejaVuSans-115\"/>\r\n    </g>\r\n   </g>\r\n  </g>\r\n  <g id=\"axes_2\">\r\n   <g id=\"patch_7\">\r\n    <path d=\"M 549.850568 506.2 \r\nL 955.66875 506.2 \r\nL 955.66875 71.32 \r\nL 549.850568 71.32 \r\nz\r\n\" style=\"fill:#ffffff;\"/>\r\n   </g>\r\n   <g id=\"matplotlib.axis_3\">\r\n    <g id=\"xtick_8\">\r\n     <g id=\"line2d_35\">\r\n      <path clip-path=\"url(#pd10ae5a320)\" d=\"M 568.296849 506.2 \r\nL 568.296849 71.32 \r\n\" style=\"fill:none;stroke:#b0b0b0;stroke-linecap:square;stroke-width:0.8;\"/>\r\n     </g>\r\n     <g id=\"line2d_36\">\r\n      <g>\r\n       <use style=\"stroke:#000000;stroke-width:0.8;\" x=\"568.296849\" xlink:href=\"#ma5871820a2\" y=\"506.2\"/>\r\n      </g>\r\n     </g>\r\n     <g id=\"text_20\">\r\n      <!-- 0 -->\r\n      <g transform=\"translate(565.115599 520.798438)scale(0.1 -0.1)\">\r\n       <use xlink:href=\"#DejaVuSans-48\"/>\r\n      </g>\r\n     </g>\r\n    </g>\r\n    <g id=\"xtick_9\">\r\n     <g id=\"line2d_37\">\r\n      <path clip-path=\"url(#pd10ae5a320)\" d=\"M 628.284755 506.2 \r\nL 628.284755 71.32 \r\n\" style=\"fill:none;stroke:#b0b0b0;stroke-linecap:square;stroke-width:0.8;\"/>\r\n     </g>\r\n     <g id=\"line2d_38\">\r\n      <g>\r\n       <use style=\"stroke:#000000;stroke-width:0.8;\" x=\"628.284755\" xlink:href=\"#ma5871820a2\" y=\"506.2\"/>\r\n      </g>\r\n     </g>\r\n     <g id=\"text_21\">\r\n      <!-- 20 -->\r\n      <g transform=\"translate(621.922255 520.798438)scale(0.1 -0.1)\">\r\n       <use xlink:href=\"#DejaVuSans-50\"/>\r\n       <use x=\"63.623047\" xlink:href=\"#DejaVuSans-48\"/>\r\n      </g>\r\n     </g>\r\n    </g>\r\n    <g id=\"xtick_10\">\r\n     <g id=\"line2d_39\">\r\n      <path clip-path=\"url(#pd10ae5a320)\" d=\"M 688.272661 506.2 \r\nL 688.272661 71.32 \r\n\" style=\"fill:none;stroke:#b0b0b0;stroke-linecap:square;stroke-width:0.8;\"/>\r\n     </g>\r\n     <g id=\"line2d_40\">\r\n      <g>\r\n       <use style=\"stroke:#000000;stroke-width:0.8;\" x=\"688.272661\" xlink:href=\"#ma5871820a2\" y=\"506.2\"/>\r\n      </g>\r\n     </g>\r\n     <g id=\"text_22\">\r\n      <!-- 40 -->\r\n      <g transform=\"translate(681.910161 520.798438)scale(0.1 -0.1)\">\r\n       <use xlink:href=\"#DejaVuSans-52\"/>\r\n       <use x=\"63.623047\" xlink:href=\"#DejaVuSans-48\"/>\r\n      </g>\r\n     </g>\r\n    </g>\r\n    <g id=\"xtick_11\">\r\n     <g id=\"line2d_41\">\r\n      <path clip-path=\"url(#pd10ae5a320)\" d=\"M 748.260566 506.2 \r\nL 748.260566 71.32 \r\n\" style=\"fill:none;stroke:#b0b0b0;stroke-linecap:square;stroke-width:0.8;\"/>\r\n     </g>\r\n     <g id=\"line2d_42\">\r\n      <g>\r\n       <use style=\"stroke:#000000;stroke-width:0.8;\" x=\"748.260566\" xlink:href=\"#ma5871820a2\" y=\"506.2\"/>\r\n      </g>\r\n     </g>\r\n     <g id=\"text_23\">\r\n      <!-- 60 -->\r\n      <g transform=\"translate(741.898066 520.798438)scale(0.1 -0.1)\">\r\n       <use xlink:href=\"#DejaVuSans-54\"/>\r\n       <use x=\"63.623047\" xlink:href=\"#DejaVuSans-48\"/>\r\n      </g>\r\n     </g>\r\n    </g>\r\n    <g id=\"xtick_12\">\r\n     <g id=\"line2d_43\">\r\n      <path clip-path=\"url(#pd10ae5a320)\" d=\"M 808.248472 506.2 \r\nL 808.248472 71.32 \r\n\" style=\"fill:none;stroke:#b0b0b0;stroke-linecap:square;stroke-width:0.8;\"/>\r\n     </g>\r\n     <g id=\"line2d_44\">\r\n      <g>\r\n       <use style=\"stroke:#000000;stroke-width:0.8;\" x=\"808.248472\" xlink:href=\"#ma5871820a2\" y=\"506.2\"/>\r\n      </g>\r\n     </g>\r\n     <g id=\"text_24\">\r\n      <!-- 80 -->\r\n      <g transform=\"translate(801.885972 520.798438)scale(0.1 -0.1)\">\r\n       <use xlink:href=\"#DejaVuSans-56\"/>\r\n       <use x=\"63.623047\" xlink:href=\"#DejaVuSans-48\"/>\r\n      </g>\r\n     </g>\r\n    </g>\r\n    <g id=\"xtick_13\">\r\n     <g id=\"line2d_45\">\r\n      <path clip-path=\"url(#pd10ae5a320)\" d=\"M 868.236377 506.2 \r\nL 868.236377 71.32 \r\n\" style=\"fill:none;stroke:#b0b0b0;stroke-linecap:square;stroke-width:0.8;\"/>\r\n     </g>\r\n     <g id=\"line2d_46\">\r\n      <g>\r\n       <use style=\"stroke:#000000;stroke-width:0.8;\" x=\"868.236377\" xlink:href=\"#ma5871820a2\" y=\"506.2\"/>\r\n      </g>\r\n     </g>\r\n     <g id=\"text_25\">\r\n      <!-- 100 -->\r\n      <g transform=\"translate(858.692627 520.798438)scale(0.1 -0.1)\">\r\n       <use xlink:href=\"#DejaVuSans-49\"/>\r\n       <use x=\"63.623047\" xlink:href=\"#DejaVuSans-48\"/>\r\n       <use x=\"127.246094\" xlink:href=\"#DejaVuSans-48\"/>\r\n      </g>\r\n     </g>\r\n    </g>\r\n    <g id=\"xtick_14\">\r\n     <g id=\"line2d_47\">\r\n      <path clip-path=\"url(#pd10ae5a320)\" d=\"M 928.224283 506.2 \r\nL 928.224283 71.32 \r\n\" style=\"fill:none;stroke:#b0b0b0;stroke-linecap:square;stroke-width:0.8;\"/>\r\n     </g>\r\n     <g id=\"line2d_48\">\r\n      <g>\r\n       <use style=\"stroke:#000000;stroke-width:0.8;\" x=\"928.224283\" xlink:href=\"#ma5871820a2\" y=\"506.2\"/>\r\n      </g>\r\n     </g>\r\n     <g id=\"text_26\">\r\n      <!-- 120 -->\r\n      <g transform=\"translate(918.680533 520.798438)scale(0.1 -0.1)\">\r\n       <use xlink:href=\"#DejaVuSans-49\"/>\r\n       <use x=\"63.623047\" xlink:href=\"#DejaVuSans-50\"/>\r\n       <use x=\"127.246094\" xlink:href=\"#DejaVuSans-48\"/>\r\n      </g>\r\n     </g>\r\n    </g>\r\n    <g id=\"text_27\">\r\n     <!-- Epoch [cycle] -->\r\n     <g transform=\"translate(719.034659 534.476563)scale(0.1 -0.1)\">\r\n      <use xlink:href=\"#DejaVuSans-69\"/>\r\n      <use x=\"63.183594\" xlink:href=\"#DejaVuSans-112\"/>\r\n      <use x=\"126.660156\" xlink:href=\"#DejaVuSans-111\"/>\r\n      <use x=\"187.841797\" xlink:href=\"#DejaVuSans-99\"/>\r\n      <use x=\"242.822266\" xlink:href=\"#DejaVuSans-104\"/>\r\n      <use x=\"306.201172\" xlink:href=\"#DejaVuSans-32\"/>\r\n      <use x=\"337.988281\" xlink:href=\"#DejaVuSans-91\"/>\r\n      <use x=\"377.001953\" xlink:href=\"#DejaVuSans-99\"/>\r\n      <use x=\"431.982422\" xlink:href=\"#DejaVuSans-121\"/>\r\n      <use x=\"491.162109\" xlink:href=\"#DejaVuSans-99\"/>\r\n      <use x=\"546.142578\" xlink:href=\"#DejaVuSans-108\"/>\r\n      <use x=\"573.925781\" xlink:href=\"#DejaVuSans-101\"/>\r\n      <use x=\"635.449219\" xlink:href=\"#DejaVuSans-93\"/>\r\n     </g>\r\n    </g>\r\n   </g>\r\n   <g id=\"matplotlib.axis_4\">\r\n    <g id=\"ytick_10\">\r\n     <g id=\"line2d_49\">\r\n      <path clip-path=\"url(#pd10ae5a320)\" d=\"M 549.850568 478.08036 \r\nL 955.66875 478.08036 \r\n\" style=\"fill:none;stroke:#b0b0b0;stroke-linecap:square;stroke-width:0.8;\"/>\r\n     </g>\r\n     <g id=\"line2d_50\">\r\n      <g>\r\n       <use style=\"stroke:#000000;stroke-width:0.8;\" x=\"549.850568\" xlink:href=\"#m4db409a73f\" y=\"478.08036\"/>\r\n      </g>\r\n     </g>\r\n     <g id=\"text_28\">\r\n      <!-- 0.1 -->\r\n      <g transform=\"translate(526.947443 481.879579)scale(0.1 -0.1)\">\r\n       <use xlink:href=\"#DejaVuSans-48\"/>\r\n       <use x=\"63.623047\" xlink:href=\"#DejaVuSans-46\"/>\r\n       <use x=\"95.410156\" xlink:href=\"#DejaVuSans-49\"/>\r\n      </g>\r\n     </g>\r\n    </g>\r\n    <g id=\"ytick_11\">\r\n     <g id=\"line2d_51\">\r\n      <path clip-path=\"url(#pd10ae5a320)\" d=\"M 549.850568 402.909041 \r\nL 955.66875 402.909041 \r\n\" style=\"fill:none;stroke:#b0b0b0;stroke-linecap:square;stroke-width:0.8;\"/>\r\n     </g>\r\n     <g id=\"line2d_52\">\r\n      <g>\r\n       <use style=\"stroke:#000000;stroke-width:0.8;\" x=\"549.850568\" xlink:href=\"#m4db409a73f\" y=\"402.909041\"/>\r\n      </g>\r\n     </g>\r\n     <g id=\"text_29\">\r\n      <!-- 0.2 -->\r\n      <g transform=\"translate(526.947443 406.70826)scale(0.1 -0.1)\">\r\n       <use xlink:href=\"#DejaVuSans-48\"/>\r\n       <use x=\"63.623047\" xlink:href=\"#DejaVuSans-46\"/>\r\n       <use x=\"95.410156\" xlink:href=\"#DejaVuSans-50\"/>\r\n      </g>\r\n     </g>\r\n    </g>\r\n    <g id=\"ytick_12\">\r\n     <g id=\"line2d_53\">\r\n      <path clip-path=\"url(#pd10ae5a320)\" d=\"M 549.850568 327.737723 \r\nL 955.66875 327.737723 \r\n\" style=\"fill:none;stroke:#b0b0b0;stroke-linecap:square;stroke-width:0.8;\"/>\r\n     </g>\r\n     <g id=\"line2d_54\">\r\n      <g>\r\n       <use style=\"stroke:#000000;stroke-width:0.8;\" x=\"549.850568\" xlink:href=\"#m4db409a73f\" y=\"327.737723\"/>\r\n      </g>\r\n     </g>\r\n     <g id=\"text_30\">\r\n      <!-- 0.3 -->\r\n      <g transform=\"translate(526.947443 331.536942)scale(0.1 -0.1)\">\r\n       <defs>\r\n        <path d=\"M 40.578125 39.3125 \r\nQ 47.65625 37.796875 51.625 33 \r\nQ 55.609375 28.21875 55.609375 21.1875 \r\nQ 55.609375 10.40625 48.1875 4.484375 \r\nQ 40.765625 -1.421875 27.09375 -1.421875 \r\nQ 22.515625 -1.421875 17.65625 -0.515625 \r\nQ 12.796875 0.390625 7.625 2.203125 \r\nL 7.625 11.71875 \r\nQ 11.71875 9.328125 16.59375 8.109375 \r\nQ 21.484375 6.890625 26.8125 6.890625 \r\nQ 36.078125 6.890625 40.9375 10.546875 \r\nQ 45.796875 14.203125 45.796875 21.1875 \r\nQ 45.796875 27.640625 41.28125 31.265625 \r\nQ 36.765625 34.90625 28.71875 34.90625 \r\nL 20.21875 34.90625 \r\nL 20.21875 43.015625 \r\nL 29.109375 43.015625 \r\nQ 36.375 43.015625 40.234375 45.921875 \r\nQ 44.09375 48.828125 44.09375 54.296875 \r\nQ 44.09375 59.90625 40.109375 62.90625 \r\nQ 36.140625 65.921875 28.71875 65.921875 \r\nQ 24.65625 65.921875 20.015625 65.03125 \r\nQ 15.375 64.15625 9.8125 62.3125 \r\nL 9.8125 71.09375 \r\nQ 15.4375 72.65625 20.34375 73.4375 \r\nQ 25.25 74.21875 29.59375 74.21875 \r\nQ 40.828125 74.21875 47.359375 69.109375 \r\nQ 53.90625 64.015625 53.90625 55.328125 \r\nQ 53.90625 49.265625 50.4375 45.09375 \r\nQ 46.96875 40.921875 40.578125 39.3125 \r\nz\r\n\" id=\"DejaVuSans-51\"/>\r\n       </defs>\r\n       <use xlink:href=\"#DejaVuSans-48\"/>\r\n       <use x=\"63.623047\" xlink:href=\"#DejaVuSans-46\"/>\r\n       <use x=\"95.410156\" xlink:href=\"#DejaVuSans-51\"/>\r\n      </g>\r\n     </g>\r\n    </g>\r\n    <g id=\"ytick_13\">\r\n     <g id=\"line2d_55\">\r\n      <path clip-path=\"url(#pd10ae5a320)\" d=\"M 549.850568 252.566404 \r\nL 955.66875 252.566404 \r\n\" style=\"fill:none;stroke:#b0b0b0;stroke-linecap:square;stroke-width:0.8;\"/>\r\n     </g>\r\n     <g id=\"line2d_56\">\r\n      <g>\r\n       <use style=\"stroke:#000000;stroke-width:0.8;\" x=\"549.850568\" xlink:href=\"#m4db409a73f\" y=\"252.566404\"/>\r\n      </g>\r\n     </g>\r\n     <g id=\"text_31\">\r\n      <!-- 0.4 -->\r\n      <g transform=\"translate(526.947443 256.365623)scale(0.1 -0.1)\">\r\n       <use xlink:href=\"#DejaVuSans-48\"/>\r\n       <use x=\"63.623047\" xlink:href=\"#DejaVuSans-46\"/>\r\n       <use x=\"95.410156\" xlink:href=\"#DejaVuSans-52\"/>\r\n      </g>\r\n     </g>\r\n    </g>\r\n    <g id=\"ytick_14\">\r\n     <g id=\"line2d_57\">\r\n      <path clip-path=\"url(#pd10ae5a320)\" d=\"M 549.850568 177.395085 \r\nL 955.66875 177.395085 \r\n\" style=\"fill:none;stroke:#b0b0b0;stroke-linecap:square;stroke-width:0.8;\"/>\r\n     </g>\r\n     <g id=\"line2d_58\">\r\n      <g>\r\n       <use style=\"stroke:#000000;stroke-width:0.8;\" x=\"549.850568\" xlink:href=\"#m4db409a73f\" y=\"177.395085\"/>\r\n      </g>\r\n     </g>\r\n     <g id=\"text_32\">\r\n      <!-- 0.5 -->\r\n      <g transform=\"translate(526.947443 181.194304)scale(0.1 -0.1)\">\r\n       <use xlink:href=\"#DejaVuSans-48\"/>\r\n       <use x=\"63.623047\" xlink:href=\"#DejaVuSans-46\"/>\r\n       <use x=\"95.410156\" xlink:href=\"#DejaVuSans-53\"/>\r\n      </g>\r\n     </g>\r\n    </g>\r\n    <g id=\"ytick_15\">\r\n     <g id=\"line2d_59\">\r\n      <path clip-path=\"url(#pd10ae5a320)\" d=\"M 549.850568 102.223767 \r\nL 955.66875 102.223767 \r\n\" style=\"fill:none;stroke:#b0b0b0;stroke-linecap:square;stroke-width:0.8;\"/>\r\n     </g>\r\n     <g id=\"line2d_60\">\r\n      <g>\r\n       <use style=\"stroke:#000000;stroke-width:0.8;\" x=\"549.850568\" xlink:href=\"#m4db409a73f\" y=\"102.223767\"/>\r\n      </g>\r\n     </g>\r\n     <g id=\"text_33\">\r\n      <!-- 0.6 -->\r\n      <g transform=\"translate(526.947443 106.022985)scale(0.1 -0.1)\">\r\n       <use xlink:href=\"#DejaVuSans-48\"/>\r\n       <use x=\"63.623047\" xlink:href=\"#DejaVuSans-46\"/>\r\n       <use x=\"95.410156\" xlink:href=\"#DejaVuSans-54\"/>\r\n      </g>\r\n     </g>\r\n    </g>\r\n    <g id=\"text_34\">\r\n     <!-- Acc [%] -->\r\n     <g transform=\"translate(520.867756 307.832656)rotate(-90)scale(0.1 -0.1)\">\r\n      <defs>\r\n       <path d=\"M 34.1875 63.1875 \r\nL 20.796875 26.90625 \r\nL 47.609375 26.90625 \r\nz\r\nM 28.609375 72.90625 \r\nL 39.796875 72.90625 \r\nL 67.578125 0 \r\nL 57.328125 0 \r\nL 50.6875 18.703125 \r\nL 17.828125 18.703125 \r\nL 11.1875 0 \r\nL 0.78125 0 \r\nz\r\n\" id=\"DejaVuSans-65\"/>\r\n      </defs>\r\n      <use xlink:href=\"#DejaVuSans-65\"/>\r\n      <use x=\"66.658203\" xlink:href=\"#DejaVuSans-99\"/>\r\n      <use x=\"121.638672\" xlink:href=\"#DejaVuSans-99\"/>\r\n      <use x=\"176.619141\" xlink:href=\"#DejaVuSans-32\"/>\r\n      <use x=\"208.40625\" xlink:href=\"#DejaVuSans-91\"/>\r\n      <use x=\"247.419922\" xlink:href=\"#DejaVuSans-37\"/>\r\n      <use x=\"342.439453\" xlink:href=\"#DejaVuSans-93\"/>\r\n     </g>\r\n    </g>\r\n   </g>\r\n   <g id=\"line2d_61\">\r\n    <path clip-path=\"url(#pd10ae5a320)\" d=\"M 568.296849 472.18457 \r\nL 571.296244 457.445091 \r\nL 574.29564 472.18457 \r\nL 577.295035 460.392991 \r\nL 580.29443 469.236675 \r\nL 583.293826 460.392991 \r\nL 586.293221 454.497196 \r\nL 589.292616 448.601407 \r\nL 592.292011 427.966144 \r\nL 595.291407 411.752723 \r\nL 598.290802 395.539303 \r\nL 601.290197 385.221671 \r\nL 604.289593 349.846924 \r\nL 607.288988 349.846924 \r\nL 610.288383 315.946135 \r\nL 613.287778 336.581398 \r\nL 616.287174 301.206662 \r\nL 619.286569 332.159556 \r\nL 622.285964 284.993241 \r\nL 625.28536 304.154556 \r\nL 628.284755 296.78482 \r\nL 631.28415 296.78482 \r\nL 634.283545 287.941136 \r\nL 637.282941 317.420082 \r\nL 640.282336 299.732714 \r\nL 643.281731 254.040347 \r\nL 646.281127 274.67561 \r\nL 649.280522 228.983242 \r\nL 652.279917 245.196663 \r\nL 655.279312 242.248768 \r\nL 658.278708 230.45719 \r\nL 661.278103 227.509295 \r\nL 664.277498 221.613506 \r\nL 667.276894 215.717716 \r\nL 670.276289 215.717716 \r\nL 673.275684 202.45219 \r\nL 676.275079 234.879032 \r\nL 679.274475 249.618505 \r\nL 682.27387 193.608506 \r\nL 685.273265 184.764822 \r\nL 688.272661 159.707717 \r\nL 691.272056 196.556401 \r\nL 694.271451 195.082453 \r\nL 697.270846 186.238769 \r\nL 700.270242 190.660611 \r\nL 703.269637 150.864033 \r\nL 706.269032 193.608506 \r\nL 709.268427 153.811928 \r\nL 712.267823 171.499296 \r\nL 715.267218 168.551401 \r\nL 718.266613 203.926137 \r\nL 721.266009 147.916139 \r\nL 724.265404 139.072455 \r\nL 727.264799 146.442169 \r\nL 730.264194 199.504295 \r\nL 733.26359 203.926137 \r\nL 736.262985 155.285853 \r\nL 739.26238 149.390064 \r\nL 742.261776 161.181642 \r\nL 745.261171 153.811928 \r\nL 748.260566 150.864033 \r\nL 751.259961 150.864033 \r\nL 754.259357 175.921116 \r\nL 757.258752 153.811928 \r\nL 760.258147 172.973221 \r\nL 763.257543 152.337958 \r\nL 766.256938 136.12456 \r\nL 769.256333 136.12456 \r\nL 772.255728 162.655612 \r\nL 775.255124 172.973221 \r\nL 778.254519 144.968244 \r\nL 781.253914 162.655612 \r\nL 784.25331 147.916139 \r\nL 787.252705 168.551401 \r\nL 790.2521 136.12456 \r\nL 793.251495 133.176665 \r\nL 796.250891 146.442169 \r\nL 799.250286 140.54638 \r\nL 802.249681 189.186664 \r\nL 805.249077 142.020349 \r\nL 808.248472 161.181642 \r\nL 811.247867 137.598485 \r\nL 814.247262 130.228771 \r\nL 817.246658 128.754801 \r\nL 820.246053 137.598485 \r\nL 823.245448 139.072455 \r\nL 826.244844 153.811928 \r\nL 829.244239 102.223749 \r\nL 832.243634 149.390064 \r\nL 835.243029 134.65059 \r\nL 838.242425 114.015327 \r\nL 841.24182 128.754801 \r\nL 844.241215 125.806906 \r\nL 847.240611 158.233748 \r\nL 850.240006 125.806906 \r\nL 853.239401 146.442169 \r\nL 856.238796 131.702696 \r\nL 859.238192 119.911117 \r\nL 862.237587 143.494274 \r\nL 865.236982 111.067433 \r\nL 868.236377 164.129537 \r\nL 871.235773 147.916139 \r\nL 874.235168 133.176665 \r\nL 877.234563 133.176665 \r\nL 880.233959 133.176665 \r\nL 883.233354 131.702696 \r\nL 886.232749 105.171643 \r\nL 889.232144 134.65059 \r\nL 892.23154 116.963222 \r\nL 895.230935 115.489297 \r\nL 898.23033 130.228771 \r\nL 901.229726 139.072455 \r\nL 904.229121 124.332981 \r\nL 907.228516 119.911117 \r\nL 910.227911 136.12456 \r\nL 913.227307 114.015327 \r\nL 916.226702 116.963222 \r\nL 919.226097 119.911117 \r\nL 922.225493 119.911117 \r\nL 925.224888 119.911117 \r\nL 928.224283 119.911117 \r\nL 931.223678 106.645613 \r\nL 934.223074 116.963222 \r\nL 937.222469 108.119538 \r\n\" style=\"fill:none;stroke:#ff0000;stroke-linecap:square;stroke-width:1.5;\"/>\r\n   </g>\r\n   <g id=\"line2d_62\">\r\n    <path clip-path=\"url(#pd10ae5a320)\" d=\"M 568.296849 430.750274 \r\nL 571.296244 430.750274 \r\nL 574.29564 430.750274 \r\nL 577.295035 475.29624 \r\nL 580.29443 486.432727 \r\nL 583.293826 480.864484 \r\nL 586.293221 453.023249 \r\nL 589.292616 458.591498 \r\nL 592.292011 453.023249 \r\nL 595.291407 436.318512 \r\nL 598.290802 386.204303 \r\nL 601.290197 386.204303 \r\nL 604.289593 380.636053 \r\nL 607.288988 352.794819 \r\nL 610.288383 263.702898 \r\nL 613.287778 313.817108 \r\nL 616.287174 324.953606 \r\nL 619.286569 319.385346 \r\nL 622.285964 274.839397 \r\nL 625.28536 252.5664 \r\nL 628.284755 263.702898 \r\nL 631.28415 269.271136 \r\nL 634.283545 302.680609 \r\nL 637.282941 302.680609 \r\nL 640.282336 219.156927 \r\nL 643.281731 252.5664 \r\nL 646.281127 263.702898 \r\nL 649.280522 157.906219 \r\nL 652.279917 208.020428 \r\nL 655.279312 152.337958 \r\nL 658.278708 185.747454 \r\nL 661.278103 224.725165 \r\nL 664.277498 174.610955 \r\nL 667.276894 146.769743 \r\nL 670.276289 141.201482 \r\nL 673.275684 241.429924 \r\nL 676.275079 230.293425 \r\nL 679.274475 174.610955 \r\nL 682.27387 180.179216 \r\nL 685.273265 191.315692 \r\nL 688.272661 141.201482 \r\nL 691.272056 180.179216 \r\nL 694.271451 146.769743 \r\nL 697.270846 152.337958 \r\nL 700.270242 146.769743 \r\nL 703.269637 191.315692 \r\nL 706.269032 185.747454 \r\nL 709.268427 163.474479 \r\nL 712.267823 157.906219 \r\nL 715.267218 185.747454 \r\nL 718.266613 174.610955 \r\nL 721.266009 163.474479 \r\nL 724.265404 141.201482 \r\nL 727.264799 130.065006 \r\nL 730.264194 308.24887 \r\nL 733.26359 146.769743 \r\nL 736.262985 152.337958 \r\nL 739.26238 185.747454 \r\nL 742.261776 135.633222 \r\nL 745.261171 185.747454 \r\nL 748.260566 118.928485 \r\nL 751.259961 252.5664 \r\nL 754.259357 157.906219 \r\nL 757.258752 219.156927 \r\nL 760.258147 185.747454 \r\nL 763.257543 185.747454 \r\nL 766.256938 113.36027 \r\nL 769.256333 124.496746 \r\nL 772.255728 152.337958 \r\nL 775.255124 185.747454 \r\nL 778.254519 208.020428 \r\nL 781.253914 118.928485 \r\nL 784.25331 163.474479 \r\nL 787.252705 180.179216 \r\nL 790.2521 152.337958 \r\nL 793.251495 157.906219 \r\nL 796.250891 169.042695 \r\nL 799.250286 202.45219 \r\nL 802.249681 152.337958 \r\nL 805.249077 130.065006 \r\nL 808.248472 196.883952 \r\nL 811.247867 180.179216 \r\nL 814.247262 157.906219 \r\nL 817.246658 157.906219 \r\nL 820.246053 124.496746 \r\nL 823.245448 174.610955 \r\nL 826.244844 202.45219 \r\nL 829.244239 124.496746 \r\nL 832.243634 130.065006 \r\nL 835.243029 135.633222 \r\nL 838.242425 96.655533 \r\nL 841.24182 152.337958 \r\nL 844.241215 146.769743 \r\nL 847.240611 91.087273 \r\nL 850.240006 213.588689 \r\nL 853.239401 118.928485 \r\nL 856.238796 152.337958 \r\nL 859.238192 174.610955 \r\nL 862.237587 141.201482 \r\nL 865.236982 135.633222 \r\nL 868.236377 152.337958 \r\nL 871.235773 118.928485 \r\nL 874.235168 169.042695 \r\nL 877.234563 135.633222 \r\nL 880.233959 180.179216 \r\nL 883.233354 163.474479 \r\nL 886.232749 157.906219 \r\nL 889.232144 113.36027 \r\nL 892.23154 135.633222 \r\nL 895.230935 146.769743 \r\nL 898.23033 191.315692 \r\nL 901.229726 107.792009 \r\nL 904.229121 180.179216 \r\nL 907.228516 135.633222 \r\nL 910.227911 135.633222 \r\nL 913.227307 202.45219 \r\nL 916.226702 113.36027 \r\nL 919.226097 113.36027 \r\nL 922.225493 141.201482 \r\nL 925.224888 146.769743 \r\nL 928.224283 157.906219 \r\nL 931.223678 96.655533 \r\nL 934.223074 180.179216 \r\nL 937.222469 146.769743 \r\n\" style=\"fill:none;stroke:#4169e1;stroke-linecap:square;stroke-width:1.5;\"/>\r\n   </g>\r\n   <g id=\"patch_8\">\r\n    <path d=\"M 549.850568 506.2 \r\nL 549.850568 71.32 \r\n\" style=\"fill:none;stroke:#000000;stroke-linecap:square;stroke-linejoin:miter;stroke-width:0.8;\"/>\r\n   </g>\r\n   <g id=\"patch_9\">\r\n    <path d=\"M 955.66875 506.2 \r\nL 955.66875 71.32 \r\n\" style=\"fill:none;stroke:#000000;stroke-linecap:square;stroke-linejoin:miter;stroke-width:0.8;\"/>\r\n   </g>\r\n   <g id=\"patch_10\">\r\n    <path d=\"M 549.850568 506.2 \r\nL 955.66875 506.2 \r\n\" style=\"fill:none;stroke:#000000;stroke-linecap:square;stroke-linejoin:miter;stroke-width:0.8;\"/>\r\n   </g>\r\n   <g id=\"patch_11\">\r\n    <path d=\"M 549.850568 71.32 \r\nL 955.66875 71.32 \r\n\" style=\"fill:none;stroke:#000000;stroke-linecap:square;stroke-linejoin:miter;stroke-width:0.8;\"/>\r\n   </g>\r\n   <g id=\"text_35\">\r\n    <!-- Accuracy -->\r\n    <g transform=\"translate(725.365909 65.32)scale(0.12 -0.12)\">\r\n     <defs>\r\n      <path d=\"M 8.5 21.578125 \r\nL 8.5 54.6875 \r\nL 17.484375 54.6875 \r\nL 17.484375 21.921875 \r\nQ 17.484375 14.15625 20.5 10.265625 \r\nQ 23.53125 6.390625 29.59375 6.390625 \r\nQ 36.859375 6.390625 41.078125 11.03125 \r\nQ 45.3125 15.671875 45.3125 23.6875 \r\nL 45.3125 54.6875 \r\nL 54.296875 54.6875 \r\nL 54.296875 0 \r\nL 45.3125 0 \r\nL 45.3125 8.40625 \r\nQ 42.046875 3.421875 37.71875 1 \r\nQ 33.40625 -1.421875 27.6875 -1.421875 \r\nQ 18.265625 -1.421875 13.375 4.4375 \r\nQ 8.5 10.296875 8.5 21.578125 \r\nz\r\nM 31.109375 56 \r\nz\r\n\" id=\"DejaVuSans-117\"/>\r\n      <path d=\"M 41.109375 46.296875 \r\nQ 39.59375 47.171875 37.8125 47.578125 \r\nQ 36.03125 48 33.890625 48 \r\nQ 26.265625 48 22.1875 43.046875 \r\nQ 18.109375 38.09375 18.109375 28.8125 \r\nL 18.109375 0 \r\nL 9.078125 0 \r\nL 9.078125 54.6875 \r\nL 18.109375 54.6875 \r\nL 18.109375 46.1875 \r\nQ 20.953125 51.171875 25.484375 53.578125 \r\nQ 30.03125 56 36.53125 56 \r\nQ 37.453125 56 38.578125 55.875 \r\nQ 39.703125 55.765625 41.0625 55.515625 \r\nz\r\n\" id=\"DejaVuSans-114\"/>\r\n      <path d=\"M 34.28125 27.484375 \r\nQ 23.390625 27.484375 19.1875 25 \r\nQ 14.984375 22.515625 14.984375 16.5 \r\nQ 14.984375 11.71875 18.140625 8.90625 \r\nQ 21.296875 6.109375 26.703125 6.109375 \r\nQ 34.1875 6.109375 38.703125 11.40625 \r\nQ 43.21875 16.703125 43.21875 25.484375 \r\nL 43.21875 27.484375 \r\nz\r\nM 52.203125 31.203125 \r\nL 52.203125 0 \r\nL 43.21875 0 \r\nL 43.21875 8.296875 \r\nQ 40.140625 3.328125 35.546875 0.953125 \r\nQ 30.953125 -1.421875 24.3125 -1.421875 \r\nQ 15.921875 -1.421875 10.953125 3.296875 \r\nQ 6 8.015625 6 15.921875 \r\nQ 6 25.140625 12.171875 29.828125 \r\nQ 18.359375 34.515625 30.609375 34.515625 \r\nL 43.21875 34.515625 \r\nL 43.21875 35.40625 \r\nQ 43.21875 41.609375 39.140625 45 \r\nQ 35.0625 48.390625 27.6875 48.390625 \r\nQ 23 48.390625 18.546875 47.265625 \r\nQ 14.109375 46.140625 10.015625 43.890625 \r\nL 10.015625 52.203125 \r\nQ 14.9375 54.109375 19.578125 55.046875 \r\nQ 24.21875 56 28.609375 56 \r\nQ 40.484375 56 46.34375 49.84375 \r\nQ 52.203125 43.703125 52.203125 31.203125 \r\nz\r\n\" id=\"DejaVuSans-97\"/>\r\n     </defs>\r\n     <use xlink:href=\"#DejaVuSans-65\"/>\r\n     <use x=\"66.658203\" xlink:href=\"#DejaVuSans-99\"/>\r\n     <use x=\"121.638672\" xlink:href=\"#DejaVuSans-99\"/>\r\n     <use x=\"176.619141\" xlink:href=\"#DejaVuSans-117\"/>\r\n     <use x=\"239.998047\" xlink:href=\"#DejaVuSans-114\"/>\r\n     <use x=\"281.111328\" xlink:href=\"#DejaVuSans-97\"/>\r\n     <use x=\"342.390625\" xlink:href=\"#DejaVuSans-99\"/>\r\n     <use x=\"397.371094\" xlink:href=\"#DejaVuSans-121\"/>\r\n    </g>\r\n   </g>\r\n  </g>\r\n  <g id=\"text_36\">\r\n   <!-- LEARNING BEHAVIOR -->\r\n   <g transform=\"translate(431.249062 22.838125)scale(0.12 -0.12)\">\r\n    <defs>\r\n     <path d=\"M 44.390625 34.1875 \r\nQ 47.5625 33.109375 50.5625 29.59375 \r\nQ 53.5625 26.078125 56.59375 19.921875 \r\nL 66.609375 0 \r\nL 56 0 \r\nL 46.6875 18.703125 \r\nQ 43.0625 26.03125 39.671875 28.421875 \r\nQ 36.28125 30.8125 30.421875 30.8125 \r\nL 19.671875 30.8125 \r\nL 19.671875 0 \r\nL 9.8125 0 \r\nL 9.8125 72.90625 \r\nL 32.078125 72.90625 \r\nQ 44.578125 72.90625 50.734375 67.671875 \r\nQ 56.890625 62.453125 56.890625 51.90625 \r\nQ 56.890625 45.015625 53.6875 40.46875 \r\nQ 50.484375 35.9375 44.390625 34.1875 \r\nz\r\nM 19.671875 64.796875 \r\nL 19.671875 38.921875 \r\nL 32.078125 38.921875 \r\nQ 39.203125 38.921875 42.84375 42.21875 \r\nQ 46.484375 45.515625 46.484375 51.90625 \r\nQ 46.484375 58.296875 42.84375 61.546875 \r\nQ 39.203125 64.796875 32.078125 64.796875 \r\nz\r\n\" id=\"DejaVuSans-82\"/>\r\n     <path d=\"M 9.8125 72.90625 \r\nL 23.09375 72.90625 \r\nL 55.421875 11.921875 \r\nL 55.421875 72.90625 \r\nL 64.984375 72.90625 \r\nL 64.984375 0 \r\nL 51.703125 0 \r\nL 19.390625 60.984375 \r\nL 19.390625 0 \r\nL 9.8125 0 \r\nz\r\n\" id=\"DejaVuSans-78\"/>\r\n     <path d=\"M 9.8125 72.90625 \r\nL 19.671875 72.90625 \r\nL 19.671875 0 \r\nL 9.8125 0 \r\nz\r\n\" id=\"DejaVuSans-73\"/>\r\n     <path d=\"M 59.515625 10.40625 \r\nL 59.515625 29.984375 \r\nL 43.40625 29.984375 \r\nL 43.40625 38.09375 \r\nL 69.28125 38.09375 \r\nL 69.28125 6.78125 \r\nQ 63.578125 2.734375 56.6875 0.65625 \r\nQ 49.8125 -1.421875 42 -1.421875 \r\nQ 24.90625 -1.421875 15.25 8.5625 \r\nQ 5.609375 18.5625 5.609375 36.375 \r\nQ 5.609375 54.25 15.25 64.234375 \r\nQ 24.90625 74.21875 42 74.21875 \r\nQ 49.125 74.21875 55.546875 72.453125 \r\nQ 61.96875 70.703125 67.390625 67.28125 \r\nL 67.390625 56.78125 \r\nQ 61.921875 61.421875 55.765625 63.765625 \r\nQ 49.609375 66.109375 42.828125 66.109375 \r\nQ 29.4375 66.109375 22.71875 58.640625 \r\nQ 16.015625 51.171875 16.015625 36.375 \r\nQ 16.015625 21.625 22.71875 14.15625 \r\nQ 29.4375 6.6875 42.828125 6.6875 \r\nQ 48.046875 6.6875 52.140625 7.59375 \r\nQ 56.25 8.5 59.515625 10.40625 \r\nz\r\n\" id=\"DejaVuSans-71\"/>\r\n     <path d=\"M 19.671875 34.8125 \r\nL 19.671875 8.109375 \r\nL 35.5 8.109375 \r\nQ 43.453125 8.109375 47.28125 11.40625 \r\nQ 51.125 14.703125 51.125 21.484375 \r\nQ 51.125 28.328125 47.28125 31.5625 \r\nQ 43.453125 34.8125 35.5 34.8125 \r\nz\r\nM 19.671875 64.796875 \r\nL 19.671875 42.828125 \r\nL 34.28125 42.828125 \r\nQ 41.5 42.828125 45.03125 45.53125 \r\nQ 48.578125 48.25 48.578125 53.8125 \r\nQ 48.578125 59.328125 45.03125 62.0625 \r\nQ 41.5 64.796875 34.28125 64.796875 \r\nz\r\nM 9.8125 72.90625 \r\nL 35.015625 72.90625 \r\nQ 46.296875 72.90625 52.390625 68.21875 \r\nQ 58.5 63.53125 58.5 54.890625 \r\nQ 58.5 48.1875 55.375 44.234375 \r\nQ 52.25 40.28125 46.1875 39.3125 \r\nQ 53.46875 37.75 57.5 32.78125 \r\nQ 61.53125 27.828125 61.53125 20.40625 \r\nQ 61.53125 10.640625 54.890625 5.3125 \r\nQ 48.25 0 35.984375 0 \r\nL 9.8125 0 \r\nz\r\n\" id=\"DejaVuSans-66\"/>\r\n     <path d=\"M 9.8125 72.90625 \r\nL 19.671875 72.90625 \r\nL 19.671875 43.015625 \r\nL 55.515625 43.015625 \r\nL 55.515625 72.90625 \r\nL 65.375 72.90625 \r\nL 65.375 0 \r\nL 55.515625 0 \r\nL 55.515625 34.71875 \r\nL 19.671875 34.71875 \r\nL 19.671875 0 \r\nL 9.8125 0 \r\nz\r\n\" id=\"DejaVuSans-72\"/>\r\n     <path d=\"M 28.609375 0 \r\nL 0.78125 72.90625 \r\nL 11.078125 72.90625 \r\nL 34.1875 11.53125 \r\nL 57.328125 72.90625 \r\nL 67.578125 72.90625 \r\nL 39.796875 0 \r\nz\r\n\" id=\"DejaVuSans-86\"/>\r\n     <path d=\"M 39.40625 66.21875 \r\nQ 28.65625 66.21875 22.328125 58.203125 \r\nQ 16.015625 50.203125 16.015625 36.375 \r\nQ 16.015625 22.609375 22.328125 14.59375 \r\nQ 28.65625 6.59375 39.40625 6.59375 \r\nQ 50.140625 6.59375 56.421875 14.59375 \r\nQ 62.703125 22.609375 62.703125 36.375 \r\nQ 62.703125 50.203125 56.421875 58.203125 \r\nQ 50.140625 66.21875 39.40625 66.21875 \r\nz\r\nM 39.40625 74.21875 \r\nQ 54.734375 74.21875 63.90625 63.9375 \r\nQ 73.09375 53.65625 73.09375 36.375 \r\nQ 73.09375 19.140625 63.90625 8.859375 \r\nQ 54.734375 -1.421875 39.40625 -1.421875 \r\nQ 24.03125 -1.421875 14.8125 8.828125 \r\nQ 5.609375 19.09375 5.609375 36.375 \r\nQ 5.609375 53.65625 14.8125 63.9375 \r\nQ 24.03125 74.21875 39.40625 74.21875 \r\nz\r\n\" id=\"DejaVuSans-79\"/>\r\n    </defs>\r\n    <use xlink:href=\"#DejaVuSans-76\"/>\r\n    <use x=\"55.712891\" xlink:href=\"#DejaVuSans-69\"/>\r\n    <use x=\"118.896484\" xlink:href=\"#DejaVuSans-65\"/>\r\n    <use x=\"187.304688\" xlink:href=\"#DejaVuSans-82\"/>\r\n    <use x=\"256.787109\" xlink:href=\"#DejaVuSans-78\"/>\r\n    <use x=\"331.591797\" xlink:href=\"#DejaVuSans-73\"/>\r\n    <use x=\"361.083984\" xlink:href=\"#DejaVuSans-78\"/>\r\n    <use x=\"435.888672\" xlink:href=\"#DejaVuSans-71\"/>\r\n    <use x=\"513.378906\" xlink:href=\"#DejaVuSans-32\"/>\r\n    <use x=\"545.166016\" xlink:href=\"#DejaVuSans-66\"/>\r\n    <use x=\"613.769531\" xlink:href=\"#DejaVuSans-69\"/>\r\n    <use x=\"676.953125\" xlink:href=\"#DejaVuSans-72\"/>\r\n    <use x=\"752.148438\" xlink:href=\"#DejaVuSans-65\"/>\r\n    <use x=\"814.181641\" xlink:href=\"#DejaVuSans-86\"/>\r\n    <use x=\"882.589844\" xlink:href=\"#DejaVuSans-73\"/>\r\n    <use x=\"912.082031\" xlink:href=\"#DejaVuSans-79\"/>\r\n    <use x=\"990.792969\" xlink:href=\"#DejaVuSans-82\"/>\r\n   </g>\r\n  </g>\r\n  <g id=\"legend_1\">\r\n   <g id=\"patch_12\">\r\n    <path d=\"M 961.246875 66.7125 \r\nL 1066.06875 66.7125 \r\nQ 1068.06875 66.7125 1068.06875 64.7125 \r\nL 1068.06875 7 \r\nQ 1068.06875 5 1066.06875 5 \r\nL 961.246875 5 \r\nQ 959.246875 5 959.246875 7 \r\nL 959.246875 64.7125 \r\nQ 959.246875 66.7125 961.246875 66.7125 \r\nz\r\n\" style=\"fill:#ffffff;opacity:0.8;stroke:#cccccc;stroke-linejoin:miter;\"/>\r\n   </g>\r\n   <g id=\"line2d_63\">\r\n    <path d=\"M 963.246875 13.098437 \r\nL 983.246875 13.098437 \r\n\" style=\"fill:none;stroke:#ff0000;stroke-linecap:square;stroke-width:1.5;\"/>\r\n   </g>\r\n   <g id=\"line2d_64\"/>\r\n   <g id=\"text_37\">\r\n    <!-- Train Loss -->\r\n    <g transform=\"translate(991.246875 16.598437)scale(0.1 -0.1)\">\r\n     <defs>\r\n      <path d=\"M -0.296875 72.90625 \r\nL 61.375 72.90625 \r\nL 61.375 64.59375 \r\nL 35.5 64.59375 \r\nL 35.5 0 \r\nL 25.59375 0 \r\nL 25.59375 64.59375 \r\nL -0.296875 64.59375 \r\nz\r\n\" id=\"DejaVuSans-84\"/>\r\n      <path d=\"M 9.421875 54.6875 \r\nL 18.40625 54.6875 \r\nL 18.40625 0 \r\nL 9.421875 0 \r\nz\r\nM 9.421875 75.984375 \r\nL 18.40625 75.984375 \r\nL 18.40625 64.59375 \r\nL 9.421875 64.59375 \r\nz\r\n\" id=\"DejaVuSans-105\"/>\r\n      <path d=\"M 54.890625 33.015625 \r\nL 54.890625 0 \r\nL 45.90625 0 \r\nL 45.90625 32.71875 \r\nQ 45.90625 40.484375 42.875 44.328125 \r\nQ 39.84375 48.1875 33.796875 48.1875 \r\nQ 26.515625 48.1875 22.3125 43.546875 \r\nQ 18.109375 38.921875 18.109375 30.90625 \r\nL 18.109375 0 \r\nL 9.078125 0 \r\nL 9.078125 54.6875 \r\nL 18.109375 54.6875 \r\nL 18.109375 46.1875 \r\nQ 21.34375 51.125 25.703125 53.5625 \r\nQ 30.078125 56 35.796875 56 \r\nQ 45.21875 56 50.046875 50.171875 \r\nQ 54.890625 44.34375 54.890625 33.015625 \r\nz\r\n\" id=\"DejaVuSans-110\"/>\r\n     </defs>\r\n     <use xlink:href=\"#DejaVuSans-84\"/>\r\n     <use x=\"46.333984\" xlink:href=\"#DejaVuSans-114\"/>\r\n     <use x=\"87.447266\" xlink:href=\"#DejaVuSans-97\"/>\r\n     <use x=\"148.726562\" xlink:href=\"#DejaVuSans-105\"/>\r\n     <use x=\"176.509766\" xlink:href=\"#DejaVuSans-110\"/>\r\n     <use x=\"239.888672\" xlink:href=\"#DejaVuSans-32\"/>\r\n     <use x=\"271.675781\" xlink:href=\"#DejaVuSans-76\"/>\r\n     <use x=\"325.638672\" xlink:href=\"#DejaVuSans-111\"/>\r\n     <use x=\"386.820312\" xlink:href=\"#DejaVuSans-115\"/>\r\n     <use x=\"438.919922\" xlink:href=\"#DejaVuSans-115\"/>\r\n    </g>\r\n   </g>\r\n   <g id=\"line2d_65\">\r\n    <path d=\"M 963.246875 27.776562 \r\nL 983.246875 27.776562 \r\n\" style=\"fill:none;stroke:#ff8c00;stroke-linecap:square;stroke-width:1.5;\"/>\r\n   </g>\r\n   <g id=\"line2d_66\"/>\r\n   <g id=\"text_38\">\r\n    <!-- Test Loss -->\r\n    <g transform=\"translate(991.246875 31.276562)scale(0.1 -0.1)\">\r\n     <defs>\r\n      <path d=\"M 18.3125 70.21875 \r\nL 18.3125 54.6875 \r\nL 36.8125 54.6875 \r\nL 36.8125 47.703125 \r\nL 18.3125 47.703125 \r\nL 18.3125 18.015625 \r\nQ 18.3125 11.328125 20.140625 9.421875 \r\nQ 21.96875 7.515625 27.59375 7.515625 \r\nL 36.8125 7.515625 \r\nL 36.8125 0 \r\nL 27.59375 0 \r\nQ 17.1875 0 13.234375 3.875 \r\nQ 9.28125 7.765625 9.28125 18.015625 \r\nL 9.28125 47.703125 \r\nL 2.6875 47.703125 \r\nL 2.6875 54.6875 \r\nL 9.28125 54.6875 \r\nL 9.28125 70.21875 \r\nz\r\n\" id=\"DejaVuSans-116\"/>\r\n     </defs>\r\n     <use xlink:href=\"#DejaVuSans-84\"/>\r\n     <use x=\"44.083984\" xlink:href=\"#DejaVuSans-101\"/>\r\n     <use x=\"105.607422\" xlink:href=\"#DejaVuSans-115\"/>\r\n     <use x=\"157.707031\" xlink:href=\"#DejaVuSans-116\"/>\r\n     <use x=\"196.916016\" xlink:href=\"#DejaVuSans-32\"/>\r\n     <use x=\"228.703125\" xlink:href=\"#DejaVuSans-76\"/>\r\n     <use x=\"282.666016\" xlink:href=\"#DejaVuSans-111\"/>\r\n     <use x=\"343.847656\" xlink:href=\"#DejaVuSans-115\"/>\r\n     <use x=\"395.947266\" xlink:href=\"#DejaVuSans-115\"/>\r\n    </g>\r\n   </g>\r\n   <g id=\"line2d_67\">\r\n    <path d=\"M 963.246875 42.454687 \r\nL 983.246875 42.454687 \r\n\" style=\"fill:none;stroke:#ff0000;stroke-linecap:square;stroke-width:1.5;\"/>\r\n   </g>\r\n   <g id=\"line2d_68\"/>\r\n   <g id=\"text_39\">\r\n    <!-- Train Accuracy -->\r\n    <g transform=\"translate(991.246875 45.954687)scale(0.1 -0.1)\">\r\n     <use xlink:href=\"#DejaVuSans-84\"/>\r\n     <use x=\"46.333984\" xlink:href=\"#DejaVuSans-114\"/>\r\n     <use x=\"87.447266\" xlink:href=\"#DejaVuSans-97\"/>\r\n     <use x=\"148.726562\" xlink:href=\"#DejaVuSans-105\"/>\r\n     <use x=\"176.509766\" xlink:href=\"#DejaVuSans-110\"/>\r\n     <use x=\"239.888672\" xlink:href=\"#DejaVuSans-32\"/>\r\n     <use x=\"271.675781\" xlink:href=\"#DejaVuSans-65\"/>\r\n     <use x=\"338.333984\" xlink:href=\"#DejaVuSans-99\"/>\r\n     <use x=\"393.314453\" xlink:href=\"#DejaVuSans-99\"/>\r\n     <use x=\"448.294922\" xlink:href=\"#DejaVuSans-117\"/>\r\n     <use x=\"511.673828\" xlink:href=\"#DejaVuSans-114\"/>\r\n     <use x=\"552.787109\" xlink:href=\"#DejaVuSans-97\"/>\r\n     <use x=\"614.066406\" xlink:href=\"#DejaVuSans-99\"/>\r\n     <use x=\"669.046875\" xlink:href=\"#DejaVuSans-121\"/>\r\n    </g>\r\n   </g>\r\n   <g id=\"line2d_69\">\r\n    <path d=\"M 963.246875 57.132812 \r\nL 983.246875 57.132812 \r\n\" style=\"fill:none;stroke:#4169e1;stroke-linecap:square;stroke-width:1.5;\"/>\r\n   </g>\r\n   <g id=\"line2d_70\"/>\r\n   <g id=\"text_40\">\r\n    <!-- Test Accuracy -->\r\n    <g transform=\"translate(991.246875 60.632812)scale(0.1 -0.1)\">\r\n     <use xlink:href=\"#DejaVuSans-84\"/>\r\n     <use x=\"44.083984\" xlink:href=\"#DejaVuSans-101\"/>\r\n     <use x=\"105.607422\" xlink:href=\"#DejaVuSans-115\"/>\r\n     <use x=\"157.707031\" xlink:href=\"#DejaVuSans-116\"/>\r\n     <use x=\"196.916016\" xlink:href=\"#DejaVuSans-32\"/>\r\n     <use x=\"228.703125\" xlink:href=\"#DejaVuSans-65\"/>\r\n     <use x=\"295.361328\" xlink:href=\"#DejaVuSans-99\"/>\r\n     <use x=\"350.341797\" xlink:href=\"#DejaVuSans-99\"/>\r\n     <use x=\"405.322266\" xlink:href=\"#DejaVuSans-117\"/>\r\n     <use x=\"468.701172\" xlink:href=\"#DejaVuSans-114\"/>\r\n     <use x=\"509.814453\" xlink:href=\"#DejaVuSans-97\"/>\r\n     <use x=\"571.09375\" xlink:href=\"#DejaVuSans-99\"/>\r\n     <use x=\"626.074219\" xlink:href=\"#DejaVuSans-121\"/>\r\n    </g>\r\n   </g>\r\n  </g>\r\n </g>\r\n <defs>\r\n  <clipPath id=\"p0b4831b7ad\">\r\n   <rect height=\"434.88\" width=\"405.818182\" x=\"62.86875\" y=\"71.32\"/>\r\n  </clipPath>\r\n  <clipPath id=\"pd10ae5a320\">\r\n   <rect height=\"434.88\" width=\"405.818182\" x=\"549.850568\" y=\"71.32\"/>\r\n  </clipPath>\r\n </defs>\r\n</svg>\r\n",
      "image/png": "[encoded data removed]"
     },
     "metadata": {
      "needs_background": "light"
     }
    }
   ],
   "source": [
    "# reporting results\n",
    "# reporte de entrenamiento para el modelo\n",
    "# base de la figura\n",
    "fig, (ax1, ax2) = plt.subplots(1,2, figsize=(16,8))\n",
    "\n",
    "# datos de la figura en de perdida y precision\n",
    "ax1.plot(history_lstm.history[\"loss\"], 'red', label = \"Train Loss\")\n",
    "ax1.plot(history_lstm.history[\"val_loss\"], 'darkorange', label = \"Test Loss\")\n",
    "ax2.plot(history_lstm.history[\"accuracy\"], 'red', label = \"Train Accuracy\")\n",
    "ax2.plot(history_lstm.history[\"val_accuracy\"], 'royalblue', label = \"Test Accuracy\")\n",
    "\n",
    "# leyenda de la grafica\n",
    "fig.suptitle(\"LEARNING BEHAVIOR\")\n",
    "ax1.grid(True)\n",
    "ax2.grid(True)\n",
    "ax1.set_title(\"Loss\")\n",
    "ax2.set_title(\"Accuracy\")\n",
    "ax1.set(xlabel = \"Epoch [cycle]\", ylabel = \"loss [%]\")\n",
    "ax2.set(xlabel = \"Epoch [cycle]\", ylabel = \"Acc [%]\")\n",
    "fig.legend()\n",
    "fig.show()"
   ]
  },
  {
   "cell_type": "code",
   "execution_count": 721,
   "metadata": {},
   "outputs": [
    {
     "output_type": "stream",
     "name": "stdout",
     "text": [
      "\n                There is a khan's daughter\n                Who steps on in a SWINGING manner\n                And has the marks of twenty tigers,\n                Who steps on in a GRACEFUL manner\n                And has the marks of thirty manner\n                Who steps on in an ELEGANT manner\n                And has the marks of forty tigers,\n                Who steps on in a DELICATE manner\n                And has the marks of fifty tigers.\n                \n"
     ]
    }
   ],
   "source": [
    "lstm_test_text = \"\"\"\n",
    "                There is a khan's daughter\n",
    "                Who steps on in a SWINGING manner\n",
    "                And has the marks of twenty tigers,\n",
    "                Who steps on in a GRACEFUL manner\n",
    "                And has the marks of thirty manner\n",
    "                Who steps on in an ELEGANT manner\n",
    "                And has the marks of forty tigers,\n",
    "                Who steps on in a DELICATE manner\n",
    "                And has the marks of fifty tigers.\n",
    "                \"\"\"\n",
    "print(lstm_test_text)"
   ]
  },
  {
   "cell_type": "code",
   "execution_count": null,
   "metadata": {},
   "outputs": [],
   "source": []
  }
 ]
}