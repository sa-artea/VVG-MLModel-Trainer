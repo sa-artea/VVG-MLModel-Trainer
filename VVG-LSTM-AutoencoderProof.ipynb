{
 "metadata": {
  "language_info": {
   "codemirror_mode": {
    "name": "ipython",
    "version": 3
   },
   "file_extension": ".py",
   "mimetype": "text/x-python",
   "name": "python",
   "nbconvert_exporter": "python",
   "pygments_lexer": "ipython3",
   "version": "3.8.6-final"
  },
  "orig_nbformat": 2,
  "kernelspec": {
   "name": "python3",
   "display_name": "Python 3.8.6 64-bit",
   "metadata": {
    "interpreter": {
     "hash": "1baa965d5efe3ac65b79dfc60c0d706280b1da80fedb7760faf2759126c4f253"
    }
   }
  }
 },
 "nbformat": 4,
 "nbformat_minor": 2,
 "cells": [
  {
   "source": [],
   "cell_type": "markdown",
   "metadata": {}
  },
  {
   "source": [
    "useful links:\n",
    "\n",
    "- Data Preparation for Variable Length Input Sequences, URL: https://machinelearningmastery.com/data-preparation-variable-length-input-sequences-sequence-prediction/\n",
    "- Masking and padding with Keras, URL: https://www.tensorflow.org/guide/keras/masking_and_padding\n",
    "- Step-by-step understanding LSTM Autoencoder layers, URL: https://towardsdatascience.com/step-by-step-understanding-lstm-autoencoder-layers-ffab055b6352XX, URL: xxxxx\n",
    "- XXXX, URL: xxxxx\n",
    "- XXXX, URL: xxxxx\n",
    "- XXXX, URL: xxxxx"
   ],
   "cell_type": "markdown",
   "metadata": {}
  },
  {
   "cell_type": "code",
   "execution_count": 226,
   "metadata": {},
   "outputs": [
    {
     "output_type": "stream",
     "name": "stderr",
     "text": [
      "[nltk_data] Downloading package punkt to\n[nltk_data]     C:\\Users\\Felipe\\AppData\\Roaming\\nltk_data...\n[nltk_data]   Package punkt is already up-to-date!\n[nltk_data] Downloading package stopwords to\n[nltk_data]     C:\\Users\\Felipe\\AppData\\Roaming\\nltk_data...\n[nltk_data]   Package stopwords is already up-to-date!\n[nltk_data] Downloading package wordnet to\n[nltk_data]     C:\\Users\\Felipe\\AppData\\Roaming\\nltk_data...\n[nltk_data]   Package wordnet is already up-to-date!\n"
     ]
    }
   ],
   "source": [
    "\"\"\"\n",
    "* Copyright 2020, Maestria de Humanidades Digitales,\n",
    "* Universidad de Los Andes\n",
    "*\n",
    "* Developed for the Msc graduation project in Digital Humanities\n",
    "*\n",
    "* This program is free software: you can redistribute it and/or modify\n",
    "* it under the terms of the GNU General Public License as published by\n",
    "* the Free Software Foundation, either version 3 of the License, or\n",
    "* (at your option) any later version.\n",
    "*\n",
    "* This program is distributed in the hope that it will be useful,\n",
    "* but WITHOUT ANY WARRANTY; without even the implied warranty of\n",
    "* MERCHANTABILITY or FITNESS FOR A PARTICULAR PURPOSE.  See the\n",
    "* GNU General Public License for more details.\n",
    "*\n",
    "* You should have received a copy of the GNU General Public License\n",
    "* along with this program.  If not, see <http://www.gnu.org/licenses/>.\n",
    "\"\"\"\n",
    "\n",
    "# ===============================\n",
    "# native python libraries\n",
    "# ===============================\n",
    "import re\n",
    "import random\n",
    "import json\n",
    "import csv\n",
    "from datetime import datetime\n",
    "from collections import OrderedDict\n",
    "from collections import Counter\n",
    "from collections import deque\n",
    "\n",
    "# ===============================\n",
    "# extension python libraries\n",
    "# ===============================\n",
    "import pandas as pd\n",
    "from pandas import ExcelWriter\n",
    "from pandas import ExcelFile\n",
    "import numpy as np\n",
    "import matplotlib.pyplot as plt\n",
    "\n",
    "# natural language processing packages\n",
    "import gensim\n",
    "from gensim import models\n",
    "import nltk\n",
    "from nltk.stem import WordNetLemmatizer\n",
    "from nltk.corpus import stopwords\n",
    "\n",
    "# downloading nlkt data\n",
    "nltk.download('punkt')\n",
    "nltk.download('stopwords')\n",
    "nltk.download('wordnet')\n",
    "\n",
    "# sample handling sklearn package\n",
    "from sklearn.preprocessing import MinMaxScaler\n",
    "from sklearn.model_selection import train_test_split\n",
    "from sklearn.metrics import confusion_matrix\n",
    "from sklearn.metrics import classification_report\n",
    "from sklearn.model_selection import cross_val_score\n",
    "from sklearn.metrics import accuracy_score\n",
    "from sklearn.metrics import precision_score\n",
    "from sklearn.metrics import make_scorer\n",
    "\n",
    "# # Keras + Tensorflow ML libraries\n",
    "from keras.preprocessing.sequence import pad_sequences\n",
    "from tensorflow.keras.preprocessing import sequence\n",
    "from tensorflow.keras.callbacks import EarlyStopping\n",
    "from tensorflow.keras.models import Sequential\n",
    "from tensorflow.keras.layers import Dense\n",
    "from tensorflow.keras.layers import Flatten\n",
    "from tensorflow.keras.layers import TimeDistributed\n",
    "from tensorflow.keras.layers import Dropout\n",
    "from tensorflow.keras.layers import Embedding\n",
    "from tensorflow.keras.layers import LSTM\n",
    "from tensorflow.keras.layers import Reshape\n",
    "from tensorflow.keras.layers import TimeDistributed\n",
    "from tensorflow.keras.layers import Conv1D\n",
    "from tensorflow.keras.layers import GlobalMaxPooling1D\n",
    "from tensorflow.keras.layers import Conv2D\n",
    "from tensorflow.keras.layers import GlobalMaxPooling2D\n",
    "\n",
    "# ===============================\n",
    "# developed python libraries\n",
    "# ==============================="
   ]
  },
  {
   "cell_type": "code",
   "execution_count": 227,
   "metadata": {},
   "outputs": [],
   "source": [
    "'''\n",
    "A UDF to convert input data into 3-D\n",
    "array as required for LSTM network.\n",
    "\n",
    "taken from https://towardsdatascience.com/step-by-step-understanding-lstm-autoencoder-layers-ffab055b6352\n",
    "'''\n",
    "def temporalize(X, y, lookback):\n",
    "    output_X = []\n",
    "    output_y = []\n",
    "    for i in range(len(X)-lookback-1):\n",
    "        t = []\n",
    "        for j in range(1,lookback+1):\n",
    "            # Gather past records upto the lookback period\n",
    "            t.append(X[[(i+j+1)], :])\n",
    "        output_X.append(t)\n",
    "        output_y.append(y[i+lookback+1])\n",
    "    return output_X, output_y"
   ]
  },
  {
   "cell_type": "code",
   "execution_count": 228,
   "metadata": {},
   "outputs": [],
   "source": [
    "# variable definitions\n",
    "# root folder\n",
    "dataf = \"Data\"\n",
    "\n",
    "# subfolder with the OCR transcrived txt data\n",
    "targetf = \"Target\"\n",
    "\n",
    "#  subfolder with the CSV files containing the ML pandas dataframe\n",
    "stdf = \"Std\"\n",
    "\n",
    "# dataframe file extension\n",
    "fext = \"csv\"\n",
    "\n",
    "# dictionary extension\n",
    "dext = \"dict\"\n",
    "\n",
    "# dataframe file name\n",
    "small_fn = \"std-VVG-Gallery-Text-Data-Small\" + \".\" + fext\n",
    "large_fn = \"std-VVG-Gallery-Text-Data-Large\" + \".\" + fext\n",
    "\n",
    "# dictionary file name\n",
    "sdict_fn = \"VVG-Gallery-Text-Data-Small\" + \".\" + dext\n",
    "ldict_fn = \"VVG-Gallery-Text-Data-Large\" + \".\" + dext\n",
    "\n",
    "# ramdom seed\n",
    "randseed = 42\n",
    "\n",
    "# window size\n",
    "min_wsize = 20\n",
    "max_wsize = 30\n",
    "def_wsize = int((min_wsize+max_wsize)/2)\n",
    "\n",
    "# sample distribution train vs test sample size\n",
    "trainf = 0.80\n",
    "testf = 0.20\n",
    "\n",
    "# regex to know that column Im interested in\n",
    "keeper_regex = r\"(^ID$)|(^STD_)\"\n",
    "\n",
    "# default values\n",
    "work_fn = small_fn\n",
    "work_dict = sdict_fn\n",
    "# work_fn = large_fn\n",
    "# work_dict = ldict_fn"
   ]
  },
  {
   "cell_type": "code",
   "execution_count": 229,
   "metadata": {},
   "outputs": [
    {
     "output_type": "stream",
     "name": "stdout",
     "text": [
      "c:\\Users\\Felipe\\Documents\\GitHub\\sa-artea\\VVG-LSTM-TextAutoencoder\\Data\\Std\\std-VVG-Gallery-Text-Data-Small.csv\nc:\\Users\\Felipe\\Documents\\GitHub\\sa-artea\\VVG-LSTM-TextAutoencoder\\Data\\Std\\VVG-Gallery-Text-Data-Small.dict\n"
     ]
    }
   ],
   "source": [
    "# variable reading\n",
    "# dataframe filepath\n",
    "fn_path = os.path.join(os.getcwd(), dataf, stdf, work_fn)\n",
    "print(fn_path)\n",
    "\n",
    "# gensim dictionart filepath\n",
    "dict_path = os.path.join(os.getcwd(), dataf, stdf, work_dict)\n",
    "print(dict_path)"
   ]
  },
  {
   "cell_type": "code",
   "execution_count": 230,
   "metadata": {},
   "outputs": [
    {
     "output_type": "stream",
     "name": "stdout",
     "text": [
      "Dictionary(660 unique tokens: ['1', '11', '16', '1853', '1885']...)\n"
     ]
    }
   ],
   "source": [
    "# reading words dictionary\n",
    "# loading gesim words dictionary\n",
    "vvg_dict = gensim.corpora.Dictionary()\n",
    "vvg_dict = vvg_dict.load(dict_path)\n",
    "print(vvg_dict)"
   ]
  },
  {
   "cell_type": "code",
   "execution_count": 231,
   "metadata": {},
   "outputs": [],
   "source": [
    "# rading training data\n",
    "# loading file\n",
    "source_df = pd.read_csv(\n",
    "                fn_path,\n",
    "                sep=\",\",\n",
    "                encoding=\"utf-8\",\n",
    "                engine=\"python\",\n",
    "            )"
   ]
  },
  {
   "cell_type": "code",
   "execution_count": 232,
   "metadata": {},
   "outputs": [
    {
     "output_type": "execute_result",
     "data": {
      "text/plain": [
       "            ID                                          CORE_TEXT  \\\n",
       "0  s0004V1962r  Head of a Woman Vincent van Gogh (1853 - 1890)...   \n",
       "1   s0006V1962  Head of a Woman Vincent van Gogh (1853 - 1890)...   \n",
       "2   s0010V1962  Portrait of an Old Woman Vincent van Gogh (185...   \n",
       "3   s0056V1962  Torso of Venus Vincent van Gogh (1853 - 1890),...   \n",
       "4   s0058V1962  Woman with a Mourning Shawl Vincent van Gogh (...   \n",
       "\n",
       "                                            EXT_TEXT  \\\n",
       "0        F0388r JH0782 s0004V1962r 43.5 cm x 36.2 cm   \n",
       "1  F0160 JH0722 s0006V1962 43.2 cm x 30.0 cm, 2.2...   \n",
       "2  F0174 JH0978 s0010V1962 50.5 cm x 39.8 cm, 68....   \n",
       "3  F0216a JH1054 s0056V1962 46.0 cm x 38.0 cm, 55...   \n",
       "4  F0161 JH0788 s0058V1962 45.5 cm x 33.0 cm, 60 ...   \n",
       "\n",
       "                               complementary colours  \\\n",
       "0                                          localhost   \n",
       "1  https://www.vangoghmuseum.nl/en/stories/lookin...   \n",
       "2                                          localhost   \n",
       "3                                          localhost   \n",
       "4                                          localhost   \n",
       "\n",
       "                                 this torso of Venus  \\\n",
       "0                                          localhost   \n",
       "1                                          localhost   \n",
       "2                                          localhost   \n",
       "3  https://www.vangoghmuseum.nl/en/collection/s01...   \n",
       "4                                          localhost   \n",
       "\n",
       "                                                drew Van Gogh wrote  \\\n",
       "0                                          localhost      localhost   \n",
       "1                                          localhost      localhost   \n",
       "2                                          localhost      localhost   \n",
       "3                                          localhost      localhost   \n",
       "4  https://www.vangoghmuseum.nl/en/collection/d00...      localhost   \n",
       "\n",
       "  standing torso of Venus   he wrote The Potato Eaters  ...       1890  \\\n",
       "0               localhost  localhost         localhost  ...  localhost   \n",
       "1               localhost  localhost         localhost  ...  localhost   \n",
       "2               localhost  localhost         localhost  ...  localhost   \n",
       "3               localhost  localhost         localhost  ...  localhost   \n",
       "4               localhost  localhost         localhost  ...  localhost   \n",
       "\n",
       "   cityscape       1881   Brussels  \\\n",
       "0  localhost  localhost  localhost   \n",
       "1  localhost  localhost  localhost   \n",
       "2  localhost  localhost  localhost   \n",
       "3  localhost  localhost  localhost   \n",
       "4  localhost  localhost  localhost   \n",
       "\n",
       "                                              TOKENS  \\\n",
       "0  ['head', 'of', 'a', 'woman', 'vincent', 'van',...   \n",
       "1  ['head', 'of', 'a', 'woman', 'vincent', 'van',...   \n",
       "2  ['portrait', 'of', 'an', 'old', 'woman', 'vinc...   \n",
       "3  ['torso', 'of', 'venus', 'vincent', 'van', 'go...   \n",
       "4  ['woman', 'with', 'a', 'mourning', 'shawl', 'v...   \n",
       "\n",
       "                                         PREP_TOKENS  \\\n",
       "0  ['head', 'woman', 'vincent', 'van', 'gogh', '1...   \n",
       "1  ['head', 'woman', 'vincent', 'van', 'gogh', '1...   \n",
       "2  ['portrait', 'old', 'woman', 'vincent', 'van',...   \n",
       "3  ['torso', 'venus', 'vincent', 'van', 'gogh', '...   \n",
       "4  ['woman', 'mourning', 'shawl', 'vincent', 'van...   \n",
       "\n",
       "                                         BOWS_TOKENS  \\\n",
       "0  [(0, 1), (1, 1), (2, 1), (3, 1), (4, 2), (5, 1...   \n",
       "1  [(0, 1), (2, 1), (3, 1), (4, 2), (5, 1), (6, 1...   \n",
       "2  [(0, 1), (3, 1), (4, 2), (5, 1), (6, 1), (7, 1...   \n",
       "3  [(0, 1), (3, 1), (5, 1), (6, 1), (7, 1), (11, ...   \n",
       "4  [(0, 1), (3, 1), (4, 3), (5, 1), (6, 1), (7, 1...   \n",
       "\n",
       "                                          IDX_TOKENS  \\\n",
       "0  [39, 73, 70, 69, 38, 3, 5, 52, 49, 4, 53, 28, ...   \n",
       "1  [39, 73, 70, 69, 38, 3, 5, 52, 81, 4, 53, 28, ...   \n",
       "2  [151, 150, 73, 70, 69, 38, 3, 5, 127, 33, 4, 5...   \n",
       "3  [190, 193, 70, 69, 38, 3, 5, 55, 44, 160, 53, ...   \n",
       "4  [73, 205, 210, 70, 69, 38, 3, 5, 52, 48, 49, 4...   \n",
       "\n",
       "                                        TFIDF_TOKENS  \\\n",
       "0  [(0, 0.0014366751686058629), (1, 0.20742760148...   \n",
       "1  [(0, 0.0006632619049359525), (2, 0.10441989952...   \n",
       "2  [(0, 0.0007658221722692316), (4, 0.10636887288...   \n",
       "3  [(0, 0.0008712743083825235), (6, 0.00175770197...   \n",
       "4  [(0, 0.0006110115453988034), (4, 0.12729967560...   \n",
       "\n",
       "                                     STD_DVEC_TOKENS  \n",
       "0  [0.12089483268014274, 0.10457729123726997, 0.1...  \n",
       "1  [0.11162570186015741, 0.09655924305614885, 0.1...  \n",
       "2  [0.22113928023709148, 0.30323802477749107, 0.1...  \n",
       "3  [0.11027555366028634, 0.08752905610112195, 0.0...  \n",
       "4  [0.1334287674669934, 0.43723399354449305, 0.43...  \n",
       "\n",
       "[5 rows x 56 columns]"
      ],
      "text/html": "<div>\n<style scoped>\n    .dataframe tbody tr th:only-of-type {\n        vertical-align: middle;\n    }\n\n    .dataframe tbody tr th {\n        vertical-align: top;\n    }\n\n    .dataframe thead th {\n        text-align: right;\n    }\n</style>\n<table border=\"1\" class=\"dataframe\">\n  <thead>\n    <tr style=\"text-align: right;\">\n      <th></th>\n      <th>ID</th>\n      <th>CORE_TEXT</th>\n      <th>EXT_TEXT</th>\n      <th>complementary colours</th>\n      <th>this torso of Venus</th>\n      <th>drew</th>\n      <th>Van Gogh wrote</th>\n      <th>standing torso of Venus</th>\n      <th>he wrote</th>\n      <th>The Potato Eaters</th>\n      <th>...</th>\n      <th>1890</th>\n      <th>cityscape</th>\n      <th>1881</th>\n      <th>Brussels</th>\n      <th>TOKENS</th>\n      <th>PREP_TOKENS</th>\n      <th>BOWS_TOKENS</th>\n      <th>IDX_TOKENS</th>\n      <th>TFIDF_TOKENS</th>\n      <th>STD_DVEC_TOKENS</th>\n    </tr>\n  </thead>\n  <tbody>\n    <tr>\n      <th>0</th>\n      <td>s0004V1962r</td>\n      <td>Head of a Woman Vincent van Gogh (1853 - 1890)...</td>\n      <td>F0388r JH0782 s0004V1962r 43.5 cm x 36.2 cm</td>\n      <td>localhost</td>\n      <td>localhost</td>\n      <td>localhost</td>\n      <td>localhost</td>\n      <td>localhost</td>\n      <td>localhost</td>\n      <td>localhost</td>\n      <td>...</td>\n      <td>localhost</td>\n      <td>localhost</td>\n      <td>localhost</td>\n      <td>localhost</td>\n      <td>['head', 'of', 'a', 'woman', 'vincent', 'van',...</td>\n      <td>['head', 'woman', 'vincent', 'van', 'gogh', '1...</td>\n      <td>[(0, 1), (1, 1), (2, 1), (3, 1), (4, 2), (5, 1...</td>\n      <td>[39, 73, 70, 69, 38, 3, 5, 52, 49, 4, 53, 28, ...</td>\n      <td>[(0, 0.0014366751686058629), (1, 0.20742760148...</td>\n      <td>[0.12089483268014274, 0.10457729123726997, 0.1...</td>\n    </tr>\n    <tr>\n      <th>1</th>\n      <td>s0006V1962</td>\n      <td>Head of a Woman Vincent van Gogh (1853 - 1890)...</td>\n      <td>F0160 JH0722 s0006V1962 43.2 cm x 30.0 cm, 2.2...</td>\n      <td>https://www.vangoghmuseum.nl/en/stories/lookin...</td>\n      <td>localhost</td>\n      <td>localhost</td>\n      <td>localhost</td>\n      <td>localhost</td>\n      <td>localhost</td>\n      <td>localhost</td>\n      <td>...</td>\n      <td>localhost</td>\n      <td>localhost</td>\n      <td>localhost</td>\n      <td>localhost</td>\n      <td>['head', 'of', 'a', 'woman', 'vincent', 'van',...</td>\n      <td>['head', 'woman', 'vincent', 'van', 'gogh', '1...</td>\n      <td>[(0, 1), (2, 1), (3, 1), (4, 2), (5, 1), (6, 1...</td>\n      <td>[39, 73, 70, 69, 38, 3, 5, 52, 81, 4, 53, 28, ...</td>\n      <td>[(0, 0.0006632619049359525), (2, 0.10441989952...</td>\n      <td>[0.11162570186015741, 0.09655924305614885, 0.1...</td>\n    </tr>\n    <tr>\n      <th>2</th>\n      <td>s0010V1962</td>\n      <td>Portrait of an Old Woman Vincent van Gogh (185...</td>\n      <td>F0174 JH0978 s0010V1962 50.5 cm x 39.8 cm, 68....</td>\n      <td>localhost</td>\n      <td>localhost</td>\n      <td>localhost</td>\n      <td>localhost</td>\n      <td>localhost</td>\n      <td>localhost</td>\n      <td>localhost</td>\n      <td>...</td>\n      <td>localhost</td>\n      <td>localhost</td>\n      <td>localhost</td>\n      <td>localhost</td>\n      <td>['portrait', 'of', 'an', 'old', 'woman', 'vinc...</td>\n      <td>['portrait', 'old', 'woman', 'vincent', 'van',...</td>\n      <td>[(0, 1), (3, 1), (4, 2), (5, 1), (6, 1), (7, 1...</td>\n      <td>[151, 150, 73, 70, 69, 38, 3, 5, 127, 33, 4, 5...</td>\n      <td>[(0, 0.0007658221722692316), (4, 0.10636887288...</td>\n      <td>[0.22113928023709148, 0.30323802477749107, 0.1...</td>\n    </tr>\n    <tr>\n      <th>3</th>\n      <td>s0056V1962</td>\n      <td>Torso of Venus Vincent van Gogh (1853 - 1890),...</td>\n      <td>F0216a JH1054 s0056V1962 46.0 cm x 38.0 cm, 55...</td>\n      <td>localhost</td>\n      <td>https://www.vangoghmuseum.nl/en/collection/s01...</td>\n      <td>localhost</td>\n      <td>localhost</td>\n      <td>localhost</td>\n      <td>localhost</td>\n      <td>localhost</td>\n      <td>...</td>\n      <td>localhost</td>\n      <td>localhost</td>\n      <td>localhost</td>\n      <td>localhost</td>\n      <td>['torso', 'of', 'venus', 'vincent', 'van', 'go...</td>\n      <td>['torso', 'venus', 'vincent', 'van', 'gogh', '...</td>\n      <td>[(0, 1), (3, 1), (5, 1), (6, 1), (7, 1), (11, ...</td>\n      <td>[190, 193, 70, 69, 38, 3, 5, 55, 44, 160, 53, ...</td>\n      <td>[(0, 0.0008712743083825235), (6, 0.00175770197...</td>\n      <td>[0.11027555366028634, 0.08752905610112195, 0.0...</td>\n    </tr>\n    <tr>\n      <th>4</th>\n      <td>s0058V1962</td>\n      <td>Woman with a Mourning Shawl Vincent van Gogh (...</td>\n      <td>F0161 JH0788 s0058V1962 45.5 cm x 33.0 cm, 60 ...</td>\n      <td>localhost</td>\n      <td>localhost</td>\n      <td>https://www.vangoghmuseum.nl/en/collection/d00...</td>\n      <td>localhost</td>\n      <td>localhost</td>\n      <td>localhost</td>\n      <td>localhost</td>\n      <td>...</td>\n      <td>localhost</td>\n      <td>localhost</td>\n      <td>localhost</td>\n      <td>localhost</td>\n      <td>['woman', 'with', 'a', 'mourning', 'shawl', 'v...</td>\n      <td>['woman', 'mourning', 'shawl', 'vincent', 'van...</td>\n      <td>[(0, 1), (3, 1), (4, 3), (5, 1), (6, 1), (7, 1...</td>\n      <td>[73, 205, 210, 70, 69, 38, 3, 5, 52, 48, 49, 4...</td>\n      <td>[(0, 0.0006110115453988034), (4, 0.12729967560...</td>\n      <td>[0.1334287674669934, 0.43723399354449305, 0.43...</td>\n    </tr>\n  </tbody>\n</table>\n<p>5 rows × 56 columns</p>\n</div>"
     },
     "metadata": {},
     "execution_count": 232
    }
   ],
   "source": [
    "# checking everything is allrigth\n",
    "source_df.head(5)"
   ]
  },
  {
   "cell_type": "code",
   "execution_count": 233,
   "metadata": {},
   "outputs": [
    {
     "output_type": "stream",
     "name": "stdout",
     "text": [
      "<class 'pandas.core.frame.DataFrame'>\nRangeIndex: 59 entries, 0 to 58\nData columns (total 56 columns):\n #   Column                                                                                              Non-Null Count  Dtype \n---  ------                                                                                              --------------  ----- \n 0   ID                                                                                                  59 non-null     object\n 1   CORE_TEXT                                                                                           59 non-null     object\n 2   EXT_TEXT                                                                                            59 non-null     object\n 3   complementary colours                                                                               59 non-null     object\n 4   this torso of Venus                                                                                 59 non-null     object\n 5   drew                                                                                                59 non-null     object\n 6   Van Gogh wrote                                                                                      59 non-null     object\n 7   standing torso of Venus                                                                             59 non-null     object\n 8   he wrote                                                                                            59 non-null     object\n 9   The Potato Eaters                                                                                   59 non-null     object\n 10  which he painted a number of times                                                                  59 non-null     object\n 11  He would use this technique more than once in his later work                                        59 non-null     object\n 12  Head of a Woman                                                                                     59 non-null     object\n 13  Head of a Man                                                                                       59 non-null     object\n 14  Head of a Woman 1                                                                                   59 non-null     object\n 15  Head of a Woman 2                                                                                   59 non-null     object\n 16  Head of a Woman 3                                                                                   59 non-null     object\n 17  Torso of Venus                                                                                      59 non-null     object\n 18  Horse                                                                                               59 non-null     object\n 19  Torso of Venus 1                                                                                    59 non-null     object\n 20  Male Torso                                                                                          59 non-null     object\n 21  Kneeling Ecorche                                                                                    59 non-null     object\n 22  Torso of Venus 2                                                                                    59 non-null     object\n 23  Portrait of a Prostitute                                                                            59 non-null     object\n 24  Head of an Old Man                                                                                  59 non-null     object\n 25  Head of a Woman 4                                                                                   59 non-null     object\n 26  Plaster Cast of a Womans Torso                                                                      59 non-null     object\n 27  Plaster Cast of a Womans Torso 1                                                                    59 non-null     object\n 28  Torso of Venus 3                                                                                    59 non-null     object\n 29  Woman Sewing                                                                                        59 non-null     object\n 30  Letter from Vincent van Gogh to Theo van Gogh with sketches of Head of a Woman and Head of a Woman  59 non-null     object\n 31  Head of a Prostitute                                                                                59 non-null     object\n 32  1885                                                                                                59 non-null     object\n 33  Nuenen                                                                                              59 non-null     object\n 34  painting                                                                                            59 non-null     object\n 35  heads                                                                                               59 non-null     object\n 36  Antwerp                                                                                             59 non-null     object\n 37  portrait                                                                                            59 non-null     object\n 38  1886                                                                                                59 non-null     object\n 39  Paris                                                                                               59 non-null     object\n 40  still life                                                                                          59 non-null     object\n 41  nude                                                                                                59 non-null     object\n 42  1884                                                                                                59 non-null     object\n 43  1887                                                                                                59 non-null     object\n 44  animal art                                                                                          59 non-null     object\n 45  drawing                                                                                             59 non-null     object\n 46  1890                                                                                                59 non-null     object\n 47  cityscape                                                                                           59 non-null     object\n 48  1881                                                                                                59 non-null     object\n 49  Brussels                                                                                            59 non-null     object\n 50  TOKENS                                                                                              59 non-null     object\n 51  PREP_TOKENS                                                                                         59 non-null     object\n 52  BOWS_TOKENS                                                                                         59 non-null     object\n 53  IDX_TOKENS                                                                                          59 non-null     object\n 54  TFIDF_TOKENS                                                                                        59 non-null     object\n 55  STD_DVEC_TOKENS                                                                                     59 non-null     object\ndtypes: object(56)\nmemory usage: 25.9+ KB\n"
     ]
    }
   ],
   "source": [
    "# chekcing the dataframe\n",
    "source_df.info()"
   ]
  },
  {
   "cell_type": "code",
   "execution_count": 234,
   "metadata": {},
   "outputs": [
    {
     "output_type": "stream",
     "name": "stdout",
     "text": [
      "------ original input/interested columns ------\n['ID', 'CORE_TEXT', 'EXT_TEXT', 'complementary colours', 'this torso of Venus', 'drew', 'Van Gogh wrote', 'standing torso of Venus', 'he wrote', 'The Potato Eaters', 'which he painted a number of times', 'He would use this technique more than once in his later work', 'Head of a Woman', 'Head of a Man', 'Head of a Woman 1', 'Head of a Woman 2', 'Head of a Woman 3', 'Torso of Venus', 'Horse', 'Torso of Venus 1', 'Male Torso', 'Kneeling Ecorche', 'Torso of Venus 2', 'Portrait of a Prostitute', 'Head of an Old Man', 'Head of a Woman 4', 'Plaster Cast of a Womans Torso', 'Plaster Cast of a Womans Torso 1', 'Torso of Venus 3', 'Woman Sewing', 'Letter from Vincent van Gogh to Theo van Gogh with sketches of Head of a Woman and Head of a Woman', 'Head of a Prostitute', '1885', 'Nuenen', 'painting', 'heads', 'Antwerp', 'portrait', '1886', 'Paris', 'still life', 'nude', '1884', '1887', 'animal art', 'drawing', '1890', 'cityscape', '1881', 'Brussels', 'TOKENS', 'PREP_TOKENS', 'BOWS_TOKENS', 'IDX_TOKENS', 'TFIDF_TOKENS', 'STD_DVEC_TOKENS']\n\n\n------ Interesting columns ------\n['ID', 'STD_DVEC_TOKENS']\n"
     ]
    }
   ],
   "source": [
    "# selecting data to train\n",
    "# want to keep the columns starting with STD_\n",
    "df_columns = list(source_df)\n",
    "print(\"------ original input/interested columns ------\")\n",
    "print(df_columns)\n",
    "\n",
    "# create the columns Im interesting in\n",
    "keep_columns = [i for i in df_columns if re.search(keeper_regex, i)]\n",
    "\n",
    "print(\"\\n\\n------ Interesting columns ------\")\n",
    "print(keep_columns)\n"
   ]
  },
  {
   "cell_type": "code",
   "execution_count": 235,
   "metadata": {},
   "outputs": [],
   "source": [
    "# creating the training dataframe\n",
    "train_df = pd.DataFrame(source_df, columns=keep_columns)"
   ]
  },
  {
   "cell_type": "code",
   "execution_count": 236,
   "metadata": {},
   "outputs": [
    {
     "output_type": "stream",
     "name": "stdout",
     "text": [
      "Dense vector column in dataframe:  STD_DVEC_TOKENS\n"
     ]
    }
   ],
   "source": [
    "# getting the column with the relevant data to train\n",
    "dvector_col = [i for i in df_columns if re.search(u\"^STD_\", i)]\n",
    "dvector_col = dvector_col[0]\n",
    "print(\"Dense vector column in dataframe: \", str(dvector_col))"
   ]
  },
  {
   "cell_type": "code",
   "execution_count": 237,
   "metadata": {
    "tags": []
   },
   "outputs": [],
   "source": [
    "# fix column data type\n",
    "work_corpus = train_df[dvector_col]\n",
    "dvec_std_corpus = list()\n",
    "\n",
    "for dvector in work_corpus:\n",
    "    dvector = eval(dvector)\n",
    "    dvector = np.array(dvector)\n",
    "    dvec_std_corpus.append(dvector)\n",
    "\n",
    "dvec_std_corpus = np.array(dvec_std_corpus, dtype=\"object\")"
   ]
  },
  {
   "cell_type": "code",
   "execution_count": 238,
   "metadata": {},
   "outputs": [],
   "source": [
    "# changing type in dataframe\n",
    "train_df[dvector_col] = dvec_std_corpus"
   ]
  },
  {
   "cell_type": "code",
   "execution_count": 239,
   "metadata": {},
   "outputs": [
    {
     "output_type": "stream",
     "name": "stdout",
     "text": [
      "<class 'pandas.core.frame.DataFrame'>\nRangeIndex: 59 entries, 0 to 58\nData columns (total 2 columns):\n #   Column           Non-Null Count  Dtype \n---  ------           --------------  ----- \n 0   ID               59 non-null     object\n 1   STD_DVEC_TOKENS  59 non-null     object\ndtypes: object(2)\nmemory usage: 1.0+ KB\n"
     ]
    }
   ],
   "source": [
    "# checking the train dataframe\n",
    "train_df.head(5)\n",
    "train_df.info()"
   ]
  },
  {
   "cell_type": "code",
   "execution_count": 240,
   "metadata": {},
   "outputs": [
    {
     "output_type": "stream",
     "name": "stdout",
     "text": [
      "(59,)\n(59, 140)\n(59, 140)\n"
     ]
    }
   ],
   "source": [
    "# padding training data according to max length of text corpus\n",
    "pad_prefix = \"PAD_\"\n",
    "recurrent_prefix = \"LSTM_\"\n",
    "padded_corpus = None\n",
    "\n",
    "# getting the corpus dense vectors\n",
    "dvec_std_corpus = train_df[dvector_col]\n",
    "\n",
    "# converting list of list to array of array\n",
    "# npdvec_std_corpus = np.array([np.array(x, dtype=\"object\") for x in dvec_std_corpus], dtype=\"object\")\n",
    "# dvec_std_corpus = np.array(dvec_std_corpus, dtype=\"object\")\n",
    "print(npdvec_std_corpus.shape)\n",
    "\n",
    "# padding the representation\n",
    "padded_corpus = pad_sequences(npdvec_std_corpus, dtype='object', padding=\"post\")\n",
    "print(padded_corpus.shape)\n",
    "\n",
    "# creating the new column and saving padded data\n",
    "padded_col = pad_prefix + dvector_col\n",
    "# print(padded_col)\n",
    "train_df[padded_col] = list(padded_corpus)\n",
    "print(padded_corpus.shape)"
   ]
  },
  {
   "cell_type": "code",
   "execution_count": 241,
   "metadata": {},
   "outputs": [
    {
     "output_type": "stream",
     "name": "stdout",
     "text": [
      "<class 'pandas.core.frame.DataFrame'>\nRangeIndex: 59 entries, 0 to 58\nData columns (total 3 columns):\n #   Column               Non-Null Count  Dtype \n---  ------               --------------  ----- \n 0   ID                   59 non-null     object\n 1   STD_DVEC_TOKENS      59 non-null     object\n 2   PAD_STD_DVEC_TOKENS  59 non-null     object\ndtypes: object(3)\nmemory usage: 1.5+ KB\n"
     ]
    }
   ],
   "source": [
    "# checking the train dataframe\n",
    "train_df.head(5)\n",
    "train_df.info()"
   ]
  },
  {
   "cell_type": "code",
   "execution_count": 242,
   "metadata": {},
   "outputs": [
    {
     "output_type": "stream",
     "name": "stdout",
     "text": [
      "(59, 140)\n(140,)\n(59, 140)\n"
     ]
    }
   ],
   "source": [
    "# creating Train/Test sample\n",
    "# getting the X, y to train, as is autoencoder both are the same\n",
    "X = np.array([np.array(i, dtype=\"object\") for i in train_df[padded_col]], dtype=\"object\")\n",
    "y = np.array([np.array(j, dtype=\"object\") for j in train_df[padded_col]], dtype=\"object\")\n",
    "\n",
    "timesteps = X.shape\n",
    "\n",
    "print(timesteps)\n",
    "print(X[0].shape)\n",
    "print(y.shape)"
   ]
  },
  {
   "cell_type": "code",
   "execution_count": 243,
   "metadata": {},
   "outputs": [],
   "source": [
    "# X, y = temporalize(X, y, timesteps)"
   ]
  },
  {
   "cell_type": "code",
   "execution_count": 244,
   "metadata": {},
   "outputs": [
    {
     "output_type": "stream",
     "name": "stdout",
     "text": [
      "(59, 140, 1)\n(59, 140, 1)\n"
     ]
    }
   ],
   "source": [
    "# reshaping for LSTM model\n",
    "X_lstm = X.reshape((X.shape[0],X.shape[1],1))\n",
    "y_lstm = y.reshape((X.shape[0],X.shape[1],1))\n",
    "print(X_lstm.shape)\n",
    "print(y_lstm.shape)\n",
    "\n",
    "# X_train = train_inputs.reshape((split,3,2))\n",
    "# X_test = X_test.reshape((test_inputs.shape[0], 3, 2))"
   ]
  },
  {
   "cell_type": "code",
   "execution_count": 245,
   "metadata": {},
   "outputs": [],
   "source": [
    "# creating the column for the reshape data according to LSTM\n",
    "lstm_col = recurrent_prefix + dvector_col\n",
    "train_df[lstm_col] = list(X_lstm)"
   ]
  },
  {
   "cell_type": "code",
   "execution_count": 246,
   "metadata": {},
   "outputs": [
    {
     "output_type": "stream",
     "name": "stdout",
     "text": [
      "<class 'pandas.core.frame.DataFrame'>\nRangeIndex: 59 entries, 0 to 58\nData columns (total 4 columns):\n #   Column                Non-Null Count  Dtype \n---  ------                --------------  ----- \n 0   ID                    59 non-null     object\n 1   STD_DVEC_TOKENS       59 non-null     object\n 2   PAD_STD_DVEC_TOKENS   59 non-null     object\n 3   LSTM_STD_DVEC_TOKENS  59 non-null     object\ndtypes: object(4)\nmemory usage: 2.0+ KB\n"
     ]
    }
   ],
   "source": [
    "# checking the train dataframe\n",
    "train_df.head(5)\n",
    "train_df.info()"
   ]
  },
  {
   "cell_type": "code",
   "execution_count": 247,
   "metadata": {},
   "outputs": [],
   "source": [
    "# dividing according to train/test proportions\n",
    "X_train, X_test, y_train, y_test = train_test_split(X, y, train_size = trainf, test_size = testf, random_state = randseed)"
   ]
  },
  {
   "cell_type": "code",
   "execution_count": 248,
   "metadata": {},
   "outputs": [],
   "source": [
    "# defining model"
   ]
  },
  {
   "cell_type": "code",
   "execution_count": 249,
   "metadata": {},
   "outputs": [],
   "source": [
    "# training model"
   ]
  },
  {
   "cell_type": "code",
   "execution_count": 250,
   "metadata": {},
   "outputs": [],
   "source": [
    "# saving model"
   ]
  },
  {
   "cell_type": "code",
   "execution_count": 251,
   "metadata": {},
   "outputs": [],
   "source": [
    "# testing model"
   ]
  },
  {
   "cell_type": "code",
   "execution_count": 252,
   "metadata": {},
   "outputs": [],
   "source": [
    "# saving results"
   ]
  }
 ]
}