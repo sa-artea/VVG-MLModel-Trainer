{
 "metadata": {
  "language_info": {
   "codemirror_mode": {
    "name": "ipython",
    "version": 3
   },
   "file_extension": ".py",
   "mimetype": "text/x-python",
   "name": "python",
   "nbconvert_exporter": "python",
   "pygments_lexer": "ipython3",
   "version": "3.8.6"
  },
  "orig_nbformat": 2,
  "kernelspec": {
   "name": "python386jvsc74a57bd01baa965d5efe3ac65b79dfc60c0d706280b1da80fedb7760faf2759126c4f253",
   "display_name": "Python 3.8.6 64-bit"
  },
  "metadata": {
   "interpreter": {
    "hash": "1baa965d5efe3ac65b79dfc60c0d706280b1da80fedb7760faf2759126c4f253"
   }
  }
 },
 "nbformat": 4,
 "nbformat_minor": 2,
 "cells": [
  {
   "source": [
    "useful links:\n",
    "\n",
    "- Data Preparation for Variable Length Input Sequences, URL: https://machinelearningmastery.com/data-preparation-variable-length-input-sequences-sequence-prediction/\n",
    "- Masking and padding with Keras, URL: https://www.tensorflow.org/guide/keras/masking_and_padding\n",
    "- Step-by-step understanding LSTM Autoencoder layers, URL: https://towardsdatascience.com/step-by-step-understanding-lstm-autoencoder-layers-ffab055b6352XX, \n",
    "- Understanding input_shape parameter in LSTM with Keras, URL: https://stats.stackexchange.com/questions/274478/understanding-input-shape-parameter-in-lstm-with-keras\n",
    "- tf.convert_to_tensor, URL: https://www.tensorflow.org/api_docs/python/tf/convert_to_tensor\n",
    "- ValueError: Failed to convert a NumPy array to a Tensor (Unsupported object type int) in Python, URL: https://datascience.stackexchange.com/questions/82440/valueerror-failed-to-convert-a-numpy-array-to-a-tensor-unsupported-object-type"
   ],
   "cell_type": "markdown",
   "metadata": {}
  },
  {
   "cell_type": "code",
   "execution_count": 61,
   "metadata": {},
   "outputs": [],
   "source": [
    "\"\"\"\n",
    "* Copyright 2020, Maestria de Humanidades Digitales,\n",
    "* Universidad de Los Andes\n",
    "*\n",
    "* Developed for the Msc graduation project in Digital Humanities\n",
    "*\n",
    "* This program is free software: you can redistribute it and/or modify\n",
    "* it under the terms of the GNU General Public License as published by\n",
    "* the Free Software Foundation, either version 3 of the License, or\n",
    "* (at your option) any later version.\n",
    "*\n",
    "* This program is distributed in the hope that it will be useful,\n",
    "* but WITHOUT ANY WARRANTY; without even the implied warranty of\n",
    "* MERCHANTABILITY or FITNESS FOR A PARTICULAR PURPOSE.  See the\n",
    "* GNU General Public License for more details.\n",
    "*\n",
    "* You should have received a copy of the GNU General Public License\n",
    "* along with this program.  If not, see <http://www.gnu.org/licenses/>.\n",
    "\"\"\"\n",
    "\n",
    "# ===============================\n",
    "# native python libraries\n",
    "# ===============================\n",
    "import re\n",
    "import random\n",
    "import json\n",
    "import csv\n",
    "import cv2\n",
    "import datetime\n",
    "import gc\n",
    "from collections import OrderedDict\n",
    "from collections import Counter\n",
    "from collections import deque\n",
    "\n",
    "# ===============================\n",
    "# extension python libraries\n",
    "# ===============================\n",
    "import pandas as pd\n",
    "from pandas import ExcelWriter\n",
    "from pandas import ExcelFile\n",
    "import numpy as np\n",
    "import matplotlib.pyplot as plt\n",
    "\n",
    "# sample handling sklearn package\n",
    "from sklearn.preprocessing import MinMaxScaler\n",
    "from sklearn.model_selection import train_test_split\n",
    "from sklearn.metrics import confusion_matrix\n",
    "from sklearn.metrics import classification_report\n",
    "from sklearn.model_selection import cross_val_score\n",
    "from sklearn.metrics import accuracy_score\n",
    "from sklearn.metrics import precision_score\n",
    "from sklearn.metrics import make_scorer\n",
    "\n",
    "# # Keras + Tensorflow ML libraries\n",
    "from keras.preprocessing.sequence import pad_sequences\n",
    "import tensorflow as tf\n",
    "from tensorflow.keras.preprocessing import sequence\n",
    "from tensorflow.keras.callbacks import EarlyStopping\n",
    "from tensorflow.keras.models import Sequential\n",
    "from tensorflow.keras.layers import Masking\n",
    "from tensorflow.keras.layers import Input\n",
    "from tensorflow.keras.layers import Dense\n",
    "from tensorflow.keras.layers import Dropout\n",
    "from tensorflow.keras.layers import LSTM\n",
    "from tensorflow.keras.layers import Reshape\n",
    "from tensorflow.keras.layers import Flatten\n",
    "from tensorflow.keras.layers import Conv2D\n",
    "from tensorflow.keras.layers import MaxPooling2D\n",
    "from tensorflow.keras.layers import UpSampling2D\n",
    "\n",
    "# ===============================\n",
    "# developed python libraries\n",
    "# ==============================="
   ]
  },
  {
   "cell_type": "code",
   "execution_count": 62,
   "metadata": {},
   "outputs": [],
   "source": [
    "'''\n",
    "A UDF to convert input data into 3-D\n",
    "array as required for LSTM network.\n",
    "\n",
    "taken from https://towardsdatascience.com/step-by-step-understanding-lstm-autoencoder-layers-ffab055b6352\n",
    "'''\n",
    "def temporalize(data, lookback):\n",
    "    output_X = list()\n",
    "    for i in range(len(X)-lookback-1):\n",
    "        temp = list()\n",
    "        for j in range(1,lookback+1):\n",
    "            # Gather past records upto the lookback period\n",
    "            temp.append(data[[(i+j+1)], :])\n",
    "        temp = np.array(temp, dtype=\"object\")\n",
    "        output_X.append(temp)\n",
    "    output_X = np.array(output_X, dtype=\"object\")\n",
    "    return output_X"
   ]
  },
  {
   "cell_type": "code",
   "execution_count": 63,
   "metadata": {},
   "outputs": [],
   "source": [
    "def read_img(img_fpn):\n",
    "    ans = cv2.imread(img_fpn, cv2.IMREAD_UNCHANGED)\n",
    "    return ans"
   ]
  },
  {
   "cell_type": "code",
   "execution_count": 64,
   "metadata": {},
   "outputs": [],
   "source": [
    "def std_img(img, minv, maxv):\n",
    "    rangev = maxv - minv\n",
    "    ans = img.astype(\"float32\")/float(rangev)\n",
    "    # ans = pd.Series(ans)\n",
    "    # respuesta de la funcion\n",
    "    return ans"
   ]
  },
  {
   "cell_type": "code",
   "execution_count": 65,
   "metadata": {},
   "outputs": [],
   "source": [
    "def pad_img(img, h, w):\n",
    "    #  in case when you have odd number\n",
    "    top_pad = np.floor((h - img.shape[0]) / 2).astype(np.uint16)\n",
    "    bottom_pad = np.ceil((h - img.shape[0]) / 2).astype(np.uint16)\n",
    "    right_pad = np.ceil((w - img.shape[1]) / 2).astype(np.uint16)\n",
    "    left_pad = np.floor((w - img.shape[1]) / 2).astype(np.uint16)\n",
    "    ans = np.copy(np.pad(img, ((top_pad, bottom_pad), (left_pad, right_pad), (0, 0)), mode=\"constant\", constant_values=0))\n",
    "    return ans"
   ]
  },
  {
   "cell_type": "code",
   "execution_count": 66,
   "metadata": {},
   "outputs": [],
   "source": [
    "def get_images(rootf, src_df, src_col, tgt_col):\n",
    "    ans = src_df\n",
    "    src_files = list(ans[src_col])\n",
    "    tgt_files = list()\n",
    "\n",
    "    # ansdict = {}\n",
    "    for tfile in src_files:\n",
    "        tfpn = os.path.join(rootf, tfile)\n",
    "        # print(tfpn)\n",
    "        # print(os.path.exists(tfpn))\n",
    "        timg = read_img(tfpn)\n",
    "        tgt_files.append(timg)\n",
    "\n",
    "    ans[tgt_col] = tgt_files\n",
    "    return ans"
   ]
  },
  {
   "cell_type": "code",
   "execution_count": 67,
   "metadata": {},
   "outputs": [],
   "source": [
    "def padding_images(src_df, src_col, tgt_col, max_shape):\n",
    "    ans = src_df\n",
    "    src_images = list(ans[src_col])\n",
    "    tgt_images = list()\n",
    "    max_x, max_y = max_shape[0], max_shape[1]\n",
    "    padding = None\n",
    "\n",
    "    # ansdict = {}\n",
    "    for timg in src_images:\n",
    "        # print(timg)\n",
    "        timg = np.array(timg, dtype=\"object\")\n",
    "        # std_timg = std_img(timg, 0, 255)\n",
    "        pimg = pad_img(timg, max_y, max_x)\n",
    "        tgt_images.append(pimg)\n",
    "\n",
    "    ans[tgt_col] = tgt_images\n",
    "    return ans"
   ]
  },
  {
   "cell_type": "code",
   "execution_count": 68,
   "metadata": {},
   "outputs": [],
   "source": [
    "def standarize_images(src_df, src_col, tgt_col):\n",
    "    ans = src_df\n",
    "    src_images = list(ans[src_col])\n",
    "    tgt_images = list()\n",
    "\n",
    "    # ansdict = {}\n",
    "    for timg in src_images:\n",
    "        # print(timg)\n",
    "        timg = np.array(timg, dtype=\"object\")\n",
    "        std_timg = std_img(timg, 0, 255)\n",
    "        tgt_images.append(std_timg)\n",
    "\n",
    "    ans[tgt_col] = tgt_images\n",
    "    return ans"
   ]
  },
  {
   "cell_type": "code",
   "execution_count": 69,
   "metadata": {},
   "outputs": [],
   "source": [
    "# function to get the max shape in the image dataset\n",
    "def get_mshape(shape_data, imgt):\n",
    "\n",
    "    max_x, max_y, max_ch = 0, 0, 0\n",
    "    shape_data = list(shape_data)\n",
    "    ans = None\n",
    "\n",
    "    if imgt == \"rgb\":\n",
    "\n",
    "        for tshape in shape_data:\n",
    "            tshape = eval(tshape)\n",
    "            tx, ty, tch = tshape[0], tshape[1], tshape[2]\n",
    "\n",
    "            if tx > max_x:\n",
    "                max_x = tx\n",
    "            if ty > max_y:\n",
    "                max_y = ty\n",
    "            if tch > max_ch:\n",
    "                max_ch = tch\n",
    "            \n",
    "        ans = (max_x, max_y, max_ch)\n",
    "    \n",
    "    elif imgt == \"bw\":\n",
    "\n",
    "        for tshape in shape_data:\n",
    "            tshape = eval(tshape)\n",
    "            tx, ty = tshape[0], tshape[1]\n",
    "\n",
    "            if tx > max_x:\n",
    "                max_x = tx\n",
    "            if ty > max_y:\n",
    "                max_y = ty\n",
    "            \n",
    "        ans = (max_x, max_y)\n",
    "        \n",
    "    return ans"
   ]
  },
  {
   "cell_type": "code",
   "execution_count": 70,
   "metadata": {},
   "outputs": [],
   "source": [
    "# variable definitions\n",
    "# root folder\n",
    "dataf = \"Data\"\n",
    "\n",
    "# subfolder with predictions txt data\n",
    "imagef = \"Img\"\n",
    "\n",
    "# report subfolder\n",
    "reportf = \"Reports\"\n",
    "\n",
    "#  subfolder with the CSV files containing the ML pandas dataframe\n",
    "stdf = \"Std\"\n",
    "\n",
    "# dataframe file extension\n",
    "fext = \"csv\"\n",
    "\n",
    "imgf = \"jpg\"\n",
    "\n",
    "rgb_sufix = \"rgb\"\n",
    "bw_sufix = \"bw\"\n",
    "\n",
    "# standard sufix\n",
    "stdprefix = \"std-\"\n",
    "\n",
    "# ml model useful data\n",
    "mltprefix = \"ml-\"\n",
    "\n",
    "# report names\n",
    "str_date = datetime.date.today().strftime(\"%d-%b-%Y\")\n",
    "\n",
    "small_sufix = \"Img-Data-Small\"\n",
    "large_sufix = \"Img-Data-Large\"\n",
    "painting_sufix = \"Img-Data-Paintings\"\n",
    "\n",
    "gallery_prefix = \"VVG-Gallery\"\n",
    "\n",
    "# dataframe file name\n",
    "small_fn = stdprefix + gallery_prefix + \"-\" + small_sufix + \".\" + fext\n",
    "large_fn = stdprefix + gallery_prefix + \"-\" + large_sufix + \".\" + fext\n",
    "painting_fn = stdprefix + gallery_prefix + \"-\" + painting_sufix + \".\" + fext\n",
    "\n",
    "# ramdom seed\n",
    "randseed = 42\n",
    "\n",
    "# sample distribution train vs test sample size\n",
    "trainf = 0.80\n",
    "testf = 0.20\n",
    "\n",
    "# regex to know that column Im interested in\n",
    "keeper_regex = r\"(^ID$)|(^std_)\"\n",
    "\n",
    "imgt = rgb_sufix\n",
    "\n",
    "# default values\n",
    "# work_fn, work_sufix, work_imgt = small_fn, small_sufix, rgb_sufix\n",
    "work_fn, work_sufix, work_imgt = painting_fn, painting_sufix, imgt\n",
    "# work_fn, work_sufix, work_imgt = large_fn, large_sufix, rgb_sufix"
   ]
  },
  {
   "cell_type": "code",
   "execution_count": 71,
   "metadata": {},
   "outputs": [
    {
     "output_type": "stream",
     "name": "stdout",
     "text": [
      "c:\\Users\\Felipe\\Documents\\GitHub\\sa-artea\\VVG-MLModel-Trainer\n"
     ]
    }
   ],
   "source": [
    "root_folder = os.getcwd()\n",
    "root_folder = os.path.split(root_folder)[0]\n",
    "root_folder = os.path.normpath(root_folder)\n",
    "print(root_folder)"
   ]
  },
  {
   "cell_type": "code",
   "execution_count": 72,
   "metadata": {},
   "outputs": [
    {
     "output_type": "stream",
     "name": "stdout",
     "text": [
      "c:\\Users\\Felipe\\Documents\\GitHub\\sa-artea\\VVG-MLModel-Trainer\\Data\\Std\\std-VVG-Gallery-Img-Data-Paintings.csv\n"
     ]
    }
   ],
   "source": [
    "# variable reading\n",
    "# dataframe filepath\n",
    "fn_path = os.path.join(root_folder, dataf, stdf, work_fn)\n",
    "print(fn_path)"
   ]
  },
  {
   "cell_type": "code",
   "execution_count": 73,
   "metadata": {},
   "outputs": [],
   "source": [
    "# rading training data\n",
    "# loading file\n",
    "source_df = pd.read_csv(\n",
    "                fn_path,\n",
    "                sep=\",\",\n",
    "                encoding=\"utf-8\",\n",
    "                engine=\"python\",\n",
    "            )"
   ]
  },
  {
   "cell_type": "code",
   "execution_count": 74,
   "metadata": {},
   "outputs": [
    {
     "output_type": "stream",
     "name": "stdout",
     "text": [
      "<class 'pandas.core.frame.DataFrame'>\nRangeIndex: 211 entries, 0 to 210\nData columns (total 15 columns):\n #   Column                 Non-Null Count  Dtype \n---  ------                 --------------  ----- \n 0   ID                     211 non-null    object\n 1   F-number               211 non-null    object\n 2   JH-number              211 non-null    object\n 3   Dimensions             211 non-null    object\n 4   creator-place          211 non-null    object\n 5   creator-date           211 non-null    object\n 6   details                211 non-null    object\n 7   rgb_img                211 non-null    object\n 8   bw_img                 211 non-null    object\n 9   rgb_shape              211 non-null    object\n 10  bw_shape               211 non-null    object\n 11  std_cat_creator-date   211 non-null    object\n 12  std_cat_creator-place  211 non-null    object\n 13  std_cat_Dimensions     211 non-null    object\n 14  std_cat_details        211 non-null    object\ndtypes: object(15)\nmemory usage: 24.9+ KB\n"
     ]
    }
   ],
   "source": [
    "# checking everything is allrigth\n",
    "# source_df.head(5)\n",
    "# chekcing the dataframe\n",
    "source_df.info()"
   ]
  },
  {
   "cell_type": "code",
   "execution_count": 75,
   "metadata": {
    "tags": []
   },
   "outputs": [
    {
     "output_type": "stream",
     "name": "stdout",
     "text": [
      "rgb_img rgb_img_data\n"
     ]
    }
   ],
   "source": [
    "# reading images from folder and loading images into df\n",
    "# working variables\n",
    "src_col = work_imgt + \"_img\"\n",
    "tgt_col = work_imgt + \"_img\" + \"_data\"\n",
    "work_shape = work_imgt + \"_shape\"\n",
    "\n",
    "print(src_col, tgt_col)\n",
    "source_df = get_images(root_folder, source_df, src_col, tgt_col)"
   ]
  },
  {
   "cell_type": "code",
   "execution_count": 76,
   "metadata": {},
   "outputs": [
    {
     "output_type": "stream",
     "name": "stdout",
     "text": [
      "<class 'pandas.core.frame.DataFrame'>\nRangeIndex: 211 entries, 0 to 210\nData columns (total 16 columns):\n #   Column                 Non-Null Count  Dtype \n---  ------                 --------------  ----- \n 0   ID                     211 non-null    object\n 1   F-number               211 non-null    object\n 2   JH-number              211 non-null    object\n 3   Dimensions             211 non-null    object\n 4   creator-place          211 non-null    object\n 5   creator-date           211 non-null    object\n 6   details                211 non-null    object\n 7   rgb_img                211 non-null    object\n 8   bw_img                 211 non-null    object\n 9   rgb_shape              211 non-null    object\n 10  bw_shape               211 non-null    object\n 11  std_cat_creator-date   211 non-null    object\n 12  std_cat_creator-place  211 non-null    object\n 13  std_cat_Dimensions     211 non-null    object\n 14  std_cat_details        211 non-null    object\n 15  rgb_img_data           211 non-null    object\ndtypes: object(16)\nmemory usage: 26.5+ KB\n"
     ]
    }
   ],
   "source": [
    "source_df.info()"
   ]
  },
  {
   "cell_type": "code",
   "execution_count": 77,
   "metadata": {},
   "outputs": [
    {
     "output_type": "stream",
     "name": "stdout",
     "text": [
      "rgb_shape\n(800, 800, 3)\n"
     ]
    }
   ],
   "source": [
    "# searching the biggest shape in the image files\n",
    "print(work_shape)\n",
    "shape_data = source_df[work_shape]\n",
    "max_shape = get_mshape(shape_data, work_imgt)\n",
    "print(max_shape)"
   ]
  },
  {
   "cell_type": "code",
   "execution_count": 78,
   "metadata": {},
   "outputs": [
    {
     "output_type": "stream",
     "name": "stdout",
     "text": [
      "rgb_img_data pad_cnn_rgb_img_data\n"
     ]
    }
   ],
   "source": [
    "# padding training data according to max shape of the images in gallery\n",
    "pad_prefix = \"pad_\"\n",
    "conv_prefix = \"cnn_\"\n",
    "src_col = work_imgt + \"_img\" + \"_data\"\n",
    "tgt_col = pad_prefix + conv_prefix + src_col\n",
    "\n",
    "print(src_col, tgt_col)\n",
    "source_df = padding_images(source_df, src_col, tgt_col, max_shape)"
   ]
  },
  {
   "cell_type": "code",
   "execution_count": 79,
   "metadata": {},
   "outputs": [
    {
     "output_type": "stream",
     "name": "stdout",
     "text": [
      "<class 'pandas.core.frame.DataFrame'>\nRangeIndex: 211 entries, 0 to 210\nData columns (total 17 columns):\n #   Column                 Non-Null Count  Dtype \n---  ------                 --------------  ----- \n 0   ID                     211 non-null    object\n 1   F-number               211 non-null    object\n 2   JH-number              211 non-null    object\n 3   Dimensions             211 non-null    object\n 4   creator-place          211 non-null    object\n 5   creator-date           211 non-null    object\n 6   details                211 non-null    object\n 7   rgb_img                211 non-null    object\n 8   bw_img                 211 non-null    object\n 9   rgb_shape              211 non-null    object\n 10  bw_shape               211 non-null    object\n 11  std_cat_creator-date   211 non-null    object\n 12  std_cat_creator-place  211 non-null    object\n 13  std_cat_Dimensions     211 non-null    object\n 14  std_cat_details        211 non-null    object\n 15  rgb_img_data           211 non-null    object\n 16  pad_cnn_rgb_img_data   211 non-null    object\ndtypes: object(17)\nmemory usage: 28.1+ KB\n"
     ]
    }
   ],
   "source": [
    "source_df.info()\n",
    "# test = source_df[\"pad_cnn_rgb_img_data\"].value_counts()\n",
    "# print(test)"
   ]
  },
  {
   "cell_type": "code",
   "execution_count": 80,
   "metadata": {},
   "outputs": [
    {
     "output_type": "stream",
     "name": "stdout",
     "text": [
      "standarizing regular images...\n"
     ]
    }
   ],
   "source": [
    "# reading images from folder and stadarizing images into df\n",
    "# working variables\n",
    "print(\"standarizing regular images...\")\n",
    "src_col = work_imgt + \"_img\" + \"_data\"\n",
    "tgt_col = \"std_\" + src_col\n",
    "\n",
    "source_df = standarize_images(source_df, src_col, tgt_col)"
   ]
  },
  {
   "cell_type": "code",
   "execution_count": 81,
   "metadata": {},
   "outputs": [
    {
     "output_type": "stream",
     "name": "stdout",
     "text": [
      "standarizing padded images...\n"
     ]
    }
   ],
   "source": [
    "print(\"standarizing padded images...\")\n",
    "src_col = pad_prefix + conv_prefix + work_imgt + \"_img\" + \"_data\"\n",
    "tgt_col = \"std_\" + src_col\n",
    "\n",
    "source_df = standarize_images(source_df, src_col, tgt_col)"
   ]
  },
  {
   "cell_type": "code",
   "execution_count": 82,
   "metadata": {},
   "outputs": [
    {
     "output_type": "stream",
     "name": "stdout",
     "text": [
      "<class 'pandas.core.frame.DataFrame'>\nRangeIndex: 211 entries, 0 to 210\nData columns (total 19 columns):\n #   Column                    Non-Null Count  Dtype \n---  ------                    --------------  ----- \n 0   ID                        211 non-null    object\n 1   F-number                  211 non-null    object\n 2   JH-number                 211 non-null    object\n 3   Dimensions                211 non-null    object\n 4   creator-place             211 non-null    object\n 5   creator-date              211 non-null    object\n 6   details                   211 non-null    object\n 7   rgb_img                   211 non-null    object\n 8   bw_img                    211 non-null    object\n 9   rgb_shape                 211 non-null    object\n 10  bw_shape                  211 non-null    object\n 11  std_cat_creator-date      211 non-null    object\n 12  std_cat_creator-place     211 non-null    object\n 13  std_cat_Dimensions        211 non-null    object\n 14  std_cat_details           211 non-null    object\n 15  rgb_img_data              211 non-null    object\n 16  pad_cnn_rgb_img_data      211 non-null    object\n 17  std_rgb_img_data          211 non-null    object\n 18  std_pad_cnn_rgb_img_data  211 non-null    object\ndtypes: object(19)\nmemory usage: 31.4+ KB\n"
     ]
    }
   ],
   "source": [
    "source_df.info()"
   ]
  },
  {
   "cell_type": "code",
   "execution_count": 83,
   "metadata": {},
   "outputs": [
    {
     "output_type": "stream",
     "name": "stdout",
     "text": [
      "------ original input/interested columns ------\n['ID', 'F-number', 'JH-number', 'Dimensions', 'creator-place', 'creator-date', 'details', 'rgb_img', 'bw_img', 'rgb_shape', 'bw_shape', 'std_cat_creator-date', 'std_cat_creator-place', 'std_cat_Dimensions', 'std_cat_details', 'rgb_img_data', 'pad_cnn_rgb_img_data', 'std_rgb_img_data', 'std_pad_cnn_rgb_img_data']\n\n\n------ Interesting columns ------\n['ID', 'std_cat_creator-date', 'std_cat_creator-place', 'std_cat_Dimensions', 'std_cat_details', 'std_rgb_img_data', 'std_pad_cnn_rgb_img_data']\n"
     ]
    }
   ],
   "source": [
    "# selecting data to train\n",
    "gc.collect()\n",
    "# want to keep the columns starting with STD_\n",
    "df_columns = list(source_df.columns)\n",
    "print(\"------ original input/interested columns ------\")\n",
    "print(df_columns)\n",
    "\n",
    "# create the columns Im interesting in\n",
    "keep_columns = [i for i in df_columns if re.search(keeper_regex, i)]\n",
    "\n",
    "print(\"\\n\\n------ Interesting columns ------\")\n",
    "print(keep_columns)"
   ]
  },
  {
   "cell_type": "code",
   "execution_count": 84,
   "metadata": {},
   "outputs": [],
   "source": [
    "# creating the training dataframe\n",
    "train_df = pd.DataFrame(source_df, columns=keep_columns)"
   ]
  },
  {
   "cell_type": "code",
   "execution_count": 85,
   "metadata": {},
   "outputs": [
    {
     "output_type": "stream",
     "name": "stdout",
     "text": [
      "<class 'pandas.core.frame.DataFrame'>\nRangeIndex: 211 entries, 0 to 210\nData columns (total 7 columns):\n #   Column                    Non-Null Count  Dtype \n---  ------                    --------------  ----- \n 0   ID                        211 non-null    object\n 1   std_cat_creator-date      211 non-null    object\n 2   std_cat_creator-place     211 non-null    object\n 3   std_cat_Dimensions        211 non-null    object\n 4   std_cat_details           211 non-null    object\n 5   std_rgb_img_data          211 non-null    object\n 6   std_pad_cnn_rgb_img_data  211 non-null    object\ndtypes: object(7)\nmemory usage: 11.7+ KB\n"
     ]
    }
   ],
   "source": [
    "# checking the train dataframe\n",
    "train_df.head(5)\n",
    "train_df.info()\n",
    "source_df = None"
   ]
  },
  {
   "cell_type": "code",
   "execution_count": 86,
   "metadata": {},
   "outputs": [],
   "source": [
    "regular_img_col = \"std_\" + work_imgt + \"_img\" + \"_data\"\n",
    "padded_img_col = \"std_\" + pad_prefix + conv_prefix + work_imgt + \"_img\" + \"_data\""
   ]
  },
  {
   "cell_type": "code",
   "execution_count": 87,
   "metadata": {},
   "outputs": [],
   "source": [
    "working_img_col = padded_img_col\n",
    "# working_img_col = regular_img_col"
   ]
  },
  {
   "cell_type": "code",
   "execution_count": 88,
   "metadata": {},
   "outputs": [
    {
     "output_type": "stream",
     "name": "stdout",
     "text": [
      "(211,)\n"
     ]
    }
   ],
   "source": [
    "# creating Train/Test sample\n",
    "# getting the X, y to train, as is autoencoder both are the same\n",
    "# X = np.array([np.array(i, dtype=\"object\") for i in train_df[working_img_col]], dtype=\"object\")\n",
    "X = train_df[working_img_col]\n",
    "print(X.shape)"
   ]
  },
  {
   "cell_type": "code",
   "execution_count": 89,
   "metadata": {},
   "outputs": [
    {
     "output_type": "stream",
     "name": "stdout",
     "text": [
      "(211,)\n"
     ]
    }
   ],
   "source": [
    "# creating Train/Test sample\n",
    "# getting the X, y to train, as is autoencoder both are the same\n",
    "# y = np.array([np.array(j, dtype=\"object\") for j in train_df[working_img_col]], dtype=\"object\")\n",
    "y = train_df[working_img_col]\n",
    "print(y.shape)"
   ]
  },
  {
   "cell_type": "code",
   "execution_count": 90,
   "metadata": {},
   "outputs": [
    {
     "output_type": "stream",
     "name": "stdout",
     "text": [
      "<class 'numpy.ndarray'>\n<class 'numpy.ndarray'>\n(211,)\n"
     ]
    }
   ],
   "source": [
    "print(type(X[0]))\n",
    "print(type(X[0][0]))\n",
    "print(X.shape)"
   ]
  },
  {
   "cell_type": "code",
   "execution_count": 91,
   "metadata": {},
   "outputs": [
    {
     "output_type": "stream",
     "name": "stdout",
     "text": [
      "<class 'numpy.ndarray'>\n<class 'numpy.ndarray'>\n(211,)\n"
     ]
    }
   ],
   "source": [
    "print(type(y[0]))\n",
    "print(type(y[0][0]))\n",
    "print(y.shape)"
   ]
  },
  {
   "cell_type": "code",
   "execution_count": 92,
   "metadata": {},
   "outputs": [
    {
     "output_type": "stream",
     "name": "stdout",
     "text": [
      "(800, 800, 3)\n(800, 800, 3)\n"
     ]
    }
   ],
   "source": [
    "print(X[0].shape)\n",
    "print(y[0].shape)"
   ]
  },
  {
   "cell_type": "code",
   "execution_count": 93,
   "metadata": {},
   "outputs": [],
   "source": [
    "X_cnn = list()\n",
    "\n",
    "for tx in X:\n",
    "    tx = tf.convert_to_tensor(tx, dtype=\"float32\")\n",
    "    X_cnn.append(tx)\n",
    "\n",
    "X_cnn = np.asarray(X_cnn, dtype=\"object\")\n",
    "# X_cnn = np.array(X_cnn, dtype=object)\n",
    "# y_cnn = y\n",
    "X = None"
   ]
  },
  {
   "cell_type": "code",
   "execution_count": 94,
   "metadata": {},
   "outputs": [
    {
     "output_type": "execute_result",
     "data": {
      "text/plain": [
       "59"
      ]
     },
     "metadata": {},
     "execution_count": 94
    }
   ],
   "source": [
    "gc.collect()"
   ]
  },
  {
   "cell_type": "code",
   "execution_count": 95,
   "metadata": {},
   "outputs": [],
   "source": [
    "y_cnn = list()\n",
    "\n",
    "for ty in y:\n",
    "    ty = tf.convert_to_tensor(ty, dtype=\"float32\")\n",
    "    y_cnn.append(ty)\n",
    "\n",
    "y_cnn = np.asarray(y_cnn, dtype=object)\n",
    "y = None"
   ]
  },
  {
   "cell_type": "code",
   "execution_count": 96,
   "metadata": {},
   "outputs": [
    {
     "output_type": "execute_result",
     "data": {
      "text/plain": [
       "73"
      ]
     },
     "metadata": {},
     "execution_count": 96
    }
   ],
   "source": [
    "gc.collect()"
   ]
  },
  {
   "cell_type": "code",
   "execution_count": 97,
   "metadata": {},
   "outputs": [],
   "source": [
    "# dividing according to train/test proportions\n",
    "X_train, X_test, y_train, y_test = train_test_split(X_cnn, y_cnn, train_size = trainf, test_size = testf, random_state = randseed)"
   ]
  },
  {
   "cell_type": "code",
   "execution_count": 98,
   "metadata": {},
   "outputs": [
    {
     "output_type": "stream",
     "name": "stdout",
     "text": [
      "training shape (X, y)\nX:  (168, 800, 800, 3)  y:  (168, 800, 800, 3)\ntesting shape (X, y)\nX:  (43, 800, 800, 3)  y:  (43, 800, 800, 3)\ndata types\n<class 'numpy.ndarray'> <class 'numpy.ndarray'> <class 'numpy.ndarray'> <class 'numpy.ndarray'>\n<class 'numpy.ndarray'> <class 'numpy.ndarray'> <class 'numpy.ndarray'> <class 'numpy.ndarray'>\n<class 'numpy.ndarray'> <class 'numpy.ndarray'> <class 'numpy.ndarray'> <class 'numpy.ndarray'>\n<class 'numpy.ndarray'> <class 'numpy.ndarray'> <class 'numpy.ndarray'> <class 'numpy.ndarray'>\n"
     ]
    }
   ],
   "source": [
    "# checking shaped\n",
    "print(\"training shape (X, y)\")\n",
    "print(\"X: \", X_train.shape, \" y: \", y_train.shape)\n",
    "# print(\"X: \", len(X_train), \" y: \", len(y_train))\n",
    "\n",
    "print(\"testing shape (X, y)\")\n",
    "print(\"X: \", X_test.shape, \" y: \", y_test.shape)\n",
    "# print(\"X: \", len(X_test), \" y: \", len(y_test))\n",
    "\n",
    "print(\"data types\")\n",
    "print(type(X_train), type(X_test), type(y_train), type(y_test))\n",
    "print(type(X_train[0]), type(X_test[0]), type(y_train[0]), type(y_test[0]))\n",
    "print(type(X_train[0][0]), type(X_test[0][0]), type(y_train[0][0]), type(y_test[0][0]))\n",
    "print(type(X_train[0][0][0]), type(X_test[0][0][0]), type(y_train[0][0][0]), type(y_test[0][0][0]))"
   ]
  },
  {
   "cell_type": "code",
   "execution_count": 99,
   "metadata": {},
   "outputs": [
    {
     "output_type": "stream",
     "name": "stdout",
     "text": [
      "using std_pad_cnn_rgb_img_data\n"
     ]
    }
   ],
   "source": [
    "if working_img_col == regular_img_col:\n",
    "\n",
    "    Xtf_train = X_train\n",
    "    Xtf_test = X_test\n",
    "    ytf_train = y_train\n",
    "    ytf_test = y_test\n",
    "\n",
    "# only useable in padded images\n",
    "elif working_img_col == padded_img_col:\n",
    "    print(\"using\", working_img_col)\n",
    "    X_train = tf.convert_to_tensor(X_train, dtype=\"float32\")\n",
    "    X_test = tf.convert_to_tensor(X_test, dtype=\"float32\")\n",
    "    y_train = tf.convert_to_tensor(y_train, dtype=\"float32\")\n",
    "    y_test = tf.convert_to_tensor(y_test, dtype=\"float32\")\n",
    "\n",
    "# y_tensor = tf.convert_to_tensor(y, dtype=tf.float23) "
   ]
  },
  {
   "cell_type": "code",
   "execution_count": 100,
   "metadata": {},
   "outputs": [
    {
     "output_type": "execute_result",
     "data": {
      "text/plain": [
       "57"
      ]
     },
     "metadata": {},
     "execution_count": 100
    }
   ],
   "source": [
    "gc.collect()"
   ]
  },
  {
   "cell_type": "code",
   "execution_count": 101,
   "metadata": {},
   "outputs": [
    {
     "output_type": "stream",
     "name": "stdout",
     "text": [
      "CNN filter number: 8\nInput training shape: (800, 800, 3)\nCNN learning batch size: 1\nCNN kernel size: (3, 3)\nCNN pad size: (2, 2)\nDense middle processing units: 192\nOutput prediction shape: (800, 800, 3)\ntraining epochs: 300\n"
     ]
    }
   ],
   "source": [
    "# number of filters or processing units in CNN\n",
    "# the number is because of good practices from computer vision\n",
    "# min 8 max 64, normaly 32 (related to the size of the images)\n",
    "# 16 for now in this test\n",
    "# imgage filters\n",
    "filters = 8\n",
    "print(\"CNN filter number:\", filters)\n",
    "\n",
    "in_shape = X_train[0].shape\n",
    "# in_shape = (None, None, 3)\n",
    "# in_shape = (None, None, 1)\n",
    "# in_shape = (794, 794, 3)\n",
    "print(\"Input training shape:\", in_shape)\n",
    "\n",
    "# batch size\n",
    "bs = int(X_train.shape[0]*0.01)+1\n",
    "bs = 1\n",
    "print(\"CNN learning batch size:\", bs)\n",
    "\n",
    "ksize = (3,3)\n",
    "psize = (2,2)\n",
    "print(\"CNN kernel size:\", ksize)\n",
    "print(\"CNN pad size:\", psize)\n",
    "\n",
    "# neurons/processing units size in the dense layer (THIS SHOULD BE SOM!!!!)\n",
    "mdn = 8*8*3\n",
    "mid_reshape = (8,8,3)\n",
    "print(\"Dense middle processing units:\", mdn)\n",
    "# dn2 = len(XB_set[0])*SECURITY_FACTOR\n",
    "\n",
    "# numero de neuronas de salida\n",
    "# out_shape = X_train[0].shape\n",
    "# out_shape = (None, None, 3)\n",
    "out_shape = in_shape\n",
    "print(\"Output prediction shape:\", out_shape)\n",
    "\n",
    "# axtivation functions\n",
    "inn = \"relu\"\n",
    "act = \"relu\"\n",
    "out = \"softmax\"\n",
    "\n",
    "# loss percentage\n",
    "ldrop = 0.2\n",
    "\n",
    "# padding policy\n",
    "pad = \"same\"\n",
    "\n",
    "# random seed\n",
    "randseed = 42\n",
    "\n",
    "# parameters to compile model\n",
    "# loss function\n",
    "# ls = \"mean_squared_error\"\n",
    "# ls = \"categorical_crossentropy\"\n",
    "ls = \"binary_crossentropy\"\n",
    "\n",
    "# doptimization function\n",
    "opti = \"adam\"\n",
    "# evaluation score\n",
    "met = [\"accuracy\"]\n",
    "\n",
    "# parameters to exeute training\n",
    "# verbose mode\n",
    "ver = 1\n",
    "# training epocha\n",
    "epo = 300\n",
    "print(\"training epochs:\", epo)"
   ]
  },
  {
   "cell_type": "code",
   "execution_count": 103,
   "metadata": {},
   "outputs": [],
   "source": [
    "# model layers\n",
    "# https://stackoverflow.com/questions/45038786/2d-convolutional-neural-networks-with-variable-size-images\n",
    "# to avoid overfit you need to use dropout in someplaces\n",
    "# options:\n",
    "# 1) Mask -> Drop -> LSTM1 -> LSTM2 -> LSTM3 -> Drop -> Dense -> Drop -> LSTM3 -> LSTM2 -> LSTM1 -> Drop -> TimeDistDense\n",
    "# 1) Mask -> Drop -> LSTM1 -> LSTM2 -> LSTM3 -> Dense -> LSTM3 -> LSTM2 -> LSTM1 -> Drop -> TimeDistDense\n",
    "# 2) Mask -> Drop -> LSTM1 -> LSTM2 -> LSTM2 -> Dense -> LSTM2 -> LSTM2 -> LSTM1 -> Drop -> TimeDistDense\n",
    "# 3) Mask -> Drop -> LSTM1 -> LSTM2 -> Drop -> Dense -> Drop -> LSTM2 -> LSTM1 -> Drop -> TimeDistDense\n",
    "# 3) Mask -> Drop -> LSTM1 -> Drop -> Dense -> Drop -> STM1 -> Drop -> TimeDistDense\n",
    "# 5) Mask -> Drop -> LSTM1 -> Drop -> Dense -> Drop -> LSTM1 -> TimeDistDense\n",
    "\n",
    "cnn_layers = (\n",
    "\n",
    "    # input layer (padding and prep)\n",
    "    Input(shape = in_shape, name = \"LayIn\"),\n",
    "    # Conv2D(filters, ksize, activation = act, padding = padp, input_shape = in_shape, name = \"LayIn\"),\n",
    "    # ZeroPadding2D(padding = padsh),\n",
    "\n",
    "    # intermediate convolutional encoder layer\n",
    "    Conv2D(filters, ksize, activation = act, padding = pad, name = \"EnConv1\"),\n",
    "    MaxPooling2D(psize, padding = pad, name = \"EnPool1\"),\n",
    "    Dropout(ldrop, name = \"EnDrop1\"),\n",
    "\n",
    "    # intermediate convolutional encoder layer\n",
    "    Conv2D(int(filters/2), ksize, activation=act, padding = pad, name = \"EnConv2\"),\n",
    "    MaxPooling2D(psize, padding = pad, name = \"EnPool2\"),\n",
    "    Dropout(ldrop, name = \"EnDrop2\"),\n",
    "\n",
    "    # intermediate convolutional encoder layer\n",
    "    # Conv2D(int(filters/4), ksize, activation=act, padding = pad, name = \"EnConv3\"),\n",
    "    # MaxPooling2D(psize, padding = pad, name = \"EnPool3\"),\n",
    "    # Dropout(ldrop, name = \"EnDrop3\"),\n",
    "\n",
    "    # #from 2D to 1D\n",
    "    # Flatten(name = \"LayFlat\"),\n",
    "    # # mid dense encoding layer\n",
    "    # # dense layer for abstraction (THIS SHOULD COULD SOM!!!!)\n",
    "    # Dense(mdn, activation = act, name = \"DenseMid\"),\n",
    "    # Dropout(ldrop, name = \"MidDrop\"),\n",
    "    # # from 1D to 2D\n",
    "    # Reshape(mid_reshape, name = \"layReshape\"),\n",
    "    \n",
    "    # intermediate convolutional decoder layer\n",
    "    Conv2D(int(filters/4), ksize, activation = act, padding = pad, name = \"DeConv1\"),\n",
    "    UpSampling2D(psize, name = \"DeUpsam1\"),\n",
    "    Dropout(ldrop, name = \"DeDrop1\"),\n",
    "\n",
    "    # intermediate convolutional decoder layer\n",
    "    # Conv2D(int(filters/2), ksize, activation = act, padding = pad, name = \"DeConv1\"),\n",
    "    # UpSampling2D(psize, name = \"DeUpsam1\"),\n",
    "    # Dropout(ldrop, name = \"DeDrop1\"),\n",
    "\n",
    "    # intermediate convolutional decoder layer\n",
    "    Conv2D(filters, ksize, activation = act, padding = pad, name = \"DeConv2\"),\n",
    "    UpSampling2D(psize, name = \"DeUpsam2\"),\n",
    "    Dropout(ldrop, name = \"DeDrop2\"),\n",
    "    # capa de salida\n",
    "    # Reshape(inshape),\n",
    "    Conv2D(3, ksize, activation = out, padding = pad, input_shape = out_shape, name = \"LayOut\"),\n",
    ")"
   ]
  },
  {
   "source": [
    "# defining model\n",
    "cnn_model = Sequential(cnn_layers)\n",
    "cnn_model.model_name = \"CNN_Autoencoder\""
   ],
   "cell_type": "code",
   "metadata": {},
   "execution_count": 104,
   "outputs": []
  },
  {
   "cell_type": "code",
   "execution_count": 105,
   "metadata": {},
   "outputs": [
    {
     "output_type": "stream",
     "name": "stdout",
     "text": [
      "Model: \"sequential\"\n_________________________________________________________________\nLayer (type)                 Output Shape              Param #   \n=================================================================\nEnConv1 (Conv2D)             (None, 800, 800, 8)       224       \n_________________________________________________________________\nEnPool1 (MaxPooling2D)       (None, 400, 400, 8)       0         \n_________________________________________________________________\nEnDrop1 (Dropout)            (None, 400, 400, 8)       0         \n_________________________________________________________________\nEnConv2 (Conv2D)             (None, 400, 400, 4)       292       \n_________________________________________________________________\nEnPool2 (MaxPooling2D)       (None, 200, 200, 4)       0         \n_________________________________________________________________\nEnDrop2 (Dropout)            (None, 200, 200, 4)       0         \n_________________________________________________________________\nDeConv1 (Conv2D)             (None, 200, 200, 2)       74        \n_________________________________________________________________\nDeUpsam1 (UpSampling2D)      (None, 400, 400, 2)       0         \n_________________________________________________________________\nDeDrop1 (Dropout)            (None, 400, 400, 2)       0         \n_________________________________________________________________\nDeConv2 (Conv2D)             (None, 400, 400, 8)       152       \n_________________________________________________________________\nDeUpsam2 (UpSampling2D)      (None, 800, 800, 8)       0         \n_________________________________________________________________\nDeDrop2 (Dropout)            (None, 800, 800, 8)       0         \n_________________________________________________________________\nLayOut (Conv2D)              (None, 800, 800, 3)       219       \n=================================================================\nTotal params: 961\nTrainable params: 961\nNon-trainable params: 0\n_________________________________________________________________\n"
     ]
    }
   ],
   "source": [
    "# compile model\n",
    "cnn_model.compile(loss = ls, optimizer = opti, metrics = met)\n",
    "cnn_model.summary()"
   ]
  },
  {
   "cell_type": "code",
   "execution_count": 106,
   "metadata": {},
   "outputs": [],
   "source": [
    "# early stopping condition BECAAUSE THIS ARE TESTS\n",
    "EarlyStopCNN_Acc = EarlyStopping(monitor = \"val_accuracy\", min_delta = 0.01, patience = 30, verbose = 1, mode = \"max\", restore_best_weights = True)"
   ]
  },
  {
   "cell_type": "code",
   "execution_count": 107,
   "metadata": {},
   "outputs": [
    {
     "output_type": "stream",
     "name": "stdout",
     "text": [
      "Epoch 1/300\n",
      "168/168 [==============================] - 90s 531ms/step - loss: 0.6326 - accuracy: 0.3364 - val_loss: 0.4643 - val_accuracy: 0.3218\n",
      "Epoch 2/300\n",
      "168/168 [==============================] - 82s 485ms/step - loss: 0.4608 - accuracy: 0.3184 - val_loss: 0.4586 - val_accuracy: 0.3376\n",
      "Epoch 3/300\n",
      "168/168 [==============================] - 71s 420ms/step - loss: 0.4539 - accuracy: 0.3383 - val_loss: 0.4515 - val_accuracy: 0.3213\n",
      "Epoch 4/300\n",
      "168/168 [==============================] - 75s 447ms/step - loss: 0.4516 - accuracy: 0.3796 - val_loss: 0.4479 - val_accuracy: 0.3219\n",
      "Epoch 5/300\n",
      "168/168 [==============================] - 76s 450ms/step - loss: 0.4500 - accuracy: 0.4081 - val_loss: 0.4442 - val_accuracy: 0.4279\n",
      "Epoch 6/300\n",
      "168/168 [==============================] - 75s 444ms/step - loss: 0.4472 - accuracy: 0.4891 - val_loss: 0.4429 - val_accuracy: 0.6377\n",
      "Epoch 7/300\n",
      "168/168 [==============================] - 71s 423ms/step - loss: 0.4448 - accuracy: 0.5415 - val_loss: 0.4439 - val_accuracy: 0.7113\n",
      "Epoch 8/300\n",
      "168/168 [==============================] - 72s 427ms/step - loss: 0.4434 - accuracy: 0.5935 - val_loss: 0.4392 - val_accuracy: 0.7744\n",
      "Epoch 9/300\n",
      "168/168 [==============================] - 78s 462ms/step - loss: 0.4427 - accuracy: 0.5974 - val_loss: 0.4398 - val_accuracy: 0.7479\n",
      "Epoch 10/300\n",
      "168/168 [==============================] - 77s 457ms/step - loss: 0.4420 - accuracy: 0.5896 - val_loss: 0.4401 - val_accuracy: 0.5148\n",
      "Epoch 11/300\n",
      "168/168 [==============================] - 79s 473ms/step - loss: 0.4415 - accuracy: 0.5559 - val_loss: 0.4394 - val_accuracy: 0.5153\n",
      "Epoch 12/300\n",
      "168/168 [==============================] - 78s 462ms/step - loss: 0.4412 - accuracy: 0.5255 - val_loss: 0.4395 - val_accuracy: 0.5118\n",
      "Epoch 13/300\n",
      "168/168 [==============================] - 74s 440ms/step - loss: 0.4407 - accuracy: 0.5088 - val_loss: 0.4385 - val_accuracy: 0.5074\n",
      "Epoch 14/300\n",
      "168/168 [==============================] - 76s 453ms/step - loss: 0.4403 - accuracy: 0.5060 - val_loss: 0.4376 - val_accuracy: 0.5000\n",
      "Epoch 15/300\n",
      "168/168 [==============================] - 85s 509ms/step - loss: 0.4400 - accuracy: 0.5059 - val_loss: 0.4370 - val_accuracy: 0.4897\n",
      "Epoch 16/300\n",
      "168/168 [==============================] - 89s 531ms/step - loss: 0.4398 - accuracy: 0.5065 - val_loss: 0.4366 - val_accuracy: 0.4830\n",
      "Epoch 17/300\n",
      "168/168 [==============================] - 86s 511ms/step - loss: 0.4396 - accuracy: 0.5067 - val_loss: 0.4364 - val_accuracy: 0.4868\n",
      "Epoch 18/300\n",
      "168/168 [==============================] - 71s 424ms/step - loss: 0.4394 - accuracy: 0.5099 - val_loss: 0.4361 - val_accuracy: 0.4869\n",
      "Epoch 19/300\n",
      "168/168 [==============================] - 77s 459ms/step - loss: 0.4393 - accuracy: 0.5096 - val_loss: 0.4353 - val_accuracy: 0.4958\n",
      "Epoch 20/300\n",
      "168/168 [==============================] - 78s 465ms/step - loss: 0.4392 - accuracy: 0.5115 - val_loss: 0.4347 - val_accuracy: 0.4966\n",
      "Epoch 21/300\n",
      "168/168 [==============================] - 80s 476ms/step - loss: 0.4390 - accuracy: 0.5132 - val_loss: 0.4349 - val_accuracy: 0.4887\n",
      "Epoch 22/300\n",
      "168/168 [==============================] - 88s 525ms/step - loss: 0.4389 - accuracy: 0.5141 - val_loss: 0.4343 - val_accuracy: 0.4953\n",
      "Epoch 23/300\n",
      "168/168 [==============================] - 84s 503ms/step - loss: 0.4388 - accuracy: 0.5187 - val_loss: 0.4346 - val_accuracy: 0.4904\n",
      "Epoch 24/300\n",
      "168/168 [==============================] - 91s 541ms/step - loss: 0.4388 - accuracy: 0.5183 - val_loss: 0.4343 - val_accuracy: 0.4946\n",
      "Epoch 25/300\n",
      "168/168 [==============================] - 87s 519ms/step - loss: 0.4387 - accuracy: 0.5216 - val_loss: 0.4340 - val_accuracy: 0.4971\n",
      "Epoch 26/300\n",
      "168/168 [==============================] - 98s 586ms/step - loss: 0.4386 - accuracy: 0.5237 - val_loss: 0.4341 - val_accuracy: 0.5013\n",
      "Epoch 27/300\n",
      "168/168 [==============================] - 86s 513ms/step - loss: 0.4385 - accuracy: 0.5267 - val_loss: 0.4337 - val_accuracy: 0.5040\n",
      "Epoch 28/300\n",
      "168/168 [==============================] - 64s 379ms/step - loss: 0.4385 - accuracy: 0.5281 - val_loss: 0.4336 - val_accuracy: 0.5060\n",
      "Epoch 29/300\n",
      "168/168 [==============================] - 72s 426ms/step - loss: 0.4384 - accuracy: 0.5305 - val_loss: 0.4335 - val_accuracy: 0.5121\n",
      "Epoch 30/300\n",
      "168/168 [==============================] - 96s 571ms/step - loss: 0.4384 - accuracy: 0.5343 - val_loss: 0.4333 - val_accuracy: 0.5123\n",
      "Epoch 31/300\n",
      "168/168 [==============================] - 66s 393ms/step - loss: 0.4383 - accuracy: 0.5365 - val_loss: 0.4333 - val_accuracy: 0.5118\n",
      "Epoch 32/300\n",
      "168/168 [==============================] - 64s 380ms/step - loss: 0.4383 - accuracy: 0.5397 - val_loss: 0.4330 - val_accuracy: 0.5188\n",
      "Epoch 33/300\n",
      "168/168 [==============================] - 70s 415ms/step - loss: 0.4383 - accuracy: 0.5408 - val_loss: 0.4330 - val_accuracy: 0.5203\n",
      "Epoch 34/300\n",
      "168/168 [==============================] - 65s 386ms/step - loss: 0.4382 - accuracy: 0.5433 - val_loss: 0.4327 - val_accuracy: 0.5255\n",
      "Epoch 35/300\n",
      "168/168 [==============================] - 68s 405ms/step - loss: 0.4382 - accuracy: 0.5453 - val_loss: 0.4325 - val_accuracy: 0.5319\n",
      "Epoch 36/300\n",
      "168/168 [==============================] - 71s 425ms/step - loss: 0.4382 - accuracy: 0.5468 - val_loss: 0.4325 - val_accuracy: 0.5408\n",
      "Epoch 37/300\n",
      "168/168 [==============================] - 75s 447ms/step - loss: 0.4382 - accuracy: 0.5483 - val_loss: 0.4325 - val_accuracy: 0.5445\n",
      "Epoch 38/300\n",
      "168/168 [==============================] - 80s 475ms/step - loss: 0.4380 - accuracy: 0.5511 - val_loss: 0.4326 - val_accuracy: 0.5602\n",
      "Restoring model weights from the end of the best epoch.\n",
      "Epoch 00038: early stopping\n"
     ]
    }
   ],
   "source": [
    "# training model\n",
    "history_cnn = cnn_model.fit(\n",
    "    x = X_train, \n",
    "    y = y_train,\n",
    "    epochs = epo, \n",
    "    verbose = ver, \n",
    "    workers = 6,\n",
    "    batch_size = bs, \n",
    "    callbacks = [EarlyStopCNN_Acc],\n",
    "    shuffle = False,\n",
    "    use_multiprocessing = True,\n",
    "    validation_data = (X_test, y_test),\n",
    ")"
   ]
  },
  {
   "cell_type": "code",
   "execution_count": 108,
   "metadata": {},
   "outputs": [
    {
     "output_type": "stream",
     "name": "stdout",
     "text": [
      "2/2 [==============================] - 4s 907ms/step - loss: 0.4392 - accuracy: 0.7744\n"
     ]
    }
   ],
   "source": [
    "# evaluationg model\n",
    "cnn_eval = cnn_model.evaluate(x = X_test, y = y_test)"
   ]
  },
  {
   "cell_type": "code",
   "execution_count": 109,
   "metadata": {},
   "outputs": [
    {
     "output_type": "stream",
     "name": "stdout",
     "text": [
      "avg loss:  0.43920108675956726\navg acc:  0.7743715047836304\n"
     ]
    }
   ],
   "source": [
    "# general evaluation \n",
    "print(\"avg loss: \", cnn_eval[0])\n",
    "print(\"avg acc: \", cnn_eval[1])"
   ]
  },
  {
   "cell_type": "code",
   "execution_count": 110,
   "metadata": {},
   "outputs": [
    {
     "output_type": "stream",
     "name": "stdout",
     "text": [
      "43/43 [==============================] - 4s 81ms/step\n"
     ]
    }
   ],
   "source": [
    "# testing model\n",
    "cnn_results = cnn_model.predict(X_test, batch_size = bs, verbose = 1)#, batch_size = bs)"
   ]
  },
  {
   "cell_type": "code",
   "execution_count": 111,
   "metadata": {},
   "outputs": [
    {
     "output_type": "stream",
     "name": "stdout",
     "text": [
      "The trained  model is: c:\\Users\\Felipe\\Documents\\GitHub\\sa-artea\\VVG-MLModel-Trainer\\Data\\Models\\vvg_cnn_autoencoder\n",
      "INFO:tensorflow:Assets written to: c:\\Users\\Felipe\\Documents\\GitHub\\sa-artea\\VVG-MLModel-Trainer\\Data\\Models\\vvg_cnn_autoencoder\\assets\n"
     ]
    }
   ],
   "source": [
    "# saving model\n",
    "wdir = os.getcwd()\n",
    "models_folder = \"Models\"\n",
    "model_fname = \"vvg_cnn_autoencoder\"\n",
    "model_fpn = os.path.join(root_folder, dataf, models_folder, model_fname)\n",
    "print(\"The trained  model is:\", model_fpn)\n",
    "cnn_model.save(model_fpn)"
   ]
  },
  {
   "cell_type": "code",
   "execution_count": 112,
   "metadata": {},
   "outputs": [
    {
     "output_type": "stream",
     "name": "stdout",
     "text": [
      "(43, 800, 800, 3)\n"
     ]
    }
   ],
   "source": [
    "# cheking test shape\n",
    "print(cnn_results.shape)"
   ]
  },
  {
   "cell_type": "code",
   "execution_count": 113,
   "metadata": {},
   "outputs": [
    {
     "output_type": "stream",
     "name": "stderr",
     "text": [
      "<ipython-input-113-8fe4924f5382>:21: UserWarning: Matplotlib is currently using module://ipykernel.pylab.backend_inline, which is a non-GUI backend, so cannot show the figure.\n  fig.show()\n"
     ]
    },
    {
     "output_type": "display_data",
     "data": {
      "text/plain": "<Figure size 1152x576 with 2 Axes>",
      "image/svg+xml": "<?xml version=\"1.0\" encoding=\"utf-8\" standalone=\"no\"?>\r\n<!DOCTYPE svg PUBLIC \"-//W3C//DTD SVG 1.1//EN\"\r\n  \"http://www.w3.org/Graphics/SVG/1.1/DTD/svg11.dtd\">\r\n<svg height=\"543.75625pt\" version=\"1.1\" viewBox=\"0 0 1060.34375 543.75625\" width=\"1060.34375pt\" xmlns=\"http://www.w3.org/2000/svg\" xmlns:xlink=\"http://www.w3.org/1999/xlink\">\r\n <metadata>\r\n  <rdf:RDF xmlns:cc=\"http://creativecommons.org/ns#\" xmlns:dc=\"http://purl.org/dc/elements/1.1/\" xmlns:rdf=\"http://www.w3.org/1999/02/22-rdf-syntax-ns#\">\r\n   <cc:Work>\r\n    <dc:type rdf:resource=\"http://purl.org/dc/dcmitype/StillImage\"/>\r\n    <dc:date>2021-05-17T18:32:51.834664</dc:date>\r\n    <dc:format>image/svg+xml</dc:format>\r\n    <dc:creator>\r\n     <cc:Agent>\r\n      <dc:title>Matplotlib v3.4.1, https://matplotlib.org/</dc:title>\r\n     </cc:Agent>\r\n    </dc:creator>\r\n   </cc:Work>\r\n  </rdf:RDF>\r\n </metadata>\r\n <defs>\r\n  <style type=\"text/css\">*{stroke-linecap:butt;stroke-linejoin:round;}</style>\r\n </defs>\r\n <g id=\"figure_1\">\r\n  <g id=\"patch_1\">\r\n   <path d=\"M 0 543.75625 \r\nL 1060.34375 543.75625 \r\nL 1060.34375 0 \r\nL 0 0 \r\nz\r\n\" style=\"fill:none;\"/>\r\n  </g>\r\n  <g id=\"axes_1\">\r\n   <g id=\"patch_2\">\r\n    <path d=\"M 50.14375 506.2 \r\nL 455.961932 506.2 \r\nL 455.961932 71.32 \r\nL 50.14375 71.32 \r\nz\r\n\" style=\"fill:#ffffff;\"/>\r\n   </g>\r\n   <g id=\"matplotlib.axis_1\">\r\n    <g id=\"xtick_1\">\r\n     <g id=\"line2d_1\">\r\n      <path clip-path=\"url(#p5cd82254e1)\" d=\"M 68.590031 506.2 \r\nL 68.590031 71.32 \r\n\" style=\"fill:none;stroke:#b0b0b0;stroke-linecap:square;stroke-width:0.8;\"/>\r\n     </g>\r\n     <g id=\"line2d_2\">\r\n      <defs>\r\n       <path d=\"M 0 0 \r\nL 0 3.5 \r\n\" id=\"m2cdcbe727e\" style=\"stroke:#000000;stroke-width:0.8;\"/>\r\n      </defs>\r\n      <g>\r\n       <use style=\"stroke:#000000;stroke-width:0.8;\" x=\"68.590031\" xlink:href=\"#m2cdcbe727e\" y=\"506.2\"/>\r\n      </g>\r\n     </g>\r\n     <g id=\"text_1\">\r\n      <!-- 0 -->\r\n      <g transform=\"translate(65.408781 520.798438)scale(0.1 -0.1)\">\r\n       <defs>\r\n        <path d=\"M 2034 4250 \r\nQ 1547 4250 1301 3770 \r\nQ 1056 3291 1056 2328 \r\nQ 1056 1369 1301 889 \r\nQ 1547 409 2034 409 \r\nQ 2525 409 2770 889 \r\nQ 3016 1369 3016 2328 \r\nQ 3016 3291 2770 3770 \r\nQ 2525 4250 2034 4250 \r\nz\r\nM 2034 4750 \r\nQ 2819 4750 3233 4129 \r\nQ 3647 3509 3647 2328 \r\nQ 3647 1150 3233 529 \r\nQ 2819 -91 2034 -91 \r\nQ 1250 -91 836 529 \r\nQ 422 1150 422 2328 \r\nQ 422 3509 836 4129 \r\nQ 1250 4750 2034 4750 \r\nz\r\n\" id=\"DejaVuSans-30\" transform=\"scale(0.015625)\"/>\r\n       </defs>\r\n       <use xlink:href=\"#DejaVuSans-30\"/>\r\n      </g>\r\n     </g>\r\n    </g>\r\n    <g id=\"xtick_2\">\r\n     <g id=\"line2d_3\">\r\n      <path clip-path=\"url(#p5cd82254e1)\" d=\"M 118.444844 506.2 \r\nL 118.444844 71.32 \r\n\" style=\"fill:none;stroke:#b0b0b0;stroke-linecap:square;stroke-width:0.8;\"/>\r\n     </g>\r\n     <g id=\"line2d_4\">\r\n      <g>\r\n       <use style=\"stroke:#000000;stroke-width:0.8;\" x=\"118.444844\" xlink:href=\"#m2cdcbe727e\" y=\"506.2\"/>\r\n      </g>\r\n     </g>\r\n     <g id=\"text_2\">\r\n      <!-- 5 -->\r\n      <g transform=\"translate(115.263594 520.798438)scale(0.1 -0.1)\">\r\n       <defs>\r\n        <path d=\"M 691 4666 \r\nL 3169 4666 \r\nL 3169 4134 \r\nL 1269 4134 \r\nL 1269 2991 \r\nQ 1406 3038 1543 3061 \r\nQ 1681 3084 1819 3084 \r\nQ 2600 3084 3056 2656 \r\nQ 3513 2228 3513 1497 \r\nQ 3513 744 3044 326 \r\nQ 2575 -91 1722 -91 \r\nQ 1428 -91 1123 -41 \r\nQ 819 9 494 109 \r\nL 494 744 \r\nQ 775 591 1075 516 \r\nQ 1375 441 1709 441 \r\nQ 2250 441 2565 725 \r\nQ 2881 1009 2881 1497 \r\nQ 2881 1984 2565 2268 \r\nQ 2250 2553 1709 2553 \r\nQ 1456 2553 1204 2497 \r\nQ 953 2441 691 2322 \r\nL 691 4666 \r\nz\r\n\" id=\"DejaVuSans-35\" transform=\"scale(0.015625)\"/>\r\n       </defs>\r\n       <use xlink:href=\"#DejaVuSans-35\"/>\r\n      </g>\r\n     </g>\r\n    </g>\r\n    <g id=\"xtick_3\">\r\n     <g id=\"line2d_5\">\r\n      <path clip-path=\"url(#p5cd82254e1)\" d=\"M 168.299658 506.2 \r\nL 168.299658 71.32 \r\n\" style=\"fill:none;stroke:#b0b0b0;stroke-linecap:square;stroke-width:0.8;\"/>\r\n     </g>\r\n     <g id=\"line2d_6\">\r\n      <g>\r\n       <use style=\"stroke:#000000;stroke-width:0.8;\" x=\"168.299658\" xlink:href=\"#m2cdcbe727e\" y=\"506.2\"/>\r\n      </g>\r\n     </g>\r\n     <g id=\"text_3\">\r\n      <!-- 10 -->\r\n      <g transform=\"translate(161.937158 520.798438)scale(0.1 -0.1)\">\r\n       <defs>\r\n        <path d=\"M 794 531 \r\nL 1825 531 \r\nL 1825 4091 \r\nL 703 3866 \r\nL 703 4441 \r\nL 1819 4666 \r\nL 2450 4666 \r\nL 2450 531 \r\nL 3481 531 \r\nL 3481 0 \r\nL 794 0 \r\nL 794 531 \r\nz\r\n\" id=\"DejaVuSans-31\" transform=\"scale(0.015625)\"/>\r\n       </defs>\r\n       <use xlink:href=\"#DejaVuSans-31\"/>\r\n       <use x=\"63.623047\" xlink:href=\"#DejaVuSans-30\"/>\r\n      </g>\r\n     </g>\r\n    </g>\r\n    <g id=\"xtick_4\">\r\n     <g id=\"line2d_7\">\r\n      <path clip-path=\"url(#p5cd82254e1)\" d=\"M 218.154471 506.2 \r\nL 218.154471 71.32 \r\n\" style=\"fill:none;stroke:#b0b0b0;stroke-linecap:square;stroke-width:0.8;\"/>\r\n     </g>\r\n     <g id=\"line2d_8\">\r\n      <g>\r\n       <use style=\"stroke:#000000;stroke-width:0.8;\" x=\"218.154471\" xlink:href=\"#m2cdcbe727e\" y=\"506.2\"/>\r\n      </g>\r\n     </g>\r\n     <g id=\"text_4\">\r\n      <!-- 15 -->\r\n      <g transform=\"translate(211.791971 520.798438)scale(0.1 -0.1)\">\r\n       <use xlink:href=\"#DejaVuSans-31\"/>\r\n       <use x=\"63.623047\" xlink:href=\"#DejaVuSans-35\"/>\r\n      </g>\r\n     </g>\r\n    </g>\r\n    <g id=\"xtick_5\">\r\n     <g id=\"line2d_9\">\r\n      <path clip-path=\"url(#p5cd82254e1)\" d=\"M 268.009285 506.2 \r\nL 268.009285 71.32 \r\n\" style=\"fill:none;stroke:#b0b0b0;stroke-linecap:square;stroke-width:0.8;\"/>\r\n     </g>\r\n     <g id=\"line2d_10\">\r\n      <g>\r\n       <use style=\"stroke:#000000;stroke-width:0.8;\" x=\"268.009285\" xlink:href=\"#m2cdcbe727e\" y=\"506.2\"/>\r\n      </g>\r\n     </g>\r\n     <g id=\"text_5\">\r\n      <!-- 20 -->\r\n      <g transform=\"translate(261.646785 520.798438)scale(0.1 -0.1)\">\r\n       <defs>\r\n        <path d=\"M 1228 531 \r\nL 3431 531 \r\nL 3431 0 \r\nL 469 0 \r\nL 469 531 \r\nQ 828 903 1448 1529 \r\nQ 2069 2156 2228 2338 \r\nQ 2531 2678 2651 2914 \r\nQ 2772 3150 2772 3378 \r\nQ 2772 3750 2511 3984 \r\nQ 2250 4219 1831 4219 \r\nQ 1534 4219 1204 4116 \r\nQ 875 4013 500 3803 \r\nL 500 4441 \r\nQ 881 4594 1212 4672 \r\nQ 1544 4750 1819 4750 \r\nQ 2544 4750 2975 4387 \r\nQ 3406 4025 3406 3419 \r\nQ 3406 3131 3298 2873 \r\nQ 3191 2616 2906 2266 \r\nQ 2828 2175 2409 1742 \r\nQ 1991 1309 1228 531 \r\nz\r\n\" id=\"DejaVuSans-32\" transform=\"scale(0.015625)\"/>\r\n       </defs>\r\n       <use xlink:href=\"#DejaVuSans-32\"/>\r\n       <use x=\"63.623047\" xlink:href=\"#DejaVuSans-30\"/>\r\n      </g>\r\n     </g>\r\n    </g>\r\n    <g id=\"xtick_6\">\r\n     <g id=\"line2d_11\">\r\n      <path clip-path=\"url(#p5cd82254e1)\" d=\"M 317.864098 506.2 \r\nL 317.864098 71.32 \r\n\" style=\"fill:none;stroke:#b0b0b0;stroke-linecap:square;stroke-width:0.8;\"/>\r\n     </g>\r\n     <g id=\"line2d_12\">\r\n      <g>\r\n       <use style=\"stroke:#000000;stroke-width:0.8;\" x=\"317.864098\" xlink:href=\"#m2cdcbe727e\" y=\"506.2\"/>\r\n      </g>\r\n     </g>\r\n     <g id=\"text_6\">\r\n      <!-- 25 -->\r\n      <g transform=\"translate(311.501598 520.798438)scale(0.1 -0.1)\">\r\n       <use xlink:href=\"#DejaVuSans-32\"/>\r\n       <use x=\"63.623047\" xlink:href=\"#DejaVuSans-35\"/>\r\n      </g>\r\n     </g>\r\n    </g>\r\n    <g id=\"xtick_7\">\r\n     <g id=\"line2d_13\">\r\n      <path clip-path=\"url(#p5cd82254e1)\" d=\"M 367.718912 506.2 \r\nL 367.718912 71.32 \r\n\" style=\"fill:none;stroke:#b0b0b0;stroke-linecap:square;stroke-width:0.8;\"/>\r\n     </g>\r\n     <g id=\"line2d_14\">\r\n      <g>\r\n       <use style=\"stroke:#000000;stroke-width:0.8;\" x=\"367.718912\" xlink:href=\"#m2cdcbe727e\" y=\"506.2\"/>\r\n      </g>\r\n     </g>\r\n     <g id=\"text_7\">\r\n      <!-- 30 -->\r\n      <g transform=\"translate(361.356412 520.798438)scale(0.1 -0.1)\">\r\n       <defs>\r\n        <path d=\"M 2597 2516 \r\nQ 3050 2419 3304 2112 \r\nQ 3559 1806 3559 1356 \r\nQ 3559 666 3084 287 \r\nQ 2609 -91 1734 -91 \r\nQ 1441 -91 1130 -33 \r\nQ 819 25 488 141 \r\nL 488 750 \r\nQ 750 597 1062 519 \r\nQ 1375 441 1716 441 \r\nQ 2309 441 2620 675 \r\nQ 2931 909 2931 1356 \r\nQ 2931 1769 2642 2001 \r\nQ 2353 2234 1838 2234 \r\nL 1294 2234 \r\nL 1294 2753 \r\nL 1863 2753 \r\nQ 2328 2753 2575 2939 \r\nQ 2822 3125 2822 3475 \r\nQ 2822 3834 2567 4026 \r\nQ 2313 4219 1838 4219 \r\nQ 1578 4219 1281 4162 \r\nQ 984 4106 628 3988 \r\nL 628 4550 \r\nQ 988 4650 1302 4700 \r\nQ 1616 4750 1894 4750 \r\nQ 2613 4750 3031 4423 \r\nQ 3450 4097 3450 3541 \r\nQ 3450 3153 3228 2886 \r\nQ 3006 2619 2597 2516 \r\nz\r\n\" id=\"DejaVuSans-33\" transform=\"scale(0.015625)\"/>\r\n       </defs>\r\n       <use xlink:href=\"#DejaVuSans-33\"/>\r\n       <use x=\"63.623047\" xlink:href=\"#DejaVuSans-30\"/>\r\n      </g>\r\n     </g>\r\n    </g>\r\n    <g id=\"xtick_8\">\r\n     <g id=\"line2d_15\">\r\n      <path clip-path=\"url(#p5cd82254e1)\" d=\"M 417.573725 506.2 \r\nL 417.573725 71.32 \r\n\" style=\"fill:none;stroke:#b0b0b0;stroke-linecap:square;stroke-width:0.8;\"/>\r\n     </g>\r\n     <g id=\"line2d_16\">\r\n      <g>\r\n       <use style=\"stroke:#000000;stroke-width:0.8;\" x=\"417.573725\" xlink:href=\"#m2cdcbe727e\" y=\"506.2\"/>\r\n      </g>\r\n     </g>\r\n     <g id=\"text_8\">\r\n      <!-- 35 -->\r\n      <g transform=\"translate(411.211225 520.798438)scale(0.1 -0.1)\">\r\n       <use xlink:href=\"#DejaVuSans-33\"/>\r\n       <use x=\"63.623047\" xlink:href=\"#DejaVuSans-35\"/>\r\n      </g>\r\n     </g>\r\n    </g>\r\n    <g id=\"text_9\">\r\n     <!-- Epoch [cycle] -->\r\n     <g transform=\"translate(219.327841 534.476563)scale(0.1 -0.1)\">\r\n      <defs>\r\n       <path d=\"M 628 4666 \r\nL 3578 4666 \r\nL 3578 4134 \r\nL 1259 4134 \r\nL 1259 2753 \r\nL 3481 2753 \r\nL 3481 2222 \r\nL 1259 2222 \r\nL 1259 531 \r\nL 3634 531 \r\nL 3634 0 \r\nL 628 0 \r\nL 628 4666 \r\nz\r\n\" id=\"DejaVuSans-45\" transform=\"scale(0.015625)\"/>\r\n       <path d=\"M 1159 525 \r\nL 1159 -1331 \r\nL 581 -1331 \r\nL 581 3500 \r\nL 1159 3500 \r\nL 1159 2969 \r\nQ 1341 3281 1617 3432 \r\nQ 1894 3584 2278 3584 \r\nQ 2916 3584 3314 3078 \r\nQ 3713 2572 3713 1747 \r\nQ 3713 922 3314 415 \r\nQ 2916 -91 2278 -91 \r\nQ 1894 -91 1617 61 \r\nQ 1341 213 1159 525 \r\nz\r\nM 3116 1747 \r\nQ 3116 2381 2855 2742 \r\nQ 2594 3103 2138 3103 \r\nQ 1681 3103 1420 2742 \r\nQ 1159 2381 1159 1747 \r\nQ 1159 1113 1420 752 \r\nQ 1681 391 2138 391 \r\nQ 2594 391 2855 752 \r\nQ 3116 1113 3116 1747 \r\nz\r\n\" id=\"DejaVuSans-70\" transform=\"scale(0.015625)\"/>\r\n       <path d=\"M 1959 3097 \r\nQ 1497 3097 1228 2736 \r\nQ 959 2375 959 1747 \r\nQ 959 1119 1226 758 \r\nQ 1494 397 1959 397 \r\nQ 2419 397 2687 759 \r\nQ 2956 1122 2956 1747 \r\nQ 2956 2369 2687 2733 \r\nQ 2419 3097 1959 3097 \r\nz\r\nM 1959 3584 \r\nQ 2709 3584 3137 3096 \r\nQ 3566 2609 3566 1747 \r\nQ 3566 888 3137 398 \r\nQ 2709 -91 1959 -91 \r\nQ 1206 -91 779 398 \r\nQ 353 888 353 1747 \r\nQ 353 2609 779 3096 \r\nQ 1206 3584 1959 3584 \r\nz\r\n\" id=\"DejaVuSans-6f\" transform=\"scale(0.015625)\"/>\r\n       <path d=\"M 3122 3366 \r\nL 3122 2828 \r\nQ 2878 2963 2633 3030 \r\nQ 2388 3097 2138 3097 \r\nQ 1578 3097 1268 2742 \r\nQ 959 2388 959 1747 \r\nQ 959 1106 1268 751 \r\nQ 1578 397 2138 397 \r\nQ 2388 397 2633 464 \r\nQ 2878 531 3122 666 \r\nL 3122 134 \r\nQ 2881 22 2623 -34 \r\nQ 2366 -91 2075 -91 \r\nQ 1284 -91 818 406 \r\nQ 353 903 353 1747 \r\nQ 353 2603 823 3093 \r\nQ 1294 3584 2113 3584 \r\nQ 2378 3584 2631 3529 \r\nQ 2884 3475 3122 3366 \r\nz\r\n\" id=\"DejaVuSans-63\" transform=\"scale(0.015625)\"/>\r\n       <path d=\"M 3513 2113 \r\nL 3513 0 \r\nL 2938 0 \r\nL 2938 2094 \r\nQ 2938 2591 2744 2837 \r\nQ 2550 3084 2163 3084 \r\nQ 1697 3084 1428 2787 \r\nQ 1159 2491 1159 1978 \r\nL 1159 0 \r\nL 581 0 \r\nL 581 4863 \r\nL 1159 4863 \r\nL 1159 2956 \r\nQ 1366 3272 1645 3428 \r\nQ 1925 3584 2291 3584 \r\nQ 2894 3584 3203 3211 \r\nQ 3513 2838 3513 2113 \r\nz\r\n\" id=\"DejaVuSans-68\" transform=\"scale(0.015625)\"/>\r\n       <path id=\"DejaVuSans-20\" transform=\"scale(0.015625)\"/>\r\n       <path d=\"M 550 4863 \r\nL 1875 4863 \r\nL 1875 4416 \r\nL 1125 4416 \r\nL 1125 -397 \r\nL 1875 -397 \r\nL 1875 -844 \r\nL 550 -844 \r\nL 550 4863 \r\nz\r\n\" id=\"DejaVuSans-5b\" transform=\"scale(0.015625)\"/>\r\n       <path d=\"M 2059 -325 \r\nQ 1816 -950 1584 -1140 \r\nQ 1353 -1331 966 -1331 \r\nL 506 -1331 \r\nL 506 -850 \r\nL 844 -850 \r\nQ 1081 -850 1212 -737 \r\nQ 1344 -625 1503 -206 \r\nL 1606 56 \r\nL 191 3500 \r\nL 800 3500 \r\nL 1894 763 \r\nL 2988 3500 \r\nL 3597 3500 \r\nL 2059 -325 \r\nz\r\n\" id=\"DejaVuSans-79\" transform=\"scale(0.015625)\"/>\r\n       <path d=\"M 603 4863 \r\nL 1178 4863 \r\nL 1178 0 \r\nL 603 0 \r\nL 603 4863 \r\nz\r\n\" id=\"DejaVuSans-6c\" transform=\"scale(0.015625)\"/>\r\n       <path d=\"M 3597 1894 \r\nL 3597 1613 \r\nL 953 1613 \r\nQ 991 1019 1311 708 \r\nQ 1631 397 2203 397 \r\nQ 2534 397 2845 478 \r\nQ 3156 559 3463 722 \r\nL 3463 178 \r\nQ 3153 47 2828 -22 \r\nQ 2503 -91 2169 -91 \r\nQ 1331 -91 842 396 \r\nQ 353 884 353 1716 \r\nQ 353 2575 817 3079 \r\nQ 1281 3584 2069 3584 \r\nQ 2775 3584 3186 3129 \r\nQ 3597 2675 3597 1894 \r\nz\r\nM 3022 2063 \r\nQ 3016 2534 2758 2815 \r\nQ 2500 3097 2075 3097 \r\nQ 1594 3097 1305 2825 \r\nQ 1016 2553 972 2059 \r\nL 3022 2063 \r\nz\r\n\" id=\"DejaVuSans-65\" transform=\"scale(0.015625)\"/>\r\n       <path d=\"M 1947 4863 \r\nL 1947 -844 \r\nL 622 -844 \r\nL 622 -397 \r\nL 1369 -397 \r\nL 1369 4416 \r\nL 622 4416 \r\nL 622 4863 \r\nL 1947 4863 \r\nz\r\n\" id=\"DejaVuSans-5d\" transform=\"scale(0.015625)\"/>\r\n      </defs>\r\n      <use xlink:href=\"#DejaVuSans-45\"/>\r\n      <use x=\"63.183594\" xlink:href=\"#DejaVuSans-70\"/>\r\n      <use x=\"126.660156\" xlink:href=\"#DejaVuSans-6f\"/>\r\n      <use x=\"187.841797\" xlink:href=\"#DejaVuSans-63\"/>\r\n      <use x=\"242.822266\" xlink:href=\"#DejaVuSans-68\"/>\r\n      <use x=\"306.201172\" xlink:href=\"#DejaVuSans-20\"/>\r\n      <use x=\"337.988281\" xlink:href=\"#DejaVuSans-5b\"/>\r\n      <use x=\"377.001953\" xlink:href=\"#DejaVuSans-63\"/>\r\n      <use x=\"431.982422\" xlink:href=\"#DejaVuSans-79\"/>\r\n      <use x=\"491.162109\" xlink:href=\"#DejaVuSans-63\"/>\r\n      <use x=\"546.142578\" xlink:href=\"#DejaVuSans-6c\"/>\r\n      <use x=\"573.925781\" xlink:href=\"#DejaVuSans-65\"/>\r\n      <use x=\"635.449219\" xlink:href=\"#DejaVuSans-5d\"/>\r\n     </g>\r\n    </g>\r\n   </g>\r\n   <g id=\"matplotlib.axis_2\">\r\n    <g id=\"ytick_1\">\r\n     <g id=\"line2d_17\">\r\n      <path clip-path=\"url(#p5cd82254e1)\" d=\"M 50.14375 457.499648 \r\nL 455.961932 457.499648 \r\n\" style=\"fill:none;stroke:#b0b0b0;stroke-linecap:square;stroke-width:0.8;\"/>\r\n     </g>\r\n     <g id=\"line2d_18\">\r\n      <defs>\r\n       <path d=\"M 0 0 \r\nL -3.5 0 \r\n\" id=\"m6ad944ada0\" style=\"stroke:#000000;stroke-width:0.8;\"/>\r\n      </defs>\r\n      <g>\r\n       <use style=\"stroke:#000000;stroke-width:0.8;\" x=\"50.14375\" xlink:href=\"#m6ad944ada0\" y=\"457.499648\"/>\r\n      </g>\r\n     </g>\r\n     <g id=\"text_10\">\r\n      <!-- 0.44 -->\r\n      <g transform=\"translate(20.878125 461.298867)scale(0.1 -0.1)\">\r\n       <defs>\r\n        <path d=\"M 684 794 \r\nL 1344 794 \r\nL 1344 0 \r\nL 684 0 \r\nL 684 794 \r\nz\r\n\" id=\"DejaVuSans-2e\" transform=\"scale(0.015625)\"/>\r\n        <path d=\"M 2419 4116 \r\nL 825 1625 \r\nL 2419 1625 \r\nL 2419 4116 \r\nz\r\nM 2253 4666 \r\nL 3047 4666 \r\nL 3047 1625 \r\nL 3713 1625 \r\nL 3713 1100 \r\nL 3047 1100 \r\nL 3047 0 \r\nL 2419 0 \r\nL 2419 1100 \r\nL 313 1100 \r\nL 313 1709 \r\nL 2253 4666 \r\nz\r\n\" id=\"DejaVuSans-34\" transform=\"scale(0.015625)\"/>\r\n       </defs>\r\n       <use xlink:href=\"#DejaVuSans-30\"/>\r\n       <use x=\"63.623047\" xlink:href=\"#DejaVuSans-2e\"/>\r\n       <use x=\"95.410156\" xlink:href=\"#DejaVuSans-34\"/>\r\n       <use x=\"159.033203\" xlink:href=\"#DejaVuSans-34\"/>\r\n      </g>\r\n     </g>\r\n    </g>\r\n    <g id=\"ytick_2\">\r\n     <g id=\"line2d_19\">\r\n      <path clip-path=\"url(#p5cd82254e1)\" d=\"M 50.14375 392.871819 \r\nL 455.961932 392.871819 \r\n\" style=\"fill:none;stroke:#b0b0b0;stroke-linecap:square;stroke-width:0.8;\"/>\r\n     </g>\r\n     <g id=\"line2d_20\">\r\n      <g>\r\n       <use style=\"stroke:#000000;stroke-width:0.8;\" x=\"50.14375\" xlink:href=\"#m6ad944ada0\" y=\"392.871819\"/>\r\n      </g>\r\n     </g>\r\n     <g id=\"text_11\">\r\n      <!-- 0.46 -->\r\n      <g transform=\"translate(20.878125 396.671038)scale(0.1 -0.1)\">\r\n       <defs>\r\n        <path d=\"M 2113 2584 \r\nQ 1688 2584 1439 2293 \r\nQ 1191 2003 1191 1497 \r\nQ 1191 994 1439 701 \r\nQ 1688 409 2113 409 \r\nQ 2538 409 2786 701 \r\nQ 3034 994 3034 1497 \r\nQ 3034 2003 2786 2293 \r\nQ 2538 2584 2113 2584 \r\nz\r\nM 3366 4563 \r\nL 3366 3988 \r\nQ 3128 4100 2886 4159 \r\nQ 2644 4219 2406 4219 \r\nQ 1781 4219 1451 3797 \r\nQ 1122 3375 1075 2522 \r\nQ 1259 2794 1537 2939 \r\nQ 1816 3084 2150 3084 \r\nQ 2853 3084 3261 2657 \r\nQ 3669 2231 3669 1497 \r\nQ 3669 778 3244 343 \r\nQ 2819 -91 2113 -91 \r\nQ 1303 -91 875 529 \r\nQ 447 1150 447 2328 \r\nQ 447 3434 972 4092 \r\nQ 1497 4750 2381 4750 \r\nQ 2619 4750 2861 4703 \r\nQ 3103 4656 3366 4563 \r\nz\r\n\" id=\"DejaVuSans-36\" transform=\"scale(0.015625)\"/>\r\n       </defs>\r\n       <use xlink:href=\"#DejaVuSans-30\"/>\r\n       <use x=\"63.623047\" xlink:href=\"#DejaVuSans-2e\"/>\r\n       <use x=\"95.410156\" xlink:href=\"#DejaVuSans-34\"/>\r\n       <use x=\"159.033203\" xlink:href=\"#DejaVuSans-36\"/>\r\n      </g>\r\n     </g>\r\n    </g>\r\n    <g id=\"ytick_3\">\r\n     <g id=\"line2d_21\">\r\n      <path clip-path=\"url(#p5cd82254e1)\" d=\"M 50.14375 328.24399 \r\nL 455.961932 328.24399 \r\n\" style=\"fill:none;stroke:#b0b0b0;stroke-linecap:square;stroke-width:0.8;\"/>\r\n     </g>\r\n     <g id=\"line2d_22\">\r\n      <g>\r\n       <use style=\"stroke:#000000;stroke-width:0.8;\" x=\"50.14375\" xlink:href=\"#m6ad944ada0\" y=\"328.24399\"/>\r\n      </g>\r\n     </g>\r\n     <g id=\"text_12\">\r\n      <!-- 0.48 -->\r\n      <g transform=\"translate(20.878125 332.043209)scale(0.1 -0.1)\">\r\n       <defs>\r\n        <path d=\"M 2034 2216 \r\nQ 1584 2216 1326 1975 \r\nQ 1069 1734 1069 1313 \r\nQ 1069 891 1326 650 \r\nQ 1584 409 2034 409 \r\nQ 2484 409 2743 651 \r\nQ 3003 894 3003 1313 \r\nQ 3003 1734 2745 1975 \r\nQ 2488 2216 2034 2216 \r\nz\r\nM 1403 2484 \r\nQ 997 2584 770 2862 \r\nQ 544 3141 544 3541 \r\nQ 544 4100 942 4425 \r\nQ 1341 4750 2034 4750 \r\nQ 2731 4750 3128 4425 \r\nQ 3525 4100 3525 3541 \r\nQ 3525 3141 3298 2862 \r\nQ 3072 2584 2669 2484 \r\nQ 3125 2378 3379 2068 \r\nQ 3634 1759 3634 1313 \r\nQ 3634 634 3220 271 \r\nQ 2806 -91 2034 -91 \r\nQ 1263 -91 848 271 \r\nQ 434 634 434 1313 \r\nQ 434 1759 690 2068 \r\nQ 947 2378 1403 2484 \r\nz\r\nM 1172 3481 \r\nQ 1172 3119 1398 2916 \r\nQ 1625 2713 2034 2713 \r\nQ 2441 2713 2670 2916 \r\nQ 2900 3119 2900 3481 \r\nQ 2900 3844 2670 4047 \r\nQ 2441 4250 2034 4250 \r\nQ 1625 4250 1398 4047 \r\nQ 1172 3844 1172 3481 \r\nz\r\n\" id=\"DejaVuSans-38\" transform=\"scale(0.015625)\"/>\r\n       </defs>\r\n       <use xlink:href=\"#DejaVuSans-30\"/>\r\n       <use x=\"63.623047\" xlink:href=\"#DejaVuSans-2e\"/>\r\n       <use x=\"95.410156\" xlink:href=\"#DejaVuSans-34\"/>\r\n       <use x=\"159.033203\" xlink:href=\"#DejaVuSans-38\"/>\r\n      </g>\r\n     </g>\r\n    </g>\r\n    <g id=\"ytick_4\">\r\n     <g id=\"line2d_23\">\r\n      <path clip-path=\"url(#p5cd82254e1)\" d=\"M 50.14375 263.616161 \r\nL 455.961932 263.616161 \r\n\" style=\"fill:none;stroke:#b0b0b0;stroke-linecap:square;stroke-width:0.8;\"/>\r\n     </g>\r\n     <g id=\"line2d_24\">\r\n      <g>\r\n       <use style=\"stroke:#000000;stroke-width:0.8;\" x=\"50.14375\" xlink:href=\"#m6ad944ada0\" y=\"263.616161\"/>\r\n      </g>\r\n     </g>\r\n     <g id=\"text_13\">\r\n      <!-- 0.50 -->\r\n      <g transform=\"translate(20.878125 267.41538)scale(0.1 -0.1)\">\r\n       <use xlink:href=\"#DejaVuSans-30\"/>\r\n       <use x=\"63.623047\" xlink:href=\"#DejaVuSans-2e\"/>\r\n       <use x=\"95.410156\" xlink:href=\"#DejaVuSans-35\"/>\r\n       <use x=\"159.033203\" xlink:href=\"#DejaVuSans-30\"/>\r\n      </g>\r\n     </g>\r\n    </g>\r\n    <g id=\"ytick_5\">\r\n     <g id=\"line2d_25\">\r\n      <path clip-path=\"url(#p5cd82254e1)\" d=\"M 50.14375 198.988332 \r\nL 455.961932 198.988332 \r\n\" style=\"fill:none;stroke:#b0b0b0;stroke-linecap:square;stroke-width:0.8;\"/>\r\n     </g>\r\n     <g id=\"line2d_26\">\r\n      <g>\r\n       <use style=\"stroke:#000000;stroke-width:0.8;\" x=\"50.14375\" xlink:href=\"#m6ad944ada0\" y=\"198.988332\"/>\r\n      </g>\r\n     </g>\r\n     <g id=\"text_14\">\r\n      <!-- 0.52 -->\r\n      <g transform=\"translate(20.878125 202.787551)scale(0.1 -0.1)\">\r\n       <use xlink:href=\"#DejaVuSans-30\"/>\r\n       <use x=\"63.623047\" xlink:href=\"#DejaVuSans-2e\"/>\r\n       <use x=\"95.410156\" xlink:href=\"#DejaVuSans-35\"/>\r\n       <use x=\"159.033203\" xlink:href=\"#DejaVuSans-32\"/>\r\n      </g>\r\n     </g>\r\n    </g>\r\n    <g id=\"ytick_6\">\r\n     <g id=\"line2d_27\">\r\n      <path clip-path=\"url(#p5cd82254e1)\" d=\"M 50.14375 134.360504 \r\nL 455.961932 134.360504 \r\n\" style=\"fill:none;stroke:#b0b0b0;stroke-linecap:square;stroke-width:0.8;\"/>\r\n     </g>\r\n     <g id=\"line2d_28\">\r\n      <g>\r\n       <use style=\"stroke:#000000;stroke-width:0.8;\" x=\"50.14375\" xlink:href=\"#m6ad944ada0\" y=\"134.360504\"/>\r\n      </g>\r\n     </g>\r\n     <g id=\"text_15\">\r\n      <!-- 0.54 -->\r\n      <g transform=\"translate(20.878125 138.159722)scale(0.1 -0.1)\">\r\n       <use xlink:href=\"#DejaVuSans-30\"/>\r\n       <use x=\"63.623047\" xlink:href=\"#DejaVuSans-2e\"/>\r\n       <use x=\"95.410156\" xlink:href=\"#DejaVuSans-35\"/>\r\n       <use x=\"159.033203\" xlink:href=\"#DejaVuSans-34\"/>\r\n      </g>\r\n     </g>\r\n    </g>\r\n    <g id=\"text_16\">\r\n     <!-- loss [%] -->\r\n     <g transform=\"translate(14.798438 308.659219)rotate(-90)scale(0.1 -0.1)\">\r\n      <defs>\r\n       <path d=\"M 2834 3397 \r\nL 2834 2853 \r\nQ 2591 2978 2328 3040 \r\nQ 2066 3103 1784 3103 \r\nQ 1356 3103 1142 2972 \r\nQ 928 2841 928 2578 \r\nQ 928 2378 1081 2264 \r\nQ 1234 2150 1697 2047 \r\nL 1894 2003 \r\nQ 2506 1872 2764 1633 \r\nQ 3022 1394 3022 966 \r\nQ 3022 478 2636 193 \r\nQ 2250 -91 1575 -91 \r\nQ 1294 -91 989 -36 \r\nQ 684 19 347 128 \r\nL 347 722 \r\nQ 666 556 975 473 \r\nQ 1284 391 1588 391 \r\nQ 1994 391 2212 530 \r\nQ 2431 669 2431 922 \r\nQ 2431 1156 2273 1281 \r\nQ 2116 1406 1581 1522 \r\nL 1381 1569 \r\nQ 847 1681 609 1914 \r\nQ 372 2147 372 2553 \r\nQ 372 3047 722 3315 \r\nQ 1072 3584 1716 3584 \r\nQ 2034 3584 2315 3537 \r\nQ 2597 3491 2834 3397 \r\nz\r\n\" id=\"DejaVuSans-73\" transform=\"scale(0.015625)\"/>\r\n       <path d=\"M 4653 2053 \r\nQ 4381 2053 4226 1822 \r\nQ 4072 1591 4072 1178 \r\nQ 4072 772 4226 539 \r\nQ 4381 306 4653 306 \r\nQ 4919 306 5073 539 \r\nQ 5228 772 5228 1178 \r\nQ 5228 1588 5073 1820 \r\nQ 4919 2053 4653 2053 \r\nz\r\nM 4653 2450 \r\nQ 5147 2450 5437 2106 \r\nQ 5728 1763 5728 1178 \r\nQ 5728 594 5436 251 \r\nQ 5144 -91 4653 -91 \r\nQ 4153 -91 3862 251 \r\nQ 3572 594 3572 1178 \r\nQ 3572 1766 3864 2108 \r\nQ 4156 2450 4653 2450 \r\nz\r\nM 1428 4353 \r\nQ 1159 4353 1004 4120 \r\nQ 850 3888 850 3481 \r\nQ 850 3069 1003 2837 \r\nQ 1156 2606 1428 2606 \r\nQ 1700 2606 1854 2837 \r\nQ 2009 3069 2009 3481 \r\nQ 2009 3884 1853 4118 \r\nQ 1697 4353 1428 4353 \r\nz\r\nM 4250 4750 \r\nL 4750 4750 \r\nL 1831 -91 \r\nL 1331 -91 \r\nL 4250 4750 \r\nz\r\nM 1428 4750 \r\nQ 1922 4750 2215 4408 \r\nQ 2509 4066 2509 3481 \r\nQ 2509 2891 2217 2550 \r\nQ 1925 2209 1428 2209 \r\nQ 931 2209 642 2551 \r\nQ 353 2894 353 3481 \r\nQ 353 4063 643 4406 \r\nQ 934 4750 1428 4750 \r\nz\r\n\" id=\"DejaVuSans-25\" transform=\"scale(0.015625)\"/>\r\n      </defs>\r\n      <use xlink:href=\"#DejaVuSans-6c\"/>\r\n      <use x=\"27.783203\" xlink:href=\"#DejaVuSans-6f\"/>\r\n      <use x=\"88.964844\" xlink:href=\"#DejaVuSans-73\"/>\r\n      <use x=\"141.064453\" xlink:href=\"#DejaVuSans-73\"/>\r\n      <use x=\"193.164062\" xlink:href=\"#DejaVuSans-20\"/>\r\n      <use x=\"224.951172\" xlink:href=\"#DejaVuSans-5b\"/>\r\n      <use x=\"263.964844\" xlink:href=\"#DejaVuSans-25\"/>\r\n      <use x=\"358.984375\" xlink:href=\"#DejaVuSans-5d\"/>\r\n     </g>\r\n    </g>\r\n   </g>\r\n   <g id=\"line2d_29\">\r\n    <path clip-path=\"url(#p5cd82254e1)\" d=\"M 68.590031 91.087273 \r\nL 78.560994 420.330754 \r\nL 88.531956 437.353652 \r\nL 98.502919 444.452818 \r\nL 108.473882 449.381893 \r\nL 118.444844 457.469031 \r\nL 128.415807 463.869519 \r\nL 138.38677 468.981762 \r\nL 148.357733 471.967829 \r\nL 158.328695 474.082546 \r\nL 168.299658 475.798472 \r\nL 178.270621 477.210081 \r\nL 188.241583 478.721556 \r\nL 198.212546 480.021453 \r\nL 208.183509 480.992573 \r\nL 218.154471 481.705696 \r\nL 228.125434 482.148882 \r\nL 238.096397 482.736234 \r\nL 248.06736 482.788623 \r\nL 258.038322 483.166997 \r\nL 268.009285 483.529193 \r\nL 277.980248 484.128486 \r\nL 287.95121 484.149769 \r\nL 297.922173 484.552315 \r\nL 307.893136 484.807711 \r\nL 317.864098 484.981923 \r\nL 327.835061 485.15835 \r\nL 337.806024 485.267654 \r\nL 347.776987 485.521701 \r\nL 357.747949 485.621182 \r\nL 367.718912 485.765444 \r\nL 377.689875 485.855872 \r\nL 387.660837 485.829004 \r\nL 397.6318 486.187347 \r\nL 407.602763 486.292125 \r\nL 417.573725 486.259382 \r\nL 427.544688 485.994164 \r\nL 437.515651 486.432727 \r\n\" style=\"fill:none;stroke:#008000;stroke-linecap:square;stroke-width:1.5;\"/>\r\n   </g>\r\n   <g id=\"line2d_30\">\r\n    <path clip-path=\"url(#p5cd82254e1)\" d=\"M 68.590031 378.861347 \r\nL 78.560994 397.522551 \r\nL 88.531956 420.372068 \r\nL 98.502919 431.829136 \r\nL 108.473882 443.778312 \r\nL 118.444844 448.175891 \r\nL 128.415807 444.802783 \r\nL 138.38677 460.081346 \r\nL 148.357733 458.173199 \r\nL 158.328695 457.272766 \r\nL 168.299658 459.450272 \r\nL 178.270621 459.195744 \r\nL 188.241583 462.434509 \r\nL 198.212546 465.308478 \r\nL 208.183509 467.324774 \r\nL 218.154471 468.585572 \r\nL 228.125434 469.186117 \r\nL 238.096397 470.262014 \r\nL 248.06736 472.783996 \r\nL 258.038322 474.605471 \r\nL 268.009285 473.9639 \r\nL 277.980248 475.998686 \r\nL 287.95121 474.910655 \r\nL 297.922173 476.026806 \r\nL 307.893136 476.800986 \r\nL 317.864098 476.628122 \r\nL 327.835061 477.709412 \r\nL 337.806024 478.039346 \r\nL 347.776987 478.640469 \r\nL 357.747949 479.299566 \r\nL 367.718912 479.075566 \r\nL 377.689875 480.131046 \r\nL 387.660837 480.104563 \r\nL 397.6318 481.082231 \r\nL 407.602763 481.685183 \r\nL 417.573725 481.697992 \r\nL 427.544688 481.600244 \r\nL 437.515651 481.568657 \r\n\" style=\"fill:none;stroke:#4169e1;stroke-linecap:square;stroke-width:1.5;\"/>\r\n   </g>\r\n   <g id=\"patch_3\">\r\n    <path d=\"M 50.14375 506.2 \r\nL 50.14375 71.32 \r\n\" style=\"fill:none;stroke:#000000;stroke-linecap:square;stroke-linejoin:miter;stroke-width:0.8;\"/>\r\n   </g>\r\n   <g id=\"patch_4\">\r\n    <path d=\"M 455.961932 506.2 \r\nL 455.961932 71.32 \r\n\" style=\"fill:none;stroke:#000000;stroke-linecap:square;stroke-linejoin:miter;stroke-width:0.8;\"/>\r\n   </g>\r\n   <g id=\"patch_5\">\r\n    <path d=\"M 50.14375 506.2 \r\nL 455.961932 506.2 \r\n\" style=\"fill:none;stroke:#000000;stroke-linecap:square;stroke-linejoin:miter;stroke-width:0.8;\"/>\r\n   </g>\r\n   <g id=\"patch_6\">\r\n    <path d=\"M 50.14375 71.32 \r\nL 455.961932 71.32 \r\n\" style=\"fill:none;stroke:#000000;stroke-linecap:square;stroke-linejoin:miter;stroke-width:0.8;\"/>\r\n   </g>\r\n   <g id=\"text_17\">\r\n    <!-- Loss -->\r\n    <g transform=\"translate(239.892216 65.32)scale(0.12 -0.12)\">\r\n     <defs>\r\n      <path d=\"M 628 4666 \r\nL 1259 4666 \r\nL 1259 531 \r\nL 3531 531 \r\nL 3531 0 \r\nL 628 0 \r\nL 628 4666 \r\nz\r\n\" id=\"DejaVuSans-4c\" transform=\"scale(0.015625)\"/>\r\n     </defs>\r\n     <use xlink:href=\"#DejaVuSans-4c\"/>\r\n     <use x=\"53.962891\" xlink:href=\"#DejaVuSans-6f\"/>\r\n     <use x=\"115.144531\" xlink:href=\"#DejaVuSans-73\"/>\r\n     <use x=\"167.244141\" xlink:href=\"#DejaVuSans-73\"/>\r\n    </g>\r\n   </g>\r\n  </g>\r\n  <g id=\"axes_2\">\r\n   <g id=\"patch_7\">\r\n    <path d=\"M 537.125568 506.2 \r\nL 942.94375 506.2 \r\nL 942.94375 71.32 \r\nL 537.125568 71.32 \r\nz\r\n\" style=\"fill:#ffffff;\"/>\r\n   </g>\r\n   <g id=\"matplotlib.axis_3\">\r\n    <g id=\"xtick_9\">\r\n     <g id=\"line2d_31\">\r\n      <path clip-path=\"url(#p0d54b7f27b)\" d=\"M 555.571849 506.2 \r\nL 555.571849 71.32 \r\n\" style=\"fill:none;stroke:#b0b0b0;stroke-linecap:square;stroke-width:0.8;\"/>\r\n     </g>\r\n     <g id=\"line2d_32\">\r\n      <g>\r\n       <use style=\"stroke:#000000;stroke-width:0.8;\" x=\"555.571849\" xlink:href=\"#m2cdcbe727e\" y=\"506.2\"/>\r\n      </g>\r\n     </g>\r\n     <g id=\"text_18\">\r\n      <!-- 0 -->\r\n      <g transform=\"translate(552.390599 520.798438)scale(0.1 -0.1)\">\r\n       <use xlink:href=\"#DejaVuSans-30\"/>\r\n      </g>\r\n     </g>\r\n    </g>\r\n    <g id=\"xtick_10\">\r\n     <g id=\"line2d_33\">\r\n      <path clip-path=\"url(#p0d54b7f27b)\" d=\"M 605.426663 506.2 \r\nL 605.426663 71.32 \r\n\" style=\"fill:none;stroke:#b0b0b0;stroke-linecap:square;stroke-width:0.8;\"/>\r\n     </g>\r\n     <g id=\"line2d_34\">\r\n      <g>\r\n       <use style=\"stroke:#000000;stroke-width:0.8;\" x=\"605.426663\" xlink:href=\"#m2cdcbe727e\" y=\"506.2\"/>\r\n      </g>\r\n     </g>\r\n     <g id=\"text_19\">\r\n      <!-- 5 -->\r\n      <g transform=\"translate(602.245413 520.798438)scale(0.1 -0.1)\">\r\n       <use xlink:href=\"#DejaVuSans-35\"/>\r\n      </g>\r\n     </g>\r\n    </g>\r\n    <g id=\"xtick_11\">\r\n     <g id=\"line2d_35\">\r\n      <path clip-path=\"url(#p0d54b7f27b)\" d=\"M 655.281476 506.2 \r\nL 655.281476 71.32 \r\n\" style=\"fill:none;stroke:#b0b0b0;stroke-linecap:square;stroke-width:0.8;\"/>\r\n     </g>\r\n     <g id=\"line2d_36\">\r\n      <g>\r\n       <use style=\"stroke:#000000;stroke-width:0.8;\" x=\"655.281476\" xlink:href=\"#m2cdcbe727e\" y=\"506.2\"/>\r\n      </g>\r\n     </g>\r\n     <g id=\"text_20\">\r\n      <!-- 10 -->\r\n      <g transform=\"translate(648.918976 520.798438)scale(0.1 -0.1)\">\r\n       <use xlink:href=\"#DejaVuSans-31\"/>\r\n       <use x=\"63.623047\" xlink:href=\"#DejaVuSans-30\"/>\r\n      </g>\r\n     </g>\r\n    </g>\r\n    <g id=\"xtick_12\">\r\n     <g id=\"line2d_37\">\r\n      <path clip-path=\"url(#p0d54b7f27b)\" d=\"M 705.13629 506.2 \r\nL 705.13629 71.32 \r\n\" style=\"fill:none;stroke:#b0b0b0;stroke-linecap:square;stroke-width:0.8;\"/>\r\n     </g>\r\n     <g id=\"line2d_38\">\r\n      <g>\r\n       <use style=\"stroke:#000000;stroke-width:0.8;\" x=\"705.13629\" xlink:href=\"#m2cdcbe727e\" y=\"506.2\"/>\r\n      </g>\r\n     </g>\r\n     <g id=\"text_21\">\r\n      <!-- 15 -->\r\n      <g transform=\"translate(698.77379 520.798438)scale(0.1 -0.1)\">\r\n       <use xlink:href=\"#DejaVuSans-31\"/>\r\n       <use x=\"63.623047\" xlink:href=\"#DejaVuSans-35\"/>\r\n      </g>\r\n     </g>\r\n    </g>\r\n    <g id=\"xtick_13\">\r\n     <g id=\"line2d_39\">\r\n      <path clip-path=\"url(#p0d54b7f27b)\" d=\"M 754.991103 506.2 \r\nL 754.991103 71.32 \r\n\" style=\"fill:none;stroke:#b0b0b0;stroke-linecap:square;stroke-width:0.8;\"/>\r\n     </g>\r\n     <g id=\"line2d_40\">\r\n      <g>\r\n       <use style=\"stroke:#000000;stroke-width:0.8;\" x=\"754.991103\" xlink:href=\"#m2cdcbe727e\" y=\"506.2\"/>\r\n      </g>\r\n     </g>\r\n     <g id=\"text_22\">\r\n      <!-- 20 -->\r\n      <g transform=\"translate(748.628603 520.798438)scale(0.1 -0.1)\">\r\n       <use xlink:href=\"#DejaVuSans-32\"/>\r\n       <use x=\"63.623047\" xlink:href=\"#DejaVuSans-30\"/>\r\n      </g>\r\n     </g>\r\n    </g>\r\n    <g id=\"xtick_14\">\r\n     <g id=\"line2d_41\">\r\n      <path clip-path=\"url(#p0d54b7f27b)\" d=\"M 804.845917 506.2 \r\nL 804.845917 71.32 \r\n\" style=\"fill:none;stroke:#b0b0b0;stroke-linecap:square;stroke-width:0.8;\"/>\r\n     </g>\r\n     <g id=\"line2d_42\">\r\n      <g>\r\n       <use style=\"stroke:#000000;stroke-width:0.8;\" x=\"804.845917\" xlink:href=\"#m2cdcbe727e\" y=\"506.2\"/>\r\n      </g>\r\n     </g>\r\n     <g id=\"text_23\">\r\n      <!-- 25 -->\r\n      <g transform=\"translate(798.483417 520.798438)scale(0.1 -0.1)\">\r\n       <use xlink:href=\"#DejaVuSans-32\"/>\r\n       <use x=\"63.623047\" xlink:href=\"#DejaVuSans-35\"/>\r\n      </g>\r\n     </g>\r\n    </g>\r\n    <g id=\"xtick_15\">\r\n     <g id=\"line2d_43\">\r\n      <path clip-path=\"url(#p0d54b7f27b)\" d=\"M 854.70073 506.2 \r\nL 854.70073 71.32 \r\n\" style=\"fill:none;stroke:#b0b0b0;stroke-linecap:square;stroke-width:0.8;\"/>\r\n     </g>\r\n     <g id=\"line2d_44\">\r\n      <g>\r\n       <use style=\"stroke:#000000;stroke-width:0.8;\" x=\"854.70073\" xlink:href=\"#m2cdcbe727e\" y=\"506.2\"/>\r\n      </g>\r\n     </g>\r\n     <g id=\"text_24\">\r\n      <!-- 30 -->\r\n      <g transform=\"translate(848.33823 520.798438)scale(0.1 -0.1)\">\r\n       <use xlink:href=\"#DejaVuSans-33\"/>\r\n       <use x=\"63.623047\" xlink:href=\"#DejaVuSans-30\"/>\r\n      </g>\r\n     </g>\r\n    </g>\r\n    <g id=\"xtick_16\">\r\n     <g id=\"line2d_45\">\r\n      <path clip-path=\"url(#p0d54b7f27b)\" d=\"M 904.555544 506.2 \r\nL 904.555544 71.32 \r\n\" style=\"fill:none;stroke:#b0b0b0;stroke-linecap:square;stroke-width:0.8;\"/>\r\n     </g>\r\n     <g id=\"line2d_46\">\r\n      <g>\r\n       <use style=\"stroke:#000000;stroke-width:0.8;\" x=\"904.555544\" xlink:href=\"#m2cdcbe727e\" y=\"506.2\"/>\r\n      </g>\r\n     </g>\r\n     <g id=\"text_25\">\r\n      <!-- 35 -->\r\n      <g transform=\"translate(898.193044 520.798438)scale(0.1 -0.1)\">\r\n       <use xlink:href=\"#DejaVuSans-33\"/>\r\n       <use x=\"63.623047\" xlink:href=\"#DejaVuSans-35\"/>\r\n      </g>\r\n     </g>\r\n    </g>\r\n    <g id=\"text_26\">\r\n     <!-- Epoch [cycle] -->\r\n     <g transform=\"translate(706.309659 534.476563)scale(0.1 -0.1)\">\r\n      <use xlink:href=\"#DejaVuSans-45\"/>\r\n      <use x=\"63.183594\" xlink:href=\"#DejaVuSans-70\"/>\r\n      <use x=\"126.660156\" xlink:href=\"#DejaVuSans-6f\"/>\r\n      <use x=\"187.841797\" xlink:href=\"#DejaVuSans-63\"/>\r\n      <use x=\"242.822266\" xlink:href=\"#DejaVuSans-68\"/>\r\n      <use x=\"306.201172\" xlink:href=\"#DejaVuSans-20\"/>\r\n      <use x=\"337.988281\" xlink:href=\"#DejaVuSans-5b\"/>\r\n      <use x=\"377.001953\" xlink:href=\"#DejaVuSans-63\"/>\r\n      <use x=\"431.982422\" xlink:href=\"#DejaVuSans-79\"/>\r\n      <use x=\"491.162109\" xlink:href=\"#DejaVuSans-63\"/>\r\n      <use x=\"546.142578\" xlink:href=\"#DejaVuSans-6c\"/>\r\n      <use x=\"573.925781\" xlink:href=\"#DejaVuSans-65\"/>\r\n      <use x=\"635.449219\" xlink:href=\"#DejaVuSans-5d\"/>\r\n     </g>\r\n    </g>\r\n   </g>\r\n   <g id=\"matplotlib.axis_4\">\r\n    <g id=\"ytick_7\">\r\n     <g id=\"line2d_47\">\r\n      <path clip-path=\"url(#p0d54b7f27b)\" d=\"M 537.125568 505.051837 \r\nL 942.94375 505.051837 \r\n\" style=\"fill:none;stroke:#b0b0b0;stroke-linecap:square;stroke-width:0.8;\"/>\r\n     </g>\r\n     <g id=\"line2d_48\">\r\n      <g>\r\n       <use style=\"stroke:#000000;stroke-width:0.8;\" x=\"537.125568\" xlink:href=\"#m6ad944ada0\" y=\"505.051837\"/>\r\n      </g>\r\n     </g>\r\n     <g id=\"text_27\">\r\n      <!-- 0.3 -->\r\n      <g transform=\"translate(514.222443 508.851056)scale(0.1 -0.1)\">\r\n       <use xlink:href=\"#DejaVuSans-30\"/>\r\n       <use x=\"63.623047\" xlink:href=\"#DejaVuSans-2e\"/>\r\n       <use x=\"95.410156\" xlink:href=\"#DejaVuSans-33\"/>\r\n      </g>\r\n     </g>\r\n    </g>\r\n    <g id=\"ytick_8\">\r\n     <g id=\"line2d_49\">\r\n      <path clip-path=\"url(#p0d54b7f27b)\" d=\"M 537.125568 417.785915 \r\nL 942.94375 417.785915 \r\n\" style=\"fill:none;stroke:#b0b0b0;stroke-linecap:square;stroke-width:0.8;\"/>\r\n     </g>\r\n     <g id=\"line2d_50\">\r\n      <g>\r\n       <use style=\"stroke:#000000;stroke-width:0.8;\" x=\"537.125568\" xlink:href=\"#m6ad944ada0\" y=\"417.785915\"/>\r\n      </g>\r\n     </g>\r\n     <g id=\"text_28\">\r\n      <!-- 0.4 -->\r\n      <g transform=\"translate(514.222443 421.585134)scale(0.1 -0.1)\">\r\n       <use xlink:href=\"#DejaVuSans-30\"/>\r\n       <use x=\"63.623047\" xlink:href=\"#DejaVuSans-2e\"/>\r\n       <use x=\"95.410156\" xlink:href=\"#DejaVuSans-34\"/>\r\n      </g>\r\n     </g>\r\n    </g>\r\n    <g id=\"ytick_9\">\r\n     <g id=\"line2d_51\">\r\n      <path clip-path=\"url(#p0d54b7f27b)\" d=\"M 537.125568 330.519993 \r\nL 942.94375 330.519993 \r\n\" style=\"fill:none;stroke:#b0b0b0;stroke-linecap:square;stroke-width:0.8;\"/>\r\n     </g>\r\n     <g id=\"line2d_52\">\r\n      <g>\r\n       <use style=\"stroke:#000000;stroke-width:0.8;\" x=\"537.125568\" xlink:href=\"#m6ad944ada0\" y=\"330.519993\"/>\r\n      </g>\r\n     </g>\r\n     <g id=\"text_29\">\r\n      <!-- 0.5 -->\r\n      <g transform=\"translate(514.222443 334.319212)scale(0.1 -0.1)\">\r\n       <use xlink:href=\"#DejaVuSans-30\"/>\r\n       <use x=\"63.623047\" xlink:href=\"#DejaVuSans-2e\"/>\r\n       <use x=\"95.410156\" xlink:href=\"#DejaVuSans-35\"/>\r\n      </g>\r\n     </g>\r\n    </g>\r\n    <g id=\"ytick_10\">\r\n     <g id=\"line2d_53\">\r\n      <path clip-path=\"url(#p0d54b7f27b)\" d=\"M 537.125568 243.254071 \r\nL 942.94375 243.254071 \r\n\" style=\"fill:none;stroke:#b0b0b0;stroke-linecap:square;stroke-width:0.8;\"/>\r\n     </g>\r\n     <g id=\"line2d_54\">\r\n      <g>\r\n       <use style=\"stroke:#000000;stroke-width:0.8;\" x=\"537.125568\" xlink:href=\"#m6ad944ada0\" y=\"243.254071\"/>\r\n      </g>\r\n     </g>\r\n     <g id=\"text_30\">\r\n      <!-- 0.6 -->\r\n      <g transform=\"translate(514.222443 247.053289)scale(0.1 -0.1)\">\r\n       <use xlink:href=\"#DejaVuSans-30\"/>\r\n       <use x=\"63.623047\" xlink:href=\"#DejaVuSans-2e\"/>\r\n       <use x=\"95.410156\" xlink:href=\"#DejaVuSans-36\"/>\r\n      </g>\r\n     </g>\r\n    </g>\r\n    <g id=\"ytick_11\">\r\n     <g id=\"line2d_55\">\r\n      <path clip-path=\"url(#p0d54b7f27b)\" d=\"M 537.125568 155.988148 \r\nL 942.94375 155.988148 \r\n\" style=\"fill:none;stroke:#b0b0b0;stroke-linecap:square;stroke-width:0.8;\"/>\r\n     </g>\r\n     <g id=\"line2d_56\">\r\n      <g>\r\n       <use style=\"stroke:#000000;stroke-width:0.8;\" x=\"537.125568\" xlink:href=\"#m6ad944ada0\" y=\"155.988148\"/>\r\n      </g>\r\n     </g>\r\n     <g id=\"text_31\">\r\n      <!-- 0.7 -->\r\n      <g transform=\"translate(514.222443 159.787367)scale(0.1 -0.1)\">\r\n       <defs>\r\n        <path d=\"M 525 4666 \r\nL 3525 4666 \r\nL 3525 4397 \r\nL 1831 0 \r\nL 1172 0 \r\nL 2766 4134 \r\nL 525 4134 \r\nL 525 4666 \r\nz\r\n\" id=\"DejaVuSans-37\" transform=\"scale(0.015625)\"/>\r\n       </defs>\r\n       <use xlink:href=\"#DejaVuSans-30\"/>\r\n       <use x=\"63.623047\" xlink:href=\"#DejaVuSans-2e\"/>\r\n       <use x=\"95.410156\" xlink:href=\"#DejaVuSans-37\"/>\r\n      </g>\r\n     </g>\r\n    </g>\r\n    <g id=\"text_32\">\r\n     <!-- Acc [%] -->\r\n     <g transform=\"translate(508.142756 307.832656)rotate(-90)scale(0.1 -0.1)\">\r\n      <defs>\r\n       <path d=\"M 2188 4044 \r\nL 1331 1722 \r\nL 3047 1722 \r\nL 2188 4044 \r\nz\r\nM 1831 4666 \r\nL 2547 4666 \r\nL 4325 0 \r\nL 3669 0 \r\nL 3244 1197 \r\nL 1141 1197 \r\nL 716 0 \r\nL 50 0 \r\nL 1831 4666 \r\nz\r\n\" id=\"DejaVuSans-41\" transform=\"scale(0.015625)\"/>\r\n      </defs>\r\n      <use xlink:href=\"#DejaVuSans-41\"/>\r\n      <use x=\"66.658203\" xlink:href=\"#DejaVuSans-63\"/>\r\n      <use x=\"121.638672\" xlink:href=\"#DejaVuSans-63\"/>\r\n      <use x=\"176.619141\" xlink:href=\"#DejaVuSans-20\"/>\r\n      <use x=\"208.40625\" xlink:href=\"#DejaVuSans-5b\"/>\r\n      <use x=\"247.419922\" xlink:href=\"#DejaVuSans-25\"/>\r\n      <use x=\"342.439453\" xlink:href=\"#DejaVuSans-5d\"/>\r\n     </g>\r\n    </g>\r\n   </g>\r\n   <g id=\"line2d_57\">\r\n    <path clip-path=\"url(#p0d54b7f27b)\" d=\"M 555.571849 465.551853 \r\nL 565.542812 480.895597 \r\nL 575.513775 461.441352 \r\nL 585.484737 426.404954 \r\nL 595.4557 397.660443 \r\nL 605.426663 323.196657 \r\nL 615.397625 284.01972 \r\nL 625.368588 253.29218 \r\nL 635.339551 250.795742 \r\nL 645.310513 262.40955 \r\nL 655.281476 290.348329 \r\nL 665.252439 310.363369 \r\nL 675.223402 321.073216 \r\nL 685.194364 322.751985 \r\nL 695.165327 321.207309 \r\nL 705.13629 319.372132 \r\nL 715.107252 318.200192 \r\nL 725.078215 315.338716 \r\nL 735.049178 315.253777 \r\nL 745.02014 313.374751 \r\nL 754.991103 311.943779 \r\nL 764.962066 308.840279 \r\nL 774.933029 307.231001 \r\nL 784.903991 305.980624 \r\nL 794.874954 302.905056 \r\nL 804.845917 301.248705 \r\nL 814.816879 298.377346 \r\nL 824.787842 296.780395 \r\nL 834.758805 295.236396 \r\nL 844.729767 291.941951 \r\nL 854.70073 289.470376 \r\nL 864.671693 287.70313 \r\nL 874.642656 286.398969 \r\nL 884.613618 285.008932 \r\nL 894.584581 283.247824 \r\nL 904.555544 284.869533 \r\nL 914.526506 287.180956 \r\nL 924.497469 283.789607 \r\n\" style=\"fill:none;stroke:#008000;stroke-linecap:square;stroke-width:1.5;\"/>\r\n   </g>\r\n   <g id=\"line2d_58\">\r\n    <path clip-path=\"url(#p0d54b7f27b)\" d=\"M 555.571849 486.059679 \r\nL 565.542812 472.238765 \r\nL 575.513775 486.432727 \r\nL 585.484737 485.925273 \r\nL 595.4557 393.451166 \r\nL 605.426663 210.370144 \r\nL 615.397625 146.135876 \r\nL 625.368588 91.087273 \r\nL 635.339551 114.171171 \r\nL 645.310513 317.594119 \r\nL 655.281476 317.153192 \r\nL 665.252439 320.248577 \r\nL 675.223402 324.073362 \r\nL 685.194364 330.507041 \r\nL 695.165327 339.548313 \r\nL 705.13629 345.364969 \r\nL 715.107252 342.021215 \r\nL 725.078215 341.938667 \r\nL 735.049178 334.214144 \r\nL 745.02014 333.496421 \r\nL 754.991103 340.374356 \r\nL 764.962066 334.641495 \r\nL 774.933029 338.876493 \r\nL 784.903991 335.250325 \r\nL 794.874954 333.081215 \r\nL 804.845917 329.354191 \r\nL 814.816879 327.067007 \r\nL 824.787842 325.290399 \r\nL 834.758805 319.932277 \r\nL 844.729767 319.790121 \r\nL 854.70073 320.247537 \r\nL 864.671693 314.117311 \r\nL 874.642656 312.777 \r\nL 884.613618 308.244089 \r\nL 894.584581 302.659755 \r\nL 904.555544 294.892059 \r\nL 914.526506 291.728639 \r\nL 924.497469 277.961638 \r\n\" style=\"fill:none;stroke:#4169e1;stroke-linecap:square;stroke-width:1.5;\"/>\r\n   </g>\r\n   <g id=\"patch_8\">\r\n    <path d=\"M 537.125568 506.2 \r\nL 537.125568 71.32 \r\n\" style=\"fill:none;stroke:#000000;stroke-linecap:square;stroke-linejoin:miter;stroke-width:0.8;\"/>\r\n   </g>\r\n   <g id=\"patch_9\">\r\n    <path d=\"M 942.94375 506.2 \r\nL 942.94375 71.32 \r\n\" style=\"fill:none;stroke:#000000;stroke-linecap:square;stroke-linejoin:miter;stroke-width:0.8;\"/>\r\n   </g>\r\n   <g id=\"patch_10\">\r\n    <path d=\"M 537.125568 506.2 \r\nL 942.94375 506.2 \r\n\" style=\"fill:none;stroke:#000000;stroke-linecap:square;stroke-linejoin:miter;stroke-width:0.8;\"/>\r\n   </g>\r\n   <g id=\"patch_11\">\r\n    <path d=\"M 537.125568 71.32 \r\nL 942.94375 71.32 \r\n\" style=\"fill:none;stroke:#000000;stroke-linecap:square;stroke-linejoin:miter;stroke-width:0.8;\"/>\r\n   </g>\r\n   <g id=\"text_33\">\r\n    <!-- Accuracy -->\r\n    <g transform=\"translate(712.640909 65.32)scale(0.12 -0.12)\">\r\n     <defs>\r\n      <path d=\"M 544 1381 \r\nL 544 3500 \r\nL 1119 3500 \r\nL 1119 1403 \r\nQ 1119 906 1312 657 \r\nQ 1506 409 1894 409 \r\nQ 2359 409 2629 706 \r\nQ 2900 1003 2900 1516 \r\nL 2900 3500 \r\nL 3475 3500 \r\nL 3475 0 \r\nL 2900 0 \r\nL 2900 538 \r\nQ 2691 219 2414 64 \r\nQ 2138 -91 1772 -91 \r\nQ 1169 -91 856 284 \r\nQ 544 659 544 1381 \r\nz\r\nM 1991 3584 \r\nL 1991 3584 \r\nz\r\n\" id=\"DejaVuSans-75\" transform=\"scale(0.015625)\"/>\r\n      <path d=\"M 2631 2963 \r\nQ 2534 3019 2420 3045 \r\nQ 2306 3072 2169 3072 \r\nQ 1681 3072 1420 2755 \r\nQ 1159 2438 1159 1844 \r\nL 1159 0 \r\nL 581 0 \r\nL 581 3500 \r\nL 1159 3500 \r\nL 1159 2956 \r\nQ 1341 3275 1631 3429 \r\nQ 1922 3584 2338 3584 \r\nQ 2397 3584 2469 3576 \r\nQ 2541 3569 2628 3553 \r\nL 2631 2963 \r\nz\r\n\" id=\"DejaVuSans-72\" transform=\"scale(0.015625)\"/>\r\n      <path d=\"M 2194 1759 \r\nQ 1497 1759 1228 1600 \r\nQ 959 1441 959 1056 \r\nQ 959 750 1161 570 \r\nQ 1363 391 1709 391 \r\nQ 2188 391 2477 730 \r\nQ 2766 1069 2766 1631 \r\nL 2766 1759 \r\nL 2194 1759 \r\nz\r\nM 3341 1997 \r\nL 3341 0 \r\nL 2766 0 \r\nL 2766 531 \r\nQ 2569 213 2275 61 \r\nQ 1981 -91 1556 -91 \r\nQ 1019 -91 701 211 \r\nQ 384 513 384 1019 \r\nQ 384 1609 779 1909 \r\nQ 1175 2209 1959 2209 \r\nL 2766 2209 \r\nL 2766 2266 \r\nQ 2766 2663 2505 2880 \r\nQ 2244 3097 1772 3097 \r\nQ 1472 3097 1187 3025 \r\nQ 903 2953 641 2809 \r\nL 641 3341 \r\nQ 956 3463 1253 3523 \r\nQ 1550 3584 1831 3584 \r\nQ 2591 3584 2966 3190 \r\nQ 3341 2797 3341 1997 \r\nz\r\n\" id=\"DejaVuSans-61\" transform=\"scale(0.015625)\"/>\r\n     </defs>\r\n     <use xlink:href=\"#DejaVuSans-41\"/>\r\n     <use x=\"66.658203\" xlink:href=\"#DejaVuSans-63\"/>\r\n     <use x=\"121.638672\" xlink:href=\"#DejaVuSans-63\"/>\r\n     <use x=\"176.619141\" xlink:href=\"#DejaVuSans-75\"/>\r\n     <use x=\"239.998047\" xlink:href=\"#DejaVuSans-72\"/>\r\n     <use x=\"281.111328\" xlink:href=\"#DejaVuSans-61\"/>\r\n     <use x=\"342.390625\" xlink:href=\"#DejaVuSans-63\"/>\r\n     <use x=\"397.371094\" xlink:href=\"#DejaVuSans-79\"/>\r\n    </g>\r\n   </g>\r\n  </g>\r\n  <g id=\"text_34\">\r\n   <!-- LEARNING BEHAVIOR -->\r\n   <g transform=\"translate(418.524063 22.838125)scale(0.12 -0.12)\">\r\n    <defs>\r\n     <path d=\"M 2841 2188 \r\nQ 3044 2119 3236 1894 \r\nQ 3428 1669 3622 1275 \r\nL 4263 0 \r\nL 3584 0 \r\nL 2988 1197 \r\nQ 2756 1666 2539 1819 \r\nQ 2322 1972 1947 1972 \r\nL 1259 1972 \r\nL 1259 0 \r\nL 628 0 \r\nL 628 4666 \r\nL 2053 4666 \r\nQ 2853 4666 3247 4331 \r\nQ 3641 3997 3641 3322 \r\nQ 3641 2881 3436 2590 \r\nQ 3231 2300 2841 2188 \r\nz\r\nM 1259 4147 \r\nL 1259 2491 \r\nL 2053 2491 \r\nQ 2509 2491 2742 2702 \r\nQ 2975 2913 2975 3322 \r\nQ 2975 3731 2742 3939 \r\nQ 2509 4147 2053 4147 \r\nL 1259 4147 \r\nz\r\n\" id=\"DejaVuSans-52\" transform=\"scale(0.015625)\"/>\r\n     <path d=\"M 628 4666 \r\nL 1478 4666 \r\nL 3547 763 \r\nL 3547 4666 \r\nL 4159 4666 \r\nL 4159 0 \r\nL 3309 0 \r\nL 1241 3903 \r\nL 1241 0 \r\nL 628 0 \r\nL 628 4666 \r\nz\r\n\" id=\"DejaVuSans-4e\" transform=\"scale(0.015625)\"/>\r\n     <path d=\"M 628 4666 \r\nL 1259 4666 \r\nL 1259 0 \r\nL 628 0 \r\nL 628 4666 \r\nz\r\n\" id=\"DejaVuSans-49\" transform=\"scale(0.015625)\"/>\r\n     <path d=\"M 3809 666 \r\nL 3809 1919 \r\nL 2778 1919 \r\nL 2778 2438 \r\nL 4434 2438 \r\nL 4434 434 \r\nQ 4069 175 3628 42 \r\nQ 3188 -91 2688 -91 \r\nQ 1594 -91 976 548 \r\nQ 359 1188 359 2328 \r\nQ 359 3472 976 4111 \r\nQ 1594 4750 2688 4750 \r\nQ 3144 4750 3555 4637 \r\nQ 3966 4525 4313 4306 \r\nL 4313 3634 \r\nQ 3963 3931 3569 4081 \r\nQ 3175 4231 2741 4231 \r\nQ 1884 4231 1454 3753 \r\nQ 1025 3275 1025 2328 \r\nQ 1025 1384 1454 906 \r\nQ 1884 428 2741 428 \r\nQ 3075 428 3337 486 \r\nQ 3600 544 3809 666 \r\nz\r\n\" id=\"DejaVuSans-47\" transform=\"scale(0.015625)\"/>\r\n     <path d=\"M 1259 2228 \r\nL 1259 519 \r\nL 2272 519 \r\nQ 2781 519 3026 730 \r\nQ 3272 941 3272 1375 \r\nQ 3272 1813 3026 2020 \r\nQ 2781 2228 2272 2228 \r\nL 1259 2228 \r\nz\r\nM 1259 4147 \r\nL 1259 2741 \r\nL 2194 2741 \r\nQ 2656 2741 2882 2914 \r\nQ 3109 3088 3109 3444 \r\nQ 3109 3797 2882 3972 \r\nQ 2656 4147 2194 4147 \r\nL 1259 4147 \r\nz\r\nM 628 4666 \r\nL 2241 4666 \r\nQ 2963 4666 3353 4366 \r\nQ 3744 4066 3744 3513 \r\nQ 3744 3084 3544 2831 \r\nQ 3344 2578 2956 2516 \r\nQ 3422 2416 3680 2098 \r\nQ 3938 1781 3938 1306 \r\nQ 3938 681 3513 340 \r\nQ 3088 0 2303 0 \r\nL 628 0 \r\nL 628 4666 \r\nz\r\n\" id=\"DejaVuSans-42\" transform=\"scale(0.015625)\"/>\r\n     <path d=\"M 628 4666 \r\nL 1259 4666 \r\nL 1259 2753 \r\nL 3553 2753 \r\nL 3553 4666 \r\nL 4184 4666 \r\nL 4184 0 \r\nL 3553 0 \r\nL 3553 2222 \r\nL 1259 2222 \r\nL 1259 0 \r\nL 628 0 \r\nL 628 4666 \r\nz\r\n\" id=\"DejaVuSans-48\" transform=\"scale(0.015625)\"/>\r\n     <path d=\"M 1831 0 \r\nL 50 4666 \r\nL 709 4666 \r\nL 2188 738 \r\nL 3669 4666 \r\nL 4325 4666 \r\nL 2547 0 \r\nL 1831 0 \r\nz\r\n\" id=\"DejaVuSans-56\" transform=\"scale(0.015625)\"/>\r\n     <path d=\"M 2522 4238 \r\nQ 1834 4238 1429 3725 \r\nQ 1025 3213 1025 2328 \r\nQ 1025 1447 1429 934 \r\nQ 1834 422 2522 422 \r\nQ 3209 422 3611 934 \r\nQ 4013 1447 4013 2328 \r\nQ 4013 3213 3611 3725 \r\nQ 3209 4238 2522 4238 \r\nz\r\nM 2522 4750 \r\nQ 3503 4750 4090 4092 \r\nQ 4678 3434 4678 2328 \r\nQ 4678 1225 4090 567 \r\nQ 3503 -91 2522 -91 \r\nQ 1538 -91 948 565 \r\nQ 359 1222 359 2328 \r\nQ 359 3434 948 4092 \r\nQ 1538 4750 2522 4750 \r\nz\r\n\" id=\"DejaVuSans-4f\" transform=\"scale(0.015625)\"/>\r\n    </defs>\r\n    <use xlink:href=\"#DejaVuSans-4c\"/>\r\n    <use x=\"55.712891\" xlink:href=\"#DejaVuSans-45\"/>\r\n    <use x=\"118.896484\" xlink:href=\"#DejaVuSans-41\"/>\r\n    <use x=\"187.304688\" xlink:href=\"#DejaVuSans-52\"/>\r\n    <use x=\"256.787109\" xlink:href=\"#DejaVuSans-4e\"/>\r\n    <use x=\"331.591797\" xlink:href=\"#DejaVuSans-49\"/>\r\n    <use x=\"361.083984\" xlink:href=\"#DejaVuSans-4e\"/>\r\n    <use x=\"435.888672\" xlink:href=\"#DejaVuSans-47\"/>\r\n    <use x=\"513.378906\" xlink:href=\"#DejaVuSans-20\"/>\r\n    <use x=\"545.166016\" xlink:href=\"#DejaVuSans-42\"/>\r\n    <use x=\"613.769531\" xlink:href=\"#DejaVuSans-45\"/>\r\n    <use x=\"676.953125\" xlink:href=\"#DejaVuSans-48\"/>\r\n    <use x=\"752.148438\" xlink:href=\"#DejaVuSans-41\"/>\r\n    <use x=\"814.181641\" xlink:href=\"#DejaVuSans-56\"/>\r\n    <use x=\"882.589844\" xlink:href=\"#DejaVuSans-49\"/>\r\n    <use x=\"912.082031\" xlink:href=\"#DejaVuSans-4f\"/>\r\n    <use x=\"990.792969\" xlink:href=\"#DejaVuSans-52\"/>\r\n   </g>\r\n  </g>\r\n  <g id=\"legend_1\">\r\n   <g id=\"patch_12\">\r\n    <path d=\"M 948.521875 66.7125 \r\nL 1053.34375 66.7125 \r\nQ 1055.34375 66.7125 1055.34375 64.7125 \r\nL 1055.34375 7 \r\nQ 1055.34375 5 1053.34375 5 \r\nL 948.521875 5 \r\nQ 946.521875 5 946.521875 7 \r\nL 946.521875 64.7125 \r\nQ 946.521875 66.7125 948.521875 66.7125 \r\nz\r\n\" style=\"fill:#ffffff;opacity:0.8;stroke:#cccccc;stroke-linejoin:miter;\"/>\r\n   </g>\r\n   <g id=\"line2d_59\">\r\n    <path d=\"M 950.521875 13.098437 \r\nL 970.521875 13.098437 \r\n\" style=\"fill:none;stroke:#008000;stroke-linecap:square;stroke-width:1.5;\"/>\r\n   </g>\r\n   <g id=\"line2d_60\"/>\r\n   <g id=\"text_35\">\r\n    <!-- Train Loss -->\r\n    <g transform=\"translate(978.521875 16.598437)scale(0.1 -0.1)\">\r\n     <defs>\r\n      <path d=\"M -19 4666 \r\nL 3928 4666 \r\nL 3928 4134 \r\nL 2272 4134 \r\nL 2272 0 \r\nL 1638 0 \r\nL 1638 4134 \r\nL -19 4134 \r\nL -19 4666 \r\nz\r\n\" id=\"DejaVuSans-54\" transform=\"scale(0.015625)\"/>\r\n      <path d=\"M 603 3500 \r\nL 1178 3500 \r\nL 1178 0 \r\nL 603 0 \r\nL 603 3500 \r\nz\r\nM 603 4863 \r\nL 1178 4863 \r\nL 1178 4134 \r\nL 603 4134 \r\nL 603 4863 \r\nz\r\n\" id=\"DejaVuSans-69\" transform=\"scale(0.015625)\"/>\r\n      <path d=\"M 3513 2113 \r\nL 3513 0 \r\nL 2938 0 \r\nL 2938 2094 \r\nQ 2938 2591 2744 2837 \r\nQ 2550 3084 2163 3084 \r\nQ 1697 3084 1428 2787 \r\nQ 1159 2491 1159 1978 \r\nL 1159 0 \r\nL 581 0 \r\nL 581 3500 \r\nL 1159 3500 \r\nL 1159 2956 \r\nQ 1366 3272 1645 3428 \r\nQ 1925 3584 2291 3584 \r\nQ 2894 3584 3203 3211 \r\nQ 3513 2838 3513 2113 \r\nz\r\n\" id=\"DejaVuSans-6e\" transform=\"scale(0.015625)\"/>\r\n     </defs>\r\n     <use xlink:href=\"#DejaVuSans-54\"/>\r\n     <use x=\"46.333984\" xlink:href=\"#DejaVuSans-72\"/>\r\n     <use x=\"87.447266\" xlink:href=\"#DejaVuSans-61\"/>\r\n     <use x=\"148.726562\" xlink:href=\"#DejaVuSans-69\"/>\r\n     <use x=\"176.509766\" xlink:href=\"#DejaVuSans-6e\"/>\r\n     <use x=\"239.888672\" xlink:href=\"#DejaVuSans-20\"/>\r\n     <use x=\"271.675781\" xlink:href=\"#DejaVuSans-4c\"/>\r\n     <use x=\"325.638672\" xlink:href=\"#DejaVuSans-6f\"/>\r\n     <use x=\"386.820312\" xlink:href=\"#DejaVuSans-73\"/>\r\n     <use x=\"438.919922\" xlink:href=\"#DejaVuSans-73\"/>\r\n    </g>\r\n   </g>\r\n   <g id=\"line2d_61\">\r\n    <path d=\"M 950.521875 27.776562 \r\nL 970.521875 27.776562 \r\n\" style=\"fill:none;stroke:#4169e1;stroke-linecap:square;stroke-width:1.5;\"/>\r\n   </g>\r\n   <g id=\"line2d_62\"/>\r\n   <g id=\"text_36\">\r\n    <!-- Test Loss -->\r\n    <g transform=\"translate(978.521875 31.276562)scale(0.1 -0.1)\">\r\n     <defs>\r\n      <path d=\"M 1172 4494 \r\nL 1172 3500 \r\nL 2356 3500 \r\nL 2356 3053 \r\nL 1172 3053 \r\nL 1172 1153 \r\nQ 1172 725 1289 603 \r\nQ 1406 481 1766 481 \r\nL 2356 481 \r\nL 2356 0 \r\nL 1766 0 \r\nQ 1100 0 847 248 \r\nQ 594 497 594 1153 \r\nL 594 3053 \r\nL 172 3053 \r\nL 172 3500 \r\nL 594 3500 \r\nL 594 4494 \r\nL 1172 4494 \r\nz\r\n\" id=\"DejaVuSans-74\" transform=\"scale(0.015625)\"/>\r\n     </defs>\r\n     <use xlink:href=\"#DejaVuSans-54\"/>\r\n     <use x=\"44.083984\" xlink:href=\"#DejaVuSans-65\"/>\r\n     <use x=\"105.607422\" xlink:href=\"#DejaVuSans-73\"/>\r\n     <use x=\"157.707031\" xlink:href=\"#DejaVuSans-74\"/>\r\n     <use x=\"196.916016\" xlink:href=\"#DejaVuSans-20\"/>\r\n     <use x=\"228.703125\" xlink:href=\"#DejaVuSans-4c\"/>\r\n     <use x=\"282.666016\" xlink:href=\"#DejaVuSans-6f\"/>\r\n     <use x=\"343.847656\" xlink:href=\"#DejaVuSans-73\"/>\r\n     <use x=\"395.947266\" xlink:href=\"#DejaVuSans-73\"/>\r\n    </g>\r\n   </g>\r\n   <g id=\"line2d_63\">\r\n    <path d=\"M 950.521875 42.454687 \r\nL 970.521875 42.454687 \r\n\" style=\"fill:none;stroke:#008000;stroke-linecap:square;stroke-width:1.5;\"/>\r\n   </g>\r\n   <g id=\"line2d_64\"/>\r\n   <g id=\"text_37\">\r\n    <!-- Train Accuracy -->\r\n    <g transform=\"translate(978.521875 45.954687)scale(0.1 -0.1)\">\r\n     <use xlink:href=\"#DejaVuSans-54\"/>\r\n     <use x=\"46.333984\" xlink:href=\"#DejaVuSans-72\"/>\r\n     <use x=\"87.447266\" xlink:href=\"#DejaVuSans-61\"/>\r\n     <use x=\"148.726562\" xlink:href=\"#DejaVuSans-69\"/>\r\n     <use x=\"176.509766\" xlink:href=\"#DejaVuSans-6e\"/>\r\n     <use x=\"239.888672\" xlink:href=\"#DejaVuSans-20\"/>\r\n     <use x=\"271.675781\" xlink:href=\"#DejaVuSans-41\"/>\r\n     <use x=\"338.333984\" xlink:href=\"#DejaVuSans-63\"/>\r\n     <use x=\"393.314453\" xlink:href=\"#DejaVuSans-63\"/>\r\n     <use x=\"448.294922\" xlink:href=\"#DejaVuSans-75\"/>\r\n     <use x=\"511.673828\" xlink:href=\"#DejaVuSans-72\"/>\r\n     <use x=\"552.787109\" xlink:href=\"#DejaVuSans-61\"/>\r\n     <use x=\"614.066406\" xlink:href=\"#DejaVuSans-63\"/>\r\n     <use x=\"669.046875\" xlink:href=\"#DejaVuSans-79\"/>\r\n    </g>\r\n   </g>\r\n   <g id=\"line2d_65\">\r\n    <path d=\"M 950.521875 57.132812 \r\nL 970.521875 57.132812 \r\n\" style=\"fill:none;stroke:#4169e1;stroke-linecap:square;stroke-width:1.5;\"/>\r\n   </g>\r\n   <g id=\"line2d_66\"/>\r\n   <g id=\"text_38\">\r\n    <!-- Test Accuracy -->\r\n    <g transform=\"translate(978.521875 60.632812)scale(0.1 -0.1)\">\r\n     <use xlink:href=\"#DejaVuSans-54\"/>\r\n     <use x=\"44.083984\" xlink:href=\"#DejaVuSans-65\"/>\r\n     <use x=\"105.607422\" xlink:href=\"#DejaVuSans-73\"/>\r\n     <use x=\"157.707031\" xlink:href=\"#DejaVuSans-74\"/>\r\n     <use x=\"196.916016\" xlink:href=\"#DejaVuSans-20\"/>\r\n     <use x=\"228.703125\" xlink:href=\"#DejaVuSans-41\"/>\r\n     <use x=\"295.361328\" xlink:href=\"#DejaVuSans-63\"/>\r\n     <use x=\"350.341797\" xlink:href=\"#DejaVuSans-63\"/>\r\n     <use x=\"405.322266\" xlink:href=\"#DejaVuSans-75\"/>\r\n     <use x=\"468.701172\" xlink:href=\"#DejaVuSans-72\"/>\r\n     <use x=\"509.814453\" xlink:href=\"#DejaVuSans-61\"/>\r\n     <use x=\"571.09375\" xlink:href=\"#DejaVuSans-63\"/>\r\n     <use x=\"626.074219\" xlink:href=\"#DejaVuSans-79\"/>\r\n    </g>\r\n   </g>\r\n  </g>\r\n </g>\r\n <defs>\r\n  <clipPath id=\"p5cd82254e1\">\r\n   <rect height=\"434.88\" width=\"405.818182\" x=\"50.14375\" y=\"71.32\"/>\r\n  </clipPath>\r\n  <clipPath id=\"p0d54b7f27b\">\r\n   <rect height=\"434.88\" width=\"405.818182\" x=\"537.125568\" y=\"71.32\"/>\r\n  </clipPath>\r\n </defs>\r\n</svg>\r\n",
      "image/png": "[encoded data removed]"
     },
     "metadata": {
      "needs_background": "light"
     }
    }
   ],
   "source": [
    "# reporting results\n",
    "# reporte de entrenamiento para el modelo\n",
    "# base de la figura\n",
    "fig, (ax1, ax2) = plt.subplots(1,2, figsize=(16,8))\n",
    "\n",
    "# datos de la figura en de perdida y precision\n",
    "ax1.plot(history_cnn.history[\"loss\"], 'green', label = \"Train Loss\")\n",
    "ax1.plot(history_cnn.history[\"val_loss\"], 'royalblue', label = \"Test Loss\")\n",
    "ax2.plot(history_cnn.history[\"accuracy\"], 'green', label = \"Train Accuracy\")\n",
    "ax2.plot(history_cnn.history[\"val_accuracy\"], 'royalblue', label = \"Test Accuracy\")\n",
    "\n",
    "# leyenda de la grafica\n",
    "fig.suptitle(\"LEARNING BEHAVIOR\")\n",
    "ax1.grid(True)\n",
    "ax2.grid(True)\n",
    "ax1.set_title(\"Loss\")\n",
    "ax2.set_title(\"Accuracy\")\n",
    "ax1.set(xlabel = \"Epoch [cycle]\", ylabel = \"loss [%]\")\n",
    "ax2.set(xlabel = \"Epoch [cycle]\", ylabel = \"Acc [%]\")\n",
    "fig.legend()\n",
    "fig.show()"
   ]
  },
  {
   "cell_type": "code",
   "execution_count": 114,
   "metadata": {},
   "outputs": [
    {
     "output_type": "stream",
     "name": "stdout",
     "text": [
      "False\nc:\\Users\\Felipe\\Documents\\GitHub\\sa-artea\\VVG-MLModel-Trainer\\Data\\Reports\\vvg_cnn_autoencoder-17-May-2021-Img-Data-Paintings-learn-curve.jpg\n"
     ]
    }
   ],
   "source": [
    "# saving image in png file\n",
    "imgext = \"jpg\"\n",
    "work_learn_img = model_fname + \"-\" + str_date + \"-\" + work_sufix + \"-learn-curve.\" + imgext\n",
    "img_fpn = os.path.join(root_folder, dataf, reportf, work_learn_img)\n",
    "print(os.path.exists(img_fpn))\n",
    "print(img_fpn)"
   ]
  },
  {
   "cell_type": "code",
   "execution_count": 115,
   "metadata": {},
   "outputs": [],
   "source": [
    "# saving rendered image\n",
    "fig.savefig(img_fpn, dpi = fig.dpi)"
   ]
  },
  {
   "cell_type": "code",
   "execution_count": null,
   "metadata": {},
   "outputs": [],
   "source": []
  }
 ]
}