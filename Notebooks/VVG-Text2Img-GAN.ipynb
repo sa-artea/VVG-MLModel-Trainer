{
 "metadata": {
  "language_info": {
   "codemirror_mode": {
    "name": "ipython",
    "version": 3
   },
   "file_extension": ".py",
   "mimetype": "text/x-python",
   "name": "python",
   "nbconvert_exporter": "python",
   "pygments_lexer": "ipython3",
   "version": "3.8.6"
  },
  "orig_nbformat": 2,
  "kernelspec": {
   "name": "python386jvsc74a57bd01baa965d5efe3ac65b79dfc60c0d706280b1da80fedb7760faf2759126c4f253",
   "display_name": "Python 3.8.6 64-bit"
  },
  "metadata": {
   "interpreter": {
    "hash": "1baa965d5efe3ac65b79dfc60c0d706280b1da80fedb7760faf2759126c4f253"
   }
  }
 },
 "nbformat": 4,
 "nbformat_minor": 2,
 "cells": [
  {
   "source": [
    "useful links:\n",
    "\n",
    "- Data Preparation for Variable Length Input Sequences, URL: https://machinelearningmastery.com/data-preparation-variable-length-input-sequences-sequence-prediction/\n",
    "- Masking and padding with Keras, URL: https://www.tensorflow.org/guide/keras/masking_and_padding\n",
    "- Step-by-step understanding LSTM Autoencoder layers, URL: https://towardsdatascience.com/step-by-step-understanding-lstm-autoencoder-layers-ffab055b6352XX, \n",
    "- Understanding input_shape parameter in LSTM with Keras, URL: https://stats.stackexchange.com/questions/274478/understanding-input-shape-parameter-in-lstm-with-keras\n",
    "- tf.convert_to_tensor, URL: https://www.tensorflow.org/api_docs/python/tf/convert_to_tensor\n",
    "- ValueError: Failed to convert a NumPy array to a Tensor (Unsupported object type int) in Python, URL: https://datascience.stackexchange.com/questions/82440/valueerror-failed-to-convert-a-numpy-array-to-a-tensor-unsupported-object-type\n",
    "- How to Identify and Diagnose GAN Failure Modes, URL: https://machinelearningmastery.com/practical-guide-to-gan-failure-modes/\n",
    "- How to Develop a GAN for Generating MNIST Handwritten Digits\n",
    ", URL: https://machinelearningmastery.com/how-to-develop-a-generative-adversarial-network-for-an-mnist-handwritten-digits-from-scratch-in-keras/\n",
    "- How to Visualize a Deep Learning Neural Network Model in Keras\n",
    ", URL: https://machinelearningmastery.com/visualize-deep-learning-neural-network-model-keras/\n",
    "- How to Implement GAN Hacks in Keras to Train Stable Models\n",
    ", URL: https://machinelearningmastery.com/how-to-code-generative-adversarial-network-hacks/\n",
    "- Tips for Training Stable Generative Adversarial Networks\n",
    ", URL: https://machinelearningmastery.com/how-to-train-stable-generative-adversarial-networks/\n",
    "- How to Implement GAN Hacks in Keras to Train Stable Models\n",
    ", URL: https://machinelearningmastery.com/how-to-code-generative-adversarial-network-hacks/"
   ],
   "cell_type": "markdown",
   "metadata": {}
  },
  {
   "cell_type": "code",
   "execution_count": 1,
   "metadata": {},
   "outputs": [
    {
     "output_type": "stream",
     "name": "stderr",
     "text": [
      "[nltk_data] Downloading package punkt to\n[nltk_data]     C:\\Users\\Felipe\\AppData\\Roaming\\nltk_data...\n[nltk_data]   Package punkt is already up-to-date!\n[nltk_data] Downloading package stopwords to\n[nltk_data]     C:\\Users\\Felipe\\AppData\\Roaming\\nltk_data...\n[nltk_data]   Package stopwords is already up-to-date!\n[nltk_data] Downloading package wordnet to\n[nltk_data]     C:\\Users\\Felipe\\AppData\\Roaming\\nltk_data...\n[nltk_data]   Package wordnet is already up-to-date!\n"
     ]
    }
   ],
   "source": [
    "\"\"\"\n",
    "* Copyright 2020, Maestria de Humanidades Digitales,\n",
    "* Universidad de Los Andes\n",
    "*\n",
    "* Developed for the Msc graduation project in Digital Humanities\n",
    "*\n",
    "* This program is free software: you can redistribute it and/or modify\n",
    "* it under the terms of the GNU General Public License as published by\n",
    "* the Free Software Foundation, either version 3 of the License, or\n",
    "* (at your option) any later version.\n",
    "*\n",
    "* This program is distributed in the hope that it will be useful,\n",
    "* but WITHOUT ANY WARRANTY; without even the implied warranty of\n",
    "* MERCHANTABILITY or FITNESS FOR A PARTICULAR PURPOSE.  See the\n",
    "* GNU General Public License for more details.\n",
    "*\n",
    "* You should have received a copy of the GNU General Public License\n",
    "* along with this program.  If not, see <http://www.gnu.org/licenses/>.\n",
    "\"\"\"\n",
    "\n",
    "# ===============================\n",
    "# native python libraries\n",
    "# ===============================\n",
    "import re\n",
    "import random\n",
    "import math\n",
    "import json\n",
    "import csv\n",
    "import cv2\n",
    "import datetime\n",
    "import copy\n",
    "import gc\n",
    "from statistics import mean\n",
    "from collections import OrderedDict\n",
    "from collections import Counter\n",
    "from collections import deque\n",
    "\n",
    "# ===============================\n",
    "# extension python libraries\n",
    "# ===============================\n",
    "import pandas as pd\n",
    "from pandas import ExcelWriter\n",
    "from pandas import ExcelFile\n",
    "import numpy as np\n",
    "import matplotlib.pyplot as plt\n",
    "\n",
    "# natural language processing packages\n",
    "import gensim\n",
    "from gensim import models\n",
    "import nltk\n",
    "from nltk.stem import WordNetLemmatizer\n",
    "from nltk.corpus import stopwords\n",
    "\n",
    "# downloading nlkt data\n",
    "nltk.download('punkt')\n",
    "nltk.download('stopwords')\n",
    "nltk.download('wordnet')\n",
    "\n",
    "# sample handling sklearn package\n",
    "from sklearn.preprocessing import MinMaxScaler\n",
    "from sklearn.model_selection import train_test_split\n",
    "from sklearn.metrics import confusion_matrix\n",
    "from sklearn.metrics import classification_report\n",
    "from sklearn.model_selection import cross_val_score\n",
    "from sklearn.metrics import accuracy_score\n",
    "from sklearn.metrics import precision_score\n",
    "from sklearn.metrics import make_scorer\n",
    "from imblearn.over_sampling import SMOTE\n",
    "from imblearn.over_sampling import RandomOverSampler\n",
    "from skmultilearn.problem_transform import LabelPowerset\n",
    "from skmultilearn.problem_transform import BinaryRelevance\n",
    "from skmultilearn.problem_transform import ClassifierChain\n",
    "\n",
    "# # Keras + Tensorflow ML libraries\n",
    "import tensorflow as tf\n",
    "from keras.preprocessing.sequence import pad_sequences\n",
    "from keras.utils.vis_utils import plot_model\n",
    "from tensorflow.keras.preprocessing import sequence\n",
    "from tensorflow.keras.callbacks import EarlyStopping\n",
    "from tensorflow.keras.models import Sequential\n",
    "from tensorflow.keras.layers import Masking\n",
    "from tensorflow.keras.layers import Dense\n",
    "from tensorflow.keras.layers import Flatten\n",
    "from tensorflow.keras.layers import Input\n",
    "from tensorflow.keras.layers import TimeDistributed\n",
    "from tensorflow.keras.layers import Dropout\n",
    "from tensorflow.keras.layers import SpatialDropout1D\n",
    "from tensorflow.keras.layers import Embedding\n",
    "from tensorflow.keras.layers import LeakyReLU\n",
    "from tensorflow.keras.layers import LSTM\n",
    "from tensorflow.keras.layers import Reshape\n",
    "from tensorflow.keras.layers import TimeDistributed\n",
    "from tensorflow.keras.layers import Conv2D\n",
    "from tensorflow.keras.layers import Conv2DTranspose\n",
    "from tensorflow.keras.layers import MaxPooling2D\n",
    "from tensorflow.keras.layers import UpSampling2D\n",
    "from tensorflow.keras.optimizers import SGD # OJO!\n",
    "from tensorflow.keras.optimizers import RMSprop\n",
    "from tensorflow.keras.optimizers import Adam # OJO!\n",
    "from tensorflow.keras.optimizers import Adadelta # OJO!\n",
    "from tensorflow.keras.optimizers import Adagrad # OJO!\n",
    "\n",
    "# https://machinelearningmastery.com/how-to-configure-image-data-augmentation-when-training-deep-learning-neural-networks/\n",
    "# example of random rotation image augmentation\n",
    "from numpy import expand_dims\n",
    "from keras.preprocessing.image import load_img\n",
    "from keras.preprocessing.image import img_to_array\n",
    "from keras.preprocessing.image import ImageDataGenerator\n",
    "\n",
    "# ===============================\n",
    "# developed python libraries\n",
    "# ==============================="
   ]
  },
  {
   "source": [
    "# FUNCTION DEFINITION"
   ],
   "cell_type": "markdown",
   "metadata": {}
  },
  {
   "cell_type": "code",
   "execution_count": 2,
   "metadata": {},
   "outputs": [],
   "source": [
    "'''\n",
    "A UDF to convert input data into 3-D\n",
    "array as required for LSTM network.\n",
    "\n",
    "taken from https://towardsdatascience.com/step-by-step-understanding-lstm-autoencoder-layers-ffab055b6352\n",
    "'''\n",
    "def temporalize(data, lookback):\n",
    "    output_X = list()\n",
    "    for i in range(len(X)-lookback-1):\n",
    "        temp = list()\n",
    "        for j in range(1,lookback+1):\n",
    "            # Gather past records upto the lookback period\n",
    "            temp.append(data[[(i+j+1)], :])\n",
    "        temp = np.array(temp, dtype=\"object\")\n",
    "        output_X.append(temp)\n",
    "    output_X = np.array(output_X, dtype=\"object\")\n",
    "    return output_X"
   ]
  },
  {
   "cell_type": "code",
   "execution_count": 3,
   "metadata": {},
   "outputs": [],
   "source": [
    "# function to read the image from file with cv2\n",
    "def read_img(img_fpn):\n",
    "    ans = cv2.imread(img_fpn, cv2.IMREAD_UNCHANGED)\n",
    "    return ans"
   ]
  },
  {
   "cell_type": "code",
   "execution_count": 4,
   "metadata": {},
   "outputs": [],
   "source": [
    "# function to standarize image, has 2 types, from 0 to 1 and from -1 to 1\n",
    "def std_img(img, minv, maxv, stype=\"std\"):\n",
    "    ans = None\n",
    "    rangev = maxv - minv\n",
    "\n",
    "    if stype == \"std\":\n",
    "        ans = img.astype(\"float32\")/float(rangev)\n",
    "    \n",
    "    elif stype == \"ctr\":\n",
    "        rangev = float(rangev/2)\n",
    "        ans = (img.astype(\"float32\")-rangev)/rangev\n",
    "    # ans = pd.Series(ans)\n",
    "    return ans"
   ]
  },
  {
   "cell_type": "code",
   "execution_count": 5,
   "metadata": {},
   "outputs": [],
   "source": [
    "# function to pad the image in the center\n",
    "def pad_img(img, h, w, img_type):\n",
    "    #  in case when you have odd number\n",
    "    ans = None\n",
    "    top_pad = np.floor((h - img.shape[0]) / 2).astype(np.uint8) # floor\n",
    "    bottom_pad = np.ceil((h - img.shape[0]) / 2).astype(np.uint8)\n",
    "    right_pad = np.ceil((w - img.shape[1]) / 2).astype(np.uint8)\n",
    "    left_pad = np.floor((w - img.shape[1]) / 2).astype(np.uint8) # floor\n",
    "    # print((top_pad, bottom_pad), (left_pad, right_pad))\n",
    "    if img_type == \"rgb\":\n",
    "        ans = np.copy(np.pad(img, ((top_pad, bottom_pad), (left_pad, right_pad), (0, 0)), mode=\"constant\", constant_values=0.0))   \n",
    "    if img_type == \"bw\":\n",
    "        ans = np.copy(np.pad(img, ((int(top_pad), int(bottom_pad)), (int(left_pad), int(right_pad))), mode=\"constant\", constant_values=0))\n",
    "\n",
    "    return ans"
   ]
  },
  {
   "cell_type": "code",
   "execution_count": 6,
   "metadata": {},
   "outputs": [],
   "source": [
    "# function to padd the images in the dataset, needs the shape, the type of image and the src + tgt columns of the frame to work with\n",
    "def padding_images(src_df, src_col, tgt_col, max_shape, img_type):\n",
    "    # ans = src_df\n",
    "    src_images = src_df[src_col]\n",
    "    tgt_images = list()\n",
    "    max_x, max_y = max_shape[0], max_shape[1]\n",
    "\n",
    "    for timg in src_images:        \n",
    "        pimg = pad_img(timg, max_y, max_x, img_type)\n",
    "        tgt_images.append(pimg)\n",
    "\n",
    "    src_df[tgt_col] = tgt_images\n",
    "    return src_df"
   ]
  },
  {
   "cell_type": "code",
   "execution_count": 7,
   "metadata": {},
   "outputs": [],
   "source": [
    "# function to load the images in in memory\n",
    "def get_images(rootf, src_df, src_col, tgt_col):\n",
    "    ans = src_df\n",
    "    src_files = list(ans[src_col])\n",
    "    tgt_files = list()\n",
    "\n",
    "    # ansdict = {}\n",
    "    for tfile in src_files:\n",
    "        tfpn = os.path.join(rootf, tfile)\n",
    "        timg = read_img(tfpn)\n",
    "        tgt_files.append(timg)\n",
    "\n",
    "    ans[tgt_col] = tgt_files\n",
    "    return ans"
   ]
  },
  {
   "cell_type": "code",
   "execution_count": 8,
   "metadata": {},
   "outputs": [],
   "source": [
    "# function to augment the images in the dataset and virtualy exapnd the training examples\n",
    "def augment_images(src_df, src_col, tgt_col, syth_num):\n",
    "\n",
    "    cols = [list(src_df.columns.values)]\n",
    "    # print(cols)\n",
    "    ans = pd.DataFrame()\n",
    "    other_cols = list(src_df.columns.values)\n",
    "    other_cols.remove(tgt_col)\n",
    "    other_cols.remove(src_col)\n",
    "    # print(other_cols)\n",
    "\n",
    "    for index, row in src_df.iterrows():\n",
    "        t_txt = row[src_col]\n",
    "        t_img = row[tgt_col]\n",
    "        t_tags = row[other_cols]\n",
    "\n",
    "        gen_rows = list()\n",
    "        for i in range(syth_num):\n",
    "\n",
    "            gen_tags = copy.deepcopy(t_tags)\n",
    "            gen_img = syth_img(t_img)\n",
    "            gen_txt = syth_text(t_txt)\n",
    "            # print(type(gen_tags), type(gen_img)) \n",
    "            gen_tags[tgt_col] = gen_img\n",
    "            gen_tags[src_col] = gen_txt\n",
    "            gen_rows.append(gen_tags)\n",
    "            # print(gen_tags) # , type(gen_img)) \n",
    "            # [other_cols], row[tgt_col])\n",
    "        \n",
    "        ans = ans.append(gen_rows, ignore_index=True)\n",
    "\n",
    "    return ans"
   ]
  },
  {
   "cell_type": "code",
   "execution_count": 9,
   "metadata": {},
   "outputs": [],
   "source": [
    "# function than rotates the original image to create a new example\n",
    "def syth_img(data):\n",
    "\n",
    "    samples = expand_dims(data, 0)\n",
    "    datagen = ImageDataGenerator(rotation_range=90)\n",
    "    ans = datagen.flow(samples, batch_size=1)\n",
    "    ans = ans[0].astype(\"uint8\")\n",
    "    ans = np.squeeze(ans, 0)\n",
    "    return ans"
   ]
  },
  {
   "cell_type": "code",
   "execution_count": 10,
   "metadata": {},
   "outputs": [],
   "source": [
    "# function to create text similar to the original one with 5% of noise\n",
    "def syth_text(data, nptc=0.05):\n",
    "\n",
    "    ans = None\n",
    "    noise = np.random.normal(0, nptc, data.shape)\n",
    "    ans = data + noise\n",
    "    return ans"
   ]
  },
  {
   "cell_type": "code",
   "execution_count": 11,
   "metadata": {},
   "outputs": [],
   "source": [
    "# function to standarize the images in the dataset, it has 2 options\n",
    "def standarize_images(src_df, src_col, tgt_col, img_type, std_opt):\n",
    "    src_images = src_df[src_col]\n",
    "    tgt_images = list()\n",
    "\n",
    "    for timg in src_images:\n",
    "        # pcolor image\n",
    "        if img_type == \"rgb\":\n",
    "            timg = np.asarray(timg, dtype=\"object\")\n",
    "        \n",
    "        # b&w image\n",
    "        if img_type == \"rb\":\n",
    "            timg = np.asarray(timg) #, dtype=\"uint8\")\n",
    "            timg = timg[:,:,np.newaxis]\n",
    "            timg = np.asarray(timg, dtype=\"object\")\n",
    "        \n",
    "        # std_opt affect the standarization results\n",
    "        # result 0.0 < std_timg < 1.0\n",
    "        # result -1.0 < std_timg < 1.0\n",
    "        std_timg = std_img(timg, 0, 255, std_opt)\n",
    "        tgt_images.append(std_timg)\n",
    "\n",
    "    src_df[tgt_col] = tgt_images\n",
    "    return src_df"
   ]
  },
  {
   "cell_type": "code",
   "execution_count": 12,
   "metadata": {},
   "outputs": [],
   "source": [
    "# function to get the max shape in the image dataset\n",
    "def get_mshape(shape_data, imgt):\n",
    "\n",
    "    max_x, max_y, max_ch = 0, 0, 0\n",
    "    shape_data = list(shape_data)\n",
    "    ans = None\n",
    "\n",
    "    if imgt == \"rgb\":\n",
    "\n",
    "        for tshape in shape_data:\n",
    "            tshape = eval(tshape)\n",
    "            tx, ty, tch = tshape[0], tshape[1], tshape[2]\n",
    "\n",
    "            if tx > max_x:\n",
    "                max_x = tx\n",
    "            if ty > max_y:\n",
    "                max_y = ty\n",
    "            if tch > max_ch:\n",
    "                max_ch = tch\n",
    "            \n",
    "        ans = (max_x, max_y, max_ch)\n",
    "    \n",
    "    elif imgt == \"bw\":\n",
    "\n",
    "        for tshape in shape_data:\n",
    "            tshape = eval(tshape)\n",
    "            tx, ty = tshape[0], tshape[1]\n",
    "\n",
    "            if tx > max_x:\n",
    "                max_x = tx\n",
    "            if ty > max_y:\n",
    "                max_y = ty\n",
    "            \n",
    "        ans = (max_x, max_y)\n",
    "        \n",
    "    return ans"
   ]
  },
  {
   "cell_type": "code",
   "execution_count": 13,
   "metadata": {},
   "outputs": [],
   "source": [
    "'''\n",
    "A UDF to convert input data into 3-D\n",
    "array as required for LSTM network.\n",
    "\n",
    "taken from https://towardsdatascience.com/step-by-step-understanding-lstm-autoencoder-layers-ffab055b6352\n",
    "'''\n",
    "def temporalize(data, lookback):\n",
    "    output_X = list()\n",
    "    for i in range(len(data)-lookback-1):\n",
    "        temp = list()\n",
    "        for j in range(1,lookback+1):\n",
    "            # Gather past records upto the lookback period\n",
    "            temp.append(data[[(i+j+1)], :])\n",
    "        temp = np.array(temp, dtype=\"object\")\n",
    "        output_X.append(temp)\n",
    "    output_X = np.array(output_X, dtype=\"object\")\n",
    "    return output_X"
   ]
  },
  {
   "cell_type": "code",
   "execution_count": 14,
   "metadata": {},
   "outputs": [],
   "source": [
    "# format the pandas df data into usable word dense vector representation, YOU NEED IT FOR THE CSV to be useful!\n",
    "def format_dvector(work_corpus):\n",
    "\n",
    "    ans = list()\n",
    "    for dvector in work_corpus:\n",
    "        dvector = eval(dvector)\n",
    "        dvector = np.asarray(dvector)\n",
    "        ans.append(dvector)\n",
    "    ans = np.asarray(ans, dtype=\"object\")\n",
    "    return ans"
   ]
  },
  {
   "cell_type": "code",
   "execution_count": 15,
   "metadata": {},
   "outputs": [],
   "source": [
    "# funct to concatenate all label columns into one for a single y in ML training, returns a list\n",
    "def concat_labels(row, cname):\n",
    "\n",
    "    ans = list()\n",
    "    for c in cname:\n",
    "        r = row[c]\n",
    "        r = eval(r)\n",
    "        ans = ans + r\n",
    "\n",
    "    return ans"
   ]
  },
  {
   "cell_type": "code",
   "execution_count": 16,
   "metadata": {},
   "outputs": [],
   "source": [
    "# function to save the ML model\n",
    "def save_model(model, m_path, m_file):\n",
    "\n",
    "    fpn = os.path.join(m_path, m_file)\n",
    "    fpn = fpn + \".h5\"\n",
    "    model.save(fpn)"
   ]
  },
  {
   "cell_type": "code",
   "execution_count": 17,
   "metadata": {},
   "outputs": [],
   "source": [
    "# function to load the ML model\n",
    "def load_model(m_path, m_file):\n",
    "\n",
    "    fpn = os.path.join(m_path, m_file)\n",
    "    fpn = fpn + \".h5\"\n",
    "    model = keras.models.load_model(fpn)\n",
    "    return model"
   ]
  },
  {
   "cell_type": "code",
   "execution_count": 18,
   "metadata": {},
   "outputs": [],
   "source": [
    "# function to cast dataframe and avoid problems with keras\n",
    "def cast_batch(X_txt, X_img, y):\n",
    "    X_txt = np.asarray(X_txt).astype(\"float32\")\n",
    "    X_img = np.asarray(X_img).astype(\"float32\")\n",
    "    y = np.asarray(y).astype(\"float32\")\n",
    "    return X_txt, X_img, y"
   ]
  },
  {
   "cell_type": "code",
   "execution_count": 19,
   "metadata": {},
   "outputs": [],
   "source": [
    "# function to select real elements to train the discriminator\n",
    "def gen_real_samples(X_txt, X_img, y, sample_size, half_batch):\n",
    "\n",
    "    rand_index = np.random.randint(0, sample_size, size=half_batch)\n",
    "    Xt_real = X_txt[rand_index]\n",
    "    Xi_real = X_img[rand_index]\n",
    "    y_real = y[rand_index]\n",
    "    # noise = np.random.uniform(0.0, 0.05, size=y_real.shape)\n",
    "    # y_real = np.subtract(y_real, noise)\n",
    "    Xt_real, Xi_real, y_real = cast_batch(Xt_real, Xi_real, y_real)\n",
    "\n",
    "    return Xt_real, Xi_real, y_real"
   ]
  },
  {
   "cell_type": "code",
   "execution_count": 20,
   "metadata": {},
   "outputs": [],
   "source": [
    "# function to create fake elements to train the discriminator\n",
    "def gen_fake_samples(gen_model, txt_shape, half_batch, cat_size):\n",
    "    # random text\n",
    "    Xt_fake = gen_latent_txt(txt_shape, half_batch)\n",
    "    # random generated image from the model\n",
    "    Xi_fake = gen_model.predict(Xt_fake)\n",
    "    # marking the images as fake in all accounts\n",
    "    y_fake = get_fake_negative(half_batch, cat_size)\n",
    "    # y_fake = np.zeros((half_batch, cat_size), dtype=\"float32\")\n",
    "    # casting data type\n",
    "    Xt_fake, Xi_fake, y_fake = cast_batch(Xt_fake, Xi_fake, y_fake)\n",
    "\n",
    "    return Xt_fake, Xi_fake, y_fake"
   ]
  },
  {
   "cell_type": "code",
   "execution_count": 21,
   "metadata": {},
   "outputs": [],
   "source": [
    "# function to create one fake + real samples to train the discriminator\n",
    "def complete_batch(Xt_real, Xi_real, y_real, Xt_fake, Xi_fake, y_fake):\n",
    "\n",
    "    # this batch needs txt to create images, the images themselves, and the images labels\n",
    "    Xt = np.concatenate((Xt_real, Xt_fake), axis=0)\n",
    "    Xi = np.concatenate((Xi_real, Xi_fake), axis=0)\n",
    "    y = np.concatenate((y_real, y_fake), axis=0)\n",
    "    # Xt, Xi, y = cast_batch(Xt, Xi, y)\n",
    "    \n",
    "    return Xt, Xi, y"
   ]
  },
  {
   "cell_type": "code",
   "execution_count": 22,
   "metadata": {},
   "outputs": [],
   "source": [
    "# function to generate random/latent text for image generator\n",
    "def gen_latent_txt(txt_shape, txt_samples):\n",
    "\n",
    "    ans = None\n",
    "    for i in range(txt_samples):\n",
    "\n",
    "        # be aware of this!!!!!!!\n",
    "        noise = np.random.normal(0.0, 1.0, size=txt_shape)\n",
    "        if ans is None:\n",
    "            txt = np.expand_dims(noise, axis=0)\n",
    "            ans = txt\n",
    "        else:\n",
    "            img = np.expand_dims(txt, axis=0)\n",
    "            ans = np.concatenate((ans, txt), axis=0)\n",
    "    # print(ans.shape)\n",
    "    # print(ans[0])\n",
    "    return ans"
   ]
  },
  {
   "cell_type": "code",
   "execution_count": 23,
   "metadata": {},
   "outputs": [],
   "source": [
    "# tfunction to smooth the fake positives\n",
    "def smooth_positive_labels(y):\n",
    "\treturn y - 0.3 + (np.random.random(y.shape)*0.5)"
   ]
  },
  {
   "cell_type": "code",
   "execution_count": 24,
   "metadata": {},
   "outputs": [],
   "source": [
    "# tfunction to smooth the fake negatives\n",
    "def smooth_negative_labels(y):\n",
    "\treturn y + np.random.random(y.shape)*0.3"
   ]
  },
  {
   "cell_type": "code",
   "execution_count": 25,
   "metadata": {},
   "outputs": [],
   "source": [
    "# randomly flip some labels\n",
    "def noisy_labels(y, p_flip):\n",
    "\t# determine the number of labels to flip\n",
    "\tn_select = int(p_flip * y.shape[0])\n",
    "\t# choose labels to flip\n",
    "\tflip_ix = np.random.choice([i for i in range(y.shape[0])], size=n_select)\n",
    "\t# invert the labels in place\n",
    "\ty[flip_ix] = 1 - y[flip_ix]\n",
    "\treturn y"
   ]
  },
  {
   "cell_type": "code",
   "execution_count": 26,
   "metadata": {},
   "outputs": [],
   "source": [
    "# generate fake true categories for the generator\n",
    "def get_fake_cat(batch_size, cat_size):\n",
    "\n",
    "    sz = (batch_size, cat_size)\n",
    "    ans = np.ones(sz)\n",
    "    # smooothing fakes\n",
    "    ans = smooth_positive_labels(ans)\n",
    "    ans = ans.astype(\"float32\")\n",
    "    # ans = np.ones((batch_size, cat_size), dtype=\"float32\")\n",
    "    return ans"
   ]
  },
  {
   "cell_type": "code",
   "execution_count": 27,
   "metadata": {},
   "outputs": [],
   "source": [
    "# generate fake negative categories to train the GAN\n",
    "def get_fake_negative(batch_size, cat_size):\n",
    "\n",
    "    sz = (batch_size, cat_size)\n",
    "    ans = np.zeros(sz)\n",
    "    ans = smooth_negative_labels(ans)\n",
    "    ans = ans.astype(\"float32\")\n",
    "    # ans = np.ones((batch_size, cat_size), dtype=\"float32\")\n",
    "    return ans"
   ]
  },
  {
   "cell_type": "code",
   "execution_count": 28,
   "metadata": {},
   "outputs": [],
   "source": [
    "# generate an expanded bath of images for training with some synthetic ones\n",
    "def gen_synthetic_images(X_img, img_size, batch_size, synth_size):\n",
    "\n",
    "    ans = None\n",
    "\n",
    "    # iterating the images and synth new ones\n",
    "    for img in X_img:\n",
    "        gen_img = None\n",
    "\n",
    "        # creating new ones\n",
    "        for j in range(synth_size):\n",
    "\n",
    "            if gen_img is None:\n",
    "                timg = syth_std_img(img)\n",
    "                timg = np.expand_dims(timg, axis=0)\n",
    "                gen_img = timg\n",
    "            \n",
    "            else:\n",
    "                timg = syth_std_img(img)\n",
    "                timg = np.expand_dims(timg, axis=0)\n",
    "                gen_img = np.concatenate((gen_img, timg), axis=0)\n",
    "        \n",
    "        # adding it to the training batch\n",
    "        if ans is None:\n",
    "            ans = gen_img\n",
    "\n",
    "        else:\n",
    "            ans = np.concatenate((ans, gen_img), axis=0)\n",
    "\n",
    "    return ans"
   ]
  },
  {
   "cell_type": "code",
   "execution_count": 29,
   "metadata": {},
   "outputs": [],
   "source": [
    "# synthetizing a noisy std image from real data\n",
    "def syth_std_img(data):\n",
    "\n",
    "    samples = expand_dims(data, 0)\n",
    "    datagen = ImageDataGenerator(rotation_range=90)\n",
    "    ans = datagen.flow(samples, batch_size=1)\n",
    "    ans = ans[0].astype(\"float32\")\n",
    "    ans = np.squeeze(ans, 0)\n",
    "    return ans"
   ]
  },
  {
   "cell_type": "code",
   "execution_count": 30,
   "metadata": {},
   "outputs": [],
   "source": [
    "# function to create new categories with some noise, default 5%\n",
    "def syth_categories(data, nptc=0.05):\n",
    "\n",
    "    ans = None\n",
    "    noise = np.random.normal(0, nptc, data.shape)\n",
    "    ans = data + noise\n",
    "    return ans"
   ]
  },
  {
   "cell_type": "code",
   "execution_count": 31,
   "metadata": {},
   "outputs": [],
   "source": [
    "# function to artificially span a batch with some noise and alterations by an specific number\n",
    "def expand_samples(X_txt, X_img, y, synth_batch):\n",
    "\n",
    "    # creating the exapnded batch response\n",
    "    Xe_txt, Xe_img, ye = None, None, None\n",
    "    \n",
    "    # iterating in the original batch\n",
    "    for Xtt, Xit, yt in zip(X_txt, X_img, y):\n",
    "\n",
    "        # temporal synth minibatch per original image\n",
    "        synth_Xt, synth_Xi, synth_y = None, None, None\n",
    "\n",
    "        # synthetizing artificial data for the batch\n",
    "        for i in range(synth_batch):\n",
    "\n",
    "            # generating first element\n",
    "            if (synth_Xt is None) and (synth_Xi is None) and (synth_y is None):\n",
    "                # gen text\n",
    "                gen_Xt = syth_text(Xtt)\n",
    "                gen_Xt = np.expand_dims(gen_Xt, axis=0)\n",
    "                synth_Xt = gen_Xt\n",
    "\n",
    "                # gen images\n",
    "                gen_Xi = syth_std_img(Xit)\n",
    "                gen_Xi = np.expand_dims(gen_Xi, axis=0)\n",
    "                synth_Xi = gen_Xi\n",
    "\n",
    "                # gen labels\n",
    "                gen_yt = syth_categories(y)\n",
    "                gen_yt = np.expand_dims(gen_yt, axis=0)\n",
    "                synth_y = gen_yt\n",
    "\n",
    "            # generatin the rest of the elements\n",
    "            else:\n",
    "                # gen text\n",
    "                gen_Xt = syth_text(Xtt)\n",
    "                gen_Xt = np.expand_dims(gen_Xt, axis=0)\n",
    "                synth_Xt = np.concatenate((synth_Xt, gen_Xt), axis=0)\n",
    "\n",
    "                # gen images\n",
    "                gen_Xi = syth_std_img(Xit)\n",
    "                gen_Xi = np.expand_dims(gen_Xi, axis=0)\n",
    "                synth_Xi = np.concatenate((synth_Xi, gen_Xi), axis=0)\n",
    "\n",
    "                # gen labels\n",
    "                gen_yt = syth_categories(y)\n",
    "                gen_yt = np.expand_dims(gen_yt, axis=0)\n",
    "                synth_y = np.concatenate((synth_y, gen_yt), axis=0)\n",
    "        \n",
    "        # adding the first part to the training batch\n",
    "        if (Xe_txt is None) and (Xe_img is None) and (ye is None):\n",
    "            # adding text\n",
    "            Xe_txt = synth_Xt\n",
    "            # adding images\n",
    "            Xe_img = synth_Xi\n",
    "            # adding categories\n",
    "            ye = synth_y\n",
    "\n",
    "        # adding the rest of the batch\n",
    "        else:\n",
    "            # adding text\n",
    "            Xe_txt = np.concatenate((Xe_txt, synth_Xt), axis=0)\n",
    "            # adding images\n",
    "            Xe_img = np.concatenate((Xe_img, synth_Xi), axis=0)\n",
    "            # adding categories\n",
    "            ye = np.concatenate((ye, synth_y), axis=0)\n",
    "    \n",
    "    ye = ye[:,:,0]\n",
    "    Xe_txt, Xe_img, ye = cast_batch(Xe_txt, Xe_img, ye)\n",
    "\n",
    "    return Xe_txt, Xe_img, ye"
   ]
  },
  {
   "cell_type": "code",
   "execution_count": 32,
   "metadata": {},
   "outputs": [],
   "source": [
    "def drift_labels(Xt_real, Xi_real, y_real, Xt_fake, Xi_fake, y_fake, batch_size, drift_pct):\n",
    "\n",
    "    # setting the size for the drift labels\n",
    "    drift_size = int(math.ceil(drift_pct*batch_size))\n",
    "    # random index for drift elements!!!\n",
    "    rand_drifters = np.random.choice(batch_size, size=drift_size, replace=False)\n",
    "    # print(\"batch size\", batch_size, \"\\nrandom choise to change\", drift_size, \"\\n\", rand_drifters)\n",
    "\n",
    "    for drift in rand_drifters:\n",
    "\n",
    "        # copying temporal real data\n",
    "        Xt_drift = copy.deepcopy(Xt_real[drift])\n",
    "        Xi_drift = copy.deepcopy(Xi_real[drift])\n",
    "        y_drift = copy.deepcopy(y_real[drift])\n",
    "        # print(\"OG real y:\", y_drift)\n",
    "        # print(\"OG fake y:\", y_fake[drift])\n",
    "        \n",
    "        # replacing real with fakes\n",
    "        Xt_real[drift] = copy.deepcopy(Xt_fake[drift])\n",
    "        Xi_real[drift] = copy.deepcopy(Xi_fake[drift])\n",
    "        y_real[drift] = copy.deepcopy(y_fake[drift])\n",
    "        # print(\"New real y:\", y_real[drift])\n",
    "\n",
    "        # updating fakes with temporal original\n",
    "        Xt_fake[drift] = Xt_drift\n",
    "        Xi_fake[drift] = Xi_drift\n",
    "        y_fake[drift] = y_drift\n",
    "        # print(\"New fake y:\", y_fake[drift])\n",
    "\n",
    "    return Xt_real, Xi_real, y_real, Xt_fake, Xi_fake, y_fake"
   ]
  },
  {
   "cell_type": "code",
   "execution_count": 33,
   "metadata": {},
   "outputs": [],
   "source": [
    "# functioon to log the training results\n",
    "def test_model(epoch, gen_model, dis_model, X_txt, X_img, y, txt_shape, cat_shape, img_size, half_batch, report_fn_path, synth_batch):\n",
    "    # select real txt2img for discrimintator\n",
    "    Xt_real, Xi_real, y_real = gen_real_samples(X_txt, X_img, y, img_size, half_batch)\n",
    "    # Xt_real, Xi_real, y_real = expand_samples(Xt_real, Xi_real, y_real, synth_batch)\n",
    "\n",
    "    # create false txt for txt2img for generator\n",
    "    Xt_fake, Xi_fake, y_fake = gen_fake_samples(gen_model, txt_shape, half_batch, cat_shape[0])\n",
    "    # Xt_fake, Xi_fake, y_fake = expand_samples(Xt_fake, Xi_fake, y_fake, synth_batch)\n",
    "\n",
    "    plot_gen_images(Xi_fake, epoch, report_fn_path, 3)\n",
    "\n",
    "    real_batch = int((half_batch*synth_batch)/2)\n",
    "\n",
    "    # drift labels to confuse the model\n",
    "    Xt_real, Xi_real, y_real, Xt_fake, Xi_fake, y_fake = drift_labels(Xt_real, Xi_real, y_real, \n",
    "                                                                        Xt_fake, Xi_fake, y_fake, \n",
    "                                                                        real_batch, 0.05)\n",
    "    # evaluate model\n",
    "    testl_real = dis_model.evaluate(Xi_real, y_real, verbose=0)\n",
    "    testl_fake = dis_model.evaluate(Xi_fake, y_fake, verbose=0)\n",
    "\n",
    "    # summarize discriminator performance\n",
    "    print(\"Batch Size %d -> Samples: Fake: %d & Real: %d\" % (half_batch*synth_batch, real_batch, real_batch))\n",
    "    print(\">>> Test Fake -> Acc: %.3f || Loss: %.3f\" % (testl_fake[1], testl_fake[0]))\n",
    "    print(\">>> Test Real -> Acc: %.3f || Loss: %.3f\" % (testl_real[1], testl_real[0]))"
   ]
  },
  {
   "cell_type": "code",
   "execution_count": 34,
   "metadata": {},
   "outputs": [],
   "source": [
    "# function to standarize image, has 2 types, from 0 to 1 and from -1 to 1\n",
    "def destd_img(img, minv, maxv, stype=\"std\"):\n",
    "    ans = None\n",
    "    rangev = maxv - minv\n",
    "\n",
    "    if stype == \"std\":\n",
    "        ans = img*rangev\n",
    "        ans = np.asarray(ans).astype(\"uint8\")\n",
    "\n",
    "    elif stype == \"ctr\":\n",
    "        rangev = float(rangev/2)\n",
    "        ans = img+rangev\n",
    "        ans = ans*rangev\n",
    "        ans = np.asarray(ans).astype(\"uint8\")\n",
    "\n",
    "    return ans"
   ]
  },
  {
   "cell_type": "code",
   "execution_count": 35,
   "metadata": {},
   "outputs": [],
   "source": [
    "# function to plot the generated images within a training epoch\n",
    "def plot_gen_images(examples, epoch, report_fp_name, n_sample):\n",
    "\n",
    "    # get important data for iterating\n",
    "    example_size = examples.shape[0]\n",
    "    og_shape = examples[0].shape\n",
    "    rand_img = np.random.choice(example_size, size=n_sample*n_sample, replace=False) \n",
    "    # (0, example_size, size=n_sample*n_sample)\n",
    "\n",
    "    # prep the figure\n",
    "    fig, ax = plt.subplots(n_sample,n_sample, figsize=(20,20))\n",
    "    fig.patch.set_facecolor(\"xkcd:white\")\n",
    "\n",
    "    # plot images\n",
    "    for i in range(n_sample*n_sample):\n",
    "        # define subplot\n",
    "        plt.subplot(n_sample, n_sample, 1+i)\n",
    "\n",
    "        # getting the images from sample\n",
    "        rand_i = rand_img[i]\n",
    "        gimg = examples[rand_i]\n",
    "        gimg = destd_img(gimg, 0, 255, \"ctr\")\n",
    "        # gimg = destd_img(gimg, 0, 255, \"std\")\n",
    "        # gimg*255\n",
    "        # gimg = np.asarray(gimg).astype(\"uint8\")\n",
    "\n",
    "        # turn off axis\n",
    "        plt.axis(\"off\")\n",
    "        plt.imshow(gimg) #, interpolation=\"nearest\")\n",
    "\n",
    "    # config axis\n",
    "    # ax.get_xaxis().set_visible(False)\n",
    "    # ax.get_yaxis().set_visible(False)\n",
    "    # plot leyend\n",
    "    fig.suptitle(\"GENERATED IMAGES\", fontsize=50)\n",
    "    fig.legend()\n",
    "\n",
    "    # save plot to file\n",
    "    plot_name = \"GAN-Gen-img-epoch%03d\" % int(epoch)\n",
    "    plot_name = plot_name + \".png\"\n",
    "    fpn = os.path.join(report_fp_name, plot_name)\n",
    "    plt.savefig(fpn)\n",
    "    plt.close()"
   ]
  },
  {
   "cell_type": "code",
   "execution_count": 36,
   "metadata": {},
   "outputs": [],
   "source": [
    "# create a line plot of loss for the gan and save to file\n",
    "def plot_metrics(disr_hist, disf_hist, gan_hist, report_fp_name, epoch):\n",
    "\n",
    "    # reporting results\n",
    "    disr_hist = np.array(disr_hist)\n",
    "    disf_hist = np.array(disf_hist)\n",
    "    gan_hist = np.array(gan_hist)\n",
    "\n",
    "    fig, (ax1, ax2) = plt.subplots(1,2, figsize=(16,8))\n",
    "    fig.patch.set_facecolor(\"xkcd:white\")\n",
    "\n",
    "    # loss\n",
    "    ax1.plot(disr_hist[:,1], \"royalblue\", label=\"Loss: R-Dis\")\n",
    "    ax1.plot(disf_hist[:,1], \"crimson\", label=\"Loss: F-Dis\")\n",
    "    ax1.plot(gan_hist[:,1], \"blueviolet\", label=\"Loss: GAN/Gen\")\n",
    "\n",
    "    # acc_\n",
    "    ax2.plot(disr_hist[:,0], \"royalblue\", label=\"Acc: R-Dis\")\n",
    "    ax2.plot(disf_hist[:,0], \"crimson\", label=\"Acc: F-Dis\")\n",
    "    ax2.plot(gan_hist[:,0], \"blueviolet\", label=\"Acc: GAN/Gem\")\n",
    "\n",
    "    # plot leyend\n",
    "    fig.suptitle(\"LEARNING BEHAVIOR\", fontsize=20)\n",
    "    ax1.grid(True)\n",
    "    ax2.grid(True)\n",
    "    ax1.set_title(\"Loss\")\n",
    "    ax2.set_title(\"Accuracy\")\n",
    "    ax1.set(xlabel = \"Epoch [cycle]\", ylabel = \"Loss\")\n",
    "    ax2.set(xlabel = \"Epoch [cycle]\", ylabel = \"Acc\")\n",
    "    fig.legend()\n",
    "\n",
    "    # save plot to file\n",
    "    plot_name = \"GAN-learn-curve-epoch%03d\" % int(epoch)\n",
    "    plot_name = plot_name + \".png\"\n",
    "    fpn = os.path.join(report_fp_name, plot_name)\n",
    "    plt.savefig(fpn)\n",
    "    plt.close()"
   ]
  },
  {
   "cell_type": "code",
   "execution_count": 37,
   "metadata": {},
   "outputs": [],
   "source": [
    "# function to calculate the loss and accuracy avg in multiple batchs of an epoch\n",
    "def epoch_avg(log):\n",
    "    loss, acc = None, None\n",
    "\n",
    "    if len(log) > 0:\n",
    "\n",
    "        acc_list = list()\n",
    "        loss_list = list()\n",
    "\n",
    "        for l in log:\n",
    "\n",
    "            ta = l[0]\n",
    "            tl = l[1]\n",
    "\n",
    "            acc_list.append(ta)\n",
    "            loss_list.append(tl)\n",
    "\n",
    "        loss, acc = mean(loss_list), mean(acc_list)\n",
    "\n",
    "    return loss, acc"
   ]
  },
  {
   "cell_type": "code",
   "execution_count": 38,
   "metadata": {},
   "outputs": [],
   "source": [
    "# function to save model, needs the dirpath, the name and the datetime to save\n",
    "def export_model(model, models_fp_name, filename, datetime):\n",
    "\n",
    "    ss = True\n",
    "    sln = True\n",
    "    fext = \"png\"\n",
    "    fpn = filename + \"-\" + datetime\n",
    "    fpn = filename + \".\" + fext\n",
    "    fpn = os.path.join(models_fp_name, fpn)\n",
    "    plot_model(model, to_file=fpn, show_shapes=ss, show_layer_names=sln)"
   ]
  },
  {
   "cell_type": "code",
   "execution_count": 39,
   "metadata": {},
   "outputs": [],
   "source": [
    "# function to format data to save in file\n",
    "def format_metrics(disr_history, disf_history, gan_history):\n",
    "\n",
    "    headers, data = None, None\n",
    "\n",
    "    disr_hist = np.array(disr_history)\n",
    "    disf_hist = np.array(disf_history)\n",
    "    gan_hist = np.array(gan_history)\n",
    "\n",
    "    # formating file headers\n",
    "    headers = [\"dis_loss_real\", \"dis_acc_real\", \"dis_loss_fake\", \"dis_acc_fake\", \"gen_gan_loss\",\"gen_gan_acc\"]\n",
    "\n",
    "    # formating fake discriminator train data\n",
    "    drhl = disr_hist[:,1]# .flatten()\n",
    "    # drhl = drhl.tolist()\n",
    "    drha = disr_hist[:,0]# .flatten()\n",
    "    # drha = drha.tolist()\n",
    "\n",
    "    # formating real discrimintator train data\n",
    "    dfhl = disf_hist[:,1]# .flatten()\n",
    "    # dfhl = dfhl.tolist()\n",
    "    dfha = disf_hist[:,0]# .flatten()\n",
    "    # dfha = dfha.tolist()\n",
    "\n",
    "    # formating gan/gen train data\n",
    "    gghl = gan_hist[:,1]# .flatten()\n",
    "    # gghl = gghl.tolist()\n",
    "    ggha = gan_hist[:,0]#.flatten()\n",
    "    # ggha = ggha.tolist()\n",
    "\n",
    "    # adding all formatted data into list\n",
    "    data = np.column_stack((drhl, drha, dfhl, dfha, gghl, ggha))\n",
    "    # data = pd.DataFrame(values, columns=headers)\n",
    "    return data, headers"
   ]
  },
  {
   "cell_type": "code",
   "execution_count": 40,
   "metadata": {},
   "outputs": [],
   "source": [
    "# function to write data in csv file\n",
    "def write_metrics(data, headers, report_fp_name, filename):\n",
    "\n",
    "    # print(report_fp_name, filename)\n",
    "    fpn = filename + \"-train-history.csv\"\n",
    "    fpn = os.path.join(report_fp_name, fpn)\n",
    "\n",
    "    history_df = pd.DataFrame(data, columns=headers)\n",
    "    tdata = history_df.to_csv(\n",
    "                            fpn,\n",
    "                            sep=\",\",\n",
    "                            index=False,\n",
    "                            encoding=\"utf-8\",\n",
    "                            mode=\"w\",\n",
    "                            quoting=csv.QUOTE_ALL\n",
    "                            )"
   ]
  },
  {
   "cell_type": "code",
   "execution_count": 41,
   "metadata": {},
   "outputs": [],
   "source": [
    "# function to safe the loss/acc logs in training for the gan/gen/dis models\n",
    "def save_metrics(disr_history, disf_history, gan_history, report_fp_name, filename):\n",
    "\n",
    "    data, headers = format_metrics(disr_history, disf_history, gan_history)\n",
    "    write_metrics(data, headers, report_fp_name, filename)"
   ]
  },
  {
   "cell_type": "code",
   "execution_count": 42,
   "metadata": {},
   "outputs": [],
   "source": [
    "# function to know the time between epochs or batchs it return the new time for a new calculation\n",
    "def lapse_time(last_time, epoch):\n",
    "\n",
    "    now_time = datetime.datetime.now()\n",
    "    deltatime = now_time - last_time\n",
    "    deltatime = deltatime.total_seconds()\n",
    "    deltatime = \"%.2f\" % deltatime\n",
    "    msg = \"Epoch:%3d \" % int(epoch+1)\n",
    "    msg = msg + \"elapsed time: \" + str(deltatime) + \" [s]\"\n",
    "    print(msg)\n",
    "    return now_time"
   ]
  },
  {
   "cell_type": "code",
   "execution_count": 43,
   "metadata": {},
   "outputs": [],
   "source": [
    "# special function to train the GAN\n",
    "# https://machinelearningmastery.com/how-to-develop-a-generative-adversarial-network-for-an-mnist-handwritten-digits-from-scratch-in-keras/\n",
    "def train(gen_model, dis_model, gan_model, X_img, X_txt, y, epochs, batch_size, save_intervas, fn_config):\n",
    "\n",
    "    # sample shape\n",
    "    txt_shape = X_txt[0].shape\n",
    "    img_shape = X_img[0].shape\n",
    "    cat_shape = y[0].shape\n",
    "\n",
    "    # sample size\n",
    "    txt_size = X_txt.shape[0]\n",
    "    img_size = X_img.shape[0]\n",
    "    cat_size = y.shape[0]\n",
    "    synth_batch = 4 # OJO!\n",
    "    n = 3\n",
    "\n",
    "    # model IO configuration\n",
    "    model_fn_path = fn_config[0]\n",
    "    report_fn_path = fn_config[1]\n",
    "    dis_model_name = fn_config[2]\n",
    "    gen_model_name = fn_config[3]\n",
    "    gan_model_name = fn_config[4]\n",
    "\n",
    "    # fake/real batch division\n",
    "    half_batch = int(batch_size/2)\n",
    "    batch_per_epoch = int(txt_size/batch_size)\n",
    "    real_batch = int((batch_size*synth_batch)/2)\n",
    "    # batch_per_epoch = int((txt_size*synth_batch)/batch_size)\n",
    "\n",
    "\t# prepare lists for storing stats each epoch\n",
    "    # disf_hist, disr_hist, gen_hist, gan_hist = list(), list(), list(), list()\n",
    "    disf_hist, disr_hist, gan_hist = list(), list(), list()\n",
    "    train_time = None\n",
    "    # iterating in training epochs:\n",
    "    for ep in range(epochs):\n",
    "        # epoch logs\n",
    "        # ep_disf_hist, ep_disr_hist, ep_gen_hist, ep_gan_hist = list(), list(), list(), list()\n",
    "        ep_disf_hist, ep_disr_hist, ep_gan_hist = list(), list(), list()\n",
    "        train_time = datetime.datetime.now()\n",
    "\n",
    "        # iterating over training batchs\n",
    "        for batch in range(batch_per_epoch):\n",
    "\n",
    "            # select real txt2img for discrimintator\n",
    "            Xt_real, Xi_real, y_real = gen_real_samples(X_txt, X_img, y, img_size, half_batch)\n",
    "            # expand the training sample for the discriminator\n",
    "            Xt_real, Xi_real, y_real = expand_samples(Xt_real, Xi_real, y_real, synth_batch)\n",
    "\n",
    "            # create false txt for txt2img for generator\n",
    "            Xt_fake, Xi_fake, y_fake = gen_fake_samples(gen_model, txt_shape, half_batch, cat_shape[0])\n",
    "            # expand the training sample for the discriminator\n",
    "            Xt_fake, Xi_fake, y_fake = expand_samples(Xt_fake, Xi_fake, y_fake, synth_batch)\n",
    "\n",
    "            # print(Xt_real.shape, Xi_real.shape, y_real.shape)\n",
    "            # print(Xt_fake.shape, Xi_fake.shape, y_fake.shape)\n",
    "            # drift labels to confuse the model\n",
    "            Xt_real, Xi_real, y_real, Xt_fake, Xi_fake, y_fake = drift_labels(Xt_real, Xi_real, y_real, \n",
    "                                                                                Xt_fake, Xi_fake, y_fake,\n",
    "                                                                                real_batch, 0.05)\n",
    "    \n",
    "            # train for real samples batch\n",
    "            dhr = dis_model.train_on_batch(Xi_real, y_real)\n",
    "            # train for fake samples batch\n",
    "            dhf = dis_model.train_on_batch(Xi_fake, y_fake)\n",
    "\n",
    "            # prepare noisy text of latent space as input for the generator\n",
    "            Xt_gen = gen_latent_txt(txt_shape, batch_size)\n",
    "            # create inverted labels for the fake noisy text\n",
    "            y_gen = get_fake_cat(batch_size, cat_shape[0])\n",
    "            # update the generator via the discriminator's error\n",
    "            gh = gan_model.train_on_batch(Xt_gen, y_gen)\n",
    "            # print(\"ojo GAN!\", gh)\n",
    "\n",
    "            ep_disr_hist.append(dhf)\n",
    "            ep_disf_hist.append(dhr)\n",
    "            # ep_gen_hist.append(gh)\n",
    "            ep_gan_hist.append(gh)\n",
    "\n",
    "\t\t\t# print('>%d, %d/%d, dis_=%.3f, gen=%.3f' % (ep+1, batch+1, bat_per_epo, dis_history, gen_history))\n",
    "            log_msg = \">>> Epoch: %d, B/Ep: %d/%d, Batch S: %d\" % (ep+1, batch+1, batch_per_epoch, batch_size*synth_batch)\n",
    "            log_msg = \"%s -> [R-Dis loss: %.3f, acc: %.3f]\" % (log_msg, dhr[0], dhr[1])\n",
    "            log_msg = \"%s || [F-Dis loss: %.3f, acc: %.3f]\" % (log_msg, dhf[0], dhf[1])\n",
    "            log_msg = \"%s || [Gen loss: %.3f, acc: %.3f]\" % (log_msg, gh[0], gh[1])\n",
    "            print(log_msg)\n",
    "\n",
    "        # record history for epoch\n",
    "        disr_hist.append(epoch_avg(ep_disr_hist))\n",
    "        disf_hist.append(epoch_avg(ep_disf_hist))\n",
    "        # gen_hist.append(epoch_avg(ep_gen_hist))\n",
    "        gan_hist.append(epoch_avg(ep_gan_hist))\n",
    "\n",
    "\t\t# evaluate the model performance sometimes\n",
    "        if (ep) % save_intervas == 0:\n",
    "            print(\"Epoch:\", ep+1, \"Saving the training progress...\")\n",
    "\n",
    "            test_model(ep, gen_model, dis_model, X_txt, X_img, y, txt_shape, cat_shape, img_size, half_batch, report_fn_path, synth_batch)\n",
    "            plot_metrics(disr_hist, disf_hist, gan_hist, report_fn_path, ep)\n",
    "            save_metrics(disr_hist, disf_hist, gan_hist, report_fn_path, gan_model_name)\n",
    "\n",
    "\t\t# saving the model sometimes\n",
    "        if (ep) % int(save_intervas*5) == 0:\n",
    "            epoch_sufix = \"-epoch%3d\" % int(ep)\n",
    "            # epoch_sufix = \"-last\"\n",
    "            epoch_sufix = str(epoch_sufix)\n",
    "            dis_mn = dis_model_name + epoch_sufix\n",
    "            gen_mn = gen_model_name + epoch_sufix\n",
    "            gan_mn = gan_model_name + epoch_sufix\n",
    "\n",
    "            dis_path = os.path.join(model_fn_path, \"Dis\")\n",
    "            gen_path = os.path.join(model_fn_path, \"Gen\")\n",
    "            gan_path = os.path.join(model_fn_path, \"GAN\")\n",
    "\n",
    "            save_model(dis_model, dis_path, dis_mn)\n",
    "            save_model(gen_model, gen_path, gen_mn)\n",
    "            save_model(gan_model, gan_path, gan_mn)\n",
    "        \n",
    "        train_time = lapse_time(train_time, ep)"
   ]
  },
  {
   "source": [
    "# EXEC SCRIPT\n",
    "\n",
    "## Dataset prep"
   ],
   "cell_type": "markdown",
   "metadata": {}
  },
  {
   "cell_type": "code",
   "execution_count": 45,
   "metadata": {},
   "outputs": [
    {
     "output_type": "stream",
     "name": "stdout",
     "text": [
      "=== working files ===\n\n std-VVG-Gallery-Text-Data-Small.csv \n std-VVG-Gallery-Img-Data-Small.csv \n Small \n rgb \n Validation-GAN-Text-Data-Small.csv\n"
     ]
    }
   ],
   "source": [
    "# variable definitions\n",
    "# root folder\n",
    "dataf = \"Data\"\n",
    "\n",
    "# subfolder with predictions txt data\n",
    "imagef = \"Img\"\n",
    "\n",
    "# report subfolder\n",
    "reportf = \"Reports\"\n",
    "\n",
    "#  subfolder with the CSV files containing the ML pandas dataframe\n",
    "trainf = \"Train\"\n",
    "testf = \"Test\"\n",
    "\n",
    "# subfolder for model IO\n",
    "modelf = \"Models\"\n",
    "\n",
    "# dataframe file extension\n",
    "fext = \"csv\"\n",
    "\n",
    "imgf = \"jpg\"\n",
    "\n",
    "rgb_sufix = \"rgb\"\n",
    "bw_sufix = \"bw\"\n",
    "\n",
    "# standard sufix\n",
    "stdprefix = \"std-\"\n",
    "\n",
    "# ml model useful data\n",
    "mltprefix = \"ml-\"\n",
    "\n",
    "# report names\n",
    "# timestamp = datetime.date.today().strftime(\"%d-%b-%Y\")\n",
    "timestamp = datetime.datetime.now().strftime(\"%Y-%m-%d %H:%M:%S\")\n",
    "\n",
    "sample_sufix = \"Small\"\n",
    "# sample_sufix = \"Large\"\n",
    "# sample_sufix = \"Paintings\"\n",
    "imgf_sufix = \"Img-Data-\"\n",
    "text_sufix = \"Text-Data-\"\n",
    "\n",
    "# std-VVG-Gallery-Text-Data-Paintings\n",
    "gallery_prefix = \"VVG-Gallery-\"\n",
    "\n",
    "# dataframe file name\n",
    "text_fn = stdprefix + gallery_prefix + text_sufix + sample_sufix + \".\" + fext\n",
    "imgf_fn = stdprefix + gallery_prefix + imgf_sufix + sample_sufix + \".\" + fext\n",
    "valt_fn = \"Validation-GAN-\" + text_sufix + sample_sufix + \".\" + fext\n",
    "\n",
    "# model names\n",
    "dis_model_name = \"VVG-Text2Img-Discriminator\"\n",
    "gen_model_name = \"VVG-Text2Img-Generator\"\n",
    "gan_model_name = \"VVG-Text2Img-GAN\"\n",
    "\n",
    "# to continue training after stoping script\n",
    "continue_training = True\n",
    "\n",
    "# ramdom seed\n",
    "randseed = 42\n",
    "\n",
    "# sample distribution train vs test sample size\n",
    "train_split = 0.80\n",
    "test_split = 1.0 - train_split\n",
    "\n",
    "# regex to know that column Im interested in\n",
    "keeper_regex = r\"(^ID$)|(^std_)\"\n",
    "\n",
    "imgt = rgb_sufix\n",
    "# imgt = bw_sufix\n",
    "\n",
    "# woring values for code\n",
    "work_txtf, work_imgf, work_sufix, work_imgt = text_fn, imgf_fn, sample_sufix, imgt\n",
    "\n",
    "print(\"=== working files ===\")\n",
    "print(\"\\n\", work_txtf, \"\\n\", work_imgf, \"\\n\", work_sufix, \"\\n\", work_imgt, \"\\n\", valt_fn)"
   ]
  },
  {
   "cell_type": "code",
   "execution_count": 46,
   "metadata": {},
   "outputs": [
    {
     "output_type": "stream",
     "name": "stdout",
     "text": [
      "c:\\Users\\Felipe\\Documents\\GitHub\\sa-artea\\VVG-MLModel-Trainer\n"
     ]
    }
   ],
   "source": [
    "root_folder = os.getcwd()\n",
    "root_folder = os.path.split(root_folder)[0]\n",
    "root_folder = os.path.normpath(root_folder)\n",
    "print(root_folder)"
   ]
  },
  {
   "cell_type": "code",
   "execution_count": 47,
   "metadata": {},
   "outputs": [
    {
     "output_type": "stream",
     "name": "stdout",
     "text": [
      "c:\\Users\\Felipe\\Documents\\GitHub\\sa-artea\\VVG-MLModel-Trainer\\Data\\Train\\std-VVG-Gallery-Text-Data-Small.csv True\nc:\\Users\\Felipe\\Documents\\GitHub\\sa-artea\\VVG-MLModel-Trainer\\Data\\Train\\std-VVG-Gallery-Img-Data-Small.csv True\nc:\\Users\\Felipe\\Documents\\GitHub\\sa-artea\\VVG-MLModel-Trainer\\Data\\Test\\Validation-GAN-Text-Data-Small.csv False\nc:\\Users\\Felipe\\Documents\\GitHub\\sa-artea\\VVG-MLModel-Trainer\\Data\\Models True\nc:\\Users\\Felipe\\Documents\\GitHub\\sa-artea\\VVG-MLModel-Trainer\\Data\\Reports True\n"
     ]
    }
   ],
   "source": [
    "# variable reading\n",
    "# dataframe filepath for texttual data\n",
    "text_fn_path = os.path.join(root_folder, dataf, trainf, work_txtf)\n",
    "print(text_fn_path, os.path.exists(text_fn_path))\n",
    "\n",
    "# dataframe filepath for img data\n",
    "img_fn_path = os.path.join(root_folder, dataf, trainf, work_imgf)\n",
    "print(img_fn_path, os.path.exists(img_fn_path))\n",
    "\n",
    "# dataframe filepath form GAN data\n",
    "val_fn_path = os.path.join(root_folder, dataf, testf, valt_fn)\n",
    "print(val_fn_path, os.path.exists(val_fn_path))\n",
    "\n",
    "# filepath for the models\n",
    "model_fn_path = os.path.join(root_folder, dataf, modelf)\n",
    "print(model_fn_path, os.path.exists(model_fn_path))\n",
    "\n",
    "# filepath for the reports\n",
    "report_fn_path = os.path.join(root_folder, dataf, reportf)\n",
    "print(report_fn_path, os.path.exists(report_fn_path))"
   ]
  },
  {
   "cell_type": "code",
   "execution_count": 48,
   "metadata": {},
   "outputs": [],
   "source": [
    "# rading training data\n",
    "# loading textual file\n",
    "text_df = pd.read_csv(\n",
    "                text_fn_path,\n",
    "                sep=\",\",\n",
    "                encoding=\"utf-8\",\n",
    "                engine=\"python\",\n",
    "            )\n",
    "text_cols = text_df.columns.values\n",
    "\n",
    "# loading image file\n",
    "img_df = pd.read_csv(\n",
    "                img_fn_path,\n",
    "                sep=\",\",\n",
    "                encoding=\"utf-8\",\n",
    "                engine=\"python\",\n",
    "            )\n",
    "img_cols = img_df.columns.values"
   ]
  },
  {
   "cell_type": "code",
   "execution_count": 49,
   "metadata": {},
   "outputs": [
    {
     "output_type": "stream",
     "name": "stdout",
     "text": [
      "['ID', 'F-number', 'JH-number', 'creator-date', 'creator-place', 'Dimensions', 'details', 'std_cat_creator-date', 'std_cat_creator-place', 'std_cat_Dimensions', 'std_cat_details']\n"
     ]
    }
   ],
   "source": [
    "idx_cols = list()\n",
    "\n",
    "for tcol in text_cols:\n",
    "    if tcol in img_cols:\n",
    "        idx_cols.append(tcol)\n",
    "print(idx_cols)\n",
    "\n",
    "source_df = pd.merge(text_df, img_df, how=\"inner\", on=idx_cols)"
   ]
  },
  {
   "cell_type": "code",
   "execution_count": 50,
   "metadata": {},
   "outputs": [
    {
     "output_type": "stream",
     "name": "stdout",
     "text": [
      "<class 'pandas.core.frame.DataFrame'>\nInt64Index: 59 entries, 0 to 58\nData columns (total 22 columns):\n #   Column                 Non-Null Count  Dtype \n---  ------                 --------------  ----- \n 0   ID                     59 non-null     object\n 1   F-number               59 non-null     object\n 2   JH-number              59 non-null     object\n 3   creator-date           59 non-null     object\n 4   creator-place          59 non-null     object\n 5   Dimensions             59 non-null     object\n 6   details                59 non-null     object\n 7   MUS_TEXT               59 non-null     object\n 8   std_cat_creator-date   59 non-null     object\n 9   std_cat_creator-place  59 non-null     object\n 10  std_cat_Dimensions     59 non-null     object\n 11  std_cat_details        59 non-null     object\n 12  clr_tokens             59 non-null     object\n 13  lemmas                 59 non-null     object\n 14  bows_tokens            59 non-null     object\n 15  idxs_tokens            59 non-null     object\n 16  tfidf_tokens           59 non-null     object\n 17  std_dvec_tokens        59 non-null     object\n 18  rgb_img                59 non-null     object\n 19  bw_img                 59 non-null     object\n 20  rgb_shape              59 non-null     object\n 21  bw_shape               59 non-null     object\ndtypes: object(22)\nmemory usage: 10.6+ KB\n"
     ]
    }
   ],
   "source": [
    "# checking everything is allrigth\n",
    "img_df = None\n",
    "text_df = None\n",
    "source_df.info()"
   ]
  },
  {
   "cell_type": "code",
   "execution_count": 51,
   "metadata": {},
   "outputs": [],
   "source": [
    "source_df = source_df.set_index(\"ID\")"
   ]
  },
  {
   "cell_type": "code",
   "execution_count": 52,
   "metadata": {
    "tags": []
   },
   "outputs": [
    {
     "output_type": "stream",
     "name": "stdout",
     "text": [
      "rgb_img rgb_img_data\n"
     ]
    }
   ],
   "source": [
    "# reading images from folder and loading images into df\n",
    "# working variables\n",
    "src_col = work_imgt + \"_img\"\n",
    "tgt_col = work_imgt + \"_img\" + \"_data\"\n",
    "work_shape = work_imgt + \"_shape\"\n",
    "\n",
    "print(src_col, tgt_col)\n",
    "source_df = get_images(root_folder, source_df, src_col, tgt_col)"
   ]
  },
  {
   "cell_type": "code",
   "execution_count": 53,
   "metadata": {
    "tags": []
   },
   "outputs": [],
   "source": [
    "# synthetic data augmentation\n",
    "# source_df = augment_images(source_df, src_col, tgt_col, 6)\n",
    "# source_df.info()"
   ]
  },
  {
   "cell_type": "code",
   "execution_count": 54,
   "metadata": {},
   "outputs": [
    {
     "output_type": "stream",
     "name": "stdout",
     "text": [
      "rgb_shape\n(800, 800, 3)\n"
     ]
    }
   ],
   "source": [
    "# searching the biggest shape in the image files\n",
    "print(work_shape)\n",
    "shape_data = source_df[work_shape]\n",
    "max_shape = get_mshape(shape_data, work_imgt)\n",
    "print(max_shape)"
   ]
  },
  {
   "cell_type": "code",
   "execution_count": 55,
   "metadata": {
    "tags": []
   },
   "outputs": [
    {
     "output_type": "stream",
     "name": "stdout",
     "text": [
      "rgb_img_data pad_cnn_rgb_img_data rgb\n"
     ]
    }
   ],
   "source": [
    "# padding training data according to max shape of the images in gallery\n",
    "pad_prefix = \"pad_\"\n",
    "conv_prefix = \"cnn_\"\n",
    "src_col = work_imgt + \"_img\" + \"_data\"\n",
    "tgt_col = pad_prefix + conv_prefix + src_col\n",
    "\n",
    "print(src_col, tgt_col, work_imgt)\n",
    "source_df = padding_images(source_df, src_col, tgt_col, max_shape, work_imgt)"
   ]
  },
  {
   "cell_type": "code",
   "execution_count": 56,
   "metadata": {},
   "outputs": [
    {
     "output_type": "stream",
     "name": "stdout",
     "text": [
      "standarizing regular images...\n"
     ]
    }
   ],
   "source": [
    "# reading images from folder and stadarizing images into df\n",
    "# working variables\n",
    "print(\"standarizing regular images...\")\n",
    "src_col = work_imgt + \"_img\" + \"_data\"\n",
    "tgt_col = \"std_\" + src_col\n",
    "\n",
    "# source_df = standarize_images(source_df, src_col, tgt_col)"
   ]
  },
  {
   "cell_type": "code",
   "execution_count": 57,
   "metadata": {},
   "outputs": [
    {
     "output_type": "stream",
     "name": "stdout",
     "text": [
      "standarizing padded images...\npad_cnn_rgb_img_data std_pad_cnn_rgb_img_data\n"
     ]
    }
   ],
   "source": [
    "print(\"standarizing padded images...\")\n",
    "src_col = pad_prefix + conv_prefix + work_imgt + \"_img\" + \"_data\"\n",
    "tgt_col = \"std_\" + src_col\n",
    "print(src_col, tgt_col)\n",
    "# std_opt = \"std\"\n",
    "std_opt = \"ctr\"\n",
    "source_df = standarize_images(source_df, src_col, tgt_col, work_imgt, std_opt)"
   ]
  },
  {
   "cell_type": "code",
   "execution_count": 58,
   "metadata": {},
   "outputs": [
    {
     "output_type": "stream",
     "name": "stdout",
     "text": [
      "<class 'pandas.core.frame.DataFrame'>\nIndex: 59 entries, s0004V1962r to d1125S2005\nData columns (total 24 columns):\n #   Column                    Non-Null Count  Dtype \n---  ------                    --------------  ----- \n 0   F-number                  59 non-null     object\n 1   JH-number                 59 non-null     object\n 2   creator-date              59 non-null     object\n 3   creator-place             59 non-null     object\n 4   Dimensions                59 non-null     object\n 5   details                   59 non-null     object\n 6   MUS_TEXT                  59 non-null     object\n 7   std_cat_creator-date      59 non-null     object\n 8   std_cat_creator-place     59 non-null     object\n 9   std_cat_Dimensions        59 non-null     object\n 10  std_cat_details           59 non-null     object\n 11  clr_tokens                59 non-null     object\n 12  lemmas                    59 non-null     object\n 13  bows_tokens               59 non-null     object\n 14  idxs_tokens               59 non-null     object\n 15  tfidf_tokens              59 non-null     object\n 16  std_dvec_tokens           59 non-null     object\n 17  rgb_img                   59 non-null     object\n 18  bw_img                    59 non-null     object\n 19  rgb_shape                 59 non-null     object\n 20  bw_shape                  59 non-null     object\n 21  rgb_img_data              59 non-null     object\n 22  pad_cnn_rgb_img_data      59 non-null     object\n 23  std_pad_cnn_rgb_img_data  59 non-null     object\ndtypes: object(24)\nmemory usage: 11.5+ KB\n"
     ]
    }
   ],
   "source": [
    "# shuffle the DataFrame rows\n",
    "source_df.info()"
   ]
  },
  {
   "cell_type": "code",
   "execution_count": 59,
   "metadata": {},
   "outputs": [
    {
     "output_type": "execute_result",
     "data": {
      "text/plain": [
       "107"
      ]
     },
     "metadata": {},
     "execution_count": 59
    }
   ],
   "source": [
    "# cleaning memory\n",
    "gc.collect()"
   ]
  },
  {
   "cell_type": "code",
   "execution_count": 60,
   "metadata": {},
   "outputs": [
    {
     "output_type": "stream",
     "name": "stdout",
     "text": [
      "------ original input/interested columns ------\n['F-number', 'JH-number', 'creator-date', 'creator-place', 'Dimensions', 'details', 'MUS_TEXT', 'std_cat_creator-date', 'std_cat_creator-place', 'std_cat_Dimensions', 'std_cat_details', 'clr_tokens', 'lemmas', 'bows_tokens', 'idxs_tokens', 'tfidf_tokens', 'std_dvec_tokens', 'rgb_img', 'bw_img', 'rgb_shape', 'bw_shape', 'rgb_img_data', 'pad_cnn_rgb_img_data', 'std_pad_cnn_rgb_img_data']\n\n\n------ Interesting columns ------\n['std_cat_creator-date', 'std_cat_creator-place', 'std_cat_Dimensions', 'std_cat_details', 'std_dvec_tokens', 'std_pad_cnn_rgb_img_data']\n"
     ]
    }
   ],
   "source": [
    "# selecting data to train\n",
    "# want to keep the columns starting with STD_\n",
    "df_columns = list(source_df.columns)\n",
    "print(\"------ original input/interested columns ------\")\n",
    "print(df_columns)\n",
    "\n",
    "# create the columns Im interesting in\n",
    "keep_columns = [i for i in df_columns if re.search(keeper_regex, i)]\n",
    "\n",
    "print(\"\\n\\n------ Interesting columns ------\")\n",
    "print(keep_columns)"
   ]
  },
  {
   "cell_type": "code",
   "execution_count": 61,
   "metadata": {},
   "outputs": [
    {
     "output_type": "stream",
     "name": "stdout",
     "text": [
      "count values of std_cat_creator-date := (16,)\ncount values of std_cat_creator-place := (5,)\ncount values of std_cat_Dimensions := (52,)\ncount values of std_cat_details := (11,)\ncount values of std_dvec_tokens := (45,)\n['std_cat_creator-date', 'std_cat_Dimensions']\n"
     ]
    }
   ],
   "source": [
    "# checking the number of max num on labels in the categories\n",
    "too_disperse = list()\n",
    "max_dis = 2\n",
    "tcount = 0\n",
    "\n",
    "while tcount < max_dis:\n",
    "    for label_col in keep_columns:\n",
    "\n",
    "        if label_col != \"std_pad_cnn_rgb_img_data\":\n",
    "\n",
    "            label_count = source_df[label_col].value_counts(normalize=False)\n",
    "\n",
    "            if tcount < label_count.shape[0] and (\"std_cat_\" in label_col):\n",
    "                tcount = label_count.shape[0]\n",
    "                too_disperse.append(label_col)\n",
    "\n",
    "            print(\"count values of\", label_col, \":=\", label_count.shape)#.__dict__)\n",
    "    tcount = tcount + 1\n",
    "\n",
    "print(too_disperse)"
   ]
  },
  {
   "cell_type": "code",
   "execution_count": 62,
   "metadata": {},
   "outputs": [
    {
     "output_type": "stream",
     "name": "stdout",
     "text": [
      "------ Interesting columns ------\n['std_cat_creator-place', 'std_cat_details', 'std_dvec_tokens', 'std_pad_cnn_rgb_img_data']\n"
     ]
    }
   ],
   "source": [
    "# creating the training dataframe\n",
    "for too in too_disperse:\n",
    "    keep_columns.remove(too)\n",
    "# keep_columns.remove(\"ID\")\n",
    "print(\"------ Interesting columns ------\")\n",
    "print(keep_columns)\n",
    "train_df = pd.DataFrame(source_df, columns=keep_columns)"
   ]
  },
  {
   "cell_type": "code",
   "execution_count": 63,
   "metadata": {},
   "outputs": [],
   "source": [
    "# train_df.info()\n",
    "train_df = train_df.sample(frac = 1)\n",
    "source_df = None"
   ]
  },
  {
   "cell_type": "code",
   "execution_count": 64,
   "metadata": {},
   "outputs": [
    {
     "output_type": "stream",
     "name": "stdout",
     "text": [
      "Padded image column in dataframe:  std_pad_cnn_rgb_img_data\n"
     ]
    }
   ],
   "source": [
    "# getting the column with the relevant data to train\n",
    "padimg_col = [i for i in df_columns if re.search(u\"^std_pad_\", i)]\n",
    "padimg_col = padimg_col[0]\n",
    "print(\"Padded image column in dataframe: \", str(padimg_col))"
   ]
  },
  {
   "cell_type": "code",
   "execution_count": 65,
   "metadata": {},
   "outputs": [
    {
     "output_type": "stream",
     "name": "stdout",
     "text": [
      "Dense vector column in dataframe:  std_dvec_tokens\n"
     ]
    }
   ],
   "source": [
    "# getting the column with the relevant data to train\n",
    "dvector_col = [i for i in df_columns if re.search(u\"^std_dvec\", i)]\n",
    "dvector_col = dvector_col[0]\n",
    "print(\"Dense vector column in dataframe: \", str(dvector_col))"
   ]
  },
  {
   "cell_type": "code",
   "execution_count": 66,
   "metadata": {},
   "outputs": [],
   "source": [
    "# fix column data type\n",
    "work_corpus = train_df[dvector_col]\n",
    "work_corpus = format_dvector(work_corpus)"
   ]
  },
  {
   "cell_type": "code",
   "execution_count": 67,
   "metadata": {},
   "outputs": [],
   "source": [
    "# changing type in dataframe\n",
    "train_df[dvector_col] = work_corpus\n",
    "work_corpus = None"
   ]
  },
  {
   "cell_type": "code",
   "execution_count": 68,
   "metadata": {},
   "outputs": [
    {
     "output_type": "stream",
     "name": "stdout",
     "text": [
      "<class 'pandas.core.frame.DataFrame'>\nIndex: 59 entries, d1125S2005 to d0012V1962r\nData columns (total 4 columns):\n #   Column                    Non-Null Count  Dtype \n---  ------                    --------------  ----- \n 0   std_cat_creator-place     59 non-null     object\n 1   std_cat_details           59 non-null     object\n 2   std_dvec_tokens           59 non-null     object\n 3   std_pad_cnn_rgb_img_data  59 non-null     object\ndtypes: object(4)\nmemory usage: 2.3+ KB\n"
     ]
    }
   ],
   "source": [
    "train_df.info()"
   ]
  },
  {
   "cell_type": "code",
   "execution_count": 69,
   "metadata": {},
   "outputs": [
    {
     "output_type": "stream",
     "name": "stdout",
     "text": [
      "(59,)\n<class 'numpy.ndarray'>\n(59, 142)\n(59, 142)\n"
     ]
    }
   ],
   "source": [
    "# padding training data according to max length of text corpus\n",
    "pad_prefix = \"pad_\"\n",
    "recurrent_prefix = \"lstm_\"\n",
    "\n",
    "# getting the corpus dense vectors\n",
    "work_corpus = np.asarray(train_df[dvector_col], dtype=\"object\")\n",
    "\n",
    "# converting list of list to array of array\n",
    "print(work_corpus.shape)\n",
    "print(type(work_corpus[0]))\n",
    "\n",
    "# padding the representation\n",
    "work_corpus = pad_sequences(work_corpus, dtype='object', padding=\"post\")\n",
    "print(work_corpus.shape)\n",
    "\n",
    "# creating the new column and saving padded data\n",
    "padded_col_dvector = pad_prefix + dvector_col\n",
    "\n",
    "# print(padded_col)\n",
    "train_df[padded_col_dvector] = list(work_corpus)\n",
    "print(work_corpus.shape)\n",
    "work_corpus = None"
   ]
  },
  {
   "cell_type": "code",
   "execution_count": 70,
   "metadata": {},
   "outputs": [],
   "source": [
    "regular_img_col = \"std_\" + work_imgt + \"_img\" + \"_data\"\n",
    "padded_img_col = \"std_\" + pad_prefix + conv_prefix + work_imgt + \"_img\" + \"_data\""
   ]
  },
  {
   "cell_type": "code",
   "execution_count": 71,
   "metadata": {},
   "outputs": [
    {
     "output_type": "stream",
     "name": "stdout",
     "text": [
      "['std_cat_creator-place', 'std_cat_details', 'std_dvec_tokens', 'std_pad_cnn_rgb_img_data']\nTrainable labels columns in dataframe:  ['std_cat_creator-place', 'std_cat_details']\n"
     ]
    }
   ],
   "source": [
    "# getting the columns with the relevant labels to predict\n",
    "print(keep_columns)\n",
    "labels_cols = [i for i in keep_columns if re.search(u\"^std_cat_\", i)]\n",
    "print(\"Trainable labels columns in dataframe: \", str(labels_cols))\n",
    "\n",
    "labels_data = train_df[labels_cols]\n",
    "labels_concat = list()\n",
    "\n",
    "# concatenating all category labels from dataframe\n",
    "for index, row in labels_data.iterrows():\n",
    "    row = concat_labels(row, labels_cols)\n",
    "    labels_concat.append(row)"
   ]
  },
  {
   "cell_type": "code",
   "execution_count": 72,
   "metadata": {},
   "outputs": [
    {
     "output_type": "stream",
     "name": "stdout",
     "text": [
      "16 <class 'list'>\n"
     ]
    }
   ],
   "source": [
    "print(len(labels_concat[0]), type(labels_concat[0]))"
   ]
  },
  {
   "cell_type": "code",
   "execution_count": 73,
   "metadata": {},
   "outputs": [],
   "source": [
    "# updating dataframe\n",
    "tcat_label_col = \"std_cat_labels\"\n",
    "train_df[tcat_label_col] = labels_concat"
   ]
  },
  {
   "cell_type": "code",
   "execution_count": 74,
   "metadata": {},
   "outputs": [
    {
     "output_type": "stream",
     "name": "stdout",
     "text": [
      "pad_std_dvec_tokens\n"
     ]
    }
   ],
   "source": [
    "text_lstm_col = padded_col_dvector\n",
    "print(text_lstm_col)"
   ]
  },
  {
   "cell_type": "code",
   "execution_count": 75,
   "metadata": {},
   "outputs": [
    {
     "output_type": "stream",
     "name": "stdout",
     "text": [
      "<class 'pandas.core.frame.DataFrame'>\nIndex: 59 entries, d1125S2005 to d0012V1962r\nData columns (total 6 columns):\n #   Column                    Non-Null Count  Dtype \n---  ------                    --------------  ----- \n 0   std_cat_creator-place     59 non-null     object\n 1   std_cat_details           59 non-null     object\n 2   std_dvec_tokens           59 non-null     object\n 3   std_pad_cnn_rgb_img_data  59 non-null     object\n 4   pad_std_dvec_tokens       59 non-null     object\n 5   std_cat_labels            59 non-null     object\ndtypes: object(6)\nmemory usage: 3.2+ KB\n"
     ]
    }
   ],
   "source": [
    "train_df.info()"
   ]
  },
  {
   "cell_type": "code",
   "execution_count": 76,
   "metadata": {},
   "outputs": [
    {
     "output_type": "execute_result",
     "data": {
      "text/plain": [
       "15"
      ]
     },
     "metadata": {},
     "execution_count": 76
    }
   ],
   "source": [
    "gc.collect()"
   ]
  },
  {
   "cell_type": "code",
   "execution_count": 77,
   "metadata": {},
   "outputs": [
    {
     "output_type": "stream",
     "name": "stdout",
     "text": [
      "std_pad_cnn_rgb_img_data\n"
     ]
    }
   ],
   "source": [
    "working_img_col = padded_img_col\n",
    "# working_img_col = regular_img_col\n",
    "print(working_img_col)"
   ]
  },
  {
   "cell_type": "code",
   "execution_count": 78,
   "metadata": {
    "tags": []
   },
   "outputs": [
    {
     "output_type": "stream",
     "name": "stdout",
     "text": [
      "59 (800, 800, 3)\n",
      "final X_img shape (59, 800, 800, 3)\n"
     ]
    }
   ],
   "source": [
    "# creating Train/Test sample\n",
    "# getting the X, y to train, as is autoencoder both are the same\n",
    "og_shape = train_df[working_img_col][0].shape# y[0].shape\n",
    "X_img_len = train_df[working_img_col].shape[0] #y.shape[0]\n",
    "print(X_img_len, og_shape)\n",
    "\n",
    "X_img = None\n",
    "\n",
    "for img in train_df[working_img_col]:\n",
    "\n",
    "    if X_img is None:\n",
    "        img = np.expand_dims(img, axis=0)\n",
    "        X_img = img\n",
    "    else:\n",
    "        img = np.expand_dims(img, axis=0)\n",
    "        X_img = np.concatenate((X_img, img), axis=0)\n",
    "\n",
    "print(\"final X_img shape\", X_img.shape)\n",
    "# y.shape = (1899, 800, 800, 3)"
   ]
  },
  {
   "cell_type": "code",
   "execution_count": 79,
   "metadata": {},
   "outputs": [
    {
     "output_type": "stream",
     "name": "stdout",
     "text": [
      "<class 'numpy.ndarray'>\n<class 'numpy.ndarray'>\n(800, 800, 3)\n"
     ]
    }
   ],
   "source": [
    "print(type(X_img[0]))\n",
    "print(type(X_img[0][0]))\n",
    "print(X_img[1].shape)"
   ]
  },
  {
   "cell_type": "code",
   "execution_count": 80,
   "metadata": {},
   "outputs": [],
   "source": [
    "if len(X_img.shape) == 3:\n",
    "    X_img = X_img[:,:,:,np.newaxis]"
   ]
  },
  {
   "cell_type": "code",
   "execution_count": 81,
   "metadata": {},
   "outputs": [
    {
     "output_type": "stream",
     "name": "stdout",
     "text": [
      "y shape (59, 16)\n"
     ]
    }
   ],
   "source": [
    "# y = train_df[working_img_col]\n",
    "# y = np.expand_dims(y, axis=0)\n",
    "y = np.asarray([np.asarray(j, dtype=\"object\") for j in train_df[tcat_label_col]], dtype=\"object\")\n",
    "print(\"y shape\", y.shape)"
   ]
  },
  {
   "cell_type": "code",
   "execution_count": 82,
   "metadata": {},
   "outputs": [
    {
     "output_type": "stream",
     "name": "stdout",
     "text": [
      "y shape (59, 1)\n"
     ]
    }
   ],
   "source": [
    "y = np.ones((y.shape[0],1)).astype(\"float32\")\n",
    "print(\"y shape\", y.shape)"
   ]
  },
  {
   "cell_type": "code",
   "execution_count": 83,
   "metadata": {},
   "outputs": [
    {
     "output_type": "stream",
     "name": "stdout",
     "text": [
      "<class 'numpy.ndarray'>\n<class 'numpy.float32'>\n(1,)\n"
     ]
    }
   ],
   "source": [
    "print(type(y[0]))\n",
    "print(type(y[0][0]))\n",
    "print(y[1].shape)"
   ]
  },
  {
   "cell_type": "code",
   "execution_count": 84,
   "metadata": {},
   "outputs": [
    {
     "output_type": "stream",
     "name": "stdout",
     "text": [
      "final X_lstm shape (59, 142)\n"
     ]
    }
   ],
   "source": [
    "# creating Train/Test sample\n",
    "# getting the X, y to train, as is autoencoder both are the same\n",
    "X_txt = np.asarray([np.asarray(i, dtype=\"object\") for i in train_df[text_lstm_col]], dtype=\"object\")\n",
    "# X = np.array(train_df[text_lstm_col]).astype(\"object\")\n",
    "# X = train_df[text_lstm_col]\n",
    "print(\"final X_lstm shape\", X_txt.shape)"
   ]
  },
  {
   "cell_type": "code",
   "execution_count": 85,
   "metadata": {},
   "outputs": [
    {
     "output_type": "stream",
     "name": "stdout",
     "text": [
      "<class 'numpy.ndarray'>\n<class 'float'>\n(142,)\n"
     ]
    }
   ],
   "source": [
    "print(type(X_txt[0]))\n",
    "print(type(X_txt[0][0]))\n",
    "print(X_txt[1].shape)"
   ]
  },
  {
   "cell_type": "code",
   "execution_count": 86,
   "metadata": {},
   "outputs": [
    {
     "output_type": "stream",
     "name": "stdout",
     "text": [
      "15 142\n"
     ]
    }
   ],
   "source": [
    "# timestep is the memory of what i read, this is the longest sentence I can remember in the short term\n",
    "# neet to look for the best option, in small the max is 15\n",
    "timesteps = 15\n",
    "\n",
    "# features is the max length in the corpus, after padding!!!!\n",
    "features = X_txt[0].shape[0]\n",
    "print(timesteps, features)"
   ]
  },
  {
   "cell_type": "code",
   "execution_count": 87,
   "metadata": {},
   "outputs": [
    {
     "output_type": "stream",
     "name": "stdout",
     "text": [
      "(59, 142)\n"
     ]
    }
   ],
   "source": [
    "print(X_txt.shape)"
   ]
  },
  {
   "cell_type": "code",
   "execution_count": 88,
   "metadata": {},
   "outputs": [],
   "source": [
    "# preparation for reshape lstm model\n",
    "X_txt = temporalize(X_txt, timesteps)"
   ]
  },
  {
   "cell_type": "code",
   "execution_count": 89,
   "metadata": {},
   "outputs": [
    {
     "output_type": "stream",
     "name": "stdout",
     "text": [
      "(43, 15, 1, 142)\n"
     ]
    }
   ],
   "source": [
    "print(X_txt.shape)"
   ]
  },
  {
   "cell_type": "code",
   "execution_count": 90,
   "metadata": {},
   "outputs": [
    {
     "output_type": "stream",
     "name": "stdout",
     "text": [
      "(43, 15, 142)\n"
     ]
    }
   ],
   "source": [
    "X_txt = X_txt.reshape((X_txt.shape[0], timesteps, features))\n",
    "print(X_txt.shape)"
   ]
  },
  {
   "cell_type": "code",
   "execution_count": 91,
   "metadata": {},
   "outputs": [
    {
     "output_type": "stream",
     "name": "stdout",
     "text": [
      "16\n"
     ]
    }
   ],
   "source": [
    "diff_txt = y.shape[0] - X_txt.shape[0]\n",
    "print(diff_txt)"
   ]
  },
  {
   "cell_type": "code",
   "execution_count": 92,
   "metadata": {},
   "outputs": [
    {
     "output_type": "stream",
     "name": "stdout",
     "text": [
      "(59, 15, 142)\n"
     ]
    }
   ],
   "source": [
    "Xa = X_txt[-diff_txt:]\n",
    "X_txt = np.append(X_txt, Xa, axis=0)\n",
    "print(X_txt.shape)\n",
    "Xa = None"
   ]
  },
  {
   "cell_type": "code",
   "execution_count": 93,
   "metadata": {},
   "outputs": [
    {
     "output_type": "stream",
     "name": "stdout",
     "text": [
      "(59, 15, 142)\n(59, 800, 800, 3)\n(59, 1)\n"
     ]
    }
   ],
   "source": [
    "print(X_txt.shape)\n",
    "print(X_img.shape)\n",
    "print(y.shape)"
   ]
  },
  {
   "cell_type": "code",
   "execution_count": 94,
   "metadata": {},
   "outputs": [
    {
     "output_type": "stream",
     "name": "stdout",
     "text": [
      "(15, 142)\n(800, 800, 3)\n(1,)\n"
     ]
    }
   ],
   "source": [
    "print(X_txt[0].shape)\n",
    "print(X_img[0].shape)\n",
    "print(y[0].shape)\n",
    "txt_og_shape = X_txt[0].shape\n",
    "img_og_shape = X_img[0].shape\n",
    "cat_og_shape = y[0].shape"
   ]
  },
  {
   "cell_type": "code",
   "execution_count": 95,
   "metadata": {},
   "outputs": [],
   "source": [
    "# Xt = X_txt # np.array(X).astype(\"object\")\n",
    "# Xi = X_img\n",
    "# yt = y # np.array(y).astype(\"object\")\n",
    "# # ya = y[0:timesteps]\n",
    "# train_df = None"
   ]
  },
  {
   "cell_type": "code",
   "execution_count": 96,
   "metadata": {},
   "outputs": [
    {
     "output_type": "execute_result",
     "data": {
      "text/plain": [
       "90"
      ]
     },
     "metadata": {},
     "execution_count": 96
    }
   ],
   "source": [
    "gc.collect()"
   ]
  },
  {
   "source": [
    "## ML Model Definition"
   ],
   "cell_type": "markdown",
   "metadata": {}
  },
  {
   "cell_type": "code",
   "execution_count": 106,
   "metadata": {},
   "outputs": [
    {
     "output_type": "stream",
     "name": "stdout",
     "text": [
      "Generator LSMT neurons: 500\nGenerator LSTM memory span: 15\nGenerator LSTM learning features: 142\nDiscriminator & Generator learning batch size: 32\nGenerator CNN filter number: 32\nDiscriminator Input shape: (800, 800, 3)\nGenerator Output shape: (800, 800, 3)\nDiscriminator & Generator CNN kernel size: (3, 3)\nDiscriminator & Generator CNN pad size: (2, 2)\nGenerator Dense middle neurons: 30000\nDiscriminator Output prediction labels: 1\nDiscriminator Dense middle neurons: 192\ntraining epochs: 500\n"
     ]
    }
   ],
   "source": [
    "# number of neurons or processing units in LSTM\n",
    "# the number is because of good practices for NLP\n",
    "# min 200 max 500, normaly 300 (related to the semantic number of themes)\n",
    "# 120 for now in this test\n",
    "lstm_units = 500\n",
    "print(\"Generator LSMT neurons:\", lstm_units)\n",
    "\n",
    "# timestep is 1 because you read a word at a time\n",
    "memory = timesteps\n",
    "print(\"Generator LSTM memory span:\", memory)\n",
    "# configuration to remember previous recurrent layer\n",
    "rs = True\n",
    "\n",
    "# features is the max length in the corpus, after padding!!!!\n",
    "# print(X_train.shape)\n",
    "features = X_txt.shape[2]\n",
    "print(\"Generator LSTM learning features:\", features)\n",
    "\n",
    "# batch size\n",
    "bs = 32\n",
    "print(\"Discriminator & Generator learning batch size:\", bs)\n",
    "\n",
    "# number of filters or processing units in CNN\n",
    "# the number is because of good practices from computer vision\n",
    "# min 8 max 64, normaly 32 (related to the size of the images)\n",
    "# 16 for now in this test\n",
    "\n",
    "# imgage filters\n",
    "# filters = 16\n",
    "filters = 32\n",
    "# filters = 64\n",
    "# filters = 128\n",
    "print(\"Generator CNN filter number:\", filters)\n",
    "\n",
    "disin_shape = X_img[0].shape\n",
    "genout_shape = X_img[0].shape\n",
    "# in_shape = (None, None, 1)\n",
    "# in_shape = (794, 794, 3)\n",
    "print(\"Discriminator Input shape:\", disin_shape)\n",
    "print(\"Generator Output shape:\", genout_shape)\n",
    "\n",
    "ksize = (3,3) \n",
    "# ksize = (5,5)\n",
    "stsize = (1,1)\n",
    "# stsize = (2,2)\n",
    "psize = (2,2)\n",
    "# psize = (4,4)\n",
    "\n",
    "print(\"Discriminator & Generator CNN kernel size:\", ksize)\n",
    "print(\"Discriminator & Generator CNN pad size:\", psize)\n",
    "\n",
    "# neurons/processing units size in the dense layer (THIS SHOULD BE SOM!!!!)\n",
    "gen_midn = 100*100*3 # 50*50*3\n",
    "gen_reshape = (100,100,3) # (50,50,3)\n",
    "print(\"Generator Dense middle neurons:\", gen_midn)\n",
    "# dn2 = len(XB_set[0])*SECURITY_FACTOR\n",
    "\n",
    "# numero de neuronas de salida\n",
    "# out_shape = X_train[0].shape\n",
    "# out_shape = (None, None, 3)\n",
    "# out_shape = in_shape\n",
    "out_dis = y[0].shape[0]\n",
    "# out_dis = y[0].shape\n",
    "print(\"Discriminator Output prediction labels:\", out_dis)\n",
    "\n",
    "channels = img_og_shape[2]\n",
    "# channels = 8\n",
    "# dis_midn = filters*out_dis*channels*15*5\n",
    "dis_midn = filters*channels*out_dis*2\n",
    "print(\"Discriminator Dense middle neurons:\", dis_midn)\n",
    "\n",
    "# axtivation functions\n",
    "in_dis_actf = LeakyReLU(alpha=0.2) # \"relu\"\n",
    "in_gen_actf = LeakyReLU(alpha=0.2) # \"relu\"\n",
    "hid_ly_actf = LeakyReLU(alpha=0.2) # \"relu\",\n",
    "out_dis_act = \"sigmoid\" # \"softmax\"\n",
    "out_gen_act = \"tanh\" # \"softmax\"\n",
    "\n",
    "# loss percentage\n",
    "dis_ldrop = 0.3\n",
    "gen_ldrop = 0.2\n",
    "\n",
    "# padding policy\n",
    "pad = \"same\"\n",
    "\n",
    "# random seed\n",
    "randseed = 42\n",
    "\n",
    "# parameters to compile model\n",
    "# loss function\n",
    "# ls = \"mean_squared_error\"\n",
    "# ls = \"categorical_crossentropy\"\n",
    "ls = \"binary_crossentropy\"\n",
    "\n",
    "##########################################\n",
    "# discriminator optimization function\n",
    "# Adam option\n",
    "dis_opti = Adam(learning_rate=0.00020, beta_1=0.5)\n",
    "\n",
    "# Adadelta option\n",
    "# dis_opti = Adadelta(learning_rate=0.00020)\n",
    "\n",
    "# Adagrad option\n",
    "# dis_opti = Adagrad(learning_rate=0.00020, momentum=0.5)\n",
    "\n",
    "##########################################\n",
    "# gan/genenerator optimization function\n",
    "# Adam option\n",
    "gan_opti = Adam(learning_rate=0.00020, beta_1=0.5)\n",
    "\n",
    "# Adadelta option\n",
    "# gan_opti = Adadelta(learning_rate=0.00030)\n",
    "\n",
    "# Adagrad option\n",
    "# gan_opti = Adagrad(learning_rate=0.00020, momentum=0.5)\n",
    "\n",
    "# SGD option\n",
    "# gan_opti = SGD(learning_rate=0.00020, momentum=0.5)\n",
    "\n",
    "# evaluation score\n",
    "# met = [\"categorical_accuracy\"]\n",
    "met = [\"accuracy\"]\n",
    "\n",
    "# parameters to exeute training\n",
    "# verbose mode\n",
    "ver = 0\n",
    "# training epocha\n",
    "epo = 500\n",
    "print(\"training epochs:\", epo)"
   ]
  },
  {
   "cell_type": "code",
   "execution_count": 107,
   "metadata": {},
   "outputs": [],
   "source": [
    "# generator layers\n",
    "# 1) Mask -> Drop -> LSTM1 -> LSTM2 -> LSTM3 -> Drop -> Dense -> Drop -> LSTM3 -> LSTM2 -> LSTM1 -> Drop -> TimeDistDense\n",
    "gen_layers = (\n",
    "\n",
    "    # input layer (padding and prep)\n",
    "    Masking(mask_value=0.0, input_shape=(memory, features), name = \"LayMask\"),\n",
    "\n",
    "    # intermediate recurrent encoder layer\n",
    "    LSTM(lstm_units, activation=in_gen_actf, input_shape=(memory, features), return_sequences=rs, name=\"EnLSTM_1\"),\n",
    "    # SpatialDropout1D(gen_ldrop, name = \"EnDrop_1\"),\n",
    "    # Dropout(gen_ldrop, name=\"EnDrop_1\"),\n",
    "\n",
    "    # intermediate recurrent encoder layer\n",
    "    LSTM(int(lstm_units/2), activation=hid_ly_actf, input_shape=(timesteps, features), return_sequences=rs, name=\"EnLSTM_2\"),\n",
    "    # Dropout(gen_ldrop, name=\"EnDrop_2\"),\n",
    "\n",
    "    # intermediate recurrent encoder layer\n",
    "    LSTM(int(lstm_units/4), activation=hid_ly_actf, input_shape=(timesteps, features), return_sequences=rs, name=\"EnLSTM_3\"),\n",
    "    Dropout(gen_ldrop, name=\"EnDrop_3\"),\n",
    "\n",
    "    # #from 2D to 1D\n",
    "    Flatten(name=\"LayFlat\"),\n",
    "    # mid dense encoding layer\n",
    "    Dense(gen_midn, activation=hid_ly_actf, name=\"MidDense\"),\n",
    "    # # from 1D to 2D\n",
    "    Reshape(gen_reshape, name=\"layReshape\"),\n",
    "\n",
    "    # intermediate convolutional decoder layer\n",
    "    Conv2D(int(filters/4), ksize, strides=stsize, activation=hid_ly_actf, padding=pad, name=\"DeConv_2\"),\n",
    "    # Conv2DTranspose(int(filters/4), kernel_size=ksize, activation=act, padding = pad, name=\"DeConvT2\"),\n",
    "    UpSampling2D(psize, name=\"DeUpsam_2\"),\n",
    "    Dropout(gen_ldrop, name=\"DeDrop_2\"),\n",
    " \n",
    "    # intermediate convolutional decoder layer\n",
    "    Conv2D(int(filters/2), ksize, strides=stsize, activation=hid_ly_actf, padding=pad, name=\"DeConv_3\"),\n",
    "    # Conv2DTranspose(int(filters/2), kernel_size=ksize, activation = act, padding = pad, name = \"DeConvT3\"),\n",
    "    UpSampling2D(psize, name=\"DeUpsam_3\"),\n",
    "    # Dropout(gen_ldrop, name=\"DeDrop_3\"),\n",
    "\n",
    "    # intermediate convolutional decoder layer\n",
    "    Conv2D(filters, ksize, strides=stsize, activation=hid_ly_actf, padding=pad, name=\"DeConv_4\"),\n",
    "    # Conv2DTranspose(filters, kernel_size=ksize, activation = act, padding = pad, name = \"DeConvT4\"),\n",
    "    UpSampling2D(psize, name=\"DeUpsam_4\"),\n",
    "    # Dropout(gen_ldrop, name=\"DeDrop_4\"),\n",
    "\n",
    "    # outputlayer\n",
    "    # Conv2D(3, ksize, strides=stsize, activation=act, padding=pad, name=\"LayOut\"),\n",
    "    Conv2D(channels, ksize, strides=stsize, activation=out_gen_act, input_shape=genout_shape, padding=pad, name=\"LayOut\"),\n",
    ")"
   ]
  },
  {
   "source": [
    "# defining model\n",
    "gen_model = Sequential(gen_layers)\n",
    "gen_model.model_name = gen_model_name"
   ],
   "cell_type": "code",
   "metadata": {},
   "execution_count": 108,
   "outputs": []
  },
  {
   "cell_type": "code",
   "execution_count": 109,
   "metadata": {},
   "outputs": [
    {
     "output_type": "stream",
     "name": "stdout",
     "text": [
      "Model: \"sequential_3\"\n_________________________________________________________________\nLayer (type)                 Output Shape              Param #   \n=================================================================\nLayMask (Masking)            (None, 15, 142)           0         \n_________________________________________________________________\nEnLSTM_1 (LSTM)              (None, 15, 500)           1286000   \n_________________________________________________________________\nEnDrop_1 (Dropout)           (None, 15, 500)           0         \n_________________________________________________________________\nEnLSTM_2 (LSTM)              (None, 15, 250)           751000    \n_________________________________________________________________\nEnLSTM_3 (LSTM)              (None, 15, 125)           188000    \n_________________________________________________________________\nEnDrop_3 (Dropout)           (None, 15, 125)           0         \n_________________________________________________________________\nLayFlat (Flatten)            (None, 1875)              0         \n_________________________________________________________________\nMidDense (Dense)             (None, 30000)             56280000  \n_________________________________________________________________\nlayReshape (Reshape)         (None, 100, 100, 3)       0         \n_________________________________________________________________\nDeConv_2 (Conv2D)            (None, 100, 100, 8)       224       \n_________________________________________________________________\nDeUpsam_2 (UpSampling2D)     (None, 200, 200, 8)       0         \n_________________________________________________________________\nDeDrop_2 (Dropout)           (None, 200, 200, 8)       0         \n_________________________________________________________________\nDeConv_3 (Conv2D)            (None, 200, 200, 16)      1168      \n_________________________________________________________________\nDeUpsam_3 (UpSampling2D)     (None, 400, 400, 16)      0         \n_________________________________________________________________\nDeConv_4 (Conv2D)            (None, 400, 400, 32)      4640      \n_________________________________________________________________\nDeUpsam_4 (UpSampling2D)     (None, 800, 800, 32)      0         \n_________________________________________________________________\nDeDrop_4 (Dropout)           (None, 800, 800, 32)      0         \n_________________________________________________________________\nLayOut (Conv2D)              (None, 800, 800, 3)       867       \n=================================================================\nTotal params: 58,511,899\nTrainable params: 58,511,899\nNon-trainable params: 0\n_________________________________________________________________\n"
     ]
    }
   ],
   "source": [
    "# NOT compile model\n",
    "# gen_model.compile(loss=ls, optimizer=gan_opti, metrics=met)\n",
    "gen_model.summary()"
   ]
  },
  {
   "cell_type": "code",
   "execution_count": 123,
   "metadata": {},
   "outputs": [],
   "source": [
    "# discriminator layers\n",
    "# 1) Mask -> Drop -> LSTM1 -> LSTM2 -> LSTM3 -> Drop -> Dense -> Drop -> LSTM3 -> LSTM2 -> LSTM1 -> Drop -> TimeDistDense\n",
    "dis_layers = (\n",
    "    # input layer (padding and prep)\n",
    "    Input(shape=disin_shape, name=\"LayIn\"),\n",
    "\n",
    "    # intermediate convolutional encoder layer\n",
    "    Conv2D(filters, ksize, strides=stsize, activation=hid_ly_actf, padding=pad, name=\"EnConv_1\"),\n",
    "    MaxPooling2D(psize, padding=pad, name=\"EnPool_1\"),\n",
    "    Dropout(dis_ldrop, name=\"EnDrop_1\"),\n",
    "\n",
    "    # intermediate convolutional encoder layer\n",
    "    Conv2D(int(filters/2), ksize, strides=stsize, activation=hid_ly_actf, padding=pad, name=\"EnConv_2\"),\n",
    "    MaxPooling2D(psize, padding=pad, name=\"EnPool_2\"),\n",
    "    # Dropout(dis_ldrop, name=\"EnDrop_2\"),\n",
    "\n",
    "    intermediate convolutional encoder layer\n",
    "    Conv2D(int(filters/4), ksize, strides=stsize, activation=hid_ly_actf, padding=pad, name=\"EnConv_3\"),\n",
    "    MaxPooling2D(psize, padding=pad, name=\"EnPool_3\"),\n",
    "    Dropout(dis_ldrop, name=\"EnDrop_3\"),\n",
    "\n",
    "    # # intermediate convolutional encoder layer\n",
    "    # Conv2D(int(filters/8), ksize, strides=stsize, activation=hid_ly_actf, padding=pad, name=\"EnConv_4\"),\n",
    "    # MaxPooling2D(psize, padding=pad, name=\"EnPool_4\"),\n",
    "    # Dropout(dis_ldrop, name=\"EnDrop_4\"),\n",
    "\n",
    "    # #from 2D to 1D\n",
    "    Flatten(name=\"LayFlat\"),\n",
    "\n",
    "    # mid dense encoding layer\n",
    "    Dense(dis_midn, activation=hid_ly_actf, name=\"MidDense\"),\n",
    "    Dropout(dis_ldrop, name=\"ClsDrop_1\"),\n",
    "\n",
    "    # intermediate dense classification layer\n",
    "    Dense(int(dis_midn/2), activation=hid_ly_actf, name=\"ClsDense_1\"),\n",
    "    # Dropout(dis_ldrop, name=\"ClsDrop_2\"),\n",
    "\n",
    "    # intermediate dense classification layer\n",
    "    Dense(int(dis_midn/4), activation=hid_ly_actf, name=\"ClsDense_2\"),\n",
    "    Dropout(dis_ldrop, name=\"ClsDrop_3\"),\n",
    "\n",
    "    # output layer, dense time sequential layer.\n",
    "    Dense(out_dis, activation=out_dis_act, name=\"LayClsOut\"),\n",
    ")"
   ]
  },
  {
   "cell_type": "code",
   "execution_count": 124,
   "metadata": {},
   "outputs": [],
   "source": [
    "dis_model = Sequential(dis_layers)\n",
    "dis_model.model_name = dis_model_name"
   ]
  },
  {
   "cell_type": "code",
   "execution_count": 125,
   "metadata": {},
   "outputs": [
    {
     "output_type": "stream",
     "name": "stdout",
     "text": [
      "Model: \"sequential_8\"\n_________________________________________________________________\nLayer (type)                 Output Shape              Param #   \n=================================================================\nEnConv_1 (Conv2D)            (None, 800, 800, 32)      896       \n_________________________________________________________________\nEnPool_1 (MaxPooling2D)      (None, 400, 400, 32)      0         \n_________________________________________________________________\nEnDrop_1 (Dropout)           (None, 400, 400, 32)      0         \n_________________________________________________________________\nEnConv_2 (Conv2D)            (None, 400, 400, 16)      4624      \n_________________________________________________________________\nEnPool_2 (MaxPooling2D)      (None, 200, 200, 16)      0         \n_________________________________________________________________\nLayFlat (Flatten)            (None, 640000)            0         \n_________________________________________________________________\nMidDense (Dense)             (None, 192)               122880192 \n_________________________________________________________________\nClsDrop_1 (Dropout)          (None, 192)               0         \n_________________________________________________________________\nClsDense_1 (Dense)           (None, 96)                18528     \n_________________________________________________________________\nClsDense_2 (Dense)           (None, 48)                4656      \n_________________________________________________________________\nClsDrop_3 (Dropout)          (None, 48)                0         \n_________________________________________________________________\nLayClsOut (Dense)            (None, 1)                 49        \n=================================================================\nTotal params: 122,908,945\nTrainable params: 0\nNon-trainable params: 122,908,945\n_________________________________________________________________\n"
     ]
    }
   ],
   "source": [
    "# compile model\n",
    "dis_model.compile(loss=ls, optimizer=dis_opti, metrics=met)\n",
    "dis_model.trainable = False\n",
    "dis_model.summary()"
   ]
  },
  {
   "cell_type": "code",
   "execution_count": 126,
   "metadata": {},
   "outputs": [],
   "source": [
    "# GAN layers\n",
    "gan_layers = (\n",
    "    gen_model, \n",
    "    dis_model,\n",
    ")"
   ]
  },
  {
   "cell_type": "code",
   "execution_count": 127,
   "metadata": {},
   "outputs": [],
   "source": [
    "gan_model = Sequential(gan_layers)"
   ]
  },
  {
   "cell_type": "code",
   "execution_count": 128,
   "metadata": {},
   "outputs": [
    {
     "output_type": "stream",
     "name": "stdout",
     "text": [
      "Model: \"sequential_9\"\n_________________________________________________________________\nLayer (type)                 Output Shape              Param #   \n=================================================================\nsequential_3 (Sequential)    (None, 800, 800, 3)       58511899  \n_________________________________________________________________\nsequential_8 (Sequential)    (None, 1)                 122908945 \n=================================================================\nTotal params: 181,420,844\nTrainable params: 58,511,899\nNon-trainable params: 122,908,945\n_________________________________________________________________\n"
     ]
    }
   ],
   "source": [
    "gan_model.compile(loss=ls, optimizer=gan_opti, metrics=met)\n",
    "gan_model.summary()"
   ]
  },
  {
   "cell_type": "code",
   "execution_count": 129,
   "metadata": {},
   "outputs": [],
   "source": [
    "# saving model topology into png files\n",
    "export_model(gen_model, model_fn_path, gen_model_name, timestamp)\n",
    "export_model(dis_model, model_fn_path, dis_model_name, timestamp)\n",
    "export_model(gan_model, model_fn_path, gan_model_name, timestamp)"
   ]
  },
  {
   "cell_type": "code",
   "execution_count": 130,
   "metadata": {},
   "outputs": [],
   "source": [
    "# config for training\n",
    "fn_config = (model_fn_path, report_fn_path, dis_model_name, gen_model_name, gan_model_name)\n",
    "check_epochs = 10"
   ]
  },
  {
   "cell_type": "code",
   "execution_count": 131,
   "metadata": {},
   "outputs": [],
   "source": [
    "# dividing according to train/test proportions\n",
    "# Xt_train, Xt_test, Xi_train, Xi_test = train_test_split(X_txt, X_img, train_size = train_split, test_size = test_split, random_state = randseed)\n",
    "# Xi_train, Xi_test, y_train, y_test = train_test_split(X_img, y, train_size = train_split, test_size = test_split, random_state = randseed)"
   ]
  },
  {
   "cell_type": "code",
   "execution_count": 132,
   "metadata": {
    "tags": [
     "outputPrepend"
    ]
   },
   "outputs": [
    {
     "output_type": "stream",
     "name": "stdout",
     "text": [
      "0] || [Gen loss: 1.494, acc: 0.000]\n",
      "Epoch:247 elapsed time: 31.51 [s]\n",
      ">>> Epoch: 248, B/Ep: 1/1, Batch S: 32 -> [R-Dis loss: 0.271, acc: 0.750] || [F-Dis loss: 0.503, acc: 0.062] || [Gen loss: 1.443, acc: 0.000]\n",
      "Epoch:248 elapsed time: 32.70 [s]\n",
      ">>> Epoch: 249, B/Ep: 1/1, Batch S: 32 -> [R-Dis loss: 0.173, acc: 0.812] || [F-Dis loss: 0.588, acc: 0.062] || [Gen loss: 2.753, acc: 0.000]\n",
      "Epoch:249 elapsed time: 30.73 [s]\n",
      ">>> Epoch: 250, B/Ep: 1/1, Batch S: 32 -> [R-Dis loss: 0.271, acc: 0.750] || [F-Dis loss: 0.477, acc: 0.062] || [Gen loss: 1.686, acc: 0.000]\n",
      "Epoch:250 elapsed time: 30.52 [s]\n",
      ">>> Epoch: 251, B/Ep: 1/1, Batch S: 32 -> [R-Dis loss: 0.304, acc: 0.750] || [F-Dis loss: 0.545, acc: 0.062] || [Gen loss: 1.421, acc: 0.000]\n",
      "Epoch: 251 Saving the training progress...\n",
      "No handles with labels found to put in legend.\n",
      ">>> Test Accuracy for fake samples: 0.062 || fake samples: 0.062\n",
      ">>> Test Loss for real samples: 0.731 || fake samples: 0.731\n",
      "Epoch:251 elapsed time: 39.18 [s]\n",
      ">>> Epoch: 252, B/Ep: 1/1, Batch S: 32 -> [R-Dis loss: 0.261, acc: 0.469] || [F-Dis loss: 0.442, acc: 0.062] || [Gen loss: 1.939, acc: 0.000]\n",
      "Epoch:252 elapsed time: 30.59 [s]\n",
      ">>> Epoch: 253, B/Ep: 1/1, Batch S: 32 -> [R-Dis loss: 0.381, acc: 0.750] || [F-Dis loss: 0.358, acc: 0.062] || [Gen loss: 1.757, acc: 0.000]\n",
      "Epoch:253 elapsed time: 29.85 [s]\n",
      ">>> Epoch: 254, B/Ep: 1/1, Batch S: 32 -> [R-Dis loss: 0.108, acc: 0.875] || [F-Dis loss: 0.465, acc: 0.000] || [Gen loss: 1.937, acc: 0.000]\n",
      "Epoch:254 elapsed time: 30.20 [s]\n",
      ">>> Epoch: 255, B/Ep: 1/1, Batch S: 32 -> [R-Dis loss: 0.089, acc: 0.875] || [F-Dis loss: 0.403, acc: 0.062] || [Gen loss: 2.112, acc: 0.000]\n",
      "Epoch:255 elapsed time: 29.33 [s]\n",
      ">>> Epoch: 256, B/Ep: 1/1, Batch S: 32 -> [R-Dis loss: 0.431, acc: 0.688] || [F-Dis loss: 0.372, acc: 0.062] || [Gen loss: 1.678, acc: 0.000]\n",
      "Epoch:256 elapsed time: 32.08 [s]\n",
      ">>> Epoch: 257, B/Ep: 1/1, Batch S: 32 -> [R-Dis loss: 0.277, acc: 0.750] || [F-Dis loss: 0.481, acc: 0.062] || [Gen loss: 1.624, acc: 0.000]\n",
      "Epoch:257 elapsed time: 30.97 [s]\n",
      ">>> Epoch: 258, B/Ep: 1/1, Batch S: 32 -> [R-Dis loss: 0.178, acc: 0.812] || [F-Dis loss: 0.456, acc: 0.062] || [Gen loss: 2.013, acc: 0.000]\n",
      "Epoch:258 elapsed time: 30.54 [s]\n",
      ">>> Epoch: 259, B/Ep: 1/1, Batch S: 32 -> [R-Dis loss: 0.235, acc: 0.750] || [F-Dis loss: 0.455, acc: 0.062] || [Gen loss: 2.225, acc: 0.000]\n",
      "Epoch:259 elapsed time: 30.65 [s]\n",
      ">>> Epoch: 260, B/Ep: 1/1, Batch S: 32 -> [R-Dis loss: 0.214, acc: 0.812] || [F-Dis loss: 0.387, acc: 0.062] || [Gen loss: 2.296, acc: 0.000]\n",
      "Epoch:260 elapsed time: 32.17 [s]\n",
      ">>> Epoch: 261, B/Ep: 1/1, Batch S: 32 -> [R-Dis loss: 0.268, acc: 0.812] || [F-Dis loss: 0.463, acc: 0.062] || [Gen loss: 1.866, acc: 0.000]\n",
      "Epoch: 261 Saving the training progress...\n",
      "No handles with labels found to put in legend.\n",
      ">>> Test Accuracy for fake samples: 0.062 || fake samples: 0.062\n",
      ">>> Test Loss for real samples: 0.567 || fake samples: 0.567\n",
      "Epoch:261 elapsed time: 35.50 [s]\n",
      ">>> Epoch: 262, B/Ep: 1/1, Batch S: 32 -> [R-Dis loss: 0.468, acc: 0.375] || [F-Dis loss: 0.498, acc: 0.062] || [Gen loss: 3.127, acc: 0.000]\n",
      "Epoch:262 elapsed time: 33.96 [s]\n",
      ">>> Epoch: 263, B/Ep: 1/1, Batch S: 32 -> [R-Dis loss: 0.603, acc: 0.688] || [F-Dis loss: 0.477, acc: 0.062] || [Gen loss: 1.242, acc: 0.000]\n",
      "Epoch:263 elapsed time: 34.16 [s]\n",
      ">>> Epoch: 264, B/Ep: 1/1, Batch S: 32 -> [R-Dis loss: 0.198, acc: 0.750] || [F-Dis loss: 0.466, acc: 0.062] || [Gen loss: 1.263, acc: 0.000]\n",
      "Epoch:264 elapsed time: 35.85 [s]\n",
      ">>> Epoch: 265, B/Ep: 1/1, Batch S: 32 -> [R-Dis loss: 0.388, acc: 0.625] || [F-Dis loss: 0.465, acc: 0.062] || [Gen loss: 1.295, acc: 0.000]\n",
      "Epoch:265 elapsed time: 33.21 [s]\n",
      ">>> Epoch: 266, B/Ep: 1/1, Batch S: 32 -> [R-Dis loss: 0.214, acc: 0.750] || [F-Dis loss: 0.496, acc: 0.062] || [Gen loss: 1.348, acc: 0.000]\n",
      "Epoch:266 elapsed time: 34.45 [s]\n",
      ">>> Epoch: 267, B/Ep: 1/1, Batch S: 32 -> [R-Dis loss: 0.189, acc: 0.875] || [F-Dis loss: 0.472, acc: 0.062] || [Gen loss: 1.339, acc: 0.000]\n",
      "Epoch:267 elapsed time: 36.24 [s]\n",
      ">>> Epoch: 268, B/Ep: 1/1, Batch S: 32 -> [R-Dis loss: 0.421, acc: 0.625] || [F-Dis loss: 0.493, acc: 0.062] || [Gen loss: 1.170, acc: 0.000]\n",
      "Epoch:268 elapsed time: 34.68 [s]\n",
      ">>> Epoch: 269, B/Ep: 1/1, Batch S: 32 -> [R-Dis loss: 0.260, acc: 0.875] || [F-Dis loss: 0.693, acc: 0.000] || [Gen loss: 1.454, acc: 0.000]\n",
      "Epoch:269 elapsed time: 32.90 [s]\n",
      ">>> Epoch: 270, B/Ep: 1/1, Batch S: 32 -> [R-Dis loss: 0.200, acc: 0.750] || [F-Dis loss: 0.480, acc: 0.062] || [Gen loss: 1.506, acc: 0.000]\n",
      "Epoch:270 elapsed time: 31.80 [s]\n",
      ">>> Epoch: 271, B/Ep: 1/1, Batch S: 32 -> [R-Dis loss: 0.253, acc: 0.750] || [F-Dis loss: 0.491, acc: 0.062] || [Gen loss: 1.587, acc: 0.000]\n",
      "Epoch: 271 Saving the training progress...\n",
      "No handles with labels found to put in legend.\n",
      ">>> Test Accuracy for fake samples: 0.062 || fake samples: 0.062\n",
      ">>> Test Loss for real samples: 0.460 || fake samples: 0.460\n",
      "Epoch:271 elapsed time: 35.22 [s]\n",
      ">>> Epoch: 272, B/Ep: 1/1, Batch S: 32 -> [R-Dis loss: 0.425, acc: 0.406] || [F-Dis loss: 0.493, acc: 0.062] || [Gen loss: 1.622, acc: 0.000]\n",
      "Epoch:272 elapsed time: 34.50 [s]\n",
      ">>> Epoch: 273, B/Ep: 1/1, Batch S: 32 -> [R-Dis loss: 0.246, acc: 0.750] || [F-Dis loss: 0.470, acc: 0.062] || [Gen loss: 1.498, acc: 0.000]\n",
      "Epoch:273 elapsed time: 30.49 [s]\n",
      ">>> Epoch: 274, B/Ep: 1/1, Batch S: 32 -> [R-Dis loss: 0.252, acc: 0.750] || [F-Dis loss: 0.458, acc: 0.062] || [Gen loss: 1.691, acc: 0.000]\n",
      "Epoch:274 elapsed time: 30.31 [s]\n",
      ">>> Epoch: 275, B/Ep: 1/1, Batch S: 32 -> [R-Dis loss: 0.125, acc: 0.938] || [F-Dis loss: 0.432, acc: 0.062] || [Gen loss: 1.705, acc: 0.000]\n",
      "Epoch:275 elapsed time: 31.13 [s]\n",
      ">>> Epoch: 276, B/Ep: 1/1, Batch S: 32 -> [R-Dis loss: 0.143, acc: 0.812] || [F-Dis loss: 0.533, acc: 0.000] || [Gen loss: 1.631, acc: 0.000]\n",
      "Epoch:276 elapsed time: 33.22 [s]\n",
      ">>> Epoch: 277, B/Ep: 1/1, Batch S: 32 -> [R-Dis loss: 0.101, acc: 0.875] || [F-Dis loss: 0.508, acc: 0.000] || [Gen loss: 1.746, acc: 0.000]\n",
      "Epoch:277 elapsed time: 31.10 [s]\n",
      ">>> Epoch: 278, B/Ep: 1/1, Batch S: 32 -> [R-Dis loss: 0.286, acc: 0.688] || [F-Dis loss: 0.565, acc: 0.062] || [Gen loss: 1.488, acc: 0.000]\n",
      "Epoch:278 elapsed time: 32.77 [s]\n",
      ">>> Epoch: 279, B/Ep: 1/1, Batch S: 32 -> [R-Dis loss: 0.173, acc: 0.812] || [F-Dis loss: 0.545, acc: 0.062] || [Gen loss: 2.231, acc: 0.000]\n",
      "Epoch:279 elapsed time: 33.66 [s]\n",
      ">>> Epoch: 280, B/Ep: 1/1, Batch S: 32 -> [R-Dis loss: 0.507, acc: 0.500] || [F-Dis loss: 0.496, acc: 0.062] || [Gen loss: 1.512, acc: 0.000]\n",
      "Epoch:280 elapsed time: 33.47 [s]\n",
      ">>> Epoch: 281, B/Ep: 1/1, Batch S: 32 -> [R-Dis loss: 0.078, acc: 0.938] || [F-Dis loss: 0.442, acc: 0.062] || [Gen loss: 1.902, acc: 0.000]\n",
      "Epoch: 281 Saving the training progress...\n",
      "No handles with labels found to put in legend.\n",
      ">>> Test Accuracy for fake samples: 0.062 || fake samples: 0.062\n",
      ">>> Test Loss for real samples: 0.501 || fake samples: 0.501\n",
      "Epoch:281 elapsed time: 35.34 [s]\n",
      ">>> Epoch: 282, B/Ep: 1/1, Batch S: 32 -> [R-Dis loss: 0.273, acc: 0.500] || [F-Dis loss: 0.402, acc: 0.062] || [Gen loss: 2.424, acc: 0.000]\n",
      "Epoch:282 elapsed time: 33.46 [s]\n",
      ">>> Epoch: 283, B/Ep: 1/1, Batch S: 32 -> [R-Dis loss: 0.132, acc: 0.812] || [F-Dis loss: 0.477, acc: 0.000] || [Gen loss: 1.783, acc: 0.000]\n",
      "Epoch:283 elapsed time: 33.92 [s]\n",
      ">>> Epoch: 284, B/Ep: 1/1, Batch S: 32 -> [R-Dis loss: 0.168, acc: 0.812] || [F-Dis loss: 0.577, acc: 0.000] || [Gen loss: 1.784, acc: 0.000]\n",
      "Epoch:284 elapsed time: 33.44 [s]\n",
      ">>> Epoch: 285, B/Ep: 1/1, Batch S: 32 -> [R-Dis loss: 0.248, acc: 0.750] || [F-Dis loss: 0.529, acc: 0.062] || [Gen loss: 1.406, acc: 0.000]\n",
      "Epoch:285 elapsed time: 38.93 [s]\n",
      ">>> Epoch: 286, B/Ep: 1/1, Batch S: 32 -> [R-Dis loss: 0.313, acc: 0.688] || [F-Dis loss: 0.541, acc: 0.062] || [Gen loss: 2.329, acc: 0.000]\n",
      "Epoch:286 elapsed time: 35.96 [s]\n",
      ">>> Epoch: 287, B/Ep: 1/1, Batch S: 32 -> [R-Dis loss: 0.316, acc: 0.688] || [F-Dis loss: 0.430, acc: 0.062] || [Gen loss: 1.563, acc: 0.000]\n",
      "Epoch:287 elapsed time: 36.10 [s]\n",
      ">>> Epoch: 288, B/Ep: 1/1, Batch S: 32 -> [R-Dis loss: 0.314, acc: 0.625] || [F-Dis loss: 0.491, acc: 0.062] || [Gen loss: 1.410, acc: 0.000]\n",
      "Epoch:288 elapsed time: 32.11 [s]\n",
      ">>> Epoch: 289, B/Ep: 1/1, Batch S: 32 -> [R-Dis loss: 0.186, acc: 0.812] || [F-Dis loss: 0.477, acc: 0.062] || [Gen loss: 1.363, acc: 0.000]\n",
      "Epoch:289 elapsed time: 31.01 [s]\n",
      ">>> Epoch: 290, B/Ep: 1/1, Batch S: 32 -> [R-Dis loss: 0.272, acc: 0.688] || [F-Dis loss: 0.389, acc: 0.062] || [Gen loss: 1.443, acc: 0.000]\n",
      "Epoch:290 elapsed time: 30.72 [s]\n",
      ">>> Epoch: 291, B/Ep: 1/1, Batch S: 32 -> [R-Dis loss: 0.330, acc: 0.688] || [F-Dis loss: 0.651, acc: 0.000] || [Gen loss: 1.249, acc: 0.000]\n",
      "Epoch: 291 Saving the training progress...\n",
      "No handles with labels found to put in legend.\n",
      ">>> Test Accuracy for fake samples: 0.062 || fake samples: 0.062\n",
      ">>> Test Loss for real samples: 0.282 || fake samples: 0.282\n",
      "Epoch:291 elapsed time: 37.37 [s]\n",
      ">>> Epoch: 292, B/Ep: 1/1, Batch S: 32 -> [R-Dis loss: 0.443, acc: 0.469] || [F-Dis loss: 0.548, acc: 0.000] || [Gen loss: 1.624, acc: 0.000]\n",
      "Epoch:292 elapsed time: 35.72 [s]\n",
      ">>> Epoch: 293, B/Ep: 1/1, Batch S: 32 -> [R-Dis loss: 0.388, acc: 0.625] || [F-Dis loss: 0.516, acc: 0.062] || [Gen loss: 1.667, acc: 0.000]\n",
      "Epoch:293 elapsed time: 32.52 [s]\n",
      ">>> Epoch: 294, B/Ep: 1/1, Batch S: 32 -> [R-Dis loss: 0.098, acc: 0.875] || [F-Dis loss: 0.483, acc: 0.062] || [Gen loss: 1.783, acc: 0.000]\n",
      "Epoch:294 elapsed time: 32.62 [s]\n",
      ">>> Epoch: 295, B/Ep: 1/1, Batch S: 32 -> [R-Dis loss: 0.371, acc: 0.625] || [F-Dis loss: 0.471, acc: 0.062] || [Gen loss: 1.687, acc: 0.000]\n",
      "Epoch:295 elapsed time: 31.86 [s]\n",
      ">>> Epoch: 296, B/Ep: 1/1, Batch S: 32 -> [R-Dis loss: 0.302, acc: 0.812] || [F-Dis loss: 0.500, acc: 0.062] || [Gen loss: 1.727, acc: 0.000]\n",
      "Epoch:296 elapsed time: 30.98 [s]\n",
      ">>> Epoch: 297, B/Ep: 1/1, Batch S: 32 -> [R-Dis loss: 0.226, acc: 0.750] || [F-Dis loss: 0.426, acc: 0.062] || [Gen loss: 1.778, acc: 0.000]\n",
      "Epoch:297 elapsed time: 31.04 [s]\n",
      ">>> Epoch: 298, B/Ep: 1/1, Batch S: 32 -> [R-Dis loss: 0.298, acc: 0.750] || [F-Dis loss: 0.447, acc: 0.062] || [Gen loss: 1.662, acc: 0.000]\n",
      "Epoch:298 elapsed time: 31.94 [s]\n",
      ">>> Epoch: 299, B/Ep: 1/1, Batch S: 32 -> [R-Dis loss: 0.463, acc: 0.562] || [F-Dis loss: 0.439, acc: 0.062] || [Gen loss: 1.425, acc: 0.000]\n",
      "Epoch:299 elapsed time: 33.34 [s]\n",
      ">>> Epoch: 300, B/Ep: 1/1, Batch S: 32 -> [R-Dis loss: 0.271, acc: 0.750] || [F-Dis loss: 0.424, acc: 0.062] || [Gen loss: 1.706, acc: 0.000]\n",
      "Epoch:300 elapsed time: 29.88 [s]\n",
      ">>> Epoch: 301, B/Ep: 1/1, Batch S: 32 -> [R-Dis loss: 0.105, acc: 0.875] || [F-Dis loss: 0.418, acc: 0.062] || [Gen loss: 1.629, acc: 0.000]\n",
      "Epoch: 301 Saving the training progress...\n",
      "No handles with labels found to put in legend.\n",
      ">>> Test Accuracy for fake samples: 0.062 || fake samples: 0.062\n",
      ">>> Test Loss for real samples: 0.286 || fake samples: 0.286\n",
      "Epoch:301 elapsed time: 38.27 [s]\n",
      ">>> Epoch: 302, B/Ep: 1/1, Batch S: 32 -> [R-Dis loss: 0.467, acc: 0.375] || [F-Dis loss: 0.653, acc: 0.062] || [Gen loss: 1.364, acc: 0.000]\n",
      "Epoch:302 elapsed time: 30.20 [s]\n",
      ">>> Epoch: 303, B/Ep: 1/1, Batch S: 32 -> [R-Dis loss: 0.363, acc: 0.625] || [F-Dis loss: 0.536, acc: 0.062] || [Gen loss: 1.495, acc: 0.000]\n",
      "Epoch:303 elapsed time: 31.43 [s]\n",
      ">>> Epoch: 304, B/Ep: 1/1, Batch S: 32 -> [R-Dis loss: 0.150, acc: 0.812] || [F-Dis loss: 0.404, acc: 0.062] || [Gen loss: 1.556, acc: 0.000]\n",
      "Epoch:304 elapsed time: 31.12 [s]\n",
      ">>> Epoch: 305, B/Ep: 1/1, Batch S: 32 -> [R-Dis loss: 0.130, acc: 0.875] || [F-Dis loss: 0.567, acc: 0.000] || [Gen loss: 1.622, acc: 0.000]\n",
      "Epoch:305 elapsed time: 30.61 [s]\n",
      ">>> Epoch: 306, B/Ep: 1/1, Batch S: 32 -> [R-Dis loss: 0.240, acc: 0.750] || [F-Dis loss: 0.495, acc: 0.062] || [Gen loss: 1.398, acc: 0.000]\n",
      "Epoch:306 elapsed time: 30.35 [s]\n",
      ">>> Epoch: 307, B/Ep: 1/1, Batch S: 32 -> [R-Dis loss: 0.199, acc: 0.812] || [F-Dis loss: 0.450, acc: 0.062] || [Gen loss: 1.747, acc: 0.000]\n",
      "Epoch:307 elapsed time: 30.41 [s]\n",
      ">>> Epoch: 308, B/Ep: 1/1, Batch S: 32 -> [R-Dis loss: 0.204, acc: 0.750] || [F-Dis loss: 0.471, acc: 0.062] || [Gen loss: 1.723, acc: 0.000]\n",
      "Epoch:308 elapsed time: 30.51 [s]\n",
      ">>> Epoch: 309, B/Ep: 1/1, Batch S: 32 -> [R-Dis loss: 0.246, acc: 0.750] || [F-Dis loss: 0.438, acc: 0.062] || [Gen loss: 2.007, acc: 0.000]\n",
      "Epoch:309 elapsed time: 30.48 [s]\n",
      ">>> Epoch: 310, B/Ep: 1/1, Batch S: 32 -> [R-Dis loss: 0.291, acc: 0.688] || [F-Dis loss: 0.440, acc: 0.062] || [Gen loss: 2.002, acc: 0.000]\n",
      "Epoch:310 elapsed time: 30.54 [s]\n",
      ">>> Epoch: 311, B/Ep: 1/1, Batch S: 32 -> [R-Dis loss: 0.225, acc: 0.812] || [F-Dis loss: 0.465, acc: 0.062] || [Gen loss: 2.288, acc: 0.000]\n",
      "Epoch: 311 Saving the training progress...\n",
      "No handles with labels found to put in legend.\n",
      ">>> Test Accuracy for fake samples: 0.000 || fake samples: 0.000\n",
      ">>> Test Loss for real samples: 1.456 || fake samples: 1.456\n",
      "Epoch:311 elapsed time: 34.25 [s]\n",
      ">>> Epoch: 312, B/Ep: 1/1, Batch S: 32 -> [R-Dis loss: 0.436, acc: 0.375] || [F-Dis loss: 0.446, acc: 0.062] || [Gen loss: 1.870, acc: 0.000]\n",
      "Epoch:312 elapsed time: 30.43 [s]\n",
      ">>> Epoch: 313, B/Ep: 1/1, Batch S: 32 -> [R-Dis loss: 0.111, acc: 0.875] || [F-Dis loss: 0.400, acc: 0.062] || [Gen loss: 2.721, acc: 0.000]\n",
      "Epoch:313 elapsed time: 30.33 [s]\n",
      ">>> Epoch: 314, B/Ep: 1/1, Batch S: 32 -> [R-Dis loss: 0.260, acc: 0.750] || [F-Dis loss: 0.385, acc: 0.062] || [Gen loss: 2.604, acc: 0.000]\n",
      "Epoch:314 elapsed time: 30.61 [s]\n",
      ">>> Epoch: 315, B/Ep: 1/1, Batch S: 32 -> [R-Dis loss: 0.182, acc: 0.812] || [F-Dis loss: 0.456, acc: 0.062] || [Gen loss: 1.538, acc: 0.000]\n",
      "Epoch:315 elapsed time: 30.29 [s]\n",
      ">>> Epoch: 316, B/Ep: 1/1, Batch S: 32 -> [R-Dis loss: 0.182, acc: 0.812] || [F-Dis loss: 0.571, acc: 0.000] || [Gen loss: 1.474, acc: 0.000]\n",
      "Epoch:316 elapsed time: 31.06 [s]\n",
      ">>> Epoch: 317, B/Ep: 1/1, Batch S: 32 -> [R-Dis loss: 0.236, acc: 0.750] || [F-Dis loss: 0.478, acc: 0.062] || [Gen loss: 1.631, acc: 0.000]\n",
      "Epoch:317 elapsed time: 33.44 [s]\n",
      ">>> Epoch: 318, B/Ep: 1/1, Batch S: 32 -> [R-Dis loss: 0.272, acc: 0.750] || [F-Dis loss: 0.442, acc: 0.062] || [Gen loss: 2.116, acc: 0.000]\n",
      "Epoch:318 elapsed time: 34.27 [s]\n",
      ">>> Epoch: 319, B/Ep: 1/1, Batch S: 32 -> [R-Dis loss: 0.229, acc: 0.750] || [F-Dis loss: 0.437, acc: 0.062] || [Gen loss: 1.848, acc: 0.000]\n",
      "Epoch:319 elapsed time: 36.26 [s]\n",
      ">>> Epoch: 320, B/Ep: 1/1, Batch S: 32 -> [R-Dis loss: 0.333, acc: 0.688] || [F-Dis loss: 0.755, acc: 0.062] || [Gen loss: 1.727, acc: 0.000]\n",
      "Epoch:320 elapsed time: 31.03 [s]\n",
      ">>> Epoch: 321, B/Ep: 1/1, Batch S: 32 -> [R-Dis loss: 0.453, acc: 0.625] || [F-Dis loss: 0.468, acc: 0.062] || [Gen loss: 1.639, acc: 0.000]\n",
      "Epoch: 321 Saving the training progress...\n",
      "No handles with labels found to put in legend.\n",
      ">>> Test Accuracy for fake samples: 0.000 || fake samples: 0.000\n",
      ">>> Test Loss for real samples: 0.128 || fake samples: 0.128\n",
      "Epoch:321 elapsed time: 34.17 [s]\n",
      ">>> Epoch: 322, B/Ep: 1/1, Batch S: 32 -> [R-Dis loss: 0.513, acc: 0.406] || [F-Dis loss: 0.546, acc: 0.062] || [Gen loss: 1.579, acc: 0.000]\n",
      "Epoch:322 elapsed time: 30.31 [s]\n",
      ">>> Epoch: 323, B/Ep: 1/1, Batch S: 32 -> [R-Dis loss: 0.211, acc: 0.812] || [F-Dis loss: 0.513, acc: 0.062] || [Gen loss: 2.169, acc: 0.000]\n",
      "Epoch:323 elapsed time: 30.38 [s]\n",
      ">>> Epoch: 324, B/Ep: 1/1, Batch S: 32 -> [R-Dis loss: 0.101, acc: 0.875] || [F-Dis loss: 0.426, acc: 0.062] || [Gen loss: 2.791, acc: 0.000]\n",
      "Epoch:324 elapsed time: 30.24 [s]\n",
      ">>> Epoch: 325, B/Ep: 1/1, Batch S: 32 -> [R-Dis loss: 0.199, acc: 0.812] || [F-Dis loss: 0.490, acc: 0.062] || [Gen loss: 2.006, acc: 0.000]\n",
      "Epoch:325 elapsed time: 30.36 [s]\n",
      ">>> Epoch: 326, B/Ep: 1/1, Batch S: 32 -> [R-Dis loss: 0.184, acc: 0.812] || [F-Dis loss: 0.489, acc: 0.062] || [Gen loss: 1.667, acc: 0.000]\n",
      "Epoch:326 elapsed time: 30.06 [s]\n",
      ">>> Epoch: 327, B/Ep: 1/1, Batch S: 32 -> [R-Dis loss: 0.356, acc: 0.688] || [F-Dis loss: 0.454, acc: 0.062] || [Gen loss: 1.554, acc: 0.000]\n",
      "Epoch:327 elapsed time: 31.26 [s]\n",
      ">>> Epoch: 328, B/Ep: 1/1, Batch S: 32 -> [R-Dis loss: 0.089, acc: 0.875] || [F-Dis loss: 0.441, acc: 0.062] || [Gen loss: 1.646, acc: 0.000]\n",
      "Epoch:328 elapsed time: 32.08 [s]\n",
      ">>> Epoch: 329, B/Ep: 1/1, Batch S: 32 -> [R-Dis loss: 0.072, acc: 0.938] || [F-Dis loss: 0.431, acc: 0.062] || [Gen loss: 1.627, acc: 0.000]\n",
      "Epoch:329 elapsed time: 30.57 [s]\n",
      ">>> Epoch: 330, B/Ep: 1/1, Batch S: 32 -> [R-Dis loss: 0.300, acc: 0.750] || [F-Dis loss: 0.755, acc: 0.062] || [Gen loss: 2.162, acc: 0.000]\n",
      "Epoch:330 elapsed time: 30.58 [s]\n",
      ">>> Epoch: 331, B/Ep: 1/1, Batch S: 32 -> [R-Dis loss: 0.123, acc: 0.875] || [F-Dis loss: 0.382, acc: 0.062] || [Gen loss: 2.185, acc: 0.000]\n",
      "Epoch: 331 Saving the training progress...\n",
      "No handles with labels found to put in legend.\n",
      ">>> Test Accuracy for fake samples: 0.000 || fake samples: 0.000\n",
      ">>> Test Loss for real samples: 0.435 || fake samples: 0.435\n",
      "Epoch:331 elapsed time: 34.79 [s]\n",
      ">>> Epoch: 332, B/Ep: 1/1, Batch S: 32 -> [R-Dis loss: 0.417, acc: 0.406] || [F-Dis loss: 0.460, acc: 0.062] || [Gen loss: 1.448, acc: 0.000]\n",
      "Epoch:332 elapsed time: 31.14 [s]\n",
      ">>> Epoch: 333, B/Ep: 1/1, Batch S: 32 -> [R-Dis loss: 0.229, acc: 0.750] || [F-Dis loss: 0.445, acc: 0.062] || [Gen loss: 1.492, acc: 0.000]\n",
      "Epoch:333 elapsed time: 30.84 [s]\n",
      ">>> Epoch: 334, B/Ep: 1/1, Batch S: 32 -> [R-Dis loss: 0.329, acc: 0.688] || [F-Dis loss: 0.490, acc: 0.062] || [Gen loss: 1.461, acc: 0.000]\n",
      "Epoch:334 elapsed time: 30.87 [s]\n",
      ">>> Epoch: 335, B/Ep: 1/1, Batch S: 32 -> [R-Dis loss: 0.207, acc: 0.812] || [F-Dis loss: 0.440, acc: 0.062] || [Gen loss: 2.147, acc: 0.000]\n",
      "Epoch:335 elapsed time: 30.52 [s]\n",
      ">>> Epoch: 336, B/Ep: 1/1, Batch S: 32 -> [R-Dis loss: 0.604, acc: 0.688] || [F-Dis loss: 0.619, acc: 0.062] || [Gen loss: 1.107, acc: 0.000]\n",
      "Epoch:336 elapsed time: 30.93 [s]\n",
      ">>> Epoch: 337, B/Ep: 1/1, Batch S: 32 -> [R-Dis loss: 0.231, acc: 0.750] || [F-Dis loss: 0.552, acc: 0.062] || [Gen loss: 1.215, acc: 0.000]\n",
      "Epoch:337 elapsed time: 30.39 [s]\n",
      ">>> Epoch: 338, B/Ep: 1/1, Batch S: 32 -> [R-Dis loss: 0.287, acc: 0.688] || [F-Dis loss: 0.457, acc: 0.062] || [Gen loss: 1.445, acc: 0.000]\n",
      "Epoch:338 elapsed time: 31.42 [s]\n",
      ">>> Epoch: 339, B/Ep: 1/1, Batch S: 32 -> [R-Dis loss: 0.156, acc: 0.812] || [F-Dis loss: 0.451, acc: 0.062] || [Gen loss: 1.707, acc: 0.000]\n",
      "Epoch:339 elapsed time: 30.51 [s]\n",
      ">>> Epoch: 340, B/Ep: 1/1, Batch S: 32 -> [R-Dis loss: 0.244, acc: 0.750] || [F-Dis loss: 0.540, acc: 0.062] || [Gen loss: 1.619, acc: 0.000]\n",
      "Epoch:340 elapsed time: 32.17 [s]\n",
      ">>> Epoch: 341, B/Ep: 1/1, Batch S: 32 -> [R-Dis loss: 0.444, acc: 0.562] || [F-Dis loss: 0.474, acc: 0.062] || [Gen loss: 1.739, acc: 0.000]\n",
      "Epoch: 341 Saving the training progress...\n",
      "No handles with labels found to put in legend.\n",
      ">>> Test Accuracy for fake samples: 0.000 || fake samples: 0.000\n",
      ">>> Test Loss for real samples: 0.414 || fake samples: 0.414\n",
      "Epoch:341 elapsed time: 36.01 [s]\n",
      ">>> Epoch: 342, B/Ep: 1/1, Batch S: 32 -> [R-Dis loss: 0.358, acc: 0.406] || [F-Dis loss: 0.437, acc: 0.062] || [Gen loss: 1.864, acc: 0.000]\n",
      "Epoch:342 elapsed time: 31.19 [s]\n",
      ">>> Epoch: 343, B/Ep: 1/1, Batch S: 32 -> [R-Dis loss: 0.130, acc: 0.875] || [F-Dis loss: 0.423, acc: 0.062] || [Gen loss: 2.121, acc: 0.000]\n",
      "Epoch:343 elapsed time: 31.98 [s]\n",
      ">>> Epoch: 344, B/Ep: 1/1, Batch S: 32 -> [R-Dis loss: 0.148, acc: 0.812] || [F-Dis loss: 0.579, acc: 0.000] || [Gen loss: 1.736, acc: 0.000]\n",
      "Epoch:344 elapsed time: 31.09 [s]\n",
      ">>> Epoch: 345, B/Ep: 1/1, Batch S: 32 -> [R-Dis loss: 0.235, acc: 0.750] || [F-Dis loss: 0.579, acc: 0.000] || [Gen loss: 1.898, acc: 0.000]\n",
      "Epoch:345 elapsed time: 30.39 [s]\n",
      ">>> Epoch: 346, B/Ep: 1/1, Batch S: 32 -> [R-Dis loss: 0.128, acc: 0.875] || [F-Dis loss: 0.439, acc: 0.062] || [Gen loss: 1.828, acc: 0.000]\n",
      "Epoch:346 elapsed time: 30.26 [s]\n",
      ">>> Epoch: 347, B/Ep: 1/1, Batch S: 32 -> [R-Dis loss: 0.184, acc: 0.812] || [F-Dis loss: 0.490, acc: 0.062] || [Gen loss: 1.700, acc: 0.000]\n",
      "Epoch:347 elapsed time: 29.99 [s]\n",
      ">>> Epoch: 348, B/Ep: 1/1, Batch S: 32 -> [R-Dis loss: 0.261, acc: 0.750] || [F-Dis loss: 0.436, acc: 0.062] || [Gen loss: 1.724, acc: 0.000]\n",
      "Epoch:348 elapsed time: 30.12 [s]\n",
      ">>> Epoch: 349, B/Ep: 1/1, Batch S: 32 -> [R-Dis loss: 0.238, acc: 0.812] || [F-Dis loss: 0.465, acc: 0.062] || [Gen loss: 1.396, acc: 0.000]\n",
      "Epoch:349 elapsed time: 30.25 [s]\n",
      ">>> Epoch: 350, B/Ep: 1/1, Batch S: 32 -> [R-Dis loss: 0.280, acc: 0.812] || [F-Dis loss: 0.403, acc: 0.062] || [Gen loss: 1.492, acc: 0.000]\n",
      "Epoch:350 elapsed time: 29.88 [s]\n",
      ">>> Epoch: 351, B/Ep: 1/1, Batch S: 32 -> [R-Dis loss: 0.284, acc: 0.812] || [F-Dis loss: 0.506, acc: 0.062] || [Gen loss: 1.964, acc: 0.000]\n",
      "Epoch: 351 Saving the training progress...\n",
      "No handles with labels found to put in legend.\n",
      ">>> Test Accuracy for fake samples: 0.062 || fake samples: 0.062\n",
      ">>> Test Loss for real samples: 0.422 || fake samples: 0.422\n",
      "Epoch:351 elapsed time: 39.17 [s]\n",
      ">>> Epoch: 352, B/Ep: 1/1, Batch S: 32 -> [R-Dis loss: 0.711, acc: 0.375] || [F-Dis loss: 0.399, acc: 0.062] || [Gen loss: 1.793, acc: 0.000]\n",
      "Epoch:352 elapsed time: 30.07 [s]\n",
      ">>> Epoch: 353, B/Ep: 1/1, Batch S: 32 -> [R-Dis loss: 0.140, acc: 0.875] || [F-Dis loss: 0.499, acc: 0.062] || [Gen loss: 1.679, acc: 0.000]\n",
      "Epoch:353 elapsed time: 30.47 [s]\n",
      ">>> Epoch: 354, B/Ep: 1/1, Batch S: 32 -> [R-Dis loss: 0.214, acc: 0.750] || [F-Dis loss: 0.521, acc: 0.000] || [Gen loss: 1.781, acc: 0.000]\n",
      "Epoch:354 elapsed time: 30.24 [s]\n",
      ">>> Epoch: 355, B/Ep: 1/1, Batch S: 32 -> [R-Dis loss: 0.162, acc: 0.875] || [F-Dis loss: 0.442, acc: 0.062] || [Gen loss: 2.020, acc: 0.000]\n",
      "Epoch:355 elapsed time: 30.24 [s]\n",
      ">>> Epoch: 356, B/Ep: 1/1, Batch S: 32 -> [R-Dis loss: 0.142, acc: 0.812] || [F-Dis loss: 0.464, acc: 0.062] || [Gen loss: 1.994, acc: 0.000]\n",
      "Epoch:356 elapsed time: 29.98 [s]\n",
      ">>> Epoch: 357, B/Ep: 1/1, Batch S: 32 -> [R-Dis loss: 0.187, acc: 0.812] || [F-Dis loss: 0.478, acc: 0.062] || [Gen loss: 2.029, acc: 0.000]\n",
      "Epoch:357 elapsed time: 30.11 [s]\n",
      ">>> Epoch: 358, B/Ep: 1/1, Batch S: 32 -> [R-Dis loss: 0.090, acc: 0.875] || [F-Dis loss: 0.369, acc: 0.062] || [Gen loss: 2.235, acc: 0.000]\n",
      "Epoch:358 elapsed time: 30.03 [s]\n",
      ">>> Epoch: 359, B/Ep: 1/1, Batch S: 32 -> [R-Dis loss: 0.078, acc: 0.875] || [F-Dis loss: 0.469, acc: 0.062] || [Gen loss: 1.840, acc: 0.000]\n",
      "Epoch:359 elapsed time: 30.07 [s]\n",
      ">>> Epoch: 360, B/Ep: 1/1, Batch S: 32 -> [R-Dis loss: 0.186, acc: 0.812] || [F-Dis loss: 0.499, acc: 0.062] || [Gen loss: 2.431, acc: 0.000]\n",
      "Epoch:360 elapsed time: 29.92 [s]\n",
      ">>> Epoch: 361, B/Ep: 1/1, Batch S: 32 -> [R-Dis loss: 0.179, acc: 0.750] || [F-Dis loss: 0.423, acc: 0.062] || [Gen loss: 1.930, acc: 0.000]\n",
      "Epoch: 361 Saving the training progress...\n",
      "No handles with labels found to put in legend.\n",
      ">>> Test Accuracy for fake samples: 0.062 || fake samples: 0.062\n",
      ">>> Test Loss for real samples: 0.239 || fake samples: 0.239\n",
      "Epoch:361 elapsed time: 33.84 [s]\n",
      ">>> Epoch: 362, B/Ep: 1/1, Batch S: 32 -> [R-Dis loss: 0.674, acc: 0.438] || [F-Dis loss: 0.570, acc: 0.062] || [Gen loss: 1.788, acc: 0.000]\n",
      "Epoch:362 elapsed time: 30.10 [s]\n",
      ">>> Epoch: 363, B/Ep: 1/1, Batch S: 32 -> [R-Dis loss: 0.168, acc: 0.875] || [F-Dis loss: 0.387, acc: 0.062] || [Gen loss: 1.917, acc: 0.000]\n",
      "Epoch:363 elapsed time: 29.98 [s]\n",
      ">>> Epoch: 364, B/Ep: 1/1, Batch S: 32 -> [R-Dis loss: 0.201, acc: 0.875] || [F-Dis loss: 0.487, acc: 0.062] || [Gen loss: 3.089, acc: 0.000]\n",
      "Epoch:364 elapsed time: 30.12 [s]\n",
      ">>> Epoch: 365, B/Ep: 1/1, Batch S: 32 -> [R-Dis loss: 0.049, acc: 0.938] || [F-Dis loss: 0.400, acc: 0.062] || [Gen loss: 2.129, acc: 0.000]\n",
      "Epoch:365 elapsed time: 30.07 [s]\n",
      ">>> Epoch: 366, B/Ep: 1/1, Batch S: 32 -> [R-Dis loss: 0.083, acc: 0.938] || [F-Dis loss: 0.429, acc: 0.062] || [Gen loss: 1.724, acc: 0.000]\n",
      "Epoch:366 elapsed time: 29.91 [s]\n",
      ">>> Epoch: 367, B/Ep: 1/1, Batch S: 32 -> [R-Dis loss: 0.033, acc: 0.938] || [F-Dis loss: 0.442, acc: 0.062] || [Gen loss: 2.181, acc: 0.000]\n",
      "Epoch:367 elapsed time: 29.82 [s]\n",
      ">>> Epoch: 368, B/Ep: 1/1, Batch S: 32 -> [R-Dis loss: 0.174, acc: 0.875] || [F-Dis loss: 0.536, acc: 0.062] || [Gen loss: 2.311, acc: 0.000]\n",
      "Epoch:368 elapsed time: 30.15 [s]\n",
      ">>> Epoch: 369, B/Ep: 1/1, Batch S: 32 -> [R-Dis loss: 0.053, acc: 0.938] || [F-Dis loss: 0.427, acc: 0.062] || [Gen loss: 2.344, acc: 0.000]\n",
      "Epoch:369 elapsed time: 29.98 [s]\n",
      ">>> Epoch: 370, B/Ep: 1/1, Batch S: 32 -> [R-Dis loss: 0.166, acc: 0.875] || [F-Dis loss: 0.593, acc: 0.062] || [Gen loss: 2.237, acc: 0.000]\n",
      "Epoch:370 elapsed time: 30.09 [s]\n",
      ">>> Epoch: 371, B/Ep: 1/1, Batch S: 32 -> [R-Dis loss: 0.395, acc: 0.875] || [F-Dis loss: 1.842, acc: 0.062] || [Gen loss: 1.137, acc: 0.000]\n",
      "Epoch: 371 Saving the training progress...\n",
      "No handles with labels found to put in legend.\n",
      ">>> Test Accuracy for fake samples: 0.062 || fake samples: 0.062\n",
      ">>> Test Loss for real samples: 0.175 || fake samples: 0.175\n",
      "Epoch:371 elapsed time: 33.63 [s]\n",
      ">>> Epoch: 372, B/Ep: 1/1, Batch S: 32 -> [R-Dis loss: 1.006, acc: 0.469] || [F-Dis loss: 1.219, acc: 0.062] || [Gen loss: 11.914, acc: 0.000]\n",
      "Epoch:372 elapsed time: 30.16 [s]\n",
      ">>> Epoch: 373, B/Ep: 1/1, Batch S: 32 -> [R-Dis loss: 3.013, acc: 0.688] || [F-Dis loss: 0.887, acc: 0.062] || [Gen loss: 2.049, acc: 0.000]\n",
      "Epoch:373 elapsed time: 30.32 [s]\n",
      ">>> Epoch: 374, B/Ep: 1/1, Batch S: 32 -> [R-Dis loss: 4.097, acc: 0.750] || [F-Dis loss: 1.334, acc: 0.062] || [Gen loss: 5.034, acc: 0.000]\n",
      "Epoch:374 elapsed time: 30.00 [s]\n",
      ">>> Epoch: 375, B/Ep: 1/1, Batch S: 32 -> [R-Dis loss: 1.308, acc: 0.812] || [F-Dis loss: 2.885, acc: 0.062] || [Gen loss: 24.609, acc: 0.000]\n",
      "Epoch:375 elapsed time: 29.89 [s]\n",
      ">>> Epoch: 376, B/Ep: 1/1, Batch S: 32 -> [R-Dis loss: 2.732, acc: 0.812] || [F-Dis loss: 4.633, acc: 0.000] || [Gen loss: 6.820, acc: 0.000]\n",
      "Epoch:376 elapsed time: 29.98 [s]\n",
      ">>> Epoch: 377, B/Ep: 1/1, Batch S: 32 -> [R-Dis loss: 0.587, acc: 0.875] || [F-Dis loss: 0.711, acc: 0.000] || [Gen loss: 1.212, acc: 0.000]\n",
      "Epoch:377 elapsed time: 30.41 [s]\n",
      ">>> Epoch: 378, B/Ep: 1/1, Batch S: 32 -> [R-Dis loss: 0.219, acc: 0.938] || [F-Dis loss: 1.100, acc: 0.062] || [Gen loss: 2.722, acc: 0.000]\n",
      "Epoch:378 elapsed time: 30.40 [s]\n",
      ">>> Epoch: 379, B/Ep: 1/1, Batch S: 32 -> [R-Dis loss: 0.794, acc: 0.750] || [F-Dis loss: 0.506, acc: 0.062] || [Gen loss: 2.659, acc: 0.000]\n",
      "Epoch:379 elapsed time: 30.37 [s]\n",
      ">>> Epoch: 380, B/Ep: 1/1, Batch S: 32 -> [R-Dis loss: 1.107, acc: 0.688] || [F-Dis loss: 0.624, acc: 0.062] || [Gen loss: 1.248, acc: 0.000]\n",
      "Epoch:380 elapsed time: 30.08 [s]\n",
      ">>> Epoch: 381, B/Ep: 1/1, Batch S: 32 -> [R-Dis loss: 0.161, acc: 0.938] || [F-Dis loss: 0.675, acc: 0.062] || [Gen loss: 2.354, acc: 0.000]\n",
      "Epoch: 381 Saving the training progress...\n",
      "No handles with labels found to put in legend.\n",
      ">>> Test Accuracy for fake samples: 0.062 || fake samples: 0.062\n",
      ">>> Test Loss for real samples: 0.122 || fake samples: 0.122\n",
      "Epoch:381 elapsed time: 33.79 [s]\n",
      ">>> Epoch: 382, B/Ep: 1/1, Batch S: 32 -> [R-Dis loss: 0.415, acc: 0.438] || [F-Dis loss: 0.502, acc: 0.062] || [Gen loss: 1.844, acc: 0.000]\n",
      "Epoch:382 elapsed time: 30.13 [s]\n",
      ">>> Epoch: 383, B/Ep: 1/1, Batch S: 32 -> [R-Dis loss: 0.188, acc: 0.812] || [F-Dis loss: 0.566, acc: 0.062] || [Gen loss: 2.240, acc: 0.000]\n",
      "Epoch:383 elapsed time: 30.13 [s]\n",
      ">>> Epoch: 384, B/Ep: 1/1, Batch S: 32 -> [R-Dis loss: 0.099, acc: 0.938] || [F-Dis loss: 0.491, acc: 0.062] || [Gen loss: 2.520, acc: 0.000]\n",
      "Epoch:384 elapsed time: 30.02 [s]\n",
      ">>> Epoch: 385, B/Ep: 1/1, Batch S: 32 -> [R-Dis loss: 0.199, acc: 0.875] || [F-Dis loss: 0.519, acc: 0.062] || [Gen loss: 1.493, acc: 0.000]\n",
      "Epoch:385 elapsed time: 30.44 [s]\n",
      ">>> Epoch: 386, B/Ep: 1/1, Batch S: 32 -> [R-Dis loss: 0.204, acc: 0.750] || [F-Dis loss: 0.526, acc: 0.062] || [Gen loss: 1.588, acc: 0.000]\n",
      "Epoch:386 elapsed time: 29.94 [s]\n",
      ">>> Epoch: 387, B/Ep: 1/1, Batch S: 32 -> [R-Dis loss: 0.042, acc: 0.938] || [F-Dis loss: 0.531, acc: 0.062] || [Gen loss: 2.291, acc: 0.000]\n",
      "Epoch:387 elapsed time: 29.87 [s]\n",
      ">>> Epoch: 388, B/Ep: 1/1, Batch S: 32 -> [R-Dis loss: 2.041, acc: 0.875] || [F-Dis loss: 0.478, acc: 0.062] || [Gen loss: 2.821, acc: 0.000]\n",
      "Epoch:388 elapsed time: 30.01 [s]\n",
      ">>> Epoch: 389, B/Ep: 1/1, Batch S: 32 -> [R-Dis loss: 0.324, acc: 0.812] || [F-Dis loss: 0.602, acc: 0.000] || [Gen loss: 1.734, acc: 0.000]\n",
      "Epoch:389 elapsed time: 30.02 [s]\n",
      ">>> Epoch: 390, B/Ep: 1/1, Batch S: 32 -> [R-Dis loss: 0.063, acc: 0.938] || [F-Dis loss: 0.603, acc: 0.062] || [Gen loss: 1.835, acc: 0.000]\n",
      "Epoch:390 elapsed time: 29.98 [s]\n",
      ">>> Epoch: 391, B/Ep: 1/1, Batch S: 32 -> [R-Dis loss: 0.106, acc: 0.875] || [F-Dis loss: 0.601, acc: 0.062] || [Gen loss: 2.167, acc: 0.000]\n",
      "Epoch: 391 Saving the training progress...\n",
      "No handles with labels found to put in legend.\n",
      ">>> Test Accuracy for fake samples: 0.062 || fake samples: 0.062\n",
      ">>> Test Loss for real samples: 2.864 || fake samples: 2.864\n",
      "Epoch:391 elapsed time: 33.98 [s]\n",
      ">>> Epoch: 392, B/Ep: 1/1, Batch S: 32 -> [R-Dis loss: 0.965, acc: 0.438] || [F-Dis loss: 0.798, acc: 0.062] || [Gen loss: 2.716, acc: 0.000]\n",
      "Epoch:392 elapsed time: 30.29 [s]\n",
      ">>> Epoch: 393, B/Ep: 1/1, Batch S: 32 -> [R-Dis loss: 0.671, acc: 0.688] || [F-Dis loss: 0.579, acc: 0.062] || [Gen loss: 1.895, acc: 0.000]\n",
      "Epoch:393 elapsed time: 30.23 [s]\n",
      ">>> Epoch: 394, B/Ep: 1/1, Batch S: 32 -> [R-Dis loss: 0.087, acc: 0.938] || [F-Dis loss: 0.633, acc: 0.062] || [Gen loss: 2.801, acc: 0.000]\n",
      "Epoch:394 elapsed time: 32.30 [s]\n",
      ">>> Epoch: 395, B/Ep: 1/1, Batch S: 32 -> [R-Dis loss: 0.380, acc: 0.812] || [F-Dis loss: 0.476, acc: 0.062] || [Gen loss: 2.544, acc: 0.000]\n",
      "Epoch:395 elapsed time: 33.81 [s]\n",
      ">>> Epoch: 396, B/Ep: 1/1, Batch S: 32 -> [R-Dis loss: 0.374, acc: 0.812] || [F-Dis loss: 0.608, acc: 0.062] || [Gen loss: 2.073, acc: 0.000]\n",
      "Epoch:396 elapsed time: 31.49 [s]\n",
      ">>> Epoch: 397, B/Ep: 1/1, Batch S: 32 -> [R-Dis loss: 0.412, acc: 0.750] || [F-Dis loss: 0.543, acc: 0.062] || [Gen loss: 2.352, acc: 0.000]\n",
      "Epoch:397 elapsed time: 30.48 [s]\n",
      ">>> Epoch: 398, B/Ep: 1/1, Batch S: 32 -> [R-Dis loss: 0.560, acc: 0.688] || [F-Dis loss: 0.681, acc: 0.062] || [Gen loss: 3.183, acc: 0.000]\n",
      "Epoch:398 elapsed time: 30.42 [s]\n",
      ">>> Epoch: 399, B/Ep: 1/1, Batch S: 32 -> [R-Dis loss: 0.381, acc: 0.750] || [F-Dis loss: 0.493, acc: 0.062] || [Gen loss: 1.790, acc: 0.000]\n",
      "Epoch:399 elapsed time: 30.43 [s]\n",
      ">>> Epoch: 400, B/Ep: 1/1, Batch S: 32 -> [R-Dis loss: 0.229, acc: 0.875] || [F-Dis loss: 0.702, acc: 0.062] || [Gen loss: 2.781, acc: 0.000]\n",
      "Epoch:400 elapsed time: 30.75 [s]\n",
      ">>> Epoch: 401, B/Ep: 1/1, Batch S: 32 -> [R-Dis loss: 0.205, acc: 0.812] || [F-Dis loss: 0.473, acc: 0.062] || [Gen loss: 2.672, acc: 0.000]\n",
      "Epoch: 401 Saving the training progress...\n",
      "No handles with labels found to put in legend.\n",
      ">>> Test Accuracy for fake samples: 0.062 || fake samples: 0.062\n",
      ">>> Test Loss for real samples: 1.243 || fake samples: 1.243\n",
      "Epoch:401 elapsed time: 42.35 [s]\n",
      ">>> Epoch: 402, B/Ep: 1/1, Batch S: 32 -> [R-Dis loss: 0.495, acc: 0.438] || [F-Dis loss: 0.530, acc: 0.062] || [Gen loss: 2.585, acc: 0.000]\n",
      "Epoch:402 elapsed time: 34.17 [s]\n",
      ">>> Epoch: 403, B/Ep: 1/1, Batch S: 32 -> [R-Dis loss: 0.410, acc: 0.688] || [F-Dis loss: 0.545, acc: 0.062] || [Gen loss: 1.481, acc: 0.000]\n",
      "Epoch:403 elapsed time: 32.77 [s]\n",
      ">>> Epoch: 404, B/Ep: 1/1, Batch S: 32 -> [R-Dis loss: 0.193, acc: 0.875] || [F-Dis loss: 0.860, acc: 0.062] || [Gen loss: 2.899, acc: 0.000]\n",
      "Epoch:404 elapsed time: 33.77 [s]\n",
      ">>> Epoch: 405, B/Ep: 1/1, Batch S: 32 -> [R-Dis loss: 0.416, acc: 0.688] || [F-Dis loss: 0.493, acc: 0.062] || [Gen loss: 1.266, acc: 0.000]\n",
      "Epoch:405 elapsed time: 30.85 [s]\n",
      ">>> Epoch: 406, B/Ep: 1/1, Batch S: 32 -> [R-Dis loss: 0.121, acc: 0.938] || [F-Dis loss: 0.788, acc: 0.062] || [Gen loss: 1.444, acc: 0.000]\n",
      "Epoch:406 elapsed time: 31.15 [s]\n",
      ">>> Epoch: 407, B/Ep: 1/1, Batch S: 32 -> [R-Dis loss: 0.219, acc: 0.812] || [F-Dis loss: 0.523, acc: 0.062] || [Gen loss: 1.971, acc: 0.000]\n",
      "Epoch:407 elapsed time: 36.50 [s]\n",
      ">>> Epoch: 408, B/Ep: 1/1, Batch S: 32 -> [R-Dis loss: 0.406, acc: 0.625] || [F-Dis loss: 0.499, acc: 0.062] || [Gen loss: 1.585, acc: 0.000]\n",
      "Epoch:408 elapsed time: 36.06 [s]\n",
      ">>> Epoch: 409, B/Ep: 1/1, Batch S: 32 -> [R-Dis loss: 0.112, acc: 0.875] || [F-Dis loss: 0.544, acc: 0.062] || [Gen loss: 2.038, acc: 0.000]\n",
      "Epoch:409 elapsed time: 36.10 [s]\n",
      ">>> Epoch: 410, B/Ep: 1/1, Batch S: 32 -> [R-Dis loss: 0.377, acc: 0.688] || [F-Dis loss: 0.548, acc: 0.000] || [Gen loss: 1.794, acc: 0.000]\n",
      "Epoch:410 elapsed time: 36.00 [s]\n",
      ">>> Epoch: 411, B/Ep: 1/1, Batch S: 32 -> [R-Dis loss: 0.106, acc: 0.875] || [F-Dis loss: 0.542, acc: 0.062] || [Gen loss: 1.787, acc: 0.000]\n",
      "Epoch: 411 Saving the training progress...\n",
      "No handles with labels found to put in legend.\n",
      ">>> Test Accuracy for fake samples: 0.000 || fake samples: 0.000\n",
      ">>> Test Loss for real samples: 0.733 || fake samples: 0.733\n",
      "Epoch:411 elapsed time: 42.81 [s]\n",
      ">>> Epoch: 412, B/Ep: 1/1, Batch S: 32 -> [R-Dis loss: 0.405, acc: 0.406] || [F-Dis loss: 0.460, acc: 0.062] || [Gen loss: 2.365, acc: 0.000]\n",
      "Epoch:412 elapsed time: 35.93 [s]\n",
      ">>> Epoch: 413, B/Ep: 1/1, Batch S: 32 -> [R-Dis loss: 0.519, acc: 0.750] || [F-Dis loss: 0.713, acc: 0.000] || [Gen loss: 1.330, acc: 0.000]\n",
      "Epoch:413 elapsed time: 39.52 [s]\n",
      ">>> Epoch: 414, B/Ep: 1/1, Batch S: 32 -> [R-Dis loss: 0.365, acc: 0.688] || [F-Dis loss: 0.640, acc: 0.062] || [Gen loss: 1.371, acc: 0.000]\n",
      "Epoch:414 elapsed time: 37.04 [s]\n",
      ">>> Epoch: 415, B/Ep: 1/1, Batch S: 32 -> [R-Dis loss: 0.335, acc: 0.750] || [F-Dis loss: 0.472, acc: 0.062] || [Gen loss: 2.075, acc: 0.000]\n",
      "Epoch:415 elapsed time: 32.76 [s]\n",
      ">>> Epoch: 416, B/Ep: 1/1, Batch S: 32 -> [R-Dis loss: 0.259, acc: 0.750] || [F-Dis loss: 0.468, acc: 0.000] || [Gen loss: 1.682, acc: 0.000]\n",
      "Epoch:416 elapsed time: 31.48 [s]\n",
      ">>> Epoch: 417, B/Ep: 1/1, Batch S: 32 -> [R-Dis loss: 0.193, acc: 0.812] || [F-Dis loss: 0.503, acc: 0.062] || [Gen loss: 2.139, acc: 0.000]\n",
      "Epoch:417 elapsed time: 30.90 [s]\n",
      ">>> Epoch: 418, B/Ep: 1/1, Batch S: 32 -> [R-Dis loss: 0.201, acc: 0.812] || [F-Dis loss: 0.390, acc: 0.062] || [Gen loss: 2.388, acc: 0.000]\n",
      "Epoch:418 elapsed time: 37.70 [s]\n",
      ">>> Epoch: 419, B/Ep: 1/1, Batch S: 32 -> [R-Dis loss: 0.556, acc: 0.625] || [F-Dis loss: 0.471, acc: 0.062] || [Gen loss: 1.793, acc: 0.000]\n",
      "Epoch:419 elapsed time: 38.89 [s]\n",
      ">>> Epoch: 420, B/Ep: 1/1, Batch S: 32 -> [R-Dis loss: 0.267, acc: 0.688] || [F-Dis loss: 0.552, acc: 0.062] || [Gen loss: 1.588, acc: 0.000]\n",
      "Epoch:420 elapsed time: 33.34 [s]\n",
      ">>> Epoch: 421, B/Ep: 1/1, Batch S: 32 -> [R-Dis loss: 0.248, acc: 0.750] || [F-Dis loss: 0.486, acc: 0.000] || [Gen loss: 1.286, acc: 0.000]\n",
      "Epoch: 421 Saving the training progress...\n",
      "No handles with labels found to put in legend.\n",
      ">>> Test Accuracy for fake samples: 0.062 || fake samples: 0.062\n",
      ">>> Test Loss for real samples: 0.248 || fake samples: 0.248\n",
      "Epoch:421 elapsed time: 36.60 [s]\n",
      ">>> Epoch: 422, B/Ep: 1/1, Batch S: 32 -> [R-Dis loss: 0.371, acc: 0.375] || [F-Dis loss: 0.479, acc: 0.062] || [Gen loss: 1.359, acc: 0.000]\n",
      "Epoch:422 elapsed time: 34.39 [s]\n",
      ">>> Epoch: 423, B/Ep: 1/1, Batch S: 32 -> [R-Dis loss: 0.170, acc: 0.875] || [F-Dis loss: 0.497, acc: 0.062] || [Gen loss: 1.414, acc: 0.000]\n",
      "Epoch:423 elapsed time: 35.45 [s]\n",
      ">>> Epoch: 424, B/Ep: 1/1, Batch S: 32 -> [R-Dis loss: 0.292, acc: 0.688] || [F-Dis loss: 0.494, acc: 0.062] || [Gen loss: 1.392, acc: 0.000]\n",
      "Epoch:424 elapsed time: 32.89 [s]\n",
      ">>> Epoch: 425, B/Ep: 1/1, Batch S: 32 -> [R-Dis loss: 0.116, acc: 0.875] || [F-Dis loss: 0.475, acc: 0.062] || [Gen loss: 1.664, acc: 0.000]\n",
      "Epoch:425 elapsed time: 37.64 [s]\n",
      ">>> Epoch: 426, B/Ep: 1/1, Batch S: 32 -> [R-Dis loss: 0.393, acc: 0.625] || [F-Dis loss: 0.536, acc: 0.000] || [Gen loss: 1.452, acc: 0.000]\n",
      "Epoch:426 elapsed time: 32.99 [s]\n",
      ">>> Epoch: 427, B/Ep: 1/1, Batch S: 32 -> [R-Dis loss: 0.392, acc: 0.688] || [F-Dis loss: 0.526, acc: 0.062] || [Gen loss: 1.620, acc: 0.000]\n",
      "Epoch:427 elapsed time: 36.46 [s]\n",
      ">>> Epoch: 428, B/Ep: 1/1, Batch S: 32 -> [R-Dis loss: 0.365, acc: 0.688] || [F-Dis loss: 0.496, acc: 0.062] || [Gen loss: 1.697, acc: 0.000]\n",
      "Epoch:428 elapsed time: 33.25 [s]\n",
      ">>> Epoch: 429, B/Ep: 1/1, Batch S: 32 -> [R-Dis loss: 0.306, acc: 0.688] || [F-Dis loss: 0.564, acc: 0.062] || [Gen loss: 1.419, acc: 0.000]\n",
      "Epoch:429 elapsed time: 32.76 [s]\n",
      ">>> Epoch: 430, B/Ep: 1/1, Batch S: 32 -> [R-Dis loss: 0.211, acc: 0.812] || [F-Dis loss: 0.534, acc: 0.062] || [Gen loss: 1.585, acc: 0.000]\n",
      "Epoch:430 elapsed time: 34.55 [s]\n",
      ">>> Epoch: 431, B/Ep: 1/1, Batch S: 32 -> [R-Dis loss: 0.252, acc: 0.750] || [F-Dis loss: 0.509, acc: 0.062] || [Gen loss: 1.847, acc: 0.000]\n",
      "Epoch: 431 Saving the training progress...\n",
      "No handles with labels found to put in legend.\n",
      ">>> Test Accuracy for fake samples: 0.062 || fake samples: 0.062\n",
      ">>> Test Loss for real samples: 0.301 || fake samples: 0.301\n",
      "Epoch:431 elapsed time: 36.66 [s]\n",
      ">>> Epoch: 432, B/Ep: 1/1, Batch S: 32 -> [R-Dis loss: 0.345, acc: 0.406] || [F-Dis loss: 0.402, acc: 0.062] || [Gen loss: 1.931, acc: 0.000]\n",
      "Epoch:432 elapsed time: 33.03 [s]\n",
      ">>> Epoch: 433, B/Ep: 1/1, Batch S: 32 -> [R-Dis loss: 0.027, acc: 0.938] || [F-Dis loss: 0.453, acc: 0.062] || [Gen loss: 1.765, acc: 0.000]\n",
      "Epoch:433 elapsed time: 33.42 [s]\n",
      ">>> Epoch: 434, B/Ep: 1/1, Batch S: 32 -> [R-Dis loss: 0.216, acc: 0.812] || [F-Dis loss: 0.590, acc: 0.062] || [Gen loss: 1.856, acc: 0.000]\n",
      "Epoch:434 elapsed time: 33.08 [s]\n",
      ">>> Epoch: 435, B/Ep: 1/1, Batch S: 32 -> [R-Dis loss: 0.348, acc: 0.688] || [F-Dis loss: 0.433, acc: 0.062] || [Gen loss: 2.673, acc: 0.000]\n",
      "Epoch:435 elapsed time: 34.99 [s]\n",
      ">>> Epoch: 436, B/Ep: 1/1, Batch S: 32 -> [R-Dis loss: 0.419, acc: 0.625] || [F-Dis loss: 0.489, acc: 0.062] || [Gen loss: 2.371, acc: 0.000]\n",
      "Epoch:436 elapsed time: 35.35 [s]\n",
      ">>> Epoch: 437, B/Ep: 1/1, Batch S: 32 -> [R-Dis loss: 0.338, acc: 0.812] || [F-Dis loss: 0.483, acc: 0.062] || [Gen loss: 1.664, acc: 0.000]\n",
      "Epoch:437 elapsed time: 34.21 [s]\n",
      ">>> Epoch: 438, B/Ep: 1/1, Batch S: 32 -> [R-Dis loss: 0.153, acc: 0.812] || [F-Dis loss: 0.482, acc: 0.062] || [Gen loss: 1.281, acc: 0.000]\n",
      "Epoch:438 elapsed time: 35.05 [s]\n",
      ">>> Epoch: 439, B/Ep: 1/1, Batch S: 32 -> [R-Dis loss: 0.306, acc: 0.750] || [F-Dis loss: 0.366, acc: 0.062] || [Gen loss: 1.584, acc: 0.000]\n",
      "Epoch:439 elapsed time: 33.70 [s]\n",
      ">>> Epoch: 440, B/Ep: 1/1, Batch S: 32 -> [R-Dis loss: 0.272, acc: 0.750] || [F-Dis loss: 0.524, acc: 0.062] || [Gen loss: 1.830, acc: 0.000]\n",
      "Epoch:440 elapsed time: 34.22 [s]\n",
      ">>> Epoch: 441, B/Ep: 1/1, Batch S: 32 -> [R-Dis loss: 0.067, acc: 0.938] || [F-Dis loss: 0.495, acc: 0.062] || [Gen loss: 1.563, acc: 0.000]\n",
      "Epoch: 441 Saving the training progress...\n",
      "No handles with labels found to put in legend.\n",
      ">>> Test Accuracy for fake samples: 0.062 || fake samples: 0.062\n",
      ">>> Test Loss for real samples: 0.259 || fake samples: 0.259\n",
      "Epoch:441 elapsed time: 40.17 [s]\n",
      ">>> Epoch: 442, B/Ep: 1/1, Batch S: 32 -> [R-Dis loss: 0.274, acc: 0.469] || [F-Dis loss: 0.552, acc: 0.062] || [Gen loss: 2.204, acc: 0.000]\n",
      "Epoch:442 elapsed time: 39.78 [s]\n",
      ">>> Epoch: 443, B/Ep: 1/1, Batch S: 32 -> [R-Dis loss: 0.399, acc: 0.750] || [F-Dis loss: 0.539, acc: 0.062] || [Gen loss: 1.758, acc: 0.000]\n",
      "Epoch:443 elapsed time: 35.08 [s]\n",
      ">>> Epoch: 444, B/Ep: 1/1, Batch S: 32 -> [R-Dis loss: 0.262, acc: 0.812] || [F-Dis loss: 0.590, acc: 0.000] || [Gen loss: 1.471, acc: 0.000]\n",
      "Epoch:444 elapsed time: 41.66 [s]\n",
      ">>> Epoch: 445, B/Ep: 1/1, Batch S: 32 -> [R-Dis loss: 0.341, acc: 0.688] || [F-Dis loss: 0.479, acc: 0.062] || [Gen loss: 1.589, acc: 0.000]\n",
      "Epoch:445 elapsed time: 44.48 [s]\n",
      ">>> Epoch: 446, B/Ep: 1/1, Batch S: 32 -> [R-Dis loss: 0.329, acc: 0.688] || [F-Dis loss: 0.497, acc: 0.000] || [Gen loss: 2.285, acc: 0.000]\n",
      "Epoch:446 elapsed time: 44.24 [s]\n",
      ">>> Epoch: 447, B/Ep: 1/1, Batch S: 32 -> [R-Dis loss: 0.260, acc: 0.688] || [F-Dis loss: 0.441, acc: 0.062] || [Gen loss: 2.337, acc: 0.000]\n",
      "Epoch:447 elapsed time: 42.97 [s]\n",
      ">>> Epoch: 448, B/Ep: 1/1, Batch S: 32 -> [R-Dis loss: 0.307, acc: 0.688] || [F-Dis loss: 0.425, acc: 0.062] || [Gen loss: 2.196, acc: 0.000]\n",
      "Epoch:448 elapsed time: 36.06 [s]\n",
      ">>> Epoch: 449, B/Ep: 1/1, Batch S: 32 -> [R-Dis loss: 0.328, acc: 0.688] || [F-Dis loss: 0.512, acc: 0.062] || [Gen loss: 1.972, acc: 0.000]\n",
      "Epoch:449 elapsed time: 40.41 [s]\n",
      ">>> Epoch: 450, B/Ep: 1/1, Batch S: 32 -> [R-Dis loss: 0.240, acc: 0.688] || [F-Dis loss: 0.540, acc: 0.062] || [Gen loss: 1.881, acc: 0.000]\n",
      "Epoch:450 elapsed time: 43.35 [s]\n",
      ">>> Epoch: 451, B/Ep: 1/1, Batch S: 32 -> [R-Dis loss: 0.205, acc: 0.812] || [F-Dis loss: 0.546, acc: 0.000] || [Gen loss: 2.140, acc: 0.000]\n",
      "Epoch: 451 Saving the training progress...\n",
      "No handles with labels found to put in legend.\n",
      ">>> Test Accuracy for fake samples: 0.062 || fake samples: 0.062\n",
      ">>> Test Loss for real samples: 1.130 || fake samples: 1.130\n",
      "Epoch:451 elapsed time: 51.18 [s]\n",
      ">>> Epoch: 452, B/Ep: 1/1, Batch S: 32 -> [R-Dis loss: 0.439, acc: 0.469] || [F-Dis loss: 0.515, acc: 0.062] || [Gen loss: 1.892, acc: 0.000]\n",
      "Epoch:452 elapsed time: 44.19 [s]\n",
      ">>> Epoch: 453, B/Ep: 1/1, Batch S: 32 -> [R-Dis loss: 0.119, acc: 0.875] || [F-Dis loss: 0.498, acc: 0.000] || [Gen loss: 2.341, acc: 0.000]\n",
      "Epoch:453 elapsed time: 48.76 [s]\n",
      ">>> Epoch: 454, B/Ep: 1/1, Batch S: 32 -> [R-Dis loss: 0.203, acc: 0.812] || [F-Dis loss: 0.412, acc: 0.062] || [Gen loss: 2.122, acc: 0.000]\n",
      "Epoch:454 elapsed time: 48.86 [s]\n",
      ">>> Epoch: 455, B/Ep: 1/1, Batch S: 32 -> [R-Dis loss: 0.311, acc: 0.812] || [F-Dis loss: 0.441, acc: 0.062] || [Gen loss: 1.639, acc: 0.000]\n",
      "Epoch:455 elapsed time: 49.77 [s]\n",
      ">>> Epoch: 456, B/Ep: 1/1, Batch S: 32 -> [R-Dis loss: 0.134, acc: 0.875] || [F-Dis loss: 0.488, acc: 0.062] || [Gen loss: 1.768, acc: 0.000]\n",
      "Epoch:456 elapsed time: 47.28 [s]\n",
      ">>> Epoch: 457, B/Ep: 1/1, Batch S: 32 -> [R-Dis loss: 0.108, acc: 0.875] || [F-Dis loss: 0.443, acc: 0.062] || [Gen loss: 1.671, acc: 0.000]\n",
      "Epoch:457 elapsed time: 41.89 [s]\n",
      ">>> Epoch: 458, B/Ep: 1/1, Batch S: 32 -> [R-Dis loss: 0.128, acc: 0.812] || [F-Dis loss: 0.464, acc: 0.062] || [Gen loss: 2.325, acc: 0.000]\n",
      "Epoch:458 elapsed time: 49.80 [s]\n",
      ">>> Epoch: 459, B/Ep: 1/1, Batch S: 32 -> [R-Dis loss: 0.036, acc: 0.938] || [F-Dis loss: 0.596, acc: 0.000] || [Gen loss: 1.205, acc: 0.000]\n",
      "Epoch:459 elapsed time: 46.89 [s]\n",
      ">>> Epoch: 460, B/Ep: 1/1, Batch S: 32 -> [R-Dis loss: 0.402, acc: 0.875] || [F-Dis loss: 0.593, acc: 0.062] || [Gen loss: 1.810, acc: 0.000]\n",
      "Epoch:460 elapsed time: 40.95 [s]\n",
      ">>> Epoch: 461, B/Ep: 1/1, Batch S: 32 -> [R-Dis loss: 0.248, acc: 0.812] || [F-Dis loss: 0.711, acc: 0.062] || [Gen loss: 5.282, acc: 0.000]\n",
      "Epoch: 461 Saving the training progress...\n",
      "No handles with labels found to put in legend.\n",
      ">>> Test Accuracy for fake samples: 0.000 || fake samples: 0.000\n",
      ">>> Test Loss for real samples: 2.707 || fake samples: 2.707\n",
      "Epoch:461 elapsed time: 41.05 [s]\n",
      ">>> Epoch: 462, B/Ep: 1/1, Batch S: 32 -> [R-Dis loss: 1.414, acc: 0.312] || [F-Dis loss: 2.092, acc: 0.062] || [Gen loss: 5.958, acc: 0.000]\n",
      "Epoch:462 elapsed time: 35.45 [s]\n",
      ">>> Epoch: 463, B/Ep: 1/1, Batch S: 32 -> [R-Dis loss: 0.294, acc: 0.812] || [F-Dis loss: 1.201, acc: 0.062] || [Gen loss: 4.918, acc: 0.000]\n",
      "Epoch:463 elapsed time: 32.58 [s]\n",
      ">>> Epoch: 464, B/Ep: 1/1, Batch S: 32 -> [R-Dis loss: 0.704, acc: 0.812] || [F-Dis loss: 0.433, acc: 0.062] || [Gen loss: 1.532, acc: 0.000]\n",
      "Epoch:464 elapsed time: 31.17 [s]\n",
      ">>> Epoch: 465, B/Ep: 1/1, Batch S: 32 -> [R-Dis loss: 0.637, acc: 0.562] || [F-Dis loss: 1.177, acc: 0.062] || [Gen loss: 1.277, acc: 0.000]\n",
      "Epoch:465 elapsed time: 31.88 [s]\n",
      ">>> Epoch: 466, B/Ep: 1/1, Batch S: 32 -> [R-Dis loss: 0.366, acc: 0.750] || [F-Dis loss: 0.523, acc: 0.062] || [Gen loss: 1.212, acc: 0.000]\n",
      "Epoch:466 elapsed time: 33.49 [s]\n",
      ">>> Epoch: 467, B/Ep: 1/1, Batch S: 32 -> [R-Dis loss: 0.046, acc: 0.938] || [F-Dis loss: 0.538, acc: 0.062] || [Gen loss: 1.688, acc: 0.000]\n",
      "Epoch:467 elapsed time: 32.96 [s]\n",
      ">>> Epoch: 468, B/Ep: 1/1, Batch S: 32 -> [R-Dis loss: 0.417, acc: 0.688] || [F-Dis loss: 0.592, acc: 0.062] || [Gen loss: 1.028, acc: 0.000]\n",
      "Epoch:468 elapsed time: 32.98 [s]\n",
      ">>> Epoch: 469, B/Ep: 1/1, Batch S: 32 -> [R-Dis loss: 0.508, acc: 0.688] || [F-Dis loss: 0.640, acc: 0.062] || [Gen loss: 0.993, acc: 0.000]\n",
      "Epoch:469 elapsed time: 43.32 [s]\n",
      ">>> Epoch: 470, B/Ep: 1/1, Batch S: 32 -> [R-Dis loss: 0.374, acc: 0.750] || [F-Dis loss: 0.634, acc: 0.000] || [Gen loss: 1.147, acc: 0.000]\n",
      "Epoch:470 elapsed time: 39.53 [s]\n",
      ">>> Epoch: 471, B/Ep: 1/1, Batch S: 32 -> [R-Dis loss: 0.299, acc: 0.750] || [F-Dis loss: 0.603, acc: 0.062] || [Gen loss: 1.692, acc: 0.000]\n",
      "Epoch: 471 Saving the training progress...\n",
      "No handles with labels found to put in legend.\n",
      ">>> Test Accuracy for fake samples: 0.062 || fake samples: 0.062\n",
      ">>> Test Loss for real samples: 0.143 || fake samples: 0.143\n",
      "Epoch:471 elapsed time: 47.05 [s]\n",
      ">>> Epoch: 472, B/Ep: 1/1, Batch S: 32 -> [R-Dis loss: 0.446, acc: 0.375] || [F-Dis loss: 0.683, acc: 0.062] || [Gen loss: 1.216, acc: 0.000]\n",
      "Epoch:472 elapsed time: 41.40 [s]\n",
      ">>> Epoch: 473, B/Ep: 1/1, Batch S: 32 -> [R-Dis loss: 0.197, acc: 0.812] || [F-Dis loss: 0.494, acc: 0.062] || [Gen loss: 1.725, acc: 0.000]\n",
      "Epoch:473 elapsed time: 38.26 [s]\n",
      ">>> Epoch: 474, B/Ep: 1/1, Batch S: 32 -> [R-Dis loss: 0.643, acc: 0.625] || [F-Dis loss: 0.538, acc: 0.062] || [Gen loss: 1.648, acc: 0.000]\n",
      "Epoch:474 elapsed time: 46.15 [s]\n",
      ">>> Epoch: 475, B/Ep: 1/1, Batch S: 32 -> [R-Dis loss: 0.155, acc: 0.812] || [F-Dis loss: 0.586, acc: 0.000] || [Gen loss: 1.841, acc: 0.000]\n",
      "Epoch:475 elapsed time: 48.23 [s]\n",
      ">>> Epoch: 476, B/Ep: 1/1, Batch S: 32 -> [R-Dis loss: 0.403, acc: 0.750] || [F-Dis loss: 0.559, acc: 0.062] || [Gen loss: 1.788, acc: 0.000]\n",
      "Epoch:476 elapsed time: 42.79 [s]\n",
      ">>> Epoch: 477, B/Ep: 1/1, Batch S: 32 -> [R-Dis loss: 0.079, acc: 0.875] || [F-Dis loss: 0.726, acc: 0.000] || [Gen loss: 1.741, acc: 0.000]\n",
      "Epoch:477 elapsed time: 40.03 [s]\n",
      ">>> Epoch: 478, B/Ep: 1/1, Batch S: 32 -> [R-Dis loss: 0.292, acc: 0.750] || [F-Dis loss: 0.441, acc: 0.062] || [Gen loss: 2.123, acc: 0.000]\n",
      "Epoch:478 elapsed time: 39.15 [s]\n",
      ">>> Epoch: 479, B/Ep: 1/1, Batch S: 32 -> [R-Dis loss: 0.138, acc: 0.875] || [F-Dis loss: 0.456, acc: 0.062] || [Gen loss: 2.383, acc: 0.000]\n",
      "Epoch:479 elapsed time: 44.44 [s]\n",
      ">>> Epoch: 480, B/Ep: 1/1, Batch S: 32 -> [R-Dis loss: 0.347, acc: 0.750] || [F-Dis loss: 0.562, acc: 0.000] || [Gen loss: 1.603, acc: 0.000]\n",
      "Epoch:480 elapsed time: 43.91 [s]\n",
      ">>> Epoch: 481, B/Ep: 1/1, Batch S: 32 -> [R-Dis loss: 0.331, acc: 0.812] || [F-Dis loss: 0.759, acc: 0.062] || [Gen loss: 1.360, acc: 0.000]\n",
      "Epoch: 481 Saving the training progress...\n",
      "No handles with labels found to put in legend.\n",
      ">>> Test Accuracy for fake samples: 0.062 || fake samples: 0.062\n",
      ">>> Test Loss for real samples: 1.048 || fake samples: 1.048\n",
      "Epoch:481 elapsed time: 51.59 [s]\n",
      ">>> Epoch: 482, B/Ep: 1/1, Batch S: 32 -> [R-Dis loss: 0.510, acc: 0.406] || [F-Dis loss: 0.565, acc: 0.062] || [Gen loss: 1.455, acc: 0.000]\n",
      "Epoch:482 elapsed time: 41.93 [s]\n",
      ">>> Epoch: 483, B/Ep: 1/1, Batch S: 32 -> [R-Dis loss: 0.296, acc: 0.750] || [F-Dis loss: 0.485, acc: 0.062] || [Gen loss: 1.619, acc: 0.000]\n",
      "Epoch:483 elapsed time: 44.04 [s]\n",
      ">>> Epoch: 484, B/Ep: 1/1, Batch S: 32 -> [R-Dis loss: 0.452, acc: 0.688] || [F-Dis loss: 0.534, acc: 0.000] || [Gen loss: 1.316, acc: 0.000]\n",
      "Epoch:484 elapsed time: 42.82 [s]\n",
      ">>> Epoch: 485, B/Ep: 1/1, Batch S: 32 -> [R-Dis loss: 0.208, acc: 0.812] || [F-Dis loss: 0.502, acc: 0.062] || [Gen loss: 1.595, acc: 0.000]\n",
      "Epoch:485 elapsed time: 42.69 [s]\n",
      ">>> Epoch: 486, B/Ep: 1/1, Batch S: 32 -> [R-Dis loss: 0.233, acc: 0.750] || [F-Dis loss: 0.406, acc: 0.062] || [Gen loss: 1.445, acc: 0.000]\n",
      "Epoch:486 elapsed time: 39.83 [s]\n",
      ">>> Epoch: 487, B/Ep: 1/1, Batch S: 32 -> [R-Dis loss: 0.256, acc: 0.750] || [F-Dis loss: 0.597, acc: 0.000] || [Gen loss: 1.311, acc: 0.000]\n",
      "Epoch:487 elapsed time: 44.89 [s]\n",
      ">>> Epoch: 488, B/Ep: 1/1, Batch S: 32 -> [R-Dis loss: 0.071, acc: 0.875] || [F-Dis loss: 0.477, acc: 0.062] || [Gen loss: 1.381, acc: 0.000]\n",
      "Epoch:488 elapsed time: 42.54 [s]\n",
      ">>> Epoch: 489, B/Ep: 1/1, Batch S: 32 -> [R-Dis loss: 0.170, acc: 0.812] || [F-Dis loss: 0.488, acc: 0.062] || [Gen loss: 1.478, acc: 0.000]\n",
      "Epoch:489 elapsed time: 39.20 [s]\n",
      ">>> Epoch: 490, B/Ep: 1/1, Batch S: 32 -> [R-Dis loss: 0.247, acc: 0.750] || [F-Dis loss: 0.474, acc: 0.062] || [Gen loss: 1.440, acc: 0.000]\n",
      "Epoch:490 elapsed time: 53.44 [s]\n",
      ">>> Epoch: 491, B/Ep: 1/1, Batch S: 32 -> [R-Dis loss: 0.194, acc: 0.812] || [F-Dis loss: 0.418, acc: 0.062] || [Gen loss: 1.422, acc: 0.000]\n",
      "Epoch: 491 Saving the training progress...\n",
      "No handles with labels found to put in legend.\n",
      ">>> Test Accuracy for fake samples: 0.062 || fake samples: 0.062\n",
      ">>> Test Loss for real samples: 0.899 || fake samples: 0.899\n",
      "Epoch:491 elapsed time: 53.99 [s]\n",
      ">>> Epoch: 492, B/Ep: 1/1, Batch S: 32 -> [R-Dis loss: 0.426, acc: 0.375] || [F-Dis loss: 0.471, acc: 0.062] || [Gen loss: 1.703, acc: 0.000]\n",
      "Epoch:492 elapsed time: 39.35 [s]\n",
      ">>> Epoch: 493, B/Ep: 1/1, Batch S: 32 -> [R-Dis loss: 0.132, acc: 0.875] || [F-Dis loss: 0.482, acc: 0.062] || [Gen loss: 1.910, acc: 0.000]\n",
      "Epoch:493 elapsed time: 48.59 [s]\n",
      ">>> Epoch: 494, B/Ep: 1/1, Batch S: 32 -> [R-Dis loss: 0.143, acc: 0.875] || [F-Dis loss: 0.506, acc: 0.062] || [Gen loss: 1.817, acc: 0.000]\n",
      "Epoch:494 elapsed time: 40.28 [s]\n",
      ">>> Epoch: 495, B/Ep: 1/1, Batch S: 32 -> [R-Dis loss: 0.087, acc: 0.875] || [F-Dis loss: 0.466, acc: 0.000] || [Gen loss: 1.805, acc: 0.000]\n",
      "Epoch:495 elapsed time: 41.46 [s]\n",
      ">>> Epoch: 496, B/Ep: 1/1, Batch S: 32 -> [R-Dis loss: 0.116, acc: 0.875] || [F-Dis loss: 0.476, acc: 0.062] || [Gen loss: 1.606, acc: 0.000]\n",
      "Epoch:496 elapsed time: 44.94 [s]\n",
      ">>> Epoch: 497, B/Ep: 1/1, Batch S: 32 -> [R-Dis loss: 0.361, acc: 0.750] || [F-Dis loss: 0.496, acc: 0.062] || [Gen loss: 1.303, acc: 0.000]\n",
      "Epoch:497 elapsed time: 42.83 [s]\n",
      ">>> Epoch: 498, B/Ep: 1/1, Batch S: 32 -> [R-Dis loss: 0.183, acc: 0.812] || [F-Dis loss: 0.472, acc: 0.062] || [Gen loss: 1.485, acc: 0.000]\n",
      "Epoch:498 elapsed time: 42.29 [s]\n",
      ">>> Epoch: 499, B/Ep: 1/1, Batch S: 32 -> [R-Dis loss: 0.201, acc: 0.812] || [F-Dis loss: 0.443, acc: 0.062] || [Gen loss: 1.679, acc: 0.000]\n",
      "Epoch:499 elapsed time: 40.45 [s]\n",
      ">>> Epoch: 500, B/Ep: 1/1, Batch S: 32 -> [R-Dis loss: 0.310, acc: 0.688] || [F-Dis loss: 0.485, acc: 0.000] || [Gen loss: 1.583, acc: 0.000]\n",
      "Epoch:500 elapsed time: 40.39 [s]\n"
     ]
    }
   ],
   "source": [
    "train(gen_model, dis_model, gan_model, X_img, X_txt, y, epo, bs, check_epochs, fn_config)\n",
    "# train_good(gen_model, dis_model, gan_model, X_img, X_txt, y, epo, bs, check_epochs, fn_config)"
   ]
  },
  {
   "cell_type": "code",
   "execution_count": null,
   "metadata": {},
   "outputs": [],
   "source": []
  }
 ]
}