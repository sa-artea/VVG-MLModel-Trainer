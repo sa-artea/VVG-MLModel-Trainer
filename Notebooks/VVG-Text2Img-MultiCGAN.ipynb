{
 "metadata": {
  "language_info": {
   "codemirror_mode": {
    "name": "ipython",
    "version": 3
   },
   "file_extension": ".py",
   "mimetype": "text/x-python",
   "name": "python",
   "nbconvert_exporter": "python",
   "pygments_lexer": "ipython3",
   "version": "3.8.6"
  },
  "orig_nbformat": 2,
  "kernelspec": {
   "name": "python3",
   "display_name": "Python 3.8.6 64-bit"
  },
  "metadata": {
   "interpreter": {
    "hash": "1baa965d5efe3ac65b79dfc60c0d706280b1da80fedb7760faf2759126c4f253"
   }
  },
  "interpreter": {
   "hash": "1baa965d5efe3ac65b79dfc60c0d706280b1da80fedb7760faf2759126c4f253"
  }
 },
 "nbformat": 4,
 "nbformat_minor": 2,
 "cells": [
  {
   "source": [
    "useful links:\n",
    "\n",
    "- Data Preparation for Variable Length Input Sequences, URL: https://machinelearningmastery.com/data-preparation-variable-length-input-sequences-sequence-prediction/\n",
    "- Masking and padding with Keras, URL: https://www.tensorflow.org/guide/keras/masking_and_padding\n",
    "- Step-by-step understanding LSTM Autoencoder layers, URL: https://towardsdatascience.com/step-by-step-understanding-lstm-autoencoder-layers-ffab055b6352XX, \n",
    "- Understanding input_shape parameter in LSTM with Keras, URL: https://stats.stackexchange.com/questions/274478/understanding-input-shape-parameter-in-lstm-with-keras\n",
    "- tf.convert_to_tensor, URL: https://www.tensorflow.org/api_docs/python/tf/convert_to_tensor\n",
    "- ValueError: Failed to convert a NumPy array to a Tensor (Unsupported object type int) in Python, URL: https://datascience.stackexchange.com/questions/82440/valueerror-failed-to-convert-a-numpy-array-to-a-tensor-unsupported-object-type\n",
    "- How to Identify and Diagnose GAN Failure Modes, URL: https://machinelearningmastery.com/practical-guide-to-gan-failure-modes/\n",
    "- How to Develop a GAN for Generating MNIST Handwritten Digits\n",
    ", URL: https://machinelearningmastery.com/how-to-develop-a-generative-adversarial-network-for-an-mnist-handwritten-digits-from-scratch-in-keras/\n",
    "- How to Visualize a Deep Learning Neural Network Model in Keras\n",
    ", URL: https://machinelearningmastery.com/visualize-deep-learning-neural-network-model-keras/\n",
    "- How to Implement GAN Hacks in Keras to Train Stable Models\n",
    ", URL: https://machinelearningmastery.com/how-to-code-generative-adversarial-network-hacks/\n",
    "- Tips for Training Stable Generative Adversarial Networks\n",
    ", URL: https://machinelearningmastery.com/how-to-train-stable-generative-adversarial-networks/\n",
    "- How to Implement GAN Hacks in Keras to Train Stable Models\n",
    ", URL: https://machinelearningmastery.com/how-to-code-generative-adversarial-network-hacks/\n",
    "- How to Configure Image Data Augmentation in Keras, URL: https://machinelearningmastery.com/how-to-configure-image-data-augmentation-when-training-deep-learning-neural-networks/\n"
   ],
   "cell_type": "markdown",
   "metadata": {}
  },
  {
   "cell_type": "code",
   "execution_count": 1,
   "metadata": {},
   "outputs": [
    {
     "output_type": "stream",
     "name": "stderr",
     "text": [
      "[nltk_data] Downloading package punkt to\n[nltk_data]     C:\\Users\\Felipe\\AppData\\Roaming\\nltk_data...\n[nltk_data]   Package punkt is already up-to-date!\n[nltk_data] Downloading package stopwords to\n[nltk_data]     C:\\Users\\Felipe\\AppData\\Roaming\\nltk_data...\n[nltk_data]   Package stopwords is already up-to-date!\n[nltk_data] Downloading package wordnet to\n[nltk_data]     C:\\Users\\Felipe\\AppData\\Roaming\\nltk_data...\n[nltk_data]   Package wordnet is already up-to-date!\n"
     ]
    }
   ],
   "source": [
    "\"\"\"\n",
    "* Copyright 2020, Maestria de Humanidades Digitales,\n",
    "* Universidad de Los Andes\n",
    "*\n",
    "* Developed for the Msc graduation project in Digital Humanities\n",
    "*\n",
    "* This program is free software: you can redistribute it and/or modify\n",
    "* it under the terms of the GNU General Public License as published by\n",
    "* the Free Software Foundation, either version 3 of the License, or\n",
    "* (at your option) any later version.\n",
    "*\n",
    "* This program is distributed in the hope that it will be useful,\n",
    "* but WITHOUT ANY WARRANTY; without even the implied warranty of\n",
    "* MERCHANTABILITY or FITNESS FOR A PARTICULAR PURPOSE.  See the\n",
    "* GNU General Public License for more details.\n",
    "*\n",
    "* You should have received a copy of the GNU General Public License\n",
    "* along with this program.  If not, see <http://www.gnu.org/licenses/>.\n",
    "\"\"\"\n",
    "\n",
    "# ===============================\n",
    "# native python libraries\n",
    "# ===============================\n",
    "import re\n",
    "import time\n",
    "import random\n",
    "import math\n",
    "import json\n",
    "import csv\n",
    "import cv2\n",
    "import datetime\n",
    "import copy\n",
    "import gc\n",
    "from statistics import mean\n",
    "from collections import OrderedDict\n",
    "from collections import Counter\n",
    "from collections import deque\n",
    "\n",
    "# ===============================\n",
    "# extension python libraries\n",
    "# ===============================\n",
    "import pandas as pd\n",
    "from pandas import ExcelWriter\n",
    "from pandas import ExcelFile\n",
    "import numpy as np\n",
    "import matplotlib.pyplot as plt\n",
    "from wordcloud import WordCloud\n",
    "\n",
    "# natural language processing packages\n",
    "import gensim\n",
    "from gensim import models\n",
    "import nltk\n",
    "from nltk.stem import WordNetLemmatizer\n",
    "from nltk.corpus import stopwords\n",
    "\n",
    "# downloading nlkt data\n",
    "nltk.download('punkt')\n",
    "nltk.download('stopwords')\n",
    "nltk.download('wordnet')\n",
    "\n",
    "# sample handling sklearn package\n",
    "from sklearn.preprocessing import MinMaxScaler\n",
    "from sklearn.model_selection import train_test_split\n",
    "from sklearn.metrics import confusion_matrix\n",
    "from sklearn.metrics import classification_report\n",
    "from sklearn.model_selection import cross_val_score\n",
    "from sklearn.metrics import accuracy_score\n",
    "from sklearn.metrics import precision_score\n",
    "from sklearn.metrics import make_scorer\n",
    "from imblearn.over_sampling import SMOTE\n",
    "from imblearn.over_sampling import RandomOverSampler\n",
    "from skmultilearn.problem_transform import LabelPowerset\n",
    "from skmultilearn.problem_transform import BinaryRelevance\n",
    "from skmultilearn.problem_transform import ClassifierChain\n",
    "\n",
    "# # Keras + Tensorflow ML libraries\n",
    "import tensorflow as tf\n",
    "# from tensorflow.keras.layers\n",
    "\n",
    "# preprocessing and processing\n",
    "from tensorflow.keras.preprocessing.sequence import pad_sequences\n",
    "from keras.utils.vis_utils import plot_model\n",
    "from tensorflow.keras.preprocessing import sequence\n",
    "from tensorflow.keras.callbacks import EarlyStopping\n",
    "\n",
    "# models\n",
    "from tensorflow.keras.models import Sequential\n",
    "from tensorflow.keras.models import Model\n",
    "\n",
    "# shapping layers\n",
    "from tensorflow.keras.layers import Masking\n",
    "from tensorflow.keras.layers import Flatten\n",
    "from tensorflow.keras.layers import Reshape\n",
    "from tensorflow.keras.layers import Embedding\n",
    "from tensorflow.keras.layers import Concatenate\n",
    "\n",
    "# basic layers\n",
    "from tensorflow.keras.layers import Dense\n",
    "from tensorflow.keras.layers import Input\n",
    "from tensorflow.keras.layers import TimeDistributed\n",
    "\n",
    "# data processing layers\n",
    "from tensorflow.keras.layers import BatchNormalization\n",
    "from tensorflow.keras.layers import Dropout\n",
    "from tensorflow.keras.layers import SpatialDropout1D\n",
    "\n",
    "# recurrent and convolutional layers\n",
    "from tensorflow.keras.layers import LSTM\n",
    "from tensorflow.keras.layers import Conv2D\n",
    "from tensorflow.keras.layers import Conv2DTranspose\n",
    "from tensorflow.keras.layers import MaxPooling2D\n",
    "from tensorflow.keras.layers import GlobalMaxPool2D\n",
    "from tensorflow.keras.layers import UpSampling2D\n",
    "from tensorflow.keras.layers import ZeroPadding2D\n",
    "\n",
    "# activarion function\n",
    "from tensorflow.keras.layers import LeakyReLU\n",
    "\n",
    "# optimization loss functions\n",
    "from tensorflow.keras.initializers import RandomNormal\n",
    "from tensorflow.keras.optimizers import SGD # OJO!\n",
    "from tensorflow.keras.optimizers import RMSprop\n",
    "from tensorflow.keras.optimizers import Adam # OJO!\n",
    "from tensorflow.keras.optimizers import Adadelta # OJO!\n",
    "from tensorflow.keras.optimizers import Adagrad # OJO!\n",
    "\n",
    "# image augmentation and processing\n",
    "from keras.preprocessing.image import load_img\n",
    "from keras.preprocessing.image import img_to_array\n",
    "from keras.preprocessing.image import ImageDataGenerator\n",
    "\n",
    "# ===============================\n",
    "# developed python libraries\n",
    "# ==============================="
   ]
  },
  {
   "source": [
    "# FUNCTION DEFINITION"
   ],
   "cell_type": "markdown",
   "metadata": {}
  },
  {
   "cell_type": "code",
   "execution_count": 2,
   "metadata": {},
   "outputs": [],
   "source": [
    "'''\n",
    "A UDF to convert input data into 3-D\n",
    "array as required for LSTM network.\n",
    "\n",
    "taken from https://towardsdatascience.com/step-by-step-understanding-lstm-autoencoder-layers-ffab055b6352\n",
    "'''\n",
    "def temporalize(data, lookback):\n",
    "    output_X = list()\n",
    "    for i in range(len(X)-lookback-1):\n",
    "        temp = list()\n",
    "        for j in range(1,lookback+1):\n",
    "            # Gather past records upto the lookback period\n",
    "            temp.append(data[[(i+j+1)], :])\n",
    "        temp = np.array(temp, dtype=\"object\")\n",
    "        output_X.append(temp)\n",
    "    output_X = np.array(output_X, dtype=\"object\")\n",
    "    return output_X"
   ]
  },
  {
   "cell_type": "code",
   "execution_count": 3,
   "metadata": {},
   "outputs": [],
   "source": [
    "# function to read the image from file with cv2\n",
    "def read_img(img_fpn):\n",
    "    ans = cv2.imread(img_fpn, cv2.IMREAD_UNCHANGED)\n",
    "    return ans"
   ]
  },
  {
   "cell_type": "code",
   "execution_count": 4,
   "metadata": {},
   "outputs": [],
   "source": [
    "# fuction to scale the image and reduce cv2\n",
    "def scale_img(img, scale_pct):\n",
    "\n",
    "    width = int(img.shape[1]*scale_pct/100)\n",
    "    height = int(img.shape[0]*scale_pct/100)\n",
    "    dim = (width, height)\n",
    "    # resize image\n",
    "    ans = cv2.resize(img, dim, interpolation = cv2.INTER_AREA)\n",
    "    return ans"
   ]
  },
  {
   "cell_type": "code",
   "execution_count": 5,
   "metadata": {},
   "outputs": [],
   "source": [
    "# function to standarize image, has 2 types, from 0 to 1 and from -1 to 1\n",
    "def std_img(img, minv, maxv, stype=\"std\"):\n",
    "    ans = None\n",
    "    rangev = maxv - minv\n",
    "\n",
    "    if stype == \"std\":\n",
    "        ans = img.astype(\"float32\")/float(rangev)\n",
    "    \n",
    "    elif stype == \"ctr\":\n",
    "        rangev = float(rangev/2)\n",
    "        ans = (img.astype(\"float32\")-rangev)/rangev\n",
    "    # ans = pd.Series(ans)\n",
    "    return ans"
   ]
  },
  {
   "cell_type": "code",
   "execution_count": 6,
   "metadata": {},
   "outputs": [],
   "source": [
    "# function to pad the image in the center\n",
    "def pad_img(img, h, w, img_type):\n",
    "    #  in case when you have odd number\n",
    "    ans = None\n",
    "    top_pad = np.floor((h - img.shape[0]) / 2).astype(np.uint8) # floor\n",
    "    bottom_pad = np.ceil((h - img.shape[0]) / 2).astype(np.uint8)\n",
    "    right_pad = np.ceil((w - img.shape[1]) / 2).astype(np.uint8)\n",
    "    left_pad = np.floor((w - img.shape[1]) / 2).astype(np.uint8) # floor\n",
    "    # print((top_pad, bottom_pad), (left_pad, right_pad))\n",
    "    if img_type == \"rgb\":\n",
    "        ans = np.copy(np.pad(img, ((top_pad, bottom_pad), (left_pad, right_pad), (0, 0)), mode=\"constant\", constant_values=0.0))   \n",
    "    if img_type == \"bw\":\n",
    "        ans = np.copy(np.pad(img, ((int(top_pad), int(bottom_pad)), (int(left_pad), int(right_pad))), mode=\"constant\", constant_values=0))\n",
    "\n",
    "    return ans"
   ]
  },
  {
   "cell_type": "code",
   "execution_count": 7,
   "metadata": {},
   "outputs": [],
   "source": [
    "def update_shape(src_df, img_col, shape_col):\n",
    "\n",
    "    ans = src_df\n",
    "    src_col = list(ans[img_col])\n",
    "    tgt_col = list()\n",
    "\n",
    "    # ansdict = {}\n",
    "    for data in src_col:\n",
    "        tshape = data.shape\n",
    "        tgt_col.append(tshape)\n",
    "\n",
    "    ans[shape_col] = tgt_col\n",
    "    return ans"
   ]
  },
  {
   "cell_type": "code",
   "execution_count": 8,
   "metadata": {},
   "outputs": [],
   "source": [
    "# function to padd the images in the dataset, needs the shape, the type of image and the src + tgt columns of the frame to work with\n",
    "def padding_images(src_df, src_col, tgt_col, max_shape, img_type):\n",
    "    # ans = src_df\n",
    "    src_images = src_df[src_col]\n",
    "    tgt_images = list()\n",
    "    max_x, max_y = max_shape[0], max_shape[1]\n",
    "\n",
    "    for timg in src_images:        \n",
    "        pimg = pad_img(timg, max_y, max_x, img_type)\n",
    "        tgt_images.append(pimg)\n",
    "\n",
    "    src_df[tgt_col] = tgt_images\n",
    "    return src_df"
   ]
  },
  {
   "cell_type": "code",
   "execution_count": 9,
   "metadata": {},
   "outputs": [],
   "source": [
    "# function to load the images in in memory\n",
    "def get_images(rootf, src_df, src_col, tgt_col, scale_pct):\n",
    "    ans = src_df\n",
    "    src_files = list(ans[src_col])\n",
    "    tgt_files = list()\n",
    "\n",
    "    # ansdict = {}\n",
    "    for tfile in src_files:\n",
    "        tfpn = os.path.join(rootf, tfile)\n",
    "        timg = read_img(tfpn)\n",
    "        timg = scale_img(timg, scale_pct)\n",
    "        tgt_files.append(timg)\n",
    "\n",
    "    ans[tgt_col] = tgt_files\n",
    "    return ans"
   ]
  },
  {
   "cell_type": "code",
   "execution_count": 10,
   "metadata": {},
   "outputs": [],
   "source": [
    "# function to standarize the images in the dataset, it has 2 options\n",
    "def standarize_images(src_df, src_col, tgt_col, img_type, std_opt):\n",
    "    src_images = src_df[src_col]\n",
    "    tgt_images = list()\n",
    "\n",
    "    for timg in src_images:\n",
    "        # pcolor image\n",
    "        if img_type == \"rgb\":\n",
    "            timg = np.asarray(timg, dtype=\"object\")\n",
    "        \n",
    "        # b&w image\n",
    "        if img_type == \"rb\":\n",
    "            timg = np.asarray(timg) #, dtype=\"uint8\")\n",
    "            timg = timg[:,:,np.newaxis]\n",
    "            timg = np.asarray(timg, dtype=\"object\")\n",
    "        \n",
    "        # std_opt affect the standarization results\n",
    "        # result 0.0 < std_timg < 1.0\n",
    "        # result -1.0 < std_timg < 1.0\n",
    "        std_timg = std_img(timg, 0, 255, std_opt)\n",
    "        tgt_images.append(std_timg)\n",
    "\n",
    "    src_df[tgt_col] = tgt_images\n",
    "    return src_df"
   ]
  },
  {
   "cell_type": "code",
   "execution_count": 11,
   "metadata": {},
   "outputs": [],
   "source": [
    "# function than rotates the original image to create a new example\n",
    "def syth_rgb_img(data):\n",
    "\n",
    "    samples = expand_dims(data, 0)\n",
    "    datagen = ImageDataGenerator(rotation_range=90)\n",
    "    ans = datagen.flow(samples, batch_size=1)\n",
    "    ans = ans[0].astype(\"uint8\")\n",
    "    ans = np.squeeze(ans, 0)\n",
    "    return ans"
   ]
  },
  {
   "cell_type": "code",
   "execution_count": 12,
   "metadata": {},
   "outputs": [],
   "source": [
    "# function to get the max shape in the image dataset\n",
    "def get_mshape(shape_data, imgt):\n",
    "\n",
    "    max_x, max_y, max_ch = 0, 0, 0\n",
    "    shape_data = list(shape_data)\n",
    "    ans = None\n",
    "\n",
    "    if imgt == \"rgb\":\n",
    "\n",
    "        for tshape in shape_data:\n",
    "            # tshape = eval(tshape)\n",
    "            tx, ty, tch = tshape[0], tshape[1], tshape[2]\n",
    "\n",
    "            if tx > max_x:\n",
    "                max_x = tx\n",
    "            if ty > max_y:\n",
    "                max_y = ty\n",
    "            if tch > max_ch:\n",
    "                max_ch = tch\n",
    "            \n",
    "        ans = (max_x, max_y, max_ch)\n",
    "    \n",
    "    elif imgt == \"bw\":\n",
    "\n",
    "        for tshape in shape_data:\n",
    "            # tshape = eval(tshape)\n",
    "            tx, ty = tshape[0], tshape[1]\n",
    "\n",
    "            if tx > max_x:\n",
    "                max_x = tx\n",
    "            if ty > max_y:\n",
    "                max_y = ty\n",
    "            \n",
    "        ans = (max_x, max_y)\n",
    "        \n",
    "    return ans"
   ]
  },
  {
   "cell_type": "code",
   "execution_count": 13,
   "metadata": {},
   "outputs": [],
   "source": [
    "'''\n",
    "A UDF to convert input data into 3-D\n",
    "array as required for LSTM network.\n",
    "\n",
    "taken from https://towardsdatascience.com/step-by-step-understanding-lstm-autoencoder-layers-ffab055b6352\n",
    "'''\n",
    "def temporalize(data, lookback):\n",
    "    output_X = list()\n",
    "    for i in range(len(data)-lookback-1):\n",
    "        temp = list()\n",
    "        for j in range(1,lookback+1):\n",
    "            # Gather past records upto the lookback period\n",
    "            temp.append(data[[(i+j+1)], :])\n",
    "        temp = np.array(temp, dtype=\"object\")\n",
    "        output_X.append(temp)\n",
    "    output_X = np.array(output_X, dtype=\"object\")\n",
    "    return output_X"
   ]
  },
  {
   "cell_type": "code",
   "execution_count": 14,
   "metadata": {},
   "outputs": [],
   "source": [
    "# format the pandas df data into usable word dense vector representation, YOU NEED IT FOR THE CSV to be useful!\n",
    "def format_dvector(work_corpus):\n",
    "\n",
    "    ans = list()\n",
    "    for dvector in work_corpus:\n",
    "        dvector = eval(dvector)\n",
    "        dvector = np.asarray(dvector)\n",
    "        ans.append(dvector)\n",
    "    ans = np.asarray(ans, dtype=\"object\")\n",
    "    return ans"
   ]
  },
  {
   "cell_type": "code",
   "execution_count": 15,
   "metadata": {},
   "outputs": [],
   "source": [
    "# funct to concatenate all label columns into one for a single y in ML training, returns a list\n",
    "def concat_labels(row, cname):\n",
    "\n",
    "    ans = list()\n",
    "    for c in cname:\n",
    "        r = row[c]\n",
    "        r = eval(r)\n",
    "        ans = ans + r\n",
    "\n",
    "    return ans"
   ]
  },
  {
   "cell_type": "code",
   "execution_count": 16,
   "metadata": {},
   "outputs": [],
   "source": [
    "# function to save the ML model\n",
    "def save_model(model, m_path, m_file):\n",
    "\n",
    "    fpn = os.path.join(m_path, m_file)\n",
    "    fpn = fpn + \".h5\"\n",
    "    # print(fpn)\n",
    "    model.save(fpn)"
   ]
  },
  {
   "cell_type": "code",
   "execution_count": 17,
   "metadata": {},
   "outputs": [],
   "source": [
    "# function to load the ML model\n",
    "def load_model(m_path, m_file):\n",
    "\n",
    "    fpn = os.path.join(m_path, m_file)\n",
    "    fpn = fpn + \".h5\"\n",
    "    model = keras.models.load_model(fpn)\n",
    "    return model"
   ]
  },
  {
   "cell_type": "code",
   "execution_count": 18,
   "metadata": {},
   "outputs": [],
   "source": [
    "# function to cast dataframe and avoid problems with keras\n",
    "def cast_batch(data):\n",
    "\n",
    "    cast_data = list()\n",
    "\n",
    "    if len(data) >= 2:\n",
    "\n",
    "        for d in data:\n",
    "            d = np.asarray(d).astype(\"float32\")\n",
    "            cast_data.append(d)\n",
    "\n",
    "    return cast_data"
   ]
  },
  {
   "cell_type": "code",
   "execution_count": 19,
   "metadata": {},
   "outputs": [],
   "source": [
    "# function to select real elements to train the discriminator\n",
    "def gen_real_samples(data, sample_size, half_batch):\n",
    "\n",
    "    real_data = list()\n",
    "    rand_index = np.random.randint(0, sample_size, size=half_batch)\n",
    "\n",
    "    # need at leas X, y\n",
    "    # posible combinations are:\n",
    "    # X_img/X_txt, y\n",
    "    # X_img/X_txt, X_labels, y\n",
    "    # X_img, X_txt, X_labels, y\n",
    "    if len(data) >= 2:\n",
    "        # selectinc the columns in the dataset\n",
    "        for d in data:\n",
    "            # td_real = d[rand_index]\n",
    "            td_real = copy.deepcopy(d[rand_index])\n",
    "            real_data.append(td_real)\n",
    "\n",
    "    # casting data\n",
    "    real_data = cast_batch(real_data)\n",
    "\n",
    "    return real_data"
   ]
  },
  {
   "cell_type": "code",
   "execution_count": 20,
   "metadata": {},
   "outputs": [],
   "source": [
    "# function to create fake elements to train the discriminator\n",
    "def gen_fake_samples(gen_model, dataset_shape, half_batch):\n",
    "\n",
    "    # fake data\n",
    "    fake_data = None\n",
    "    # conditional labels for the gan model\n",
    "    conditional = dataset_shape.get(\"conditioned\")\n",
    "    # configuratin keys for the generator\n",
    "    latent_dims = dataset_shape.get(\"latent_dims\")\n",
    "    cat_shape = dataset_shape.get(\"cat_shape\")\n",
    "    label_shape = dataset_shape.get(\"label_shape\")\n",
    "    data_cols = dataset_shape.get(\"data_cols\")\n",
    "\n",
    "    # generator config according to the dataset\n",
    "    # X:images -> y:Real/Fake\n",
    "    if data_cols == 2:\n",
    "        # random textual latent space \n",
    "        latent_space = gen_latent_space(latent_dims, half_batch)\n",
    "        # marking the images as fake in all accounts\n",
    "        y_fake = gen_fake_negclass(cat_shape, half_batch)\n",
    "        # random generated image from the model\n",
    "        Xi_fake = gen_model.predict(latent_space)\n",
    "        # fake samples\n",
    "        fake_data = (Xi_fake, y_fake)\n",
    "\n",
    "    # X_img, X_labels(classification), y (fake/real)\n",
    "    elif (conditional == True) and data_cols == 3:\n",
    "        # random textual latent space \n",
    "        latent_space = gen_latent_space(latent_dims, half_batch)\n",
    "        # marking the images as fake in all accounts\n",
    "        y_fake = gen_fake_negclass(cat_shape, half_batch)\n",
    "        # marking all the images with fake labels\n",
    "        Xl_fake = gen_fake_labels(label_shape, half_batch)\n",
    "\n",
    "        # random generated image from the model\n",
    "        Xi_fake = gen_model.predict([latent_space, Xl_fake])\n",
    "        # fake samples\n",
    "        fake_data = (Xi_fake, Xl_fake, y_fake)\n",
    "\n",
    "    elif (conditional == False) and data_cols == 3:\n",
    "        \n",
    "        # random textual latent space \n",
    "        latent_space = gen_latent_space(latent_dims, half_batch)\n",
    "        # marking the images as fake in all accounts\n",
    "        y_fake = gen_fake_negclass(cat_shape, half_batch)\n",
    "        # random generated image + text from the model\n",
    "        Xi_fake, Xt_fake = gen_model.predict(latent_space)\n",
    "        # fake samples\n",
    "        fake_data = (Xi_fake, Xt_fake, y_fake)\n",
    "\n",
    "    # X_img(rgb), X_txt(text), X_labels(classification), y (fake/real)\n",
    "    elif data_cols == 4:\n",
    "\n",
    "        # random textual latent space \n",
    "        latent_space = gen_latent_space(latent_dims, half_batch)\n",
    "        # marking the images as fake in all accounts\n",
    "        y_fake = gen_fake_negclass(cat_shape, half_batch)\n",
    "        # marking all the images with fake labels\n",
    "        Xl_fake = gen_fake_labels(label_shape, half_batch)\n",
    "\n",
    "        # random generated image from the model\n",
    "        Xi_fake, Xt_fake = gen_model.predict([latent_space, Xl_fake])\n",
    "        # fake samples \n",
    "        fake_data = (Xi_fake, Xt_fake, Xl_fake, y_fake)\n",
    "\n",
    "    # casting data type\n",
    "    fake_data = cast_batch(fake_data)\n",
    "    \n",
    "    return fake_data"
   ]
  },
  {
   "cell_type": "code",
   "execution_count": 21,
   "metadata": {},
   "outputs": [],
   "source": [
    "# function to create inputs to updalte the GAN generator\n",
    "def gen_latent_data(dataset_shape, batch_size):\n",
    "\n",
    "    # latent data\n",
    "    latent_data = None\n",
    "\n",
    "    # conditional labels for the gan model\n",
    "    conditional = dataset_shape.get(\"conditioned\")\n",
    "    # configuratin keys for the generator\n",
    "    latent_dims = dataset_shape.get(\"latent_dims\")\n",
    "    cat_shape = dataset_shape.get(\"cat_shape\")\n",
    "    label_shape = dataset_shape.get(\"label_shape\")\n",
    "    data_cols = dataset_shape.get(\"data_cols\")\n",
    "\n",
    "    # generator config according to the dataset\n",
    "    # X:images -> y:Real/Fake\n",
    "    if data_cols == 2:\n",
    "        # random textual latent space \n",
    "        latent_space = gen_latent_space(latent_dims, batch_size)\n",
    "        # marking the images as fake in all accounts\n",
    "        y_gen = gen_fake_posclass(cat_shape, batch_size)\n",
    "        # fake samples\n",
    "        latent_data = (latent_space, y_gen)\n",
    "\n",
    "    # X_img, X_labels(classification), y (fake/real)\n",
    "    elif data_cols == 3 and (conditional == True):\n",
    "        # random textual latent space \n",
    "        latent_space = gen_latent_space(latent_dims, batch_size)\n",
    "        # marking the images as fake in all accounts\n",
    "        y_gen = gen_fake_posclass(cat_shape, batch_size)\n",
    "        # marking all the images with fake labels\n",
    "        Xl_gen = gen_fake_labels(label_shape, batch_size)\n",
    "        # gen samples\n",
    "        latent_data = (latent_space, Xl_gen, y_gen)\n",
    "\n",
    "    elif data_cols == 3 and (conditional == False):\n",
    "        # random textual latent space \n",
    "        latent_space = gen_latent_space(latent_dims, batch_size)\n",
    "        # marking the images as fake in all accounts\n",
    "        y_gen = gen_fake_posclass(cat_shape, batch_size)\n",
    "        # fake samples\n",
    "        latent_data = (latent_space, y_gen)\n",
    "\n",
    "    # X_img(rgb), X_txt(text), X_labels(classification), y (fake/real)\n",
    "    elif data_cols == 4:\n",
    "        # random textual latent space \n",
    "        latent_space = gen_latent_space(latent_dims, batch_size)\n",
    "        # marking the images as fake in all accounts\n",
    "        y_gen = gen_fake_posclass(cat_shape, batch_size)\n",
    "        # marking all the images with fake labels\n",
    "        Xl_gen = gen_fake_labels(label_shape, batch_size)\n",
    "        # gen samples\n",
    "        latent_data = (latent_space, Xl_gen, y_gen)\n",
    "\n",
    "    return latent_data\n",
    "# latent_gen = gen_latent_txt(latent_shape, batch_size)\n",
    "# create inverted category for the fake noisy text\n",
    "# y_gen = get_fake_positive(cat_shape[0], batch_size)"
   ]
  },
  {
   "cell_type": "code",
   "execution_count": 22,
   "metadata": {},
   "outputs": [],
   "source": [
    "# function to generate random/latent text for the GAN generator\n",
    "def gen_latent_space(latent_dims, n_samples):\n",
    "\n",
    "    ans = None\n",
    "    for i in range(n_samples):\n",
    "\n",
    "        # noise = np.random.normal(0.0, 1.0, size=latent_shape)\n",
    "        # noise = np.random.normal(0.0, 1.0, size=latent_dims)\n",
    "        # noise = np.random.normal(0.5, 0.25, size=latent_shape)\n",
    "        # noise = np.random.uniform(low=0.0, high=1.0, size=latent_shape)\n",
    "        # noise = np.random.randn(latent_shape[0], latent_shape[1])\n",
    "        noise = np.random.randn(latent_dims)\n",
    "        if ans is None:\n",
    "            txt = np.expand_dims(noise, axis=0)\n",
    "            ans = txt\n",
    "        else:\n",
    "            txt = np.expand_dims(noise, axis=0)\n",
    "            ans = np.concatenate((ans, txt), axis=0)\n",
    "    return ans"
   ]
  },
  {
   "cell_type": "code",
   "execution_count": 23,
   "metadata": {},
   "outputs": [],
   "source": [
    "# tfunction to smooth the fake positives\n",
    "def smooth_positives(y):\n",
    "\treturn y - 0.3 + (np.random.random(y.shape)*0.5)"
   ]
  },
  {
   "cell_type": "code",
   "execution_count": 24,
   "metadata": {},
   "outputs": [],
   "source": [
    "# function to smooth the fake negatives\n",
    "def smooth_negatives(y):\n",
    "\treturn y + np.random.random(y.shape)*0.3"
   ]
  },
  {
   "cell_type": "code",
   "execution_count": 25,
   "metadata": {},
   "outputs": [],
   "source": [
    "# function to smooth the data labels\n",
    "def smooth_labels(y):\n",
    "    # label smoothing formula\n",
    "    # alpha: 0.0 -> original distribution, 1.0 uniform distribution\n",
    "    # K: number of label classes\n",
    "    # y_ls = (1 - alpha) * y_hot + alpha / K\n",
    "    alpha = 0.3\n",
    "    K = y[0].shape[0]\n",
    "    ans = (1-alpha)*y + alpha/K\n",
    "    return ans"
   ]
  },
  {
   "cell_type": "code",
   "execution_count": 26,
   "metadata": {},
   "outputs": [],
   "source": [
    "# generate fake true categories for the generator\n",
    "def gen_fake_posclass(cat_shape, batch_size):\n",
    "\n",
    "    sz = (batch_size, cat_shape[0])\n",
    "    ans = np.ones(sz)\n",
    "    # smoothing fakes\n",
    "    ans = smooth_positives(ans)\n",
    "    ans = ans.astype(\"float32\")\n",
    "    return ans"
   ]
  },
  {
   "cell_type": "code",
   "execution_count": 27,
   "metadata": {},
   "outputs": [],
   "source": [
    "# generate fake negative category to train the GAN\n",
    "def gen_fake_negclass(cat_shape, batch_size):\n",
    "\n",
    "    sz = (batch_size, cat_shape[0])\n",
    "    ans = np.zeros(sz)\n",
    "    ans = smooth_negatives(ans)\n",
    "    ans = ans.astype(\"float32\")\n",
    "    return ans"
   ]
  },
  {
   "cell_type": "code",
   "execution_count": 28,
   "metadata": {},
   "outputs": [],
   "source": [
    "# function to generate fake labels to train the GAN\n",
    "def gen_fake_labels(label_shape, batch_size):\n",
    "\n",
    "    sz = (batch_size, label_shape[0])\n",
    "    ans = np.random.randint(0,1, size=sz)\n",
    "    ans = smooth_labels(ans)\n",
    "    ans = ans.astype(\"float32\")\n",
    "    return ans"
   ]
  },
  {
   "cell_type": "code",
   "execution_count": 29,
   "metadata": {},
   "outputs": [],
   "source": [
    "# function to create text similar to the original one with 5% of noise\n",
    "def syth_text(data, nptc=0.05):\n",
    "\n",
    "    ans = None\n",
    "    noise = np.random.normal(0, nptc, data.shape)\n",
    "    ans = data + noise\n",
    "    return ans"
   ]
  },
  {
   "cell_type": "code",
   "execution_count": 30,
   "metadata": {},
   "outputs": [],
   "source": [
    "# synthetizing a noisy std image from real data\n",
    "def syth_std_img(data):\n",
    "\n",
    "    samples = np.expand_dims(data, 0)\n",
    "    datagen = ImageDataGenerator(horizontal_flip=True, vertical_flip=True, rotation_range=10)\n",
    "    # datagen = ImageDataGenerator(rotation_range=10, horizontal_flip=True, vertical_flip=True)\n",
    "    ans = datagen.flow(samples, batch_size=1)\n",
    "    ans = ans[0].astype(\"float32\")\n",
    "    ans = np.squeeze(ans, 0)\n",
    "    return ans"
   ]
  },
  {
   "cell_type": "code",
   "execution_count": 31,
   "metadata": {},
   "outputs": [],
   "source": [
    "# function to create new categories with some noise, default 5%\n",
    "def syth_categories(data, nptc=0.05):\n",
    "\n",
    "    ans = None\n",
    "    noise = np.random.normal(0, nptc, data.shape)\n",
    "    ans = data + noise\n",
    "    return ans"
   ]
  },
  {
   "cell_type": "code",
   "execution_count": 32,
   "metadata": {},
   "outputs": [],
   "source": [
    "# function to artificially span a batch with some noise and alterations by an specific number\n",
    "# TODO fix because this is an old version with no flexibility\n",
    "def expand_samples(data, synth_batch):\n",
    "\n",
    "    X_txt = data[0]\n",
    "    X_img = data[1]\n",
    "    y = data[2]\n",
    "    labels = data[3]\n",
    "\n",
    "    # creating the exapnded batch response\n",
    "    Xe_txt, Xe_img, ye, lbe = None, None, None, None\n",
    "\n",
    "    # iterating in the original batch\n",
    "    for Xtt, Xit, yt, lb in zip(X_txt, X_img, y, labels):\n",
    "\n",
    "        # temporal synth minibatch per original image\n",
    "        synth_Xt, synth_Xi, synth_y, synth_lb = None, None, None, None\n",
    "\n",
    "        # synthetizing artificial data for the batch\n",
    "        for i in range(synth_batch):\n",
    "\n",
    "            # generating first element\n",
    "            if (synth_Xt is None) and (synth_Xi is None) and (synth_y is None) and (synth_lb is None):\n",
    "                # gen text\n",
    "                gen_Xt = copy.deepcopy(Xtt)\n",
    "                gen_Xt = np.array(gen_Xt)\n",
    "                gen_Xt = np.expand_dims(gen_Xt, axis=0)\n",
    "                synth_Xt = gen_Xt\n",
    "\n",
    "                # gen images\n",
    "                gen_Xi = syth_std_img(Xit)\n",
    "                gen_Xi = np.expand_dims(gen_Xi, axis=0)\n",
    "                synth_Xi = gen_Xi\n",
    "\n",
    "                # gen category\n",
    "                gen_yt = syth_categories(yt)\n",
    "                gen_yt = np.expand_dims(gen_yt, axis=0)\n",
    "                synth_y = gen_yt\n",
    "\n",
    "                # gen labels\n",
    "                gen_lb = syth_categories(lb)\n",
    "                gen_lb = np.expand_dims(gen_lb, axis=0)\n",
    "                synth_lb = gen_lb\n",
    "\n",
    "            # generatin the rest of the elements\n",
    "            else:\n",
    "                # gen text\n",
    "                gen_Xt = syth_text(Xtt)\n",
    "                gen_Xt = np.expand_dims(gen_Xt, axis=0)\n",
    "                synth_Xt = np.concatenate((synth_Xt, gen_Xt), axis=0)\n",
    "\n",
    "                # gen images\n",
    "                gen_Xi = syth_std_img(Xit)\n",
    "                gen_Xi = np.expand_dims(gen_Xi, axis=0)\n",
    "                synth_Xi = np.concatenate((synth_Xi, gen_Xi), axis=0)\n",
    "\n",
    "                # gen category\n",
    "                gen_yt = syth_categories(yt)\n",
    "                gen_yt = np.expand_dims(gen_yt, axis=0)\n",
    "                synth_y = np.concatenate((synth_y, gen_yt), axis=0)\n",
    "        \n",
    "                # gen labels\n",
    "                gen_lb = syth_categories(lb)\n",
    "                gen_lb = np.expand_dims(gen_lb, axis=0)\n",
    "                synth_lb = np.concatenate((synth_lb, gen_lb), axis=0)\n",
    "\n",
    "        # adding the first part to the training batch\n",
    "        if (Xe_txt is None) and (Xe_img is None) and (ye is None) and (lbe is None):\n",
    "            # adding text\n",
    "            Xe_txt = synth_Xt\n",
    "            # adding images\n",
    "            Xe_img = synth_Xi\n",
    "            # adding categories\n",
    "            ye = synth_y\n",
    "            # adding labels\n",
    "            lbe = synth_lb\n",
    "\n",
    "        # adding the rest of the batch\n",
    "        else:\n",
    "            # adding text\n",
    "            Xe_txt = np.concatenate((Xe_txt, synth_Xt), axis=0)\n",
    "            # adding images\n",
    "            Xe_img = np.concatenate((Xe_img, synth_Xi), axis=0)\n",
    "            # adding category\n",
    "            ye = np.concatenate((ye, synth_y), axis=0)\n",
    "            # adding labels\n",
    "            lbe = np.concatenate((lbe, synth_lb), axis=0)\n",
    "\n",
    "    Xe_txt, Xe_img, ye, lbe = cast_batch(Xe_txt, Xe_img, ye, lbe)\n",
    "\n",
    "    e_data = (Xe_txt, Xe_img, ye, lbe)\n",
    "\n",
    "    return e_data"
   ]
  },
  {
   "cell_type": "code",
   "execution_count": 33,
   "metadata": {},
   "outputs": [],
   "source": [
    "# def drift_labels(Xt_real, Xi_real, y_real, Xt_fake, Xi_fake, y_fake, batch_size, drift_pct):\n",
    "def drift_labels(real_data, fake_data, batch_size, drift_pct):\n",
    "\n",
    "    # setting the size for the drift labels\n",
    "    drift_size = int(math.ceil(drift_pct*batch_size))\n",
    "    # random index for drift elements!!!\n",
    "    rand_drifters = np.random.choice(batch_size, size=drift_size, replace=False)\n",
    "    # print(\"batch size\", batch_size, \"\\nrandom choise to change\", drift_size, \"\\n\", rand_drifters)\n",
    "\n",
    "    # if the dataset has at leas X, y... NEED TO PASS A GOOD ORDER\n",
    "    if (len(real_data) and len(fake_data)) >= 2:\n",
    "\n",
    "        # iterating over the random choose index\n",
    "        for drift in rand_drifters:\n",
    "\n",
    "            # taking one real + fake column at a time\n",
    "            # X_img/txt, y\n",
    "            # X_img/txt, X_labels, y\n",
    "            # X_img, X_txt, X_labels, y\n",
    "            for real_col, fake_col in zip(real_data, fake_data):\n",
    "                # copying real data in temporal var\n",
    "                temp_drift = copy.deepcopy(real_col[drift])\n",
    "                # replacing real with fakes\n",
    "                real_col[drift] = copy.deepcopy(fake_col[drift])\n",
    "                # updating fakes with temporal original\n",
    "                fake_col[drift] = temp_drift\n",
    "\n",
    "    return real_data, fake_data"
   ]
  },
  {
   "cell_type": "code",
   "execution_count": 34,
   "metadata": {},
   "outputs": [],
   "source": [
    "# function to standarize image, has 2 types, from 0 to 1 and from -1 to 1\n",
    "def inv_std_img(img, minv, maxv, stype=\"std\"):\n",
    "    ans = None\n",
    "    rangev = maxv - minv\n",
    "\n",
    "    if stype == \"std\":\n",
    "        ans = img*rangev\n",
    "        ans = np.asarray(ans).astype(\"uint8\")\n",
    "\n",
    "    elif stype == \"ctr\":\n",
    "        rangev = float(rangev/2)\n",
    "        ans = img+rangev\n",
    "        ans = ans*rangev\n",
    "        ans = np.asarray(ans).astype(\"uint8\")\n",
    "\n",
    "    return ans"
   ]
  },
  {
   "cell_type": "code",
   "execution_count": 35,
   "metadata": {},
   "outputs": [],
   "source": [
    "# the function takes the ideas array, shape and configuration to render them into human understandable lenguage\n",
    "# it select n number of ideas and plot them, for images, for text and for both\n",
    "def plot_ideas(ideas, train_cfg, test_cfg):\n",
    "\n",
    "    # get the index of random ideas in the set\n",
    "    ideas_size = test_cfg.get(\"batch_size\")\n",
    "    gen_samples = test_cfg.get(\"gen_sample_size\")\n",
    "    data_cols = train_cfg.get(\"data_cols\")\n",
    "\n",
    "    # choosing non repeated ideas in the set\n",
    "    rand_index = np.random.choice(ideas_size, size=gen_samples*gen_samples, replace=False)\n",
    "    # print(rand_index)\n",
    "    # print(\"ojo!!!!\", len(ideas))\n",
    "    # if the ideas are images or text\n",
    "    if len(ideas) == 1:\n",
    "        # print(\"data_cols:\", data_cols)\n",
    "        data = ideas[0]\n",
    "        current_shape = data[0].shape\n",
    "        # print(\"idea current_shape:\", ideas.shape)\n",
    "        # print(\"idea current_shape:\", current_shape)\n",
    "\n",
    "        if current_shape == train_cfg.get(\"img_shape\"):\n",
    "            render_painting(data, rand_index, train_cfg, test_cfg)\n",
    "\n",
    "        elif current_shape == train_cfg.get(\"txt_shape\"):\n",
    "            render_wordcloud(data, rand_index, train_cfg, test_cfg)\n",
    "\n",
    "    # if the ideas are images + text\n",
    "    elif len(ideas) == 2:\n",
    "        data_img = ideas[0]\n",
    "        data_txt = ideas[1]\n",
    "        render_painting(data_img, rand_index, train_cfg, test_cfg)\n",
    "        render_wordcloud(data_txt, rand_index, train_cfg, test_cfg)"
   ]
  },
  {
   "cell_type": "code",
   "execution_count": 36,
   "metadata": {},
   "outputs": [],
   "source": [
    "# this function takes the selected ideas and transform them into pytlot objects\n",
    "def render_painting(ideas, rand_index, train_cfg, test_cfg):\n",
    "\n",
    "    # get important data for iterating\n",
    "    n_sample = test_cfg.get(\"gen_sample_size\")\n",
    "    report_fp_name = test_cfg.get(\"report_fn_path\")\n",
    "    epoch = test_cfg.get(\"current_epoch\")\n",
    "\n",
    "    # prep the figure\n",
    "    fig, ax = plt.subplots(n_sample, n_sample, figsize=(20,20))\n",
    "    fig.patch.set_facecolor(\"xkcd:white\")\n",
    "\n",
    "    # plot images\n",
    "    for i in range(n_sample*n_sample):\n",
    "        # define subplot\n",
    "        plt.subplot(n_sample, n_sample, 1+i)\n",
    "\n",
    "        # getting the images from sample\n",
    "        rand_i = rand_index[i]\n",
    "        gimg = ideas[rand_i]\n",
    "        gimg = inv_std_img(gimg, 0, 255, \"ctr\")\n",
    "\n",
    "        # turn off axis\n",
    "        plt.axis(\"off\")\n",
    "        plt.imshow(gimg) #, interpolation=\"nearest\")\n",
    "\n",
    "    # plot leyend\n",
    "    fig.suptitle(\"GENERATED PAINTINGS\", fontsize=50)\n",
    "    fig.legend()\n",
    "\n",
    "    # save plot to file\n",
    "    plot_name = \"GAN-Gen-img-epoch%03d\" % int(epoch)\n",
    "    plot_name = plot_name + \".png\"\n",
    "    fpn = os.path.join(report_fp_name, \"img\", plot_name)\n",
    "    plt.savefig(fpn)\n",
    "    plt.close()"
   ]
  },
  {
   "cell_type": "code",
   "execution_count": 37,
   "metadata": {},
   "outputs": [],
   "source": [
    "# this function takes the selected ideas and translate them into pytplot objects\n",
    "def render_wordcloud(ideas, rand_index, train_cfg, test_cfg):\n",
    "\n",
    "    # get important data for iterating\n",
    "    n_sample = test_cfg.get(\"n_samples\")\n",
    "    lexicon = train_cfg.get(\"bow_lexicon\")\n",
    "    tfidf_tokens = train_cfg.get(\"tfidf_lexicon\")\n",
    "    # get important data for iterating\n",
    "    n_sample = test_cfg.get(\"gen_sample_size\")\n",
    "    report_fp_name = test_cfg.get(\"report_fn_path\")\n",
    "    epoch = test_cfg.get(\"current_epoch\")\n",
    "    default = {\"no\":1, \"words\":1}\n",
    "\n",
    "    # prep the figure\n",
    "    fig, ax = plt.subplots(n_sample,n_sample, figsize=(20,20))\n",
    "    fig.patch.set_facecolor(\"xkcd:white\")\n",
    "\n",
    "    # plot images\n",
    "    for i in range(n_sample*n_sample):\n",
    "        # define subplot\n",
    "        plt.subplot(n_sample, n_sample, 1+i)\n",
    "        \n",
    "        # getting the images from sample\n",
    "        rand_i = rand_index[i]\n",
    "        gtxt = ideas[rand_i]\n",
    "        gtxt = translate_from_lexicon(gtxt, tfidf_tokens, lexicon)\n",
    "\n",
    "        wordcloud = WordCloud(max_font_size=100,\n",
    "                                min_font_size=10,\n",
    "                                max_words=100,\n",
    "                                min_word_length=1,\n",
    "                                relative_scaling = 0.5,\n",
    "                                width=600, height=400,\n",
    "                                background_color=\"white\",\n",
    "                                random_state=42)\n",
    "        if len(gtxt) == 0:\n",
    "            gtxt = default\n",
    "        \n",
    "        wordcloud.generate_from_frequencies(frequencies=gtxt)\n",
    "        # plt.figure()\n",
    "\n",
    "        # turn off axis\n",
    "        plt.axis(\"off\")\n",
    "        plt.imshow(wordcloud, interpolation=\"bilinear\") #, interpolation=\"nearest\")\n",
    "\n",
    "    # plot leyend\n",
    "    fig.suptitle(\"GENERATED WORDS\", fontsize=50)\n",
    "    fig.legend()\n",
    "\n",
    "    # save plot to file\n",
    "    plot_name = \"GAN-Gen-txt-epoch%03d\" % int(epoch)\n",
    "    plot_name = plot_name + \".png\"\n",
    "    fpn = os.path.join(report_fp_name, \"txt\", plot_name)\n",
    "    plt.savefig(fpn)\n",
    "    plt.close()"
   ]
  },
  {
   "cell_type": "code",
   "execution_count": 38,
   "metadata": {},
   "outputs": [],
   "source": [
    "# this function loads the model known lexicon into the a dictionary for the world cloud to translate\n",
    "def load_lexicon(lexicon_fp):\n",
    "\n",
    "    lexicon = gensim.corpora.Dictionary.load(lexicon_fp)\n",
    "    return lexicon"
   ]
  },
  {
   "cell_type": "code",
   "execution_count": 39,
   "metadata": {},
   "outputs": [],
   "source": [
    "# this function takes the idtf dense word vector representacion and translate it to human lenguage using the kown lexicon\n",
    "def translate_from_lexicon(tfidf_corpus, tfidf_dict, lexicon):\n",
    "\n",
    "    wordcloud = dict()\n",
    "\n",
    "    bow_corpus = tfidf2bow(tfidf_corpus, tfidf_dict)\n",
    "    wordcloud = bow2words(bow_corpus, lexicon)\n",
    "    return wordcloud"
   ]
  },
  {
   "cell_type": "code",
   "execution_count": 40,
   "metadata": {},
   "outputs": [],
   "source": [
    "# translate from tfidf token representation to bow representation\n",
    "def tfidf2bow(tfidf_corpus, tfidf_dict):\n",
    "\n",
    "    bows = dict()\n",
    "    tfidf_corpus = np.asarray(tfidf_corpus, dtype=\"float32\")\n",
    "    # print(type(tfidf_corpus))\n",
    "\n",
    "    for tfidf_doc in tfidf_corpus:\n",
    "\n",
    "        for tfidf_token in tfidf_doc:\n",
    "\n",
    "            bows = get_similars(tfidf_token, bows, tfidf_dict)\n",
    "\n",
    "    return bows"
   ]
  },
  {
   "cell_type": "code",
   "execution_count": 41,
   "metadata": {},
   "outputs": [],
   "source": [
    "# stablish if the tfidf representation of a token is similar to the one in the tfidf dictionar\n",
    "def get_similars(tfidf_token, bows, tfidf_dict):\n",
    "\n",
    "    ans = bows\n",
    "    ans = isclose_in(tfidf_token, bows, tfidf_dict)\n",
    "    return ans"
   ]
  },
  {
   "cell_type": "code",
   "execution_count": 42,
   "metadata": {},
   "outputs": [],
   "source": [
    "# this function return the similar values of the tfidf value with a token id and a count\n",
    "def isclose_in(token, token_dict, cmp_tokens, tol=0.0001):\n",
    "\n",
    "    for tcmp in cmp_tokens:\n",
    "        for key, value in tcmp.items():\n",
    "\n",
    "            if math.isclose(token, value, rel_tol=tol) and (key not in token_dict.keys()):\n",
    "                token_dict.update({key:1})\n",
    "            \n",
    "            elif math.isclose(token, value, rel_tol=tol) and (key in token_dict.keys()):\n",
    "                count = token_dict[key]\n",
    "                count = count + 1\n",
    "                token_dict.update({key:count})\n",
    "    return token_dict"
   ]
  },
  {
   "cell_type": "code",
   "execution_count": 43,
   "metadata": {},
   "outputs": [],
   "source": [
    "def bow2words(bow_txt, lexicon):\n",
    "\n",
    "    words = dict()\n",
    "\n",
    "    for key, value in bow_txt.items():\n",
    "        token = lexicon.get(key)\n",
    "        td = {token:value}\n",
    "        # word = id2token.get(key)\n",
    "        # td = {word:value}\n",
    "        words.update(td)\n",
    "    return words"
   ]
  },
  {
   "cell_type": "code",
   "execution_count": 44,
   "metadata": {},
   "outputs": [],
   "source": [
    "# function to plot the generated images within a training epoch\n",
    "def plot_gen_images(examples, epoch, report_fp_name, n_sample):\n",
    "\n",
    "    # get important data for iterating\n",
    "    example_size = examples.shape[0]\n",
    "    og_shape = examples[0].shape\n",
    "    rand_img = np.random.choice(example_size, size=n_sample*n_sample, replace=False) \n",
    "    # (0, example_size, size=n_sample*n_sample)\n",
    "\n",
    "    # prep the figure\n",
    "    fig, ax = plt.subplots(n_sample,n_sample, figsize=(20,20))\n",
    "    fig.patch.set_facecolor(\"xkcd:white\")\n",
    "\n",
    "    # plot images\n",
    "    for i in range(n_sample*n_sample):\n",
    "        # define subplot\n",
    "        plt.subplot(n_sample, n_sample, 1+i)\n",
    "\n",
    "        # getting the images from sample\n",
    "        rand_i = rand_img[i]\n",
    "        gimg = examples[rand_i]\n",
    "        gimg = inv_std_img(gimg, 0, 255, \"ctr\")\n",
    "\n",
    "        # turn off axis\n",
    "        plt.axis(\"off\")\n",
    "        plt.imshow(gimg) #, interpolation=\"nearest\")\n",
    "\n",
    "    # plot leyend\n",
    "    fig.suptitle(\"GENERATED PAINTINGS\", fontsize=50)\n",
    "    fig.legend()\n",
    "\n",
    "    # save plot to file\n",
    "    plot_name = \"GAN-Gen-img-epoch%03d\" % int(epoch)\n",
    "    plot_name = plot_name + \".png\"\n",
    "    fpn = os.path.join(report_fp_name, \"img\", plot_name)\n",
    "    plt.savefig(fpn)\n",
    "    plt.close()"
   ]
  },
  {
   "cell_type": "code",
   "execution_count": 45,
   "metadata": {},
   "outputs": [],
   "source": [
    "# create a line plot of loss for the gan and save to file\n",
    "def plot_metrics(disr_hist, disf_hist, gan_hist, report_fp_name, epoch):\n",
    "\n",
    "    # reporting results\n",
    "    disr_hist = np.array(disr_hist)\n",
    "    disf_hist = np.array(disf_hist)\n",
    "    gan_hist = np.array(gan_hist)\n",
    "\n",
    "    fig, (ax1, ax2) = plt.subplots(1,2, figsize=(16,8))\n",
    "    fig.patch.set_facecolor(\"xkcd:white\")\n",
    "\n",
    "    # loss\n",
    "    ax1.plot(disr_hist[:,1], \"royalblue\", label=\"Loss: R-Dis\")\n",
    "    ax1.plot(disf_hist[:,1], \"crimson\", label=\"Loss: F-Dis\")\n",
    "    ax1.plot(gan_hist[:,1], \"blueviolet\", label=\"Loss: GAN/Gen\")\n",
    "    # ax1.plot(gan_hist[:], \"blueviolet\", label=\"Loss: GAN/Gen\")\n",
    "\n",
    "    # acc_\n",
    "    ax2.plot(disr_hist[:,0], \"royalblue\", label=\"Acc: R-Dis\")\n",
    "    ax2.plot(disf_hist[:,0], \"crimson\", label=\"Acc: F-Dis\")\n",
    "    ax2.plot(gan_hist[:,0], \"blueviolet\", label=\"Acc: GAN/Gen\")\n",
    "\n",
    "    # plot leyend\n",
    "    fig.suptitle(\"LEARNING BEHAVIOR\", fontsize=20)\n",
    "    ax1.grid(True)\n",
    "    ax2.grid(True)\n",
    "    ax1.set_title(\"Loss\")\n",
    "    ax2.set_title(\"Accuracy\")\n",
    "    ax1.set(xlabel = \"Epoch [cycle]\", ylabel = \"Loss\")\n",
    "    ax2.set(xlabel = \"Epoch [cycle]\", ylabel = \"Acc\")\n",
    "    fig.legend()\n",
    "\n",
    "    # save plot to file\n",
    "    plot_name = \"GAN-learn-curve-epoch%03d\" % int(epoch)\n",
    "    plot_name = plot_name + \".png\"\n",
    "    fpn = os.path.join(report_fp_name, \"learn\", plot_name)\n",
    "    plt.savefig(fpn)\n",
    "    plt.close()"
   ]
  },
  {
   "cell_type": "code",
   "execution_count": 46,
   "metadata": {},
   "outputs": [],
   "source": [
    "# function to calculate the loss and accuracy avg in multiple batchs of an epoch\n",
    "def epoch_avg(log):\n",
    "    loss, acc = None, None\n",
    "\n",
    "    # if acc and loss are present to avg\n",
    "    if type(log[0]) is list:\n",
    "        if len(log) > 0:\n",
    "\n",
    "            acc_list = list()\n",
    "            loss_list = list()\n",
    "\n",
    "            for l in log:\n",
    "                ta = l[0]\n",
    "                tl = l[1]\n",
    "\n",
    "                acc_list.append(ta)\n",
    "                loss_list.append(tl)\n",
    "\n",
    "            loss, acc = mean(loss_list), mean(acc_list)\n",
    "        return loss, acc\n",
    "    \n",
    "    else:\n",
    "        # if only loss is present\n",
    "        if len(log) > 0:\n",
    "\n",
    "            loss_list = list()\n",
    "\n",
    "            for l in log:\n",
    "                loss_list.append(l)\n",
    "\n",
    "            loss = mean(loss_list)\n",
    "        return loss\n"
   ]
  },
  {
   "cell_type": "code",
   "execution_count": 47,
   "metadata": {},
   "outputs": [],
   "source": [
    "# function to save model, needs the dirpath, the name and the datetime to save\n",
    "def export_model(model, models_fp_name, filename, datetime):\n",
    "\n",
    "    ss = True\n",
    "    sln = True\n",
    "    fext = \"png\"\n",
    "    fpn = filename + \"-\" + datetime\n",
    "    fpn = filename + \".\" + fext\n",
    "    fpn = os.path.join(models_fp_name, fpn)\n",
    "    plot_model(model, to_file=fpn, show_shapes=ss, show_layer_names=sln)"
   ]
  },
  {
   "cell_type": "code",
   "execution_count": 48,
   "metadata": {},
   "outputs": [],
   "source": [
    "# function to format data to save in file\n",
    "def format_metrics(disr_history, disf_history, gan_history):\n",
    "\n",
    "    headers, data = None, None\n",
    "\n",
    "    disr_hist = np.array(disr_history)\n",
    "    disf_hist = np.array(disf_history)\n",
    "    gan_hist = np.array(gan_history)\n",
    "\n",
    "    # formating file headers\n",
    "    headers = [\"dis_loss_real\", \"dis_acc_real\", \"dis_loss_fake\", \"dis_acc_fake\", \"gen_gan_loss\", \"gen_gan_acc\"]\n",
    "    # headers = [\"dis_loss_real\", \"dis_acc_real\", \"dis_loss_fake\", \"dis_acc_fake\", \"gen_gan_loss\",] # \"gen_gan_acc\"]\n",
    "\n",
    "    # formating fake discriminator train data\n",
    "    drhl = disr_hist[:,1]\n",
    "    drha = disr_hist[:,0]\n",
    "\n",
    "    # formating real discrimintator train data\n",
    "    dfhl = disf_hist[:,1]\n",
    "    dfha = disf_hist[:,0]\n",
    "\n",
    "    # formating gan/gen train data\n",
    "    # gghl = gan_hist[:]# .flatten()\n",
    "    gghl = gan_hist[:,1]\n",
    "    ggha = gan_hist[:,0]\n",
    "\n",
    "    # adding all formatted data into list\n",
    "    data = np.column_stack((drhl, drha, dfhl, dfha, gghl, ggha))\n",
    "    # data = np.column_stack((drhl, drha, dfhl, dfha, gghl)) #, ggha))\n",
    "\n",
    "    return data, headers"
   ]
  },
  {
   "cell_type": "code",
   "execution_count": 49,
   "metadata": {},
   "outputs": [],
   "source": [
    "# function to write data in csv file\n",
    "def write_metrics(data, headers, report_fn_path, filename):\n",
    "\n",
    "    # print(report_fn_path, filename)\n",
    "    fpn = filename + \"-train-history.csv\"\n",
    "    fpn = os.path.join(report_fn_path, fpn)\n",
    "\n",
    "    history_df = pd.DataFrame(data, columns=headers)\n",
    "    tdata = history_df.to_csv(\n",
    "                            fpn,\n",
    "                            sep=\",\",\n",
    "                            index=False,\n",
    "                            encoding=\"utf-8\",\n",
    "                            mode=\"w\",\n",
    "                            quoting=csv.QUOTE_ALL\n",
    "                            )"
   ]
  },
  {
   "cell_type": "code",
   "execution_count": 50,
   "metadata": {},
   "outputs": [],
   "source": [
    "# function to safe the loss/acc logs in training for the gan/gen/dis models\n",
    "def save_metrics(disr_history, disf_history, gan_history, report_fn_path, filename):\n",
    "\n",
    "    data, headers = format_metrics(disr_history, disf_history, gan_history)\n",
    "    write_metrics(data, headers, report_fn_path, filename)"
   ]
  },
  {
   "cell_type": "code",
   "execution_count": 51,
   "metadata": {},
   "outputs": [],
   "source": [
    "# function to know the time between epochs or batchs it return the new time for a new calculation\n",
    "def lapse_time(last_time, epoch):\n",
    "\n",
    "    now_time = datetime.datetime.now()\n",
    "    deltatime = now_time - last_time\n",
    "    deltatime = deltatime.total_seconds()\n",
    "    deltatime = \"%.2f\" % deltatime\n",
    "    msg = \"Epoch:%3d \" % int(epoch+1)\n",
    "    msg = msg + \"elapsed time: \" + str(deltatime) + \" [s]\"\n",
    "    print(msg)\n",
    "    return now_time"
   ]
  },
  {
   "cell_type": "code",
   "execution_count": 52,
   "metadata": {},
   "outputs": [],
   "source": [
    "# function to test the model while training\n",
    "def test_model(gen_model, dis_model, data, data_shape, train_cfg, test_cfg): \n",
    "\n",
    "    dataset_size = test_cfg.get(\"dataset_size\")\n",
    "    batch_size = test_cfg.get(\"batch_size\")\n",
    "    synth_batch = test_cfg.get(\"synth_batch\")\n",
    "    epoch = int(test_cfg.get(\"current_epoch\"))\n",
    "    report_fn_path = test_cfg.get(\"report_fn_path\")\n",
    "    gen_samples = test_cfg.get(\"gen_sample_size\") \n",
    "    balance_batch = test_cfg.get(\"balance_batch\")\n",
    "    split_batch = int(batch_size/2)\n",
    "\n",
    "    # select real txt2img for discrimintator\n",
    "    real_data = gen_real_samples(data, dataset_size, batch_size)\n",
    "\n",
    "    # create false txt for txt2img for generator\n",
    "    fake_data = gen_fake_samples(gen_model, data_shape, batch_size)\n",
    "\n",
    "    # expand the training sample for the discriminator\n",
    "    if synth_batch > 1:\n",
    "        real_data = expand_samples(real_data, synth_batch)\n",
    "        fake_data = expand_samples(fake_data, synth_batch)\n",
    "\n",
    "    # balance training samples for the discriminator\n",
    "    if balance_batch == True:\n",
    "        real_data = balance_samples(real_data)\n",
    "        fake_data = balance_samples(fake_data)\n",
    "        \n",
    "    # print(Xt_real.shape, Xi_real.shape, y_real.shape, yl_real.shape)\n",
    "    # print(Xt_fake.shape, Xi_fake.shape, y_fake.shape, yl_fake.shape)\n",
    "\n",
    "    # plotting gen ideas\n",
    "    # ideas = (fake_data[0], fake_data[1])\n",
    "    # plot_ideas(ideas, train_cfg, test_cfg)\n",
    "\n",
    "    # test metrics\n",
    "    test_real, test_fake = None, None\n",
    "\n",
    "    # 1 output, img or txt\n",
    "    if len(data) == 2:\n",
    "        ideas = (fake_data[0],)\n",
    "        print(len(ideas))\n",
    "        plot_ideas(ideas, train_cfg, test_cfg)\n",
    "        test_real, test_fake = test_gan(dis_model, real_data, fake_data, batch_size)\n",
    "\n",
    "    # 2 output, img + txt and labels conditioned\n",
    "    elif len(data) == 3 and data_shape.get(\"conditioned\") == True:\n",
    "        ideas = (fake_data[0],)\n",
    "        plot_ideas(ideas, train_cfg, test_cfg)\n",
    "        test_real, test_fake = test_cgan(dis_model, real_data, fake_data, batch_size)\n",
    "\n",
    "    # 2 output, img + txt unconditioned\n",
    "    elif len(data) == 3 and data_shape.get(\"conditioned\") == False:\n",
    "        ideas = (fake_data[0], fake_data[1])\n",
    "        plot_ideas(ideas, train_cfg, test_cfg)\n",
    "        test_real, test_fake = test_multi_gan(dis_model, real_data, fake_data, batch_size)\n",
    "\n",
    "    # 2 outputs, img + txt and label conditioned\n",
    "    elif len(data) == 4:\n",
    "        ideas = (fake_data[0], fake_data[1])\n",
    "        plot_ideas(ideas, train_cfg, test_cfg)\n",
    "        test_real, test_fake = test_multi_cgan(dis_model, real_data, fake_data, batch_size)\n",
    "\n",
    "    # summarize discriminator performance\n",
    "    print(\"Batch Size %d -> Samples: Fake: %d & Real: %d\" % (batch_size*synth_batch, split_batch, split_batch))\n",
    "    print(\">>> Test Fake -> Acc: %.3f || Loss: %.3f\" % (test_fake[1], test_fake[0]))\n",
    "    print(\">>> Test Real -> Acc: %.3f || Loss: %.3f\" % (test_real[1], test_real[0]))\n",
    "    # print(\">>> Test Gen -> Acc: %.3f || Loss: %.3f\" % (test_cgen[1], test_cgen[0]))"
   ]
  },
  {
   "cell_type": "code",
   "execution_count": 53,
   "metadata": {},
   "outputs": [],
   "source": [
    "# special function to train the GAN\n",
    "# https://machinelearningmastery.com/how-to-develop-a-generative-adversarial-network-for-an-mnist-handwritten-digits-from-scratch-in-keras/\n",
    "# def train(gen_model, dis_model, gan_model, X_img, X_txt, y, labels, epochs, batch_size, save_intervas, fn_config):\n",
    "def training_model(gen_model, dis_model, gan_model, data, train_cfg): # epochs, batch_size, save_intervas, fn_config\n",
    "\n",
    "    # sample size\n",
    "    dataset_size = train_cfg.get(\"dataset_size\")\n",
    "\n",
    "    # data shape for the generator\n",
    "    data_shape = {\n",
    "        \"latent_dims\": train_cfg.get(\"latent_dims\"),\n",
    "        \"cat_shape\": train_cfg.get(\"cat_shape\"),\n",
    "        \"txt_shape\": train_cfg.get(\"txt_shape\"),\n",
    "        \"label_shape\": train_cfg.get(\"label_shape\"),\n",
    "        \"conditioned\": train_cfg.get(\"conditioned\"),\n",
    "        \"data_cols\": train_cfg.get(\"data_cols\"),\n",
    "        }\n",
    "    # print(data_shape)\n",
    "\n",
    "    # augmentation factor\n",
    "    synth_batch = train_cfg.get(\"synth_batch\")\n",
    "    balance_batch = train_cfg.get(\"balance_batch\")\n",
    "    n = train_cfg.get(\"gen_sample_size\")\n",
    "\n",
    "    epochs = train_cfg.get(\"max_epochs\")\n",
    "    batch_size = train_cfg.get(\"batch_size\")\n",
    "    half_batch = int(batch_size/2)\n",
    "    batch_per_epoch = int(dataset_size/batch_size)\n",
    "    # fake/real batch division\n",
    "    real_batch = int((batch_size*synth_batch)/2)\n",
    "\n",
    "    # train config\n",
    "    model_fn_path = train_cfg.get(\"models_fn_path\")\n",
    "    report_fn_path = train_cfg.get(\"report_fn_path\")\n",
    "    dis_model_name = train_cfg.get(\"dis_model_name\")\n",
    "    gen_model_name = train_cfg.get(\"gen_model_name\")\n",
    "    gan_model_name = train_cfg.get(\"gan_model_name\")\n",
    "    check_intervas = train_cfg.get(\"check_epochs\")\n",
    "    save_intervas = train_cfg.get(\"save_epochs\")\n",
    "    max_models = train_cfg.get(\"max_models\")\n",
    "    pretrain = train_cfg.get(\"pretrained\")\n",
    "\n",
    "\t# prepare lists for storing stats each epoch\n",
    "    disf_hist, disr_hist, gan_hist = list(), list(), list()\n",
    "    train_time = None\n",
    "\n",
    "    # train dict config\n",
    "    test_cfg = {\n",
    "        \"report_fn_path\": report_fn_path,\n",
    "        \"dataset_size\": dataset_size,\n",
    "        \"batch_size\": batch_size,\n",
    "        \"synth_batch\": synth_batch,\n",
    "        \"gen_sample_size\": train_cfg.get(\"gen_sample_size\"),\n",
    "        \"current_epoch\": None,\n",
    "    }\n",
    "\n",
    "    # iterating in training epochs:\n",
    "    for ep in range(epochs+1):\n",
    "        # epoch logs\n",
    "        ep_disf_hist, ep_disr_hist, ep_gan_hist = list(), list(), list()\n",
    "        train_time = datetime.datetime.now()\n",
    "\n",
    "        # iterating over training batchs\n",
    "        for batch in range(batch_per_epoch):\n",
    "\n",
    "            # select real txt2img for discrimintator\n",
    "            real_data = gen_real_samples(data, dataset_size, half_batch)\n",
    "            # create false txt for txt2img for generator\n",
    "            fake_data = gen_fake_samples(gen_model, data_shape, half_batch)\n",
    "\n",
    "            # expand the training sample for the discriminator\n",
    "            if synth_batch > 1:\n",
    "                real_data = expand_samples(real_data, synth_batch)\n",
    "                fake_data = expand_samples(fake_data, synth_batch)\n",
    "\n",
    "            # balance training samples for the discriminator\n",
    "            if balance_batch == True:\n",
    "                real_data = balance_samples(real_data)\n",
    "                fake_data = balance_samples(fake_data)\n",
    "\n",
    "            # print(Xt_real.shape, Xi_real.shape, y_real.shape, yl_real.shape)\n",
    "            # print(Xt_fake.shape, Xi_fake.shape, y_fake.shape, yl_fake.shape)\n",
    "            # print(real_data[0].shape, fake_data[0].shape)\n",
    "            # print(real_data[1].shape, fake_data[1].shape)\n",
    "            # drift labels to confuse the model\n",
    "            real_data, fake_data = drift_labels(real_data, fake_data, half_batch, 0.05)\n",
    "\n",
    "            # TODO transfor this in 1 function train_model()...\n",
    "            dhf, dhr, gh = None, None, None\n",
    "\n",
    "            if len(data) == 2:\n",
    "                dhr, dhf, gh = train_gan(dis_model, gan_model, real_data, fake_data, batch_size, data_shape)\n",
    "\n",
    "            elif len(data) == 3 and data_shape.get(\"conditioned\") == True:\n",
    "                dhr, dhf, gh = train_cgan(dis_model, gan_model, real_data, fake_data, batch_size, data_shape)\n",
    "\n",
    "            elif len(data) == 3 and data_shape.get(\"conditioned\") == False:\n",
    "                # TODO need to implement this function!!!\n",
    "                dhr, dhf, gh = train_multi_gan(dis_model, gan_model, real_data, fake_data, batch_size, data_shape)\n",
    "\n",
    "            elif len(data) == 4:\n",
    "                dhr, dhf, gh = train_multi_cgan(dis_model, gan_model, real_data, fake_data, batch_size, data_shape)\n",
    "\n",
    "            # epoch log\n",
    "            ep_disr_hist.append(dhr)\n",
    "            ep_disf_hist.append(dhf)\n",
    "            ep_gan_hist.append(gh)\n",
    "\n",
    "\t\t\t# print('>%d, %d/%d, dis_=%.3f, gen=%.3f' % (ep+1, batch+1, bat_per_epo, dis_history, gen_history))\n",
    "            log_msg = \">>> Epoch: %d, B/Ep: %d/%d, Batch S: %d\" %(ep+1, batch+1, batch_per_epoch, batch_size*synth_batch)\n",
    "            log_msg = \"%s -> [R-Dis loss: %.3f, acc: %.3f]\" % (log_msg, dhr[0], dhr[1])\n",
    "            log_msg = \"%s || [F-Dis loss: %.3f, acc: %.3f]\" % (log_msg, dhf[0], dhf[1])\n",
    "            log_msg = \"%s || [Gen loss: %.3f, acc: %.3f]\" % (log_msg, gh[0], gh[1])\n",
    "            print(log_msg)\n",
    "\n",
    "        # record history for epoch\n",
    "        disr_hist.append(epoch_avg(ep_disr_hist))\n",
    "        disf_hist.append(epoch_avg(ep_disf_hist))\n",
    "        gan_hist.append(epoch_avg(ep_gan_hist))\n",
    "        test_cfg[\"current_epoch\"] = ep\n",
    "        \n",
    "\t\t# evaluate the model performance sometimes\n",
    "        if (ep) % check_intervas == 0:\n",
    "            print(\"Epoch:\", ep+1, \"Testing model training process...\")\n",
    "            \n",
    "            # test_model(gen_model, dis_model, data, data_shape, test_cfg) #, synth_batch)\n",
    "            test_model(gen_model, dis_model, data, data_shape, train_cfg, test_cfg)\n",
    "            print(\"Ploting results\")\n",
    "            plot_metrics(disr_hist, disf_hist, gan_hist, report_fn_path, ep)\n",
    "            save_metrics(disr_hist, disf_hist, gan_hist, report_fn_path, gan_model_name)\n",
    "\n",
    "\t\t# saving the model sometimes\n",
    "        if (ep) % save_intervas == 0:\n",
    "            print(\"Epoch:\", ep+1, \"Saving the training progress...\")\n",
    "            save_models(dis_model, gen_model, gan_model, train_cfg, test_cfg)\n",
    "            clear_models(train_cfg, test_cfg)\n",
    "        \n",
    "        train_time = lapse_time(train_time, ep)"
   ]
  },
  {
   "cell_type": "code",
   "execution_count": 54,
   "metadata": {},
   "outputs": [],
   "source": [
    "def save_models(dis_model, gen_model, gan_model, train_cfg, test_cfg):\n",
    "\n",
    "    ep = test_cfg.get(\"current_epoch\") # = ep\n",
    "    epoch_sufix = \"-epoch%d\" % int(ep)\n",
    "\n",
    "    model_fn_path = train_cfg.get(\"models_fn_path\")\n",
    "    dis_model_name = train_cfg.get(\"dis_model_name\")\n",
    "    gen_model_name = train_cfg.get(\"gen_model_name\")\n",
    "    gan_model_name = train_cfg.get(\"gan_model_name\")\n",
    "\n",
    "    # epoch_sufix = \"-last\"\n",
    "    epoch_sufix = str(epoch_sufix)\n",
    "    dis_mn = dis_model_name + epoch_sufix\n",
    "    gen_mn = gen_model_name + epoch_sufix\n",
    "    gan_mn = gan_model_name + epoch_sufix\n",
    "\n",
    "    dis_path = os.path.join(model_fn_path, \"Dis\")\n",
    "    gen_path = os.path.join(model_fn_path, \"Gen\")\n",
    "    gan_path = os.path.join(model_fn_path, \"GAN\")\n",
    "\n",
    "    save_model(dis_model, dis_path, dis_mn)\n",
    "    save_model(gen_model, gen_path, gen_mn)\n",
    "    save_model(gan_model, gan_path, gan_mn)\n"
   ]
  },
  {
   "cell_type": "code",
   "execution_count": 55,
   "metadata": {},
   "outputs": [],
   "source": [
    "def clear_models(train_cfg, test_cfg):\n",
    "\n",
    "    # epoch_sufix = \"-epoch%d\" % int(ep)\n",
    "    model_fn_path = train_cfg.get(\"models_fn_path\")\n",
    "    dis_path = os.path.join(model_fn_path, \"Dis\")\n",
    "    gen_path = os.path.join(model_fn_path, \"Gen\")\n",
    "    gan_path = os.path.join(model_fn_path, \"GAN\")\n",
    "    max_files = train_cfg.get(\"max_save_models\")\n",
    "\n",
    "    list_path = (dis_path, gen_path, gan_path)\n",
    "    rmv_path = list()\n",
    "\n",
    "    for path in list_path:\n",
    "\n",
    "        files = os.listdir(path)\n",
    "        filepaths = list()\n",
    "\n",
    "        for f in files:\n",
    "            fp = os.path.join(path, f)\n",
    "            filepaths.append(fp)\n",
    "\n",
    "        # print(filepaths)\n",
    "        filepaths.sort(key=os.path.getctime, reverse=True)\n",
    "        # print(\"files!!!!\", filepaths)\n",
    "\n",
    "        if len(filepaths) > max_files:\n",
    "\n",
    "            for del_file in filepaths[max_files:]:\n",
    "                os.remove(del_file)\n"
   ]
  },
  {
   "cell_type": "code",
   "execution_count": 56,
   "metadata": {},
   "outputs": [],
   "source": [
    "def train_gan(dis_model, gan_model, real_data, fake_data, batch_size, dataset_shape):\n",
    "\n",
    "    # real data asignation\n",
    "    Xi_real = real_data[0]\n",
    "    y_real = real_data[1]\n",
    "\n",
    "    # fake data asignation\n",
    "    Xi_fake = fake_data[0]\n",
    "    y_fake = fake_data[1]\n",
    "\n",
    "    # train for real samples batch\n",
    "    dhr = dis_model.train_on_batch(Xi_real, y_real)\n",
    "    # train for fake samples batch\n",
    "    dhf = dis_model.train_on_batch(Xi_fake, y_fake)\n",
    "\n",
    "    # prepare text and inverted categories from the latent space as input for the generator\n",
    "    latent_gen, y_gen = gen_latent_data(dataset_shape, batch_size)\n",
    "\n",
    "    # update the generator via the discriminator's error\n",
    "    gh = gan_model.train_on_batch(latent_gen, y_gen)\n",
    "\n",
    "    return dhr, dhf, gh"
   ]
  },
  {
   "cell_type": "code",
   "execution_count": 57,
   "metadata": {},
   "outputs": [],
   "source": [
    "def train_cgan(dis_model, gan_model, real_data, fake_data, batch_size, dataset_shape):\n",
    "\n",
    "    # real data asignation\n",
    "    Xi_real = real_data[0]\n",
    "    yl_real = real_data[1]\n",
    "    y_real = real_data[2]\n",
    "\n",
    "    # fake data asignation\n",
    "    Xi_fake = fake_data[0]\n",
    "    yl_fake = fake_data[1]\n",
    "    y_fake = fake_data[2]\n",
    "\n",
    "    # train for real samples batch\n",
    "    dhr = dis_model.train_on_batch([Xi_real, yl_real], y_real)\n",
    "    # train for fake samples batch\n",
    "    dhf = dis_model.train_on_batch([Xi_fake, yl_fake], y_fake)\n",
    "\n",
    "    # prepare text and inverted categories from the latent space as input for the generator\n",
    "    latent_gen, yl_gen, y_gen = gen_latent_data(dataset_shape, batch_size)\n",
    "\n",
    "    # update the generator via the discriminator's error\n",
    "    gh = gan_model.train_on_batch([latent_gen, yl_gen], y_gen)\n",
    "\n",
    "    return dhr, dhf, gh"
   ]
  },
  {
   "cell_type": "code",
   "execution_count": 58,
   "metadata": {},
   "outputs": [],
   "source": [
    "def train_multi_cgan(dis_model, gan_model, real_data, fake_data, batch_size, dataset_shape):\n",
    "\n",
    "    # real data asignation\n",
    "    Xi_real = real_data[0]\n",
    "    Xt_real = real_data[1]\n",
    "    Xl_real = real_data[2]\n",
    "    y_real = real_data[3]\n",
    "\n",
    "    # fake data asignation\n",
    "    Xi_fake = fake_data[0]\n",
    "    Xt_fake = fake_data[1]\n",
    "    Xl_fake = fake_data[2]\n",
    "    y_fake = fake_data[3]\n",
    "\n",
    "    # train for real samples batch\n",
    "    dhr = dis_model.train_on_batch([Xi_real, Xt_real, Xl_real], y_real)\n",
    "    # train for fake samples batch\n",
    "    dhf = dis_model.train_on_batch([Xi_fake, Xt_fake, Xl_fake], y_fake)\n",
    "\n",
    "    # prepare text and inverted categories from the latent space as input for the generator\n",
    "    latent_gen, yl_gen, y_gen = gen_latent_data(dataset_shape, batch_size)\n",
    "\n",
    "    # update the generator via the discriminator's error\n",
    "    gh = gan_model.train_on_batch([latent_gen, yl_gen], y_gen)\n",
    "\n",
    "    return dhr, dhf, gh"
   ]
  },
  {
   "cell_type": "code",
   "execution_count": 59,
   "metadata": {},
   "outputs": [],
   "source": [
    "def test_gan(dis_model, real_data, fake_data, batch_size):\n",
    "    \n",
    "    # drift labels to confuse the model\n",
    "    real_data, fake_data = drift_labels(real_data, fake_data, batch_size, 0.05)\n",
    "\n",
    "    # real data asignation\n",
    "    Xi_real = real_data[0]\n",
    "    y_real = real_data[1]\n",
    "\n",
    "    # fake data asignation\n",
    "    Xi_fake = fake_data[0]\n",
    "    y_fake = fake_data[1]\n",
    "\n",
    "    # evaluate model\n",
    "    test_real = dis_model.evaluate(Xi_real, y_real, verbose=0)\n",
    "    test_fake = dis_model.evaluate(Xi_fake, y_fake, verbose=0)\n",
    "\n",
    "    return test_real, test_fake"
   ]
  },
  {
   "cell_type": "code",
   "execution_count": 60,
   "metadata": {},
   "outputs": [],
   "source": [
    "def test_cgan(dis_model, real_data, fake_data, batch_size):\n",
    "    \n",
    "    # drift labels to confuse the model\n",
    "    real_data, fake_data = drift_labels(real_data, fake_data, batch_size, 0.05)\n",
    "\n",
    "    # real data asignation\n",
    "    Xi_real = real_data[0]\n",
    "    Xl_real = real_data[1]\n",
    "    y_real = real_data[2]\n",
    "\n",
    "    # fake data asignation\n",
    "    Xi_fake = fake_data[0]\n",
    "    Xl_fake = fake_data[1]\n",
    "    y_fake = fake_data[2]\n",
    "\n",
    "    # evaluate model\n",
    "    test_real = dis_model.evaluate([Xi_real, Xl_real], y_real, verbose=0)\n",
    "    test_fake = dis_model.evaluate([Xi_fake, Xl_fake], y_fake, verbose=0)\n",
    "\n",
    "    return test_real, test_fake"
   ]
  },
  {
   "cell_type": "code",
   "execution_count": 61,
   "metadata": {},
   "outputs": [],
   "source": [
    "def test_multi_cgan(dis_model, real_data, fake_data, batch_size):\n",
    "\n",
    "    # drift labels to confuse the model\n",
    "    real_data, fake_data = drift_labels(real_data, fake_data, batch_size, 0.05)\n",
    "\n",
    "    # real data asignation\n",
    "    Xi_real = real_data[0]\n",
    "    Xt_real = real_data[1]\n",
    "    Xl_real = real_data[2]\n",
    "    y_real = real_data[3]\n",
    "\n",
    "    # fake data asignation\n",
    "    Xi_fake = fake_data[0]\n",
    "    Xt_fake = fake_data[1]\n",
    "    Xl_fake = fake_data[2]\n",
    "    y_fake = fake_data[3]\n",
    "\n",
    "    # evaluate model\n",
    "    test_real = dis_model.evaluate([Xi_real, Xt_real, Xl_real], y_real, verbose=0)\n",
    "    test_fake = dis_model.evaluate([Xi_fake, Xt_fake, Xl_fake], y_fake, verbose=0)\n",
    "\n",
    "    return test_real, test_fake"
   ]
  },
  {
   "source": [
    "# EXEC SCRIPT\n",
    "\n",
    "## Dataset prep"
   ],
   "cell_type": "markdown",
   "metadata": {}
  },
  {
   "cell_type": "code",
   "execution_count": 62,
   "metadata": {},
   "outputs": [
    {
     "output_type": "stream",
     "name": "stdout",
     "text": [
      "=== working files ===\n\n std-VVG-Gallery-Text-Data-Small.csv \n std-VVG-Gallery-Img-Data-Small.csv \n Small \n rgb \n Validation-GAN-Text-Data-Small.csv \n VVG-Gallery-Text-Data-Small.dict\n"
     ]
    }
   ],
   "source": [
    "# variable definitions\n",
    "# root folder\n",
    "dataf = \"Data\"\n",
    "\n",
    "# subfolder with predictions txt data\n",
    "imagef = \"Img\"\n",
    "\n",
    "# report subfolder\n",
    "reportf = \"Reports\"\n",
    "\n",
    "#  subfolder with the CSV files containing the ML pandas dataframe\n",
    "trainf = \"Train\"\n",
    "testf = \"Test\"\n",
    "\n",
    "# subfolder for model IO\n",
    "modelf = \"Models\"\n",
    "\n",
    "# dataframe file extension\n",
    "fext = \"csv\"\n",
    "imgf = \"jpg\"\n",
    "lexf = \"dict\"\n",
    "\n",
    "rgb_sufix = \"rgb\"\n",
    "bw_sufix = \"bw\"\n",
    "\n",
    "# standard sufix\n",
    "stdprefix = \"std-\"\n",
    "\n",
    "# ml model useful data\n",
    "mltprefix = \"ml-\"\n",
    "\n",
    "# report names\n",
    "# timestamp = datetime.date.today().strftime(\"%d-%b-%Y\")\n",
    "timestamp = datetime.datetime.now().strftime(\"%Y-%m-%d %H:%M:%S\")\n",
    "\n",
    "sample_sufix = \"Small\"\n",
    "# sample_sufix = \"Large\"\n",
    "# sample_sufix = \"Paintings\"\n",
    "imgf_sufix = \"Img-Data-\"\n",
    "text_sufix = \"Text-Data-\"\n",
    "\n",
    "# std-VVG-Gallery-Text-Data-Paintings\n",
    "gallery_prefix = \"VVG-Gallery-\"\n",
    "\n",
    "# dataframe file name\n",
    "text_fn = stdprefix + gallery_prefix + text_sufix + sample_sufix + \".\" + fext\n",
    "imgf_fn = stdprefix + gallery_prefix + imgf_sufix + sample_sufix + \".\" + fext\n",
    "valt_fn = \"Validation-GAN-\" + text_sufix + sample_sufix + \".\" + fext\n",
    "lexicon_fn = gallery_prefix + text_sufix + sample_sufix + \".\" + lexf\n",
    "\n",
    "# model names\n",
    "dis_model_name = \"VVG-Text2Img-CDiscriminator\"\n",
    "gen_model_name = \"VVG-Text2Img-CGenerator\"\n",
    "gan_model_name = \"VVG-Text2Img-CGAN\"\n",
    "\n",
    "# to continue training after stoping script\n",
    "continue_training = True\n",
    "\n",
    "# ramdom seed\n",
    "randseed = 42\n",
    "\n",
    "# sample distribution train vs test sample size\n",
    "train_split = 0.80\n",
    "test_split = 1.0 - train_split\n",
    "\n",
    "# regex to know that column Im interested in\n",
    "keeper_regex = r\"(^ID$)|(^std_)\"\n",
    "\n",
    "imgt = rgb_sufix\n",
    "# imgt = bw_sufix\n",
    "\n",
    "# woring values for code\n",
    "work_txtf, work_imgf, work_sufix, work_imgt, work_lex = text_fn, imgf_fn, sample_sufix, imgt, lexicon_fn\n",
    "\n",
    "print(\"=== working files ===\")\n",
    "print(\"\\n\", work_txtf, \"\\n\", work_imgf, \"\\n\", work_sufix, \"\\n\", work_imgt, \"\\n\", valt_fn, \"\\n\", work_lex)"
   ]
  },
  {
   "cell_type": "code",
   "execution_count": 63,
   "metadata": {},
   "outputs": [
    {
     "output_type": "stream",
     "name": "stdout",
     "text": [
      "c:\\Users\\Felipe\\Documents\\GitHub\\sa-artea\\VVG-MLModel-Trainer\n"
     ]
    }
   ],
   "source": [
    "root_folder = os.getcwd()\n",
    "root_folder = os.path.split(root_folder)[0]\n",
    "root_folder = os.path.normpath(root_folder)\n",
    "print(root_folder)"
   ]
  },
  {
   "cell_type": "code",
   "execution_count": 64,
   "metadata": {},
   "outputs": [
    {
     "output_type": "stream",
     "name": "stdout",
     "text": [
      "c:\\Users\\Felipe\\Documents\\GitHub\\sa-artea\\VVG-MLModel-Trainer\\Data\\Train\\std-VVG-Gallery-Text-Data-Small.csv True\nc:\\Users\\Felipe\\Documents\\GitHub\\sa-artea\\VVG-MLModel-Trainer\\Data\\Train\\std-VVG-Gallery-Img-Data-Small.csv True\nc:\\Users\\Felipe\\Documents\\GitHub\\sa-artea\\VVG-MLModel-Trainer\\Data\\Train\\VVG-Gallery-Text-Data-Small.dict True\nc:\\Users\\Felipe\\Documents\\GitHub\\sa-artea\\VVG-MLModel-Trainer\\Data\\Test\\Validation-GAN-Text-Data-Small.csv False\nc:\\Users\\Felipe\\Documents\\GitHub\\sa-artea\\VVG-MLModel-Trainer\\Data\\Models True\nc:\\Users\\Felipe\\Documents\\GitHub\\sa-artea\\VVG-MLModel-Trainer\\Data\\Reports True\n"
     ]
    }
   ],
   "source": [
    "# variable reading\n",
    "# dataframe filepath for texttual data\n",
    "text_fn_path = os.path.join(root_folder, dataf, trainf, work_txtf)\n",
    "print(text_fn_path, os.path.exists(text_fn_path))\n",
    "\n",
    "# dataframe filepath for img data\n",
    "img_fn_path = os.path.join(root_folder, dataf, trainf, work_imgf)\n",
    "print(img_fn_path, os.path.exists(img_fn_path))\n",
    "\n",
    "# dictionary filepath for the GAN data\n",
    "lex_fn_path = os.path.join(root_folder, dataf, trainf, work_lex)\n",
    "print(lex_fn_path, os.path.exists(lex_fn_path))\n",
    "\n",
    "# dataframe filepath for GAN data\n",
    "val_fn_path = os.path.join(root_folder, dataf, testf, valt_fn)\n",
    "print(val_fn_path, os.path.exists(val_fn_path))\n",
    "\n",
    "# filepath for the models\n",
    "model_fn_path = os.path.join(root_folder, dataf, modelf)\n",
    "print(model_fn_path, os.path.exists(model_fn_path))\n",
    "\n",
    "# filepath for the reports\n",
    "report_fn_path = os.path.join(root_folder, dataf, reportf)\n",
    "print(report_fn_path, os.path.exists(report_fn_path))"
   ]
  },
  {
   "cell_type": "code",
   "execution_count": 65,
   "metadata": {},
   "outputs": [],
   "source": [
    "# rading training data\n",
    "# loading textual file\n",
    "text_df = pd.read_csv(\n",
    "                text_fn_path,\n",
    "                sep=\",\",\n",
    "                encoding=\"utf-8\",\n",
    "                engine=\"python\",\n",
    "            )\n",
    "text_cols = text_df.columns.values\n",
    "\n",
    "# loading image file\n",
    "img_df = pd.read_csv(\n",
    "                img_fn_path,\n",
    "                sep=\",\",\n",
    "                encoding=\"utf-8\",\n",
    "                engine=\"python\",\n",
    "            )\n",
    "img_cols = img_df.columns.values"
   ]
  },
  {
   "cell_type": "code",
   "execution_count": 66,
   "metadata": {},
   "outputs": [
    {
     "output_type": "stream",
     "name": "stdout",
     "text": [
      "['ID', 'F-number', 'JH-number', 'creator-date', 'creator-place', 'Dimensions', 'details', 'std_cat_creator-date', 'std_cat_creator-place', 'std_cat_Dimensions', 'std_cat_details']\n"
     ]
    }
   ],
   "source": [
    "idx_cols = list()\n",
    "\n",
    "for tcol in text_cols:\n",
    "    if tcol in img_cols:\n",
    "        idx_cols.append(tcol)\n",
    "print(idx_cols)\n",
    "\n",
    "source_df = pd.merge(text_df, img_df, how=\"inner\", on=idx_cols)"
   ]
  },
  {
   "cell_type": "code",
   "execution_count": 67,
   "metadata": {},
   "outputs": [
    {
     "output_type": "stream",
     "name": "stdout",
     "text": [
      "<class 'pandas.core.frame.DataFrame'>\nInt64Index: 59 entries, 0 to 58\nData columns (total 22 columns):\n #   Column                 Non-Null Count  Dtype \n---  ------                 --------------  ----- \n 0   ID                     59 non-null     object\n 1   F-number               59 non-null     object\n 2   JH-number              59 non-null     object\n 3   creator-date           59 non-null     object\n 4   creator-place          59 non-null     object\n 5   Dimensions             59 non-null     object\n 6   details                59 non-null     object\n 7   MUS_TEXT               59 non-null     object\n 8   std_cat_creator-date   59 non-null     object\n 9   std_cat_creator-place  59 non-null     object\n 10  std_cat_Dimensions     59 non-null     object\n 11  std_cat_details        59 non-null     object\n 12  clr_tokens             59 non-null     object\n 13  lemmas                 59 non-null     object\n 14  bows_tokens            59 non-null     object\n 15  idxs_tokens            59 non-null     object\n 16  tfidf_tokens           59 non-null     object\n 17  std_dvec_tokens        59 non-null     object\n 18  rgb_img                59 non-null     object\n 19  bw_img                 59 non-null     object\n 20  rgb_shape              59 non-null     object\n 21  bw_shape               59 non-null     object\ndtypes: object(22)\nmemory usage: 10.6+ KB\n"
     ]
    }
   ],
   "source": [
    "# checking everything is allrigth\n",
    "img_df = None\n",
    "text_df = None\n",
    "source_df.info()"
   ]
  },
  {
   "cell_type": "code",
   "execution_count": 68,
   "metadata": {},
   "outputs": [],
   "source": [
    "source_df = source_df.set_index(\"ID\")"
   ]
  },
  {
   "cell_type": "code",
   "execution_count": 69,
   "metadata": {
    "tags": []
   },
   "outputs": [
    {
     "output_type": "stream",
     "name": "stdout",
     "text": [
      "rgb_img rgb_img_data\n"
     ]
    }
   ],
   "source": [
    "# reading images from folder and loading images into df\n",
    "# working variables\n",
    "src_col = work_imgt + \"_img\"\n",
    "tgt_col = work_imgt + \"_img\" + \"_data\"\n",
    "work_shape = work_imgt + \"_shape\"\n",
    "scale = 32 # !!! 50->400pix, 64->512pix, 32->256pix\n",
    "print(src_col, tgt_col)\n",
    "source_df = get_images(root_folder, source_df, src_col, tgt_col, scale)"
   ]
  },
  {
   "cell_type": "code",
   "execution_count": 70,
   "metadata": {
    "tags": []
   },
   "outputs": [],
   "source": [
    "# update image shape\n",
    "source_df = update_shape(source_df, tgt_col, work_shape)"
   ]
  },
  {
   "cell_type": "code",
   "execution_count": 71,
   "metadata": {},
   "outputs": [
    {
     "output_type": "stream",
     "name": "stdout",
     "text": [
      "rgb_shape\n(256, 256, 3)\n"
     ]
    }
   ],
   "source": [
    "# searching the biggest shape in the image files\n",
    "print(work_shape)\n",
    "shape_data = source_df[work_shape]\n",
    "max_shape = get_mshape(shape_data, work_imgt)\n",
    "print(max_shape)"
   ]
  },
  {
   "cell_type": "code",
   "execution_count": 72,
   "metadata": {
    "tags": []
   },
   "outputs": [
    {
     "output_type": "stream",
     "name": "stdout",
     "text": [
      "rgb_img_data pad_cnn_rgb_img_data rgb\n"
     ]
    }
   ],
   "source": [
    "# padding training data according to max shape of the images in gallery\n",
    "pad_prefix = \"pad_\"\n",
    "conv_prefix = \"cnn_\"\n",
    "src_col = work_imgt + \"_img\" + \"_data\"\n",
    "tgt_col = pad_prefix + conv_prefix + src_col\n",
    "\n",
    "print(src_col, tgt_col, work_imgt)\n",
    "source_df = padding_images(source_df, src_col, tgt_col, max_shape, work_imgt)"
   ]
  },
  {
   "cell_type": "code",
   "execution_count": 73,
   "metadata": {},
   "outputs": [
    {
     "output_type": "stream",
     "name": "stdout",
     "text": [
      "standarizing regular images...\n"
     ]
    }
   ],
   "source": [
    "# reading images from folder and stadarizing images into df\n",
    "# working variables\n",
    "print(\"standarizing regular images...\")\n",
    "src_col = work_imgt + \"_img\" + \"_data\"\n",
    "tgt_col = \"std_\" + src_col\n",
    "\n",
    "# source_df = standarize_images(source_df, src_col, tgt_col)"
   ]
  },
  {
   "cell_type": "code",
   "execution_count": 74,
   "metadata": {},
   "outputs": [
    {
     "output_type": "stream",
     "name": "stdout",
     "text": [
      "standarizing padded images...\npad_cnn_rgb_img_data std_pad_cnn_rgb_img_data\n"
     ]
    }
   ],
   "source": [
    "print(\"standarizing padded images...\")\n",
    "src_col = pad_prefix + conv_prefix + work_imgt + \"_img\" + \"_data\"\n",
    "tgt_col = \"std_\" + src_col\n",
    "print(src_col, tgt_col)\n",
    "\n",
    "# std_opt = \"std\"\n",
    "std_opt = \"ctr\"\n",
    "source_df = standarize_images(source_df, src_col, tgt_col, work_imgt, std_opt)"
   ]
  },
  {
   "cell_type": "code",
   "execution_count": 75,
   "metadata": {},
   "outputs": [
    {
     "output_type": "stream",
     "name": "stdout",
     "text": [
      "<class 'pandas.core.frame.DataFrame'>\nIndex: 59 entries, s0004V1962r to d1125S2005\nData columns (total 24 columns):\n #   Column                    Non-Null Count  Dtype \n---  ------                    --------------  ----- \n 0   F-number                  59 non-null     object\n 1   JH-number                 59 non-null     object\n 2   creator-date              59 non-null     object\n 3   creator-place             59 non-null     object\n 4   Dimensions                59 non-null     object\n 5   details                   59 non-null     object\n 6   MUS_TEXT                  59 non-null     object\n 7   std_cat_creator-date      59 non-null     object\n 8   std_cat_creator-place     59 non-null     object\n 9   std_cat_Dimensions        59 non-null     object\n 10  std_cat_details           59 non-null     object\n 11  clr_tokens                59 non-null     object\n 12  lemmas                    59 non-null     object\n 13  bows_tokens               59 non-null     object\n 14  idxs_tokens               59 non-null     object\n 15  tfidf_tokens              59 non-null     object\n 16  std_dvec_tokens           59 non-null     object\n 17  rgb_img                   59 non-null     object\n 18  bw_img                    59 non-null     object\n 19  rgb_shape                 59 non-null     object\n 20  bw_shape                  59 non-null     object\n 21  rgb_img_data              59 non-null     object\n 22  pad_cnn_rgb_img_data      59 non-null     object\n 23  std_pad_cnn_rgb_img_data  59 non-null     object\ndtypes: object(24)\nmemory usage: 11.5+ KB\n"
     ]
    }
   ],
   "source": [
    "# shuffle the DataFrame rows\n",
    "source_df.info()"
   ]
  },
  {
   "cell_type": "code",
   "execution_count": 76,
   "metadata": {},
   "outputs": [
    {
     "output_type": "execute_result",
     "data": {
      "text/plain": [
       "62"
      ]
     },
     "metadata": {},
     "execution_count": 76
    }
   ],
   "source": [
    "# cleaning memory\n",
    "gc.collect()"
   ]
  },
  {
   "cell_type": "code",
   "execution_count": 77,
   "metadata": {},
   "outputs": [],
   "source": [
    "# function to find a name of column names according to a regex\n",
    "def get_keeper_cols(col_names, search_regex):\n",
    "    ans = [i for i in col_names if re.search(search_regex, i)]\n",
    "    return ans"
   ]
  },
  {
   "cell_type": "code",
   "execution_count": 78,
   "metadata": {},
   "outputs": [],
   "source": [
    "# function to find the disperse columns in the df\n",
    "def get_disperse_categories(src_df, keep_cols, max_dis, check_cols, ignore_col):\n",
    "\n",
    "    ans = list()\n",
    "\n",
    "    max_dis = 2\n",
    "    tcount = 0\n",
    "\n",
    "    while tcount < max_dis:\n",
    "        for label_col in keep_columns:\n",
    "\n",
    "            if label_col != ignore_col:\n",
    "\n",
    "                label_count = src_df[label_col].value_counts(normalize=False)\n",
    "\n",
    "                if tcount < label_count.shape[0] and (check_cols in label_col):\n",
    "                    tcount = label_count.shape[0]\n",
    "                    ans.append(label_col)\n",
    "                # print(\"count values of\", label_col, \":=\", label_count.shape)#.__dict__)\n",
    "        tcount = tcount + 1\n",
    "    \n",
    "    return ans"
   ]
  },
  {
   "cell_type": "code",
   "execution_count": 79,
   "metadata": {},
   "outputs": [],
   "source": [
    "# function to remove the disperse columns from the interesting ones\n",
    "def remove_disperse_categories(keep_columns, too_disperse):\n",
    "    for too in too_disperse:\n",
    "        keep_columns.remove(too)\n",
    "    return keep_columns"
   ]
  },
  {
   "cell_type": "code",
   "execution_count": 80,
   "metadata": {},
   "outputs": [],
   "source": [
    "def padding_corpus(train_df, dvector_col, pad_prefix):\n",
    "    # getting the corpus dense vectors\n",
    "    work_corpus = np.asarray(train_df[dvector_col], dtype=\"object\")\n",
    "\n",
    "    # converting list of list to array of array\n",
    "    print(\"Original txt shape\", work_corpus.shape)\n",
    "\n",
    "    # padding the representation\n",
    "    work_corpus = pad_sequences(work_corpus, dtype='object', padding=\"post\")\n",
    "    # print(\"Padded txt shape\", work_corpus.shape)\n",
    "\n",
    "    # creating the new column and saving padded data\n",
    "    padded_col_dvector = pad_prefix + dvector_col\n",
    "\n",
    "    # print(padded_col)\n",
    "    train_df[padded_col_dvector] = list(work_corpus)\n",
    "    print(\"Padded txt shape\", work_corpus.shape)\n",
    "    return train_df"
   ]
  },
  {
   "cell_type": "code",
   "execution_count": 81,
   "metadata": {},
   "outputs": [],
   "source": [
    "def heat_categories(train_df, cat_cols, tgt_col):\n",
    "\n",
    "    labels_data = train_df[cat_cols]\n",
    "    labels_concat = list()\n",
    "\n",
    "    # concatenating all category labels from dataframe\n",
    "    for index, row in labels_data.iterrows():\n",
    "        row = concat_labels(row, labels_cols)\n",
    "        labels_concat.append(row)\n",
    "\n",
    "    # print(len(labels_concat[0]), type(labels_concat[0]))\n",
    "    # updating dataframe\n",
    "    tcat_label_col = \"std_cat_labels\"\n",
    "    train_df[tgt_col] = labels_concat\n",
    "\n",
    "    return train_df"
   ]
  },
  {
   "cell_type": "code",
   "execution_count": 82,
   "metadata": {},
   "outputs": [],
   "source": [
    "# function to adjust the textual data for the LSTM layers in the model\n",
    "def format_corpus(corpus, timesteps, features):\n",
    "\n",
    "    # preparation for reshape lstm model\n",
    "    corpus = temporalize(corpus, timesteps)\n",
    "    print(corpus.shape)\n",
    "\n",
    "    corpus = corpus.reshape((corpus.shape[0], timesteps, features))\n",
    "    print(corpus.shape)\n",
    "\n",
    "    return corpus"
   ]
  },
  {
   "cell_type": "code",
   "execution_count": 83,
   "metadata": {},
   "outputs": [
    {
     "output_type": "stream",
     "name": "stdout",
     "text": [
      "------ original input/interested columns ------\n['F-number', 'JH-number', 'creator-date', 'creator-place', 'Dimensions', 'details', 'MUS_TEXT', 'std_cat_creator-date', 'std_cat_creator-place', 'std_cat_Dimensions', 'std_cat_details', 'clr_tokens', 'lemmas', 'bows_tokens', 'idxs_tokens', 'tfidf_tokens', 'std_dvec_tokens', 'rgb_img', 'bw_img', 'rgb_shape', 'bw_shape', 'rgb_img_data', 'pad_cnn_rgb_img_data', 'std_pad_cnn_rgb_img_data']\n\n\n------ Interesting columns ------\n['std_cat_creator-date', 'std_cat_creator-place', 'std_cat_Dimensions', 'std_cat_details', 'std_dvec_tokens', 'std_pad_cnn_rgb_img_data']\n"
     ]
    }
   ],
   "source": [
    "# selecting data to train\n",
    "# want to keep the columns starting with STD_\n",
    "keep_columns = list(source_df.columns)\n",
    "print(\"------ original input/interested columns ------\")\n",
    "print(keep_columns)\n",
    "\n",
    "# create the columns Im interesting in\n",
    "keep_columns = get_keeper_cols(keep_columns, keeper_regex)\n",
    "# keep_columns = [i for i in df_columns if re.search(keeper_regex, i)]\n",
    "\n",
    "print(\"\\n\\n------ Interesting columns ------\")\n",
    "print(keep_columns)"
   ]
  },
  {
   "cell_type": "code",
   "execution_count": 84,
   "metadata": {},
   "outputs": [
    {
     "output_type": "stream",
     "name": "stdout",
     "text": [
      "['std_cat_creator-date', 'std_cat_Dimensions']\n"
     ]
    }
   ],
   "source": [
    "too_disperse = get_disperse_categories(source_df, keep_columns, 2, \"std_cat_\", \"std_pad_cnn_rgb_img_data\")\n",
    "print(too_disperse)"
   ]
  },
  {
   "cell_type": "code",
   "execution_count": 85,
   "metadata": {},
   "outputs": [
    {
     "output_type": "stream",
     "name": "stdout",
     "text": [
      "------ Interesting columns ------\n['std_cat_creator-place', 'std_cat_details', 'std_dvec_tokens', 'std_pad_cnn_rgb_img_data']\n"
     ]
    }
   ],
   "source": [
    "# creating the training dataframe\n",
    "keep_columns = remove_disperse_categories(keep_columns, too_disperse)\n",
    "# keep_columns.remove(\"ID\")\n",
    "print(\"------ Interesting columns ------\")\n",
    "print(keep_columns)"
   ]
  },
  {
   "cell_type": "code",
   "execution_count": 86,
   "metadata": {},
   "outputs": [],
   "source": [
    "# saving idtfd encoding to translate bow\n",
    "tfidf_tokens = source_df[\"tfidf_tokens\"]"
   ]
  },
  {
   "cell_type": "code",
   "execution_count": 87,
   "metadata": {},
   "outputs": [],
   "source": [
    "# creating the training dataframe\n",
    "train_df = pd.DataFrame(source_df, columns=keep_columns)"
   ]
  },
  {
   "cell_type": "code",
   "execution_count": 88,
   "metadata": {},
   "outputs": [],
   "source": [
    "# shuffling the stuff\n",
    "train_df = train_df.sample(frac = 1)\n",
    "source_df = None\n",
    "df_columns = list(train_df.columns)"
   ]
  },
  {
   "cell_type": "code",
   "execution_count": 89,
   "metadata": {},
   "outputs": [
    {
     "output_type": "stream",
     "name": "stdout",
     "text": [
      "<class 'pandas.core.frame.DataFrame'>\nIndex: 59 entries, s0132V1962 to s0097V1962r\nData columns (total 4 columns):\n #   Column                    Non-Null Count  Dtype \n---  ------                    --------------  ----- \n 0   std_cat_creator-place     59 non-null     object\n 1   std_cat_details           59 non-null     object\n 2   std_dvec_tokens           59 non-null     object\n 3   std_pad_cnn_rgb_img_data  59 non-null     object\ndtypes: object(4)\nmemory usage: 2.3+ KB\n"
     ]
    }
   ],
   "source": [
    "train_df.info()"
   ]
  },
  {
   "cell_type": "code",
   "execution_count": 90,
   "metadata": {},
   "outputs": [
    {
     "output_type": "stream",
     "name": "stdout",
     "text": [
      "Padded image column in dataframe:  std_pad_cnn_rgb_img_data\n"
     ]
    }
   ],
   "source": [
    "# getting the column with the relevant data to train\n",
    "pad_regex = u\"^std_pad_\"\n",
    "padimg_col = get_keeper_cols(df_columns, pad_regex)\n",
    "padimg_col = padimg_col[0]\n",
    "print(\"Padded image column in dataframe: \", str(padimg_col))"
   ]
  },
  {
   "cell_type": "code",
   "execution_count": 91,
   "metadata": {},
   "outputs": [
    {
     "output_type": "stream",
     "name": "stdout",
     "text": [
      "Dense vector column in dataframe:  std_dvec_tokens\n"
     ]
    }
   ],
   "source": [
    "# getting the column with the relevant data to train\n",
    "dvec_regex = u\"^std_dvec\"\n",
    "dvector_col = get_keeper_cols(df_columns, dvec_regex)\n",
    "dvector_col = dvector_col[0]\n",
    "print(\"Dense vector column in dataframe: \", str(dvector_col))"
   ]
  },
  {
   "cell_type": "code",
   "execution_count": 92,
   "metadata": {
    "tags": []
   },
   "outputs": [],
   "source": [
    "# fix column data type\n",
    "work_corpus = train_df[dvector_col]\n",
    "work_corpus = format_dvector(work_corpus)"
   ]
  },
  {
   "cell_type": "code",
   "execution_count": 93,
   "metadata": {},
   "outputs": [],
   "source": [
    "# changing type in dataframe\n",
    "train_df[dvector_col] = work_corpus\n",
    "work_corpus = None"
   ]
  },
  {
   "cell_type": "code",
   "execution_count": 94,
   "metadata": {},
   "outputs": [
    {
     "output_type": "stream",
     "name": "stdout",
     "text": [
      "Original txt shape (59,)\nPadded txt shape (59, 142)\n"
     ]
    }
   ],
   "source": [
    "# padding training data according to max length of text corpus\n",
    "pad_prefix = \"pad_\"\n",
    "recurrent_prefix = \"lstm_\"\n",
    "\n",
    "train_df = padding_corpus(train_df, dvector_col, pad_prefix)"
   ]
  },
  {
   "cell_type": "code",
   "execution_count": 95,
   "metadata": {},
   "outputs": [],
   "source": [
    "regular_img_col = \"std_\" + work_imgt + \"_img\" + \"_data\"\n",
    "padded_img_col = \"std_\" + pad_prefix + conv_prefix + work_imgt + \"_img\" + \"_data\"\n",
    "padded_col_dvector = pad_prefix + dvector_col"
   ]
  },
  {
   "cell_type": "code",
   "execution_count": 96,
   "metadata": {},
   "outputs": [
    {
     "output_type": "stream",
     "name": "stdout",
     "text": [
      "['std_cat_creator-place', 'std_cat_details', 'std_dvec_tokens', 'std_pad_cnn_rgb_img_data']\n",
      "Classifier trainable labels in dataframe:  ['std_cat_creator-place', 'std_cat_details']\n",
      "categories heat column: std_cat_labels\n"
     ]
    }
   ],
   "source": [
    "# getting the columns with the relevant labels to predict\n",
    "print(keep_columns)\n",
    "cat_regex = u\"^std_cat_\"\n",
    "labels_cols = get_keeper_cols(keep_columns, cat_regex)\n",
    "print(\"Classifier trainable labels in dataframe: \", str(labels_cols))\n",
    "\n",
    "# updating dataframe with hot/concatenated categories\n",
    "tcat_label_col = \"std_cat_labels\"\n",
    "print(\"categories heat column:\", tcat_label_col)\n",
    "train_df = heat_categories(train_df, labels_cols, tcat_label_col)"
   ]
  },
  {
   "cell_type": "code",
   "execution_count": 97,
   "metadata": {},
   "outputs": [
    {
     "output_type": "stream",
     "name": "stdout",
     "text": [
      "['std_cat_creator-place', 'std_cat_details', 'std_dvec_tokens', 'std_pad_cnn_rgb_img_data']\nTrainable labels columns in dataframe:  ['std_cat_creator-place', 'std_cat_details']\n"
     ]
    }
   ],
   "source": [
    "# getting the columns with the relevant labels to predict\n",
    "print(keep_columns)\n",
    "labels_cols = [i for i in keep_columns if re.search(u\"^std_cat_\", i)]\n",
    "print(\"Trainable labels columns in dataframe: \", str(labels_cols))\n",
    "\n",
    "labels_data = train_df[labels_cols]\n",
    "labels_concat = list()\n",
    "\n",
    "# concatenating all category labels from dataframe\n",
    "for index, row in labels_data.iterrows():\n",
    "    row = concat_labels(row, labels_cols)\n",
    "    labels_concat.append(row)"
   ]
  },
  {
   "cell_type": "code",
   "execution_count": 98,
   "metadata": {},
   "outputs": [
    {
     "output_type": "stream",
     "name": "stdout",
     "text": [
      "pad_std_dvec_tokens\n"
     ]
    }
   ],
   "source": [
    "text_lstm_col = padded_col_dvector\n",
    "print(text_lstm_col)"
   ]
  },
  {
   "cell_type": "code",
   "execution_count": 99,
   "metadata": {},
   "outputs": [
    {
     "output_type": "stream",
     "name": "stdout",
     "text": [
      "std_pad_cnn_rgb_img_data\n"
     ]
    }
   ],
   "source": [
    "working_img_col = padded_img_col\n",
    "# working_img_col = regular_img_col\n",
    "print(working_img_col)"
   ]
  },
  {
   "cell_type": "code",
   "execution_count": 100,
   "metadata": {},
   "outputs": [
    {
     "output_type": "stream",
     "name": "stdout",
     "text": [
      "<class 'pandas.core.frame.DataFrame'>\nIndex: 59 entries, s0132V1962 to s0097V1962r\nData columns (total 6 columns):\n #   Column                    Non-Null Count  Dtype \n---  ------                    --------------  ----- \n 0   std_cat_creator-place     59 non-null     object\n 1   std_cat_details           59 non-null     object\n 2   std_dvec_tokens           59 non-null     object\n 3   std_pad_cnn_rgb_img_data  59 non-null     object\n 4   pad_std_dvec_tokens       59 non-null     object\n 5   std_cat_labels            59 non-null     object\ndtypes: object(6)\nmemory usage: 3.2+ KB\n"
     ]
    }
   ],
   "source": [
    "train_df.info()"
   ]
  },
  {
   "cell_type": "code",
   "execution_count": 101,
   "metadata": {},
   "outputs": [
    {
     "output_type": "execute_result",
     "data": {
      "text/plain": [
       "60"
      ]
     },
     "metadata": {},
     "execution_count": 101
    }
   ],
   "source": [
    "gc.collect()"
   ]
  },
  {
   "cell_type": "code",
   "execution_count": 102,
   "metadata": {
    "tags": []
   },
   "outputs": [
    {
     "output_type": "stream",
     "name": "stdout",
     "text": [
      "59 (256, 256, 3)\n",
      "final X_img shape (59, 256, 256, 3)\n"
     ]
    }
   ],
   "source": [
    "# creating Train/Test sample\n",
    "# getting the X, y to train, as is autoencoder both are the same\n",
    "og_shape = train_df[working_img_col][0].shape# y[0].shape\n",
    "X_img_len = train_df[working_img_col].shape[0] #y.shape[0]\n",
    "print(X_img_len, og_shape)\n",
    "\n",
    "X_img = None\n",
    "\n",
    "for img in train_df[working_img_col]:\n",
    "\n",
    "    if X_img is None:\n",
    "        img = np.expand_dims(img, axis=0)\n",
    "        X_img = img\n",
    "    else:\n",
    "        img = np.expand_dims(img, axis=0)\n",
    "        X_img = np.concatenate((X_img, img), axis=0)\n",
    "\n",
    "print(\"final X_img shape\", X_img.shape)\n",
    "# y.shape = (1899, 800, 800, 3)"
   ]
  },
  {
   "cell_type": "code",
   "execution_count": 103,
   "metadata": {},
   "outputs": [
    {
     "output_type": "stream",
     "name": "stdout",
     "text": [
      "<class 'numpy.ndarray'>\n<class 'numpy.ndarray'>\n(256, 256, 3)\n"
     ]
    }
   ],
   "source": [
    "print(type(X_img[0]))\n",
    "print(type(X_img[0][0]))\n",
    "print(X_img[1].shape)"
   ]
  },
  {
   "cell_type": "code",
   "execution_count": 104,
   "metadata": {},
   "outputs": [],
   "source": [
    "if len(X_img.shape) == 3:\n",
    "    X_img = X_img[:,:,:,np.newaxis]"
   ]
  },
  {
   "cell_type": "code",
   "execution_count": 105,
   "metadata": {},
   "outputs": [
    {
     "output_type": "stream",
     "name": "stdout",
     "text": [
      "y shape (59, 16)\n"
     ]
    }
   ],
   "source": [
    "# y = train_df[working_img_col]\n",
    "# y = np.expand_dims(y, axis=0)\n",
    "y_labels = np.asarray([np.asarray(j, dtype=\"object\") for j in train_df[tcat_label_col]], dtype=\"object\")\n",
    "print(\"y shape\", y_labels.shape)"
   ]
  },
  {
   "cell_type": "code",
   "execution_count": 106,
   "metadata": {},
   "outputs": [
    {
     "output_type": "stream",
     "name": "stdout",
     "text": [
      "y shape (59, 1)\n"
     ]
    }
   ],
   "source": [
    "y = np.ones((y_labels.shape[0],1)).astype(\"float32\")\n",
    "print(\"y shape\", y.shape)"
   ]
  },
  {
   "cell_type": "code",
   "execution_count": 107,
   "metadata": {},
   "outputs": [
    {
     "output_type": "stream",
     "name": "stdout",
     "text": [
      "y classification category\n<class 'numpy.ndarray'>\n<class 'numpy.float32'>\n(1,)\ny labels category\n<class 'numpy.ndarray'>\n<class 'float'>\n(16,)\n"
     ]
    }
   ],
   "source": [
    "print(\"y classification category\")\n",
    "print(type(y[0]))\n",
    "print(type(y[0][0]))\n",
    "print(y[1].shape)\n",
    "\n",
    "print(\"y labels category\")\n",
    "print(type(y_labels[0]))\n",
    "print(type(y_labels[0][0]))\n",
    "print(y_labels[1].shape)"
   ]
  },
  {
   "cell_type": "code",
   "execution_count": 108,
   "metadata": {},
   "outputs": [
    {
     "output_type": "stream",
     "name": "stdout",
     "text": [
      "final X_lstm shape (59, 142)\n"
     ]
    }
   ],
   "source": [
    "# creating Train/Test sample\n",
    "# getting the X, y to train, as is autoencoder both are the same\n",
    "X_txt = np.asarray([np.asarray(i, dtype=\"object\") for i in train_df[text_lstm_col]], dtype=\"object\")\n",
    "# X = np.array(train_df[text_lstm_col]).astype(\"object\")\n",
    "# X = train_df[text_lstm_col]\n",
    "print(\"final X_lstm shape\", X_txt.shape)"
   ]
  },
  {
   "cell_type": "code",
   "execution_count": 109,
   "metadata": {},
   "outputs": [
    {
     "output_type": "stream",
     "name": "stdout",
     "text": [
      "<class 'numpy.ndarray'>\n<class 'float'>\n(142,)\n"
     ]
    }
   ],
   "source": [
    "print(type(X_txt[0]))\n",
    "print(type(X_txt[0][0]))\n",
    "print(X_txt[1].shape)"
   ]
  },
  {
   "cell_type": "code",
   "execution_count": 110,
   "metadata": {},
   "outputs": [
    {
     "output_type": "stream",
     "name": "stdout",
     "text": [
      "15 142\n"
     ]
    }
   ],
   "source": [
    "# timestep is the memory of what i read, this is the longest sentence I can remember in the short term\n",
    "# neet to look for the best option, in small the max is 15\n",
    "timesteps = 15\n",
    "\n",
    "# features is the max length in the corpus, after padding!!!!\n",
    "features = X_txt[0].shape[0]\n",
    "print(timesteps, features)"
   ]
  },
  {
   "cell_type": "code",
   "execution_count": 111,
   "metadata": {},
   "outputs": [
    {
     "output_type": "stream",
     "name": "stdout",
     "text": [
      "(43, 15, 1, 142)\n(43, 15, 142)\n"
     ]
    }
   ],
   "source": [
    "X_txt = format_corpus(X_txt, timesteps, features)"
   ]
  },
  {
   "cell_type": "code",
   "execution_count": 112,
   "metadata": {},
   "outputs": [
    {
     "output_type": "stream",
     "name": "stdout",
     "text": [
      "(43, 15, 142)\n"
     ]
    }
   ],
   "source": [
    "print(X_txt.shape)"
   ]
  },
  {
   "cell_type": "code",
   "execution_count": 113,
   "metadata": {},
   "outputs": [
    {
     "output_type": "stream",
     "name": "stdout",
     "text": [
      "16\n"
     ]
    }
   ],
   "source": [
    "diff_txt = y.shape[0] - X_txt.shape[0]\n",
    "print(diff_txt)"
   ]
  },
  {
   "cell_type": "code",
   "execution_count": 114,
   "metadata": {},
   "outputs": [
    {
     "output_type": "stream",
     "name": "stdout",
     "text": [
      "(59, 15, 142)\n"
     ]
    }
   ],
   "source": [
    "Xa = X_txt[-diff_txt:]\n",
    "X_txt = np.append(X_txt, Xa, axis=0)\n",
    "print(X_txt.shape)\n",
    "Xa = None"
   ]
  },
  {
   "cell_type": "code",
   "execution_count": 115,
   "metadata": {},
   "outputs": [
    {
     "output_type": "stream",
     "name": "stdout",
     "text": [
      "(59, 15, 142)\n(59, 256, 256, 3)\n(59, 1)\n(59, 16)\n"
     ]
    }
   ],
   "source": [
    "print(X_txt.shape)\n",
    "print(X_img.shape)\n",
    "print(y.shape)\n",
    "print(y_labels.shape)"
   ]
  },
  {
   "cell_type": "code",
   "execution_count": 116,
   "metadata": {},
   "outputs": [
    {
     "output_type": "stream",
     "name": "stdout",
     "text": [
      "(15, 142)\n(256, 256, 3)\n(1,)\n(16,)\n"
     ]
    }
   ],
   "source": [
    "print(X_txt[0].shape)\n",
    "print(X_img[0].shape)\n",
    "print(y[0].shape)\n",
    "print(y_labels[0].shape)\n",
    "txt_og_shape = X_txt[0].shape\n",
    "img_og_shape = X_img[0].shape\n",
    "cat_og_shape = y[0].shape\n",
    "lab_og_shape = y_labels[0].shape"
   ]
  },
  {
   "cell_type": "code",
   "execution_count": 117,
   "metadata": {},
   "outputs": [],
   "source": [
    "# Xt = X_txt # np.array(X).astype(\"object\")\n",
    "# Xi = X_img\n",
    "# yt = y # np.array(y).astype(\"object\")\n",
    "# # ya = y[0:timesteps]\n",
    "# train_df = None"
   ]
  },
  {
   "cell_type": "code",
   "execution_count": 118,
   "metadata": {},
   "outputs": [
    {
     "output_type": "execute_result",
     "data": {
      "text/plain": [
       "75"
      ]
     },
     "metadata": {},
     "execution_count": 118
    }
   ],
   "source": [
    "gc.collect()"
   ]
  },
  {
   "source": [
    "# ML Model Definition\n",
    "\n",
    "## Image GAN"
   ],
   "cell_type": "markdown",
   "metadata": {}
  },
  {
   "cell_type": "code",
   "execution_count": 119,
   "metadata": {},
   "outputs": [],
   "source": [
    "# convolutional generator for images\n",
    "def create_img_generator(latent_dims, model_cfg):\n",
    "\n",
    "    # MODEL CONFIG\n",
    "    # def of the latent space size for the input\n",
    "    latent_features = model_cfg.get(\"latent_features\")\n",
    "    latent_filters = model_cfg.get(\"latent_filters\")\n",
    "    latent_dense = latent_features*latent_features*latent_filters\n",
    "    # latent_input = latent_shape[0]*latent_shape[1]\n",
    "    latent_n = model_cfg.get(\"latent_img_size\")\n",
    "    in_lyr_act = model_cfg.get(\"input_lyr_activation\")\n",
    "    # latent img shape\n",
    "    latent_img_shape = model_cfg.get(\"latent_img_shape\")\n",
    "\n",
    "    # hidden layer config\n",
    "    filters = model_cfg.get(\"filters\")\n",
    "    ksize = model_cfg.get(\"kernel_size\")\n",
    "    stsize = model_cfg.get(\"stride\")\n",
    "    pad = model_cfg.get(\"padding\")\n",
    "    hid_lyr_act = model_cfg.get(\"hidden_lyr_activation\")\n",
    "    hid_ldrop = model_cfg.get(\"gen_dropout_rate\")\n",
    "    mval = model_cfg.get(\"mask_value\")\n",
    "    rs = model_cfg.get(\"return_sequences\")\n",
    "    lstm_units = model_cfg.get(\"lstm_neurons\")\n",
    "\n",
    "    # output layer condig\n",
    "    out_filters = model_cfg.get(\"output_filters\")\n",
    "    out_ksize = model_cfg.get(\"output_kernel_size\")\n",
    "    out_stsize = model_cfg.get(\"output_stride\")\n",
    "    out_pad = model_cfg.get(\"output_padding\")\n",
    "    img_shape = model_cfg.get(\"output_shape\")\n",
    "    out_lyr_act = model_cfg.get(\"output_lyr_activation\")\n",
    "\n",
    "    # LAYER CREATION\n",
    "    # input layer\n",
    "    in_latent = Input(shape=latent_dims, name=\"ImgGenIn\")\n",
    "\n",
    "    # flatting latent shape\n",
    "    # lyr1 = Flatten(name=\"ImgGenFlat_1\")(in_latent)\n",
    "\n",
    "    # dense layer\n",
    "    lyr1 = Dense(latent_dense, \n",
    "                activation=hid_lyr_act, \n",
    "                name=\"ImgGenDense_1\")(in_latent)\n",
    "    \n",
    "    # reshape layer 1D-> 2D (rbg image)\n",
    "    lyr2 = Reshape(latent_img_shape, name=\"ImgGenReshape_3\")(lyr1)\n",
    "\n",
    "    # transpose conv2D layer\n",
    "    lyr3 = Conv2DTranspose(filters, kernel_size=ksize, \n",
    "                            strides=stsize, activation=hid_lyr_act, \n",
    "                            padding=pad, name=\"ImgGenConv2D_4\")(lyr2)\n",
    "\n",
    "    # batch normalization + drop layers to avoid overfit\n",
    "    lyr4 = BatchNormalization(name=\"ImgGenBN_5\")(lyr3)\n",
    "    lyr5 = Dropout(hid_ldrop, name=\"ImgGenDrop_6\")(lyr4)\n",
    "\n",
    "\n",
    "    # transpose conv2D layer\n",
    "    lyr6 = Conv2DTranspose(int(filters/2), kernel_size=ksize, \n",
    "                            strides=stsize, activation=hid_lyr_act, \n",
    "                            padding=pad, name=\"ImgGenConv2D_7\")(lyr5)\n",
    "\n",
    "    # batch normalization + drop layers to avoid overfit\n",
    "    lyr7 = BatchNormalization(name=\"ImgGenBN_8\")(lyr6)\n",
    "    lyr8 = Dropout(hid_ldrop, name=\"ImgGenDrop_9\")(lyr7)\n",
    "\n",
    "    # transpose conv2D layer\n",
    "    lyr9 = Conv2DTranspose(int(filters/4), kernel_size=ksize, \n",
    "                            strides=out_stsize, activation=out_lyr_act, \n",
    "                            padding=out_pad, name=\"ImgGenConv2D_10\")(lyr8)\n",
    "\n",
    "    # batch normalization + drop layers to avoid overfit\n",
    "    lyr10 = BatchNormalization(name=\"ImgGenBN_11\")(lyr9)\n",
    "    lyr11 = Dropout(hid_ldrop, name=\"ImgGenDrop_12\")(lyr10)\n",
    "\n",
    "    # transpose conv2D layer\n",
    "    lyr12 = Conv2DTranspose(int(filters/8), kernel_size=ksize, \n",
    "                            strides=stsize, activation=hid_lyr_act, \n",
    "                            padding=pad, name=\"ImgGenConv2D_13\")(lyr11)\n",
    "\n",
    "    # batch normalization + drop layers to avoid overfit\n",
    "    lyr13 = BatchNormalization(name=\"ImgGenBN_14\")(lyr12)\n",
    "    lyr14 = Dropout(hid_ldrop, name=\"ImgGenDrop_15\")(lyr13)\n",
    "\n",
    "    # transpose conv2D layer\n",
    "    lyr15 = Conv2DTranspose(int(filters/16), kernel_size=ksize, \n",
    "                            strides=stsize, activation=hid_lyr_act, \n",
    "                            padding=pad, name=\"ImgGenConv2D_16\")(lyr14)\n",
    "\n",
    "    # batch normalization + drop layers to avoid overfit\n",
    "    lyr16 = BatchNormalization(name=\"ImgGenBN_17\")(lyr15)\n",
    "    lyr17 = Dropout(hid_ldrop, name=\"ImgGenDrop_18\")(lyr16)\n",
    "\n",
    "    # transpose conv2D layer\n",
    "    lyr18 = Conv2DTranspose(int(filters/32), kernel_size=ksize, \n",
    "                            strides=stsize, activation=hid_lyr_act, \n",
    "                            padding=pad, name=\"ImgGenConv2D_19\")(lyr17)\n",
    "\n",
    "    # batch normalization + drop layers to avoid overfit\n",
    "    lyr19 = BatchNormalization(name=\"ImgGenBN_20\")(lyr18)\n",
    "    lyr20 = Dropout(hid_ldrop, name=\"ImgGenDrop_21\")(lyr19)\n",
    "\n",
    "    # output layer\n",
    "    out_img = Conv2D(out_filters, kernel_size=out_ksize, \n",
    "                        strides=out_stsize, activation=out_lyr_act, \n",
    "                        padding=out_pad, input_shape=img_shape, \n",
    "                        name=\"ImgGenOut\")(lyr20)\n",
    "\n",
    "    # MODEL DEFINITION\n",
    "    model = Model(inputs=in_latent, outputs=out_img)\n",
    "    return model"
   ]
  },
  {
   "cell_type": "code",
   "execution_count": 120,
   "metadata": {},
   "outputs": [],
   "source": [
    "# convolutional discriminator for images\n",
    "def create_img_discriminator(img_shape, model_cfg):\n",
    "\n",
    "    # MODEL CONFIG\n",
    "    # input layer config, image classification\n",
    "    in_lyr_act = model_cfg.get(\"input_lyr_activation\")\n",
    "    in_filters = model_cfg.get(\"input_filters\")\n",
    "    in_ksize = model_cfg.get(\"input_kernel_size\")\n",
    "    in_stsize = model_cfg.get(\"input_stride\")\n",
    "    in_pad = model_cfg.get(\"input_padding\")\n",
    "\n",
    "    # hidden layer config\n",
    "    filters = model_cfg.get(\"filters\")\n",
    "    ksize = model_cfg.get(\"kernel_size\")\n",
    "    stsize = model_cfg.get(\"stride\")\n",
    "    pad = model_cfg.get(\"padding\")\n",
    "    hid_lyr_act = model_cfg.get(\"hidden_lyr_activation\")\n",
    "    hid_ldrop = model_cfg.get(\"dis_dropout_rate\")\n",
    "    # mid neuron size\n",
    "    mid_disn = model_cfg.get(\"mid_dis_neurons\")\n",
    "    hid_cls_act = model_cfg.get(\"dense_cls_activation\")\n",
    "\n",
    "    # output layer condig\n",
    "    out_nsize = model_cfg.get(\"output_dis_neurons\")\n",
    "    out_lyr_act = model_cfg.get(\"output_lyr_activation\")\n",
    "\n",
    "    # LAYER CREATION\n",
    "    # input layer\n",
    "    in_img = Input(shape=img_shape, name=\"DisImgIn\")\n",
    "\n",
    "    # DISCRIMINATOR LAYERS\n",
    "    # intermediate conv layer\n",
    "    lyr1 = Conv2D(int(in_filters/64), kernel_size=in_ksize, \n",
    "                    padding=in_pad, activation=in_lyr_act, \n",
    "                    strides=in_stsize, name=\"ImgDisConv2D_1\")(in_img)\n",
    "\n",
    "    # intermediate conv layer\n",
    "    lyr2 = Conv2D(int(filters/32), kernel_size=ksize, \n",
    "                    padding=pad, activation=hid_lyr_act, \n",
    "                    strides=stsize, name=\"ImgDisConv2D_2\")(lyr1)\n",
    "\n",
    "    # batch normalization + drop layers to avoid overfit\n",
    "    lyr3 = BatchNormalization(name=\"ImgDisBN_3\")(lyr2)\n",
    "    lyr4 = Dropout(hid_ldrop, name=\"ImgDisDrop_4\")(lyr3)\n",
    "\n",
    "    # intermediate conv layer\n",
    "    lyr5 = Conv2D(int(filters/16), kernel_size=ksize, \n",
    "                    padding=pad, activation=hid_lyr_act, \n",
    "                    strides=stsize, name=\"ImgDisConv2D_5\")(lyr4)\n",
    "\n",
    "    # batch normalization + drop layers to avoid overfit\n",
    "    lyr6 = BatchNormalization(name=\"ImgDisBN_6\")(lyr5)\n",
    "    lyr7 = Dropout(hid_ldrop, name=\"ImgDisDrop_7\")(lyr6)\n",
    "\n",
    "    # intermediate conv layer\n",
    "    lyr8 = Conv2D(int(filters/8), kernel_size=ksize, \n",
    "                    padding=pad, activation=hid_lyr_act, \n",
    "                    strides=stsize, name=\"ImgDisConv2D_8\")(lyr7)\n",
    "\n",
    "    # batch normalization + drop layers to avoid overfit\n",
    "    lyr9 = BatchNormalization(name=\"ImgDisBN_9\")(lyr8)\n",
    "    lyr10 = Dropout(hid_ldrop, name=\"ImgDisDrop_10\")(lyr9)\n",
    "\n",
    "    # intermediate conv layer\n",
    "    lyr11 = Conv2D(int(filters/4), kernel_size=ksize, \n",
    "                    padding=pad, activation=hid_lyr_act, \n",
    "                    strides=stsize, name=\"ImgDisConv2D_11\")(lyr10)\n",
    "\n",
    "    # batch normalization + drop layers to avoid overfit\n",
    "    lyr12 = BatchNormalization(name=\"ImgDisBN_12\")(lyr11)\n",
    "    lyr13 = Dropout(hid_ldrop, name=\"ImgDisDrop_13\")(lyr12)\n",
    "\n",
    "    # intermediate conv layer\n",
    "    lyr14 = Conv2D(int(filters/2), kernel_size=ksize, \n",
    "                    padding=pad, activation=hid_lyr_act, \n",
    "                    strides=stsize, name=\"ImgDisConv2D_14\")(lyr13)\n",
    "\n",
    "    # batch normalization + drop layers to avoid overfit\n",
    "    lyr15 = BatchNormalization(name=\"ImgDisBN_15\")(lyr14)\n",
    "    lyr16 = Dropout(hid_ldrop, name=\"ImgDisDrop_16\")(lyr15)\n",
    "\n",
    "\n",
    "    # flatten from 2D to 1D\n",
    "    lyr17 = Flatten(name=\"ImgDisFlat_17\")(lyr16)\n",
    "\n",
    "    # dense classifier layers\n",
    "    lyr18 = Dense(int(mid_disn), activation=hid_cls_act, name=\"ImgDisDense_18\")(lyr17)\n",
    "    lyr19 = Dense(int(mid_disn/2), activation=hid_cls_act, name=\"ImgDisDense_19\")(lyr18)\n",
    "    # drop layer\n",
    "    lyr20 = Dropout(hid_ldrop, name=\"ImgDisDrop_20\")(lyr19)\n",
    "\n",
    "    # dense classifier layers\n",
    "    lyr21 = Dense(int(mid_disn/4), activation=hid_cls_act, name=\"ImgDisDense_21\")(lyr20)\n",
    "    lyr22 = Dense(int(mid_disn/8), activation=hid_cls_act, name=\"ImgDisDense_22\")(lyr21)\n",
    "    # drop layer\n",
    "    lyr23 = Dropout(hid_ldrop, name=\"ImgDisDrop_23\")(lyr22)\n",
    "\n",
    "    # dense classifier layers\n",
    "    lyr24 = Dense(int(mid_disn/16), activation=hid_cls_act, name=\"ImgDisDense_24\")(lyr23)\n",
    "    lyr25 = Dense(int(mid_disn/32), activation=hid_cls_act, name=\"ImgDisDense_25\")(lyr24)\n",
    "\n",
    "    # output layer\n",
    "    out_cls = Dense(out_nsize, activation=out_lyr_act, name=\"ImgDisOut\")(lyr25)\n",
    "\n",
    "    # MODEL DEFINITION\n",
    "    model = Model(inputs=in_img, outputs=out_cls)\n",
    "    return model"
   ]
  },
  {
   "cell_type": "code",
   "execution_count": 121,
   "metadata": {},
   "outputs": [],
   "source": [
    "def create_img_gan(gen_model, dis_model, gan_cfg):\n",
    "\n",
    "    # getting GAN Config\n",
    "    ls = gan_cfg.get(\"loss\")\n",
    "    opt = gan_cfg.get(\"optimizer\")\n",
    "    met = gan_cfg.get(\"metrics\")\n",
    "\n",
    "\t# make weights in the discriminator not trainable\n",
    "    dis_model.trainable = False\n",
    "\t# get noise and label inputs from generator model\n",
    "    gen_noise = gen_model.input\n",
    "    # get image output from the generator model\n",
    "    gen_output = gen_model.output\n",
    "    # connect image output and label input from generator as inputs to discriminator\n",
    "    gan_output = dis_model(gen_output)\n",
    "    # define gan model as taking noise and label and outputting a classification\n",
    "    model = Model(gen_noise, gan_output)\n",
    "    # compile model\n",
    "    model.compile(loss=ls, optimizer=opt, metrics=met)\n",
    "    # model.compile(loss=ls, optimizer=opt)\n",
    "    return model"
   ]
  },
  {
   "source": [
    "## Text GAN"
   ],
   "cell_type": "markdown",
   "metadata": {}
  },
  {
   "cell_type": "code",
   "execution_count": 122,
   "metadata": {},
   "outputs": [],
   "source": [
    "# LSTM generator for text\n",
    "def create_txt_generator(latent_shape, model_cfg):\n",
    "\n",
    "    # MODEL CONFIG\n",
    "    # def of the latent space size for the input\n",
    "    # input layer config, latent txt space\n",
    "    mval = model_cfg.get(\"mask_value\")\n",
    "    in_rs = model_cfg.get(\"input_return_sequences\")\n",
    "    in_lstm = model_cfg.get(\"input_lstm_neurons\")\n",
    "    in_lyr_act = model_cfg.get(\"input_lyr_activation\")\n",
    "\n",
    "    # hidden layer config\n",
    "    latent_n = model_cfg.get(\"mid_gen_neurons\")\n",
    "    latent_reshape = model_cfg.get(\"latent_lstm_reshape\")\n",
    "    lstm_units = model_cfg.get(\"lstm_neurons\")\n",
    "    hid_lyr_act = model_cfg.get(\"hidden_lyr_activation\")\n",
    "    hid_ldrop = model_cfg.get(\"gen_dropout_rate\")\n",
    "    mem_shape = model_cfg.get(\"memory_shape\")\n",
    "    rs = model_cfg.get(\"hidden_return_sequences\")\n",
    "\n",
    "    # output layer condig\n",
    "    txt_shape = model_cfg.get(\"output_neurons\")\n",
    "    out_lyr_act = model_cfg.get(\"output_lyr_activation\")\n",
    "\n",
    "    # LAYER CREATION\n",
    "    # input layer\n",
    "    in_latent = Input(shape=latent_shape, name=\"TxtGenIn\")\n",
    "\n",
    "    # masking input text\n",
    "    lyr1 = Masking(mask_value=mval, input_shape=latent_shape, \n",
    "                    name = \"TxtGenMask_1\")(in_latent) # concat1\n",
    "\n",
    "    # intermediate recurrent layer\n",
    "    lyr2 = LSTM(in_lstm, activation=in_lyr_act, \n",
    "                    input_shape=latent_shape, \n",
    "                    return_sequences=in_rs, \n",
    "                    name=\"TxtGenLSTM_2\")(lyr1)\n",
    "\n",
    "    # batch normalization + drop layers to avoid overfit\n",
    "    lyr3 = BatchNormalization(name=\"TxtGenBN_3\")(lyr2)\n",
    "    lyr4 = Dropout(hid_ldrop, name=\"TxtGenDrop_4\")(lyr3)\n",
    "\n",
    "    # flatten from 2D to 1D\n",
    "    lyr5 = Flatten(name=\"TxtGenFlat_5\")(lyr4)\n",
    "\n",
    "    # dense layer\n",
    "    lyr6 = Dense(latent_n, \n",
    "                activation=hid_lyr_act, \n",
    "                name=\"TxtGenDense_6\")(lyr5)\n",
    "\n",
    "    # reshape layer 1D-> 2D (rbg image)\n",
    "    lyr7 = Reshape(latent_reshape, name=\"TxtGenReshape_7\")(lyr6)\n",
    "\n",
    "    # batch normalization + drop layers to avoid overfit\n",
    "    lyr8 = BatchNormalization(name=\"TxtGenBN_8\")(lyr7)\n",
    "    lyr9 = Dropout(hid_ldrop, name=\"TxtGenDrop_9\")(lyr8)\n",
    "\n",
    "    # intermediate recurrent layer\n",
    "    lyr10 = LSTM(int(lstm_units/4), activation=hid_lyr_act, \n",
    "                    input_shape=mem_shape, \n",
    "                    return_sequences=rs, \n",
    "                    name=\"TxtGenLSTM_10\")(lyr9)\n",
    "\n",
    "    # intermediate recurrent layer\n",
    "    lyr11 = LSTM(int(lstm_units/2), activation=hid_lyr_act, \n",
    "                    input_shape=mem_shape, \n",
    "                    return_sequences=rs, \n",
    "                    name=\"TxtGenLSTM_11\")(lyr10)\n",
    "\n",
    "    # batch normalization + drop layers to avoid overfit\n",
    "    lyr12 = BatchNormalization(name=\"TxtGenBN_12\")(lyr11)\n",
    "    lyr13 = Dropout(hid_ldrop, name=\"TxtGenDrop_13\")(lyr12)\n",
    "\n",
    "    # output layer, dense time sequential layer.\n",
    "    lyr14 = LSTM(lstm_units, activation=hid_lyr_act, \n",
    "                    input_shape=mem_shape, \n",
    "                    return_sequences=rs, \n",
    "                    name=\"TxtGenDrop_14\")(lyr13)\n",
    "\n",
    "    out_txt = TimeDistributed(Dense(txt_shape, activation=out_lyr_act), name = \"GenTxtOut\")(lyr14)\n",
    "\n",
    "    # model definition\n",
    "    model = Model(inputs=in_latent, outputs=out_txt)\n",
    "\n",
    "    return model"
   ]
  },
  {
   "cell_type": "code",
   "execution_count": 123,
   "metadata": {},
   "outputs": [],
   "source": [
    "# LSTM discriminator for text\n",
    "def create_txt_discriminator(txt_shape, model_cfg):\n",
    "\n",
    "    # MODEL CONFIG\n",
    "    # def of the latent space size for the input\n",
    "    # input layer config, latent txt space\n",
    "    mval = model_cfg.get(\"mask_value\")\n",
    "    in_rs = model_cfg.get(\"input_return_sequences\")\n",
    "    in_lstm = model_cfg.get(\"input_lstm_neurons\")\n",
    "    in_lyr_act = model_cfg.get(\"input_lyr_activation\")\n",
    "\n",
    "    # hidden layer config\n",
    "    lstm_units = model_cfg.get(\"lstm_neurons\")\n",
    "    hid_lyr_act = model_cfg.get(\"hidden_lyr_activation\")\n",
    "    hid_ldrop = model_cfg.get(\"dis_dropout_rate\")\n",
    "    mem_shape = model_cfg.get(\"memory_shape\")\n",
    "    rs = model_cfg.get(\"hidden_return_sequences\")\n",
    "\n",
    "    # mid neuron size\n",
    "    mid_disn = model_cfg.get(\"mid_dis_neurons\")\n",
    "    hid_cls_act = model_cfg.get(\"dense_cls_activation\")\n",
    "\n",
    "    # output layer condig\n",
    "    out_nsize = model_cfg.get(\"output_dis_neurons\")\n",
    "    out_lyr_act = model_cfg.get(\"output_lyr_activation\")\n",
    "\n",
    "    # LAYER CREATION\n",
    "    # input layer\n",
    "    in_txt = Input(shape=txt_shape, name=\"DisTxtIn\")\n",
    "\n",
    "    # DISCRIMINATOR LAYERS\n",
    "    # masking input text\n",
    "    lyr1 = Masking(mask_value=mval, input_shape=txt_shape, \n",
    "                    name = \"TxtDisMask_1\")(in_txt) # concat1\n",
    "\n",
    "    # input LSTM layer\n",
    "    lyr2 = LSTM(in_lstm, activation=in_lyr_act, \n",
    "                    input_shape=txt_shape, \n",
    "                    return_sequences=in_rs, \n",
    "                    name=\"TxtDisLSTM_2\")(lyr1)\n",
    "\n",
    "    # batch normalization + drop layers to avoid overfit\n",
    "    lyr3 = BatchNormalization(name=\"TxtDisBN_3\")(lyr2)\n",
    "    lyr4 = Dropout(hid_ldrop, name=\"TxtDisDrop_4\")(lyr3)\n",
    "\n",
    "    # intermediate LSTM layer\n",
    "    lyr5 = LSTM(int(lstm_units/2), \n",
    "                activation=hid_lyr_act, \n",
    "                input_shape=mem_shape, \n",
    "                return_sequences=rs, \n",
    "                name=\"TxtDisLSTM_5\")(lyr4)\n",
    "\n",
    "    # intermediate LSTM layer\n",
    "    lyr6 = LSTM(int(lstm_units/4), \n",
    "                activation=hid_lyr_act, \n",
    "                input_shape=mem_shape, \n",
    "                return_sequences=rs, \n",
    "                name=\"TxtDisLSTM_6\")(lyr5)\n",
    "\n",
    "    # batch normalization + drop layers to avoid overfit\n",
    "    lyr7 = BatchNormalization(name=\"TxtDisBN_7\")(lyr6)\n",
    "    lyr8 = Dropout(hid_ldrop, name=\"TxtDisDrop_8\")(lyr7)\n",
    "\n",
    "    # flatten from 2D to 1D\n",
    "    lyr9 = Flatten(name=\"TxtDisFlat_9\")(lyr8)\n",
    "\n",
    "    # dense classifier layers\n",
    "    lyr10 = Dense(int(mid_disn), activation=hid_cls_act, name=\"TxtDisDense_10\")(lyr9)\n",
    "    lyr11 = Dense(int(mid_disn/2), activation=hid_cls_act, name=\"TxtDisDense_11\")(lyr10)\n",
    "    # drop layer\n",
    "    lyr12 = Dropout(hid_ldrop, name=\"TxtDisDrop_12\")(lyr11)\n",
    "\n",
    "    # dense classifier layers\n",
    "    lyr13 = Dense(int(mid_disn/4), activation=hid_cls_act, name=\"TxtDisDense_13\")(lyr12)\n",
    "    lyr14 = Dense(int(mid_disn/8), activation=hid_cls_act, name=\"TxtDisDense_14\")(lyr13)\n",
    "    # drop layer\n",
    "    lyr15 = Dropout(hid_ldrop, name=\"TxtDisDrop_15\")(lyr14)\n",
    "\n",
    "    # dense classifier layers\n",
    "    lyr16 = Dense(int(mid_disn/16), activation=hid_cls_act, name=\"TxtDisDense_16\")(lyr15)\n",
    "    lyr17 = Dense(int(mid_disn/32), activation=hid_cls_act, name=\"TxtDisDense_17\")(lyr16)\n",
    "\n",
    "    # output layer\n",
    "    out_cls = Dense(out_nsize, activation=out_lyr_act, name=\"TxtDisOut\")(lyr17)\n",
    "\n",
    "    # MODEL DEFINITION\n",
    "    model = Model(inputs=in_txt, outputs=out_cls)\n",
    "    return model"
   ]
  },
  {
   "cell_type": "code",
   "execution_count": 124,
   "metadata": {},
   "outputs": [],
   "source": [
    "def create_txt_gan(gen_model, dis_model, gan_cfg):\n",
    "\n",
    "    # getting GAN Config\n",
    "    ls = gan_cfg.get(\"loss\")\n",
    "    opt = gan_cfg.get(\"optimizer\")\n",
    "    met = gan_cfg.get(\"metrics\")\n",
    "\n",
    "    # make weights in the discriminator not trainable\n",
    "    dis_model.trainable = False\n",
    "    # get noise and label inputs from generator model\n",
    "    gen_noise = gen_model.input\n",
    "    # get image output from the generator model\n",
    "    gen_output = gen_model.output\n",
    "    # connect image output and label input from generator as inputs to discriminator\n",
    "    gan_output = dis_model(gen_output)\n",
    "    # define gan model as taking noise and label and outputting a classification\n",
    "    model = Model(gen_noise, gan_output)\n",
    "    # compile model\n",
    "    model.compile(loss=ls, optimizer=opt, metrics=met)\n",
    "\n",
    "    return model"
   ]
  },
  {
   "source": [
    "## Conditional Img GAN: CGAN-img"
   ],
   "cell_type": "markdown",
   "metadata": {}
  },
  {
   "cell_type": "code",
   "execution_count": 125,
   "metadata": {},
   "outputs": [],
   "source": [
    "# convolutional generator for images\n",
    "def create_img_cgenerator(latent_dims, n_labels, model_cfg):\n",
    "\n",
    "    # MODEL CONFIG\n",
    "    # config for conditional labels\n",
    "    memory = model_cfg.get(\"memory\")\n",
    "    features = model_cfg.get(\"features\")\n",
    "    lbl_neurons = model_cfg.get(\"labels_neurons\")\n",
    "    lbl_ly_actf = model_cfg.get(\"labels_lyr_activation\")\n",
    "    hid_ldrop = model_cfg.get(\"gen_dropout_rate\")\n",
    "\n",
    "    # def of the latent space size for the input\n",
    "    latent_features = model_cfg.get(\"latent_features\")\n",
    "    latent_filters = model_cfg.get(\"latent_filters\")\n",
    "    latent_dense = latent_features*latent_features*latent_filters\n",
    "    latent_n = model_cfg.get(\"latent_img_size\")\n",
    "    in_lyr_act = model_cfg.get(\"input_lyr_activation\")\n",
    "    latent_img_shape = model_cfg.get(\"latent_img_shape\")\n",
    "\n",
    "    # hidden layer config\n",
    "    filters = model_cfg.get(\"filters\")\n",
    "    ksize = model_cfg.get(\"kernel_size\")\n",
    "    stsize = model_cfg.get(\"stride\")\n",
    "    pad = model_cfg.get(\"padding\")\n",
    "    hid_lyr_act = model_cfg.get(\"hidden_lyr_activation\")\n",
    "    hid_ldrop = model_cfg.get(\"gen_dropout_rate\")\n",
    "    mval = model_cfg.get(\"mask_value\")\n",
    "    rs = model_cfg.get(\"return_sequences\")\n",
    "    lstm_units = model_cfg.get(\"lstm_neurons\")\n",
    "\n",
    "    # output layer condig\n",
    "    out_filters = model_cfg.get(\"output_filters\")\n",
    "    out_ksize = model_cfg.get(\"output_kernel_size\")\n",
    "    out_stsize = model_cfg.get(\"output_stride\")\n",
    "    out_pad = model_cfg.get(\"output_padding\")\n",
    "    img_shape = model_cfg.get(\"output_shape\")\n",
    "    out_lyr_act = model_cfg.get(\"output_lyr_activation\")\n",
    "\n",
    "    # CONDITIONAL LABELS LAYERS\n",
    "    # label input\n",
    "    in_labels = Input(shape=(n_labels,), name=\"ImgCGenLblIn\")\n",
    "    # embedding categorical textual input\n",
    "    cond1 = Embedding(memory, features, input_length=n_labels, name=\"ImgCGenLblEmb_1\")(in_labels)\n",
    "\n",
    "    # flat layer\n",
    "    cond2 = Flatten(name=\"ImgCGenLblFlat_2\")(cond1)\n",
    "    # dense layers\n",
    "    cond3 = Dense(int(lbl_neurons/2), activation=lbl_ly_actf, name=\"ImgCGenLblDense_3\")(cond2)\n",
    "\n",
    "    # batch normalization + drop layers to avoid overfit\n",
    "    cond4 = BatchNormalization(name=\"ImgCGenLblBN_4\")(cond3)\n",
    "    cond5 = Dropout(hid_ldrop, name=\"ImgCGenLblDrop_5\")(cond4)\n",
    "\n",
    "    cond6 = Dense(lbl_neurons, activation=lbl_ly_actf, name=\"ImgCGenLblDense_6\")(cond5)\n",
    "\n",
    "    # reshape layer\n",
    "    cond7 = Dense(latent_dims, activation=lbl_ly_actf, name=\"ImgCGenLblOut\")(cond6)\n",
    "\n",
    "    # GENERATOR DEFINITION\n",
    "    # LAYER CREATION\n",
    "    # input layer\n",
    "    in_latent = Input(shape=latent_dims, name=\"ImgCGenIn\")\n",
    "\n",
    "    # concat generator layers + label layers\n",
    "    lbl_concat = Concatenate(axis=-1, name=\"ImgCGenConcat\")([in_latent, cond7])\n",
    "\n",
    "    # dense layer\n",
    "    lyr1 = Dense(latent_dense, \n",
    "                activation=hid_lyr_act, \n",
    "                name=\"ImgGenCDense_1\")(lbl_concat)\n",
    "                \n",
    "    # batch normalization + drop layers to avoid overfit\n",
    "    lyr2 = BatchNormalization(name=\"ImgCGenBN_2\")(lyr1)\n",
    "    lyr3 = Dropout(hid_ldrop, name=\"ImgCGenDrop_3\")(lyr2)\n",
    "\n",
    "    # dense layer\n",
    "    lyr4 = Dense(latent_n, \n",
    "                activation=hid_lyr_act, \n",
    "                name=\"ImgCGenDense_4\")(lyr3)\n",
    "    \n",
    "    # reshape layer 1D-> 2D (rbg image)\n",
    "    lyr5 = Reshape(latent_img_shape, name=\"ImgCGenReshape_5\")(lyr4)\n",
    "\n",
    "    # transpose conv2D layer\n",
    "    lyr6 = Conv2DTranspose(filters, kernel_size=ksize, \n",
    "                            strides=stsize, activation=hid_lyr_act, \n",
    "                            padding=pad, name=\"ImgCGenConv2D_6\")(lyr5)\n",
    "\n",
    "    # batch normalization + drop layers to avoid overfit\n",
    "    lyr7 = BatchNormalization(name=\"ImgCGenBN_7\")(lyr6)\n",
    "    lyr8 = Dropout(hid_ldrop, name=\"ImgCGenDrop_8\")(lyr7)\n",
    "\n",
    "\n",
    "    # transpose conv2D layer\n",
    "    lyr9 = Conv2DTranspose(filters, kernel_size=ksize, \n",
    "                            strides=stsize, activation=hid_lyr_act, \n",
    "                            padding=pad, name=\"ImgCGenConv2D_9\")(lyr8)\n",
    "\n",
    "    # transpose conv2D layer\n",
    "    lyr10 = Conv2DTranspose(filters, kernel_size=ksize, \n",
    "                            strides=out_stsize, activation=out_lyr_act, \n",
    "                            padding=out_pad, name=\"ImgCGenConv2D_10\")(lyr9)\n",
    "\n",
    "    # batch normalization + drop layers to avoid overfit\n",
    "    lyr11 = BatchNormalization(name=\"ImgCGenBN_11\")(lyr10)\n",
    "    lyr12 = Dropout(hid_ldrop, name=\"ImgCGenDrop_12\")(lyr11)\n",
    "\n",
    "    # transpose conv2D layer\n",
    "    lyr13 = Conv2DTranspose(filters, kernel_size=ksize, \n",
    "                            strides=stsize, activation=hid_lyr_act, \n",
    "                            padding=pad, name=\"ImgCGenConv2D_13\")(lyr12)\n",
    "\n",
    "    # output layer\n",
    "    out_img = Conv2D(out_filters, kernel_size=out_ksize, \n",
    "                        strides=out_stsize, activation=out_lyr_act, \n",
    "                        padding=out_pad, input_shape=img_shape, \n",
    "                        name=\"ImgCGenOut\")(lyr13)\n",
    "\n",
    "    # MODEL DEFINITION\n",
    "    model = Model(inputs=[in_latent, in_labels], outputs=out_img)\n",
    "    return model"
   ]
  },
  {
   "cell_type": "code",
   "execution_count": 126,
   "metadata": {},
   "outputs": [],
   "source": [
    "# convolutional discriminator for images\n",
    "def create_img_cdiscriminator(img_shape, n_labels, model_cfg):\n",
    "\n",
    "    # MODEL CONFIG\n",
    "    # config for conditional labels\n",
    "    memory = model_cfg.get(\"timesteps\")\n",
    "    features = model_cfg.get(\"max_features\")\n",
    "    lbl_neurons = model_cfg.get(\"labels_neurons\")\n",
    "    lbl_ly_actf = model_cfg.get(\"labels_lyr_activation\")\n",
    "    lbl_filters = model_cfg.get(\"labels_filters\")\n",
    "    lbl_ksize = model_cfg.get(\"labels_kernel_size\")\n",
    "    lbl_stsize = model_cfg.get(\"labels_stride\")\n",
    "    gen_reshape = model_cfg.get(\"labels_reshape\")\n",
    "    hid_ldrop = model_cfg.get(\"dis_dropout_rate\")\n",
    "\n",
    "    # input layer config, image classification\n",
    "    in_lyr_act = model_cfg.get(\"input_lyr_activation\")\n",
    "    in_filters = model_cfg.get(\"input_filters\")\n",
    "    in_ksize = model_cfg.get(\"input_kernel_size\")\n",
    "    in_stsize = model_cfg.get(\"input_stride\")\n",
    "    in_pad = model_cfg.get(\"input_padding\")\n",
    "\n",
    "    # hidden layer config\n",
    "    filters = model_cfg.get(\"filters\")\n",
    "    ksize = model_cfg.get(\"kernel_size\")\n",
    "    stsize = model_cfg.get(\"stride\")\n",
    "    pad = model_cfg.get(\"padding\")\n",
    "    hid_lyr_act = model_cfg.get(\"hidden_lyr_activation\")\n",
    "    hid_ldrop = model_cfg.get(\"dis_dropout_rate\")\n",
    "    # mid neuron size\n",
    "    mid_disn = model_cfg.get(\"mid_dis_neurons\")\n",
    "    hid_cls_act = model_cfg.get(\"dense_cls_activation\")\n",
    "\n",
    "    # output layer condig\n",
    "    out_nsize = model_cfg.get(\"output_dis_neurons\")\n",
    "    out_lyr_act = model_cfg.get(\"output_lyr_activation\")\n",
    "\n",
    "    # LABEL IMG LAYERS\n",
    "    # label inpuy\n",
    "    in_labels = Input(shape=(n_labels,), \n",
    "                        name=\"ImgCDisLblIn\")\n",
    "\n",
    "    # embedding categorical textual input\n",
    "    cond1 = Embedding(memory, features, \n",
    "                        input_length=n_labels, \n",
    "                        name=\"ImgCDisLblEmb_1\")(in_labels)\n",
    "\n",
    "    # flat layer\n",
    "    cond2 = Flatten(name=\"ImgCDisLblFlat_2\")(cond1)\n",
    "    cond3 = Dense(lbl_neurons, activation=lbl_ly_actf, \n",
    "                    name=\"ImgCDisLblDense_3\")(cond2)\n",
    "    \n",
    "    # reshape layer\n",
    "    cond4 = Reshape(gen_reshape, name=\"ImgCDisLblReshape_4\")(cond3)\n",
    "\n",
    "    # transpose conv2D layers\n",
    "    cond5 = Conv2DTranspose(int(lbl_filters/8), kernel_size=ksize, \n",
    "                                strides=stsize, activation=lbl_ly_actf, \n",
    "                                padding=pad, name=\"ImgCDisLblConv2D_5\")(cond4)\n",
    "\n",
    "    # batch normalization + drop layers to avoid overfit\n",
    "    cond6 = BatchNormalization(name=\"ImgCDisLblBN_6\")(cond5)\n",
    "    cond7 = Dropout(hid_ldrop, name=\"ImgCDisLblDrop_7\")(cond6)\n",
    "\n",
    "    # trnaspose conv2D layers\n",
    "    cond8 = Conv2DTranspose(int(lbl_filters/4), kernel_size=ksize, \n",
    "                                strides=stsize, activation=lbl_ly_actf, \n",
    "                                padding=pad, name=\"ImgCDisLblConv2D_8\")(cond7)\n",
    "\n",
    "    # batch normalization + drop layers to avoid overfit\n",
    "    cond9 = BatchNormalization(name=\"ImgCDisLblBN_9\")(cond8)\n",
    "    cond10 = Dropout(hid_ldrop, name=\"ImgCDisLblDrop_10\")(cond9)\n",
    "\n",
    "    # conditional layer output\n",
    "    cond11 = Conv2DTranspose(img_shape[2], kernel_size=ksize, \n",
    "                                strides=stsize, activation=lbl_ly_actf, \n",
    "                                padding=pad, name=\"ImgCDisLblOut\")(cond10)\n",
    "\n",
    "    # LAYER CREATION\n",
    "    # input layer\n",
    "    in_img = Input(shape=img_shape, name=\"ImgCDisIn\")\n",
    "\n",
    "    lbl_concat = Concatenate(axis=-1, name=\"ImgCDisConcat\")([in_img, cond11])\n",
    "\n",
    "    # DISCRIMINATOR LAYERS\n",
    "    # intermediate conv layer\n",
    "    lyr1 = Conv2D(in_filters, kernel_size=in_ksize, \n",
    "                    padding=in_pad, activation=in_lyr_act, \n",
    "                    strides=in_stsize, name=\"ImgCDisConv2D_1\")(lbl_concat)\n",
    "\n",
    "    # intermediate conv layer\n",
    "    lyr2 = Conv2D(int(filters/2), kernel_size=ksize, \n",
    "                    padding=pad, activation=hid_lyr_act, \n",
    "                    strides=stsize, name=\"ImgCDisConv2D_2\")(lyr1)\n",
    "\n",
    "    # batch normalization + drop layers to avoid overfit\n",
    "    lyr3 = BatchNormalization(name=\"ImgCDisBN_3\")(lyr2)\n",
    "    lyr4 = Dropout(hid_ldrop, name=\"ImgCDisDrop_4\")(lyr3)\n",
    "\n",
    "    # intermediate conv layer\n",
    "    lyr5 = Conv2D(int(filters/4), kernel_size=ksize, \n",
    "                    padding=pad, activation=hid_lyr_act, \n",
    "                    strides=stsize, name=\"ImgCDisConv2D_5\")(lyr4)\n",
    "\n",
    "    # intermediate conv layer\n",
    "    lyr6 = Conv2D(int(filters/8), kernel_size=ksize, \n",
    "                    padding=pad, activation=hid_lyr_act, \n",
    "                    strides=stsize, name=\"ImgCDisConv2D_6\")(lyr5)\n",
    "\n",
    "    # batch normalization + drop layers to avoid overfit\n",
    "    lyr7 = BatchNormalization(name=\"ImgCDisBN_7\")(lyr6)\n",
    "    lyr8 = Dropout(hid_ldrop, name=\"ImgCDisDrop_8\")(lyr7)\n",
    "\n",
    "    # flatten from 2D to 1D\n",
    "    lyr9 = Flatten(name=\"ImgCDisFlat_9\")(lyr8)\n",
    "\n",
    "    # dense classifier layers\n",
    "    lyr10 = Dense(int(mid_disn), activation=hid_cls_act, name=\"ImgCDisDense_10\")(lyr9)\n",
    "    lyr11 = Dense(int(mid_disn/2), activation=hid_cls_act, name=\"ImgCDisDense_11\")(lyr10)\n",
    "    # drop layer\n",
    "    lyr12 = Dropout(hid_ldrop, name=\"ImgCDisDrop_12\")(lyr11)\n",
    "\n",
    "    # dense classifier layers\n",
    "    lyr13 = Dense(int(mid_disn/4), activation=hid_cls_act, name=\"ImgCDisDense_13\")(lyr12)\n",
    "    lyr14 = Dense(int(mid_disn/8), activation=hid_cls_act, name=\"ImgCDisDense_14\")(lyr13)\n",
    "    # drop layer\n",
    "    lyr15 = Dropout(hid_ldrop, name=\"ImgCDisDrop_15\")(lyr14)\n",
    "\n",
    "    # dense classifier layers\n",
    "    lyr16 = Dense(int(mid_disn/16), activation=hid_cls_act, name=\"ImgCDisDense_16\")(lyr15)\n",
    "    lyr17 = Dense(int(mid_disn/32), activation=hid_cls_act, name=\"ImgCDisDense_17\")(lyr16)\n",
    "\n",
    "    # output layer\n",
    "    out_cls = Dense(out_nsize, activation=out_lyr_act, name=\"ImgCDisOut\")(lyr17)\n",
    "\n",
    "    # MODEL DEFINITION\n",
    "    model = Model(inputs=[in_img, in_labels], outputs=out_cls)\n",
    "    return model"
   ]
  },
  {
   "cell_type": "code",
   "execution_count": 127,
   "metadata": {},
   "outputs": [],
   "source": [
    "def create_img_cgan(gen_model, dis_model, gan_cfg):\n",
    "\n",
    "    # getting GAN Config\n",
    "    ls = gan_cfg.get(\"loss\")\n",
    "    opt = gan_cfg.get(\"optimizer\")\n",
    "    met = gan_cfg.get(\"metrics\")\n",
    "\n",
    "    # make weights in the discriminator not trainable\n",
    "    dis_model.trainable = False\n",
    "    # get noise and label inputs from generator model\n",
    "    gen_noise, gen_labels = gen_model.input\n",
    "    # get image output from the generator model\n",
    "    gen_output = gen_model.output\n",
    "    # connect image output and label input from generator as inputs to discriminator\n",
    "    gan_output = dis_model([gen_output, gen_labels])\n",
    "    # define gan model as taking noise and label and outputting a classification\n",
    "    gan_model = Model([gen_noise, gen_labels], gan_output)\n",
    "    # compile model\n",
    "    gan_model.compile(loss=ls, optimizer=opt, metrics=met)\n",
    "    # cgan_model.compile(loss=gan_cfg[0], optimizer=gan_cfg[1])#, metrics=gan_cfg[2])\n",
    "    return gan_model"
   ]
  },
  {
   "source": [
    "## Multi GAN txt2img"
   ],
   "cell_type": "markdown",
   "metadata": {}
  },
  {
   "cell_type": "code",
   "execution_count": 128,
   "metadata": {},
   "outputs": [],
   "source": [
    "# LSTM + Conv discriminator for image and text\n",
    "# TODO need to implement this\n",
    "def create_multi_discriminator(img_shape, txt_shape, model_cfg):\n",
    "\n",
    "    # model definition\n",
    "    model = Model(inputs=[in_img, in_txt], outputs=out_cls)\n",
    "\n",
    "    return model"
   ]
  },
  {
   "cell_type": "code",
   "execution_count": 129,
   "metadata": {},
   "outputs": [],
   "source": [
    "# TODO need to implement this\n",
    "def create_multi_generator(img_shape, txt_shape, model_cfg):\n",
    "\n",
    "    # model definition\n",
    "    gen_model = Model(inputs=in_latent, outputs=[out_img, out_txt])\n",
    "    return model"
   ]
  },
  {
   "cell_type": "code",
   "execution_count": 130,
   "metadata": {},
   "outputs": [],
   "source": [
    "# TODO need to implement this\n",
    "def create_multi_gan(gen_model, dis_model, gan_cfg):\n",
    "\n",
    "    # getting GAN Config\n",
    "    ls = gan_cfg.get(\"loss\")\n",
    "    opt = gan_cfg.get(\"optimizer\")\n",
    "    met = gan_cfg.get(\"metrics\")\n",
    "\n",
    "    # make weights in the discriminator not trainable\n",
    "    cdis_model.trainable = False\n",
    "    # get noise and label inputs from generator model\n",
    "    gen_noise, gen_labels = cgen_model.input\n",
    "    # get image output from the generator model\n",
    "    gen_output = cgen_model.output\n",
    "    # connect image output and label input from generator as inputs to discriminator\n",
    "    gan_output = dis_model([gen_output, gen_labels])\n",
    "    # define gan model as taking noise and label and outputting a classification\n",
    "    gan_model = Model([gen_noise, gen_labels], gan_output)\n",
    "    # compile model\n",
    "    gan_model.compile(loss=gan_cfg[0], optimizer=gan_cfg[1], metrics=gan_cfg[2])\n",
    "    # cgan_model.compile(loss=gan_cfg[0], optimizer=gan_cfg[1])#, metrics=gan_cfg[2])\n",
    "    return gan_model"
   ]
  },
  {
   "source": [
    "## Multi CGAN txt2img"
   ],
   "cell_type": "markdown",
   "metadata": {}
  },
  {
   "cell_type": "code",
   "execution_count": 131,
   "metadata": {},
   "outputs": [],
   "source": [
    "def create_multi_cgenerator(latent_dims, img_shape, txt_shape, n_labels, model_cfg):\n",
    "\n",
    "    # MODEL CONFIG\n",
    "    # config for conditional labels\n",
    "    # print(\"=======================\\n\",model_cfg, \"=====================\")\n",
    "    memory = model_cfg.get(\"memory\")\n",
    "    features = model_cfg.get(\"features\")\n",
    "    lbl_neurons = model_cfg.get(\"labels_neurons\")\n",
    "    lbl_ly_actf = model_cfg.get(\"labels_lyr_activation\")\n",
    "    hid_ldrop = model_cfg.get(\"gen_dropout_rate\")\n",
    "\n",
    "    # def of the latent space size for the input\n",
    "    # input layer config, latent txt space\n",
    "    latent_nimg = model_cfg.get(\"latent_img_size\")\n",
    "    latent_features = model_cfg.get(\"latent_features\")\n",
    "    latent_filters = model_cfg.get(\"latent_filters\")\n",
    "    latent_dense = latent_features*latent_features*latent_filters\n",
    "    in_lyr_act = model_cfg.get(\"input_lyr_activation\")\n",
    "    latent_img_shape = model_cfg.get(\"latent_img_shape\")\n",
    "    mval = model_cfg.get(\"mask_value\")\n",
    "    in_rs = model_cfg.get(\"input_return_sequences\")\n",
    "    in_lstm = model_cfg.get(\"input_lstm_neurons\")\n",
    "\n",
    "    # hidden layer config\n",
    "    filters = model_cfg.get(\"filters\")\n",
    "    ksize = model_cfg.get(\"kernel_size\")\n",
    "    stsize = model_cfg.get(\"stride\")\n",
    "    pad = model_cfg.get(\"padding\")\n",
    "    hid_lyr_act = model_cfg.get(\"hidden_lyr_activation\")\n",
    "    rs = model_cfg.get(\"return_sequences\")\n",
    "    lstm_units = model_cfg.get(\"lstm_neurons\")\n",
    "    latent_ntxt = model_cfg.get(\"mid_gen_neurons\")\n",
    "    latent_txt_shape = model_cfg.get(\"latent_lstm_reshape\")\n",
    "    mem_shape = model_cfg.get(\"memory_shape\")\n",
    "    rs = model_cfg.get(\"hidden_return_sequences\")\n",
    "\n",
    "    # output layer condig\n",
    "    out_filters = model_cfg.get(\"output_filters\")\n",
    "    out_ksize = model_cfg.get(\"output_kernel_size\")\n",
    "    out_stsize = model_cfg.get(\"output_stride\")\n",
    "    out_pad = model_cfg.get(\"output_padding\")\n",
    "    img_shape = model_cfg.get(\"output_shape\")\n",
    "    out_lyr_act = model_cfg.get(\"output_lyr_activation\")\n",
    "    txt_shape = model_cfg.get(\"output_neurons\")\n",
    "    out_rs = model_cfg.get(\"output_return_sequences\")\n",
    "\n",
    "    # MODEL DEF\n",
    "    # CONDITIONAL LABELS LAYERS FOR IMG + TXT\n",
    "    # label input\n",
    "    in_labels = Input(shape=(n_labels,), name=\"MultiCGenLblIn\")\n",
    "    # embedding categorical textual input\n",
    "    cond1 = Embedding(memory, features, input_length=n_labels, name=\"MultiCGenLblEmb_1\")(in_labels)\n",
    "\n",
    "    # flat layer\n",
    "    cond2 = Flatten(name=\"MultiCGenLblFlat_2\")(cond1)\n",
    "\n",
    "    # dense layers\n",
    "    cond3 = Dense(int(lbl_neurons/2), activation=lbl_ly_actf, name=\"MultiCGenLblDense_3\")(cond2)\n",
    "\n",
    "    # batch normalization + drop layers to avoid overfit\n",
    "    cond4 = BatchNormalization(name=\"MultiCGenLblBN_4\")(cond3)\n",
    "    cond5 = Dropout(hid_ldrop, name=\"MultiCGenLblDrop_5\")(cond4)\n",
    "\n",
    "    # dense layer\n",
    "    cond6 = Dense(lbl_neurons, activation=lbl_ly_actf, name=\"MultiCGenLblDense_6\")(cond5)\n",
    "\n",
    "    # reshape layer\n",
    "    cond7 = Dense(latent_dims, activation=lbl_ly_actf, name=\"MultiCGenLblDense_7\")(cond6)\n",
    "\n",
    "    # GENERATOR DEFINITION\n",
    "    #LATENT LAYER CREATION\n",
    "    # input layer\n",
    "    in_latent = Input(shape=latent_dims, name=\"MultiCGenIn\")\n",
    "\n",
    "    # concat generator layers + label layers\n",
    "    lbl_concat = Concatenate(axis=-1, name=\"MultiCGenConcat\")([in_latent, cond7])\n",
    "\n",
    "    # Dense input layer\n",
    "    olyr1 = Dense(latent_dense, \n",
    "                    activation=hid_lyr_act, \n",
    "                    name= \"MultiCGenDense_1\")(lbl_concat) # contat!!!!\n",
    "\n",
    "    # dense to txt latent space\n",
    "    olyr2 = Dense(latent_ntxt, \n",
    "                activation=hid_lyr_act, \n",
    "                name=\"MultiCGenDense_2\")(olyr1)\n",
    "\n",
    "    # batch normalization + drop layers to avoid overfit\n",
    "    olyr3 = BatchNormalization(name=\"MultiCGenBN_3\")(olyr2)\n",
    "    olyr4 = Dropout(hid_ldrop, name=\"MultiCGenDrop_4\")(olyr3)\n",
    "\n",
    "    # reshape for LSTM layer\n",
    "    olyr5 = Reshape(latent_txt_shape, name=\"MultiCGenReshape_5\")(olyr4)\n",
    "\n",
    "    # intermediate recurrent layer for gen memory\n",
    "    olyr6 = LSTM(lstm_units, activation=in_lyr_act, \n",
    "                    input_shape=latent_txt_shape, \n",
    "                    return_sequences=rs, name=\"MultiCGenLSTM_6\")(olyr5)\n",
    "\n",
    "    # batch normalization + drop layers to avoid overfit\n",
    "    olyr7 = BatchNormalization(name=\"MultiCGenBN_7\")(olyr6)\n",
    "    olyr8 = Dropout(hid_ldrop, name=\"MultiCGenDrop_8\")(olyr7)\n",
    "\n",
    "    # flaten for latent img + txt space 2D to 1D\n",
    "    olyr9 = Flatten(name=\"ImgTxtCGenFlat_9\")(olyr8)\n",
    "\n",
    "    # dense layer for img reshape\n",
    "    olyr10 = Dense(latent_nimg, \n",
    "                activation=hid_lyr_act, \n",
    "                name=\"MultiCGenDense_10\")(olyr9)\n",
    "    \n",
    "    # dense layer for txt reshape\n",
    "    olyr11 = Dense(latent_ntxt, \n",
    "                activation=hid_lyr_act, \n",
    "                name=\"MultiCGenDense_11\")(olyr9)\n",
    "\n",
    "    # IMG GENERATOR\n",
    "    # reshape layer 1D-> 2D (rbg image)\n",
    "    ilyr5 = Reshape(latent_img_shape, name=\"ImgCGenReshape_5\")(olyr10)\n",
    "\n",
    "    # transpose conv2D layer\n",
    "    ilyr6 = Conv2DTranspose(filters, kernel_size=ksize, \n",
    "                            strides=stsize, activation=hid_lyr_act, \n",
    "                            padding=pad, name=\"ImgCGenConv2D_6\")(ilyr5)\n",
    "\n",
    "    # batch normalization + drop layers to avoid overfit\n",
    "    ilyr7 = BatchNormalization(name=\"ImgCGenBN_7\")(ilyr6)\n",
    "    ilyr8 = Dropout(hid_ldrop, name=\"ImgCGenDrop_8\")(ilyr7)\n",
    "\n",
    "    # transpose conv2D layer\n",
    "    ilyr9 = Conv2DTranspose(int(filters/2), kernel_size=ksize, \n",
    "                            strides=stsize, activation=hid_lyr_act, \n",
    "                            padding=pad, name=\"ImgCGenConv2D_9\")(ilyr8)\n",
    "\n",
    "    # transpose conv2D layer\n",
    "    ilyr10 = Conv2DTranspose(int(filters/4), kernel_size=ksize, \n",
    "                            strides=out_stsize, activation=out_lyr_act, \n",
    "                            padding=out_pad, name=\"ImgCGenConv2D_10\")(ilyr9)\n",
    "\n",
    "    # batch normalization + drop layers to avoid overfit\n",
    "    ilyr11 = BatchNormalization(name=\"ImgCGenBN_11\")(ilyr10)\n",
    "    ilyr12 = Dropout(hid_ldrop, name=\"ImgCGenDrop_12\")(ilyr11)\n",
    "\n",
    "    # transpose conv2D layer\n",
    "    ilyr13 = Conv2DTranspose(int(filters/8), kernel_size=ksize, \n",
    "                            strides=stsize, activation=hid_lyr_act, \n",
    "                            padding=pad, name=\"ImgCGenConv2D_13\")(ilyr12)\n",
    "\n",
    "    # output layer\n",
    "    out_img = Conv2D(out_filters, kernel_size=out_ksize, \n",
    "                        strides=out_stsize, activation=out_lyr_act, \n",
    "                        padding=out_pad, input_shape=img_shape, \n",
    "                        name=\"ImgCGenOut\")(ilyr13)\n",
    "\n",
    "    # TXT GENERATOR\n",
    "    # reshape layer 1D-> 2D (descriptive txt)\n",
    "    tlyr6 = Reshape(latent_txt_shape, name=\"TxtCGenReshape_6\")(olyr11)\n",
    "\n",
    "    # batch normalization + drop layers to avoid overfit\n",
    "    tlyr7 = BatchNormalization(name=\"TxtCGenBN_7\")(tlyr6)\n",
    "    tlyr8 = Dropout(hid_ldrop, name=\"TxtCGenDrop_8\")(tlyr7)\n",
    "\n",
    "    # intermediate recurrent layer\n",
    "    tlyr9 = LSTM(int(lstm_units/4), activation=hid_lyr_act, \n",
    "                    input_shape=mem_shape, \n",
    "                    return_sequences=rs, \n",
    "                    name=\"TxtCGenLSTM_9\")(tlyr8)\n",
    "\n",
    "    # intermediate recurrent layer\n",
    "    tlyr10 = LSTM(int(lstm_units/2), activation=hid_lyr_act, \n",
    "                    input_shape=mem_shape, \n",
    "                    return_sequences=rs, \n",
    "                    name=\"TxtCGenLSTM_10\")(tlyr9)\n",
    "\n",
    "    # batch normalization + drop layers to avoid overfit\n",
    "    tlyr11 = BatchNormalization(name=\"TxtCGenBN_11\")(tlyr10)\n",
    "    tlyr12 = Dropout(hid_ldrop, name=\"TxtCGenDrop_12\")(tlyr11)\n",
    "\n",
    "    # output layer, dense time sequential layer.\n",
    "    tlyr13 = LSTM(lstm_units, activation=hid_lyr_act, \n",
    "                    input_shape=mem_shape, \n",
    "                    return_sequences=rs, \n",
    "                    name=\"TxtCGenLSTM_13\")(tlyr12)\n",
    "\n",
    "    out_txt = TimeDistributed(Dense(txt_shape, activation=out_lyr_act), name = \"TxtCGenOut\")(tlyr13)\n",
    "\n",
    "    # MODEL DEFINITION\n",
    "    model = Model(inputs=[in_latent, in_labels], outputs=[out_img, out_txt])\n",
    "\n",
    "    return model"
   ]
  },
  {
   "cell_type": "code",
   "execution_count": 132,
   "metadata": {},
   "outputs": [],
   "source": [
    "# LSTM + Conv conditianal discriminator for text and images\n",
    "def create_multi_cdiscriminator(img_shape, txt_shape, n_labels, model_cfg):\n",
    "\n",
    "    # MODEL CONFIG\n",
    "    # config for txt + img conditional labels\n",
    "    memory = model_cfg.get(\"timesteps\")\n",
    "    features = model_cfg.get(\"max_features\")\n",
    "    lbl_neurons = model_cfg.get(\"labels_neurons\")\n",
    "    lbl_ly_actf = model_cfg.get(\"labels_lyr_activation\")\n",
    "    lbl_filters = model_cfg.get(\"labels_filters\")\n",
    "    lbl_ksize = model_cfg.get(\"labels_kernel_size\")\n",
    "    lbl_stsize = model_cfg.get(\"labels_stride\")\n",
    "    lbl_lstm = model_cfg.get(\"labels_lstm_neurons\")\n",
    "    lbl_rs = model_cfg.get(\"labels_return_sequences\")\n",
    "    dis_img_reshape = model_cfg.get(\"labels_img_reshape\")\n",
    "    dis_txt_reshape = model_cfg.get(\"labels_txt_reshape\")\n",
    "\n",
    "    # input layer config for image classification\n",
    "    in_lyr_act = model_cfg.get(\"input_lyr_activation\")\n",
    "    in_filters = model_cfg.get(\"input_filters\")\n",
    "    in_ksize = model_cfg.get(\"input_kernel_size\")\n",
    "    in_stsize = model_cfg.get(\"input_stride\")\n",
    "    in_pad = model_cfg.get(\"input_padding\")\n",
    "\n",
    "    # input layer config for txt classification\n",
    "    mval = model_cfg.get(\"mask_value\")\n",
    "    in_rs = model_cfg.get(\"input_return_sequences\")\n",
    "    in_lstm = model_cfg.get(\"input_lstm_neurons\")\n",
    "    in_lyr_act = model_cfg.get(\"input_lyr_activation\")\n",
    "\n",
    "    # encoding hidden layer config for image classification\n",
    "    filters = model_cfg.get(\"filters\")\n",
    "    ksize = model_cfg.get(\"kernel_size\")\n",
    "    stsize = model_cfg.get(\"stride\")\n",
    "    pad = model_cfg.get(\"padding\")\n",
    "    hid_lyr_act = model_cfg.get(\"hidden_lyr_activation\")\n",
    "    hid_ldrop = model_cfg.get(\"dis_dropout_rate\")\n",
    "\n",
    "    # encoding hidden layer config for text classification\n",
    "    lstm_units = model_cfg.get(\"lstm_neurons\")\n",
    "    mem_shape = model_cfg.get(\"memory_shape\")\n",
    "    rs = model_cfg.get(\"hidden_return_sequences\")\n",
    "\n",
    "    # mid classification config\n",
    "    mid_disn = model_cfg.get(\"mid_dis_neurons\")\n",
    "    hid_cls_act = model_cfg.get(\"dense_cls_activation\")\n",
    "\n",
    "    # output layer config\n",
    "    out_nsize = model_cfg.get(\"output_dis_neurons\")\n",
    "    out_lyr_act = model_cfg.get(\"output_lyr_activation\")\n",
    "\n",
    "    # IMG/TXT LABELS CONDITIONAL LAYERS\n",
    "    # labels input\n",
    "    in_labels = Input(shape=(n_labels,), \n",
    "                        name=\"MultiCDisLblIn\")\n",
    "\n",
    "    # embedding categorical textual input\n",
    "    cond1 = Embedding(memory, features, \n",
    "                        input_length=n_labels, \n",
    "                        name=\"MultiCDisLblEmb_1\")(in_labels)\n",
    "\n",
    "    # flat layer\n",
    "    cond2 = Flatten(name=\"MultiCDisLblFlat_2\")(cond1)\n",
    "    # img dense layer\n",
    "    cond3 = Dense(lbl_neurons, activation=lbl_ly_actf, \n",
    "                    name=\"MultiCDisLblDense_3\")(cond2)\n",
    "    \n",
    "    # image reshape layer\n",
    "    cond4i = Reshape(dis_img_reshape, name=\"ImgCDisLblReshape_4\")(cond3)\n",
    "\n",
    "    # txt dense layer\n",
    "    cond5 = Dense(int(memory*features), activation=lbl_ly_actf, \n",
    "                    name=\"MultiCDisLblDense_5\")(cond2)\n",
    "    # txt reshape layer\n",
    "    cond6t = Reshape(dis_txt_reshape, name=\"TxtCDisLblReshape_6\")(cond5)\n",
    "\n",
    "    # transpose conv2D layer for img\n",
    "    cond7 = Conv2DTranspose(int(lbl_filters), kernel_size=ksize, \n",
    "                                strides=stsize, activation=lbl_ly_actf, \n",
    "                                padding=pad, name=\"ImgCDisLblConv2D_7\")(cond4i)\n",
    "\n",
    "    # batch normalization + drop layers to avoid overfit for img\n",
    "    cond8 = BatchNormalization(name=\"ImgCDisLblBN_8\")(cond7)\n",
    "    cond9 = Dropout(hid_ldrop, name=\"ImgCDisLblDrop_9\")(cond8)\n",
    "\n",
    "    # transpose conv2D layers for img\n",
    "    cond10 = Conv2DTranspose(int(lbl_filters), kernel_size=ksize, \n",
    "                                strides=stsize, activation=lbl_ly_actf, \n",
    "                                padding=pad, name=\"ImgCDisLblConv2D_10\")(cond9)\n",
    "\n",
    "    # batch normalization + drop layers to avoid overfit for img\n",
    "    cond11 = BatchNormalization(name=\"ImgCDisLblBN_11\")(cond10)\n",
    "    cond12 = Dropout(hid_ldrop, name=\"ImgCDisLblDrop_12\")(cond11)\n",
    "\n",
    "    # conditional layer output for img\n",
    "    cond13 = Conv2DTranspose(img_shape[2], kernel_size=ksize, \n",
    "                                strides=stsize, activation=lbl_ly_actf, \n",
    "                                padding=pad, name=\"ImgCDisLblOut\")(cond12)\n",
    "\n",
    "    # intermediate LSTM layer for text\n",
    "    cond14 = LSTM(int(lbl_lstm), \n",
    "                activation=lbl_ly_actf, \n",
    "                input_shape=mem_shape, \n",
    "                return_sequences=lbl_rs, \n",
    "                name=\"TxtCDisLblLSTM_14\")(cond6t)\n",
    "\n",
    "    # batch normalization + drop layers to avoid overfit for img\n",
    "    cond15 = BatchNormalization(name=\"TxtCDisLblBN_15\")(cond14)\n",
    "    cond16 = Dropout(hid_ldrop, name=\"TxtCDisLblDrop_16\")(cond15)\n",
    "\n",
    "    # intermediate LSTM layer for text\n",
    "    cond17 = LSTM(lbl_lstm, \n",
    "                activation=lbl_ly_actf, \n",
    "                input_shape=mem_shape, \n",
    "                return_sequences=lbl_rs, \n",
    "                name=\"TxtCDisLblLSTM_17\")(cond16)\n",
    "\n",
    "    # LAYER CREATION\n",
    "    # input layer\n",
    "    in_img = Input(shape=img_shape, name=\"CDisImgIn\")\n",
    "\n",
    "    concat_img = Concatenate(axis=-1, name=\"ImgCDisConcat_19\")([in_img, cond13])\n",
    "\n",
    "    # DISCRIMINATOR LAYERS\n",
    "    # intermediate conv layer\n",
    "    lyr1 = Conv2D(in_filters, kernel_size=in_ksize, \n",
    "                    padding=in_pad, activation=in_lyr_act, \n",
    "                    strides=in_stsize, name=\"ImgCDisConv2D_20\")(concat_img)\n",
    "\n",
    "    # intermediate conv layer\n",
    "    lyr2 = Conv2D(int(filters/2), kernel_size=ksize, \n",
    "                    padding=pad, activation=hid_lyr_act, \n",
    "                    strides=stsize, name=\"ImgCDisConv2D_21\")(lyr1)\n",
    "\n",
    "    # batch normalization + drop layers to avoid overfit\n",
    "    lyr3 = BatchNormalization(name=\"ImgCDisBN_22\")(lyr2)\n",
    "    lyr4 = Dropout(hid_ldrop, name=\"ImgCDisDrop_23\")(lyr3)\n",
    "\n",
    "    # intermediate conv layer\n",
    "    lyr5 = Conv2D(int(filters/4), kernel_size=ksize, \n",
    "                    padding=pad, activation=hid_lyr_act, \n",
    "                    strides=stsize, name=\"ImgCDisConv2D_24\")(lyr4)\n",
    "\n",
    "    # intermediate conv layer\n",
    "    lyr6 = Conv2D(int(filters/8), kernel_size=ksize, \n",
    "                    padding=pad, activation=hid_lyr_act, \n",
    "                    strides=stsize, name=\"ImgCDisConv2D_25\")(lyr5)\n",
    "\n",
    "    # batch normalization + drop layers to avoid overfit\n",
    "    lyr7 = BatchNormalization(name=\"ImgCDisBN_26\")(lyr6)\n",
    "    lyr8 = Dropout(hid_ldrop, name=\"ImgCDisDrop_27\")(lyr7)\n",
    "\n",
    "    # flatten from 2D to 1D\n",
    "    lyr9 = Flatten(name=\"ImgCDisFlat_28\")(lyr8)\n",
    "\n",
    "    #TXT DISCRIMINATOR\n",
    "    # LAYER CREATION\n",
    "    # input layer\n",
    "    in_txt = Input(shape=txt_shape, name=\"CDisTxtIn\")\n",
    "\n",
    "    # concat txt input with labels conditional\n",
    "    concat_txt = Concatenate(axis=-1, name=\"TxtCDisConcat_30\")([in_txt, cond17])\n",
    "\n",
    "    # DISCRIMINATOR LAYERS\n",
    "    # masking input text\n",
    "    lyr10 = Masking(mask_value=mval, input_shape=txt_shape, \n",
    "                    name = \"TxtCDisMask_31\")(concat_txt) # concat1\n",
    "\n",
    "    # input LSTM layer\n",
    "    lyr11 = LSTM(in_lstm, activation=in_lyr_act, \n",
    "                    input_shape=txt_shape, \n",
    "                    return_sequences=in_rs, \n",
    "                    name=\"TxtCDisLSTM_32\")(lyr10)\n",
    "\n",
    "    # batch normalization + drop layers to avoid overfit\n",
    "    lyr12 = BatchNormalization(name=\"TxtCDisBN_33\")(lyr11)\n",
    "    lyr13 = Dropout(hid_ldrop, name=\"TxCtDisDrop_34\")(lyr12)\n",
    "\n",
    "    # intermediate LSTM layer\n",
    "    lyr14 = LSTM(int(lstm_units/2), \n",
    "                activation=hid_lyr_act, \n",
    "                input_shape=mem_shape, \n",
    "                return_sequences=rs, \n",
    "                name=\"TxtCDisLSTM_35\")(lyr13)\n",
    "\n",
    "    # intermediate LSTM layer\n",
    "    lyr15 = LSTM(int(lstm_units/4), \n",
    "                activation=hid_lyr_act, \n",
    "                input_shape=mem_shape, \n",
    "                return_sequences=rs, \n",
    "                name=\"TxtCDisLSTM_36\")(lyr14)\n",
    "\n",
    "    # batch normalization + drop layers to avoid overfit\n",
    "    lyr16 = BatchNormalization(name=\"TxtCDisBN_37\")(lyr15)\n",
    "    lyr17 = Dropout(hid_ldrop, name=\"TxtCDisDrop_38\")(lyr16)\n",
    "\n",
    "    # flatten from 2D to 1D\n",
    "    lyr18 = Flatten(name=\"TxtCDisFlat_39\")(lyr17)\n",
    "\n",
    "    # concat img encoding + txt encoding\n",
    "    concat_encoding = Concatenate(axis=-1, name=\"MultiCDisConcat_40\")([lyr18, lyr9])\n",
    "\n",
    "    # dense classifier layers\n",
    "    lyr19 = Dense(int(mid_disn), activation=hid_cls_act, name=\"MultiCDisDense_41\")(concat_encoding)\n",
    "    lyr20 = Dense(int(mid_disn/2), activation=hid_cls_act, name=\"MultiCDisDense_42\")(lyr19)\n",
    "    # drop layer\n",
    "    lyr21 = Dropout(hid_ldrop, name=\"MultiCDisDrop_43\")(lyr20)\n",
    "\n",
    "    # dense classifier layers\n",
    "    lyr22 = Dense(int(mid_disn/4), activation=hid_cls_act, name=\"MultiCDisDense_44\")(lyr21)\n",
    "    lyr23 = Dense(int(mid_disn/8), activation=hid_cls_act, name=\"MultiCDisDense_45\")(lyr22)\n",
    "    # drop layer\n",
    "    lyr24 = Dropout(hid_ldrop, name=\"MultiCDisDrop_46\")(lyr23)\n",
    "\n",
    "    # dense classifier layers\n",
    "    lyr25 = Dense(int(mid_disn/16), activation=hid_cls_act, name=\"MultiCDisDense_47\")(lyr24)\n",
    "    lyr26 = Dense(int(mid_disn/32), activation=hid_cls_act, name=\"MultiCDisDense_48\")(lyr25)\n",
    "\n",
    "    # output layer\n",
    "    out_cls = Dense(out_nsize, activation=out_lyr_act, name=\"MultiCDisOut\")(lyr26)\n",
    "\n",
    "    # model definition\n",
    "    model = Model(inputs=[in_img, in_txt, in_labels], outputs=out_cls)\n",
    "\n",
    "    return model"
   ]
  },
  {
   "cell_type": "code",
   "execution_count": 133,
   "metadata": {},
   "outputs": [],
   "source": [
    "def create_multi_cgan(gen_model, dis_model, gan_cfg):\n",
    "\n",
    "    # getting GAN Config\n",
    "    ls = gan_cfg.get(\"loss\")\n",
    "    opt = gan_cfg.get(\"optimizer\")\n",
    "    met = gan_cfg.get(\"metrics\")\n",
    "\n",
    "    # make weights in the discriminator not trainable\n",
    "    dis_model.trainable = False\n",
    "    # get noise and label inputs from generator model\n",
    "    gen_noise, gen_labels = gen_model.input\n",
    "    # get image output from the generator model\n",
    "    gen_img, gen_txt = gen_model.output\n",
    "    # connect image output and label input from generator as inputs to discriminator\n",
    "    gan_output = dis_model([gen_img, gen_txt, gen_labels])\n",
    "    # define gan model as taking noise and label and outputting a classification\n",
    "    gan_model = Model([gen_noise, gen_labels], gan_output)\n",
    "    # compile model\n",
    "    gan_model.compile(loss=ls, optimizer=opt, metrics=met)\n",
    "    # cgan_model.compile(loss=gan_cfg[0], optimizer=gan_cfg[1])#, metrics=gan_cfg[2])\n",
    "    return gan_model"
   ]
  },
  {
   "source": [
    "## ML Models Configuration\n",
    "### GAN-img definition"
   ],
   "cell_type": "markdown",
   "metadata": {}
  },
  {
   "cell_type": "code",
   "execution_count": 134,
   "metadata": {},
   "outputs": [],
   "source": [
    "REF_KERNEL_SIZE =(4,4) #(4,4)\n",
    "REF_FILTERS = 128*8\n",
    "REF_LSTM = 400\n",
    "\n",
    "# common variables for the models\n",
    "# input common vars\n",
    "input_filters = REF_FILTERS\n",
    "input_kernel_size = REF_KERNEL_SIZE\n",
    "input_stride = (2,2)\n",
    "input_padding = \"same\"\n",
    "input_lstm_neurons = REF_LSTM\n",
    "mask_value = 0.0\n",
    "input_return_sequences = True\n",
    "\n",
    "# latent and conditional label common vars\n",
    "# def of the latent space size for the input\n",
    "latent_features = 8 # 5 # model_cfg.get(\"latent_features\")\n",
    "latent_filters = REF_FILTERS # 128 # model_cfg.get(\"latent_filters\")\n",
    "latent_lstm_reshape = X_txt[0].shape\n",
    "memory_shape = X_txt[0].shape\n",
    "labels_neurons = timesteps*X_txt.shape[2]\n",
    "latent_img_size = 8*8*REF_FILTERS # 50*50*8 # 32*32*3, # 5*5*128 #\n",
    "latent_img_shape = (8,8,REF_FILTERS) # (50,50,8) # (32,32,3), # (5,5,128) # \n",
    "labels_img_neurons =  8*8*REF_FILTERS # 50*50*3\n",
    "labels_filters = REF_FILTERS\n",
    "labels_kernel_size = REF_KERNEL_SIZE\n",
    "labels_stride = (2,2)\n",
    "labels_reshape = (50,50,3)\n",
    "labels_lstm_neurons = REF_LSTM\n",
    "labels_return_sequences = True\n",
    "labels_txt_reshape = X_txt[0].shape\n",
    "\n",
    "\n",
    "# hidden common vars\n",
    "lstm_neurons = REF_LSTM\n",
    "filters = REF_FILTERS\n",
    "kernel_size = (4,4)\n",
    "stride = (2,2)\n",
    "padding = \"same\"\n",
    "gen_dropout_rate = 0.3\n",
    "mid_txt_gen_neurons = X_txt.shape[1]*X_txt.shape[2]\n",
    "hidden_return_sequences = True\n",
    "dis_dropout_rate = 0.2\n",
    "mid_dis_neurons = 50*50*2 # 32*32*3,\n",
    "\n",
    "# output common vars\n",
    "output_neurons = X_txt.shape[2]\n",
    "output_txt_shape = X_txt[0].shape\n",
    "output_gen_lyr_activation = \"tanh\"\n",
    "output_return_sequences = True\n",
    "output_filters = X_img[0].shape[2]\n",
    "output_kernel_size = (3,3)\n",
    "output_stride = (1,1)\n",
    "output_img_shape = X_img[0].shape\n",
    "output_dis_neurons = 1\n",
    "output_dis_lyr_activation = \"sigmoid\"\n",
    "\n",
    "# looss qnd activation functions functions\n",
    "DIS_OPTI_REF = Adam(learning_rate=0.00005, beta_1=0.5)\n",
    "GEN_OPTI_REF = Adam(learning_rate=0.0002, beta_1=0.5)\n",
    "LOSS_REF = \"binary_crossentropy\"\n",
    "ACC_REF = [\"accuracy\"]\n",
    "ACT_REF = LeakyReLU(alpha=0.2)"
   ]
  },
  {
   "cell_type": "code",
   "execution_count": 135,
   "metadata": {},
   "outputs": [
    {
     "output_type": "stream",
     "name": "stdout",
     "text": [
      "GAN-img Generator Config:\n {'latent_features': 8, 'latent_filters': 1024, 'mask_value': 0.0, 'return_sequences': True, 'lstm_neurons': 400, 'latent_img_size': 65536, 'input_lyr_activation': <tensorflow.python.keras.layers.advanced_activations.LeakyReLU object at 0x000002648616CDF0>, 'latent_img_shape': (8, 8, 1024), 'filters': 1024, 'kernel_size': (4, 4), 'stride': (2, 2), 'padding': 'same', 'hidden_lyr_activation': <tensorflow.python.keras.layers.advanced_activations.LeakyReLU object at 0x000002648616CDF0>, 'gen_dropout_rate': 0.3, 'output_filters': 3, 'output_kernel_size': (3, 3), 'output_stride': (1, 1), 'output_padding': 'same', 'output_shape': (256, 256, 3), 'output_lyr_activation': 'tanh'}\n"
     ]
    }
   ],
   "source": [
    "# img generator config\n",
    "img_gen_cfg = {\n",
    "    \"latent_features\": latent_features,\n",
    "    \"latent_filters\": latent_filters,\n",
    "    \"mask_value\": mask_value,\n",
    "    \"return_sequences\": True,\n",
    "    \"lstm_neurons\": lstm_neurons,\n",
    "    \"latent_img_size\": latent_img_size,\n",
    "    \"input_lyr_activation\": ACT_REF,\n",
    "    \"latent_img_shape\": latent_img_shape,\n",
    "    \"filters\": filters, \n",
    "    \"kernel_size\": kernel_size,\n",
    "    \"stride\": stride,\n",
    "    \"padding\": padding,\n",
    "    \"hidden_lyr_activation\": ACT_REF,\n",
    "    \"gen_dropout_rate\": gen_dropout_rate,\n",
    "    \"output_filters\": output_filters,\n",
    "    \"output_kernel_size\": output_kernel_size,\n",
    "    \"output_stride\": output_stride,\n",
    "    \"output_padding\": padding,\n",
    "    \"output_shape\": output_img_shape,\n",
    "    \"output_lyr_activation\": output_gen_lyr_activation,\n",
    "    }\n",
    "\n",
    "print(\"GAN-img Generator Config:\\n\", img_gen_cfg)"
   ]
  },
  {
   "cell_type": "code",
   "execution_count": 136,
   "metadata": {},
   "outputs": [
    {
     "output_type": "stream",
     "name": "stdout",
     "text": [
      "GAN-img Discriminator Config:\n {'input_lyr_activation': <tensorflow.python.keras.layers.advanced_activations.LeakyReLU object at 0x000002648616CDF0>, 'input_filters': 1024, 'input_kernel_size': (5, 5), 'input_stride': (2, 2), 'input_padding': 'same', 'filters': 1024, 'kernel_size': (4, 4), 'stride': (2, 2), 'padding': 'same', 'hidden_lyr_activation': <tensorflow.python.keras.layers.advanced_activations.LeakyReLU object at 0x000002648616CDF0>, 'dis_dropout_rate': 0.2, 'mid_dis_neurons': 5000, 'dense_cls_activation': <tensorflow.python.keras.layers.advanced_activations.LeakyReLU object at 0x000002648616CDF0>, 'output_dis_neurons': 1, 'output_lyr_activation': 'sigmoid', 'loss': 'binary_crossentropy', 'optimizer': <tensorflow.python.keras.optimizer_v2.adam.Adam object at 0x000002648616CA00>, 'metrics': ['accuracy']}\n"
     ]
    }
   ],
   "source": [
    "# img discriminator config\n",
    "img_dis_cfg = {\n",
    "    \"input_lyr_activation\": ACT_REF,\n",
    "    \"input_filters\": input_filters,\n",
    "    \"input_kernel_size\": input_kernel_size,\n",
    "    \"input_stride\": input_stride,\n",
    "    \"input_padding\": input_padding,\n",
    "    \"filters\": filters,\n",
    "    \"kernel_size\": kernel_size,\n",
    "    \"stride\": stride,\n",
    "    \"padding\": padding,\n",
    "    \"hidden_lyr_activation\": ACT_REF,\n",
    "    \"dis_dropout_rate\": dis_dropout_rate,\n",
    "    \"mid_dis_neurons\": mid_dis_neurons,\n",
    "    \"dense_cls_activation\": ACT_REF,\n",
    "    \"output_dis_neurons\": output_dis_neurons,\n",
    "    \"output_lyr_activation\": output_dis_lyr_activation,\n",
    "    \"loss\": LOSS_REF,\n",
    "    \"optimizer\": DIS_OPTI_REF,\n",
    "    \"metrics\": ACC_REF,\n",
    "    }\n",
    "\n",
    "print(\"GAN-img Discriminator Config:\\n\", img_dis_cfg)"
   ]
  },
  {
   "cell_type": "code",
   "execution_count": 137,
   "metadata": {},
   "outputs": [
    {
     "output_type": "stream",
     "name": "stdout",
     "text": [
      "GAN-img Config:\n {'loss': 'binary_crossentropy', 'optimizer': <tensorflow.python.keras.optimizer_v2.adam.Adam object at 0x000002648616C970>, 'metrics': ['accuracy']}\n"
     ]
    }
   ],
   "source": [
    "# img GAN config\n",
    "gan_cfg = {\n",
    "    \"loss\": LOSS_REF,\n",
    "    \"optimizer\": GEN_OPTI_REF,\n",
    "    \"metrics\": ACC_REF,\n",
    "    }\n",
    "\n",
    "print(\"GAN-img Config:\\n\", gan_cfg)"
   ]
  },
  {
   "source": [
    "### GAN-txt definition"
   ],
   "cell_type": "markdown",
   "metadata": {}
  },
  {
   "cell_type": "code",
   "execution_count": 138,
   "metadata": {},
   "outputs": [
    {
     "output_type": "stream",
     "name": "stdout",
     "text": [
      "GAN-txt Generator Config:\n {'mask_value': 0.0, 'input_return_sequences': True, 'input_lstm_neurons': 400, 'input_lyr_activation': <tensorflow.python.keras.layers.advanced_activations.LeakyReLU object at 0x00000264872BB8B0>, 'mid_gen_neurons': 2130, 'lstm_neurons': 400, 'hidden_lyr_activation': <tensorflow.python.keras.layers.advanced_activations.LeakyReLU object at 0x00000264872BB610>, 'hidden_return_sequences': True, 'gen_dropout_rate': 0.3, 'latent_lstm_reshape': (15, 142), 'memory_shape': (15, 142), 'output_neurons': 142, 'output_shape': (15, 142), 'output_lyr_activation': 'tanh', 'output_return_sequences': True}\n"
     ]
    }
   ],
   "source": [
    "# txt generator config\n",
    "txt_gen_cfg = {\n",
    "    \"mask_value\": mask_value,\n",
    "    \"input_return_sequences\": input_return_sequences,\n",
    "    \"input_lstm_neurons\": input_lstm_neurons,\n",
    "    \"input_lyr_activation\": LeakyReLU(alpha=0.2),\n",
    "    \"mid_gen_neurons\": mid_txt_gen_neurons,\n",
    "    \"lstm_neurons\": lstm_neurons,\n",
    "    \"hidden_lyr_activation\": LeakyReLU(alpha=0.2),\n",
    "    \"hidden_return_sequences\": hidden_return_sequences,\n",
    "    \"gen_dropout_rate\": gen_dropout_rate,\n",
    "    \"latent_lstm_reshape\": latent_lstm_reshape,\n",
    "    \"memory_shape\": memory_shape,\n",
    "    \"output_neurons\": output_neurons,\n",
    "    \"output_shape\": output_txt_shape,\n",
    "    \"output_lyr_activation\": output_gen_lyr_activation,\n",
    "    \"output_return_sequences\": output_return_sequences,\n",
    "    }\n",
    "\n",
    "print(\"GAN-txt Generator Config:\\n\", txt_gen_cfg)"
   ]
  },
  {
   "cell_type": "code",
   "execution_count": 139,
   "metadata": {},
   "outputs": [
    {
     "output_type": "stream",
     "name": "stdout",
     "text": [
      "GAN-txt Discriminator Config:\n {'mask_value': 0.0, 'input_return_sequences': True, 'input_lstm_neurons': 400, 'input_lyr_activation': <tensorflow.python.keras.layers.advanced_activations.LeakyReLU object at 0x000002645D540F70>, 'lstm_neurons': 400, 'hidden_lyr_activation': <tensorflow.python.keras.layers.advanced_activations.LeakyReLU object at 0x00000264878C9D60>, 'hidden_return_sequences': True, 'memory_shape': (15, 142), 'dis_dropout_rate': 0.2, 'mid_dis_neurons': 2130, 'dense_cls_activation': <tensorflow.python.keras.layers.advanced_activations.LeakyReLU object at 0x00000264872B8FA0>, 'output_dis_neurons': 1, 'output_lyr_activation': 'sigmoid', 'loss': 'binary_crossentropy', 'optimizer': <tensorflow.python.keras.optimizer_v2.adam.Adam object at 0x0000026487864520>, 'metrics': ['accuracy']}\n"
     ]
    }
   ],
   "source": [
    "# txt discriminator config\n",
    "txt_dis_cfg = {\n",
    "    \"mask_value\": mask_value,\n",
    "    \"input_return_sequences\": input_return_sequences,\n",
    "    \"input_lstm_neurons\": input_lstm_neurons,\n",
    "    \"input_lyr_activation\": LeakyReLU(alpha=0.2),\n",
    "    \"lstm_neurons\": lstm_neurons,\n",
    "    \"hidden_lyr_activation\": LeakyReLU(alpha=0.2),\n",
    "    \"hidden_return_sequences\": hidden_return_sequences,\n",
    "    \"hidden_lyr_activation\": LeakyReLU(alpha=0.2),\n",
    "    \"memory_shape\": memory_shape,\n",
    "    \"dis_dropout_rate\": dis_dropout_rate,\n",
    "    \"mid_dis_neurons\": mid_txt_gen_neurons,\n",
    "    \"dense_cls_activation\": LeakyReLU(alpha=0.2),\n",
    "    \"output_dis_neurons\": output_dis_neurons,\n",
    "    \"output_lyr_activation\": output_dis_lyr_activation,\n",
    "    \"loss\": \"binary_crossentropy\",\n",
    "    \"optimizer\": Adam(learning_rate=0.000005, beta_1=0.5),\n",
    "    \"metrics\": [\"accuracy\"],\n",
    "    }\n",
    "\n",
    "print(\"GAN-txt Discriminator Config:\\n\", txt_dis_cfg)"
   ]
  },
  {
   "source": [
    "### CGAN-img definition"
   ],
   "cell_type": "markdown",
   "metadata": {}
  },
  {
   "cell_type": "code",
   "execution_count": 140,
   "metadata": {},
   "outputs": [
    {
     "output_type": "stream",
     "name": "stdout",
     "text": [
      "CGAN-img Generator Config:\n {'latent_features': 8, 'latent_filters': 1024, 'memory': 15, 'features': 142, 'mask_value': 0.0, 'latent_img_size': 65536, 'input_lyr_activation': <tensorflow.python.keras.layers.advanced_activations.LeakyReLU object at 0x00000264861701C0>, 'latent_img_shape': (8, 8, 1024), 'filters': 1024, 'kernel_size': (4, 4), 'stride': (2, 2), 'padding': 'same', 'hidden_lyr_activation': <tensorflow.python.keras.layers.advanced_activations.LeakyReLU object at 0x0000026486170A30>, 'gen_dropout_rate': 0.3, 'output_filters': 3, 'output_kernel_size': (3, 3), 'output_stride': (1, 1), 'output_padding': 'same', 'output_shape': (256, 256, 3), 'output_lyr_activation': 'tanh', 'labels_neurons': 2130, 'labels_lyr_activation': <tensorflow.python.keras.layers.advanced_activations.LeakyReLU object at 0x0000026486170AF0>}\n"
     ]
    }
   ],
   "source": [
    "img_cgen_cfg = {\n",
    "    \"latent_features\": latent_features,\n",
    "    \"latent_filters\": latent_filters,\n",
    "    \"memory\": memory_shape[0],\n",
    "    \"features\": memory_shape[1],\n",
    "    \"mask_value\": mask_value,\n",
    "    \"latent_img_size\": latent_img_size,\n",
    "    \"input_lyr_activation\": LeakyReLU(alpha=0.2),\n",
    "    \"latent_img_shape\": latent_img_shape,\n",
    "    \"filters\": filters, \n",
    "    \"kernel_size\": kernel_size,\n",
    "    \"stride\": stride,\n",
    "    \"padding\": padding,\n",
    "    \"hidden_lyr_activation\": LeakyReLU(alpha=0.2),\n",
    "    \"gen_dropout_rate\": gen_dropout_rate,\n",
    "    \"output_filters\": output_filters,\n",
    "    \"output_kernel_size\": output_kernel_size,\n",
    "    \"output_stride\": output_stride,\n",
    "    \"output_padding\": padding,\n",
    "    \"output_shape\": output_img_shape,\n",
    "    \"output_lyr_activation\": output_gen_lyr_activation,\n",
    "    \"labels_neurons\": labels_neurons,\n",
    "    \"labels_lyr_activation\": LeakyReLU(alpha=0.2),\n",
    "    }\n",
    "\n",
    "print(\"CGAN-img Generator Config:\\n\", img_cgen_cfg)"
   ]
  },
  {
   "cell_type": "code",
   "execution_count": 141,
   "metadata": {},
   "outputs": [
    {
     "output_type": "stream",
     "name": "stdout",
     "text": [
      "CGAN-img Generator Config:\n {'input_lyr_activation': <tensorflow.python.keras.layers.advanced_activations.LeakyReLU object at 0x000002648786B880>, 'input_filters': 1024, 'input_kernel_size': (5, 5), 'input_stride': (2, 2), 'input_padding': 'same', 'filters': 1024, 'kernel_size': (4, 4), 'stride': (2, 2), 'padding': 'same', 'hidden_lyr_activation': <tensorflow.python.keras.layers.advanced_activations.LeakyReLU object at 0x000002648786BA90>, 'dis_dropout_rate': 0.2, 'mid_dis_neurons': 5000, 'dense_cls_activation': <tensorflow.python.keras.layers.advanced_activations.LeakyReLU object at 0x000002648786B970>, 'output_dis_neurons': 1, 'output_lyr_activation': 'sigmoid', 'labels_lyr_activation': <tensorflow.python.keras.layers.advanced_activations.LeakyReLU object at 0x000002648616CA30>, 'timesteps': 15, 'max_features': 142, 'labels_neurons': 65536, 'labels_filters': 1024, 'labels_kernel_size': (5, 5), 'labels_stride': (2, 2), 'labels_reshape': (50, 50, 3), 'loss': 'binary_crossentropy', 'optimizer': <tensorflow.python.keras.optimizer_v2.adam.Adam object at 0x000002648616C280>, 'metrics': ['accuracy']}\n"
     ]
    }
   ],
   "source": [
    "img_cdis_cfg = {\n",
    "    \"input_lyr_activation\": LeakyReLU(alpha=0.2),\n",
    "    \"input_filters\": input_filters,\n",
    "    \"input_kernel_size\": input_kernel_size,\n",
    "    \"input_stride\": input_stride,\n",
    "    \"input_padding\": padding,\n",
    "    \"filters\": filters,\n",
    "    \"kernel_size\": kernel_size,\n",
    "    \"stride\": stride,\n",
    "    \"padding\": padding,\n",
    "    \"hidden_lyr_activation\": LeakyReLU(alpha=0.2),\n",
    "    \"dis_dropout_rate\": dis_dropout_rate,\n",
    "    \"mid_dis_neurons\":mid_dis_neurons,\n",
    "    \"dense_cls_activation\": LeakyReLU(alpha=0.2),\n",
    "    \"output_dis_neurons\": output_dis_neurons,\n",
    "    \"output_lyr_activation\": output_dis_lyr_activation,\n",
    "    \"labels_lyr_activation\": LeakyReLU(alpha=0.2),\n",
    "    \"timesteps\": memory_shape[0],\n",
    "    \"max_features\": memory_shape[1],\n",
    "    \"labels_neurons\": labels_img_neurons,\n",
    "    \"labels_lyr_activation\": LeakyReLU(alpha=0.2),\n",
    "    \"labels_filters\": labels_filters,\n",
    "    \"labels_kernel_size\": labels_kernel_size,\n",
    "    \"labels_stride\": labels_stride,\n",
    "    \"labels_reshape\": labels_reshape,\n",
    "    \"loss\": \"binary_crossentropy\",\n",
    "    \"optimizer\": Adam(learning_rate=0.000005, beta_1=0.5),\n",
    "    \"metrics\": [\"accuracy\"],\n",
    "    }\n",
    "\n",
    "print(\"CGAN-img Generator Config:\\n\", img_cdis_cfg)"
   ]
  },
  {
   "cell_type": "code",
   "execution_count": 142,
   "metadata": {},
   "outputs": [
    {
     "output_type": "stream",
     "name": "stdout",
     "text": [
      "CGAN-img Config:\n {'loss': 'binary_crossentropy', 'optimizer': <tensorflow.python.keras.optimizer_v2.adam.Adam object at 0x000002645D59F7C0>, 'metrics': ['accuracy']}\n"
     ]
    }
   ],
   "source": [
    "# txt GAN config\n",
    "img_cgan_cfg = {\n",
    "    \"loss\": \"binary_crossentropy\",\n",
    "    \"optimizer\": Adam(learning_rate=0.00002, beta_1=0.5),\n",
    "    \"metrics\": [\"accuracy\"],\n",
    "    }\n",
    "\n",
    "print(\"CGAN-img Config:\\n\", img_cgan_cfg)"
   ]
  },
  {
   "source": [
    "### Multi CGAN definition (txt+img)"
   ],
   "cell_type": "markdown",
   "metadata": {}
  },
  {
   "cell_type": "code",
   "execution_count": 143,
   "metadata": {},
   "outputs": [
    {
     "output_type": "stream",
     "name": "stdout",
     "text": [
      "Multi CGen-txt2img Config:\n {'latent_features': 8, 'latent_filters': 1024, 'memory': 15, 'features': 142, 'mask_value': 0.0, 'latent_img_size': 65536, 'input_lyr_activation': <tensorflow.python.keras.layers.advanced_activations.LeakyReLU object at 0x00000264872BB8B0>, 'latent_img_shape': (8, 8, 1024), 'filters': 1024, 'kernel_size': (4, 4), 'stride': (2, 2), 'padding': 'same', 'hidden_lyr_activation': <tensorflow.python.keras.layers.advanced_activations.LeakyReLU object at 0x00000264872BB610>, 'gen_dropout_rate': 0.3, 'output_filters': 3, 'output_kernel_size': (3, 3), 'output_stride': (1, 1), 'output_padding': 'same', 'output_shape': (15, 142), 'output_lyr_activation': 'tanh', 'labels_neurons': 2130, 'labels_lyr_activation': <tensorflow.python.keras.layers.advanced_activations.LeakyReLU object at 0x0000026486170AF0>, 'input_return_sequences': True, 'input_lstm_neurons': 400, 'mid_gen_neurons': 2130, 'lstm_neurons': 400, 'hidden_return_sequences': True, 'latent_lstm_reshape': (15, 142), 'memory_shape': (15, 142), 'output_neurons': 142, 'output_return_sequences': True}\n"
     ]
    }
   ],
   "source": [
    "multi_cgen_cfg = dict()\n",
    "multi_cgen_cfg.update(img_cgen_cfg)\n",
    "multi_cgen_cfg.update(txt_gen_cfg)\n",
    "\n",
    "print(\"Multi CGen-txt2img Config:\\n\", multi_cgen_cfg)"
   ]
  },
  {
   "cell_type": "code",
   "execution_count": 144,
   "metadata": {},
   "outputs": [
    {
     "output_type": "stream",
     "name": "stdout",
     "text": [
      "Multi CDis-txt2img Config:\n {'input_lyr_activation': <tensorflow.python.keras.layers.advanced_activations.LeakyReLU object at 0x000002645D540F70>, 'input_filters': 1024, 'input_kernel_size': (5, 5), 'input_stride': (2, 2), 'input_padding': 'same', 'filters': 1024, 'kernel_size': (4, 4), 'stride': (2, 2), 'padding': 'same', 'hidden_lyr_activation': <tensorflow.python.keras.layers.advanced_activations.LeakyReLU object at 0x00000264878C9D60>, 'dis_dropout_rate': 0.2, 'mid_dis_neurons': 2130, 'dense_cls_activation': <tensorflow.python.keras.layers.advanced_activations.LeakyReLU object at 0x00000264872B8FA0>, 'output_dis_neurons': 1, 'output_lyr_activation': 'sigmoid', 'labels_lyr_activation': <tensorflow.python.keras.layers.advanced_activations.LeakyReLU object at 0x000002648616CA30>, 'timesteps': 15, 'max_features': 142, 'labels_neurons': 65536, 'labels_filters': 1024, 'labels_kernel_size': (5, 5), 'labels_stride': (2, 2), 'labels_reshape': (50, 50, 3), 'loss': 'binary_crossentropy', 'optimizer': <tensorflow.python.keras.optimizer_v2.adam.Adam object at 0x0000026486170EB0>, 'metrics': ['accuracy'], 'mask_value': 0.0, 'input_return_sequences': True, 'input_lstm_neurons': 400, 'lstm_neurons': 400, 'hidden_return_sequences': True, 'memory_shape': (15, 142), 'labels_lstm_neurons': 400, 'labels_return_sequences': True, 'labels_img_reshape': (50, 50, 3), 'labels_txt_reshape': (15, 142)}\n"
     ]
    }
   ],
   "source": [
    "multi_cdis_cfg = dict()\n",
    "multi_cdis_cfg.update(img_cdis_cfg)\n",
    "multi_cdis_cfg.update(txt_dis_cfg)\n",
    "\n",
    "mcdis_cfg_update = {\n",
    "    \"labels_lstm_neurons\": labels_lstm_neurons,\n",
    "    \"labels_return_sequences\": labels_return_sequences,\n",
    "    \"labels_img_reshape\": labels_reshape,\n",
    "    \"labels_txt_reshape\": labels_txt_reshape,\n",
    "    \"loss\": \"binary_crossentropy\",\n",
    "    \"optimizer\": Adam(learning_rate=0.000005, beta_1=0.5),\n",
    "    # \"optimizer\": SGD(learning_rate=0.00020, momentum=0.3),\n",
    "    \"metrics\": [\"accuracy\"],\n",
    "    }\n",
    "\n",
    "multi_cdis_cfg.update(mcdis_cfg_update)\n",
    "\n",
    "print(\"Multi CDis-txt2img Config:\\n\", multi_cdis_cfg)"
   ]
  },
  {
   "cell_type": "code",
   "execution_count": 145,
   "metadata": {},
   "outputs": [
    {
     "output_type": "stream",
     "name": "stdout",
     "text": [
      "Multi CGAN-txt2img Config:\n {'loss': 'binary_crossentropy', 'optimizer': <tensorflow.python.keras.optimizer_v2.adam.Adam object at 0x000002645D59FEE0>, 'metrics': ['accuracy']}\n"
     ]
    }
   ],
   "source": [
    "# txt2img CGAN config\n",
    "multi_cgan_cfg = {\n",
    "    \"loss\": \"binary_crossentropy\",\n",
    "    \"optimizer\": Adam(learning_rate=0.0003, beta_1=0.5),\n",
    "    \"metrics\": [\"accuracy\"],\n",
    "    }\n",
    "\n",
    "print(\"Multi CGAN-txt2img Config:\\n\", multi_cgan_cfg)"
   ]
  },
  {
   "source": [
    "## ML Model Creation\n",
    "### GAN img definition"
   ],
   "cell_type": "markdown",
   "metadata": {}
  },
  {
   "cell_type": "code",
   "execution_count": 146,
   "metadata": {},
   "outputs": [
    {
     "output_type": "stream",
     "name": "stdout",
     "text": [
      "100\n"
     ]
    }
   ],
   "source": [
    "# latent shape\n",
    "latent_dims = 100\n",
    "print(latent_dims)\n",
    "# latent_shape = (int(X_img[0].shape[0]/4), int(X_img[0].shape[1]/4), 3)\n",
    "# latent_shape = (100, 100)"
   ]
  },
  {
   "cell_type": "code",
   "execution_count": 147,
   "metadata": {},
   "outputs": [
    {
     "output_type": "stream",
     "name": "stdout",
     "text": [
      "GAN-img Generator Definition\nModel: \"model\"\n_________________________________________________________________\nLayer (type)                 Output Shape              Param #   \n=================================================================\nImgGenIn (InputLayer)        [(None, 100)]             0         \n_________________________________________________________________\nImgGenDense_1 (Dense)        (None, 65536)             6619136   \n_________________________________________________________________\nImgGenReshape_3 (Reshape)    (None, 8, 8, 1024)        0         \n_________________________________________________________________\nImgGenConv2D_4 (Conv2DTransp (None, 16, 16, 1024)      16778240  \n_________________________________________________________________\nImgGenBN_5 (BatchNormalizati (None, 16, 16, 1024)      4096      \n_________________________________________________________________\nImgGenDrop_6 (Dropout)       (None, 16, 16, 1024)      0         \n_________________________________________________________________\nImgGenConv2D_7 (Conv2DTransp (None, 32, 32, 512)       8389120   \n_________________________________________________________________\nImgGenBN_8 (BatchNormalizati (None, 32, 32, 512)       2048      \n_________________________________________________________________\nImgGenDrop_9 (Dropout)       (None, 32, 32, 512)       0         \n_________________________________________________________________\nImgGenConv2D_10 (Conv2DTrans (None, 32, 32, 256)       2097408   \n_________________________________________________________________\nImgGenBN_11 (BatchNormalizat (None, 32, 32, 256)       1024      \n_________________________________________________________________\nImgGenDrop_12 (Dropout)      (None, 32, 32, 256)       0         \n_________________________________________________________________\nImgGenConv2D_13 (Conv2DTrans (None, 64, 64, 128)       524416    \n_________________________________________________________________\nImgGenBN_14 (BatchNormalizat (None, 64, 64, 128)       512       \n_________________________________________________________________\nImgGenDrop_15 (Dropout)      (None, 64, 64, 128)       0         \n_________________________________________________________________\nImgGenConv2D_16 (Conv2DTrans (None, 128, 128, 64)      131136    \n_________________________________________________________________\nImgGenBN_17 (BatchNormalizat (None, 128, 128, 64)      256       \n_________________________________________________________________\nImgGenDrop_18 (Dropout)      (None, 128, 128, 64)      0         \n_________________________________________________________________\nImgGenConv2D_19 (Conv2DTrans (None, 256, 256, 32)      32800     \n_________________________________________________________________\nImgGenBN_20 (BatchNormalizat (None, 256, 256, 32)      128       \n_________________________________________________________________\nImgGenDrop_21 (Dropout)      (None, 256, 256, 32)      0         \n_________________________________________________________________\nImgGenOut (Conv2D)           (None, 256, 256, 3)       867       \n=================================================================\nTotal params: 34,581,187\nTrainable params: 34,577,155\nNon-trainable params: 4,032\n_________________________________________________________________\n"
     ]
    }
   ],
   "source": [
    "gen_model = create_img_generator(latent_dims, img_gen_cfg)\n",
    "print(\"GAN-img Generator Definition\")\n",
    "# dis_model = Sequential(slim_dis_layers)\n",
    "gen_model.model_name = \"GAN-img Generator\"\n",
    "\n",
    "# DONT compile model\n",
    "# cdis_model.trainable = False\n",
    "gen_model.summary()"
   ]
  },
  {
   "cell_type": "code",
   "execution_count": 148,
   "metadata": {},
   "outputs": [
    {
     "output_type": "stream",
     "name": "stdout",
     "text": [
      "(256, 256, 3)\n",
      "GAN-img Discriminator Definition\n",
      "Model: \"model_1\"\n",
      "_________________________________________________________________\n",
      "Layer (type)                 Output Shape              Param #   \n",
      "=================================================================\n",
      "DisImgIn (InputLayer)        [(None, 256, 256, 3)]     0         \n",
      "_________________________________________________________________\n",
      "ImgDisConv2D_1 (Conv2D)      (None, 128, 128, 1024)    77824     \n",
      "_________________________________________________________________\n",
      "ImgDisConv2D_2 (Conv2D)      (None, 64, 64, 32)        524320    \n",
      "_________________________________________________________________\n",
      "ImgDisBN_3 (BatchNormalizati (None, 64, 64, 32)        128       \n",
      "_________________________________________________________________\n",
      "ImgDisDrop_4 (Dropout)       (None, 64, 64, 32)        0         \n",
      "_________________________________________________________________\n",
      "ImgDisConv2D_5 (Conv2D)      (None, 32, 32, 64)        32832     \n",
      "_________________________________________________________________\n",
      "ImgDisBN_6 (BatchNormalizati (None, 32, 32, 64)        256       \n",
      "_________________________________________________________________\n",
      "ImgDisDrop_7 (Dropout)       (None, 32, 32, 64)        0         \n",
      "_________________________________________________________________\n",
      "ImgDisConv2D_8 (Conv2D)      (None, 16, 16, 128)       131200    \n",
      "_________________________________________________________________\n",
      "ImgDisBN_9 (BatchNormalizati (None, 16, 16, 128)       512       \n",
      "_________________________________________________________________\n",
      "ImgDisDrop_10 (Dropout)      (None, 16, 16, 128)       0         \n",
      "_________________________________________________________________\n",
      "ImgDisConv2D_11 (Conv2D)     (None, 8, 8, 256)         524544    \n",
      "_________________________________________________________________\n",
      "ImgDisBN_12 (BatchNormalizat (None, 8, 8, 256)         1024      \n",
      "_________________________________________________________________\n",
      "ImgDisDrop_13 (Dropout)      (None, 8, 8, 256)         0         \n",
      "_________________________________________________________________\n",
      "ImgDisConv2D_14 (Conv2D)     (None, 4, 4, 512)         2097664   \n",
      "_________________________________________________________________\n",
      "ImgDisBN_15 (BatchNormalizat (None, 4, 4, 512)         2048      \n",
      "_________________________________________________________________\n",
      "ImgDisDrop_16 (Dropout)      (None, 4, 4, 512)         0         \n",
      "_________________________________________________________________\n",
      "ImgDisFlat_17 (Flatten)      (None, 8192)              0         \n",
      "_________________________________________________________________\n",
      "ImgDisDense_18 (Dense)       (None, 5000)              40965000  \n",
      "_________________________________________________________________\n",
      "ImgDisDense_19 (Dense)       (None, 2500)              12502500  \n",
      "_________________________________________________________________\n",
      "ImgDisDrop_20 (Dropout)      (None, 2500)              0         \n",
      "_________________________________________________________________\n",
      "ImgDisDense_21 (Dense)       (None, 1250)              3126250   \n",
      "_________________________________________________________________\n",
      "ImgDisDense_22 (Dense)       (None, 625)               781875    \n",
      "_________________________________________________________________\n",
      "ImgDisDrop_23 (Dropout)      (None, 625)               0         \n",
      "_________________________________________________________________\n",
      "ImgDisDense_24 (Dense)       (None, 312)               195312    \n",
      "_________________________________________________________________\n",
      "ImgDisDense_25 (Dense)       (None, 156)               48828     \n",
      "_________________________________________________________________\n",
      "ImgDisOut (Dense)            (None, 1)                 157       \n",
      "=================================================================\n",
      "Total params: 61,012,274\n",
      "Trainable params: 61,010,290\n",
      "Non-trainable params: 1,984\n",
      "_________________________________________________________________\n"
     ]
    }
   ],
   "source": [
    "img_shape = X_img[0].shape\n",
    "print(img_shape)\n",
    "\n",
    "# img_shape = (100,100,3)\n",
    "dis_model = create_img_discriminator(img_shape, img_dis_cfg)\n",
    "print(\"GAN-img Discriminator Definition\")\n",
    "# dis_model = Sequential(slim_dis_layers)\n",
    "dis_model.model_name = \"GAN-img Discriminator\"\n",
    "\n",
    "# compile model\n",
    "dis_model.compile(loss=img_dis_cfg[\"loss\"], \n",
    "                    optimizer=img_dis_cfg[\"optimizer\"], \n",
    "                    metrics=img_dis_cfg[\"metrics\"])\n",
    "\n",
    "# cdis_model.trainable = False\n",
    "dis_model.summary()"
   ]
  },
  {
   "cell_type": "code",
   "execution_count": 149,
   "metadata": {},
   "outputs": [
    {
     "output_type": "stream",
     "name": "stdout",
     "text": [
      "GAN-img Model definition\nModel: \"model_2\"\n_________________________________________________________________\nLayer (type)                 Output Shape              Param #   \n=================================================================\nImgGenIn (InputLayer)        [(None, 100)]             0         \n_________________________________________________________________\nImgGenDense_1 (Dense)        (None, 65536)             6619136   \n_________________________________________________________________\nImgGenReshape_3 (Reshape)    (None, 8, 8, 1024)        0         \n_________________________________________________________________\nImgGenConv2D_4 (Conv2DTransp (None, 16, 16, 1024)      16778240  \n_________________________________________________________________\nImgGenBN_5 (BatchNormalizati (None, 16, 16, 1024)      4096      \n_________________________________________________________________\nImgGenDrop_6 (Dropout)       (None, 16, 16, 1024)      0         \n_________________________________________________________________\nImgGenConv2D_7 (Conv2DTransp (None, 32, 32, 512)       8389120   \n_________________________________________________________________\nImgGenBN_8 (BatchNormalizati (None, 32, 32, 512)       2048      \n_________________________________________________________________\nImgGenDrop_9 (Dropout)       (None, 32, 32, 512)       0         \n_________________________________________________________________\nImgGenConv2D_10 (Conv2DTrans (None, 32, 32, 256)       2097408   \n_________________________________________________________________\nImgGenBN_11 (BatchNormalizat (None, 32, 32, 256)       1024      \n_________________________________________________________________\nImgGenDrop_12 (Dropout)      (None, 32, 32, 256)       0         \n_________________________________________________________________\nImgGenConv2D_13 (Conv2DTrans (None, 64, 64, 128)       524416    \n_________________________________________________________________\nImgGenBN_14 (BatchNormalizat (None, 64, 64, 128)       512       \n_________________________________________________________________\nImgGenDrop_15 (Dropout)      (None, 64, 64, 128)       0         \n_________________________________________________________________\nImgGenConv2D_16 (Conv2DTrans (None, 128, 128, 64)      131136    \n_________________________________________________________________\nImgGenBN_17 (BatchNormalizat (None, 128, 128, 64)      256       \n_________________________________________________________________\nImgGenDrop_18 (Dropout)      (None, 128, 128, 64)      0         \n_________________________________________________________________\nImgGenConv2D_19 (Conv2DTrans (None, 256, 256, 32)      32800     \n_________________________________________________________________\nImgGenBN_20 (BatchNormalizat (None, 256, 256, 32)      128       \n_________________________________________________________________\nImgGenDrop_21 (Dropout)      (None, 256, 256, 32)      0         \n_________________________________________________________________\nImgGenOut (Conv2D)           (None, 256, 256, 3)       867       \n_________________________________________________________________\nmodel_1 (Functional)         (None, 1)                 61012274  \n=================================================================\nTotal params: 95,593,461\nTrainable params: 34,577,155\nNon-trainable params: 61,016,306\n_________________________________________________________________\n"
     ]
    }
   ],
   "source": [
    "print(\"GAN-img Model definition\")\n",
    "gan_model = create_img_gan(gen_model, dis_model, gan_cfg)\n",
    "gan_model.model_name = \"GAN-img\"\n",
    "gan_model.summary()"
   ]
  },
  {
   "cell_type": "code",
   "execution_count": 150,
   "metadata": {},
   "outputs": [
    {
     "output_type": "stream",
     "name": "stdout",
     "text": [
      "2021-06-12 11:26:33\n"
     ]
    }
   ],
   "source": [
    "# saving model topology into png files\n",
    "print(timestamp)\n",
    "export_model(gen_model, model_fn_path, gen_model.model_name, timestamp)\n",
    "export_model(dis_model, model_fn_path, dis_model.model_name, timestamp)\n",
    "export_model(gan_model, model_fn_path, gan_model.model_name, timestamp)"
   ]
  },
  {
   "source": [
    "### GAN txt definition"
   ],
   "cell_type": "markdown",
   "metadata": {}
  },
  {
   "cell_type": "code",
   "execution_count": 151,
   "metadata": {},
   "outputs": [],
   "source": [
    "# gen_txt_model = create_txt_generator(latent_dims, txt_gen_cfg)\n",
    "# print(\"GAN-txt Generator Definition\")\n",
    "# # dis_model = Sequential(slim_dis_layers)\n",
    "# gen_txt_model.model_name = \"GAN-txt Generator\"\n",
    "\n",
    "# # DONT compile model\n",
    "# # cdis_model.trainable = False\n",
    "# gen_txt_model.summary()"
   ]
  },
  {
   "cell_type": "code",
   "execution_count": 152,
   "metadata": {},
   "outputs": [
    {
     "output_type": "stream",
     "name": "stdout",
     "text": [
      "(15, 142)\n"
     ]
    }
   ],
   "source": [
    "txt_shape = X_txt[0].shape\n",
    "print(txt_shape)\n",
    "# dis_txt_model = create_txt_discriminator(txt_shape, txt_dis_cfg)\n",
    "# print(\"GAN-txt Discriminator Definition\")\n",
    "# # dis_model = Sequential(slim_dis_layers)\n",
    "# dis_txt_model.model_name = \"GAN-txt Discriminator\"\n",
    "\n",
    "# # compile model\n",
    "# dis_txt_model.compile(loss=txt_dis_cfg[\"loss\"], \n",
    "#                     optimizer=txt_dis_cfg[\"optimizer\"], \n",
    "#                     metrics=txt_dis_cfg[\"metrics\"])\n",
    "\n",
    "# # cdis_model.trainable = False\n",
    "# dis_txt_model.summary()"
   ]
  },
  {
   "cell_type": "code",
   "execution_count": 153,
   "metadata": {},
   "outputs": [
    {
     "output_type": "stream",
     "name": "stdout",
     "text": [
      "GAN-txt Model definition\n"
     ]
    }
   ],
   "source": [
    "print(\"GAN-txt Model definition\")\n",
    "# gan_txt_model = create_img_gan(gen_txt_model, dis_txt_model, gan_cfg)\n",
    "# gan_txt_model.summary()\n",
    "# gan_txt_model.model_name = \"GAN-txt\""
   ]
  },
  {
   "cell_type": "code",
   "execution_count": 154,
   "metadata": {},
   "outputs": [
    {
     "output_type": "stream",
     "name": "stdout",
     "text": [
      "2021-06-12 11:26:33\n"
     ]
    }
   ],
   "source": [
    "# saving model topology into png files\n",
    "print(timestamp)\n",
    "# export_model(gen_txt_model, model_fn_path, gen_txt_model.model_name, timestamp)\n",
    "# export_model(dis_txt_model, model_fn_path, dis_txt_model.model_name, timestamp)\n",
    "# export_model(gan_txt_model, model_fn_path, gan_txt_model.model_name, timestamp)"
   ]
  },
  {
   "source": [
    "### CGAN definition"
   ],
   "cell_type": "markdown",
   "metadata": {}
  },
  {
   "cell_type": "code",
   "execution_count": 155,
   "metadata": {},
   "outputs": [
    {
     "output_type": "stream",
     "name": "stdout",
     "text": [
      "16\n"
     ]
    },
    {
     "output_type": "error",
     "ename": "KeyboardInterrupt",
     "evalue": "",
     "traceback": [
      "\u001b[1;31m---------------------------------------------------------------------------\u001b[0m",
      "\u001b[1;31mKeyboardInterrupt\u001b[0m                         Traceback (most recent call last)",
      "\u001b[1;32m<ipython-input-155-52cb271f2f3a>\u001b[0m in \u001b[0;36m<module>\u001b[1;34m\u001b[0m\n\u001b[0;32m      1\u001b[0m \u001b[0mn_labels\u001b[0m \u001b[1;33m=\u001b[0m \u001b[0my_labels\u001b[0m\u001b[1;33m[\u001b[0m\u001b[1;36m0\u001b[0m\u001b[1;33m]\u001b[0m\u001b[1;33m.\u001b[0m\u001b[0mshape\u001b[0m\u001b[1;33m[\u001b[0m\u001b[1;36m0\u001b[0m\u001b[1;33m]\u001b[0m\u001b[1;33m\u001b[0m\u001b[1;33m\u001b[0m\u001b[0m\n\u001b[0;32m      2\u001b[0m \u001b[0mprint\u001b[0m\u001b[1;33m(\u001b[0m\u001b[0mn_labels\u001b[0m\u001b[1;33m)\u001b[0m\u001b[1;33m\u001b[0m\u001b[1;33m\u001b[0m\u001b[0m\n\u001b[1;32m----> 3\u001b[1;33m \u001b[0mcgen_img_model\u001b[0m \u001b[1;33m=\u001b[0m \u001b[0mcreate_img_cgenerator\u001b[0m\u001b[1;33m(\u001b[0m\u001b[0mlatent_dims\u001b[0m\u001b[1;33m,\u001b[0m \u001b[0mn_labels\u001b[0m\u001b[1;33m,\u001b[0m \u001b[0mimg_cgen_cfg\u001b[0m\u001b[1;33m)\u001b[0m\u001b[1;33m\u001b[0m\u001b[1;33m\u001b[0m\u001b[0m\n\u001b[0m\u001b[0;32m      4\u001b[0m \u001b[0mprint\u001b[0m\u001b[1;33m(\u001b[0m\u001b[1;34m\"CGAN-img Generator Definition\"\u001b[0m\u001b[1;33m)\u001b[0m\u001b[1;33m\u001b[0m\u001b[1;33m\u001b[0m\u001b[0m\n\u001b[0;32m      5\u001b[0m \u001b[1;31m# dis_model = Sequential(slim_dis_layers)\u001b[0m\u001b[1;33m\u001b[0m\u001b[1;33m\u001b[0m\u001b[1;33m\u001b[0m\u001b[0m\n",
      "\u001b[1;32m<ipython-input-125-7a9aa2db06ee>\u001b[0m in \u001b[0;36mcreate_img_cgenerator\u001b[1;34m(latent_dims, n_labels, model_cfg)\u001b[0m\n\u001b[0;32m     75\u001b[0m \u001b[1;33m\u001b[0m\u001b[0m\n\u001b[0;32m     76\u001b[0m     \u001b[1;31m# dense layer\u001b[0m\u001b[1;33m\u001b[0m\u001b[1;33m\u001b[0m\u001b[1;33m\u001b[0m\u001b[0m\n\u001b[1;32m---> 77\u001b[1;33m     lyr4 = Dense(latent_n, \n\u001b[0m\u001b[0;32m     78\u001b[0m                 \u001b[0mactivation\u001b[0m\u001b[1;33m=\u001b[0m\u001b[0mhid_lyr_act\u001b[0m\u001b[1;33m,\u001b[0m\u001b[1;33m\u001b[0m\u001b[1;33m\u001b[0m\u001b[0m\n\u001b[0;32m     79\u001b[0m                 name=\"ImgCGenDense_4\")(lyr3)\n",
      "\u001b[1;32mC:\\Program Files\\Python38\\lib\\site-packages\\tensorflow\\python\\keras\\engine\\base_layer.py\u001b[0m in \u001b[0;36m__call__\u001b[1;34m(self, *args, **kwargs)\u001b[0m\n\u001b[0;32m    949\u001b[0m     \u001b[1;31m# >> model = tf.keras.Model(inputs, outputs)\u001b[0m\u001b[1;33m\u001b[0m\u001b[1;33m\u001b[0m\u001b[1;33m\u001b[0m\u001b[0m\n\u001b[0;32m    950\u001b[0m     \u001b[1;32mif\u001b[0m \u001b[0m_in_functional_construction_mode\u001b[0m\u001b[1;33m(\u001b[0m\u001b[0mself\u001b[0m\u001b[1;33m,\u001b[0m \u001b[0minputs\u001b[0m\u001b[1;33m,\u001b[0m \u001b[0margs\u001b[0m\u001b[1;33m,\u001b[0m \u001b[0mkwargs\u001b[0m\u001b[1;33m,\u001b[0m \u001b[0minput_list\u001b[0m\u001b[1;33m)\u001b[0m\u001b[1;33m:\u001b[0m\u001b[1;33m\u001b[0m\u001b[1;33m\u001b[0m\u001b[0m\n\u001b[1;32m--> 951\u001b[1;33m       return self._functional_construction_call(inputs, args, kwargs,\n\u001b[0m\u001b[0;32m    952\u001b[0m                                                 input_list)\n\u001b[0;32m    953\u001b[0m \u001b[1;33m\u001b[0m\u001b[0m\n",
      "\u001b[1;32mC:\\Program Files\\Python38\\lib\\site-packages\\tensorflow\\python\\keras\\engine\\base_layer.py\u001b[0m in \u001b[0;36m_functional_construction_call\u001b[1;34m(self, inputs, args, kwargs, input_list)\u001b[0m\n\u001b[0;32m   1088\u001b[0m           layer=self, inputs=inputs, build_graph=True, training=training_value):\n\u001b[0;32m   1089\u001b[0m         \u001b[1;31m# Check input assumptions set after layer building, e.g. input shape.\u001b[0m\u001b[1;33m\u001b[0m\u001b[1;33m\u001b[0m\u001b[1;33m\u001b[0m\u001b[0m\n\u001b[1;32m-> 1090\u001b[1;33m         outputs = self._keras_tensor_symbolic_call(\n\u001b[0m\u001b[0;32m   1091\u001b[0m             inputs, input_masks, args, kwargs)\n\u001b[0;32m   1092\u001b[0m \u001b[1;33m\u001b[0m\u001b[0m\n",
      "\u001b[1;32mC:\\Program Files\\Python38\\lib\\site-packages\\tensorflow\\python\\keras\\engine\\base_layer.py\u001b[0m in \u001b[0;36m_keras_tensor_symbolic_call\u001b[1;34m(self, inputs, input_masks, args, kwargs)\u001b[0m\n\u001b[0;32m    820\u001b[0m       \u001b[1;32mreturn\u001b[0m \u001b[0mnest\u001b[0m\u001b[1;33m.\u001b[0m\u001b[0mmap_structure\u001b[0m\u001b[1;33m(\u001b[0m\u001b[0mkeras_tensor\u001b[0m\u001b[1;33m.\u001b[0m\u001b[0mKerasTensor\u001b[0m\u001b[1;33m,\u001b[0m \u001b[0moutput_signature\u001b[0m\u001b[1;33m)\u001b[0m\u001b[1;33m\u001b[0m\u001b[1;33m\u001b[0m\u001b[0m\n\u001b[0;32m    821\u001b[0m     \u001b[1;32melse\u001b[0m\u001b[1;33m:\u001b[0m\u001b[1;33m\u001b[0m\u001b[1;33m\u001b[0m\u001b[0m\n\u001b[1;32m--> 822\u001b[1;33m       \u001b[1;32mreturn\u001b[0m \u001b[0mself\u001b[0m\u001b[1;33m.\u001b[0m\u001b[0m_infer_output_signature\u001b[0m\u001b[1;33m(\u001b[0m\u001b[0minputs\u001b[0m\u001b[1;33m,\u001b[0m \u001b[0margs\u001b[0m\u001b[1;33m,\u001b[0m \u001b[0mkwargs\u001b[0m\u001b[1;33m,\u001b[0m \u001b[0minput_masks\u001b[0m\u001b[1;33m)\u001b[0m\u001b[1;33m\u001b[0m\u001b[1;33m\u001b[0m\u001b[0m\n\u001b[0m\u001b[0;32m    823\u001b[0m \u001b[1;33m\u001b[0m\u001b[0m\n\u001b[0;32m    824\u001b[0m   \u001b[1;32mdef\u001b[0m \u001b[0m_infer_output_signature\u001b[0m\u001b[1;33m(\u001b[0m\u001b[0mself\u001b[0m\u001b[1;33m,\u001b[0m \u001b[0minputs\u001b[0m\u001b[1;33m,\u001b[0m \u001b[0margs\u001b[0m\u001b[1;33m,\u001b[0m \u001b[0mkwargs\u001b[0m\u001b[1;33m,\u001b[0m \u001b[0minput_masks\u001b[0m\u001b[1;33m)\u001b[0m\u001b[1;33m:\u001b[0m\u001b[1;33m\u001b[0m\u001b[1;33m\u001b[0m\u001b[0m\n",
      "\u001b[1;32mC:\\Program Files\\Python38\\lib\\site-packages\\tensorflow\\python\\keras\\engine\\base_layer.py\u001b[0m in \u001b[0;36m_infer_output_signature\u001b[1;34m(self, inputs, args, kwargs, input_masks)\u001b[0m\n\u001b[0;32m    860\u001b[0m           \u001b[1;31m# overridden).\u001b[0m\u001b[1;33m\u001b[0m\u001b[1;33m\u001b[0m\u001b[1;33m\u001b[0m\u001b[0m\n\u001b[0;32m    861\u001b[0m           \u001b[1;31m# TODO(kaftan): do we maybe_build here, or have we already done it?\u001b[0m\u001b[1;33m\u001b[0m\u001b[1;33m\u001b[0m\u001b[1;33m\u001b[0m\u001b[0m\n\u001b[1;32m--> 862\u001b[1;33m           \u001b[0mself\u001b[0m\u001b[1;33m.\u001b[0m\u001b[0m_maybe_build\u001b[0m\u001b[1;33m(\u001b[0m\u001b[0minputs\u001b[0m\u001b[1;33m)\u001b[0m\u001b[1;33m\u001b[0m\u001b[1;33m\u001b[0m\u001b[0m\n\u001b[0m\u001b[0;32m    863\u001b[0m           \u001b[0moutputs\u001b[0m \u001b[1;33m=\u001b[0m \u001b[0mcall_fn\u001b[0m\u001b[1;33m(\u001b[0m\u001b[0minputs\u001b[0m\u001b[1;33m,\u001b[0m \u001b[1;33m*\u001b[0m\u001b[0margs\u001b[0m\u001b[1;33m,\u001b[0m \u001b[1;33m**\u001b[0m\u001b[0mkwargs\u001b[0m\u001b[1;33m)\u001b[0m\u001b[1;33m\u001b[0m\u001b[1;33m\u001b[0m\u001b[0m\n\u001b[0;32m    864\u001b[0m \u001b[1;33m\u001b[0m\u001b[0m\n",
      "\u001b[1;32mC:\\Program Files\\Python38\\lib\\site-packages\\tensorflow\\python\\keras\\engine\\base_layer.py\u001b[0m in \u001b[0;36m_maybe_build\u001b[1;34m(self, inputs)\u001b[0m\n\u001b[0;32m   2708\u001b[0m         \u001b[1;31m# operations.\u001b[0m\u001b[1;33m\u001b[0m\u001b[1;33m\u001b[0m\u001b[1;33m\u001b[0m\u001b[0m\n\u001b[0;32m   2709\u001b[0m         \u001b[1;32mwith\u001b[0m \u001b[0mtf_utils\u001b[0m\u001b[1;33m.\u001b[0m\u001b[0mmaybe_init_scope\u001b[0m\u001b[1;33m(\u001b[0m\u001b[0mself\u001b[0m\u001b[1;33m)\u001b[0m\u001b[1;33m:\u001b[0m\u001b[1;33m\u001b[0m\u001b[1;33m\u001b[0m\u001b[0m\n\u001b[1;32m-> 2710\u001b[1;33m           \u001b[0mself\u001b[0m\u001b[1;33m.\u001b[0m\u001b[0mbuild\u001b[0m\u001b[1;33m(\u001b[0m\u001b[0minput_shapes\u001b[0m\u001b[1;33m)\u001b[0m  \u001b[1;31m# pylint:disable=not-callable\u001b[0m\u001b[1;33m\u001b[0m\u001b[1;33m\u001b[0m\u001b[0m\n\u001b[0m\u001b[0;32m   2711\u001b[0m       \u001b[1;31m# We must set also ensure that the layer is marked as built, and the build\u001b[0m\u001b[1;33m\u001b[0m\u001b[1;33m\u001b[0m\u001b[1;33m\u001b[0m\u001b[0m\n\u001b[0;32m   2712\u001b[0m       \u001b[1;31m# shape is stored since user defined build functions may not be calling\u001b[0m\u001b[1;33m\u001b[0m\u001b[1;33m\u001b[0m\u001b[1;33m\u001b[0m\u001b[0m\n",
      "\u001b[1;32mC:\\Program Files\\Python38\\lib\\site-packages\\tensorflow\\python\\keras\\layers\\core.py\u001b[0m in \u001b[0;36mbuild\u001b[1;34m(self, input_shape)\u001b[0m\n\u001b[0;32m   1183\u001b[0m                        'should be defined. Found `None`.')\n\u001b[0;32m   1184\u001b[0m     \u001b[0mself\u001b[0m\u001b[1;33m.\u001b[0m\u001b[0minput_spec\u001b[0m \u001b[1;33m=\u001b[0m \u001b[0mInputSpec\u001b[0m\u001b[1;33m(\u001b[0m\u001b[0mmin_ndim\u001b[0m\u001b[1;33m=\u001b[0m\u001b[1;36m2\u001b[0m\u001b[1;33m,\u001b[0m \u001b[0maxes\u001b[0m\u001b[1;33m=\u001b[0m\u001b[1;33m{\u001b[0m\u001b[1;33m-\u001b[0m\u001b[1;36m1\u001b[0m\u001b[1;33m:\u001b[0m \u001b[0mlast_dim\u001b[0m\u001b[1;33m}\u001b[0m\u001b[1;33m)\u001b[0m\u001b[1;33m\u001b[0m\u001b[1;33m\u001b[0m\u001b[0m\n\u001b[1;32m-> 1185\u001b[1;33m     self.kernel = self.add_weight(\n\u001b[0m\u001b[0;32m   1186\u001b[0m         \u001b[1;34m'kernel'\u001b[0m\u001b[1;33m,\u001b[0m\u001b[1;33m\u001b[0m\u001b[1;33m\u001b[0m\u001b[0m\n\u001b[0;32m   1187\u001b[0m         \u001b[0mshape\u001b[0m\u001b[1;33m=\u001b[0m\u001b[1;33m[\u001b[0m\u001b[0mlast_dim\u001b[0m\u001b[1;33m,\u001b[0m \u001b[0mself\u001b[0m\u001b[1;33m.\u001b[0m\u001b[0munits\u001b[0m\u001b[1;33m]\u001b[0m\u001b[1;33m,\u001b[0m\u001b[1;33m\u001b[0m\u001b[1;33m\u001b[0m\u001b[0m\n",
      "\u001b[1;32mC:\\Program Files\\Python38\\lib\\site-packages\\tensorflow\\python\\keras\\engine\\base_layer.py\u001b[0m in \u001b[0;36madd_weight\u001b[1;34m(self, name, shape, dtype, initializer, regularizer, trainable, constraint, use_resource, synchronization, aggregation, **kwargs)\u001b[0m\n\u001b[0;32m    621\u001b[0m         \u001b[0mcaching_device\u001b[0m \u001b[1;33m=\u001b[0m \u001b[1;32mNone\u001b[0m\u001b[1;33m\u001b[0m\u001b[1;33m\u001b[0m\u001b[0m\n\u001b[0;32m    622\u001b[0m \u001b[1;33m\u001b[0m\u001b[0m\n\u001b[1;32m--> 623\u001b[1;33m     variable = self._add_variable_with_custom_getter(\n\u001b[0m\u001b[0;32m    624\u001b[0m         \u001b[0mname\u001b[0m\u001b[1;33m=\u001b[0m\u001b[0mname\u001b[0m\u001b[1;33m,\u001b[0m\u001b[1;33m\u001b[0m\u001b[1;33m\u001b[0m\u001b[0m\n\u001b[0;32m    625\u001b[0m         \u001b[0mshape\u001b[0m\u001b[1;33m=\u001b[0m\u001b[0mshape\u001b[0m\u001b[1;33m,\u001b[0m\u001b[1;33m\u001b[0m\u001b[1;33m\u001b[0m\u001b[0m\n",
      "\u001b[1;32mC:\\Program Files\\Python38\\lib\\site-packages\\tensorflow\\python\\training\\tracking\\base.py\u001b[0m in \u001b[0;36m_add_variable_with_custom_getter\u001b[1;34m(self, name, shape, dtype, initializer, getter, overwrite, **kwargs_for_getter)\u001b[0m\n\u001b[0;32m    803\u001b[0m         \u001b[1;31m# \"best effort\" to set the initializer with the highest restore UID.\u001b[0m\u001b[1;33m\u001b[0m\u001b[1;33m\u001b[0m\u001b[1;33m\u001b[0m\u001b[0m\n\u001b[0;32m    804\u001b[0m         \u001b[0minitializer\u001b[0m \u001b[1;33m=\u001b[0m \u001b[0mcheckpoint_initializer\u001b[0m\u001b[1;33m\u001b[0m\u001b[1;33m\u001b[0m\u001b[0m\n\u001b[1;32m--> 805\u001b[1;33m     new_variable = getter(\n\u001b[0m\u001b[0;32m    806\u001b[0m         \u001b[0mname\u001b[0m\u001b[1;33m=\u001b[0m\u001b[0mname\u001b[0m\u001b[1;33m,\u001b[0m\u001b[1;33m\u001b[0m\u001b[1;33m\u001b[0m\u001b[0m\n\u001b[0;32m    807\u001b[0m         \u001b[0mshape\u001b[0m\u001b[1;33m=\u001b[0m\u001b[0mshape\u001b[0m\u001b[1;33m,\u001b[0m\u001b[1;33m\u001b[0m\u001b[1;33m\u001b[0m\u001b[0m\n",
      "\u001b[1;32mC:\\Program Files\\Python38\\lib\\site-packages\\tensorflow\\python\\keras\\engine\\base_layer_utils.py\u001b[0m in \u001b[0;36mmake_variable\u001b[1;34m(name, shape, dtype, initializer, trainable, caching_device, validate_shape, constraint, use_resource, collections, synchronization, aggregation, partitioner)\u001b[0m\n\u001b[0;32m    128\u001b[0m   \u001b[1;31m# can remove the V1.\u001b[0m\u001b[1;33m\u001b[0m\u001b[1;33m\u001b[0m\u001b[1;33m\u001b[0m\u001b[0m\n\u001b[0;32m    129\u001b[0m   \u001b[0mvariable_shape\u001b[0m \u001b[1;33m=\u001b[0m \u001b[0mtensor_shape\u001b[0m\u001b[1;33m.\u001b[0m\u001b[0mTensorShape\u001b[0m\u001b[1;33m(\u001b[0m\u001b[0mshape\u001b[0m\u001b[1;33m)\u001b[0m\u001b[1;33m\u001b[0m\u001b[1;33m\u001b[0m\u001b[0m\n\u001b[1;32m--> 130\u001b[1;33m   return tf_variables.VariableV1(\n\u001b[0m\u001b[0;32m    131\u001b[0m       \u001b[0minitial_value\u001b[0m\u001b[1;33m=\u001b[0m\u001b[0minit_val\u001b[0m\u001b[1;33m,\u001b[0m\u001b[1;33m\u001b[0m\u001b[1;33m\u001b[0m\u001b[0m\n\u001b[0;32m    132\u001b[0m       \u001b[0mname\u001b[0m\u001b[1;33m=\u001b[0m\u001b[0mname\u001b[0m\u001b[1;33m,\u001b[0m\u001b[1;33m\u001b[0m\u001b[1;33m\u001b[0m\u001b[0m\n",
      "\u001b[1;32mC:\\Program Files\\Python38\\lib\\site-packages\\tensorflow\\python\\ops\\variables.py\u001b[0m in \u001b[0;36m__call__\u001b[1;34m(cls, *args, **kwargs)\u001b[0m\n\u001b[0;32m    258\u001b[0m   \u001b[1;32mdef\u001b[0m \u001b[0m__call__\u001b[0m\u001b[1;33m(\u001b[0m\u001b[0mcls\u001b[0m\u001b[1;33m,\u001b[0m \u001b[1;33m*\u001b[0m\u001b[0margs\u001b[0m\u001b[1;33m,\u001b[0m \u001b[1;33m**\u001b[0m\u001b[0mkwargs\u001b[0m\u001b[1;33m)\u001b[0m\u001b[1;33m:\u001b[0m\u001b[1;33m\u001b[0m\u001b[1;33m\u001b[0m\u001b[0m\n\u001b[0;32m    259\u001b[0m     \u001b[1;32mif\u001b[0m \u001b[0mcls\u001b[0m \u001b[1;32mis\u001b[0m \u001b[0mVariableV1\u001b[0m\u001b[1;33m:\u001b[0m\u001b[1;33m\u001b[0m\u001b[1;33m\u001b[0m\u001b[0m\n\u001b[1;32m--> 260\u001b[1;33m       \u001b[1;32mreturn\u001b[0m \u001b[0mcls\u001b[0m\u001b[1;33m.\u001b[0m\u001b[0m_variable_v1_call\u001b[0m\u001b[1;33m(\u001b[0m\u001b[1;33m*\u001b[0m\u001b[0margs\u001b[0m\u001b[1;33m,\u001b[0m \u001b[1;33m**\u001b[0m\u001b[0mkwargs\u001b[0m\u001b[1;33m)\u001b[0m\u001b[1;33m\u001b[0m\u001b[1;33m\u001b[0m\u001b[0m\n\u001b[0m\u001b[0;32m    261\u001b[0m     \u001b[1;32melif\u001b[0m \u001b[0mcls\u001b[0m \u001b[1;32mis\u001b[0m \u001b[0mVariable\u001b[0m\u001b[1;33m:\u001b[0m\u001b[1;33m\u001b[0m\u001b[1;33m\u001b[0m\u001b[0m\n\u001b[0;32m    262\u001b[0m       \u001b[1;32mreturn\u001b[0m \u001b[0mcls\u001b[0m\u001b[1;33m.\u001b[0m\u001b[0m_variable_v2_call\u001b[0m\u001b[1;33m(\u001b[0m\u001b[1;33m*\u001b[0m\u001b[0margs\u001b[0m\u001b[1;33m,\u001b[0m \u001b[1;33m**\u001b[0m\u001b[0mkwargs\u001b[0m\u001b[1;33m)\u001b[0m\u001b[1;33m\u001b[0m\u001b[1;33m\u001b[0m\u001b[0m\n",
      "\u001b[1;32mC:\\Program Files\\Python38\\lib\\site-packages\\tensorflow\\python\\ops\\variables.py\u001b[0m in \u001b[0;36m_variable_v1_call\u001b[1;34m(cls, initial_value, trainable, collections, validate_shape, caching_device, name, variable_def, dtype, expected_shape, import_scope, constraint, use_resource, synchronization, aggregation, shape)\u001b[0m\n\u001b[0;32m    204\u001b[0m     \u001b[1;32mif\u001b[0m \u001b[0maggregation\u001b[0m \u001b[1;32mis\u001b[0m \u001b[1;32mNone\u001b[0m\u001b[1;33m:\u001b[0m\u001b[1;33m\u001b[0m\u001b[1;33m\u001b[0m\u001b[0m\n\u001b[0;32m    205\u001b[0m       \u001b[0maggregation\u001b[0m \u001b[1;33m=\u001b[0m \u001b[0mVariableAggregation\u001b[0m\u001b[1;33m.\u001b[0m\u001b[0mNONE\u001b[0m\u001b[1;33m\u001b[0m\u001b[1;33m\u001b[0m\u001b[0m\n\u001b[1;32m--> 206\u001b[1;33m     return previous_getter(\n\u001b[0m\u001b[0;32m    207\u001b[0m         \u001b[0minitial_value\u001b[0m\u001b[1;33m=\u001b[0m\u001b[0minitial_value\u001b[0m\u001b[1;33m,\u001b[0m\u001b[1;33m\u001b[0m\u001b[1;33m\u001b[0m\u001b[0m\n\u001b[0;32m    208\u001b[0m         \u001b[0mtrainable\u001b[0m\u001b[1;33m=\u001b[0m\u001b[0mtrainable\u001b[0m\u001b[1;33m,\u001b[0m\u001b[1;33m\u001b[0m\u001b[1;33m\u001b[0m\u001b[0m\n",
      "\u001b[1;32mC:\\Program Files\\Python38\\lib\\site-packages\\tensorflow\\python\\ops\\variables.py\u001b[0m in \u001b[0;36m<lambda>\u001b[1;34m(**kwargs)\u001b[0m\n\u001b[0;32m    197\u001b[0m                         shape=None):\n\u001b[0;32m    198\u001b[0m     \u001b[1;34m\"\"\"Call on Variable class. Useful to force the signature.\"\"\"\u001b[0m\u001b[1;33m\u001b[0m\u001b[1;33m\u001b[0m\u001b[0m\n\u001b[1;32m--> 199\u001b[1;33m     \u001b[0mprevious_getter\u001b[0m \u001b[1;33m=\u001b[0m \u001b[1;32mlambda\u001b[0m \u001b[1;33m**\u001b[0m\u001b[0mkwargs\u001b[0m\u001b[1;33m:\u001b[0m \u001b[0mdefault_variable_creator\u001b[0m\u001b[1;33m(\u001b[0m\u001b[1;32mNone\u001b[0m\u001b[1;33m,\u001b[0m \u001b[1;33m**\u001b[0m\u001b[0mkwargs\u001b[0m\u001b[1;33m)\u001b[0m\u001b[1;33m\u001b[0m\u001b[1;33m\u001b[0m\u001b[0m\n\u001b[0m\u001b[0;32m    200\u001b[0m     \u001b[1;32mfor\u001b[0m \u001b[0m_\u001b[0m\u001b[1;33m,\u001b[0m \u001b[0mgetter\u001b[0m \u001b[1;32min\u001b[0m \u001b[0mops\u001b[0m\u001b[1;33m.\u001b[0m\u001b[0mget_default_graph\u001b[0m\u001b[1;33m(\u001b[0m\u001b[1;33m)\u001b[0m\u001b[1;33m.\u001b[0m\u001b[0m_variable_creator_stack\u001b[0m\u001b[1;33m:\u001b[0m  \u001b[1;31m# pylint: disable=protected-access\u001b[0m\u001b[1;33m\u001b[0m\u001b[1;33m\u001b[0m\u001b[0m\n\u001b[0;32m    201\u001b[0m       \u001b[0mprevious_getter\u001b[0m \u001b[1;33m=\u001b[0m \u001b[0m_make_getter\u001b[0m\u001b[1;33m(\u001b[0m\u001b[0mgetter\u001b[0m\u001b[1;33m,\u001b[0m \u001b[0mprevious_getter\u001b[0m\u001b[1;33m)\u001b[0m\u001b[1;33m\u001b[0m\u001b[1;33m\u001b[0m\u001b[0m\n",
      "\u001b[1;32mC:\\Program Files\\Python38\\lib\\site-packages\\tensorflow\\python\\ops\\variable_scope.py\u001b[0m in \u001b[0;36mdefault_variable_creator\u001b[1;34m(next_creator, **kwargs)\u001b[0m\n\u001b[0;32m   2602\u001b[0m   \u001b[1;32mif\u001b[0m \u001b[0muse_resource\u001b[0m\u001b[1;33m:\u001b[0m\u001b[1;33m\u001b[0m\u001b[1;33m\u001b[0m\u001b[0m\n\u001b[0;32m   2603\u001b[0m     \u001b[0mdistribute_strategy\u001b[0m \u001b[1;33m=\u001b[0m \u001b[0mkwargs\u001b[0m\u001b[1;33m.\u001b[0m\u001b[0mget\u001b[0m\u001b[1;33m(\u001b[0m\u001b[1;34m\"distribute_strategy\"\u001b[0m\u001b[1;33m,\u001b[0m \u001b[1;32mNone\u001b[0m\u001b[1;33m)\u001b[0m\u001b[1;33m\u001b[0m\u001b[1;33m\u001b[0m\u001b[0m\n\u001b[1;32m-> 2604\u001b[1;33m     return resource_variable_ops.ResourceVariable(\n\u001b[0m\u001b[0;32m   2605\u001b[0m         \u001b[0minitial_value\u001b[0m\u001b[1;33m=\u001b[0m\u001b[0minitial_value\u001b[0m\u001b[1;33m,\u001b[0m\u001b[1;33m\u001b[0m\u001b[1;33m\u001b[0m\u001b[0m\n\u001b[0;32m   2606\u001b[0m         \u001b[0mtrainable\u001b[0m\u001b[1;33m=\u001b[0m\u001b[0mtrainable\u001b[0m\u001b[1;33m,\u001b[0m\u001b[1;33m\u001b[0m\u001b[1;33m\u001b[0m\u001b[0m\n",
      "\u001b[1;32mC:\\Program Files\\Python38\\lib\\site-packages\\tensorflow\\python\\ops\\variables.py\u001b[0m in \u001b[0;36m__call__\u001b[1;34m(cls, *args, **kwargs)\u001b[0m\n\u001b[0;32m    262\u001b[0m       \u001b[1;32mreturn\u001b[0m \u001b[0mcls\u001b[0m\u001b[1;33m.\u001b[0m\u001b[0m_variable_v2_call\u001b[0m\u001b[1;33m(\u001b[0m\u001b[1;33m*\u001b[0m\u001b[0margs\u001b[0m\u001b[1;33m,\u001b[0m \u001b[1;33m**\u001b[0m\u001b[0mkwargs\u001b[0m\u001b[1;33m)\u001b[0m\u001b[1;33m\u001b[0m\u001b[1;33m\u001b[0m\u001b[0m\n\u001b[0;32m    263\u001b[0m     \u001b[1;32melse\u001b[0m\u001b[1;33m:\u001b[0m\u001b[1;33m\u001b[0m\u001b[1;33m\u001b[0m\u001b[0m\n\u001b[1;32m--> 264\u001b[1;33m       \u001b[1;32mreturn\u001b[0m \u001b[0msuper\u001b[0m\u001b[1;33m(\u001b[0m\u001b[0mVariableMetaclass\u001b[0m\u001b[1;33m,\u001b[0m \u001b[0mcls\u001b[0m\u001b[1;33m)\u001b[0m\u001b[1;33m.\u001b[0m\u001b[0m__call__\u001b[0m\u001b[1;33m(\u001b[0m\u001b[1;33m*\u001b[0m\u001b[0margs\u001b[0m\u001b[1;33m,\u001b[0m \u001b[1;33m**\u001b[0m\u001b[0mkwargs\u001b[0m\u001b[1;33m)\u001b[0m\u001b[1;33m\u001b[0m\u001b[1;33m\u001b[0m\u001b[0m\n\u001b[0m\u001b[0;32m    265\u001b[0m \u001b[1;33m\u001b[0m\u001b[0m\n\u001b[0;32m    266\u001b[0m \u001b[1;33m\u001b[0m\u001b[0m\n",
      "\u001b[1;32mC:\\Program Files\\Python38\\lib\\site-packages\\tensorflow\\python\\ops\\resource_variable_ops.py\u001b[0m in \u001b[0;36m__init__\u001b[1;34m(self, initial_value, trainable, collections, validate_shape, caching_device, name, dtype, variable_def, import_scope, constraint, distribute_strategy, synchronization, aggregation, shape)\u001b[0m\n\u001b[0;32m   1572\u001b[0m       \u001b[0mself\u001b[0m\u001b[1;33m.\u001b[0m\u001b[0m_init_from_proto\u001b[0m\u001b[1;33m(\u001b[0m\u001b[0mvariable_def\u001b[0m\u001b[1;33m,\u001b[0m \u001b[0mimport_scope\u001b[0m\u001b[1;33m=\u001b[0m\u001b[0mimport_scope\u001b[0m\u001b[1;33m)\u001b[0m\u001b[1;33m\u001b[0m\u001b[1;33m\u001b[0m\u001b[0m\n\u001b[0;32m   1573\u001b[0m     \u001b[1;32melse\u001b[0m\u001b[1;33m:\u001b[0m\u001b[1;33m\u001b[0m\u001b[1;33m\u001b[0m\u001b[0m\n\u001b[1;32m-> 1574\u001b[1;33m       self._init_from_args(\n\u001b[0m\u001b[0;32m   1575\u001b[0m           \u001b[0minitial_value\u001b[0m\u001b[1;33m=\u001b[0m\u001b[0minitial_value\u001b[0m\u001b[1;33m,\u001b[0m\u001b[1;33m\u001b[0m\u001b[1;33m\u001b[0m\u001b[0m\n\u001b[0;32m   1576\u001b[0m           \u001b[0mtrainable\u001b[0m\u001b[1;33m=\u001b[0m\u001b[0mtrainable\u001b[0m\u001b[1;33m,\u001b[0m\u001b[1;33m\u001b[0m\u001b[1;33m\u001b[0m\u001b[0m\n",
      "\u001b[1;32mC:\\Program Files\\Python38\\lib\\site-packages\\tensorflow\\python\\ops\\resource_variable_ops.py\u001b[0m in \u001b[0;36m_init_from_args\u001b[1;34m(self, initial_value, trainable, collections, caching_device, name, dtype, constraint, synchronization, aggregation, distribute_strategy, shape)\u001b[0m\n\u001b[0;32m   1710\u001b[0m           \u001b[1;32mwith\u001b[0m \u001b[0mops\u001b[0m\u001b[1;33m.\u001b[0m\u001b[0mname_scope\u001b[0m\u001b[1;33m(\u001b[0m\u001b[1;34m\"Initializer\"\u001b[0m\u001b[1;33m)\u001b[0m\u001b[1;33m,\u001b[0m \u001b[0mdevice_context_manager\u001b[0m\u001b[1;33m(\u001b[0m\u001b[1;32mNone\u001b[0m\u001b[1;33m)\u001b[0m\u001b[1;33m:\u001b[0m\u001b[1;33m\u001b[0m\u001b[1;33m\u001b[0m\u001b[0m\n\u001b[0;32m   1711\u001b[0m             \u001b[1;32mif\u001b[0m \u001b[0minit_from_fn\u001b[0m\u001b[1;33m:\u001b[0m\u001b[1;33m\u001b[0m\u001b[1;33m\u001b[0m\u001b[0m\n\u001b[1;32m-> 1712\u001b[1;33m               \u001b[0minitial_value\u001b[0m \u001b[1;33m=\u001b[0m \u001b[0minitial_value\u001b[0m\u001b[1;33m(\u001b[0m\u001b[1;33m)\u001b[0m\u001b[1;33m\u001b[0m\u001b[1;33m\u001b[0m\u001b[0m\n\u001b[0m\u001b[0;32m   1713\u001b[0m             \u001b[1;32mif\u001b[0m \u001b[0misinstance\u001b[0m\u001b[1;33m(\u001b[0m\u001b[0minitial_value\u001b[0m\u001b[1;33m,\u001b[0m \u001b[0mtrackable\u001b[0m\u001b[1;33m.\u001b[0m\u001b[0mCheckpointInitialValue\u001b[0m\u001b[1;33m)\u001b[0m\u001b[1;33m:\u001b[0m\u001b[1;33m\u001b[0m\u001b[1;33m\u001b[0m\u001b[0m\n\u001b[0;32m   1714\u001b[0m               \u001b[0mself\u001b[0m\u001b[1;33m.\u001b[0m\u001b[0m_maybe_initialize_trackable\u001b[0m\u001b[1;33m(\u001b[0m\u001b[1;33m)\u001b[0m\u001b[1;33m\u001b[0m\u001b[1;33m\u001b[0m\u001b[0m\n",
      "\u001b[1;32mC:\\Program Files\\Python38\\lib\\site-packages\\tensorflow\\python\\keras\\initializers\\initializers_v2.py\u001b[0m in \u001b[0;36m__call__\u001b[1;34m(self, shape, dtype, **kwargs)\u001b[0m\n\u001b[0;32m    407\u001b[0m       \u001b[1;33m**\u001b[0m\u001b[0mkwargs\u001b[0m\u001b[1;33m:\u001b[0m \u001b[0mAdditional\u001b[0m \u001b[0mkeyword\u001b[0m \u001b[0marguments\u001b[0m\u001b[1;33m.\u001b[0m\u001b[1;33m\u001b[0m\u001b[1;33m\u001b[0m\u001b[0m\n\u001b[0;32m    408\u001b[0m     \"\"\"\n\u001b[1;32m--> 409\u001b[1;33m     return super(VarianceScaling, self).__call__(\n\u001b[0m\u001b[0;32m    410\u001b[0m         shape, dtype=_get_dtype(dtype), **kwargs)\n\u001b[0;32m    411\u001b[0m \u001b[1;33m\u001b[0m\u001b[0m\n",
      "\u001b[1;32mC:\\Program Files\\Python38\\lib\\site-packages\\tensorflow\\python\\ops\\init_ops_v2.py\u001b[0m in \u001b[0;36m__call__\u001b[1;34m(self, shape, dtype, **kwargs)\u001b[0m\n\u001b[0;32m    598\u001b[0m     \u001b[1;32melse\u001b[0m\u001b[1;33m:\u001b[0m\u001b[1;33m\u001b[0m\u001b[1;33m\u001b[0m\u001b[0m\n\u001b[0;32m    599\u001b[0m       \u001b[0mlimit\u001b[0m \u001b[1;33m=\u001b[0m \u001b[0mmath\u001b[0m\u001b[1;33m.\u001b[0m\u001b[0msqrt\u001b[0m\u001b[1;33m(\u001b[0m\u001b[1;36m3.0\u001b[0m \u001b[1;33m*\u001b[0m \u001b[0mscale\u001b[0m\u001b[1;33m)\u001b[0m\u001b[1;33m\u001b[0m\u001b[1;33m\u001b[0m\u001b[0m\n\u001b[1;32m--> 600\u001b[1;33m       \u001b[1;32mreturn\u001b[0m \u001b[0mself\u001b[0m\u001b[1;33m.\u001b[0m\u001b[0m_random_generator\u001b[0m\u001b[1;33m.\u001b[0m\u001b[0mrandom_uniform\u001b[0m\u001b[1;33m(\u001b[0m\u001b[0mshape\u001b[0m\u001b[1;33m,\u001b[0m \u001b[1;33m-\u001b[0m\u001b[0mlimit\u001b[0m\u001b[1;33m,\u001b[0m \u001b[0mlimit\u001b[0m\u001b[1;33m,\u001b[0m \u001b[0mdtype\u001b[0m\u001b[1;33m)\u001b[0m\u001b[1;33m\u001b[0m\u001b[1;33m\u001b[0m\u001b[0m\n\u001b[0m\u001b[0;32m    601\u001b[0m \u001b[1;33m\u001b[0m\u001b[0m\n\u001b[0;32m    602\u001b[0m   \u001b[1;32mdef\u001b[0m \u001b[0mget_config\u001b[0m\u001b[1;33m(\u001b[0m\u001b[0mself\u001b[0m\u001b[1;33m)\u001b[0m\u001b[1;33m:\u001b[0m\u001b[1;33m\u001b[0m\u001b[1;33m\u001b[0m\u001b[0m\n",
      "\u001b[1;32mC:\\Program Files\\Python38\\lib\\site-packages\\tensorflow\\python\\ops\\init_ops_v2.py\u001b[0m in \u001b[0;36mrandom_uniform\u001b[1;34m(self, shape, minval, maxval, dtype)\u001b[0m\n\u001b[0;32m   1079\u001b[0m     \u001b[1;32melse\u001b[0m\u001b[1;33m:\u001b[0m\u001b[1;33m\u001b[0m\u001b[1;33m\u001b[0m\u001b[0m\n\u001b[0;32m   1080\u001b[0m       \u001b[0mop\u001b[0m \u001b[1;33m=\u001b[0m \u001b[0mrandom_ops\u001b[0m\u001b[1;33m.\u001b[0m\u001b[0mrandom_uniform\u001b[0m\u001b[1;33m\u001b[0m\u001b[1;33m\u001b[0m\u001b[0m\n\u001b[1;32m-> 1081\u001b[1;33m     return op(\n\u001b[0m\u001b[0;32m   1082\u001b[0m         shape=shape, minval=minval, maxval=maxval, dtype=dtype, seed=self.seed)\n\u001b[0;32m   1083\u001b[0m \u001b[1;33m\u001b[0m\u001b[0m\n",
      "\u001b[1;32mC:\\Program Files\\Python38\\lib\\site-packages\\tensorflow\\python\\util\\dispatch.py\u001b[0m in \u001b[0;36mwrapper\u001b[1;34m(*args, **kwargs)\u001b[0m\n\u001b[0;32m    199\u001b[0m     \u001b[1;34m\"\"\"Call target, and fall back on dispatchers if there is a TypeError.\"\"\"\u001b[0m\u001b[1;33m\u001b[0m\u001b[1;33m\u001b[0m\u001b[0m\n\u001b[0;32m    200\u001b[0m     \u001b[1;32mtry\u001b[0m\u001b[1;33m:\u001b[0m\u001b[1;33m\u001b[0m\u001b[1;33m\u001b[0m\u001b[0m\n\u001b[1;32m--> 201\u001b[1;33m       \u001b[1;32mreturn\u001b[0m \u001b[0mtarget\u001b[0m\u001b[1;33m(\u001b[0m\u001b[1;33m*\u001b[0m\u001b[0margs\u001b[0m\u001b[1;33m,\u001b[0m \u001b[1;33m**\u001b[0m\u001b[0mkwargs\u001b[0m\u001b[1;33m)\u001b[0m\u001b[1;33m\u001b[0m\u001b[1;33m\u001b[0m\u001b[0m\n\u001b[0m\u001b[0;32m    202\u001b[0m     \u001b[1;32mexcept\u001b[0m \u001b[1;33m(\u001b[0m\u001b[0mTypeError\u001b[0m\u001b[1;33m,\u001b[0m \u001b[0mValueError\u001b[0m\u001b[1;33m)\u001b[0m\u001b[1;33m:\u001b[0m\u001b[1;33m\u001b[0m\u001b[1;33m\u001b[0m\u001b[0m\n\u001b[0;32m    203\u001b[0m       \u001b[1;31m# Note: convert_to_eager_tensor currently raises a ValueError, not a\u001b[0m\u001b[1;33m\u001b[0m\u001b[1;33m\u001b[0m\u001b[1;33m\u001b[0m\u001b[0m\n",
      "\u001b[1;32mC:\\Program Files\\Python38\\lib\\site-packages\\tensorflow\\python\\ops\\random_ops.py\u001b[0m in \u001b[0;36mrandom_uniform\u001b[1;34m(shape, minval, maxval, dtype, seed, name)\u001b[0m\n\u001b[0;32m    306\u001b[0m           \u001b[0mresult\u001b[0m \u001b[1;33m=\u001b[0m \u001b[0mmath_ops\u001b[0m\u001b[1;33m.\u001b[0m\u001b[0mmultiply\u001b[0m\u001b[1;33m(\u001b[0m\u001b[0mresult\u001b[0m\u001b[1;33m,\u001b[0m \u001b[0mmaxval\u001b[0m\u001b[1;33m)\u001b[0m\u001b[1;33m\u001b[0m\u001b[1;33m\u001b[0m\u001b[0m\n\u001b[0;32m    307\u001b[0m       \u001b[1;32melse\u001b[0m\u001b[1;33m:\u001b[0m\u001b[1;33m\u001b[0m\u001b[1;33m\u001b[0m\u001b[0m\n\u001b[1;32m--> 308\u001b[1;33m         \u001b[0mresult\u001b[0m \u001b[1;33m=\u001b[0m \u001b[0mmath_ops\u001b[0m\u001b[1;33m.\u001b[0m\u001b[0madd\u001b[0m\u001b[1;33m(\u001b[0m\u001b[0mresult\u001b[0m \u001b[1;33m*\u001b[0m \u001b[1;33m(\u001b[0m\u001b[0mmaxval\u001b[0m \u001b[1;33m-\u001b[0m \u001b[0mminval\u001b[0m\u001b[1;33m)\u001b[0m\u001b[1;33m,\u001b[0m \u001b[0mminval\u001b[0m\u001b[1;33m,\u001b[0m \u001b[0mname\u001b[0m\u001b[1;33m=\u001b[0m\u001b[0mname\u001b[0m\u001b[1;33m)\u001b[0m\u001b[1;33m\u001b[0m\u001b[1;33m\u001b[0m\u001b[0m\n\u001b[0m\u001b[0;32m    309\u001b[0m     \u001b[1;31m# TODO(b/132092188): C++ shape inference inside functional ops does not\u001b[0m\u001b[1;33m\u001b[0m\u001b[1;33m\u001b[0m\u001b[1;33m\u001b[0m\u001b[0m\n\u001b[0;32m    310\u001b[0m     \u001b[1;31m# cross FuncGraph boundaries since that information is only available in\u001b[0m\u001b[1;33m\u001b[0m\u001b[1;33m\u001b[0m\u001b[1;33m\u001b[0m\u001b[0m\n",
      "\u001b[1;32mC:\\Program Files\\Python38\\lib\\site-packages\\tensorflow\\python\\ops\\gen_math_ops.py\u001b[0m in \u001b[0;36madd\u001b[1;34m(x, y, name)\u001b[0m\n\u001b[0;32m    320\u001b[0m   \u001b[1;32mif\u001b[0m \u001b[0mtld\u001b[0m\u001b[1;33m.\u001b[0m\u001b[0mis_eager\u001b[0m\u001b[1;33m:\u001b[0m\u001b[1;33m\u001b[0m\u001b[1;33m\u001b[0m\u001b[0m\n\u001b[0;32m    321\u001b[0m     \u001b[1;32mtry\u001b[0m\u001b[1;33m:\u001b[0m\u001b[1;33m\u001b[0m\u001b[1;33m\u001b[0m\u001b[0m\n\u001b[1;32m--> 322\u001b[1;33m       _result = pywrap_tfe.TFE_Py_FastPathExecute(\n\u001b[0m\u001b[0;32m    323\u001b[0m         _ctx, \"Add\", name, x, y)\n\u001b[0;32m    324\u001b[0m       \u001b[1;32mreturn\u001b[0m \u001b[0m_result\u001b[0m\u001b[1;33m\u001b[0m\u001b[1;33m\u001b[0m\u001b[0m\n",
      "\u001b[1;31mKeyboardInterrupt\u001b[0m: "
     ]
    }
   ],
   "source": [
    "n_labels = y_labels[0].shape[0]\n",
    "print(n_labels)\n",
    "cgen_img_model = create_img_cgenerator(latent_dims, n_labels, img_cgen_cfg)\n",
    "print(\"CGAN-img Generator Definition\")\n",
    "# dis_model = Sequential(slim_dis_layers)\n",
    "cgen_img_model.model_name = \"CGAN-img Generator\"\n",
    "\n",
    "# DONT compile model\n",
    "# cdis_model.trainable = False\n",
    "cgen_img_model.summary()"
   ]
  },
  {
   "cell_type": "code",
   "execution_count": null,
   "metadata": {},
   "outputs": [],
   "source": [
    "img_shape = X_img[0].shape\n",
    "cdis_img_model = create_img_cdiscriminator(img_shape, n_labels, img_cdis_cfg)\n",
    "print(\"CGAN-img Discriminator Definition\")\n",
    "# dis_model = Sequential(slim_dis_layers)\n",
    "cdis_img_model.model_name = \"CGAN-img Discriminator\"\n",
    "\n",
    "# compile model\n",
    "cdis_img_model.compile(loss=img_cdis_cfg[\"loss\"], \n",
    "                    optimizer=img_cdis_cfg[\"optimizer\"], \n",
    "                    metrics=img_cdis_cfg[\"metrics\"])\n",
    "\n",
    "# cdis_model.trainable = False\n",
    "cdis_img_model.summary()"
   ]
  },
  {
   "cell_type": "code",
   "execution_count": null,
   "metadata": {},
   "outputs": [],
   "source": [
    "print(\"CGAN-img Model definition\")\n",
    "cgan_img_model = create_img_cgan(cgen_img_model, cdis_img_model, gan_cfg)\n",
    "cgan_img_model.summary()\n",
    "cgan_img_model.model_name = \"CGAN-img\""
   ]
  },
  {
   "cell_type": "code",
   "execution_count": null,
   "metadata": {},
   "outputs": [],
   "source": [
    "# saving model topology into png files\n",
    "print(timestamp)\n",
    "export_model(cgen_img_model, model_fn_path, cgen_img_model.model_name, timestamp)\n",
    "export_model(cdis_img_model, model_fn_path, cdis_img_model.model_name, timestamp)\n",
    "export_model(cgan_img_model, model_fn_path, cgan_img_model.model_name, timestamp)"
   ]
  },
  {
   "source": [
    "### Multi CGAN-txt2img"
   ],
   "cell_type": "markdown",
   "metadata": {}
  },
  {
   "cell_type": "code",
   "execution_count": null,
   "metadata": {},
   "outputs": [],
   "source": [
    "multi_cgen_model = create_multi_cgenerator(latent_dims, img_shape, txt_shape, n_labels, multi_cgen_cfg)\n",
    "print(\"Multi CGAN-txt2img Generator Definition\")\n",
    "# dis_model = Sequential(slim_dis_layers)\n",
    "multi_cgen_model.model_name = \"Multi CGAN-txt2img Generator\"\n",
    "\n",
    "# DONT compile model\n",
    "# cdis_model.trainable = False\n",
    "multi_cgen_model.summary()"
   ]
  },
  {
   "cell_type": "code",
   "execution_count": null,
   "metadata": {},
   "outputs": [],
   "source": [
    "multi_cdis_model = create_multi_cdiscriminator(img_shape, txt_shape, n_labels, multi_cdis_cfg)\n",
    "print(\"Multi CGAN-txt2img Discriminator Definition\")\n",
    "# dis_model = Sequential(slim_dis_layers)\n",
    "multi_cdis_model.model_name = \"Multi CGAN-txt2img Discriminator\"\n",
    "# compile model\n",
    "\n",
    "multi_cdis_model.compile(loss=multi_cdis_cfg[\"loss\"], \n",
    "                    optimizer=multi_cdis_cfg[\"optimizer\"], \n",
    "                    metrics=multi_cdis_cfg[\"metrics\"])\n",
    "\n",
    "# compile model\n",
    "multi_cdis_model.summary()"
   ]
  },
  {
   "cell_type": "code",
   "execution_count": null,
   "metadata": {},
   "outputs": [],
   "source": [
    "print(\"Multi CGAN-txt2img Model definition\")\n",
    "multi_cgan_model = create_multi_cgan(multi_cgen_model, multi_cdis_model, gan_cfg)\n",
    "multi_cgan_model.summary()\n",
    "multi_cgan_model.model_name = \"Multi CGAN-txt2img\""
   ]
  },
  {
   "cell_type": "code",
   "execution_count": null,
   "metadata": {},
   "outputs": [],
   "source": [
    "# saving model topology into png files\n",
    "print(timestamp)\n",
    "export_model(multi_cgen_model, model_fn_path, multi_cgen_model.model_name, timestamp)\n",
    "export_model(multi_cdis_model, model_fn_path, multi_cdis_model.model_name, timestamp)\n",
    "export_model(multi_cgan_model, model_fn_path, multi_cgan_model.model_name, timestamp)"
   ]
  },
  {
   "cell_type": "code",
   "execution_count": 156,
   "metadata": {},
   "outputs": [
    {
     "output_type": "stream",
     "name": "stdout",
     "text": [
      "-Images: (59, 256, 256, 3) \n-Text: (59, 15, 142) \n-Real/Fake: (59, 1) \n-txt&img Labels: (59, 16)\n"
     ]
    }
   ],
   "source": [
    "print(\"-Images:\", X_img.shape, \"\\n-Text:\", X_txt.shape, \"\\n-Real/Fake:\", y.shape, \"\\n-txt&img Labels:\", y_labels.shape)"
   ]
  },
  {
   "cell_type": "code",
   "execution_count": 157,
   "metadata": {},
   "outputs": [],
   "source": [
    "def format_tfidf_tokens(tfidf_tokens):\n",
    "\n",
    "    tfidf_dict = list()\n",
    "\n",
    "    for tfidf in tfidf_tokens:\n",
    "\n",
    "        tfidf = eval(tfidf)\n",
    "        # print(type(tfidf), tfidf)\n",
    "        td = dict(tfidf)\n",
    "        tfidf_dict.append(td)\n",
    "\n",
    "    return tfidf_dict"
   ]
  },
  {
   "cell_type": "code",
   "execution_count": 158,
   "metadata": {
    "tags": []
   },
   "outputs": [
    {
     "output_type": "stream",
     "name": "stdout",
     "text": [
      "Model Training Config:\n dict_keys(['max_epochs', 'latent_dims', 'batch_size', 'synth_batch', 'balance_batch', 'gen_sample_size', 'models_fn_path', 'report_fn_path', 'dis_model_name', 'gen_model_name', 'gan_model_name', 'check_epochs', 'save_epochs', 'max_save_models', 'pretrained', 'conditioned', 'dataset_size', 'img_shape', 'txt_shape', 'label_shape', 'cat_shape', 'data_cols', 'bow_lexicon', 'tfidf_lexicon'])\n"
     ]
    }
   ],
   "source": [
    "# training and batch size\n",
    "gan_train_cfg = {\n",
    "    \"max_epochs\": 500,\n",
    "    \"latent_dims\": latent_dims,\n",
    "    # \"max_epochs\": ini_config.get(\"Training\", \"MaxEpochs\"),\n",
    "    # \"trained_epochs\": ini_config.get(\"Training\", \"TrainedEpochs\"),\n",
    "    \"batch_size\": 32,\n",
    "    \"synth_batch\": 1,\n",
    "    \"balance_batch\": False,\n",
    "    \"gen_sample_size\": 3,\n",
    "    \"models_fn_path\": model_fn_path,\n",
    "    \"report_fn_path\": report_fn_path,\n",
    "    # \"ini_fn_path\": ini_fn_path,\n",
    "    # \"ini_cfg_fn\": ini_fn,\n",
    "    # \"dis_model_name\": multi_cgen_model.model_name,\n",
    "    # \"gen_model_name\": multi_cdis_model.model_name,\n",
    "    # \"gan_model_name\": multi_cgan_model.model_name,\n",
    "    # \"dis_model_name\": cdis_img_model.model_name,\n",
    "    # \"gen_model_name\": cgen_img_model.model_name,\n",
    "    # \"gan_model_name\": cgan_img_model.model_name,\n",
    "    \"dis_model_name\": dis_model.model_name,\n",
    "    \"gen_model_name\": gen_model.model_name,\n",
    "    \"gan_model_name\": gan_model.model_name,\n",
    "    \"check_epochs\": 10,\n",
    "    \"save_epochs\": 50,\n",
    "    \"max_save_models\": 3,\n",
    "    \"latent_dims\": latent_dims, # X_txt[0].shape,\n",
    "    \"pretrained\": False,\n",
    "    \"conditioned\": True,\n",
    "    \"dataset_size\": X_img.shape[0],\n",
    "    \"img_shape\": X_img[0].shape,\n",
    "    \"txt_shape\": X_txt[0].shape,\n",
    "    \"label_shape\": y_labels[0].shape,\n",
    "    \"cat_shape\": y[0].shape,\n",
    "    \"data_cols\": 2,\n",
    "    # \"data_cols\": 3,\n",
    "    # \"data_cols\": 4,\n",
    "    \"bow_lexicon\": load_lexicon(lex_fn_path),\n",
    "    \"tfidf_lexicon\": format_tfidf_tokens(tfidf_tokens.values),\n",
    "    }\n",
    "\n",
    "print(\"Model Training Config:\\n\", gan_train_cfg.keys())"
   ]
  },
  {
   "cell_type": "code",
   "execution_count": 159,
   "metadata": {},
   "outputs": [
    {
     "output_type": "stream",
     "name": "stdout",
     "text": [
      "(59, 256, 256, 3) (59, 15, 142) (59, 16) (59, 1)\n2\n"
     ]
    }
   ],
   "source": [
    "gan_data = (X_img, y)\n",
    "# gan_data = (X_img, y_labels, y)\n",
    "# gan_data = (X_img, X_txt, y_labels, y)\n",
    "print(X_img.shape, X_txt.shape, y_labels.shape, y.shape)\n",
    "print(len(gan_data))"
   ]
  },
  {
   "cell_type": "code",
   "execution_count": 390,
   "metadata": {
    "tags": []
   },
   "outputs": [
    {
     "output_type": "stream",
     "name": "stdout",
     "text": [
      ">>> Epoch: 1, B/Ep: 1/1, Batch S: 32 -> [R-Dis loss: 1.024, acc: 0.125] || [F-Dis loss: 1.014, acc: 0.062] || [Gen loss: 0.689, acc: 0.000]\n",
      "Epoch: 1 Testing model training process...\n",
      "WARNING:tensorflow:5 out of the last 15 calls to <function Model.make_predict_function.<locals>.predict_function at 0x000001FE0F54B670> triggered tf.function retracing. Tracing is expensive and the excessive number of tracings could be due to (1) creating @tf.function repeatedly in a loop, (2) passing tensors with different shapes, (3) passing Python objects instead of tensors. For (1), please define your @tf.function outside of the loop. For (2), @tf.function has experimental_relax_shapes=True option that relaxes argument shapes that can avoid unnecessary retracing. For (3), please refer to https://www.tensorflow.org/guide/function#controlling_retracing and https://www.tensorflow.org/api_docs/python/tf/function for  more details.\n",
      "No handles with labels found to put in legend.\n",
      "1\n",
      "Batch Size 32 -> Samples: Fake: 16 & Real: 16\n",
      ">>> Test Fake -> Acc: 0.062 || Loss: 0.694\n",
      ">>> Test Real -> Acc: 0.938 || Loss: 0.690\n",
      "Ploting results\n",
      "Epoch: 1 Saving the training progress...\n"
     ]
    },
    {
     "output_type": "error",
     "ename": "OSError",
     "evalue": "Unable to create link (name already exists)",
     "traceback": [
      "\u001b[1;31m---------------------------------------------------------------------------\u001b[0m",
      "\u001b[1;31mOSError\u001b[0m                                   Traceback (most recent call last)",
      "\u001b[1;32m<ipython-input-390-241dc7e0cd87>\u001b[0m in \u001b[0;36m<module>\u001b[1;34m\u001b[0m\n\u001b[0;32m      1\u001b[0m \u001b[1;31m# traininng with the traditional gan\u001b[0m\u001b[1;33m\u001b[0m\u001b[1;33m\u001b[0m\u001b[1;33m\u001b[0m\u001b[0m\n\u001b[1;32m----> 2\u001b[1;33m \u001b[0mtraining_model\u001b[0m\u001b[1;33m(\u001b[0m\u001b[0mgen_model\u001b[0m\u001b[1;33m,\u001b[0m \u001b[0mdis_model\u001b[0m\u001b[1;33m,\u001b[0m \u001b[0mgan_model\u001b[0m\u001b[1;33m,\u001b[0m \u001b[0mgan_data\u001b[0m\u001b[1;33m,\u001b[0m \u001b[0mgan_train_cfg\u001b[0m\u001b[1;33m)\u001b[0m\u001b[1;33m\u001b[0m\u001b[1;33m\u001b[0m\u001b[0m\n\u001b[0m\u001b[0;32m      3\u001b[0m \u001b[1;33m\u001b[0m\u001b[0m\n\u001b[0;32m      4\u001b[0m \u001b[1;31m# training with the conditional gan with images\u001b[0m\u001b[1;33m\u001b[0m\u001b[1;33m\u001b[0m\u001b[1;33m\u001b[0m\u001b[0m\n\u001b[0;32m      5\u001b[0m \u001b[1;31m# training_model(cgen_img_model, cdis_img_model, cgan_img_model, gan_data, gan_train_cfg)\u001b[0m\u001b[1;33m\u001b[0m\u001b[1;33m\u001b[0m\u001b[1;33m\u001b[0m\u001b[0m\n",
      "\u001b[1;32m<ipython-input-223-77e1a32b774c>\u001b[0m in \u001b[0;36mtraining_model\u001b[1;34m(gen_model, dis_model, gan_model, data, train_cfg)\u001b[0m\n\u001b[0;32m    133\u001b[0m         \u001b[1;32mif\u001b[0m \u001b[1;33m(\u001b[0m\u001b[0mep\u001b[0m\u001b[1;33m)\u001b[0m \u001b[1;33m%\u001b[0m \u001b[0msave_intervas\u001b[0m \u001b[1;33m==\u001b[0m \u001b[1;36m0\u001b[0m\u001b[1;33m:\u001b[0m\u001b[1;33m\u001b[0m\u001b[1;33m\u001b[0m\u001b[0m\n\u001b[0;32m    134\u001b[0m             \u001b[0mprint\u001b[0m\u001b[1;33m(\u001b[0m\u001b[1;34m\"Epoch:\"\u001b[0m\u001b[1;33m,\u001b[0m \u001b[0mep\u001b[0m\u001b[1;33m+\u001b[0m\u001b[1;36m1\u001b[0m\u001b[1;33m,\u001b[0m \u001b[1;34m\"Saving the training progress...\"\u001b[0m\u001b[1;33m)\u001b[0m\u001b[1;33m\u001b[0m\u001b[1;33m\u001b[0m\u001b[0m\n\u001b[1;32m--> 135\u001b[1;33m             \u001b[0msave_models\u001b[0m\u001b[1;33m(\u001b[0m\u001b[0mdis_model\u001b[0m\u001b[1;33m,\u001b[0m \u001b[0mgen_model\u001b[0m\u001b[1;33m,\u001b[0m \u001b[0mgan_model\u001b[0m\u001b[1;33m,\u001b[0m \u001b[0mtrain_cfg\u001b[0m\u001b[1;33m,\u001b[0m \u001b[0mtest_cfg\u001b[0m\u001b[1;33m)\u001b[0m\u001b[1;33m\u001b[0m\u001b[1;33m\u001b[0m\u001b[0m\n\u001b[0m\u001b[0;32m    136\u001b[0m             \u001b[0mclear_models\u001b[0m\u001b[1;33m(\u001b[0m\u001b[0mtrain_cfg\u001b[0m\u001b[1;33m,\u001b[0m \u001b[0mtest_cfg\u001b[0m\u001b[1;33m)\u001b[0m\u001b[1;33m\u001b[0m\u001b[1;33m\u001b[0m\u001b[0m\n\u001b[0;32m    137\u001b[0m \u001b[1;33m\u001b[0m\u001b[0m\n",
      "\u001b[1;32m<ipython-input-224-380d41f09965>\u001b[0m in \u001b[0;36msave_models\u001b[1;34m(dis_model, gen_model, gan_model, train_cfg, test_cfg)\u001b[0m\n\u001b[0;32m     19\u001b[0m     \u001b[0mgan_path\u001b[0m \u001b[1;33m=\u001b[0m \u001b[0mos\u001b[0m\u001b[1;33m.\u001b[0m\u001b[0mpath\u001b[0m\u001b[1;33m.\u001b[0m\u001b[0mjoin\u001b[0m\u001b[1;33m(\u001b[0m\u001b[0mmodel_fn_path\u001b[0m\u001b[1;33m,\u001b[0m \u001b[1;34m\"GAN\"\u001b[0m\u001b[1;33m)\u001b[0m\u001b[1;33m\u001b[0m\u001b[1;33m\u001b[0m\u001b[0m\n\u001b[0;32m     20\u001b[0m \u001b[1;33m\u001b[0m\u001b[0m\n\u001b[1;32m---> 21\u001b[1;33m     \u001b[0msave_model\u001b[0m\u001b[1;33m(\u001b[0m\u001b[0mdis_model\u001b[0m\u001b[1;33m,\u001b[0m \u001b[0mdis_path\u001b[0m\u001b[1;33m,\u001b[0m \u001b[0mdis_mn\u001b[0m\u001b[1;33m)\u001b[0m\u001b[1;33m\u001b[0m\u001b[1;33m\u001b[0m\u001b[0m\n\u001b[0m\u001b[0;32m     22\u001b[0m     \u001b[0msave_model\u001b[0m\u001b[1;33m(\u001b[0m\u001b[0mgen_model\u001b[0m\u001b[1;33m,\u001b[0m \u001b[0mgen_path\u001b[0m\u001b[1;33m,\u001b[0m \u001b[0mgen_mn\u001b[0m\u001b[1;33m)\u001b[0m\u001b[1;33m\u001b[0m\u001b[1;33m\u001b[0m\u001b[0m\n\u001b[0;32m     23\u001b[0m     \u001b[0msave_model\u001b[0m\u001b[1;33m(\u001b[0m\u001b[0mgan_model\u001b[0m\u001b[1;33m,\u001b[0m \u001b[0mgan_path\u001b[0m\u001b[1;33m,\u001b[0m \u001b[0mgan_mn\u001b[0m\u001b[1;33m)\u001b[0m\u001b[1;33m\u001b[0m\u001b[1;33m\u001b[0m\u001b[0m\n",
      "\u001b[1;32m<ipython-input-186-2a346631965f>\u001b[0m in \u001b[0;36msave_model\u001b[1;34m(model, m_path, m_file)\u001b[0m\n\u001b[0;32m      5\u001b[0m     \u001b[0mfpn\u001b[0m \u001b[1;33m=\u001b[0m \u001b[0mfpn\u001b[0m \u001b[1;33m+\u001b[0m \u001b[1;34m\".h5\"\u001b[0m\u001b[1;33m\u001b[0m\u001b[1;33m\u001b[0m\u001b[0m\n\u001b[0;32m      6\u001b[0m     \u001b[1;31m# print(fpn)\u001b[0m\u001b[1;33m\u001b[0m\u001b[1;33m\u001b[0m\u001b[1;33m\u001b[0m\u001b[0m\n\u001b[1;32m----> 7\u001b[1;33m     \u001b[0mmodel\u001b[0m\u001b[1;33m.\u001b[0m\u001b[0msave\u001b[0m\u001b[1;33m(\u001b[0m\u001b[0mfpn\u001b[0m\u001b[1;33m)\u001b[0m\u001b[1;33m\u001b[0m\u001b[1;33m\u001b[0m\u001b[0m\n\u001b[0m",
      "\u001b[1;32mC:\\Program Files\\Python38\\lib\\site-packages\\tensorflow\\python\\keras\\engine\\training.py\u001b[0m in \u001b[0;36msave\u001b[1;34m(self, filepath, overwrite, include_optimizer, save_format, signatures, options, save_traces)\u001b[0m\n\u001b[0;32m   1999\u001b[0m     \"\"\"\n\u001b[0;32m   2000\u001b[0m     \u001b[1;31m# pylint: enable=line-too-long\u001b[0m\u001b[1;33m\u001b[0m\u001b[1;33m\u001b[0m\u001b[1;33m\u001b[0m\u001b[0m\n\u001b[1;32m-> 2001\u001b[1;33m     save.save_model(self, filepath, overwrite, include_optimizer, save_format,\n\u001b[0m\u001b[0;32m   2002\u001b[0m                     signatures, options, save_traces)\n\u001b[0;32m   2003\u001b[0m \u001b[1;33m\u001b[0m\u001b[0m\n",
      "\u001b[1;32mC:\\Program Files\\Python38\\lib\\site-packages\\tensorflow\\python\\keras\\saving\\save.py\u001b[0m in \u001b[0;36msave_model\u001b[1;34m(model, filepath, overwrite, include_optimizer, save_format, signatures, options, save_traces)\u001b[0m\n\u001b[0;32m    151\u001b[0m           \u001b[1;34m'to the Tensorflow SavedModel format (by setting save_format=\"tf\") '\u001b[0m\u001b[1;33m\u001b[0m\u001b[1;33m\u001b[0m\u001b[0m\n\u001b[0;32m    152\u001b[0m           'or using `save_weights`.')\n\u001b[1;32m--> 153\u001b[1;33m     hdf5_format.save_model_to_hdf5(\n\u001b[0m\u001b[0;32m    154\u001b[0m         model, filepath, overwrite, include_optimizer)\n\u001b[0;32m    155\u001b[0m   \u001b[1;32melse\u001b[0m\u001b[1;33m:\u001b[0m\u001b[1;33m\u001b[0m\u001b[1;33m\u001b[0m\u001b[0m\n",
      "\u001b[1;32mC:\\Program Files\\Python38\\lib\\site-packages\\tensorflow\\python\\keras\\saving\\hdf5_format.py\u001b[0m in \u001b[0;36msave_model_to_hdf5\u001b[1;34m(model, filepath, overwrite, include_optimizer)\u001b[0m\n\u001b[0;32m    129\u001b[0m     if (include_optimizer and model.optimizer and\n\u001b[0;32m    130\u001b[0m         not isinstance(model.optimizer, optimizer_v1.TFOptimizer)):\n\u001b[1;32m--> 131\u001b[1;33m       \u001b[0msave_optimizer_weights_to_hdf5_group\u001b[0m\u001b[1;33m(\u001b[0m\u001b[0mf\u001b[0m\u001b[1;33m,\u001b[0m \u001b[0mmodel\u001b[0m\u001b[1;33m.\u001b[0m\u001b[0moptimizer\u001b[0m\u001b[1;33m)\u001b[0m\u001b[1;33m\u001b[0m\u001b[1;33m\u001b[0m\u001b[0m\n\u001b[0m\u001b[0;32m    132\u001b[0m \u001b[1;33m\u001b[0m\u001b[0m\n\u001b[0;32m    133\u001b[0m     \u001b[0mf\u001b[0m\u001b[1;33m.\u001b[0m\u001b[0mflush\u001b[0m\u001b[1;33m(\u001b[0m\u001b[1;33m)\u001b[0m\u001b[1;33m\u001b[0m\u001b[1;33m\u001b[0m\u001b[0m\n",
      "\u001b[1;32mC:\\Program Files\\Python38\\lib\\site-packages\\tensorflow\\python\\keras\\saving\\hdf5_format.py\u001b[0m in \u001b[0;36msave_optimizer_weights_to_hdf5_group\u001b[1;34m(hdf5_group, optimizer)\u001b[0m\n\u001b[0;32m    593\u001b[0m     \u001b[0mweight_values\u001b[0m \u001b[1;33m=\u001b[0m \u001b[0mK\u001b[0m\u001b[1;33m.\u001b[0m\u001b[0mbatch_get_value\u001b[0m\u001b[1;33m(\u001b[0m\u001b[0msymbolic_weights\u001b[0m\u001b[1;33m)\u001b[0m\u001b[1;33m\u001b[0m\u001b[1;33m\u001b[0m\u001b[0m\n\u001b[0;32m    594\u001b[0m     \u001b[1;32mfor\u001b[0m \u001b[0mname\u001b[0m\u001b[1;33m,\u001b[0m \u001b[0mval\u001b[0m \u001b[1;32min\u001b[0m \u001b[0mzip\u001b[0m\u001b[1;33m(\u001b[0m\u001b[0mweight_names\u001b[0m\u001b[1;33m,\u001b[0m \u001b[0mweight_values\u001b[0m\u001b[1;33m)\u001b[0m\u001b[1;33m:\u001b[0m\u001b[1;33m\u001b[0m\u001b[1;33m\u001b[0m\u001b[0m\n\u001b[1;32m--> 595\u001b[1;33m       param_dset = weights_group.create_dataset(\n\u001b[0m\u001b[0;32m    596\u001b[0m           name, val.shape, dtype=val.dtype)\n\u001b[0;32m    597\u001b[0m       \u001b[1;32mif\u001b[0m \u001b[1;32mnot\u001b[0m \u001b[0mval\u001b[0m\u001b[1;33m.\u001b[0m\u001b[0mshape\u001b[0m\u001b[1;33m:\u001b[0m\u001b[1;33m\u001b[0m\u001b[1;33m\u001b[0m\u001b[0m\n",
      "\u001b[1;32mC:\\Program Files\\Python38\\lib\\site-packages\\h5py\\_hl\\group.py\u001b[0m in \u001b[0;36mcreate_dataset\u001b[1;34m(self, name, shape, dtype, data, **kwds)\u001b[0m\n\u001b[0;32m    137\u001b[0m             \u001b[0mdset\u001b[0m \u001b[1;33m=\u001b[0m \u001b[0mdataset\u001b[0m\u001b[1;33m.\u001b[0m\u001b[0mDataset\u001b[0m\u001b[1;33m(\u001b[0m\u001b[0mdsid\u001b[0m\u001b[1;33m)\u001b[0m\u001b[1;33m\u001b[0m\u001b[1;33m\u001b[0m\u001b[0m\n\u001b[0;32m    138\u001b[0m             \u001b[1;32mif\u001b[0m \u001b[0mname\u001b[0m \u001b[1;32mis\u001b[0m \u001b[1;32mnot\u001b[0m \u001b[1;32mNone\u001b[0m\u001b[1;33m:\u001b[0m\u001b[1;33m\u001b[0m\u001b[1;33m\u001b[0m\u001b[0m\n\u001b[1;32m--> 139\u001b[1;33m                 \u001b[0mself\u001b[0m\u001b[1;33m[\u001b[0m\u001b[0mname\u001b[0m\u001b[1;33m]\u001b[0m \u001b[1;33m=\u001b[0m \u001b[0mdset\u001b[0m\u001b[1;33m\u001b[0m\u001b[1;33m\u001b[0m\u001b[0m\n\u001b[0m\u001b[0;32m    140\u001b[0m             \u001b[1;32mreturn\u001b[0m \u001b[0mdset\u001b[0m\u001b[1;33m\u001b[0m\u001b[1;33m\u001b[0m\u001b[0m\n\u001b[0;32m    141\u001b[0m \u001b[1;33m\u001b[0m\u001b[0m\n",
      "\u001b[1;32mC:\\Program Files\\Python38\\lib\\site-packages\\h5py\\_hl\\group.py\u001b[0m in \u001b[0;36m__setitem__\u001b[1;34m(self, name, obj)\u001b[0m\n\u001b[0;32m    371\u001b[0m \u001b[1;33m\u001b[0m\u001b[0m\n\u001b[0;32m    372\u001b[0m             \u001b[1;32mif\u001b[0m \u001b[0misinstance\u001b[0m\u001b[1;33m(\u001b[0m\u001b[0mobj\u001b[0m\u001b[1;33m,\u001b[0m \u001b[0mHLObject\u001b[0m\u001b[1;33m)\u001b[0m\u001b[1;33m:\u001b[0m\u001b[1;33m\u001b[0m\u001b[1;33m\u001b[0m\u001b[0m\n\u001b[1;32m--> 373\u001b[1;33m                 \u001b[0mh5o\u001b[0m\u001b[1;33m.\u001b[0m\u001b[0mlink\u001b[0m\u001b[1;33m(\u001b[0m\u001b[0mobj\u001b[0m\u001b[1;33m.\u001b[0m\u001b[0mid\u001b[0m\u001b[1;33m,\u001b[0m \u001b[0mself\u001b[0m\u001b[1;33m.\u001b[0m\u001b[0mid\u001b[0m\u001b[1;33m,\u001b[0m \u001b[0mname\u001b[0m\u001b[1;33m,\u001b[0m \u001b[0mlcpl\u001b[0m\u001b[1;33m=\u001b[0m\u001b[0mlcpl\u001b[0m\u001b[1;33m,\u001b[0m \u001b[0mlapl\u001b[0m\u001b[1;33m=\u001b[0m\u001b[0mself\u001b[0m\u001b[1;33m.\u001b[0m\u001b[0m_lapl\u001b[0m\u001b[1;33m)\u001b[0m\u001b[1;33m\u001b[0m\u001b[1;33m\u001b[0m\u001b[0m\n\u001b[0m\u001b[0;32m    374\u001b[0m \u001b[1;33m\u001b[0m\u001b[0m\n\u001b[0;32m    375\u001b[0m             \u001b[1;32melif\u001b[0m \u001b[0misinstance\u001b[0m\u001b[1;33m(\u001b[0m\u001b[0mobj\u001b[0m\u001b[1;33m,\u001b[0m \u001b[0mSoftLink\u001b[0m\u001b[1;33m)\u001b[0m\u001b[1;33m:\u001b[0m\u001b[1;33m\u001b[0m\u001b[1;33m\u001b[0m\u001b[0m\n",
      "\u001b[1;32mh5py\\_objects.pyx\u001b[0m in \u001b[0;36mh5py._objects.with_phil.wrapper\u001b[1;34m()\u001b[0m\n",
      "\u001b[1;32mh5py\\_objects.pyx\u001b[0m in \u001b[0;36mh5py._objects.with_phil.wrapper\u001b[1;34m()\u001b[0m\n",
      "\u001b[1;32mh5py\\h5o.pyx\u001b[0m in \u001b[0;36mh5py.h5o.link\u001b[1;34m()\u001b[0m\n",
      "\u001b[1;31mOSError\u001b[0m: Unable to create link (name already exists)"
     ]
    }
   ],
   "source": [
    "# traininng with the traditional gan\n",
    "training_model(gen_model, dis_model, gan_model, gan_data, gan_train_cfg)\n",
    "\n",
    "# training with the conditional gan with images\n",
    "# training_model(cgen_img_model, cdis_img_model, cgan_img_model, gan_data, gan_train_cfg)\n",
    "\n",
    "# training with the muti conditional gan with images + text\n",
    "# training_model(multi_cgen_model, multi_cdis_model, multi_cgan_model, gan_data, gan_train_cfg)"
   ]
  },
  {
   "source": [
    "# THE END"
   ],
   "cell_type": "markdown",
   "metadata": {}
  }
 ]
}