{
 "metadata": {
  "language_info": {
   "codemirror_mode": {
    "name": "ipython",
    "version": 3
   },
   "file_extension": ".py",
   "mimetype": "text/x-python",
   "name": "python",
   "nbconvert_exporter": "python",
   "pygments_lexer": "ipython3",
   "version": "3.8.6"
  },
  "orig_nbformat": 2,
  "kernelspec": {
   "name": "python386jvsc74a57bd01baa965d5efe3ac65b79dfc60c0d706280b1da80fedb7760faf2759126c4f253",
   "display_name": "Python 3.8.6 64-bit"
  },
  "metadata": {
   "interpreter": {
    "hash": "1baa965d5efe3ac65b79dfc60c0d706280b1da80fedb7760faf2759126c4f253"
   }
  }
 },
 "nbformat": 4,
 "nbformat_minor": 2,
 "cells": [
  {
   "source": [
    "useful links:\n",
    "\n",
    "- Data Preparation for Variable Length Input Sequences, URL: https://machinelearningmastery.com/data-preparation-variable-length-input-sequences-sequence-prediction/\n",
    "- Masking and padding with Keras, URL: https://www.tensorflow.org/guide/keras/masking_and_padding\n",
    "- Step-by-step understanding LSTM Autoencoder layers, URL: https://towardsdatascience.com/step-by-step-understanding-lstm-autoencoder-layers-ffab055b6352XX, \n",
    "- Understanding input_shape parameter in LSTM with Keras, URL: https://stats.stackexchange.com/questions/274478/understanding-input-shape-parameter-in-lstm-with-keras\n",
    "- tf.convert_to_tensor, URL: https://www.tensorflow.org/api_docs/python/tf/convert_to_tensor\n",
    "- ValueError: Failed to convert a NumPy array to a Tensor (Unsupported object type int) in Python, URL: https://datascience.stackexchange.com/questions/82440/valueerror-failed-to-convert-a-numpy-array-to-a-tensor-unsupported-object-type"
   ],
   "cell_type": "markdown",
   "metadata": {}
  },
  {
   "cell_type": "code",
   "execution_count": 1027,
   "metadata": {},
   "outputs": [
    {
     "output_type": "stream",
     "name": "stderr",
     "text": [
      "[nltk_data] Downloading package punkt to\n[nltk_data]     C:\\Users\\Felipe\\AppData\\Roaming\\nltk_data...\n[nltk_data]   Package punkt is already up-to-date!\n[nltk_data] Downloading package stopwords to\n[nltk_data]     C:\\Users\\Felipe\\AppData\\Roaming\\nltk_data...\n[nltk_data]   Package stopwords is already up-to-date!\n[nltk_data] Downloading package wordnet to\n[nltk_data]     C:\\Users\\Felipe\\AppData\\Roaming\\nltk_data...\n[nltk_data]   Package wordnet is already up-to-date!\n"
     ]
    }
   ],
   "source": [
    "\"\"\"\n",
    "* Copyright 2020, Maestria de Humanidades Digitales,\n",
    "* Universidad de Los Andes\n",
    "*\n",
    "* Developed for the Msc graduation project in Digital Humanities\n",
    "*\n",
    "* This program is free software: you can redistribute it and/or modify\n",
    "* it under the terms of the GNU General Public License as published by\n",
    "* the Free Software Foundation, either version 3 of the License, or\n",
    "* (at your option) any later version.\n",
    "*\n",
    "* This program is distributed in the hope that it will be useful,\n",
    "* but WITHOUT ANY WARRANTY; without even the implied warranty of\n",
    "* MERCHANTABILITY or FITNESS FOR A PARTICULAR PURPOSE.  See the\n",
    "* GNU General Public License for more details.\n",
    "*\n",
    "* You should have received a copy of the GNU General Public License\n",
    "* along with this program.  If not, see <http://www.gnu.org/licenses/>.\n",
    "\"\"\"\n",
    "\n",
    "# ===============================\n",
    "# native python libraries\n",
    "# ===============================\n",
    "import re\n",
    "import random\n",
    "import json\n",
    "import csv\n",
    "import datetime\n",
    "import copy\n",
    "from collections import OrderedDict\n",
    "from collections import Counter\n",
    "from collections import deque\n",
    "\n",
    "# ===============================\n",
    "# extension python libraries\n",
    "# ===============================\n",
    "import pandas as pd\n",
    "from pandas import ExcelWriter\n",
    "from pandas import ExcelFile\n",
    "import numpy as np\n",
    "import matplotlib.pyplot as plt\n",
    "\n",
    "# natural language processing packages\n",
    "import gensim\n",
    "from gensim import models\n",
    "import nltk\n",
    "from nltk.stem import WordNetLemmatizer\n",
    "from nltk.corpus import stopwords\n",
    "\n",
    "# downloading nlkt data\n",
    "nltk.download('punkt')\n",
    "nltk.download('stopwords')\n",
    "nltk.download('wordnet')\n",
    "\n",
    "# sample handling sklearn package\n",
    "from sklearn.preprocessing import MinMaxScaler\n",
    "from sklearn.model_selection import train_test_split\n",
    "from sklearn.metrics import confusion_matrix\n",
    "from sklearn.metrics import classification_report\n",
    "from sklearn.model_selection import cross_val_score\n",
    "from sklearn.metrics import accuracy_score\n",
    "from sklearn.metrics import precision_score\n",
    "from sklearn.metrics import make_scorer\n",
    "from imblearn.over_sampling import SMOTE\n",
    "from imblearn.over_sampling import RandomOverSampler\n",
    "from skmultilearn.problem_transform import LabelPowerset\n",
    "from skmultilearn.problem_transform import BinaryRelevance\n",
    "from skmultilearn.problem_transform import ClassifierChain\n",
    "\n",
    "# # Keras + Tensorflow ML libraries\n",
    "from keras.preprocessing.sequence import pad_sequences\n",
    "import tensorflow as tf\n",
    "from tensorflow.keras.preprocessing import sequence\n",
    "from tensorflow.keras.callbacks import EarlyStopping\n",
    "from tensorflow.keras.models import Sequential\n",
    "from tensorflow.keras.layers import Masking\n",
    "from tensorflow.keras.layers import Dense\n",
    "from tensorflow.keras.layers import Flatten\n",
    "from tensorflow.keras.layers import TimeDistributed\n",
    "from tensorflow.keras.layers import Dropout\n",
    "from tensorflow.keras.layers import SpatialDropout1D\n",
    "from tensorflow.keras.layers import Embedding\n",
    "from tensorflow.keras.layers import LSTM\n",
    "from tensorflow.keras.layers import Reshape\n",
    "from tensorflow.keras.layers import TimeDistributed\n",
    "from tensorflow.keras.layers import Conv1D\n",
    "from tensorflow.keras.layers import GlobalMaxPooling1D\n",
    "from tensorflow.keras.layers import Conv2D\n",
    "from tensorflow.keras.layers import GlobalMaxPooling2D\n",
    "from keras.optimizers import SGD\n",
    "\n",
    "# ===============================\n",
    "# developed python libraries\n",
    "# ==============================="
   ]
  },
  {
   "cell_type": "code",
   "execution_count": 1028,
   "metadata": {},
   "outputs": [],
   "source": [
    "'''\n",
    "A UDF to convert input data into 3-D\n",
    "array as required for LSTM network.\n",
    "\n",
    "taken from https://towardsdatascience.com/step-by-step-understanding-lstm-autoencoder-layers-ffab055b6352\n",
    "'''\n",
    "def temporalize(data, lookback):\n",
    "    output_X = list()\n",
    "    for i in range(len(X)-lookback-1):\n",
    "        temp = list()\n",
    "        for j in range(1,lookback+1):\n",
    "            # Gather past records upto the lookback period\n",
    "            temp.append(data[[(i+j+1)], :])\n",
    "        temp = np.array(temp, dtype=\"object\")\n",
    "        output_X.append(temp)\n",
    "    output_X = np.array(output_X, dtype=\"object\")\n",
    "    return output_X"
   ]
  },
  {
   "cell_type": "code",
   "execution_count": 1029,
   "metadata": {},
   "outputs": [],
   "source": [
    "# variable definitions\n",
    "# root folder\n",
    "dataf = \"Data\"\n",
    "\n",
    "# subfolder with predictions txt data\n",
    "targetf = \"Target\"\n",
    "\n",
    "# report subfolder\n",
    "reportf = \"Reports\"\n",
    "\n",
    "#  subfolder with the CSV files containing the ML pandas dataframe\n",
    "stdf = \"Std\"\n",
    "\n",
    "# dataframe file extension\n",
    "fext = \"csv\"\n",
    "\n",
    "imgext = \"jpg\"\n",
    "\n",
    "# dictionary extension\n",
    "dext = \"dict\"\n",
    "\n",
    "# standard sufix\n",
    "stdprefix = \"std-\"\n",
    "\n",
    "# ml model useful data\n",
    "mltprefix = \"ml-\"\n",
    "\n",
    "# report names\n",
    "str_date = datetime.date.today().strftime(\"%d-%b-%Y\")\n",
    "\n",
    "small_sufix = \"Text-Data-Small\"\n",
    "large_sufix = \"Text-Data-Large\"\n",
    "\n",
    "gallery_prefix = \"VVG-Gallery\"\n",
    "\n",
    "# dataframe file name\n",
    "small_fn = stdprefix + gallery_prefix + \"-\" + small_sufix + \".\" + fext\n",
    "large_fn = stdprefix + gallery_prefix + \"-\" + large_sufix + \".\" + fext\n",
    "\n",
    "# dictionary file name\n",
    "sdict_fn = \"VVG-Gallery-Text-Data-Small\" + \".\" + dext\n",
    "ldict_fn = \"VVG-Gallery-Text-Data-Large\" + \".\" + dext\n",
    "\n",
    "# ramdom seed\n",
    "randseed = 42\n",
    "\n",
    "# window size\n",
    "min_wsize = 30\n",
    "max_wsize = 60\n",
    "def_wsize = int((min_wsize+max_wsize)/2)\n",
    "\n",
    "# sample distribution train vs test sample size\n",
    "trainf = 0.80\n",
    "testf = 0.20\n",
    "\n",
    "# regex to know that column Im interested in\n",
    "keeper_regex = r\"(^ID$)|(^std_)\"\n",
    "\n",
    "# default values\n",
    "# work_fn, work_dict, work_sufix = small_fn, sdict_fn, small_sufix\n",
    "work_fn, work_dict, work_sufix  = large_fn, ldict_fn, large_sufix"
   ]
  },
  {
   "cell_type": "code",
   "execution_count": 1030,
   "metadata": {},
   "outputs": [
    {
     "output_type": "stream",
     "name": "stdout",
     "text": [
      "c:\\Users\\Felipe\\Documents\\GitHub\\sa-artea\\VVG-MLModel-Trainer\n"
     ]
    }
   ],
   "source": [
    "root_folder = os.getcwd()\n",
    "root_folder = os.path.split(root_folder)[0]\n",
    "root_folder = os.path.normpath(root_folder)\n",
    "print(root_folder)"
   ]
  },
  {
   "cell_type": "code",
   "execution_count": 1031,
   "metadata": {},
   "outputs": [
    {
     "output_type": "stream",
     "name": "stdout",
     "text": [
      "c:\\Users\\Felipe\\Documents\\GitHub\\sa-artea\\VVG-MLModel-Trainer\\Data\\Std\\std-VVG-Gallery-Text-Data-Small.csv\nc:\\Users\\Felipe\\Documents\\GitHub\\sa-artea\\VVG-MLModel-Trainer\\Data\\Std\\VVG-Gallery-Text-Data-Small.dict\n"
     ]
    }
   ],
   "source": [
    "# variable reading\n",
    "# dataframe filepath\n",
    "fn_path = os.path.join(root_folder, dataf, stdf, work_fn)\n",
    "print(fn_path)\n",
    "\n",
    "# gensim dictionart filepath\n",
    "dict_path = os.path.join(root_folder, dataf, stdf, work_dict)\n",
    "print(dict_path)"
   ]
  },
  {
   "cell_type": "code",
   "execution_count": 1032,
   "metadata": {},
   "outputs": [
    {
     "output_type": "stream",
     "name": "stdout",
     "text": [
      "Dictionary(599 unique tokens: ['1', '11', '16', '1885', '1891']...)\n"
     ]
    }
   ],
   "source": [
    "# reading words dictionary\n",
    "# loading gesim words dictionary\n",
    "vvg_dict = gensim.corpora.Dictionary()\n",
    "vvg_dict = vvg_dict.load(dict_path)\n",
    "print(vvg_dict)"
   ]
  },
  {
   "cell_type": "code",
   "execution_count": 1033,
   "metadata": {},
   "outputs": [],
   "source": [
    "# rading training data\n",
    "# loading file\n",
    "source_df = pd.read_csv(\n",
    "                fn_path,\n",
    "                sep=\",\",\n",
    "                encoding=\"utf-8\",\n",
    "                engine=\"python\",\n",
    "            )"
   ]
  },
  {
   "cell_type": "code",
   "execution_count": 1034,
   "metadata": {},
   "outputs": [
    {
     "output_type": "stream",
     "name": "stdout",
     "text": [
      "<class 'pandas.core.frame.DataFrame'>\nRangeIndex: 59 entries, 0 to 58\nData columns (total 18 columns):\n #   Column                 Non-Null Count  Dtype \n---  ------                 --------------  ----- \n 0   ID                     59 non-null     object\n 1   F-number               59 non-null     object\n 2   JH-number              59 non-null     object\n 3   creator-date           59 non-null     object\n 4   creator-place          59 non-null     object\n 5   Dimensions             59 non-null     object\n 6   details                59 non-null     object\n 7   MUS_TEXT               59 non-null     object\n 8   std_cat_creator-date   59 non-null     object\n 9   std_cat_creator-place  59 non-null     object\n 10  std_cat_Dimensions     59 non-null     object\n 11  std_cat_details        59 non-null     object\n 12  clr_tokens             59 non-null     object\n 13  lemmas                 59 non-null     object\n 14  bows_tokens            59 non-null     object\n 15  idxs_tokens            59 non-null     object\n 16  tfidf_tokens           59 non-null     object\n 17  std_dvec_tokens        59 non-null     object\ndtypes: object(18)\nmemory usage: 8.4+ KB\n"
     ]
    }
   ],
   "source": [
    "# checking everything is allrigth\n",
    "source_df.head(5)\n",
    "# chekcing the dataframe\n",
    "source_df.info()"
   ]
  },
  {
   "cell_type": "code",
   "execution_count": 1035,
   "metadata": {},
   "outputs": [
    {
     "output_type": "stream",
     "name": "stdout",
     "text": [
      "original input/interested columns:\n ['ID', 'F-number', 'JH-number', 'creator-date', 'creator-place', 'Dimensions', 'details', 'MUS_TEXT', 'std_cat_creator-date', 'std_cat_creator-place', 'std_cat_Dimensions', 'std_cat_details', 'clr_tokens', 'lemmas', 'bows_tokens', 'idxs_tokens', 'tfidf_tokens', 'std_dvec_tokens']\n\nInteresting columns:\n ['ID', 'std_cat_creator-date', 'std_cat_creator-place', 'std_cat_Dimensions', 'std_cat_details', 'std_dvec_tokens']\n"
     ]
    }
   ],
   "source": [
    "# selecting data to train\n",
    "# want to keep the columns starting with STD_\n",
    "df_columns = list(source_df)\n",
    "print(\"original input/interested columns:\\n\",  df_columns)\n",
    "# create the columns Im interesting in\n",
    "keep_columns = [i for i in df_columns if re.search(keeper_regex, i)]\n",
    "\n",
    "print(\"\\nInteresting columns:\\n\", keep_columns)"
   ]
  },
  {
   "cell_type": "code",
   "execution_count": 1036,
   "metadata": {
    "tags": []
   },
   "outputs": [
    {
     "output_type": "stream",
     "name": "stdout",
     "text": [
      "*** ID : (59,)\n*** std_cat_creator-date : (16,)\n*** std_cat_creator-place : (5,)\n*** std_cat_Dimensions : (52,)\n*** std_cat_details : (11,)\n*** std_dvec_tokens : (45,)\nstd_cat_Dimensions 52\n"
     ]
    }
   ],
   "source": [
    "# checking the number of max num on labels in the categories\n",
    "too_disperse = None\n",
    "tcount = 0\n",
    "for label_col in keep_columns:\n",
    "    label_count = source_df[label_col].value_counts(normalize=False)\n",
    "\n",
    "    if tcount < label_count.shape[0] and (\"std_cat_\" in label_col):\n",
    "        tcount = label_count.shape[0]\n",
    "        too_disperse = label_col\n",
    "\n",
    "    print(\"***\", label_col, \":\", label_count.shape)#.__dict__)\n",
    "\n",
    "print(too_disperse, tcount)"
   ]
  },
  {
   "cell_type": "code",
   "execution_count": 1037,
   "metadata": {},
   "outputs": [
    {
     "output_type": "stream",
     "name": "stdout",
     "text": [
      "------ Interesting columns ------\n['std_cat_creator-date', 'std_cat_creator-place', 'std_cat_details', 'std_dvec_tokens']\n"
     ]
    }
   ],
   "source": [
    "# creating the training dataframe\n",
    "keep_columns.remove(too_disperse)\n",
    "keep_columns.remove(\"ID\")\n",
    "print(\"------ Interesting columns ------\")\n",
    "print(keep_columns)\n",
    "train_df = pd.DataFrame(source_df, columns=keep_columns)"
   ]
  },
  {
   "cell_type": "code",
   "execution_count": 1038,
   "metadata": {},
   "outputs": [
    {
     "output_type": "stream",
     "name": "stdout",
     "text": [
      "Dense vector column in dataframe:  std_dvec_tokens\n"
     ]
    }
   ],
   "source": [
    "# getting the column with the relevant data to train\n",
    "dvector_col = [i for i in df_columns if re.search(u\"^std_dvec\", i)]\n",
    "dvector_col = dvector_col[0]\n",
    "print(\"Dense vector column in dataframe: \", str(dvector_col))"
   ]
  },
  {
   "cell_type": "code",
   "execution_count": 1039,
   "metadata": {
    "tags": []
   },
   "outputs": [],
   "source": [
    "# fix column data type\n",
    "work_corpus = train_df[dvector_col]\n",
    "dvec_std_corpus = list()\n",
    "\n",
    "for dvector in work_corpus:\n",
    "    dvector = eval(dvector)\n",
    "    dvector = np.array(dvector)\n",
    "    dvec_std_corpus.append(dvector)\n",
    "\n",
    "dvec_std_corpus = np.array(dvec_std_corpus, dtype=\"object\")"
   ]
  },
  {
   "cell_type": "code",
   "execution_count": 1040,
   "metadata": {},
   "outputs": [],
   "source": [
    "# changing type in dataframe\n",
    "train_df[dvector_col] = dvec_std_corpus"
   ]
  },
  {
   "cell_type": "code",
   "execution_count": 1041,
   "metadata": {},
   "outputs": [
    {
     "output_type": "stream",
     "name": "stdout",
     "text": [
      "<class 'pandas.core.frame.DataFrame'>\nRangeIndex: 59 entries, 0 to 58\nData columns (total 4 columns):\n #   Column                 Non-Null Count  Dtype \n---  ------                 --------------  ----- \n 0   std_cat_creator-date   59 non-null     object\n 1   std_cat_creator-place  59 non-null     object\n 2   std_cat_details        59 non-null     object\n 3   std_dvec_tokens        59 non-null     object\ndtypes: object(4)\nmemory usage: 2.0+ KB\n"
     ]
    }
   ],
   "source": [
    "# checking the train dataframe\n",
    "train_df.head(5)\n",
    "train_df.info()"
   ]
  },
  {
   "cell_type": "code",
   "execution_count": 1042,
   "metadata": {},
   "outputs": [
    {
     "output_type": "stream",
     "name": "stdout",
     "text": [
      "(59,)\n(59, 142)\n(59, 142)\n"
     ]
    }
   ],
   "source": [
    "# padding training data according to max length of text corpus\n",
    "pad_prefix = \"pad_\"\n",
    "recurrent_prefix = \"lstm_\"\n",
    "padded_corpus = None\n",
    "\n",
    "# getting the corpus dense vectors\n",
    "dvec_std_corpus = train_df[dvector_col]\n",
    "\n",
    "# converting list of list to array of array\n",
    "print(dvec_std_corpus.shape)\n",
    "\n",
    "# padding the representation\n",
    "padded_corpus = pad_sequences(dvec_std_corpus, dtype='object', padding=\"post\")\n",
    "print(padded_corpus.shape)\n",
    "\n",
    "# creating the new column and saving padded data\n",
    "padded_col = pad_prefix + dvector_col\n",
    "\n",
    "# print(padded_col)\n",
    "train_df[padded_col] = list(padded_corpus)\n",
    "print(padded_corpus.shape)"
   ]
  },
  {
   "cell_type": "code",
   "execution_count": 1043,
   "metadata": {},
   "outputs": [],
   "source": [
    "# funct to concatenate all label columns into one for a single y in ML training, returns a list\n",
    "def concat_labels(row, cname):\n",
    "    ans = list()\n",
    "    for c in cname:\n",
    "\n",
    "        r = row[c]\n",
    "        r = eval(r)\n",
    "        ans = ans + r\n",
    "\n",
    "    return ans"
   ]
  },
  {
   "cell_type": "code",
   "execution_count": 1044,
   "metadata": {},
   "outputs": [
    {
     "output_type": "stream",
     "name": "stdout",
     "text": [
      "['std_cat_creator-date', 'std_cat_creator-place', 'std_cat_details', 'std_dvec_tokens']\nTrainable labels columns in dataframe:  ['std_cat_creator-date', 'std_cat_creator-place', 'std_cat_details']\n"
     ]
    }
   ],
   "source": [
    "# getting the columns with the relevant labels to predict\n",
    "print(keep_columns)\n",
    "labels_cols = [i for i in keep_columns if re.search(u\"^std_cat_\", i)]\n",
    "print(\"Trainable labels columns in dataframe: \", str(labels_cols))\n",
    "\n",
    "labels_data = train_df[labels_cols]\n",
    "labels_concat = list()\n",
    "\n",
    "# concatenating all category labels from dataframe\n",
    "for index, row in labels_data.iterrows():\n",
    "    # print(row.shape)\n",
    "    row = concat_labels(row, labels_cols)\n",
    "    # print(len(row))\n",
    "    labels_concat.append(row)"
   ]
  },
  {
   "cell_type": "code",
   "execution_count": 1045,
   "metadata": {},
   "outputs": [
    {
     "output_type": "stream",
     "name": "stdout",
     "text": [
      "32 <class 'list'>\n"
     ]
    }
   ],
   "source": [
    "print(len(labels_concat[0]), type(labels_concat[0]))"
   ]
  },
  {
   "cell_type": "code",
   "execution_count": 1046,
   "metadata": {},
   "outputs": [],
   "source": [
    "# updating dataframe\n",
    "tcat_label_col = \"std_cat_labels\"\n",
    "train_df[tcat_label_col] = labels_concat"
   ]
  },
  {
   "cell_type": "code",
   "execution_count": 1047,
   "metadata": {},
   "outputs": [
    {
     "output_type": "stream",
     "name": "stdout",
     "text": [
      "<class 'pandas.core.frame.DataFrame'>\nRangeIndex: 59 entries, 0 to 58\nData columns (total 6 columns):\n #   Column                 Non-Null Count  Dtype \n---  ------                 --------------  ----- \n 0   std_cat_creator-date   59 non-null     object\n 1   std_cat_creator-place  59 non-null     object\n 2   std_cat_details        59 non-null     object\n 3   std_dvec_tokens        59 non-null     object\n 4   pad_std_dvec_tokens    59 non-null     object\n 5   std_cat_labels         59 non-null     object\ndtypes: object(6)\nmemory usage: 2.9+ KB\n"
     ]
    }
   ],
   "source": [
    "# checking the train dataframe\n",
    "train_df.head(5)\n",
    "train_df.info()"
   ]
  },
  {
   "cell_type": "code",
   "execution_count": 1048,
   "metadata": {},
   "outputs": [
    {
     "output_type": "stream",
     "name": "stdout",
     "text": [
      "(59, 142)\n(59, 32)\n"
     ]
    }
   ],
   "source": [
    "# creating Train/Test sample\n",
    "# getting the X, y to train, as is autoencoder both are the same\n",
    "X = np.array([np.array(i, dtype=\"object\") for i in train_df[padded_col]], dtype=\"object\")\n",
    "y = np.array([np.array(j, dtype=\"object\") for j in train_df[tcat_label_col]], dtype=\"object\")\n",
    "\n",
    "# X = train_df[padded_col]\n",
    "# y = train_df[padded_col]\n",
    "\n",
    "print(X.shape)\n",
    "print(y.shape)"
   ]
  },
  {
   "cell_type": "code",
   "execution_count": 1049,
   "metadata": {},
   "outputs": [
    {
     "output_type": "stream",
     "name": "stdout",
     "text": [
      "Balance X: (288, 142)\nBalance y: (288, 32)\n"
     ]
    }
   ],
   "source": [
    "# balancing classes to train\n",
    "lstm_lp = LabelPowerset()\n",
    "lstm_smote = RandomOverSampler(random_state = randseed)\n",
    "\n",
    "Xt = X\n",
    "yt = lstm_lp.transform(y.astype(\"int\"))\n",
    "X_b, y_b = lstm_smote.fit_resample(Xt, yt)\n",
    "y_b = lstm_lp.inverse_transform(y_b)\n",
    "y_b = y_b.toarray()\n",
    "\n",
    "print(\"Balance X:\", X_b.shape)\n",
    "print(\"Balance y:\", y_b.shape)"
   ]
  },
  {
   "cell_type": "code",
   "execution_count": null,
   "metadata": {},
   "outputs": [],
   "source": []
  },
  {
   "cell_type": "code",
   "execution_count": 1050,
   "metadata": {},
   "outputs": [
    {
     "output_type": "stream",
     "name": "stdout",
     "text": [
      "(288, 142)\n",
      "(288, 32)\n"
     ]
    }
   ],
   "source": [
    "# creating Train/Test sample\n",
    "# getting the X, y to train, as is autoencoder both are the same\n",
    "X = X_b#np.array([np.array(i, dtype=\"object\") for i in X_b], dtype=\"object\")\n",
    "y = y_b#np.array([np.array(j, dtype=\"object\") for j in y_b], dtype=\"object\")\n",
    "\n",
    "# X = train_df[padded_col]\n",
    "# y = train_df[padded_col]\n",
    "\n",
    "print(X.shape)\n",
    "print(y.shape)"
   ]
  },
  {
   "cell_type": "code",
   "execution_count": 1051,
   "metadata": {},
   "outputs": [
    {
     "output_type": "stream",
     "name": "stdout",
     "text": [
      "<class 'numpy.ndarray'>\n<class 'float'>\n(288, 142)\n"
     ]
    }
   ],
   "source": [
    "print(type(X[0]))\n",
    "print(type(X[0][0]))\n",
    "print(X.shape)"
   ]
  },
  {
   "cell_type": "code",
   "execution_count": 1052,
   "metadata": {},
   "outputs": [
    {
     "output_type": "stream",
     "name": "stdout",
     "text": [
      "<class 'numpy.ndarray'>\n<class 'numpy.int64'>\n(288, 32)\n"
     ]
    }
   ],
   "source": [
    "print(type(y[0]))\n",
    "print(type(y[0][0]))\n",
    "print(y.shape)"
   ]
  },
  {
   "cell_type": "code",
   "execution_count": 1053,
   "metadata": {},
   "outputs": [
    {
     "output_type": "stream",
     "name": "stdout",
     "text": [
      "15 142 32\n"
     ]
    }
   ],
   "source": [
    "# timestep is the memory of what i read, this is the longest sentence I can remember in the short term\n",
    "# neet to look for the best option, in small the max is 15\n",
    "timesteps = 15\n",
    "\n",
    "# features is the max length in the corpus, after padding!!!!\n",
    "features = X.shape[1]\n",
    "labels = y.shape[1]\n",
    "print(timesteps, features, labels)"
   ]
  },
  {
   "cell_type": "code",
   "execution_count": 1054,
   "metadata": {},
   "outputs": [],
   "source": [
    "# preparation for reshape lstm model\n",
    "Xt = temporalize(X, timesteps)\n",
    "# yt = temporalize(y, timesteps)\n",
    "yt = y"
   ]
  },
  {
   "cell_type": "code",
   "execution_count": 1055,
   "metadata": {},
   "outputs": [
    {
     "output_type": "stream",
     "name": "stdout",
     "text": [
      "(272, 15, 1, 142)\n(288, 32)\n"
     ]
    }
   ],
   "source": [
    "print(Xt.shape)\n",
    "print(yt.shape)"
   ]
  },
  {
   "cell_type": "code",
   "execution_count": 1056,
   "metadata": {},
   "outputs": [
    {
     "output_type": "stream",
     "name": "stdout",
     "text": [
      "(272, 15, 142)\n",
      "(272, 32)\n"
     ]
    }
   ],
   "source": [
    "# reshaping for LSTM model\n",
    "X_lstm = Xt.reshape((Xt.shape[0], timesteps, features))\n",
    "print(X_lstm.shape)\n",
    "# y_lstm = yt.reshape((yt.shape[0], timesteps, labels))\n",
    "y_lstm = yt[0:X_lstm.shape[0]]\n",
    "print(y_lstm.shape)"
   ]
  },
  {
   "cell_type": "code",
   "execution_count": 1057,
   "metadata": {},
   "outputs": [
    {
     "output_type": "stream",
     "name": "stdout",
     "text": [
      "lstm_std_dvec_tokens\n"
     ]
    }
   ],
   "source": [
    "# creating the column for the reshape data according to LSTM\n",
    "lstm_col = recurrent_prefix + dvector_col\n",
    "print(lstm_col)"
   ]
  },
  {
   "cell_type": "code",
   "execution_count": 1058,
   "metadata": {},
   "outputs": [
    {
     "output_type": "stream",
     "name": "stdout",
     "text": [
      "<class 'pandas.core.frame.DataFrame'>\nRangeIndex: 59 entries, 0 to 58\nData columns (total 6 columns):\n #   Column                 Non-Null Count  Dtype \n---  ------                 --------------  ----- \n 0   std_cat_creator-date   59 non-null     object\n 1   std_cat_creator-place  59 non-null     object\n 2   std_cat_details        59 non-null     object\n 3   std_dvec_tokens        59 non-null     object\n 4   pad_std_dvec_tokens    59 non-null     object\n 5   std_cat_labels         59 non-null     object\ndtypes: object(6)\nmemory usage: 2.9+ KB\n"
     ]
    }
   ],
   "source": [
    "# checking the train dataframe\n",
    "train_df.head(5)\n",
    "train_df.info()"
   ]
  },
  {
   "cell_type": "code",
   "execution_count": 1059,
   "metadata": {},
   "outputs": [
    {
     "output_type": "stream",
     "name": "stdout",
     "text": [
      "(272, 15, 142)\n(272, 32)\n"
     ]
    }
   ],
   "source": [
    "# data to numpy format\n",
    "X_lstm = np.asarray(X_lstm).astype(np.float)\n",
    "y_lstm = np.asarray(y_lstm).astype(np.float)\n",
    "print(X_lstm.shape)\n",
    "print(y_lstm.shape)"
   ]
  },
  {
   "cell_type": "code",
   "execution_count": 1060,
   "metadata": {},
   "outputs": [],
   "source": [
    "# dividing according to train/test proportions\n",
    "X_train, X_test, y_train, y_test = train_test_split(X_lstm, y_lstm, train_size = trainf, test_size = testf, random_state = randseed)"
   ]
  },
  {
   "cell_type": "code",
   "execution_count": 1061,
   "metadata": {},
   "outputs": [
    {
     "output_type": "stream",
     "name": "stdout",
     "text": [
      "training shape (X, y)\n",
      "X:  (217, 15, 142)  y:  (217, 32)\n",
      "testing shape (X, y)\n",
      "X:  (55, 15, 142)  y:  (55, 32)\n",
      "data types\n",
      "<class 'numpy.ndarray'> <class 'numpy.ndarray'> <class 'numpy.ndarray'> <class 'numpy.ndarray'>\n",
      "<class 'numpy.ndarray'> <class 'numpy.ndarray'> <class 'numpy.ndarray'> <class 'numpy.ndarray'>\n",
      "<class 'numpy.ndarray'> <class 'numpy.ndarray'> <class 'numpy.float64'> <class 'numpy.float64'>\n",
      "<class 'numpy.float64'> <class 'numpy.float64'> <class 'numpy.float64'> <class 'numpy.float64'>\n"
     ]
    }
   ],
   "source": [
    "# checking shaped\n",
    "print(\"training shape (X, y)\")\n",
    "print(\"X: \", X_train.shape, \" y: \", y_train.shape)\n",
    "\n",
    "print(\"testing shape (X, y)\")\n",
    "print(\"X: \", X_test.shape, \" y: \", y_test.shape)\n",
    "\n",
    "print(\"data types\")\n",
    "print(type(X_train), type(X_test), type(y_train), type(y_test))\n",
    "print(type(X_train[0]), type(X_test[0]), type(y_train[0]), type(y_test[0]))\n",
    "print(type(X_train[0][0]), type(X_test[0][0]), type(y_train[0][0]), type(y_test[0][0]))\n",
    "print(type(X_train[0][0][0]), type(X_test[0][0][0]), type(y_train[0][0]), type(y_test[0][0]))"
   ]
  },
  {
   "cell_type": "code",
   "execution_count": 1062,
   "metadata": {},
   "outputs": [],
   "source": [
    "Xtf_train = tf.convert_to_tensor(X_train, dtype=\"float64\")\n",
    "Xtf_test = tf.convert_to_tensor(X_test, dtype=\"float64\")\n",
    "ytf_train = tf.convert_to_tensor(y_train, dtype=\"float64\")\n",
    "ytf_test = tf.convert_to_tensor(y_test, dtype=\"float64\")\n",
    "\n",
    "# y_tensor = tf.convert_to_tensor(y, dtype=tf.float23) "
   ]
  },
  {
   "cell_type": "code",
   "execution_count": 1063,
   "metadata": {},
   "outputs": [
    {
     "output_type": "stream",
     "name": "stdout",
     "text": [
      "LSTM memory span: 15\nLSTM learning features: 142\nLSTM learning batch size: 10\nLSMT processing units: 500\nDense processing units: 1024\nOutput prediction units: 32\ntraining epochs: 500\n"
     ]
    }
   ],
   "source": [
    "# number of neurons or processing units in LSTM\n",
    "# the number is because of good practices for NLP\n",
    "# min 200 max 500, normaly 300 (related to the semantic number of themes)\n",
    "# 120 for now in this test\n",
    "lstm_units = 500\n",
    "\n",
    "# timestep is 1 because you read a word at a time\n",
    "memory = timesteps\n",
    "print(\"LSTM memory span:\", memory)\n",
    "\n",
    "# features is the max length in the corpus, after padding!!!!\n",
    "features = X_train.shape[2]\n",
    "print(\"LSTM learning features:\", features)\n",
    "\n",
    "# batch size\n",
    "bs = int(X_train.shape[0]*0.05)\n",
    "print(\"LSTM learning batch size:\", bs)\n",
    "\n",
    "print(\"LSMT processing units:\", lstm_units)\n",
    "\n",
    "# configuration to remember previous recurrent layer\n",
    "rs = True\n",
    "\n",
    "# neurons/processing units size in the dense layer (THIS SHOULD BE SOM!!!!)\n",
    "dn1 = 32*32\n",
    "print(\"Dense processing units:\", dn1)\n",
    "# dn2 = len(XB_set[0])*SECURITY_FACTOR\n",
    "\n",
    "# numero de neuronas de salida\n",
    "outn = y_train.shape[1]\n",
    "print(\"Output prediction units:\", outn)\n",
    "\n",
    "# axtivation functions\n",
    "inn = \"relu\"\n",
    "act = \"selu\"\n",
    "# act = \"softmax\"\n",
    "out = \"softmax\"\n",
    "# out = \"sigmoid\"\n",
    "# out = \"relu\"\n",
    "\n",
    "# loss percentage\n",
    "ldrop = 0.2\n",
    "\n",
    "# random seed\n",
    "randseed = 42\n",
    "\n",
    "# parameters to compile model\n",
    "# loss function\n",
    "ls = \"binary_crossentropy\"\n",
    "# ls = \"categorical_crossentropy\"\n",
    "# ls = \"sparse_categorical_crossentropy\"\n",
    "# ls = \"mean_squared_error\"\n",
    "# ls = \"mean_absolute_error\"\n",
    "# ls = \"cosine_similarity\"\n",
    "\n",
    "# optimization function\n",
    "# opti = \"adam\"\n",
    "# opti = SGD(lr=0.01, momentum=0.9, decay=0.01)\n",
    "# opti = \"adagrad\"\n",
    "opti = \"RMSprop\"\n",
    "\n",
    "# evaluation score\n",
    "met = [\"accuracy\"]\n",
    "\n",
    "# parameters to exeute training\n",
    "# verbose mode\n",
    "ver = 1\n",
    "# training epocha\n",
    "epo = 500\n",
    "print(\"training epochs:\", epo)"
   ]
  },
  {
   "cell_type": "code",
   "execution_count": 1064,
   "metadata": {},
   "outputs": [],
   "source": [
    "# model layers\n",
    "# to avoid overfit you need to use dropout in someplaces\n",
    "# options:\n",
    "# 1) Mask -> Drop -> LSTM1 -> LSTM2 -> LSTM3 -> Drop -> Dense -> Drop -> LSTM3 -> LSTM2 -> LSTM1 -> Drop -> TimeDistDense\n",
    "# 1) Mask -> Drop -> LSTM1 -> LSTM2 -> LSTM3 -> Dense -> LSTM3 -> LSTM2 -> LSTM1 -> Drop -> TimeDistDense\n",
    "# 2) Mask -> Drop -> LSTM1 -> LSTM2 -> LSTM2 -> Dense -> LSTM2 -> LSTM2 -> LSTM1 -> Drop -> TimeDistDense\n",
    "# 3) Mask -> Drop -> LSTM1 -> LSTM2 -> Drop -> Dense -> Drop -> LSTM2 -> LSTM1 -> Drop -> TimeDistDense\n",
    "# 3) Mask -> Drop -> LSTM1 -> Drop -> Dense -> Drop -> STM1 -> Drop -> TimeDistDense\n",
    "# 5) Mask -> Drop -> LSTM1 -> Drop -> Dense -> Drop -> LSTM1 -> TimeDistDense\n",
    "lstm_layers = (\n",
    "\n",
    "    # input layer (padding and prep)\n",
    "    Masking(mask_value=0.0, input_shape=(memory, features), name = \"LayMask\"),\n",
    "\n",
    "    # intermediate recurrent encoder layer\n",
    "    LSTM(lstm_units, activation=inn, input_shape=(memory, features), return_sequences=rs, recurrent_dropout = ldrop, name = \"EnLSTM_1\"),\n",
    "    SpatialDropout1D(ldrop, name = \"EnDrop_1\"),\n",
    "    # Dropout(ldrop, name = \"EnDrop_1\"),\n",
    "\n",
    "    # intermediate recurrent encoder layer\n",
    "    LSTM(int(lstm_units/2), activation=inn, input_shape=(timesteps, features), return_sequences=rs, name = \"EnLSTM_2\"),\n",
    "    # Dropout(ldrop, name = \"EnDrop_2\"),\n",
    "\n",
    "    # intermediate recurrent encoder layer\n",
    "    LSTM(int(lstm_units/4), activation=inn, input_shape=(timesteps, features), return_sequences=False, name = \"EnLSTM_3\"),\n",
    "    Dropout(ldrop, name = \"EnDrop_3\"),    \n",
    "\n",
    "    # # intermediate recurrent encoder layer\n",
    "    # LSTM(int(lstm_units/8), activation=inn, input_shape=(timesteps, features), return_sequences=False, name = \"EnLSTM_4\"),\n",
    "    # SpatialDropout1D(ldrop, name = \"EnDrop_4\"),  \n",
    "    # from 2D to 1D\n",
    "    # Flatten(name = \"LayFlat1\"),\n",
    "    # Flatten(name = \"LayFlat2\"),\n",
    "\n",
    "    # mid dense encoding layer\n",
    "    # dense layer for abstraction (THIS SHOULD COULD SOM!!!!)    \n",
    "    Dense(dn1, activation=act, name = \"MidDense\"),\n",
    "    Dropout(ldrop, name = \"DeDrop_1\"),\n",
    "    # Flatten(name = \"LyFlat1\"),\n",
    "    # Flatten(name = \"LyFlat2\"),\n",
    "\n",
    "    # intermediate dense classification layer\n",
    "    Dense(int(dn1/2), activation=act, name = \"ClsDense_1\"),\n",
    "    # Dropout(ldrop, name = \"ClsDrop_1\"),\n",
    "\n",
    "    # intermediate dense classification layer\n",
    "    Dense(int(dn1/4), activation=act, name = \"ClsDense_2\"),\n",
    "    Dropout(ldrop, name = \"ClsDrop_2\"),\n",
    "\n",
    "    # intermediate dense classification layer\n",
    "    # Dense(int(dn1/8), activation=act, name = \"ClsDense_3\"),\n",
    "    # Dropout(ldrop, name = \"ClsDrop_3\"),\n",
    "\n",
    "    # output layer, dense time sequential layer.\n",
    "    Dense(outn, activation=out, name = \"LayClsOut\"),\n",
    "    # TimeDistributed(Dense(outn, activation=out), name = \"LayClsOut\"),\n",
    ")"
   ]
  },
  {
   "source": [
    "# defining model\n",
    "lstm_model = Sequential(lstm_layers)\n",
    "lstm_model.model_name = \"LSTM_Classifier\""
   ],
   "cell_type": "code",
   "metadata": {},
   "execution_count": 1065,
   "outputs": []
  },
  {
   "cell_type": "code",
   "execution_count": 1066,
   "metadata": {},
   "outputs": [
    {
     "output_type": "stream",
     "name": "stdout",
     "text": [
      "Model: \"sequential_22\"\n_________________________________________________________________\nLayer (type)                 Output Shape              Param #   \n=================================================================\nLayMask (Masking)            (None, 15, 142)           0         \n_________________________________________________________________\nEnLSTM_1 (LSTM)              (None, 15, 500)           1286000   \n_________________________________________________________________\nEnDrop_1 (SpatialDropout1D)  (None, 15, 500)           0         \n_________________________________________________________________\nEnLSTM_2 (LSTM)              (None, 15, 250)           751000    \n_________________________________________________________________\nEnLSTM_3 (LSTM)              (None, 125)               188000    \n_________________________________________________________________\nEnDrop_3 (Dropout)           (None, 125)               0         \n_________________________________________________________________\nMidDense (Dense)             (None, 1024)              129024    \n_________________________________________________________________\nDeDrop_1 (Dropout)           (None, 1024)              0         \n_________________________________________________________________\nClsDense_1 (Dense)           (None, 512)               524800    \n_________________________________________________________________\nClsDense_2 (Dense)           (None, 256)               131328    \n_________________________________________________________________\nClsDrop_2 (Dropout)          (None, 256)               0         \n_________________________________________________________________\nLayClsOut (Dense)            (None, 32)                8224      \n=================================================================\nTotal params: 3,018,376\nTrainable params: 3,018,376\nNon-trainable params: 0\n_________________________________________________________________\n"
     ]
    }
   ],
   "source": [
    "# compile model\n",
    "lstm_model.compile(loss = ls, optimizer = opti, metrics = met)\n",
    "lstm_model.summary()"
   ]
  },
  {
   "cell_type": "code",
   "execution_count": 1067,
   "metadata": {},
   "outputs": [],
   "source": [
    "# early stopping condition BECAAUSE THIS ARE TESTS\n",
    "EarlyStopLSTM_Acc = EarlyStopping(monitor = \"val_accuracy\", min_delta = 0.01, patience = 60, verbose = 1, mode = \"max\", restore_best_weights = True)\n",
    "EarlyStopLSTM_Loss = EarlyStopping(monitor = \"val_loss\", min_delta = 0.001, patience = 60, verbose = 1, mode = \"max\", restore_best_weights = True)\n"
   ]
  },
  {
   "cell_type": "code",
   "execution_count": 1068,
   "metadata": {},
   "outputs": [
    {
     "output_type": "stream",
     "name": "stdout",
     "text": [
      "Epoch 1/500\n",
      "22/22 [==============================] - 13s 268ms/step - loss: 1.1298 - accuracy: 0.0163 - val_loss: 0.2781 - val_accuracy: 0.0000e+00\n",
      "Epoch 2/500\n",
      "22/22 [==============================] - 5s 222ms/step - loss: 0.2704 - accuracy: 0.0000e+00 - val_loss: 0.2523 - val_accuracy: 0.0000e+00\n",
      "Epoch 3/500\n",
      "22/22 [==============================] - 5s 229ms/step - loss: 0.2530 - accuracy: 0.0000e+00 - val_loss: 0.2187 - val_accuracy: 0.0000e+00\n",
      "Epoch 4/500\n",
      "22/22 [==============================] - 5s 217ms/step - loss: 0.2342 - accuracy: 0.0100 - val_loss: 0.2313 - val_accuracy: 0.0000e+00\n",
      "Epoch 5/500\n",
      "22/22 [==============================] - 5s 220ms/step - loss: 0.2253 - accuracy: 0.0176 - val_loss: 0.2379 - val_accuracy: 0.0000e+00\n",
      "Epoch 6/500\n",
      "22/22 [==============================] - 5s 215ms/step - loss: 0.2120 - accuracy: 0.0461 - val_loss: 0.2275 - val_accuracy: 0.1273\n",
      "Epoch 7/500\n",
      "22/22 [==============================] - 5s 208ms/step - loss: 0.2060 - accuracy: 0.0578 - val_loss: 0.2237 - val_accuracy: 0.0909\n",
      "Epoch 8/500\n",
      "22/22 [==============================] - 5s 209ms/step - loss: 0.1975 - accuracy: 0.0824 - val_loss: 0.1981 - val_accuracy: 0.0545\n",
      "Epoch 9/500\n",
      "22/22 [==============================] - 4s 203ms/step - loss: 0.1897 - accuracy: 0.0627 - val_loss: 0.2025 - val_accuracy: 0.0545\n",
      "Epoch 10/500\n",
      "22/22 [==============================] - 4s 202ms/step - loss: 0.1749 - accuracy: 0.0729 - val_loss: 0.1832 - val_accuracy: 0.0364\n",
      "Epoch 11/500\n",
      "22/22 [==============================] - 4s 202ms/step - loss: 0.1836 - accuracy: 0.0969 - val_loss: 0.1754 - val_accuracy: 0.1091\n",
      "Epoch 12/500\n",
      "22/22 [==============================] - 4s 199ms/step - loss: 0.1709 - accuracy: 0.1108 - val_loss: 0.2067 - val_accuracy: 0.0545\n",
      "Epoch 13/500\n",
      "22/22 [==============================] - 4s 201ms/step - loss: 0.1790 - accuracy: 0.0706 - val_loss: 0.1517 - val_accuracy: 0.0909\n",
      "Epoch 14/500\n",
      "22/22 [==============================] - 4s 201ms/step - loss: 0.1541 - accuracy: 0.1009 - val_loss: 0.1557 - val_accuracy: 0.0545\n",
      "Epoch 15/500\n",
      "22/22 [==============================] - 4s 202ms/step - loss: 0.1578 - accuracy: 0.0910 - val_loss: 0.1475 - val_accuracy: 0.0909\n",
      "Epoch 16/500\n",
      "22/22 [==============================] - 4s 201ms/step - loss: 0.1439 - accuracy: 0.1381 - val_loss: 0.1823 - val_accuracy: 0.0909\n",
      "Epoch 17/500\n",
      "22/22 [==============================] - 4s 202ms/step - loss: 0.1433 - accuracy: 0.1258 - val_loss: 0.1362 - val_accuracy: 0.1455\n",
      "Epoch 18/500\n",
      "22/22 [==============================] - 4s 199ms/step - loss: 0.1261 - accuracy: 0.1779 - val_loss: 0.1449 - val_accuracy: 0.0727\n",
      "Epoch 19/500\n",
      "22/22 [==============================] - 4s 204ms/step - loss: 0.1287 - accuracy: 0.1240 - val_loss: 0.1619 - val_accuracy: 0.0727\n",
      "Epoch 20/500\n",
      "22/22 [==============================] - 4s 202ms/step - loss: 0.1247 - accuracy: 0.1483 - val_loss: 0.1501 - val_accuracy: 0.0909\n",
      "Epoch 21/500\n",
      "22/22 [==============================] - 4s 205ms/step - loss: 0.1309 - accuracy: 0.1774 - val_loss: 0.1496 - val_accuracy: 0.0727\n",
      "Epoch 22/500\n",
      "22/22 [==============================] - 5s 207ms/step - loss: 0.1113 - accuracy: 0.1770 - val_loss: 0.1595 - val_accuracy: 0.1273\n",
      "Epoch 23/500\n",
      "22/22 [==============================] - 4s 204ms/step - loss: 0.1189 - accuracy: 0.1487 - val_loss: 0.1435 - val_accuracy: 0.1091\n",
      "Epoch 24/500\n",
      "22/22 [==============================] - 5s 209ms/step - loss: 0.1081 - accuracy: 0.1987 - val_loss: 0.1296 - val_accuracy: 0.1091\n",
      "Epoch 25/500\n",
      "22/22 [==============================] - 5s 208ms/step - loss: 0.1037 - accuracy: 0.1607 - val_loss: 0.1504 - val_accuracy: 0.1091\n",
      "Epoch 26/500\n",
      "22/22 [==============================] - 5s 211ms/step - loss: 0.1039 - accuracy: 0.1914 - val_loss: 0.1298 - val_accuracy: 0.0909\n",
      "Epoch 27/500\n",
      "22/22 [==============================] - 5s 211ms/step - loss: 0.0854 - accuracy: 0.1144 - val_loss: 0.2094 - val_accuracy: 0.1636\n",
      "Epoch 28/500\n",
      "22/22 [==============================] - 5s 210ms/step - loss: 0.1010 - accuracy: 0.2014 - val_loss: 0.1180 - val_accuracy: 0.1273\n",
      "Epoch 29/500\n",
      "22/22 [==============================] - 5s 210ms/step - loss: 0.6558 - accuracy: 0.1905 - val_loss: 0.1172 - val_accuracy: 0.1818\n",
      "Epoch 30/500\n",
      "22/22 [==============================] - 5s 213ms/step - loss: 0.0869 - accuracy: 0.1614 - val_loss: 0.1643 - val_accuracy: 0.1091\n",
      "Epoch 31/500\n",
      "22/22 [==============================] - 5s 210ms/step - loss: 0.0850 - accuracy: 0.1352 - val_loss: 0.1541 - val_accuracy: 0.1091\n",
      "Epoch 32/500\n",
      "22/22 [==============================] - 5s 212ms/step - loss: 0.0973 - accuracy: 0.1135 - val_loss: 0.2488 - val_accuracy: 0.1455\n",
      "Epoch 33/500\n",
      "22/22 [==============================] - 5s 213ms/step - loss: 0.0854 - accuracy: 0.2039 - val_loss: 0.1531 - val_accuracy: 0.0364\n",
      "Epoch 34/500\n",
      "22/22 [==============================] - 5s 220ms/step - loss: 0.0902 - accuracy: 0.1787 - val_loss: 0.1366 - val_accuracy: 0.1091\n",
      "Epoch 35/500\n",
      "22/22 [==============================] - 5s 218ms/step - loss: 0.0868 - accuracy: 0.1825 - val_loss: 0.1229 - val_accuracy: 0.1273\n",
      "Epoch 36/500\n",
      "22/22 [==============================] - 5s 215ms/step - loss: 0.1069 - accuracy: 0.2098 - val_loss: 0.2154 - val_accuracy: 0.1636\n",
      "Epoch 37/500\n",
      "22/22 [==============================] - 5s 218ms/step - loss: 0.0989 - accuracy: 0.1952 - val_loss: 0.1474 - val_accuracy: 0.2000\n",
      "Epoch 38/500\n",
      "22/22 [==============================] - 5s 217ms/step - loss: 0.0800 - accuracy: 0.2052 - val_loss: 0.1553 - val_accuracy: 0.2727\n",
      "Epoch 39/500\n",
      "22/22 [==============================] - 5s 215ms/step - loss: 0.0763 - accuracy: 0.2021 - val_loss: 0.1383 - val_accuracy: 0.1091\n",
      "Epoch 40/500\n",
      "22/22 [==============================] - 5s 214ms/step - loss: 0.0821 - accuracy: 0.1224 - val_loss: 0.1415 - val_accuracy: 0.1818\n",
      "Epoch 41/500\n",
      "22/22 [==============================] - 5s 211ms/step - loss: 0.0906 - accuracy: 0.1630 - val_loss: 0.1965 - val_accuracy: 0.0727\n",
      "Epoch 42/500\n",
      "22/22 [==============================] - 5s 210ms/step - loss: 0.0917 - accuracy: 0.2088 - val_loss: 0.1250 - val_accuracy: 0.2364\n",
      "Epoch 43/500\n",
      "22/22 [==============================] - 5s 212ms/step - loss: 0.0820 - accuracy: 0.2302 - val_loss: 0.1278 - val_accuracy: 0.1455\n",
      "Epoch 44/500\n",
      "22/22 [==============================] - 5s 212ms/step - loss: 0.0703 - accuracy: 0.1628 - val_loss: 0.1881 - val_accuracy: 0.2182\n",
      "Epoch 45/500\n",
      "22/22 [==============================] - 5s 228ms/step - loss: 0.0780 - accuracy: 0.2434 - val_loss: 0.2308 - val_accuracy: 0.2727\n",
      "Epoch 46/500\n",
      "22/22 [==============================] - 6s 254ms/step - loss: 0.1541 - accuracy: 0.2517 - val_loss: 0.1031 - val_accuracy: 0.2000\n",
      "Epoch 47/500\n",
      "22/22 [==============================] - 6s 260ms/step - loss: 0.0707 - accuracy: 0.2001 - val_loss: 0.1414 - val_accuracy: 0.1818\n",
      "Epoch 48/500\n",
      "22/22 [==============================] - 6s 256ms/step - loss: 0.0867 - accuracy: 0.1616 - val_loss: 0.1193 - val_accuracy: 0.2364\n",
      "Epoch 49/500\n",
      "22/22 [==============================] - 6s 260ms/step - loss: 0.0637 - accuracy: 0.2067 - val_loss: 0.1427 - val_accuracy: 0.2727\n",
      "Epoch 50/500\n",
      "22/22 [==============================] - 5s 250ms/step - loss: 0.0766 - accuracy: 0.1334 - val_loss: 0.1366 - val_accuracy: 0.1636\n",
      "Epoch 51/500\n",
      "22/22 [==============================] - 5s 251ms/step - loss: 0.0578 - accuracy: 0.1405 - val_loss: 0.1477 - val_accuracy: 0.1636\n",
      "Epoch 52/500\n",
      "22/22 [==============================] - 5s 251ms/step - loss: 0.0788 - accuracy: 0.1792 - val_loss: 0.1657 - val_accuracy: 0.2545\n",
      "Epoch 53/500\n",
      "22/22 [==============================] - 5s 248ms/step - loss: 0.0648 - accuracy: 0.1788 - val_loss: 0.3210 - val_accuracy: 0.1818\n",
      "Epoch 54/500\n",
      "22/22 [==============================] - 5s 250ms/step - loss: 0.0685 - accuracy: 0.2082 - val_loss: 0.3071 - val_accuracy: 0.1455\n",
      "Epoch 55/500\n",
      "22/22 [==============================] - 6s 252ms/step - loss: 0.0679 - accuracy: 0.2482 - val_loss: 0.1258 - val_accuracy: 0.1636\n",
      "Epoch 56/500\n",
      "22/22 [==============================] - 6s 256ms/step - loss: 0.0453 - accuracy: 0.2616 - val_loss: 0.2076 - val_accuracy: 0.2364\n",
      "Epoch 57/500\n",
      "22/22 [==============================] - 6s 253ms/step - loss: 0.0564 - accuracy: 0.3343 - val_loss: 0.1990 - val_accuracy: 0.2364\n",
      "Epoch 58/500\n",
      "22/22 [==============================] - 5s 251ms/step - loss: 0.0745 - accuracy: 0.3248 - val_loss: 0.1988 - val_accuracy: 0.1636\n",
      "Epoch 59/500\n",
      "22/22 [==============================] - 6s 253ms/step - loss: 0.0631 - accuracy: 0.2533 - val_loss: 0.1335 - val_accuracy: 0.3091\n",
      "Epoch 60/500\n",
      "22/22 [==============================] - 6s 253ms/step - loss: 0.0511 - accuracy: 0.2962 - val_loss: 0.1841 - val_accuracy: 0.2364\n",
      "Epoch 61/500\n",
      "22/22 [==============================] - 6s 253ms/step - loss: 0.0724 - accuracy: 0.2077 - val_loss: 0.1228 - val_accuracy: 0.3091\n",
      "Epoch 62/500\n",
      "22/22 [==============================] - 6s 252ms/step - loss: 0.0535 - accuracy: 0.2711 - val_loss: 0.2147 - val_accuracy: 0.1636\n",
      "Epoch 63/500\n",
      "22/22 [==============================] - 6s 260ms/step - loss: 0.0681 - accuracy: 0.2911 - val_loss: 0.2668 - val_accuracy: 0.2727\n",
      "Epoch 64/500\n",
      "22/22 [==============================] - 5s 249ms/step - loss: 0.0776 - accuracy: 0.2543 - val_loss: 0.2209 - val_accuracy: 0.2182\n",
      "Epoch 65/500\n",
      "22/22 [==============================] - 5s 248ms/step - loss: 0.0666 - accuracy: 0.2791 - val_loss: 0.1200 - val_accuracy: 0.1091\n",
      "Epoch 66/500\n",
      "22/22 [==============================] - 6s 258ms/step - loss: 0.0439 - accuracy: 0.2882 - val_loss: 0.2295 - val_accuracy: 0.2364\n",
      "Epoch 67/500\n",
      "22/22 [==============================] - 6s 258ms/step - loss: 0.0594 - accuracy: 0.3072 - val_loss: 0.1800 - val_accuracy: 0.2727\n",
      "Epoch 68/500\n",
      "22/22 [==============================] - 6s 256ms/step - loss: 0.0845 - accuracy: 0.2030 - val_loss: 0.1330 - val_accuracy: 0.1818\n",
      "Epoch 69/500\n",
      "22/22 [==============================] - 6s 284ms/step - loss: 0.0465 - accuracy: 0.1872 - val_loss: 0.1639 - val_accuracy: 0.1455\n",
      "Epoch 70/500\n",
      "22/22 [==============================] - 7s 302ms/step - loss: 0.0472 - accuracy: 0.2021 - val_loss: 0.1535 - val_accuracy: 0.1455\n",
      "Epoch 71/500\n",
      "22/22 [==============================] - 6s 290ms/step - loss: 0.0876 - accuracy: 0.2277 - val_loss: 0.1655 - val_accuracy: 0.1818\n",
      "Epoch 72/500\n",
      "22/22 [==============================] - 6s 278ms/step - loss: 0.0394 - accuracy: 0.1753 - val_loss: 0.1568 - val_accuracy: 0.2364\n",
      "Epoch 73/500\n",
      "22/22 [==============================] - 6s 255ms/step - loss: 0.0520 - accuracy: 0.2226 - val_loss: 0.1728 - val_accuracy: 0.2545\n",
      "Epoch 74/500\n",
      "22/22 [==============================] - 5s 248ms/step - loss: 0.0557 - accuracy: 0.2270 - val_loss: 0.1477 - val_accuracy: 0.2000\n",
      "Epoch 75/500\n",
      "22/22 [==============================] - 6s 253ms/step - loss: 0.0447 - accuracy: 0.2581 - val_loss: 0.1549 - val_accuracy: 0.2000\n",
      "Epoch 76/500\n",
      "22/22 [==============================] - 5s 250ms/step - loss: 0.0385 - accuracy: 0.2806 - val_loss: 0.1974 - val_accuracy: 0.2364\n",
      "Epoch 77/500\n",
      "22/22 [==============================] - 6s 253ms/step - loss: 0.0687 - accuracy: 0.2334 - val_loss: 0.1548 - val_accuracy: 0.1636\n",
      "Epoch 78/500\n",
      "22/22 [==============================] - 6s 257ms/step - loss: 0.0447 - accuracy: 0.2417 - val_loss: 0.1687 - val_accuracy: 0.1636\n",
      "Epoch 79/500\n",
      "22/22 [==============================] - 6s 252ms/step - loss: 0.0517 - accuracy: 0.3022 - val_loss: 0.1643 - val_accuracy: 0.1636\n",
      "Epoch 80/500\n",
      "22/22 [==============================] - 6s 255ms/step - loss: 0.0500 - accuracy: 0.2634 - val_loss: 0.1927 - val_accuracy: 0.2364\n",
      "Epoch 81/500\n",
      "22/22 [==============================] - 6s 253ms/step - loss: 0.0709 - accuracy: 0.2652 - val_loss: 0.1407 - val_accuracy: 0.2909\n",
      "Epoch 82/500\n",
      "22/22 [==============================] - 6s 255ms/step - loss: 0.0529 - accuracy: 0.3722 - val_loss: 0.1367 - val_accuracy: 0.2545\n",
      "Epoch 83/500\n",
      "22/22 [==============================] - 5s 250ms/step - loss: 0.0603 - accuracy: 0.2502 - val_loss: 0.1748 - val_accuracy: 0.2182\n",
      "Epoch 84/500\n",
      "22/22 [==============================] - 5s 249ms/step - loss: 0.0568 - accuracy: 0.3375 - val_loss: 0.2642 - val_accuracy: 0.1636\n",
      "Epoch 85/500\n",
      "22/22 [==============================] - 6s 255ms/step - loss: 0.0597 - accuracy: 0.3261 - val_loss: 0.1966 - val_accuracy: 0.2727\n",
      "Epoch 86/500\n",
      "22/22 [==============================] - 6s 254ms/step - loss: 0.0678 - accuracy: 0.2281 - val_loss: 0.1667 - val_accuracy: 0.1636\n",
      "Epoch 87/500\n",
      "22/22 [==============================] - 5s 251ms/step - loss: 0.0531 - accuracy: 0.3034 - val_loss: 0.1654 - val_accuracy: 0.2182\n",
      "Epoch 88/500\n",
      "22/22 [==============================] - 5s 252ms/step - loss: 0.0441 - accuracy: 0.2455 - val_loss: 0.1691 - val_accuracy: 0.2182\n",
      "Epoch 89/500\n",
      "22/22 [==============================] - 5s 251ms/step - loss: 0.0410 - accuracy: 0.2609 - val_loss: 0.1641 - val_accuracy: 0.2364\n",
      "Epoch 90/500\n",
      "22/22 [==============================] - 6s 255ms/step - loss: 0.0337 - accuracy: 0.4045 - val_loss: 0.1920 - val_accuracy: 0.3273\n",
      "Epoch 91/500\n",
      "22/22 [==============================] - 5s 239ms/step - loss: 0.0402 - accuracy: 0.3432 - val_loss: 0.2387 - val_accuracy: 0.3091\n",
      "Epoch 92/500\n",
      "22/22 [==============================] - 5s 244ms/step - loss: 0.0635 - accuracy: 0.2481 - val_loss: 0.1686 - val_accuracy: 0.2182\n",
      "Epoch 93/500\n",
      "22/22 [==============================] - 5s 233ms/step - loss: 0.0709 - accuracy: 0.3013 - val_loss: 0.1450 - val_accuracy: 0.2182\n",
      "Epoch 94/500\n",
      "22/22 [==============================] - 5s 223ms/step - loss: 0.0389 - accuracy: 0.3374 - val_loss: 0.1702 - val_accuracy: 0.1636\n",
      "Epoch 95/500\n",
      "22/22 [==============================] - 6s 258ms/step - loss: 0.0457 - accuracy: 0.3996 - val_loss: 0.2741 - val_accuracy: 0.2364\n",
      "Epoch 96/500\n",
      "22/22 [==============================] - 6s 255ms/step - loss: 0.0512 - accuracy: 0.3826 - val_loss: 0.1392 - val_accuracy: 0.2182\n",
      "Epoch 97/500\n",
      "22/22 [==============================] - 6s 260ms/step - loss: 0.0475 - accuracy: 0.3493 - val_loss: 0.1555 - val_accuracy: 0.0545\n",
      "Epoch 98/500\n",
      "22/22 [==============================] - 6s 259ms/step - loss: 0.1247 - accuracy: 0.3204 - val_loss: 0.1596 - val_accuracy: 0.2727\n",
      "Epoch 99/500\n",
      "22/22 [==============================] - 6s 256ms/step - loss: 0.0320 - accuracy: 0.4066 - val_loss: 0.1176 - val_accuracy: 0.2909\n",
      "Epoch 100/500\n",
      "22/22 [==============================] - 6s 277ms/step - loss: 0.0347 - accuracy: 0.3595 - val_loss: 0.1774 - val_accuracy: 0.1818\n",
      "Epoch 101/500\n",
      "22/22 [==============================] - 6s 277ms/step - loss: 0.0507 - accuracy: 0.2937 - val_loss: 0.1838 - val_accuracy: 0.2000\n",
      "Epoch 102/500\n",
      "22/22 [==============================] - 6s 262ms/step - loss: 0.0438 - accuracy: 0.2995 - val_loss: 0.2341 - val_accuracy: 0.2000\n",
      "Epoch 103/500\n",
      "22/22 [==============================] - 6s 266ms/step - loss: 0.0474 - accuracy: 0.2445 - val_loss: 0.1364 - val_accuracy: 0.2364\n",
      "Epoch 104/500\n",
      "22/22 [==============================] - 6s 257ms/step - loss: 0.0332 - accuracy: 0.3014 - val_loss: 0.1619 - val_accuracy: 0.2727\n",
      "Epoch 105/500\n",
      "22/22 [==============================] - 6s 256ms/step - loss: 0.0424 - accuracy: 0.3271 - val_loss: 0.1294 - val_accuracy: 0.2000\n",
      "Epoch 106/500\n",
      "22/22 [==============================] - 6s 274ms/step - loss: 0.0228 - accuracy: 0.2780 - val_loss: 0.1681 - val_accuracy: 0.2545\n",
      "Epoch 107/500\n",
      "22/22 [==============================] - 6s 268ms/step - loss: 0.0485 - accuracy: 0.3044 - val_loss: 0.2310 - val_accuracy: 0.2364\n",
      "Epoch 108/500\n",
      "22/22 [==============================] - 7s 309ms/step - loss: 0.0400 - accuracy: 0.3036 - val_loss: 0.1800 - val_accuracy: 0.2000\n",
      "Epoch 109/500\n",
      "22/22 [==============================] - 6s 262ms/step - loss: 0.0442 - accuracy: 0.3053 - val_loss: 0.2431 - val_accuracy: 0.2182\n",
      "Epoch 110/500\n",
      "22/22 [==============================] - 6s 258ms/step - loss: 0.0347 - accuracy: 0.3314 - val_loss: 0.1653 - val_accuracy: 0.2364\n",
      "Epoch 111/500\n",
      "22/22 [==============================] - 6s 256ms/step - loss: 0.0398 - accuracy: 0.3211 - val_loss: 0.2211 - val_accuracy: 0.1818\n",
      "Epoch 112/500\n",
      "22/22 [==============================] - 6s 255ms/step - loss: 0.0293 - accuracy: 0.3671 - val_loss: 0.1908 - val_accuracy: 0.2727\n",
      "Epoch 113/500\n",
      "22/22 [==============================] - 5s 251ms/step - loss: 0.0485 - accuracy: 0.3235 - val_loss: 0.2093 - val_accuracy: 0.2545\n",
      "Epoch 114/500\n",
      "22/22 [==============================] - 6s 258ms/step - loss: 0.0525 - accuracy: 0.3889 - val_loss: 0.1363 - val_accuracy: 0.1818\n",
      "Epoch 115/500\n",
      "22/22 [==============================] - 6s 271ms/step - loss: 0.0293 - accuracy: 0.3189 - val_loss: 0.2643 - val_accuracy: 0.2727\n",
      "Epoch 116/500\n",
      "22/22 [==============================] - 6s 271ms/step - loss: 0.0538 - accuracy: 0.3298 - val_loss: 0.1835 - val_accuracy: 0.2909\n",
      "Epoch 117/500\n",
      "22/22 [==============================] - 6s 267ms/step - loss: 0.0502 - accuracy: 0.3620 - val_loss: 0.2869 - val_accuracy: 0.2545\n",
      "Epoch 118/500\n",
      "22/22 [==============================] - 6s 268ms/step - loss: 0.0630 - accuracy: 0.2137 - val_loss: 0.1547 - val_accuracy: 0.3273\n",
      "Epoch 119/500\n",
      "22/22 [==============================] - 6s 263ms/step - loss: 0.0496 - accuracy: 0.3447 - val_loss: 0.2549 - val_accuracy: 0.2000\n",
      "Epoch 120/500\n",
      "22/22 [==============================] - 6s 266ms/step - loss: 0.1111 - accuracy: 0.3653 - val_loss: 0.1503 - val_accuracy: 0.1273\n",
      "Epoch 121/500\n",
      "22/22 [==============================] - 6s 267ms/step - loss: 0.0255 - accuracy: 0.3694 - val_loss: 0.1825 - val_accuracy: 0.2727\n",
      "Epoch 122/500\n",
      "22/22 [==============================] - 6s 255ms/step - loss: 0.0694 - accuracy: 0.3361 - val_loss: 0.1591 - val_accuracy: 0.0727\n",
      "Epoch 123/500\n",
      "22/22 [==============================] - 6s 256ms/step - loss: 0.0360 - accuracy: 0.2595 - val_loss: 0.1568 - val_accuracy: 0.3273\n",
      "Epoch 124/500\n",
      "22/22 [==============================] - 6s 253ms/step - loss: 0.0270 - accuracy: 0.3243 - val_loss: 0.1665 - val_accuracy: 0.2545\n",
      "Epoch 125/500\n",
      "22/22 [==============================] - 6s 263ms/step - loss: 0.0343 - accuracy: 0.2784 - val_loss: 0.0982 - val_accuracy: 0.2545\n",
      "Epoch 126/500\n",
      "22/22 [==============================] - 6s 258ms/step - loss: 0.0247 - accuracy: 0.3063 - val_loss: 0.2962 - val_accuracy: 0.1455\n",
      "Epoch 127/500\n",
      "22/22 [==============================] - 6s 277ms/step - loss: 0.0360 - accuracy: 0.2809 - val_loss: 0.1554 - val_accuracy: 0.2182\n",
      "Epoch 128/500\n",
      "22/22 [==============================] - 6s 264ms/step - loss: 0.0699 - accuracy: 0.3351 - val_loss: 0.1745 - val_accuracy: 0.1818\n",
      "Epoch 129/500\n",
      "22/22 [==============================] - 5s 236ms/step - loss: 0.0587 - accuracy: 0.2718 - val_loss: 0.1548 - val_accuracy: 0.2182\n",
      "Epoch 130/500\n",
      "22/22 [==============================] - 6s 264ms/step - loss: 0.0456 - accuracy: 0.2834 - val_loss: 0.1484 - val_accuracy: 0.1273\n",
      "Epoch 131/500\n",
      "22/22 [==============================] - 6s 260ms/step - loss: 0.0292 - accuracy: 0.2099 - val_loss: 0.1786 - val_accuracy: 0.1273\n",
      "Epoch 132/500\n",
      "22/22 [==============================] - 6s 267ms/step - loss: 0.0447 - accuracy: 0.2967 - val_loss: 0.1684 - val_accuracy: 0.2000\n",
      "Epoch 133/500\n",
      "22/22 [==============================] - 6s 256ms/step - loss: 0.0372 - accuracy: 0.3258 - val_loss: 0.2405 - val_accuracy: 0.3091\n",
      "Epoch 134/500\n",
      "22/22 [==============================] - 5s 229ms/step - loss: 0.1347 - accuracy: 0.2901 - val_loss: 0.1260 - val_accuracy: 0.2000\n",
      "Epoch 135/500\n",
      "22/22 [==============================] - 5s 223ms/step - loss: 0.0296 - accuracy: 0.3451 - val_loss: 0.1476 - val_accuracy: 0.3636\n",
      "Epoch 136/500\n",
      "22/22 [==============================] - 5s 216ms/step - loss: 0.0227 - accuracy: 0.3731 - val_loss: 0.2617 - val_accuracy: 0.1636\n",
      "Epoch 137/500\n",
      "22/22 [==============================] - 5s 212ms/step - loss: 0.0750 - accuracy: 0.3688 - val_loss: 0.1278 - val_accuracy: 0.2364\n",
      "Epoch 138/500\n",
      "22/22 [==============================] - 5s 217ms/step - loss: 0.0319 - accuracy: 0.3258 - val_loss: 0.1222 - val_accuracy: 0.2909\n",
      "Epoch 139/500\n",
      "22/22 [==============================] - 5s 220ms/step - loss: 0.0405 - accuracy: 0.3753 - val_loss: 0.1236 - val_accuracy: 0.2909\n",
      "Epoch 140/500\n",
      "22/22 [==============================] - 5s 219ms/step - loss: 0.0278 - accuracy: 0.3877 - val_loss: 0.3752 - val_accuracy: 0.2364\n",
      "Epoch 141/500\n",
      "22/22 [==============================] - 5s 223ms/step - loss: 0.0514 - accuracy: 0.3679 - val_loss: 0.1606 - val_accuracy: 0.3818\n",
      "Epoch 142/500\n",
      "22/22 [==============================] - 5s 224ms/step - loss: 0.0274 - accuracy: 0.3945 - val_loss: 0.1324 - val_accuracy: 0.2182\n",
      "Epoch 143/500\n",
      "22/22 [==============================] - 5s 229ms/step - loss: 0.0267 - accuracy: 0.4159 - val_loss: 0.1118 - val_accuracy: 0.2000\n",
      "Epoch 144/500\n",
      "22/22 [==============================] - 5s 229ms/step - loss: 0.0258 - accuracy: 0.3490 - val_loss: 0.1326 - val_accuracy: 0.3455\n",
      "Epoch 145/500\n",
      "22/22 [==============================] - 5s 231ms/step - loss: 0.0491 - accuracy: 0.3944 - val_loss: 0.1874 - val_accuracy: 0.1818\n",
      "Epoch 146/500\n",
      "22/22 [==============================] - 5s 230ms/step - loss: 0.0230 - accuracy: 0.3510 - val_loss: 0.2078 - val_accuracy: 0.2000\n",
      "Epoch 147/500\n",
      "22/22 [==============================] - 5s 225ms/step - loss: 0.0291 - accuracy: 0.3075 - val_loss: 0.1651 - val_accuracy: 0.2909\n",
      "Epoch 148/500\n",
      "22/22 [==============================] - 5s 224ms/step - loss: 0.0504 - accuracy: 0.3963 - val_loss: 0.1564 - val_accuracy: 0.4727\n",
      "Epoch 149/500\n",
      "22/22 [==============================] - 5s 222ms/step - loss: 0.0397 - accuracy: 0.3687 - val_loss: 0.2029 - val_accuracy: 0.2909\n",
      "Epoch 150/500\n",
      "22/22 [==============================] - 5s 228ms/step - loss: 0.0228 - accuracy: 0.4083 - val_loss: 0.1918 - val_accuracy: 0.3091\n",
      "Epoch 151/500\n",
      "22/22 [==============================] - 5s 222ms/step - loss: 0.0230 - accuracy: 0.3412 - val_loss: 0.1672 - val_accuracy: 0.3636\n",
      "Epoch 152/500\n",
      "22/22 [==============================] - 5s 213ms/step - loss: 0.0208 - accuracy: 0.3628 - val_loss: 0.2632 - val_accuracy: 0.1273\n",
      "Epoch 153/500\n",
      "22/22 [==============================] - 5s 212ms/step - loss: 0.0434 - accuracy: 0.3553 - val_loss: 0.4134 - val_accuracy: 0.1455\n",
      "Epoch 154/500\n",
      "22/22 [==============================] - 5s 214ms/step - loss: 0.0750 - accuracy: 0.3196 - val_loss: 0.2294 - val_accuracy: 0.2545\n",
      "Epoch 155/500\n",
      "22/22 [==============================] - 5s 213ms/step - loss: 0.0292 - accuracy: 0.2661 - val_loss: 0.1674 - val_accuracy: 0.1091\n",
      "Epoch 156/500\n",
      "22/22 [==============================] - 5s 214ms/step - loss: 0.0482 - accuracy: 0.2580 - val_loss: 0.1835 - val_accuracy: 0.2182\n",
      "Epoch 157/500\n",
      "22/22 [==============================] - 5s 216ms/step - loss: 0.0337 - accuracy: 0.2557 - val_loss: 0.1817 - val_accuracy: 0.2000\n",
      "Epoch 158/500\n",
      "22/22 [==============================] - 5s 229ms/step - loss: 0.0825 - accuracy: 0.3635 - val_loss: 0.1613 - val_accuracy: 0.2727\n",
      "Epoch 159/500\n",
      "22/22 [==============================] - 5s 223ms/step - loss: 0.0357 - accuracy: 0.2939 - val_loss: 0.2698 - val_accuracy: 0.0545\n",
      "Epoch 160/500\n",
      "22/22 [==============================] - 5s 226ms/step - loss: 0.0362 - accuracy: 0.2921 - val_loss: 0.1239 - val_accuracy: 0.1818\n",
      "Epoch 161/500\n",
      "22/22 [==============================] - 5s 212ms/step - loss: 0.0482 - accuracy: 0.2984 - val_loss: 0.1474 - val_accuracy: 0.2182\n",
      "Epoch 162/500\n",
      "22/22 [==============================] - 5s 216ms/step - loss: 0.0344 - accuracy: 0.3286 - val_loss: 0.1482 - val_accuracy: 0.2545\n",
      "Epoch 163/500\n",
      "22/22 [==============================] - 5s 216ms/step - loss: 0.0220 - accuracy: 0.2701 - val_loss: 0.2620 - val_accuracy: 0.1636\n",
      "Epoch 164/500\n",
      "22/22 [==============================] - 5s 218ms/step - loss: 0.0392 - accuracy: 0.2621 - val_loss: 0.1664 - val_accuracy: 0.1636\n",
      "Epoch 165/500\n",
      "22/22 [==============================] - 5s 218ms/step - loss: 0.0301 - accuracy: 0.3092 - val_loss: 0.1309 - val_accuracy: 0.1818\n",
      "Epoch 166/500\n",
      "22/22 [==============================] - 5s 219ms/step - loss: 0.0294 - accuracy: 0.2863 - val_loss: 0.1395 - val_accuracy: 0.2364\n",
      "Epoch 167/500\n",
      "22/22 [==============================] - 5s 224ms/step - loss: 0.0298 - accuracy: 0.3048 - val_loss: 0.4272 - val_accuracy: 0.3091\n",
      "Epoch 168/500\n",
      "22/22 [==============================] - 5s 228ms/step - loss: 0.1004 - accuracy: 0.3069 - val_loss: 0.1844 - val_accuracy: 0.2727\n",
      "Epoch 169/500\n",
      "22/22 [==============================] - 5s 223ms/step - loss: 0.0306 - accuracy: 0.3215 - val_loss: 0.1500 - val_accuracy: 0.3091\n",
      "Epoch 170/500\n",
      "22/22 [==============================] - 5s 226ms/step - loss: 0.0445 - accuracy: 0.3299 - val_loss: 0.1283 - val_accuracy: 0.2545\n",
      "Epoch 171/500\n",
      "22/22 [==============================] - 5s 220ms/step - loss: 0.0430 - accuracy: 0.3090 - val_loss: 0.2333 - val_accuracy: 0.0909\n",
      "Epoch 172/500\n",
      "22/22 [==============================] - 5s 222ms/step - loss: 0.0293 - accuracy: 0.2834 - val_loss: 0.1935 - val_accuracy: 0.2182\n",
      "Epoch 173/500\n",
      "22/22 [==============================] - 5s 221ms/step - loss: 0.0364 - accuracy: 0.3116 - val_loss: 0.1732 - val_accuracy: 0.1636\n",
      "Epoch 174/500\n",
      "22/22 [==============================] - 5s 219ms/step - loss: 0.0360 - accuracy: 0.2140 - val_loss: 0.1427 - val_accuracy: 0.2000\n",
      "Epoch 175/500\n",
      "22/22 [==============================] - 5s 226ms/step - loss: 0.0181 - accuracy: 0.2475 - val_loss: 0.1811 - val_accuracy: 0.1091\n",
      "Epoch 176/500\n",
      "22/22 [==============================] - 5s 221ms/step - loss: 0.0402 - accuracy: 0.2671 - val_loss: 0.2936 - val_accuracy: 0.4000\n",
      "Epoch 177/500\n",
      "22/22 [==============================] - 5s 219ms/step - loss: 0.1087 - accuracy: 0.2256 - val_loss: 0.1848 - val_accuracy: 0.2727\n",
      "Epoch 178/500\n",
      "22/22 [==============================] - 5s 214ms/step - loss: 0.0330 - accuracy: 0.3177 - val_loss: 0.1802 - val_accuracy: 0.2545\n",
      "Epoch 179/500\n",
      "22/22 [==============================] - 5s 228ms/step - loss: 0.0656 - accuracy: 0.3233 - val_loss: 0.1664 - val_accuracy: 0.1818\n",
      "Epoch 180/500\n",
      "22/22 [==============================] - 5s 226ms/step - loss: 0.0402 - accuracy: 0.3226 - val_loss: 0.1299 - val_accuracy: 0.2727\n",
      "Epoch 181/500\n",
      "22/22 [==============================] - 5s 225ms/step - loss: 0.0207 - accuracy: 0.2948 - val_loss: 0.1214 - val_accuracy: 0.2545\n",
      "Epoch 182/500\n",
      "22/22 [==============================] - 5s 222ms/step - loss: 0.0199 - accuracy: 0.3342 - val_loss: 0.2315 - val_accuracy: 0.2182\n",
      "Epoch 183/500\n",
      "22/22 [==============================] - 6s 254ms/step - loss: 0.0343 - accuracy: 0.3230 - val_loss: 0.1642 - val_accuracy: 0.4000\n",
      "Epoch 184/500\n",
      "22/22 [==============================] - 6s 259ms/step - loss: 0.0291 - accuracy: 0.4023 - val_loss: 0.2007 - val_accuracy: 0.3273\n",
      "Epoch 185/500\n",
      "22/22 [==============================] - 6s 260ms/step - loss: 0.0383 - accuracy: 0.3503 - val_loss: 0.1749 - val_accuracy: 0.2182\n",
      "Epoch 186/500\n",
      "22/22 [==============================] - 6s 257ms/step - loss: 0.0259 - accuracy: 0.3461 - val_loss: 0.1571 - val_accuracy: 0.3091\n",
      "Epoch 187/500\n",
      "22/22 [==============================] - 6s 257ms/step - loss: 0.0608 - accuracy: 0.3044 - val_loss: 0.1827 - val_accuracy: 0.1636\n",
      "Epoch 188/500\n",
      "22/22 [==============================] - 6s 254ms/step - loss: 0.0397 - accuracy: 0.2794 - val_loss: 0.1383 - val_accuracy: 0.2000\n",
      "Epoch 189/500\n",
      "22/22 [==============================] - 6s 255ms/step - loss: 0.0301 - accuracy: 0.2432 - val_loss: 0.1426 - val_accuracy: 0.2364\n",
      "Epoch 190/500\n",
      "22/22 [==============================] - 6s 255ms/step - loss: 0.0255 - accuracy: 0.3108 - val_loss: 0.2677 - val_accuracy: 0.2000\n",
      "Epoch 191/500\n",
      "22/22 [==============================] - 6s 260ms/step - loss: 0.0423 - accuracy: 0.3013 - val_loss: 0.3794 - val_accuracy: 0.2000\n",
      "Epoch 192/500\n",
      "22/22 [==============================] - 6s 258ms/step - loss: 0.0307 - accuracy: 0.3183 - val_loss: 0.2359 - val_accuracy: 0.1273\n",
      "Epoch 193/500\n",
      "22/22 [==============================] - 6s 257ms/step - loss: 0.0432 - accuracy: 0.2853 - val_loss: 0.1103 - val_accuracy: 0.2727\n",
      "Epoch 194/500\n",
      "22/22 [==============================] - 6s 265ms/step - loss: 0.0436 - accuracy: 0.2831 - val_loss: 0.2065 - val_accuracy: 0.2909\n",
      "Epoch 195/500\n",
      "22/22 [==============================] - 6s 269ms/step - loss: 0.0416 - accuracy: 0.3035 - val_loss: 0.2047 - val_accuracy: 0.3091\n",
      "Epoch 196/500\n",
      "22/22 [==============================] - 6s 284ms/step - loss: 0.0534 - accuracy: 0.3397 - val_loss: 0.1898 - val_accuracy: 0.1636\n",
      "Epoch 197/500\n",
      "22/22 [==============================] - 6s 282ms/step - loss: 0.0275 - accuracy: 0.2650 - val_loss: 0.1727 - val_accuracy: 0.1455\n",
      "Epoch 198/500\n",
      "22/22 [==============================] - 6s 277ms/step - loss: 0.0149 - accuracy: 0.2658 - val_loss: 0.2297 - val_accuracy: 0.3091\n",
      "Epoch 199/500\n",
      "22/22 [==============================] - 6s 275ms/step - loss: 0.0230 - accuracy: 0.2862 - val_loss: 0.1686 - val_accuracy: 0.2727\n",
      "Epoch 200/500\n",
      "22/22 [==============================] - 6s 274ms/step - loss: 0.0494 - accuracy: 0.3704 - val_loss: 0.1913 - val_accuracy: 0.2545\n",
      "Epoch 201/500\n",
      "22/22 [==============================] - 6s 273ms/step - loss: 0.0315 - accuracy: 0.2706 - val_loss: 0.2996 - val_accuracy: 0.3091\n",
      "Epoch 202/500\n",
      "22/22 [==============================] - 6s 269ms/step - loss: 0.0414 - accuracy: 0.2892 - val_loss: 0.2065 - val_accuracy: 0.2000\n",
      "Epoch 203/500\n",
      "22/22 [==============================] - 6s 270ms/step - loss: 0.0169 - accuracy: 0.3234 - val_loss: 0.1644 - val_accuracy: 0.2727\n",
      "Epoch 204/500\n",
      "22/22 [==============================] - 6s 263ms/step - loss: 0.0332 - accuracy: 0.2398 - val_loss: 0.1906 - val_accuracy: 0.1818\n",
      "Epoch 205/500\n",
      "22/22 [==============================] - 6s 261ms/step - loss: 0.0393 - accuracy: 0.2765 - val_loss: 0.1712 - val_accuracy: 0.2182\n",
      "Epoch 206/500\n",
      "22/22 [==============================] - 6s 282ms/step - loss: 0.0209 - accuracy: 0.3332 - val_loss: 0.2596 - val_accuracy: 0.2182\n",
      "Epoch 207/500\n",
      "22/22 [==============================] - 6s 250ms/step - loss: 0.0935 - accuracy: 0.2883 - val_loss: 0.2084 - val_accuracy: 0.2182\n",
      "Epoch 208/500\n",
      "22/22 [==============================] - 5s 246ms/step - loss: 0.0609 - accuracy: 0.3152 - val_loss: 0.2441 - val_accuracy: 0.2545\n",
      "Restoring model weights from the end of the best epoch.\n",
      "Epoch 00208: early stopping\n"
     ]
    }
   ],
   "source": [
    "# training model\n",
    "history_lstm = lstm_model.fit(\n",
    "    x = Xtf_train, \n",
    "    y = ytf_train,\n",
    "    epochs = epo, \n",
    "    verbose = ver, \n",
    "    workers = 7,\n",
    "    batch_size = bs, \n",
    "    callbacks = [EarlyStopLSTM_Acc], #, EarlyStopLSTM_Loss],\n",
    "    shuffle = False,\n",
    "    use_multiprocessing = True,\n",
    "    validation_data = (Xtf_test, ytf_test),\n",
    ")"
   ]
  },
  {
   "cell_type": "code",
   "execution_count": 1069,
   "metadata": {},
   "outputs": [
    {
     "output_type": "stream",
     "name": "stdout",
     "text": [
      "2/2 [==============================] - 0s 78ms/step - loss: 0.1564 - accuracy: 0.4727\n"
     ]
    }
   ],
   "source": [
    "# evaluationg model\n",
    "lstm_eval = lstm_model.evaluate(x = Xtf_test, y = ytf_test)"
   ]
  },
  {
   "cell_type": "code",
   "execution_count": 1070,
   "metadata": {},
   "outputs": [
    {
     "output_type": "stream",
     "name": "stdout",
     "text": [
      "avg loss:  0.15642936527729034\navg acc:  0.4727272689342499\n"
     ]
    }
   ],
   "source": [
    "# general evaluation \n",
    "print(\"avg loss: \", lstm_eval[0])\n",
    "print(\"avg acc: \", lstm_eval[1])"
   ]
  },
  {
   "cell_type": "code",
   "execution_count": 1071,
   "metadata": {},
   "outputs": [
    {
     "output_type": "stream",
     "name": "stdout",
     "text": [
      "6/6 [==============================] - 1s 54ms/step\n"
     ]
    }
   ],
   "source": [
    "# testing model\n",
    "lstm_results = lstm_model.predict(X_test, batch_size = bs, verbose = 1)#, batch_size = bs)"
   ]
  },
  {
   "cell_type": "code",
   "execution_count": 1072,
   "metadata": {},
   "outputs": [
    {
     "output_type": "execute_result",
     "data": {
      "text/plain": [
       "(32,)"
      ]
     },
     "metadata": {},
     "execution_count": 1072
    }
   ],
   "source": [
    "lstm_results[0].shape"
   ]
  },
  {
   "cell_type": "code",
   "execution_count": 1073,
   "metadata": {},
   "outputs": [
    {
     "output_type": "stream",
     "name": "stdout",
     "text": [
      "The trained  model is: c:\\Users\\Felipe\\Documents\\GitHub\\sa-artea\\VVG-MLModel-Trainer\\Data\\Models\\vvg_lstm_classifier\n",
      "INFO:tensorflow:Assets written to: c:\\Users\\Felipe\\Documents\\GitHub\\sa-artea\\VVG-MLModel-Trainer\\Data\\Models\\vvg_lstm_classifier\\assets\n"
     ]
    }
   ],
   "source": [
    "# saving model\n",
    "wdir = os.getcwd()\n",
    "models_folder = \"Models\"\n",
    "model_fname = \"vvg_lstm_classifier\"\n",
    "model_fpn = os.path.join(root_folder, dataf, models_folder, model_fname)\n",
    "print(\"The trained  model is:\", model_fpn)\n",
    "lstm_model.save(model_fpn)"
   ]
  },
  {
   "cell_type": "code",
   "execution_count": 1074,
   "metadata": {},
   "outputs": [
    {
     "output_type": "stream",
     "name": "stdout",
     "text": [
      "(55, 32)\n"
     ]
    }
   ],
   "source": [
    "# cheking test shape\n",
    "print(lstm_results.shape)"
   ]
  },
  {
   "cell_type": "code",
   "execution_count": 1075,
   "metadata": {
    "tags": []
   },
   "outputs": [
    {
     "output_type": "stream",
     "name": "stdout",
     "text": [
      "(32,) \n***************\n (32,)\n32 32\n[0. 0. 0. 0. 0. 0. 0. 0. 0. 0. 1. 0. 0. 0. 0. 0. 0. 0. 0. 0. 1. 0. 0. 0.\n 0. 1. 0. 0. 0. 0. 0. 0.] \n [0.0, 0.0, 0.0, 0.0, 0.0, 0.0, 0.0, 0.0, 0.0, 0.0, 0.42, 0.0, 0.0, 0.0, 0.0, 0.0, 0.0, 0.0, 0.0, 0.0, 0.33, 0.0, 0.0, 0.0, 0.0, 0.25, 0.0, 0.0, 0.0, 0.0, 0.0, 0.0]\n32 32\n[0. 0. 0. 0. 0. 0. 0. 0. 0. 0. 0. 0. 1. 0. 0. 0. 0. 0. 0. 1. 0. 0. 0. 0.\n 0. 0. 0. 1. 0. 0. 0. 0.] \n [0.0, 0.0, 0.0, 0.0, 0.0, 0.0, 0.0, 0.0, 0.0, 0.0, 0.0, 0.0, 0.02, 0.0, 0.0, 0.0, 0.0, 0.0, 0.0, 0.98, 0.0, 0.0, 0.0, 0.0, 0.0, 0.0, 0.0, 0.0, 0.0, 0.0, 0.0, 0.0]\n32 32\n[0. 1. 0. 0. 0. 0. 0. 0. 0. 0. 0. 0. 0. 0. 0. 0. 0. 0. 0. 1. 0. 0. 0. 0.\n 0. 0. 0. 1. 0. 0. 0. 0.] \n [0.0, 0.92, 0.0, 0.0, 0.0, 0.0, 0.0, 0.0, 0.0, 0.0, 0.0, 0.0, 0.0, 0.0, 0.0, 0.0, 0.0, 0.0, 0.0, 0.08, 0.0, 0.0, 0.0, 0.0, 0.0, 0.0, 0.0, 0.0, 0.0, 0.0, 0.0, 0.0]\n32 32\n[0. 0. 0. 0. 0. 0. 0. 0. 0. 0. 0. 0. 0. 1. 0. 0. 0. 0. 0. 1. 0. 0. 0. 0.\n 0. 0. 0. 1. 0. 0. 0. 0.] \n [0.0, 0.0, 0.0, 0.0, 0.0, 0.0, 0.0, 0.0, 0.0, 0.0, 0.0, 0.0, 0.0, 0.02, 0.0, 0.0, 0.0, 0.0, 0.0, 0.15, 0.0, 0.0, 0.0, 0.0, 0.0, 0.0, 0.0, 0.83, 0.0, 0.0, 0.0, 0.0]\n32 32\n[0. 0. 1. 0. 0. 0. 0. 0. 0. 0. 0. 0. 0. 0. 0. 0. 0. 0. 0. 1. 0. 1. 0. 0.\n 0. 0. 0. 0. 0. 0. 0. 0.] \n [0.0, 0.0, 0.83, 0.0, 0.0, 0.0, 0.0, 0.0, 0.0, 0.0, 0.0, 0.0, 0.0, 0.0, 0.0, 0.0, 0.0, 0.0, 0.0, 0.16, 0.0, 0.01, 0.0, 0.0, 0.0, 0.0, 0.0, 0.0, 0.0, 0.0, 0.0, 0.0]\n32 32\n[0. 0. 0. 0. 1. 0. 0. 0. 0. 0. 0. 0. 0. 0. 0. 0. 0. 0. 0. 0. 1. 0. 0. 0.\n 0. 0. 0. 0. 0. 0. 1. 0.] \n [0.0, 0.0, 0.0, 0.0, 0.0, 0.0, 0.0, 0.0, 0.0, 0.0, 0.0, 0.0, 0.0, 0.0, 0.0, 0.0, 0.0, 0.0, 0.0, 0.0, 0.0, 0.0, 0.0, 0.0, 0.0, 0.0, 0.0, 0.0, 0.0, 0.0, 1.0, 0.0]\n32 32\n[0. 0. 0. 0. 0. 0. 1. 0. 0. 0. 0. 0. 0. 0. 0. 0. 0. 1. 0. 0. 0. 0. 0. 0.\n 0. 0. 0. 0. 0. 0. 0. 1.] \n [0.0, 0.0, 0.0, 0.0, 0.0, 0.0, 0.74, 0.0, 0.0, 0.0, 0.0, 0.0, 0.0, 0.0, 0.0, 0.0, 0.0, 0.26, 0.0, 0.0, 0.0, 0.0, 0.0, 0.0, 0.0, 0.0, 0.0, 0.0, 0.0, 0.0, 0.0, 0.01]\n32 32\n[0. 0. 0. 0. 0. 0. 0. 0. 0. 0. 1. 0. 0. 0. 0. 0. 0. 0. 0. 0. 1. 0. 0. 0.\n 0. 0. 1. 0. 0. 0. 0. 0.] \n [0.0, 0.0, 0.0, 0.0, 0.0, 0.0, 0.01, 0.13, 0.0, 0.0, 0.0, 0.0, 0.0, 0.0, 0.0, 0.0, 0.0, 0.01, 0.0, 0.0, 0.44, 0.0, 0.0, 0.01, 0.0, 0.0, 0.0, 0.0, 0.0, 0.0, 0.0, 0.4]\n32 32\n[0. 0. 0. 0. 1. 0. 0. 0. 0. 0. 0. 0. 0. 0. 0. 0. 0. 0. 0. 0. 1. 0. 0. 0.\n 0. 0. 0. 1. 0. 0. 0. 0.] \n [0.0, 0.0, 0.0, 0.0, 0.66, 0.0, 0.0, 0.0, 0.0, 0.0, 0.0, 0.0, 0.0, 0.0, 0.0, 0.0, 0.0, 0.0, 0.0, 0.0, 0.02, 0.0, 0.0, 0.0, 0.0, 0.0, 0.0, 0.32, 0.0, 0.0, 0.0, 0.0]\n32 32\n[0. 0. 0. 0. 0. 0. 0. 0. 0. 0. 1. 0. 0. 0. 0. 0. 0. 0. 0. 0. 1. 0. 0. 0.\n 0. 0. 1. 0. 0. 0. 0. 0.] \n [0.0, 0.0, 0.0, 0.0, 0.0, 0.0, 0.0, 0.0, 0.0, 0.0, 0.46, 0.0, 0.0, 0.0, 0.0, 0.0, 0.0, 0.0, 0.0, 0.0, 0.54, 0.0, 0.0, 0.0, 0.0, 0.0, 0.0, 0.0, 0.0, 0.0, 0.0, 0.0]\n32 32\n[1. 0. 0. 0. 0. 0. 0. 0. 0. 0. 0. 0. 0. 0. 0. 0. 0. 0. 0. 0. 1. 0. 1. 0.\n 0. 0. 0. 0. 0. 0. 0. 0.] \n [0.0, 0.0, 0.0, 0.0, 0.0, 0.0, 0.0, 0.0, 0.0, 0.0, 0.52, 0.0, 0.0, 0.0, 0.0, 0.0, 0.0, 0.0, 0.0, 0.0, 0.26, 0.0, 0.0, 0.0, 0.0, 0.21, 0.0, 0.0, 0.0, 0.0, 0.0, 0.0]\n32 32\n[0. 0. 0. 0. 0. 0. 0. 0. 0. 0. 1. 0. 0. 0. 0. 0. 0. 0. 0. 0. 1. 0. 0. 0.\n 1. 0. 0. 0. 0. 0. 0. 0.] \n [0.0, 0.0, 0.0, 0.0, 0.0, 0.0, 0.0, 0.0, 0.0, 0.0, 0.65, 0.0, 0.0, 0.0, 0.0, 0.0, 0.0, 0.0, 0.0, 0.0, 0.11, 0.0, 0.0, 0.0, 0.24, 0.0, 0.0, 0.0, 0.0, 0.0, 0.0, 0.0]\n32 32\n[1. 0. 0. 0. 0. 0. 0. 0. 0. 0. 0. 0. 0. 0. 0. 0. 0. 0. 0. 0. 1. 0. 0. 1.\n 0. 0. 0. 0. 0. 0. 0. 0.] \n [0.73, 0.0, 0.0, 0.0, 0.0, 0.0, 0.0, 0.0, 0.0, 0.0, 0.0, 0.0, 0.0, 0.0, 0.0, 0.0, 0.0, 0.0, 0.0, 0.0, 0.27, 0.0, 0.0, 0.0, 0.0, 0.0, 0.0, 0.0, 0.0, 0.0, 0.0, 0.0]\n32 32\n[0. 0. 0. 1. 0. 0. 0. 0. 0. 0. 0. 0. 0. 0. 0. 0. 1. 0. 0. 0. 0. 0. 0. 0.\n 0. 0. 0. 1. 0. 0. 0. 0.] \n [0.0, 0.0, 0.0, 0.19, 0.0, 0.0, 0.0, 0.0, 0.0, 0.0, 0.0, 0.0, 0.0, 0.0, 0.0, 0.0, 0.81, 0.0, 0.0, 0.0, 0.0, 0.0, 0.0, 0.0, 0.0, 0.0, 0.0, 0.0, 0.0, 0.0, 0.0, 0.0]\n32 32\n[0. 0. 0. 0. 1. 0. 0. 0. 0. 0. 0. 0. 0. 0. 0. 0. 0. 0. 0. 0. 1. 0. 0. 0.\n 0. 0. 0. 1. 0. 0. 0. 0.] \n [0.0, 0.0, 0.0, 0.0, 0.0, 0.0, 0.0, 0.0, 0.0, 0.0, 0.0, 0.0, 0.0, 0.0, 0.07, 0.0, 0.0, 0.0, 0.0, 0.03, 0.0, 0.0, 0.0, 0.0, 0.0, 0.0, 0.0, 0.0, 0.91, 0.0, 0.0, 0.0]\n32 32\n[0. 0. 1. 0. 0. 0. 0. 0. 0. 0. 0. 0. 0. 0. 0. 0. 0. 0. 0. 1. 0. 1. 0. 0.\n 0. 0. 0. 0. 0. 0. 0. 0.] \n [0.07, 0.0, 0.05, 0.0, 0.0, 0.0, 0.11, 0.0, 0.0, 0.0, 0.0, 0.0, 0.0, 0.0, 0.0, 0.0, 0.0, 0.02, 0.0, 0.08, 0.29, 0.29, 0.02, 0.0, 0.0, 0.0, 0.0, 0.0, 0.0, 0.0, 0.0, 0.04]\n32 32\n[1. 0. 0. 0. 0. 0. 0. 0. 0. 0. 0. 0. 0. 0. 0. 0. 0. 0. 0. 0. 1. 0. 0. 1.\n 0. 0. 0. 0. 0. 0. 0. 0.] \n [0.85, 0.0, 0.0, 0.0, 0.0, 0.0, 0.0, 0.0, 0.0, 0.0, 0.0, 0.0, 0.0, 0.0, 0.0, 0.0, 0.0, 0.0, 0.0, 0.0, 0.15, 0.0, 0.0, 0.0, 0.0, 0.0, 0.0, 0.0, 0.0, 0.0, 0.0, 0.0]\n32 32\n[0. 0. 0. 0. 0. 0. 0. 0. 1. 0. 0. 0. 0. 0. 0. 0. 0. 0. 0. 1. 0. 0. 0. 0.\n 0. 0. 0. 1. 0. 0. 0. 0.] \n [0.0, 0.0, 0.0, 0.0, 0.02, 0.0, 0.0, 0.0, 0.79, 0.0, 0.0, 0.0, 0.0, 0.0, 0.0, 0.0, 0.0, 0.0, 0.0, 0.18, 0.01, 0.0, 0.0, 0.0, 0.0, 0.0, 0.0, 0.01, 0.0, 0.0, 0.0, 0.0]\n32 32\n[0. 0. 0. 0. 0. 0. 0. 0. 1. 0. 0. 0. 0. 0. 0. 0. 0. 0. 0. 1. 0. 0. 0. 0.\n 0. 0. 0. 0. 0. 1. 0. 0.] \n [0.0, 0.0, 0.0, 0.0, 0.0, 0.0, 0.0, 0.0, 0.0, 0.0, 0.0, 0.0, 0.0, 0.0, 0.0, 0.0, 0.0, 0.0, 0.0, 0.0, 0.0, 0.0, 0.0, 0.0, 0.0, 0.0, 0.0, 0.0, 0.0, 1.0, 0.0, 0.0]\n32 32\n[0. 0. 0. 0. 0. 0. 0. 0. 0. 0. 0. 1. 0. 0. 0. 0. 0. 0. 0. 1. 0. 0. 0. 0.\n 0. 0. 0. 1. 0. 0. 0. 0.] \n [0.0, 0.0, 0.0, 0.0, 0.0, 0.0, 0.0, 0.0, 0.0, 0.0, 0.01, 0.05, 0.0, 0.0, 0.0, 0.6, 0.0, 0.0, 0.27, 0.01, 0.0, 0.0, 0.0, 0.0, 0.0, 0.0, 0.0, 0.0, 0.0, 0.0, 0.0, 0.05]\n32 32\n[1. 0. 0. 0. 0. 0. 0. 0. 0. 0. 0. 0. 0. 0. 0. 0. 0. 0. 0. 0. 1. 1. 0. 0.\n 0. 0. 0. 0. 0. 0. 0. 0.] \n [0.77, 0.0, 0.0, 0.0, 0.0, 0.0, 0.0, 0.0, 0.0, 0.0, 0.0, 0.0, 0.0, 0.0, 0.0, 0.0, 0.0, 0.0, 0.0, 0.0, 0.23, 0.0, 0.0, 0.0, 0.0, 0.0, 0.0, 0.0, 0.0, 0.0, 0.0, 0.0]\n32 32\n[0. 0. 0. 0. 0. 0. 0. 0. 0. 0. 1. 0. 0. 0. 0. 0. 0. 0. 0. 0. 1. 0. 0. 0.\n 1. 0. 0. 0. 0. 0. 0. 0.] \n [0.0, 0.0, 0.0, 0.0, 0.0, 0.0, 0.0, 0.0, 0.0, 0.0, 0.71, 0.0, 0.0, 0.0, 0.0, 0.0, 0.0, 0.0, 0.0, 0.0, 0.04, 0.0, 0.0, 0.0, 0.25, 0.0, 0.0, 0.0, 0.0, 0.0, 0.0, 0.0]\n32 32\n[0. 0. 0. 0. 0. 0. 0. 0. 0. 0. 1. 0. 0. 0. 0. 0. 0. 0. 0. 0. 1. 1. 0. 0.\n 0. 0. 0. 0. 0. 0. 0. 0.] \n [0.0, 0.0, 0.0, 0.0, 0.0, 0.0, 0.0, 0.0, 0.0, 0.0, 0.35, 0.0, 0.0, 0.0, 0.0, 0.0, 0.0, 0.0, 0.0, 0.0, 0.65, 0.0, 0.0, 0.0, 0.0, 0.0, 0.0, 0.0, 0.0, 0.0, 0.0, 0.0]\n32 32\n[1. 0. 0. 0. 0. 0. 0. 0. 0. 0. 0. 0. 0. 0. 0. 0. 0. 0. 0. 0. 1. 1. 0. 0.\n 0. 0. 0. 0. 0. 0. 0. 0.] \n [0.41, 0.0, 0.0, 0.0, 0.0, 0.0, 0.02, 0.06, 0.0, 0.0, 0.0, 0.0, 0.0, 0.0, 0.0, 0.0, 0.0, 0.02, 0.0, 0.0, 0.32, 0.0, 0.0, 0.08, 0.0, 0.0, 0.0, 0.0, 0.0, 0.0, 0.0, 0.08]\n32 32\n[1. 0. 0. 0. 0. 0. 0. 0. 0. 0. 0. 0. 0. 0. 0. 0. 0. 0. 0. 0. 1. 0. 1. 0.\n 0. 0. 0. 0. 0. 0. 0. 0.] \n [0.0, 0.0, 0.0, 0.0, 0.0, 0.0, 0.0, 0.0, 0.0, 0.0, 0.0, 0.0, 0.0, 0.0, 0.0, 0.0, 0.0, 0.0, 0.0, 0.0, 0.99, 0.0, 0.0, 0.0, 0.0, 0.0, 0.0, 0.0, 0.0, 0.0, 0.0, 0.0]\n32 32\n[0. 0. 0. 0. 0. 0. 0. 0. 0. 0. 0. 0. 1. 0. 0. 0. 0. 0. 0. 1. 0. 0. 0. 0.\n 0. 0. 0. 1. 0. 0. 0. 0.] \n [0.0, 0.0, 0.0, 0.0, 0.0, 0.0, 0.0, 0.0, 0.01, 0.0, 0.0, 0.0, 0.0, 0.02, 0.0, 0.0, 0.0, 0.0, 0.0, 0.24, 0.0, 0.0, 0.0, 0.0, 0.0, 0.0, 0.0, 0.74, 0.0, 0.0, 0.0, 0.0]\n32 32\n[0. 0. 0. 0. 1. 0. 0. 0. 0. 0. 0. 0. 0. 0. 0. 0. 0. 0. 0. 0. 1. 0. 0. 0.\n 0. 0. 0. 1. 0. 0. 0. 0.] \n [0.0, 0.0, 0.0, 0.0, 0.85, 0.0, 0.0, 0.0, 0.0, 0.0, 0.0, 0.0, 0.0, 0.0, 0.0, 0.0, 0.0, 0.0, 0.0, 0.0, 0.09, 0.0, 0.0, 0.0, 0.0, 0.0, 0.0, 0.06, 0.0, 0.0, 0.0, 0.0]\n32 32\n[0. 0. 1. 0. 0. 0. 0. 0. 0. 0. 0. 0. 0. 0. 0. 0. 0. 0. 0. 1. 0. 1. 0. 0.\n 0. 0. 0. 0. 0. 0. 0. 0.] \n [0.0, 0.0, 1.0, 0.0, 0.0, 0.0, 0.0, 0.0, 0.0, 0.0, 0.0, 0.0, 0.0, 0.0, 0.0, 0.0, 0.0, 0.0, 0.0, 0.0, 0.0, 0.0, 0.0, 0.0, 0.0, 0.0, 0.0, 0.0, 0.0, 0.0, 0.0, 0.0]\n32 32\n[0. 0. 0. 0. 0. 0. 0. 0. 1. 0. 0. 0. 0. 0. 0. 0. 0. 0. 0. 1. 0. 0. 0. 0.\n 0. 0. 0. 0. 0. 1. 0. 0.] \n [0.0, 0.0, 0.0, 0.0, 0.0, 0.0, 0.0, 0.0, 0.0, 0.0, 0.0, 0.0, 0.0, 0.0, 0.0, 0.0, 0.0, 0.0, 0.0, 0.0, 0.0, 0.0, 0.0, 0.0, 0.0, 0.0, 0.0, 0.0, 0.0, 1.0, 0.0, 0.0]\n32 32\n[0. 0. 0. 0. 0. 1. 0. 0. 0. 0. 0. 0. 0. 0. 0. 0. 0. 0. 0. 0. 1. 0. 0. 0.\n 0. 0. 0. 0. 0. 0. 1. 0.] \n [0.0, 0.0, 0.0, 0.0, 0.0, 0.0, 0.0, 0.0, 0.0, 0.0, 0.69, 0.0, 0.0, 0.0, 0.0, 0.0, 0.0, 0.0, 0.0, 0.0, 0.3, 0.01, 0.0, 0.0, 0.0, 0.0, 0.0, 0.0, 0.0, 0.0, 0.0, 0.0]\n32 32\n[0. 0. 0. 0. 0. 0. 0. 0. 0. 0. 0. 0. 1. 0. 0. 0. 0. 0. 0. 1. 0. 0. 0. 0.\n 0. 0. 0. 1. 0. 0. 0. 0.] \n [0.0, 0.0, 0.0, 0.0, 0.0, 0.0, 0.0, 0.0, 0.0, 0.0, 0.0, 0.0, 0.95, 0.0, 0.0, 0.0, 0.0, 0.0, 0.0, 0.05, 0.0, 0.0, 0.0, 0.0, 0.0, 0.0, 0.0, 0.0, 0.0, 0.0, 0.0, 0.0]\n32 32\n[0. 0. 0. 0. 0. 0. 0. 0. 0. 0. 0. 1. 0. 0. 0. 0. 0. 0. 0. 1. 0. 0. 0. 0.\n 0. 0. 0. 1. 0. 0. 0. 0.] \n [0.0, 0.01, 0.0, 0.0, 0.0, 0.0, 0.0, 0.0, 0.0, 0.0, 0.0, 0.01, 0.0, 0.0, 0.0, 0.0, 0.0, 0.0, 0.0, 0.62, 0.0, 0.0, 0.0, 0.0, 0.0, 0.0, 0.0, 0.35, 0.0, 0.0, 0.0, 0.0]\n32 32\n[0. 0. 0. 0. 1. 0. 0. 0. 0. 0. 0. 0. 0. 0. 0. 0. 0. 0. 0. 0. 1. 0. 0. 0.\n 0. 0. 0. 0. 0. 0. 1. 0.] \n [0.0, 0.0, 0.0, 0.0, 0.0, 0.0, 0.0, 0.0, 0.0, 0.0, 0.0, 0.0, 0.0, 0.0, 0.0, 0.0, 0.0, 0.0, 0.0, 0.0, 0.0, 0.0, 0.0, 0.0, 0.0, 0.0, 0.0, 0.0, 0.0, 0.0, 1.0, 0.0]\n32 32\n[1. 0. 0. 0. 0. 0. 0. 0. 0. 0. 0. 0. 0. 0. 0. 0. 0. 0. 0. 0. 1. 0. 0. 1.\n 0. 0. 0. 0. 0. 0. 0. 0.] \n [0.81, 0.0, 0.0, 0.0, 0.0, 0.0, 0.0, 0.0, 0.0, 0.0, 0.0, 0.0, 0.0, 0.0, 0.0, 0.0, 0.0, 0.0, 0.0, 0.0, 0.19, 0.0, 0.0, 0.0, 0.0, 0.0, 0.0, 0.0, 0.0, 0.0, 0.0, 0.0]\n32 32\n[0. 0. 0. 0. 0. 0. 0. 0. 0. 0. 1. 0. 0. 0. 0. 0. 0. 0. 0. 0. 1. 0. 0. 0.\n 0. 0. 1. 0. 0. 0. 0. 0.] \n [0.0, 0.0, 0.0, 0.0, 0.0, 0.0, 0.0, 0.0, 0.0, 0.0, 0.82, 0.0, 0.0, 0.0, 0.0, 0.0, 0.0, 0.0, 0.0, 0.0, 0.18, 0.0, 0.0, 0.0, 0.0, 0.0, 0.0, 0.0, 0.0, 0.0, 0.0, 0.0]\n32 32\n[0. 0. 0. 1. 0. 0. 0. 0. 0. 0. 0. 0. 0. 0. 0. 0. 1. 0. 0. 0. 0. 0. 0. 0.\n 0. 0. 0. 1. 0. 0. 0. 0.] \n [0.0, 0.0, 0.0, 0.57, 0.0, 0.0, 0.0, 0.0, 0.0, 0.0, 0.0, 0.0, 0.0, 0.0, 0.0, 0.0, 0.43, 0.0, 0.0, 0.0, 0.0, 0.0, 0.0, 0.0, 0.0, 0.0, 0.0, 0.0, 0.0, 0.0, 0.0, 0.0]\n32 32\n[0. 0. 0. 0. 0. 0. 0. 0. 0. 0. 0. 0. 1. 0. 0. 0. 0. 0. 0. 1. 0. 0. 0. 0.\n 0. 0. 0. 1. 0. 0. 0. 0.] \n [0.0, 0.0, 0.0, 0.0, 0.0, 0.0, 0.0, 0.0, 0.0, 0.0, 0.0, 0.0, 0.0, 0.0, 0.0, 0.0, 0.0, 0.0, 0.0, 0.98, 0.0, 0.0, 0.0, 0.0, 0.0, 0.0, 0.0, 0.02, 0.0, 0.0, 0.0, 0.0]\n32 32\n[0. 0. 0. 0. 0. 0. 0. 0. 0. 0. 0. 1. 0. 0. 0. 0. 0. 0. 0. 1. 0. 0. 0. 0.\n 0. 0. 0. 1. 0. 0. 0. 0.] \n [0.0, 0.0, 0.0, 0.0, 0.0, 0.0, 0.0, 0.0, 0.0, 0.0, 0.0, 0.07, 0.0, 0.0, 0.0, 0.0, 0.0, 0.0, 0.0, 0.72, 0.0, 0.0, 0.0, 0.0, 0.0, 0.0, 0.0, 0.22, 0.0, 0.0, 0.0, 0.0]\n32 32\n[0. 0. 0. 0. 0. 0. 0. 0. 0. 0. 0. 0. 1. 0. 0. 0. 0. 0. 0. 1. 0. 0. 0. 0.\n 0. 0. 0. 1. 0. 0. 0. 0.] \n [0.0, 0.0, 0.0, 0.0, 0.0, 0.0, 0.0, 0.0, 0.0, 0.0, 0.0, 0.0, 0.0, 0.0, 0.0, 0.0, 0.0, 0.0, 0.0, 0.99, 0.0, 0.0, 0.0, 0.0, 0.0, 0.0, 0.0, 0.01, 0.0, 0.0, 0.0, 0.0]\n32 32\n[0. 0. 0. 0. 0. 0. 0. 0. 0. 0. 0. 0. 1. 0. 0. 0. 0. 0. 0. 1. 0. 0. 0. 0.\n 0. 0. 0. 1. 0. 0. 0. 0.] \n [0.0, 0.0, 0.0, 0.0, 0.0, 0.0, 0.0, 0.0, 0.0, 0.0, 0.0, 0.0, 0.0, 0.0, 0.0, 0.0, 0.0, 0.0, 0.0, 0.99, 0.0, 0.0, 0.0, 0.0, 0.0, 0.0, 0.0, 0.01, 0.0, 0.0, 0.0, 0.0]\n32 32\n[0. 0. 0. 0. 0. 0. 0. 0. 0. 0. 0. 0. 0. 0. 1. 0. 0. 0. 0. 1. 0. 0. 0. 0.\n 0. 0. 0. 0. 1. 0. 0. 0.] \n [0.0, 0.0, 0.0, 0.0, 0.0, 0.0, 0.0, 0.0, 0.0, 0.0, 0.81, 0.0, 0.0, 0.0, 0.0, 0.0, 0.0, 0.0, 0.0, 0.0, 0.18, 0.0, 0.0, 0.0, 0.0, 0.0, 0.0, 0.0, 0.0, 0.0, 0.0, 0.0]\n32 32\n[0. 0. 0. 0. 0. 0. 0. 0. 0. 0. 0. 0. 0. 1. 0. 0. 0. 0. 0. 1. 0. 0. 0. 0.\n 0. 0. 0. 1. 0. 0. 0. 0.] \n [0.0, 0.0, 0.0, 0.0, 0.0, 0.0, 0.0, 0.0, 0.0, 0.0, 0.0, 0.0, 0.0, 0.0, 0.0, 0.0, 0.0, 0.0, 0.0, 0.25, 0.0, 0.0, 0.0, 0.0, 0.0, 0.0, 0.0, 0.75, 0.0, 0.0, 0.0, 0.0]\n32 32\n[0. 0. 0. 0. 0. 0. 0. 0. 0. 0. 1. 0. 0. 0. 0. 0. 0. 0. 0. 0. 1. 0. 0. 0.\n 0. 0. 1. 0. 0. 0. 0. 0.] \n [0.0, 0.0, 0.0, 0.0, 0.0, 0.0, 0.0, 0.51, 0.0, 0.0, 0.0, 0.0, 0.0, 0.0, 0.0, 0.0, 0.0, 0.0, 0.0, 0.0, 0.45, 0.0, 0.0, 0.0, 0.0, 0.0, 0.0, 0.0, 0.0, 0.0, 0.0, 0.03]\n32 32\n[0. 0. 0. 0. 0. 0. 0. 0. 1. 0. 0. 0. 0. 0. 0. 0. 0. 0. 0. 1. 0. 0. 0. 0.\n 0. 0. 0. 1. 0. 0. 0. 0.] \n [0.0, 0.0, 0.0, 0.0, 0.16, 0.0, 0.0, 0.0, 0.0, 0.0, 0.0, 0.0, 0.0, 0.0, 0.0, 0.0, 0.0, 0.0, 0.0, 0.0, 0.01, 0.0, 0.0, 0.0, 0.0, 0.0, 0.0, 0.83, 0.0, 0.0, 0.0, 0.0]\n32 32\n[0. 1. 0. 0. 0. 0. 0. 0. 0. 0. 0. 0. 0. 0. 0. 0. 0. 0. 0. 1. 0. 0. 0. 0.\n 0. 0. 0. 1. 0. 0. 0. 0.] \n [0.0, 0.97, 0.0, 0.0, 0.0, 0.0, 0.0, 0.0, 0.0, 0.0, 0.0, 0.0, 0.0, 0.0, 0.0, 0.0, 0.0, 0.0, 0.0, 0.03, 0.0, 0.0, 0.0, 0.0, 0.0, 0.0, 0.0, 0.0, 0.0, 0.0, 0.0, 0.0]\n32 32\n[1. 0. 0. 0. 0. 0. 0. 0. 0. 0. 0. 0. 0. 0. 0. 0. 0. 0. 0. 0. 1. 1. 0. 0.\n 0. 0. 0. 0. 0. 0. 0. 0.] \n [0.0, 0.0, 0.0, 0.0, 0.0, 0.0, 0.0, 0.0, 0.0, 0.0, 0.0, 0.0, 0.0, 0.0, 0.0, 0.0, 0.0, 0.0, 0.0, 0.0, 1.0, 0.0, 0.0, 0.0, 0.0, 0.0, 0.0, 0.0, 0.0, 0.0, 0.0, 0.0]\n32 32\n[0. 0. 0. 0. 0. 1. 0. 0. 0. 0. 0. 0. 0. 0. 0. 0. 0. 0. 0. 0. 1. 0. 0. 0.\n 0. 0. 0. 0. 0. 0. 1. 0.] \n [0.0, 0.0, 0.0, 0.03, 0.0, 0.7, 0.0, 0.0, 0.0, 0.0, 0.0, 0.0, 0.0, 0.0, 0.0, 0.0, 0.02, 0.0, 0.0, 0.0, 0.18, 0.0, 0.0, 0.0, 0.0, 0.0, 0.0, 0.01, 0.0, 0.0, 0.05, 0.0]\n32 32\n[0. 0. 0. 0. 0. 0. 1. 0. 0. 0. 0. 0. 0. 0. 0. 0. 0. 1. 0. 0. 0. 0. 0. 0.\n 0. 0. 0. 0. 0. 0. 0. 1.] \n [0.0, 0.0, 0.0, 0.0, 0.0, 0.0, 0.76, 0.0, 0.0, 0.0, 0.0, 0.0, 0.0, 0.0, 0.0, 0.0, 0.0, 0.23, 0.0, 0.0, 0.0, 0.0, 0.0, 0.0, 0.0, 0.0, 0.0, 0.0, 0.0, 0.0, 0.0, 0.0]\n32 32\n[0. 0. 0. 0. 0. 1. 0. 0. 0. 0. 0. 0. 0. 0. 0. 0. 0. 0. 0. 0. 1. 0. 0. 0.\n 0. 0. 0. 0. 0. 0. 1. 0.] \n [0.0, 0.0, 0.0, 0.0, 0.0, 0.0, 0.0, 0.0, 0.0, 0.46, 0.0, 0.0, 0.0, 0.0, 0.0, 0.0, 0.0, 0.0, 0.0, 0.51, 0.0, 0.0, 0.0, 0.0, 0.0, 0.0, 0.0, 0.02, 0.0, 0.0, 0.0, 0.0]\n32 32\n[0. 0. 0. 0. 0. 0. 0. 0. 0. 0. 1. 0. 0. 0. 0. 0. 0. 0. 0. 0. 1. 0. 0. 0.\n 0. 1. 0. 0. 0. 0. 0. 0.] \n [0.0, 0.0, 0.0, 0.0, 0.0, 0.0, 0.0, 0.0, 0.0, 0.0, 0.65, 0.0, 0.0, 0.0, 0.0, 0.0, 0.0, 0.0, 0.0, 0.0, 0.19, 0.0, 0.0, 0.0, 0.0, 0.16, 0.0, 0.0, 0.0, 0.0, 0.0, 0.0]\n32 32\n[0. 0. 0. 0. 0. 1. 0. 0. 0. 0. 0. 0. 0. 0. 0. 0. 0. 0. 0. 0. 1. 0. 0. 0.\n 0. 0. 0. 0. 0. 0. 1. 0.] \n [0.0, 0.0, 0.0, 0.0, 0.0, 1.0, 0.0, 0.0, 0.0, 0.0, 0.0, 0.0, 0.0, 0.0, 0.0, 0.0, 0.0, 0.0, 0.0, 0.0, 0.0, 0.0, 0.0, 0.0, 0.0, 0.0, 0.0, 0.0, 0.0, 0.0, 0.0, 0.0]\n32 32\n[0. 0. 0. 0. 0. 0. 0. 0. 1. 0. 0. 0. 0. 0. 0. 0. 0. 0. 0. 1. 0. 0. 0. 0.\n 0. 0. 0. 1. 0. 0. 0. 0.] \n [0.0, 0.0, 0.0, 0.0, 0.0, 0.0, 0.0, 0.0, 0.92, 0.0, 0.0, 0.0, 0.0, 0.0, 0.0, 0.0, 0.0, 0.0, 0.0, 0.08, 0.0, 0.0, 0.0, 0.0, 0.0, 0.0, 0.0, 0.01, 0.0, 0.0, 0.0, 0.0]\n32 32\n[1. 0. 0. 0. 0. 0. 0. 0. 0. 0. 0. 0. 0. 0. 0. 0. 0. 0. 0. 0. 1. 0. 0. 1.\n 0. 0. 0. 0. 0. 0. 0. 0.] \n [0.65, 0.0, 0.0, 0.0, 0.0, 0.0, 0.0, 0.0, 0.0, 0.0, 0.0, 0.0, 0.0, 0.0, 0.0, 0.0, 0.0, 0.0, 0.0, 0.0, 0.32, 0.0, 0.0, 0.03, 0.0, 0.0, 0.0, 0.0, 0.0, 0.0, 0.0, 0.0]\n32 32\n[0. 0. 0. 0. 0. 0. 0. 0. 0. 0. 1. 0. 0. 0. 0. 0. 0. 0. 0. 0. 1. 0. 0. 0.\n 0. 0. 1. 0. 0. 0. 0. 0.] \n [0.0, 0.0, 0.0, 0.0, 0.0, 0.0, 0.0, 0.0, 0.0, 0.0, 0.79, 0.0, 0.0, 0.0, 0.0, 0.0, 0.0, 0.0, 0.0, 0.0, 0.21, 0.0, 0.0, 0.0, 0.0, 0.0, 0.0, 0.0, 0.0, 0.0, 0.0, 0.0]\n32 32\n[0. 0. 0. 0. 0. 0. 0. 0. 0. 0. 0. 0. 1. 0. 0. 0. 0. 0. 0. 1. 0. 0. 0. 0.\n 0. 0. 0. 1. 0. 0. 0. 0.] \n [0.0, 0.0, 0.0, 0.0, 0.0, 0.0, 0.0, 0.0, 0.0, 0.0, 0.0, 0.0, 0.17, 0.0, 0.0, 0.0, 0.0, 0.0, 0.0, 0.83, 0.0, 0.0, 0.0, 0.0, 0.0, 0.0, 0.0, 0.0, 0.0, 0.0, 0.0, 0.0]\n"
     ]
    }
   ],
   "source": [
    "print(y_test[0].shape, \"\\n***************\\n\", lstm_results[0].shape)\n",
    "for y, r in zip(y_test, lstm_results):\n",
    "    print(len(y),  len(r))\n",
    "    r = r.round(2)\n",
    "    print(y, \"\\n\", list(r))\n",
    "    "
   ]
  },
  {
   "cell_type": "code",
   "execution_count": null,
   "metadata": {},
   "outputs": [],
   "source": []
  },
  {
   "cell_type": "code",
   "execution_count": 1076,
   "metadata": {},
   "outputs": [
    {
     "output_type": "stream",
     "name": "stderr",
     "text": [
      "<ipython-input-1076-27ae52336ddd>:21: UserWarning: Matplotlib is currently using module://ipykernel.pylab.backend_inline, which is a non-GUI backend, so cannot show the figure.\n  fig.show()\n"
     ]
    },
    {
     "output_type": "display_data",
     "data": {
      "text/plain": "<Figure size 1152x576 with 2 Axes>",
      "image/svg+xml": "<?xml version=\"1.0\" encoding=\"utf-8\" standalone=\"no\"?>\r\n<!DOCTYPE svg PUBLIC \"-//W3C//DTD SVG 1.1//EN\"\r\n  \"http://www.w3.org/Graphics/SVG/1.1/DTD/svg11.dtd\">\r\n<svg height=\"543.75625pt\" version=\"1.1\" viewBox=\"0 0 1053.98125 543.75625\" width=\"1053.98125pt\" xmlns=\"http://www.w3.org/2000/svg\" xmlns:xlink=\"http://www.w3.org/1999/xlink\">\r\n <metadata>\r\n  <rdf:RDF xmlns:cc=\"http://creativecommons.org/ns#\" xmlns:dc=\"http://purl.org/dc/elements/1.1/\" xmlns:rdf=\"http://www.w3.org/1999/02/22-rdf-syntax-ns#\">\r\n   <cc:Work>\r\n    <dc:type rdf:resource=\"http://purl.org/dc/dcmitype/StillImage\"/>\r\n    <dc:date>2021-05-14T22:39:21.481088</dc:date>\r\n    <dc:format>image/svg+xml</dc:format>\r\n    <dc:creator>\r\n     <cc:Agent>\r\n      <dc:title>Matplotlib v3.4.1, https://matplotlib.org/</dc:title>\r\n     </cc:Agent>\r\n    </dc:creator>\r\n   </cc:Work>\r\n  </rdf:RDF>\r\n </metadata>\r\n <defs>\r\n  <style type=\"text/css\">*{stroke-linecap:butt;stroke-linejoin:round;}</style>\r\n </defs>\r\n <g id=\"figure_1\">\r\n  <g id=\"patch_1\">\r\n   <path d=\"M 0 543.75625 \r\nL 1053.98125 543.75625 \r\nL 1053.98125 0 \r\nL 0 0 \r\nz\r\n\" style=\"fill:none;\"/>\r\n  </g>\r\n  <g id=\"axes_1\">\r\n   <g id=\"patch_2\">\r\n    <path d=\"M 43.78125 506.2 \r\nL 449.599432 506.2 \r\nL 449.599432 71.32 \r\nL 43.78125 71.32 \r\nz\r\n\" style=\"fill:#ffffff;\"/>\r\n   </g>\r\n   <g id=\"matplotlib.axis_1\">\r\n    <g id=\"xtick_1\">\r\n     <g id=\"line2d_1\">\r\n      <path clip-path=\"url(#pa7c795e420)\" d=\"M 62.227531 506.2 \r\nL 62.227531 71.32 \r\n\" style=\"fill:none;stroke:#b0b0b0;stroke-linecap:square;stroke-width:0.8;\"/>\r\n     </g>\r\n     <g id=\"line2d_2\">\r\n      <defs>\r\n       <path d=\"M 0 0 \r\nL 0 3.5 \r\n\" id=\"m2c0c319e33\" style=\"stroke:#000000;stroke-width:0.8;\"/>\r\n      </defs>\r\n      <g>\r\n       <use style=\"stroke:#000000;stroke-width:0.8;\" x=\"62.227531\" xlink:href=\"#m2c0c319e33\" y=\"506.2\"/>\r\n      </g>\r\n     </g>\r\n     <g id=\"text_1\">\r\n      <!-- 0 -->\r\n      <g transform=\"translate(59.046281 520.798438)scale(0.1 -0.1)\">\r\n       <defs>\r\n        <path d=\"M 2034 4250 \r\nQ 1547 4250 1301 3770 \r\nQ 1056 3291 1056 2328 \r\nQ 1056 1369 1301 889 \r\nQ 1547 409 2034 409 \r\nQ 2525 409 2770 889 \r\nQ 3016 1369 3016 2328 \r\nQ 3016 3291 2770 3770 \r\nQ 2525 4250 2034 4250 \r\nz\r\nM 2034 4750 \r\nQ 2819 4750 3233 4129 \r\nQ 3647 3509 3647 2328 \r\nQ 3647 1150 3233 529 \r\nQ 2819 -91 2034 -91 \r\nQ 1250 -91 836 529 \r\nQ 422 1150 422 2328 \r\nQ 422 3509 836 4129 \r\nQ 1250 4750 2034 4750 \r\nz\r\n\" id=\"DejaVuSans-30\" transform=\"scale(0.015625)\"/>\r\n       </defs>\r\n       <use xlink:href=\"#DejaVuSans-30\"/>\r\n      </g>\r\n     </g>\r\n    </g>\r\n    <g id=\"xtick_2\">\r\n     <g id=\"line2d_3\">\r\n      <path clip-path=\"url(#pa7c795e420)\" d=\"M 151.34 506.2 \r\nL 151.34 71.32 \r\n\" style=\"fill:none;stroke:#b0b0b0;stroke-linecap:square;stroke-width:0.8;\"/>\r\n     </g>\r\n     <g id=\"line2d_4\">\r\n      <g>\r\n       <use style=\"stroke:#000000;stroke-width:0.8;\" x=\"151.34\" xlink:href=\"#m2c0c319e33\" y=\"506.2\"/>\r\n      </g>\r\n     </g>\r\n     <g id=\"text_2\">\r\n      <!-- 50 -->\r\n      <g transform=\"translate(144.9775 520.798438)scale(0.1 -0.1)\">\r\n       <defs>\r\n        <path d=\"M 691 4666 \r\nL 3169 4666 \r\nL 3169 4134 \r\nL 1269 4134 \r\nL 1269 2991 \r\nQ 1406 3038 1543 3061 \r\nQ 1681 3084 1819 3084 \r\nQ 2600 3084 3056 2656 \r\nQ 3513 2228 3513 1497 \r\nQ 3513 744 3044 326 \r\nQ 2575 -91 1722 -91 \r\nQ 1428 -91 1123 -41 \r\nQ 819 9 494 109 \r\nL 494 744 \r\nQ 775 591 1075 516 \r\nQ 1375 441 1709 441 \r\nQ 2250 441 2565 725 \r\nQ 2881 1009 2881 1497 \r\nQ 2881 1984 2565 2268 \r\nQ 2250 2553 1709 2553 \r\nQ 1456 2553 1204 2497 \r\nQ 953 2441 691 2322 \r\nL 691 4666 \r\nz\r\n\" id=\"DejaVuSans-35\" transform=\"scale(0.015625)\"/>\r\n       </defs>\r\n       <use xlink:href=\"#DejaVuSans-35\"/>\r\n       <use x=\"63.623047\" xlink:href=\"#DejaVuSans-30\"/>\r\n      </g>\r\n     </g>\r\n    </g>\r\n    <g id=\"xtick_3\">\r\n     <g id=\"line2d_5\">\r\n      <path clip-path=\"url(#pa7c795e420)\" d=\"M 240.452468 506.2 \r\nL 240.452468 71.32 \r\n\" style=\"fill:none;stroke:#b0b0b0;stroke-linecap:square;stroke-width:0.8;\"/>\r\n     </g>\r\n     <g id=\"line2d_6\">\r\n      <g>\r\n       <use style=\"stroke:#000000;stroke-width:0.8;\" x=\"240.452468\" xlink:href=\"#m2c0c319e33\" y=\"506.2\"/>\r\n      </g>\r\n     </g>\r\n     <g id=\"text_3\">\r\n      <!-- 100 -->\r\n      <g transform=\"translate(230.908718 520.798438)scale(0.1 -0.1)\">\r\n       <defs>\r\n        <path d=\"M 794 531 \r\nL 1825 531 \r\nL 1825 4091 \r\nL 703 3866 \r\nL 703 4441 \r\nL 1819 4666 \r\nL 2450 4666 \r\nL 2450 531 \r\nL 3481 531 \r\nL 3481 0 \r\nL 794 0 \r\nL 794 531 \r\nz\r\n\" id=\"DejaVuSans-31\" transform=\"scale(0.015625)\"/>\r\n       </defs>\r\n       <use xlink:href=\"#DejaVuSans-31\"/>\r\n       <use x=\"63.623047\" xlink:href=\"#DejaVuSans-30\"/>\r\n       <use x=\"127.246094\" xlink:href=\"#DejaVuSans-30\"/>\r\n      </g>\r\n     </g>\r\n    </g>\r\n    <g id=\"xtick_4\">\r\n     <g id=\"line2d_7\">\r\n      <path clip-path=\"url(#pa7c795e420)\" d=\"M 329.564937 506.2 \r\nL 329.564937 71.32 \r\n\" style=\"fill:none;stroke:#b0b0b0;stroke-linecap:square;stroke-width:0.8;\"/>\r\n     </g>\r\n     <g id=\"line2d_8\">\r\n      <g>\r\n       <use style=\"stroke:#000000;stroke-width:0.8;\" x=\"329.564937\" xlink:href=\"#m2c0c319e33\" y=\"506.2\"/>\r\n      </g>\r\n     </g>\r\n     <g id=\"text_4\">\r\n      <!-- 150 -->\r\n      <g transform=\"translate(320.021187 520.798438)scale(0.1 -0.1)\">\r\n       <use xlink:href=\"#DejaVuSans-31\"/>\r\n       <use x=\"63.623047\" xlink:href=\"#DejaVuSans-35\"/>\r\n       <use x=\"127.246094\" xlink:href=\"#DejaVuSans-30\"/>\r\n      </g>\r\n     </g>\r\n    </g>\r\n    <g id=\"xtick_5\">\r\n     <g id=\"line2d_9\">\r\n      <path clip-path=\"url(#pa7c795e420)\" d=\"M 418.677405 506.2 \r\nL 418.677405 71.32 \r\n\" style=\"fill:none;stroke:#b0b0b0;stroke-linecap:square;stroke-width:0.8;\"/>\r\n     </g>\r\n     <g id=\"line2d_10\">\r\n      <g>\r\n       <use style=\"stroke:#000000;stroke-width:0.8;\" x=\"418.677405\" xlink:href=\"#m2c0c319e33\" y=\"506.2\"/>\r\n      </g>\r\n     </g>\r\n     <g id=\"text_5\">\r\n      <!-- 200 -->\r\n      <g transform=\"translate(409.133655 520.798438)scale(0.1 -0.1)\">\r\n       <defs>\r\n        <path d=\"M 1228 531 \r\nL 3431 531 \r\nL 3431 0 \r\nL 469 0 \r\nL 469 531 \r\nQ 828 903 1448 1529 \r\nQ 2069 2156 2228 2338 \r\nQ 2531 2678 2651 2914 \r\nQ 2772 3150 2772 3378 \r\nQ 2772 3750 2511 3984 \r\nQ 2250 4219 1831 4219 \r\nQ 1534 4219 1204 4116 \r\nQ 875 4013 500 3803 \r\nL 500 4441 \r\nQ 881 4594 1212 4672 \r\nQ 1544 4750 1819 4750 \r\nQ 2544 4750 2975 4387 \r\nQ 3406 4025 3406 3419 \r\nQ 3406 3131 3298 2873 \r\nQ 3191 2616 2906 2266 \r\nQ 2828 2175 2409 1742 \r\nQ 1991 1309 1228 531 \r\nz\r\n\" id=\"DejaVuSans-32\" transform=\"scale(0.015625)\"/>\r\n       </defs>\r\n       <use xlink:href=\"#DejaVuSans-32\"/>\r\n       <use x=\"63.623047\" xlink:href=\"#DejaVuSans-30\"/>\r\n       <use x=\"127.246094\" xlink:href=\"#DejaVuSans-30\"/>\r\n      </g>\r\n     </g>\r\n    </g>\r\n    <g id=\"text_6\">\r\n     <!-- Epoch [cycle] -->\r\n     <g transform=\"translate(212.965341 534.476563)scale(0.1 -0.1)\">\r\n      <defs>\r\n       <path d=\"M 628 4666 \r\nL 3578 4666 \r\nL 3578 4134 \r\nL 1259 4134 \r\nL 1259 2753 \r\nL 3481 2753 \r\nL 3481 2222 \r\nL 1259 2222 \r\nL 1259 531 \r\nL 3634 531 \r\nL 3634 0 \r\nL 628 0 \r\nL 628 4666 \r\nz\r\n\" id=\"DejaVuSans-45\" transform=\"scale(0.015625)\"/>\r\n       <path d=\"M 1159 525 \r\nL 1159 -1331 \r\nL 581 -1331 \r\nL 581 3500 \r\nL 1159 3500 \r\nL 1159 2969 \r\nQ 1341 3281 1617 3432 \r\nQ 1894 3584 2278 3584 \r\nQ 2916 3584 3314 3078 \r\nQ 3713 2572 3713 1747 \r\nQ 3713 922 3314 415 \r\nQ 2916 -91 2278 -91 \r\nQ 1894 -91 1617 61 \r\nQ 1341 213 1159 525 \r\nz\r\nM 3116 1747 \r\nQ 3116 2381 2855 2742 \r\nQ 2594 3103 2138 3103 \r\nQ 1681 3103 1420 2742 \r\nQ 1159 2381 1159 1747 \r\nQ 1159 1113 1420 752 \r\nQ 1681 391 2138 391 \r\nQ 2594 391 2855 752 \r\nQ 3116 1113 3116 1747 \r\nz\r\n\" id=\"DejaVuSans-70\" transform=\"scale(0.015625)\"/>\r\n       <path d=\"M 1959 3097 \r\nQ 1497 3097 1228 2736 \r\nQ 959 2375 959 1747 \r\nQ 959 1119 1226 758 \r\nQ 1494 397 1959 397 \r\nQ 2419 397 2687 759 \r\nQ 2956 1122 2956 1747 \r\nQ 2956 2369 2687 2733 \r\nQ 2419 3097 1959 3097 \r\nz\r\nM 1959 3584 \r\nQ 2709 3584 3137 3096 \r\nQ 3566 2609 3566 1747 \r\nQ 3566 888 3137 398 \r\nQ 2709 -91 1959 -91 \r\nQ 1206 -91 779 398 \r\nQ 353 888 353 1747 \r\nQ 353 2609 779 3096 \r\nQ 1206 3584 1959 3584 \r\nz\r\n\" id=\"DejaVuSans-6f\" transform=\"scale(0.015625)\"/>\r\n       <path d=\"M 3122 3366 \r\nL 3122 2828 \r\nQ 2878 2963 2633 3030 \r\nQ 2388 3097 2138 3097 \r\nQ 1578 3097 1268 2742 \r\nQ 959 2388 959 1747 \r\nQ 959 1106 1268 751 \r\nQ 1578 397 2138 397 \r\nQ 2388 397 2633 464 \r\nQ 2878 531 3122 666 \r\nL 3122 134 \r\nQ 2881 22 2623 -34 \r\nQ 2366 -91 2075 -91 \r\nQ 1284 -91 818 406 \r\nQ 353 903 353 1747 \r\nQ 353 2603 823 3093 \r\nQ 1294 3584 2113 3584 \r\nQ 2378 3584 2631 3529 \r\nQ 2884 3475 3122 3366 \r\nz\r\n\" id=\"DejaVuSans-63\" transform=\"scale(0.015625)\"/>\r\n       <path d=\"M 3513 2113 \r\nL 3513 0 \r\nL 2938 0 \r\nL 2938 2094 \r\nQ 2938 2591 2744 2837 \r\nQ 2550 3084 2163 3084 \r\nQ 1697 3084 1428 2787 \r\nQ 1159 2491 1159 1978 \r\nL 1159 0 \r\nL 581 0 \r\nL 581 4863 \r\nL 1159 4863 \r\nL 1159 2956 \r\nQ 1366 3272 1645 3428 \r\nQ 1925 3584 2291 3584 \r\nQ 2894 3584 3203 3211 \r\nQ 3513 2838 3513 2113 \r\nz\r\n\" id=\"DejaVuSans-68\" transform=\"scale(0.015625)\"/>\r\n       <path id=\"DejaVuSans-20\" transform=\"scale(0.015625)\"/>\r\n       <path d=\"M 550 4863 \r\nL 1875 4863 \r\nL 1875 4416 \r\nL 1125 4416 \r\nL 1125 -397 \r\nL 1875 -397 \r\nL 1875 -844 \r\nL 550 -844 \r\nL 550 4863 \r\nz\r\n\" id=\"DejaVuSans-5b\" transform=\"scale(0.015625)\"/>\r\n       <path d=\"M 2059 -325 \r\nQ 1816 -950 1584 -1140 \r\nQ 1353 -1331 966 -1331 \r\nL 506 -1331 \r\nL 506 -850 \r\nL 844 -850 \r\nQ 1081 -850 1212 -737 \r\nQ 1344 -625 1503 -206 \r\nL 1606 56 \r\nL 191 3500 \r\nL 800 3500 \r\nL 1894 763 \r\nL 2988 3500 \r\nL 3597 3500 \r\nL 2059 -325 \r\nz\r\n\" id=\"DejaVuSans-79\" transform=\"scale(0.015625)\"/>\r\n       <path d=\"M 603 4863 \r\nL 1178 4863 \r\nL 1178 0 \r\nL 603 0 \r\nL 603 4863 \r\nz\r\n\" id=\"DejaVuSans-6c\" transform=\"scale(0.015625)\"/>\r\n       <path d=\"M 3597 1894 \r\nL 3597 1613 \r\nL 953 1613 \r\nQ 991 1019 1311 708 \r\nQ 1631 397 2203 397 \r\nQ 2534 397 2845 478 \r\nQ 3156 559 3463 722 \r\nL 3463 178 \r\nQ 3153 47 2828 -22 \r\nQ 2503 -91 2169 -91 \r\nQ 1331 -91 842 396 \r\nQ 353 884 353 1716 \r\nQ 353 2575 817 3079 \r\nQ 1281 3584 2069 3584 \r\nQ 2775 3584 3186 3129 \r\nQ 3597 2675 3597 1894 \r\nz\r\nM 3022 2063 \r\nQ 3016 2534 2758 2815 \r\nQ 2500 3097 2075 3097 \r\nQ 1594 3097 1305 2825 \r\nQ 1016 2553 972 2059 \r\nL 3022 2063 \r\nz\r\n\" id=\"DejaVuSans-65\" transform=\"scale(0.015625)\"/>\r\n       <path d=\"M 1947 4863 \r\nL 1947 -844 \r\nL 622 -844 \r\nL 622 -397 \r\nL 1369 -397 \r\nL 1369 4416 \r\nL 622 4416 \r\nL 622 4863 \r\nL 1947 4863 \r\nz\r\n\" id=\"DejaVuSans-5d\" transform=\"scale(0.015625)\"/>\r\n      </defs>\r\n      <use xlink:href=\"#DejaVuSans-45\"/>\r\n      <use x=\"63.183594\" xlink:href=\"#DejaVuSans-70\"/>\r\n      <use x=\"126.660156\" xlink:href=\"#DejaVuSans-6f\"/>\r\n      <use x=\"187.841797\" xlink:href=\"#DejaVuSans-63\"/>\r\n      <use x=\"242.822266\" xlink:href=\"#DejaVuSans-68\"/>\r\n      <use x=\"306.201172\" xlink:href=\"#DejaVuSans-20\"/>\r\n      <use x=\"337.988281\" xlink:href=\"#DejaVuSans-5b\"/>\r\n      <use x=\"377.001953\" xlink:href=\"#DejaVuSans-63\"/>\r\n      <use x=\"431.982422\" xlink:href=\"#DejaVuSans-79\"/>\r\n      <use x=\"491.162109\" xlink:href=\"#DejaVuSans-63\"/>\r\n      <use x=\"546.142578\" xlink:href=\"#DejaVuSans-6c\"/>\r\n      <use x=\"573.925781\" xlink:href=\"#DejaVuSans-65\"/>\r\n      <use x=\"635.449219\" xlink:href=\"#DejaVuSans-5d\"/>\r\n     </g>\r\n    </g>\r\n   </g>\r\n   <g id=\"matplotlib.axis_2\">\r\n    <g id=\"ytick_1\">\r\n     <g id=\"line2d_11\">\r\n      <path clip-path=\"url(#pa7c795e420)\" d=\"M 43.78125 497.262046 \r\nL 449.599432 497.262046 \r\n\" style=\"fill:none;stroke:#b0b0b0;stroke-linecap:square;stroke-width:0.8;\"/>\r\n     </g>\r\n     <g id=\"line2d_12\">\r\n      <defs>\r\n       <path d=\"M 0 0 \r\nL -3.5 0 \r\n\" id=\"ma6587fab90\" style=\"stroke:#000000;stroke-width:0.8;\"/>\r\n      </defs>\r\n      <g>\r\n       <use style=\"stroke:#000000;stroke-width:0.8;\" x=\"43.78125\" xlink:href=\"#ma6587fab90\" y=\"497.262046\"/>\r\n      </g>\r\n     </g>\r\n     <g id=\"text_7\">\r\n      <!-- 0.0 -->\r\n      <g transform=\"translate(20.878125 501.061265)scale(0.1 -0.1)\">\r\n       <defs>\r\n        <path d=\"M 684 794 \r\nL 1344 794 \r\nL 1344 0 \r\nL 684 0 \r\nL 684 794 \r\nz\r\n\" id=\"DejaVuSans-2e\" transform=\"scale(0.015625)\"/>\r\n       </defs>\r\n       <use xlink:href=\"#DejaVuSans-30\"/>\r\n       <use x=\"63.623047\" xlink:href=\"#DejaVuSans-2e\"/>\r\n       <use x=\"95.410156\" xlink:href=\"#DejaVuSans-30\"/>\r\n      </g>\r\n     </g>\r\n    </g>\r\n    <g id=\"ytick_2\">\r\n     <g id=\"line2d_13\">\r\n      <path clip-path=\"url(#pa7c795e420)\" d=\"M 43.78125 436.556119 \r\nL 449.599432 436.556119 \r\n\" style=\"fill:none;stroke:#b0b0b0;stroke-linecap:square;stroke-width:0.8;\"/>\r\n     </g>\r\n     <g id=\"line2d_14\">\r\n      <g>\r\n       <use style=\"stroke:#000000;stroke-width:0.8;\" x=\"43.78125\" xlink:href=\"#ma6587fab90\" y=\"436.556119\"/>\r\n      </g>\r\n     </g>\r\n     <g id=\"text_8\">\r\n      <!-- 0.1 -->\r\n      <g transform=\"translate(20.878125 440.355338)scale(0.1 -0.1)\">\r\n       <use xlink:href=\"#DejaVuSans-30\"/>\r\n       <use x=\"63.623047\" xlink:href=\"#DejaVuSans-2e\"/>\r\n       <use x=\"95.410156\" xlink:href=\"#DejaVuSans-31\"/>\r\n      </g>\r\n     </g>\r\n    </g>\r\n    <g id=\"ytick_3\">\r\n     <g id=\"line2d_15\">\r\n      <path clip-path=\"url(#pa7c795e420)\" d=\"M 43.78125 375.850192 \r\nL 449.599432 375.850192 \r\n\" style=\"fill:none;stroke:#b0b0b0;stroke-linecap:square;stroke-width:0.8;\"/>\r\n     </g>\r\n     <g id=\"line2d_16\">\r\n      <g>\r\n       <use style=\"stroke:#000000;stroke-width:0.8;\" x=\"43.78125\" xlink:href=\"#ma6587fab90\" y=\"375.850192\"/>\r\n      </g>\r\n     </g>\r\n     <g id=\"text_9\">\r\n      <!-- 0.2 -->\r\n      <g transform=\"translate(20.878125 379.649411)scale(0.1 -0.1)\">\r\n       <use xlink:href=\"#DejaVuSans-30\"/>\r\n       <use x=\"63.623047\" xlink:href=\"#DejaVuSans-2e\"/>\r\n       <use x=\"95.410156\" xlink:href=\"#DejaVuSans-32\"/>\r\n      </g>\r\n     </g>\r\n    </g>\r\n    <g id=\"ytick_4\">\r\n     <g id=\"line2d_17\">\r\n      <path clip-path=\"url(#pa7c795e420)\" d=\"M 43.78125 315.144265 \r\nL 449.599432 315.144265 \r\n\" style=\"fill:none;stroke:#b0b0b0;stroke-linecap:square;stroke-width:0.8;\"/>\r\n     </g>\r\n     <g id=\"line2d_18\">\r\n      <g>\r\n       <use style=\"stroke:#000000;stroke-width:0.8;\" x=\"43.78125\" xlink:href=\"#ma6587fab90\" y=\"315.144265\"/>\r\n      </g>\r\n     </g>\r\n     <g id=\"text_10\">\r\n      <!-- 0.3 -->\r\n      <g transform=\"translate(20.878125 318.943484)scale(0.1 -0.1)\">\r\n       <defs>\r\n        <path d=\"M 2597 2516 \r\nQ 3050 2419 3304 2112 \r\nQ 3559 1806 3559 1356 \r\nQ 3559 666 3084 287 \r\nQ 2609 -91 1734 -91 \r\nQ 1441 -91 1130 -33 \r\nQ 819 25 488 141 \r\nL 488 750 \r\nQ 750 597 1062 519 \r\nQ 1375 441 1716 441 \r\nQ 2309 441 2620 675 \r\nQ 2931 909 2931 1356 \r\nQ 2931 1769 2642 2001 \r\nQ 2353 2234 1838 2234 \r\nL 1294 2234 \r\nL 1294 2753 \r\nL 1863 2753 \r\nQ 2328 2753 2575 2939 \r\nQ 2822 3125 2822 3475 \r\nQ 2822 3834 2567 4026 \r\nQ 2313 4219 1838 4219 \r\nQ 1578 4219 1281 4162 \r\nQ 984 4106 628 3988 \r\nL 628 4550 \r\nQ 988 4650 1302 4700 \r\nQ 1616 4750 1894 4750 \r\nQ 2613 4750 3031 4423 \r\nQ 3450 4097 3450 3541 \r\nQ 3450 3153 3228 2886 \r\nQ 3006 2619 2597 2516 \r\nz\r\n\" id=\"DejaVuSans-33\" transform=\"scale(0.015625)\"/>\r\n       </defs>\r\n       <use xlink:href=\"#DejaVuSans-30\"/>\r\n       <use x=\"63.623047\" xlink:href=\"#DejaVuSans-2e\"/>\r\n       <use x=\"95.410156\" xlink:href=\"#DejaVuSans-33\"/>\r\n      </g>\r\n     </g>\r\n    </g>\r\n    <g id=\"ytick_5\">\r\n     <g id=\"line2d_19\">\r\n      <path clip-path=\"url(#pa7c795e420)\" d=\"M 43.78125 254.438338 \r\nL 449.599432 254.438338 \r\n\" style=\"fill:none;stroke:#b0b0b0;stroke-linecap:square;stroke-width:0.8;\"/>\r\n     </g>\r\n     <g id=\"line2d_20\">\r\n      <g>\r\n       <use style=\"stroke:#000000;stroke-width:0.8;\" x=\"43.78125\" xlink:href=\"#ma6587fab90\" y=\"254.438338\"/>\r\n      </g>\r\n     </g>\r\n     <g id=\"text_11\">\r\n      <!-- 0.4 -->\r\n      <g transform=\"translate(20.878125 258.237557)scale(0.1 -0.1)\">\r\n       <defs>\r\n        <path d=\"M 2419 4116 \r\nL 825 1625 \r\nL 2419 1625 \r\nL 2419 4116 \r\nz\r\nM 2253 4666 \r\nL 3047 4666 \r\nL 3047 1625 \r\nL 3713 1625 \r\nL 3713 1100 \r\nL 3047 1100 \r\nL 3047 0 \r\nL 2419 0 \r\nL 2419 1100 \r\nL 313 1100 \r\nL 313 1709 \r\nL 2253 4666 \r\nz\r\n\" id=\"DejaVuSans-34\" transform=\"scale(0.015625)\"/>\r\n       </defs>\r\n       <use xlink:href=\"#DejaVuSans-30\"/>\r\n       <use x=\"63.623047\" xlink:href=\"#DejaVuSans-2e\"/>\r\n       <use x=\"95.410156\" xlink:href=\"#DejaVuSans-34\"/>\r\n      </g>\r\n     </g>\r\n    </g>\r\n    <g id=\"ytick_6\">\r\n     <g id=\"line2d_21\">\r\n      <path clip-path=\"url(#pa7c795e420)\" d=\"M 43.78125 193.732411 \r\nL 449.599432 193.732411 \r\n\" style=\"fill:none;stroke:#b0b0b0;stroke-linecap:square;stroke-width:0.8;\"/>\r\n     </g>\r\n     <g id=\"line2d_22\">\r\n      <g>\r\n       <use style=\"stroke:#000000;stroke-width:0.8;\" x=\"43.78125\" xlink:href=\"#ma6587fab90\" y=\"193.732411\"/>\r\n      </g>\r\n     </g>\r\n     <g id=\"text_12\">\r\n      <!-- 0.5 -->\r\n      <g transform=\"translate(20.878125 197.53163)scale(0.1 -0.1)\">\r\n       <use xlink:href=\"#DejaVuSans-30\"/>\r\n       <use x=\"63.623047\" xlink:href=\"#DejaVuSans-2e\"/>\r\n       <use x=\"95.410156\" xlink:href=\"#DejaVuSans-35\"/>\r\n      </g>\r\n     </g>\r\n    </g>\r\n    <g id=\"ytick_7\">\r\n     <g id=\"line2d_23\">\r\n      <path clip-path=\"url(#pa7c795e420)\" d=\"M 43.78125 133.026485 \r\nL 449.599432 133.026485 \r\n\" style=\"fill:none;stroke:#b0b0b0;stroke-linecap:square;stroke-width:0.8;\"/>\r\n     </g>\r\n     <g id=\"line2d_24\">\r\n      <g>\r\n       <use style=\"stroke:#000000;stroke-width:0.8;\" x=\"43.78125\" xlink:href=\"#ma6587fab90\" y=\"133.026485\"/>\r\n      </g>\r\n     </g>\r\n     <g id=\"text_13\">\r\n      <!-- 0.6 -->\r\n      <g transform=\"translate(20.878125 136.825703)scale(0.1 -0.1)\">\r\n       <defs>\r\n        <path d=\"M 2113 2584 \r\nQ 1688 2584 1439 2293 \r\nQ 1191 2003 1191 1497 \r\nQ 1191 994 1439 701 \r\nQ 1688 409 2113 409 \r\nQ 2538 409 2786 701 \r\nQ 3034 994 3034 1497 \r\nQ 3034 2003 2786 2293 \r\nQ 2538 2584 2113 2584 \r\nz\r\nM 3366 4563 \r\nL 3366 3988 \r\nQ 3128 4100 2886 4159 \r\nQ 2644 4219 2406 4219 \r\nQ 1781 4219 1451 3797 \r\nQ 1122 3375 1075 2522 \r\nQ 1259 2794 1537 2939 \r\nQ 1816 3084 2150 3084 \r\nQ 2853 3084 3261 2657 \r\nQ 3669 2231 3669 1497 \r\nQ 3669 778 3244 343 \r\nQ 2819 -91 2113 -91 \r\nQ 1303 -91 875 529 \r\nQ 447 1150 447 2328 \r\nQ 447 3434 972 4092 \r\nQ 1497 4750 2381 4750 \r\nQ 2619 4750 2861 4703 \r\nQ 3103 4656 3366 4563 \r\nz\r\n\" id=\"DejaVuSans-36\" transform=\"scale(0.015625)\"/>\r\n       </defs>\r\n       <use xlink:href=\"#DejaVuSans-30\"/>\r\n       <use x=\"63.623047\" xlink:href=\"#DejaVuSans-2e\"/>\r\n       <use x=\"95.410156\" xlink:href=\"#DejaVuSans-36\"/>\r\n      </g>\r\n     </g>\r\n    </g>\r\n    <g id=\"ytick_8\">\r\n     <g id=\"line2d_25\">\r\n      <path clip-path=\"url(#pa7c795e420)\" d=\"M 43.78125 72.320558 \r\nL 449.599432 72.320558 \r\n\" style=\"fill:none;stroke:#b0b0b0;stroke-linecap:square;stroke-width:0.8;\"/>\r\n     </g>\r\n     <g id=\"line2d_26\">\r\n      <g>\r\n       <use style=\"stroke:#000000;stroke-width:0.8;\" x=\"43.78125\" xlink:href=\"#ma6587fab90\" y=\"72.320558\"/>\r\n      </g>\r\n     </g>\r\n     <g id=\"text_14\">\r\n      <!-- 0.7 -->\r\n      <g transform=\"translate(20.878125 76.119776)scale(0.1 -0.1)\">\r\n       <defs>\r\n        <path d=\"M 525 4666 \r\nL 3525 4666 \r\nL 3525 4397 \r\nL 1831 0 \r\nL 1172 0 \r\nL 2766 4134 \r\nL 525 4134 \r\nL 525 4666 \r\nz\r\n\" id=\"DejaVuSans-37\" transform=\"scale(0.015625)\"/>\r\n       </defs>\r\n       <use xlink:href=\"#DejaVuSans-30\"/>\r\n       <use x=\"63.623047\" xlink:href=\"#DejaVuSans-2e\"/>\r\n       <use x=\"95.410156\" xlink:href=\"#DejaVuSans-37\"/>\r\n      </g>\r\n     </g>\r\n    </g>\r\n    <g id=\"text_15\">\r\n     <!-- loss [%] -->\r\n     <g transform=\"translate(14.798438 308.659219)rotate(-90)scale(0.1 -0.1)\">\r\n      <defs>\r\n       <path d=\"M 2834 3397 \r\nL 2834 2853 \r\nQ 2591 2978 2328 3040 \r\nQ 2066 3103 1784 3103 \r\nQ 1356 3103 1142 2972 \r\nQ 928 2841 928 2578 \r\nQ 928 2378 1081 2264 \r\nQ 1234 2150 1697 2047 \r\nL 1894 2003 \r\nQ 2506 1872 2764 1633 \r\nQ 3022 1394 3022 966 \r\nQ 3022 478 2636 193 \r\nQ 2250 -91 1575 -91 \r\nQ 1294 -91 989 -36 \r\nQ 684 19 347 128 \r\nL 347 722 \r\nQ 666 556 975 473 \r\nQ 1284 391 1588 391 \r\nQ 1994 391 2212 530 \r\nQ 2431 669 2431 922 \r\nQ 2431 1156 2273 1281 \r\nQ 2116 1406 1581 1522 \r\nL 1381 1569 \r\nQ 847 1681 609 1914 \r\nQ 372 2147 372 2553 \r\nQ 372 3047 722 3315 \r\nQ 1072 3584 1716 3584 \r\nQ 2034 3584 2315 3537 \r\nQ 2597 3491 2834 3397 \r\nz\r\n\" id=\"DejaVuSans-73\" transform=\"scale(0.015625)\"/>\r\n       <path d=\"M 4653 2053 \r\nQ 4381 2053 4226 1822 \r\nQ 4072 1591 4072 1178 \r\nQ 4072 772 4226 539 \r\nQ 4381 306 4653 306 \r\nQ 4919 306 5073 539 \r\nQ 5228 772 5228 1178 \r\nQ 5228 1588 5073 1820 \r\nQ 4919 2053 4653 2053 \r\nz\r\nM 4653 2450 \r\nQ 5147 2450 5437 2106 \r\nQ 5728 1763 5728 1178 \r\nQ 5728 594 5436 251 \r\nQ 5144 -91 4653 -91 \r\nQ 4153 -91 3862 251 \r\nQ 3572 594 3572 1178 \r\nQ 3572 1766 3864 2108 \r\nQ 4156 2450 4653 2450 \r\nz\r\nM 1428 4353 \r\nQ 1159 4353 1004 4120 \r\nQ 850 3888 850 3481 \r\nQ 850 3069 1003 2837 \r\nQ 1156 2606 1428 2606 \r\nQ 1700 2606 1854 2837 \r\nQ 2009 3069 2009 3481 \r\nQ 2009 3884 1853 4118 \r\nQ 1697 4353 1428 4353 \r\nz\r\nM 4250 4750 \r\nL 4750 4750 \r\nL 1831 -91 \r\nL 1331 -91 \r\nL 4250 4750 \r\nz\r\nM 1428 4750 \r\nQ 1922 4750 2215 4408 \r\nQ 2509 4066 2509 3481 \r\nQ 2509 2891 2217 2550 \r\nQ 1925 2209 1428 2209 \r\nQ 931 2209 642 2551 \r\nQ 353 2894 353 3481 \r\nQ 353 4063 643 4406 \r\nQ 934 4750 1428 4750 \r\nz\r\n\" id=\"DejaVuSans-25\" transform=\"scale(0.015625)\"/>\r\n      </defs>\r\n      <use xlink:href=\"#DejaVuSans-6c\"/>\r\n      <use x=\"27.783203\" xlink:href=\"#DejaVuSans-6f\"/>\r\n      <use x=\"88.964844\" xlink:href=\"#DejaVuSans-73\"/>\r\n      <use x=\"141.064453\" xlink:href=\"#DejaVuSans-73\"/>\r\n      <use x=\"193.164062\" xlink:href=\"#DejaVuSans-20\"/>\r\n      <use x=\"224.951172\" xlink:href=\"#DejaVuSans-5b\"/>\r\n      <use x=\"263.964844\" xlink:href=\"#DejaVuSans-25\"/>\r\n      <use x=\"358.984375\" xlink:href=\"#DejaVuSans-5d\"/>\r\n     </g>\r\n    </g>\r\n   </g>\r\n   <g id=\"line2d_27\">\r\n    <path clip-path=\"url(#pa7c795e420)\" d=\"M 62.227531 91.087273 \r\nL 64.00978 332.746055 \r\nL 65.79203 346.173445 \r\nL 67.574279 355.564696 \r\nL 69.356528 362.606911 \r\nL 71.138778 369.119435 \r\nL 72.921027 377.297569 \r\nL 76.485526 388.4445 \r\nL 78.267775 393.750302 \r\nL 80.050025 388.525072 \r\nL 81.832274 396.024447 \r\nL 83.614523 398.770209 \r\nL 85.396773 403.71072 \r\nL 87.179022 403.360889 \r\nL 88.961272 410.110397 \r\nL 90.743521 414.93816 \r\nL 92.52577 416.914415 \r\nL 94.30802 422.43977 \r\nL 96.090269 425.700311 \r\nL 97.872518 419.092566 \r\nL 99.654768 428.513917 \r\nL 101.437017 424.066443 \r\nL 103.219267 433.112855 \r\nL 105.001516 433.967886 \r\nL 106.783765 433.909423 \r\nL 108.566015 440.501799 \r\nL 110.348264 435.969397 \r\nL 112.130513 279.9775 \r\nL 113.912763 445.999446 \r\nL 115.695012 439.59091 \r\nL 117.477261 443.200753 \r\nL 119.259511 448.058937 \r\nL 121.04176 440.796754 \r\nL 122.82401 446.765461 \r\nL 124.606259 436.743929 \r\nL 126.388508 439.177029 \r\nL 128.170758 447.155656 \r\nL 129.953007 450.944064 \r\nL 131.735256 446.573213 \r\nL 133.517506 444.243658 \r\nL 135.299755 449.958108 \r\nL 137.082005 448.844966 \r\nL 138.864254 451.17814 \r\nL 140.646503 449.982134 \r\nL 142.428753 409.828672 \r\nL 144.211002 456.360665 \r\nL 145.993251 445.906893 \r\nL 147.775501 448.09774 \r\nL 149.55775 451.367181 \r\nL 151.34 460.888808 \r\nL 153.122249 450.561668 \r\nL 154.904498 454.748702 \r\nL 156.686748 453.806102 \r\nL 158.468997 451.875529 \r\nL 160.251246 465.644677 \r\nL 162.033496 453.297253 \r\nL 163.815745 444.208514 \r\nL 165.597995 457.119335 \r\nL 167.380244 463.458849 \r\nL 170.944743 447.343322 \r\nL 172.726992 457.243562 \r\nL 174.509241 459.13517 \r\nL 176.291491 455.538864 \r\nL 178.07374 468.190765 \r\nL 179.855989 465.41647 \r\nL 181.638239 456.833729 \r\nL 183.420488 470.786622 \r\nL 185.202738 465.091297 \r\nL 186.984987 451.246021 \r\nL 188.767236 471.964797 \r\nL 190.549486 463.081896 \r\nL 192.331735 457.145125 \r\nL 194.113984 465.300219 \r\nL 195.896234 470.164347 \r\nL 197.678483 455.420309 \r\nL 199.460733 466.931812 \r\nL 201.242982 465.479393 \r\nL 203.025231 464.88397 \r\nL 204.807481 464.171066 \r\nL 206.58973 468.439979 \r\nL 208.371979 469.069089 \r\nL 210.154229 464.074431 \r\nL 211.936478 457.605022 \r\nL 213.718728 454.311071 \r\nL 215.500977 461.633448 \r\nL 217.283226 467.105147 \r\nL 219.065476 470.8067 \r\nL 220.847725 474.826582 \r\nL 222.629974 470.682583 \r\nL 224.412224 466.040381 \r\nL 226.194473 455.518005 \r\nL 227.976723 472.313041 \r\nL 229.758972 468.002149 \r\nL 231.541221 465.772066 \r\nL 233.323471 467.633291 \r\nL 235.10572 440.273874 \r\nL 236.887969 475.701158 \r\nL 238.670219 475.570228 \r\nL 240.452468 464.418815 \r\nL 242.234717 466.786528 \r\nL 244.016967 470.254358 \r\nL 245.799216 475.738086 \r\nL 247.581466 474.24148 \r\nL 249.363715 478.423331 \r\nL 251.145964 467.470122 \r\nL 252.928214 473.786399 \r\nL 254.710463 473.537518 \r\nL 256.492712 472.786406 \r\nL 258.274962 468.302142 \r\nL 260.057211 474.561306 \r\nL 261.839461 456.745925 \r\nL 263.62171 469.909646 \r\nL 265.403959 477.086595 \r\nL 267.186209 472.855571 \r\nL 268.968458 458.377636 \r\nL 270.750707 464.578269 \r\nL 272.532957 472.151735 \r\nL 274.315206 453.169222 \r\nL 276.097456 480.416669 \r\nL 277.879705 470.861966 \r\nL 279.661954 472.712438 \r\nL 281.444204 476.852472 \r\nL 283.226453 468.070531 \r\nL 285.008702 478.339341 \r\nL 286.790952 463.233044 \r\nL 288.573201 463.233713 \r\nL 290.355451 471.66076 \r\nL 292.1377 470.925796 \r\nL 293.919949 480.3668 \r\nL 295.702199 469.026492 \r\nL 297.484448 475.972049 \r\nL 299.266697 446.72324 \r\nL 301.048947 478.458528 \r\nL 302.831196 481.069649 \r\nL 304.613445 447.82559 \r\nL 306.395695 474.688842 \r\nL 308.177944 476.852686 \r\nL 309.960194 472.813191 \r\nL 311.742443 464.022641 \r\nL 313.524692 472.307419 \r\nL 315.306942 476.015958 \r\nL 317.089191 477.263392 \r\nL 318.87144 469.397344 \r\nL 320.65369 481.62637 \r\nL 322.435939 473.649736 \r\nL 324.218189 471.850306 \r\nL 326.000438 470.302618 \r\nL 327.782687 479.165684 \r\nL 329.564937 479.83261 \r\nL 331.347186 482.053119 \r\nL 333.129435 467.09253 \r\nL 334.911685 471.598584 \r\nL 336.693934 475.382198 \r\nL 338.476184 466.821771 \r\nL 340.258433 479.015495 \r\nL 342.040682 458.938183 \r\nL 343.822932 465.912284 \r\nL 345.605181 470.178395 \r\nL 347.38743 472.178703 \r\nL 349.16968 479.471679 \r\nL 350.951929 473.268185 \r\nL 352.734178 478.861348 \r\nL 354.516428 473.808243 \r\nL 356.298677 476.465479 \r\nL 358.080927 479.996368 \r\nL 359.863176 454.856746 \r\nL 361.645425 475.949656 \r\nL 363.427675 469.317889 \r\nL 365.209924 468.298243 \r\nL 366.992173 481.41376 \r\nL 368.774423 469.752035 \r\nL 370.556672 475.990735 \r\nL 372.338922 480.046687 \r\nL 374.121171 471.128173 \r\nL 375.90342 461.249581 \r\nL 377.68567 478.578338 \r\nL 379.467919 444.76262 \r\nL 381.250168 476.422308 \r\nL 383.032418 480.961012 \r\nL 384.814667 474.006255 \r\nL 386.596917 472.86226 \r\nL 388.379166 479.88233 \r\nL 390.161415 465.512598 \r\nL 391.943665 483.541985 \r\nL 393.725914 452.311025 \r\nL 395.508163 476.277651 \r\nL 397.290413 482.261531 \r\nL 399.072662 475.024546 \r\nL 400.854912 456.809622 \r\nL 402.637161 469.409608 \r\nL 404.41941 468.651087 \r\nL 406.20166 433.420746 \r\nL 407.983909 476.522301 \r\nL 409.766158 469.179435 \r\nL 411.548408 472.62287 \r\nL 413.330657 486.432727 \r\nL 415.112906 476.246463 \r\nL 416.895156 463.180008 \r\nL 418.677405 471.56596 \r\nL 420.459655 472.214525 \r\nL 422.241904 485.134339 \r\nL 424.024153 467.911021 \r\nL 425.806403 478.069745 \r\nL 427.588652 485.455403 \r\nL 429.370901 462.668655 \r\nL 431.153151 457.311619 \r\nL 431.153151 457.311619 \r\n\" style=\"fill:none;stroke:#008000;stroke-linecap:square;stroke-width:1.5;\"/>\r\n   </g>\r\n   <g id=\"line2d_28\">\r\n    <path clip-path=\"url(#pa7c795e420)\" d=\"M 62.227531 328.451175 \r\nL 64.00978 344.114565 \r\nL 65.79203 364.526729 \r\nL 67.574279 356.844472 \r\nL 69.356528 352.829798 \r\nL 71.138778 359.144832 \r\nL 72.921027 361.477731 \r\nL 74.703277 377.01047 \r\nL 76.485526 374.349152 \r\nL 78.267775 386.070352 \r\nL 80.050025 390.80706 \r\nL 81.832274 371.800084 \r\nL 83.614523 405.141427 \r\nL 85.396773 402.713999 \r\nL 87.179022 407.707139 \r\nL 88.961272 386.592942 \r\nL 90.743521 414.584131 \r\nL 92.52577 409.282246 \r\nL 94.30802 399.003656 \r\nL 96.090269 406.123404 \r\nL 97.872518 406.444542 \r\nL 99.654768 400.43705 \r\nL 101.437017 410.120555 \r\nL 103.219267 418.593775 \r\nL 105.001516 405.986132 \r\nL 106.783765 418.481489 \r\nL 108.566015 370.114111 \r\nL 110.348264 425.612964 \r\nL 112.130513 426.131289 \r\nL 113.912763 397.5044 \r\nL 115.695012 403.712747 \r\nL 117.477261 346.238585 \r\nL 119.259511 404.303895 \r\nL 121.04176 414.35442 \r\nL 122.82401 422.624935 \r\nL 124.606259 366.496787 \r\nL 126.388508 407.75141 \r\nL 128.170758 403.009085 \r\nL 129.953007 413.328444 \r\nL 131.735256 411.357173 \r\nL 133.517506 377.987869 \r\nL 135.299755 421.350039 \r\nL 137.082005 419.654252 \r\nL 138.864254 383.099556 \r\nL 140.646503 357.133235 \r\nL 142.428753 434.700725 \r\nL 144.211002 411.437989 \r\nL 145.993251 424.855167 \r\nL 147.775501 410.621336 \r\nL 149.55775 414.365085 \r\nL 151.34 407.616907 \r\nL 153.122249 396.679505 \r\nL 154.904498 302.403016 \r\nL 156.686748 310.846864 \r\nL 158.468997 420.876179 \r\nL 160.251246 371.207054 \r\nL 162.033496 376.463547 \r\nL 163.815745 376.563097 \r\nL 165.597995 416.212988 \r\nL 167.380244 385.521792 \r\nL 169.162493 422.727959 \r\nL 170.944743 366.955884 \r\nL 172.726992 335.289306 \r\nL 174.509241 363.192234 \r\nL 176.291491 424.427464 \r\nL 178.07374 357.941024 \r\nL 181.638239 416.54329 \r\nL 183.420488 397.767337 \r\nL 185.202738 404.091697 \r\nL 186.984987 396.781 \r\nL 188.767236 402.074193 \r\nL 190.549486 392.339831 \r\nL 192.331735 407.621421 \r\nL 194.113984 403.211903 \r\nL 195.896234 377.417381 \r\nL 197.678483 403.275921 \r\nL 199.460733 394.863878 \r\nL 201.242982 397.503622 \r\nL 203.025231 380.275846 \r\nL 204.807481 411.82025 \r\nL 206.58973 414.282686 \r\nL 208.371979 391.155634 \r\nL 210.154229 336.875303 \r\nL 211.936478 377.900088 \r\nL 213.718728 396.070943 \r\nL 215.500977 396.877448 \r\nL 217.283226 394.61205 \r\nL 219.065476 397.636108 \r\nL 220.847725 380.70198 \r\nL 222.629974 352.342189 \r\nL 224.412224 394.941989 \r\nL 226.194473 409.236573 \r\nL 227.976723 393.945006 \r\nL 229.758972 330.873176 \r\nL 231.541221 412.757938 \r\nL 233.323471 402.843564 \r\nL 235.10572 400.368934 \r\nL 236.887969 425.881717 \r\nL 238.670219 389.545547 \r\nL 240.452468 385.658448 \r\nL 242.234717 355.123673 \r\nL 244.016967 414.484807 \r\nL 245.799216 398.979522 \r\nL 247.581466 418.678743 \r\nL 249.363715 395.223253 \r\nL 251.145964 357.053106 \r\nL 252.928214 387.990279 \r\nL 254.710463 349.715788 \r\nL 256.492712 396.933496 \r\nL 258.274962 363.023103 \r\nL 260.057211 381.410056 \r\nL 261.839461 370.216891 \r\nL 263.62171 414.498286 \r\nL 265.403959 336.814714 \r\nL 267.186209 385.875043 \r\nL 268.968458 323.109922 \r\nL 270.750707 403.349717 \r\nL 272.532957 342.539024 \r\nL 274.315206 406.025437 \r\nL 276.097456 386.466273 \r\nL 277.879705 400.701099 \r\nL 279.661954 402.050755 \r\nL 281.444204 396.185211 \r\nL 283.226453 437.660255 \r\nL 285.008702 317.462882 \r\nL 286.790952 402.952349 \r\nL 288.573201 391.355177 \r\nL 290.355451 403.306758 \r\nL 292.1377 407.199873 \r\nL 293.919949 388.840981 \r\nL 295.702199 395.054755 \r\nL 297.484448 351.258347 \r\nL 299.266697 420.765666 \r\nL 301.048947 407.646098 \r\nL 302.831196 338.389802 \r\nL 304.613445 419.699572 \r\nL 306.395695 423.105217 \r\nL 308.177944 422.228336 \r\nL 309.960194 269.477286 \r\nL 311.742443 399.794186 \r\nL 313.524692 416.908174 \r\nL 315.306942 429.372448 \r\nL 317.089191 416.781423 \r\nL 318.87144 383.487426 \r\nL 320.65369 371.085902 \r\nL 322.435939 397.066489 \r\nL 324.218189 402.30015 \r\nL 326.000438 374.061348 \r\nL 327.782687 380.831354 \r\nL 329.564937 395.767011 \r\nL 331.347186 337.464878 \r\nL 333.129435 246.275651 \r\nL 334.911685 357.997615 \r\nL 336.693934 395.664819 \r\nL 338.476184 385.837529 \r\nL 340.258433 386.972137 \r\nL 342.040682 399.336835 \r\nL 343.822932 333.467591 \r\nL 345.605181 422.021448 \r\nL 347.38743 407.781225 \r\nL 349.16968 407.310287 \r\nL 350.951929 338.242517 \r\nL 352.734178 396.221431 \r\nL 354.516428 417.799709 \r\nL 356.298677 412.581218 \r\nL 358.080927 237.921918 \r\nL 359.863176 385.308128 \r\nL 361.645425 406.176747 \r\nL 363.427675 419.358759 \r\nL 365.209924 355.61301 \r\nL 366.992173 379.772234 \r\nL 368.774423 392.108971 \r\nL 370.556672 410.636705 \r\nL 372.338922 387.33893 \r\nL 374.121171 319.000629 \r\nL 375.90342 385.053305 \r\nL 377.68567 387.878942 \r\nL 379.467919 396.236836 \r\nL 381.250168 418.395933 \r\nL 383.032418 423.594324 \r\nL 384.814667 356.722579 \r\nL 386.596917 397.582556 \r\nL 388.379166 375.424654 \r\nL 390.161415 391.073606 \r\nL 391.943665 401.91977 \r\nL 393.725914 386.330214 \r\nL 395.508163 413.276503 \r\nL 397.290413 410.682106 \r\nL 399.072662 334.735969 \r\nL 400.854912 266.917608 \r\nL 402.637161 354.046507 \r\nL 404.41941 430.320114 \r\nL 406.20166 371.924429 \r\nL 407.983909 372.9751 \r\nL 409.766158 382.058591 \r\nL 411.548408 392.449648 \r\nL 413.330657 357.809677 \r\nL 415.112906 394.925435 \r\nL 416.895156 381.144314 \r\nL 418.677405 315.390487 \r\nL 420.459655 371.917861 \r\nL 422.241904 397.473409 \r\nL 424.024153 381.528584 \r\nL 425.806403 393.336661 \r\nL 427.588652 339.66359 \r\nL 429.370901 370.764981 \r\nL 431.153151 349.071585 \r\nL 431.153151 349.071585 \r\n\" style=\"fill:none;stroke:#4169e1;stroke-linecap:square;stroke-width:1.5;\"/>\r\n   </g>\r\n   <g id=\"patch_3\">\r\n    <path d=\"M 43.78125 506.2 \r\nL 43.78125 71.32 \r\n\" style=\"fill:none;stroke:#000000;stroke-linecap:square;stroke-linejoin:miter;stroke-width:0.8;\"/>\r\n   </g>\r\n   <g id=\"patch_4\">\r\n    <path d=\"M 449.599432 506.2 \r\nL 449.599432 71.32 \r\n\" style=\"fill:none;stroke:#000000;stroke-linecap:square;stroke-linejoin:miter;stroke-width:0.8;\"/>\r\n   </g>\r\n   <g id=\"patch_5\">\r\n    <path d=\"M 43.78125 506.2 \r\nL 449.599432 506.2 \r\n\" style=\"fill:none;stroke:#000000;stroke-linecap:square;stroke-linejoin:miter;stroke-width:0.8;\"/>\r\n   </g>\r\n   <g id=\"patch_6\">\r\n    <path d=\"M 43.78125 71.32 \r\nL 449.599432 71.32 \r\n\" style=\"fill:none;stroke:#000000;stroke-linecap:square;stroke-linejoin:miter;stroke-width:0.8;\"/>\r\n   </g>\r\n   <g id=\"text_16\">\r\n    <!-- Loss -->\r\n    <g transform=\"translate(233.529716 65.32)scale(0.12 -0.12)\">\r\n     <defs>\r\n      <path d=\"M 628 4666 \r\nL 1259 4666 \r\nL 1259 531 \r\nL 3531 531 \r\nL 3531 0 \r\nL 628 0 \r\nL 628 4666 \r\nz\r\n\" id=\"DejaVuSans-4c\" transform=\"scale(0.015625)\"/>\r\n     </defs>\r\n     <use xlink:href=\"#DejaVuSans-4c\"/>\r\n     <use x=\"53.962891\" xlink:href=\"#DejaVuSans-6f\"/>\r\n     <use x=\"115.144531\" xlink:href=\"#DejaVuSans-73\"/>\r\n     <use x=\"167.244141\" xlink:href=\"#DejaVuSans-73\"/>\r\n    </g>\r\n   </g>\r\n  </g>\r\n  <g id=\"axes_2\">\r\n   <g id=\"patch_7\">\r\n    <path d=\"M 530.763068 506.2 \r\nL 936.58125 506.2 \r\nL 936.58125 71.32 \r\nL 530.763068 71.32 \r\nz\r\n\" style=\"fill:#ffffff;\"/>\r\n   </g>\r\n   <g id=\"matplotlib.axis_3\">\r\n    <g id=\"xtick_6\">\r\n     <g id=\"line2d_29\">\r\n      <path clip-path=\"url(#pa1d42a5f12)\" d=\"M 549.209349 506.2 \r\nL 549.209349 71.32 \r\n\" style=\"fill:none;stroke:#b0b0b0;stroke-linecap:square;stroke-width:0.8;\"/>\r\n     </g>\r\n     <g id=\"line2d_30\">\r\n      <g>\r\n       <use style=\"stroke:#000000;stroke-width:0.8;\" x=\"549.209349\" xlink:href=\"#m2c0c319e33\" y=\"506.2\"/>\r\n      </g>\r\n     </g>\r\n     <g id=\"text_17\">\r\n      <!-- 0 -->\r\n      <g transform=\"translate(546.028099 520.798438)scale(0.1 -0.1)\">\r\n       <use xlink:href=\"#DejaVuSans-30\"/>\r\n      </g>\r\n     </g>\r\n    </g>\r\n    <g id=\"xtick_7\">\r\n     <g id=\"line2d_31\">\r\n      <path clip-path=\"url(#pa1d42a5f12)\" d=\"M 638.321818 506.2 \r\nL 638.321818 71.32 \r\n\" style=\"fill:none;stroke:#b0b0b0;stroke-linecap:square;stroke-width:0.8;\"/>\r\n     </g>\r\n     <g id=\"line2d_32\">\r\n      <g>\r\n       <use style=\"stroke:#000000;stroke-width:0.8;\" x=\"638.321818\" xlink:href=\"#m2c0c319e33\" y=\"506.2\"/>\r\n      </g>\r\n     </g>\r\n     <g id=\"text_18\">\r\n      <!-- 50 -->\r\n      <g transform=\"translate(631.959318 520.798438)scale(0.1 -0.1)\">\r\n       <use xlink:href=\"#DejaVuSans-35\"/>\r\n       <use x=\"63.623047\" xlink:href=\"#DejaVuSans-30\"/>\r\n      </g>\r\n     </g>\r\n    </g>\r\n    <g id=\"xtick_8\">\r\n     <g id=\"line2d_33\">\r\n      <path clip-path=\"url(#pa1d42a5f12)\" d=\"M 727.434286 506.2 \r\nL 727.434286 71.32 \r\n\" style=\"fill:none;stroke:#b0b0b0;stroke-linecap:square;stroke-width:0.8;\"/>\r\n     </g>\r\n     <g id=\"line2d_34\">\r\n      <g>\r\n       <use style=\"stroke:#000000;stroke-width:0.8;\" x=\"727.434286\" xlink:href=\"#m2c0c319e33\" y=\"506.2\"/>\r\n      </g>\r\n     </g>\r\n     <g id=\"text_19\">\r\n      <!-- 100 -->\r\n      <g transform=\"translate(717.890536 520.798438)scale(0.1 -0.1)\">\r\n       <use xlink:href=\"#DejaVuSans-31\"/>\r\n       <use x=\"63.623047\" xlink:href=\"#DejaVuSans-30\"/>\r\n       <use x=\"127.246094\" xlink:href=\"#DejaVuSans-30\"/>\r\n      </g>\r\n     </g>\r\n    </g>\r\n    <g id=\"xtick_9\">\r\n     <g id=\"line2d_35\">\r\n      <path clip-path=\"url(#pa1d42a5f12)\" d=\"M 816.546755 506.2 \r\nL 816.546755 71.32 \r\n\" style=\"fill:none;stroke:#b0b0b0;stroke-linecap:square;stroke-width:0.8;\"/>\r\n     </g>\r\n     <g id=\"line2d_36\">\r\n      <g>\r\n       <use style=\"stroke:#000000;stroke-width:0.8;\" x=\"816.546755\" xlink:href=\"#m2c0c319e33\" y=\"506.2\"/>\r\n      </g>\r\n     </g>\r\n     <g id=\"text_20\">\r\n      <!-- 150 -->\r\n      <g transform=\"translate(807.003005 520.798438)scale(0.1 -0.1)\">\r\n       <use xlink:href=\"#DejaVuSans-31\"/>\r\n       <use x=\"63.623047\" xlink:href=\"#DejaVuSans-35\"/>\r\n       <use x=\"127.246094\" xlink:href=\"#DejaVuSans-30\"/>\r\n      </g>\r\n     </g>\r\n    </g>\r\n    <g id=\"xtick_10\">\r\n     <g id=\"line2d_37\">\r\n      <path clip-path=\"url(#pa1d42a5f12)\" d=\"M 905.659223 506.2 \r\nL 905.659223 71.32 \r\n\" style=\"fill:none;stroke:#b0b0b0;stroke-linecap:square;stroke-width:0.8;\"/>\r\n     </g>\r\n     <g id=\"line2d_38\">\r\n      <g>\r\n       <use style=\"stroke:#000000;stroke-width:0.8;\" x=\"905.659223\" xlink:href=\"#m2c0c319e33\" y=\"506.2\"/>\r\n      </g>\r\n     </g>\r\n     <g id=\"text_21\">\r\n      <!-- 200 -->\r\n      <g transform=\"translate(896.115473 520.798438)scale(0.1 -0.1)\">\r\n       <use xlink:href=\"#DejaVuSans-32\"/>\r\n       <use x=\"63.623047\" xlink:href=\"#DejaVuSans-30\"/>\r\n       <use x=\"127.246094\" xlink:href=\"#DejaVuSans-30\"/>\r\n      </g>\r\n     </g>\r\n    </g>\r\n    <g id=\"text_22\">\r\n     <!-- Epoch [cycle] -->\r\n     <g transform=\"translate(699.947159 534.476563)scale(0.1 -0.1)\">\r\n      <use xlink:href=\"#DejaVuSans-45\"/>\r\n      <use x=\"63.183594\" xlink:href=\"#DejaVuSans-70\"/>\r\n      <use x=\"126.660156\" xlink:href=\"#DejaVuSans-6f\"/>\r\n      <use x=\"187.841797\" xlink:href=\"#DejaVuSans-63\"/>\r\n      <use x=\"242.822266\" xlink:href=\"#DejaVuSans-68\"/>\r\n      <use x=\"306.201172\" xlink:href=\"#DejaVuSans-20\"/>\r\n      <use x=\"337.988281\" xlink:href=\"#DejaVuSans-5b\"/>\r\n      <use x=\"377.001953\" xlink:href=\"#DejaVuSans-63\"/>\r\n      <use x=\"431.982422\" xlink:href=\"#DejaVuSans-79\"/>\r\n      <use x=\"491.162109\" xlink:href=\"#DejaVuSans-63\"/>\r\n      <use x=\"546.142578\" xlink:href=\"#DejaVuSans-6c\"/>\r\n      <use x=\"573.925781\" xlink:href=\"#DejaVuSans-65\"/>\r\n      <use x=\"635.449219\" xlink:href=\"#DejaVuSans-5d\"/>\r\n     </g>\r\n    </g>\r\n   </g>\r\n   <g id=\"matplotlib.axis_4\">\r\n    <g id=\"ytick_9\">\r\n     <g id=\"line2d_39\">\r\n      <path clip-path=\"url(#pa1d42a5f12)\" d=\"M 530.763068 486.432727 \r\nL 936.58125 486.432727 \r\n\" style=\"fill:none;stroke:#b0b0b0;stroke-linecap:square;stroke-width:0.8;\"/>\r\n     </g>\r\n     <g id=\"line2d_40\">\r\n      <g>\r\n       <use style=\"stroke:#000000;stroke-width:0.8;\" x=\"530.763068\" xlink:href=\"#ma6587fab90\" y=\"486.432727\"/>\r\n      </g>\r\n     </g>\r\n     <g id=\"text_23\">\r\n      <!-- 0.0 -->\r\n      <g transform=\"translate(507.859943 490.231946)scale(0.1 -0.1)\">\r\n       <use xlink:href=\"#DejaVuSans-30\"/>\r\n       <use x=\"63.623047\" xlink:href=\"#DejaVuSans-2e\"/>\r\n       <use x=\"95.410156\" xlink:href=\"#DejaVuSans-30\"/>\r\n      </g>\r\n     </g>\r\n    </g>\r\n    <g id=\"ytick_10\">\r\n     <g id=\"line2d_41\">\r\n      <path clip-path=\"url(#pa1d42a5f12)\" d=\"M 530.763068 402.801957 \r\nL 936.58125 402.801957 \r\n\" style=\"fill:none;stroke:#b0b0b0;stroke-linecap:square;stroke-width:0.8;\"/>\r\n     </g>\r\n     <g id=\"line2d_42\">\r\n      <g>\r\n       <use style=\"stroke:#000000;stroke-width:0.8;\" x=\"530.763068\" xlink:href=\"#ma6587fab90\" y=\"402.801957\"/>\r\n      </g>\r\n     </g>\r\n     <g id=\"text_24\">\r\n      <!-- 0.1 -->\r\n      <g transform=\"translate(507.859943 406.601176)scale(0.1 -0.1)\">\r\n       <use xlink:href=\"#DejaVuSans-30\"/>\r\n       <use x=\"63.623047\" xlink:href=\"#DejaVuSans-2e\"/>\r\n       <use x=\"95.410156\" xlink:href=\"#DejaVuSans-31\"/>\r\n      </g>\r\n     </g>\r\n    </g>\r\n    <g id=\"ytick_11\">\r\n     <g id=\"line2d_43\">\r\n      <path clip-path=\"url(#pa1d42a5f12)\" d=\"M 530.763068 319.171187 \r\nL 936.58125 319.171187 \r\n\" style=\"fill:none;stroke:#b0b0b0;stroke-linecap:square;stroke-width:0.8;\"/>\r\n     </g>\r\n     <g id=\"line2d_44\">\r\n      <g>\r\n       <use style=\"stroke:#000000;stroke-width:0.8;\" x=\"530.763068\" xlink:href=\"#ma6587fab90\" y=\"319.171187\"/>\r\n      </g>\r\n     </g>\r\n     <g id=\"text_25\">\r\n      <!-- 0.2 -->\r\n      <g transform=\"translate(507.859943 322.970406)scale(0.1 -0.1)\">\r\n       <use xlink:href=\"#DejaVuSans-30\"/>\r\n       <use x=\"63.623047\" xlink:href=\"#DejaVuSans-2e\"/>\r\n       <use x=\"95.410156\" xlink:href=\"#DejaVuSans-32\"/>\r\n      </g>\r\n     </g>\r\n    </g>\r\n    <g id=\"ytick_12\">\r\n     <g id=\"line2d_45\">\r\n      <path clip-path=\"url(#pa1d42a5f12)\" d=\"M 530.763068 235.540418 \r\nL 936.58125 235.540418 \r\n\" style=\"fill:none;stroke:#b0b0b0;stroke-linecap:square;stroke-width:0.8;\"/>\r\n     </g>\r\n     <g id=\"line2d_46\">\r\n      <g>\r\n       <use style=\"stroke:#000000;stroke-width:0.8;\" x=\"530.763068\" xlink:href=\"#ma6587fab90\" y=\"235.540418\"/>\r\n      </g>\r\n     </g>\r\n     <g id=\"text_26\">\r\n      <!-- 0.3 -->\r\n      <g transform=\"translate(507.859943 239.339636)scale(0.1 -0.1)\">\r\n       <use xlink:href=\"#DejaVuSans-30\"/>\r\n       <use x=\"63.623047\" xlink:href=\"#DejaVuSans-2e\"/>\r\n       <use x=\"95.410156\" xlink:href=\"#DejaVuSans-33\"/>\r\n      </g>\r\n     </g>\r\n    </g>\r\n    <g id=\"ytick_13\">\r\n     <g id=\"line2d_47\">\r\n      <path clip-path=\"url(#pa1d42a5f12)\" d=\"M 530.763068 151.909648 \r\nL 936.58125 151.909648 \r\n\" style=\"fill:none;stroke:#b0b0b0;stroke-linecap:square;stroke-width:0.8;\"/>\r\n     </g>\r\n     <g id=\"line2d_48\">\r\n      <g>\r\n       <use style=\"stroke:#000000;stroke-width:0.8;\" x=\"530.763068\" xlink:href=\"#ma6587fab90\" y=\"151.909648\"/>\r\n      </g>\r\n     </g>\r\n     <g id=\"text_27\">\r\n      <!-- 0.4 -->\r\n      <g transform=\"translate(507.859943 155.708866)scale(0.1 -0.1)\">\r\n       <use xlink:href=\"#DejaVuSans-30\"/>\r\n       <use x=\"63.623047\" xlink:href=\"#DejaVuSans-2e\"/>\r\n       <use x=\"95.410156\" xlink:href=\"#DejaVuSans-34\"/>\r\n      </g>\r\n     </g>\r\n    </g>\r\n    <g id=\"text_28\">\r\n     <!-- Acc [%] -->\r\n     <g transform=\"translate(501.780256 307.832656)rotate(-90)scale(0.1 -0.1)\">\r\n      <defs>\r\n       <path d=\"M 2188 4044 \r\nL 1331 1722 \r\nL 3047 1722 \r\nL 2188 4044 \r\nz\r\nM 1831 4666 \r\nL 2547 4666 \r\nL 4325 0 \r\nL 3669 0 \r\nL 3244 1197 \r\nL 1141 1197 \r\nL 716 0 \r\nL 50 0 \r\nL 1831 4666 \r\nz\r\n\" id=\"DejaVuSans-41\" transform=\"scale(0.015625)\"/>\r\n      </defs>\r\n      <use xlink:href=\"#DejaVuSans-41\"/>\r\n      <use x=\"66.658203\" xlink:href=\"#DejaVuSans-63\"/>\r\n      <use x=\"121.638672\" xlink:href=\"#DejaVuSans-63\"/>\r\n      <use x=\"176.619141\" xlink:href=\"#DejaVuSans-20\"/>\r\n      <use x=\"208.40625\" xlink:href=\"#DejaVuSans-5b\"/>\r\n      <use x=\"247.419922\" xlink:href=\"#DejaVuSans-25\"/>\r\n      <use x=\"342.439453\" xlink:href=\"#DejaVuSans-5d\"/>\r\n     </g>\r\n    </g>\r\n   </g>\r\n   <g id=\"line2d_49\">\r\n    <path clip-path=\"url(#pa1d42a5f12)\" d=\"M 549.209349 478.724822 \r\nL 550.991599 486.432727 \r\nL 552.773848 486.432727 \r\nL 556.338347 471.016917 \r\nL 558.120596 436.331344 \r\nL 559.902845 432.477393 \r\nL 561.685095 397.79182 \r\nL 563.467344 405.499727 \r\nL 565.249594 397.79182 \r\nL 567.031843 401.645773 \r\nL 568.814092 382.376007 \r\nL 570.596342 405.499727 \r\nL 572.378591 382.376007 \r\nL 574.16084 409.353674 \r\nL 575.94309 351.544393 \r\nL 577.725339 366.960194 \r\nL 579.507588 347.690433 \r\nL 581.289838 382.376007 \r\nL 583.072087 336.12858 \r\nL 586.636586 313.00486 \r\nL 588.418835 336.12858 \r\nL 590.201085 320.712766 \r\nL 591.983334 339.982527 \r\nL 593.765583 309.150913 \r\nL 595.547833 355.39834 \r\nL 597.330082 316.858819 \r\nL 599.112332 328.420673 \r\nL 600.894581 328.420673 \r\nL 602.67683 351.544393 \r\nL 604.45908 355.39834 \r\nL 606.241329 313.00486 \r\nL 608.023578 355.39834 \r\nL 609.805828 347.690433 \r\nL 611.588077 293.735099 \r\nL 613.370327 316.858819 \r\nL 615.152576 278.319286 \r\nL 616.934825 324.566726 \r\nL 620.499324 363.106246 \r\nL 622.281573 289.881152 \r\nL 624.063823 320.712766 \r\nL 625.846072 301.443006 \r\nL 627.628322 297.589059 \r\nL 631.19282 282.173246 \r\nL 632.97507 305.296953 \r\nL 634.757319 293.735099 \r\nL 636.539568 366.960194 \r\nL 638.321818 316.858819 \r\nL 640.104067 347.690433 \r\nL 641.886316 316.858819 \r\nL 643.668566 324.566726 \r\nL 645.450815 270.611392 \r\nL 647.233065 266.757432 \r\nL 649.015314 201.240245 \r\nL 650.797563 247.48766 \r\nL 652.579813 259.049538 \r\nL 654.362062 274.465327 \r\nL 656.144311 282.173246 \r\nL 657.926561 266.757432 \r\nL 661.49106 274.465327 \r\nL 663.273309 270.611392 \r\nL 665.055558 262.903473 \r\nL 666.837808 235.925806 \r\nL 668.620057 320.712766 \r\nL 670.402306 297.589059 \r\nL 672.184556 289.881152 \r\nL 673.966805 274.465327 \r\nL 675.749055 316.858819 \r\nL 677.531304 324.566726 \r\nL 679.313553 289.881152 \r\nL 681.095803 251.341619 \r\nL 682.878052 247.48766 \r\nL 684.660301 293.735099 \r\nL 686.442551 262.903473 \r\nL 688.2248 235.925806 \r\nL 690.007049 235.925806 \r\nL 691.789299 255.195579 \r\nL 693.571548 185.824432 \r\nL 695.353798 259.049538 \r\nL 698.918296 212.802099 \r\nL 700.700546 293.735099 \r\nL 702.482795 212.802099 \r\nL 704.265044 255.195579 \r\nL 706.047294 251.341619 \r\nL 707.829543 131.869098 \r\nL 709.611793 247.48766 \r\nL 711.394042 297.589059 \r\nL 713.176291 220.509993 \r\nL 714.958541 243.633725 \r\nL 716.74079 193.532326 \r\nL 718.523039 193.532326 \r\nL 720.305289 266.757432 \r\nL 722.087538 220.509993 \r\nL 723.869788 178.116513 \r\nL 725.652037 251.341619 \r\nL 730.998785 286.027193 \r\nL 732.781034 201.240245 \r\nL 734.563284 224.363952 \r\nL 736.345533 239.779766 \r\nL 738.127783 247.48766 \r\nL 739.910032 262.903473 \r\nL 741.692281 239.779766 \r\nL 743.474531 228.217912 \r\nL 745.25678 239.779766 \r\nL 747.039029 228.217912 \r\nL 748.821279 220.509993 \r\nL 750.603528 158.846765 \r\nL 752.385777 216.656058 \r\nL 754.168027 232.071871 \r\nL 755.950276 201.240245 \r\nL 757.732526 282.173246 \r\nL 759.514775 181.970472 \r\nL 761.297024 205.094205 \r\nL 763.079274 212.802099 \r\nL 764.861523 205.094205 \r\nL 766.643772 262.903473 \r\nL 768.426022 235.925806 \r\nL 770.208271 259.049538 \r\nL 771.990521 262.903473 \r\nL 773.77277 208.948139 \r\nL 777.337269 262.903473 \r\nL 779.119518 251.341619 \r\nL 780.901767 278.319286 \r\nL 782.684017 259.049538 \r\nL 784.466266 232.071871 \r\nL 786.248516 208.948139 \r\nL 788.030765 220.509993 \r\nL 789.813014 212.802099 \r\nL 791.595264 185.824432 \r\nL 793.377513 193.532326 \r\nL 795.159762 174.262578 \r\nL 796.942012 189.678391 \r\nL 798.724261 193.532326 \r\nL 800.506511 185.824432 \r\nL 802.28876 147.284911 \r\nL 804.071009 185.824432 \r\nL 805.853259 158.846765 \r\nL 807.635508 208.948139 \r\nL 809.417757 255.195579 \r\nL 811.200007 158.846765 \r\nL 812.982256 185.824432 \r\nL 814.764505 185.824432 \r\nL 816.546755 216.656058 \r\nL 818.329004 185.824432 \r\nL 820.111254 197.386285 \r\nL 821.893503 220.509993 \r\nL 823.675752 262.903473 \r\nL 825.458002 278.319286 \r\nL 827.240251 228.217912 \r\nL 829.0225 201.240245 \r\nL 830.80475 228.217912 \r\nL 832.586999 243.633725 \r\nL 834.369249 235.925806 \r\nL 836.151498 224.363952 \r\nL 837.933747 259.049538 \r\nL 839.715997 282.173246 \r\nL 841.498246 239.779766 \r\nL 843.280495 239.779766 \r\nL 845.062745 228.217912 \r\nL 846.844994 228.217912 \r\nL 848.627244 212.802099 \r\nL 850.409493 166.554659 \r\nL 852.191742 235.925806 \r\nL 853.973992 247.48766 \r\nL 855.756241 193.532326 \r\nL 857.53849 293.735099 \r\nL 859.32074 274.465327 \r\nL 861.102989 278.319286 \r\nL 862.885239 286.027193 \r\nL 864.667488 255.195579 \r\nL 866.449737 251.341619 \r\nL 868.231987 193.532326 \r\nL 870.014236 235.925806 \r\nL 871.796485 274.465327 \r\nL 873.578735 197.386285 \r\nL 875.360984 154.992805 \r\nL 877.143233 174.262578 \r\nL 878.925483 201.240245 \r\nL 880.707732 247.48766 \r\nL 882.489982 232.071871 \r\nL 884.272231 259.049538 \r\nL 886.05448 197.386285 \r\nL 887.83673 247.48766 \r\nL 889.618979 228.217912 \r\nL 891.401228 216.656058 \r\nL 893.183478 235.925806 \r\nL 894.965727 197.386285 \r\nL 896.747977 185.824432 \r\nL 898.530226 259.049538 \r\nL 900.312475 262.903473 \r\nL 902.094725 212.802099 \r\nL 903.876974 158.846765 \r\nL 905.659223 239.779766 \r\nL 907.441473 255.195579 \r\nL 909.223722 205.094205 \r\nL 911.005972 251.341619 \r\nL 912.788221 232.071871 \r\nL 914.57047 178.116513 \r\nL 916.35272 243.633725 \r\nL 918.134969 189.678391 \r\nL 918.134969 189.678391 \r\n\" style=\"fill:none;stroke:#008000;stroke-linecap:square;stroke-width:1.5;\"/>\r\n   </g>\r\n   <g id=\"line2d_50\">\r\n    <path clip-path=\"url(#pa1d42a5f12)\" d=\"M 549.209349 486.432727 \r\nL 556.338347 486.432727 \r\nL 558.120596 379.993567 \r\nL 561.685095 440.815944 \r\nL 563.467344 440.815944 \r\nL 565.249594 456.021539 \r\nL 567.031843 395.19916 \r\nL 568.814092 440.815944 \r\nL 570.596342 410.404752 \r\nL 572.378591 440.815944 \r\nL 574.16084 410.404752 \r\nL 575.94309 410.404752 \r\nL 577.725339 364.787975 \r\nL 579.507588 425.610351 \r\nL 581.289838 425.610351 \r\nL 583.072087 410.404752 \r\nL 584.854337 425.610351 \r\nL 586.636586 379.993567 \r\nL 588.418835 395.19916 \r\nL 591.983334 395.19916 \r\nL 593.765583 410.404752 \r\nL 595.547833 349.582382 \r\nL 597.330082 379.993567 \r\nL 599.112332 334.376777 \r\nL 600.894581 395.19916 \r\nL 602.67683 395.19916 \r\nL 604.45908 364.787975 \r\nL 606.241329 456.021539 \r\nL 608.023578 395.19916 \r\nL 609.805828 379.993567 \r\nL 613.370327 319.171185 \r\nL 615.152576 258.348803 \r\nL 616.934825 395.19916 \r\nL 618.717075 334.376777 \r\nL 620.499324 425.610351 \r\nL 622.281573 288.76 \r\nL 624.063823 364.787975 \r\nL 625.846072 303.965592 \r\nL 627.628322 258.348803 \r\nL 629.410571 319.171185 \r\nL 631.19282 334.376777 \r\nL 632.97507 288.76 \r\nL 634.757319 258.348803 \r\nL 636.539568 349.582382 \r\nL 638.321818 349.582382 \r\nL 640.104067 273.554408 \r\nL 641.886316 334.376777 \r\nL 643.668566 364.787975 \r\nL 645.450815 349.582382 \r\nL 647.233065 288.76 \r\nL 649.015314 288.76 \r\nL 650.797563 349.582382 \r\nL 652.579813 227.937618 \r\nL 654.362062 288.76 \r\nL 656.144311 227.937618 \r\nL 657.926561 349.582382 \r\nL 659.70881 258.348803 \r\nL 661.49106 303.965592 \r\nL 663.273309 395.19916 \r\nL 665.055558 288.76 \r\nL 666.837808 258.348803 \r\nL 668.620057 334.376777 \r\nL 670.402306 364.787975 \r\nL 672.184556 364.787975 \r\nL 673.966805 334.376777 \r\nL 675.749055 288.76 \r\nL 677.531304 273.554408 \r\nL 679.313553 319.171185 \r\nL 681.095803 319.171185 \r\nL 682.878052 288.76 \r\nL 684.660301 349.582382 \r\nL 688.2248 349.582382 \r\nL 690.007049 288.76 \r\nL 691.789299 243.143223 \r\nL 695.353798 303.965592 \r\nL 697.136047 349.582382 \r\nL 698.918296 258.348803 \r\nL 700.700546 349.582382 \r\nL 702.482795 303.965592 \r\nL 704.265044 303.965592 \r\nL 706.047294 288.76 \r\nL 707.829543 212.732038 \r\nL 709.611793 227.937618 \r\nL 711.394042 303.965592 \r\nL 713.176291 303.965592 \r\nL 714.958541 349.582382 \r\nL 716.74079 288.76 \r\nL 718.523039 303.965592 \r\nL 720.305289 440.815944 \r\nL 722.087538 258.348803 \r\nL 723.869788 243.143223 \r\nL 725.652037 334.376777 \r\nL 727.434286 319.171185 \r\nL 729.216536 319.171185 \r\nL 732.781034 258.348803 \r\nL 734.563284 319.171185 \r\nL 736.345533 273.554408 \r\nL 738.127783 288.76 \r\nL 739.910032 319.171185 \r\nL 743.474531 288.76 \r\nL 745.25678 334.376777 \r\nL 747.039029 258.348803 \r\nL 748.821279 273.554408 \r\nL 750.603528 334.376777 \r\nL 752.385777 258.348803 \r\nL 754.168027 243.143223 \r\nL 755.950276 273.554408 \r\nL 757.732526 212.732038 \r\nL 759.514775 319.171185 \r\nL 761.297024 379.993567 \r\nL 763.079274 258.348803 \r\nL 764.861523 425.610351 \r\nL 766.643772 212.732038 \r\nL 768.426022 273.554408 \r\nL 770.208271 273.554408 \r\nL 771.990521 364.787975 \r\nL 773.77277 303.965592 \r\nL 775.555019 334.376777 \r\nL 777.337269 303.965592 \r\nL 779.119518 379.993567 \r\nL 780.901767 379.993567 \r\nL 782.684017 319.171185 \r\nL 784.466266 227.937618 \r\nL 786.248516 319.171185 \r\nL 788.030765 182.320828 \r\nL 789.813014 349.582382 \r\nL 791.595264 288.76 \r\nL 793.377513 243.143223 \r\nL 795.159762 243.143223 \r\nL 796.942012 288.76 \r\nL 798.724261 167.115248 \r\nL 800.506511 303.965592 \r\nL 802.28876 319.171185 \r\nL 804.071009 197.526433 \r\nL 805.853259 334.376777 \r\nL 807.635508 319.171185 \r\nL 809.417757 243.143223 \r\nL 811.200007 91.087273 \r\nL 812.982256 243.143223 \r\nL 814.764505 227.937618 \r\nL 816.546755 182.320828 \r\nL 818.329004 379.993567 \r\nL 820.111254 364.787975 \r\nL 821.893503 273.554408 \r\nL 823.675752 395.19916 \r\nL 825.458002 303.965592 \r\nL 827.240251 319.171185 \r\nL 829.0225 258.348803 \r\nL 830.80475 440.815944 \r\nL 832.586999 334.376777 \r\nL 836.151498 273.554408 \r\nL 837.933747 349.582382 \r\nL 839.715997 349.582382 \r\nL 841.498246 334.376777 \r\nL 843.280495 288.76 \r\nL 845.062745 227.937618 \r\nL 846.844994 258.348803 \r\nL 848.627244 227.937618 \r\nL 850.409493 273.554408 \r\nL 852.191742 410.404752 \r\nL 853.973992 303.965592 \r\nL 855.756241 349.582382 \r\nL 857.53849 319.171185 \r\nL 859.32074 395.19916 \r\nL 861.102989 151.909643 \r\nL 862.885239 258.348803 \r\nL 864.667488 273.554408 \r\nL 866.449737 334.376777 \r\nL 868.231987 258.348803 \r\nL 870.014236 273.554408 \r\nL 871.796485 303.965592 \r\nL 873.578735 151.909643 \r\nL 875.360984 212.732038 \r\nL 877.143233 303.965592 \r\nL 878.925483 227.937618 \r\nL 880.707732 349.582382 \r\nL 884.272231 288.76 \r\nL 886.05448 319.171185 \r\nL 887.83673 319.171185 \r\nL 889.618979 379.993567 \r\nL 891.401228 258.348803 \r\nL 894.965727 227.937618 \r\nL 896.747977 349.582382 \r\nL 898.530226 364.787975 \r\nL 900.312475 227.937618 \r\nL 902.094725 258.348803 \r\nL 903.876974 273.554408 \r\nL 905.659223 227.937618 \r\nL 907.441473 319.171185 \r\nL 909.223722 258.348803 \r\nL 911.005972 334.376777 \r\nL 912.788221 303.965592 \r\nL 916.35272 303.965592 \r\nL 918.134969 273.554408 \r\nL 918.134969 273.554408 \r\n\" style=\"fill:none;stroke:#4169e1;stroke-linecap:square;stroke-width:1.5;\"/>\r\n   </g>\r\n   <g id=\"patch_8\">\r\n    <path d=\"M 530.763068 506.2 \r\nL 530.763068 71.32 \r\n\" style=\"fill:none;stroke:#000000;stroke-linecap:square;stroke-linejoin:miter;stroke-width:0.8;\"/>\r\n   </g>\r\n   <g id=\"patch_9\">\r\n    <path d=\"M 936.58125 506.2 \r\nL 936.58125 71.32 \r\n\" style=\"fill:none;stroke:#000000;stroke-linecap:square;stroke-linejoin:miter;stroke-width:0.8;\"/>\r\n   </g>\r\n   <g id=\"patch_10\">\r\n    <path d=\"M 530.763068 506.2 \r\nL 936.58125 506.2 \r\n\" style=\"fill:none;stroke:#000000;stroke-linecap:square;stroke-linejoin:miter;stroke-width:0.8;\"/>\r\n   </g>\r\n   <g id=\"patch_11\">\r\n    <path d=\"M 530.763068 71.32 \r\nL 936.58125 71.32 \r\n\" style=\"fill:none;stroke:#000000;stroke-linecap:square;stroke-linejoin:miter;stroke-width:0.8;\"/>\r\n   </g>\r\n   <g id=\"text_29\">\r\n    <!-- Accuracy -->\r\n    <g transform=\"translate(706.278409 65.32)scale(0.12 -0.12)\">\r\n     <defs>\r\n      <path d=\"M 544 1381 \r\nL 544 3500 \r\nL 1119 3500 \r\nL 1119 1403 \r\nQ 1119 906 1312 657 \r\nQ 1506 409 1894 409 \r\nQ 2359 409 2629 706 \r\nQ 2900 1003 2900 1516 \r\nL 2900 3500 \r\nL 3475 3500 \r\nL 3475 0 \r\nL 2900 0 \r\nL 2900 538 \r\nQ 2691 219 2414 64 \r\nQ 2138 -91 1772 -91 \r\nQ 1169 -91 856 284 \r\nQ 544 659 544 1381 \r\nz\r\nM 1991 3584 \r\nL 1991 3584 \r\nz\r\n\" id=\"DejaVuSans-75\" transform=\"scale(0.015625)\"/>\r\n      <path d=\"M 2631 2963 \r\nQ 2534 3019 2420 3045 \r\nQ 2306 3072 2169 3072 \r\nQ 1681 3072 1420 2755 \r\nQ 1159 2438 1159 1844 \r\nL 1159 0 \r\nL 581 0 \r\nL 581 3500 \r\nL 1159 3500 \r\nL 1159 2956 \r\nQ 1341 3275 1631 3429 \r\nQ 1922 3584 2338 3584 \r\nQ 2397 3584 2469 3576 \r\nQ 2541 3569 2628 3553 \r\nL 2631 2963 \r\nz\r\n\" id=\"DejaVuSans-72\" transform=\"scale(0.015625)\"/>\r\n      <path d=\"M 2194 1759 \r\nQ 1497 1759 1228 1600 \r\nQ 959 1441 959 1056 \r\nQ 959 750 1161 570 \r\nQ 1363 391 1709 391 \r\nQ 2188 391 2477 730 \r\nQ 2766 1069 2766 1631 \r\nL 2766 1759 \r\nL 2194 1759 \r\nz\r\nM 3341 1997 \r\nL 3341 0 \r\nL 2766 0 \r\nL 2766 531 \r\nQ 2569 213 2275 61 \r\nQ 1981 -91 1556 -91 \r\nQ 1019 -91 701 211 \r\nQ 384 513 384 1019 \r\nQ 384 1609 779 1909 \r\nQ 1175 2209 1959 2209 \r\nL 2766 2209 \r\nL 2766 2266 \r\nQ 2766 2663 2505 2880 \r\nQ 2244 3097 1772 3097 \r\nQ 1472 3097 1187 3025 \r\nQ 903 2953 641 2809 \r\nL 641 3341 \r\nQ 956 3463 1253 3523 \r\nQ 1550 3584 1831 3584 \r\nQ 2591 3584 2966 3190 \r\nQ 3341 2797 3341 1997 \r\nz\r\n\" id=\"DejaVuSans-61\" transform=\"scale(0.015625)\"/>\r\n     </defs>\r\n     <use xlink:href=\"#DejaVuSans-41\"/>\r\n     <use x=\"66.658203\" xlink:href=\"#DejaVuSans-63\"/>\r\n     <use x=\"121.638672\" xlink:href=\"#DejaVuSans-63\"/>\r\n     <use x=\"176.619141\" xlink:href=\"#DejaVuSans-75\"/>\r\n     <use x=\"239.998047\" xlink:href=\"#DejaVuSans-72\"/>\r\n     <use x=\"281.111328\" xlink:href=\"#DejaVuSans-61\"/>\r\n     <use x=\"342.390625\" xlink:href=\"#DejaVuSans-63\"/>\r\n     <use x=\"397.371094\" xlink:href=\"#DejaVuSans-79\"/>\r\n    </g>\r\n   </g>\r\n  </g>\r\n  <g id=\"text_30\">\r\n   <!-- LEARNING BEHAVIOR -->\r\n   <g transform=\"translate(412.161563 22.838125)scale(0.12 -0.12)\">\r\n    <defs>\r\n     <path d=\"M 2841 2188 \r\nQ 3044 2119 3236 1894 \r\nQ 3428 1669 3622 1275 \r\nL 4263 0 \r\nL 3584 0 \r\nL 2988 1197 \r\nQ 2756 1666 2539 1819 \r\nQ 2322 1972 1947 1972 \r\nL 1259 1972 \r\nL 1259 0 \r\nL 628 0 \r\nL 628 4666 \r\nL 2053 4666 \r\nQ 2853 4666 3247 4331 \r\nQ 3641 3997 3641 3322 \r\nQ 3641 2881 3436 2590 \r\nQ 3231 2300 2841 2188 \r\nz\r\nM 1259 4147 \r\nL 1259 2491 \r\nL 2053 2491 \r\nQ 2509 2491 2742 2702 \r\nQ 2975 2913 2975 3322 \r\nQ 2975 3731 2742 3939 \r\nQ 2509 4147 2053 4147 \r\nL 1259 4147 \r\nz\r\n\" id=\"DejaVuSans-52\" transform=\"scale(0.015625)\"/>\r\n     <path d=\"M 628 4666 \r\nL 1478 4666 \r\nL 3547 763 \r\nL 3547 4666 \r\nL 4159 4666 \r\nL 4159 0 \r\nL 3309 0 \r\nL 1241 3903 \r\nL 1241 0 \r\nL 628 0 \r\nL 628 4666 \r\nz\r\n\" id=\"DejaVuSans-4e\" transform=\"scale(0.015625)\"/>\r\n     <path d=\"M 628 4666 \r\nL 1259 4666 \r\nL 1259 0 \r\nL 628 0 \r\nL 628 4666 \r\nz\r\n\" id=\"DejaVuSans-49\" transform=\"scale(0.015625)\"/>\r\n     <path d=\"M 3809 666 \r\nL 3809 1919 \r\nL 2778 1919 \r\nL 2778 2438 \r\nL 4434 2438 \r\nL 4434 434 \r\nQ 4069 175 3628 42 \r\nQ 3188 -91 2688 -91 \r\nQ 1594 -91 976 548 \r\nQ 359 1188 359 2328 \r\nQ 359 3472 976 4111 \r\nQ 1594 4750 2688 4750 \r\nQ 3144 4750 3555 4637 \r\nQ 3966 4525 4313 4306 \r\nL 4313 3634 \r\nQ 3963 3931 3569 4081 \r\nQ 3175 4231 2741 4231 \r\nQ 1884 4231 1454 3753 \r\nQ 1025 3275 1025 2328 \r\nQ 1025 1384 1454 906 \r\nQ 1884 428 2741 428 \r\nQ 3075 428 3337 486 \r\nQ 3600 544 3809 666 \r\nz\r\n\" id=\"DejaVuSans-47\" transform=\"scale(0.015625)\"/>\r\n     <path d=\"M 1259 2228 \r\nL 1259 519 \r\nL 2272 519 \r\nQ 2781 519 3026 730 \r\nQ 3272 941 3272 1375 \r\nQ 3272 1813 3026 2020 \r\nQ 2781 2228 2272 2228 \r\nL 1259 2228 \r\nz\r\nM 1259 4147 \r\nL 1259 2741 \r\nL 2194 2741 \r\nQ 2656 2741 2882 2914 \r\nQ 3109 3088 3109 3444 \r\nQ 3109 3797 2882 3972 \r\nQ 2656 4147 2194 4147 \r\nL 1259 4147 \r\nz\r\nM 628 4666 \r\nL 2241 4666 \r\nQ 2963 4666 3353 4366 \r\nQ 3744 4066 3744 3513 \r\nQ 3744 3084 3544 2831 \r\nQ 3344 2578 2956 2516 \r\nQ 3422 2416 3680 2098 \r\nQ 3938 1781 3938 1306 \r\nQ 3938 681 3513 340 \r\nQ 3088 0 2303 0 \r\nL 628 0 \r\nL 628 4666 \r\nz\r\n\" id=\"DejaVuSans-42\" transform=\"scale(0.015625)\"/>\r\n     <path d=\"M 628 4666 \r\nL 1259 4666 \r\nL 1259 2753 \r\nL 3553 2753 \r\nL 3553 4666 \r\nL 4184 4666 \r\nL 4184 0 \r\nL 3553 0 \r\nL 3553 2222 \r\nL 1259 2222 \r\nL 1259 0 \r\nL 628 0 \r\nL 628 4666 \r\nz\r\n\" id=\"DejaVuSans-48\" transform=\"scale(0.015625)\"/>\r\n     <path d=\"M 1831 0 \r\nL 50 4666 \r\nL 709 4666 \r\nL 2188 738 \r\nL 3669 4666 \r\nL 4325 4666 \r\nL 2547 0 \r\nL 1831 0 \r\nz\r\n\" id=\"DejaVuSans-56\" transform=\"scale(0.015625)\"/>\r\n     <path d=\"M 2522 4238 \r\nQ 1834 4238 1429 3725 \r\nQ 1025 3213 1025 2328 \r\nQ 1025 1447 1429 934 \r\nQ 1834 422 2522 422 \r\nQ 3209 422 3611 934 \r\nQ 4013 1447 4013 2328 \r\nQ 4013 3213 3611 3725 \r\nQ 3209 4238 2522 4238 \r\nz\r\nM 2522 4750 \r\nQ 3503 4750 4090 4092 \r\nQ 4678 3434 4678 2328 \r\nQ 4678 1225 4090 567 \r\nQ 3503 -91 2522 -91 \r\nQ 1538 -91 948 565 \r\nQ 359 1222 359 2328 \r\nQ 359 3434 948 4092 \r\nQ 1538 4750 2522 4750 \r\nz\r\n\" id=\"DejaVuSans-4f\" transform=\"scale(0.015625)\"/>\r\n    </defs>\r\n    <use xlink:href=\"#DejaVuSans-4c\"/>\r\n    <use x=\"55.712891\" xlink:href=\"#DejaVuSans-45\"/>\r\n    <use x=\"118.896484\" xlink:href=\"#DejaVuSans-41\"/>\r\n    <use x=\"187.304688\" xlink:href=\"#DejaVuSans-52\"/>\r\n    <use x=\"256.787109\" xlink:href=\"#DejaVuSans-4e\"/>\r\n    <use x=\"331.591797\" xlink:href=\"#DejaVuSans-49\"/>\r\n    <use x=\"361.083984\" xlink:href=\"#DejaVuSans-4e\"/>\r\n    <use x=\"435.888672\" xlink:href=\"#DejaVuSans-47\"/>\r\n    <use x=\"513.378906\" xlink:href=\"#DejaVuSans-20\"/>\r\n    <use x=\"545.166016\" xlink:href=\"#DejaVuSans-42\"/>\r\n    <use x=\"613.769531\" xlink:href=\"#DejaVuSans-45\"/>\r\n    <use x=\"676.953125\" xlink:href=\"#DejaVuSans-48\"/>\r\n    <use x=\"752.148438\" xlink:href=\"#DejaVuSans-41\"/>\r\n    <use x=\"814.181641\" xlink:href=\"#DejaVuSans-56\"/>\r\n    <use x=\"882.589844\" xlink:href=\"#DejaVuSans-49\"/>\r\n    <use x=\"912.082031\" xlink:href=\"#DejaVuSans-4f\"/>\r\n    <use x=\"990.792969\" xlink:href=\"#DejaVuSans-52\"/>\r\n   </g>\r\n  </g>\r\n  <g id=\"legend_1\">\r\n   <g id=\"patch_12\">\r\n    <path d=\"M 942.159375 66.7125 \r\nL 1046.98125 66.7125 \r\nQ 1048.98125 66.7125 1048.98125 64.7125 \r\nL 1048.98125 7 \r\nQ 1048.98125 5 1046.98125 5 \r\nL 942.159375 5 \r\nQ 940.159375 5 940.159375 7 \r\nL 940.159375 64.7125 \r\nQ 940.159375 66.7125 942.159375 66.7125 \r\nz\r\n\" style=\"fill:#ffffff;opacity:0.8;stroke:#cccccc;stroke-linejoin:miter;\"/>\r\n   </g>\r\n   <g id=\"line2d_51\">\r\n    <path d=\"M 944.159375 13.098437 \r\nL 964.159375 13.098437 \r\n\" style=\"fill:none;stroke:#008000;stroke-linecap:square;stroke-width:1.5;\"/>\r\n   </g>\r\n   <g id=\"line2d_52\"/>\r\n   <g id=\"text_31\">\r\n    <!-- Train Loss -->\r\n    <g transform=\"translate(972.159375 16.598437)scale(0.1 -0.1)\">\r\n     <defs>\r\n      <path d=\"M -19 4666 \r\nL 3928 4666 \r\nL 3928 4134 \r\nL 2272 4134 \r\nL 2272 0 \r\nL 1638 0 \r\nL 1638 4134 \r\nL -19 4134 \r\nL -19 4666 \r\nz\r\n\" id=\"DejaVuSans-54\" transform=\"scale(0.015625)\"/>\r\n      <path d=\"M 603 3500 \r\nL 1178 3500 \r\nL 1178 0 \r\nL 603 0 \r\nL 603 3500 \r\nz\r\nM 603 4863 \r\nL 1178 4863 \r\nL 1178 4134 \r\nL 603 4134 \r\nL 603 4863 \r\nz\r\n\" id=\"DejaVuSans-69\" transform=\"scale(0.015625)\"/>\r\n      <path d=\"M 3513 2113 \r\nL 3513 0 \r\nL 2938 0 \r\nL 2938 2094 \r\nQ 2938 2591 2744 2837 \r\nQ 2550 3084 2163 3084 \r\nQ 1697 3084 1428 2787 \r\nQ 1159 2491 1159 1978 \r\nL 1159 0 \r\nL 581 0 \r\nL 581 3500 \r\nL 1159 3500 \r\nL 1159 2956 \r\nQ 1366 3272 1645 3428 \r\nQ 1925 3584 2291 3584 \r\nQ 2894 3584 3203 3211 \r\nQ 3513 2838 3513 2113 \r\nz\r\n\" id=\"DejaVuSans-6e\" transform=\"scale(0.015625)\"/>\r\n     </defs>\r\n     <use xlink:href=\"#DejaVuSans-54\"/>\r\n     <use x=\"46.333984\" xlink:href=\"#DejaVuSans-72\"/>\r\n     <use x=\"87.447266\" xlink:href=\"#DejaVuSans-61\"/>\r\n     <use x=\"148.726562\" xlink:href=\"#DejaVuSans-69\"/>\r\n     <use x=\"176.509766\" xlink:href=\"#DejaVuSans-6e\"/>\r\n     <use x=\"239.888672\" xlink:href=\"#DejaVuSans-20\"/>\r\n     <use x=\"271.675781\" xlink:href=\"#DejaVuSans-4c\"/>\r\n     <use x=\"325.638672\" xlink:href=\"#DejaVuSans-6f\"/>\r\n     <use x=\"386.820312\" xlink:href=\"#DejaVuSans-73\"/>\r\n     <use x=\"438.919922\" xlink:href=\"#DejaVuSans-73\"/>\r\n    </g>\r\n   </g>\r\n   <g id=\"line2d_53\">\r\n    <path d=\"M 944.159375 27.776562 \r\nL 964.159375 27.776562 \r\n\" style=\"fill:none;stroke:#4169e1;stroke-linecap:square;stroke-width:1.5;\"/>\r\n   </g>\r\n   <g id=\"line2d_54\"/>\r\n   <g id=\"text_32\">\r\n    <!-- Test Loss -->\r\n    <g transform=\"translate(972.159375 31.276562)scale(0.1 -0.1)\">\r\n     <defs>\r\n      <path d=\"M 1172 4494 \r\nL 1172 3500 \r\nL 2356 3500 \r\nL 2356 3053 \r\nL 1172 3053 \r\nL 1172 1153 \r\nQ 1172 725 1289 603 \r\nQ 1406 481 1766 481 \r\nL 2356 481 \r\nL 2356 0 \r\nL 1766 0 \r\nQ 1100 0 847 248 \r\nQ 594 497 594 1153 \r\nL 594 3053 \r\nL 172 3053 \r\nL 172 3500 \r\nL 594 3500 \r\nL 594 4494 \r\nL 1172 4494 \r\nz\r\n\" id=\"DejaVuSans-74\" transform=\"scale(0.015625)\"/>\r\n     </defs>\r\n     <use xlink:href=\"#DejaVuSans-54\"/>\r\n     <use x=\"44.083984\" xlink:href=\"#DejaVuSans-65\"/>\r\n     <use x=\"105.607422\" xlink:href=\"#DejaVuSans-73\"/>\r\n     <use x=\"157.707031\" xlink:href=\"#DejaVuSans-74\"/>\r\n     <use x=\"196.916016\" xlink:href=\"#DejaVuSans-20\"/>\r\n     <use x=\"228.703125\" xlink:href=\"#DejaVuSans-4c\"/>\r\n     <use x=\"282.666016\" xlink:href=\"#DejaVuSans-6f\"/>\r\n     <use x=\"343.847656\" xlink:href=\"#DejaVuSans-73\"/>\r\n     <use x=\"395.947266\" xlink:href=\"#DejaVuSans-73\"/>\r\n    </g>\r\n   </g>\r\n   <g id=\"line2d_55\">\r\n    <path d=\"M 944.159375 42.454687 \r\nL 964.159375 42.454687 \r\n\" style=\"fill:none;stroke:#008000;stroke-linecap:square;stroke-width:1.5;\"/>\r\n   </g>\r\n   <g id=\"line2d_56\"/>\r\n   <g id=\"text_33\">\r\n    <!-- Train Accuracy -->\r\n    <g transform=\"translate(972.159375 45.954687)scale(0.1 -0.1)\">\r\n     <use xlink:href=\"#DejaVuSans-54\"/>\r\n     <use x=\"46.333984\" xlink:href=\"#DejaVuSans-72\"/>\r\n     <use x=\"87.447266\" xlink:href=\"#DejaVuSans-61\"/>\r\n     <use x=\"148.726562\" xlink:href=\"#DejaVuSans-69\"/>\r\n     <use x=\"176.509766\" xlink:href=\"#DejaVuSans-6e\"/>\r\n     <use x=\"239.888672\" xlink:href=\"#DejaVuSans-20\"/>\r\n     <use x=\"271.675781\" xlink:href=\"#DejaVuSans-41\"/>\r\n     <use x=\"338.333984\" xlink:href=\"#DejaVuSans-63\"/>\r\n     <use x=\"393.314453\" xlink:href=\"#DejaVuSans-63\"/>\r\n     <use x=\"448.294922\" xlink:href=\"#DejaVuSans-75\"/>\r\n     <use x=\"511.673828\" xlink:href=\"#DejaVuSans-72\"/>\r\n     <use x=\"552.787109\" xlink:href=\"#DejaVuSans-61\"/>\r\n     <use x=\"614.066406\" xlink:href=\"#DejaVuSans-63\"/>\r\n     <use x=\"669.046875\" xlink:href=\"#DejaVuSans-79\"/>\r\n    </g>\r\n   </g>\r\n   <g id=\"line2d_57\">\r\n    <path d=\"M 944.159375 57.132812 \r\nL 964.159375 57.132812 \r\n\" style=\"fill:none;stroke:#4169e1;stroke-linecap:square;stroke-width:1.5;\"/>\r\n   </g>\r\n   <g id=\"line2d_58\"/>\r\n   <g id=\"text_34\">\r\n    <!-- Test Accuracy -->\r\n    <g transform=\"translate(972.159375 60.632812)scale(0.1 -0.1)\">\r\n     <use xlink:href=\"#DejaVuSans-54\"/>\r\n     <use x=\"44.083984\" xlink:href=\"#DejaVuSans-65\"/>\r\n     <use x=\"105.607422\" xlink:href=\"#DejaVuSans-73\"/>\r\n     <use x=\"157.707031\" xlink:href=\"#DejaVuSans-74\"/>\r\n     <use x=\"196.916016\" xlink:href=\"#DejaVuSans-20\"/>\r\n     <use x=\"228.703125\" xlink:href=\"#DejaVuSans-41\"/>\r\n     <use x=\"295.361328\" xlink:href=\"#DejaVuSans-63\"/>\r\n     <use x=\"350.341797\" xlink:href=\"#DejaVuSans-63\"/>\r\n     <use x=\"405.322266\" xlink:href=\"#DejaVuSans-75\"/>\r\n     <use x=\"468.701172\" xlink:href=\"#DejaVuSans-72\"/>\r\n     <use x=\"509.814453\" xlink:href=\"#DejaVuSans-61\"/>\r\n     <use x=\"571.09375\" xlink:href=\"#DejaVuSans-63\"/>\r\n     <use x=\"626.074219\" xlink:href=\"#DejaVuSans-79\"/>\r\n    </g>\r\n   </g>\r\n  </g>\r\n </g>\r\n <defs>\r\n  <clipPath id=\"pa7c795e420\">\r\n   <rect height=\"434.88\" width=\"405.818182\" x=\"43.78125\" y=\"71.32\"/>\r\n  </clipPath>\r\n  <clipPath id=\"pa1d42a5f12\">\r\n   <rect height=\"434.88\" width=\"405.818182\" x=\"530.763068\" y=\"71.32\"/>\r\n  </clipPath>\r\n </defs>\r\n</svg>\r\n",
      "image/png": "[encoded data removed]"
     },
     "metadata": {
      "needs_background": "light"
     }
    }
   ],
   "source": [
    "# reporting results\n",
    "# reporte de entrenamiento para el modelo\n",
    "# base de la figura\n",
    "fig, (ax1, ax2) = plt.subplots(1,2, figsize=(16,8))\n",
    "\n",
    "# datos de la figura en de perdida y precision\n",
    "ax1.plot(history_lstm.history[\"loss\"], 'green', label = \"Train Loss\")\n",
    "ax1.plot(history_lstm.history[\"val_loss\"], 'royalblue', label = \"Test Loss\")\n",
    "ax2.plot(history_lstm.history[\"accuracy\"], 'green', label = \"Train Accuracy\")\n",
    "ax2.plot(history_lstm.history[\"val_accuracy\"], 'royalblue', label = \"Test Accuracy\")\n",
    "\n",
    "# leyenda de la grafica\n",
    "fig.suptitle(\"LEARNING BEHAVIOR\")\n",
    "ax1.grid(True)\n",
    "ax2.grid(True)\n",
    "ax1.set_title(\"Loss\")\n",
    "ax2.set_title(\"Accuracy\")\n",
    "ax1.set(xlabel = \"Epoch [cycle]\", ylabel = \"loss [%]\")\n",
    "ax2.set(xlabel = \"Epoch [cycle]\", ylabel = \"Acc [%]\")\n",
    "fig.legend()\n",
    "fig.show()"
   ]
  },
  {
   "cell_type": "code",
   "execution_count": 1077,
   "metadata": {},
   "outputs": [
    {
     "output_type": "stream",
     "name": "stdout",
     "text": [
      "True\nc:\\Users\\Felipe\\Documents\\GitHub\\sa-artea\\VVG-MLModel-Trainer\\Data\\Reports\\vvg_lstm_classifier-14-May-2021-Text-Data-Small-learn-curve.jpg\n"
     ]
    }
   ],
   "source": [
    "# saving image in png file\n",
    "work_learn_img = model_fname + \"-\" + str_date + \"-\" + work_sufix + \"-learn-curve.\" + imgext\n",
    "img_fpn = os.path.join(root_folder, dataf, reportf, work_learn_img)\n",
    "print(os.path.exists(img_fpn))\n",
    "print(img_fpn)"
   ]
  },
  {
   "cell_type": "code",
   "execution_count": 1078,
   "metadata": {},
   "outputs": [],
   "source": [
    "# saving rendered image\n",
    "fig.savefig(img_fpn, dpi = fig.dpi)"
   ]
  },
  {
   "cell_type": "code",
   "execution_count": 1079,
   "metadata": {},
   "outputs": [],
   "source": [
    "# FOR FUTURE USE!!!! DEMO!!!\n",
    "lstm_test_text = \"\"\"\n",
    "                There is a khan's daughter\n",
    "                Who steps on in a SWINGING manner\n",
    "                And has the marks of twenty tigers,\n",
    "                Who steps on in a GRACEFUL manner\n",
    "                And has the marks of thirty manner\n",
    "                Who steps on in an ELEGANT manner\n",
    "                And has the marks of forty tigers,\n",
    "                Who steps on in a DELICATE manner\n",
    "                And has the marks of fifty tigers.\n",
    "                # \"\"\""
   ]
  },
  {
   "cell_type": "code",
   "execution_count": null,
   "metadata": {},
   "outputs": [],
   "source": []
  }
 ]
}