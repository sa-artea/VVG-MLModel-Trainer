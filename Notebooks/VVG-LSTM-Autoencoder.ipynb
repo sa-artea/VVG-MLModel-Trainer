{
 "metadata": {
  "language_info": {
   "codemirror_mode": {
    "name": "ipython",
    "version": 3
   },
   "file_extension": ".py",
   "mimetype": "text/x-python",
   "name": "python",
   "nbconvert_exporter": "python",
   "pygments_lexer": "ipython3",
   "version": "3.8.6"
  },
  "orig_nbformat": 2,
  "kernelspec": {
   "name": "python386jvsc74a57bd01baa965d5efe3ac65b79dfc60c0d706280b1da80fedb7760faf2759126c4f253",
   "display_name": "Python 3.8.6 64-bit"
  },
  "metadata": {
   "interpreter": {
    "hash": "1baa965d5efe3ac65b79dfc60c0d706280b1da80fedb7760faf2759126c4f253"
   }
  }
 },
 "nbformat": 4,
 "nbformat_minor": 2,
 "cells": [
  {
   "source": [
    "useful links:\n",
    "\n",
    "- Data Preparation for Variable Length Input Sequences, URL: https://machinelearningmastery.com/data-preparation-variable-length-input-sequences-sequence-prediction/\n",
    "- Masking and padding with Keras, URL: https://www.tensorflow.org/guide/keras/masking_and_padding\n",
    "- Step-by-step understanding LSTM Autoencoder layers, URL: https://towardsdatascience.com/step-by-step-understanding-lstm-autoencoder-layers-ffab055b6352XX, \n",
    "- Understanding input_shape parameter in LSTM with Keras, URL: https://stats.stackexchange.com/questions/274478/understanding-input-shape-parameter-in-lstm-with-keras\n",
    "- tf.convert_to_tensor, URL: https://www.tensorflow.org/api_docs/python/tf/convert_to_tensor\n",
    "- ValueError: Failed to convert a NumPy array to a Tensor (Unsupported object type int) in Python, URL: https://datascience.stackexchange.com/questions/82440/valueerror-failed-to-convert-a-numpy-array-to-a-tensor-unsupported-object-type"
   ],
   "cell_type": "markdown",
   "metadata": {}
  },
  {
   "cell_type": "code",
   "execution_count": 61,
   "metadata": {},
   "outputs": [
    {
     "output_type": "stream",
     "name": "stderr",
     "text": [
      "[nltk_data] Downloading package punkt to\n[nltk_data]     C:\\Users\\Felipe\\AppData\\Roaming\\nltk_data...\n[nltk_data]   Package punkt is already up-to-date!\n[nltk_data] Downloading package stopwords to\n[nltk_data]     C:\\Users\\Felipe\\AppData\\Roaming\\nltk_data...\n[nltk_data]   Package stopwords is already up-to-date!\n[nltk_data] Downloading package wordnet to\n[nltk_data]     C:\\Users\\Felipe\\AppData\\Roaming\\nltk_data...\n[nltk_data]   Package wordnet is already up-to-date!\n"
     ]
    }
   ],
   "source": [
    "\"\"\"\n",
    "* Copyright 2020, Maestria de Humanidades Digitales,\n",
    "* Universidad de Los Andes\n",
    "*\n",
    "* Developed for the Msc graduation project in Digital Humanities\n",
    "*\n",
    "* This program is free software: you can redistribute it and/or modify\n",
    "* it under the terms of the GNU General Public License as published by\n",
    "* the Free Software Foundation, either version 3 of the License, or\n",
    "* (at your option) any later version.\n",
    "*\n",
    "* This program is distributed in the hope that it will be useful,\n",
    "* but WITHOUT ANY WARRANTY; without even the implied warranty of\n",
    "* MERCHANTABILITY or FITNESS FOR A PARTICULAR PURPOSE.  See the\n",
    "* GNU General Public License for more details.\n",
    "*\n",
    "* You should have received a copy of the GNU General Public License\n",
    "* along with this program.  If not, see <http://www.gnu.org/licenses/>.\n",
    "\"\"\"\n",
    "\n",
    "# ===============================\n",
    "# native python libraries\n",
    "# ===============================\n",
    "import re\n",
    "import random\n",
    "import json\n",
    "import csv\n",
    "import datetime\n",
    "from collections import OrderedDict\n",
    "from collections import Counter\n",
    "from collections import deque\n",
    "\n",
    "# ===============================\n",
    "# extension python libraries\n",
    "# ===============================\n",
    "import pandas as pd\n",
    "from pandas import ExcelWriter\n",
    "from pandas import ExcelFile\n",
    "import numpy as np\n",
    "import matplotlib.pyplot as plt\n",
    "\n",
    "# natural language processing packages\n",
    "import gensim\n",
    "from gensim import models\n",
    "import nltk\n",
    "from nltk.stem import WordNetLemmatizer\n",
    "from nltk.corpus import stopwords\n",
    "\n",
    "# downloading nlkt data\n",
    "nltk.download('punkt')\n",
    "nltk.download('stopwords')\n",
    "nltk.download('wordnet')\n",
    "\n",
    "# sample handling sklearn package\n",
    "from sklearn.preprocessing import MinMaxScaler\n",
    "from sklearn.model_selection import train_test_split\n",
    "from sklearn.metrics import confusion_matrix\n",
    "from sklearn.metrics import classification_report\n",
    "from sklearn.model_selection import cross_val_score\n",
    "from sklearn.metrics import accuracy_score\n",
    "from sklearn.metrics import precision_score\n",
    "from sklearn.metrics import make_scorer\n",
    "\n",
    "# # Keras + Tensorflow ML libraries\n",
    "from keras.preprocessing.sequence import pad_sequences\n",
    "import tensorflow as tf\n",
    "from tensorflow.keras.preprocessing import sequence\n",
    "from tensorflow.keras.callbacks import EarlyStopping\n",
    "from tensorflow.keras.models import Sequential\n",
    "from tensorflow.keras.layers import Masking\n",
    "from tensorflow.keras.layers import Dense\n",
    "from tensorflow.keras.layers import Flatten\n",
    "from tensorflow.keras.layers import TimeDistributed\n",
    "from tensorflow.keras.layers import Dropout\n",
    "from tensorflow.keras.layers import SpatialDropout1D\n",
    "from tensorflow.keras.layers import Embedding\n",
    "from tensorflow.keras.layers import LSTM\n",
    "from tensorflow.keras.layers import Reshape\n",
    "from tensorflow.keras.layers import TimeDistributed\n",
    "from tensorflow.keras.layers import Conv1D\n",
    "from tensorflow.keras.layers import GlobalMaxPooling1D\n",
    "from tensorflow.keras.layers import Conv2D\n",
    "from tensorflow.keras.layers import GlobalMaxPooling2D\n",
    "\n",
    "# ===============================\n",
    "# developed python libraries\n",
    "# ==============================="
   ]
  },
  {
   "cell_type": "code",
   "execution_count": 62,
   "metadata": {},
   "outputs": [],
   "source": [
    "'''\n",
    "A UDF to convert input data into 3-D\n",
    "array as required for LSTM network.\n",
    "\n",
    "taken from https://towardsdatascience.com/step-by-step-understanding-lstm-autoencoder-layers-ffab055b6352\n",
    "'''\n",
    "def temporalize(data, lookback):\n",
    "    output_X = list()\n",
    "    for i in range(len(X)-lookback-1):\n",
    "        temp = list()\n",
    "        for j in range(1,lookback+1):\n",
    "            # Gather past records upto the lookback period\n",
    "            temp.append(data[[(i+j+1)], :])\n",
    "        temp = np.array(temp, dtype=\"object\")\n",
    "        output_X.append(temp)\n",
    "    output_X = np.array(output_X, dtype=\"object\")\n",
    "    return output_X"
   ]
  },
  {
   "cell_type": "code",
   "execution_count": 63,
   "metadata": {},
   "outputs": [],
   "source": [
    "# variable definitions\n",
    "# root folder\n",
    "dataf = \"Data\"\n",
    "\n",
    "# subfolder with predictions txt data\n",
    "targetf = \"Target\"\n",
    "\n",
    "# report subfolder\n",
    "reportf = \"Reports\"\n",
    "\n",
    "#  subfolder with the CSV files containing the ML pandas dataframe\n",
    "stdf = \"Std\"\n",
    "\n",
    "# dataframe file extension\n",
    "fext = \"csv\"\n",
    "\n",
    "imgext = \"jpg\"\n",
    "\n",
    "# dictionary extension\n",
    "dext = \"dict\"\n",
    "\n",
    "# standard sufix\n",
    "stdprefix = \"std-\"\n",
    "\n",
    "# ml model useful data\n",
    "mltprefix = \"ml-\"\n",
    "\n",
    "# report names\n",
    "str_date = datetime.date.today().strftime(\"%d-%b-%Y\")\n",
    "\n",
    "small_sufix = \"Text-Data-Small\"\n",
    "large_sufix = \"Text-Data-Large\"\n",
    "\n",
    "gallery_prefix = \"VVG-Gallery\"\n",
    "\n",
    "# dataframe file name\n",
    "small_fn = stdprefix + gallery_prefix + \"-\" + small_sufix + \".\" + fext\n",
    "large_fn = stdprefix + gallery_prefix + \"-\" + large_sufix + \".\" + fext\n",
    "\n",
    "# dictionary file name\n",
    "sdict_fn = \"VVG-Gallery-Text-Data-Small\" + \".\" + dext\n",
    "ldict_fn = \"VVG-Gallery-Text-Data-Large\" + \".\" + dext\n",
    "\n",
    "# ramdom seed\n",
    "randseed = 42\n",
    "\n",
    "# window size\n",
    "min_wsize = 30\n",
    "max_wsize = 60\n",
    "def_wsize = int((min_wsize+max_wsize)/2)\n",
    "\n",
    "# sample distribution train vs test sample size\n",
    "trainf = 0.80\n",
    "testf = 0.20\n",
    "\n",
    "# regex to know that column Im interested in\n",
    "keeper_regex = r\"(^ID$)|(^std_)\"\n",
    "\n",
    "# default values\n",
    "# work_fn = small_fn\n",
    "# work_dict = sdict_fn\n",
    "# work_sufix = small_sufix\n",
    "work_fn = large_fn\n",
    "work_dict = ldict_fn\n",
    "work_sufix = large_sufix"
   ]
  },
  {
   "cell_type": "code",
   "execution_count": 64,
   "metadata": {},
   "outputs": [
    {
     "output_type": "stream",
     "name": "stdout",
     "text": [
      "c:\\Users\\Felipe\\Documents\\GitHub\\sa-artea\\VVG-MLModel-Trainer\n"
     ]
    }
   ],
   "source": [
    "root_folder = os.getcwd()\n",
    "root_folder = os.path.split(root_folder)[0]\n",
    "root_folder = os.path.normpath(root_folder)\n",
    "print(root_folder)"
   ]
  },
  {
   "cell_type": "code",
   "execution_count": 65,
   "metadata": {},
   "outputs": [
    {
     "output_type": "stream",
     "name": "stdout",
     "text": [
      "c:\\Users\\Felipe\\Documents\\GitHub\\sa-artea\\VVG-MLModel-Trainer\\Data\\Std\\std-VVG-Gallery-Text-Data-Large.csv\nc:\\Users\\Felipe\\Documents\\GitHub\\sa-artea\\VVG-MLModel-Trainer\\Data\\Std\\VVG-Gallery-Text-Data-Large.dict\n"
     ]
    }
   ],
   "source": [
    "# variable reading\n",
    "# dataframe filepath\n",
    "fn_path = os.path.join(root_folder, dataf, stdf, work_fn)\n",
    "print(fn_path)\n",
    "\n",
    "# gensim dictionart filepath\n",
    "dict_path = os.path.join(root_folder, dataf, stdf, work_dict)\n",
    "print(dict_path)"
   ]
  },
  {
   "cell_type": "code",
   "execution_count": 66,
   "metadata": {},
   "outputs": [
    {
     "output_type": "stream",
     "name": "stdout",
     "text": [
      "Dictionary(3962 unique tokens: ['1', '10', '1885', '1891', '1925']...)\n"
     ]
    }
   ],
   "source": [
    "# reading words dictionary\n",
    "# loading gesim words dictionary\n",
    "vvg_dict = gensim.corpora.Dictionary()\n",
    "vvg_dict = vvg_dict.load(dict_path)\n",
    "print(vvg_dict)"
   ]
  },
  {
   "cell_type": "code",
   "execution_count": 67,
   "metadata": {},
   "outputs": [],
   "source": [
    "# rading training data\n",
    "# loading file\n",
    "source_df = pd.read_csv(\n",
    "                fn_path,\n",
    "                sep=\",\",\n",
    "                encoding=\"utf-8\",\n",
    "                engine=\"python\",\n",
    "            )"
   ]
  },
  {
   "cell_type": "code",
   "execution_count": 68,
   "metadata": {},
   "outputs": [
    {
     "output_type": "stream",
     "name": "stdout",
     "text": [
      "<class 'pandas.core.frame.DataFrame'>\nRangeIndex: 929 entries, 0 to 928\nData columns (total 18 columns):\n #   Column                 Non-Null Count  Dtype \n---  ------                 --------------  ----- \n 0   ID                     929 non-null    object\n 1   F-number               929 non-null    object\n 2   JH-number              929 non-null    object\n 3   creator-place          929 non-null    object\n 4   creator-date           828 non-null    object\n 5   details                929 non-null    object\n 6   Dimensions             929 non-null    object\n 7   MUS_TEXT               929 non-null    object\n 8   std_cat_creator-date   929 non-null    object\n 9   std_cat_creator-place  929 non-null    object\n 10  std_cat_Dimensions     929 non-null    object\n 11  std_cat_details        929 non-null    object\n 12  clr_tokens             929 non-null    object\n 13  lemmas                 929 non-null    object\n 14  bows_tokens            929 non-null    object\n 15  idxs_tokens            929 non-null    object\n 16  tfidf_tokens           929 non-null    object\n 17  std_dvec_tokens        929 non-null    object\ndtypes: object(18)\nmemory usage: 130.8+ KB\n"
     ]
    }
   ],
   "source": [
    "# checking everything is allrigth\n",
    "source_df.head(5)\n",
    "# chekcing the dataframe\n",
    "source_df.info()"
   ]
  },
  {
   "cell_type": "code",
   "execution_count": 69,
   "metadata": {},
   "outputs": [
    {
     "output_type": "stream",
     "name": "stdout",
     "text": [
      "------ original input/interested columns ------\n['ID', 'F-number', 'JH-number', 'creator-place', 'creator-date', 'details', 'Dimensions', 'MUS_TEXT', 'std_cat_creator-date', 'std_cat_creator-place', 'std_cat_Dimensions', 'std_cat_details', 'clr_tokens', 'lemmas', 'bows_tokens', 'idxs_tokens', 'tfidf_tokens', 'std_dvec_tokens']\n\n\n------ Interesting columns ------\n['ID', 'std_cat_creator-date', 'std_cat_creator-place', 'std_cat_Dimensions', 'std_cat_details', 'std_dvec_tokens']\n"
     ]
    }
   ],
   "source": [
    "# selecting data to train\n",
    "# want to keep the columns starting with STD_\n",
    "df_columns = list(source_df)\n",
    "print(\"------ original input/interested columns ------\")\n",
    "print(df_columns)\n",
    "\n",
    "# create the columns Im interesting in\n",
    "keep_columns = [i for i in df_columns if re.search(keeper_regex, i)]\n",
    "\n",
    "print(\"\\n\\n------ Interesting columns ------\")\n",
    "print(keep_columns)\n"
   ]
  },
  {
   "cell_type": "code",
   "execution_count": 70,
   "metadata": {},
   "outputs": [],
   "source": [
    "# creating the training dataframe\n",
    "train_df = pd.DataFrame(source_df, columns=keep_columns)"
   ]
  },
  {
   "cell_type": "code",
   "execution_count": 71,
   "metadata": {},
   "outputs": [
    {
     "output_type": "stream",
     "name": "stdout",
     "text": [
      "Dense vector column in dataframe:  std_dvec_tokens\n"
     ]
    }
   ],
   "source": [
    "# getting the column with the relevant data to train\n",
    "dvector_col = [i for i in df_columns if re.search(u\"^std_dvec\", i)]\n",
    "dvector_col = dvector_col[0]\n",
    "print(\"Dense vector column in dataframe: \", str(dvector_col))"
   ]
  },
  {
   "cell_type": "code",
   "execution_count": 72,
   "metadata": {
    "tags": []
   },
   "outputs": [],
   "source": [
    "# fix column data type\n",
    "work_corpus = train_df[dvector_col]\n",
    "dvec_std_corpus = list()\n",
    "\n",
    "for dvector in work_corpus:\n",
    "    dvector = eval(dvector)\n",
    "    dvector = np.array(dvector)\n",
    "    dvec_std_corpus.append(dvector)\n",
    "\n",
    "dvec_std_corpus = np.array(dvec_std_corpus, dtype=\"object\")"
   ]
  },
  {
   "cell_type": "code",
   "execution_count": 73,
   "metadata": {},
   "outputs": [],
   "source": [
    "# changing type in dataframe\n",
    "train_df[dvector_col] = dvec_std_corpus"
   ]
  },
  {
   "cell_type": "code",
   "execution_count": 74,
   "metadata": {},
   "outputs": [
    {
     "output_type": "stream",
     "name": "stdout",
     "text": [
      "<class 'pandas.core.frame.DataFrame'>\nRangeIndex: 929 entries, 0 to 928\nData columns (total 6 columns):\n #   Column                 Non-Null Count  Dtype \n---  ------                 --------------  ----- \n 0   ID                     929 non-null    object\n 1   std_cat_creator-date   929 non-null    object\n 2   std_cat_creator-place  929 non-null    object\n 3   std_cat_Dimensions     929 non-null    object\n 4   std_cat_details        929 non-null    object\n 5   std_dvec_tokens        929 non-null    object\ndtypes: object(6)\nmemory usage: 43.7+ KB\n"
     ]
    }
   ],
   "source": [
    "# checking the train dataframe\n",
    "train_df.head(5)\n",
    "train_df.info()"
   ]
  },
  {
   "cell_type": "code",
   "execution_count": 75,
   "metadata": {},
   "outputs": [
    {
     "output_type": "stream",
     "name": "stdout",
     "text": [
      "(929,)\n(929, 276)\n(929, 276)\n"
     ]
    }
   ],
   "source": [
    "# padding training data according to max length of text corpus\n",
    "pad_prefix = \"pad_\"\n",
    "recurrent_prefix = \"lstm_\"\n",
    "padded_corpus = None\n",
    "\n",
    "# getting the corpus dense vectors\n",
    "dvec_std_corpus = train_df[dvector_col]\n",
    "\n",
    "# converting list of list to array of array\n",
    "print(dvec_std_corpus.shape)\n",
    "\n",
    "# padding the representation\n",
    "padded_corpus = pad_sequences(dvec_std_corpus, dtype='object', padding=\"post\")\n",
    "print(padded_corpus.shape)\n",
    "\n",
    "# creating the new column and saving padded data\n",
    "padded_col = pad_prefix + dvector_col\n",
    "\n",
    "# print(padded_col)\n",
    "train_df[padded_col] = list(padded_corpus)\n",
    "print(padded_corpus.shape)"
   ]
  },
  {
   "cell_type": "code",
   "execution_count": 76,
   "metadata": {},
   "outputs": [
    {
     "output_type": "stream",
     "name": "stdout",
     "text": [
      "<class 'pandas.core.frame.DataFrame'>\nRangeIndex: 929 entries, 0 to 928\nData columns (total 7 columns):\n #   Column                 Non-Null Count  Dtype \n---  ------                 --------------  ----- \n 0   ID                     929 non-null    object\n 1   std_cat_creator-date   929 non-null    object\n 2   std_cat_creator-place  929 non-null    object\n 3   std_cat_Dimensions     929 non-null    object\n 4   std_cat_details        929 non-null    object\n 5   std_dvec_tokens        929 non-null    object\n 6   pad_std_dvec_tokens    929 non-null    object\ndtypes: object(7)\nmemory usage: 50.9+ KB\n"
     ]
    }
   ],
   "source": [
    "# checking the train dataframe\n",
    "train_df.head(5)\n",
    "train_df.info()"
   ]
  },
  {
   "cell_type": "code",
   "execution_count": 77,
   "metadata": {},
   "outputs": [
    {
     "output_type": "stream",
     "name": "stdout",
     "text": [
      "(929, 276)\n(929, 276)\n"
     ]
    }
   ],
   "source": [
    "# creating Train/Test sample\n",
    "# getting the X, y to train, as is autoencoder both are the same\n",
    "X = np.array([np.array(i, dtype=\"object\") for i in train_df[padded_col]], dtype=\"object\")\n",
    "y = np.array([np.array(j, dtype=\"object\") for j in train_df[padded_col]], dtype=\"object\")\n",
    "\n",
    "# X = train_df[padded_col]\n",
    "# y = train_df[padded_col]\n",
    "\n",
    "print(X.shape)\n",
    "print(y.shape)"
   ]
  },
  {
   "cell_type": "code",
   "execution_count": 78,
   "metadata": {},
   "outputs": [
    {
     "output_type": "stream",
     "name": "stdout",
     "text": [
      "<class 'numpy.ndarray'>\n<class 'float'>\n(929, 276)\n"
     ]
    }
   ],
   "source": [
    "print(type(X[0]))\n",
    "print(type(X[0][0]))\n",
    "print(X.shape)"
   ]
  },
  {
   "cell_type": "code",
   "execution_count": 79,
   "metadata": {},
   "outputs": [
    {
     "output_type": "stream",
     "name": "stdout",
     "text": [
      "<class 'numpy.ndarray'>\n<class 'float'>\n(929, 276)\n"
     ]
    }
   ],
   "source": [
    "print(type(y[0]))\n",
    "print(type(y[0][0]))\n",
    "print(y.shape)"
   ]
  },
  {
   "cell_type": "code",
   "execution_count": 80,
   "metadata": {},
   "outputs": [
    {
     "output_type": "stream",
     "name": "stdout",
     "text": [
      "15 276\n"
     ]
    }
   ],
   "source": [
    "# timestep is the memory of what i read, this is the longest sentence I can remember in the short term\n",
    "# neet to look for the best option, in small the max is 15\n",
    "timesteps = 15\n",
    "\n",
    "# features is the max length in the corpus, after padding!!!!\n",
    "features = X.shape[1]\n",
    "print(timesteps, features)"
   ]
  },
  {
   "cell_type": "code",
   "execution_count": 81,
   "metadata": {},
   "outputs": [],
   "source": [
    "# preparation for reshape lstm model\n",
    "Xt = temporalize(X, timesteps)\n",
    "yt = temporalize(y, timesteps)"
   ]
  },
  {
   "cell_type": "code",
   "execution_count": 82,
   "metadata": {},
   "outputs": [
    {
     "output_type": "stream",
     "name": "stdout",
     "text": [
      "(913, 15, 276)\n(913, 15, 276)\n"
     ]
    }
   ],
   "source": [
    "# reshaping for LSTM model\n",
    "X_lstm = Xt.reshape((Xt.shape[0], timesteps, features))\n",
    "y_lstm = yt.reshape((yt.shape[0], timesteps, features))\n",
    "print(X_lstm.shape)\n",
    "print(y_lstm.shape)\n",
    "# X_train = train_inputs.reshape((split,3,2))\n",
    "# X_test = X_test.reshape((test_inputs.shape[0], 3, 2))"
   ]
  },
  {
   "cell_type": "code",
   "execution_count": 83,
   "metadata": {},
   "outputs": [
    {
     "output_type": "stream",
     "name": "stdout",
     "text": [
      "lstm_std_dvec_tokens\n"
     ]
    }
   ],
   "source": [
    "# creating the column for the reshape data according to LSTM\n",
    "lstm_col = recurrent_prefix + dvector_col\n",
    "print(lstm_col)\n",
    "# lstm_df = pd.DataFrame(data=list(X_lstm), columns=[lstm_col])\n",
    "\n",
    "# train_df = pd.concat(train_df, , ignore_index=True, axis=1)\n",
    "\n",
    "# train_df[lstm_col] = list(X_lstm)"
   ]
  },
  {
   "cell_type": "code",
   "execution_count": 84,
   "metadata": {},
   "outputs": [
    {
     "output_type": "stream",
     "name": "stdout",
     "text": [
      "<class 'pandas.core.frame.DataFrame'>\nRangeIndex: 929 entries, 0 to 928\nData columns (total 7 columns):\n #   Column                 Non-Null Count  Dtype \n---  ------                 --------------  ----- \n 0   ID                     929 non-null    object\n 1   std_cat_creator-date   929 non-null    object\n 2   std_cat_creator-place  929 non-null    object\n 3   std_cat_Dimensions     929 non-null    object\n 4   std_cat_details        929 non-null    object\n 5   std_dvec_tokens        929 non-null    object\n 6   pad_std_dvec_tokens    929 non-null    object\ndtypes: object(7)\nmemory usage: 50.9+ KB\n"
     ]
    }
   ],
   "source": [
    "# checking the train dataframe\n",
    "train_df.head(5)\n",
    "train_df.info()"
   ]
  },
  {
   "cell_type": "code",
   "execution_count": 85,
   "metadata": {},
   "outputs": [
    {
     "output_type": "stream",
     "name": "stdout",
     "text": [
      "(913, 15, 276)\n"
     ]
    }
   ],
   "source": [
    "# data to numpy format\n",
    "X_lstm = np.asarray(X_lstm).astype(np.float)\n",
    "# y_lstm = np.asarray(y_lstm).astype(np.float)\n",
    "print(X_lstm.shape)\n",
    "# print(y_lstm.shape)\n",
    "# y = y.to_numpy()"
   ]
  },
  {
   "cell_type": "code",
   "execution_count": 86,
   "metadata": {},
   "outputs": [],
   "source": [
    "# dividing according to train/test proportions\n",
    "X_train, X_test, y_train, y_test = train_test_split(X_lstm, y_lstm, train_size = trainf, test_size = testf, random_state = randseed)"
   ]
  },
  {
   "cell_type": "code",
   "execution_count": 87,
   "metadata": {},
   "outputs": [
    {
     "output_type": "stream",
     "name": "stdout",
     "text": [
      "training shape (X, y)\nX:  (730, 15, 276)  y:  (730, 15, 276)\ntesting shape (X, y)\nX:  (183, 15, 276)  y:  (183, 15, 276)\ndata types\n<class 'numpy.ndarray'> <class 'numpy.ndarray'> <class 'numpy.ndarray'> <class 'numpy.ndarray'>\n<class 'numpy.ndarray'> <class 'numpy.ndarray'> <class 'numpy.ndarray'> <class 'numpy.ndarray'>\n<class 'numpy.ndarray'> <class 'numpy.ndarray'> <class 'numpy.ndarray'> <class 'numpy.ndarray'>\n<class 'numpy.float64'> <class 'numpy.float64'> <class 'float'> <class 'float'>\n"
     ]
    }
   ],
   "source": [
    "# checking shaped\n",
    "print(\"training shape (X, y)\")\n",
    "print(\"X: \", X_train.shape, \" y: \", y_train.shape)\n",
    "\n",
    "print(\"testing shape (X, y)\")\n",
    "print(\"X: \", X_test.shape, \" y: \", y_test.shape)\n",
    "\n",
    "print(\"data types\")\n",
    "print(type(X_train), type(X_test), type(y_train), type(y_test))\n",
    "print(type(X_train[0]), type(X_test[0]), type(y_train[0]), type(y_test[0]))\n",
    "print(type(X_train[0][0]), type(X_test[0][0]), type(y_train[0][0]), type(y_test[0][0]))\n",
    "print(type(X_train[0][0][0]), type(X_test[0][0][0]), type(y_train[0][0][0]), type(y_test[0][0][0]))"
   ]
  },
  {
   "cell_type": "code",
   "execution_count": 88,
   "metadata": {},
   "outputs": [],
   "source": [
    "Xtf_train = tf.convert_to_tensor(X_train, dtype=\"float64\")\n",
    "Xtf_test = tf.convert_to_tensor(X_test, dtype=\"float64\")\n",
    "ytf_train = tf.convert_to_tensor(y_train, dtype=\"float64\")\n",
    "ytf_test = tf.convert_to_tensor(y_test, dtype=\"float64\")\n",
    "\n",
    "# y_tensor = tf.convert_to_tensor(y, dtype=tf.float23) "
   ]
  },
  {
   "cell_type": "code",
   "execution_count": 89,
   "metadata": {},
   "outputs": [
    {
     "output_type": "stream",
     "name": "stdout",
     "text": [
      "LSTM memory span: 15\n",
      "LSTM learning features: 276\n",
      "LSTM learning batch size: 7\n",
      "LSMT processing units: 300\n",
      "Dense processing units: 1024\n",
      "Output prediction units: 276\n",
      "training epochs: 300\n"
     ]
    }
   ],
   "source": [
    "# number of neurons or processing units in LSTM\n",
    "# the number is because of good practices for NLP\n",
    "# min 200 max 500, normaly 300 (related to the semantic number of themes)\n",
    "# 120 for now in this test\n",
    "lstm_units = 300\n",
    "\n",
    "# timestep is 1 because you read a word at a time\n",
    "memory = timesteps\n",
    "print(\"LSTM memory span:\", memory)\n",
    "\n",
    "# features is the max length in the corpus, after padding!!!!\n",
    "features = X_train.shape[2]\n",
    "print(\"LSTM learning features:\", features)\n",
    "\n",
    "# batch size\n",
    "bs = int(X_train.shape[0]*0.01)\n",
    "print(\"LSTM learning batch size:\", bs)\n",
    "\n",
    "print(\"LSMT processing units:\", lstm_units)\n",
    "\n",
    "# configuration to remember previous recurrent layer\n",
    "retSeq = True\n",
    "\n",
    "# neurons/processing units size in the dense layer (THIS SHOULD BE SOM!!!!)\n",
    "dn1 = 32*32\n",
    "print(\"Dense processing units:\", dn1)\n",
    "# dn2 = len(XB_set[0])*SECURITY_FACTOR\n",
    "\n",
    "# numero de neuronas de salida\n",
    "outn1 = X_train.shape[2]\n",
    "print(\"Output prediction units:\", outn1)\n",
    "\n",
    "# axtivation functions\n",
    "inn = \"relu\"\n",
    "act = \"elu\"\n",
    "out = \"softmax\"\n",
    "\n",
    "# loss percentage\n",
    "ldrop = 0.2\n",
    "\n",
    "# random seed\n",
    "randseed = 42\n",
    "\n",
    "# parameters to compile model\n",
    "# loss function\n",
    "ls = \"mean_squared_error\"\n",
    "# ls = \"categorical_crossentropy\"\n",
    "\n",
    "# doptimization function\n",
    "opti = \"adam\"\n",
    "# evaluation score\n",
    "met = [\"accuracy\"]\n",
    "\n",
    "# parameters to exeute training\n",
    "# verbose mode\n",
    "ver = 1\n",
    "# training epocha\n",
    "epo = 300\n",
    "print(\"training epochs:\", epo)"
   ]
  },
  {
   "cell_type": "code",
   "execution_count": 90,
   "metadata": {},
   "outputs": [],
   "source": [
    "# model layers\n",
    "# to avoid overfit you need to use dropout in someplaces\n",
    "# options:\n",
    "# 1) Mask -> Drop -> LSTM1 -> LSTM2 -> LSTM3 -> Drop -> Dense -> Drop -> LSTM3 -> LSTM2 -> LSTM1 -> Drop -> TimeDistDense\n",
    "# 1) Mask -> Drop -> LSTM1 -> LSTM2 -> LSTM3 -> Dense -> LSTM3 -> LSTM2 -> LSTM1 -> Drop -> TimeDistDense\n",
    "# 2) Mask -> Drop -> LSTM1 -> LSTM2 -> LSTM2 -> Dense -> LSTM2 -> LSTM2 -> LSTM1 -> Drop -> TimeDistDense\n",
    "# 3) Mask -> Drop -> LSTM1 -> LSTM2 -> Drop -> Dense -> Drop -> LSTM2 -> LSTM1 -> Drop -> TimeDistDense\n",
    "# 3) Mask -> Drop -> LSTM1 -> Drop -> Dense -> Drop -> STM1 -> Drop -> TimeDistDense\n",
    "# 5) Mask -> Drop -> LSTM1 -> Drop -> Dense -> Drop -> LSTM1 -> TimeDistDense\n",
    "lstm_layers = (\n",
    "\n",
    "    # input layer (padding and prep)\n",
    "    Masking(mask_value=0.0, input_shape=(memory, features), name = \"LayMask\"),\n",
    "    # Dropout(ldrop),\n",
    "\n",
    "    # intermediate recurrent encoder layer\n",
    "    LSTM(lstm_units, activation=inn, input_shape=(memory, features), return_sequences=True, name = \"EnLSTM_1\"),\n",
    "    # Dropout(ldrop, name = \"EnDrop_1\"),\n",
    "    SpatialDropout1D(ldrop, name = \"EnDrop_1\"),\n",
    "\n",
    "    # intermediate recurrent encoder layer\n",
    "    LSTM(int(lstm_units/2), activation=inn, input_shape=(timesteps, features), return_sequences=True, name = \"EnLSTM_2\"),\n",
    "\n",
    "    # intermediate recurrent encoder layer\n",
    "    LSTM(int(lstm_units/4), activation=inn, input_shape=(timesteps, features), return_sequences=True),\n",
    "    # Dropout(ldrop, name = \"EnDrop_2\"),\n",
    "    SpatialDropout1D(ldrop, name = \"EnDrop_2\"),\n",
    "\n",
    "    # mid dense encoding layer\n",
    "    # dense layer for abstraction (THIS SHOULD COULD SOM!!!!)\n",
    "    Dense(dn1, activation=act, name = \"MidDense\"),\n",
    "\n",
    "    # intermediate recurrent decoder layer\n",
    "    LSTM(int(lstm_units/4), activation=inn, input_shape=(timesteps, features), return_sequences=True),\n",
    "    SpatialDropout1D(ldrop, name = \"DeDrop_1\"),\n",
    "    # Dropout(ldrop, name = \"DeDrop_1\"),\n",
    "\n",
    "    # intermediate recurrent decoder layer\n",
    "    LSTM(int(lstm_units/2), activation=inn, input_shape=(timesteps, features), return_sequences=True, name = \"DeLSTM_1\"),\n",
    "    # Dropout(ldrop, name = \"DeDrop_2\"),\n",
    "\n",
    "    # intermediate recurrent decoder layer\n",
    "    LSTM(lstm_units, activation=inn, input_shape=(timesteps, features), return_sequences=True, name = \"DeLSTM_2\"),\n",
    "    SpatialDropout1D(ldrop, name = \"DeDrop_2\"),\n",
    "    # Dropout(ldrop, name = \"DeDrop_2\"),\n",
    "\n",
    "    # output layer, dense time sequential layer.\n",
    "    TimeDistributed(Dense(outn1, activation=out), name = \"LayOut\"),\n",
    ")"
   ]
  },
  {
   "source": [
    "# defining model\n",
    "lstm_model = Sequential(lstm_layers)\n",
    "lstm_model.model_name = \"LSTM_Autoencoder\""
   ],
   "cell_type": "code",
   "metadata": {},
   "execution_count": 91,
   "outputs": []
  },
  {
   "cell_type": "code",
   "execution_count": 92,
   "metadata": {},
   "outputs": [
    {
     "output_type": "stream",
     "name": "stdout",
     "text": [
      "Model: \"sequential\"\n_________________________________________________________________\nLayer (type)                 Output Shape              Param #   \n=================================================================\nLayMask (Masking)            (None, 15, 276)           0         \n_________________________________________________________________\nEnLSTM_1 (LSTM)              (None, 15, 300)           692400    \n_________________________________________________________________\nEnDrop_1 (SpatialDropout1D)  (None, 15, 300)           0         \n_________________________________________________________________\nEnLSTM_2 (LSTM)              (None, 15, 150)           270600    \n_________________________________________________________________\nlstm (LSTM)                  (None, 15, 75)            67800     \n_________________________________________________________________\nEnDrop_2 (SpatialDropout1D)  (None, 15, 75)            0         \n_________________________________________________________________\nMidDense (Dense)             (None, 15, 1024)          77824     \n_________________________________________________________________\nlstm_1 (LSTM)                (None, 15, 75)            330000    \n_________________________________________________________________\nDeDrop_1 (SpatialDropout1D)  (None, 15, 75)            0         \n_________________________________________________________________\nDeLSTM_1 (LSTM)              (None, 15, 150)           135600    \n_________________________________________________________________\nDeLSTM_2 (LSTM)              (None, 15, 300)           541200    \n_________________________________________________________________\nDeDrop_2 (SpatialDropout1D)  (None, 15, 300)           0         \n_________________________________________________________________\nLayOut (TimeDistributed)     (None, 15, 276)           83076     \n=================================================================\nTotal params: 2,198,500\nTrainable params: 2,198,500\nNon-trainable params: 0\n_________________________________________________________________\n"
     ]
    }
   ],
   "source": [
    "# compile model\n",
    "lstm_model.compile(loss = ls, optimizer = opti, metrics = met)\n",
    "lstm_model.summary()"
   ]
  },
  {
   "cell_type": "code",
   "execution_count": 93,
   "metadata": {},
   "outputs": [],
   "source": [
    "# early stopping condition BECAAUSE THIS ARE TESTS\n",
    "EarlyStopLSTM_Acc = EarlyStopping(monitor = \"val_accuracy\", min_delta = 0.01, patience = 30, verbose = 1, mode = \"max\", restore_best_weights = True)\n"
   ]
  },
  {
   "cell_type": "code",
   "execution_count": 94,
   "metadata": {},
   "outputs": [
    {
     "output_type": "stream",
     "name": "stdout",
     "text": [
      "Epoch 1/300\n",
      "105/105 [==============================] - 16s 77ms/step - loss: 0.0071 - accuracy: 0.3196 - val_loss: 0.0069 - val_accuracy: 0.2827\n",
      "Epoch 2/300\n",
      "105/105 [==============================] - 7s 70ms/step - loss: 0.0063 - accuracy: 0.3256 - val_loss: 0.0064 - val_accuracy: 0.2936\n",
      "Epoch 3/300\n",
      "105/105 [==============================] - 7s 71ms/step - loss: 0.0059 - accuracy: 0.3170 - val_loss: 0.0064 - val_accuracy: 0.3126\n",
      "Epoch 4/300\n",
      "105/105 [==============================] - 7s 71ms/step - loss: 0.0058 - accuracy: 0.3207 - val_loss: 0.0063 - val_accuracy: 0.3126\n",
      "Epoch 5/300\n",
      "105/105 [==============================] - 8s 72ms/step - loss: 0.0058 - accuracy: 0.3305 - val_loss: 0.0063 - val_accuracy: 0.3104\n",
      "Epoch 6/300\n",
      "105/105 [==============================] - 8s 73ms/step - loss: 0.0058 - accuracy: 0.3262 - val_loss: 0.0063 - val_accuracy: 0.3111\n",
      "Epoch 7/300\n",
      "105/105 [==============================] - 8s 76ms/step - loss: 0.0058 - accuracy: 0.3236 - val_loss: 0.0063 - val_accuracy: 0.3111\n",
      "Epoch 8/300\n",
      "105/105 [==============================] - 8s 79ms/step - loss: 0.0057 - accuracy: 0.3209 - val_loss: 0.0062 - val_accuracy: 0.3341\n",
      "Epoch 9/300\n",
      "105/105 [==============================] - 8s 81ms/step - loss: 0.0057 - accuracy: 0.3665 - val_loss: 0.0061 - val_accuracy: 0.3661\n",
      "Epoch 10/300\n",
      "105/105 [==============================] - 8s 80ms/step - loss: 0.0056 - accuracy: 0.3857 - val_loss: 0.0061 - val_accuracy: 0.3734\n",
      "Epoch 11/300\n",
      "105/105 [==============================] - 10s 91ms/step - loss: 0.0056 - accuracy: 0.3884 - val_loss: 0.0061 - val_accuracy: 0.3694\n",
      "Epoch 12/300\n",
      "105/105 [==============================] - 13s 123ms/step - loss: 0.0056 - accuracy: 0.4041 - val_loss: 0.0061 - val_accuracy: 0.3989\n",
      "Epoch 13/300\n",
      "105/105 [==============================] - 13s 126ms/step - loss: 0.0056 - accuracy: 0.4120 - val_loss: 0.0061 - val_accuracy: 0.3960\n",
      "Epoch 14/300\n",
      "105/105 [==============================] - 13s 122ms/step - loss: 0.0055 - accuracy: 0.4269 - val_loss: 0.0061 - val_accuracy: 0.4047\n",
      "Epoch 15/300\n",
      "105/105 [==============================] - 13s 119ms/step - loss: 0.0055 - accuracy: 0.4319 - val_loss: 0.0060 - val_accuracy: 0.4062\n",
      "Epoch 16/300\n",
      "105/105 [==============================] - 12s 112ms/step - loss: 0.0055 - accuracy: 0.4301 - val_loss: 0.0060 - val_accuracy: 0.4102\n",
      "Epoch 17/300\n",
      "105/105 [==============================] - 11s 106ms/step - loss: 0.0055 - accuracy: 0.4437 - val_loss: 0.0060 - val_accuracy: 0.4164\n",
      "Epoch 18/300\n",
      "105/105 [==============================] - 10s 99ms/step - loss: 0.0055 - accuracy: 0.4464 - val_loss: 0.0060 - val_accuracy: 0.4179\n",
      "Epoch 19/300\n",
      "105/105 [==============================] - 10s 95ms/step - loss: 0.0055 - accuracy: 0.4587 - val_loss: 0.0060 - val_accuracy: 0.4291\n",
      "Epoch 20/300\n",
      "105/105 [==============================] - 10s 93ms/step - loss: 0.0055 - accuracy: 0.4644 - val_loss: 0.0060 - val_accuracy: 0.4372\n",
      "Epoch 21/300\n",
      "105/105 [==============================] - 9s 90ms/step - loss: 0.0055 - accuracy: 0.4619 - val_loss: 0.0060 - val_accuracy: 0.4587\n",
      "Epoch 22/300\n",
      "105/105 [==============================] - 9s 88ms/step - loss: 0.0055 - accuracy: 0.4695 - val_loss: 0.0060 - val_accuracy: 0.4587\n",
      "Epoch 23/300\n",
      "105/105 [==============================] - 9s 86ms/step - loss: 0.0055 - accuracy: 0.4762 - val_loss: 0.0060 - val_accuracy: 0.4587\n",
      "Epoch 24/300\n",
      "105/105 [==============================] - 9s 89ms/step - loss: 0.0054 - accuracy: 0.4805 - val_loss: 0.0059 - val_accuracy: 0.4787\n",
      "Epoch 25/300\n",
      "105/105 [==============================] - 9s 89ms/step - loss: 0.0054 - accuracy: 0.4826 - val_loss: 0.0060 - val_accuracy: 0.4645\n",
      "Epoch 26/300\n",
      "105/105 [==============================] - 10s 91ms/step - loss: 0.0054 - accuracy: 0.4915 - val_loss: 0.0059 - val_accuracy: 0.4667\n",
      "Epoch 27/300\n",
      "105/105 [==============================] - 12s 113ms/step - loss: 0.0054 - accuracy: 0.4910 - val_loss: 0.0059 - val_accuracy: 0.4823\n",
      "Epoch 28/300\n",
      "105/105 [==============================] - 15s 140ms/step - loss: 0.0054 - accuracy: 0.4881 - val_loss: 0.0059 - val_accuracy: 0.4852\n",
      "Epoch 29/300\n",
      "105/105 [==============================] - 14s 138ms/step - loss: 0.0054 - accuracy: 0.4977 - val_loss: 0.0059 - val_accuracy: 0.4903\n",
      "Epoch 30/300\n",
      "105/105 [==============================] - 14s 138ms/step - loss: 0.0054 - accuracy: 0.5081 - val_loss: 0.0059 - val_accuracy: 0.4984\n",
      "Epoch 31/300\n",
      "105/105 [==============================] - 14s 137ms/step - loss: 0.0054 - accuracy: 0.5052 - val_loss: 0.0059 - val_accuracy: 0.5115\n",
      "Epoch 32/300\n",
      "105/105 [==============================] - 15s 139ms/step - loss: 0.0054 - accuracy: 0.5199 - val_loss: 0.0059 - val_accuracy: 0.5213\n",
      "Epoch 33/300\n",
      "105/105 [==============================] - 14s 137ms/step - loss: 0.0054 - accuracy: 0.5217 - val_loss: 0.0059 - val_accuracy: 0.5304\n",
      "Epoch 34/300\n",
      "105/105 [==============================] - 15s 141ms/step - loss: 0.0054 - accuracy: 0.5294 - val_loss: 0.0059 - val_accuracy: 0.5322\n",
      "Epoch 35/300\n",
      "105/105 [==============================] - 14s 136ms/step - loss: 0.0054 - accuracy: 0.5287 - val_loss: 0.0059 - val_accuracy: 0.5239\n",
      "Epoch 36/300\n",
      "105/105 [==============================] - 14s 136ms/step - loss: 0.0054 - accuracy: 0.5204 - val_loss: 0.0059 - val_accuracy: 0.5301\n",
      "Epoch 37/300\n",
      "105/105 [==============================] - 14s 138ms/step - loss: 0.0054 - accuracy: 0.5360 - val_loss: 0.0059 - val_accuracy: 0.5213\n",
      "Epoch 38/300\n",
      "105/105 [==============================] - 14s 135ms/step - loss: 0.0053 - accuracy: 0.5364 - val_loss: 0.0059 - val_accuracy: 0.5271\n",
      "Epoch 39/300\n",
      "105/105 [==============================] - 14s 130ms/step - loss: 0.0053 - accuracy: 0.5371 - val_loss: 0.0059 - val_accuracy: 0.5384\n",
      "Epoch 40/300\n",
      "105/105 [==============================] - 14s 134ms/step - loss: 0.0053 - accuracy: 0.5412 - val_loss: 0.0059 - val_accuracy: 0.5417\n",
      "Epoch 41/300\n",
      "105/105 [==============================] - 12s 118ms/step - loss: 0.0053 - accuracy: 0.5458 - val_loss: 0.0058 - val_accuracy: 0.5534\n",
      "Epoch 42/300\n",
      "105/105 [==============================] - 13s 127ms/step - loss: 0.0053 - accuracy: 0.5579 - val_loss: 0.0058 - val_accuracy: 0.5468\n",
      "Epoch 43/300\n",
      "105/105 [==============================] - 12s 116ms/step - loss: 0.0053 - accuracy: 0.5537 - val_loss: 0.0058 - val_accuracy: 0.5479\n",
      "Epoch 44/300\n",
      "105/105 [==============================] - 13s 125ms/step - loss: 0.0053 - accuracy: 0.5637 - val_loss: 0.0058 - val_accuracy: 0.5439\n",
      "Epoch 45/300\n",
      "105/105 [==============================] - 12s 113ms/step - loss: 0.0053 - accuracy: 0.5659 - val_loss: 0.0058 - val_accuracy: 0.5417\n",
      "Epoch 46/300\n",
      "105/105 [==============================] - 11s 102ms/step - loss: 0.0053 - accuracy: 0.5516 - val_loss: 0.0058 - val_accuracy: 0.5847\n",
      "Epoch 47/300\n",
      "105/105 [==============================] - 10s 97ms/step - loss: 0.0053 - accuracy: 0.5685 - val_loss: 0.0058 - val_accuracy: 0.5479\n",
      "Epoch 48/300\n",
      "105/105 [==============================] - 10s 100ms/step - loss: 0.0053 - accuracy: 0.5628 - val_loss: 0.0058 - val_accuracy: 0.5836\n",
      "Epoch 49/300\n",
      "105/105 [==============================] - 12s 111ms/step - loss: 0.0053 - accuracy: 0.5719 - val_loss: 0.0058 - val_accuracy: 0.5548\n",
      "Epoch 50/300\n",
      "105/105 [==============================] - 11s 103ms/step - loss: 0.0053 - accuracy: 0.5729 - val_loss: 0.0058 - val_accuracy: 0.5781\n",
      "Epoch 51/300\n",
      "105/105 [==============================] - 11s 104ms/step - loss: 0.0053 - accuracy: 0.5678 - val_loss: 0.0058 - val_accuracy: 0.5698\n",
      "Epoch 52/300\n",
      "105/105 [==============================] - 11s 102ms/step - loss: 0.0053 - accuracy: 0.5716 - val_loss: 0.0058 - val_accuracy: 0.5792\n",
      "Epoch 53/300\n",
      "105/105 [==============================] - 10s 98ms/step - loss: 0.0053 - accuracy: 0.5732 - val_loss: 0.0058 - val_accuracy: 0.5876\n",
      "Epoch 54/300\n",
      "105/105 [==============================] - 11s 102ms/step - loss: 0.0053 - accuracy: 0.5871 - val_loss: 0.0058 - val_accuracy: 0.5974\n",
      "Epoch 55/300\n",
      "105/105 [==============================] - 10s 98ms/step - loss: 0.0053 - accuracy: 0.5806 - val_loss: 0.0058 - val_accuracy: 0.5934\n",
      "Epoch 56/300\n",
      "105/105 [==============================] - 10s 100ms/step - loss: 0.0053 - accuracy: 0.5886 - val_loss: 0.0058 - val_accuracy: 0.5789\n",
      "Epoch 57/300\n",
      "105/105 [==============================] - 10s 99ms/step - loss: 0.0053 - accuracy: 0.5784 - val_loss: 0.0058 - val_accuracy: 0.5832\n",
      "Epoch 58/300\n",
      "105/105 [==============================] - 11s 102ms/step - loss: 0.0053 - accuracy: 0.5871 - val_loss: 0.0058 - val_accuracy: 0.5865\n",
      "Epoch 59/300\n",
      "105/105 [==============================] - 12s 115ms/step - loss: 0.0053 - accuracy: 0.5953 - val_loss: 0.0058 - val_accuracy: 0.5851\n",
      "Epoch 60/300\n",
      "105/105 [==============================] - 14s 134ms/step - loss: 0.0053 - accuracy: 0.5971 - val_loss: 0.0058 - val_accuracy: 0.6026\n",
      "Epoch 61/300\n",
      "105/105 [==============================] - 14s 133ms/step - loss: 0.0053 - accuracy: 0.5882 - val_loss: 0.0058 - val_accuracy: 0.5781\n",
      "Epoch 62/300\n",
      "105/105 [==============================] - 15s 140ms/step - loss: 0.0053 - accuracy: 0.5957 - val_loss: 0.0058 - val_accuracy: 0.5913\n",
      "Epoch 63/300\n",
      "105/105 [==============================] - 14s 134ms/step - loss: 0.0053 - accuracy: 0.5944 - val_loss: 0.0058 - val_accuracy: 0.6077\n",
      "Epoch 64/300\n",
      "105/105 [==============================] - 14s 133ms/step - loss: 0.0053 - accuracy: 0.5981 - val_loss: 0.0058 - val_accuracy: 0.5949\n",
      "Epoch 65/300\n",
      "105/105 [==============================] - 13s 127ms/step - loss: 0.0053 - accuracy: 0.5946 - val_loss: 0.0058 - val_accuracy: 0.5807\n",
      "Epoch 66/300\n",
      "105/105 [==============================] - 13s 125ms/step - loss: 0.0053 - accuracy: 0.5887 - val_loss: 0.0058 - val_accuracy: 0.6022\n",
      "Epoch 67/300\n",
      "105/105 [==============================] - 11s 109ms/step - loss: 0.0053 - accuracy: 0.5898 - val_loss: 0.0058 - val_accuracy: 0.5829\n",
      "Epoch 68/300\n",
      "105/105 [==============================] - 11s 101ms/step - loss: 0.0052 - accuracy: 0.6005 - val_loss: 0.0058 - val_accuracy: 0.5607\n",
      "Epoch 69/300\n",
      "105/105 [==============================] - 10s 96ms/step - loss: 0.0053 - accuracy: 0.5944 - val_loss: 0.0058 - val_accuracy: 0.6033\n",
      "Epoch 70/300\n",
      "105/105 [==============================] - 10s 97ms/step - loss: 0.0052 - accuracy: 0.6031 - val_loss: 0.0058 - val_accuracy: 0.5974\n",
      "Epoch 71/300\n",
      "105/105 [==============================] - 12s 112ms/step - loss: 0.0052 - accuracy: 0.6082 - val_loss: 0.0058 - val_accuracy: 0.5880\n",
      "Epoch 72/300\n",
      "105/105 [==============================] - 11s 105ms/step - loss: 0.0052 - accuracy: 0.5948 - val_loss: 0.0058 - val_accuracy: 0.5934\n",
      "Epoch 73/300\n",
      "105/105 [==============================] - 14s 131ms/step - loss: 0.0052 - accuracy: 0.5988 - val_loss: 0.0058 - val_accuracy: 0.6062\n",
      "Epoch 74/300\n",
      "105/105 [==============================] - 14s 131ms/step - loss: 0.0052 - accuracy: 0.6083 - val_loss: 0.0058 - val_accuracy: 0.6124\n",
      "Epoch 75/300\n",
      "105/105 [==============================] - 14s 130ms/step - loss: 0.0052 - accuracy: 0.6009 - val_loss: 0.0058 - val_accuracy: 0.6004\n",
      "Epoch 76/300\n",
      "105/105 [==============================] - 14s 133ms/step - loss: 0.0052 - accuracy: 0.5985 - val_loss: 0.0058 - val_accuracy: 0.5989\n",
      "Epoch 77/300\n",
      "105/105 [==============================] - 12s 116ms/step - loss: 0.0052 - accuracy: 0.6063 - val_loss: 0.0058 - val_accuracy: 0.6069\n",
      "Epoch 78/300\n",
      "105/105 [==============================] - 13s 123ms/step - loss: 0.0052 - accuracy: 0.6116 - val_loss: 0.0058 - val_accuracy: 0.5982\n",
      "Epoch 79/300\n",
      "105/105 [==============================] - 13s 128ms/step - loss: 0.0052 - accuracy: 0.6036 - val_loss: 0.0058 - val_accuracy: 0.5985\n",
      "Epoch 80/300\n",
      "105/105 [==============================] - 13s 125ms/step - loss: 0.0052 - accuracy: 0.6118 - val_loss: 0.0058 - val_accuracy: 0.6087\n",
      "Epoch 81/300\n",
      "105/105 [==============================] - 13s 125ms/step - loss: 0.0052 - accuracy: 0.5962 - val_loss: 0.0058 - val_accuracy: 0.6124\n",
      "Epoch 82/300\n",
      "105/105 [==============================] - 13s 122ms/step - loss: 0.0052 - accuracy: 0.6093 - val_loss: 0.0058 - val_accuracy: 0.6109\n",
      "Epoch 83/300\n",
      "105/105 [==============================] - 14s 132ms/step - loss: 0.0052 - accuracy: 0.6172 - val_loss: 0.0058 - val_accuracy: 0.5960\n",
      "Epoch 84/300\n",
      "105/105 [==============================] - 12s 115ms/step - loss: 0.0052 - accuracy: 0.5936 - val_loss: 0.0058 - val_accuracy: 0.6069\n",
      "Epoch 85/300\n",
      "105/105 [==============================] - 13s 127ms/step - loss: 0.0052 - accuracy: 0.6167 - val_loss: 0.0058 - val_accuracy: 0.5967\n",
      "Epoch 86/300\n",
      "105/105 [==============================] - 12s 114ms/step - loss: 0.0052 - accuracy: 0.6130 - val_loss: 0.0058 - val_accuracy: 0.6255\n",
      "Epoch 87/300\n",
      "105/105 [==============================] - 12s 110ms/step - loss: 0.0052 - accuracy: 0.6212 - val_loss: 0.0058 - val_accuracy: 0.5989\n",
      "Epoch 88/300\n",
      "105/105 [==============================] - 12s 110ms/step - loss: 0.0052 - accuracy: 0.6018 - val_loss: 0.0058 - val_accuracy: 0.6179\n",
      "Epoch 89/300\n",
      "105/105 [==============================] - 11s 104ms/step - loss: 0.0052 - accuracy: 0.6149 - val_loss: 0.0058 - val_accuracy: 0.6062\n",
      "Epoch 90/300\n",
      "105/105 [==============================] - 11s 109ms/step - loss: 0.0052 - accuracy: 0.6134 - val_loss: 0.0058 - val_accuracy: 0.6153\n",
      "Epoch 91/300\n",
      "105/105 [==============================] - 11s 102ms/step - loss: 0.0052 - accuracy: 0.6116 - val_loss: 0.0058 - val_accuracy: 0.6310\n",
      "Epoch 92/300\n",
      "105/105 [==============================] - 11s 102ms/step - loss: 0.0052 - accuracy: 0.6171 - val_loss: 0.0058 - val_accuracy: 0.6299\n",
      "Epoch 93/300\n",
      "105/105 [==============================] - 12s 117ms/step - loss: 0.0052 - accuracy: 0.6221 - val_loss: 0.0058 - val_accuracy: 0.6131\n",
      "Epoch 94/300\n",
      "105/105 [==============================] - 11s 107ms/step - loss: 0.0052 - accuracy: 0.6120 - val_loss: 0.0058 - val_accuracy: 0.6102\n",
      "Epoch 95/300\n",
      "105/105 [==============================] - 13s 126ms/step - loss: 0.0052 - accuracy: 0.6218 - val_loss: 0.0058 - val_accuracy: 0.6138\n",
      "Epoch 96/300\n",
      "105/105 [==============================] - 12s 118ms/step - loss: 0.0052 - accuracy: 0.6248 - val_loss: 0.0058 - val_accuracy: 0.6175\n",
      "Epoch 97/300\n",
      "105/105 [==============================] - 14s 130ms/step - loss: 0.0052 - accuracy: 0.6226 - val_loss: 0.0058 - val_accuracy: 0.6168\n",
      "Epoch 98/300\n",
      "105/105 [==============================] - 14s 132ms/step - loss: 0.0052 - accuracy: 0.6205 - val_loss: 0.0058 - val_accuracy: 0.6117\n",
      "Epoch 99/300\n",
      "105/105 [==============================] - 12s 117ms/step - loss: 0.0052 - accuracy: 0.6176 - val_loss: 0.0058 - val_accuracy: 0.6113\n",
      "Epoch 100/300\n",
      "105/105 [==============================] - 12s 110ms/step - loss: 0.0052 - accuracy: 0.6098 - val_loss: 0.0058 - val_accuracy: 0.6288\n",
      "Epoch 101/300\n",
      "105/105 [==============================] - 14s 131ms/step - loss: 0.0052 - accuracy: 0.6280 - val_loss: 0.0058 - val_accuracy: 0.6164\n",
      "Epoch 102/300\n",
      "105/105 [==============================] - 12s 111ms/step - loss: 0.0052 - accuracy: 0.5906 - val_loss: 0.0058 - val_accuracy: 0.6175\n",
      "Epoch 103/300\n",
      "105/105 [==============================] - 11s 103ms/step - loss: 0.0052 - accuracy: 0.6095 - val_loss: 0.0058 - val_accuracy: 0.6342\n",
      "Epoch 104/300\n",
      "105/105 [==============================] - 10s 97ms/step - loss: 0.0052 - accuracy: 0.6162 - val_loss: 0.0058 - val_accuracy: 0.6259\n",
      "Epoch 105/300\n",
      "105/105 [==============================] - 11s 103ms/step - loss: 0.0052 - accuracy: 0.6267 - val_loss: 0.0058 - val_accuracy: 0.6138\n",
      "Epoch 106/300\n",
      "105/105 [==============================] - 10s 99ms/step - loss: 0.0052 - accuracy: 0.6272 - val_loss: 0.0058 - val_accuracy: 0.6138\n",
      "Epoch 107/300\n",
      "105/105 [==============================] - 10s 95ms/step - loss: 0.0052 - accuracy: 0.6263 - val_loss: 0.0058 - val_accuracy: 0.6219\n",
      "Epoch 108/300\n",
      "105/105 [==============================] - 10s 94ms/step - loss: 0.0052 - accuracy: 0.6295 - val_loss: 0.0058 - val_accuracy: 0.6266\n",
      "Epoch 109/300\n",
      "105/105 [==============================] - 10s 96ms/step - loss: 0.0052 - accuracy: 0.6279 - val_loss: 0.0058 - val_accuracy: 0.6353\n",
      "Epoch 110/300\n",
      "105/105 [==============================] - 10s 98ms/step - loss: 0.0052 - accuracy: 0.6251 - val_loss: 0.0058 - val_accuracy: 0.6259\n",
      "Epoch 111/300\n",
      "105/105 [==============================] - 11s 107ms/step - loss: 0.0052 - accuracy: 0.6344 - val_loss: 0.0058 - val_accuracy: 0.6146\n",
      "Epoch 112/300\n",
      "105/105 [==============================] - 14s 134ms/step - loss: 0.0052 - accuracy: 0.6301 - val_loss: 0.0058 - val_accuracy: 0.6299\n",
      "Epoch 113/300\n",
      "105/105 [==============================] - 14s 136ms/step - loss: 0.0052 - accuracy: 0.6314 - val_loss: 0.0058 - val_accuracy: 0.6179\n",
      "Epoch 114/300\n",
      "105/105 [==============================] - 14s 137ms/step - loss: 0.0052 - accuracy: 0.6221 - val_loss: 0.0058 - val_accuracy: 0.6295\n",
      "Epoch 115/300\n",
      "105/105 [==============================] - 14s 135ms/step - loss: 0.0052 - accuracy: 0.6326 - val_loss: 0.0058 - val_accuracy: 0.6313\n",
      "Epoch 116/300\n",
      "105/105 [==============================] - 14s 136ms/step - loss: 0.0052 - accuracy: 0.6305 - val_loss: 0.0058 - val_accuracy: 0.6299\n",
      "Restoring model weights from the end of the best epoch.\n",
      "Epoch 00116: early stopping\n"
     ]
    }
   ],
   "source": [
    "# training model\n",
    "history_lstm = lstm_model.fit(\n",
    "    x = Xtf_train, \n",
    "    y = ytf_train,\n",
    "    epochs = epo, \n",
    "    verbose = ver, \n",
    "    workers = 6,\n",
    "    batch_size = bs, \n",
    "    callbacks = [EarlyStopLSTM_Acc],\n",
    "    shuffle = False,\n",
    "    use_multiprocessing = True,\n",
    "    validation_data = (Xtf_test, ytf_test),\n",
    ")"
   ]
  },
  {
   "cell_type": "code",
   "execution_count": 95,
   "metadata": {},
   "outputs": [
    {
     "output_type": "stream",
     "name": "stdout",
     "text": [
      "6/6 [==============================] - 0s 70ms/step - loss: 0.0058 - accuracy: 0.6255\n"
     ]
    }
   ],
   "source": [
    "# evaluationg model\n",
    "lstm_eval = lstm_model.evaluate(x = Xtf_test, y = ytf_test)"
   ]
  },
  {
   "cell_type": "code",
   "execution_count": 96,
   "metadata": {},
   "outputs": [
    {
     "output_type": "stream",
     "name": "stdout",
     "text": [
      "avg loss:  0.005774732679128647\navg acc:  0.6255009174346924\n"
     ]
    }
   ],
   "source": [
    "# general evaluation \n",
    "print(\"avg loss: \", lstm_eval[0])\n",
    "print(\"avg acc: \", lstm_eval[1])"
   ]
  },
  {
   "cell_type": "code",
   "execution_count": 97,
   "metadata": {},
   "outputs": [
    {
     "output_type": "stream",
     "name": "stdout",
     "text": [
      "27/27 [==============================] - 2s 24ms/step\n"
     ]
    }
   ],
   "source": [
    "# testing model\n",
    "lstm_results = lstm_model.predict(X_test, batch_size = bs, verbose = 1)#, batch_size = bs)"
   ]
  },
  {
   "cell_type": "code",
   "execution_count": 98,
   "metadata": {},
   "outputs": [
    {
     "output_type": "stream",
     "name": "stdout",
     "text": [
      "The trained  model is: c:\\Users\\Felipe\\Documents\\GitHub\\sa-artea\\VVG-MLModel-Trainer\\Data\\Models\\vvg_lstm_autoencoder\n",
      "INFO:tensorflow:Assets written to: c:\\Users\\Felipe\\Documents\\GitHub\\sa-artea\\VVG-MLModel-Trainer\\Data\\Models\\vvg_lstm_autoencoder\\assets\n"
     ]
    }
   ],
   "source": [
    "# saving model\n",
    "wdir = os.getcwd()\n",
    "models_folder = \"Models\"\n",
    "model_fname = \"vvg_lstm_autoencoder\"\n",
    "model_fpn = os.path.join(root_folder, dataf, models_folder, model_fname)\n",
    "print(\"The trained  model is:\", model_fpn)\n",
    "lstm_model.save(model_fpn)"
   ]
  },
  {
   "cell_type": "code",
   "execution_count": 99,
   "metadata": {},
   "outputs": [
    {
     "output_type": "stream",
     "name": "stdout",
     "text": [
      "(183, 15, 276)\n"
     ]
    }
   ],
   "source": [
    "# cheking test shape\n",
    "print(lstm_results.shape)"
   ]
  },
  {
   "cell_type": "code",
   "execution_count": 100,
   "metadata": {},
   "outputs": [
    {
     "output_type": "stream",
     "name": "stderr",
     "text": [
      "<ipython-input-100-27ae52336ddd>:21: UserWarning: Matplotlib is currently using module://ipykernel.pylab.backend_inline, which is a non-GUI backend, so cannot show the figure.\n  fig.show()\n"
     ]
    },
    {
     "output_type": "display_data",
     "data": {
      "text/plain": "<Figure size 1152x576 with 2 Axes>",
      "image/svg+xml": "<?xml version=\"1.0\" encoding=\"utf-8\" standalone=\"no\"?>\r\n<!DOCTYPE svg PUBLIC \"-//W3C//DTD SVG 1.1//EN\"\r\n  \"http://www.w3.org/Graphics/SVG/1.1/DTD/svg11.dtd\">\r\n<svg height=\"543.75625pt\" version=\"1.1\" viewBox=\"0 0 1079.43125 543.75625\" width=\"1079.43125pt\" xmlns=\"http://www.w3.org/2000/svg\" xmlns:xlink=\"http://www.w3.org/1999/xlink\">\r\n <metadata>\r\n  <rdf:RDF xmlns:cc=\"http://creativecommons.org/ns#\" xmlns:dc=\"http://purl.org/dc/elements/1.1/\" xmlns:rdf=\"http://www.w3.org/1999/02/22-rdf-syntax-ns#\">\r\n   <cc:Work>\r\n    <dc:type rdf:resource=\"http://purl.org/dc/dcmitype/StillImage\"/>\r\n    <dc:date>2021-05-14T13:46:15.284938</dc:date>\r\n    <dc:format>image/svg+xml</dc:format>\r\n    <dc:creator>\r\n     <cc:Agent>\r\n      <dc:title>Matplotlib v3.4.1, https://matplotlib.org/</dc:title>\r\n     </cc:Agent>\r\n    </dc:creator>\r\n   </cc:Work>\r\n  </rdf:RDF>\r\n </metadata>\r\n <defs>\r\n  <style type=\"text/css\">*{stroke-linecap:butt;stroke-linejoin:round;}</style>\r\n </defs>\r\n <g id=\"figure_1\">\r\n  <g id=\"patch_1\">\r\n   <path d=\"M 0 543.75625 \r\nL 1079.43125 543.75625 \r\nL 1079.43125 0 \r\nL 0 0 \r\nz\r\n\" style=\"fill:none;\"/>\r\n  </g>\r\n  <g id=\"axes_1\">\r\n   <g id=\"patch_2\">\r\n    <path d=\"M 69.23125 506.2 \r\nL 475.049432 506.2 \r\nL 475.049432 71.32 \r\nL 69.23125 71.32 \r\nz\r\n\" style=\"fill:#ffffff;\"/>\r\n   </g>\r\n   <g id=\"matplotlib.axis_1\">\r\n    <g id=\"xtick_1\">\r\n     <g id=\"line2d_1\">\r\n      <path clip-path=\"url(#paca1845fd9)\" d=\"M 87.677531 506.2 \r\nL 87.677531 71.32 \r\n\" style=\"fill:none;stroke:#b0b0b0;stroke-linecap:square;stroke-width:0.8;\"/>\r\n     </g>\r\n     <g id=\"line2d_2\">\r\n      <defs>\r\n       <path d=\"M 0 0 \r\nL 0 3.5 \r\n\" id=\"m498c40affc\" style=\"stroke:#000000;stroke-width:0.8;\"/>\r\n      </defs>\r\n      <g>\r\n       <use style=\"stroke:#000000;stroke-width:0.8;\" x=\"87.677531\" xlink:href=\"#m498c40affc\" y=\"506.2\"/>\r\n      </g>\r\n     </g>\r\n     <g id=\"text_1\">\r\n      <!-- 0 -->\r\n      <g transform=\"translate(84.496281 520.798438)scale(0.1 -0.1)\">\r\n       <defs>\r\n        <path d=\"M 2034 4250 \r\nQ 1547 4250 1301 3770 \r\nQ 1056 3291 1056 2328 \r\nQ 1056 1369 1301 889 \r\nQ 1547 409 2034 409 \r\nQ 2525 409 2770 889 \r\nQ 3016 1369 3016 2328 \r\nQ 3016 3291 2770 3770 \r\nQ 2525 4250 2034 4250 \r\nz\r\nM 2034 4750 \r\nQ 2819 4750 3233 4129 \r\nQ 3647 3509 3647 2328 \r\nQ 3647 1150 3233 529 \r\nQ 2819 -91 2034 -91 \r\nQ 1250 -91 836 529 \r\nQ 422 1150 422 2328 \r\nQ 422 3509 836 4129 \r\nQ 1250 4750 2034 4750 \r\nz\r\n\" id=\"DejaVuSans-30\" transform=\"scale(0.015625)\"/>\r\n       </defs>\r\n       <use xlink:href=\"#DejaVuSans-30\"/>\r\n      </g>\r\n     </g>\r\n    </g>\r\n    <g id=\"xtick_2\">\r\n     <g id=\"line2d_3\">\r\n      <path clip-path=\"url(#paca1845fd9)\" d=\"M 151.838508 506.2 \r\nL 151.838508 71.32 \r\n\" style=\"fill:none;stroke:#b0b0b0;stroke-linecap:square;stroke-width:0.8;\"/>\r\n     </g>\r\n     <g id=\"line2d_4\">\r\n      <g>\r\n       <use style=\"stroke:#000000;stroke-width:0.8;\" x=\"151.838508\" xlink:href=\"#m498c40affc\" y=\"506.2\"/>\r\n      </g>\r\n     </g>\r\n     <g id=\"text_2\">\r\n      <!-- 20 -->\r\n      <g transform=\"translate(145.476008 520.798438)scale(0.1 -0.1)\">\r\n       <defs>\r\n        <path d=\"M 1228 531 \r\nL 3431 531 \r\nL 3431 0 \r\nL 469 0 \r\nL 469 531 \r\nQ 828 903 1448 1529 \r\nQ 2069 2156 2228 2338 \r\nQ 2531 2678 2651 2914 \r\nQ 2772 3150 2772 3378 \r\nQ 2772 3750 2511 3984 \r\nQ 2250 4219 1831 4219 \r\nQ 1534 4219 1204 4116 \r\nQ 875 4013 500 3803 \r\nL 500 4441 \r\nQ 881 4594 1212 4672 \r\nQ 1544 4750 1819 4750 \r\nQ 2544 4750 2975 4387 \r\nQ 3406 4025 3406 3419 \r\nQ 3406 3131 3298 2873 \r\nQ 3191 2616 2906 2266 \r\nQ 2828 2175 2409 1742 \r\nQ 1991 1309 1228 531 \r\nz\r\n\" id=\"DejaVuSans-32\" transform=\"scale(0.015625)\"/>\r\n       </defs>\r\n       <use xlink:href=\"#DejaVuSans-32\"/>\r\n       <use x=\"63.623047\" xlink:href=\"#DejaVuSans-30\"/>\r\n      </g>\r\n     </g>\r\n    </g>\r\n    <g id=\"xtick_3\">\r\n     <g id=\"line2d_5\">\r\n      <path clip-path=\"url(#paca1845fd9)\" d=\"M 215.999486 506.2 \r\nL 215.999486 71.32 \r\n\" style=\"fill:none;stroke:#b0b0b0;stroke-linecap:square;stroke-width:0.8;\"/>\r\n     </g>\r\n     <g id=\"line2d_6\">\r\n      <g>\r\n       <use style=\"stroke:#000000;stroke-width:0.8;\" x=\"215.999486\" xlink:href=\"#m498c40affc\" y=\"506.2\"/>\r\n      </g>\r\n     </g>\r\n     <g id=\"text_3\">\r\n      <!-- 40 -->\r\n      <g transform=\"translate(209.636986 520.798438)scale(0.1 -0.1)\">\r\n       <defs>\r\n        <path d=\"M 2419 4116 \r\nL 825 1625 \r\nL 2419 1625 \r\nL 2419 4116 \r\nz\r\nM 2253 4666 \r\nL 3047 4666 \r\nL 3047 1625 \r\nL 3713 1625 \r\nL 3713 1100 \r\nL 3047 1100 \r\nL 3047 0 \r\nL 2419 0 \r\nL 2419 1100 \r\nL 313 1100 \r\nL 313 1709 \r\nL 2253 4666 \r\nz\r\n\" id=\"DejaVuSans-34\" transform=\"scale(0.015625)\"/>\r\n       </defs>\r\n       <use xlink:href=\"#DejaVuSans-34\"/>\r\n       <use x=\"63.623047\" xlink:href=\"#DejaVuSans-30\"/>\r\n      </g>\r\n     </g>\r\n    </g>\r\n    <g id=\"xtick_4\">\r\n     <g id=\"line2d_7\">\r\n      <path clip-path=\"url(#paca1845fd9)\" d=\"M 280.160463 506.2 \r\nL 280.160463 71.32 \r\n\" style=\"fill:none;stroke:#b0b0b0;stroke-linecap:square;stroke-width:0.8;\"/>\r\n     </g>\r\n     <g id=\"line2d_8\">\r\n      <g>\r\n       <use style=\"stroke:#000000;stroke-width:0.8;\" x=\"280.160463\" xlink:href=\"#m498c40affc\" y=\"506.2\"/>\r\n      </g>\r\n     </g>\r\n     <g id=\"text_4\">\r\n      <!-- 60 -->\r\n      <g transform=\"translate(273.797963 520.798438)scale(0.1 -0.1)\">\r\n       <defs>\r\n        <path d=\"M 2113 2584 \r\nQ 1688 2584 1439 2293 \r\nQ 1191 2003 1191 1497 \r\nQ 1191 994 1439 701 \r\nQ 1688 409 2113 409 \r\nQ 2538 409 2786 701 \r\nQ 3034 994 3034 1497 \r\nQ 3034 2003 2786 2293 \r\nQ 2538 2584 2113 2584 \r\nz\r\nM 3366 4563 \r\nL 3366 3988 \r\nQ 3128 4100 2886 4159 \r\nQ 2644 4219 2406 4219 \r\nQ 1781 4219 1451 3797 \r\nQ 1122 3375 1075 2522 \r\nQ 1259 2794 1537 2939 \r\nQ 1816 3084 2150 3084 \r\nQ 2853 3084 3261 2657 \r\nQ 3669 2231 3669 1497 \r\nQ 3669 778 3244 343 \r\nQ 2819 -91 2113 -91 \r\nQ 1303 -91 875 529 \r\nQ 447 1150 447 2328 \r\nQ 447 3434 972 4092 \r\nQ 1497 4750 2381 4750 \r\nQ 2619 4750 2861 4703 \r\nQ 3103 4656 3366 4563 \r\nz\r\n\" id=\"DejaVuSans-36\" transform=\"scale(0.015625)\"/>\r\n       </defs>\r\n       <use xlink:href=\"#DejaVuSans-36\"/>\r\n       <use x=\"63.623047\" xlink:href=\"#DejaVuSans-30\"/>\r\n      </g>\r\n     </g>\r\n    </g>\r\n    <g id=\"xtick_5\">\r\n     <g id=\"line2d_9\">\r\n      <path clip-path=\"url(#paca1845fd9)\" d=\"M 344.32144 506.2 \r\nL 344.32144 71.32 \r\n\" style=\"fill:none;stroke:#b0b0b0;stroke-linecap:square;stroke-width:0.8;\"/>\r\n     </g>\r\n     <g id=\"line2d_10\">\r\n      <g>\r\n       <use style=\"stroke:#000000;stroke-width:0.8;\" x=\"344.32144\" xlink:href=\"#m498c40affc\" y=\"506.2\"/>\r\n      </g>\r\n     </g>\r\n     <g id=\"text_5\">\r\n      <!-- 80 -->\r\n      <g transform=\"translate(337.95894 520.798438)scale(0.1 -0.1)\">\r\n       <defs>\r\n        <path d=\"M 2034 2216 \r\nQ 1584 2216 1326 1975 \r\nQ 1069 1734 1069 1313 \r\nQ 1069 891 1326 650 \r\nQ 1584 409 2034 409 \r\nQ 2484 409 2743 651 \r\nQ 3003 894 3003 1313 \r\nQ 3003 1734 2745 1975 \r\nQ 2488 2216 2034 2216 \r\nz\r\nM 1403 2484 \r\nQ 997 2584 770 2862 \r\nQ 544 3141 544 3541 \r\nQ 544 4100 942 4425 \r\nQ 1341 4750 2034 4750 \r\nQ 2731 4750 3128 4425 \r\nQ 3525 4100 3525 3541 \r\nQ 3525 3141 3298 2862 \r\nQ 3072 2584 2669 2484 \r\nQ 3125 2378 3379 2068 \r\nQ 3634 1759 3634 1313 \r\nQ 3634 634 3220 271 \r\nQ 2806 -91 2034 -91 \r\nQ 1263 -91 848 271 \r\nQ 434 634 434 1313 \r\nQ 434 1759 690 2068 \r\nQ 947 2378 1403 2484 \r\nz\r\nM 1172 3481 \r\nQ 1172 3119 1398 2916 \r\nQ 1625 2713 2034 2713 \r\nQ 2441 2713 2670 2916 \r\nQ 2900 3119 2900 3481 \r\nQ 2900 3844 2670 4047 \r\nQ 2441 4250 2034 4250 \r\nQ 1625 4250 1398 4047 \r\nQ 1172 3844 1172 3481 \r\nz\r\n\" id=\"DejaVuSans-38\" transform=\"scale(0.015625)\"/>\r\n       </defs>\r\n       <use xlink:href=\"#DejaVuSans-38\"/>\r\n       <use x=\"63.623047\" xlink:href=\"#DejaVuSans-30\"/>\r\n      </g>\r\n     </g>\r\n    </g>\r\n    <g id=\"xtick_6\">\r\n     <g id=\"line2d_11\">\r\n      <path clip-path=\"url(#paca1845fd9)\" d=\"M 408.482418 506.2 \r\nL 408.482418 71.32 \r\n\" style=\"fill:none;stroke:#b0b0b0;stroke-linecap:square;stroke-width:0.8;\"/>\r\n     </g>\r\n     <g id=\"line2d_12\">\r\n      <g>\r\n       <use style=\"stroke:#000000;stroke-width:0.8;\" x=\"408.482418\" xlink:href=\"#m498c40affc\" y=\"506.2\"/>\r\n      </g>\r\n     </g>\r\n     <g id=\"text_6\">\r\n      <!-- 100 -->\r\n      <g transform=\"translate(398.938668 520.798438)scale(0.1 -0.1)\">\r\n       <defs>\r\n        <path d=\"M 794 531 \r\nL 1825 531 \r\nL 1825 4091 \r\nL 703 3866 \r\nL 703 4441 \r\nL 1819 4666 \r\nL 2450 4666 \r\nL 2450 531 \r\nL 3481 531 \r\nL 3481 0 \r\nL 794 0 \r\nL 794 531 \r\nz\r\n\" id=\"DejaVuSans-31\" transform=\"scale(0.015625)\"/>\r\n       </defs>\r\n       <use xlink:href=\"#DejaVuSans-31\"/>\r\n       <use x=\"63.623047\" xlink:href=\"#DejaVuSans-30\"/>\r\n       <use x=\"127.246094\" xlink:href=\"#DejaVuSans-30\"/>\r\n      </g>\r\n     </g>\r\n    </g>\r\n    <g id=\"xtick_7\">\r\n     <g id=\"line2d_13\">\r\n      <path clip-path=\"url(#paca1845fd9)\" d=\"M 472.643395 506.2 \r\nL 472.643395 71.32 \r\n\" style=\"fill:none;stroke:#b0b0b0;stroke-linecap:square;stroke-width:0.8;\"/>\r\n     </g>\r\n     <g id=\"line2d_14\">\r\n      <g>\r\n       <use style=\"stroke:#000000;stroke-width:0.8;\" x=\"472.643395\" xlink:href=\"#m498c40affc\" y=\"506.2\"/>\r\n      </g>\r\n     </g>\r\n     <g id=\"text_7\">\r\n      <!-- 120 -->\r\n      <g transform=\"translate(463.099645 520.798438)scale(0.1 -0.1)\">\r\n       <use xlink:href=\"#DejaVuSans-31\"/>\r\n       <use x=\"63.623047\" xlink:href=\"#DejaVuSans-32\"/>\r\n       <use x=\"127.246094\" xlink:href=\"#DejaVuSans-30\"/>\r\n      </g>\r\n     </g>\r\n    </g>\r\n    <g id=\"text_8\">\r\n     <!-- Epoch [cycle] -->\r\n     <g transform=\"translate(238.415341 534.476563)scale(0.1 -0.1)\">\r\n      <defs>\r\n       <path d=\"M 628 4666 \r\nL 3578 4666 \r\nL 3578 4134 \r\nL 1259 4134 \r\nL 1259 2753 \r\nL 3481 2753 \r\nL 3481 2222 \r\nL 1259 2222 \r\nL 1259 531 \r\nL 3634 531 \r\nL 3634 0 \r\nL 628 0 \r\nL 628 4666 \r\nz\r\n\" id=\"DejaVuSans-45\" transform=\"scale(0.015625)\"/>\r\n       <path d=\"M 1159 525 \r\nL 1159 -1331 \r\nL 581 -1331 \r\nL 581 3500 \r\nL 1159 3500 \r\nL 1159 2969 \r\nQ 1341 3281 1617 3432 \r\nQ 1894 3584 2278 3584 \r\nQ 2916 3584 3314 3078 \r\nQ 3713 2572 3713 1747 \r\nQ 3713 922 3314 415 \r\nQ 2916 -91 2278 -91 \r\nQ 1894 -91 1617 61 \r\nQ 1341 213 1159 525 \r\nz\r\nM 3116 1747 \r\nQ 3116 2381 2855 2742 \r\nQ 2594 3103 2138 3103 \r\nQ 1681 3103 1420 2742 \r\nQ 1159 2381 1159 1747 \r\nQ 1159 1113 1420 752 \r\nQ 1681 391 2138 391 \r\nQ 2594 391 2855 752 \r\nQ 3116 1113 3116 1747 \r\nz\r\n\" id=\"DejaVuSans-70\" transform=\"scale(0.015625)\"/>\r\n       <path d=\"M 1959 3097 \r\nQ 1497 3097 1228 2736 \r\nQ 959 2375 959 1747 \r\nQ 959 1119 1226 758 \r\nQ 1494 397 1959 397 \r\nQ 2419 397 2687 759 \r\nQ 2956 1122 2956 1747 \r\nQ 2956 2369 2687 2733 \r\nQ 2419 3097 1959 3097 \r\nz\r\nM 1959 3584 \r\nQ 2709 3584 3137 3096 \r\nQ 3566 2609 3566 1747 \r\nQ 3566 888 3137 398 \r\nQ 2709 -91 1959 -91 \r\nQ 1206 -91 779 398 \r\nQ 353 888 353 1747 \r\nQ 353 2609 779 3096 \r\nQ 1206 3584 1959 3584 \r\nz\r\n\" id=\"DejaVuSans-6f\" transform=\"scale(0.015625)\"/>\r\n       <path d=\"M 3122 3366 \r\nL 3122 2828 \r\nQ 2878 2963 2633 3030 \r\nQ 2388 3097 2138 3097 \r\nQ 1578 3097 1268 2742 \r\nQ 959 2388 959 1747 \r\nQ 959 1106 1268 751 \r\nQ 1578 397 2138 397 \r\nQ 2388 397 2633 464 \r\nQ 2878 531 3122 666 \r\nL 3122 134 \r\nQ 2881 22 2623 -34 \r\nQ 2366 -91 2075 -91 \r\nQ 1284 -91 818 406 \r\nQ 353 903 353 1747 \r\nQ 353 2603 823 3093 \r\nQ 1294 3584 2113 3584 \r\nQ 2378 3584 2631 3529 \r\nQ 2884 3475 3122 3366 \r\nz\r\n\" id=\"DejaVuSans-63\" transform=\"scale(0.015625)\"/>\r\n       <path d=\"M 3513 2113 \r\nL 3513 0 \r\nL 2938 0 \r\nL 2938 2094 \r\nQ 2938 2591 2744 2837 \r\nQ 2550 3084 2163 3084 \r\nQ 1697 3084 1428 2787 \r\nQ 1159 2491 1159 1978 \r\nL 1159 0 \r\nL 581 0 \r\nL 581 4863 \r\nL 1159 4863 \r\nL 1159 2956 \r\nQ 1366 3272 1645 3428 \r\nQ 1925 3584 2291 3584 \r\nQ 2894 3584 3203 3211 \r\nQ 3513 2838 3513 2113 \r\nz\r\n\" id=\"DejaVuSans-68\" transform=\"scale(0.015625)\"/>\r\n       <path id=\"DejaVuSans-20\" transform=\"scale(0.015625)\"/>\r\n       <path d=\"M 550 4863 \r\nL 1875 4863 \r\nL 1875 4416 \r\nL 1125 4416 \r\nL 1125 -397 \r\nL 1875 -397 \r\nL 1875 -844 \r\nL 550 -844 \r\nL 550 4863 \r\nz\r\n\" id=\"DejaVuSans-5b\" transform=\"scale(0.015625)\"/>\r\n       <path d=\"M 2059 -325 \r\nQ 1816 -950 1584 -1140 \r\nQ 1353 -1331 966 -1331 \r\nL 506 -1331 \r\nL 506 -850 \r\nL 844 -850 \r\nQ 1081 -850 1212 -737 \r\nQ 1344 -625 1503 -206 \r\nL 1606 56 \r\nL 191 3500 \r\nL 800 3500 \r\nL 1894 763 \r\nL 2988 3500 \r\nL 3597 3500 \r\nL 2059 -325 \r\nz\r\n\" id=\"DejaVuSans-79\" transform=\"scale(0.015625)\"/>\r\n       <path d=\"M 603 4863 \r\nL 1178 4863 \r\nL 1178 0 \r\nL 603 0 \r\nL 603 4863 \r\nz\r\n\" id=\"DejaVuSans-6c\" transform=\"scale(0.015625)\"/>\r\n       <path d=\"M 3597 1894 \r\nL 3597 1613 \r\nL 953 1613 \r\nQ 991 1019 1311 708 \r\nQ 1631 397 2203 397 \r\nQ 2534 397 2845 478 \r\nQ 3156 559 3463 722 \r\nL 3463 178 \r\nQ 3153 47 2828 -22 \r\nQ 2503 -91 2169 -91 \r\nQ 1331 -91 842 396 \r\nQ 353 884 353 1716 \r\nQ 353 2575 817 3079 \r\nQ 1281 3584 2069 3584 \r\nQ 2775 3584 3186 3129 \r\nQ 3597 2675 3597 1894 \r\nz\r\nM 3022 2063 \r\nQ 3016 2534 2758 2815 \r\nQ 2500 3097 2075 3097 \r\nQ 1594 3097 1305 2825 \r\nQ 1016 2553 972 2059 \r\nL 3022 2063 \r\nz\r\n\" id=\"DejaVuSans-65\" transform=\"scale(0.015625)\"/>\r\n       <path d=\"M 1947 4863 \r\nL 1947 -844 \r\nL 622 -844 \r\nL 622 -397 \r\nL 1369 -397 \r\nL 1369 4416 \r\nL 622 4416 \r\nL 622 4863 \r\nL 1947 4863 \r\nz\r\n\" id=\"DejaVuSans-5d\" transform=\"scale(0.015625)\"/>\r\n      </defs>\r\n      <use xlink:href=\"#DejaVuSans-45\"/>\r\n      <use x=\"63.183594\" xlink:href=\"#DejaVuSans-70\"/>\r\n      <use x=\"126.660156\" xlink:href=\"#DejaVuSans-6f\"/>\r\n      <use x=\"187.841797\" xlink:href=\"#DejaVuSans-63\"/>\r\n      <use x=\"242.822266\" xlink:href=\"#DejaVuSans-68\"/>\r\n      <use x=\"306.201172\" xlink:href=\"#DejaVuSans-20\"/>\r\n      <use x=\"337.988281\" xlink:href=\"#DejaVuSans-5b\"/>\r\n      <use x=\"377.001953\" xlink:href=\"#DejaVuSans-63\"/>\r\n      <use x=\"431.982422\" xlink:href=\"#DejaVuSans-79\"/>\r\n      <use x=\"491.162109\" xlink:href=\"#DejaVuSans-63\"/>\r\n      <use x=\"546.142578\" xlink:href=\"#DejaVuSans-6c\"/>\r\n      <use x=\"573.925781\" xlink:href=\"#DejaVuSans-65\"/>\r\n      <use x=\"635.449219\" xlink:href=\"#DejaVuSans-5d\"/>\r\n     </g>\r\n    </g>\r\n   </g>\r\n   <g id=\"matplotlib.axis_2\">\r\n    <g id=\"ytick_1\">\r\n     <g id=\"line2d_15\">\r\n      <path clip-path=\"url(#paca1845fd9)\" d=\"M 69.23125 459.567261 \r\nL 475.049432 459.567261 \r\n\" style=\"fill:none;stroke:#b0b0b0;stroke-linecap:square;stroke-width:0.8;\"/>\r\n     </g>\r\n     <g id=\"line2d_16\">\r\n      <defs>\r\n       <path d=\"M 0 0 \r\nL -3.5 0 \r\n\" id=\"mcaf7197a95\" style=\"stroke:#000000;stroke-width:0.8;\"/>\r\n      </defs>\r\n      <g>\r\n       <use style=\"stroke:#000000;stroke-width:0.8;\" x=\"69.23125\" xlink:href=\"#mcaf7197a95\" y=\"459.567261\"/>\r\n      </g>\r\n     </g>\r\n     <g id=\"text_9\">\r\n      <!-- 0.00525 -->\r\n      <g transform=\"translate(20.878125 463.366479)scale(0.1 -0.1)\">\r\n       <defs>\r\n        <path d=\"M 684 794 \r\nL 1344 794 \r\nL 1344 0 \r\nL 684 0 \r\nL 684 794 \r\nz\r\n\" id=\"DejaVuSans-2e\" transform=\"scale(0.015625)\"/>\r\n        <path d=\"M 691 4666 \r\nL 3169 4666 \r\nL 3169 4134 \r\nL 1269 4134 \r\nL 1269 2991 \r\nQ 1406 3038 1543 3061 \r\nQ 1681 3084 1819 3084 \r\nQ 2600 3084 3056 2656 \r\nQ 3513 2228 3513 1497 \r\nQ 3513 744 3044 326 \r\nQ 2575 -91 1722 -91 \r\nQ 1428 -91 1123 -41 \r\nQ 819 9 494 109 \r\nL 494 744 \r\nQ 775 591 1075 516 \r\nQ 1375 441 1709 441 \r\nQ 2250 441 2565 725 \r\nQ 2881 1009 2881 1497 \r\nQ 2881 1984 2565 2268 \r\nQ 2250 2553 1709 2553 \r\nQ 1456 2553 1204 2497 \r\nQ 953 2441 691 2322 \r\nL 691 4666 \r\nz\r\n\" id=\"DejaVuSans-35\" transform=\"scale(0.015625)\"/>\r\n       </defs>\r\n       <use xlink:href=\"#DejaVuSans-30\"/>\r\n       <use x=\"63.623047\" xlink:href=\"#DejaVuSans-2e\"/>\r\n       <use x=\"95.410156\" xlink:href=\"#DejaVuSans-30\"/>\r\n       <use x=\"159.033203\" xlink:href=\"#DejaVuSans-30\"/>\r\n       <use x=\"222.65625\" xlink:href=\"#DejaVuSans-35\"/>\r\n       <use x=\"286.279297\" xlink:href=\"#DejaVuSans-32\"/>\r\n       <use x=\"349.902344\" xlink:href=\"#DejaVuSans-35\"/>\r\n      </g>\r\n     </g>\r\n    </g>\r\n    <g id=\"ytick_2\">\r\n     <g id=\"line2d_17\">\r\n      <path clip-path=\"url(#paca1845fd9)\" d=\"M 69.23125 404.541989 \r\nL 475.049432 404.541989 \r\n\" style=\"fill:none;stroke:#b0b0b0;stroke-linecap:square;stroke-width:0.8;\"/>\r\n     </g>\r\n     <g id=\"line2d_18\">\r\n      <g>\r\n       <use style=\"stroke:#000000;stroke-width:0.8;\" x=\"69.23125\" xlink:href=\"#mcaf7197a95\" y=\"404.541989\"/>\r\n      </g>\r\n     </g>\r\n     <g id=\"text_10\">\r\n      <!-- 0.00550 -->\r\n      <g transform=\"translate(20.878125 408.341208)scale(0.1 -0.1)\">\r\n       <use xlink:href=\"#DejaVuSans-30\"/>\r\n       <use x=\"63.623047\" xlink:href=\"#DejaVuSans-2e\"/>\r\n       <use x=\"95.410156\" xlink:href=\"#DejaVuSans-30\"/>\r\n       <use x=\"159.033203\" xlink:href=\"#DejaVuSans-30\"/>\r\n       <use x=\"222.65625\" xlink:href=\"#DejaVuSans-35\"/>\r\n       <use x=\"286.279297\" xlink:href=\"#DejaVuSans-35\"/>\r\n       <use x=\"349.902344\" xlink:href=\"#DejaVuSans-30\"/>\r\n      </g>\r\n     </g>\r\n    </g>\r\n    <g id=\"ytick_3\">\r\n     <g id=\"line2d_19\">\r\n      <path clip-path=\"url(#paca1845fd9)\" d=\"M 69.23125 349.516718 \r\nL 475.049432 349.516718 \r\n\" style=\"fill:none;stroke:#b0b0b0;stroke-linecap:square;stroke-width:0.8;\"/>\r\n     </g>\r\n     <g id=\"line2d_20\">\r\n      <g>\r\n       <use style=\"stroke:#000000;stroke-width:0.8;\" x=\"69.23125\" xlink:href=\"#mcaf7197a95\" y=\"349.516718\"/>\r\n      </g>\r\n     </g>\r\n     <g id=\"text_11\">\r\n      <!-- 0.00575 -->\r\n      <g transform=\"translate(20.878125 353.315937)scale(0.1 -0.1)\">\r\n       <defs>\r\n        <path d=\"M 525 4666 \r\nL 3525 4666 \r\nL 3525 4397 \r\nL 1831 0 \r\nL 1172 0 \r\nL 2766 4134 \r\nL 525 4134 \r\nL 525 4666 \r\nz\r\n\" id=\"DejaVuSans-37\" transform=\"scale(0.015625)\"/>\r\n       </defs>\r\n       <use xlink:href=\"#DejaVuSans-30\"/>\r\n       <use x=\"63.623047\" xlink:href=\"#DejaVuSans-2e\"/>\r\n       <use x=\"95.410156\" xlink:href=\"#DejaVuSans-30\"/>\r\n       <use x=\"159.033203\" xlink:href=\"#DejaVuSans-30\"/>\r\n       <use x=\"222.65625\" xlink:href=\"#DejaVuSans-35\"/>\r\n       <use x=\"286.279297\" xlink:href=\"#DejaVuSans-37\"/>\r\n       <use x=\"349.902344\" xlink:href=\"#DejaVuSans-35\"/>\r\n      </g>\r\n     </g>\r\n    </g>\r\n    <g id=\"ytick_4\">\r\n     <g id=\"line2d_21\">\r\n      <path clip-path=\"url(#paca1845fd9)\" d=\"M 69.23125 294.491446 \r\nL 475.049432 294.491446 \r\n\" style=\"fill:none;stroke:#b0b0b0;stroke-linecap:square;stroke-width:0.8;\"/>\r\n     </g>\r\n     <g id=\"line2d_22\">\r\n      <g>\r\n       <use style=\"stroke:#000000;stroke-width:0.8;\" x=\"69.23125\" xlink:href=\"#mcaf7197a95\" y=\"294.491446\"/>\r\n      </g>\r\n     </g>\r\n     <g id=\"text_12\">\r\n      <!-- 0.00600 -->\r\n      <g transform=\"translate(20.878125 298.290665)scale(0.1 -0.1)\">\r\n       <use xlink:href=\"#DejaVuSans-30\"/>\r\n       <use x=\"63.623047\" xlink:href=\"#DejaVuSans-2e\"/>\r\n       <use x=\"95.410156\" xlink:href=\"#DejaVuSans-30\"/>\r\n       <use x=\"159.033203\" xlink:href=\"#DejaVuSans-30\"/>\r\n       <use x=\"222.65625\" xlink:href=\"#DejaVuSans-36\"/>\r\n       <use x=\"286.279297\" xlink:href=\"#DejaVuSans-30\"/>\r\n       <use x=\"349.902344\" xlink:href=\"#DejaVuSans-30\"/>\r\n      </g>\r\n     </g>\r\n    </g>\r\n    <g id=\"ytick_5\">\r\n     <g id=\"line2d_23\">\r\n      <path clip-path=\"url(#paca1845fd9)\" d=\"M 69.23125 239.466175 \r\nL 475.049432 239.466175 \r\n\" style=\"fill:none;stroke:#b0b0b0;stroke-linecap:square;stroke-width:0.8;\"/>\r\n     </g>\r\n     <g id=\"line2d_24\">\r\n      <g>\r\n       <use style=\"stroke:#000000;stroke-width:0.8;\" x=\"69.23125\" xlink:href=\"#mcaf7197a95\" y=\"239.466175\"/>\r\n      </g>\r\n     </g>\r\n     <g id=\"text_13\">\r\n      <!-- 0.00625 -->\r\n      <g transform=\"translate(20.878125 243.265394)scale(0.1 -0.1)\">\r\n       <use xlink:href=\"#DejaVuSans-30\"/>\r\n       <use x=\"63.623047\" xlink:href=\"#DejaVuSans-2e\"/>\r\n       <use x=\"95.410156\" xlink:href=\"#DejaVuSans-30\"/>\r\n       <use x=\"159.033203\" xlink:href=\"#DejaVuSans-30\"/>\r\n       <use x=\"222.65625\" xlink:href=\"#DejaVuSans-36\"/>\r\n       <use x=\"286.279297\" xlink:href=\"#DejaVuSans-32\"/>\r\n       <use x=\"349.902344\" xlink:href=\"#DejaVuSans-35\"/>\r\n      </g>\r\n     </g>\r\n    </g>\r\n    <g id=\"ytick_6\">\r\n     <g id=\"line2d_25\">\r\n      <path clip-path=\"url(#paca1845fd9)\" d=\"M 69.23125 184.440904 \r\nL 475.049432 184.440904 \r\n\" style=\"fill:none;stroke:#b0b0b0;stroke-linecap:square;stroke-width:0.8;\"/>\r\n     </g>\r\n     <g id=\"line2d_26\">\r\n      <g>\r\n       <use style=\"stroke:#000000;stroke-width:0.8;\" x=\"69.23125\" xlink:href=\"#mcaf7197a95\" y=\"184.440904\"/>\r\n      </g>\r\n     </g>\r\n     <g id=\"text_14\">\r\n      <!-- 0.00650 -->\r\n      <g transform=\"translate(20.878125 188.240122)scale(0.1 -0.1)\">\r\n       <use xlink:href=\"#DejaVuSans-30\"/>\r\n       <use x=\"63.623047\" xlink:href=\"#DejaVuSans-2e\"/>\r\n       <use x=\"95.410156\" xlink:href=\"#DejaVuSans-30\"/>\r\n       <use x=\"159.033203\" xlink:href=\"#DejaVuSans-30\"/>\r\n       <use x=\"222.65625\" xlink:href=\"#DejaVuSans-36\"/>\r\n       <use x=\"286.279297\" xlink:href=\"#DejaVuSans-35\"/>\r\n       <use x=\"349.902344\" xlink:href=\"#DejaVuSans-30\"/>\r\n      </g>\r\n     </g>\r\n    </g>\r\n    <g id=\"ytick_7\">\r\n     <g id=\"line2d_27\">\r\n      <path clip-path=\"url(#paca1845fd9)\" d=\"M 69.23125 129.415632 \r\nL 475.049432 129.415632 \r\n\" style=\"fill:none;stroke:#b0b0b0;stroke-linecap:square;stroke-width:0.8;\"/>\r\n     </g>\r\n     <g id=\"line2d_28\">\r\n      <g>\r\n       <use style=\"stroke:#000000;stroke-width:0.8;\" x=\"69.23125\" xlink:href=\"#mcaf7197a95\" y=\"129.415632\"/>\r\n      </g>\r\n     </g>\r\n     <g id=\"text_15\">\r\n      <!-- 0.00675 -->\r\n      <g transform=\"translate(20.878125 133.214851)scale(0.1 -0.1)\">\r\n       <use xlink:href=\"#DejaVuSans-30\"/>\r\n       <use x=\"63.623047\" xlink:href=\"#DejaVuSans-2e\"/>\r\n       <use x=\"95.410156\" xlink:href=\"#DejaVuSans-30\"/>\r\n       <use x=\"159.033203\" xlink:href=\"#DejaVuSans-30\"/>\r\n       <use x=\"222.65625\" xlink:href=\"#DejaVuSans-36\"/>\r\n       <use x=\"286.279297\" xlink:href=\"#DejaVuSans-37\"/>\r\n       <use x=\"349.902344\" xlink:href=\"#DejaVuSans-35\"/>\r\n      </g>\r\n     </g>\r\n    </g>\r\n    <g id=\"ytick_8\">\r\n     <g id=\"line2d_29\">\r\n      <path clip-path=\"url(#paca1845fd9)\" d=\"M 69.23125 74.390361 \r\nL 475.049432 74.390361 \r\n\" style=\"fill:none;stroke:#b0b0b0;stroke-linecap:square;stroke-width:0.8;\"/>\r\n     </g>\r\n     <g id=\"line2d_30\">\r\n      <g>\r\n       <use style=\"stroke:#000000;stroke-width:0.8;\" x=\"69.23125\" xlink:href=\"#mcaf7197a95\" y=\"74.390361\"/>\r\n      </g>\r\n     </g>\r\n     <g id=\"text_16\">\r\n      <!-- 0.00700 -->\r\n      <g transform=\"translate(20.878125 78.189579)scale(0.1 -0.1)\">\r\n       <use xlink:href=\"#DejaVuSans-30\"/>\r\n       <use x=\"63.623047\" xlink:href=\"#DejaVuSans-2e\"/>\r\n       <use x=\"95.410156\" xlink:href=\"#DejaVuSans-30\"/>\r\n       <use x=\"159.033203\" xlink:href=\"#DejaVuSans-30\"/>\r\n       <use x=\"222.65625\" xlink:href=\"#DejaVuSans-37\"/>\r\n       <use x=\"286.279297\" xlink:href=\"#DejaVuSans-30\"/>\r\n       <use x=\"349.902344\" xlink:href=\"#DejaVuSans-30\"/>\r\n      </g>\r\n     </g>\r\n    </g>\r\n    <g id=\"text_17\">\r\n     <!-- loss [%] -->\r\n     <g transform=\"translate(14.798438 308.659219)rotate(-90)scale(0.1 -0.1)\">\r\n      <defs>\r\n       <path d=\"M 2834 3397 \r\nL 2834 2853 \r\nQ 2591 2978 2328 3040 \r\nQ 2066 3103 1784 3103 \r\nQ 1356 3103 1142 2972 \r\nQ 928 2841 928 2578 \r\nQ 928 2378 1081 2264 \r\nQ 1234 2150 1697 2047 \r\nL 1894 2003 \r\nQ 2506 1872 2764 1633 \r\nQ 3022 1394 3022 966 \r\nQ 3022 478 2636 193 \r\nQ 2250 -91 1575 -91 \r\nQ 1294 -91 989 -36 \r\nQ 684 19 347 128 \r\nL 347 722 \r\nQ 666 556 975 473 \r\nQ 1284 391 1588 391 \r\nQ 1994 391 2212 530 \r\nQ 2431 669 2431 922 \r\nQ 2431 1156 2273 1281 \r\nQ 2116 1406 1581 1522 \r\nL 1381 1569 \r\nQ 847 1681 609 1914 \r\nQ 372 2147 372 2553 \r\nQ 372 3047 722 3315 \r\nQ 1072 3584 1716 3584 \r\nQ 2034 3584 2315 3537 \r\nQ 2597 3491 2834 3397 \r\nz\r\n\" id=\"DejaVuSans-73\" transform=\"scale(0.015625)\"/>\r\n       <path d=\"M 4653 2053 \r\nQ 4381 2053 4226 1822 \r\nQ 4072 1591 4072 1178 \r\nQ 4072 772 4226 539 \r\nQ 4381 306 4653 306 \r\nQ 4919 306 5073 539 \r\nQ 5228 772 5228 1178 \r\nQ 5228 1588 5073 1820 \r\nQ 4919 2053 4653 2053 \r\nz\r\nM 4653 2450 \r\nQ 5147 2450 5437 2106 \r\nQ 5728 1763 5728 1178 \r\nQ 5728 594 5436 251 \r\nQ 5144 -91 4653 -91 \r\nQ 4153 -91 3862 251 \r\nQ 3572 594 3572 1178 \r\nQ 3572 1766 3864 2108 \r\nQ 4156 2450 4653 2450 \r\nz\r\nM 1428 4353 \r\nQ 1159 4353 1004 4120 \r\nQ 850 3888 850 3481 \r\nQ 850 3069 1003 2837 \r\nQ 1156 2606 1428 2606 \r\nQ 1700 2606 1854 2837 \r\nQ 2009 3069 2009 3481 \r\nQ 2009 3884 1853 4118 \r\nQ 1697 4353 1428 4353 \r\nz\r\nM 4250 4750 \r\nL 4750 4750 \r\nL 1831 -91 \r\nL 1331 -91 \r\nL 4250 4750 \r\nz\r\nM 1428 4750 \r\nQ 1922 4750 2215 4408 \r\nQ 2509 4066 2509 3481 \r\nQ 2509 2891 2217 2550 \r\nQ 1925 2209 1428 2209 \r\nQ 931 2209 642 2551 \r\nQ 353 2894 353 3481 \r\nQ 353 4063 643 4406 \r\nQ 934 4750 1428 4750 \r\nz\r\n\" id=\"DejaVuSans-25\" transform=\"scale(0.015625)\"/>\r\n      </defs>\r\n      <use xlink:href=\"#DejaVuSans-6c\"/>\r\n      <use x=\"27.783203\" xlink:href=\"#DejaVuSans-6f\"/>\r\n      <use x=\"88.964844\" xlink:href=\"#DejaVuSans-73\"/>\r\n      <use x=\"141.064453\" xlink:href=\"#DejaVuSans-73\"/>\r\n      <use x=\"193.164062\" xlink:href=\"#DejaVuSans-20\"/>\r\n      <use x=\"224.951172\" xlink:href=\"#DejaVuSans-5b\"/>\r\n      <use x=\"263.964844\" xlink:href=\"#DejaVuSans-25\"/>\r\n      <use x=\"358.984375\" xlink:href=\"#DejaVuSans-5d\"/>\r\n     </g>\r\n    </g>\r\n   </g>\r\n   <g id=\"line2d_31\">\r\n    <path clip-path=\"url(#paca1845fd9)\" d=\"M 87.677531 91.087273 \r\nL 90.88558 279.012087 \r\nL 94.093629 343.9074 \r\nL 97.301678 348.945627 \r\nL 100.509726 351.671724 \r\nL 103.717775 354.982336 \r\nL 106.925824 364.690328 \r\nL 110.133873 375.804928 \r\nL 113.341922 385.132058 \r\nL 116.549971 395.635495 \r\nL 119.75802 399.808992 \r\nL 122.966069 404.428434 \r\nL 126.174117 407.247594 \r\nL 129.382166 412.908771 \r\nL 132.590215 415.449356 \r\nL 135.798264 417.905385 \r\nL 139.006313 420.970937 \r\nL 142.214362 422.460667 \r\nL 145.422411 425.148226 \r\nL 148.630459 426.720872 \r\nL 151.838508 427.592469 \r\nL 155.046557 430.302065 \r\nL 158.254606 432.438317 \r\nL 161.462655 435.405476 \r\nL 164.670704 437.160456 \r\nL 167.878753 438.127166 \r\nL 171.086802 440.548348 \r\nL 174.29485 442.537626 \r\nL 177.502899 444.598546 \r\nL 180.710948 445.728527 \r\nL 183.918997 447.558326 \r\nL 187.127046 448.379394 \r\nL 190.335095 450.147288 \r\nL 193.543144 452.242031 \r\nL 196.751193 453.047212 \r\nL 199.959241 453.841427 \r\nL 203.16729 454.990676 \r\nL 206.375339 457.030688 \r\nL 209.583388 457.999755 \r\nL 212.791437 458.815596 \r\nL 215.999486 460.267095 \r\nL 219.207535 460.438975 \r\nL 222.415583 461.556657 \r\nL 225.623632 463.144266 \r\nL 228.831681 462.562109 \r\nL 232.03973 463.492946 \r\nL 235.247779 465.139694 \r\nL 238.455828 465.602345 \r\nL 241.663877 467.520084 \r\nL 244.871926 467.550421 \r\nL 248.079974 467.716972 \r\nL 251.288023 467.766988 \r\nL 254.496072 468.850334 \r\nL 257.704121 469.898936 \r\nL 260.91217 470.797181 \r\nL 264.120219 471.660783 \r\nL 267.328268 471.055769 \r\nL 270.536316 472.536069 \r\nL 273.744365 473.021269 \r\nL 276.952414 473.411663 \r\nL 280.160463 473.655083 \r\nL 283.368512 473.949237 \r\nL 286.576561 475.025511 \r\nL 289.78461 475.192881 \r\nL 292.992659 474.758313 \r\nL 296.200707 475.021821 \r\nL 299.408756 475.270263 \r\nL 302.616805 476.875706 \r\nL 305.824854 476.07278 \r\nL 309.032903 477.604224 \r\nL 312.240952 477.57901 \r\nL 315.449001 478.504211 \r\nL 318.657049 478.055191 \r\nL 321.865098 478.374353 \r\nL 325.073147 478.388702 \r\nL 328.281196 479.271675 \r\nL 331.489245 479.731764 \r\nL 334.697294 479.81591 \r\nL 337.905343 480.054308 \r\nL 341.113392 480.387921 \r\nL 344.32144 479.170105 \r\nL 347.529489 480.314947 \r\nL 350.737538 480.420207 \r\nL 353.945587 478.598914 \r\nL 357.153636 481.423506 \r\nL 360.361685 481.92572 \r\nL 363.569734 482.433775 \r\nL 366.777783 481.143906 \r\nL 369.985831 482.450174 \r\nL 373.19388 482.7432 \r\nL 376.401929 482.712145 \r\nL 379.609978 483.150403 \r\nL 382.818027 482.668073 \r\nL 386.026076 483.05857 \r\nL 389.234125 483.416371 \r\nL 392.442173 484.190293 \r\nL 395.650222 484.240412 \r\nL 398.858271 483.608647 \r\nL 402.06632 483.139744 \r\nL 405.274369 481.044386 \r\nL 408.482418 483.490576 \r\nL 411.690467 479.765484 \r\nL 414.898516 483.453576 \r\nL 418.106564 483.869183 \r\nL 421.314613 484.377239 \r\nL 424.522662 484.860594 \r\nL 427.730711 484.608872 \r\nL 430.93876 485.858052 \r\nL 434.146809 486.092247 \r\nL 437.354858 486.071339 \r\nL 440.562906 486.279911 \r\nL 443.770955 486.000004 \r\nL 446.979004 486.367747 \r\nL 450.187053 484.766608 \r\nL 453.395102 485.814082 \r\nL 456.603151 486.432727 \r\n\" style=\"fill:none;stroke:#008000;stroke-linecap:square;stroke-width:1.5;\"/>\r\n   </g>\r\n   <g id=\"line2d_32\">\r\n    <path clip-path=\"url(#paca1845fd9)\" d=\"M 87.677531 96.010913 \r\nL 90.88558 198.859527 \r\nL 94.093629 217.093567 \r\nL 97.301678 218.70475 \r\nL 100.509726 221.527498 \r\nL 103.717775 226.633779 \r\nL 106.925824 233.446049 \r\nL 110.133873 245.166175 \r\nL 113.341922 262.553012 \r\nL 116.549971 265.964887 \r\nL 119.75802 268.968636 \r\nL 122.966069 275.776602 \r\nL 126.174117 279.984434 \r\nL 129.382166 282.827475 \r\nL 132.590215 284.726662 \r\nL 135.798264 288.596166 \r\nL 139.006313 286.47252 \r\nL 142.214362 291.847639 \r\nL 145.422411 295.145952 \r\nL 148.630459 296.20921 \r\nL 151.838508 297.296554 \r\nL 155.046557 298.853826 \r\nL 158.254606 302.770988 \r\nL 161.462655 305.596298 \r\nL 164.670704 305.261763 \r\nL 167.878753 306.870178 \r\nL 171.086802 311.331679 \r\nL 174.29485 312.459302 \r\nL 177.502899 313.530042 \r\nL 180.710948 315.159879 \r\nL 183.918997 309.786809 \r\nL 187.127046 317.629847 \r\nL 190.335095 320.109552 \r\nL 193.543144 320.54207 \r\nL 196.751193 322.601965 \r\nL 199.959241 322.687547 \r\nL 203.16729 322.490761 \r\nL 206.375339 322.858402 \r\nL 209.583388 326.83911 \r\nL 212.791437 327.222945 \r\nL 215.999486 327.953307 \r\nL 219.207535 328.127237 \r\nL 222.415583 329.879142 \r\nL 225.623632 328.401609 \r\nL 228.831681 328.672292 \r\nL 232.03973 332.436844 \r\nL 235.247779 331.463779 \r\nL 238.455828 334.31174 \r\nL 241.663877 333.028738 \r\nL 244.871926 333.854931 \r\nL 248.079974 334.159641 \r\nL 251.288023 333.337958 \r\nL 254.496072 335.902527 \r\nL 257.704121 337.343367 \r\nL 260.91217 337.223041 \r\nL 264.120219 336.172492 \r\nL 267.328268 337.310672 \r\nL 270.536316 337.829079 \r\nL 273.744365 337.549787 \r\nL 276.952414 339.318194 \r\nL 280.160463 338.071884 \r\nL 283.368512 338.188008 \r\nL 286.576561 340.16591 \r\nL 289.78461 338.317764 \r\nL 292.992659 337.509815 \r\nL 296.200707 341.158653 \r\nL 299.408756 340.872493 \r\nL 302.616805 338.505325 \r\nL 305.824854 340.932964 \r\nL 309.032903 341.289945 \r\nL 312.240952 341.696738 \r\nL 315.449001 342.108554 \r\nL 318.657049 342.271414 \r\nL 321.865098 342.325633 \r\nL 325.073147 342.036091 \r\nL 328.281196 340.722034 \r\nL 331.489245 342.571307 \r\nL 334.697294 341.367122 \r\nL 337.905343 343.170479 \r\nL 341.113392 343.301362 \r\nL 344.32144 341.894139 \r\nL 347.529489 343.644404 \r\nL 350.737538 339.903836 \r\nL 353.945587 342.976255 \r\nL 357.153636 343.731421 \r\nL 360.361685 344.073028 \r\nL 363.569734 342.378109 \r\nL 366.777783 343.910065 \r\nL 369.985831 342.388768 \r\nL 373.19388 344.751939 \r\nL 376.401929 344.215288 \r\nL 379.609978 344.67056 \r\nL 382.818027 343.590596 \r\nL 386.026076 344.931916 \r\nL 389.234125 344.620031 \r\nL 392.442173 344.131039 \r\nL 395.650222 344.891226 \r\nL 398.858271 344.341764 \r\nL 402.06632 344.417198 \r\nL 405.274369 344.865911 \r\nL 408.482418 343.330265 \r\nL 411.690467 343.346254 \r\nL 414.898516 343.765141 \r\nL 418.106564 345.717726 \r\nL 421.314613 344.715144 \r\nL 424.522662 344.917567 \r\nL 427.730711 345.9469 \r\nL 430.93876 345.637167 \r\nL 434.146809 345.519301 \r\nL 437.354858 345.638705 \r\nL 440.562906 345.641369 \r\nL 443.770955 345.843382 \r\nL 446.979004 345.347011 \r\nL 450.187053 345.324052 \r\nL 453.395102 345.884379 \r\nL 456.603151 345.00735 \r\n\" style=\"fill:none;stroke:#4169e1;stroke-linecap:square;stroke-width:1.5;\"/>\r\n   </g>\r\n   <g id=\"patch_3\">\r\n    <path d=\"M 69.23125 506.2 \r\nL 69.23125 71.32 \r\n\" style=\"fill:none;stroke:#000000;stroke-linecap:square;stroke-linejoin:miter;stroke-width:0.8;\"/>\r\n   </g>\r\n   <g id=\"patch_4\">\r\n    <path d=\"M 475.049432 506.2 \r\nL 475.049432 71.32 \r\n\" style=\"fill:none;stroke:#000000;stroke-linecap:square;stroke-linejoin:miter;stroke-width:0.8;\"/>\r\n   </g>\r\n   <g id=\"patch_5\">\r\n    <path d=\"M 69.23125 506.2 \r\nL 475.049432 506.2 \r\n\" style=\"fill:none;stroke:#000000;stroke-linecap:square;stroke-linejoin:miter;stroke-width:0.8;\"/>\r\n   </g>\r\n   <g id=\"patch_6\">\r\n    <path d=\"M 69.23125 71.32 \r\nL 475.049432 71.32 \r\n\" style=\"fill:none;stroke:#000000;stroke-linecap:square;stroke-linejoin:miter;stroke-width:0.8;\"/>\r\n   </g>\r\n   <g id=\"text_18\">\r\n    <!-- Loss -->\r\n    <g transform=\"translate(258.979716 65.32)scale(0.12 -0.12)\">\r\n     <defs>\r\n      <path d=\"M 628 4666 \r\nL 1259 4666 \r\nL 1259 531 \r\nL 3531 531 \r\nL 3531 0 \r\nL 628 0 \r\nL 628 4666 \r\nz\r\n\" id=\"DejaVuSans-4c\" transform=\"scale(0.015625)\"/>\r\n     </defs>\r\n     <use xlink:href=\"#DejaVuSans-4c\"/>\r\n     <use x=\"53.962891\" xlink:href=\"#DejaVuSans-6f\"/>\r\n     <use x=\"115.144531\" xlink:href=\"#DejaVuSans-73\"/>\r\n     <use x=\"167.244141\" xlink:href=\"#DejaVuSans-73\"/>\r\n    </g>\r\n   </g>\r\n  </g>\r\n  <g id=\"axes_2\">\r\n   <g id=\"patch_7\">\r\n    <path d=\"M 556.213068 506.2 \r\nL 962.03125 506.2 \r\nL 962.03125 71.32 \r\nL 556.213068 71.32 \r\nz\r\n\" style=\"fill:#ffffff;\"/>\r\n   </g>\r\n   <g id=\"matplotlib.axis_3\">\r\n    <g id=\"xtick_8\">\r\n     <g id=\"line2d_33\">\r\n      <path clip-path=\"url(#pf08382d9f7)\" d=\"M 574.659349 506.2 \r\nL 574.659349 71.32 \r\n\" style=\"fill:none;stroke:#b0b0b0;stroke-linecap:square;stroke-width:0.8;\"/>\r\n     </g>\r\n     <g id=\"line2d_34\">\r\n      <g>\r\n       <use style=\"stroke:#000000;stroke-width:0.8;\" x=\"574.659349\" xlink:href=\"#m498c40affc\" y=\"506.2\"/>\r\n      </g>\r\n     </g>\r\n     <g id=\"text_19\">\r\n      <!-- 0 -->\r\n      <g transform=\"translate(571.478099 520.798438)scale(0.1 -0.1)\">\r\n       <use xlink:href=\"#DejaVuSans-30\"/>\r\n      </g>\r\n     </g>\r\n    </g>\r\n    <g id=\"xtick_9\">\r\n     <g id=\"line2d_35\">\r\n      <path clip-path=\"url(#pf08382d9f7)\" d=\"M 638.820327 506.2 \r\nL 638.820327 71.32 \r\n\" style=\"fill:none;stroke:#b0b0b0;stroke-linecap:square;stroke-width:0.8;\"/>\r\n     </g>\r\n     <g id=\"line2d_36\">\r\n      <g>\r\n       <use style=\"stroke:#000000;stroke-width:0.8;\" x=\"638.820327\" xlink:href=\"#m498c40affc\" y=\"506.2\"/>\r\n      </g>\r\n     </g>\r\n     <g id=\"text_20\">\r\n      <!-- 20 -->\r\n      <g transform=\"translate(632.457827 520.798438)scale(0.1 -0.1)\">\r\n       <use xlink:href=\"#DejaVuSans-32\"/>\r\n       <use x=\"63.623047\" xlink:href=\"#DejaVuSans-30\"/>\r\n      </g>\r\n     </g>\r\n    </g>\r\n    <g id=\"xtick_10\">\r\n     <g id=\"line2d_37\">\r\n      <path clip-path=\"url(#pf08382d9f7)\" d=\"M 702.981304 506.2 \r\nL 702.981304 71.32 \r\n\" style=\"fill:none;stroke:#b0b0b0;stroke-linecap:square;stroke-width:0.8;\"/>\r\n     </g>\r\n     <g id=\"line2d_38\">\r\n      <g>\r\n       <use style=\"stroke:#000000;stroke-width:0.8;\" x=\"702.981304\" xlink:href=\"#m498c40affc\" y=\"506.2\"/>\r\n      </g>\r\n     </g>\r\n     <g id=\"text_21\">\r\n      <!-- 40 -->\r\n      <g transform=\"translate(696.618804 520.798438)scale(0.1 -0.1)\">\r\n       <use xlink:href=\"#DejaVuSans-34\"/>\r\n       <use x=\"63.623047\" xlink:href=\"#DejaVuSans-30\"/>\r\n      </g>\r\n     </g>\r\n    </g>\r\n    <g id=\"xtick_11\">\r\n     <g id=\"line2d_39\">\r\n      <path clip-path=\"url(#pf08382d9f7)\" d=\"M 767.142281 506.2 \r\nL 767.142281 71.32 \r\n\" style=\"fill:none;stroke:#b0b0b0;stroke-linecap:square;stroke-width:0.8;\"/>\r\n     </g>\r\n     <g id=\"line2d_40\">\r\n      <g>\r\n       <use style=\"stroke:#000000;stroke-width:0.8;\" x=\"767.142281\" xlink:href=\"#m498c40affc\" y=\"506.2\"/>\r\n      </g>\r\n     </g>\r\n     <g id=\"text_22\">\r\n      <!-- 60 -->\r\n      <g transform=\"translate(760.779781 520.798438)scale(0.1 -0.1)\">\r\n       <use xlink:href=\"#DejaVuSans-36\"/>\r\n       <use x=\"63.623047\" xlink:href=\"#DejaVuSans-30\"/>\r\n      </g>\r\n     </g>\r\n    </g>\r\n    <g id=\"xtick_12\">\r\n     <g id=\"line2d_41\">\r\n      <path clip-path=\"url(#pf08382d9f7)\" d=\"M 831.303259 506.2 \r\nL 831.303259 71.32 \r\n\" style=\"fill:none;stroke:#b0b0b0;stroke-linecap:square;stroke-width:0.8;\"/>\r\n     </g>\r\n     <g id=\"line2d_42\">\r\n      <g>\r\n       <use style=\"stroke:#000000;stroke-width:0.8;\" x=\"831.303259\" xlink:href=\"#m498c40affc\" y=\"506.2\"/>\r\n      </g>\r\n     </g>\r\n     <g id=\"text_23\">\r\n      <!-- 80 -->\r\n      <g transform=\"translate(824.940759 520.798438)scale(0.1 -0.1)\">\r\n       <use xlink:href=\"#DejaVuSans-38\"/>\r\n       <use x=\"63.623047\" xlink:href=\"#DejaVuSans-30\"/>\r\n      </g>\r\n     </g>\r\n    </g>\r\n    <g id=\"xtick_13\">\r\n     <g id=\"line2d_43\">\r\n      <path clip-path=\"url(#pf08382d9f7)\" d=\"M 895.464236 506.2 \r\nL 895.464236 71.32 \r\n\" style=\"fill:none;stroke:#b0b0b0;stroke-linecap:square;stroke-width:0.8;\"/>\r\n     </g>\r\n     <g id=\"line2d_44\">\r\n      <g>\r\n       <use style=\"stroke:#000000;stroke-width:0.8;\" x=\"895.464236\" xlink:href=\"#m498c40affc\" y=\"506.2\"/>\r\n      </g>\r\n     </g>\r\n     <g id=\"text_24\">\r\n      <!-- 100 -->\r\n      <g transform=\"translate(885.920486 520.798438)scale(0.1 -0.1)\">\r\n       <use xlink:href=\"#DejaVuSans-31\"/>\r\n       <use x=\"63.623047\" xlink:href=\"#DejaVuSans-30\"/>\r\n       <use x=\"127.246094\" xlink:href=\"#DejaVuSans-30\"/>\r\n      </g>\r\n     </g>\r\n    </g>\r\n    <g id=\"xtick_14\">\r\n     <g id=\"line2d_45\">\r\n      <path clip-path=\"url(#pf08382d9f7)\" d=\"M 959.625213 506.2 \r\nL 959.625213 71.32 \r\n\" style=\"fill:none;stroke:#b0b0b0;stroke-linecap:square;stroke-width:0.8;\"/>\r\n     </g>\r\n     <g id=\"line2d_46\">\r\n      <g>\r\n       <use style=\"stroke:#000000;stroke-width:0.8;\" x=\"959.625213\" xlink:href=\"#m498c40affc\" y=\"506.2\"/>\r\n      </g>\r\n     </g>\r\n     <g id=\"text_25\">\r\n      <!-- 120 -->\r\n      <g transform=\"translate(950.081463 520.798438)scale(0.1 -0.1)\">\r\n       <use xlink:href=\"#DejaVuSans-31\"/>\r\n       <use x=\"63.623047\" xlink:href=\"#DejaVuSans-32\"/>\r\n       <use x=\"127.246094\" xlink:href=\"#DejaVuSans-30\"/>\r\n      </g>\r\n     </g>\r\n    </g>\r\n    <g id=\"text_26\">\r\n     <!-- Epoch [cycle] -->\r\n     <g transform=\"translate(725.397159 534.476563)scale(0.1 -0.1)\">\r\n      <use xlink:href=\"#DejaVuSans-45\"/>\r\n      <use x=\"63.183594\" xlink:href=\"#DejaVuSans-70\"/>\r\n      <use x=\"126.660156\" xlink:href=\"#DejaVuSans-6f\"/>\r\n      <use x=\"187.841797\" xlink:href=\"#DejaVuSans-63\"/>\r\n      <use x=\"242.822266\" xlink:href=\"#DejaVuSans-68\"/>\r\n      <use x=\"306.201172\" xlink:href=\"#DejaVuSans-20\"/>\r\n      <use x=\"337.988281\" xlink:href=\"#DejaVuSans-5b\"/>\r\n      <use x=\"377.001953\" xlink:href=\"#DejaVuSans-63\"/>\r\n      <use x=\"431.982422\" xlink:href=\"#DejaVuSans-79\"/>\r\n      <use x=\"491.162109\" xlink:href=\"#DejaVuSans-63\"/>\r\n      <use x=\"546.142578\" xlink:href=\"#DejaVuSans-6c\"/>\r\n      <use x=\"573.925781\" xlink:href=\"#DejaVuSans-65\"/>\r\n      <use x=\"635.449219\" xlink:href=\"#DejaVuSans-5d\"/>\r\n     </g>\r\n    </g>\r\n   </g>\r\n   <g id=\"matplotlib.axis_4\">\r\n    <g id=\"ytick_9\">\r\n     <g id=\"line2d_47\">\r\n      <path clip-path=\"url(#pf08382d9f7)\" d=\"M 556.213068 467.103398 \r\nL 962.03125 467.103398 \r\n\" style=\"fill:none;stroke:#b0b0b0;stroke-linecap:square;stroke-width:0.8;\"/>\r\n     </g>\r\n     <g id=\"line2d_48\">\r\n      <g>\r\n       <use style=\"stroke:#000000;stroke-width:0.8;\" x=\"556.213068\" xlink:href=\"#mcaf7197a95\" y=\"467.103398\"/>\r\n      </g>\r\n     </g>\r\n     <g id=\"text_27\">\r\n      <!-- 0.30 -->\r\n      <g transform=\"translate(526.947443 470.902616)scale(0.1 -0.1)\">\r\n       <defs>\r\n        <path d=\"M 2597 2516 \r\nQ 3050 2419 3304 2112 \r\nQ 3559 1806 3559 1356 \r\nQ 3559 666 3084 287 \r\nQ 2609 -91 1734 -91 \r\nQ 1441 -91 1130 -33 \r\nQ 819 25 488 141 \r\nL 488 750 \r\nQ 750 597 1062 519 \r\nQ 1375 441 1716 441 \r\nQ 2309 441 2620 675 \r\nQ 2931 909 2931 1356 \r\nQ 2931 1769 2642 2001 \r\nQ 2353 2234 1838 2234 \r\nL 1294 2234 \r\nL 1294 2753 \r\nL 1863 2753 \r\nQ 2328 2753 2575 2939 \r\nQ 2822 3125 2822 3475 \r\nQ 2822 3834 2567 4026 \r\nQ 2313 4219 1838 4219 \r\nQ 1578 4219 1281 4162 \r\nQ 984 4106 628 3988 \r\nL 628 4550 \r\nQ 988 4650 1302 4700 \r\nQ 1616 4750 1894 4750 \r\nQ 2613 4750 3031 4423 \r\nQ 3450 4097 3450 3541 \r\nQ 3450 3153 3228 2886 \r\nQ 3006 2619 2597 2516 \r\nz\r\n\" id=\"DejaVuSans-33\" transform=\"scale(0.015625)\"/>\r\n       </defs>\r\n       <use xlink:href=\"#DejaVuSans-30\"/>\r\n       <use x=\"63.623047\" xlink:href=\"#DejaVuSans-2e\"/>\r\n       <use x=\"95.410156\" xlink:href=\"#DejaVuSans-33\"/>\r\n       <use x=\"159.033203\" xlink:href=\"#DejaVuSans-30\"/>\r\n      </g>\r\n     </g>\r\n    </g>\r\n    <g id=\"ytick_10\">\r\n     <g id=\"line2d_49\">\r\n      <path clip-path=\"url(#pf08382d9f7)\" d=\"M 556.213068 411.251843 \r\nL 962.03125 411.251843 \r\n\" style=\"fill:none;stroke:#b0b0b0;stroke-linecap:square;stroke-width:0.8;\"/>\r\n     </g>\r\n     <g id=\"line2d_50\">\r\n      <g>\r\n       <use style=\"stroke:#000000;stroke-width:0.8;\" x=\"556.213068\" xlink:href=\"#mcaf7197a95\" y=\"411.251843\"/>\r\n      </g>\r\n     </g>\r\n     <g id=\"text_28\">\r\n      <!-- 0.35 -->\r\n      <g transform=\"translate(526.947443 415.051061)scale(0.1 -0.1)\">\r\n       <use xlink:href=\"#DejaVuSans-30\"/>\r\n       <use x=\"63.623047\" xlink:href=\"#DejaVuSans-2e\"/>\r\n       <use x=\"95.410156\" xlink:href=\"#DejaVuSans-33\"/>\r\n       <use x=\"159.033203\" xlink:href=\"#DejaVuSans-35\"/>\r\n      </g>\r\n     </g>\r\n    </g>\r\n    <g id=\"ytick_11\">\r\n     <g id=\"line2d_51\">\r\n      <path clip-path=\"url(#pf08382d9f7)\" d=\"M 556.213068 355.400287 \r\nL 962.03125 355.400287 \r\n\" style=\"fill:none;stroke:#b0b0b0;stroke-linecap:square;stroke-width:0.8;\"/>\r\n     </g>\r\n     <g id=\"line2d_52\">\r\n      <g>\r\n       <use style=\"stroke:#000000;stroke-width:0.8;\" x=\"556.213068\" xlink:href=\"#mcaf7197a95\" y=\"355.400287\"/>\r\n      </g>\r\n     </g>\r\n     <g id=\"text_29\">\r\n      <!-- 0.40 -->\r\n      <g transform=\"translate(526.947443 359.199506)scale(0.1 -0.1)\">\r\n       <use xlink:href=\"#DejaVuSans-30\"/>\r\n       <use x=\"63.623047\" xlink:href=\"#DejaVuSans-2e\"/>\r\n       <use x=\"95.410156\" xlink:href=\"#DejaVuSans-34\"/>\r\n       <use x=\"159.033203\" xlink:href=\"#DejaVuSans-30\"/>\r\n      </g>\r\n     </g>\r\n    </g>\r\n    <g id=\"ytick_12\">\r\n     <g id=\"line2d_53\">\r\n      <path clip-path=\"url(#pf08382d9f7)\" d=\"M 556.213068 299.548732 \r\nL 962.03125 299.548732 \r\n\" style=\"fill:none;stroke:#b0b0b0;stroke-linecap:square;stroke-width:0.8;\"/>\r\n     </g>\r\n     <g id=\"line2d_54\">\r\n      <g>\r\n       <use style=\"stroke:#000000;stroke-width:0.8;\" x=\"556.213068\" xlink:href=\"#mcaf7197a95\" y=\"299.548732\"/>\r\n      </g>\r\n     </g>\r\n     <g id=\"text_30\">\r\n      <!-- 0.45 -->\r\n      <g transform=\"translate(526.947443 303.347951)scale(0.1 -0.1)\">\r\n       <use xlink:href=\"#DejaVuSans-30\"/>\r\n       <use x=\"63.623047\" xlink:href=\"#DejaVuSans-2e\"/>\r\n       <use x=\"95.410156\" xlink:href=\"#DejaVuSans-34\"/>\r\n       <use x=\"159.033203\" xlink:href=\"#DejaVuSans-35\"/>\r\n      </g>\r\n     </g>\r\n    </g>\r\n    <g id=\"ytick_13\">\r\n     <g id=\"line2d_55\">\r\n      <path clip-path=\"url(#pf08382d9f7)\" d=\"M 556.213068 243.697177 \r\nL 962.03125 243.697177 \r\n\" style=\"fill:none;stroke:#b0b0b0;stroke-linecap:square;stroke-width:0.8;\"/>\r\n     </g>\r\n     <g id=\"line2d_56\">\r\n      <g>\r\n       <use style=\"stroke:#000000;stroke-width:0.8;\" x=\"556.213068\" xlink:href=\"#mcaf7197a95\" y=\"243.697177\"/>\r\n      </g>\r\n     </g>\r\n     <g id=\"text_31\">\r\n      <!-- 0.50 -->\r\n      <g transform=\"translate(526.947443 247.496396)scale(0.1 -0.1)\">\r\n       <use xlink:href=\"#DejaVuSans-30\"/>\r\n       <use x=\"63.623047\" xlink:href=\"#DejaVuSans-2e\"/>\r\n       <use x=\"95.410156\" xlink:href=\"#DejaVuSans-35\"/>\r\n       <use x=\"159.033203\" xlink:href=\"#DejaVuSans-30\"/>\r\n      </g>\r\n     </g>\r\n    </g>\r\n    <g id=\"ytick_14\">\r\n     <g id=\"line2d_57\">\r\n      <path clip-path=\"url(#pf08382d9f7)\" d=\"M 556.213068 187.845622 \r\nL 962.03125 187.845622 \r\n\" style=\"fill:none;stroke:#b0b0b0;stroke-linecap:square;stroke-width:0.8;\"/>\r\n     </g>\r\n     <g id=\"line2d_58\">\r\n      <g>\r\n       <use style=\"stroke:#000000;stroke-width:0.8;\" x=\"556.213068\" xlink:href=\"#mcaf7197a95\" y=\"187.845622\"/>\r\n      </g>\r\n     </g>\r\n     <g id=\"text_32\">\r\n      <!-- 0.55 -->\r\n      <g transform=\"translate(526.947443 191.644841)scale(0.1 -0.1)\">\r\n       <use xlink:href=\"#DejaVuSans-30\"/>\r\n       <use x=\"63.623047\" xlink:href=\"#DejaVuSans-2e\"/>\r\n       <use x=\"95.410156\" xlink:href=\"#DejaVuSans-35\"/>\r\n       <use x=\"159.033203\" xlink:href=\"#DejaVuSans-35\"/>\r\n      </g>\r\n     </g>\r\n    </g>\r\n    <g id=\"ytick_15\">\r\n     <g id=\"line2d_59\">\r\n      <path clip-path=\"url(#pf08382d9f7)\" d=\"M 556.213068 131.994067 \r\nL 962.03125 131.994067 \r\n\" style=\"fill:none;stroke:#b0b0b0;stroke-linecap:square;stroke-width:0.8;\"/>\r\n     </g>\r\n     <g id=\"line2d_60\">\r\n      <g>\r\n       <use style=\"stroke:#000000;stroke-width:0.8;\" x=\"556.213068\" xlink:href=\"#mcaf7197a95\" y=\"131.994067\"/>\r\n      </g>\r\n     </g>\r\n     <g id=\"text_33\">\r\n      <!-- 0.60 -->\r\n      <g transform=\"translate(526.947443 135.793286)scale(0.1 -0.1)\">\r\n       <use xlink:href=\"#DejaVuSans-30\"/>\r\n       <use x=\"63.623047\" xlink:href=\"#DejaVuSans-2e\"/>\r\n       <use x=\"95.410156\" xlink:href=\"#DejaVuSans-36\"/>\r\n       <use x=\"159.033203\" xlink:href=\"#DejaVuSans-30\"/>\r\n      </g>\r\n     </g>\r\n    </g>\r\n    <g id=\"ytick_16\">\r\n     <g id=\"line2d_61\">\r\n      <path clip-path=\"url(#pf08382d9f7)\" d=\"M 556.213068 76.142512 \r\nL 962.03125 76.142512 \r\n\" style=\"fill:none;stroke:#b0b0b0;stroke-linecap:square;stroke-width:0.8;\"/>\r\n     </g>\r\n     <g id=\"line2d_62\">\r\n      <g>\r\n       <use style=\"stroke:#000000;stroke-width:0.8;\" x=\"556.213068\" xlink:href=\"#mcaf7197a95\" y=\"76.142512\"/>\r\n      </g>\r\n     </g>\r\n     <g id=\"text_34\">\r\n      <!-- 0.65 -->\r\n      <g transform=\"translate(526.947443 79.941731)scale(0.1 -0.1)\">\r\n       <use xlink:href=\"#DejaVuSans-30\"/>\r\n       <use x=\"63.623047\" xlink:href=\"#DejaVuSans-2e\"/>\r\n       <use x=\"95.410156\" xlink:href=\"#DejaVuSans-36\"/>\r\n       <use x=\"159.033203\" xlink:href=\"#DejaVuSans-35\"/>\r\n      </g>\r\n     </g>\r\n    </g>\r\n    <g id=\"text_35\">\r\n     <!-- Acc [%] -->\r\n     <g transform=\"translate(520.867756 307.832656)rotate(-90)scale(0.1 -0.1)\">\r\n      <defs>\r\n       <path d=\"M 2188 4044 \r\nL 1331 1722 \r\nL 3047 1722 \r\nL 2188 4044 \r\nz\r\nM 1831 4666 \r\nL 2547 4666 \r\nL 4325 0 \r\nL 3669 0 \r\nL 3244 1197 \r\nL 1141 1197 \r\nL 716 0 \r\nL 50 0 \r\nL 1831 4666 \r\nz\r\n\" id=\"DejaVuSans-41\" transform=\"scale(0.015625)\"/>\r\n      </defs>\r\n      <use xlink:href=\"#DejaVuSans-41\"/>\r\n      <use x=\"66.658203\" xlink:href=\"#DejaVuSans-63\"/>\r\n      <use x=\"121.638672\" xlink:href=\"#DejaVuSans-63\"/>\r\n      <use x=\"176.619141\" xlink:href=\"#DejaVuSans-20\"/>\r\n      <use x=\"208.40625\" xlink:href=\"#DejaVuSans-5b\"/>\r\n      <use x=\"247.419922\" xlink:href=\"#DejaVuSans-25\"/>\r\n      <use x=\"342.439453\" xlink:href=\"#DejaVuSans-5d\"/>\r\n     </g>\r\n    </g>\r\n   </g>\r\n   <g id=\"line2d_63\">\r\n    <path clip-path=\"url(#pf08382d9f7)\" d=\"M 574.659349 427.114692 \r\nL 577.867398 435.581701 \r\nL 581.075447 442.008459 \r\nL 584.283496 436.397809 \r\nL 587.491545 427.726764 \r\nL 590.699594 432.113303 \r\nL 593.907642 431.093161 \r\nL 597.115691 426.400619 \r\nL 600.32374 386.411926 \r\nL 603.531789 365.295436 \r\nL 606.739838 361.316967 \r\nL 609.947887 343.464874 \r\nL 613.155936 343.566908 \r\nL 616.363984 321.022239 \r\nL 619.572033 320.716203 \r\nL 622.780082 311.841189 \r\nL 625.988131 304.90436 \r\nL 629.19618 297.151457 \r\nL 632.404229 293.581025 \r\nL 635.612278 283.277833 \r\nL 638.820327 281.237581 \r\nL 642.028375 276.443005 \r\nL 645.236424 268.180064 \r\nL 648.444473 260.223126 \r\nL 651.652522 254.816477 \r\nL 654.860571 249.307828 \r\nL 658.06862 248.593755 \r\nL 661.276669 249.511863 \r\nL 664.484717 235.230168 \r\nL 667.692766 233.700021 \r\nL 670.900815 226.049085 \r\nL 674.108864 215.235855 \r\nL 677.316913 213.399638 \r\nL 680.524962 205.748703 \r\nL 683.733011 201.974269 \r\nL 686.94106 209.421136 \r\nL 690.149108 202.790343 \r\nL 693.357157 188.40668 \r\nL 696.565206 192.079113 \r\nL 699.773255 190.548966 \r\nL 702.981304 183.408102 \r\nL 706.189353 174.329021 \r\nL 709.397402 177.389381 \r\nL 712.605451 174.22702 \r\nL 715.813499 168.004297 \r\nL 719.021548 172.696873 \r\nL 722.229597 161.373504 \r\nL 725.437646 160.659431 \r\nL 728.645695 157.293068 \r\nL 731.853744 161.679574 \r\nL 735.061793 160.14936 \r\nL 738.269841 155.660853 \r\nL 741.47789 153.518567 \r\nL 744.685939 146.887841 \r\nL 747.893988 143.929481 \r\nL 751.102037 137.91076 \r\nL 754.310086 145.867698 \r\nL 757.518135 139.134904 \r\nL 760.726184 137.50269 \r\nL 763.934232 130.565894 \r\nL 767.142281 139.440974 \r\nL 770.35033 130.871963 \r\nL 773.558379 132.606112 \r\nL 776.766428 131.586037 \r\nL 779.974477 134.748398 \r\nL 783.182526 138.624833 \r\nL 786.390574 135.462471 \r\nL 789.598623 127.709535 \r\nL 792.806672 134.136326 \r\nL 796.014721 125.567316 \r\nL 799.22277 119.140591 \r\nL 802.430819 125.771318 \r\nL 805.638868 124.037102 \r\nL 808.846917 115.876162 \r\nL 812.054965 128.627677 \r\nL 815.263014 127.811603 \r\nL 818.471063 123.8331 \r\nL 821.679112 116.794304 \r\nL 824.887161 119.854665 \r\nL 828.09521 112.917802 \r\nL 831.303259 127.709535 \r\nL 834.511307 115.366091 \r\nL 837.719356 113.937945 \r\nL 840.927405 124.241171 \r\nL 844.135454 111.183653 \r\nL 847.343503 111.489656 \r\nL 850.551552 103.838787 \r\nL 853.759601 127.19953 \r\nL 856.96765 108.531296 \r\nL 860.175698 111.591657 \r\nL 863.383747 116.998306 \r\nL 866.591796 106.593079 \r\nL 869.799845 109.143368 \r\nL 873.007894 111.387655 \r\nL 876.215943 104.14479 \r\nL 879.423992 104.55286 \r\nL 882.632041 97.207994 \r\nL 885.840089 103.022647 \r\nL 889.048138 99.044211 \r\nL 892.256187 116.080231 \r\nL 895.464236 101.5945 \r\nL 898.672285 131.279967 \r\nL 901.880334 115.366091 \r\nL 905.088383 100.880427 \r\nL 908.296431 104.246791 \r\nL 911.50448 98.228137 \r\nL 914.712529 100.370356 \r\nL 917.920578 91.189274 \r\nL 921.128627 91.087273 \r\nL 924.336676 98.636141 \r\nL 927.544725 91.189274 \r\nL 930.752774 93.02549 \r\nL 933.960822 93.127491 \r\nL 937.168871 99.248213 \r\nL 940.37692 92.821488 \r\nL 943.584969 93.943632 \r\n\" style=\"fill:none;stroke:#008000;stroke-linecap:square;stroke-width:1.5;\"/>\r\n   </g>\r\n   <g id=\"line2d_64\">\r\n    <path clip-path=\"url(#pf08382d9f7)\" d=\"M 574.659349 486.432727 \r\nL 577.867398 474.224741 \r\nL 581.075447 453.064208 \r\nL 584.283496 453.064208 \r\nL 587.491545 455.505805 \r\nL 590.699594 454.691928 \r\nL 593.907642 454.691928 \r\nL 597.115691 429.055173 \r\nL 600.32374 393.245056 \r\nL 603.531789 385.106387 \r\nL 606.739838 389.582644 \r\nL 609.947887 356.621096 \r\nL 613.155936 359.876537 \r\nL 616.363984 350.110148 \r\nL 619.572033 348.482427 \r\nL 622.780082 344.006171 \r\nL 625.988131 337.088317 \r\nL 629.19618 335.460564 \r\nL 632.404229 322.845638 \r\nL 635.612278 313.893126 \r\nL 638.820327 289.884058 \r\nL 642.028375 289.884058 \r\nL 645.236424 289.884058 \r\nL 648.444473 267.502743 \r\nL 651.652522 283.373142 \r\nL 654.860571 280.931545 \r\nL 658.06862 263.433425 \r\nL 661.276669 260.177951 \r\nL 664.484717 254.480913 \r\nL 667.692766 245.528367 \r\nL 670.900815 230.878816 \r\nL 674.108864 219.891611 \r\nL 677.316913 209.718284 \r\nL 680.524962 207.683591 \r\nL 683.733011 217.043042 \r\nL 686.94106 210.125222 \r\nL 690.149108 219.891611 \r\nL 693.357157 213.380663 \r\nL 696.565206 200.765771 \r\nL 699.773255 197.103325 \r\nL 702.981304 184.081495 \r\nL 706.189353 191.406254 \r\nL 709.397402 190.185505 \r\nL 712.605451 194.661761 \r\nL 715.813499 197.103325 \r\nL 719.021548 149.085255 \r\nL 722.229597 190.185505 \r\nL 725.437646 150.30607 \r\nL 728.645695 182.453741 \r\nL 731.853744 156.41008 \r\nL 735.061793 165.769531 \r\nL 738.269841 155.189265 \r\nL 741.47789 145.829814 \r\nL 744.685939 134.842609 \r\nL 747.893988 139.318866 \r\nL 751.102037 155.596203 \r\nL 754.310086 150.713009 \r\nL 757.518135 147.050563 \r\nL 760.726184 148.678317 \r\nL 763.934232 129.145538 \r\nL 767.142281 156.41008 \r\nL 770.35033 141.76043 \r\nL 773.558379 123.448466 \r\nL 776.766428 137.691112 \r\nL 779.974477 153.561511 \r\nL 783.182526 129.552476 \r\nL 786.390574 151.119947 \r\nL 789.598623 175.942859 \r\nL 792.806672 128.331661 \r\nL 796.014721 134.842609 \r\nL 799.22277 145.422876 \r\nL 802.430819 139.318866 \r\nL 805.638868 125.07622 \r\nL 808.846917 118.158333 \r\nL 812.054965 131.587102 \r\nL 815.263014 133.214856 \r\nL 818.471063 124.262343 \r\nL 821.679112 134.028732 \r\nL 824.887161 133.621794 \r\nL 828.09521 122.227651 \r\nL 831.303259 118.158333 \r\nL 834.511307 119.786087 \r\nL 837.719356 136.470363 \r\nL 840.927405 124.262343 \r\nL 844.135454 135.656486 \r\nL 847.343503 103.508749 \r\nL 850.551552 133.214856 \r\nL 853.759601 112.054323 \r\nL 856.96765 125.07622 \r\nL 860.175698 114.902892 \r\nL 863.383747 97.404739 \r\nL 866.591796 98.625554 \r\nL 869.799845 117.344456 \r\nL 873.007894 120.599964 \r\nL 876.215943 116.530646 \r\nL 879.423992 112.461262 \r\nL 882.632041 113.275138 \r\nL 885.840089 118.97221 \r\nL 889.048138 119.379148 \r\nL 892.256187 99.84637 \r\nL 895.464236 113.682077 \r\nL 898.672285 112.461262 \r\nL 901.880334 93.74236 \r\nL 905.088383 103.101811 \r\nL 908.296431 116.530646 \r\nL 911.50448 116.530646 \r\nL 914.712529 107.578067 \r\nL 917.920578 102.287934 \r\nL 921.128627 92.521544 \r\nL 924.336676 103.101811 \r\nL 927.544725 115.716769 \r\nL 930.752774 98.625554 \r\nL 933.960822 112.054323 \r\nL 937.168871 99.032493 \r\nL 940.37692 96.997801 \r\nL 943.584969 98.625554 \r\n\" style=\"fill:none;stroke:#4169e1;stroke-linecap:square;stroke-width:1.5;\"/>\r\n   </g>\r\n   <g id=\"patch_8\">\r\n    <path d=\"M 556.213068 506.2 \r\nL 556.213068 71.32 \r\n\" style=\"fill:none;stroke:#000000;stroke-linecap:square;stroke-linejoin:miter;stroke-width:0.8;\"/>\r\n   </g>\r\n   <g id=\"patch_9\">\r\n    <path d=\"M 962.03125 506.2 \r\nL 962.03125 71.32 \r\n\" style=\"fill:none;stroke:#000000;stroke-linecap:square;stroke-linejoin:miter;stroke-width:0.8;\"/>\r\n   </g>\r\n   <g id=\"patch_10\">\r\n    <path d=\"M 556.213068 506.2 \r\nL 962.03125 506.2 \r\n\" style=\"fill:none;stroke:#000000;stroke-linecap:square;stroke-linejoin:miter;stroke-width:0.8;\"/>\r\n   </g>\r\n   <g id=\"patch_11\">\r\n    <path d=\"M 556.213068 71.32 \r\nL 962.03125 71.32 \r\n\" style=\"fill:none;stroke:#000000;stroke-linecap:square;stroke-linejoin:miter;stroke-width:0.8;\"/>\r\n   </g>\r\n   <g id=\"text_36\">\r\n    <!-- Accuracy -->\r\n    <g transform=\"translate(731.728409 65.32)scale(0.12 -0.12)\">\r\n     <defs>\r\n      <path d=\"M 544 1381 \r\nL 544 3500 \r\nL 1119 3500 \r\nL 1119 1403 \r\nQ 1119 906 1312 657 \r\nQ 1506 409 1894 409 \r\nQ 2359 409 2629 706 \r\nQ 2900 1003 2900 1516 \r\nL 2900 3500 \r\nL 3475 3500 \r\nL 3475 0 \r\nL 2900 0 \r\nL 2900 538 \r\nQ 2691 219 2414 64 \r\nQ 2138 -91 1772 -91 \r\nQ 1169 -91 856 284 \r\nQ 544 659 544 1381 \r\nz\r\nM 1991 3584 \r\nL 1991 3584 \r\nz\r\n\" id=\"DejaVuSans-75\" transform=\"scale(0.015625)\"/>\r\n      <path d=\"M 2631 2963 \r\nQ 2534 3019 2420 3045 \r\nQ 2306 3072 2169 3072 \r\nQ 1681 3072 1420 2755 \r\nQ 1159 2438 1159 1844 \r\nL 1159 0 \r\nL 581 0 \r\nL 581 3500 \r\nL 1159 3500 \r\nL 1159 2956 \r\nQ 1341 3275 1631 3429 \r\nQ 1922 3584 2338 3584 \r\nQ 2397 3584 2469 3576 \r\nQ 2541 3569 2628 3553 \r\nL 2631 2963 \r\nz\r\n\" id=\"DejaVuSans-72\" transform=\"scale(0.015625)\"/>\r\n      <path d=\"M 2194 1759 \r\nQ 1497 1759 1228 1600 \r\nQ 959 1441 959 1056 \r\nQ 959 750 1161 570 \r\nQ 1363 391 1709 391 \r\nQ 2188 391 2477 730 \r\nQ 2766 1069 2766 1631 \r\nL 2766 1759 \r\nL 2194 1759 \r\nz\r\nM 3341 1997 \r\nL 3341 0 \r\nL 2766 0 \r\nL 2766 531 \r\nQ 2569 213 2275 61 \r\nQ 1981 -91 1556 -91 \r\nQ 1019 -91 701 211 \r\nQ 384 513 384 1019 \r\nQ 384 1609 779 1909 \r\nQ 1175 2209 1959 2209 \r\nL 2766 2209 \r\nL 2766 2266 \r\nQ 2766 2663 2505 2880 \r\nQ 2244 3097 1772 3097 \r\nQ 1472 3097 1187 3025 \r\nQ 903 2953 641 2809 \r\nL 641 3341 \r\nQ 956 3463 1253 3523 \r\nQ 1550 3584 1831 3584 \r\nQ 2591 3584 2966 3190 \r\nQ 3341 2797 3341 1997 \r\nz\r\n\" id=\"DejaVuSans-61\" transform=\"scale(0.015625)\"/>\r\n     </defs>\r\n     <use xlink:href=\"#DejaVuSans-41\"/>\r\n     <use x=\"66.658203\" xlink:href=\"#DejaVuSans-63\"/>\r\n     <use x=\"121.638672\" xlink:href=\"#DejaVuSans-63\"/>\r\n     <use x=\"176.619141\" xlink:href=\"#DejaVuSans-75\"/>\r\n     <use x=\"239.998047\" xlink:href=\"#DejaVuSans-72\"/>\r\n     <use x=\"281.111328\" xlink:href=\"#DejaVuSans-61\"/>\r\n     <use x=\"342.390625\" xlink:href=\"#DejaVuSans-63\"/>\r\n     <use x=\"397.371094\" xlink:href=\"#DejaVuSans-79\"/>\r\n    </g>\r\n   </g>\r\n  </g>\r\n  <g id=\"text_37\">\r\n   <!-- LEARNING BEHAVIOR -->\r\n   <g transform=\"translate(437.611563 22.838125)scale(0.12 -0.12)\">\r\n    <defs>\r\n     <path d=\"M 2841 2188 \r\nQ 3044 2119 3236 1894 \r\nQ 3428 1669 3622 1275 \r\nL 4263 0 \r\nL 3584 0 \r\nL 2988 1197 \r\nQ 2756 1666 2539 1819 \r\nQ 2322 1972 1947 1972 \r\nL 1259 1972 \r\nL 1259 0 \r\nL 628 0 \r\nL 628 4666 \r\nL 2053 4666 \r\nQ 2853 4666 3247 4331 \r\nQ 3641 3997 3641 3322 \r\nQ 3641 2881 3436 2590 \r\nQ 3231 2300 2841 2188 \r\nz\r\nM 1259 4147 \r\nL 1259 2491 \r\nL 2053 2491 \r\nQ 2509 2491 2742 2702 \r\nQ 2975 2913 2975 3322 \r\nQ 2975 3731 2742 3939 \r\nQ 2509 4147 2053 4147 \r\nL 1259 4147 \r\nz\r\n\" id=\"DejaVuSans-52\" transform=\"scale(0.015625)\"/>\r\n     <path d=\"M 628 4666 \r\nL 1478 4666 \r\nL 3547 763 \r\nL 3547 4666 \r\nL 4159 4666 \r\nL 4159 0 \r\nL 3309 0 \r\nL 1241 3903 \r\nL 1241 0 \r\nL 628 0 \r\nL 628 4666 \r\nz\r\n\" id=\"DejaVuSans-4e\" transform=\"scale(0.015625)\"/>\r\n     <path d=\"M 628 4666 \r\nL 1259 4666 \r\nL 1259 0 \r\nL 628 0 \r\nL 628 4666 \r\nz\r\n\" id=\"DejaVuSans-49\" transform=\"scale(0.015625)\"/>\r\n     <path d=\"M 3809 666 \r\nL 3809 1919 \r\nL 2778 1919 \r\nL 2778 2438 \r\nL 4434 2438 \r\nL 4434 434 \r\nQ 4069 175 3628 42 \r\nQ 3188 -91 2688 -91 \r\nQ 1594 -91 976 548 \r\nQ 359 1188 359 2328 \r\nQ 359 3472 976 4111 \r\nQ 1594 4750 2688 4750 \r\nQ 3144 4750 3555 4637 \r\nQ 3966 4525 4313 4306 \r\nL 4313 3634 \r\nQ 3963 3931 3569 4081 \r\nQ 3175 4231 2741 4231 \r\nQ 1884 4231 1454 3753 \r\nQ 1025 3275 1025 2328 \r\nQ 1025 1384 1454 906 \r\nQ 1884 428 2741 428 \r\nQ 3075 428 3337 486 \r\nQ 3600 544 3809 666 \r\nz\r\n\" id=\"DejaVuSans-47\" transform=\"scale(0.015625)\"/>\r\n     <path d=\"M 1259 2228 \r\nL 1259 519 \r\nL 2272 519 \r\nQ 2781 519 3026 730 \r\nQ 3272 941 3272 1375 \r\nQ 3272 1813 3026 2020 \r\nQ 2781 2228 2272 2228 \r\nL 1259 2228 \r\nz\r\nM 1259 4147 \r\nL 1259 2741 \r\nL 2194 2741 \r\nQ 2656 2741 2882 2914 \r\nQ 3109 3088 3109 3444 \r\nQ 3109 3797 2882 3972 \r\nQ 2656 4147 2194 4147 \r\nL 1259 4147 \r\nz\r\nM 628 4666 \r\nL 2241 4666 \r\nQ 2963 4666 3353 4366 \r\nQ 3744 4066 3744 3513 \r\nQ 3744 3084 3544 2831 \r\nQ 3344 2578 2956 2516 \r\nQ 3422 2416 3680 2098 \r\nQ 3938 1781 3938 1306 \r\nQ 3938 681 3513 340 \r\nQ 3088 0 2303 0 \r\nL 628 0 \r\nL 628 4666 \r\nz\r\n\" id=\"DejaVuSans-42\" transform=\"scale(0.015625)\"/>\r\n     <path d=\"M 628 4666 \r\nL 1259 4666 \r\nL 1259 2753 \r\nL 3553 2753 \r\nL 3553 4666 \r\nL 4184 4666 \r\nL 4184 0 \r\nL 3553 0 \r\nL 3553 2222 \r\nL 1259 2222 \r\nL 1259 0 \r\nL 628 0 \r\nL 628 4666 \r\nz\r\n\" id=\"DejaVuSans-48\" transform=\"scale(0.015625)\"/>\r\n     <path d=\"M 1831 0 \r\nL 50 4666 \r\nL 709 4666 \r\nL 2188 738 \r\nL 3669 4666 \r\nL 4325 4666 \r\nL 2547 0 \r\nL 1831 0 \r\nz\r\n\" id=\"DejaVuSans-56\" transform=\"scale(0.015625)\"/>\r\n     <path d=\"M 2522 4238 \r\nQ 1834 4238 1429 3725 \r\nQ 1025 3213 1025 2328 \r\nQ 1025 1447 1429 934 \r\nQ 1834 422 2522 422 \r\nQ 3209 422 3611 934 \r\nQ 4013 1447 4013 2328 \r\nQ 4013 3213 3611 3725 \r\nQ 3209 4238 2522 4238 \r\nz\r\nM 2522 4750 \r\nQ 3503 4750 4090 4092 \r\nQ 4678 3434 4678 2328 \r\nQ 4678 1225 4090 567 \r\nQ 3503 -91 2522 -91 \r\nQ 1538 -91 948 565 \r\nQ 359 1222 359 2328 \r\nQ 359 3434 948 4092 \r\nQ 1538 4750 2522 4750 \r\nz\r\n\" id=\"DejaVuSans-4f\" transform=\"scale(0.015625)\"/>\r\n    </defs>\r\n    <use xlink:href=\"#DejaVuSans-4c\"/>\r\n    <use x=\"55.712891\" xlink:href=\"#DejaVuSans-45\"/>\r\n    <use x=\"118.896484\" xlink:href=\"#DejaVuSans-41\"/>\r\n    <use x=\"187.304688\" xlink:href=\"#DejaVuSans-52\"/>\r\n    <use x=\"256.787109\" xlink:href=\"#DejaVuSans-4e\"/>\r\n    <use x=\"331.591797\" xlink:href=\"#DejaVuSans-49\"/>\r\n    <use x=\"361.083984\" xlink:href=\"#DejaVuSans-4e\"/>\r\n    <use x=\"435.888672\" xlink:href=\"#DejaVuSans-47\"/>\r\n    <use x=\"513.378906\" xlink:href=\"#DejaVuSans-20\"/>\r\n    <use x=\"545.166016\" xlink:href=\"#DejaVuSans-42\"/>\r\n    <use x=\"613.769531\" xlink:href=\"#DejaVuSans-45\"/>\r\n    <use x=\"676.953125\" xlink:href=\"#DejaVuSans-48\"/>\r\n    <use x=\"752.148438\" xlink:href=\"#DejaVuSans-41\"/>\r\n    <use x=\"814.181641\" xlink:href=\"#DejaVuSans-56\"/>\r\n    <use x=\"882.589844\" xlink:href=\"#DejaVuSans-49\"/>\r\n    <use x=\"912.082031\" xlink:href=\"#DejaVuSans-4f\"/>\r\n    <use x=\"990.792969\" xlink:href=\"#DejaVuSans-52\"/>\r\n   </g>\r\n  </g>\r\n  <g id=\"legend_1\">\r\n   <g id=\"patch_12\">\r\n    <path d=\"M 967.609375 66.7125 \r\nL 1072.43125 66.7125 \r\nQ 1074.43125 66.7125 1074.43125 64.7125 \r\nL 1074.43125 7 \r\nQ 1074.43125 5 1072.43125 5 \r\nL 967.609375 5 \r\nQ 965.609375 5 965.609375 7 \r\nL 965.609375 64.7125 \r\nQ 965.609375 66.7125 967.609375 66.7125 \r\nz\r\n\" style=\"fill:#ffffff;opacity:0.8;stroke:#cccccc;stroke-linejoin:miter;\"/>\r\n   </g>\r\n   <g id=\"line2d_65\">\r\n    <path d=\"M 969.609375 13.098437 \r\nL 989.609375 13.098437 \r\n\" style=\"fill:none;stroke:#008000;stroke-linecap:square;stroke-width:1.5;\"/>\r\n   </g>\r\n   <g id=\"line2d_66\"/>\r\n   <g id=\"text_38\">\r\n    <!-- Train Loss -->\r\n    <g transform=\"translate(997.609375 16.598437)scale(0.1 -0.1)\">\r\n     <defs>\r\n      <path d=\"M -19 4666 \r\nL 3928 4666 \r\nL 3928 4134 \r\nL 2272 4134 \r\nL 2272 0 \r\nL 1638 0 \r\nL 1638 4134 \r\nL -19 4134 \r\nL -19 4666 \r\nz\r\n\" id=\"DejaVuSans-54\" transform=\"scale(0.015625)\"/>\r\n      <path d=\"M 603 3500 \r\nL 1178 3500 \r\nL 1178 0 \r\nL 603 0 \r\nL 603 3500 \r\nz\r\nM 603 4863 \r\nL 1178 4863 \r\nL 1178 4134 \r\nL 603 4134 \r\nL 603 4863 \r\nz\r\n\" id=\"DejaVuSans-69\" transform=\"scale(0.015625)\"/>\r\n      <path d=\"M 3513 2113 \r\nL 3513 0 \r\nL 2938 0 \r\nL 2938 2094 \r\nQ 2938 2591 2744 2837 \r\nQ 2550 3084 2163 3084 \r\nQ 1697 3084 1428 2787 \r\nQ 1159 2491 1159 1978 \r\nL 1159 0 \r\nL 581 0 \r\nL 581 3500 \r\nL 1159 3500 \r\nL 1159 2956 \r\nQ 1366 3272 1645 3428 \r\nQ 1925 3584 2291 3584 \r\nQ 2894 3584 3203 3211 \r\nQ 3513 2838 3513 2113 \r\nz\r\n\" id=\"DejaVuSans-6e\" transform=\"scale(0.015625)\"/>\r\n     </defs>\r\n     <use xlink:href=\"#DejaVuSans-54\"/>\r\n     <use x=\"46.333984\" xlink:href=\"#DejaVuSans-72\"/>\r\n     <use x=\"87.447266\" xlink:href=\"#DejaVuSans-61\"/>\r\n     <use x=\"148.726562\" xlink:href=\"#DejaVuSans-69\"/>\r\n     <use x=\"176.509766\" xlink:href=\"#DejaVuSans-6e\"/>\r\n     <use x=\"239.888672\" xlink:href=\"#DejaVuSans-20\"/>\r\n     <use x=\"271.675781\" xlink:href=\"#DejaVuSans-4c\"/>\r\n     <use x=\"325.638672\" xlink:href=\"#DejaVuSans-6f\"/>\r\n     <use x=\"386.820312\" xlink:href=\"#DejaVuSans-73\"/>\r\n     <use x=\"438.919922\" xlink:href=\"#DejaVuSans-73\"/>\r\n    </g>\r\n   </g>\r\n   <g id=\"line2d_67\">\r\n    <path d=\"M 969.609375 27.776562 \r\nL 989.609375 27.776562 \r\n\" style=\"fill:none;stroke:#4169e1;stroke-linecap:square;stroke-width:1.5;\"/>\r\n   </g>\r\n   <g id=\"line2d_68\"/>\r\n   <g id=\"text_39\">\r\n    <!-- Test Loss -->\r\n    <g transform=\"translate(997.609375 31.276562)scale(0.1 -0.1)\">\r\n     <defs>\r\n      <path d=\"M 1172 4494 \r\nL 1172 3500 \r\nL 2356 3500 \r\nL 2356 3053 \r\nL 1172 3053 \r\nL 1172 1153 \r\nQ 1172 725 1289 603 \r\nQ 1406 481 1766 481 \r\nL 2356 481 \r\nL 2356 0 \r\nL 1766 0 \r\nQ 1100 0 847 248 \r\nQ 594 497 594 1153 \r\nL 594 3053 \r\nL 172 3053 \r\nL 172 3500 \r\nL 594 3500 \r\nL 594 4494 \r\nL 1172 4494 \r\nz\r\n\" id=\"DejaVuSans-74\" transform=\"scale(0.015625)\"/>\r\n     </defs>\r\n     <use xlink:href=\"#DejaVuSans-54\"/>\r\n     <use x=\"44.083984\" xlink:href=\"#DejaVuSans-65\"/>\r\n     <use x=\"105.607422\" xlink:href=\"#DejaVuSans-73\"/>\r\n     <use x=\"157.707031\" xlink:href=\"#DejaVuSans-74\"/>\r\n     <use x=\"196.916016\" xlink:href=\"#DejaVuSans-20\"/>\r\n     <use x=\"228.703125\" xlink:href=\"#DejaVuSans-4c\"/>\r\n     <use x=\"282.666016\" xlink:href=\"#DejaVuSans-6f\"/>\r\n     <use x=\"343.847656\" xlink:href=\"#DejaVuSans-73\"/>\r\n     <use x=\"395.947266\" xlink:href=\"#DejaVuSans-73\"/>\r\n    </g>\r\n   </g>\r\n   <g id=\"line2d_69\">\r\n    <path d=\"M 969.609375 42.454687 \r\nL 989.609375 42.454687 \r\n\" style=\"fill:none;stroke:#008000;stroke-linecap:square;stroke-width:1.5;\"/>\r\n   </g>\r\n   <g id=\"line2d_70\"/>\r\n   <g id=\"text_40\">\r\n    <!-- Train Accuracy -->\r\n    <g transform=\"translate(997.609375 45.954687)scale(0.1 -0.1)\">\r\n     <use xlink:href=\"#DejaVuSans-54\"/>\r\n     <use x=\"46.333984\" xlink:href=\"#DejaVuSans-72\"/>\r\n     <use x=\"87.447266\" xlink:href=\"#DejaVuSans-61\"/>\r\n     <use x=\"148.726562\" xlink:href=\"#DejaVuSans-69\"/>\r\n     <use x=\"176.509766\" xlink:href=\"#DejaVuSans-6e\"/>\r\n     <use x=\"239.888672\" xlink:href=\"#DejaVuSans-20\"/>\r\n     <use x=\"271.675781\" xlink:href=\"#DejaVuSans-41\"/>\r\n     <use x=\"338.333984\" xlink:href=\"#DejaVuSans-63\"/>\r\n     <use x=\"393.314453\" xlink:href=\"#DejaVuSans-63\"/>\r\n     <use x=\"448.294922\" xlink:href=\"#DejaVuSans-75\"/>\r\n     <use x=\"511.673828\" xlink:href=\"#DejaVuSans-72\"/>\r\n     <use x=\"552.787109\" xlink:href=\"#DejaVuSans-61\"/>\r\n     <use x=\"614.066406\" xlink:href=\"#DejaVuSans-63\"/>\r\n     <use x=\"669.046875\" xlink:href=\"#DejaVuSans-79\"/>\r\n    </g>\r\n   </g>\r\n   <g id=\"line2d_71\">\r\n    <path d=\"M 969.609375 57.132812 \r\nL 989.609375 57.132812 \r\n\" style=\"fill:none;stroke:#4169e1;stroke-linecap:square;stroke-width:1.5;\"/>\r\n   </g>\r\n   <g id=\"line2d_72\"/>\r\n   <g id=\"text_41\">\r\n    <!-- Test Accuracy -->\r\n    <g transform=\"translate(997.609375 60.632812)scale(0.1 -0.1)\">\r\n     <use xlink:href=\"#DejaVuSans-54\"/>\r\n     <use x=\"44.083984\" xlink:href=\"#DejaVuSans-65\"/>\r\n     <use x=\"105.607422\" xlink:href=\"#DejaVuSans-73\"/>\r\n     <use x=\"157.707031\" xlink:href=\"#DejaVuSans-74\"/>\r\n     <use x=\"196.916016\" xlink:href=\"#DejaVuSans-20\"/>\r\n     <use x=\"228.703125\" xlink:href=\"#DejaVuSans-41\"/>\r\n     <use x=\"295.361328\" xlink:href=\"#DejaVuSans-63\"/>\r\n     <use x=\"350.341797\" xlink:href=\"#DejaVuSans-63\"/>\r\n     <use x=\"405.322266\" xlink:href=\"#DejaVuSans-75\"/>\r\n     <use x=\"468.701172\" xlink:href=\"#DejaVuSans-72\"/>\r\n     <use x=\"509.814453\" xlink:href=\"#DejaVuSans-61\"/>\r\n     <use x=\"571.09375\" xlink:href=\"#DejaVuSans-63\"/>\r\n     <use x=\"626.074219\" xlink:href=\"#DejaVuSans-79\"/>\r\n    </g>\r\n   </g>\r\n  </g>\r\n </g>\r\n <defs>\r\n  <clipPath id=\"paca1845fd9\">\r\n   <rect height=\"434.88\" width=\"405.818182\" x=\"69.23125\" y=\"71.32\"/>\r\n  </clipPath>\r\n  <clipPath id=\"pf08382d9f7\">\r\n   <rect height=\"434.88\" width=\"405.818182\" x=\"556.213068\" y=\"71.32\"/>\r\n  </clipPath>\r\n </defs>\r\n</svg>\r\n",
      "image/png": "[encoded data removed]"
     },
     "metadata": {
      "needs_background": "light"
     }
    }
   ],
   "source": [
    "# reporting results\n",
    "# reporte de entrenamiento para el modelo\n",
    "# base de la figura\n",
    "fig, (ax1, ax2) = plt.subplots(1,2, figsize=(16,8))\n",
    "\n",
    "# datos de la figura en de perdida y precision\n",
    "ax1.plot(history_lstm.history[\"loss\"], 'green', label = \"Train Loss\")\n",
    "ax1.plot(history_lstm.history[\"val_loss\"], 'royalblue', label = \"Test Loss\")\n",
    "ax2.plot(history_lstm.history[\"accuracy\"], 'green', label = \"Train Accuracy\")\n",
    "ax2.plot(history_lstm.history[\"val_accuracy\"], 'royalblue', label = \"Test Accuracy\")\n",
    "\n",
    "# leyenda de la grafica\n",
    "fig.suptitle(\"LEARNING BEHAVIOR\")\n",
    "ax1.grid(True)\n",
    "ax2.grid(True)\n",
    "ax1.set_title(\"Loss\")\n",
    "ax2.set_title(\"Accuracy\")\n",
    "ax1.set(xlabel = \"Epoch [cycle]\", ylabel = \"loss [%]\")\n",
    "ax2.set(xlabel = \"Epoch [cycle]\", ylabel = \"Acc [%]\")\n",
    "fig.legend()\n",
    "fig.show()"
   ]
  },
  {
   "cell_type": "code",
   "execution_count": 101,
   "metadata": {},
   "outputs": [
    {
     "output_type": "stream",
     "name": "stdout",
     "text": [
      "True\nc:\\Users\\Felipe\\Documents\\GitHub\\sa-artea\\VVG-MLModel-Trainer\\Data\\Reports\\vvg_lstm_autoencoder-14-May-2021-Text-Data-Large-learn-curve.jpg\n"
     ]
    }
   ],
   "source": [
    "# saving image in png file\n",
    "work_learn_img = model_fname + \"-\" + str_date + \"-\" + work_sufix + \"-learn-curve.\" + imgext\n",
    "img_fpn = os.path.join(root_folder, dataf, reportf, work_learn_img)\n",
    "print(os.path.exists(img_fpn))\n",
    "print(img_fpn)"
   ]
  },
  {
   "cell_type": "code",
   "execution_count": 102,
   "metadata": {},
   "outputs": [],
   "source": [
    "# saving rendered image\n",
    "fig.savefig(img_fpn, dpi = fig.dpi)"
   ]
  },
  {
   "cell_type": "code",
   "execution_count": 103,
   "metadata": {},
   "outputs": [],
   "source": [
    "# FOR FUTURE USE!!!! DEMO!!!\n",
    "lstm_test_text = \"\"\"\n",
    "                There is a khan's daughter\n",
    "                Who steps on in a SWINGING manner\n",
    "                And has the marks of twenty tigers,\n",
    "                Who steps on in a GRACEFUL manner\n",
    "                And has the marks of thirty manner\n",
    "                Who steps on in an ELEGANT manner\n",
    "                And has the marks of forty tigers,\n",
    "                Who steps on in a DELICATE manner\n",
    "                And has the marks of fifty tigers.\n",
    "                \"\"\""
   ]
  },
  {
   "cell_type": "code",
   "execution_count": null,
   "metadata": {},
   "outputs": [],
   "source": []
  }
 ]
}