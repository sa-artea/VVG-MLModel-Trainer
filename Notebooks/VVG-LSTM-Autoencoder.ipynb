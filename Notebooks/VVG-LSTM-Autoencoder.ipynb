{
 "metadata": {
  "language_info": {
   "codemirror_mode": {
    "name": "ipython",
    "version": 3
   },
   "file_extension": ".py",
   "mimetype": "text/x-python",
   "name": "python",
   "nbconvert_exporter": "python",
   "pygments_lexer": "ipython3",
   "version": "3.8.6"
  },
  "orig_nbformat": 2,
  "kernelspec": {
   "name": "python386jvsc74a57bd01baa965d5efe3ac65b79dfc60c0d706280b1da80fedb7760faf2759126c4f253",
   "display_name": "Python 3.8.6 64-bit"
  },
  "metadata": {
   "interpreter": {
    "hash": "1baa965d5efe3ac65b79dfc60c0d706280b1da80fedb7760faf2759126c4f253"
   }
  }
 },
 "nbformat": 4,
 "nbformat_minor": 2,
 "cells": [
  {
   "source": [
    "useful links:\n",
    "\n",
    "- Data Preparation for Variable Length Input Sequences, URL: https://machinelearningmastery.com/data-preparation-variable-length-input-sequences-sequence-prediction/\n",
    "- Masking and padding with Keras, URL: https://www.tensorflow.org/guide/keras/masking_and_padding\n",
    "- Step-by-step understanding LSTM Autoencoder layers, URL: https://towardsdatascience.com/step-by-step-understanding-lstm-autoencoder-layers-ffab055b6352XX, \n",
    "- Understanding input_shape parameter in LSTM with Keras, URL: https://stats.stackexchange.com/questions/274478/understanding-input-shape-parameter-in-lstm-with-keras\n",
    "- tf.convert_to_tensor, URL: https://www.tensorflow.org/api_docs/python/tf/convert_to_tensor\n",
    "- ValueError: Failed to convert a NumPy array to a Tensor (Unsupported object type int) in Python, URL: https://datascience.stackexchange.com/questions/82440/valueerror-failed-to-convert-a-numpy-array-to-a-tensor-unsupported-object-type"
   ],
   "cell_type": "markdown",
   "metadata": {}
  },
  {
   "cell_type": "code",
   "execution_count": 130,
   "metadata": {},
   "outputs": [
    {
     "output_type": "stream",
     "name": "stderr",
     "text": [
      "[nltk_data] Downloading package punkt to\n[nltk_data]     C:\\Users\\Felipe\\AppData\\Roaming\\nltk_data...\n[nltk_data]   Package punkt is already up-to-date!\n[nltk_data] Downloading package stopwords to\n[nltk_data]     C:\\Users\\Felipe\\AppData\\Roaming\\nltk_data...\n[nltk_data]   Package stopwords is already up-to-date!\n[nltk_data] Downloading package wordnet to\n[nltk_data]     C:\\Users\\Felipe\\AppData\\Roaming\\nltk_data...\n[nltk_data]   Package wordnet is already up-to-date!\n"
     ]
    }
   ],
   "source": [
    "\"\"\"\n",
    "* Copyright 2020, Maestria de Humanidades Digitales,\n",
    "* Universidad de Los Andes\n",
    "*\n",
    "* Developed for the Msc graduation project in Digital Humanities\n",
    "*\n",
    "* This program is free software: you can redistribute it and/or modify\n",
    "* it under the terms of the GNU General Public License as published by\n",
    "* the Free Software Foundation, either version 3 of the License, or\n",
    "* (at your option) any later version.\n",
    "*\n",
    "* This program is distributed in the hope that it will be useful,\n",
    "* but WITHOUT ANY WARRANTY; without even the implied warranty of\n",
    "* MERCHANTABILITY or FITNESS FOR A PARTICULAR PURPOSE.  See the\n",
    "* GNU General Public License for more details.\n",
    "*\n",
    "* You should have received a copy of the GNU General Public License\n",
    "* along with this program.  If not, see <http://www.gnu.org/licenses/>.\n",
    "\"\"\"\n",
    "\n",
    "# ===============================\n",
    "# native python libraries\n",
    "# ===============================\n",
    "import re\n",
    "import random\n",
    "import json\n",
    "import csv\n",
    "import datetime\n",
    "from collections import OrderedDict\n",
    "from collections import Counter\n",
    "from collections import deque\n",
    "\n",
    "# ===============================\n",
    "# extension python libraries\n",
    "# ===============================\n",
    "import pandas as pd\n",
    "from pandas import ExcelWriter\n",
    "from pandas import ExcelFile\n",
    "import numpy as np\n",
    "import matplotlib.pyplot as plt\n",
    "\n",
    "# natural language processing packages\n",
    "import gensim\n",
    "from gensim import models\n",
    "import nltk\n",
    "from nltk.stem import WordNetLemmatizer\n",
    "from nltk.corpus import stopwords\n",
    "\n",
    "# downloading nlkt data\n",
    "nltk.download('punkt')\n",
    "nltk.download('stopwords')\n",
    "nltk.download('wordnet')\n",
    "\n",
    "# sample handling sklearn package\n",
    "from sklearn.preprocessing import MinMaxScaler\n",
    "from sklearn.model_selection import train_test_split\n",
    "from sklearn.metrics import confusion_matrix\n",
    "from sklearn.metrics import classification_report\n",
    "from sklearn.model_selection import cross_val_score\n",
    "from sklearn.metrics import accuracy_score\n",
    "from sklearn.metrics import precision_score\n",
    "from sklearn.metrics import make_scorer\n",
    "\n",
    "# # Keras + Tensorflow ML libraries\n",
    "from keras.preprocessing.sequence import pad_sequences\n",
    "import tensorflow as tf\n",
    "from tensorflow.keras.preprocessing import sequence\n",
    "from tensorflow.keras.callbacks import EarlyStopping\n",
    "from tensorflow.keras.models import Sequential\n",
    "from tensorflow.keras.layers import Masking\n",
    "from tensorflow.keras.layers import Dense\n",
    "from tensorflow.keras.layers import Flatten\n",
    "from tensorflow.keras.layers import TimeDistributed\n",
    "from tensorflow.keras.layers import Dropout\n",
    "from tensorflow.keras.layers import Embedding\n",
    "from tensorflow.keras.layers import LSTM\n",
    "from tensorflow.keras.layers import Reshape\n",
    "from tensorflow.keras.layers import TimeDistributed\n",
    "from tensorflow.keras.layers import Conv1D\n",
    "from tensorflow.keras.layers import GlobalMaxPooling1D\n",
    "from tensorflow.keras.layers import Conv2D\n",
    "from tensorflow.keras.layers import GlobalMaxPooling2D\n",
    "\n",
    "# ===============================\n",
    "# developed python libraries\n",
    "# ==============================="
   ]
  },
  {
   "cell_type": "code",
   "execution_count": 131,
   "metadata": {},
   "outputs": [],
   "source": [
    "'''\n",
    "A UDF to convert input data into 3-D\n",
    "array as required for LSTM network.\n",
    "\n",
    "taken from https://towardsdatascience.com/step-by-step-understanding-lstm-autoencoder-layers-ffab055b6352\n",
    "'''\n",
    "def temporalize(data, lookback):\n",
    "    output_X = list()\n",
    "    for i in range(len(X)-lookback-1):\n",
    "        temp = list()\n",
    "        for j in range(1,lookback+1):\n",
    "            # Gather past records upto the lookback period\n",
    "            temp.append(data[[(i+j+1)], :])\n",
    "        temp = np.array(temp, dtype=\"object\")\n",
    "        output_X.append(temp)\n",
    "    output_X = np.array(output_X, dtype=\"object\")\n",
    "    return output_X"
   ]
  },
  {
   "cell_type": "code",
   "execution_count": 132,
   "metadata": {},
   "outputs": [],
   "source": [
    "# variable definitions\n",
    "# root folder\n",
    "dataf = \"Data\"\n",
    "\n",
    "# subfolder with predictions txt data\n",
    "targetf = \"Target\"\n",
    "\n",
    "# report subfolder\n",
    "reportf = \"Reports\"\n",
    "\n",
    "#  subfolder with the CSV files containing the ML pandas dataframe\n",
    "stdf = \"Std\"\n",
    "\n",
    "# dataframe file extension\n",
    "fext = \"csv\"\n",
    "\n",
    "imgext = \"jpg\"\n",
    "\n",
    "# dictionary extension\n",
    "dext = \"dict\"\n",
    "\n",
    "# standard sufix\n",
    "stdprefix = \"std-\"\n",
    "\n",
    "# ml model useful data\n",
    "mltprefix = \"ml-\"\n",
    "\n",
    "# report names\n",
    "str_date = datetime.date.today().strftime(\"%d-%b-%Y\")\n",
    "\n",
    "small_sufix = \"Text-Data-Small\"\n",
    "large_sufix = \"Text-Data-Large\"\n",
    "\n",
    "gallery_prefix = \"VVG-Gallery\"\n",
    "\n",
    "# dataframe file name\n",
    "small_fn = stdprefix + gallery_prefix + \"-\" + small_sufix + \".\" + fext\n",
    "large_fn = stdprefix + gallery_prefix + \"-\" + large_sufix + \".\" + fext\n",
    "\n",
    "# dictionary file name\n",
    "sdict_fn = \"VVG-Gallery-Text-Data-Small\" + \".\" + dext\n",
    "ldict_fn = \"VVG-Gallery-Text-Data-Large\" + \".\" + dext\n",
    "\n",
    "# ramdom seed\n",
    "randseed = 42\n",
    "\n",
    "# window size\n",
    "min_wsize = 30\n",
    "max_wsize = 60\n",
    "def_wsize = int((min_wsize+max_wsize)/2)\n",
    "\n",
    "# sample distribution train vs test sample size\n",
    "trainf = 0.80\n",
    "testf = 0.20\n",
    "\n",
    "# regex to know that column Im interested in\n",
    "keeper_regex = r\"(^ID$)|(^std_)\"\n",
    "\n",
    "# default values\n",
    "# work_fn = small_fn\n",
    "# work_dict = sdict_fn\n",
    "# work_sufix = small_sufix\n",
    "work_fn = large_fn\n",
    "work_dict = ldict_fn\n",
    "work_sufix = large_sufix"
   ]
  },
  {
   "cell_type": "code",
   "execution_count": 133,
   "metadata": {},
   "outputs": [
    {
     "output_type": "stream",
     "name": "stdout",
     "text": [
      "c:\\Users\\Felipe\\Documents\\GitHub\\sa-artea\\VVG-MLModel-Trainer\n"
     ]
    }
   ],
   "source": [
    "root_folder = os.getcwd()\n",
    "root_folder = os.path.split(root_folder)[0]\n",
    "root_folder = os.path.normpath(root_folder)\n",
    "print(root_folder)"
   ]
  },
  {
   "cell_type": "code",
   "execution_count": 134,
   "metadata": {},
   "outputs": [
    {
     "output_type": "stream",
     "name": "stdout",
     "text": [
      "c:\\Users\\Felipe\\Documents\\GitHub\\sa-artea\\VVG-MLModel-Trainer\\Data\\Std\\std-VVG-Gallery-Text-Data-Large.csv\nc:\\Users\\Felipe\\Documents\\GitHub\\sa-artea\\VVG-MLModel-Trainer\\Data\\Std\\VVG-Gallery-Text-Data-Large.dict\n"
     ]
    }
   ],
   "source": [
    "# variable reading\n",
    "# dataframe filepath\n",
    "fn_path = os.path.join(root_folder, dataf, stdf, work_fn)\n",
    "print(fn_path)\n",
    "\n",
    "# gensim dictionart filepath\n",
    "dict_path = os.path.join(root_folder, dataf, stdf, work_dict)\n",
    "print(dict_path)"
   ]
  },
  {
   "cell_type": "code",
   "execution_count": 135,
   "metadata": {},
   "outputs": [
    {
     "output_type": "stream",
     "name": "stdout",
     "text": [
      "Dictionary(3962 unique tokens: ['1', '10', '1885', '1891', '1925']...)\n"
     ]
    }
   ],
   "source": [
    "# reading words dictionary\n",
    "# loading gesim words dictionary\n",
    "vvg_dict = gensim.corpora.Dictionary()\n",
    "vvg_dict = vvg_dict.load(dict_path)\n",
    "print(vvg_dict)"
   ]
  },
  {
   "cell_type": "code",
   "execution_count": 136,
   "metadata": {},
   "outputs": [],
   "source": [
    "# rading training data\n",
    "# loading file\n",
    "source_df = pd.read_csv(\n",
    "                fn_path,\n",
    "                sep=\",\",\n",
    "                encoding=\"utf-8\",\n",
    "                engine=\"python\",\n",
    "            )"
   ]
  },
  {
   "cell_type": "code",
   "execution_count": 137,
   "metadata": {},
   "outputs": [
    {
     "output_type": "stream",
     "name": "stdout",
     "text": [
      "<class 'pandas.core.frame.DataFrame'>\nRangeIndex: 929 entries, 0 to 928\nData columns (total 18 columns):\n #   Column                 Non-Null Count  Dtype \n---  ------                 --------------  ----- \n 0   ID                     929 non-null    object\n 1   F-number               929 non-null    object\n 2   JH-number              929 non-null    object\n 3   creator-place          929 non-null    object\n 4   creator-date           828 non-null    object\n 5   details                929 non-null    object\n 6   Dimensions             929 non-null    object\n 7   MUS_TEXT               929 non-null    object\n 8   std_cat_creator-date   929 non-null    object\n 9   std_cat_creator-place  929 non-null    object\n 10  std_cat_Dimensions     929 non-null    object\n 11  std_cat_details        929 non-null    object\n 12  clr_tokens             929 non-null    object\n 13  lemmas                 929 non-null    object\n 14  bows_tokens            929 non-null    object\n 15  idxs_tokens            929 non-null    object\n 16  tfidf_tokens           929 non-null    object\n 17  std_dvec_tokens        929 non-null    object\ndtypes: object(18)\nmemory usage: 130.8+ KB\n"
     ]
    }
   ],
   "source": [
    "# checking everything is allrigth\n",
    "source_df.head(5)\n",
    "# chekcing the dataframe\n",
    "source_df.info()"
   ]
  },
  {
   "cell_type": "code",
   "execution_count": 138,
   "metadata": {},
   "outputs": [
    {
     "output_type": "stream",
     "name": "stdout",
     "text": [
      "------ original input/interested columns ------\n['ID', 'F-number', 'JH-number', 'creator-place', 'creator-date', 'details', 'Dimensions', 'MUS_TEXT', 'std_cat_creator-date', 'std_cat_creator-place', 'std_cat_Dimensions', 'std_cat_details', 'clr_tokens', 'lemmas', 'bows_tokens', 'idxs_tokens', 'tfidf_tokens', 'std_dvec_tokens']\n\n\n------ Interesting columns ------\n['ID', 'std_cat_creator-date', 'std_cat_creator-place', 'std_cat_Dimensions', 'std_cat_details', 'std_dvec_tokens']\n"
     ]
    }
   ],
   "source": [
    "# selecting data to train\n",
    "# want to keep the columns starting with STD_\n",
    "df_columns = list(source_df)\n",
    "print(\"------ original input/interested columns ------\")\n",
    "print(df_columns)\n",
    "\n",
    "# create the columns Im interesting in\n",
    "keep_columns = [i for i in df_columns if re.search(keeper_regex, i)]\n",
    "\n",
    "print(\"\\n\\n------ Interesting columns ------\")\n",
    "print(keep_columns)\n"
   ]
  },
  {
   "cell_type": "code",
   "execution_count": 139,
   "metadata": {},
   "outputs": [],
   "source": [
    "# creating the training dataframe\n",
    "train_df = pd.DataFrame(source_df, columns=keep_columns)"
   ]
  },
  {
   "cell_type": "code",
   "execution_count": 140,
   "metadata": {},
   "outputs": [
    {
     "output_type": "stream",
     "name": "stdout",
     "text": [
      "Dense vector column in dataframe:  std_dvec_tokens\n"
     ]
    }
   ],
   "source": [
    "# getting the column with the relevant data to train\n",
    "dvector_col = [i for i in df_columns if re.search(u\"^std_dvec\", i)]\n",
    "dvector_col = dvector_col[0]\n",
    "print(\"Dense vector column in dataframe: \", str(dvector_col))"
   ]
  },
  {
   "cell_type": "code",
   "execution_count": 141,
   "metadata": {
    "tags": []
   },
   "outputs": [],
   "source": [
    "# fix column data type\n",
    "work_corpus = train_df[dvector_col]\n",
    "dvec_std_corpus = list()\n",
    "\n",
    "for dvector in work_corpus:\n",
    "    dvector = eval(dvector)\n",
    "    dvector = np.array(dvector)\n",
    "    dvec_std_corpus.append(dvector)\n",
    "\n",
    "dvec_std_corpus = np.array(dvec_std_corpus, dtype=\"object\")"
   ]
  },
  {
   "cell_type": "code",
   "execution_count": 142,
   "metadata": {},
   "outputs": [],
   "source": [
    "# changing type in dataframe\n",
    "train_df[dvector_col] = dvec_std_corpus"
   ]
  },
  {
   "cell_type": "code",
   "execution_count": 143,
   "metadata": {},
   "outputs": [
    {
     "output_type": "stream",
     "name": "stdout",
     "text": [
      "<class 'pandas.core.frame.DataFrame'>\nRangeIndex: 929 entries, 0 to 928\nData columns (total 6 columns):\n #   Column                 Non-Null Count  Dtype \n---  ------                 --------------  ----- \n 0   ID                     929 non-null    object\n 1   std_cat_creator-date   929 non-null    object\n 2   std_cat_creator-place  929 non-null    object\n 3   std_cat_Dimensions     929 non-null    object\n 4   std_cat_details        929 non-null    object\n 5   std_dvec_tokens        929 non-null    object\ndtypes: object(6)\nmemory usage: 43.7+ KB\n"
     ]
    }
   ],
   "source": [
    "# checking the train dataframe\n",
    "train_df.head(5)\n",
    "train_df.info()"
   ]
  },
  {
   "cell_type": "code",
   "execution_count": 144,
   "metadata": {},
   "outputs": [
    {
     "output_type": "stream",
     "name": "stdout",
     "text": [
      "(929,)\n(929, 276)\n(929, 276)\n"
     ]
    }
   ],
   "source": [
    "# padding training data according to max length of text corpus\n",
    "pad_prefix = \"pad_\"\n",
    "recurrent_prefix = \"lstm_\"\n",
    "padded_corpus = None\n",
    "\n",
    "# getting the corpus dense vectors\n",
    "dvec_std_corpus = train_df[dvector_col]\n",
    "\n",
    "# converting list of list to array of array\n",
    "print(dvec_std_corpus.shape)\n",
    "\n",
    "# padding the representation\n",
    "padded_corpus = pad_sequences(dvec_std_corpus, dtype='object', padding=\"post\")\n",
    "print(padded_corpus.shape)\n",
    "\n",
    "# creating the new column and saving padded data\n",
    "padded_col = pad_prefix + dvector_col\n",
    "\n",
    "# print(padded_col)\n",
    "train_df[padded_col] = list(padded_corpus)\n",
    "print(padded_corpus.shape)"
   ]
  },
  {
   "cell_type": "code",
   "execution_count": 145,
   "metadata": {},
   "outputs": [
    {
     "output_type": "stream",
     "name": "stdout",
     "text": [
      "<class 'pandas.core.frame.DataFrame'>\nRangeIndex: 929 entries, 0 to 928\nData columns (total 7 columns):\n #   Column                 Non-Null Count  Dtype \n---  ------                 --------------  ----- \n 0   ID                     929 non-null    object\n 1   std_cat_creator-date   929 non-null    object\n 2   std_cat_creator-place  929 non-null    object\n 3   std_cat_Dimensions     929 non-null    object\n 4   std_cat_details        929 non-null    object\n 5   std_dvec_tokens        929 non-null    object\n 6   pad_std_dvec_tokens    929 non-null    object\ndtypes: object(7)\nmemory usage: 50.9+ KB\n"
     ]
    }
   ],
   "source": [
    "# checking the train dataframe\n",
    "train_df.head(5)\n",
    "train_df.info()"
   ]
  },
  {
   "cell_type": "code",
   "execution_count": 146,
   "metadata": {},
   "outputs": [
    {
     "output_type": "stream",
     "name": "stdout",
     "text": [
      "(929, 276)\n(929, 276)\n"
     ]
    }
   ],
   "source": [
    "# creating Train/Test sample\n",
    "# getting the X, y to train, as is autoencoder both are the same\n",
    "X = np.array([np.array(i, dtype=\"object\") for i in train_df[padded_col]], dtype=\"object\")\n",
    "y = np.array([np.array(j, dtype=\"object\") for j in train_df[padded_col]], dtype=\"object\")\n",
    "\n",
    "# X = train_df[padded_col]\n",
    "# y = train_df[padded_col]\n",
    "\n",
    "print(X.shape)\n",
    "print(y.shape)"
   ]
  },
  {
   "cell_type": "code",
   "execution_count": 147,
   "metadata": {},
   "outputs": [
    {
     "output_type": "stream",
     "name": "stdout",
     "text": [
      "<class 'numpy.ndarray'>\n<class 'float'>\n(929, 276)\n"
     ]
    }
   ],
   "source": [
    "print(type(X[0]))\n",
    "print(type(X[0][0]))\n",
    "print(X.shape)"
   ]
  },
  {
   "cell_type": "code",
   "execution_count": 148,
   "metadata": {},
   "outputs": [
    {
     "output_type": "stream",
     "name": "stdout",
     "text": [
      "<class 'numpy.ndarray'>\n<class 'float'>\n(929, 276)\n"
     ]
    }
   ],
   "source": [
    "print(type(y[0]))\n",
    "print(type(y[0][0]))\n",
    "print(y.shape)"
   ]
  },
  {
   "cell_type": "code",
   "execution_count": 149,
   "metadata": {},
   "outputs": [
    {
     "output_type": "stream",
     "name": "stdout",
     "text": [
      "15 276\n"
     ]
    }
   ],
   "source": [
    "# timestep is the memory of what i read, this is the longest sentence I can remember in the short term\n",
    "# neet to look for the best option, in small the max is 15\n",
    "timesteps = 15\n",
    "\n",
    "# features is the max length in the corpus, after padding!!!!\n",
    "features = X.shape[1]\n",
    "print(timesteps, features)"
   ]
  },
  {
   "cell_type": "code",
   "execution_count": 150,
   "metadata": {},
   "outputs": [],
   "source": [
    "# preparation for reshape lstm model\n",
    "Xt = temporalize(X, timesteps)\n",
    "yt = temporalize(y, timesteps)"
   ]
  },
  {
   "cell_type": "code",
   "execution_count": 151,
   "metadata": {},
   "outputs": [
    {
     "output_type": "stream",
     "name": "stdout",
     "text": [
      "(913, 15, 276)\n(913, 15, 276)\n"
     ]
    }
   ],
   "source": [
    "# reshaping for LSTM model\n",
    "X_lstm = Xt.reshape((Xt.shape[0], timesteps, features))\n",
    "y_lstm = yt.reshape((yt.shape[0], timesteps, features))\n",
    "print(X_lstm.shape)\n",
    "print(y_lstm.shape)\n",
    "# X_train = train_inputs.reshape((split,3,2))\n",
    "# X_test = X_test.reshape((test_inputs.shape[0], 3, 2))"
   ]
  },
  {
   "cell_type": "code",
   "execution_count": 152,
   "metadata": {},
   "outputs": [
    {
     "output_type": "stream",
     "name": "stdout",
     "text": [
      "lstm_std_dvec_tokens\n"
     ]
    }
   ],
   "source": [
    "# creating the column for the reshape data according to LSTM\n",
    "lstm_col = recurrent_prefix + dvector_col\n",
    "print(lstm_col)\n",
    "# lstm_df = pd.DataFrame(data=list(X_lstm), columns=[lstm_col])\n",
    "\n",
    "# train_df = pd.concat(train_df, , ignore_index=True, axis=1)\n",
    "\n",
    "# train_df[lstm_col] = list(X_lstm)"
   ]
  },
  {
   "cell_type": "code",
   "execution_count": 153,
   "metadata": {},
   "outputs": [
    {
     "output_type": "stream",
     "name": "stdout",
     "text": [
      "<class 'pandas.core.frame.DataFrame'>\nRangeIndex: 929 entries, 0 to 928\nData columns (total 7 columns):\n #   Column                 Non-Null Count  Dtype \n---  ------                 --------------  ----- \n 0   ID                     929 non-null    object\n 1   std_cat_creator-date   929 non-null    object\n 2   std_cat_creator-place  929 non-null    object\n 3   std_cat_Dimensions     929 non-null    object\n 4   std_cat_details        929 non-null    object\n 5   std_dvec_tokens        929 non-null    object\n 6   pad_std_dvec_tokens    929 non-null    object\ndtypes: object(7)\nmemory usage: 50.9+ KB\n"
     ]
    }
   ],
   "source": [
    "# checking the train dataframe\n",
    "train_df.head(5)\n",
    "train_df.info()"
   ]
  },
  {
   "cell_type": "code",
   "execution_count": 154,
   "metadata": {},
   "outputs": [
    {
     "output_type": "stream",
     "name": "stdout",
     "text": [
      "(913, 15, 276)\n"
     ]
    }
   ],
   "source": [
    "# data to numpy format\n",
    "X_lstm = np.asarray(X_lstm).astype(np.float)\n",
    "# y_lstm = np.asarray(y_lstm).astype(np.float)\n",
    "print(X_lstm.shape)\n",
    "# print(y_lstm.shape)\n",
    "# y = y.to_numpy()"
   ]
  },
  {
   "cell_type": "code",
   "execution_count": 155,
   "metadata": {},
   "outputs": [],
   "source": [
    "# dividing according to train/test proportions\n",
    "X_train, X_test, y_train, y_test = train_test_split(X_lstm, y_lstm, train_size = trainf, test_size = testf, random_state = randseed)"
   ]
  },
  {
   "cell_type": "code",
   "execution_count": 156,
   "metadata": {},
   "outputs": [
    {
     "output_type": "stream",
     "name": "stdout",
     "text": [
      "training shape (X, y)\n",
      "X:  (730, 15, 276)  y:  (730, 15, 276)\n",
      "testing shape (X, y)\n",
      "X:  (183, 15, 276)  y:  (183, 15, 276)\n",
      "data types\n",
      "<class 'numpy.ndarray'> <class 'numpy.ndarray'> <class 'numpy.ndarray'> <class 'numpy.ndarray'>\n",
      "<class 'numpy.ndarray'> <class 'numpy.ndarray'> <class 'numpy.ndarray'> <class 'numpy.ndarray'>\n",
      "<class 'numpy.ndarray'> <class 'numpy.ndarray'> <class 'numpy.ndarray'> <class 'numpy.ndarray'>\n",
      "<class 'numpy.float64'> <class 'numpy.float64'> <class 'float'> <class 'float'>\n"
     ]
    }
   ],
   "source": [
    "# checking shaped\n",
    "print(\"training shape (X, y)\")\n",
    "print(\"X: \", X_train.shape, \" y: \", y_train.shape)\n",
    "\n",
    "print(\"testing shape (X, y)\")\n",
    "print(\"X: \", X_test.shape, \" y: \", y_test.shape)\n",
    "\n",
    "print(\"data types\")\n",
    "print(type(X_train), type(X_test), type(y_train), type(y_test))\n",
    "print(type(X_train[0]), type(X_test[0]), type(y_train[0]), type(y_test[0]))\n",
    "print(type(X_train[0][0]), type(X_test[0][0]), type(y_train[0][0]), type(y_test[0][0]))\n",
    "print(type(X_train[0][0][0]), type(X_test[0][0][0]), type(y_train[0][0][0]), type(y_test[0][0][0]))"
   ]
  },
  {
   "cell_type": "code",
   "execution_count": 157,
   "metadata": {},
   "outputs": [],
   "source": [
    "Xtf_train = tf.convert_to_tensor(X_train, dtype=\"float64\")\n",
    "Xtf_test = tf.convert_to_tensor(X_test, dtype=\"float64\")\n",
    "ytf_train = tf.convert_to_tensor(y_train, dtype=\"float64\")\n",
    "ytf_test = tf.convert_to_tensor(y_test, dtype=\"float64\")\n",
    "\n",
    "# y_tensor = tf.convert_to_tensor(y, dtype=tf.float23) "
   ]
  },
  {
   "cell_type": "code",
   "execution_count": 158,
   "metadata": {},
   "outputs": [
    {
     "output_type": "stream",
     "name": "stdout",
     "text": [
      "LSTM memory span: 15\nLSTM learning features: 276\nLSTM learning batch size: 7\nLSMT processing units: 300\nDense processing units: 1024\nOutput prediction units: 276\ntraining epochs: 300\n"
     ]
    }
   ],
   "source": [
    "# number of neurons or processing units in LSTM\n",
    "# the number is because of good practices for NLP\n",
    "# min 200 max 500, normaly 300 (related to the semantic number of themes)\n",
    "# 120 for now in this test\n",
    "lstm_units = 300\n",
    "\n",
    "# timestep is 1 because you read a word at a time\n",
    "memory = timesteps\n",
    "print(\"LSTM memory span:\", memory)\n",
    "\n",
    "# features is the max length in the corpus, after padding!!!!\n",
    "features = X_train.shape[2]\n",
    "print(\"LSTM learning features:\", features)\n",
    "\n",
    "# batch size\n",
    "bs = int(X_train.shape[0]*0.01)\n",
    "print(\"LSTM learning batch size:\", bs)\n",
    "\n",
    "print(\"LSMT processing units:\", lstm_units)\n",
    "\n",
    "# configuration to remember previous recurrent layer\n",
    "retSeq = True\n",
    "\n",
    "# neurons/processing units size in the dense layer (THIS SHOULD BE SOM!!!!)\n",
    "dn1 = 32*32\n",
    "print(\"Dense processing units:\", dn1)\n",
    "# dn2 = len(XB_set[0])*SECURITY_FACTOR\n",
    "\n",
    "# numero de neuronas de salida\n",
    "outn1 = X_train.shape[2]\n",
    "print(\"Output prediction units:\", outn1)\n",
    "\n",
    "# axtivation functions\n",
    "inn = \"relu\"\n",
    "act = \"relu\"\n",
    "out = \"softmax\"\n",
    "\n",
    "# loss percentage\n",
    "ldrop = 0.2\n",
    "\n",
    "# random seed\n",
    "randseed = 42\n",
    "\n",
    "# parameters to compile model\n",
    "# loss function\n",
    "ls = \"mean_squared_error\"\n",
    "# ls = \"categorical_crossentropy\"\n",
    "\n",
    "# doptimization function\n",
    "opti = \"adam\"\n",
    "# evaluation score\n",
    "met = [\"accuracy\"]\n",
    "\n",
    "# parameters to exeute training\n",
    "# verbose mode\n",
    "ver = 1\n",
    "# training epocha\n",
    "epo = 300\n",
    "print(\"training epochs:\", epo)"
   ]
  },
  {
   "cell_type": "code",
   "execution_count": 159,
   "metadata": {},
   "outputs": [],
   "source": [
    "# model layers\n",
    "# to avoid overfit you need to use dropout in someplaces\n",
    "# options:\n",
    "# 1) Mask -> Drop -> LSTM1 -> LSTM2 -> LSTM3 -> Drop -> Dense -> Drop -> LSTM3 -> LSTM2 -> LSTM1 -> Drop -> TimeDistDense\n",
    "# 1) Mask -> Drop -> LSTM1 -> LSTM2 -> LSTM3 -> Dense -> LSTM3 -> LSTM2 -> LSTM1 -> Drop -> TimeDistDense\n",
    "# 2) Mask -> Drop -> LSTM1 -> LSTM2 -> LSTM2 -> Dense -> LSTM2 -> LSTM2 -> LSTM1 -> Drop -> TimeDistDense\n",
    "# 3) Mask -> Drop -> LSTM1 -> LSTM2 -> Drop -> Dense -> Drop -> LSTM2 -> LSTM1 -> Drop -> TimeDistDense\n",
    "# 3) Mask -> Drop -> LSTM1 -> Drop -> Dense -> Drop -> STM1 -> Drop -> TimeDistDense\n",
    "# 5) Mask -> Drop -> LSTM1 -> Drop -> Dense -> Drop -> LSTM1 -> TimeDistDense\n",
    "lstm_layers = (\n",
    "\n",
    "    # input layer (padding and prep)\n",
    "    Masking(mask_value=0.0, input_shape=(memory, features), name = \"LayMask\"),\n",
    "    Dropout(ldrop),\n",
    "\n",
    "    # intermediate recurrent encoder layer\n",
    "    LSTM(lstm_units, activation=inn, input_shape=(memory, features), return_sequences=True, name = \"EnLSTM_1\"),\n",
    "    Dropout(ldrop, name = \"EnDrop_1\"),\n",
    "\n",
    "    # intermediate recurrent encoder layer\n",
    "    LSTM(int(lstm_units/2), activation=inn, input_shape=(timesteps, features), return_sequences=True, name = \"EnLSTM_2\"),\n",
    "\n",
    "    # intermediate recurrent encoder layer\n",
    "    LSTM(int(lstm_units/4), activation=inn, input_shape=(timesteps, features), return_sequences=True),\n",
    "    Dropout(ldrop, name = \"EnDrop_2\"),\n",
    "\n",
    "    # mid dense encoding layer\n",
    "    # dense layer for abstraction (THIS SHOULD COULD SOM!!!!)\n",
    "    Dense(dn1, activation=act, name = \"MidDense\"),\n",
    "    Dropout(ldrop, name = \"DeDrop_1\"),\n",
    "\n",
    "    # intermediate recurrent decoder layer\n",
    "    LSTM(int(lstm_units/4), activation=inn, input_shape=(timesteps, features), return_sequences=True),\n",
    "\n",
    "    # intermediate recurrent decoder layer\n",
    "    LSTM(int(lstm_units/2), activation=inn, input_shape=(timesteps, features), return_sequences=True, name = \"DeLSTM_1\"),\n",
    "\n",
    "    # intermediate recurrent decoder layer\n",
    "    Dropout(ldrop, name = \"DeDrop_2\"),\n",
    "    LSTM(lstm_units, activation=inn, input_shape=(timesteps, features), return_sequences=True, name = \"DeLSTM_2\"),\n",
    "\n",
    "    # output layer, dense time sequential layer.\n",
    "    TimeDistributed(Dense(outn1, activation=out), name = \"LayOut\"),\n",
    ")"
   ]
  },
  {
   "source": [
    "# defining model\n",
    "lstm_model = Sequential(lstm_layers)\n",
    "lstm_model.model_name = \"LSTM_Autoencoder\""
   ],
   "cell_type": "code",
   "metadata": {},
   "execution_count": 160,
   "outputs": []
  },
  {
   "cell_type": "code",
   "execution_count": 161,
   "metadata": {},
   "outputs": [
    {
     "output_type": "stream",
     "name": "stdout",
     "text": [
      "Model: \"sequential_3\"\n_________________________________________________________________\nLayer (type)                 Output Shape              Param #   \n=================================================================\nLayMask (Masking)            (None, 15, 276)           0         \n_________________________________________________________________\ndropout_3 (Dropout)          (None, 15, 276)           0         \n_________________________________________________________________\nEnLSTM_1 (LSTM)              (None, 15, 300)           692400    \n_________________________________________________________________\nEnDrop_1 (Dropout)           (None, 15, 300)           0         \n_________________________________________________________________\nEnLSTM_2 (LSTM)              (None, 15, 150)           270600    \n_________________________________________________________________\nlstm_6 (LSTM)                (None, 15, 75)            67800     \n_________________________________________________________________\nEnDrop_2 (Dropout)           (None, 15, 75)            0         \n_________________________________________________________________\nMidDense (Dense)             (None, 15, 1024)          77824     \n_________________________________________________________________\nDeDrop_1 (Dropout)           (None, 15, 1024)          0         \n_________________________________________________________________\nlstm_7 (LSTM)                (None, 15, 75)            330000    \n_________________________________________________________________\nDeLSTM_1 (LSTM)              (None, 15, 150)           135600    \n_________________________________________________________________\nDeDrop_2 (Dropout)           (None, 15, 150)           0         \n_________________________________________________________________\nDeLSTM_2 (LSTM)              (None, 15, 300)           541200    \n_________________________________________________________________\nLayOut (TimeDistributed)     (None, 15, 276)           83076     \n=================================================================\nTotal params: 2,198,500\nTrainable params: 2,198,500\nNon-trainable params: 0\n_________________________________________________________________\n"
     ]
    }
   ],
   "source": [
    "# compile model\n",
    "lstm_model.compile(loss = ls, optimizer = opti, metrics = met)\n",
    "lstm_model.summary()"
   ]
  },
  {
   "cell_type": "code",
   "execution_count": 162,
   "metadata": {},
   "outputs": [],
   "source": [
    "# early stopping condition BECAAUSE THIS ARE TESTS\n",
    "EarlyStopLSTM_Acc = EarlyStopping(monitor = \"val_accuracy\", min_delta = 0.01, patience = 30, verbose = 1, mode = \"max\", restore_best_weights = True)\n"
   ]
  },
  {
   "cell_type": "code",
   "execution_count": 163,
   "metadata": {},
   "outputs": [
    {
     "output_type": "stream",
     "name": "stdout",
     "text": [
      "Epoch 1/300\n",
      "105/105 [==============================] - 20s 112ms/step - loss: 0.0071 - accuracy: 0.2636 - val_loss: 0.0070 - val_accuracy: 0.3144\n",
      "Epoch 2/300\n",
      "105/105 [==============================] - 11s 100ms/step - loss: 0.0063 - accuracy: 0.3224 - val_loss: 0.0065 - val_accuracy: 0.2721\n",
      "Epoch 3/300\n",
      "105/105 [==============================] - 11s 103ms/step - loss: 0.0059 - accuracy: 0.3092 - val_loss: 0.0064 - val_accuracy: 0.3122\n",
      "Epoch 4/300\n",
      "105/105 [==============================] - 11s 102ms/step - loss: 0.0058 - accuracy: 0.3221 - val_loss: 0.0064 - val_accuracy: 0.3126\n",
      "Epoch 5/300\n",
      "105/105 [==============================] - 11s 106ms/step - loss: 0.0058 - accuracy: 0.3291 - val_loss: 0.0063 - val_accuracy: 0.3118\n",
      "Epoch 6/300\n",
      "105/105 [==============================] - 11s 108ms/step - loss: 0.0058 - accuracy: 0.3244 - val_loss: 0.0063 - val_accuracy: 0.3078\n",
      "Epoch 7/300\n",
      "105/105 [==============================] - 11s 104ms/step - loss: 0.0058 - accuracy: 0.3306 - val_loss: 0.0063 - val_accuracy: 0.3056\n",
      "Epoch 8/300\n",
      "105/105 [==============================] - 11s 106ms/step - loss: 0.0058 - accuracy: 0.3319 - val_loss: 0.0062 - val_accuracy: 0.3301\n",
      "Epoch 9/300\n",
      "105/105 [==============================] - 11s 102ms/step - loss: 0.0057 - accuracy: 0.3466 - val_loss: 0.0062 - val_accuracy: 0.3643\n",
      "Epoch 10/300\n",
      "105/105 [==============================] - 11s 104ms/step - loss: 0.0057 - accuracy: 0.3601 - val_loss: 0.0062 - val_accuracy: 0.3647\n",
      "Epoch 11/300\n",
      "105/105 [==============================] - 10s 100ms/step - loss: 0.0056 - accuracy: 0.3774 - val_loss: 0.0061 - val_accuracy: 0.3639\n",
      "Epoch 12/300\n",
      "105/105 [==============================] - 11s 101ms/step - loss: 0.0056 - accuracy: 0.3918 - val_loss: 0.0061 - val_accuracy: 0.3712\n",
      "Epoch 13/300\n",
      "105/105 [==============================] - 11s 102ms/step - loss: 0.0056 - accuracy: 0.3893 - val_loss: 0.0061 - val_accuracy: 0.3719\n",
      "Epoch 14/300\n",
      "105/105 [==============================] - 10s 100ms/step - loss: 0.0056 - accuracy: 0.3884 - val_loss: 0.0061 - val_accuracy: 0.3832\n",
      "Epoch 15/300\n",
      "105/105 [==============================] - 11s 103ms/step - loss: 0.0056 - accuracy: 0.3972 - val_loss: 0.0061 - val_accuracy: 0.3840\n",
      "Epoch 16/300\n",
      "105/105 [==============================] - 11s 101ms/step - loss: 0.0056 - accuracy: 0.4150 - val_loss: 0.0061 - val_accuracy: 0.3869\n",
      "Epoch 17/300\n",
      "105/105 [==============================] - 11s 101ms/step - loss: 0.0056 - accuracy: 0.4134 - val_loss: 0.0060 - val_accuracy: 0.4036\n",
      "Epoch 18/300\n",
      "105/105 [==============================] - 10s 98ms/step - loss: 0.0055 - accuracy: 0.4222 - val_loss: 0.0061 - val_accuracy: 0.3847\n",
      "Epoch 19/300\n",
      "105/105 [==============================] - 11s 100ms/step - loss: 0.0055 - accuracy: 0.4226 - val_loss: 0.0060 - val_accuracy: 0.3949\n",
      "Epoch 20/300\n",
      "105/105 [==============================] - 11s 106ms/step - loss: 0.0055 - accuracy: 0.4231 - val_loss: 0.0060 - val_accuracy: 0.4091\n",
      "Epoch 21/300\n",
      "105/105 [==============================] - 12s 111ms/step - loss: 0.0055 - accuracy: 0.4337 - val_loss: 0.0060 - val_accuracy: 0.3971\n",
      "Epoch 22/300\n",
      "105/105 [==============================] - 10s 99ms/step - loss: 0.0055 - accuracy: 0.4311 - val_loss: 0.0060 - val_accuracy: 0.4077\n",
      "Epoch 23/300\n",
      "105/105 [==============================] - 10s 96ms/step - loss: 0.0055 - accuracy: 0.4398 - val_loss: 0.0060 - val_accuracy: 0.4087\n",
      "Epoch 24/300\n",
      "105/105 [==============================] - 10s 95ms/step - loss: 0.0055 - accuracy: 0.4387 - val_loss: 0.0060 - val_accuracy: 0.4372\n",
      "Epoch 25/300\n",
      "105/105 [==============================] - 10s 95ms/step - loss: 0.0055 - accuracy: 0.4481 - val_loss: 0.0060 - val_accuracy: 0.4259\n",
      "Epoch 26/300\n",
      "105/105 [==============================] - 10s 96ms/step - loss: 0.0055 - accuracy: 0.4549 - val_loss: 0.0060 - val_accuracy: 0.4146\n",
      "Epoch 27/300\n",
      "105/105 [==============================] - 10s 95ms/step - loss: 0.0055 - accuracy: 0.4591 - val_loss: 0.0060 - val_accuracy: 0.4350\n",
      "Epoch 28/300\n",
      "105/105 [==============================] - 10s 94ms/step - loss: 0.0055 - accuracy: 0.4593 - val_loss: 0.0060 - val_accuracy: 0.4463\n",
      "Epoch 29/300\n",
      "105/105 [==============================] - 10s 97ms/step - loss: 0.0055 - accuracy: 0.4774 - val_loss: 0.0060 - val_accuracy: 0.4532\n",
      "Epoch 30/300\n",
      "105/105 [==============================] - 10s 96ms/step - loss: 0.0055 - accuracy: 0.4784 - val_loss: 0.0060 - val_accuracy: 0.4517\n",
      "Epoch 31/300\n",
      "105/105 [==============================] - 10s 95ms/step - loss: 0.0055 - accuracy: 0.4828 - val_loss: 0.0059 - val_accuracy: 0.4670\n",
      "Epoch 32/300\n",
      "105/105 [==============================] - 10s 99ms/step - loss: 0.0054 - accuracy: 0.4863 - val_loss: 0.0059 - val_accuracy: 0.4565\n",
      "Epoch 33/300\n",
      "105/105 [==============================] - 11s 108ms/step - loss: 0.0054 - accuracy: 0.4853 - val_loss: 0.0059 - val_accuracy: 0.4747\n",
      "Epoch 34/300\n",
      "105/105 [==============================] - 11s 109ms/step - loss: 0.0054 - accuracy: 0.4952 - val_loss: 0.0059 - val_accuracy: 0.4685\n",
      "Epoch 35/300\n",
      "105/105 [==============================] - 12s 111ms/step - loss: 0.0054 - accuracy: 0.4922 - val_loss: 0.0060 - val_accuracy: 0.4703\n",
      "Epoch 36/300\n",
      "105/105 [==============================] - 11s 105ms/step - loss: 0.0054 - accuracy: 0.4889 - val_loss: 0.0059 - val_accuracy: 0.4794\n",
      "Epoch 37/300\n",
      "105/105 [==============================] - 10s 99ms/step - loss: 0.0054 - accuracy: 0.4941 - val_loss: 0.0059 - val_accuracy: 0.4936\n",
      "Epoch 38/300\n",
      "105/105 [==============================] - 10s 97ms/step - loss: 0.0054 - accuracy: 0.5106 - val_loss: 0.0059 - val_accuracy: 0.4776\n",
      "Epoch 39/300\n",
      "105/105 [==============================] - 10s 99ms/step - loss: 0.0054 - accuracy: 0.5113 - val_loss: 0.0059 - val_accuracy: 0.5078\n",
      "Epoch 40/300\n",
      "105/105 [==============================] - 11s 103ms/step - loss: 0.0054 - accuracy: 0.5218 - val_loss: 0.0059 - val_accuracy: 0.5005\n",
      "Epoch 41/300\n",
      "105/105 [==============================] - 11s 104ms/step - loss: 0.0054 - accuracy: 0.5159 - val_loss: 0.0059 - val_accuracy: 0.4944\n",
      "Epoch 42/300\n",
      "105/105 [==============================] - 11s 103ms/step - loss: 0.0054 - accuracy: 0.5281 - val_loss: 0.0059 - val_accuracy: 0.4973\n",
      "Epoch 43/300\n",
      "105/105 [==============================] - 11s 103ms/step - loss: 0.0054 - accuracy: 0.5326 - val_loss: 0.0059 - val_accuracy: 0.5020\n",
      "Epoch 44/300\n",
      "105/105 [==============================] - 11s 102ms/step - loss: 0.0054 - accuracy: 0.5359 - val_loss: 0.0059 - val_accuracy: 0.5060\n",
      "Epoch 45/300\n",
      "105/105 [==============================] - 11s 106ms/step - loss: 0.0054 - accuracy: 0.5377 - val_loss: 0.0059 - val_accuracy: 0.5180\n",
      "Epoch 46/300\n",
      "105/105 [==============================] - 11s 110ms/step - loss: 0.0054 - accuracy: 0.5481 - val_loss: 0.0059 - val_accuracy: 0.5246\n",
      "Epoch 47/300\n",
      "105/105 [==============================] - 12s 110ms/step - loss: 0.0054 - accuracy: 0.5468 - val_loss: 0.0059 - val_accuracy: 0.5016\n",
      "Epoch 48/300\n",
      "105/105 [==============================] - 12s 110ms/step - loss: 0.0054 - accuracy: 0.5450 - val_loss: 0.0059 - val_accuracy: 0.5228\n",
      "Epoch 49/300\n",
      "105/105 [==============================] - 13s 121ms/step - loss: 0.0054 - accuracy: 0.5466 - val_loss: 0.0059 - val_accuracy: 0.5129\n",
      "Epoch 50/300\n",
      "105/105 [==============================] - 12s 119ms/step - loss: 0.0054 - accuracy: 0.5522 - val_loss: 0.0059 - val_accuracy: 0.5366\n",
      "Epoch 51/300\n",
      "105/105 [==============================] - 12s 115ms/step - loss: 0.0054 - accuracy: 0.5466 - val_loss: 0.0059 - val_accuracy: 0.5257\n",
      "Epoch 52/300\n",
      "105/105 [==============================] - 11s 110ms/step - loss: 0.0054 - accuracy: 0.5440 - val_loss: 0.0059 - val_accuracy: 0.5137\n",
      "Epoch 53/300\n",
      "105/105 [==============================] - 12s 113ms/step - loss: 0.0053 - accuracy: 0.5448 - val_loss: 0.0059 - val_accuracy: 0.5271\n",
      "Epoch 54/300\n",
      "105/105 [==============================] - 12s 114ms/step - loss: 0.0053 - accuracy: 0.5557 - val_loss: 0.0059 - val_accuracy: 0.5424\n",
      "Epoch 55/300\n",
      "105/105 [==============================] - 13s 121ms/step - loss: 0.0053 - accuracy: 0.5575 - val_loss: 0.0059 - val_accuracy: 0.5512\n",
      "Epoch 56/300\n",
      "105/105 [==============================] - 12s 119ms/step - loss: 0.0053 - accuracy: 0.5648 - val_loss: 0.0059 - val_accuracy: 0.5424\n",
      "Epoch 57/300\n",
      "105/105 [==============================] - 12s 113ms/step - loss: 0.0053 - accuracy: 0.5623 - val_loss: 0.0059 - val_accuracy: 0.5410\n",
      "Epoch 58/300\n",
      "105/105 [==============================] - 13s 121ms/step - loss: 0.0053 - accuracy: 0.5634 - val_loss: 0.0059 - val_accuracy: 0.5279\n",
      "Epoch 59/300\n",
      "105/105 [==============================] - 14s 132ms/step - loss: 0.0053 - accuracy: 0.5716 - val_loss: 0.0059 - val_accuracy: 0.5275\n",
      "Epoch 60/300\n",
      "105/105 [==============================] - 14s 136ms/step - loss: 0.0053 - accuracy: 0.5600 - val_loss: 0.0059 - val_accuracy: 0.5435\n",
      "Epoch 61/300\n",
      "105/105 [==============================] - 14s 135ms/step - loss: 0.0053 - accuracy: 0.5655 - val_loss: 0.0059 - val_accuracy: 0.5486\n",
      "Epoch 62/300\n",
      "105/105 [==============================] - 15s 141ms/step - loss: 0.0053 - accuracy: 0.5751 - val_loss: 0.0059 - val_accuracy: 0.5410\n",
      "Epoch 63/300\n",
      "105/105 [==============================] - 15s 143ms/step - loss: 0.0053 - accuracy: 0.5711 - val_loss: 0.0058 - val_accuracy: 0.5457\n",
      "Epoch 64/300\n",
      "105/105 [==============================] - 14s 138ms/step - loss: 0.0053 - accuracy: 0.5755 - val_loss: 0.0059 - val_accuracy: 0.5508\n",
      "Epoch 65/300\n",
      "105/105 [==============================] - 15s 140ms/step - loss: 0.0053 - accuracy: 0.5762 - val_loss: 0.0058 - val_accuracy: 0.5519\n",
      "Epoch 66/300\n",
      "105/105 [==============================] - 14s 137ms/step - loss: 0.0053 - accuracy: 0.5808 - val_loss: 0.0058 - val_accuracy: 0.5486\n",
      "Epoch 67/300\n",
      "105/105 [==============================] - 14s 135ms/step - loss: 0.0053 - accuracy: 0.5732 - val_loss: 0.0058 - val_accuracy: 0.5519\n",
      "Epoch 68/300\n",
      "105/105 [==============================] - 14s 137ms/step - loss: 0.0053 - accuracy: 0.5821 - val_loss: 0.0058 - val_accuracy: 0.5756\n",
      "Epoch 69/300\n",
      "105/105 [==============================] - 14s 132ms/step - loss: 0.0053 - accuracy: 0.5723 - val_loss: 0.0058 - val_accuracy: 0.5679\n",
      "Epoch 70/300\n",
      "105/105 [==============================] - 15s 142ms/step - loss: 0.0053 - accuracy: 0.5826 - val_loss: 0.0058 - val_accuracy: 0.5541\n",
      "Epoch 71/300\n",
      "105/105 [==============================] - 14s 137ms/step - loss: 0.0053 - accuracy: 0.5917 - val_loss: 0.0059 - val_accuracy: 0.5352\n",
      "Epoch 72/300\n",
      "105/105 [==============================] - 18s 172ms/step - loss: 0.0053 - accuracy: 0.5815 - val_loss: 0.0058 - val_accuracy: 0.5308\n",
      "Epoch 73/300\n",
      "105/105 [==============================] - 18s 168ms/step - loss: 0.0053 - accuracy: 0.5884 - val_loss: 0.0058 - val_accuracy: 0.5381\n",
      "Epoch 74/300\n",
      "105/105 [==============================] - 15s 143ms/step - loss: 0.0053 - accuracy: 0.5865 - val_loss: 0.0058 - val_accuracy: 0.5603\n",
      "Epoch 75/300\n",
      "105/105 [==============================] - 15s 142ms/step - loss: 0.0053 - accuracy: 0.5905 - val_loss: 0.0058 - val_accuracy: 0.5665\n",
      "Epoch 76/300\n",
      "105/105 [==============================] - 18s 170ms/step - loss: 0.0053 - accuracy: 0.5899 - val_loss: 0.0058 - val_accuracy: 0.5760\n",
      "Epoch 77/300\n",
      "105/105 [==============================] - 17s 160ms/step - loss: 0.0053 - accuracy: 0.5904 - val_loss: 0.0058 - val_accuracy: 0.5486\n",
      "Epoch 78/300\n",
      "105/105 [==============================] - 16s 154ms/step - loss: 0.0053 - accuracy: 0.5763 - val_loss: 0.0058 - val_accuracy: 0.5348\n",
      "Epoch 79/300\n",
      "105/105 [==============================] - 15s 140ms/step - loss: 0.0053 - accuracy: 0.5917 - val_loss: 0.0058 - val_accuracy: 0.5413\n",
      "Epoch 80/300\n",
      "105/105 [==============================] - 15s 144ms/step - loss: 0.0053 - accuracy: 0.5920 - val_loss: 0.0058 - val_accuracy: 0.5428\n",
      "Epoch 81/300\n",
      "105/105 [==============================] - 17s 163ms/step - loss: 0.0053 - accuracy: 0.5962 - val_loss: 0.0058 - val_accuracy: 0.5607\n",
      "Epoch 82/300\n",
      "105/105 [==============================] - 18s 170ms/step - loss: 0.0053 - accuracy: 0.5945 - val_loss: 0.0058 - val_accuracy: 0.5392\n",
      "Epoch 83/300\n",
      "105/105 [==============================] - 18s 175ms/step - loss: 0.0053 - accuracy: 0.5940 - val_loss: 0.0058 - val_accuracy: 0.5395\n",
      "Epoch 84/300\n",
      "105/105 [==============================] - 16s 155ms/step - loss: 0.0053 - accuracy: 0.6022 - val_loss: 0.0058 - val_accuracy: 0.5315\n",
      "Epoch 85/300\n",
      "105/105 [==============================] - 18s 170ms/step - loss: 0.0053 - accuracy: 0.5968 - val_loss: 0.0058 - val_accuracy: 0.5563\n",
      "Epoch 86/300\n",
      "105/105 [==============================] - 20s 188ms/step - loss: 0.0053 - accuracy: 0.6031 - val_loss: 0.0058 - val_accuracy: 0.5577\n",
      "Epoch 87/300\n",
      "105/105 [==============================] - 18s 174ms/step - loss: 0.0053 - accuracy: 0.5964 - val_loss: 0.0058 - val_accuracy: 0.5341\n",
      "Epoch 88/300\n",
      "105/105 [==============================] - 16s 149ms/step - loss: 0.0053 - accuracy: 0.5877 - val_loss: 0.0058 - val_accuracy: 0.5614\n",
      "Epoch 89/300\n",
      "105/105 [==============================] - 14s 138ms/step - loss: 0.0053 - accuracy: 0.6032 - val_loss: 0.0058 - val_accuracy: 0.5519\n",
      "Epoch 90/300\n",
      "105/105 [==============================] - 18s 173ms/step - loss: 0.0053 - accuracy: 0.6106 - val_loss: 0.0058 - val_accuracy: 0.5585\n",
      "Epoch 91/300\n",
      "105/105 [==============================] - 15s 147ms/step - loss: 0.0053 - accuracy: 0.6028 - val_loss: 0.0058 - val_accuracy: 0.5406\n",
      "Epoch 92/300\n",
      "105/105 [==============================] - 17s 160ms/step - loss: 0.0053 - accuracy: 0.5778 - val_loss: 0.0058 - val_accuracy: 0.5523\n",
      "Epoch 93/300\n",
      "105/105 [==============================] - 19s 180ms/step - loss: 0.0053 - accuracy: 0.5986 - val_loss: 0.0058 - val_accuracy: 0.5344\n",
      "Epoch 94/300\n",
      "105/105 [==============================] - 18s 176ms/step - loss: 0.0053 - accuracy: 0.6063 - val_loss: 0.0058 - val_accuracy: 0.5552\n",
      "Epoch 95/300\n",
      "105/105 [==============================] - 19s 180ms/step - loss: 0.0052 - accuracy: 0.6091 - val_loss: 0.0058 - val_accuracy: 0.5494\n",
      "Epoch 96/300\n",
      "105/105 [==============================] - 19s 186ms/step - loss: 0.0052 - accuracy: 0.6131 - val_loss: 0.0058 - val_accuracy: 0.5676\n",
      "Epoch 97/300\n",
      "105/105 [==============================] - 19s 183ms/step - loss: 0.0052 - accuracy: 0.6167 - val_loss: 0.0058 - val_accuracy: 0.5716\n",
      "Epoch 98/300\n",
      "105/105 [==============================] - 19s 180ms/step - loss: 0.0052 - accuracy: 0.6108 - val_loss: 0.0058 - val_accuracy: 0.5610\n",
      "Restoring model weights from the end of the best epoch.\n",
      "Epoch 00098: early stopping\n"
     ]
    }
   ],
   "source": [
    "# training model\n",
    "history_lstm = lstm_model.fit(\n",
    "    x = Xtf_train, \n",
    "    y = ytf_train,\n",
    "    epochs = epo, \n",
    "    verbose = ver, \n",
    "    workers = 6,\n",
    "    batch_size = bs, \n",
    "    callbacks = [EarlyStopLSTM_Acc],\n",
    "    shuffle = False,\n",
    "    use_multiprocessing = True,\n",
    "    validation_data = (Xtf_test, ytf_test),\n",
    ")"
   ]
  },
  {
   "cell_type": "code",
   "execution_count": 164,
   "metadata": {},
   "outputs": [
    {
     "output_type": "stream",
     "name": "stdout",
     "text": [
      "6/6 [==============================] - 1s 87ms/step - loss: 0.0058 - accuracy: 0.5756\n"
     ]
    }
   ],
   "source": [
    "# evaluationg model\n",
    "lstm_eval = lstm_model.evaluate(x = Xtf_test, y = ytf_test)"
   ]
  },
  {
   "cell_type": "code",
   "execution_count": 165,
   "metadata": {},
   "outputs": [
    {
     "output_type": "stream",
     "name": "stdout",
     "text": [
      "avg loss:  0.00582345062866807\n",
      "avg acc:  0.5755919814109802\n"
     ]
    }
   ],
   "source": [
    "# general evaluation \n",
    "print(\"avg loss: \", lstm_eval[0])\n",
    "print(\"avg acc: \", lstm_eval[1])"
   ]
  },
  {
   "cell_type": "code",
   "execution_count": 166,
   "metadata": {},
   "outputs": [
    {
     "output_type": "stream",
     "name": "stdout",
     "text": [
      "27/27 [==============================] - 2s 35ms/step\n"
     ]
    }
   ],
   "source": [
    "# testing model\n",
    "lstm_results = lstm_model.predict(X_test, batch_size = bs, verbose = 1)#, batch_size = bs)"
   ]
  },
  {
   "cell_type": "code",
   "execution_count": 167,
   "metadata": {},
   "outputs": [
    {
     "output_type": "stream",
     "name": "stdout",
     "text": [
      "The trained  model is: c:\\Users\\Felipe\\Documents\\GitHub\\sa-artea\\VVG-MLModel-Trainer\\Data\\Models\\vvg_lstm_autoencoder\n",
      "INFO:tensorflow:Assets written to: c:\\Users\\Felipe\\Documents\\GitHub\\sa-artea\\VVG-MLModel-Trainer\\Data\\Models\\vvg_lstm_autoencoder\\assets\n"
     ]
    }
   ],
   "source": [
    "# saving model\n",
    "wdir = os.getcwd()\n",
    "models_folder = \"Models\"\n",
    "model_fname = \"vvg_lstm_autoencoder\"\n",
    "model_fpn = os.path.join(root_folder, dataf, models_folder, model_fname)\n",
    "print(\"The trained  model is:\", model_fpn)\n",
    "lstm_model.save(model_fpn)"
   ]
  },
  {
   "cell_type": "code",
   "execution_count": 168,
   "metadata": {},
   "outputs": [
    {
     "output_type": "stream",
     "name": "stdout",
     "text": [
      "(183, 15, 276)\n"
     ]
    }
   ],
   "source": [
    "# cheking test shape\n",
    "print(lstm_results.shape)"
   ]
  },
  {
   "cell_type": "code",
   "execution_count": 169,
   "metadata": {},
   "outputs": [
    {
     "output_type": "stream",
     "name": "stderr",
     "text": [
      "<ipython-input-169-27ae52336ddd>:21: UserWarning: Matplotlib is currently using module://ipykernel.pylab.backend_inline, which is a non-GUI backend, so cannot show the figure.\n  fig.show()\n"
     ]
    },
    {
     "output_type": "display_data",
     "data": {
      "text/plain": "<Figure size 1152x576 with 2 Axes>",
      "image/svg+xml": "<?xml version=\"1.0\" encoding=\"utf-8\" standalone=\"no\"?>\r\n<!DOCTYPE svg PUBLIC \"-//W3C//DTD SVG 1.1//EN\"\r\n  \"http://www.w3.org/Graphics/SVG/1.1/DTD/svg11.dtd\">\r\n<svg height=\"543.75625pt\" version=\"1.1\" viewBox=\"0 0 1079.43125 543.75625\" width=\"1079.43125pt\" xmlns=\"http://www.w3.org/2000/svg\" xmlns:xlink=\"http://www.w3.org/1999/xlink\">\r\n <metadata>\r\n  <rdf:RDF xmlns:cc=\"http://creativecommons.org/ns#\" xmlns:dc=\"http://purl.org/dc/elements/1.1/\" xmlns:rdf=\"http://www.w3.org/1999/02/22-rdf-syntax-ns#\">\r\n   <cc:Work>\r\n    <dc:type rdf:resource=\"http://purl.org/dc/dcmitype/StillImage\"/>\r\n    <dc:date>2021-05-13T19:13:22.205173</dc:date>\r\n    <dc:format>image/svg+xml</dc:format>\r\n    <dc:creator>\r\n     <cc:Agent>\r\n      <dc:title>Matplotlib v3.4.1, https://matplotlib.org/</dc:title>\r\n     </cc:Agent>\r\n    </dc:creator>\r\n   </cc:Work>\r\n  </rdf:RDF>\r\n </metadata>\r\n <defs>\r\n  <style type=\"text/css\">*{stroke-linecap:butt;stroke-linejoin:round;}</style>\r\n </defs>\r\n <g id=\"figure_1\">\r\n  <g id=\"patch_1\">\r\n   <path d=\"M 0 543.75625 \r\nL 1079.43125 543.75625 \r\nL 1079.43125 0 \r\nL 0 0 \r\nz\r\n\" style=\"fill:none;\"/>\r\n  </g>\r\n  <g id=\"axes_1\">\r\n   <g id=\"patch_2\">\r\n    <path d=\"M 69.23125 506.2 \r\nL 475.049432 506.2 \r\nL 475.049432 71.32 \r\nL 69.23125 71.32 \r\nz\r\n\" style=\"fill:#ffffff;\"/>\r\n   </g>\r\n   <g id=\"matplotlib.axis_1\">\r\n    <g id=\"xtick_1\">\r\n     <g id=\"line2d_1\">\r\n      <path clip-path=\"url(#p7717515f3d)\" d=\"M 87.677531 506.2 \r\nL 87.677531 71.32 \r\n\" style=\"fill:none;stroke:#b0b0b0;stroke-linecap:square;stroke-width:0.8;\"/>\r\n     </g>\r\n     <g id=\"line2d_2\">\r\n      <defs>\r\n       <path d=\"M 0 0 \r\nL 0 3.5 \r\n\" id=\"m0e5e6008a7\" style=\"stroke:#000000;stroke-width:0.8;\"/>\r\n      </defs>\r\n      <g>\r\n       <use style=\"stroke:#000000;stroke-width:0.8;\" x=\"87.677531\" xlink:href=\"#m0e5e6008a7\" y=\"506.2\"/>\r\n      </g>\r\n     </g>\r\n     <g id=\"text_1\">\r\n      <!-- 0 -->\r\n      <g transform=\"translate(84.496281 520.798438)scale(0.1 -0.1)\">\r\n       <defs>\r\n        <path d=\"M 2034 4250 \r\nQ 1547 4250 1301 3770 \r\nQ 1056 3291 1056 2328 \r\nQ 1056 1369 1301 889 \r\nQ 1547 409 2034 409 \r\nQ 2525 409 2770 889 \r\nQ 3016 1369 3016 2328 \r\nQ 3016 3291 2770 3770 \r\nQ 2525 4250 2034 4250 \r\nz\r\nM 2034 4750 \r\nQ 2819 4750 3233 4129 \r\nQ 3647 3509 3647 2328 \r\nQ 3647 1150 3233 529 \r\nQ 2819 -91 2034 -91 \r\nQ 1250 -91 836 529 \r\nQ 422 1150 422 2328 \r\nQ 422 3509 836 4129 \r\nQ 1250 4750 2034 4750 \r\nz\r\n\" id=\"DejaVuSans-30\" transform=\"scale(0.015625)\"/>\r\n       </defs>\r\n       <use xlink:href=\"#DejaVuSans-30\"/>\r\n      </g>\r\n     </g>\r\n    </g>\r\n    <g id=\"xtick_2\">\r\n     <g id=\"line2d_3\">\r\n      <path clip-path=\"url(#p7717515f3d)\" d=\"M 163.744669 506.2 \r\nL 163.744669 71.32 \r\n\" style=\"fill:none;stroke:#b0b0b0;stroke-linecap:square;stroke-width:0.8;\"/>\r\n     </g>\r\n     <g id=\"line2d_4\">\r\n      <g>\r\n       <use style=\"stroke:#000000;stroke-width:0.8;\" x=\"163.744669\" xlink:href=\"#m0e5e6008a7\" y=\"506.2\"/>\r\n      </g>\r\n     </g>\r\n     <g id=\"text_2\">\r\n      <!-- 20 -->\r\n      <g transform=\"translate(157.382169 520.798438)scale(0.1 -0.1)\">\r\n       <defs>\r\n        <path d=\"M 1228 531 \r\nL 3431 531 \r\nL 3431 0 \r\nL 469 0 \r\nL 469 531 \r\nQ 828 903 1448 1529 \r\nQ 2069 2156 2228 2338 \r\nQ 2531 2678 2651 2914 \r\nQ 2772 3150 2772 3378 \r\nQ 2772 3750 2511 3984 \r\nQ 2250 4219 1831 4219 \r\nQ 1534 4219 1204 4116 \r\nQ 875 4013 500 3803 \r\nL 500 4441 \r\nQ 881 4594 1212 4672 \r\nQ 1544 4750 1819 4750 \r\nQ 2544 4750 2975 4387 \r\nQ 3406 4025 3406 3419 \r\nQ 3406 3131 3298 2873 \r\nQ 3191 2616 2906 2266 \r\nQ 2828 2175 2409 1742 \r\nQ 1991 1309 1228 531 \r\nz\r\n\" id=\"DejaVuSans-32\" transform=\"scale(0.015625)\"/>\r\n       </defs>\r\n       <use xlink:href=\"#DejaVuSans-32\"/>\r\n       <use x=\"63.623047\" xlink:href=\"#DejaVuSans-30\"/>\r\n      </g>\r\n     </g>\r\n    </g>\r\n    <g id=\"xtick_3\">\r\n     <g id=\"line2d_5\">\r\n      <path clip-path=\"url(#p7717515f3d)\" d=\"M 239.811807 506.2 \r\nL 239.811807 71.32 \r\n\" style=\"fill:none;stroke:#b0b0b0;stroke-linecap:square;stroke-width:0.8;\"/>\r\n     </g>\r\n     <g id=\"line2d_6\">\r\n      <g>\r\n       <use style=\"stroke:#000000;stroke-width:0.8;\" x=\"239.811807\" xlink:href=\"#m0e5e6008a7\" y=\"506.2\"/>\r\n      </g>\r\n     </g>\r\n     <g id=\"text_3\">\r\n      <!-- 40 -->\r\n      <g transform=\"translate(233.449307 520.798438)scale(0.1 -0.1)\">\r\n       <defs>\r\n        <path d=\"M 2419 4116 \r\nL 825 1625 \r\nL 2419 1625 \r\nL 2419 4116 \r\nz\r\nM 2253 4666 \r\nL 3047 4666 \r\nL 3047 1625 \r\nL 3713 1625 \r\nL 3713 1100 \r\nL 3047 1100 \r\nL 3047 0 \r\nL 2419 0 \r\nL 2419 1100 \r\nL 313 1100 \r\nL 313 1709 \r\nL 2253 4666 \r\nz\r\n\" id=\"DejaVuSans-34\" transform=\"scale(0.015625)\"/>\r\n       </defs>\r\n       <use xlink:href=\"#DejaVuSans-34\"/>\r\n       <use x=\"63.623047\" xlink:href=\"#DejaVuSans-30\"/>\r\n      </g>\r\n     </g>\r\n    </g>\r\n    <g id=\"xtick_4\">\r\n     <g id=\"line2d_7\">\r\n      <path clip-path=\"url(#p7717515f3d)\" d=\"M 315.878945 506.2 \r\nL 315.878945 71.32 \r\n\" style=\"fill:none;stroke:#b0b0b0;stroke-linecap:square;stroke-width:0.8;\"/>\r\n     </g>\r\n     <g id=\"line2d_8\">\r\n      <g>\r\n       <use style=\"stroke:#000000;stroke-width:0.8;\" x=\"315.878945\" xlink:href=\"#m0e5e6008a7\" y=\"506.2\"/>\r\n      </g>\r\n     </g>\r\n     <g id=\"text_4\">\r\n      <!-- 60 -->\r\n      <g transform=\"translate(309.516445 520.798438)scale(0.1 -0.1)\">\r\n       <defs>\r\n        <path d=\"M 2113 2584 \r\nQ 1688 2584 1439 2293 \r\nQ 1191 2003 1191 1497 \r\nQ 1191 994 1439 701 \r\nQ 1688 409 2113 409 \r\nQ 2538 409 2786 701 \r\nQ 3034 994 3034 1497 \r\nQ 3034 2003 2786 2293 \r\nQ 2538 2584 2113 2584 \r\nz\r\nM 3366 4563 \r\nL 3366 3988 \r\nQ 3128 4100 2886 4159 \r\nQ 2644 4219 2406 4219 \r\nQ 1781 4219 1451 3797 \r\nQ 1122 3375 1075 2522 \r\nQ 1259 2794 1537 2939 \r\nQ 1816 3084 2150 3084 \r\nQ 2853 3084 3261 2657 \r\nQ 3669 2231 3669 1497 \r\nQ 3669 778 3244 343 \r\nQ 2819 -91 2113 -91 \r\nQ 1303 -91 875 529 \r\nQ 447 1150 447 2328 \r\nQ 447 3434 972 4092 \r\nQ 1497 4750 2381 4750 \r\nQ 2619 4750 2861 4703 \r\nQ 3103 4656 3366 4563 \r\nz\r\n\" id=\"DejaVuSans-36\" transform=\"scale(0.015625)\"/>\r\n       </defs>\r\n       <use xlink:href=\"#DejaVuSans-36\"/>\r\n       <use x=\"63.623047\" xlink:href=\"#DejaVuSans-30\"/>\r\n      </g>\r\n     </g>\r\n    </g>\r\n    <g id=\"xtick_5\">\r\n     <g id=\"line2d_9\">\r\n      <path clip-path=\"url(#p7717515f3d)\" d=\"M 391.946083 506.2 \r\nL 391.946083 71.32 \r\n\" style=\"fill:none;stroke:#b0b0b0;stroke-linecap:square;stroke-width:0.8;\"/>\r\n     </g>\r\n     <g id=\"line2d_10\">\r\n      <g>\r\n       <use style=\"stroke:#000000;stroke-width:0.8;\" x=\"391.946083\" xlink:href=\"#m0e5e6008a7\" y=\"506.2\"/>\r\n      </g>\r\n     </g>\r\n     <g id=\"text_5\">\r\n      <!-- 80 -->\r\n      <g transform=\"translate(385.583583 520.798438)scale(0.1 -0.1)\">\r\n       <defs>\r\n        <path d=\"M 2034 2216 \r\nQ 1584 2216 1326 1975 \r\nQ 1069 1734 1069 1313 \r\nQ 1069 891 1326 650 \r\nQ 1584 409 2034 409 \r\nQ 2484 409 2743 651 \r\nQ 3003 894 3003 1313 \r\nQ 3003 1734 2745 1975 \r\nQ 2488 2216 2034 2216 \r\nz\r\nM 1403 2484 \r\nQ 997 2584 770 2862 \r\nQ 544 3141 544 3541 \r\nQ 544 4100 942 4425 \r\nQ 1341 4750 2034 4750 \r\nQ 2731 4750 3128 4425 \r\nQ 3525 4100 3525 3541 \r\nQ 3525 3141 3298 2862 \r\nQ 3072 2584 2669 2484 \r\nQ 3125 2378 3379 2068 \r\nQ 3634 1759 3634 1313 \r\nQ 3634 634 3220 271 \r\nQ 2806 -91 2034 -91 \r\nQ 1263 -91 848 271 \r\nQ 434 634 434 1313 \r\nQ 434 1759 690 2068 \r\nQ 947 2378 1403 2484 \r\nz\r\nM 1172 3481 \r\nQ 1172 3119 1398 2916 \r\nQ 1625 2713 2034 2713 \r\nQ 2441 2713 2670 2916 \r\nQ 2900 3119 2900 3481 \r\nQ 2900 3844 2670 4047 \r\nQ 2441 4250 2034 4250 \r\nQ 1625 4250 1398 4047 \r\nQ 1172 3844 1172 3481 \r\nz\r\n\" id=\"DejaVuSans-38\" transform=\"scale(0.015625)\"/>\r\n       </defs>\r\n       <use xlink:href=\"#DejaVuSans-38\"/>\r\n       <use x=\"63.623047\" xlink:href=\"#DejaVuSans-30\"/>\r\n      </g>\r\n     </g>\r\n    </g>\r\n    <g id=\"xtick_6\">\r\n     <g id=\"line2d_11\">\r\n      <path clip-path=\"url(#p7717515f3d)\" d=\"M 468.013222 506.2 \r\nL 468.013222 71.32 \r\n\" style=\"fill:none;stroke:#b0b0b0;stroke-linecap:square;stroke-width:0.8;\"/>\r\n     </g>\r\n     <g id=\"line2d_12\">\r\n      <g>\r\n       <use style=\"stroke:#000000;stroke-width:0.8;\" x=\"468.013222\" xlink:href=\"#m0e5e6008a7\" y=\"506.2\"/>\r\n      </g>\r\n     </g>\r\n     <g id=\"text_6\">\r\n      <!-- 100 -->\r\n      <g transform=\"translate(458.469472 520.798438)scale(0.1 -0.1)\">\r\n       <defs>\r\n        <path d=\"M 794 531 \r\nL 1825 531 \r\nL 1825 4091 \r\nL 703 3866 \r\nL 703 4441 \r\nL 1819 4666 \r\nL 2450 4666 \r\nL 2450 531 \r\nL 3481 531 \r\nL 3481 0 \r\nL 794 0 \r\nL 794 531 \r\nz\r\n\" id=\"DejaVuSans-31\" transform=\"scale(0.015625)\"/>\r\n       </defs>\r\n       <use xlink:href=\"#DejaVuSans-31\"/>\r\n       <use x=\"63.623047\" xlink:href=\"#DejaVuSans-30\"/>\r\n       <use x=\"127.246094\" xlink:href=\"#DejaVuSans-30\"/>\r\n      </g>\r\n     </g>\r\n    </g>\r\n    <g id=\"text_7\">\r\n     <!-- Epoch [cycle] -->\r\n     <g transform=\"translate(238.415341 534.476563)scale(0.1 -0.1)\">\r\n      <defs>\r\n       <path d=\"M 628 4666 \r\nL 3578 4666 \r\nL 3578 4134 \r\nL 1259 4134 \r\nL 1259 2753 \r\nL 3481 2753 \r\nL 3481 2222 \r\nL 1259 2222 \r\nL 1259 531 \r\nL 3634 531 \r\nL 3634 0 \r\nL 628 0 \r\nL 628 4666 \r\nz\r\n\" id=\"DejaVuSans-45\" transform=\"scale(0.015625)\"/>\r\n       <path d=\"M 1159 525 \r\nL 1159 -1331 \r\nL 581 -1331 \r\nL 581 3500 \r\nL 1159 3500 \r\nL 1159 2969 \r\nQ 1341 3281 1617 3432 \r\nQ 1894 3584 2278 3584 \r\nQ 2916 3584 3314 3078 \r\nQ 3713 2572 3713 1747 \r\nQ 3713 922 3314 415 \r\nQ 2916 -91 2278 -91 \r\nQ 1894 -91 1617 61 \r\nQ 1341 213 1159 525 \r\nz\r\nM 3116 1747 \r\nQ 3116 2381 2855 2742 \r\nQ 2594 3103 2138 3103 \r\nQ 1681 3103 1420 2742 \r\nQ 1159 2381 1159 1747 \r\nQ 1159 1113 1420 752 \r\nQ 1681 391 2138 391 \r\nQ 2594 391 2855 752 \r\nQ 3116 1113 3116 1747 \r\nz\r\n\" id=\"DejaVuSans-70\" transform=\"scale(0.015625)\"/>\r\n       <path d=\"M 1959 3097 \r\nQ 1497 3097 1228 2736 \r\nQ 959 2375 959 1747 \r\nQ 959 1119 1226 758 \r\nQ 1494 397 1959 397 \r\nQ 2419 397 2687 759 \r\nQ 2956 1122 2956 1747 \r\nQ 2956 2369 2687 2733 \r\nQ 2419 3097 1959 3097 \r\nz\r\nM 1959 3584 \r\nQ 2709 3584 3137 3096 \r\nQ 3566 2609 3566 1747 \r\nQ 3566 888 3137 398 \r\nQ 2709 -91 1959 -91 \r\nQ 1206 -91 779 398 \r\nQ 353 888 353 1747 \r\nQ 353 2609 779 3096 \r\nQ 1206 3584 1959 3584 \r\nz\r\n\" id=\"DejaVuSans-6f\" transform=\"scale(0.015625)\"/>\r\n       <path d=\"M 3122 3366 \r\nL 3122 2828 \r\nQ 2878 2963 2633 3030 \r\nQ 2388 3097 2138 3097 \r\nQ 1578 3097 1268 2742 \r\nQ 959 2388 959 1747 \r\nQ 959 1106 1268 751 \r\nQ 1578 397 2138 397 \r\nQ 2388 397 2633 464 \r\nQ 2878 531 3122 666 \r\nL 3122 134 \r\nQ 2881 22 2623 -34 \r\nQ 2366 -91 2075 -91 \r\nQ 1284 -91 818 406 \r\nQ 353 903 353 1747 \r\nQ 353 2603 823 3093 \r\nQ 1294 3584 2113 3584 \r\nQ 2378 3584 2631 3529 \r\nQ 2884 3475 3122 3366 \r\nz\r\n\" id=\"DejaVuSans-63\" transform=\"scale(0.015625)\"/>\r\n       <path d=\"M 3513 2113 \r\nL 3513 0 \r\nL 2938 0 \r\nL 2938 2094 \r\nQ 2938 2591 2744 2837 \r\nQ 2550 3084 2163 3084 \r\nQ 1697 3084 1428 2787 \r\nQ 1159 2491 1159 1978 \r\nL 1159 0 \r\nL 581 0 \r\nL 581 4863 \r\nL 1159 4863 \r\nL 1159 2956 \r\nQ 1366 3272 1645 3428 \r\nQ 1925 3584 2291 3584 \r\nQ 2894 3584 3203 3211 \r\nQ 3513 2838 3513 2113 \r\nz\r\n\" id=\"DejaVuSans-68\" transform=\"scale(0.015625)\"/>\r\n       <path id=\"DejaVuSans-20\" transform=\"scale(0.015625)\"/>\r\n       <path d=\"M 550 4863 \r\nL 1875 4863 \r\nL 1875 4416 \r\nL 1125 4416 \r\nL 1125 -397 \r\nL 1875 -397 \r\nL 1875 -844 \r\nL 550 -844 \r\nL 550 4863 \r\nz\r\n\" id=\"DejaVuSans-5b\" transform=\"scale(0.015625)\"/>\r\n       <path d=\"M 2059 -325 \r\nQ 1816 -950 1584 -1140 \r\nQ 1353 -1331 966 -1331 \r\nL 506 -1331 \r\nL 506 -850 \r\nL 844 -850 \r\nQ 1081 -850 1212 -737 \r\nQ 1344 -625 1503 -206 \r\nL 1606 56 \r\nL 191 3500 \r\nL 800 3500 \r\nL 1894 763 \r\nL 2988 3500 \r\nL 3597 3500 \r\nL 2059 -325 \r\nz\r\n\" id=\"DejaVuSans-79\" transform=\"scale(0.015625)\"/>\r\n       <path d=\"M 603 4863 \r\nL 1178 4863 \r\nL 1178 0 \r\nL 603 0 \r\nL 603 4863 \r\nz\r\n\" id=\"DejaVuSans-6c\" transform=\"scale(0.015625)\"/>\r\n       <path d=\"M 3597 1894 \r\nL 3597 1613 \r\nL 953 1613 \r\nQ 991 1019 1311 708 \r\nQ 1631 397 2203 397 \r\nQ 2534 397 2845 478 \r\nQ 3156 559 3463 722 \r\nL 3463 178 \r\nQ 3153 47 2828 -22 \r\nQ 2503 -91 2169 -91 \r\nQ 1331 -91 842 396 \r\nQ 353 884 353 1716 \r\nQ 353 2575 817 3079 \r\nQ 1281 3584 2069 3584 \r\nQ 2775 3584 3186 3129 \r\nQ 3597 2675 3597 1894 \r\nz\r\nM 3022 2063 \r\nQ 3016 2534 2758 2815 \r\nQ 2500 3097 2075 3097 \r\nQ 1594 3097 1305 2825 \r\nQ 1016 2553 972 2059 \r\nL 3022 2063 \r\nz\r\n\" id=\"DejaVuSans-65\" transform=\"scale(0.015625)\"/>\r\n       <path d=\"M 1947 4863 \r\nL 1947 -844 \r\nL 622 -844 \r\nL 622 -397 \r\nL 1369 -397 \r\nL 1369 4416 \r\nL 622 4416 \r\nL 622 4863 \r\nL 1947 4863 \r\nz\r\n\" id=\"DejaVuSans-5d\" transform=\"scale(0.015625)\"/>\r\n      </defs>\r\n      <use xlink:href=\"#DejaVuSans-45\"/>\r\n      <use x=\"63.183594\" xlink:href=\"#DejaVuSans-70\"/>\r\n      <use x=\"126.660156\" xlink:href=\"#DejaVuSans-6f\"/>\r\n      <use x=\"187.841797\" xlink:href=\"#DejaVuSans-63\"/>\r\n      <use x=\"242.822266\" xlink:href=\"#DejaVuSans-68\"/>\r\n      <use x=\"306.201172\" xlink:href=\"#DejaVuSans-20\"/>\r\n      <use x=\"337.988281\" xlink:href=\"#DejaVuSans-5b\"/>\r\n      <use x=\"377.001953\" xlink:href=\"#DejaVuSans-63\"/>\r\n      <use x=\"431.982422\" xlink:href=\"#DejaVuSans-79\"/>\r\n      <use x=\"491.162109\" xlink:href=\"#DejaVuSans-63\"/>\r\n      <use x=\"546.142578\" xlink:href=\"#DejaVuSans-6c\"/>\r\n      <use x=\"573.925781\" xlink:href=\"#DejaVuSans-65\"/>\r\n      <use x=\"635.449219\" xlink:href=\"#DejaVuSans-5d\"/>\r\n     </g>\r\n    </g>\r\n   </g>\r\n   <g id=\"matplotlib.axis_2\">\r\n    <g id=\"ytick_1\">\r\n     <g id=\"line2d_13\">\r\n      <path clip-path=\"url(#p7717515f3d)\" d=\"M 69.23125 466.844752 \r\nL 475.049432 466.844752 \r\n\" style=\"fill:none;stroke:#b0b0b0;stroke-linecap:square;stroke-width:0.8;\"/>\r\n     </g>\r\n     <g id=\"line2d_14\">\r\n      <defs>\r\n       <path d=\"M 0 0 \r\nL -3.5 0 \r\n\" id=\"m28d6dd1d78\" style=\"stroke:#000000;stroke-width:0.8;\"/>\r\n      </defs>\r\n      <g>\r\n       <use style=\"stroke:#000000;stroke-width:0.8;\" x=\"69.23125\" xlink:href=\"#m28d6dd1d78\" y=\"466.844752\"/>\r\n      </g>\r\n     </g>\r\n     <g id=\"text_8\">\r\n      <!-- 0.00525 -->\r\n      <g transform=\"translate(20.878125 470.643971)scale(0.1 -0.1)\">\r\n       <defs>\r\n        <path d=\"M 684 794 \r\nL 1344 794 \r\nL 1344 0 \r\nL 684 0 \r\nL 684 794 \r\nz\r\n\" id=\"DejaVuSans-2e\" transform=\"scale(0.015625)\"/>\r\n        <path d=\"M 691 4666 \r\nL 3169 4666 \r\nL 3169 4134 \r\nL 1269 4134 \r\nL 1269 2991 \r\nQ 1406 3038 1543 3061 \r\nQ 1681 3084 1819 3084 \r\nQ 2600 3084 3056 2656 \r\nQ 3513 2228 3513 1497 \r\nQ 3513 744 3044 326 \r\nQ 2575 -91 1722 -91 \r\nQ 1428 -91 1123 -41 \r\nQ 819 9 494 109 \r\nL 494 744 \r\nQ 775 591 1075 516 \r\nQ 1375 441 1709 441 \r\nQ 2250 441 2565 725 \r\nQ 2881 1009 2881 1497 \r\nQ 2881 1984 2565 2268 \r\nQ 2250 2553 1709 2553 \r\nQ 1456 2553 1204 2497 \r\nQ 953 2441 691 2322 \r\nL 691 4666 \r\nz\r\n\" id=\"DejaVuSans-35\" transform=\"scale(0.015625)\"/>\r\n       </defs>\r\n       <use xlink:href=\"#DejaVuSans-30\"/>\r\n       <use x=\"63.623047\" xlink:href=\"#DejaVuSans-2e\"/>\r\n       <use x=\"95.410156\" xlink:href=\"#DejaVuSans-30\"/>\r\n       <use x=\"159.033203\" xlink:href=\"#DejaVuSans-30\"/>\r\n       <use x=\"222.65625\" xlink:href=\"#DejaVuSans-35\"/>\r\n       <use x=\"286.279297\" xlink:href=\"#DejaVuSans-32\"/>\r\n       <use x=\"349.902344\" xlink:href=\"#DejaVuSans-35\"/>\r\n      </g>\r\n     </g>\r\n    </g>\r\n    <g id=\"ytick_2\">\r\n     <g id=\"line2d_15\">\r\n      <path clip-path=\"url(#p7717515f3d)\" d=\"M 69.23125 412.03345 \r\nL 475.049432 412.03345 \r\n\" style=\"fill:none;stroke:#b0b0b0;stroke-linecap:square;stroke-width:0.8;\"/>\r\n     </g>\r\n     <g id=\"line2d_16\">\r\n      <g>\r\n       <use style=\"stroke:#000000;stroke-width:0.8;\" x=\"69.23125\" xlink:href=\"#m28d6dd1d78\" y=\"412.03345\"/>\r\n      </g>\r\n     </g>\r\n     <g id=\"text_9\">\r\n      <!-- 0.00550 -->\r\n      <g transform=\"translate(20.878125 415.832669)scale(0.1 -0.1)\">\r\n       <use xlink:href=\"#DejaVuSans-30\"/>\r\n       <use x=\"63.623047\" xlink:href=\"#DejaVuSans-2e\"/>\r\n       <use x=\"95.410156\" xlink:href=\"#DejaVuSans-30\"/>\r\n       <use x=\"159.033203\" xlink:href=\"#DejaVuSans-30\"/>\r\n       <use x=\"222.65625\" xlink:href=\"#DejaVuSans-35\"/>\r\n       <use x=\"286.279297\" xlink:href=\"#DejaVuSans-35\"/>\r\n       <use x=\"349.902344\" xlink:href=\"#DejaVuSans-30\"/>\r\n      </g>\r\n     </g>\r\n    </g>\r\n    <g id=\"ytick_3\">\r\n     <g id=\"line2d_17\">\r\n      <path clip-path=\"url(#p7717515f3d)\" d=\"M 69.23125 357.222149 \r\nL 475.049432 357.222149 \r\n\" style=\"fill:none;stroke:#b0b0b0;stroke-linecap:square;stroke-width:0.8;\"/>\r\n     </g>\r\n     <g id=\"line2d_18\">\r\n      <g>\r\n       <use style=\"stroke:#000000;stroke-width:0.8;\" x=\"69.23125\" xlink:href=\"#m28d6dd1d78\" y=\"357.222149\"/>\r\n      </g>\r\n     </g>\r\n     <g id=\"text_10\">\r\n      <!-- 0.00575 -->\r\n      <g transform=\"translate(20.878125 361.021368)scale(0.1 -0.1)\">\r\n       <defs>\r\n        <path d=\"M 525 4666 \r\nL 3525 4666 \r\nL 3525 4397 \r\nL 1831 0 \r\nL 1172 0 \r\nL 2766 4134 \r\nL 525 4134 \r\nL 525 4666 \r\nz\r\n\" id=\"DejaVuSans-37\" transform=\"scale(0.015625)\"/>\r\n       </defs>\r\n       <use xlink:href=\"#DejaVuSans-30\"/>\r\n       <use x=\"63.623047\" xlink:href=\"#DejaVuSans-2e\"/>\r\n       <use x=\"95.410156\" xlink:href=\"#DejaVuSans-30\"/>\r\n       <use x=\"159.033203\" xlink:href=\"#DejaVuSans-30\"/>\r\n       <use x=\"222.65625\" xlink:href=\"#DejaVuSans-35\"/>\r\n       <use x=\"286.279297\" xlink:href=\"#DejaVuSans-37\"/>\r\n       <use x=\"349.902344\" xlink:href=\"#DejaVuSans-35\"/>\r\n      </g>\r\n     </g>\r\n    </g>\r\n    <g id=\"ytick_4\">\r\n     <g id=\"line2d_19\">\r\n      <path clip-path=\"url(#p7717515f3d)\" d=\"M 69.23125 302.410848 \r\nL 475.049432 302.410848 \r\n\" style=\"fill:none;stroke:#b0b0b0;stroke-linecap:square;stroke-width:0.8;\"/>\r\n     </g>\r\n     <g id=\"line2d_20\">\r\n      <g>\r\n       <use style=\"stroke:#000000;stroke-width:0.8;\" x=\"69.23125\" xlink:href=\"#m28d6dd1d78\" y=\"302.410848\"/>\r\n      </g>\r\n     </g>\r\n     <g id=\"text_11\">\r\n      <!-- 0.00600 -->\r\n      <g transform=\"translate(20.878125 306.210066)scale(0.1 -0.1)\">\r\n       <use xlink:href=\"#DejaVuSans-30\"/>\r\n       <use x=\"63.623047\" xlink:href=\"#DejaVuSans-2e\"/>\r\n       <use x=\"95.410156\" xlink:href=\"#DejaVuSans-30\"/>\r\n       <use x=\"159.033203\" xlink:href=\"#DejaVuSans-30\"/>\r\n       <use x=\"222.65625\" xlink:href=\"#DejaVuSans-36\"/>\r\n       <use x=\"286.279297\" xlink:href=\"#DejaVuSans-30\"/>\r\n       <use x=\"349.902344\" xlink:href=\"#DejaVuSans-30\"/>\r\n      </g>\r\n     </g>\r\n    </g>\r\n    <g id=\"ytick_5\">\r\n     <g id=\"line2d_21\">\r\n      <path clip-path=\"url(#p7717515f3d)\" d=\"M 69.23125 247.599546 \r\nL 475.049432 247.599546 \r\n\" style=\"fill:none;stroke:#b0b0b0;stroke-linecap:square;stroke-width:0.8;\"/>\r\n     </g>\r\n     <g id=\"line2d_22\">\r\n      <g>\r\n       <use style=\"stroke:#000000;stroke-width:0.8;\" x=\"69.23125\" xlink:href=\"#m28d6dd1d78\" y=\"247.599546\"/>\r\n      </g>\r\n     </g>\r\n     <g id=\"text_12\">\r\n      <!-- 0.00625 -->\r\n      <g transform=\"translate(20.878125 251.398765)scale(0.1 -0.1)\">\r\n       <use xlink:href=\"#DejaVuSans-30\"/>\r\n       <use x=\"63.623047\" xlink:href=\"#DejaVuSans-2e\"/>\r\n       <use x=\"95.410156\" xlink:href=\"#DejaVuSans-30\"/>\r\n       <use x=\"159.033203\" xlink:href=\"#DejaVuSans-30\"/>\r\n       <use x=\"222.65625\" xlink:href=\"#DejaVuSans-36\"/>\r\n       <use x=\"286.279297\" xlink:href=\"#DejaVuSans-32\"/>\r\n       <use x=\"349.902344\" xlink:href=\"#DejaVuSans-35\"/>\r\n      </g>\r\n     </g>\r\n    </g>\r\n    <g id=\"ytick_6\">\r\n     <g id=\"line2d_23\">\r\n      <path clip-path=\"url(#p7717515f3d)\" d=\"M 69.23125 192.788245 \r\nL 475.049432 192.788245 \r\n\" style=\"fill:none;stroke:#b0b0b0;stroke-linecap:square;stroke-width:0.8;\"/>\r\n     </g>\r\n     <g id=\"line2d_24\">\r\n      <g>\r\n       <use style=\"stroke:#000000;stroke-width:0.8;\" x=\"69.23125\" xlink:href=\"#m28d6dd1d78\" y=\"192.788245\"/>\r\n      </g>\r\n     </g>\r\n     <g id=\"text_13\">\r\n      <!-- 0.00650 -->\r\n      <g transform=\"translate(20.878125 196.587464)scale(0.1 -0.1)\">\r\n       <use xlink:href=\"#DejaVuSans-30\"/>\r\n       <use x=\"63.623047\" xlink:href=\"#DejaVuSans-2e\"/>\r\n       <use x=\"95.410156\" xlink:href=\"#DejaVuSans-30\"/>\r\n       <use x=\"159.033203\" xlink:href=\"#DejaVuSans-30\"/>\r\n       <use x=\"222.65625\" xlink:href=\"#DejaVuSans-36\"/>\r\n       <use x=\"286.279297\" xlink:href=\"#DejaVuSans-35\"/>\r\n       <use x=\"349.902344\" xlink:href=\"#DejaVuSans-30\"/>\r\n      </g>\r\n     </g>\r\n    </g>\r\n    <g id=\"ytick_7\">\r\n     <g id=\"line2d_25\">\r\n      <path clip-path=\"url(#p7717515f3d)\" d=\"M 69.23125 137.976943 \r\nL 475.049432 137.976943 \r\n\" style=\"fill:none;stroke:#b0b0b0;stroke-linecap:square;stroke-width:0.8;\"/>\r\n     </g>\r\n     <g id=\"line2d_26\">\r\n      <g>\r\n       <use style=\"stroke:#000000;stroke-width:0.8;\" x=\"69.23125\" xlink:href=\"#m28d6dd1d78\" y=\"137.976943\"/>\r\n      </g>\r\n     </g>\r\n     <g id=\"text_14\">\r\n      <!-- 0.00675 -->\r\n      <g transform=\"translate(20.878125 141.776162)scale(0.1 -0.1)\">\r\n       <use xlink:href=\"#DejaVuSans-30\"/>\r\n       <use x=\"63.623047\" xlink:href=\"#DejaVuSans-2e\"/>\r\n       <use x=\"95.410156\" xlink:href=\"#DejaVuSans-30\"/>\r\n       <use x=\"159.033203\" xlink:href=\"#DejaVuSans-30\"/>\r\n       <use x=\"222.65625\" xlink:href=\"#DejaVuSans-36\"/>\r\n       <use x=\"286.279297\" xlink:href=\"#DejaVuSans-37\"/>\r\n       <use x=\"349.902344\" xlink:href=\"#DejaVuSans-35\"/>\r\n      </g>\r\n     </g>\r\n    </g>\r\n    <g id=\"ytick_8\">\r\n     <g id=\"line2d_27\">\r\n      <path clip-path=\"url(#p7717515f3d)\" d=\"M 69.23125 83.165642 \r\nL 475.049432 83.165642 \r\n\" style=\"fill:none;stroke:#b0b0b0;stroke-linecap:square;stroke-width:0.8;\"/>\r\n     </g>\r\n     <g id=\"line2d_28\">\r\n      <g>\r\n       <use style=\"stroke:#000000;stroke-width:0.8;\" x=\"69.23125\" xlink:href=\"#m28d6dd1d78\" y=\"83.165642\"/>\r\n      </g>\r\n     </g>\r\n     <g id=\"text_15\">\r\n      <!-- 0.00700 -->\r\n      <g transform=\"translate(20.878125 86.964861)scale(0.1 -0.1)\">\r\n       <use xlink:href=\"#DejaVuSans-30\"/>\r\n       <use x=\"63.623047\" xlink:href=\"#DejaVuSans-2e\"/>\r\n       <use x=\"95.410156\" xlink:href=\"#DejaVuSans-30\"/>\r\n       <use x=\"159.033203\" xlink:href=\"#DejaVuSans-30\"/>\r\n       <use x=\"222.65625\" xlink:href=\"#DejaVuSans-37\"/>\r\n       <use x=\"286.279297\" xlink:href=\"#DejaVuSans-30\"/>\r\n       <use x=\"349.902344\" xlink:href=\"#DejaVuSans-30\"/>\r\n      </g>\r\n     </g>\r\n    </g>\r\n    <g id=\"text_16\">\r\n     <!-- loss [%] -->\r\n     <g transform=\"translate(14.798438 308.659219)rotate(-90)scale(0.1 -0.1)\">\r\n      <defs>\r\n       <path d=\"M 2834 3397 \r\nL 2834 2853 \r\nQ 2591 2978 2328 3040 \r\nQ 2066 3103 1784 3103 \r\nQ 1356 3103 1142 2972 \r\nQ 928 2841 928 2578 \r\nQ 928 2378 1081 2264 \r\nQ 1234 2150 1697 2047 \r\nL 1894 2003 \r\nQ 2506 1872 2764 1633 \r\nQ 3022 1394 3022 966 \r\nQ 3022 478 2636 193 \r\nQ 2250 -91 1575 -91 \r\nQ 1294 -91 989 -36 \r\nQ 684 19 347 128 \r\nL 347 722 \r\nQ 666 556 975 473 \r\nQ 1284 391 1588 391 \r\nQ 1994 391 2212 530 \r\nQ 2431 669 2431 922 \r\nQ 2431 1156 2273 1281 \r\nQ 2116 1406 1581 1522 \r\nL 1381 1569 \r\nQ 847 1681 609 1914 \r\nQ 372 2147 372 2553 \r\nQ 372 3047 722 3315 \r\nQ 1072 3584 1716 3584 \r\nQ 2034 3584 2315 3537 \r\nQ 2597 3491 2834 3397 \r\nz\r\n\" id=\"DejaVuSans-73\" transform=\"scale(0.015625)\"/>\r\n       <path d=\"M 4653 2053 \r\nQ 4381 2053 4226 1822 \r\nQ 4072 1591 4072 1178 \r\nQ 4072 772 4226 539 \r\nQ 4381 306 4653 306 \r\nQ 4919 306 5073 539 \r\nQ 5228 772 5228 1178 \r\nQ 5228 1588 5073 1820 \r\nQ 4919 2053 4653 2053 \r\nz\r\nM 4653 2450 \r\nQ 5147 2450 5437 2106 \r\nQ 5728 1763 5728 1178 \r\nQ 5728 594 5436 251 \r\nQ 5144 -91 4653 -91 \r\nQ 4153 -91 3862 251 \r\nQ 3572 594 3572 1178 \r\nQ 3572 1766 3864 2108 \r\nQ 4156 2450 4653 2450 \r\nz\r\nM 1428 4353 \r\nQ 1159 4353 1004 4120 \r\nQ 850 3888 850 3481 \r\nQ 850 3069 1003 2837 \r\nQ 1156 2606 1428 2606 \r\nQ 1700 2606 1854 2837 \r\nQ 2009 3069 2009 3481 \r\nQ 2009 3884 1853 4118 \r\nQ 1697 4353 1428 4353 \r\nz\r\nM 4250 4750 \r\nL 4750 4750 \r\nL 1831 -91 \r\nL 1331 -91 \r\nL 4250 4750 \r\nz\r\nM 1428 4750 \r\nQ 1922 4750 2215 4408 \r\nQ 2509 4066 2509 3481 \r\nQ 2509 2891 2217 2550 \r\nQ 1925 2209 1428 2209 \r\nQ 931 2209 642 2551 \r\nQ 353 2894 353 3481 \r\nQ 353 4063 643 4406 \r\nQ 934 4750 1428 4750 \r\nz\r\n\" id=\"DejaVuSans-25\" transform=\"scale(0.015625)\"/>\r\n      </defs>\r\n      <use xlink:href=\"#DejaVuSans-6c\"/>\r\n      <use x=\"27.783203\" xlink:href=\"#DejaVuSans-6f\"/>\r\n      <use x=\"88.964844\" xlink:href=\"#DejaVuSans-73\"/>\r\n      <use x=\"141.064453\" xlink:href=\"#DejaVuSans-73\"/>\r\n      <use x=\"193.164062\" xlink:href=\"#DejaVuSans-20\"/>\r\n      <use x=\"224.951172\" xlink:href=\"#DejaVuSans-5b\"/>\r\n      <use x=\"263.964844\" xlink:href=\"#DejaVuSans-25\"/>\r\n      <use x=\"358.984375\" xlink:href=\"#DejaVuSans-5d\"/>\r\n     </g>\r\n    </g>\r\n   </g>\r\n   <g id=\"line2d_29\">\r\n    <path clip-path=\"url(#p7717515f3d)\" d=\"M 87.677531 93.17632 \r\nL 91.480888 279.373937 \r\nL 95.284245 349.61645 \r\nL 99.087602 357.600711 \r\nL 102.890959 360.762971 \r\nL 106.694316 363.007916 \r\nL 110.497672 365.851234 \r\nL 114.301029 373.128086 \r\nL 118.104386 385.32199 \r\nL 121.907743 391.892658 \r\nL 125.7111 398.118555 \r\nL 129.514457 403.97875 \r\nL 133.317814 407.889768 \r\nL 137.121171 411.033446 \r\nL 140.924528 412.660518 \r\nL 144.727885 415.20317 \r\nL 148.531241 417.703758 \r\nL 152.334598 419.191676 \r\nL 156.137955 421.172504 \r\nL 159.941312 421.866335 \r\nL 163.744669 423.767325 \r\nL 167.548026 426.110485 \r\nL 171.351383 427.257613 \r\nL 175.15474 428.956661 \r\nL 178.958097 430.828453 \r\nL 182.761454 432.999073 \r\nL 186.564811 433.797142 \r\nL 190.368167 436.940412 \r\nL 194.171524 437.923067 \r\nL 197.974881 438.863966 \r\nL 201.778238 440.918914 \r\nL 205.581595 442.008257 \r\nL 209.384952 443.93671 \r\nL 213.188309 443.915066 \r\nL 216.991666 444.483424 \r\nL 220.795023 445.989719 \r\nL 224.59838 448.676016 \r\nL 228.401736 448.695925 \r\nL 232.205093 451.355167 \r\nL 236.00845 452.652476 \r\nL 239.811807 452.523327 \r\nL 243.615164 454.618091 \r\nL 247.418521 455.646893 \r\nL 251.221878 457.663862 \r\nL 255.025235 457.87683 \r\nL 258.828592 458.944835 \r\nL 262.631949 461.042255 \r\nL 266.435306 461.128932 \r\nL 270.238662 462.044103 \r\nL 274.042019 461.861151 \r\nL 277.845376 463.064533 \r\nL 281.648733 462.447476 \r\nL 285.45209 464.453011 \r\nL 289.255447 465.109986 \r\nL 293.058804 466.880296 \r\nL 296.862161 467.583009 \r\nL 300.665518 468.738917 \r\nL 304.468875 468.717171 \r\nL 308.272232 468.980166 \r\nL 312.075588 469.468787 \r\nL 315.878945 470.234901 \r\nL 319.682302 471.403367 \r\nL 323.485659 472.040229 \r\nL 327.289016 472.204396 \r\nL 331.092373 472.837788 \r\nL 334.89573 473.384705 \r\nL 338.699087 474.352046 \r\nL 342.502444 474.796563 \r\nL 346.305801 475.661708 \r\nL 350.109157 476.126133 \r\nL 353.912514 476.240172 \r\nL 357.715871 475.14062 \r\nL 361.519228 477.461727 \r\nL 365.322585 477.806192 \r\nL 369.125942 477.848868 \r\nL 372.929299 478.929533 \r\nL 376.732656 478.131362 \r\nL 380.536013 478.556073 \r\nL 384.33937 479.883601 \r\nL 388.142727 479.757617 \r\nL 391.946083 479.957721 \r\nL 395.74944 481.476778 \r\nL 399.552797 481.260441 \r\nL 403.356154 481.833086 \r\nL 407.159511 481.504548 \r\nL 410.962868 482.693024 \r\nL 414.766225 481.319247 \r\nL 418.569582 478.940559 \r\nL 422.372939 482.112824 \r\nL 426.176296 484.150824 \r\nL 429.979652 480.679015 \r\nL 433.783009 481.707613 \r\nL 437.586366 483.747655 \r\nL 441.389723 483.76644 \r\nL 445.19308 485.172683 \r\nL 448.996437 485.831394 \r\nL 452.799794 486.432727 \r\nL 456.603151 485.605664 \r\n\" style=\"fill:none;stroke:#008000;stroke-linecap:square;stroke-width:1.5;\"/>\r\n   </g>\r\n   <g id=\"line2d_30\">\r\n    <path clip-path=\"url(#p7717515f3d)\" d=\"M 87.677531 91.087273 \r\nL 91.480888 203.406911 \r\nL 95.284245 224.883814 \r\nL 99.087602 225.290148 \r\nL 102.890959 228.447303 \r\nL 106.694316 229.966156 \r\nL 110.497672 237.955114 \r\nL 114.301029 253.363243 \r\nL 118.104386 261.457153 \r\nL 121.907743 266.738068 \r\nL 125.7111 275.804526 \r\nL 129.514457 281.19172 \r\nL 133.317814 283.351723 \r\nL 137.121171 287.265191 \r\nL 140.924528 286.826595 \r\nL 144.727885 290.036022 \r\nL 148.531241 291.814091 \r\nL 152.334598 291.352218 \r\nL 156.137955 293.605943 \r\nL 159.941312 295.912349 \r\nL 163.744669 294.598093 \r\nL 167.548026 299.148218 \r\nL 171.351383 299.973954 \r\nL 175.15474 303.118654 \r\nL 178.958097 304.455371 \r\nL 182.761454 303.175316 \r\nL 186.564811 303.829841 \r\nL 190.368167 306.603122 \r\nL 194.171524 308.003035 \r\nL 197.974881 311.07678 \r\nL 201.778238 313.628415 \r\nL 205.581595 314.127348 \r\nL 209.384952 315.253445 \r\nL 213.188309 313.501002 \r\nL 216.991666 311.082701 \r\nL 220.795023 317.111658 \r\nL 224.59838 320.835741 \r\nL 228.401736 318.530867 \r\nL 232.205093 322.253214 \r\nL 236.00845 323.94287 \r\nL 239.811807 321.193581 \r\nL 243.615164 324.109386 \r\nL 247.418521 324.541447 \r\nL 251.221878 326.861125 \r\nL 255.025235 326.438967 \r\nL 258.828592 327.629076 \r\nL 262.631949 325.433851 \r\nL 266.435306 327.237035 \r\nL 270.238662 328.352004 \r\nL 274.042019 331.483329 \r\nL 277.845376 325.191888 \r\nL 281.648733 328.420611 \r\nL 285.45209 330.649834 \r\nL 289.255447 333.462013 \r\nL 293.058804 333.185032 \r\nL 296.862161 332.841179 \r\nL 300.665518 331.611151 \r\nL 304.468875 332.296712 \r\nL 308.272232 334.384739 \r\nL 312.075588 333.949716 \r\nL 315.878945 333.433427 \r\nL 319.682302 334.832217 \r\nL 323.485659 337.606621 \r\nL 327.289016 334.455081 \r\nL 331.092373 337.740773 \r\nL 334.89573 336.008748 \r\nL 338.699087 335.922376 \r\nL 342.502444 341.118757 \r\nL 346.305801 338.812658 \r\nL 350.109157 339.836048 \r\nL 353.912514 331.693745 \r\nL 357.715871 336.167606 \r\nL 361.519228 337.659098 \r\nL 365.322585 339.200105 \r\nL 369.125942 341.170315 \r\nL 372.929299 340.711708 \r\nL 376.732656 343.319189 \r\nL 380.536013 339.329866 \r\nL 384.33937 338.795506 \r\nL 388.142727 340.25055 \r\nL 391.946083 342.192582 \r\nL 395.74944 337.580689 \r\nL 399.552797 341.709269 \r\nL 403.356154 340.985729 \r\nL 407.159511 343.851712 \r\nL 410.962868 341.521722 \r\nL 414.766225 336.293386 \r\nL 418.569582 343.036491 \r\nL 422.372939 342.751547 \r\nL 426.176296 342.232194 \r\nL 429.979652 336.984052 \r\nL 433.783009 343.969834 \r\nL 437.586366 341.120697 \r\nL 441.389723 341.905494 \r\nL 445.19308 342.337862 \r\nL 448.996437 345.495731 \r\nL 452.799794 344.046813 \r\nL 456.603151 343.21536 \r\n\" style=\"fill:none;stroke:#4169e1;stroke-linecap:square;stroke-width:1.5;\"/>\r\n   </g>\r\n   <g id=\"patch_3\">\r\n    <path d=\"M 69.23125 506.2 \r\nL 69.23125 71.32 \r\n\" style=\"fill:none;stroke:#000000;stroke-linecap:square;stroke-linejoin:miter;stroke-width:0.8;\"/>\r\n   </g>\r\n   <g id=\"patch_4\">\r\n    <path d=\"M 475.049432 506.2 \r\nL 475.049432 71.32 \r\n\" style=\"fill:none;stroke:#000000;stroke-linecap:square;stroke-linejoin:miter;stroke-width:0.8;\"/>\r\n   </g>\r\n   <g id=\"patch_5\">\r\n    <path d=\"M 69.23125 506.2 \r\nL 475.049432 506.2 \r\n\" style=\"fill:none;stroke:#000000;stroke-linecap:square;stroke-linejoin:miter;stroke-width:0.8;\"/>\r\n   </g>\r\n   <g id=\"patch_6\">\r\n    <path d=\"M 69.23125 71.32 \r\nL 475.049432 71.32 \r\n\" style=\"fill:none;stroke:#000000;stroke-linecap:square;stroke-linejoin:miter;stroke-width:0.8;\"/>\r\n   </g>\r\n   <g id=\"text_17\">\r\n    <!-- Loss -->\r\n    <g transform=\"translate(258.979716 65.32)scale(0.12 -0.12)\">\r\n     <defs>\r\n      <path d=\"M 628 4666 \r\nL 1259 4666 \r\nL 1259 531 \r\nL 3531 531 \r\nL 3531 0 \r\nL 628 0 \r\nL 628 4666 \r\nz\r\n\" id=\"DejaVuSans-4c\" transform=\"scale(0.015625)\"/>\r\n     </defs>\r\n     <use xlink:href=\"#DejaVuSans-4c\"/>\r\n     <use x=\"53.962891\" xlink:href=\"#DejaVuSans-6f\"/>\r\n     <use x=\"115.144531\" xlink:href=\"#DejaVuSans-73\"/>\r\n     <use x=\"167.244141\" xlink:href=\"#DejaVuSans-73\"/>\r\n    </g>\r\n   </g>\r\n  </g>\r\n  <g id=\"axes_2\">\r\n   <g id=\"patch_7\">\r\n    <path d=\"M 556.213068 506.2 \r\nL 962.03125 506.2 \r\nL 962.03125 71.32 \r\nL 556.213068 71.32 \r\nz\r\n\" style=\"fill:#ffffff;\"/>\r\n   </g>\r\n   <g id=\"matplotlib.axis_3\">\r\n    <g id=\"xtick_7\">\r\n     <g id=\"line2d_31\">\r\n      <path clip-path=\"url(#p336fa8c55c)\" d=\"M 574.659349 506.2 \r\nL 574.659349 71.32 \r\n\" style=\"fill:none;stroke:#b0b0b0;stroke-linecap:square;stroke-width:0.8;\"/>\r\n     </g>\r\n     <g id=\"line2d_32\">\r\n      <g>\r\n       <use style=\"stroke:#000000;stroke-width:0.8;\" x=\"574.659349\" xlink:href=\"#m0e5e6008a7\" y=\"506.2\"/>\r\n      </g>\r\n     </g>\r\n     <g id=\"text_18\">\r\n      <!-- 0 -->\r\n      <g transform=\"translate(571.478099 520.798438)scale(0.1 -0.1)\">\r\n       <use xlink:href=\"#DejaVuSans-30\"/>\r\n      </g>\r\n     </g>\r\n    </g>\r\n    <g id=\"xtick_8\">\r\n     <g id=\"line2d_33\">\r\n      <path clip-path=\"url(#p336fa8c55c)\" d=\"M 650.726487 506.2 \r\nL 650.726487 71.32 \r\n\" style=\"fill:none;stroke:#b0b0b0;stroke-linecap:square;stroke-width:0.8;\"/>\r\n     </g>\r\n     <g id=\"line2d_34\">\r\n      <g>\r\n       <use style=\"stroke:#000000;stroke-width:0.8;\" x=\"650.726487\" xlink:href=\"#m0e5e6008a7\" y=\"506.2\"/>\r\n      </g>\r\n     </g>\r\n     <g id=\"text_19\">\r\n      <!-- 20 -->\r\n      <g transform=\"translate(644.363987 520.798438)scale(0.1 -0.1)\">\r\n       <use xlink:href=\"#DejaVuSans-32\"/>\r\n       <use x=\"63.623047\" xlink:href=\"#DejaVuSans-30\"/>\r\n      </g>\r\n     </g>\r\n    </g>\r\n    <g id=\"xtick_9\">\r\n     <g id=\"line2d_35\">\r\n      <path clip-path=\"url(#p336fa8c55c)\" d=\"M 726.793625 506.2 \r\nL 726.793625 71.32 \r\n\" style=\"fill:none;stroke:#b0b0b0;stroke-linecap:square;stroke-width:0.8;\"/>\r\n     </g>\r\n     <g id=\"line2d_36\">\r\n      <g>\r\n       <use style=\"stroke:#000000;stroke-width:0.8;\" x=\"726.793625\" xlink:href=\"#m0e5e6008a7\" y=\"506.2\"/>\r\n      </g>\r\n     </g>\r\n     <g id=\"text_20\">\r\n      <!-- 40 -->\r\n      <g transform=\"translate(720.431125 520.798438)scale(0.1 -0.1)\">\r\n       <use xlink:href=\"#DejaVuSans-34\"/>\r\n       <use x=\"63.623047\" xlink:href=\"#DejaVuSans-30\"/>\r\n      </g>\r\n     </g>\r\n    </g>\r\n    <g id=\"xtick_10\">\r\n     <g id=\"line2d_37\">\r\n      <path clip-path=\"url(#p336fa8c55c)\" d=\"M 802.860764 506.2 \r\nL 802.860764 71.32 \r\n\" style=\"fill:none;stroke:#b0b0b0;stroke-linecap:square;stroke-width:0.8;\"/>\r\n     </g>\r\n     <g id=\"line2d_38\">\r\n      <g>\r\n       <use style=\"stroke:#000000;stroke-width:0.8;\" x=\"802.860764\" xlink:href=\"#m0e5e6008a7\" y=\"506.2\"/>\r\n      </g>\r\n     </g>\r\n     <g id=\"text_21\">\r\n      <!-- 60 -->\r\n      <g transform=\"translate(796.498264 520.798438)scale(0.1 -0.1)\">\r\n       <use xlink:href=\"#DejaVuSans-36\"/>\r\n       <use x=\"63.623047\" xlink:href=\"#DejaVuSans-30\"/>\r\n      </g>\r\n     </g>\r\n    </g>\r\n    <g id=\"xtick_11\">\r\n     <g id=\"line2d_39\">\r\n      <path clip-path=\"url(#p336fa8c55c)\" d=\"M 878.927902 506.2 \r\nL 878.927902 71.32 \r\n\" style=\"fill:none;stroke:#b0b0b0;stroke-linecap:square;stroke-width:0.8;\"/>\r\n     </g>\r\n     <g id=\"line2d_40\">\r\n      <g>\r\n       <use style=\"stroke:#000000;stroke-width:0.8;\" x=\"878.927902\" xlink:href=\"#m0e5e6008a7\" y=\"506.2\"/>\r\n      </g>\r\n     </g>\r\n     <g id=\"text_22\">\r\n      <!-- 80 -->\r\n      <g transform=\"translate(872.565402 520.798438)scale(0.1 -0.1)\">\r\n       <use xlink:href=\"#DejaVuSans-38\"/>\r\n       <use x=\"63.623047\" xlink:href=\"#DejaVuSans-30\"/>\r\n      </g>\r\n     </g>\r\n    </g>\r\n    <g id=\"xtick_12\">\r\n     <g id=\"line2d_41\">\r\n      <path clip-path=\"url(#p336fa8c55c)\" d=\"M 954.99504 506.2 \r\nL 954.99504 71.32 \r\n\" style=\"fill:none;stroke:#b0b0b0;stroke-linecap:square;stroke-width:0.8;\"/>\r\n     </g>\r\n     <g id=\"line2d_42\">\r\n      <g>\r\n       <use style=\"stroke:#000000;stroke-width:0.8;\" x=\"954.99504\" xlink:href=\"#m0e5e6008a7\" y=\"506.2\"/>\r\n      </g>\r\n     </g>\r\n     <g id=\"text_23\">\r\n      <!-- 100 -->\r\n      <g transform=\"translate(945.45129 520.798438)scale(0.1 -0.1)\">\r\n       <use xlink:href=\"#DejaVuSans-31\"/>\r\n       <use x=\"63.623047\" xlink:href=\"#DejaVuSans-30\"/>\r\n       <use x=\"127.246094\" xlink:href=\"#DejaVuSans-30\"/>\r\n      </g>\r\n     </g>\r\n    </g>\r\n    <g id=\"text_24\">\r\n     <!-- Epoch [cycle] -->\r\n     <g transform=\"translate(725.397159 534.476563)scale(0.1 -0.1)\">\r\n      <use xlink:href=\"#DejaVuSans-45\"/>\r\n      <use x=\"63.183594\" xlink:href=\"#DejaVuSans-70\"/>\r\n      <use x=\"126.660156\" xlink:href=\"#DejaVuSans-6f\"/>\r\n      <use x=\"187.841797\" xlink:href=\"#DejaVuSans-63\"/>\r\n      <use x=\"242.822266\" xlink:href=\"#DejaVuSans-68\"/>\r\n      <use x=\"306.201172\" xlink:href=\"#DejaVuSans-20\"/>\r\n      <use x=\"337.988281\" xlink:href=\"#DejaVuSans-5b\"/>\r\n      <use x=\"377.001953\" xlink:href=\"#DejaVuSans-63\"/>\r\n      <use x=\"431.982422\" xlink:href=\"#DejaVuSans-79\"/>\r\n      <use x=\"491.162109\" xlink:href=\"#DejaVuSans-63\"/>\r\n      <use x=\"546.142578\" xlink:href=\"#DejaVuSans-6c\"/>\r\n      <use x=\"573.925781\" xlink:href=\"#DejaVuSans-65\"/>\r\n      <use x=\"635.449219\" xlink:href=\"#DejaVuSans-5d\"/>\r\n     </g>\r\n    </g>\r\n   </g>\r\n   <g id=\"matplotlib.axis_4\">\r\n    <g id=\"ytick_9\">\r\n     <g id=\"line2d_43\">\r\n      <path clip-path=\"url(#p336fa8c55c)\" d=\"M 556.213068 454.559555 \r\nL 962.03125 454.559555 \r\n\" style=\"fill:none;stroke:#b0b0b0;stroke-linecap:square;stroke-width:0.8;\"/>\r\n     </g>\r\n     <g id=\"line2d_44\">\r\n      <g>\r\n       <use style=\"stroke:#000000;stroke-width:0.8;\" x=\"556.213068\" xlink:href=\"#m28d6dd1d78\" y=\"454.559555\"/>\r\n      </g>\r\n     </g>\r\n     <g id=\"text_25\">\r\n      <!-- 0.30 -->\r\n      <g transform=\"translate(526.947443 458.358773)scale(0.1 -0.1)\">\r\n       <defs>\r\n        <path d=\"M 2597 2516 \r\nQ 3050 2419 3304 2112 \r\nQ 3559 1806 3559 1356 \r\nQ 3559 666 3084 287 \r\nQ 2609 -91 1734 -91 \r\nQ 1441 -91 1130 -33 \r\nQ 819 25 488 141 \r\nL 488 750 \r\nQ 750 597 1062 519 \r\nQ 1375 441 1716 441 \r\nQ 2309 441 2620 675 \r\nQ 2931 909 2931 1356 \r\nQ 2931 1769 2642 2001 \r\nQ 2353 2234 1838 2234 \r\nL 1294 2234 \r\nL 1294 2753 \r\nL 1863 2753 \r\nQ 2328 2753 2575 2939 \r\nQ 2822 3125 2822 3475 \r\nQ 2822 3834 2567 4026 \r\nQ 2313 4219 1838 4219 \r\nQ 1578 4219 1281 4162 \r\nQ 984 4106 628 3988 \r\nL 628 4550 \r\nQ 988 4650 1302 4700 \r\nQ 1616 4750 1894 4750 \r\nQ 2613 4750 3031 4423 \r\nQ 3450 4097 3450 3541 \r\nQ 3450 3153 3228 2886 \r\nQ 3006 2619 2597 2516 \r\nz\r\n\" id=\"DejaVuSans-33\" transform=\"scale(0.015625)\"/>\r\n       </defs>\r\n       <use xlink:href=\"#DejaVuSans-30\"/>\r\n       <use x=\"63.623047\" xlink:href=\"#DejaVuSans-2e\"/>\r\n       <use x=\"95.410156\" xlink:href=\"#DejaVuSans-33\"/>\r\n       <use x=\"159.033203\" xlink:href=\"#DejaVuSans-30\"/>\r\n      </g>\r\n     </g>\r\n    </g>\r\n    <g id=\"ytick_10\">\r\n     <g id=\"line2d_45\">\r\n      <path clip-path=\"url(#p336fa8c55c)\" d=\"M 556.213068 397.375339 \r\nL 962.03125 397.375339 \r\n\" style=\"fill:none;stroke:#b0b0b0;stroke-linecap:square;stroke-width:0.8;\"/>\r\n     </g>\r\n     <g id=\"line2d_46\">\r\n      <g>\r\n       <use style=\"stroke:#000000;stroke-width:0.8;\" x=\"556.213068\" xlink:href=\"#m28d6dd1d78\" y=\"397.375339\"/>\r\n      </g>\r\n     </g>\r\n     <g id=\"text_26\">\r\n      <!-- 0.35 -->\r\n      <g transform=\"translate(526.947443 401.174557)scale(0.1 -0.1)\">\r\n       <use xlink:href=\"#DejaVuSans-30\"/>\r\n       <use x=\"63.623047\" xlink:href=\"#DejaVuSans-2e\"/>\r\n       <use x=\"95.410156\" xlink:href=\"#DejaVuSans-33\"/>\r\n       <use x=\"159.033203\" xlink:href=\"#DejaVuSans-35\"/>\r\n      </g>\r\n     </g>\r\n    </g>\r\n    <g id=\"ytick_11\">\r\n     <g id=\"line2d_47\">\r\n      <path clip-path=\"url(#p336fa8c55c)\" d=\"M 556.213068 340.191122 \r\nL 962.03125 340.191122 \r\n\" style=\"fill:none;stroke:#b0b0b0;stroke-linecap:square;stroke-width:0.8;\"/>\r\n     </g>\r\n     <g id=\"line2d_48\">\r\n      <g>\r\n       <use style=\"stroke:#000000;stroke-width:0.8;\" x=\"556.213068\" xlink:href=\"#m28d6dd1d78\" y=\"340.191122\"/>\r\n      </g>\r\n     </g>\r\n     <g id=\"text_27\">\r\n      <!-- 0.40 -->\r\n      <g transform=\"translate(526.947443 343.990341)scale(0.1 -0.1)\">\r\n       <use xlink:href=\"#DejaVuSans-30\"/>\r\n       <use x=\"63.623047\" xlink:href=\"#DejaVuSans-2e\"/>\r\n       <use x=\"95.410156\" xlink:href=\"#DejaVuSans-34\"/>\r\n       <use x=\"159.033203\" xlink:href=\"#DejaVuSans-30\"/>\r\n      </g>\r\n     </g>\r\n    </g>\r\n    <g id=\"ytick_12\">\r\n     <g id=\"line2d_49\">\r\n      <path clip-path=\"url(#p336fa8c55c)\" d=\"M 556.213068 283.006906 \r\nL 962.03125 283.006906 \r\n\" style=\"fill:none;stroke:#b0b0b0;stroke-linecap:square;stroke-width:0.8;\"/>\r\n     </g>\r\n     <g id=\"line2d_50\">\r\n      <g>\r\n       <use style=\"stroke:#000000;stroke-width:0.8;\" x=\"556.213068\" xlink:href=\"#m28d6dd1d78\" y=\"283.006906\"/>\r\n      </g>\r\n     </g>\r\n     <g id=\"text_28\">\r\n      <!-- 0.45 -->\r\n      <g transform=\"translate(526.947443 286.806125)scale(0.1 -0.1)\">\r\n       <use xlink:href=\"#DejaVuSans-30\"/>\r\n       <use x=\"63.623047\" xlink:href=\"#DejaVuSans-2e\"/>\r\n       <use x=\"95.410156\" xlink:href=\"#DejaVuSans-34\"/>\r\n       <use x=\"159.033203\" xlink:href=\"#DejaVuSans-35\"/>\r\n      </g>\r\n     </g>\r\n    </g>\r\n    <g id=\"ytick_13\">\r\n     <g id=\"line2d_51\">\r\n      <path clip-path=\"url(#p336fa8c55c)\" d=\"M 556.213068 225.82269 \r\nL 962.03125 225.82269 \r\n\" style=\"fill:none;stroke:#b0b0b0;stroke-linecap:square;stroke-width:0.8;\"/>\r\n     </g>\r\n     <g id=\"line2d_52\">\r\n      <g>\r\n       <use style=\"stroke:#000000;stroke-width:0.8;\" x=\"556.213068\" xlink:href=\"#m28d6dd1d78\" y=\"225.82269\"/>\r\n      </g>\r\n     </g>\r\n     <g id=\"text_29\">\r\n      <!-- 0.50 -->\r\n      <g transform=\"translate(526.947443 229.621909)scale(0.1 -0.1)\">\r\n       <use xlink:href=\"#DejaVuSans-30\"/>\r\n       <use x=\"63.623047\" xlink:href=\"#DejaVuSans-2e\"/>\r\n       <use x=\"95.410156\" xlink:href=\"#DejaVuSans-35\"/>\r\n       <use x=\"159.033203\" xlink:href=\"#DejaVuSans-30\"/>\r\n      </g>\r\n     </g>\r\n    </g>\r\n    <g id=\"ytick_14\">\r\n     <g id=\"line2d_53\">\r\n      <path clip-path=\"url(#p336fa8c55c)\" d=\"M 556.213068 168.638474 \r\nL 962.03125 168.638474 \r\n\" style=\"fill:none;stroke:#b0b0b0;stroke-linecap:square;stroke-width:0.8;\"/>\r\n     </g>\r\n     <g id=\"line2d_54\">\r\n      <g>\r\n       <use style=\"stroke:#000000;stroke-width:0.8;\" x=\"556.213068\" xlink:href=\"#m28d6dd1d78\" y=\"168.638474\"/>\r\n      </g>\r\n     </g>\r\n     <g id=\"text_30\">\r\n      <!-- 0.55 -->\r\n      <g transform=\"translate(526.947443 172.437693)scale(0.1 -0.1)\">\r\n       <use xlink:href=\"#DejaVuSans-30\"/>\r\n       <use x=\"63.623047\" xlink:href=\"#DejaVuSans-2e\"/>\r\n       <use x=\"95.410156\" xlink:href=\"#DejaVuSans-35\"/>\r\n       <use x=\"159.033203\" xlink:href=\"#DejaVuSans-35\"/>\r\n      </g>\r\n     </g>\r\n    </g>\r\n    <g id=\"ytick_15\">\r\n     <g id=\"line2d_55\">\r\n      <path clip-path=\"url(#p336fa8c55c)\" d=\"M 556.213068 111.454258 \r\nL 962.03125 111.454258 \r\n\" style=\"fill:none;stroke:#b0b0b0;stroke-linecap:square;stroke-width:0.8;\"/>\r\n     </g>\r\n     <g id=\"line2d_56\">\r\n      <g>\r\n       <use style=\"stroke:#000000;stroke-width:0.8;\" x=\"556.213068\" xlink:href=\"#m28d6dd1d78\" y=\"111.454258\"/>\r\n      </g>\r\n     </g>\r\n     <g id=\"text_31\">\r\n      <!-- 0.60 -->\r\n      <g transform=\"translate(526.947443 115.253477)scale(0.1 -0.1)\">\r\n       <use xlink:href=\"#DejaVuSans-30\"/>\r\n       <use x=\"63.623047\" xlink:href=\"#DejaVuSans-2e\"/>\r\n       <use x=\"95.410156\" xlink:href=\"#DejaVuSans-36\"/>\r\n       <use x=\"159.033203\" xlink:href=\"#DejaVuSans-30\"/>\r\n      </g>\r\n     </g>\r\n    </g>\r\n    <g id=\"text_32\">\r\n     <!-- Acc [%] -->\r\n     <g transform=\"translate(520.867756 307.832656)rotate(-90)scale(0.1 -0.1)\">\r\n      <defs>\r\n       <path d=\"M 2188 4044 \r\nL 1331 1722 \r\nL 3047 1722 \r\nL 2188 4044 \r\nz\r\nM 1831 4666 \r\nL 2547 4666 \r\nL 4325 0 \r\nL 3669 0 \r\nL 3244 1197 \r\nL 1141 1197 \r\nL 716 0 \r\nL 50 0 \r\nL 1831 4666 \r\nz\r\n\" id=\"DejaVuSans-41\" transform=\"scale(0.015625)\"/>\r\n      </defs>\r\n      <use xlink:href=\"#DejaVuSans-41\"/>\r\n      <use x=\"66.658203\" xlink:href=\"#DejaVuSans-63\"/>\r\n      <use x=\"121.638672\" xlink:href=\"#DejaVuSans-63\"/>\r\n      <use x=\"176.619141\" xlink:href=\"#DejaVuSans-20\"/>\r\n      <use x=\"208.40625\" xlink:href=\"#DejaVuSans-5b\"/>\r\n      <use x=\"247.419922\" xlink:href=\"#DejaVuSans-25\"/>\r\n      <use x=\"342.439453\" xlink:href=\"#DejaVuSans-5d\"/>\r\n     </g>\r\n    </g>\r\n   </g>\r\n   <g id=\"line2d_57\">\r\n    <path clip-path=\"url(#p336fa8c55c)\" d=\"M 574.659349 486.311148 \r\nL 578.462706 429.17917 \r\nL 582.266063 433.252568 \r\nL 586.06942 424.792433 \r\nL 589.872777 414.347833 \r\nL 593.676134 416.85454 \r\nL 597.479491 412.572238 \r\nL 601.282848 414.243364 \r\nL 605.086204 395.756436 \r\nL 608.889561 378.731731 \r\nL 612.692918 360.558108 \r\nL 616.496275 349.277927 \r\nL 620.299632 341.235599 \r\nL 624.102989 345.308964 \r\nL 627.906346 330.477627 \r\nL 631.709703 322.226396 \r\nL 635.51306 311.88623 \r\nL 639.316417 313.139584 \r\nL 643.119773 308.021736 \r\nL 646.92313 304.783917 \r\nL 650.726487 296.846024 \r\nL 654.529844 284.834699 \r\nL 658.333201 291.205934 \r\nL 662.136558 284.939167 \r\nL 665.939915 279.71685 \r\nL 669.743272 265.198852 \r\nL 673.546629 258.827651 \r\nL 677.349986 260.394342 \r\nL 681.153343 246.085213 \r\nL 684.956699 243.891845 \r\nL 688.760056 236.685063 \r\nL 692.563413 232.50723 \r\nL 696.36677 230.940538 \r\nL 700.170127 230.313862 \r\nL 703.973484 230.000523 \r\nL 707.776841 226.136029 \r\nL 711.580198 216.735912 \r\nL 715.383555 208.589116 \r\nL 719.186912 197.726674 \r\nL 722.990268 198.771158 \r\nL 726.793625 200.651188 \r\nL 730.596982 189.371008 \r\nL 734.400339 176.419736 \r\nL 738.203696 178.926442 \r\nL 742.007053 176.941909 \r\nL 745.81041 172.76411 \r\nL 749.613767 171.301819 \r\nL 753.417124 165.557294 \r\nL 757.220481 163.781699 \r\nL 761.023838 160.857253 \r\nL 764.827194 164.721748 \r\nL 768.630551 167.646262 \r\nL 772.433908 159.81277 \r\nL 776.237265 152.606022 \r\nL 780.040622 149.368204 \r\nL 783.843979 140.072488 \r\nL 787.647336 141.430276 \r\nL 791.450693 143.728114 \r\nL 795.25405 142.265823 \r\nL 799.057407 144.145853 \r\nL 802.860764 138.296893 \r\nL 806.66412 131.821257 \r\nL 810.467477 141.012469 \r\nL 814.270834 136.207993 \r\nL 818.074191 134.327963 \r\nL 821.877548 129.210115 \r\nL 825.680905 130.672338 \r\nL 829.484262 127.747824 \r\nL 833.287619 133.805722 \r\nL 837.090976 124.510006 \r\nL 840.894333 124.510006 \r\nL 844.697689 124.092199 \r\nL 848.501046 123.883329 \r\nL 852.304403 121.063318 \r\nL 856.10776 123.152218 \r\nL 859.911117 113.647633 \r\nL 863.714474 120.332139 \r\nL 867.517831 127.43452 \r\nL 871.321188 113.960937 \r\nL 875.124545 117.720997 \r\nL 878.927902 119.496593 \r\nL 882.731259 109.992008 \r\nL 886.534615 117.198824 \r\nL 890.337972 101.322969 \r\nL 894.141329 113.752068 \r\nL 897.944686 107.589736 \r\nL 901.748043 112.603149 \r\nL 905.5514 120.123269 \r\nL 909.354757 112.498715 \r\nL 913.158114 98.607393 \r\nL 916.961471 122.525541 \r\nL 920.764828 120.749946 \r\nL 924.568184 100.278553 \r\nL 928.371541 100.591858 \r\nL 932.174898 99.442939 \r\nL 935.978255 93.38511 \r\nL 939.781612 91.087273 \r\nL 943.584969 100.90523 \r\n\" style=\"fill:none;stroke:#008000;stroke-linecap:square;stroke-width:1.5;\"/>\r\n   </g>\r\n   <g id=\"line2d_58\">\r\n    <path clip-path=\"url(#p336fa8c55c)\" d=\"M 574.659349 438.102172 \r\nL 578.462706 486.432727 \r\nL 582.266063 440.602027 \r\nL 586.06942 440.185379 \r\nL 589.872777 441.018676 \r\nL 593.676134 445.601739 \r\nL 597.479491 448.101595 \r\nL 601.282848 420.186533 \r\nL 605.086204 381.022104 \r\nL 608.889561 380.605456 \r\nL 612.692918 381.438752 \r\nL 616.496275 373.105888 \r\nL 620.299632 372.272626 \r\nL 624.102989 359.356699 \r\nL 627.906346 358.523402 \r\nL 631.709703 355.19025 \r\nL 635.51306 336.024701 \r\nL 639.316417 357.690106 \r\nL 643.119773 346.024124 \r\nL 646.92313 329.775044 \r\nL 650.726487 343.524268 \r\nL 654.529844 331.441638 \r\nL 658.333201 330.191693 \r\nL 662.136558 297.693568 \r\nL 665.939915 310.609495 \r\nL 669.743272 323.525422 \r\nL 673.546629 300.193424 \r\nL 677.349986 287.277497 \r\nL 681.153343 279.361281 \r\nL 684.956699 281.027841 \r\nL 688.760056 263.52885 \r\nL 692.563413 275.611481 \r\nL 696.36677 254.779372 \r\nL 700.170127 261.862291 \r\nL 703.973484 259.779084 \r\nL 707.776841 249.363013 \r\nL 711.580198 233.113933 \r\nL 715.383555 251.44622 \r\nL 719.186912 216.864888 \r\nL 722.990268 225.197718 \r\nL 726.793625 232.280637 \r\nL 730.596982 228.947518 \r\nL 734.400339 223.531125 \r\nL 738.203696 218.948061 \r\nL 742.007053 205.198872 \r\nL 745.81041 197.699339 \r\nL 749.613767 223.947773 \r\nL 753.417124 199.782512 \r\nL 757.220481 211.03188 \r\nL 761.023838 183.950081 \r\nL 764.827194 196.449394 \r\nL 768.630551 210.198583 \r\nL 772.433908 194.782801 \r\nL 776.237265 177.283845 \r\nL 780.040622 167.284353 \r\nL 783.843979 177.283845 \r\nL 787.647336 178.95037 \r\nL 791.450693 193.949504 \r\nL 795.25405 194.366152 \r\nL 799.057407 176.0339 \r\nL 802.860764 170.200892 \r\nL 806.66412 178.95037 \r\nL 810.467477 173.53401 \r\nL 814.270834 167.701002 \r\nL 818.074191 166.451125 \r\nL 821.877548 170.200892 \r\nL 825.680905 166.451125 \r\nL 829.484262 139.369326 \r\nL 833.287619 148.118804 \r\nL 837.090976 163.951235 \r\nL 840.894333 185.616674 \r\nL 844.697689 190.616386 \r\nL 848.501046 182.283556 \r\nL 852.304403 156.86835 \r\nL 856.10776 149.785397 \r\nL 859.911117 138.952678 \r\nL 863.714474 170.200892 \r\nL 867.517831 186.033323 \r\nL 871.321188 178.533721 \r\nL 875.124545 176.867196 \r\nL 878.927902 156.451702 \r\nL 882.731259 181.033611 \r\nL 886.534615 180.616963 \r\nL 890.337972 189.783089 \r\nL 894.141329 161.451414 \r\nL 897.944686 159.78482 \r\nL 901.748043 186.866619 \r\nL 905.5514 155.618405 \r\nL 909.354757 166.451125 \r\nL 913.158114 158.951524 \r\nL 916.961471 179.367018 \r\nL 920.764828 166.034477 \r\nL 924.568184 186.449971 \r\nL 928.371541 162.70129 \r\nL 932.174898 169.367595 \r\nL 935.978255 148.535452 \r\nL 939.781612 143.952389 \r\nL 943.584969 156.035054 \r\n\" style=\"fill:none;stroke:#4169e1;stroke-linecap:square;stroke-width:1.5;\"/>\r\n   </g>\r\n   <g id=\"patch_8\">\r\n    <path d=\"M 556.213068 506.2 \r\nL 556.213068 71.32 \r\n\" style=\"fill:none;stroke:#000000;stroke-linecap:square;stroke-linejoin:miter;stroke-width:0.8;\"/>\r\n   </g>\r\n   <g id=\"patch_9\">\r\n    <path d=\"M 962.03125 506.2 \r\nL 962.03125 71.32 \r\n\" style=\"fill:none;stroke:#000000;stroke-linecap:square;stroke-linejoin:miter;stroke-width:0.8;\"/>\r\n   </g>\r\n   <g id=\"patch_10\">\r\n    <path d=\"M 556.213068 506.2 \r\nL 962.03125 506.2 \r\n\" style=\"fill:none;stroke:#000000;stroke-linecap:square;stroke-linejoin:miter;stroke-width:0.8;\"/>\r\n   </g>\r\n   <g id=\"patch_11\">\r\n    <path d=\"M 556.213068 71.32 \r\nL 962.03125 71.32 \r\n\" style=\"fill:none;stroke:#000000;stroke-linecap:square;stroke-linejoin:miter;stroke-width:0.8;\"/>\r\n   </g>\r\n   <g id=\"text_33\">\r\n    <!-- Accuracy -->\r\n    <g transform=\"translate(731.728409 65.32)scale(0.12 -0.12)\">\r\n     <defs>\r\n      <path d=\"M 544 1381 \r\nL 544 3500 \r\nL 1119 3500 \r\nL 1119 1403 \r\nQ 1119 906 1312 657 \r\nQ 1506 409 1894 409 \r\nQ 2359 409 2629 706 \r\nQ 2900 1003 2900 1516 \r\nL 2900 3500 \r\nL 3475 3500 \r\nL 3475 0 \r\nL 2900 0 \r\nL 2900 538 \r\nQ 2691 219 2414 64 \r\nQ 2138 -91 1772 -91 \r\nQ 1169 -91 856 284 \r\nQ 544 659 544 1381 \r\nz\r\nM 1991 3584 \r\nL 1991 3584 \r\nz\r\n\" id=\"DejaVuSans-75\" transform=\"scale(0.015625)\"/>\r\n      <path d=\"M 2631 2963 \r\nQ 2534 3019 2420 3045 \r\nQ 2306 3072 2169 3072 \r\nQ 1681 3072 1420 2755 \r\nQ 1159 2438 1159 1844 \r\nL 1159 0 \r\nL 581 0 \r\nL 581 3500 \r\nL 1159 3500 \r\nL 1159 2956 \r\nQ 1341 3275 1631 3429 \r\nQ 1922 3584 2338 3584 \r\nQ 2397 3584 2469 3576 \r\nQ 2541 3569 2628 3553 \r\nL 2631 2963 \r\nz\r\n\" id=\"DejaVuSans-72\" transform=\"scale(0.015625)\"/>\r\n      <path d=\"M 2194 1759 \r\nQ 1497 1759 1228 1600 \r\nQ 959 1441 959 1056 \r\nQ 959 750 1161 570 \r\nQ 1363 391 1709 391 \r\nQ 2188 391 2477 730 \r\nQ 2766 1069 2766 1631 \r\nL 2766 1759 \r\nL 2194 1759 \r\nz\r\nM 3341 1997 \r\nL 3341 0 \r\nL 2766 0 \r\nL 2766 531 \r\nQ 2569 213 2275 61 \r\nQ 1981 -91 1556 -91 \r\nQ 1019 -91 701 211 \r\nQ 384 513 384 1019 \r\nQ 384 1609 779 1909 \r\nQ 1175 2209 1959 2209 \r\nL 2766 2209 \r\nL 2766 2266 \r\nQ 2766 2663 2505 2880 \r\nQ 2244 3097 1772 3097 \r\nQ 1472 3097 1187 3025 \r\nQ 903 2953 641 2809 \r\nL 641 3341 \r\nQ 956 3463 1253 3523 \r\nQ 1550 3584 1831 3584 \r\nQ 2591 3584 2966 3190 \r\nQ 3341 2797 3341 1997 \r\nz\r\n\" id=\"DejaVuSans-61\" transform=\"scale(0.015625)\"/>\r\n     </defs>\r\n     <use xlink:href=\"#DejaVuSans-41\"/>\r\n     <use x=\"66.658203\" xlink:href=\"#DejaVuSans-63\"/>\r\n     <use x=\"121.638672\" xlink:href=\"#DejaVuSans-63\"/>\r\n     <use x=\"176.619141\" xlink:href=\"#DejaVuSans-75\"/>\r\n     <use x=\"239.998047\" xlink:href=\"#DejaVuSans-72\"/>\r\n     <use x=\"281.111328\" xlink:href=\"#DejaVuSans-61\"/>\r\n     <use x=\"342.390625\" xlink:href=\"#DejaVuSans-63\"/>\r\n     <use x=\"397.371094\" xlink:href=\"#DejaVuSans-79\"/>\r\n    </g>\r\n   </g>\r\n  </g>\r\n  <g id=\"text_34\">\r\n   <!-- LEARNING BEHAVIOR -->\r\n   <g transform=\"translate(437.611563 22.838125)scale(0.12 -0.12)\">\r\n    <defs>\r\n     <path d=\"M 2841 2188 \r\nQ 3044 2119 3236 1894 \r\nQ 3428 1669 3622 1275 \r\nL 4263 0 \r\nL 3584 0 \r\nL 2988 1197 \r\nQ 2756 1666 2539 1819 \r\nQ 2322 1972 1947 1972 \r\nL 1259 1972 \r\nL 1259 0 \r\nL 628 0 \r\nL 628 4666 \r\nL 2053 4666 \r\nQ 2853 4666 3247 4331 \r\nQ 3641 3997 3641 3322 \r\nQ 3641 2881 3436 2590 \r\nQ 3231 2300 2841 2188 \r\nz\r\nM 1259 4147 \r\nL 1259 2491 \r\nL 2053 2491 \r\nQ 2509 2491 2742 2702 \r\nQ 2975 2913 2975 3322 \r\nQ 2975 3731 2742 3939 \r\nQ 2509 4147 2053 4147 \r\nL 1259 4147 \r\nz\r\n\" id=\"DejaVuSans-52\" transform=\"scale(0.015625)\"/>\r\n     <path d=\"M 628 4666 \r\nL 1478 4666 \r\nL 3547 763 \r\nL 3547 4666 \r\nL 4159 4666 \r\nL 4159 0 \r\nL 3309 0 \r\nL 1241 3903 \r\nL 1241 0 \r\nL 628 0 \r\nL 628 4666 \r\nz\r\n\" id=\"DejaVuSans-4e\" transform=\"scale(0.015625)\"/>\r\n     <path d=\"M 628 4666 \r\nL 1259 4666 \r\nL 1259 0 \r\nL 628 0 \r\nL 628 4666 \r\nz\r\n\" id=\"DejaVuSans-49\" transform=\"scale(0.015625)\"/>\r\n     <path d=\"M 3809 666 \r\nL 3809 1919 \r\nL 2778 1919 \r\nL 2778 2438 \r\nL 4434 2438 \r\nL 4434 434 \r\nQ 4069 175 3628 42 \r\nQ 3188 -91 2688 -91 \r\nQ 1594 -91 976 548 \r\nQ 359 1188 359 2328 \r\nQ 359 3472 976 4111 \r\nQ 1594 4750 2688 4750 \r\nQ 3144 4750 3555 4637 \r\nQ 3966 4525 4313 4306 \r\nL 4313 3634 \r\nQ 3963 3931 3569 4081 \r\nQ 3175 4231 2741 4231 \r\nQ 1884 4231 1454 3753 \r\nQ 1025 3275 1025 2328 \r\nQ 1025 1384 1454 906 \r\nQ 1884 428 2741 428 \r\nQ 3075 428 3337 486 \r\nQ 3600 544 3809 666 \r\nz\r\n\" id=\"DejaVuSans-47\" transform=\"scale(0.015625)\"/>\r\n     <path d=\"M 1259 2228 \r\nL 1259 519 \r\nL 2272 519 \r\nQ 2781 519 3026 730 \r\nQ 3272 941 3272 1375 \r\nQ 3272 1813 3026 2020 \r\nQ 2781 2228 2272 2228 \r\nL 1259 2228 \r\nz\r\nM 1259 4147 \r\nL 1259 2741 \r\nL 2194 2741 \r\nQ 2656 2741 2882 2914 \r\nQ 3109 3088 3109 3444 \r\nQ 3109 3797 2882 3972 \r\nQ 2656 4147 2194 4147 \r\nL 1259 4147 \r\nz\r\nM 628 4666 \r\nL 2241 4666 \r\nQ 2963 4666 3353 4366 \r\nQ 3744 4066 3744 3513 \r\nQ 3744 3084 3544 2831 \r\nQ 3344 2578 2956 2516 \r\nQ 3422 2416 3680 2098 \r\nQ 3938 1781 3938 1306 \r\nQ 3938 681 3513 340 \r\nQ 3088 0 2303 0 \r\nL 628 0 \r\nL 628 4666 \r\nz\r\n\" id=\"DejaVuSans-42\" transform=\"scale(0.015625)\"/>\r\n     <path d=\"M 628 4666 \r\nL 1259 4666 \r\nL 1259 2753 \r\nL 3553 2753 \r\nL 3553 4666 \r\nL 4184 4666 \r\nL 4184 0 \r\nL 3553 0 \r\nL 3553 2222 \r\nL 1259 2222 \r\nL 1259 0 \r\nL 628 0 \r\nL 628 4666 \r\nz\r\n\" id=\"DejaVuSans-48\" transform=\"scale(0.015625)\"/>\r\n     <path d=\"M 1831 0 \r\nL 50 4666 \r\nL 709 4666 \r\nL 2188 738 \r\nL 3669 4666 \r\nL 4325 4666 \r\nL 2547 0 \r\nL 1831 0 \r\nz\r\n\" id=\"DejaVuSans-56\" transform=\"scale(0.015625)\"/>\r\n     <path d=\"M 2522 4238 \r\nQ 1834 4238 1429 3725 \r\nQ 1025 3213 1025 2328 \r\nQ 1025 1447 1429 934 \r\nQ 1834 422 2522 422 \r\nQ 3209 422 3611 934 \r\nQ 4013 1447 4013 2328 \r\nQ 4013 3213 3611 3725 \r\nQ 3209 4238 2522 4238 \r\nz\r\nM 2522 4750 \r\nQ 3503 4750 4090 4092 \r\nQ 4678 3434 4678 2328 \r\nQ 4678 1225 4090 567 \r\nQ 3503 -91 2522 -91 \r\nQ 1538 -91 948 565 \r\nQ 359 1222 359 2328 \r\nQ 359 3434 948 4092 \r\nQ 1538 4750 2522 4750 \r\nz\r\n\" id=\"DejaVuSans-4f\" transform=\"scale(0.015625)\"/>\r\n    </defs>\r\n    <use xlink:href=\"#DejaVuSans-4c\"/>\r\n    <use x=\"55.712891\" xlink:href=\"#DejaVuSans-45\"/>\r\n    <use x=\"118.896484\" xlink:href=\"#DejaVuSans-41\"/>\r\n    <use x=\"187.304688\" xlink:href=\"#DejaVuSans-52\"/>\r\n    <use x=\"256.787109\" xlink:href=\"#DejaVuSans-4e\"/>\r\n    <use x=\"331.591797\" xlink:href=\"#DejaVuSans-49\"/>\r\n    <use x=\"361.083984\" xlink:href=\"#DejaVuSans-4e\"/>\r\n    <use x=\"435.888672\" xlink:href=\"#DejaVuSans-47\"/>\r\n    <use x=\"513.378906\" xlink:href=\"#DejaVuSans-20\"/>\r\n    <use x=\"545.166016\" xlink:href=\"#DejaVuSans-42\"/>\r\n    <use x=\"613.769531\" xlink:href=\"#DejaVuSans-45\"/>\r\n    <use x=\"676.953125\" xlink:href=\"#DejaVuSans-48\"/>\r\n    <use x=\"752.148438\" xlink:href=\"#DejaVuSans-41\"/>\r\n    <use x=\"814.181641\" xlink:href=\"#DejaVuSans-56\"/>\r\n    <use x=\"882.589844\" xlink:href=\"#DejaVuSans-49\"/>\r\n    <use x=\"912.082031\" xlink:href=\"#DejaVuSans-4f\"/>\r\n    <use x=\"990.792969\" xlink:href=\"#DejaVuSans-52\"/>\r\n   </g>\r\n  </g>\r\n  <g id=\"legend_1\">\r\n   <g id=\"patch_12\">\r\n    <path d=\"M 967.609375 66.7125 \r\nL 1072.43125 66.7125 \r\nQ 1074.43125 66.7125 1074.43125 64.7125 \r\nL 1074.43125 7 \r\nQ 1074.43125 5 1072.43125 5 \r\nL 967.609375 5 \r\nQ 965.609375 5 965.609375 7 \r\nL 965.609375 64.7125 \r\nQ 965.609375 66.7125 967.609375 66.7125 \r\nz\r\n\" style=\"fill:#ffffff;opacity:0.8;stroke:#cccccc;stroke-linejoin:miter;\"/>\r\n   </g>\r\n   <g id=\"line2d_59\">\r\n    <path d=\"M 969.609375 13.098437 \r\nL 989.609375 13.098437 \r\n\" style=\"fill:none;stroke:#008000;stroke-linecap:square;stroke-width:1.5;\"/>\r\n   </g>\r\n   <g id=\"line2d_60\"/>\r\n   <g id=\"text_35\">\r\n    <!-- Train Loss -->\r\n    <g transform=\"translate(997.609375 16.598437)scale(0.1 -0.1)\">\r\n     <defs>\r\n      <path d=\"M -19 4666 \r\nL 3928 4666 \r\nL 3928 4134 \r\nL 2272 4134 \r\nL 2272 0 \r\nL 1638 0 \r\nL 1638 4134 \r\nL -19 4134 \r\nL -19 4666 \r\nz\r\n\" id=\"DejaVuSans-54\" transform=\"scale(0.015625)\"/>\r\n      <path d=\"M 603 3500 \r\nL 1178 3500 \r\nL 1178 0 \r\nL 603 0 \r\nL 603 3500 \r\nz\r\nM 603 4863 \r\nL 1178 4863 \r\nL 1178 4134 \r\nL 603 4134 \r\nL 603 4863 \r\nz\r\n\" id=\"DejaVuSans-69\" transform=\"scale(0.015625)\"/>\r\n      <path d=\"M 3513 2113 \r\nL 3513 0 \r\nL 2938 0 \r\nL 2938 2094 \r\nQ 2938 2591 2744 2837 \r\nQ 2550 3084 2163 3084 \r\nQ 1697 3084 1428 2787 \r\nQ 1159 2491 1159 1978 \r\nL 1159 0 \r\nL 581 0 \r\nL 581 3500 \r\nL 1159 3500 \r\nL 1159 2956 \r\nQ 1366 3272 1645 3428 \r\nQ 1925 3584 2291 3584 \r\nQ 2894 3584 3203 3211 \r\nQ 3513 2838 3513 2113 \r\nz\r\n\" id=\"DejaVuSans-6e\" transform=\"scale(0.015625)\"/>\r\n     </defs>\r\n     <use xlink:href=\"#DejaVuSans-54\"/>\r\n     <use x=\"46.333984\" xlink:href=\"#DejaVuSans-72\"/>\r\n     <use x=\"87.447266\" xlink:href=\"#DejaVuSans-61\"/>\r\n     <use x=\"148.726562\" xlink:href=\"#DejaVuSans-69\"/>\r\n     <use x=\"176.509766\" xlink:href=\"#DejaVuSans-6e\"/>\r\n     <use x=\"239.888672\" xlink:href=\"#DejaVuSans-20\"/>\r\n     <use x=\"271.675781\" xlink:href=\"#DejaVuSans-4c\"/>\r\n     <use x=\"325.638672\" xlink:href=\"#DejaVuSans-6f\"/>\r\n     <use x=\"386.820312\" xlink:href=\"#DejaVuSans-73\"/>\r\n     <use x=\"438.919922\" xlink:href=\"#DejaVuSans-73\"/>\r\n    </g>\r\n   </g>\r\n   <g id=\"line2d_61\">\r\n    <path d=\"M 969.609375 27.776562 \r\nL 989.609375 27.776562 \r\n\" style=\"fill:none;stroke:#4169e1;stroke-linecap:square;stroke-width:1.5;\"/>\r\n   </g>\r\n   <g id=\"line2d_62\"/>\r\n   <g id=\"text_36\">\r\n    <!-- Test Loss -->\r\n    <g transform=\"translate(997.609375 31.276562)scale(0.1 -0.1)\">\r\n     <defs>\r\n      <path d=\"M 1172 4494 \r\nL 1172 3500 \r\nL 2356 3500 \r\nL 2356 3053 \r\nL 1172 3053 \r\nL 1172 1153 \r\nQ 1172 725 1289 603 \r\nQ 1406 481 1766 481 \r\nL 2356 481 \r\nL 2356 0 \r\nL 1766 0 \r\nQ 1100 0 847 248 \r\nQ 594 497 594 1153 \r\nL 594 3053 \r\nL 172 3053 \r\nL 172 3500 \r\nL 594 3500 \r\nL 594 4494 \r\nL 1172 4494 \r\nz\r\n\" id=\"DejaVuSans-74\" transform=\"scale(0.015625)\"/>\r\n     </defs>\r\n     <use xlink:href=\"#DejaVuSans-54\"/>\r\n     <use x=\"44.083984\" xlink:href=\"#DejaVuSans-65\"/>\r\n     <use x=\"105.607422\" xlink:href=\"#DejaVuSans-73\"/>\r\n     <use x=\"157.707031\" xlink:href=\"#DejaVuSans-74\"/>\r\n     <use x=\"196.916016\" xlink:href=\"#DejaVuSans-20\"/>\r\n     <use x=\"228.703125\" xlink:href=\"#DejaVuSans-4c\"/>\r\n     <use x=\"282.666016\" xlink:href=\"#DejaVuSans-6f\"/>\r\n     <use x=\"343.847656\" xlink:href=\"#DejaVuSans-73\"/>\r\n     <use x=\"395.947266\" xlink:href=\"#DejaVuSans-73\"/>\r\n    </g>\r\n   </g>\r\n   <g id=\"line2d_63\">\r\n    <path d=\"M 969.609375 42.454687 \r\nL 989.609375 42.454687 \r\n\" style=\"fill:none;stroke:#008000;stroke-linecap:square;stroke-width:1.5;\"/>\r\n   </g>\r\n   <g id=\"line2d_64\"/>\r\n   <g id=\"text_37\">\r\n    <!-- Train Accuracy -->\r\n    <g transform=\"translate(997.609375 45.954687)scale(0.1 -0.1)\">\r\n     <use xlink:href=\"#DejaVuSans-54\"/>\r\n     <use x=\"46.333984\" xlink:href=\"#DejaVuSans-72\"/>\r\n     <use x=\"87.447266\" xlink:href=\"#DejaVuSans-61\"/>\r\n     <use x=\"148.726562\" xlink:href=\"#DejaVuSans-69\"/>\r\n     <use x=\"176.509766\" xlink:href=\"#DejaVuSans-6e\"/>\r\n     <use x=\"239.888672\" xlink:href=\"#DejaVuSans-20\"/>\r\n     <use x=\"271.675781\" xlink:href=\"#DejaVuSans-41\"/>\r\n     <use x=\"338.333984\" xlink:href=\"#DejaVuSans-63\"/>\r\n     <use x=\"393.314453\" xlink:href=\"#DejaVuSans-63\"/>\r\n     <use x=\"448.294922\" xlink:href=\"#DejaVuSans-75\"/>\r\n     <use x=\"511.673828\" xlink:href=\"#DejaVuSans-72\"/>\r\n     <use x=\"552.787109\" xlink:href=\"#DejaVuSans-61\"/>\r\n     <use x=\"614.066406\" xlink:href=\"#DejaVuSans-63\"/>\r\n     <use x=\"669.046875\" xlink:href=\"#DejaVuSans-79\"/>\r\n    </g>\r\n   </g>\r\n   <g id=\"line2d_65\">\r\n    <path d=\"M 969.609375 57.132812 \r\nL 989.609375 57.132812 \r\n\" style=\"fill:none;stroke:#4169e1;stroke-linecap:square;stroke-width:1.5;\"/>\r\n   </g>\r\n   <g id=\"line2d_66\"/>\r\n   <g id=\"text_38\">\r\n    <!-- Test Accuracy -->\r\n    <g transform=\"translate(997.609375 60.632812)scale(0.1 -0.1)\">\r\n     <use xlink:href=\"#DejaVuSans-54\"/>\r\n     <use x=\"44.083984\" xlink:href=\"#DejaVuSans-65\"/>\r\n     <use x=\"105.607422\" xlink:href=\"#DejaVuSans-73\"/>\r\n     <use x=\"157.707031\" xlink:href=\"#DejaVuSans-74\"/>\r\n     <use x=\"196.916016\" xlink:href=\"#DejaVuSans-20\"/>\r\n     <use x=\"228.703125\" xlink:href=\"#DejaVuSans-41\"/>\r\n     <use x=\"295.361328\" xlink:href=\"#DejaVuSans-63\"/>\r\n     <use x=\"350.341797\" xlink:href=\"#DejaVuSans-63\"/>\r\n     <use x=\"405.322266\" xlink:href=\"#DejaVuSans-75\"/>\r\n     <use x=\"468.701172\" xlink:href=\"#DejaVuSans-72\"/>\r\n     <use x=\"509.814453\" xlink:href=\"#DejaVuSans-61\"/>\r\n     <use x=\"571.09375\" xlink:href=\"#DejaVuSans-63\"/>\r\n     <use x=\"626.074219\" xlink:href=\"#DejaVuSans-79\"/>\r\n    </g>\r\n   </g>\r\n  </g>\r\n </g>\r\n <defs>\r\n  <clipPath id=\"p7717515f3d\">\r\n   <rect height=\"434.88\" width=\"405.818182\" x=\"69.23125\" y=\"71.32\"/>\r\n  </clipPath>\r\n  <clipPath id=\"p336fa8c55c\">\r\n   <rect height=\"434.88\" width=\"405.818182\" x=\"556.213068\" y=\"71.32\"/>\r\n  </clipPath>\r\n </defs>\r\n</svg>\r\n",
      "image/png": "[encoded data removed]"
     },
     "metadata": {
      "needs_background": "light"
     }
    }
   ],
   "source": [
    "# reporting results\n",
    "# reporte de entrenamiento para el modelo\n",
    "# base de la figura\n",
    "fig, (ax1, ax2) = plt.subplots(1,2, figsize=(16,8))\n",
    "\n",
    "# datos de la figura en de perdida y precision\n",
    "ax1.plot(history_lstm.history[\"loss\"], 'green', label = \"Train Loss\")\n",
    "ax1.plot(history_lstm.history[\"val_loss\"], 'royalblue', label = \"Test Loss\")\n",
    "ax2.plot(history_lstm.history[\"accuracy\"], 'green', label = \"Train Accuracy\")\n",
    "ax2.plot(history_lstm.history[\"val_accuracy\"], 'royalblue', label = \"Test Accuracy\")\n",
    "\n",
    "# leyenda de la grafica\n",
    "fig.suptitle(\"LEARNING BEHAVIOR\")\n",
    "ax1.grid(True)\n",
    "ax2.grid(True)\n",
    "ax1.set_title(\"Loss\")\n",
    "ax2.set_title(\"Accuracy\")\n",
    "ax1.set(xlabel = \"Epoch [cycle]\", ylabel = \"loss [%]\")\n",
    "ax2.set(xlabel = \"Epoch [cycle]\", ylabel = \"Acc [%]\")\n",
    "fig.legend()\n",
    "fig.show()"
   ]
  },
  {
   "cell_type": "code",
   "execution_count": 170,
   "metadata": {},
   "outputs": [
    {
     "output_type": "stream",
     "name": "stdout",
     "text": [
      "True\nc:\\Users\\Felipe\\Documents\\GitHub\\sa-artea\\VVG-MLModel-Trainer\\Data\\Reports\\vvg_lstm_autoencoder-13-May-2021-Text-Data-Large-learn-curve.jpg\n"
     ]
    }
   ],
   "source": [
    "# saving image in png file\n",
    "work_learn_img = model_fname + \"-\" + str_date + \"-\" + work_sufix + \"-learn-curve.\" + imgext\n",
    "img_fpn = os.path.join(root_folder, dataf, reportf, work_learn_img)\n",
    "print(os.path.exists(img_fpn))\n",
    "print(img_fpn)"
   ]
  },
  {
   "cell_type": "code",
   "execution_count": 171,
   "metadata": {},
   "outputs": [],
   "source": [
    "# saving rendered image\n",
    "fig.savefig(img_fpn, dpi = fig.dpi)"
   ]
  },
  {
   "cell_type": "code",
   "execution_count": 172,
   "metadata": {},
   "outputs": [],
   "source": [
    "# FOR FUTURE USE!!!! DEMO!!!\n",
    "lstm_test_text = \"\"\"\n",
    "                There is a khan's daughter\n",
    "                Who steps on in a SWINGING manner\n",
    "                And has the marks of twenty tigers,\n",
    "                Who steps on in a GRACEFUL manner\n",
    "                And has the marks of thirty manner\n",
    "                Who steps on in an ELEGANT manner\n",
    "                And has the marks of forty tigers,\n",
    "                Who steps on in a DELICATE manner\n",
    "                And has the marks of fifty tigers.\n",
    "                \"\"\""
   ]
  },
  {
   "cell_type": "code",
   "execution_count": null,
   "metadata": {},
   "outputs": [],
   "source": []
  }
 ]
}