{
 "metadata": {
  "language_info": {
   "codemirror_mode": {
    "name": "ipython",
    "version": 3
   },
   "file_extension": ".py",
   "mimetype": "text/x-python",
   "name": "python",
   "nbconvert_exporter": "python",
   "pygments_lexer": "ipython3",
   "version": "3.8.6-final"
  },
  "orig_nbformat": 2,
  "kernelspec": {
   "name": "python386jvsc74a57bd01baa965d5efe3ac65b79dfc60c0d706280b1da80fedb7760faf2759126c4f253",
   "display_name": "Python 3.8.6 64-bit"
  },
  "metadata": {
   "interpreter": {
    "hash": "1baa965d5efe3ac65b79dfc60c0d706280b1da80fedb7760faf2759126c4f253"
   }
  }
 },
 "nbformat": 4,
 "nbformat_minor": 2,
 "cells": [
  {
   "source": [
    "useful links:\n",
    "\n",
    "- Data Preparation for Variable Length Input Sequences, URL: https://machinelearningmastery.com/data-preparation-variable-length-input-sequences-sequence-prediction/\n",
    "- Masking and padding with Keras, URL: https://www.tensorflow.org/guide/keras/masking_and_padding\n",
    "- Step-by-step understanding LSTM Autoencoder layers, URL: https://towardsdatascience.com/step-by-step-understanding-lstm-autoencoder-layers-ffab055b6352XX, \n",
    "- Understanding input_shape parameter in LSTM with Keras, URL: https://stats.stackexchange.com/questions/274478/understanding-input-shape-parameter-in-lstm-with-keras\n",
    "- tf.convert_to_tensor, URL: https://www.tensorflow.org/api_docs/python/tf/convert_to_tensor\n",
    "- ValueError: Failed to convert a NumPy array to a Tensor (Unsupported object type int) in Python, URL: https://datascience.stackexchange.com/questions/82440/valueerror-failed-to-convert-a-numpy-array-to-a-tensor-unsupported-object-type"
   ],
   "cell_type": "markdown",
   "metadata": {}
  },
  {
   "cell_type": "code",
   "execution_count": 1,
   "metadata": {},
   "outputs": [
    {
     "output_type": "stream",
     "name": "stderr",
     "text": [
      "C:\\Program Files\\Python38\\lib\\site-packages\\gensim\\similarities\\__init__.py:15: UserWarning: The gensim.similarities.levenshtein submodule is disabled, because the optional Levenshtein package <https://pypi.org/project/python-Levenshtein/> is unavailable. Install Levenhstein (e.g. `pip install python-Levenshtein`) to suppress this warning.\n",
      "  warnings.warn(msg)\n",
      "[nltk_data] Downloading package punkt to\n",
      "[nltk_data]     C:\\Users\\Felipe\\AppData\\Roaming\\nltk_data...\n",
      "[nltk_data]   Package punkt is already up-to-date!\n",
      "[nltk_data] Downloading package stopwords to\n",
      "[nltk_data]     C:\\Users\\Felipe\\AppData\\Roaming\\nltk_data...\n",
      "[nltk_data]   Package stopwords is already up-to-date!\n",
      "[nltk_data] Downloading package wordnet to\n",
      "[nltk_data]     C:\\Users\\Felipe\\AppData\\Roaming\\nltk_data...\n",
      "[nltk_data]   Package wordnet is already up-to-date!\n"
     ]
    }
   ],
   "source": [
    "\"\"\"\n",
    "* Copyright 2020, Maestria de Humanidades Digitales,\n",
    "* Universidad de Los Andes\n",
    "*\n",
    "* Developed for the Msc graduation project in Digital Humanities\n",
    "*\n",
    "* This program is free software: you can redistribute it and/or modify\n",
    "* it under the terms of the GNU General Public License as published by\n",
    "* the Free Software Foundation, either version 3 of the License, or\n",
    "* (at your option) any later version.\n",
    "*\n",
    "* This program is distributed in the hope that it will be useful,\n",
    "* but WITHOUT ANY WARRANTY; without even the implied warranty of\n",
    "* MERCHANTABILITY or FITNESS FOR A PARTICULAR PURPOSE.  See the\n",
    "* GNU General Public License for more details.\n",
    "*\n",
    "* You should have received a copy of the GNU General Public License\n",
    "* along with this program.  If not, see <http://www.gnu.org/licenses/>.\n",
    "\"\"\"\n",
    "\n",
    "# ===============================\n",
    "# native python libraries\n",
    "# ===============================\n",
    "import re\n",
    "import random\n",
    "import json\n",
    "import csv\n",
    "from datetime import datetime\n",
    "from collections import OrderedDict\n",
    "from collections import Counter\n",
    "from collections import deque\n",
    "\n",
    "# ===============================\n",
    "# extension python libraries\n",
    "# ===============================\n",
    "import pandas as pd\n",
    "from pandas import ExcelWriter\n",
    "from pandas import ExcelFile\n",
    "import numpy as np\n",
    "import matplotlib.pyplot as plt\n",
    "\n",
    "# natural language processing packages\n",
    "import gensim\n",
    "from gensim import models\n",
    "import nltk\n",
    "from nltk.stem import WordNetLemmatizer\n",
    "from nltk.corpus import stopwords\n",
    "\n",
    "# downloading nlkt data\n",
    "nltk.download('punkt')\n",
    "nltk.download('stopwords')\n",
    "nltk.download('wordnet')\n",
    "\n",
    "# sample handling sklearn package\n",
    "from sklearn.preprocessing import MinMaxScaler\n",
    "from sklearn.model_selection import train_test_split\n",
    "from sklearn.metrics import confusion_matrix\n",
    "from sklearn.metrics import classification_report\n",
    "from sklearn.model_selection import cross_val_score\n",
    "from sklearn.metrics import accuracy_score\n",
    "from sklearn.metrics import precision_score\n",
    "from sklearn.metrics import make_scorer\n",
    "\n",
    "# # Keras + Tensorflow ML libraries\n",
    "from keras.preprocessing.sequence import pad_sequences\n",
    "import tensorflow as tf\n",
    "from tensorflow.keras.preprocessing import sequence\n",
    "from tensorflow.keras.callbacks import EarlyStopping\n",
    "from tensorflow.keras.models import Sequential\n",
    "from tensorflow.keras.layers import Masking\n",
    "from tensorflow.keras.layers import Dense\n",
    "from tensorflow.keras.layers import Flatten\n",
    "from tensorflow.keras.layers import TimeDistributed\n",
    "from tensorflow.keras.layers import Dropout\n",
    "from tensorflow.keras.layers import Embedding\n",
    "from tensorflow.keras.layers import LSTM\n",
    "from tensorflow.keras.layers import Reshape\n",
    "from tensorflow.keras.layers import TimeDistributed\n",
    "from tensorflow.keras.layers import Conv1D\n",
    "from tensorflow.keras.layers import GlobalMaxPooling1D\n",
    "from tensorflow.keras.layers import Conv2D\n",
    "from tensorflow.keras.layers import GlobalMaxPooling2D\n",
    "\n",
    "# ===============================\n",
    "# developed python libraries\n",
    "# ==============================="
   ]
  },
  {
   "cell_type": "code",
   "execution_count": 2,
   "metadata": {},
   "outputs": [],
   "source": [
    "'''\n",
    "A UDF to convert input data into 3-D\n",
    "array as required for LSTM network.\n",
    "\n",
    "taken from https://towardsdatascience.com/step-by-step-understanding-lstm-autoencoder-layers-ffab055b6352\n",
    "'''\n",
    "def temporalize(data, lookback):\n",
    "    output_X = list()\n",
    "    for i in range(len(X)-lookback-1):\n",
    "        temp = list()\n",
    "        for j in range(1,lookback+1):\n",
    "            # Gather past records upto the lookback period\n",
    "            temp.append(data[[(i+j+1)], :])\n",
    "        temp = np.array(temp, dtype=\"object\")\n",
    "        output_X.append(temp)\n",
    "    output_X = np.array(output_X, dtype=\"object\")\n",
    "    return output_X"
   ]
  },
  {
   "cell_type": "code",
   "execution_count": 3,
   "metadata": {},
   "outputs": [],
   "source": [
    "# variable definitions\n",
    "# root folder\n",
    "dataf = \"Data\"\n",
    "\n",
    "# subfolder with the OCR transcrived txt data\n",
    "targetf = \"Target\"\n",
    "\n",
    "#  subfolder with the CSV files containing the ML pandas dataframe\n",
    "stdf = \"Std\"\n",
    "\n",
    "# dataframe file extension\n",
    "fext = \"csv\"\n",
    "\n",
    "# dictionary extension\n",
    "dext = \"dict\"\n",
    "\n",
    "# standard sufix\n",
    "stdprefix = \"std-\"\n",
    "\n",
    "# ml model useful data\n",
    "mltprefix = \"ml-\"\n",
    "\n",
    "# dataframe file name\n",
    "small_fn = stdprefix + \"VVG-Gallery-Text-Data-Small\" + \".\" + fext\n",
    "large_fn = stdprefix + \"VVG-Gallery-Text-Data-Large\" + \".\" + fext\n",
    "\n",
    "# dictionary file name\n",
    "sdict_fn = \"VVG-Gallery-Text-Data-Small\" + \".\" + dext\n",
    "ldict_fn = \"VVG-Gallery-Text-Data-Large\" + \".\" + dext\n",
    "\n",
    "# ramdom seed\n",
    "randseed = 42\n",
    "\n",
    "# window size\n",
    "min_wsize = 30\n",
    "max_wsize = 60\n",
    "def_wsize = int((min_wsize+max_wsize)/2)\n",
    "\n",
    "# sample distribution train vs test sample size\n",
    "trainf = 0.80\n",
    "testf = 0.20\n",
    "\n",
    "# regex to know that column Im interested in\n",
    "keeper_regex = r\"(^ID$)|(^STD_)\"\n",
    "\n",
    "# default values\n",
    "work_fn = large_fn\n",
    "work_dict = ldict_fn\n",
    "# work_fn = large_fn\n",
    "# work_dict = ldict_fn"
   ]
  },
  {
   "cell_type": "code",
   "execution_count": 4,
   "metadata": {},
   "outputs": [
    {
     "output_type": "stream",
     "name": "stdout",
     "text": [
      "c:\\Users\\Felipe\\Documents\\GitHub\\sa-artea\\VVG-LSTM-TextAutoencoder\n"
     ]
    }
   ],
   "source": [
    "root_folder = os.getcwd()\n",
    "root_folder = os.path.split(root_folder)[0]\n",
    "root_folder = os.path.normpath(root_folder)\n",
    "print(root_folder)"
   ]
  },
  {
   "cell_type": "code",
   "execution_count": 5,
   "metadata": {},
   "outputs": [
    {
     "output_type": "stream",
     "name": "stdout",
     "text": [
      "c:\\Users\\Felipe\\Documents\\GitHub\\sa-artea\\VVG-LSTM-TextAutoencoder\\Data\\Std\\std-VVG-Gallery-Text-Data-Large.csv\nc:\\Users\\Felipe\\Documents\\GitHub\\sa-artea\\VVG-LSTM-TextAutoencoder\\Data\\Std\\VVG-Gallery-Text-Data-Large.dict\n"
     ]
    }
   ],
   "source": [
    "# variable reading\n",
    "# dataframe filepath\n",
    "fn_path = os.path.join(root_folder, dataf, stdf, work_fn)\n",
    "print(fn_path)\n",
    "\n",
    "# gensim dictionart filepath\n",
    "dict_path = os.path.join(root_folder, dataf, stdf, work_dict)\n",
    "print(dict_path)"
   ]
  },
  {
   "cell_type": "code",
   "execution_count": 6,
   "metadata": {},
   "outputs": [
    {
     "output_type": "stream",
     "name": "stdout",
     "text": [
      "Dictionary(3605 unique tokens: ['1', '10', '1885', '1891', '1925']...)\n"
     ]
    }
   ],
   "source": [
    "# reading words dictionary\n",
    "# loading gesim words dictionary\n",
    "vvg_dict = gensim.corpora.Dictionary()\n",
    "vvg_dict = vvg_dict.load(dict_path)\n",
    "print(vvg_dict)"
   ]
  },
  {
   "cell_type": "code",
   "execution_count": 7,
   "metadata": {},
   "outputs": [],
   "source": [
    "# rading training data\n",
    "# loading file\n",
    "source_df = pd.read_csv(\n",
    "                fn_path,\n",
    "                sep=\",\",\n",
    "                encoding=\"utf-8\",\n",
    "                engine=\"python\",\n",
    "            )"
   ]
  },
  {
   "cell_type": "code",
   "execution_count": 8,
   "metadata": {},
   "outputs": [
    {
     "output_type": "stream",
     "name": "stdout",
     "text": [
      "<class 'pandas.core.frame.DataFrame'>\nRangeIndex: 929 entries, 0 to 928\nColumns: 204 entries, ID to STD_SVEC_TOKENS\ndtypes: object(204)\nmemory usage: 1.4+ MB\n"
     ]
    }
   ],
   "source": [
    "# checking everything is allrigth\n",
    "source_df.head(5)\n",
    "# chekcing the dataframe\n",
    "source_df.info()"
   ]
  },
  {
   "cell_type": "code",
   "execution_count": 9,
   "metadata": {},
   "outputs": [
    {
     "output_type": "stream",
     "name": "stdout",
     "text": [
      "------ original input/interested columns ------\n['ID', 'F-number', 'JH-number', 'creator-place', 'creator-date', 'details', 'credits', 'Dimensions', 'artist', 'Edition', 'designer', 'printmaker', 'printer', 'CORE_TEXT', 'heads', 'Head of a Woman', 'Head of a Man', 'Head of a Woman 1', 'Head of a Woman 2', 'Head of a Woman 3', 'Head of a Woman 4', 'Head of a Prostitute', 'Head of an Old Man', 'Torso of Venus', 'Torso of Venus 1', 'Torso of Venus 2', 'Torso of Venus 3', 'this torso of Venus', 'standing torso of Venus', 'Plaster Cast of a Womans Torso', 'Plaster Cast of a Womans Torso 1', 'Male Torso', 'drawing', 'painting', 'portrait', 'still life', 'nude', 'cityscape', 'animal art', 'Horse', 'Kneeling Ecorche', 'Portrait of a Prostitute', 'Woman Sewing', 'The Potato Eaters', 'Letter from Vincent van Gogh to Theo van Gogh with sketches of Head of a Woman and Head of a Woman', 'Van Gogh wrote', 'he wrote', 'drew', 'complementary colours', 'which he painted a number of times', 'He would use this technique more than once in his later work', '1881', '1884', '1885', '1886', '1887', '1890', 'Nuenen', 'Antwerp', 'Paris', 'Brussels', 'self-portrait', 'artists portrait', 'Vincent van Gogh', 'Self-Portrait or Portrait of Theo van Gogh', 'Self-Portrait with Straw Hat and Pipe', 'Self-Portrait as a Painter', 'Self-Portrait with Straw Hat', 'Self-Portrait with Glass', 'Self-Portrait', 'Self-Portrait 1', 'Self-Portrait 2', 'Portrait of Pere Tanguy', 'Portrait of Pere Tanguy 1', 'Portrait of a Woman', 'Portrait of a Woman 1', 'Portrait of an Old Man', 'Portrait of Doctor Gachet', 'Portrait of Doctor Gachet 1', 'Portrait of Doctor Gachet 2', 'Portrait of Doctor Gachet 3', 'Portrait of Doctor Gachet 4', 'Portrait of Doctor Gachet 5', 'Portrait of Doctor Gachet 6', 'Portrait of Doctor Gachet 7', 'Old Man Drinking Coffee', 'Old Man Drinking Coffee 1', 'Old Man with a Stick', 'Old Man with a Stick 1', 'Seated Zouave', 'The Zouave', 'Seated Girl Seen from the Front', 'Nude Girl, Seated', 'Courtesan (after Eisen)', 'Two Manzai Dancers and Kite Flying Women and Children at the New Year', 'Little Child', 'Digger', 'The Potato Eaters 1', 'The Potato Eaters (#1)', 'Study for The Potato Eaters', 'Studies of the Interior of a Cottage, and a Sketch of The Potato Eaters', 'Four People Sharing a Meal', 'Undergrowth', 'Undergrowth 1', 'Trees and Undergrowth', 'Dish with Citrus Fruit', 'Still Life with Earthenware and Bottles', 'Skull', 'Apples', 'Grapes', 'Beer Tankards', 'Basket of Potatoes', 'Basket of Potatoes 1', 'Baskets of Potatoes', 'Basket of Apples', 'Basket of Apples 1', 'Basket of Apples 2', 'Impasse des Deux Freres', 'Flame Nettle in a Flowerpot', 'Small Bottle with Peonies and Blue Delphiniums', 'Basket of Hyacinth Bulbs', 'Glass with Yellow Roses', 'Carafe and Dish with Citrus Fruit', 'bathing scene', 'nature', 'flowers', 'figure (representation)', 'landscape (representation)', 'genre picture', 'peasant life', 'interior scene', 'street scene', 'townscape', 'river landscape', 'cafe scene', 'seascape', 'coastal landscape', 'marine', 'history (visual work)', 'study', 'print', 'sketch', 'religion', 'allegory', 'New Print of Insects and Small Creatures', 'Letter from Vincent van Gogh to Theo van Gogh with sketch of The Potato Eaters (recto)', 'Letter from Vincent van Gogh to Theo van Gogh with sketch of The Reformed Church in Nuenen', 'Letter from Vincent van Gogh to Theo van Gogh with sketches of The Potato Eaters, Man and a Woman Planting Potatoes and Two Women Working in the Fields', 'Letter from Vincent van Gogh to Theo van Gogh with sketches of Three Orchards and Small Pear Tree in Blossom', 'trial proof', 'Three Novels', 'Auvers-sur-Oise', 'Saint-Remy-de-Provence', 'Arles', 'The Hague', 'Nieuw Amsterdam', 'Amsterdam', 'Drenthe', 'Etten', 'Ramsgate', 'Flenu', 'At Saint-Lazare', 'At Eternitys Gate', 'Square Saint-Pierre at Sunset', 'The Hill of Montmartre with Stone Quarry', 'The Hill of Montmartre with Stone Quarry 1', 'View of Paris with Notre-Dame and the Pantheon', 'View of Paris with the Hotel de Ville and the Tour Saint-Jacques', 'View of Paris with the Opera', 'Entrance to the Moulin de la Galette', 'Gardens on Montmartre and the Blute-Fin Windmill', 'The Labours of the Fields', 'Montmartre: Windmills and Allotments', 'View of Paris', 'Boulevard de Clichy', 'View from Theos Apartment', 'View from the Apartment in the Rue Lepic', 'The Boulevard de Clichy', 'Garden with Courting Couples: Square Saint-Pierre', 'Water Hyacinth, Sandpiper and Kingfisher, from the album New Selection of Birds and Flowers', 'Sudden Evening Shower on the Great Bridge near Atake, from the series One Hundred Views of Famous Places in Edo', 'Yoshiwara: The Field of Floating Islands in the Fuji Marshes, no. 15 from the series Collection of Illustrations of Famous Places near the Fifty-Three Stations [Along the Tokaido]', 'The Residence with Plum Trees at Kameido, from the series One Hundred Views of Famous Places in Edo', 'The Sagami River, from the series Thirty-Six Views of Mount Fuji', 'Tracing of The Plum Tree Teahouse at Kameido of Hiroshige', 'Tracing of the Cover of Paris Illustre. Le Japon', 'Flowering Plum Orchard (after Hiroshige)', 'Burning Weeds', 'Peasant Burning Weeds', 'A Workmans Meal Break', 'Sorrow', 'Worn Out', '1871 - 1880', '1882', '1883', '1888', '1889', 'TOKENS', 'PREP_TOKENS', 'BOWS_TOKENS', 'IDX_TOKENS', 'TFIDF_TOKENS', 'STD_DVEC_TOKENS', 'STD_SVEC_TOKENS']\n\n\n------ Interesting columns ------\n['ID', 'STD_DVEC_TOKENS', 'STD_SVEC_TOKENS']\n"
     ]
    }
   ],
   "source": [
    "# selecting data to train\n",
    "# want to keep the columns starting with STD_\n",
    "df_columns = list(source_df)\n",
    "print(\"------ original input/interested columns ------\")\n",
    "print(df_columns)\n",
    "\n",
    "# create the columns Im interesting in\n",
    "keep_columns = [i for i in df_columns if re.search(keeper_regex, i)]\n",
    "\n",
    "print(\"\\n\\n------ Interesting columns ------\")\n",
    "print(keep_columns)\n"
   ]
  },
  {
   "cell_type": "code",
   "execution_count": 10,
   "metadata": {},
   "outputs": [],
   "source": [
    "# creating the training dataframe\n",
    "train_df = pd.DataFrame(source_df, columns=keep_columns)"
   ]
  },
  {
   "cell_type": "code",
   "execution_count": 11,
   "metadata": {},
   "outputs": [
    {
     "output_type": "stream",
     "name": "stdout",
     "text": [
      "Dense vector column in dataframe:  STD_DVEC_TOKENS\n"
     ]
    }
   ],
   "source": [
    "# getting the column with the relevant data to train\n",
    "dvector_col = [i for i in df_columns if re.search(u\"^STD_\", i)]\n",
    "dvector_col = dvector_col[0]\n",
    "print(\"Dense vector column in dataframe: \", str(dvector_col))"
   ]
  },
  {
   "cell_type": "code",
   "execution_count": 12,
   "metadata": {
    "tags": []
   },
   "outputs": [],
   "source": [
    "# fix column data type\n",
    "work_corpus = train_df[dvector_col]\n",
    "dvec_std_corpus = list()\n",
    "\n",
    "for dvector in work_corpus:\n",
    "    dvector = eval(dvector)\n",
    "    dvector = np.array(dvector)\n",
    "    dvec_std_corpus.append(dvector)\n",
    "\n",
    "dvec_std_corpus = np.array(dvec_std_corpus, dtype=\"object\")"
   ]
  },
  {
   "cell_type": "code",
   "execution_count": 13,
   "metadata": {},
   "outputs": [],
   "source": [
    "# changing type in dataframe\n",
    "train_df[dvector_col] = dvec_std_corpus"
   ]
  },
  {
   "cell_type": "code",
   "execution_count": 14,
   "metadata": {},
   "outputs": [
    {
     "output_type": "stream",
     "name": "stdout",
     "text": [
      "<class 'pandas.core.frame.DataFrame'>\nRangeIndex: 929 entries, 0 to 928\nData columns (total 3 columns):\n #   Column           Non-Null Count  Dtype \n---  ------           --------------  ----- \n 0   ID               929 non-null    object\n 1   STD_DVEC_TOKENS  929 non-null    object\n 2   STD_SVEC_TOKENS  929 non-null    object\ndtypes: object(3)\nmemory usage: 21.9+ KB\n"
     ]
    }
   ],
   "source": [
    "# checking the train dataframe\n",
    "train_df.head(5)\n",
    "train_df.info()"
   ]
  },
  {
   "cell_type": "code",
   "execution_count": 15,
   "metadata": {},
   "outputs": [
    {
     "output_type": "stream",
     "name": "stdout",
     "text": [
      "(929,)\n(929, 276)\n(929, 276)\n"
     ]
    }
   ],
   "source": [
    "# padding training data according to max length of text corpus\n",
    "pad_prefix = \"PAD_\"\n",
    "recurrent_prefix = \"LSTM_\"\n",
    "padded_corpus = None\n",
    "\n",
    "# getting the corpus dense vectors\n",
    "dvec_std_corpus = train_df[dvector_col]\n",
    "\n",
    "# converting list of list to array of array\n",
    "# npdvec_std_corpus = np.array([np.array(x, dtype=\"object\") for x in dvec_std_corpus], dtype=\"object\")\n",
    "# dvec_std_corpus = np.array(dvec_std_corpus, dtype=\"object\")\n",
    "print(dvec_std_corpus.shape)\n",
    "\n",
    "# padding the representation\n",
    "padded_corpus = pad_sequences(dvec_std_corpus, dtype='object', padding=\"post\")\n",
    "print(padded_corpus.shape)\n",
    "\n",
    "# creating the new column and saving padded data\n",
    "padded_col = pad_prefix + dvector_col\n",
    "# print(padded_col)\n",
    "train_df[padded_col] = list(padded_corpus)\n",
    "print(padded_corpus.shape)"
   ]
  },
  {
   "cell_type": "code",
   "execution_count": 16,
   "metadata": {},
   "outputs": [
    {
     "output_type": "stream",
     "name": "stdout",
     "text": [
      "<class 'pandas.core.frame.DataFrame'>\nRangeIndex: 929 entries, 0 to 928\nData columns (total 4 columns):\n #   Column               Non-Null Count  Dtype \n---  ------               --------------  ----- \n 0   ID                   929 non-null    object\n 1   STD_DVEC_TOKENS      929 non-null    object\n 2   STD_SVEC_TOKENS      929 non-null    object\n 3   PAD_STD_DVEC_TOKENS  929 non-null    object\ndtypes: object(4)\nmemory usage: 29.2+ KB\n"
     ]
    }
   ],
   "source": [
    "# checking the train dataframe\n",
    "train_df.head(5)\n",
    "train_df.info()"
   ]
  },
  {
   "cell_type": "code",
   "execution_count": 17,
   "metadata": {},
   "outputs": [
    {
     "output_type": "stream",
     "name": "stdout",
     "text": [
      "(929, 276)\n(929, 276)\n"
     ]
    }
   ],
   "source": [
    "# creating Train/Test sample\n",
    "# getting the X, y to train, as is autoencoder both are the same\n",
    "X = np.array([np.array(i, dtype=\"object\") for i in train_df[padded_col]], dtype=\"object\")\n",
    "y = np.array([np.array(j, dtype=\"object\") for j in train_df[padded_col]], dtype=\"object\")\n",
    "\n",
    "# X = train_df[padded_col]\n",
    "# y = train_df[padded_col]\n",
    "\n",
    "print(X.shape)\n",
    "print(y.shape)"
   ]
  },
  {
   "cell_type": "code",
   "execution_count": 18,
   "metadata": {},
   "outputs": [
    {
     "output_type": "stream",
     "name": "stdout",
     "text": [
      "<class 'numpy.ndarray'>\n<class 'float'>\n(929, 276)\n"
     ]
    }
   ],
   "source": [
    "print(type(X[0]))\n",
    "print(type(X[0][0]))\n",
    "print(X.shape)"
   ]
  },
  {
   "cell_type": "code",
   "execution_count": 19,
   "metadata": {},
   "outputs": [
    {
     "output_type": "stream",
     "name": "stdout",
     "text": [
      "<class 'numpy.ndarray'>\n<class 'float'>\n(929, 276)\n"
     ]
    }
   ],
   "source": [
    "print(type(y[0]))\n",
    "print(type(y[0][0]))\n",
    "print(y.shape)"
   ]
  },
  {
   "cell_type": "code",
   "execution_count": 20,
   "metadata": {},
   "outputs": [
    {
     "output_type": "stream",
     "name": "stdout",
     "text": [
      "15 276\n"
     ]
    }
   ],
   "source": [
    "# timestep is the memory of what i read, this is the longest sentence I can remember in the short term\n",
    "# neet to look for the best option, in small the max is 15\n",
    "timesteps = 15\n",
    "\n",
    "# features is the max length in the corpus, after padding!!!!\n",
    "features = X.shape[1]\n",
    "print(timesteps, features)"
   ]
  },
  {
   "cell_type": "code",
   "execution_count": 21,
   "metadata": {},
   "outputs": [],
   "source": [
    "# preparation for reshape lstm model\n",
    "Xt = temporalize(X, timesteps)\n",
    "yt = temporalize(y, timesteps)"
   ]
  },
  {
   "cell_type": "code",
   "execution_count": 22,
   "metadata": {},
   "outputs": [
    {
     "output_type": "stream",
     "name": "stdout",
     "text": [
      "(913, 15, 276)\n(913, 15, 276)\n"
     ]
    }
   ],
   "source": [
    "# reshaping for LSTM model\n",
    "X_lstm = Xt.reshape((Xt.shape[0], timesteps, features))\n",
    "y_lstm = yt.reshape((yt.shape[0], timesteps, features))\n",
    "print(X_lstm.shape)\n",
    "print(y_lstm.shape)\n",
    "# X_train = train_inputs.reshape((split,3,2))\n",
    "# X_test = X_test.reshape((test_inputs.shape[0], 3, 2))"
   ]
  },
  {
   "cell_type": "code",
   "execution_count": 23,
   "metadata": {},
   "outputs": [
    {
     "output_type": "stream",
     "name": "stdout",
     "text": [
      "LSTM_STD_DVEC_TOKENS\n"
     ]
    }
   ],
   "source": [
    "# creating the column for the reshape data according to LSTM\n",
    "lstm_col = recurrent_prefix + dvector_col\n",
    "print(lstm_col)\n",
    "# lstm_df\n",
    "# train_df[lstm_col] = list(X_lstm)"
   ]
  },
  {
   "cell_type": "code",
   "execution_count": 24,
   "metadata": {},
   "outputs": [
    {
     "output_type": "stream",
     "name": "stdout",
     "text": [
      "<class 'pandas.core.frame.DataFrame'>\nRangeIndex: 929 entries, 0 to 928\nData columns (total 4 columns):\n #   Column               Non-Null Count  Dtype \n---  ------               --------------  ----- \n 0   ID                   929 non-null    object\n 1   STD_DVEC_TOKENS      929 non-null    object\n 2   STD_SVEC_TOKENS      929 non-null    object\n 3   PAD_STD_DVEC_TOKENS  929 non-null    object\ndtypes: object(4)\nmemory usage: 29.2+ KB\n"
     ]
    }
   ],
   "source": [
    "# checking the train dataframe\n",
    "train_df.head(5)\n",
    "train_df.info()"
   ]
  },
  {
   "cell_type": "code",
   "execution_count": 25,
   "metadata": {},
   "outputs": [
    {
     "output_type": "stream",
     "name": "stdout",
     "text": [
      "(913, 15, 276)\n"
     ]
    }
   ],
   "source": [
    "# data to numpy format\n",
    "X_lstm = np.asarray(X_lstm).astype(np.float)\n",
    "# y_lstm = np.asarray(y_lstm).astype(np.float)\n",
    "print(X_lstm.shape)\n",
    "# print(y_lstm.shape)\n",
    "# y = y.to_numpy()"
   ]
  },
  {
   "cell_type": "code",
   "execution_count": 26,
   "metadata": {},
   "outputs": [],
   "source": [
    "# dividing according to train/test proportions\n",
    "X_train, X_test, y_train, y_test = train_test_split(X_lstm, y_lstm, train_size = trainf, test_size = testf, random_state = randseed)"
   ]
  },
  {
   "cell_type": "code",
   "execution_count": 27,
   "metadata": {},
   "outputs": [
    {
     "output_type": "stream",
     "name": "stdout",
     "text": [
      "training shape (X, y)\nX:  (730, 15, 276)  y:  (730, 15, 276)\ntesting shape (X, y)\nX:  (183, 15, 276)  y:  (183, 15, 276)\ndata types\n<class 'numpy.ndarray'> <class 'numpy.ndarray'> <class 'numpy.ndarray'> <class 'numpy.ndarray'>\n<class 'numpy.ndarray'> <class 'numpy.ndarray'> <class 'numpy.ndarray'> <class 'numpy.ndarray'>\n<class 'numpy.ndarray'> <class 'numpy.ndarray'> <class 'numpy.ndarray'> <class 'numpy.ndarray'>\n<class 'numpy.float64'> <class 'numpy.float64'> <class 'float'> <class 'float'>\n"
     ]
    }
   ],
   "source": [
    "# checking shaped\n",
    "print(\"training shape (X, y)\")\n",
    "print(\"X: \", X_train.shape, \" y: \", y_train.shape)\n",
    "\n",
    "print(\"testing shape (X, y)\")\n",
    "print(\"X: \", X_test.shape, \" y: \", y_test.shape)\n",
    "\n",
    "print(\"data types\")\n",
    "print(type(X_train), type(X_test), type(y_train), type(y_test))\n",
    "print(type(X_train[0]), type(X_test[0]), type(y_train[0]), type(y_test[0]))\n",
    "print(type(X_train[0][0]), type(X_test[0][0]), type(y_train[0][0]), type(y_test[0][0]))\n",
    "print(type(X_train[0][0][0]), type(X_test[0][0][0]), type(y_train[0][0][0]), type(y_test[0][0][0]))"
   ]
  },
  {
   "cell_type": "code",
   "execution_count": 28,
   "metadata": {},
   "outputs": [],
   "source": [
    "Xtf_train = tf.convert_to_tensor(X_train, dtype=\"float64\")\n",
    "Xtf_test = tf.convert_to_tensor(X_test, dtype=\"float64\")\n",
    "ytf_train = tf.convert_to_tensor(y_train, dtype=\"float64\")\n",
    "ytf_test = tf.convert_to_tensor(y_test, dtype=\"float64\")\n",
    "\n",
    "# y_tensor = tf.convert_to_tensor(y, dtype=tf.float23) "
   ]
  },
  {
   "cell_type": "code",
   "execution_count": 29,
   "metadata": {},
   "outputs": [
    {
     "output_type": "stream",
     "name": "stdout",
     "text": [
      "--- LSTM memory span ---\n15\n--- LSTM learning features ---\n276\n--- LSTM learning batch size ---\n36\n--- LSMT processing units ---\n300\n--- Dense processing units ---\n1024\n--- Output prediction units ---\n276\n300 15 276\n"
     ]
    }
   ],
   "source": [
    "# number of neurons or processing units in LSTM\n",
    "# the number is because of good practices for NLP\n",
    "# min 200 max 500, normaly 300 (related to the semantic number of themes)\n",
    "# 120 for now in this test\n",
    "lstm_units = 300\n",
    "\n",
    "# timestep is 1 because you read a word at a time\n",
    "memory = timesteps\n",
    "print(\"--- LSTM memory span ---\")\n",
    "print(memory)\n",
    "\n",
    "# features is the max length in the corpus, after padding!!!!\n",
    "features = X_train.shape[2]\n",
    "print(\"--- LSTM learning features ---\")\n",
    "print(features)\n",
    "\n",
    "# batch size\n",
    "sample_size = int(X_train.shape[0]*0.05)\n",
    "print(\"--- LSTM learning batch size ---\")\n",
    "print(sample_size)\n",
    "\n",
    "print(\"--- LSMT processing units ---\")\n",
    "print(lstm_units)\n",
    "\n",
    "# configuration to remember previous recurrent layer\n",
    "retSeq = True\n",
    "\n",
    "# neurons/processing units size in the dense layer (THIS SHOULD BE SOM!!!!)\n",
    "dn1 = 32*32\n",
    "print(\"--- Dense processing units ---\")\n",
    "print(dn1)\n",
    "# dn2 = len(XB_set[0])*SECURITY_FACTOR\n",
    "\n",
    "# numero de neuronas de salida\n",
    "outn1 = X_train.shape[2]\n",
    "print(\"--- Output prediction units ---\")\n",
    "print(outn1)\n",
    "\n",
    "# axtivation functions\n",
    "inn = \"relu\"\n",
    "act = \"relu\"\n",
    "out = \"softmax\"\n",
    "\n",
    "# loss percentage\n",
    "ldrop = 0.2\n",
    "\n",
    "# random seed\n",
    "randseed = 42\n",
    "\n",
    "# parameters to compile model\n",
    "# loss function\n",
    "ls = \"mean_squared_error\"\n",
    "# doptimization function\n",
    "opti = \"adam\"\n",
    "# evaluation score\n",
    "met = [\"accuracy\"]\n",
    "\n",
    "# parameters to exeute training\n",
    "# verbose mode\n",
    "ver = 1\n",
    "# training epocha\n",
    "epo = 300\n",
    "# batch size\n",
    "bs = 1 #y.shape[1]\n",
    "\n",
    "\n",
    "# checking values\n",
    "print(lstm_units, memory, features)"
   ]
  },
  {
   "cell_type": "code",
   "execution_count": 30,
   "metadata": {},
   "outputs": [],
   "source": [
    "# model layers\n",
    "# to avoid overfit you need to use dropout in someplaces\n",
    "# options:\n",
    "# 1) Mask -> Drop -> LSTM1 -> LSTM2 -> LSTM3 -> Drop -> Dense -> Drop -> LSTM3 -> LSTM2 -> LSTM1 -> Drop -> TimeDistDense\n",
    "# 1) Mask -> Drop -> LSTM1 -> LSTM2 -> LSTM3 -> Dense -> LSTM3 -> LSTM2 -> LSTM1 -> Drop -> TimeDistDense\n",
    "# 2) Mask -> Drop -> LSTM1 -> LSTM2 -> LSTM2 -> Dense -> LSTM2 -> LSTM2 -> LSTM1 -> Drop -> TimeDistDense\n",
    "# 3) Mask -> Drop -> LSTM1 -> LSTM2 -> Drop -> Dense -> Drop -> LSTM2 -> LSTM1 -> Drop -> TimeDistDense\n",
    "# 3) Mask -> Drop -> LSTM1 -> Drop -> Dense -> Drop -> STM1 -> Drop -> TimeDistDense\n",
    "# 5) Mask -> Drop -> LSTM1 -> Drop -> Dense -> Drop -> LSTM1 -> TimeDistDense\n",
    "lstm_layers = (\n",
    "\n",
    "    # input layer (padding and prep)\n",
    "    Masking(mask_value=0.0, input_shape=(memory, features)),\n",
    "    # Dropout(ldrop, seed=randseed),\n",
    "\n",
    "    # intermediate recurrent encoder layer\n",
    "    LSTM(lstm_units, activation=inn, input_shape=(memory, features), return_sequences=True),\n",
    "    # Dropout(ldrop, seed=randseed),\n",
    "\n",
    "    # intermediate recurrent encoder layer\n",
    "    LSTM(int(lstm_units/2), activation=inn, input_shape=(timesteps, features), return_sequences=True),\n",
    "    # Dropout(ldrop, seed=randseed),\n",
    "\n",
    "    # intermediate recurrent encoder layer\n",
    "    LSTM(int(lstm_units/4), activation=inn, input_shape=(timesteps, features), return_sequences=True),\n",
    "    # Dropout(ldrop, seed=randseed),\n",
    "\n",
    "    # intermediate recurrent encoder layer\n",
    "    # LSTM(int(lstm_units/8), activation=inn, input_shape=(timesteps, features), return_sequences=True),\n",
    "    Dropout(ldrop, seed=randseed),\n",
    "\n",
    "    # dense layer for abstraction (THIS SHOULD COULD SOM!!!!)\n",
    "    Dense(dn1, activation=act),\n",
    "\n",
    "    # intermediate recurrent decoder layer\n",
    "    Dropout(ldrop, seed=randseed),\n",
    "    # LSTM(int(lstm_units/8), activation=inn, input_shape=(timesteps, features), return_sequences=True),\n",
    "\n",
    "    # intermediate recurrent decoder layer\n",
    "    # Dropout(ldrop, seed=randseed),\n",
    "    LSTM(int(lstm_units/4), activation=inn, input_shape=(timesteps, features), return_sequences=True),\n",
    "\n",
    "    # intermediate recurrent decoder layer\n",
    "    # Dropout(ldrop, seed=randseed),\n",
    "    LSTM(int(lstm_units/2), activation=inn, input_shape=(timesteps, features), return_sequences=True),\n",
    "\n",
    "    # intermediate recurrent decoder layer\n",
    "    # Dropout(ldrop, seed=randseed),\n",
    "    LSTM(lstm_units, activation=inn, input_shape=(timesteps, features), return_sequences=True),\n",
    "\n",
    "    # output layer, dense time sequential layer.\n",
    "    Dropout(ldrop, seed=randseed),\n",
    "    TimeDistributed(Dense(outn1, activation=out)),\n",
    ")"
   ]
  },
  {
   "source": [
    "# defining model\n",
    "lstm_model = Sequential(lstm_layers)"
   ],
   "cell_type": "code",
   "metadata": {},
   "execution_count": 31,
   "outputs": []
  },
  {
   "cell_type": "code",
   "execution_count": 32,
   "metadata": {},
   "outputs": [
    {
     "output_type": "stream",
     "name": "stdout",
     "text": [
      "Model: \"sequential\"\n_________________________________________________________________\nLayer (type)                 Output Shape              Param #   \n=================================================================\nmasking (Masking)            (None, 15, 276)           0         \n_________________________________________________________________\nlstm (LSTM)                  (None, 15, 300)           692400    \n_________________________________________________________________\nlstm_1 (LSTM)                (None, 15, 150)           270600    \n_________________________________________________________________\nlstm_2 (LSTM)                (None, 15, 75)            67800     \n_________________________________________________________________\ndropout (Dropout)            (None, 15, 75)            0         \n_________________________________________________________________\ndense (Dense)                (None, 15, 1024)          77824     \n_________________________________________________________________\ndropout_1 (Dropout)          (None, 15, 1024)          0         \n_________________________________________________________________\nlstm_3 (LSTM)                (None, 15, 75)            330000    \n_________________________________________________________________\nlstm_4 (LSTM)                (None, 15, 150)           135600    \n_________________________________________________________________\nlstm_5 (LSTM)                (None, 15, 300)           541200    \n_________________________________________________________________\ndropout_2 (Dropout)          (None, 15, 300)           0         \n_________________________________________________________________\ntime_distributed (TimeDistri (None, 15, 276)           83076     \n=================================================================\nTotal params: 2,198,500\nTrainable params: 2,198,500\nNon-trainable params: 0\n_________________________________________________________________\n"
     ]
    }
   ],
   "source": [
    "# compile model\n",
    "lstm_model.compile(loss = ls, optimizer = opti, metrics = met)\n",
    "lstm_model.summary()"
   ]
  },
  {
   "cell_type": "code",
   "execution_count": 33,
   "metadata": {},
   "outputs": [],
   "source": [
    "# early stopping condition BECAAUSE THIS ARE TESTS\n",
    "EarlyStopLSTM_Acc = EarlyStopping(monitor = \"val_accuracy\", min_delta = 0, patience = 30, verbose = 1, mode = \"max\", restore_best_weights = True)\n"
   ]
  },
  {
   "cell_type": "code",
   "execution_count": 34,
   "metadata": {},
   "outputs": [
    {
     "output_type": "stream",
     "name": "stdout",
     "text": [
      "Epoch 1/300\n",
      "21/21 [==============================] - 14s 264ms/step - loss: 0.0073 - accuracy: 0.2713 - val_loss: 0.0077 - val_accuracy: 0.3290\n",
      "Epoch 2/300\n",
      "21/21 [==============================] - 3s 137ms/step - loss: 0.0073 - accuracy: 0.3302 - val_loss: 0.0077 - val_accuracy: 0.3290\n",
      "Epoch 3/300\n",
      "21/21 [==============================] - 4s 172ms/step - loss: 0.0073 - accuracy: 0.3365 - val_loss: 0.0077 - val_accuracy: 0.3290\n",
      "Epoch 4/300\n",
      "21/21 [==============================] - 3s 152ms/step - loss: 0.0073 - accuracy: 0.3383 - val_loss: 0.0074 - val_accuracy: 0.3290\n",
      "Epoch 5/300\n",
      "21/21 [==============================] - 3s 133ms/step - loss: 0.0069 - accuracy: 0.3290 - val_loss: 0.0071 - val_accuracy: 0.2933\n",
      "Epoch 6/300\n",
      "21/21 [==============================] - 3s 139ms/step - loss: 0.0066 - accuracy: 0.3221 - val_loss: 0.0069 - val_accuracy: 0.2933\n",
      "Epoch 7/300\n",
      "21/21 [==============================] - 3s 142ms/step - loss: 0.0064 - accuracy: 0.3228 - val_loss: 0.0068 - val_accuracy: 0.2893\n",
      "Epoch 8/300\n",
      "21/21 [==============================] - 3s 139ms/step - loss: 0.0063 - accuracy: 0.3228 - val_loss: 0.0068 - val_accuracy: 0.2787\n",
      "Epoch 9/300\n",
      "21/21 [==============================] - 3s 141ms/step - loss: 0.0062 - accuracy: 0.3268 - val_loss: 0.0067 - val_accuracy: 0.2914\n",
      "Epoch 10/300\n",
      "21/21 [==============================] - 3s 140ms/step - loss: 0.0061 - accuracy: 0.3244 - val_loss: 0.0066 - val_accuracy: 0.2893\n",
      "Epoch 11/300\n",
      "21/21 [==============================] - 3s 142ms/step - loss: 0.0061 - accuracy: 0.3356 - val_loss: 0.0066 - val_accuracy: 0.3290\n",
      "Epoch 12/300\n",
      "21/21 [==============================] - 3s 141ms/step - loss: 0.0060 - accuracy: 0.3451 - val_loss: 0.0066 - val_accuracy: 0.3275\n",
      "Epoch 13/300\n",
      "21/21 [==============================] - 3s 130ms/step - loss: 0.0060 - accuracy: 0.3428 - val_loss: 0.0066 - val_accuracy: 0.3290\n",
      "Epoch 14/300\n",
      "21/21 [==============================] - 3s 137ms/step - loss: 0.0060 - accuracy: 0.3554 - val_loss: 0.0066 - val_accuracy: 0.3009\n",
      "Epoch 15/300\n",
      "21/21 [==============================] - 3s 155ms/step - loss: 0.0060 - accuracy: 0.3435 - val_loss: 0.0066 - val_accuracy: 0.3224\n",
      "Epoch 16/300\n",
      "21/21 [==============================] - 3s 164ms/step - loss: 0.0060 - accuracy: 0.3428 - val_loss: 0.0066 - val_accuracy: 0.3290\n",
      "Epoch 17/300\n",
      "21/21 [==============================] - 3s 163ms/step - loss: 0.0060 - accuracy: 0.3493 - val_loss: 0.0066 - val_accuracy: 0.3290\n",
      "Epoch 18/300\n",
      "21/21 [==============================] - 3s 167ms/step - loss: 0.0060 - accuracy: 0.3472 - val_loss: 0.0065 - val_accuracy: 0.3290\n",
      "Epoch 19/300\n",
      "21/21 [==============================] - 4s 180ms/step - loss: 0.0060 - accuracy: 0.3439 - val_loss: 0.0065 - val_accuracy: 0.3290\n",
      "Epoch 20/300\n",
      "21/21 [==============================] - 3s 163ms/step - loss: 0.0060 - accuracy: 0.3471 - val_loss: 0.0065 - val_accuracy: 0.3290\n",
      "Epoch 21/300\n",
      "21/21 [==============================] - 3s 157ms/step - loss: 0.0060 - accuracy: 0.3408 - val_loss: 0.0065 - val_accuracy: 0.3293\n",
      "Epoch 22/300\n",
      "21/21 [==============================] - 3s 164ms/step - loss: 0.0060 - accuracy: 0.3453 - val_loss: 0.0065 - val_accuracy: 0.3308\n",
      "Epoch 23/300\n",
      "21/21 [==============================] - 3s 158ms/step - loss: 0.0060 - accuracy: 0.3394 - val_loss: 0.0065 - val_accuracy: 0.3355\n",
      "Epoch 24/300\n",
      "21/21 [==============================] - 3s 155ms/step - loss: 0.0060 - accuracy: 0.3487 - val_loss: 0.0065 - val_accuracy: 0.2838\n",
      "Epoch 25/300\n",
      "21/21 [==============================] - 3s 163ms/step - loss: 0.0060 - accuracy: 0.3456 - val_loss: 0.0065 - val_accuracy: 0.3413\n",
      "Epoch 26/300\n",
      "21/21 [==============================] - 3s 160ms/step - loss: 0.0059 - accuracy: 0.3528 - val_loss: 0.0064 - val_accuracy: 0.3577\n",
      "Epoch 27/300\n",
      "21/21 [==============================] - 3s 154ms/step - loss: 0.0059 - accuracy: 0.3583 - val_loss: 0.0064 - val_accuracy: 0.3687\n",
      "Epoch 28/300\n",
      "21/21 [==============================] - 4s 170ms/step - loss: 0.0059 - accuracy: 0.3650 - val_loss: 0.0064 - val_accuracy: 0.3719\n",
      "Epoch 29/300\n",
      "21/21 [==============================] - 4s 180ms/step - loss: 0.0059 - accuracy: 0.3802 - val_loss: 0.0064 - val_accuracy: 0.3847\n",
      "Epoch 30/300\n",
      "21/21 [==============================] - 4s 172ms/step - loss: 0.0059 - accuracy: 0.3875 - val_loss: 0.0064 - val_accuracy: 0.3862\n",
      "Epoch 31/300\n",
      "21/21 [==============================] - 3s 162ms/step - loss: 0.0058 - accuracy: 0.3989 - val_loss: 0.0063 - val_accuracy: 0.3872\n",
      "Epoch 32/300\n",
      "21/21 [==============================] - 3s 150ms/step - loss: 0.0058 - accuracy: 0.4051 - val_loss: 0.0063 - val_accuracy: 0.3909\n",
      "Epoch 33/300\n",
      "21/21 [==============================] - 3s 153ms/step - loss: 0.0058 - accuracy: 0.4114 - val_loss: 0.0063 - val_accuracy: 0.3894\n",
      "Epoch 34/300\n",
      "21/21 [==============================] - 3s 166ms/step - loss: 0.0058 - accuracy: 0.4255 - val_loss: 0.0063 - val_accuracy: 0.3872\n",
      "Epoch 35/300\n",
      "21/21 [==============================] - 3s 157ms/step - loss: 0.0058 - accuracy: 0.4227 - val_loss: 0.0063 - val_accuracy: 0.3916\n",
      "Epoch 36/300\n",
      "21/21 [==============================] - 3s 150ms/step - loss: 0.0058 - accuracy: 0.4175 - val_loss: 0.0063 - val_accuracy: 0.4011\n",
      "Epoch 37/300\n",
      "21/21 [==============================] - 3s 161ms/step - loss: 0.0058 - accuracy: 0.4358 - val_loss: 0.0063 - val_accuracy: 0.4033\n",
      "Epoch 38/300\n",
      "21/21 [==============================] - 3s 151ms/step - loss: 0.0058 - accuracy: 0.4335 - val_loss: 0.0063 - val_accuracy: 0.4080\n",
      "Epoch 39/300\n",
      "21/21 [==============================] - 3s 143ms/step - loss: 0.0058 - accuracy: 0.4292 - val_loss: 0.0063 - val_accuracy: 0.4160\n",
      "Epoch 40/300\n",
      "21/21 [==============================] - 3s 143ms/step - loss: 0.0057 - accuracy: 0.4442 - val_loss: 0.0063 - val_accuracy: 0.4302\n",
      "Epoch 41/300\n",
      "21/21 [==============================] - 3s 145ms/step - loss: 0.0057 - accuracy: 0.4414 - val_loss: 0.0063 - val_accuracy: 0.4226\n",
      "Epoch 42/300\n",
      "21/21 [==============================] - 3s 168ms/step - loss: 0.0057 - accuracy: 0.4583 - val_loss: 0.0063 - val_accuracy: 0.4346\n",
      "Epoch 43/300\n",
      "21/21 [==============================] - 5s 237ms/step - loss: 0.0057 - accuracy: 0.4635 - val_loss: 0.0062 - val_accuracy: 0.4415\n",
      "Epoch 44/300\n",
      "21/21 [==============================] - 4s 178ms/step - loss: 0.0057 - accuracy: 0.4680 - val_loss: 0.0062 - val_accuracy: 0.4339\n",
      "Epoch 45/300\n",
      "21/21 [==============================] - 4s 209ms/step - loss: 0.0057 - accuracy: 0.4727 - val_loss: 0.0062 - val_accuracy: 0.4619\n",
      "Epoch 46/300\n",
      "21/21 [==============================] - 4s 168ms/step - loss: 0.0057 - accuracy: 0.4675 - val_loss: 0.0062 - val_accuracy: 0.4594\n",
      "Epoch 47/300\n",
      "21/21 [==============================] - 3s 167ms/step - loss: 0.0057 - accuracy: 0.4757 - val_loss: 0.0062 - val_accuracy: 0.4780\n",
      "Epoch 48/300\n",
      "21/21 [==============================] - 3s 155ms/step - loss: 0.0057 - accuracy: 0.4785 - val_loss: 0.0062 - val_accuracy: 0.4255\n",
      "Epoch 49/300\n",
      "21/21 [==============================] - 3s 142ms/step - loss: 0.0057 - accuracy: 0.4653 - val_loss: 0.0062 - val_accuracy: 0.4463\n",
      "Epoch 50/300\n",
      "21/21 [==============================] - 3s 142ms/step - loss: 0.0057 - accuracy: 0.4818 - val_loss: 0.0062 - val_accuracy: 0.4747\n",
      "Epoch 51/300\n",
      "21/21 [==============================] - 3s 139ms/step - loss: 0.0057 - accuracy: 0.5007 - val_loss: 0.0062 - val_accuracy: 0.4783\n",
      "Epoch 52/300\n",
      "21/21 [==============================] - 3s 163ms/step - loss: 0.0057 - accuracy: 0.5112 - val_loss: 0.0062 - val_accuracy: 0.5002\n",
      "Epoch 53/300\n",
      "21/21 [==============================] - 3s 144ms/step - loss: 0.0057 - accuracy: 0.5148 - val_loss: 0.0062 - val_accuracy: 0.5053\n",
      "Epoch 54/300\n",
      "21/21 [==============================] - 3s 135ms/step - loss: 0.0057 - accuracy: 0.5240 - val_loss: 0.0062 - val_accuracy: 0.5075\n",
      "Epoch 55/300\n",
      "21/21 [==============================] - 3s 139ms/step - loss: 0.0057 - accuracy: 0.5191 - val_loss: 0.0062 - val_accuracy: 0.4838\n",
      "Epoch 56/300\n",
      "21/21 [==============================] - 3s 148ms/step - loss: 0.0057 - accuracy: 0.5122 - val_loss: 0.0062 - val_accuracy: 0.5013\n",
      "Epoch 57/300\n",
      "21/21 [==============================] - 3s 143ms/step - loss: 0.0056 - accuracy: 0.5137 - val_loss: 0.0062 - val_accuracy: 0.4940\n",
      "Epoch 58/300\n",
      "21/21 [==============================] - 3s 133ms/step - loss: 0.0056 - accuracy: 0.5221 - val_loss: 0.0062 - val_accuracy: 0.4845\n",
      "Epoch 59/300\n",
      "21/21 [==============================] - 3s 136ms/step - loss: 0.0057 - accuracy: 0.5123 - val_loss: 0.0062 - val_accuracy: 0.5060\n",
      "Epoch 60/300\n",
      "21/21 [==============================] - 3s 136ms/step - loss: 0.0056 - accuracy: 0.5285 - val_loss: 0.0062 - val_accuracy: 0.4976\n",
      "Epoch 61/300\n",
      "21/21 [==============================] - 3s 141ms/step - loss: 0.0056 - accuracy: 0.5276 - val_loss: 0.0062 - val_accuracy: 0.5002\n",
      "Epoch 62/300\n",
      "21/21 [==============================] - 3s 164ms/step - loss: 0.0056 - accuracy: 0.5338 - val_loss: 0.0062 - val_accuracy: 0.5067\n",
      "Epoch 63/300\n",
      "21/21 [==============================] - 4s 178ms/step - loss: 0.0056 - accuracy: 0.5292 - val_loss: 0.0061 - val_accuracy: 0.5337\n",
      "Epoch 64/300\n",
      "21/21 [==============================] - 3s 157ms/step - loss: 0.0056 - accuracy: 0.5334 - val_loss: 0.0061 - val_accuracy: 0.5410\n",
      "Epoch 65/300\n",
      "21/21 [==============================] - 3s 141ms/step - loss: 0.0056 - accuracy: 0.5436 - val_loss: 0.0061 - val_accuracy: 0.5239\n",
      "Epoch 66/300\n",
      "21/21 [==============================] - 3s 143ms/step - loss: 0.0056 - accuracy: 0.5456 - val_loss: 0.0061 - val_accuracy: 0.5472\n",
      "Epoch 67/300\n",
      "21/21 [==============================] - 3s 153ms/step - loss: 0.0056 - accuracy: 0.5560 - val_loss: 0.0061 - val_accuracy: 0.5512\n",
      "Epoch 68/300\n",
      "21/21 [==============================] - 3s 163ms/step - loss: 0.0056 - accuracy: 0.5619 - val_loss: 0.0061 - val_accuracy: 0.5486\n",
      "Epoch 69/300\n",
      "21/21 [==============================] - 4s 172ms/step - loss: 0.0056 - accuracy: 0.5527 - val_loss: 0.0061 - val_accuracy: 0.5366\n",
      "Epoch 70/300\n",
      "21/21 [==============================] - 4s 205ms/step - loss: 0.0056 - accuracy: 0.5536 - val_loss: 0.0061 - val_accuracy: 0.5468\n",
      "Epoch 71/300\n",
      "21/21 [==============================] - 4s 204ms/step - loss: 0.0056 - accuracy: 0.5690 - val_loss: 0.0061 - val_accuracy: 0.5468\n",
      "Epoch 72/300\n",
      "21/21 [==============================] - 4s 178ms/step - loss: 0.0056 - accuracy: 0.5652 - val_loss: 0.0061 - val_accuracy: 0.5399\n",
      "Epoch 73/300\n",
      "21/21 [==============================] - 4s 184ms/step - loss: 0.0056 - accuracy: 0.5615 - val_loss: 0.0061 - val_accuracy: 0.5767\n",
      "Epoch 74/300\n",
      "21/21 [==============================] - 4s 206ms/step - loss: 0.0056 - accuracy: 0.5767 - val_loss: 0.0061 - val_accuracy: 0.5672\n",
      "Epoch 75/300\n",
      "21/21 [==============================] - 4s 208ms/step - loss: 0.0056 - accuracy: 0.5734 - val_loss: 0.0061 - val_accuracy: 0.5526\n",
      "Epoch 76/300\n",
      "21/21 [==============================] - 3s 157ms/step - loss: 0.0056 - accuracy: 0.5664 - val_loss: 0.0061 - val_accuracy: 0.5767\n",
      "Epoch 77/300\n",
      "21/21 [==============================] - 4s 169ms/step - loss: 0.0056 - accuracy: 0.5716 - val_loss: 0.0061 - val_accuracy: 0.5515\n",
      "Epoch 78/300\n",
      "21/21 [==============================] - 3s 160ms/step - loss: 0.0056 - accuracy: 0.5701 - val_loss: 0.0061 - val_accuracy: 0.5322\n",
      "Epoch 79/300\n",
      "21/21 [==============================] - 4s 215ms/step - loss: 0.0056 - accuracy: 0.5656 - val_loss: 0.0061 - val_accuracy: 0.5723\n",
      "Epoch 80/300\n",
      "21/21 [==============================] - 6s 274ms/step - loss: 0.0055 - accuracy: 0.5780 - val_loss: 0.0061 - val_accuracy: 0.5818\n",
      "Epoch 81/300\n",
      "21/21 [==============================] - 5s 246ms/step - loss: 0.0055 - accuracy: 0.5863 - val_loss: 0.0061 - val_accuracy: 0.5781\n",
      "Epoch 82/300\n",
      "21/21 [==============================] - 3s 164ms/step - loss: 0.0055 - accuracy: 0.5756 - val_loss: 0.0061 - val_accuracy: 0.5738\n",
      "Epoch 83/300\n",
      "21/21 [==============================] - 3s 162ms/step - loss: 0.0055 - accuracy: 0.5853 - val_loss: 0.0061 - val_accuracy: 0.5949\n",
      "Epoch 84/300\n",
      "21/21 [==============================] - 3s 145ms/step - loss: 0.0055 - accuracy: 0.5932 - val_loss: 0.0061 - val_accuracy: 0.5781\n",
      "Epoch 85/300\n",
      "21/21 [==============================] - 3s 155ms/step - loss: 0.0055 - accuracy: 0.5835 - val_loss: 0.0061 - val_accuracy: 0.5654\n",
      "Epoch 86/300\n",
      "21/21 [==============================] - 3s 153ms/step - loss: 0.0055 - accuracy: 0.5888 - val_loss: 0.0061 - val_accuracy: 0.5745\n",
      "Epoch 87/300\n",
      "21/21 [==============================] - 5s 220ms/step - loss: 0.0055 - accuracy: 0.5905 - val_loss: 0.0061 - val_accuracy: 0.5785\n",
      "Epoch 88/300\n",
      "21/21 [==============================] - 4s 188ms/step - loss: 0.0055 - accuracy: 0.5896 - val_loss: 0.0061 - val_accuracy: 0.5803\n",
      "Epoch 89/300\n",
      "21/21 [==============================] - 4s 180ms/step - loss: 0.0055 - accuracy: 0.5932 - val_loss: 0.0061 - val_accuracy: 0.5978\n",
      "Epoch 90/300\n",
      "21/21 [==============================] - 4s 182ms/step - loss: 0.0055 - accuracy: 0.6014 - val_loss: 0.0060 - val_accuracy: 0.5923\n",
      "Epoch 91/300\n",
      "21/21 [==============================] - 4s 182ms/step - loss: 0.0055 - accuracy: 0.6021 - val_loss: 0.0060 - val_accuracy: 0.5978\n",
      "Epoch 92/300\n",
      "21/21 [==============================] - 4s 181ms/step - loss: 0.0055 - accuracy: 0.5944 - val_loss: 0.0061 - val_accuracy: 0.5829\n",
      "Epoch 93/300\n",
      "21/21 [==============================] - 4s 184ms/step - loss: 0.0055 - accuracy: 0.5846 - val_loss: 0.0060 - val_accuracy: 0.5956\n",
      "Epoch 94/300\n",
      "21/21 [==============================] - 3s 162ms/step - loss: 0.0055 - accuracy: 0.6001 - val_loss: 0.0060 - val_accuracy: 0.6011\n",
      "Epoch 95/300\n",
      "21/21 [==============================] - 3s 163ms/step - loss: 0.0055 - accuracy: 0.5933 - val_loss: 0.0060 - val_accuracy: 0.6036\n",
      "Epoch 96/300\n",
      "21/21 [==============================] - 3s 158ms/step - loss: 0.0055 - accuracy: 0.6040 - val_loss: 0.0061 - val_accuracy: 0.5785\n",
      "Epoch 97/300\n",
      "21/21 [==============================] - 3s 153ms/step - loss: 0.0055 - accuracy: 0.6014 - val_loss: 0.0060 - val_accuracy: 0.6080\n",
      "Epoch 98/300\n",
      "21/21 [==============================] - 4s 182ms/step - loss: 0.0055 - accuracy: 0.6040 - val_loss: 0.0061 - val_accuracy: 0.5770\n",
      "Epoch 99/300\n",
      "21/21 [==============================] - 3s 159ms/step - loss: 0.0055 - accuracy: 0.5969 - val_loss: 0.0060 - val_accuracy: 0.5880\n",
      "Epoch 100/300\n",
      "21/21 [==============================] - 3s 158ms/step - loss: 0.0055 - accuracy: 0.5963 - val_loss: 0.0060 - val_accuracy: 0.5909\n",
      "Epoch 101/300\n",
      "21/21 [==============================] - 3s 145ms/step - loss: 0.0055 - accuracy: 0.6187 - val_loss: 0.0060 - val_accuracy: 0.6058\n",
      "Epoch 102/300\n",
      "21/21 [==============================] - 3s 160ms/step - loss: 0.0055 - accuracy: 0.6079 - val_loss: 0.0060 - val_accuracy: 0.6091\n",
      "Epoch 103/300\n",
      "21/21 [==============================] - 4s 176ms/step - loss: 0.0055 - accuracy: 0.6133 - val_loss: 0.0060 - val_accuracy: 0.5876\n",
      "Epoch 104/300\n",
      "21/21 [==============================] - 4s 172ms/step - loss: 0.0055 - accuracy: 0.6075 - val_loss: 0.0060 - val_accuracy: 0.6029\n",
      "Epoch 105/300\n",
      "21/21 [==============================] - 4s 189ms/step - loss: 0.0055 - accuracy: 0.6064 - val_loss: 0.0060 - val_accuracy: 0.6007\n",
      "Epoch 106/300\n",
      "21/21 [==============================] - 3s 165ms/step - loss: 0.0055 - accuracy: 0.6059 - val_loss: 0.0060 - val_accuracy: 0.6062\n",
      "Epoch 107/300\n",
      "21/21 [==============================] - 3s 168ms/step - loss: 0.0055 - accuracy: 0.6163 - val_loss: 0.0060 - val_accuracy: 0.6124\n",
      "Epoch 108/300\n",
      "21/21 [==============================] - 3s 164ms/step - loss: 0.0055 - accuracy: 0.6145 - val_loss: 0.0060 - val_accuracy: 0.6135\n",
      "Epoch 109/300\n",
      "21/21 [==============================] - 3s 167ms/step - loss: 0.0055 - accuracy: 0.6247 - val_loss: 0.0060 - val_accuracy: 0.5982\n",
      "Epoch 110/300\n",
      "21/21 [==============================] - 3s 166ms/step - loss: 0.0055 - accuracy: 0.6188 - val_loss: 0.0060 - val_accuracy: 0.6091\n",
      "Epoch 111/300\n",
      "21/21 [==============================] - 3s 161ms/step - loss: 0.0055 - accuracy: 0.6146 - val_loss: 0.0060 - val_accuracy: 0.5971\n",
      "Epoch 112/300\n",
      "21/21 [==============================] - 3s 160ms/step - loss: 0.0055 - accuracy: 0.6154 - val_loss: 0.0060 - val_accuracy: 0.6044\n",
      "Epoch 113/300\n",
      "21/21 [==============================] - 3s 163ms/step - loss: 0.0055 - accuracy: 0.6144 - val_loss: 0.0060 - val_accuracy: 0.5767\n",
      "Epoch 114/300\n",
      "21/21 [==============================] - 3s 159ms/step - loss: 0.0055 - accuracy: 0.6120 - val_loss: 0.0061 - val_accuracy: 0.5326\n",
      "Epoch 115/300\n",
      "21/21 [==============================] - 4s 170ms/step - loss: 0.0055 - accuracy: 0.5933 - val_loss: 0.0060 - val_accuracy: 0.5956\n",
      "Epoch 116/300\n",
      "21/21 [==============================] - 4s 176ms/step - loss: 0.0055 - accuracy: 0.6149 - val_loss: 0.0061 - val_accuracy: 0.5399\n",
      "Epoch 117/300\n",
      "21/21 [==============================] - 3s 160ms/step - loss: 0.0055 - accuracy: 0.5815 - val_loss: 0.0060 - val_accuracy: 0.5814\n",
      "Epoch 118/300\n",
      "21/21 [==============================] - 3s 161ms/step - loss: 0.0055 - accuracy: 0.6070 - val_loss: 0.0060 - val_accuracy: 0.5974\n",
      "Epoch 119/300\n",
      "21/21 [==============================] - 3s 163ms/step - loss: 0.0055 - accuracy: 0.6038 - val_loss: 0.0060 - val_accuracy: 0.6051\n",
      "Epoch 120/300\n",
      "21/21 [==============================] - 3s 162ms/step - loss: 0.0055 - accuracy: 0.6253 - val_loss: 0.0060 - val_accuracy: 0.6131\n",
      "Epoch 121/300\n",
      "21/21 [==============================] - 3s 160ms/step - loss: 0.0055 - accuracy: 0.6241 - val_loss: 0.0060 - val_accuracy: 0.6149\n",
      "Epoch 122/300\n",
      "21/21 [==============================] - 4s 171ms/step - loss: 0.0055 - accuracy: 0.6306 - val_loss: 0.0060 - val_accuracy: 0.6106\n",
      "Epoch 123/300\n",
      "21/21 [==============================] - 3s 159ms/step - loss: 0.0055 - accuracy: 0.6262 - val_loss: 0.0060 - val_accuracy: 0.6237\n",
      "Epoch 124/300\n",
      "21/21 [==============================] - 4s 172ms/step - loss: 0.0055 - accuracy: 0.6275 - val_loss: 0.0060 - val_accuracy: 0.6062\n",
      "Epoch 125/300\n",
      "21/21 [==============================] - 3s 160ms/step - loss: 0.0055 - accuracy: 0.6271 - val_loss: 0.0060 - val_accuracy: 0.6142\n",
      "Epoch 126/300\n",
      "21/21 [==============================] - 3s 146ms/step - loss: 0.0055 - accuracy: 0.6311 - val_loss: 0.0060 - val_accuracy: 0.6295\n",
      "Epoch 127/300\n",
      "21/21 [==============================] - 3s 141ms/step - loss: 0.0055 - accuracy: 0.6408 - val_loss: 0.0060 - val_accuracy: 0.6240\n",
      "Epoch 128/300\n",
      "21/21 [==============================] - 3s 147ms/step - loss: 0.0054 - accuracy: 0.6258 - val_loss: 0.0060 - val_accuracy: 0.6077\n",
      "Epoch 129/300\n",
      "21/21 [==============================] - 3s 147ms/step - loss: 0.0054 - accuracy: 0.6282 - val_loss: 0.0060 - val_accuracy: 0.6200\n",
      "Epoch 130/300\n",
      "21/21 [==============================] - 3s 144ms/step - loss: 0.0054 - accuracy: 0.6333 - val_loss: 0.0060 - val_accuracy: 0.6153\n",
      "Epoch 131/300\n",
      "21/21 [==============================] - 3s 149ms/step - loss: 0.0054 - accuracy: 0.6289 - val_loss: 0.0060 - val_accuracy: 0.6091\n",
      "Epoch 132/300\n",
      "21/21 [==============================] - 3s 142ms/step - loss: 0.0054 - accuracy: 0.6310 - val_loss: 0.0060 - val_accuracy: 0.6189\n",
      "Epoch 133/300\n",
      "21/21 [==============================] - 3s 149ms/step - loss: 0.0054 - accuracy: 0.6290 - val_loss: 0.0060 - val_accuracy: 0.6109\n",
      "Epoch 134/300\n",
      "21/21 [==============================] - 3s 142ms/step - loss: 0.0054 - accuracy: 0.6348 - val_loss: 0.0060 - val_accuracy: 0.6171\n",
      "Epoch 135/300\n",
      "21/21 [==============================] - 3s 141ms/step - loss: 0.0054 - accuracy: 0.6319 - val_loss: 0.0060 - val_accuracy: 0.5909\n",
      "Epoch 136/300\n",
      "21/21 [==============================] - 3s 150ms/step - loss: 0.0054 - accuracy: 0.6337 - val_loss: 0.0060 - val_accuracy: 0.5909\n",
      "Epoch 137/300\n",
      "21/21 [==============================] - 3s 149ms/step - loss: 0.0055 - accuracy: 0.6212 - val_loss: 0.0060 - val_accuracy: 0.6062\n",
      "Epoch 138/300\n",
      "21/21 [==============================] - 3s 141ms/step - loss: 0.0054 - accuracy: 0.6201 - val_loss: 0.0060 - val_accuracy: 0.6128\n",
      "Epoch 139/300\n",
      "21/21 [==============================] - 3s 139ms/step - loss: 0.0054 - accuracy: 0.6310 - val_loss: 0.0060 - val_accuracy: 0.5949\n",
      "Epoch 140/300\n",
      "21/21 [==============================] - 3s 141ms/step - loss: 0.0054 - accuracy: 0.6319 - val_loss: 0.0060 - val_accuracy: 0.6182\n",
      "Epoch 141/300\n",
      "21/21 [==============================] - 3s 142ms/step - loss: 0.0054 - accuracy: 0.6363 - val_loss: 0.0060 - val_accuracy: 0.6211\n",
      "Epoch 142/300\n",
      "21/21 [==============================] - 3s 157ms/step - loss: 0.0054 - accuracy: 0.6266 - val_loss: 0.0060 - val_accuracy: 0.6211\n",
      "Epoch 143/300\n",
      "21/21 [==============================] - 3s 142ms/step - loss: 0.0054 - accuracy: 0.6306 - val_loss: 0.0060 - val_accuracy: 0.6346\n",
      "Epoch 144/300\n",
      "21/21 [==============================] - 3s 155ms/step - loss: 0.0054 - accuracy: 0.6430 - val_loss: 0.0060 - val_accuracy: 0.6255\n",
      "Epoch 145/300\n",
      "21/21 [==============================] - 3s 151ms/step - loss: 0.0054 - accuracy: 0.6429 - val_loss: 0.0060 - val_accuracy: 0.6138\n",
      "Epoch 146/300\n",
      "21/21 [==============================] - 3s 143ms/step - loss: 0.0054 - accuracy: 0.6350 - val_loss: 0.0060 - val_accuracy: 0.6233\n",
      "Epoch 147/300\n",
      "21/21 [==============================] - 3s 148ms/step - loss: 0.0054 - accuracy: 0.6358 - val_loss: 0.0060 - val_accuracy: 0.6448\n",
      "Epoch 148/300\n",
      "21/21 [==============================] - 3s 147ms/step - loss: 0.0054 - accuracy: 0.6426 - val_loss: 0.0060 - val_accuracy: 0.6131\n",
      "Epoch 149/300\n",
      "21/21 [==============================] - 3s 152ms/step - loss: 0.0054 - accuracy: 0.6376 - val_loss: 0.0060 - val_accuracy: 0.6182\n",
      "Epoch 150/300\n",
      "21/21 [==============================] - 3s 151ms/step - loss: 0.0054 - accuracy: 0.6414 - val_loss: 0.0060 - val_accuracy: 0.6200\n",
      "Epoch 151/300\n",
      "21/21 [==============================] - 3s 152ms/step - loss: 0.0054 - accuracy: 0.6362 - val_loss: 0.0060 - val_accuracy: 0.6299\n",
      "Epoch 152/300\n",
      "21/21 [==============================] - 3s 151ms/step - loss: 0.0054 - accuracy: 0.6372 - val_loss: 0.0060 - val_accuracy: 0.6204\n",
      "Epoch 153/300\n",
      "21/21 [==============================] - 3s 158ms/step - loss: 0.0054 - accuracy: 0.6315 - val_loss: 0.0060 - val_accuracy: 0.6215\n",
      "Epoch 154/300\n",
      "21/21 [==============================] - 3s 150ms/step - loss: 0.0054 - accuracy: 0.6337 - val_loss: 0.0060 - val_accuracy: 0.6149\n",
      "Epoch 155/300\n",
      "21/21 [==============================] - 3s 150ms/step - loss: 0.0054 - accuracy: 0.6433 - val_loss: 0.0060 - val_accuracy: 0.6281\n",
      "Epoch 156/300\n",
      "21/21 [==============================] - 3s 159ms/step - loss: 0.0054 - accuracy: 0.6449 - val_loss: 0.0060 - val_accuracy: 0.6051\n",
      "Epoch 157/300\n",
      "21/21 [==============================] - 3s 157ms/step - loss: 0.0054 - accuracy: 0.6396 - val_loss: 0.0060 - val_accuracy: 0.6230\n",
      "Epoch 158/300\n",
      "21/21 [==============================] - 3s 149ms/step - loss: 0.0054 - accuracy: 0.6353 - val_loss: 0.0060 - val_accuracy: 0.6324\n",
      "Epoch 159/300\n",
      "21/21 [==============================] - 3s 166ms/step - loss: 0.0054 - accuracy: 0.6418 - val_loss: 0.0060 - val_accuracy: 0.6131\n",
      "Epoch 160/300\n",
      "21/21 [==============================] - 3s 148ms/step - loss: 0.0054 - accuracy: 0.6445 - val_loss: 0.0060 - val_accuracy: 0.6299\n",
      "Epoch 161/300\n",
      "21/21 [==============================] - 3s 152ms/step - loss: 0.0054 - accuracy: 0.6455 - val_loss: 0.0060 - val_accuracy: 0.6146\n",
      "Epoch 162/300\n",
      "21/21 [==============================] - 3s 146ms/step - loss: 0.0054 - accuracy: 0.6378 - val_loss: 0.0060 - val_accuracy: 0.6230\n",
      "Epoch 163/300\n",
      "21/21 [==============================] - 3s 151ms/step - loss: 0.0054 - accuracy: 0.6335 - val_loss: 0.0060 - val_accuracy: 0.6117\n",
      "Epoch 164/300\n",
      "21/21 [==============================] - 3s 147ms/step - loss: 0.0054 - accuracy: 0.6320 - val_loss: 0.0060 - val_accuracy: 0.6240\n",
      "Epoch 165/300\n",
      "21/21 [==============================] - 3s 147ms/step - loss: 0.0054 - accuracy: 0.6412 - val_loss: 0.0060 - val_accuracy: 0.6281\n",
      "Epoch 166/300\n",
      "21/21 [==============================] - 3s 147ms/step - loss: 0.0054 - accuracy: 0.6370 - val_loss: 0.0060 - val_accuracy: 0.6066\n",
      "Epoch 167/300\n",
      "21/21 [==============================] - 3s 156ms/step - loss: 0.0054 - accuracy: 0.6307 - val_loss: 0.0060 - val_accuracy: 0.6175\n",
      "Epoch 168/300\n",
      "21/21 [==============================] - 3s 152ms/step - loss: 0.0054 - accuracy: 0.6386 - val_loss: 0.0060 - val_accuracy: 0.6328\n",
      "Epoch 169/300\n",
      "21/21 [==============================] - 3s 145ms/step - loss: 0.0054 - accuracy: 0.6429 - val_loss: 0.0060 - val_accuracy: 0.6179\n",
      "Epoch 170/300\n",
      "21/21 [==============================] - 3s 149ms/step - loss: 0.0054 - accuracy: 0.6374 - val_loss: 0.0060 - val_accuracy: 0.6077\n",
      "Epoch 171/300\n",
      "21/21 [==============================] - 3s 150ms/step - loss: 0.0054 - accuracy: 0.6446 - val_loss: 0.0060 - val_accuracy: 0.6164\n",
      "Epoch 172/300\n",
      "21/21 [==============================] - 3s 162ms/step - loss: 0.0054 - accuracy: 0.6312 - val_loss: 0.0060 - val_accuracy: 0.6015\n",
      "Epoch 173/300\n",
      "21/21 [==============================] - 4s 177ms/step - loss: 0.0054 - accuracy: 0.6396 - val_loss: 0.0060 - val_accuracy: 0.6313\n",
      "Epoch 174/300\n",
      "21/21 [==============================] - 4s 176ms/step - loss: 0.0054 - accuracy: 0.6377 - val_loss: 0.0060 - val_accuracy: 0.5971\n",
      "Epoch 175/300\n",
      "21/21 [==============================] - 3s 153ms/step - loss: 0.0054 - accuracy: 0.6344 - val_loss: 0.0060 - val_accuracy: 0.6128\n",
      "Epoch 176/300\n",
      "21/21 [==============================] - 3s 166ms/step - loss: 0.0054 - accuracy: 0.6403 - val_loss: 0.0060 - val_accuracy: 0.6179\n",
      "Epoch 177/300\n",
      "21/21 [==============================] - 3s 158ms/step - loss: 0.0054 - accuracy: 0.6382 - val_loss: 0.0060 - val_accuracy: 0.6106\n",
      "Restoring model weights from the end of the best epoch.\n",
      "Epoch 00177: early stopping\n"
     ]
    }
   ],
   "source": [
    "# training model\n",
    "history_lstm = lstm_model.fit(\n",
    "    x = Xtf_train, \n",
    "    y = ytf_train,\n",
    "    epochs = epo, \n",
    "    verbose = ver, \n",
    "    workers = 6,\n",
    "    batch_size = sample_size, \n",
    "    callbacks = [EarlyStopLSTM_Acc],\n",
    "    shuffle = False,\n",
    "    use_multiprocessing = True,\n",
    "    validation_data = (Xtf_test, ytf_test),\n",
    ")"
   ]
  },
  {
   "cell_type": "code",
   "execution_count": 35,
   "metadata": {},
   "outputs": [],
   "source": [
    "# saving model"
   ]
  },
  {
   "cell_type": "code",
   "execution_count": 36,
   "metadata": {},
   "outputs": [
    {
     "output_type": "stream",
     "name": "stdout",
     "text": [
      "183/183 [==============================] - 2s 7ms/step\n"
     ]
    }
   ],
   "source": [
    "# testing model\n",
    "lstm_results = lstm_model.predict(X_test, batch_size = bs, verbose = 1)#, batch_size = bs)"
   ]
  },
  {
   "cell_type": "code",
   "execution_count": 37,
   "metadata": {},
   "outputs": [
    {
     "output_type": "stream",
     "name": "stdout",
     "text": [
      "Model: \"sequential\"\n",
      "_________________________________________________________________\n",
      "Layer (type)                 Output Shape              Param #   \n",
      "=================================================================\n",
      "masking (Masking)            (None, 15, 276)           0         \n",
      "_________________________________________________________________\n",
      "lstm (LSTM)                  (None, 15, 300)           692400    \n",
      "_________________________________________________________________\n",
      "lstm_1 (LSTM)                (None, 15, 150)           270600    \n",
      "_________________________________________________________________\n",
      "lstm_2 (LSTM)                (None, 15, 75)            67800     \n",
      "_________________________________________________________________\n",
      "dropout (Dropout)            (None, 15, 75)            0         \n",
      "_________________________________________________________________\n",
      "dense (Dense)                (None, 15, 1024)          77824     \n",
      "_________________________________________________________________\n",
      "dropout_1 (Dropout)          (None, 15, 1024)          0         \n",
      "_________________________________________________________________\n",
      "lstm_3 (LSTM)                (None, 15, 75)            330000    \n",
      "_________________________________________________________________\n",
      "lstm_4 (LSTM)                (None, 15, 150)           135600    \n",
      "_________________________________________________________________\n",
      "lstm_5 (LSTM)                (None, 15, 300)           541200    \n",
      "_________________________________________________________________\n",
      "dropout_2 (Dropout)          (None, 15, 300)           0         \n",
      "_________________________________________________________________\n",
      "time_distributed (TimeDistri (None, 15, 276)           83076     \n",
      "=================================================================\n",
      "Total params: 2,198,500\n",
      "Trainable params: 2,198,500\n",
      "Non-trainable params: 0\n",
      "_________________________________________________________________\n"
     ]
    }
   ],
   "source": [
    "# just checking\n",
    "lstm_model.summary()"
   ]
  },
  {
   "cell_type": "code",
   "execution_count": 38,
   "metadata": {},
   "outputs": [
    {
     "output_type": "stream",
     "name": "stdout",
     "text": [
      "(183, 15, 276)\n"
     ]
    }
   ],
   "source": [
    "# cheking test shape\n",
    "print(lstm_results.shape)"
   ]
  },
  {
   "cell_type": "code",
   "execution_count": 39,
   "metadata": {},
   "outputs": [
    {
     "output_type": "stream",
     "name": "stderr",
     "text": [
      "<ipython-input-39-3ce915c3119e>:21: UserWarning: Matplotlib is currently using module://ipykernel.pylab.backend_inline, which is a non-GUI backend, so cannot show the figure.\n  fig.show()\n"
     ]
    },
    {
     "output_type": "display_data",
     "data": {
      "text/plain": "<Figure size 1152x576 with 2 Axes>",
      "image/svg+xml": "<?xml version=\"1.0\" encoding=\"utf-8\" standalone=\"no\"?>\r\n<!DOCTYPE svg PUBLIC \"-//W3C//DTD SVG 1.1//EN\"\r\n  \"http://www.w3.org/Graphics/SVG/1.1/DTD/svg11.dtd\">\r\n<svg height=\"543.75625pt\" version=\"1.1\" viewBox=\"0 0 1073.06875 543.75625\" width=\"1073.06875pt\" xmlns=\"http://www.w3.org/2000/svg\" xmlns:xlink=\"http://www.w3.org/1999/xlink\">\r\n <metadata>\r\n  <rdf:RDF xmlns:cc=\"http://creativecommons.org/ns#\" xmlns:dc=\"http://purl.org/dc/elements/1.1/\" xmlns:rdf=\"http://www.w3.org/1999/02/22-rdf-syntax-ns#\">\r\n   <cc:Work>\r\n    <dc:type rdf:resource=\"http://purl.org/dc/dcmitype/StillImage\"/>\r\n    <dc:date>2021-04-06T03:52:33.740508</dc:date>\r\n    <dc:format>image/svg+xml</dc:format>\r\n    <dc:creator>\r\n     <cc:Agent>\r\n      <dc:title>Matplotlib v3.4.1, https://matplotlib.org/</dc:title>\r\n     </cc:Agent>\r\n    </dc:creator>\r\n   </cc:Work>\r\n  </rdf:RDF>\r\n </metadata>\r\n <defs>\r\n  <style type=\"text/css\">*{stroke-linecap:butt;stroke-linejoin:round;}</style>\r\n </defs>\r\n <g id=\"figure_1\">\r\n  <g id=\"patch_1\">\r\n   <path d=\"M 0 543.75625 \r\nL 1073.06875 543.75625 \r\nL 1073.06875 0 \r\nL 0 0 \r\nz\r\n\" style=\"fill:none;\"/>\r\n  </g>\r\n  <g id=\"axes_1\">\r\n   <g id=\"patch_2\">\r\n    <path d=\"M 62.86875 506.2 \r\nL 468.686932 506.2 \r\nL 468.686932 71.32 \r\nL 62.86875 71.32 \r\nz\r\n\" style=\"fill:#ffffff;\"/>\r\n   </g>\r\n   <g id=\"matplotlib.axis_1\">\r\n    <g id=\"xtick_1\">\r\n     <g id=\"line2d_1\">\r\n      <path clip-path=\"url(#p90acd709f0)\" d=\"M 81.315031 506.2 \r\nL 81.315031 71.32 \r\n\" style=\"fill:none;stroke:#b0b0b0;stroke-linecap:square;stroke-width:0.8;\"/>\r\n     </g>\r\n     <g id=\"line2d_2\">\r\n      <defs>\r\n       <path d=\"M 0 0 \r\nL 0 3.5 \r\n\" id=\"mbb269b4dbe\" style=\"stroke:#000000;stroke-width:0.8;\"/>\r\n      </defs>\r\n      <g>\r\n       <use style=\"stroke:#000000;stroke-width:0.8;\" x=\"81.315031\" xlink:href=\"#mbb269b4dbe\" y=\"506.2\"/>\r\n      </g>\r\n     </g>\r\n     <g id=\"text_1\">\r\n      <!-- 0 -->\r\n      <g transform=\"translate(78.133781 520.798438)scale(0.1 -0.1)\">\r\n       <defs>\r\n        <path d=\"M 2034 4250 \r\nQ 1547 4250 1301 3770 \r\nQ 1056 3291 1056 2328 \r\nQ 1056 1369 1301 889 \r\nQ 1547 409 2034 409 \r\nQ 2525 409 2770 889 \r\nQ 3016 1369 3016 2328 \r\nQ 3016 3291 2770 3770 \r\nQ 2525 4250 2034 4250 \r\nz\r\nM 2034 4750 \r\nQ 2819 4750 3233 4129 \r\nQ 3647 3509 3647 2328 \r\nQ 3647 1150 3233 529 \r\nQ 2819 -91 2034 -91 \r\nQ 1250 -91 836 529 \r\nQ 422 1150 422 2328 \r\nQ 422 3509 836 4129 \r\nQ 1250 4750 2034 4750 \r\nz\r\n\" id=\"DejaVuSans-30\" transform=\"scale(0.015625)\"/>\r\n       </defs>\r\n       <use xlink:href=\"#DejaVuSans-30\"/>\r\n      </g>\r\n     </g>\r\n    </g>\r\n    <g id=\"xtick_2\">\r\n     <g id=\"line2d_3\">\r\n      <path clip-path=\"url(#p90acd709f0)\" d=\"M 133.719238 506.2 \r\nL 133.719238 71.32 \r\n\" style=\"fill:none;stroke:#b0b0b0;stroke-linecap:square;stroke-width:0.8;\"/>\r\n     </g>\r\n     <g id=\"line2d_4\">\r\n      <g>\r\n       <use style=\"stroke:#000000;stroke-width:0.8;\" x=\"133.719238\" xlink:href=\"#mbb269b4dbe\" y=\"506.2\"/>\r\n      </g>\r\n     </g>\r\n     <g id=\"text_2\">\r\n      <!-- 25 -->\r\n      <g transform=\"translate(127.356738 520.798438)scale(0.1 -0.1)\">\r\n       <defs>\r\n        <path d=\"M 1228 531 \r\nL 3431 531 \r\nL 3431 0 \r\nL 469 0 \r\nL 469 531 \r\nQ 828 903 1448 1529 \r\nQ 2069 2156 2228 2338 \r\nQ 2531 2678 2651 2914 \r\nQ 2772 3150 2772 3378 \r\nQ 2772 3750 2511 3984 \r\nQ 2250 4219 1831 4219 \r\nQ 1534 4219 1204 4116 \r\nQ 875 4013 500 3803 \r\nL 500 4441 \r\nQ 881 4594 1212 4672 \r\nQ 1544 4750 1819 4750 \r\nQ 2544 4750 2975 4387 \r\nQ 3406 4025 3406 3419 \r\nQ 3406 3131 3298 2873 \r\nQ 3191 2616 2906 2266 \r\nQ 2828 2175 2409 1742 \r\nQ 1991 1309 1228 531 \r\nz\r\n\" id=\"DejaVuSans-32\" transform=\"scale(0.015625)\"/>\r\n        <path d=\"M 691 4666 \r\nL 3169 4666 \r\nL 3169 4134 \r\nL 1269 4134 \r\nL 1269 2991 \r\nQ 1406 3038 1543 3061 \r\nQ 1681 3084 1819 3084 \r\nQ 2600 3084 3056 2656 \r\nQ 3513 2228 3513 1497 \r\nQ 3513 744 3044 326 \r\nQ 2575 -91 1722 -91 \r\nQ 1428 -91 1123 -41 \r\nQ 819 9 494 109 \r\nL 494 744 \r\nQ 775 591 1075 516 \r\nQ 1375 441 1709 441 \r\nQ 2250 441 2565 725 \r\nQ 2881 1009 2881 1497 \r\nQ 2881 1984 2565 2268 \r\nQ 2250 2553 1709 2553 \r\nQ 1456 2553 1204 2497 \r\nQ 953 2441 691 2322 \r\nL 691 4666 \r\nz\r\n\" id=\"DejaVuSans-35\" transform=\"scale(0.015625)\"/>\r\n       </defs>\r\n       <use xlink:href=\"#DejaVuSans-32\"/>\r\n       <use x=\"63.623047\" xlink:href=\"#DejaVuSans-35\"/>\r\n      </g>\r\n     </g>\r\n    </g>\r\n    <g id=\"xtick_3\">\r\n     <g id=\"line2d_5\">\r\n      <path clip-path=\"url(#p90acd709f0)\" d=\"M 186.123446 506.2 \r\nL 186.123446 71.32 \r\n\" style=\"fill:none;stroke:#b0b0b0;stroke-linecap:square;stroke-width:0.8;\"/>\r\n     </g>\r\n     <g id=\"line2d_6\">\r\n      <g>\r\n       <use style=\"stroke:#000000;stroke-width:0.8;\" x=\"186.123446\" xlink:href=\"#mbb269b4dbe\" y=\"506.2\"/>\r\n      </g>\r\n     </g>\r\n     <g id=\"text_3\">\r\n      <!-- 50 -->\r\n      <g transform=\"translate(179.760946 520.798438)scale(0.1 -0.1)\">\r\n       <use xlink:href=\"#DejaVuSans-35\"/>\r\n       <use x=\"63.623047\" xlink:href=\"#DejaVuSans-30\"/>\r\n      </g>\r\n     </g>\r\n    </g>\r\n    <g id=\"xtick_4\">\r\n     <g id=\"line2d_7\">\r\n      <path clip-path=\"url(#p90acd709f0)\" d=\"M 238.527653 506.2 \r\nL 238.527653 71.32 \r\n\" style=\"fill:none;stroke:#b0b0b0;stroke-linecap:square;stroke-width:0.8;\"/>\r\n     </g>\r\n     <g id=\"line2d_8\">\r\n      <g>\r\n       <use style=\"stroke:#000000;stroke-width:0.8;\" x=\"238.527653\" xlink:href=\"#mbb269b4dbe\" y=\"506.2\"/>\r\n      </g>\r\n     </g>\r\n     <g id=\"text_4\">\r\n      <!-- 75 -->\r\n      <g transform=\"translate(232.165153 520.798438)scale(0.1 -0.1)\">\r\n       <defs>\r\n        <path d=\"M 525 4666 \r\nL 3525 4666 \r\nL 3525 4397 \r\nL 1831 0 \r\nL 1172 0 \r\nL 2766 4134 \r\nL 525 4134 \r\nL 525 4666 \r\nz\r\n\" id=\"DejaVuSans-37\" transform=\"scale(0.015625)\"/>\r\n       </defs>\r\n       <use xlink:href=\"#DejaVuSans-37\"/>\r\n       <use x=\"63.623047\" xlink:href=\"#DejaVuSans-35\"/>\r\n      </g>\r\n     </g>\r\n    </g>\r\n    <g id=\"xtick_5\">\r\n     <g id=\"line2d_9\">\r\n      <path clip-path=\"url(#p90acd709f0)\" d=\"M 290.93186 506.2 \r\nL 290.93186 71.32 \r\n\" style=\"fill:none;stroke:#b0b0b0;stroke-linecap:square;stroke-width:0.8;\"/>\r\n     </g>\r\n     <g id=\"line2d_10\">\r\n      <g>\r\n       <use style=\"stroke:#000000;stroke-width:0.8;\" x=\"290.93186\" xlink:href=\"#mbb269b4dbe\" y=\"506.2\"/>\r\n      </g>\r\n     </g>\r\n     <g id=\"text_5\">\r\n      <!-- 100 -->\r\n      <g transform=\"translate(281.38811 520.798438)scale(0.1 -0.1)\">\r\n       <defs>\r\n        <path d=\"M 794 531 \r\nL 1825 531 \r\nL 1825 4091 \r\nL 703 3866 \r\nL 703 4441 \r\nL 1819 4666 \r\nL 2450 4666 \r\nL 2450 531 \r\nL 3481 531 \r\nL 3481 0 \r\nL 794 0 \r\nL 794 531 \r\nz\r\n\" id=\"DejaVuSans-31\" transform=\"scale(0.015625)\"/>\r\n       </defs>\r\n       <use xlink:href=\"#DejaVuSans-31\"/>\r\n       <use x=\"63.623047\" xlink:href=\"#DejaVuSans-30\"/>\r\n       <use x=\"127.246094\" xlink:href=\"#DejaVuSans-30\"/>\r\n      </g>\r\n     </g>\r\n    </g>\r\n    <g id=\"xtick_6\">\r\n     <g id=\"line2d_11\">\r\n      <path clip-path=\"url(#p90acd709f0)\" d=\"M 343.336068 506.2 \r\nL 343.336068 71.32 \r\n\" style=\"fill:none;stroke:#b0b0b0;stroke-linecap:square;stroke-width:0.8;\"/>\r\n     </g>\r\n     <g id=\"line2d_12\">\r\n      <g>\r\n       <use style=\"stroke:#000000;stroke-width:0.8;\" x=\"343.336068\" xlink:href=\"#mbb269b4dbe\" y=\"506.2\"/>\r\n      </g>\r\n     </g>\r\n     <g id=\"text_6\">\r\n      <!-- 125 -->\r\n      <g transform=\"translate(333.792318 520.798438)scale(0.1 -0.1)\">\r\n       <use xlink:href=\"#DejaVuSans-31\"/>\r\n       <use x=\"63.623047\" xlink:href=\"#DejaVuSans-32\"/>\r\n       <use x=\"127.246094\" xlink:href=\"#DejaVuSans-35\"/>\r\n      </g>\r\n     </g>\r\n    </g>\r\n    <g id=\"xtick_7\">\r\n     <g id=\"line2d_13\">\r\n      <path clip-path=\"url(#p90acd709f0)\" d=\"M 395.740275 506.2 \r\nL 395.740275 71.32 \r\n\" style=\"fill:none;stroke:#b0b0b0;stroke-linecap:square;stroke-width:0.8;\"/>\r\n     </g>\r\n     <g id=\"line2d_14\">\r\n      <g>\r\n       <use style=\"stroke:#000000;stroke-width:0.8;\" x=\"395.740275\" xlink:href=\"#mbb269b4dbe\" y=\"506.2\"/>\r\n      </g>\r\n     </g>\r\n     <g id=\"text_7\">\r\n      <!-- 150 -->\r\n      <g transform=\"translate(386.196525 520.798438)scale(0.1 -0.1)\">\r\n       <use xlink:href=\"#DejaVuSans-31\"/>\r\n       <use x=\"63.623047\" xlink:href=\"#DejaVuSans-35\"/>\r\n       <use x=\"127.246094\" xlink:href=\"#DejaVuSans-30\"/>\r\n      </g>\r\n     </g>\r\n    </g>\r\n    <g id=\"xtick_8\">\r\n     <g id=\"line2d_15\">\r\n      <path clip-path=\"url(#p90acd709f0)\" d=\"M 448.144483 506.2 \r\nL 448.144483 71.32 \r\n\" style=\"fill:none;stroke:#b0b0b0;stroke-linecap:square;stroke-width:0.8;\"/>\r\n     </g>\r\n     <g id=\"line2d_16\">\r\n      <g>\r\n       <use style=\"stroke:#000000;stroke-width:0.8;\" x=\"448.144483\" xlink:href=\"#mbb269b4dbe\" y=\"506.2\"/>\r\n      </g>\r\n     </g>\r\n     <g id=\"text_8\">\r\n      <!-- 175 -->\r\n      <g transform=\"translate(438.600733 520.798438)scale(0.1 -0.1)\">\r\n       <use xlink:href=\"#DejaVuSans-31\"/>\r\n       <use x=\"63.623047\" xlink:href=\"#DejaVuSans-37\"/>\r\n       <use x=\"127.246094\" xlink:href=\"#DejaVuSans-35\"/>\r\n      </g>\r\n     </g>\r\n    </g>\r\n    <g id=\"text_9\">\r\n     <!-- Epoch [cycle] -->\r\n     <g transform=\"translate(232.052841 534.476563)scale(0.1 -0.1)\">\r\n      <defs>\r\n       <path d=\"M 628 4666 \r\nL 3578 4666 \r\nL 3578 4134 \r\nL 1259 4134 \r\nL 1259 2753 \r\nL 3481 2753 \r\nL 3481 2222 \r\nL 1259 2222 \r\nL 1259 531 \r\nL 3634 531 \r\nL 3634 0 \r\nL 628 0 \r\nL 628 4666 \r\nz\r\n\" id=\"DejaVuSans-45\" transform=\"scale(0.015625)\"/>\r\n       <path d=\"M 1159 525 \r\nL 1159 -1331 \r\nL 581 -1331 \r\nL 581 3500 \r\nL 1159 3500 \r\nL 1159 2969 \r\nQ 1341 3281 1617 3432 \r\nQ 1894 3584 2278 3584 \r\nQ 2916 3584 3314 3078 \r\nQ 3713 2572 3713 1747 \r\nQ 3713 922 3314 415 \r\nQ 2916 -91 2278 -91 \r\nQ 1894 -91 1617 61 \r\nQ 1341 213 1159 525 \r\nz\r\nM 3116 1747 \r\nQ 3116 2381 2855 2742 \r\nQ 2594 3103 2138 3103 \r\nQ 1681 3103 1420 2742 \r\nQ 1159 2381 1159 1747 \r\nQ 1159 1113 1420 752 \r\nQ 1681 391 2138 391 \r\nQ 2594 391 2855 752 \r\nQ 3116 1113 3116 1747 \r\nz\r\n\" id=\"DejaVuSans-70\" transform=\"scale(0.015625)\"/>\r\n       <path d=\"M 1959 3097 \r\nQ 1497 3097 1228 2736 \r\nQ 959 2375 959 1747 \r\nQ 959 1119 1226 758 \r\nQ 1494 397 1959 397 \r\nQ 2419 397 2687 759 \r\nQ 2956 1122 2956 1747 \r\nQ 2956 2369 2687 2733 \r\nQ 2419 3097 1959 3097 \r\nz\r\nM 1959 3584 \r\nQ 2709 3584 3137 3096 \r\nQ 3566 2609 3566 1747 \r\nQ 3566 888 3137 398 \r\nQ 2709 -91 1959 -91 \r\nQ 1206 -91 779 398 \r\nQ 353 888 353 1747 \r\nQ 353 2609 779 3096 \r\nQ 1206 3584 1959 3584 \r\nz\r\n\" id=\"DejaVuSans-6f\" transform=\"scale(0.015625)\"/>\r\n       <path d=\"M 3122 3366 \r\nL 3122 2828 \r\nQ 2878 2963 2633 3030 \r\nQ 2388 3097 2138 3097 \r\nQ 1578 3097 1268 2742 \r\nQ 959 2388 959 1747 \r\nQ 959 1106 1268 751 \r\nQ 1578 397 2138 397 \r\nQ 2388 397 2633 464 \r\nQ 2878 531 3122 666 \r\nL 3122 134 \r\nQ 2881 22 2623 -34 \r\nQ 2366 -91 2075 -91 \r\nQ 1284 -91 818 406 \r\nQ 353 903 353 1747 \r\nQ 353 2603 823 3093 \r\nQ 1294 3584 2113 3584 \r\nQ 2378 3584 2631 3529 \r\nQ 2884 3475 3122 3366 \r\nz\r\n\" id=\"DejaVuSans-63\" transform=\"scale(0.015625)\"/>\r\n       <path d=\"M 3513 2113 \r\nL 3513 0 \r\nL 2938 0 \r\nL 2938 2094 \r\nQ 2938 2591 2744 2837 \r\nQ 2550 3084 2163 3084 \r\nQ 1697 3084 1428 2787 \r\nQ 1159 2491 1159 1978 \r\nL 1159 0 \r\nL 581 0 \r\nL 581 4863 \r\nL 1159 4863 \r\nL 1159 2956 \r\nQ 1366 3272 1645 3428 \r\nQ 1925 3584 2291 3584 \r\nQ 2894 3584 3203 3211 \r\nQ 3513 2838 3513 2113 \r\nz\r\n\" id=\"DejaVuSans-68\" transform=\"scale(0.015625)\"/>\r\n       <path id=\"DejaVuSans-20\" transform=\"scale(0.015625)\"/>\r\n       <path d=\"M 550 4863 \r\nL 1875 4863 \r\nL 1875 4416 \r\nL 1125 4416 \r\nL 1125 -397 \r\nL 1875 -397 \r\nL 1875 -844 \r\nL 550 -844 \r\nL 550 4863 \r\nz\r\n\" id=\"DejaVuSans-5b\" transform=\"scale(0.015625)\"/>\r\n       <path d=\"M 2059 -325 \r\nQ 1816 -950 1584 -1140 \r\nQ 1353 -1331 966 -1331 \r\nL 506 -1331 \r\nL 506 -850 \r\nL 844 -850 \r\nQ 1081 -850 1212 -737 \r\nQ 1344 -625 1503 -206 \r\nL 1606 56 \r\nL 191 3500 \r\nL 800 3500 \r\nL 1894 763 \r\nL 2988 3500 \r\nL 3597 3500 \r\nL 2059 -325 \r\nz\r\n\" id=\"DejaVuSans-79\" transform=\"scale(0.015625)\"/>\r\n       <path d=\"M 603 4863 \r\nL 1178 4863 \r\nL 1178 0 \r\nL 603 0 \r\nL 603 4863 \r\nz\r\n\" id=\"DejaVuSans-6c\" transform=\"scale(0.015625)\"/>\r\n       <path d=\"M 3597 1894 \r\nL 3597 1613 \r\nL 953 1613 \r\nQ 991 1019 1311 708 \r\nQ 1631 397 2203 397 \r\nQ 2534 397 2845 478 \r\nQ 3156 559 3463 722 \r\nL 3463 178 \r\nQ 3153 47 2828 -22 \r\nQ 2503 -91 2169 -91 \r\nQ 1331 -91 842 396 \r\nQ 353 884 353 1716 \r\nQ 353 2575 817 3079 \r\nQ 1281 3584 2069 3584 \r\nQ 2775 3584 3186 3129 \r\nQ 3597 2675 3597 1894 \r\nz\r\nM 3022 2063 \r\nQ 3016 2534 2758 2815 \r\nQ 2500 3097 2075 3097 \r\nQ 1594 3097 1305 2825 \r\nQ 1016 2553 972 2059 \r\nL 3022 2063 \r\nz\r\n\" id=\"DejaVuSans-65\" transform=\"scale(0.015625)\"/>\r\n       <path d=\"M 1947 4863 \r\nL 1947 -844 \r\nL 622 -844 \r\nL 622 -397 \r\nL 1369 -397 \r\nL 1369 4416 \r\nL 622 4416 \r\nL 622 4863 \r\nL 1947 4863 \r\nz\r\n\" id=\"DejaVuSans-5d\" transform=\"scale(0.015625)\"/>\r\n      </defs>\r\n      <use xlink:href=\"#DejaVuSans-45\"/>\r\n      <use x=\"63.183594\" xlink:href=\"#DejaVuSans-70\"/>\r\n      <use x=\"126.660156\" xlink:href=\"#DejaVuSans-6f\"/>\r\n      <use x=\"187.841797\" xlink:href=\"#DejaVuSans-63\"/>\r\n      <use x=\"242.822266\" xlink:href=\"#DejaVuSans-68\"/>\r\n      <use x=\"306.201172\" xlink:href=\"#DejaVuSans-20\"/>\r\n      <use x=\"337.988281\" xlink:href=\"#DejaVuSans-5b\"/>\r\n      <use x=\"377.001953\" xlink:href=\"#DejaVuSans-63\"/>\r\n      <use x=\"431.982422\" xlink:href=\"#DejaVuSans-79\"/>\r\n      <use x=\"491.162109\" xlink:href=\"#DejaVuSans-63\"/>\r\n      <use x=\"546.142578\" xlink:href=\"#DejaVuSans-6c\"/>\r\n      <use x=\"573.925781\" xlink:href=\"#DejaVuSans-65\"/>\r\n      <use x=\"635.449219\" xlink:href=\"#DejaVuSans-5d\"/>\r\n     </g>\r\n    </g>\r\n   </g>\r\n   <g id=\"matplotlib.axis_2\">\r\n    <g id=\"ytick_1\">\r\n     <g id=\"line2d_17\">\r\n      <path clip-path=\"url(#p90acd709f0)\" d=\"M 62.86875 458.798655 \r\nL 468.686932 458.798655 \r\n\" style=\"fill:none;stroke:#b0b0b0;stroke-linecap:square;stroke-width:0.8;\"/>\r\n     </g>\r\n     <g id=\"line2d_18\">\r\n      <defs>\r\n       <path d=\"M 0 0 \r\nL -3.5 0 \r\n\" id=\"ma2b7c9cfb0\" style=\"stroke:#000000;stroke-width:0.8;\"/>\r\n      </defs>\r\n      <g>\r\n       <use style=\"stroke:#000000;stroke-width:0.8;\" x=\"62.86875\" xlink:href=\"#ma2b7c9cfb0\" y=\"458.798655\"/>\r\n      </g>\r\n     </g>\r\n     <g id=\"text_10\">\r\n      <!-- 0.0055 -->\r\n      <g transform=\"translate(20.878125 462.597874)scale(0.1 -0.1)\">\r\n       <defs>\r\n        <path d=\"M 684 794 \r\nL 1344 794 \r\nL 1344 0 \r\nL 684 0 \r\nL 684 794 \r\nz\r\n\" id=\"DejaVuSans-2e\" transform=\"scale(0.015625)\"/>\r\n       </defs>\r\n       <use xlink:href=\"#DejaVuSans-30\"/>\r\n       <use x=\"63.623047\" xlink:href=\"#DejaVuSans-2e\"/>\r\n       <use x=\"95.410156\" xlink:href=\"#DejaVuSans-30\"/>\r\n       <use x=\"159.033203\" xlink:href=\"#DejaVuSans-30\"/>\r\n       <use x=\"222.65625\" xlink:href=\"#DejaVuSans-35\"/>\r\n       <use x=\"286.279297\" xlink:href=\"#DejaVuSans-35\"/>\r\n      </g>\r\n     </g>\r\n    </g>\r\n    <g id=\"ytick_2\">\r\n     <g id=\"line2d_19\">\r\n      <path clip-path=\"url(#p90acd709f0)\" d=\"M 62.86875 376.679311 \r\nL 468.686932 376.679311 \r\n\" style=\"fill:none;stroke:#b0b0b0;stroke-linecap:square;stroke-width:0.8;\"/>\r\n     </g>\r\n     <g id=\"line2d_20\">\r\n      <g>\r\n       <use style=\"stroke:#000000;stroke-width:0.8;\" x=\"62.86875\" xlink:href=\"#ma2b7c9cfb0\" y=\"376.679311\"/>\r\n      </g>\r\n     </g>\r\n     <g id=\"text_11\">\r\n      <!-- 0.0060 -->\r\n      <g transform=\"translate(20.878125 380.47853)scale(0.1 -0.1)\">\r\n       <defs>\r\n        <path d=\"M 2113 2584 \r\nQ 1688 2584 1439 2293 \r\nQ 1191 2003 1191 1497 \r\nQ 1191 994 1439 701 \r\nQ 1688 409 2113 409 \r\nQ 2538 409 2786 701 \r\nQ 3034 994 3034 1497 \r\nQ 3034 2003 2786 2293 \r\nQ 2538 2584 2113 2584 \r\nz\r\nM 3366 4563 \r\nL 3366 3988 \r\nQ 3128 4100 2886 4159 \r\nQ 2644 4219 2406 4219 \r\nQ 1781 4219 1451 3797 \r\nQ 1122 3375 1075 2522 \r\nQ 1259 2794 1537 2939 \r\nQ 1816 3084 2150 3084 \r\nQ 2853 3084 3261 2657 \r\nQ 3669 2231 3669 1497 \r\nQ 3669 778 3244 343 \r\nQ 2819 -91 2113 -91 \r\nQ 1303 -91 875 529 \r\nQ 447 1150 447 2328 \r\nQ 447 3434 972 4092 \r\nQ 1497 4750 2381 4750 \r\nQ 2619 4750 2861 4703 \r\nQ 3103 4656 3366 4563 \r\nz\r\n\" id=\"DejaVuSans-36\" transform=\"scale(0.015625)\"/>\r\n       </defs>\r\n       <use xlink:href=\"#DejaVuSans-30\"/>\r\n       <use x=\"63.623047\" xlink:href=\"#DejaVuSans-2e\"/>\r\n       <use x=\"95.410156\" xlink:href=\"#DejaVuSans-30\"/>\r\n       <use x=\"159.033203\" xlink:href=\"#DejaVuSans-30\"/>\r\n       <use x=\"222.65625\" xlink:href=\"#DejaVuSans-36\"/>\r\n       <use x=\"286.279297\" xlink:href=\"#DejaVuSans-30\"/>\r\n      </g>\r\n     </g>\r\n    </g>\r\n    <g id=\"ytick_3\">\r\n     <g id=\"line2d_21\">\r\n      <path clip-path=\"url(#p90acd709f0)\" d=\"M 62.86875 294.559967 \r\nL 468.686932 294.559967 \r\n\" style=\"fill:none;stroke:#b0b0b0;stroke-linecap:square;stroke-width:0.8;\"/>\r\n     </g>\r\n     <g id=\"line2d_22\">\r\n      <g>\r\n       <use style=\"stroke:#000000;stroke-width:0.8;\" x=\"62.86875\" xlink:href=\"#ma2b7c9cfb0\" y=\"294.559967\"/>\r\n      </g>\r\n     </g>\r\n     <g id=\"text_12\">\r\n      <!-- 0.0065 -->\r\n      <g transform=\"translate(20.878125 298.359186)scale(0.1 -0.1)\">\r\n       <use xlink:href=\"#DejaVuSans-30\"/>\r\n       <use x=\"63.623047\" xlink:href=\"#DejaVuSans-2e\"/>\r\n       <use x=\"95.410156\" xlink:href=\"#DejaVuSans-30\"/>\r\n       <use x=\"159.033203\" xlink:href=\"#DejaVuSans-30\"/>\r\n       <use x=\"222.65625\" xlink:href=\"#DejaVuSans-36\"/>\r\n       <use x=\"286.279297\" xlink:href=\"#DejaVuSans-35\"/>\r\n      </g>\r\n     </g>\r\n    </g>\r\n    <g id=\"ytick_4\">\r\n     <g id=\"line2d_23\">\r\n      <path clip-path=\"url(#p90acd709f0)\" d=\"M 62.86875 212.440623 \r\nL 468.686932 212.440623 \r\n\" style=\"fill:none;stroke:#b0b0b0;stroke-linecap:square;stroke-width:0.8;\"/>\r\n     </g>\r\n     <g id=\"line2d_24\">\r\n      <g>\r\n       <use style=\"stroke:#000000;stroke-width:0.8;\" x=\"62.86875\" xlink:href=\"#ma2b7c9cfb0\" y=\"212.440623\"/>\r\n      </g>\r\n     </g>\r\n     <g id=\"text_13\">\r\n      <!-- 0.0070 -->\r\n      <g transform=\"translate(20.878125 216.239842)scale(0.1 -0.1)\">\r\n       <use xlink:href=\"#DejaVuSans-30\"/>\r\n       <use x=\"63.623047\" xlink:href=\"#DejaVuSans-2e\"/>\r\n       <use x=\"95.410156\" xlink:href=\"#DejaVuSans-30\"/>\r\n       <use x=\"159.033203\" xlink:href=\"#DejaVuSans-30\"/>\r\n       <use x=\"222.65625\" xlink:href=\"#DejaVuSans-37\"/>\r\n       <use x=\"286.279297\" xlink:href=\"#DejaVuSans-30\"/>\r\n      </g>\r\n     </g>\r\n    </g>\r\n    <g id=\"ytick_5\">\r\n     <g id=\"line2d_25\">\r\n      <path clip-path=\"url(#p90acd709f0)\" d=\"M 62.86875 130.321279 \r\nL 468.686932 130.321279 \r\n\" style=\"fill:none;stroke:#b0b0b0;stroke-linecap:square;stroke-width:0.8;\"/>\r\n     </g>\r\n     <g id=\"line2d_26\">\r\n      <g>\r\n       <use style=\"stroke:#000000;stroke-width:0.8;\" x=\"62.86875\" xlink:href=\"#ma2b7c9cfb0\" y=\"130.321279\"/>\r\n      </g>\r\n     </g>\r\n     <g id=\"text_14\">\r\n      <!-- 0.0075 -->\r\n      <g transform=\"translate(20.878125 134.120498)scale(0.1 -0.1)\">\r\n       <use xlink:href=\"#DejaVuSans-30\"/>\r\n       <use x=\"63.623047\" xlink:href=\"#DejaVuSans-2e\"/>\r\n       <use x=\"95.410156\" xlink:href=\"#DejaVuSans-30\"/>\r\n       <use x=\"159.033203\" xlink:href=\"#DejaVuSans-30\"/>\r\n       <use x=\"222.65625\" xlink:href=\"#DejaVuSans-37\"/>\r\n       <use x=\"286.279297\" xlink:href=\"#DejaVuSans-35\"/>\r\n      </g>\r\n     </g>\r\n    </g>\r\n    <g id=\"text_15\">\r\n     <!-- loss [%] -->\r\n     <g transform=\"translate(14.798438 308.659219)rotate(-90)scale(0.1 -0.1)\">\r\n      <defs>\r\n       <path d=\"M 2834 3397 \r\nL 2834 2853 \r\nQ 2591 2978 2328 3040 \r\nQ 2066 3103 1784 3103 \r\nQ 1356 3103 1142 2972 \r\nQ 928 2841 928 2578 \r\nQ 928 2378 1081 2264 \r\nQ 1234 2150 1697 2047 \r\nL 1894 2003 \r\nQ 2506 1872 2764 1633 \r\nQ 3022 1394 3022 966 \r\nQ 3022 478 2636 193 \r\nQ 2250 -91 1575 -91 \r\nQ 1294 -91 989 -36 \r\nQ 684 19 347 128 \r\nL 347 722 \r\nQ 666 556 975 473 \r\nQ 1284 391 1588 391 \r\nQ 1994 391 2212 530 \r\nQ 2431 669 2431 922 \r\nQ 2431 1156 2273 1281 \r\nQ 2116 1406 1581 1522 \r\nL 1381 1569 \r\nQ 847 1681 609 1914 \r\nQ 372 2147 372 2553 \r\nQ 372 3047 722 3315 \r\nQ 1072 3584 1716 3584 \r\nQ 2034 3584 2315 3537 \r\nQ 2597 3491 2834 3397 \r\nz\r\n\" id=\"DejaVuSans-73\" transform=\"scale(0.015625)\"/>\r\n       <path d=\"M 4653 2053 \r\nQ 4381 2053 4226 1822 \r\nQ 4072 1591 4072 1178 \r\nQ 4072 772 4226 539 \r\nQ 4381 306 4653 306 \r\nQ 4919 306 5073 539 \r\nQ 5228 772 5228 1178 \r\nQ 5228 1588 5073 1820 \r\nQ 4919 2053 4653 2053 \r\nz\r\nM 4653 2450 \r\nQ 5147 2450 5437 2106 \r\nQ 5728 1763 5728 1178 \r\nQ 5728 594 5436 251 \r\nQ 5144 -91 4653 -91 \r\nQ 4153 -91 3862 251 \r\nQ 3572 594 3572 1178 \r\nQ 3572 1766 3864 2108 \r\nQ 4156 2450 4653 2450 \r\nz\r\nM 1428 4353 \r\nQ 1159 4353 1004 4120 \r\nQ 850 3888 850 3481 \r\nQ 850 3069 1003 2837 \r\nQ 1156 2606 1428 2606 \r\nQ 1700 2606 1854 2837 \r\nQ 2009 3069 2009 3481 \r\nQ 2009 3884 1853 4118 \r\nQ 1697 4353 1428 4353 \r\nz\r\nM 4250 4750 \r\nL 4750 4750 \r\nL 1831 -91 \r\nL 1331 -91 \r\nL 4250 4750 \r\nz\r\nM 1428 4750 \r\nQ 1922 4750 2215 4408 \r\nQ 2509 4066 2509 3481 \r\nQ 2509 2891 2217 2550 \r\nQ 1925 2209 1428 2209 \r\nQ 931 2209 642 2551 \r\nQ 353 2894 353 3481 \r\nQ 353 4063 643 4406 \r\nQ 934 4750 1428 4750 \r\nz\r\n\" id=\"DejaVuSans-25\" transform=\"scale(0.015625)\"/>\r\n      </defs>\r\n      <use xlink:href=\"#DejaVuSans-6c\"/>\r\n      <use x=\"27.783203\" xlink:href=\"#DejaVuSans-6f\"/>\r\n      <use x=\"88.964844\" xlink:href=\"#DejaVuSans-73\"/>\r\n      <use x=\"141.064453\" xlink:href=\"#DejaVuSans-73\"/>\r\n      <use x=\"193.164062\" xlink:href=\"#DejaVuSans-20\"/>\r\n      <use x=\"224.951172\" xlink:href=\"#DejaVuSans-5b\"/>\r\n      <use x=\"263.964844\" xlink:href=\"#DejaVuSans-25\"/>\r\n      <use x=\"358.984375\" xlink:href=\"#DejaVuSans-5d\"/>\r\n     </g>\r\n    </g>\r\n   </g>\r\n   <g id=\"line2d_27\">\r\n    <path clip-path=\"url(#p90acd709f0)\" d=\"M 81.315031 174.903483 \r\nL 83.411199 175.794394 \r\nL 85.507368 177.193741 \r\nL 87.603536 184.163403 \r\nL 89.699704 252.847895 \r\nL 91.795872 303.302328 \r\nL 93.892041 328.923682 \r\nL 95.988209 343.314619 \r\nL 98.084377 352.671974 \r\nL 100.180546 370.875572 \r\nL 102.276714 380.884151 \r\nL 104.372882 384.0966 \r\nL 106.469051 386.097689 \r\nL 110.661387 387.152036 \r\nL 114.853724 388.763385 \r\nL 119.04606 389.846183 \r\nL 123.238397 391.29073 \r\nL 125.334565 392.461632 \r\nL 127.430733 395.04802 \r\nL 129.526902 398.951768 \r\nL 131.62307 400.854962 \r\nL 133.719238 405.969459 \r\nL 135.815407 408.315241 \r\nL 137.911575 412.62089 \r\nL 140.007743 414.958718 \r\nL 142.103912 416.506665 \r\nL 144.20008 419.269261 \r\nL 146.296248 421.139111 \r\nL 148.392416 423.359773 \r\nL 150.488585 424.754149 \r\nL 152.584753 426.452531 \r\nL 154.680921 427.764309 \r\nL 156.77709 429.530147 \r\nL 158.873258 430.61631 \r\nL 163.065594 433.187095 \r\nL 165.161763 434.615658 \r\nL 167.257931 435.896462 \r\nL 169.354099 436.809398 \r\nL 171.450268 438.416388 \r\nL 173.546436 440.182531 \r\nL 175.642604 441.146327 \r\nL 177.738773 440.957575 \r\nL 179.834941 440.279737 \r\nL 181.931109 440.920177 \r\nL 184.027277 444.203217 \r\nL 186.123446 446.33738 \r\nL 188.219614 446.736986 \r\nL 190.315782 447.468284 \r\nL 192.411951 449.24957 \r\nL 194.508119 449.81659 \r\nL 196.604287 448.861283 \r\nL 198.700455 449.861636 \r\nL 200.796624 450.609683 \r\nL 202.892792 450.41749 \r\nL 204.98896 453.23018 \r\nL 207.085129 454.529033 \r\nL 209.181297 454.163002 \r\nL 211.277465 454.115967 \r\nL 213.373634 454.760308 \r\nL 215.469802 457.864079 \r\nL 217.56597 458.386741 \r\nL 219.662138 459.915032 \r\nL 221.758307 459.862032 \r\nL 223.854475 460.630193 \r\nL 225.950643 461.16035 \r\nL 228.046812 462.280699 \r\nL 230.14298 462.490406 \r\nL 232.239148 463.759432 \r\nL 234.335316 464.382741 \r\nL 236.431485 465.292084 \r\nL 238.527653 465.361145 \r\nL 240.623821 465.752185 \r\nL 242.71999 465.113427 \r\nL 244.816158 465.655438 \r\nL 246.912326 466.974711 \r\nL 251.104663 468.583919 \r\nL 253.200831 468.696191 \r\nL 255.296999 469.438196 \r\nL 259.489336 470.495603 \r\nL 261.585504 470.527418 \r\nL 263.681673 471.461463 \r\nL 267.874009 472.942032 \r\nL 269.970177 473.180954 \r\nL 274.162514 472.934231 \r\nL 276.258682 473.403816 \r\nL 278.354851 473.084513 \r\nL 280.451019 474.111023 \r\nL 282.547187 474.552157 \r\nL 284.643356 474.52906 \r\nL 286.739524 474.890579 \r\nL 290.93186 476.320059 \r\nL 293.028029 476.749722 \r\nL 295.124197 476.705287 \r\nL 297.220365 476.811517 \r\nL 299.316534 476.686856 \r\nL 301.412702 477.488668 \r\nL 303.50887 477.469165 \r\nL 305.605039 478.144174 \r\nL 307.701207 477.888579 \r\nL 309.797375 478.011788 \r\nL 311.893543 478.278243 \r\nL 313.989712 478.185397 \r\nL 316.08588 478.564047 \r\nL 318.182048 478.469748 \r\nL 320.278217 476.127866 \r\nL 322.374385 477.575472 \r\nL 324.470553 475.122542 \r\nL 326.566721 476.494815 \r\nL 328.66289 477.63069 \r\nL 330.759058 479.72822 \r\nL 334.951395 481.086956 \r\nL 337.047563 481.445416 \r\nL 339.143731 481.465989 \r\nL 341.2399 481.802652 \r\nL 343.336068 481.937715 \r\nL 345.432236 482.27499 \r\nL 347.528404 482.343669 \r\nL 351.720741 482.803694 \r\nL 353.816909 482.73165 \r\nL 355.913078 483.140969 \r\nL 358.009246 482.697693 \r\nL 360.105414 482.866713 \r\nL 362.201582 483.333468 \r\nL 364.297751 482.677273 \r\nL 366.393919 482.156065 \r\nL 370.586256 482.567831 \r\nL 372.682424 482.777614 \r\nL 374.778592 483.550976 \r\nL 381.067097 484.373896 \r\nL 383.163265 484.449764 \r\nL 385.259434 484.252829 \r\nL 387.355602 484.3082 \r\nL 389.45177 484.522955 \r\nL 393.644107 485.180297 \r\nL 395.740275 485.453482 \r\nL 397.836443 485.326679 \r\nL 399.932612 485.580209 \r\nL 402.02878 485.327215 \r\nL 404.124948 485.418837 \r\nL 406.221117 485.827774 \r\nL 408.317285 485.543805 \r\nL 410.413453 485.668314 \r\nL 414.60579 486.271585 \r\nL 416.701958 486.046276 \r\nL 418.798126 486.271661 \r\nL 420.894295 485.651718 \r\nL 425.086631 486.22432 \r\nL 427.1828 485.360483 \r\nL 429.278968 485.741581 \r\nL 431.375136 485.68208 \r\nL 433.471304 485.406218 \r\nL 435.567473 485.949988 \r\nL 439.759809 486.019049 \r\nL 441.855978 485.899129 \r\nL 446.048314 485.949376 \r\nL 448.144483 486.417202 \r\nL 450.240651 486.432727 \r\nL 450.240651 486.432727 \r\n\" style=\"fill:none;stroke:#ff0000;stroke-linecap:square;stroke-width:1.5;\"/>\r\n   </g>\r\n   <g id=\"line2d_28\">\r\n    <path clip-path=\"url(#p90acd709f0)\" d=\"M 81.315031 91.087273 \r\nL 83.411199 92.244791 \r\nL 85.507368 94.42186 \r\nL 87.603536 148.664633 \r\nL 89.699704 198.938191 \r\nL 91.795872 227.227 \r\nL 93.892041 244.103142 \r\nL 95.988209 253.077028 \r\nL 100.180546 277.745141 \r\nL 102.276714 282.158931 \r\nL 106.469051 284.156196 \r\nL 108.565219 284.345024 \r\nL 110.661387 284.816521 \r\nL 121.142229 288.148431 \r\nL 123.238397 289.741577 \r\nL 125.334565 291.049149 \r\nL 127.430733 296.835596 \r\nL 129.526902 297.901645 \r\nL 131.62307 302.618294 \r\nL 133.719238 305.771778 \r\nL 135.815407 307.981579 \r\nL 137.911575 312.897994 \r\nL 140.007743 312.274609 \r\nL 142.103912 316.839676 \r\nL 144.20008 319.751637 \r\nL 146.296248 319.798748 \r\nL 148.392416 323.46365 \r\nL 150.488585 324.237547 \r\nL 152.584753 326.152979 \r\nL 158.873258 330.376182 \r\nL 160.969426 331.09249 \r\nL 163.065594 332.306833 \r\nL 165.161763 332.591032 \r\nL 167.257931 335.538249 \r\nL 169.354099 335.84065 \r\nL 171.450268 337.468442 \r\nL 173.546436 339.811929 \r\nL 175.642604 339.497598 \r\nL 177.738773 341.409741 \r\nL 179.834941 336.53539 \r\nL 181.931109 340.976025 \r\nL 184.027277 343.339398 \r\nL 188.219614 344.666548 \r\nL 190.315782 346.993899 \r\nL 192.411951 348.296806 \r\nL 194.508119 346.750694 \r\nL 196.604287 349.331039 \r\nL 198.700455 349.256701 \r\nL 200.796624 342.522825 \r\nL 202.892792 350.415673 \r\nL 204.98896 350.153424 \r\nL 207.085129 348.095741 \r\nL 209.181297 348.636451 \r\nL 213.373634 356.034858 \r\nL 215.469802 355.945989 \r\nL 217.56597 358.0361 \r\nL 219.662138 357.668922 \r\nL 221.758307 358.149902 \r\nL 223.854475 357.759779 \r\nL 225.950643 358.672257 \r\nL 228.046812 360.151449 \r\nL 230.14298 361.075629 \r\nL 232.239148 361.438524 \r\nL 234.335316 362.175252 \r\nL 236.431485 361.92287 \r\nL 238.527653 361.803332 \r\nL 242.71999 356.796289 \r\nL 244.816158 363.725035 \r\nL 246.912326 365.042396 \r\nL 249.008495 363.986519 \r\nL 251.104663 365.455692 \r\nL 253.200831 366.679824 \r\nL 255.296999 365.092337 \r\nL 257.393168 363.907133 \r\nL 259.489336 367.500756 \r\nL 261.585504 367.8222 \r\nL 263.681673 367.185813 \r\nL 265.777841 368.255228 \r\nL 267.874009 368.642214 \r\nL 269.970177 368.897809 \r\nL 272.066346 366.835843 \r\nL 274.162514 368.866988 \r\nL 276.258682 370.236126 \r\nL 278.354851 369.630025 \r\nL 280.451019 367.474065 \r\nL 282.547187 371.652298 \r\nL 284.643356 367.012893 \r\nL 286.739524 370.908152 \r\nL 288.835692 370.015406 \r\nL 293.028029 371.725183 \r\nL 295.124197 368.989049 \r\nL 297.220365 371.835696 \r\nL 299.316534 369.940456 \r\nL 301.412702 372.325089 \r\nL 303.50887 371.62966 \r\nL 305.605039 372.122724 \r\nL 307.701207 370.931784 \r\nL 309.797375 372.291821 \r\nL 311.893543 370.954116 \r\nL 313.989712 372.452581 \r\nL 316.08588 369.287167 \r\nL 318.182048 364.337331 \r\nL 320.278217 372.773336 \r\nL 322.374385 364.575182 \r\nL 324.470553 372.081349 \r\nL 326.566721 371.140726 \r\nL 328.66289 373.45477 \r\nL 330.759058 374.670489 \r\nL 334.951395 374.808917 \r\nL 337.047563 374.212682 \r\nL 339.143731 373.428996 \r\nL 341.2399 374.809759 \r\nL 343.336068 373.849404 \r\nL 345.432236 374.520054 \r\nL 347.528404 374.853199 \r\nL 349.624573 375.840398 \r\nL 351.720741 375.043098 \r\nL 353.816909 374.379102 \r\nL 355.913078 374.553628 \r\nL 358.009246 372.43132 \r\nL 360.105414 374.007641 \r\nL 362.201582 375.399875 \r\nL 364.297751 373.618971 \r\nL 366.393919 374.273331 \r\nL 368.490087 372.681331 \r\nL 370.586256 370.168824 \r\nL 372.682424 375.384044 \r\nL 374.778592 376.348605 \r\nL 376.874761 374.814041 \r\nL 378.970929 373.789444 \r\nL 381.067097 375.94051 \r\nL 383.163265 374.430573 \r\nL 387.355602 375.175102 \r\nL 389.45177 375.499834 \r\nL 391.547939 376.142263 \r\nL 395.740275 375.877108 \r\nL 397.836443 372.785038 \r\nL 399.932612 375.456317 \r\nL 402.02878 375.856229 \r\nL 404.124948 374.981073 \r\nL 406.221117 372.866412 \r\nL 408.317285 375.000958 \r\nL 410.413453 374.037774 \r\nL 412.509622 374.44388 \r\nL 414.60579 376.014312 \r\nL 416.701958 376.212242 \r\nL 418.798126 377.041127 \r\nL 420.894295 376.082915 \r\nL 422.990463 377.988786 \r\nL 425.086631 376.807406 \r\nL 427.1828 370.814923 \r\nL 429.278968 373.26923 \r\nL 431.375136 375.903799 \r\nL 433.471304 375.910147 \r\nL 435.567473 375.588627 \r\nL 437.663641 370.990291 \r\nL 439.759809 368.637702 \r\nL 441.855978 374.861153 \r\nL 443.952146 375.792751 \r\nL 448.144483 374.399063 \r\nL 450.240651 375.255711 \r\nL 450.240651 375.255711 \r\n\" style=\"fill:none;stroke:#ff8c00;stroke-linecap:square;stroke-width:1.5;\"/>\r\n   </g>\r\n   <g id=\"patch_3\">\r\n    <path d=\"M 62.86875 506.2 \r\nL 62.86875 71.32 \r\n\" style=\"fill:none;stroke:#000000;stroke-linecap:square;stroke-linejoin:miter;stroke-width:0.8;\"/>\r\n   </g>\r\n   <g id=\"patch_4\">\r\n    <path d=\"M 468.686932 506.2 \r\nL 468.686932 71.32 \r\n\" style=\"fill:none;stroke:#000000;stroke-linecap:square;stroke-linejoin:miter;stroke-width:0.8;\"/>\r\n   </g>\r\n   <g id=\"patch_5\">\r\n    <path d=\"M 62.86875 506.2 \r\nL 468.686932 506.2 \r\n\" style=\"fill:none;stroke:#000000;stroke-linecap:square;stroke-linejoin:miter;stroke-width:0.8;\"/>\r\n   </g>\r\n   <g id=\"patch_6\">\r\n    <path d=\"M 62.86875 71.32 \r\nL 468.686932 71.32 \r\n\" style=\"fill:none;stroke:#000000;stroke-linecap:square;stroke-linejoin:miter;stroke-width:0.8;\"/>\r\n   </g>\r\n   <g id=\"text_16\">\r\n    <!-- Loss -->\r\n    <g transform=\"translate(252.617216 65.32)scale(0.12 -0.12)\">\r\n     <defs>\r\n      <path d=\"M 628 4666 \r\nL 1259 4666 \r\nL 1259 531 \r\nL 3531 531 \r\nL 3531 0 \r\nL 628 0 \r\nL 628 4666 \r\nz\r\n\" id=\"DejaVuSans-4c\" transform=\"scale(0.015625)\"/>\r\n     </defs>\r\n     <use xlink:href=\"#DejaVuSans-4c\"/>\r\n     <use x=\"53.962891\" xlink:href=\"#DejaVuSans-6f\"/>\r\n     <use x=\"115.144531\" xlink:href=\"#DejaVuSans-73\"/>\r\n     <use x=\"167.244141\" xlink:href=\"#DejaVuSans-73\"/>\r\n    </g>\r\n   </g>\r\n  </g>\r\n  <g id=\"axes_2\">\r\n   <g id=\"patch_7\">\r\n    <path d=\"M 549.850568 506.2 \r\nL 955.66875 506.2 \r\nL 955.66875 71.32 \r\nL 549.850568 71.32 \r\nz\r\n\" style=\"fill:#ffffff;\"/>\r\n   </g>\r\n   <g id=\"matplotlib.axis_3\">\r\n    <g id=\"xtick_9\">\r\n     <g id=\"line2d_29\">\r\n      <path clip-path=\"url(#p5c261d7f08)\" d=\"M 568.296849 506.2 \r\nL 568.296849 71.32 \r\n\" style=\"fill:none;stroke:#b0b0b0;stroke-linecap:square;stroke-width:0.8;\"/>\r\n     </g>\r\n     <g id=\"line2d_30\">\r\n      <g>\r\n       <use style=\"stroke:#000000;stroke-width:0.8;\" x=\"568.296849\" xlink:href=\"#mbb269b4dbe\" y=\"506.2\"/>\r\n      </g>\r\n     </g>\r\n     <g id=\"text_17\">\r\n      <!-- 0 -->\r\n      <g transform=\"translate(565.115599 520.798438)scale(0.1 -0.1)\">\r\n       <use xlink:href=\"#DejaVuSans-30\"/>\r\n      </g>\r\n     </g>\r\n    </g>\r\n    <g id=\"xtick_10\">\r\n     <g id=\"line2d_31\">\r\n      <path clip-path=\"url(#p5c261d7f08)\" d=\"M 620.701057 506.2 \r\nL 620.701057 71.32 \r\n\" style=\"fill:none;stroke:#b0b0b0;stroke-linecap:square;stroke-width:0.8;\"/>\r\n     </g>\r\n     <g id=\"line2d_32\">\r\n      <g>\r\n       <use style=\"stroke:#000000;stroke-width:0.8;\" x=\"620.701057\" xlink:href=\"#mbb269b4dbe\" y=\"506.2\"/>\r\n      </g>\r\n     </g>\r\n     <g id=\"text_18\">\r\n      <!-- 25 -->\r\n      <g transform=\"translate(614.338557 520.798438)scale(0.1 -0.1)\">\r\n       <use xlink:href=\"#DejaVuSans-32\"/>\r\n       <use x=\"63.623047\" xlink:href=\"#DejaVuSans-35\"/>\r\n      </g>\r\n     </g>\r\n    </g>\r\n    <g id=\"xtick_11\">\r\n     <g id=\"line2d_33\">\r\n      <path clip-path=\"url(#p5c261d7f08)\" d=\"M 673.105264 506.2 \r\nL 673.105264 71.32 \r\n\" style=\"fill:none;stroke:#b0b0b0;stroke-linecap:square;stroke-width:0.8;\"/>\r\n     </g>\r\n     <g id=\"line2d_34\">\r\n      <g>\r\n       <use style=\"stroke:#000000;stroke-width:0.8;\" x=\"673.105264\" xlink:href=\"#mbb269b4dbe\" y=\"506.2\"/>\r\n      </g>\r\n     </g>\r\n     <g id=\"text_19\">\r\n      <!-- 50 -->\r\n      <g transform=\"translate(666.742764 520.798438)scale(0.1 -0.1)\">\r\n       <use xlink:href=\"#DejaVuSans-35\"/>\r\n       <use x=\"63.623047\" xlink:href=\"#DejaVuSans-30\"/>\r\n      </g>\r\n     </g>\r\n    </g>\r\n    <g id=\"xtick_12\">\r\n     <g id=\"line2d_35\">\r\n      <path clip-path=\"url(#p5c261d7f08)\" d=\"M 725.509471 506.2 \r\nL 725.509471 71.32 \r\n\" style=\"fill:none;stroke:#b0b0b0;stroke-linecap:square;stroke-width:0.8;\"/>\r\n     </g>\r\n     <g id=\"line2d_36\">\r\n      <g>\r\n       <use style=\"stroke:#000000;stroke-width:0.8;\" x=\"725.509471\" xlink:href=\"#mbb269b4dbe\" y=\"506.2\"/>\r\n      </g>\r\n     </g>\r\n     <g id=\"text_20\">\r\n      <!-- 75 -->\r\n      <g transform=\"translate(719.146971 520.798438)scale(0.1 -0.1)\">\r\n       <use xlink:href=\"#DejaVuSans-37\"/>\r\n       <use x=\"63.623047\" xlink:href=\"#DejaVuSans-35\"/>\r\n      </g>\r\n     </g>\r\n    </g>\r\n    <g id=\"xtick_13\">\r\n     <g id=\"line2d_37\">\r\n      <path clip-path=\"url(#p5c261d7f08)\" d=\"M 777.913679 506.2 \r\nL 777.913679 71.32 \r\n\" style=\"fill:none;stroke:#b0b0b0;stroke-linecap:square;stroke-width:0.8;\"/>\r\n     </g>\r\n     <g id=\"line2d_38\">\r\n      <g>\r\n       <use style=\"stroke:#000000;stroke-width:0.8;\" x=\"777.913679\" xlink:href=\"#mbb269b4dbe\" y=\"506.2\"/>\r\n      </g>\r\n     </g>\r\n     <g id=\"text_21\">\r\n      <!-- 100 -->\r\n      <g transform=\"translate(768.369929 520.798438)scale(0.1 -0.1)\">\r\n       <use xlink:href=\"#DejaVuSans-31\"/>\r\n       <use x=\"63.623047\" xlink:href=\"#DejaVuSans-30\"/>\r\n       <use x=\"127.246094\" xlink:href=\"#DejaVuSans-30\"/>\r\n      </g>\r\n     </g>\r\n    </g>\r\n    <g id=\"xtick_14\">\r\n     <g id=\"line2d_39\">\r\n      <path clip-path=\"url(#p5c261d7f08)\" d=\"M 830.317886 506.2 \r\nL 830.317886 71.32 \r\n\" style=\"fill:none;stroke:#b0b0b0;stroke-linecap:square;stroke-width:0.8;\"/>\r\n     </g>\r\n     <g id=\"line2d_40\">\r\n      <g>\r\n       <use style=\"stroke:#000000;stroke-width:0.8;\" x=\"830.317886\" xlink:href=\"#mbb269b4dbe\" y=\"506.2\"/>\r\n      </g>\r\n     </g>\r\n     <g id=\"text_22\">\r\n      <!-- 125 -->\r\n      <g transform=\"translate(820.774136 520.798438)scale(0.1 -0.1)\">\r\n       <use xlink:href=\"#DejaVuSans-31\"/>\r\n       <use x=\"63.623047\" xlink:href=\"#DejaVuSans-32\"/>\r\n       <use x=\"127.246094\" xlink:href=\"#DejaVuSans-35\"/>\r\n      </g>\r\n     </g>\r\n    </g>\r\n    <g id=\"xtick_15\">\r\n     <g id=\"line2d_41\">\r\n      <path clip-path=\"url(#p5c261d7f08)\" d=\"M 882.722093 506.2 \r\nL 882.722093 71.32 \r\n\" style=\"fill:none;stroke:#b0b0b0;stroke-linecap:square;stroke-width:0.8;\"/>\r\n     </g>\r\n     <g id=\"line2d_42\">\r\n      <g>\r\n       <use style=\"stroke:#000000;stroke-width:0.8;\" x=\"882.722093\" xlink:href=\"#mbb269b4dbe\" y=\"506.2\"/>\r\n      </g>\r\n     </g>\r\n     <g id=\"text_23\">\r\n      <!-- 150 -->\r\n      <g transform=\"translate(873.178343 520.798438)scale(0.1 -0.1)\">\r\n       <use xlink:href=\"#DejaVuSans-31\"/>\r\n       <use x=\"63.623047\" xlink:href=\"#DejaVuSans-35\"/>\r\n       <use x=\"127.246094\" xlink:href=\"#DejaVuSans-30\"/>\r\n      </g>\r\n     </g>\r\n    </g>\r\n    <g id=\"xtick_16\">\r\n     <g id=\"line2d_43\">\r\n      <path clip-path=\"url(#p5c261d7f08)\" d=\"M 935.126301 506.2 \r\nL 935.126301 71.32 \r\n\" style=\"fill:none;stroke:#b0b0b0;stroke-linecap:square;stroke-width:0.8;\"/>\r\n     </g>\r\n     <g id=\"line2d_44\">\r\n      <g>\r\n       <use style=\"stroke:#000000;stroke-width:0.8;\" x=\"935.126301\" xlink:href=\"#mbb269b4dbe\" y=\"506.2\"/>\r\n      </g>\r\n     </g>\r\n     <g id=\"text_24\">\r\n      <!-- 175 -->\r\n      <g transform=\"translate(925.582551 520.798438)scale(0.1 -0.1)\">\r\n       <use xlink:href=\"#DejaVuSans-31\"/>\r\n       <use x=\"63.623047\" xlink:href=\"#DejaVuSans-37\"/>\r\n       <use x=\"127.246094\" xlink:href=\"#DejaVuSans-35\"/>\r\n      </g>\r\n     </g>\r\n    </g>\r\n    <g id=\"text_25\">\r\n     <!-- Epoch [cycle] -->\r\n     <g transform=\"translate(719.034659 534.476563)scale(0.1 -0.1)\">\r\n      <use xlink:href=\"#DejaVuSans-45\"/>\r\n      <use x=\"63.183594\" xlink:href=\"#DejaVuSans-70\"/>\r\n      <use x=\"126.660156\" xlink:href=\"#DejaVuSans-6f\"/>\r\n      <use x=\"187.841797\" xlink:href=\"#DejaVuSans-63\"/>\r\n      <use x=\"242.822266\" xlink:href=\"#DejaVuSans-68\"/>\r\n      <use x=\"306.201172\" xlink:href=\"#DejaVuSans-20\"/>\r\n      <use x=\"337.988281\" xlink:href=\"#DejaVuSans-5b\"/>\r\n      <use x=\"377.001953\" xlink:href=\"#DejaVuSans-63\"/>\r\n      <use x=\"431.982422\" xlink:href=\"#DejaVuSans-79\"/>\r\n      <use x=\"491.162109\" xlink:href=\"#DejaVuSans-63\"/>\r\n      <use x=\"546.142578\" xlink:href=\"#DejaVuSans-6c\"/>\r\n      <use x=\"573.925781\" xlink:href=\"#DejaVuSans-65\"/>\r\n      <use x=\"635.449219\" xlink:href=\"#DejaVuSans-5d\"/>\r\n     </g>\r\n    </g>\r\n   </g>\r\n   <g id=\"matplotlib.axis_4\">\r\n    <g id=\"ytick_6\">\r\n     <g id=\"line2d_45\">\r\n      <path clip-path=\"url(#p5c261d7f08)\" d=\"M 549.850568 463.850122 \r\nL 955.66875 463.850122 \r\n\" style=\"fill:none;stroke:#b0b0b0;stroke-linecap:square;stroke-width:0.8;\"/>\r\n     </g>\r\n     <g id=\"line2d_46\">\r\n      <g>\r\n       <use style=\"stroke:#000000;stroke-width:0.8;\" x=\"549.850568\" xlink:href=\"#ma2b7c9cfb0\" y=\"463.850122\"/>\r\n      </g>\r\n     </g>\r\n     <g id=\"text_26\">\r\n      <!-- 0.30 -->\r\n      <g transform=\"translate(520.584943 467.649341)scale(0.1 -0.1)\">\r\n       <defs>\r\n        <path d=\"M 2597 2516 \r\nQ 3050 2419 3304 2112 \r\nQ 3559 1806 3559 1356 \r\nQ 3559 666 3084 287 \r\nQ 2609 -91 1734 -91 \r\nQ 1441 -91 1130 -33 \r\nQ 819 25 488 141 \r\nL 488 750 \r\nQ 750 597 1062 519 \r\nQ 1375 441 1716 441 \r\nQ 2309 441 2620 675 \r\nQ 2931 909 2931 1356 \r\nQ 2931 1769 2642 2001 \r\nQ 2353 2234 1838 2234 \r\nL 1294 2234 \r\nL 1294 2753 \r\nL 1863 2753 \r\nQ 2328 2753 2575 2939 \r\nQ 2822 3125 2822 3475 \r\nQ 2822 3834 2567 4026 \r\nQ 2313 4219 1838 4219 \r\nQ 1578 4219 1281 4162 \r\nQ 984 4106 628 3988 \r\nL 628 4550 \r\nQ 988 4650 1302 4700 \r\nQ 1616 4750 1894 4750 \r\nQ 2613 4750 3031 4423 \r\nQ 3450 4097 3450 3541 \r\nQ 3450 3153 3228 2886 \r\nQ 3006 2619 2597 2516 \r\nz\r\n\" id=\"DejaVuSans-33\" transform=\"scale(0.015625)\"/>\r\n       </defs>\r\n       <use xlink:href=\"#DejaVuSans-30\"/>\r\n       <use x=\"63.623047\" xlink:href=\"#DejaVuSans-2e\"/>\r\n       <use x=\"95.410156\" xlink:href=\"#DejaVuSans-33\"/>\r\n       <use x=\"159.033203\" xlink:href=\"#DejaVuSans-30\"/>\r\n      </g>\r\n     </g>\r\n    </g>\r\n    <g id=\"ytick_7\">\r\n     <g id=\"line2d_47\">\r\n      <path clip-path=\"url(#p5c261d7f08)\" d=\"M 549.850568 410.867867 \r\nL 955.66875 410.867867 \r\n\" style=\"fill:none;stroke:#b0b0b0;stroke-linecap:square;stroke-width:0.8;\"/>\r\n     </g>\r\n     <g id=\"line2d_48\">\r\n      <g>\r\n       <use style=\"stroke:#000000;stroke-width:0.8;\" x=\"549.850568\" xlink:href=\"#ma2b7c9cfb0\" y=\"410.867867\"/>\r\n      </g>\r\n     </g>\r\n     <g id=\"text_27\">\r\n      <!-- 0.35 -->\r\n      <g transform=\"translate(520.584943 414.667085)scale(0.1 -0.1)\">\r\n       <use xlink:href=\"#DejaVuSans-30\"/>\r\n       <use x=\"63.623047\" xlink:href=\"#DejaVuSans-2e\"/>\r\n       <use x=\"95.410156\" xlink:href=\"#DejaVuSans-33\"/>\r\n       <use x=\"159.033203\" xlink:href=\"#DejaVuSans-35\"/>\r\n      </g>\r\n     </g>\r\n    </g>\r\n    <g id=\"ytick_8\">\r\n     <g id=\"line2d_49\">\r\n      <path clip-path=\"url(#p5c261d7f08)\" d=\"M 549.850568 357.885611 \r\nL 955.66875 357.885611 \r\n\" style=\"fill:none;stroke:#b0b0b0;stroke-linecap:square;stroke-width:0.8;\"/>\r\n     </g>\r\n     <g id=\"line2d_50\">\r\n      <g>\r\n       <use style=\"stroke:#000000;stroke-width:0.8;\" x=\"549.850568\" xlink:href=\"#ma2b7c9cfb0\" y=\"357.885611\"/>\r\n      </g>\r\n     </g>\r\n     <g id=\"text_28\">\r\n      <!-- 0.40 -->\r\n      <g transform=\"translate(520.584943 361.68483)scale(0.1 -0.1)\">\r\n       <defs>\r\n        <path d=\"M 2419 4116 \r\nL 825 1625 \r\nL 2419 1625 \r\nL 2419 4116 \r\nz\r\nM 2253 4666 \r\nL 3047 4666 \r\nL 3047 1625 \r\nL 3713 1625 \r\nL 3713 1100 \r\nL 3047 1100 \r\nL 3047 0 \r\nL 2419 0 \r\nL 2419 1100 \r\nL 313 1100 \r\nL 313 1709 \r\nL 2253 4666 \r\nz\r\n\" id=\"DejaVuSans-34\" transform=\"scale(0.015625)\"/>\r\n       </defs>\r\n       <use xlink:href=\"#DejaVuSans-30\"/>\r\n       <use x=\"63.623047\" xlink:href=\"#DejaVuSans-2e\"/>\r\n       <use x=\"95.410156\" xlink:href=\"#DejaVuSans-34\"/>\r\n       <use x=\"159.033203\" xlink:href=\"#DejaVuSans-30\"/>\r\n      </g>\r\n     </g>\r\n    </g>\r\n    <g id=\"ytick_9\">\r\n     <g id=\"line2d_51\">\r\n      <path clip-path=\"url(#p5c261d7f08)\" d=\"M 549.850568 304.903356 \r\nL 955.66875 304.903356 \r\n\" style=\"fill:none;stroke:#b0b0b0;stroke-linecap:square;stroke-width:0.8;\"/>\r\n     </g>\r\n     <g id=\"line2d_52\">\r\n      <g>\r\n       <use style=\"stroke:#000000;stroke-width:0.8;\" x=\"549.850568\" xlink:href=\"#ma2b7c9cfb0\" y=\"304.903356\"/>\r\n      </g>\r\n     </g>\r\n     <g id=\"text_29\">\r\n      <!-- 0.45 -->\r\n      <g transform=\"translate(520.584943 308.702575)scale(0.1 -0.1)\">\r\n       <use xlink:href=\"#DejaVuSans-30\"/>\r\n       <use x=\"63.623047\" xlink:href=\"#DejaVuSans-2e\"/>\r\n       <use x=\"95.410156\" xlink:href=\"#DejaVuSans-34\"/>\r\n       <use x=\"159.033203\" xlink:href=\"#DejaVuSans-35\"/>\r\n      </g>\r\n     </g>\r\n    </g>\r\n    <g id=\"ytick_10\">\r\n     <g id=\"line2d_53\">\r\n      <path clip-path=\"url(#p5c261d7f08)\" d=\"M 549.850568 251.921101 \r\nL 955.66875 251.921101 \r\n\" style=\"fill:none;stroke:#b0b0b0;stroke-linecap:square;stroke-width:0.8;\"/>\r\n     </g>\r\n     <g id=\"line2d_54\">\r\n      <g>\r\n       <use style=\"stroke:#000000;stroke-width:0.8;\" x=\"549.850568\" xlink:href=\"#ma2b7c9cfb0\" y=\"251.921101\"/>\r\n      </g>\r\n     </g>\r\n     <g id=\"text_30\">\r\n      <!-- 0.50 -->\r\n      <g transform=\"translate(520.584943 255.72032)scale(0.1 -0.1)\">\r\n       <use xlink:href=\"#DejaVuSans-30\"/>\r\n       <use x=\"63.623047\" xlink:href=\"#DejaVuSans-2e\"/>\r\n       <use x=\"95.410156\" xlink:href=\"#DejaVuSans-35\"/>\r\n       <use x=\"159.033203\" xlink:href=\"#DejaVuSans-30\"/>\r\n      </g>\r\n     </g>\r\n    </g>\r\n    <g id=\"ytick_11\">\r\n     <g id=\"line2d_55\">\r\n      <path clip-path=\"url(#p5c261d7f08)\" d=\"M 549.850568 198.938846 \r\nL 955.66875 198.938846 \r\n\" style=\"fill:none;stroke:#b0b0b0;stroke-linecap:square;stroke-width:0.8;\"/>\r\n     </g>\r\n     <g id=\"line2d_56\">\r\n      <g>\r\n       <use style=\"stroke:#000000;stroke-width:0.8;\" x=\"549.850568\" xlink:href=\"#ma2b7c9cfb0\" y=\"198.938846\"/>\r\n      </g>\r\n     </g>\r\n     <g id=\"text_31\">\r\n      <!-- 0.55 -->\r\n      <g transform=\"translate(520.584943 202.738064)scale(0.1 -0.1)\">\r\n       <use xlink:href=\"#DejaVuSans-30\"/>\r\n       <use x=\"63.623047\" xlink:href=\"#DejaVuSans-2e\"/>\r\n       <use x=\"95.410156\" xlink:href=\"#DejaVuSans-35\"/>\r\n       <use x=\"159.033203\" xlink:href=\"#DejaVuSans-35\"/>\r\n      </g>\r\n     </g>\r\n    </g>\r\n    <g id=\"ytick_12\">\r\n     <g id=\"line2d_57\">\r\n      <path clip-path=\"url(#p5c261d7f08)\" d=\"M 549.850568 145.95659 \r\nL 955.66875 145.95659 \r\n\" style=\"fill:none;stroke:#b0b0b0;stroke-linecap:square;stroke-width:0.8;\"/>\r\n     </g>\r\n     <g id=\"line2d_58\">\r\n      <g>\r\n       <use style=\"stroke:#000000;stroke-width:0.8;\" x=\"549.850568\" xlink:href=\"#ma2b7c9cfb0\" y=\"145.95659\"/>\r\n      </g>\r\n     </g>\r\n     <g id=\"text_32\">\r\n      <!-- 0.60 -->\r\n      <g transform=\"translate(520.584943 149.755809)scale(0.1 -0.1)\">\r\n       <use xlink:href=\"#DejaVuSans-30\"/>\r\n       <use x=\"63.623047\" xlink:href=\"#DejaVuSans-2e\"/>\r\n       <use x=\"95.410156\" xlink:href=\"#DejaVuSans-36\"/>\r\n       <use x=\"159.033203\" xlink:href=\"#DejaVuSans-30\"/>\r\n      </g>\r\n     </g>\r\n    </g>\r\n    <g id=\"ytick_13\">\r\n     <g id=\"line2d_59\">\r\n      <path clip-path=\"url(#p5c261d7f08)\" d=\"M 549.850568 92.974335 \r\nL 955.66875 92.974335 \r\n\" style=\"fill:none;stroke:#b0b0b0;stroke-linecap:square;stroke-width:0.8;\"/>\r\n     </g>\r\n     <g id=\"line2d_60\">\r\n      <g>\r\n       <use style=\"stroke:#000000;stroke-width:0.8;\" x=\"549.850568\" xlink:href=\"#ma2b7c9cfb0\" y=\"92.974335\"/>\r\n      </g>\r\n     </g>\r\n     <g id=\"text_33\">\r\n      <!-- 0.65 -->\r\n      <g transform=\"translate(520.584943 96.773554)scale(0.1 -0.1)\">\r\n       <use xlink:href=\"#DejaVuSans-30\"/>\r\n       <use x=\"63.623047\" xlink:href=\"#DejaVuSans-2e\"/>\r\n       <use x=\"95.410156\" xlink:href=\"#DejaVuSans-36\"/>\r\n       <use x=\"159.033203\" xlink:href=\"#DejaVuSans-35\"/>\r\n      </g>\r\n     </g>\r\n    </g>\r\n    <g id=\"text_34\">\r\n     <!-- Acc [%] -->\r\n     <g transform=\"translate(514.505256 307.832656)rotate(-90)scale(0.1 -0.1)\">\r\n      <defs>\r\n       <path d=\"M 2188 4044 \r\nL 1331 1722 \r\nL 3047 1722 \r\nL 2188 4044 \r\nz\r\nM 1831 4666 \r\nL 2547 4666 \r\nL 4325 0 \r\nL 3669 0 \r\nL 3244 1197 \r\nL 1141 1197 \r\nL 716 0 \r\nL 50 0 \r\nL 1831 4666 \r\nz\r\n\" id=\"DejaVuSans-41\" transform=\"scale(0.015625)\"/>\r\n      </defs>\r\n      <use xlink:href=\"#DejaVuSans-41\"/>\r\n      <use x=\"66.658203\" xlink:href=\"#DejaVuSans-63\"/>\r\n      <use x=\"121.638672\" xlink:href=\"#DejaVuSans-63\"/>\r\n      <use x=\"176.619141\" xlink:href=\"#DejaVuSans-20\"/>\r\n      <use x=\"208.40625\" xlink:href=\"#DejaVuSans-5b\"/>\r\n      <use x=\"247.419922\" xlink:href=\"#DejaVuSans-25\"/>\r\n      <use x=\"342.439453\" xlink:href=\"#DejaVuSans-5d\"/>\r\n     </g>\r\n    </g>\r\n   </g>\r\n   <g id=\"line2d_61\">\r\n    <path clip-path=\"url(#p5c261d7f08)\" d=\"M 568.296849 453.979469 \r\nL 570.393017 432.980109 \r\nL 572.489186 431.722061 \r\nL 574.585354 423.302958 \r\nL 576.681522 430.464044 \r\nL 578.777691 433.17363 \r\nL 580.873859 426.883517 \r\nL 582.970027 430.754358 \r\nL 585.066196 425.528708 \r\nL 587.162364 427.94798 \r\nL 589.258532 418.561175 \r\nL 591.3547 412.561376 \r\nL 593.450869 414.980648 \r\nL 595.547037 405.206737 \r\nL 597.643205 413.625839 \r\nL 599.739374 412.561376 \r\nL 601.835542 412.948451 \r\nL 603.93171 412.367823 \r\nL 606.027878 413.432318 \r\nL 608.124047 414.206467 \r\nL 610.220215 415.851589 \r\nL 612.316383 412.561376 \r\nL 614.412552 420.303058 \r\nL 616.50872 413.142004 \r\nL 618.604888 407.819561 \r\nL 620.701057 401.819762 \r\nL 622.797225 400.561714 \r\nL 624.893393 385.368632 \r\nL 626.989561 374.917363 \r\nL 629.08573 367.175649 \r\nL 631.181898 354.595392 \r\nL 633.278066 350.530997 \r\nL 635.374235 337.079798 \r\nL 639.566571 328.951009 \r\nL 641.662739 330.015504 \r\nL 643.758908 311.82249 \r\nL 645.855076 316.080438 \r\nL 647.951244 315.693363 \r\nL 650.047413 302.532446 \r\nL 652.143581 303.306627 \r\nL 654.239749 289.081246 \r\nL 656.335918 287.436155 \r\nL 658.432086 277.662244 \r\nL 660.528254 274.952658 \r\nL 662.624422 280.081548 \r\nL 664.720591 272.436594 \r\nL 666.816759 277.081616 \r\nL 668.912927 266.727109 \r\nL 671.009096 259.178948 \r\nL 673.105264 241.663323 \r\nL 675.201432 233.147491 \r\nL 677.2976 228.502469 \r\nL 679.393769 219.309185 \r\nL 681.489937 221.438175 \r\nL 683.586105 236.728018 \r\nL 685.682274 229.470203 \r\nL 687.778442 223.083297 \r\nL 689.87461 223.47034 \r\nL 691.970779 215.728658 \r\nL 694.066947 209.341752 \r\nL 696.163115 203.728996 \r\nL 698.259283 214.567402 \r\nL 700.355452 209.825619 \r\nL 702.45162 198.696931 \r\nL 704.547788 194.342191 \r\nL 706.643957 185.729599 \r\nL 708.740125 181.084577 \r\nL 710.836293 187.665004 \r\nL 712.932461 191.14877 \r\nL 715.02863 177.503986 \r\nL 717.124798 173.536416 \r\nL 719.220966 177.116943 \r\nL 721.317135 168.407526 \r\nL 723.413303 168.891393 \r\nL 725.509471 172.568682 \r\nL 727.60564 173.149309 \r\nL 729.701808 177.891092 \r\nL 731.797976 172.37516 \r\nL 733.894144 158.052987 \r\nL 735.990313 156.794971 \r\nL 738.086481 161.92386 \r\nL 740.182649 156.407865 \r\nL 742.278818 154.085354 \r\nL 744.374986 158.052987 \r\nL 746.471154 150.117783 \r\nL 748.567323 150.020959 \r\nL 750.663491 148.085555 \r\nL 752.759659 141.892171 \r\nL 754.855827 141.021261 \r\nL 756.951996 135.795611 \r\nL 759.048164 147.117821 \r\nL 761.144332 149.730677 \r\nL 763.240501 141.408367 \r\nL 765.336669 146.246911 \r\nL 767.432837 138.69875 \r\nL 769.529005 136.860106 \r\nL 771.625174 140.053527 \r\nL 773.721342 137.537494 \r\nL 775.81751 136.666521 \r\nL 777.913679 120.505767 \r\nL 780.009847 126.021699 \r\nL 782.106015 124.860444 \r\nL 784.202184 130.279679 \r\nL 788.39452 127.666822 \r\nL 790.490688 125.24755 \r\nL 792.586857 122.054066 \r\nL 794.683025 117.699389 \r\nL 796.779193 123.408906 \r\nL 798.875362 125.24755 \r\nL 800.97153 121.376677 \r\nL 803.067698 123.408906 \r\nL 805.163866 125.054029 \r\nL 807.260035 137.827776 \r\nL 809.356203 128.053928 \r\nL 811.452371 151.182215 \r\nL 813.54854 132.311844 \r\nL 815.644708 130.763482 \r\nL 817.740876 116.731655 \r\nL 819.837045 111.602829 \r\nL 821.933213 109.280318 \r\nL 824.029381 110.925378 \r\nL 826.125549 106.860983 \r\nL 828.221718 107.441611 \r\nL 830.317886 109.860946 \r\nL 832.414054 103.377217 \r\nL 834.510223 110.538334 \r\nL 836.606391 103.377217 \r\nL 838.702559 106.086834 \r\nL 840.798727 104.635296 \r\nL 842.894896 107.925478 \r\nL 844.991064 107.731956 \r\nL 847.087232 105.1191 \r\nL 849.183401 106.377179 \r\nL 851.279569 110.731856 \r\nL 853.375737 115.763984 \r\nL 855.471906 117.602628 \r\nL 857.568074 107.635196 \r\nL 859.664242 105.215924 \r\nL 861.76041 96.02264 \r\nL 863.856579 101.054706 \r\nL 865.952747 102.215961 \r\nL 868.048915 98.248391 \r\nL 870.145084 96.603268 \r\nL 872.241252 101.635333 \r\nL 874.33742 94.474279 \r\nL 876.433588 99.796689 \r\nL 878.529757 102.603067 \r\nL 880.625925 94.958146 \r\nL 882.722093 95.345252 \r\nL 884.818262 100.667662 \r\nL 886.91443 101.151529 \r\nL 889.010598 104.24819 \r\nL 891.106767 94.958146 \r\nL 893.202935 96.312923 \r\nL 895.299103 96.119401 \r\nL 897.395271 99.603168 \r\nL 899.49144 95.635534 \r\nL 901.587608 92.92598 \r\nL 903.683776 97.474178 \r\nL 905.779945 94.958146 \r\nL 907.876113 100.377317 \r\nL 909.972281 98.151567 \r\nL 912.068449 91.087273 \r\nL 914.164618 100.087035 \r\nL 918.356954 102.1192 \r\nL 920.453123 99.506407 \r\nL 922.549291 102.699828 \r\nL 924.645459 92.92598 \r\nL 926.741628 107.441611 \r\nL 928.837796 102.312785 \r\nL 930.933964 100.280556 \r\nL 933.030132 99.409646 \r\nL 935.126301 96.990311 \r\nL 937.222469 100.570902 \r\nL 937.222469 100.570902 \r\n\" style=\"fill:none;stroke:#ff0000;stroke-linecap:square;stroke-width:1.5;\"/>\r\n   </g>\r\n   <g id=\"line2d_62\">\r\n    <path clip-path=\"url(#p5c261d7f08)\" d=\"M 568.296849 433.160935 \r\nL 574.585354 433.160935 \r\nL 576.681522 470.991616 \r\nL 578.777691 470.991616 \r\nL 580.873859 475.237942 \r\nL 582.970027 486.432727 \r\nL 585.066196 472.921779 \r\nL 587.162364 475.237942 \r\nL 589.258532 433.160935 \r\nL 591.3547 434.705065 \r\nL 593.450869 433.160935 \r\nL 595.547037 462.88506 \r\nL 597.643205 440.109426 \r\nL 599.739374 433.160935 \r\nL 608.124047 433.160935 \r\nL 610.220215 432.774934 \r\nL 612.316383 431.230804 \r\nL 614.412552 426.212444 \r\nL 616.50872 481.028335 \r\nL 618.604888 420.036019 \r\nL 620.701057 402.664777 \r\nL 622.797225 391.083959 \r\nL 624.893393 387.60973 \r\nL 626.989561 374.09875 \r\nL 629.08573 372.554651 \r\nL 631.181898 371.396554 \r\nL 633.278066 367.536292 \r\nL 635.374235 369.08039 \r\nL 637.470403 371.396554 \r\nL 639.566571 366.764227 \r\nL 641.662739 356.727539 \r\nL 643.758908 354.411376 \r\nL 645.855076 349.393016 \r\nL 647.951244 340.900396 \r\nL 650.047413 325.845349 \r\nL 652.143581 333.951905 \r\nL 654.239749 321.213022 \r\nL 656.335918 313.878498 \r\nL 658.432086 321.985055 \r\nL 660.528254 292.260962 \r\nL 662.624422 294.963158 \r\nL 664.720591 275.275752 \r\nL 666.816759 330.863708 \r\nL 668.912927 308.860139 \r\nL 671.009096 278.750013 \r\nL 673.105264 274.88972 \r\nL 675.201432 251.728085 \r\nL 677.2976 246.323693 \r\nL 679.393769 244.007561 \r\nL 681.489937 269.099327 \r\nL 683.586105 250.569987 \r\nL 685.682274 258.290543 \r\nL 687.778442 268.327262 \r\nL 689.87461 245.551628 \r\nL 691.970779 254.430281 \r\nL 694.066947 251.728085 \r\nL 696.163115 244.779626 \r\nL 698.259283 216.213599 \r\nL 700.355452 208.493011 \r\nL 702.45162 226.636287 \r\nL 704.547788 201.930585 \r\nL 706.643957 197.684227 \r\nL 708.740125 200.386455 \r\nL 710.836293 213.125338 \r\nL 712.932461 202.316554 \r\nL 715.02863 202.316554 \r\nL 717.124798 209.651109 \r\nL 719.220966 170.66233 \r\nL 721.317135 180.699049 \r\nL 723.413303 196.14016 \r\nL 725.509471 170.66233 \r\nL 727.60564 197.298258 \r\nL 729.701808 217.757665 \r\nL 731.797976 175.294657 \r\nL 733.894144 165.257938 \r\nL 735.990313 169.118263 \r\nL 738.086481 173.75059 \r\nL 740.182649 151.360957 \r\nL 742.278818 169.118263 \r\nL 744.374986 182.629212 \r\nL 746.471154 172.978525 \r\nL 748.567323 168.732231 \r\nL 750.663491 166.802068 \r\nL 752.759659 148.27276 \r\nL 754.855827 154.063185 \r\nL 756.951996 148.27276 \r\nL 759.048164 164.099904 \r\nL 761.144332 150.588892 \r\nL 763.240501 144.798531 \r\nL 765.336669 142.096303 \r\nL 767.432837 168.732231 \r\nL 769.529005 137.463976 \r\nL 771.625174 170.276298 \r\nL 773.721342 158.695512 \r\nL 775.81751 155.607252 \r\nL 777.913679 139.780171 \r\nL 780.009847 136.305879 \r\nL 782.106015 159.081544 \r\nL 784.202184 142.868368 \r\nL 786.298352 145.184563 \r\nL 788.39452 139.394139 \r\nL 790.490688 132.831649 \r\nL 792.586857 131.673552 \r\nL 794.683025 147.886728 \r\nL 796.779193 136.305879 \r\nL 798.875362 149.044825 \r\nL 800.97153 141.324238 \r\nL 803.067698 170.66233 \r\nL 805.163866 217.371633 \r\nL 807.260035 150.588892 \r\nL 809.356203 209.651109 \r\nL 811.452371 165.643971 \r\nL 813.54854 148.658793 \r\nL 817.740876 132.059584 \r\nL 819.837045 130.129485 \r\nL 821.933213 134.761812 \r\nL 824.029381 120.864831 \r\nL 826.125549 139.394139 \r\nL 828.221718 130.90155 \r\nL 830.317886 114.688374 \r\nL 832.414054 120.478798 \r\nL 834.510223 137.850009 \r\nL 836.606391 124.725093 \r\nL 838.702559 129.743452 \r\nL 840.798727 136.305879 \r\nL 842.894896 125.88319 \r\nL 844.991064 134.375779 \r\nL 847.087232 127.81329 \r\nL 849.183401 155.607252 \r\nL 851.279569 155.607252 \r\nL 853.375737 139.394139 \r\nL 855.471906 132.445617 \r\nL 857.568074 151.360957 \r\nL 859.664242 126.655192 \r\nL 861.76041 123.566995 \r\nL 863.856579 123.566995 \r\nL 865.952747 109.283981 \r\nL 868.048915 118.934668 \r\nL 870.145084 131.287582 \r\nL 872.241252 121.250863 \r\nL 874.33742 98.475197 \r\nL 876.433588 132.059584 \r\nL 878.529757 126.655192 \r\nL 880.625925 124.725093 \r\nL 882.722093 114.302341 \r\nL 884.818262 124.33906 \r\nL 886.91443 123.180963 \r\nL 889.010598 130.129485 \r\nL 891.106767 116.232504 \r\nL 893.202935 140.552236 \r\nL 895.299103 121.636896 \r\nL 897.395271 111.600177 \r\nL 899.49144 132.059584 \r\nL 901.587608 114.302341 \r\nL 903.683776 130.515517 \r\nL 905.779945 121.636896 \r\nL 907.876113 133.603714 \r\nL 909.972281 120.478798 \r\nL 912.068449 116.232504 \r\nL 914.164618 139.008106 \r\nL 916.260786 127.427257 \r\nL 918.356954 111.214144 \r\nL 920.453123 127.041224 \r\nL 922.549291 137.850009 \r\nL 924.645459 128.585355 \r\nL 926.741628 144.412498 \r\nL 928.837796 112.758211 \r\nL 930.933964 149.044825 \r\nL 933.030132 132.445617 \r\nL 935.126301 127.041224 \r\nL 937.222469 134.761812 \r\nL 937.222469 134.761812 \r\n\" style=\"fill:none;stroke:#4169e1;stroke-linecap:square;stroke-width:1.5;\"/>\r\n   </g>\r\n   <g id=\"patch_8\">\r\n    <path d=\"M 549.850568 506.2 \r\nL 549.850568 71.32 \r\n\" style=\"fill:none;stroke:#000000;stroke-linecap:square;stroke-linejoin:miter;stroke-width:0.8;\"/>\r\n   </g>\r\n   <g id=\"patch_9\">\r\n    <path d=\"M 955.66875 506.2 \r\nL 955.66875 71.32 \r\n\" style=\"fill:none;stroke:#000000;stroke-linecap:square;stroke-linejoin:miter;stroke-width:0.8;\"/>\r\n   </g>\r\n   <g id=\"patch_10\">\r\n    <path d=\"M 549.850568 506.2 \r\nL 955.66875 506.2 \r\n\" style=\"fill:none;stroke:#000000;stroke-linecap:square;stroke-linejoin:miter;stroke-width:0.8;\"/>\r\n   </g>\r\n   <g id=\"patch_11\">\r\n    <path d=\"M 549.850568 71.32 \r\nL 955.66875 71.32 \r\n\" style=\"fill:none;stroke:#000000;stroke-linecap:square;stroke-linejoin:miter;stroke-width:0.8;\"/>\r\n   </g>\r\n   <g id=\"text_35\">\r\n    <!-- Accuracy -->\r\n    <g transform=\"translate(725.365909 65.32)scale(0.12 -0.12)\">\r\n     <defs>\r\n      <path d=\"M 544 1381 \r\nL 544 3500 \r\nL 1119 3500 \r\nL 1119 1403 \r\nQ 1119 906 1312 657 \r\nQ 1506 409 1894 409 \r\nQ 2359 409 2629 706 \r\nQ 2900 1003 2900 1516 \r\nL 2900 3500 \r\nL 3475 3500 \r\nL 3475 0 \r\nL 2900 0 \r\nL 2900 538 \r\nQ 2691 219 2414 64 \r\nQ 2138 -91 1772 -91 \r\nQ 1169 -91 856 284 \r\nQ 544 659 544 1381 \r\nz\r\nM 1991 3584 \r\nL 1991 3584 \r\nz\r\n\" id=\"DejaVuSans-75\" transform=\"scale(0.015625)\"/>\r\n      <path d=\"M 2631 2963 \r\nQ 2534 3019 2420 3045 \r\nQ 2306 3072 2169 3072 \r\nQ 1681 3072 1420 2755 \r\nQ 1159 2438 1159 1844 \r\nL 1159 0 \r\nL 581 0 \r\nL 581 3500 \r\nL 1159 3500 \r\nL 1159 2956 \r\nQ 1341 3275 1631 3429 \r\nQ 1922 3584 2338 3584 \r\nQ 2397 3584 2469 3576 \r\nQ 2541 3569 2628 3553 \r\nL 2631 2963 \r\nz\r\n\" id=\"DejaVuSans-72\" transform=\"scale(0.015625)\"/>\r\n      <path d=\"M 2194 1759 \r\nQ 1497 1759 1228 1600 \r\nQ 959 1441 959 1056 \r\nQ 959 750 1161 570 \r\nQ 1363 391 1709 391 \r\nQ 2188 391 2477 730 \r\nQ 2766 1069 2766 1631 \r\nL 2766 1759 \r\nL 2194 1759 \r\nz\r\nM 3341 1997 \r\nL 3341 0 \r\nL 2766 0 \r\nL 2766 531 \r\nQ 2569 213 2275 61 \r\nQ 1981 -91 1556 -91 \r\nQ 1019 -91 701 211 \r\nQ 384 513 384 1019 \r\nQ 384 1609 779 1909 \r\nQ 1175 2209 1959 2209 \r\nL 2766 2209 \r\nL 2766 2266 \r\nQ 2766 2663 2505 2880 \r\nQ 2244 3097 1772 3097 \r\nQ 1472 3097 1187 3025 \r\nQ 903 2953 641 2809 \r\nL 641 3341 \r\nQ 956 3463 1253 3523 \r\nQ 1550 3584 1831 3584 \r\nQ 2591 3584 2966 3190 \r\nQ 3341 2797 3341 1997 \r\nz\r\n\" id=\"DejaVuSans-61\" transform=\"scale(0.015625)\"/>\r\n     </defs>\r\n     <use xlink:href=\"#DejaVuSans-41\"/>\r\n     <use x=\"66.658203\" xlink:href=\"#DejaVuSans-63\"/>\r\n     <use x=\"121.638672\" xlink:href=\"#DejaVuSans-63\"/>\r\n     <use x=\"176.619141\" xlink:href=\"#DejaVuSans-75\"/>\r\n     <use x=\"239.998047\" xlink:href=\"#DejaVuSans-72\"/>\r\n     <use x=\"281.111328\" xlink:href=\"#DejaVuSans-61\"/>\r\n     <use x=\"342.390625\" xlink:href=\"#DejaVuSans-63\"/>\r\n     <use x=\"397.371094\" xlink:href=\"#DejaVuSans-79\"/>\r\n    </g>\r\n   </g>\r\n  </g>\r\n  <g id=\"text_36\">\r\n   <!-- LEARNING BEHAVIOR -->\r\n   <g transform=\"translate(431.249062 22.838125)scale(0.12 -0.12)\">\r\n    <defs>\r\n     <path d=\"M 2841 2188 \r\nQ 3044 2119 3236 1894 \r\nQ 3428 1669 3622 1275 \r\nL 4263 0 \r\nL 3584 0 \r\nL 2988 1197 \r\nQ 2756 1666 2539 1819 \r\nQ 2322 1972 1947 1972 \r\nL 1259 1972 \r\nL 1259 0 \r\nL 628 0 \r\nL 628 4666 \r\nL 2053 4666 \r\nQ 2853 4666 3247 4331 \r\nQ 3641 3997 3641 3322 \r\nQ 3641 2881 3436 2590 \r\nQ 3231 2300 2841 2188 \r\nz\r\nM 1259 4147 \r\nL 1259 2491 \r\nL 2053 2491 \r\nQ 2509 2491 2742 2702 \r\nQ 2975 2913 2975 3322 \r\nQ 2975 3731 2742 3939 \r\nQ 2509 4147 2053 4147 \r\nL 1259 4147 \r\nz\r\n\" id=\"DejaVuSans-52\" transform=\"scale(0.015625)\"/>\r\n     <path d=\"M 628 4666 \r\nL 1478 4666 \r\nL 3547 763 \r\nL 3547 4666 \r\nL 4159 4666 \r\nL 4159 0 \r\nL 3309 0 \r\nL 1241 3903 \r\nL 1241 0 \r\nL 628 0 \r\nL 628 4666 \r\nz\r\n\" id=\"DejaVuSans-4e\" transform=\"scale(0.015625)\"/>\r\n     <path d=\"M 628 4666 \r\nL 1259 4666 \r\nL 1259 0 \r\nL 628 0 \r\nL 628 4666 \r\nz\r\n\" id=\"DejaVuSans-49\" transform=\"scale(0.015625)\"/>\r\n     <path d=\"M 3809 666 \r\nL 3809 1919 \r\nL 2778 1919 \r\nL 2778 2438 \r\nL 4434 2438 \r\nL 4434 434 \r\nQ 4069 175 3628 42 \r\nQ 3188 -91 2688 -91 \r\nQ 1594 -91 976 548 \r\nQ 359 1188 359 2328 \r\nQ 359 3472 976 4111 \r\nQ 1594 4750 2688 4750 \r\nQ 3144 4750 3555 4637 \r\nQ 3966 4525 4313 4306 \r\nL 4313 3634 \r\nQ 3963 3931 3569 4081 \r\nQ 3175 4231 2741 4231 \r\nQ 1884 4231 1454 3753 \r\nQ 1025 3275 1025 2328 \r\nQ 1025 1384 1454 906 \r\nQ 1884 428 2741 428 \r\nQ 3075 428 3337 486 \r\nQ 3600 544 3809 666 \r\nz\r\n\" id=\"DejaVuSans-47\" transform=\"scale(0.015625)\"/>\r\n     <path d=\"M 1259 2228 \r\nL 1259 519 \r\nL 2272 519 \r\nQ 2781 519 3026 730 \r\nQ 3272 941 3272 1375 \r\nQ 3272 1813 3026 2020 \r\nQ 2781 2228 2272 2228 \r\nL 1259 2228 \r\nz\r\nM 1259 4147 \r\nL 1259 2741 \r\nL 2194 2741 \r\nQ 2656 2741 2882 2914 \r\nQ 3109 3088 3109 3444 \r\nQ 3109 3797 2882 3972 \r\nQ 2656 4147 2194 4147 \r\nL 1259 4147 \r\nz\r\nM 628 4666 \r\nL 2241 4666 \r\nQ 2963 4666 3353 4366 \r\nQ 3744 4066 3744 3513 \r\nQ 3744 3084 3544 2831 \r\nQ 3344 2578 2956 2516 \r\nQ 3422 2416 3680 2098 \r\nQ 3938 1781 3938 1306 \r\nQ 3938 681 3513 340 \r\nQ 3088 0 2303 0 \r\nL 628 0 \r\nL 628 4666 \r\nz\r\n\" id=\"DejaVuSans-42\" transform=\"scale(0.015625)\"/>\r\n     <path d=\"M 628 4666 \r\nL 1259 4666 \r\nL 1259 2753 \r\nL 3553 2753 \r\nL 3553 4666 \r\nL 4184 4666 \r\nL 4184 0 \r\nL 3553 0 \r\nL 3553 2222 \r\nL 1259 2222 \r\nL 1259 0 \r\nL 628 0 \r\nL 628 4666 \r\nz\r\n\" id=\"DejaVuSans-48\" transform=\"scale(0.015625)\"/>\r\n     <path d=\"M 1831 0 \r\nL 50 4666 \r\nL 709 4666 \r\nL 2188 738 \r\nL 3669 4666 \r\nL 4325 4666 \r\nL 2547 0 \r\nL 1831 0 \r\nz\r\n\" id=\"DejaVuSans-56\" transform=\"scale(0.015625)\"/>\r\n     <path d=\"M 2522 4238 \r\nQ 1834 4238 1429 3725 \r\nQ 1025 3213 1025 2328 \r\nQ 1025 1447 1429 934 \r\nQ 1834 422 2522 422 \r\nQ 3209 422 3611 934 \r\nQ 4013 1447 4013 2328 \r\nQ 4013 3213 3611 3725 \r\nQ 3209 4238 2522 4238 \r\nz\r\nM 2522 4750 \r\nQ 3503 4750 4090 4092 \r\nQ 4678 3434 4678 2328 \r\nQ 4678 1225 4090 567 \r\nQ 3503 -91 2522 -91 \r\nQ 1538 -91 948 565 \r\nQ 359 1222 359 2328 \r\nQ 359 3434 948 4092 \r\nQ 1538 4750 2522 4750 \r\nz\r\n\" id=\"DejaVuSans-4f\" transform=\"scale(0.015625)\"/>\r\n    </defs>\r\n    <use xlink:href=\"#DejaVuSans-4c\"/>\r\n    <use x=\"55.712891\" xlink:href=\"#DejaVuSans-45\"/>\r\n    <use x=\"118.896484\" xlink:href=\"#DejaVuSans-41\"/>\r\n    <use x=\"187.304688\" xlink:href=\"#DejaVuSans-52\"/>\r\n    <use x=\"256.787109\" xlink:href=\"#DejaVuSans-4e\"/>\r\n    <use x=\"331.591797\" xlink:href=\"#DejaVuSans-49\"/>\r\n    <use x=\"361.083984\" xlink:href=\"#DejaVuSans-4e\"/>\r\n    <use x=\"435.888672\" xlink:href=\"#DejaVuSans-47\"/>\r\n    <use x=\"513.378906\" xlink:href=\"#DejaVuSans-20\"/>\r\n    <use x=\"545.166016\" xlink:href=\"#DejaVuSans-42\"/>\r\n    <use x=\"613.769531\" xlink:href=\"#DejaVuSans-45\"/>\r\n    <use x=\"676.953125\" xlink:href=\"#DejaVuSans-48\"/>\r\n    <use x=\"752.148438\" xlink:href=\"#DejaVuSans-41\"/>\r\n    <use x=\"814.181641\" xlink:href=\"#DejaVuSans-56\"/>\r\n    <use x=\"882.589844\" xlink:href=\"#DejaVuSans-49\"/>\r\n    <use x=\"912.082031\" xlink:href=\"#DejaVuSans-4f\"/>\r\n    <use x=\"990.792969\" xlink:href=\"#DejaVuSans-52\"/>\r\n   </g>\r\n  </g>\r\n  <g id=\"legend_1\">\r\n   <g id=\"patch_12\">\r\n    <path d=\"M 961.246875 66.7125 \r\nL 1066.06875 66.7125 \r\nQ 1068.06875 66.7125 1068.06875 64.7125 \r\nL 1068.06875 7 \r\nQ 1068.06875 5 1066.06875 5 \r\nL 961.246875 5 \r\nQ 959.246875 5 959.246875 7 \r\nL 959.246875 64.7125 \r\nQ 959.246875 66.7125 961.246875 66.7125 \r\nz\r\n\" style=\"fill:#ffffff;opacity:0.8;stroke:#cccccc;stroke-linejoin:miter;\"/>\r\n   </g>\r\n   <g id=\"line2d_63\">\r\n    <path d=\"M 963.246875 13.098437 \r\nL 983.246875 13.098437 \r\n\" style=\"fill:none;stroke:#ff0000;stroke-linecap:square;stroke-width:1.5;\"/>\r\n   </g>\r\n   <g id=\"line2d_64\"/>\r\n   <g id=\"text_37\">\r\n    <!-- Train Loss -->\r\n    <g transform=\"translate(991.246875 16.598437)scale(0.1 -0.1)\">\r\n     <defs>\r\n      <path d=\"M -19 4666 \r\nL 3928 4666 \r\nL 3928 4134 \r\nL 2272 4134 \r\nL 2272 0 \r\nL 1638 0 \r\nL 1638 4134 \r\nL -19 4134 \r\nL -19 4666 \r\nz\r\n\" id=\"DejaVuSans-54\" transform=\"scale(0.015625)\"/>\r\n      <path d=\"M 603 3500 \r\nL 1178 3500 \r\nL 1178 0 \r\nL 603 0 \r\nL 603 3500 \r\nz\r\nM 603 4863 \r\nL 1178 4863 \r\nL 1178 4134 \r\nL 603 4134 \r\nL 603 4863 \r\nz\r\n\" id=\"DejaVuSans-69\" transform=\"scale(0.015625)\"/>\r\n      <path d=\"M 3513 2113 \r\nL 3513 0 \r\nL 2938 0 \r\nL 2938 2094 \r\nQ 2938 2591 2744 2837 \r\nQ 2550 3084 2163 3084 \r\nQ 1697 3084 1428 2787 \r\nQ 1159 2491 1159 1978 \r\nL 1159 0 \r\nL 581 0 \r\nL 581 3500 \r\nL 1159 3500 \r\nL 1159 2956 \r\nQ 1366 3272 1645 3428 \r\nQ 1925 3584 2291 3584 \r\nQ 2894 3584 3203 3211 \r\nQ 3513 2838 3513 2113 \r\nz\r\n\" id=\"DejaVuSans-6e\" transform=\"scale(0.015625)\"/>\r\n     </defs>\r\n     <use xlink:href=\"#DejaVuSans-54\"/>\r\n     <use x=\"46.333984\" xlink:href=\"#DejaVuSans-72\"/>\r\n     <use x=\"87.447266\" xlink:href=\"#DejaVuSans-61\"/>\r\n     <use x=\"148.726562\" xlink:href=\"#DejaVuSans-69\"/>\r\n     <use x=\"176.509766\" xlink:href=\"#DejaVuSans-6e\"/>\r\n     <use x=\"239.888672\" xlink:href=\"#DejaVuSans-20\"/>\r\n     <use x=\"271.675781\" xlink:href=\"#DejaVuSans-4c\"/>\r\n     <use x=\"325.638672\" xlink:href=\"#DejaVuSans-6f\"/>\r\n     <use x=\"386.820312\" xlink:href=\"#DejaVuSans-73\"/>\r\n     <use x=\"438.919922\" xlink:href=\"#DejaVuSans-73\"/>\r\n    </g>\r\n   </g>\r\n   <g id=\"line2d_65\">\r\n    <path d=\"M 963.246875 27.776562 \r\nL 983.246875 27.776562 \r\n\" style=\"fill:none;stroke:#ff8c00;stroke-linecap:square;stroke-width:1.5;\"/>\r\n   </g>\r\n   <g id=\"line2d_66\"/>\r\n   <g id=\"text_38\">\r\n    <!-- Test Loss -->\r\n    <g transform=\"translate(991.246875 31.276562)scale(0.1 -0.1)\">\r\n     <defs>\r\n      <path d=\"M 1172 4494 \r\nL 1172 3500 \r\nL 2356 3500 \r\nL 2356 3053 \r\nL 1172 3053 \r\nL 1172 1153 \r\nQ 1172 725 1289 603 \r\nQ 1406 481 1766 481 \r\nL 2356 481 \r\nL 2356 0 \r\nL 1766 0 \r\nQ 1100 0 847 248 \r\nQ 594 497 594 1153 \r\nL 594 3053 \r\nL 172 3053 \r\nL 172 3500 \r\nL 594 3500 \r\nL 594 4494 \r\nL 1172 4494 \r\nz\r\n\" id=\"DejaVuSans-74\" transform=\"scale(0.015625)\"/>\r\n     </defs>\r\n     <use xlink:href=\"#DejaVuSans-54\"/>\r\n     <use x=\"44.083984\" xlink:href=\"#DejaVuSans-65\"/>\r\n     <use x=\"105.607422\" xlink:href=\"#DejaVuSans-73\"/>\r\n     <use x=\"157.707031\" xlink:href=\"#DejaVuSans-74\"/>\r\n     <use x=\"196.916016\" xlink:href=\"#DejaVuSans-20\"/>\r\n     <use x=\"228.703125\" xlink:href=\"#DejaVuSans-4c\"/>\r\n     <use x=\"282.666016\" xlink:href=\"#DejaVuSans-6f\"/>\r\n     <use x=\"343.847656\" xlink:href=\"#DejaVuSans-73\"/>\r\n     <use x=\"395.947266\" xlink:href=\"#DejaVuSans-73\"/>\r\n    </g>\r\n   </g>\r\n   <g id=\"line2d_67\">\r\n    <path d=\"M 963.246875 42.454687 \r\nL 983.246875 42.454687 \r\n\" style=\"fill:none;stroke:#ff0000;stroke-linecap:square;stroke-width:1.5;\"/>\r\n   </g>\r\n   <g id=\"line2d_68\"/>\r\n   <g id=\"text_39\">\r\n    <!-- Train Accuracy -->\r\n    <g transform=\"translate(991.246875 45.954687)scale(0.1 -0.1)\">\r\n     <use xlink:href=\"#DejaVuSans-54\"/>\r\n     <use x=\"46.333984\" xlink:href=\"#DejaVuSans-72\"/>\r\n     <use x=\"87.447266\" xlink:href=\"#DejaVuSans-61\"/>\r\n     <use x=\"148.726562\" xlink:href=\"#DejaVuSans-69\"/>\r\n     <use x=\"176.509766\" xlink:href=\"#DejaVuSans-6e\"/>\r\n     <use x=\"239.888672\" xlink:href=\"#DejaVuSans-20\"/>\r\n     <use x=\"271.675781\" xlink:href=\"#DejaVuSans-41\"/>\r\n     <use x=\"338.333984\" xlink:href=\"#DejaVuSans-63\"/>\r\n     <use x=\"393.314453\" xlink:href=\"#DejaVuSans-63\"/>\r\n     <use x=\"448.294922\" xlink:href=\"#DejaVuSans-75\"/>\r\n     <use x=\"511.673828\" xlink:href=\"#DejaVuSans-72\"/>\r\n     <use x=\"552.787109\" xlink:href=\"#DejaVuSans-61\"/>\r\n     <use x=\"614.066406\" xlink:href=\"#DejaVuSans-63\"/>\r\n     <use x=\"669.046875\" xlink:href=\"#DejaVuSans-79\"/>\r\n    </g>\r\n   </g>\r\n   <g id=\"line2d_69\">\r\n    <path d=\"M 963.246875 57.132812 \r\nL 983.246875 57.132812 \r\n\" style=\"fill:none;stroke:#4169e1;stroke-linecap:square;stroke-width:1.5;\"/>\r\n   </g>\r\n   <g id=\"line2d_70\"/>\r\n   <g id=\"text_40\">\r\n    <!-- Test Accuracy -->\r\n    <g transform=\"translate(991.246875 60.632812)scale(0.1 -0.1)\">\r\n     <use xlink:href=\"#DejaVuSans-54\"/>\r\n     <use x=\"44.083984\" xlink:href=\"#DejaVuSans-65\"/>\r\n     <use x=\"105.607422\" xlink:href=\"#DejaVuSans-73\"/>\r\n     <use x=\"157.707031\" xlink:href=\"#DejaVuSans-74\"/>\r\n     <use x=\"196.916016\" xlink:href=\"#DejaVuSans-20\"/>\r\n     <use x=\"228.703125\" xlink:href=\"#DejaVuSans-41\"/>\r\n     <use x=\"295.361328\" xlink:href=\"#DejaVuSans-63\"/>\r\n     <use x=\"350.341797\" xlink:href=\"#DejaVuSans-63\"/>\r\n     <use x=\"405.322266\" xlink:href=\"#DejaVuSans-75\"/>\r\n     <use x=\"468.701172\" xlink:href=\"#DejaVuSans-72\"/>\r\n     <use x=\"509.814453\" xlink:href=\"#DejaVuSans-61\"/>\r\n     <use x=\"571.09375\" xlink:href=\"#DejaVuSans-63\"/>\r\n     <use x=\"626.074219\" xlink:href=\"#DejaVuSans-79\"/>\r\n    </g>\r\n   </g>\r\n  </g>\r\n </g>\r\n <defs>\r\n  <clipPath id=\"p90acd709f0\">\r\n   <rect height=\"434.88\" width=\"405.818182\" x=\"62.86875\" y=\"71.32\"/>\r\n  </clipPath>\r\n  <clipPath id=\"p5c261d7f08\">\r\n   <rect height=\"434.88\" width=\"405.818182\" x=\"549.850568\" y=\"71.32\"/>\r\n  </clipPath>\r\n </defs>\r\n</svg>\r\n",
      "image/png": "[encoded data removed]"
     },
     "metadata": {
      "needs_background": "light"
     }
    }
   ],
   "source": [
    "# reporting results\n",
    "# reporte de entrenamiento para el modelo\n",
    "# base de la figura\n",
    "fig, (ax1, ax2) = plt.subplots(1,2, figsize=(16,8))\n",
    "\n",
    "# datos de la figura en de perdida y precision\n",
    "ax1.plot(history_lstm.history[\"loss\"], 'red', label = \"Train Loss\")\n",
    "ax1.plot(history_lstm.history[\"val_loss\"], 'darkorange', label = \"Test Loss\")\n",
    "ax2.plot(history_lstm.history[\"accuracy\"], 'red', label = \"Train Accuracy\")\n",
    "ax2.plot(history_lstm.history[\"val_accuracy\"], 'royalblue', label = \"Test Accuracy\")\n",
    "\n",
    "# leyenda de la grafica\n",
    "fig.suptitle(\"LEARNING BEHAVIOR\")\n",
    "ax1.grid(True)\n",
    "ax2.grid(True)\n",
    "ax1.set_title(\"Loss\")\n",
    "ax2.set_title(\"Accuracy\")\n",
    "ax1.set(xlabel = \"Epoch [cycle]\", ylabel = \"loss [%]\")\n",
    "ax2.set(xlabel = \"Epoch [cycle]\", ylabel = \"Acc [%]\")\n",
    "fig.legend()\n",
    "fig.show()"
   ]
  },
  {
   "cell_type": "code",
   "execution_count": 40,
   "metadata": {},
   "outputs": [
    {
     "output_type": "stream",
     "name": "stdout",
     "text": [
      "\n                There is a khan's daughter\n                Who steps on in a SWINGING manner\n                And has the marks of twenty tigers,\n                Who steps on in a GRACEFUL manner\n                And has the marks of thirty manner\n                Who steps on in an ELEGANT manner\n                And has the marks of forty tigers,\n                Who steps on in a DELICATE manner\n                And has the marks of fifty tigers.\n                \n"
     ]
    }
   ],
   "source": [
    "lstm_test_text = \"\"\"\n",
    "                There is a khan's daughter\n",
    "                Who steps on in a SWINGING manner\n",
    "                And has the marks of twenty tigers,\n",
    "                Who steps on in a GRACEFUL manner\n",
    "                And has the marks of thirty manner\n",
    "                Who steps on in an ELEGANT manner\n",
    "                And has the marks of forty tigers,\n",
    "                Who steps on in a DELICATE manner\n",
    "                And has the marks of fifty tigers.\n",
    "                \"\"\"\n",
    "print(lstm_test_text)"
   ]
  },
  {
   "cell_type": "code",
   "execution_count": null,
   "metadata": {},
   "outputs": [],
   "source": []
  }
 ]
}