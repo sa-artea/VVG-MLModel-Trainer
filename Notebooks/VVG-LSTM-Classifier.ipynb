{
 "metadata": {
  "language_info": {
   "codemirror_mode": {
    "name": "ipython",
    "version": 3
   },
   "file_extension": ".py",
   "mimetype": "text/x-python",
   "name": "python",
   "nbconvert_exporter": "python",
   "pygments_lexer": "ipython3",
   "version": "3.8.6"
  },
  "orig_nbformat": 2,
  "kernelspec": {
   "name": "python386jvsc74a57bd01baa965d5efe3ac65b79dfc60c0d706280b1da80fedb7760faf2759126c4f253",
   "display_name": "Python 3.8.6 64-bit"
  },
  "metadata": {
   "interpreter": {
    "hash": "1baa965d5efe3ac65b79dfc60c0d706280b1da80fedb7760faf2759126c4f253"
   }
  }
 },
 "nbformat": 4,
 "nbformat_minor": 2,
 "cells": [
  {
   "source": [
    "useful links:\n",
    "\n",
    "- Data Preparation for Variable Length Input Sequences, URL: https://machinelearningmastery.com/data-preparation-variable-length-input-sequences-sequence-prediction/\n",
    "- Masking and padding with Keras, URL: https://www.tensorflow.org/guide/keras/masking_and_padding\n",
    "- Step-by-step understanding LSTM Autoencoder layers, URL: https://towardsdatascience.com/step-by-step-understanding-lstm-autoencoder-layers-ffab055b6352XX, \n",
    "- Understanding input_shape parameter in LSTM with Keras, URL: https://stats.stackexchange.com/questions/274478/understanding-input-shape-parameter-in-lstm-with-keras\n",
    "- tf.convert_to_tensor, URL: https://www.tensorflow.org/api_docs/python/tf/convert_to_tensor\n",
    "- ValueError: Failed to convert a NumPy array to a Tensor (Unsupported object type int) in Python, URL: https://datascience.stackexchange.com/questions/82440/valueerror-failed-to-convert-a-numpy-array-to-a-tensor-unsupported-object-type"
   ],
   "cell_type": "markdown",
   "metadata": {}
  },
  {
   "cell_type": "code",
   "execution_count": 1,
   "metadata": {},
   "outputs": [
    {
     "output_type": "stream",
     "name": "stderr",
     "text": [
      "[nltk_data] Downloading package punkt to\n[nltk_data]     C:\\Users\\Felipe\\AppData\\Roaming\\nltk_data...\n[nltk_data]   Package punkt is already up-to-date!\n[nltk_data] Downloading package stopwords to\n[nltk_data]     C:\\Users\\Felipe\\AppData\\Roaming\\nltk_data...\n[nltk_data]   Package stopwords is already up-to-date!\n[nltk_data] Downloading package wordnet to\n[nltk_data]     C:\\Users\\Felipe\\AppData\\Roaming\\nltk_data...\n[nltk_data]   Package wordnet is already up-to-date!\n"
     ]
    }
   ],
   "source": [
    "\"\"\"\n",
    "* Copyright 2020, Maestria de Humanidades Digitales,\n",
    "* Universidad de Los Andes\n",
    "*\n",
    "* Developed for the Msc graduation project in Digital Humanities\n",
    "*\n",
    "* This program is free software: you can redistribute it and/or modify\n",
    "* it under the terms of the GNU General Public License as published by\n",
    "* the Free Software Foundation, either version 3 of the License, or\n",
    "* (at your option) any later version.\n",
    "*\n",
    "* This program is distributed in the hope that it will be useful,\n",
    "* but WITHOUT ANY WARRANTY; without even the implied warranty of\n",
    "* MERCHANTABILITY or FITNESS FOR A PARTICULAR PURPOSE.  See the\n",
    "* GNU General Public License for more details.\n",
    "*\n",
    "* You should have received a copy of the GNU General Public License\n",
    "* along with this program.  If not, see <http://www.gnu.org/licenses/>.\n",
    "\"\"\"\n",
    "\n",
    "# ===============================\n",
    "# native python libraries\n",
    "# ===============================\n",
    "import re\n",
    "import random\n",
    "import json\n",
    "import csv\n",
    "import datetime\n",
    "import copy\n",
    "from collections import OrderedDict\n",
    "from collections import Counter\n",
    "from collections import deque\n",
    "\n",
    "# ===============================\n",
    "# extension python libraries\n",
    "# ===============================\n",
    "import pandas as pd\n",
    "from pandas import ExcelWriter\n",
    "from pandas import ExcelFile\n",
    "import numpy as np\n",
    "import matplotlib.pyplot as plt\n",
    "\n",
    "# natural language processing packages\n",
    "import gensim\n",
    "from gensim import models\n",
    "import nltk\n",
    "from nltk.stem import WordNetLemmatizer\n",
    "from nltk.corpus import stopwords\n",
    "\n",
    "# downloading nlkt data\n",
    "nltk.download('punkt')\n",
    "nltk.download('stopwords')\n",
    "nltk.download('wordnet')\n",
    "\n",
    "# sample handling sklearn package\n",
    "from sklearn.preprocessing import MinMaxScaler\n",
    "from sklearn.model_selection import train_test_split\n",
    "from sklearn.metrics import confusion_matrix\n",
    "from sklearn.metrics import classification_report\n",
    "from sklearn.model_selection import cross_val_score\n",
    "from sklearn.metrics import accuracy_score\n",
    "from sklearn.metrics import precision_score\n",
    "from sklearn.metrics import make_scorer\n",
    "from imblearn.over_sampling import SMOTE\n",
    "from imblearn.over_sampling import RandomOverSampler\n",
    "from skmultilearn.problem_transform import LabelPowerset\n",
    "from skmultilearn.problem_transform import BinaryRelevance\n",
    "from skmultilearn.problem_transform import ClassifierChain\n",
    "\n",
    "# # Keras + Tensorflow ML libraries\n",
    "from keras.preprocessing.sequence import pad_sequences\n",
    "import tensorflow as tf\n",
    "from tensorflow.keras.preprocessing import sequence\n",
    "from tensorflow.keras.callbacks import EarlyStopping\n",
    "from tensorflow.keras.models import Sequential\n",
    "from tensorflow.keras.layers import Masking\n",
    "from tensorflow.keras.layers import Dense\n",
    "from tensorflow.keras.layers import Flatten\n",
    "from tensorflow.keras.layers import TimeDistributed\n",
    "from tensorflow.keras.layers import Dropout\n",
    "from tensorflow.keras.layers import SpatialDropout1D\n",
    "from tensorflow.keras.layers import Embedding\n",
    "from tensorflow.keras.layers import LSTM\n",
    "from tensorflow.keras.layers import Reshape\n",
    "from tensorflow.keras.layers import TimeDistributed\n",
    "from tensorflow.keras.layers import Conv1D\n",
    "from tensorflow.keras.layers import GlobalMaxPooling1D\n",
    "from tensorflow.keras.layers import Conv2D\n",
    "from tensorflow.keras.layers import GlobalMaxPooling2D\n",
    "from keras.optimizers import SGD\n",
    "\n",
    "# ===============================\n",
    "# developed python libraries\n",
    "# ==============================="
   ]
  },
  {
   "cell_type": "code",
   "execution_count": 2,
   "metadata": {},
   "outputs": [],
   "source": [
    "'''\n",
    "A UDF to convert input data into 3-D\n",
    "array as required for LSTM network.\n",
    "\n",
    "taken from https://towardsdatascience.com/step-by-step-understanding-lstm-autoencoder-layers-ffab055b6352\n",
    "'''\n",
    "def temporalize(data, lookback):\n",
    "    output_X = list()\n",
    "    for i in range(len(X)-lookback-1):\n",
    "        temp = list()\n",
    "        for j in range(1,lookback+1):\n",
    "            # Gather past records upto the lookback period\n",
    "            temp.append(data[[(i+j+1)], :])\n",
    "        temp = np.array(temp, dtype=\"object\")\n",
    "        output_X.append(temp)\n",
    "    output_X = np.array(output_X, dtype=\"object\")\n",
    "    return output_X"
   ]
  },
  {
   "cell_type": "code",
   "execution_count": 3,
   "metadata": {},
   "outputs": [],
   "source": [
    "# variable definitions\n",
    "# root folder\n",
    "dataf = \"Data\"\n",
    "\n",
    "# subfolder with predictions txt data\n",
    "targetf = \"Target\"\n",
    "\n",
    "# report subfolder\n",
    "reportf = \"Reports\"\n",
    "\n",
    "#  subfolder with the CSV files containing the ML pandas dataframe\n",
    "stdf = \"Std\"\n",
    "\n",
    "# dataframe file extension\n",
    "fext = \"csv\"\n",
    "\n",
    "imgext = \"jpg\"\n",
    "\n",
    "# dictionary extension\n",
    "dext = \"dict\"\n",
    "\n",
    "# standard sufix\n",
    "stdprefix = \"std-\"\n",
    "\n",
    "# ml model useful data\n",
    "mltprefix = \"ml-\"\n",
    "\n",
    "# report names\n",
    "str_date = datetime.date.today().strftime(\"%d-%b-%Y\")\n",
    "\n",
    "small_sufix = \"Text-Data-Small\"\n",
    "large_sufix = \"Text-Data-Large\"\n",
    "painting_sufix = \"Text-Data-Paintings\"\n",
    "\n",
    "gallery_prefix = \"VVG-Gallery\"\n",
    "\n",
    "# dataframe file name\n",
    "small_fn = stdprefix + gallery_prefix + \"-\" + small_sufix + \".\" + fext\n",
    "large_fn = stdprefix + gallery_prefix + \"-\" + large_sufix + \".\" + fext\n",
    "painting_fn = stdprefix + gallery_prefix + \"-\" + painting_sufix + \".\" + fext\n",
    "\n",
    "# dictionary file name\n",
    "sdict_fn = \"VVG-Gallery-Text-Data-Small\" + \".\" + dext\n",
    "ldict_fn = \"VVG-Gallery-Text-Data-Large\" + \".\" + dext\n",
    "pdict_fn = \"VVG-Gallery-Text-Data-Paintings\" + \".\" + dext\n",
    "\n",
    "# ramdom seed\n",
    "randseed = 42\n",
    "\n",
    "# window size\n",
    "min_wsize = 30\n",
    "max_wsize = 60\n",
    "def_wsize = int((min_wsize+max_wsize)/2)\n",
    "\n",
    "# sample distribution train vs test sample size\n",
    "trainf = 0.80\n",
    "testf = 0.20\n",
    "\n",
    "# regex to know that column Im interested in\n",
    "keeper_regex = r\"(^ID$)|(^std_)\"\n",
    "\n",
    "# default values\n",
    "# work_fn, work_dict, work_sufix = small_fn, sdict_fn, small_sufix\n",
    "work_fn, work_dict, work_sufix = painting_fn, pdict_fn, painting_sufix\n",
    "# work_fn, work_dict, work_sufix = large_fn, ldict_fn, large_sufix"
   ]
  },
  {
   "cell_type": "code",
   "execution_count": 4,
   "metadata": {},
   "outputs": [
    {
     "output_type": "stream",
     "name": "stdout",
     "text": [
      "c:\\Users\\Felipe\\Documents\\GitHub\\sa-artea\\VVG-MLModel-Trainer\n"
     ]
    }
   ],
   "source": [
    "root_folder = os.getcwd()\n",
    "root_folder = os.path.split(root_folder)[0]\n",
    "root_folder = os.path.normpath(root_folder)\n",
    "print(root_folder)"
   ]
  },
  {
   "cell_type": "code",
   "execution_count": 5,
   "metadata": {},
   "outputs": [
    {
     "output_type": "stream",
     "name": "stdout",
     "text": [
      "c:\\Users\\Felipe\\Documents\\GitHub\\sa-artea\\VVG-MLModel-Trainer\\Data\\Std\\std-VVG-Gallery-Text-Data-Paintings.csv\nc:\\Users\\Felipe\\Documents\\GitHub\\sa-artea\\VVG-MLModel-Trainer\\Data\\Std\\VVG-Gallery-Text-Data-Paintings.dict\n"
     ]
    }
   ],
   "source": [
    "# variable reading\n",
    "# dataframe filepath\n",
    "fn_path = os.path.join(root_folder, dataf, stdf, work_fn)\n",
    "print(fn_path)\n",
    "\n",
    "# gensim dictionart filepath\n",
    "dict_path = os.path.join(root_folder, dataf, stdf, work_dict)\n",
    "print(dict_path)"
   ]
  },
  {
   "cell_type": "code",
   "execution_count": 6,
   "metadata": {},
   "outputs": [
    {
     "output_type": "stream",
     "name": "stdout",
     "text": [
      "Dictionary(2959 unique tokens: ['1', '10', '1885', '1891', '1925']...)\n"
     ]
    }
   ],
   "source": [
    "# reading words dictionary\n",
    "# loading gesim words dictionary\n",
    "vvg_dict = gensim.corpora.Dictionary()\n",
    "vvg_dict = vvg_dict.load(dict_path)\n",
    "print(vvg_dict)"
   ]
  },
  {
   "cell_type": "code",
   "execution_count": 7,
   "metadata": {},
   "outputs": [],
   "source": [
    "# rading training data\n",
    "# loading file\n",
    "source_df = pd.read_csv(\n",
    "                fn_path,\n",
    "                sep=\",\",\n",
    "                encoding=\"utf-8\",\n",
    "                engine=\"python\",\n",
    "            )"
   ]
  },
  {
   "cell_type": "code",
   "execution_count": 8,
   "metadata": {},
   "outputs": [
    {
     "output_type": "stream",
     "name": "stdout",
     "text": [
      "<class 'pandas.core.frame.DataFrame'>\nRangeIndex: 211 entries, 0 to 210\nData columns (total 18 columns):\n #   Column                 Non-Null Count  Dtype \n---  ------                 --------------  ----- \n 0   ID                     211 non-null    object\n 1   F-number               211 non-null    object\n 2   JH-number              211 non-null    object\n 3   creator-place          211 non-null    object\n 4   creator-date           211 non-null    object\n 5   details                211 non-null    object\n 6   Dimensions             211 non-null    object\n 7   MUS_TEXT               211 non-null    object\n 8   std_cat_creator-date   211 non-null    object\n 9   std_cat_creator-place  211 non-null    object\n 10  std_cat_Dimensions     211 non-null    object\n 11  std_cat_details        211 non-null    object\n 12  clr_tokens             211 non-null    object\n 13  lemmas                 211 non-null    object\n 14  bows_tokens            211 non-null    object\n 15  idxs_tokens            211 non-null    object\n 16  tfidf_tokens           211 non-null    object\n 17  std_dvec_tokens        211 non-null    object\ndtypes: object(18)\nmemory usage: 29.8+ KB\n"
     ]
    }
   ],
   "source": [
    "# checking everything is allrigth\n",
    "source_df.head(5)\n",
    "# chekcing the dataframe\n",
    "source_df.info()"
   ]
  },
  {
   "cell_type": "code",
   "execution_count": 9,
   "metadata": {},
   "outputs": [
    {
     "output_type": "stream",
     "name": "stdout",
     "text": [
      "original input/interested columns:\n",
      " ['ID', 'F-number', 'JH-number', 'creator-place', 'creator-date', 'details', 'Dimensions', 'MUS_TEXT', 'std_cat_creator-date', 'std_cat_creator-place', 'std_cat_Dimensions', 'std_cat_details', 'clr_tokens', 'lemmas', 'bows_tokens', 'idxs_tokens', 'tfidf_tokens', 'std_dvec_tokens']\n",
      "\n",
      "Interesting columns:\n",
      " ['ID', 'std_cat_creator-date', 'std_cat_creator-place', 'std_cat_Dimensions', 'std_cat_details', 'std_dvec_tokens']\n"
     ]
    }
   ],
   "source": [
    "# selecting data to train\n",
    "# want to keep the columns starting with STD_\n",
    "df_columns = list(source_df)\n",
    "print(\"original input/interested columns:\\n\",  df_columns)\n",
    "# create the columns Im interesting in\n",
    "keep_columns = [i for i in df_columns if re.search(keeper_regex, i)]\n",
    "\n",
    "print(\"\\nInteresting columns:\\n\", keep_columns)"
   ]
  },
  {
   "cell_type": "code",
   "execution_count": 10,
   "metadata": {
    "tags": []
   },
   "outputs": [
    {
     "output_type": "stream",
     "name": "stdout",
     "text": [
      "count values of ID := (211,)\ncount values of std_cat_creator-date := (88,)\ncount values of std_cat_creator-place := (10,)\ncount values of std_cat_Dimensions := (209,)\ncount values of std_cat_details := (11,)\ncount values of std_dvec_tokens := (211,)\n['std_cat_creator-date', 'std_cat_Dimensions']\n"
     ]
    }
   ],
   "source": [
    "# checking the number of max num on labels in the categories\n",
    "too_disperse = list()\n",
    "max_dis = 2\n",
    "tcount = 0\n",
    "\n",
    "while tcount < max_dis:\n",
    "    for label_col in keep_columns:\n",
    "        label_count = source_df[label_col].value_counts(normalize=False)\n",
    "\n",
    "        if tcount < label_count.shape[0] and (\"std_cat_\" in label_col):\n",
    "            tcount = label_count.shape[0]\n",
    "            too_disperse.append(label_col)\n",
    "\n",
    "        print(\"count values of\", label_col, \":=\", label_count.shape)#.__dict__)\n",
    "    tcount = tcount + 1\n",
    "\n",
    "print(too_disperse)"
   ]
  },
  {
   "cell_type": "code",
   "execution_count": 11,
   "metadata": {},
   "outputs": [
    {
     "output_type": "stream",
     "name": "stdout",
     "text": [
      "------ Interesting columns ------\n['ID', 'std_cat_creator-place', 'std_cat_details', 'std_dvec_tokens']\n"
     ]
    }
   ],
   "source": [
    "# creating the training dataframe\n",
    "for too in too_disperse:\n",
    "    keep_columns.remove(too)\n",
    "# keep_columns.remove(too_disperse[0])\n",
    "# keep_columns.remove(\"ID\")\n",
    "print(\"------ Interesting columns ------\")\n",
    "print(keep_columns)\n",
    "train_df = pd.DataFrame(source_df, columns=keep_columns)"
   ]
  },
  {
   "cell_type": "code",
   "execution_count": 12,
   "metadata": {},
   "outputs": [
    {
     "output_type": "stream",
     "name": "stdout",
     "text": [
      "Dense vector column in dataframe:  std_dvec_tokens\n"
     ]
    }
   ],
   "source": [
    "# getting the column with the relevant data to train\n",
    "dvector_col = [i for i in df_columns if re.search(u\"^std_dvec\", i)]\n",
    "dvector_col = dvector_col[0]\n",
    "print(\"Dense vector column in dataframe: \", str(dvector_col))"
   ]
  },
  {
   "cell_type": "code",
   "execution_count": 13,
   "metadata": {
    "tags": []
   },
   "outputs": [],
   "source": [
    "# fix column data type\n",
    "work_corpus = train_df[dvector_col]\n",
    "dvec_std_corpus = list()\n",
    "\n",
    "for dvector in work_corpus:\n",
    "    dvector = eval(dvector)\n",
    "    dvector = np.array(dvector)\n",
    "    dvec_std_corpus.append(dvector)\n",
    "\n",
    "dvec_std_corpus = np.array(dvec_std_corpus, dtype=\"object\")"
   ]
  },
  {
   "cell_type": "code",
   "execution_count": 14,
   "metadata": {},
   "outputs": [],
   "source": [
    "# changing type in dataframe\n",
    "train_df[dvector_col] = dvec_std_corpus"
   ]
  },
  {
   "cell_type": "code",
   "execution_count": 15,
   "metadata": {},
   "outputs": [
    {
     "output_type": "stream",
     "name": "stdout",
     "text": [
      "<class 'pandas.core.frame.DataFrame'>\nRangeIndex: 211 entries, 0 to 210\nData columns (total 4 columns):\n #   Column                 Non-Null Count  Dtype \n---  ------                 --------------  ----- \n 0   ID                     211 non-null    object\n 1   std_cat_creator-place  211 non-null    object\n 2   std_cat_details        211 non-null    object\n 3   std_dvec_tokens        211 non-null    object\ndtypes: object(4)\nmemory usage: 6.7+ KB\n"
     ]
    }
   ],
   "source": [
    "# checking the train dataframe\n",
    "train_df.head(5)\n",
    "train_df.info()"
   ]
  },
  {
   "cell_type": "code",
   "execution_count": 16,
   "metadata": {},
   "outputs": [
    {
     "output_type": "stream",
     "name": "stdout",
     "text": [
      "(211,)\n(211, 271)\n(211, 271)\n"
     ]
    }
   ],
   "source": [
    "# padding training data according to max length of text corpus\n",
    "pad_prefix = \"pad_\"\n",
    "recurrent_prefix = \"lstm_\"\n",
    "padded_corpus = None\n",
    "\n",
    "# getting the corpus dense vectors\n",
    "dvec_std_corpus = train_df[dvector_col]\n",
    "\n",
    "# converting list of list to array of array\n",
    "print(dvec_std_corpus.shape)\n",
    "\n",
    "# padding the representation\n",
    "padded_corpus = pad_sequences(dvec_std_corpus, dtype='object', padding=\"post\")\n",
    "print(padded_corpus.shape)\n",
    "\n",
    "# creating the new column and saving padded data\n",
    "padded_col = pad_prefix + dvector_col\n",
    "\n",
    "# print(padded_col)\n",
    "train_df[padded_col] = list(padded_corpus)\n",
    "print(padded_corpus.shape)"
   ]
  },
  {
   "cell_type": "code",
   "execution_count": 17,
   "metadata": {},
   "outputs": [],
   "source": [
    "# funct to concatenate all label columns into one for a single y in ML training, returns a list\n",
    "def concat_labels(row, cname):\n",
    "    ans = list()\n",
    "    for c in cname:\n",
    "\n",
    "        r = row[c]\n",
    "        r = eval(r)\n",
    "        ans = ans + r\n",
    "\n",
    "    return ans"
   ]
  },
  {
   "cell_type": "code",
   "execution_count": 18,
   "metadata": {},
   "outputs": [
    {
     "output_type": "stream",
     "name": "stdout",
     "text": [
      "['ID', 'std_cat_creator-place', 'std_cat_details', 'std_dvec_tokens']\nTrainable labels columns in dataframe:  ['std_cat_creator-place', 'std_cat_details']\n"
     ]
    }
   ],
   "source": [
    "# getting the columns with the relevant labels to predict\n",
    "print(keep_columns)\n",
    "labels_cols = [i for i in keep_columns if re.search(u\"^std_cat_\", i)]\n",
    "print(\"Trainable labels columns in dataframe: \", str(labels_cols))\n",
    "\n",
    "labels_data = train_df[labels_cols]\n",
    "labels_concat = list()\n",
    "\n",
    "# concatenating all category labels from dataframe\n",
    "for index, row in labels_data.iterrows():\n",
    "    # print(row.shape)\n",
    "    row = concat_labels(row, labels_cols)\n",
    "    # print(len(row))\n",
    "    labels_concat.append(row)"
   ]
  },
  {
   "cell_type": "code",
   "execution_count": 19,
   "metadata": {},
   "outputs": [
    {
     "output_type": "stream",
     "name": "stdout",
     "text": [
      "21 <class 'list'>\n"
     ]
    }
   ],
   "source": [
    "print(len(labels_concat[0]), type(labels_concat[0]))"
   ]
  },
  {
   "cell_type": "code",
   "execution_count": 20,
   "metadata": {},
   "outputs": [],
   "source": [
    "# updating dataframe\n",
    "tcat_label_col = \"std_cat_labels\"\n",
    "train_df[tcat_label_col] = labels_concat"
   ]
  },
  {
   "cell_type": "code",
   "execution_count": 21,
   "metadata": {},
   "outputs": [
    {
     "output_type": "stream",
     "name": "stdout",
     "text": [
      "<class 'pandas.core.frame.DataFrame'>\nRangeIndex: 211 entries, 0 to 210\nData columns (total 6 columns):\n #   Column                 Non-Null Count  Dtype \n---  ------                 --------------  ----- \n 0   ID                     211 non-null    object\n 1   std_cat_creator-place  211 non-null    object\n 2   std_cat_details        211 non-null    object\n 3   std_dvec_tokens        211 non-null    object\n 4   pad_std_dvec_tokens    211 non-null    object\n 5   std_cat_labels         211 non-null    object\ndtypes: object(6)\nmemory usage: 10.0+ KB\n"
     ]
    }
   ],
   "source": [
    "# checking the train dataframe\n",
    "train_df.head(5)\n",
    "train_df.info()"
   ]
  },
  {
   "cell_type": "code",
   "execution_count": 22,
   "metadata": {},
   "outputs": [
    {
     "output_type": "stream",
     "name": "stdout",
     "text": [
      "(211, 271)\n(211, 21)\n"
     ]
    }
   ],
   "source": [
    "# creating Train/Test sample\n",
    "# getting the X, y to train, as is autoencoder both are the same\n",
    "X = np.array([np.array(i, dtype=\"object\") for i in train_df[padded_col]], dtype=\"object\")\n",
    "y = np.array([np.array(j, dtype=\"object\") for j in train_df[tcat_label_col]], dtype=\"object\")\n",
    "\n",
    "# X = train_df[padded_col]\n",
    "# y = train_df[padded_col]\n",
    "\n",
    "print(X.shape)\n",
    "print(y.shape)"
   ]
  },
  {
   "cell_type": "code",
   "execution_count": 23,
   "metadata": {},
   "outputs": [
    {
     "output_type": "stream",
     "name": "stdout",
     "text": [
      "Balance X: (1408, 271)\nBalance y: (1408, 21)\n"
     ]
    }
   ],
   "source": [
    "# balancing classes to train\n",
    "lstm_lp = LabelPowerset()\n",
    "lstm_smote = RandomOverSampler(random_state = randseed)\n",
    "\n",
    "Xt = X\n",
    "yt = lstm_lp.transform(y.astype(\"int\"))\n",
    "X_b, y_b = lstm_smote.fit_resample(Xt, yt)\n",
    "y_b = lstm_lp.inverse_transform(y_b)\n",
    "y_b = y_b.toarray()\n",
    "\n",
    "print(\"Balance X:\", X_b.shape)\n",
    "print(\"Balance y:\", y_b.shape)"
   ]
  },
  {
   "cell_type": "code",
   "execution_count": 24,
   "metadata": {},
   "outputs": [
    {
     "output_type": "stream",
     "name": "stdout",
     "text": [
      "(1408, 271)\n(1408, 21)\n"
     ]
    }
   ],
   "source": [
    "# creating Train/Test sample\n",
    "# getting the X, y to train, as is autoencoder both are the same\n",
    "X = X_b#np.array([np.array(i, dtype=\"object\") for i in X_b], dtype=\"object\")\n",
    "y = y_b#np.array([np.array(j, dtype=\"object\") for j in y_b], dtype=\"object\")\n",
    "\n",
    "# X = train_df[padded_col]\n",
    "# y = train_df[padded_col]\n",
    "\n",
    "print(X.shape)\n",
    "print(y.shape)"
   ]
  },
  {
   "cell_type": "code",
   "execution_count": 25,
   "metadata": {},
   "outputs": [
    {
     "output_type": "stream",
     "name": "stdout",
     "text": [
      "<class 'numpy.ndarray'>\n<class 'float'>\n(1408, 271)\n"
     ]
    }
   ],
   "source": [
    "print(type(X[0]))\n",
    "print(type(X[0][0]))\n",
    "print(X.shape)"
   ]
  },
  {
   "cell_type": "code",
   "execution_count": 26,
   "metadata": {},
   "outputs": [
    {
     "output_type": "stream",
     "name": "stdout",
     "text": [
      "<class 'numpy.ndarray'>\n<class 'numpy.int64'>\n(1408, 21)\n"
     ]
    }
   ],
   "source": [
    "print(type(y[0]))\n",
    "print(type(y[0][0]))\n",
    "print(y.shape)"
   ]
  },
  {
   "cell_type": "code",
   "execution_count": 27,
   "metadata": {},
   "outputs": [
    {
     "output_type": "stream",
     "name": "stdout",
     "text": [
      "15 271 21\n"
     ]
    }
   ],
   "source": [
    "# timestep is the memory of what i read, this is the longest sentence I can remember in the short term\n",
    "# neet to look for the best option, in small the max is 15\n",
    "timesteps = 15\n",
    "\n",
    "# features is the max length in the corpus, after padding!!!!\n",
    "features = X.shape[1]\n",
    "labels = y.shape[1]\n",
    "print(timesteps, features, labels)"
   ]
  },
  {
   "cell_type": "code",
   "execution_count": 28,
   "metadata": {},
   "outputs": [],
   "source": [
    "# preparation for reshape lstm model\n",
    "Xt = temporalize(X, timesteps)\n",
    "# yt = temporalize(y, timesteps)\n",
    "yt = y"
   ]
  },
  {
   "cell_type": "code",
   "execution_count": 29,
   "metadata": {},
   "outputs": [
    {
     "output_type": "stream",
     "name": "stdout",
     "text": [
      "(1392, 15, 1, 271)\n(1408, 21)\n"
     ]
    }
   ],
   "source": [
    "print(Xt.shape)\n",
    "print(yt.shape)"
   ]
  },
  {
   "cell_type": "code",
   "execution_count": 30,
   "metadata": {},
   "outputs": [
    {
     "output_type": "stream",
     "name": "stdout",
     "text": [
      "(1392, 15, 271)\n(1392, 21)\n"
     ]
    }
   ],
   "source": [
    "# reshaping for LSTM model\n",
    "X_lstm = Xt.reshape((Xt.shape[0], timesteps, features))\n",
    "print(X_lstm.shape)\n",
    "# y_lstm = yt.reshape((yt.shape[0], timesteps, labels))\n",
    "y_lstm = yt[0:X_lstm.shape[0]]\n",
    "print(y_lstm.shape)"
   ]
  },
  {
   "cell_type": "code",
   "execution_count": 31,
   "metadata": {},
   "outputs": [
    {
     "output_type": "stream",
     "name": "stdout",
     "text": [
      "lstm_std_dvec_tokens\n"
     ]
    }
   ],
   "source": [
    "# creating the column for the reshape data according to LSTM\n",
    "lstm_col = recurrent_prefix + dvector_col\n",
    "print(lstm_col)"
   ]
  },
  {
   "cell_type": "code",
   "execution_count": 32,
   "metadata": {},
   "outputs": [
    {
     "output_type": "stream",
     "name": "stdout",
     "text": [
      "(1392, 15, 271)\n(1392, 21)\n"
     ]
    }
   ],
   "source": [
    "# data to numpy format\n",
    "X_lstm = np.asarray(X_lstm).astype(np.float)\n",
    "y_lstm = np.asarray(y_lstm).astype(np.float)\n",
    "print(X_lstm.shape)\n",
    "print(y_lstm.shape)"
   ]
  },
  {
   "cell_type": "code",
   "execution_count": 33,
   "metadata": {},
   "outputs": [],
   "source": [
    "# dividing according to train/test proportions\n",
    "X_train, X_test, y_train, y_test = train_test_split(X_lstm, y_lstm, train_size = trainf, test_size = testf, random_state = randseed)"
   ]
  },
  {
   "cell_type": "code",
   "execution_count": 34,
   "metadata": {},
   "outputs": [
    {
     "output_type": "stream",
     "name": "stdout",
     "text": [
      "training shape (X, y)\nX:  (1113, 15, 271)  y:  (1113, 21)\ntesting shape (X, y)\nX:  (279, 15, 271)  y:  (279, 21)\ndata types\n<class 'numpy.ndarray'> <class 'numpy.ndarray'> <class 'numpy.ndarray'> <class 'numpy.ndarray'>\n<class 'numpy.ndarray'> <class 'numpy.ndarray'> <class 'numpy.ndarray'> <class 'numpy.ndarray'>\n<class 'numpy.ndarray'> <class 'numpy.ndarray'> <class 'numpy.float64'> <class 'numpy.float64'>\n<class 'numpy.float64'> <class 'numpy.float64'> <class 'numpy.float64'> <class 'numpy.float64'>\n"
     ]
    }
   ],
   "source": [
    "# checking shaped\n",
    "print(\"training shape (X, y)\")\n",
    "print(\"X: \", X_train.shape, \" y: \", y_train.shape)\n",
    "\n",
    "print(\"testing shape (X, y)\")\n",
    "print(\"X: \", X_test.shape, \" y: \", y_test.shape)\n",
    "\n",
    "print(\"data types\")\n",
    "print(type(X_train), type(X_test), type(y_train), type(y_test))\n",
    "print(type(X_train[0]), type(X_test[0]), type(y_train[0]), type(y_test[0]))\n",
    "print(type(X_train[0][0]), type(X_test[0][0]), type(y_train[0][0]), type(y_test[0][0]))\n",
    "print(type(X_train[0][0][0]), type(X_test[0][0][0]), type(y_train[0][0]), type(y_test[0][0]))"
   ]
  },
  {
   "cell_type": "code",
   "execution_count": 35,
   "metadata": {},
   "outputs": [],
   "source": [
    "Xtf_train = tf.convert_to_tensor(X_train, dtype=\"float64\")\n",
    "Xtf_test = tf.convert_to_tensor(X_test, dtype=\"float64\")\n",
    "ytf_train = tf.convert_to_tensor(y_train, dtype=\"float64\")\n",
    "ytf_test = tf.convert_to_tensor(y_test, dtype=\"float64\")\n",
    "\n",
    "# y_tensor = tf.convert_to_tensor(y, dtype=tf.float23) "
   ]
  },
  {
   "cell_type": "code",
   "execution_count": 36,
   "metadata": {},
   "outputs": [
    {
     "output_type": "stream",
     "name": "stdout",
     "text": [
      "LSTM memory span: 15\nLSTM learning features: 271\nLSTM learning batch size: 11\nLSMT processing units: 500\nDense processing units: 1024\nOutput prediction units: 21\ntraining epochs: 300\n"
     ]
    }
   ],
   "source": [
    "# number of neurons or processing units in LSTM\n",
    "# the number is because of good practices for NLP\n",
    "# min 200 max 500, normaly 300 (related to the semantic number of themes)\n",
    "# 120 for now in this test\n",
    "lstm_units = 500\n",
    "\n",
    "# timestep is 1 because you read a word at a time\n",
    "memory = timesteps\n",
    "print(\"LSTM memory span:\", memory)\n",
    "\n",
    "# features is the max length in the corpus, after padding!!!!\n",
    "features = X_train.shape[2]\n",
    "print(\"LSTM learning features:\", features)\n",
    "\n",
    "# batch size\n",
    "bs = int(X_train.shape[0]*0.01)\n",
    "print(\"LSTM learning batch size:\", bs)\n",
    "\n",
    "print(\"LSMT processing units:\", lstm_units)\n",
    "\n",
    "# configuration to remember previous recurrent layer\n",
    "rs = True\n",
    "\n",
    "# neurons/processing units size in the dense layer (THIS SHOULD BE SOM!!!!)\n",
    "dn1 = 32*32\n",
    "print(\"Dense processing units:\", dn1)\n",
    "# dn2 = len(XB_set[0])*SECURITY_FACTOR\n",
    "\n",
    "# numero de neuronas de salida\n",
    "outn = y_train.shape[1]\n",
    "print(\"Output prediction units:\", outn)\n",
    "\n",
    "# axtivation functions\n",
    "inn = \"relu\"\n",
    "act = \"relu\"\n",
    "# act = \"softmax\"\n",
    "out = \"softmax\"\n",
    "# out = \"sigmoid\"\n",
    "# out = \"relu\"\n",
    "\n",
    "# loss percentage\n",
    "ldrop = 0.2\n",
    "\n",
    "# random seed\n",
    "randseed = 42\n",
    "\n",
    "# parameters to compile model\n",
    "# loss function\n",
    "ls = \"binary_crossentropy\"\n",
    "# ls = \"categorical_crossentropy\"\n",
    "# ls = \"sparse_categorical_crossentropy\"\n",
    "# ls = \"mean_squared_error\"\n",
    "# ls = \"mean_absolute_error\"\n",
    "# ls = \"cosine_similarity\"\n",
    "\n",
    "# optimization function\n",
    "# opti = \"adam\"\n",
    "# opti = SGD(lr=0.01, momentum=0.9, decay=0.01)\n",
    "# opti = \"adagrad\"\n",
    "opti = \"RMSprop\"\n",
    "\n",
    "# evaluation score\n",
    "met = [\"accuracy\"]\n",
    "\n",
    "# parameters to exeute training\n",
    "# verbose mode\n",
    "ver = 1\n",
    "# training epocha\n",
    "epo = 300\n",
    "print(\"training epochs:\", epo)"
   ]
  },
  {
   "cell_type": "code",
   "execution_count": 37,
   "metadata": {},
   "outputs": [],
   "source": [
    "# model layers\n",
    "# to avoid overfit you need to use dropout in someplaces\n",
    "# options:\n",
    "# 1) Mask -> Drop -> LSTM1 -> LSTM2 -> LSTM3 -> Drop -> Dense -> Drop -> LSTM3 -> LSTM2 -> LSTM1 -> Drop -> TimeDistDense\n",
    "# 1) Mask -> Drop -> LSTM1 -> LSTM2 -> LSTM3 -> Dense -> LSTM3 -> LSTM2 -> LSTM1 -> Drop -> TimeDistDense\n",
    "# 2) Mask -> Drop -> LSTM1 -> LSTM2 -> LSTM2 -> Dense -> LSTM2 -> LSTM2 -> LSTM1 -> Drop -> TimeDistDense\n",
    "# 3) Mask -> Drop -> LSTM1 -> LSTM2 -> Drop -> Dense -> Drop -> LSTM2 -> LSTM1 -> Drop -> TimeDistDense\n",
    "# 3) Mask -> Drop -> LSTM1 -> Drop -> Dense -> Drop -> STM1 -> Drop -> TimeDistDense\n",
    "# 5) Mask -> Drop -> LSTM1 -> Drop -> Dense -> Drop -> LSTM1 -> TimeDistDense\n",
    "lstm_layers = (\n",
    "\n",
    "    # input layer (padding and prep)\n",
    "    Masking(mask_value=0.0, input_shape=(memory, features), name = \"LayMask\"),\n",
    "\n",
    "    # intermediate recurrent encoder layer\n",
    "    LSTM(lstm_units, activation=inn, input_shape=(memory, features), return_sequences=rs, recurrent_dropout = ldrop, name = \"EnLSTM_1\"),\n",
    "    # SpatialDropout1D(ldrop, name = \"EnDrop_1\"),\n",
    "    Dropout(ldrop, name = \"EnDrop_1\"),\n",
    "\n",
    "    # intermediate recurrent encoder layer\n",
    "    LSTM(int(lstm_units/2), activation=inn, input_shape=(timesteps, features), return_sequences=rs, name = \"EnLSTM_2\"),\n",
    "    # Dropout(ldrop, name = \"EnDrop_2\"),\n",
    "\n",
    "    # intermediate recurrent encoder layer\n",
    "    LSTM(int(lstm_units/4), activation=inn, input_shape=(timesteps, features), return_sequences=False, name = \"EnLSTM_3\"),\n",
    "    Dropout(ldrop, name = \"EnDrop_3\"),    \n",
    "\n",
    "    # # intermediate recurrent encoder layer\n",
    "    # LSTM(int(lstm_units/8), activation=inn, input_shape=(timesteps, features), return_sequences=False, name = \"EnLSTM_4\"),\n",
    "    # SpatialDropout1D(ldrop, name = \"EnDrop_4\"),  \n",
    "    # from 2D to 1D\n",
    "    # Flatten(name = \"LayFlat1\"),\n",
    "    # Flatten(name = \"LayFlat2\"),\n",
    "\n",
    "    # mid dense encoding layer\n",
    "    # dense layer for abstraction (THIS SHOULD COULD SOM!!!!)    \n",
    "    Dense(dn1, activation=act, name = \"MidDense\"),\n",
    "    # Dropout(ldrop, name = \"DeDrop_1\"),\n",
    "    # Flatten(name = \"LyFlat1\"),\n",
    "    # Flatten(name = \"LyFlat2\"),\n",
    "\n",
    "    # intermediate dense classification layer\n",
    "    Dense(int(dn1/2), activation=act, name = \"ClsDense_1\"),\n",
    "    Dropout(ldrop, name = \"ClsDrop_1\"),\n",
    "\n",
    "    # intermediate dense classification layer\n",
    "    Dense(int(dn1/4), activation=act, name = \"ClsDense_2\"),\n",
    "    Dropout(ldrop, name = \"ClsDrop_2\"),\n",
    "\n",
    "    # intermediate dense classification layer\n",
    "    # Dense(int(dn1/8), activation=act, name = \"ClsDense_3\"),\n",
    "    # Dropout(ldrop, name = \"ClsDrop_3\"),\n",
    "\n",
    "    # output layer, dense time sequential layer.\n",
    "    Dense(outn, activation=out, name = \"LayClsOut\"),\n",
    "    # TimeDistributed(Dense(outn, activation=out), name = \"LayClsOut\"),\n",
    ")"
   ]
  },
  {
   "source": [
    "# defining model\n",
    "lstm_model = Sequential(lstm_layers)\n",
    "lstm_model.model_name = \"LSTM_Classifier\""
   ],
   "cell_type": "code",
   "metadata": {},
   "execution_count": 38,
   "outputs": []
  },
  {
   "cell_type": "code",
   "execution_count": 39,
   "metadata": {},
   "outputs": [
    {
     "output_type": "stream",
     "name": "stdout",
     "text": [
      "Model: \"sequential\"\n_________________________________________________________________\nLayer (type)                 Output Shape              Param #   \n=================================================================\nLayMask (Masking)            (None, 15, 271)           0         \n_________________________________________________________________\nEnLSTM_1 (LSTM)              (None, 15, 500)           1544000   \n_________________________________________________________________\nEnDrop_1 (Dropout)           (None, 15, 500)           0         \n_________________________________________________________________\nEnLSTM_2 (LSTM)              (None, 15, 250)           751000    \n_________________________________________________________________\nEnLSTM_3 (LSTM)              (None, 125)               188000    \n_________________________________________________________________\nEnDrop_3 (Dropout)           (None, 125)               0         \n_________________________________________________________________\nMidDense (Dense)             (None, 1024)              129024    \n_________________________________________________________________\nClsDense_1 (Dense)           (None, 512)               524800    \n_________________________________________________________________\nClsDrop_1 (Dropout)          (None, 512)               0         \n_________________________________________________________________\nClsDense_2 (Dense)           (None, 256)               131328    \n_________________________________________________________________\nClsDrop_2 (Dropout)          (None, 256)               0         \n_________________________________________________________________\nLayClsOut (Dense)            (None, 21)                5397      \n=================================================================\nTotal params: 3,273,549\nTrainable params: 3,273,549\nNon-trainable params: 0\n_________________________________________________________________\n"
     ]
    }
   ],
   "source": [
    "# compile model\n",
    "lstm_model.compile(loss = ls, optimizer = opti, metrics = met)\n",
    "lstm_model.summary()"
   ]
  },
  {
   "cell_type": "code",
   "execution_count": 40,
   "metadata": {},
   "outputs": [],
   "source": [
    "# early stopping condition BECAAUSE THIS ARE TESTS\n",
    "EarlyStopLSTM_Acc = EarlyStopping(monitor = \"val_accuracy\", min_delta = 0.01, patience = 20, verbose = 1, mode = \"max\", restore_best_weights = True)\n",
    "EarlyStopLSTM_Loss = EarlyStopping(monitor = \"val_loss\", min_delta = 0.001, patience = 20, verbose = 1, mode = \"max\", restore_best_weights = True)\n"
   ]
  },
  {
   "cell_type": "code",
   "execution_count": 41,
   "metadata": {},
   "outputs": [
    {
     "output_type": "stream",
     "name": "stdout",
     "text": [
      "Epoch 1/300\n",
      "102/102 [==============================] - 34s 261ms/step - loss: 4.5822 - accuracy: 0.1053 - val_loss: 0.2778 - val_accuracy: 0.2688\n",
      "Epoch 2/300\n",
      "102/102 [==============================] - 23s 229ms/step - loss: 0.2759 - accuracy: 0.1752 - val_loss: 0.2470 - val_accuracy: 0.3405\n",
      "Epoch 3/300\n",
      "102/102 [==============================] - 23s 230ms/step - loss: 0.1959 - accuracy: 0.2925 - val_loss: 0.1794 - val_accuracy: 0.4086\n",
      "Epoch 4/300\n",
      "102/102 [==============================] - 25s 249ms/step - loss: 0.1529 - accuracy: 0.3795 - val_loss: 0.1623 - val_accuracy: 0.3799\n",
      "Epoch 5/300\n",
      "102/102 [==============================] - 25s 241ms/step - loss: 0.1435 - accuracy: 0.4005 - val_loss: 0.1601 - val_accuracy: 0.4373\n",
      "Epoch 6/300\n",
      "102/102 [==============================] - 23s 226ms/step - loss: 0.1228 - accuracy: 0.4047 - val_loss: 0.1666 - val_accuracy: 0.3513\n",
      "Epoch 7/300\n",
      "102/102 [==============================] - 25s 250ms/step - loss: 0.1152 - accuracy: 0.3838 - val_loss: 0.2577 - val_accuracy: 0.4265\n",
      "Epoch 8/300\n",
      "102/102 [==============================] - 24s 240ms/step - loss: 0.1111 - accuracy: 0.3897 - val_loss: 0.2510 - val_accuracy: 0.3835\n",
      "Epoch 9/300\n",
      "102/102 [==============================] - 25s 243ms/step - loss: 0.1143 - accuracy: 0.3523 - val_loss: 0.1857 - val_accuracy: 0.3047\n",
      "Epoch 10/300\n",
      "102/102 [==============================] - 24s 233ms/step - loss: 0.1113 - accuracy: 0.3267 - val_loss: 0.1404 - val_accuracy: 0.3692\n",
      "Epoch 11/300\n",
      "102/102 [==============================] - 23s 222ms/step - loss: 0.1021 - accuracy: 0.3847 - val_loss: 0.3351 - val_accuracy: 0.3584\n",
      "Epoch 12/300\n",
      "102/102 [==============================] - 22s 212ms/step - loss: 0.0895 - accuracy: 0.3531 - val_loss: 0.3018 - val_accuracy: 0.2903\n",
      "Epoch 13/300\n",
      "102/102 [==============================] - 21s 204ms/step - loss: 0.1809 - accuracy: 0.3617 - val_loss: 0.1335 - val_accuracy: 0.4122\n",
      "Epoch 14/300\n",
      "102/102 [==============================] - 18s 176ms/step - loss: 0.1471 - accuracy: 0.3719 - val_loss: 0.3546 - val_accuracy: 0.4444\n",
      "Epoch 15/300\n",
      "102/102 [==============================] - 17s 168ms/step - loss: 0.1260 - accuracy: 0.3949 - val_loss: 0.1579 - val_accuracy: 0.3405\n",
      "Epoch 16/300\n",
      "102/102 [==============================] - 17s 170ms/step - loss: 0.1130 - accuracy: 0.3409 - val_loss: 0.2568 - val_accuracy: 0.3047\n",
      "Epoch 17/300\n",
      "102/102 [==============================] - 18s 178ms/step - loss: 0.0993 - accuracy: 0.3760 - val_loss: 0.3515 - val_accuracy: 0.2581\n",
      "Epoch 18/300\n",
      "102/102 [==============================] - 17s 167ms/step - loss: 0.1126 - accuracy: 0.3176 - val_loss: 0.3952 - val_accuracy: 0.3584\n",
      "Epoch 19/300\n",
      "102/102 [==============================] - 16s 159ms/step - loss: 0.1306 - accuracy: 0.3491 - val_loss: 0.2089 - val_accuracy: 0.3154\n",
      "Epoch 20/300\n",
      "102/102 [==============================] - 16s 155ms/step - loss: 0.2277 - accuracy: 0.3601 - val_loss: 0.7305 - val_accuracy: 0.4122\n",
      "Epoch 21/300\n",
      "102/102 [==============================] - 15s 149ms/step - loss: 0.1323 - accuracy: 0.3436 - val_loss: 0.4170 - val_accuracy: 0.2903\n",
      "Epoch 22/300\n",
      "102/102 [==============================] - 15s 145ms/step - loss: 0.0939 - accuracy: 0.3183 - val_loss: 0.4205 - val_accuracy: 0.4301\n",
      "Epoch 23/300\n",
      "102/102 [==============================] - 15s 143ms/step - loss: 0.0958 - accuracy: 0.3839 - val_loss: 1.6447 - val_accuracy: 0.3011\n",
      "Epoch 24/300\n",
      "102/102 [==============================] - 15s 144ms/step - loss: 3.8699 - accuracy: 0.3707 - val_loss: 0.5572 - val_accuracy: 0.2401\n",
      "Epoch 25/300\n",
      "102/102 [==============================] - 15s 143ms/step - loss: 0.1379 - accuracy: 0.3601 - val_loss: 0.3365 - val_accuracy: 0.3441\n",
      "Restoring model weights from the end of the best epoch.\n",
      "Epoch 00025: early stopping\n"
     ]
    }
   ],
   "source": [
    "# training model\n",
    "history_lstm = lstm_model.fit(\n",
    "    x = Xtf_train, \n",
    "    y = ytf_train,\n",
    "    epochs = epo, \n",
    "    verbose = ver, \n",
    "    workers = 6,\n",
    "    batch_size = bs, \n",
    "    callbacks = [EarlyStopLSTM_Acc],#, EarlyStopLSTM_Loss],\n",
    "    shuffle = False,\n",
    "    use_multiprocessing = True,\n",
    "    validation_data = (Xtf_test, ytf_test),\n",
    ")"
   ]
  },
  {
   "cell_type": "code",
   "execution_count": 42,
   "metadata": {},
   "outputs": [
    {
     "output_type": "stream",
     "name": "stdout",
     "text": [
      "9/9 [==============================] - 0s 49ms/step - loss: 0.1601 - accuracy: 0.4373\n"
     ]
    }
   ],
   "source": [
    "# evaluationg model\n",
    "lstm_eval = lstm_model.evaluate(x = Xtf_test, y = ytf_test)"
   ]
  },
  {
   "cell_type": "code",
   "execution_count": 43,
   "metadata": {},
   "outputs": [
    {
     "output_type": "stream",
     "name": "stdout",
     "text": [
      "avg loss:  0.16013213992118835\navg acc:  0.4372759759426117\n"
     ]
    }
   ],
   "source": [
    "# general evaluation \n",
    "print(\"avg loss: \", lstm_eval[0])\n",
    "print(\"avg acc: \", lstm_eval[1])"
   ]
  },
  {
   "cell_type": "code",
   "execution_count": 44,
   "metadata": {},
   "outputs": [
    {
     "output_type": "stream",
     "name": "stdout",
     "text": [
      "26/26 [==============================] - 1s 27ms/step\n"
     ]
    }
   ],
   "source": [
    "# testing model\n",
    "lstm_results = lstm_model.predict(X_test, batch_size = bs, verbose = 1)#, batch_size = bs)"
   ]
  },
  {
   "cell_type": "code",
   "execution_count": 45,
   "metadata": {},
   "outputs": [
    {
     "output_type": "execute_result",
     "data": {
      "text/plain": [
       "(21,)"
      ]
     },
     "metadata": {},
     "execution_count": 45
    }
   ],
   "source": [
    "lstm_results[0].shape"
   ]
  },
  {
   "cell_type": "code",
   "execution_count": 46,
   "metadata": {},
   "outputs": [
    {
     "output_type": "stream",
     "name": "stdout",
     "text": [
      "The trained  model is: c:\\Users\\Felipe\\Documents\\GitHub\\sa-artea\\VVG-MLModel-Trainer\\Data\\Models\\vvg_lstm_classifier\n",
      "INFO:tensorflow:Assets written to: c:\\Users\\Felipe\\Documents\\GitHub\\sa-artea\\VVG-MLModel-Trainer\\Data\\Models\\vvg_lstm_classifier\\assets\n"
     ]
    }
   ],
   "source": [
    "# saving model\n",
    "wdir = os.getcwd()\n",
    "models_folder = \"Models\"\n",
    "model_fname = \"vvg_lstm_classifier\"\n",
    "model_fpn = os.path.join(root_folder, dataf, models_folder, model_fname)\n",
    "print(\"The trained  model is:\", model_fpn)\n",
    "lstm_model.save(model_fpn)"
   ]
  },
  {
   "cell_type": "code",
   "execution_count": 47,
   "metadata": {},
   "outputs": [
    {
     "output_type": "stream",
     "name": "stdout",
     "text": [
      "(279, 21)\n"
     ]
    }
   ],
   "source": [
    "# cheking test shape\n",
    "print(lstm_results.shape)"
   ]
  },
  {
   "cell_type": "code",
   "execution_count": 48,
   "metadata": {
    "tags": []
   },
   "outputs": [
    {
     "output_type": "stream",
     "name": "stdout",
     "text": [
      "(21,) *************** (21,)\n"
     ]
    }
   ],
   "source": [
    "print(y_test[0].shape, \"***************\", lstm_results[0].shape)\n",
    "# for y, r in zip(y_test, lstm_results):\n",
    "#     print(len(y),  len(r))\n",
    "#     r = r.round(2)\n",
    "#     print(y, \"\\n\", list(r))\n",
    "    "
   ]
  },
  {
   "cell_type": "code",
   "execution_count": 49,
   "metadata": {},
   "outputs": [
    {
     "output_type": "stream",
     "name": "stderr",
     "text": [
      "<ipython-input-49-27ae52336ddd>:21: UserWarning: Matplotlib is currently using module://ipykernel.pylab.backend_inline, which is a non-GUI backend, so cannot show the figure.\n  fig.show()\n"
     ]
    },
    {
     "output_type": "display_data",
     "data": {
      "text/plain": "<Figure size 1152x576 with 2 Axes>",
      "image/svg+xml": "<?xml version=\"1.0\" encoding=\"utf-8\" standalone=\"no\"?>\r\n<!DOCTYPE svg PUBLIC \"-//W3C//DTD SVG 1.1//EN\"\r\n  \"http://www.w3.org/Graphics/SVG/1.1/DTD/svg11.dtd\">\r\n<svg height=\"543.75625pt\" version=\"1.1\" viewBox=\"0 0 1053.98125 543.75625\" width=\"1053.98125pt\" xmlns=\"http://www.w3.org/2000/svg\" xmlns:xlink=\"http://www.w3.org/1999/xlink\">\r\n <metadata>\r\n  <rdf:RDF xmlns:cc=\"http://creativecommons.org/ns#\" xmlns:dc=\"http://purl.org/dc/elements/1.1/\" xmlns:rdf=\"http://www.w3.org/1999/02/22-rdf-syntax-ns#\">\r\n   <cc:Work>\r\n    <dc:type rdf:resource=\"http://purl.org/dc/dcmitype/StillImage\"/>\r\n    <dc:date>2021-05-17T17:20:58.822373</dc:date>\r\n    <dc:format>image/svg+xml</dc:format>\r\n    <dc:creator>\r\n     <cc:Agent>\r\n      <dc:title>Matplotlib v3.4.1, https://matplotlib.org/</dc:title>\r\n     </cc:Agent>\r\n    </dc:creator>\r\n   </cc:Work>\r\n  </rdf:RDF>\r\n </metadata>\r\n <defs>\r\n  <style type=\"text/css\">*{stroke-linecap:butt;stroke-linejoin:round;}</style>\r\n </defs>\r\n <g id=\"figure_1\">\r\n  <g id=\"patch_1\">\r\n   <path d=\"M 0 543.75625 \r\nL 1053.98125 543.75625 \r\nL 1053.98125 0 \r\nL 0 0 \r\nz\r\n\" style=\"fill:none;\"/>\r\n  </g>\r\n  <g id=\"axes_1\">\r\n   <g id=\"patch_2\">\r\n    <path d=\"M 43.78125 506.2 \r\nL 449.599432 506.2 \r\nL 449.599432 71.32 \r\nL 43.78125 71.32 \r\nz\r\n\" style=\"fill:#ffffff;\"/>\r\n   </g>\r\n   <g id=\"matplotlib.axis_1\">\r\n    <g id=\"xtick_1\">\r\n     <g id=\"line2d_1\">\r\n      <path clip-path=\"url(#p0f991a8e33)\" d=\"M 62.227531 506.2 \r\nL 62.227531 71.32 \r\n\" style=\"fill:none;stroke:#b0b0b0;stroke-linecap:square;stroke-width:0.8;\"/>\r\n     </g>\r\n     <g id=\"line2d_2\">\r\n      <defs>\r\n       <path d=\"M 0 0 \r\nL 0 3.5 \r\n\" id=\"md0b58e2e3c\" style=\"stroke:#000000;stroke-width:0.8;\"/>\r\n      </defs>\r\n      <g>\r\n       <use style=\"stroke:#000000;stroke-width:0.8;\" x=\"62.227531\" xlink:href=\"#md0b58e2e3c\" y=\"506.2\"/>\r\n      </g>\r\n     </g>\r\n     <g id=\"text_1\">\r\n      <!-- 0 -->\r\n      <g transform=\"translate(59.046281 520.798438)scale(0.1 -0.1)\">\r\n       <defs>\r\n        <path d=\"M 2034 4250 \r\nQ 1547 4250 1301 3770 \r\nQ 1056 3291 1056 2328 \r\nQ 1056 1369 1301 889 \r\nQ 1547 409 2034 409 \r\nQ 2525 409 2770 889 \r\nQ 3016 1369 3016 2328 \r\nQ 3016 3291 2770 3770 \r\nQ 2525 4250 2034 4250 \r\nz\r\nM 2034 4750 \r\nQ 2819 4750 3233 4129 \r\nQ 3647 3509 3647 2328 \r\nQ 3647 1150 3233 529 \r\nQ 2819 -91 2034 -91 \r\nQ 1250 -91 836 529 \r\nQ 422 1150 422 2328 \r\nQ 422 3509 836 4129 \r\nQ 1250 4750 2034 4750 \r\nz\r\n\" id=\"DejaVuSans-30\" transform=\"scale(0.015625)\"/>\r\n       </defs>\r\n       <use xlink:href=\"#DejaVuSans-30\"/>\r\n      </g>\r\n     </g>\r\n    </g>\r\n    <g id=\"xtick_2\">\r\n     <g id=\"line2d_3\">\r\n      <path clip-path=\"url(#p0f991a8e33)\" d=\"M 139.087035 506.2 \r\nL 139.087035 71.32 \r\n\" style=\"fill:none;stroke:#b0b0b0;stroke-linecap:square;stroke-width:0.8;\"/>\r\n     </g>\r\n     <g id=\"line2d_4\">\r\n      <g>\r\n       <use style=\"stroke:#000000;stroke-width:0.8;\" x=\"139.087035\" xlink:href=\"#md0b58e2e3c\" y=\"506.2\"/>\r\n      </g>\r\n     </g>\r\n     <g id=\"text_2\">\r\n      <!-- 5 -->\r\n      <g transform=\"translate(135.905785 520.798438)scale(0.1 -0.1)\">\r\n       <defs>\r\n        <path d=\"M 691 4666 \r\nL 3169 4666 \r\nL 3169 4134 \r\nL 1269 4134 \r\nL 1269 2991 \r\nQ 1406 3038 1543 3061 \r\nQ 1681 3084 1819 3084 \r\nQ 2600 3084 3056 2656 \r\nQ 3513 2228 3513 1497 \r\nQ 3513 744 3044 326 \r\nQ 2575 -91 1722 -91 \r\nQ 1428 -91 1123 -41 \r\nQ 819 9 494 109 \r\nL 494 744 \r\nQ 775 591 1075 516 \r\nQ 1375 441 1709 441 \r\nQ 2250 441 2565 725 \r\nQ 2881 1009 2881 1497 \r\nQ 2881 1984 2565 2268 \r\nQ 2250 2553 1709 2553 \r\nQ 1456 2553 1204 2497 \r\nQ 953 2441 691 2322 \r\nL 691 4666 \r\nz\r\n\" id=\"DejaVuSans-35\" transform=\"scale(0.015625)\"/>\r\n       </defs>\r\n       <use xlink:href=\"#DejaVuSans-35\"/>\r\n      </g>\r\n     </g>\r\n    </g>\r\n    <g id=\"xtick_3\">\r\n     <g id=\"line2d_5\">\r\n      <path clip-path=\"url(#p0f991a8e33)\" d=\"M 215.946539 506.2 \r\nL 215.946539 71.32 \r\n\" style=\"fill:none;stroke:#b0b0b0;stroke-linecap:square;stroke-width:0.8;\"/>\r\n     </g>\r\n     <g id=\"line2d_6\">\r\n      <g>\r\n       <use style=\"stroke:#000000;stroke-width:0.8;\" x=\"215.946539\" xlink:href=\"#md0b58e2e3c\" y=\"506.2\"/>\r\n      </g>\r\n     </g>\r\n     <g id=\"text_3\">\r\n      <!-- 10 -->\r\n      <g transform=\"translate(209.584039 520.798438)scale(0.1 -0.1)\">\r\n       <defs>\r\n        <path d=\"M 794 531 \r\nL 1825 531 \r\nL 1825 4091 \r\nL 703 3866 \r\nL 703 4441 \r\nL 1819 4666 \r\nL 2450 4666 \r\nL 2450 531 \r\nL 3481 531 \r\nL 3481 0 \r\nL 794 0 \r\nL 794 531 \r\nz\r\n\" id=\"DejaVuSans-31\" transform=\"scale(0.015625)\"/>\r\n       </defs>\r\n       <use xlink:href=\"#DejaVuSans-31\"/>\r\n       <use x=\"63.623047\" xlink:href=\"#DejaVuSans-30\"/>\r\n      </g>\r\n     </g>\r\n    </g>\r\n    <g id=\"xtick_4\">\r\n     <g id=\"line2d_7\">\r\n      <path clip-path=\"url(#p0f991a8e33)\" d=\"M 292.806043 506.2 \r\nL 292.806043 71.32 \r\n\" style=\"fill:none;stroke:#b0b0b0;stroke-linecap:square;stroke-width:0.8;\"/>\r\n     </g>\r\n     <g id=\"line2d_8\">\r\n      <g>\r\n       <use style=\"stroke:#000000;stroke-width:0.8;\" x=\"292.806043\" xlink:href=\"#md0b58e2e3c\" y=\"506.2\"/>\r\n      </g>\r\n     </g>\r\n     <g id=\"text_4\">\r\n      <!-- 15 -->\r\n      <g transform=\"translate(286.443543 520.798438)scale(0.1 -0.1)\">\r\n       <use xlink:href=\"#DejaVuSans-31\"/>\r\n       <use x=\"63.623047\" xlink:href=\"#DejaVuSans-35\"/>\r\n      </g>\r\n     </g>\r\n    </g>\r\n    <g id=\"xtick_5\">\r\n     <g id=\"line2d_9\">\r\n      <path clip-path=\"url(#p0f991a8e33)\" d=\"M 369.665548 506.2 \r\nL 369.665548 71.32 \r\n\" style=\"fill:none;stroke:#b0b0b0;stroke-linecap:square;stroke-width:0.8;\"/>\r\n     </g>\r\n     <g id=\"line2d_10\">\r\n      <g>\r\n       <use style=\"stroke:#000000;stroke-width:0.8;\" x=\"369.665548\" xlink:href=\"#md0b58e2e3c\" y=\"506.2\"/>\r\n      </g>\r\n     </g>\r\n     <g id=\"text_5\">\r\n      <!-- 20 -->\r\n      <g transform=\"translate(363.303048 520.798438)scale(0.1 -0.1)\">\r\n       <defs>\r\n        <path d=\"M 1228 531 \r\nL 3431 531 \r\nL 3431 0 \r\nL 469 0 \r\nL 469 531 \r\nQ 828 903 1448 1529 \r\nQ 2069 2156 2228 2338 \r\nQ 2531 2678 2651 2914 \r\nQ 2772 3150 2772 3378 \r\nQ 2772 3750 2511 3984 \r\nQ 2250 4219 1831 4219 \r\nQ 1534 4219 1204 4116 \r\nQ 875 4013 500 3803 \r\nL 500 4441 \r\nQ 881 4594 1212 4672 \r\nQ 1544 4750 1819 4750 \r\nQ 2544 4750 2975 4387 \r\nQ 3406 4025 3406 3419 \r\nQ 3406 3131 3298 2873 \r\nQ 3191 2616 2906 2266 \r\nQ 2828 2175 2409 1742 \r\nQ 1991 1309 1228 531 \r\nz\r\n\" id=\"DejaVuSans-32\" transform=\"scale(0.015625)\"/>\r\n       </defs>\r\n       <use xlink:href=\"#DejaVuSans-32\"/>\r\n       <use x=\"63.623047\" xlink:href=\"#DejaVuSans-30\"/>\r\n      </g>\r\n     </g>\r\n    </g>\r\n    <g id=\"xtick_6\">\r\n     <g id=\"line2d_11\">\r\n      <path clip-path=\"url(#p0f991a8e33)\" d=\"M 446.525052 506.2 \r\nL 446.525052 71.32 \r\n\" style=\"fill:none;stroke:#b0b0b0;stroke-linecap:square;stroke-width:0.8;\"/>\r\n     </g>\r\n     <g id=\"line2d_12\">\r\n      <g>\r\n       <use style=\"stroke:#000000;stroke-width:0.8;\" x=\"446.525052\" xlink:href=\"#md0b58e2e3c\" y=\"506.2\"/>\r\n      </g>\r\n     </g>\r\n     <g id=\"text_6\">\r\n      <!-- 25 -->\r\n      <g transform=\"translate(440.162552 520.798438)scale(0.1 -0.1)\">\r\n       <use xlink:href=\"#DejaVuSans-32\"/>\r\n       <use x=\"63.623047\" xlink:href=\"#DejaVuSans-35\"/>\r\n      </g>\r\n     </g>\r\n    </g>\r\n    <g id=\"text_7\">\r\n     <!-- Epoch [cycle] -->\r\n     <g transform=\"translate(212.965341 534.476563)scale(0.1 -0.1)\">\r\n      <defs>\r\n       <path d=\"M 628 4666 \r\nL 3578 4666 \r\nL 3578 4134 \r\nL 1259 4134 \r\nL 1259 2753 \r\nL 3481 2753 \r\nL 3481 2222 \r\nL 1259 2222 \r\nL 1259 531 \r\nL 3634 531 \r\nL 3634 0 \r\nL 628 0 \r\nL 628 4666 \r\nz\r\n\" id=\"DejaVuSans-45\" transform=\"scale(0.015625)\"/>\r\n       <path d=\"M 1159 525 \r\nL 1159 -1331 \r\nL 581 -1331 \r\nL 581 3500 \r\nL 1159 3500 \r\nL 1159 2969 \r\nQ 1341 3281 1617 3432 \r\nQ 1894 3584 2278 3584 \r\nQ 2916 3584 3314 3078 \r\nQ 3713 2572 3713 1747 \r\nQ 3713 922 3314 415 \r\nQ 2916 -91 2278 -91 \r\nQ 1894 -91 1617 61 \r\nQ 1341 213 1159 525 \r\nz\r\nM 3116 1747 \r\nQ 3116 2381 2855 2742 \r\nQ 2594 3103 2138 3103 \r\nQ 1681 3103 1420 2742 \r\nQ 1159 2381 1159 1747 \r\nQ 1159 1113 1420 752 \r\nQ 1681 391 2138 391 \r\nQ 2594 391 2855 752 \r\nQ 3116 1113 3116 1747 \r\nz\r\n\" id=\"DejaVuSans-70\" transform=\"scale(0.015625)\"/>\r\n       <path d=\"M 1959 3097 \r\nQ 1497 3097 1228 2736 \r\nQ 959 2375 959 1747 \r\nQ 959 1119 1226 758 \r\nQ 1494 397 1959 397 \r\nQ 2419 397 2687 759 \r\nQ 2956 1122 2956 1747 \r\nQ 2956 2369 2687 2733 \r\nQ 2419 3097 1959 3097 \r\nz\r\nM 1959 3584 \r\nQ 2709 3584 3137 3096 \r\nQ 3566 2609 3566 1747 \r\nQ 3566 888 3137 398 \r\nQ 2709 -91 1959 -91 \r\nQ 1206 -91 779 398 \r\nQ 353 888 353 1747 \r\nQ 353 2609 779 3096 \r\nQ 1206 3584 1959 3584 \r\nz\r\n\" id=\"DejaVuSans-6f\" transform=\"scale(0.015625)\"/>\r\n       <path d=\"M 3122 3366 \r\nL 3122 2828 \r\nQ 2878 2963 2633 3030 \r\nQ 2388 3097 2138 3097 \r\nQ 1578 3097 1268 2742 \r\nQ 959 2388 959 1747 \r\nQ 959 1106 1268 751 \r\nQ 1578 397 2138 397 \r\nQ 2388 397 2633 464 \r\nQ 2878 531 3122 666 \r\nL 3122 134 \r\nQ 2881 22 2623 -34 \r\nQ 2366 -91 2075 -91 \r\nQ 1284 -91 818 406 \r\nQ 353 903 353 1747 \r\nQ 353 2603 823 3093 \r\nQ 1294 3584 2113 3584 \r\nQ 2378 3584 2631 3529 \r\nQ 2884 3475 3122 3366 \r\nz\r\n\" id=\"DejaVuSans-63\" transform=\"scale(0.015625)\"/>\r\n       <path d=\"M 3513 2113 \r\nL 3513 0 \r\nL 2938 0 \r\nL 2938 2094 \r\nQ 2938 2591 2744 2837 \r\nQ 2550 3084 2163 3084 \r\nQ 1697 3084 1428 2787 \r\nQ 1159 2491 1159 1978 \r\nL 1159 0 \r\nL 581 0 \r\nL 581 4863 \r\nL 1159 4863 \r\nL 1159 2956 \r\nQ 1366 3272 1645 3428 \r\nQ 1925 3584 2291 3584 \r\nQ 2894 3584 3203 3211 \r\nQ 3513 2838 3513 2113 \r\nz\r\n\" id=\"DejaVuSans-68\" transform=\"scale(0.015625)\"/>\r\n       <path id=\"DejaVuSans-20\" transform=\"scale(0.015625)\"/>\r\n       <path d=\"M 550 4863 \r\nL 1875 4863 \r\nL 1875 4416 \r\nL 1125 4416 \r\nL 1125 -397 \r\nL 1875 -397 \r\nL 1875 -844 \r\nL 550 -844 \r\nL 550 4863 \r\nz\r\n\" id=\"DejaVuSans-5b\" transform=\"scale(0.015625)\"/>\r\n       <path d=\"M 2059 -325 \r\nQ 1816 -950 1584 -1140 \r\nQ 1353 -1331 966 -1331 \r\nL 506 -1331 \r\nL 506 -850 \r\nL 844 -850 \r\nQ 1081 -850 1212 -737 \r\nQ 1344 -625 1503 -206 \r\nL 1606 56 \r\nL 191 3500 \r\nL 800 3500 \r\nL 1894 763 \r\nL 2988 3500 \r\nL 3597 3500 \r\nL 2059 -325 \r\nz\r\n\" id=\"DejaVuSans-79\" transform=\"scale(0.015625)\"/>\r\n       <path d=\"M 603 4863 \r\nL 1178 4863 \r\nL 1178 0 \r\nL 603 0 \r\nL 603 4863 \r\nz\r\n\" id=\"DejaVuSans-6c\" transform=\"scale(0.015625)\"/>\r\n       <path d=\"M 3597 1894 \r\nL 3597 1613 \r\nL 953 1613 \r\nQ 991 1019 1311 708 \r\nQ 1631 397 2203 397 \r\nQ 2534 397 2845 478 \r\nQ 3156 559 3463 722 \r\nL 3463 178 \r\nQ 3153 47 2828 -22 \r\nQ 2503 -91 2169 -91 \r\nQ 1331 -91 842 396 \r\nQ 353 884 353 1716 \r\nQ 353 2575 817 3079 \r\nQ 1281 3584 2069 3584 \r\nQ 2775 3584 3186 3129 \r\nQ 3597 2675 3597 1894 \r\nz\r\nM 3022 2063 \r\nQ 3016 2534 2758 2815 \r\nQ 2500 3097 2075 3097 \r\nQ 1594 3097 1305 2825 \r\nQ 1016 2553 972 2059 \r\nL 3022 2063 \r\nz\r\n\" id=\"DejaVuSans-65\" transform=\"scale(0.015625)\"/>\r\n       <path d=\"M 1947 4863 \r\nL 1947 -844 \r\nL 622 -844 \r\nL 622 -397 \r\nL 1369 -397 \r\nL 1369 4416 \r\nL 622 4416 \r\nL 622 4863 \r\nL 1947 4863 \r\nz\r\n\" id=\"DejaVuSans-5d\" transform=\"scale(0.015625)\"/>\r\n      </defs>\r\n      <use xlink:href=\"#DejaVuSans-45\"/>\r\n      <use x=\"63.183594\" xlink:href=\"#DejaVuSans-70\"/>\r\n      <use x=\"126.660156\" xlink:href=\"#DejaVuSans-6f\"/>\r\n      <use x=\"187.841797\" xlink:href=\"#DejaVuSans-63\"/>\r\n      <use x=\"242.822266\" xlink:href=\"#DejaVuSans-68\"/>\r\n      <use x=\"306.201172\" xlink:href=\"#DejaVuSans-20\"/>\r\n      <use x=\"337.988281\" xlink:href=\"#DejaVuSans-5b\"/>\r\n      <use x=\"377.001953\" xlink:href=\"#DejaVuSans-63\"/>\r\n      <use x=\"431.982422\" xlink:href=\"#DejaVuSans-79\"/>\r\n      <use x=\"491.162109\" xlink:href=\"#DejaVuSans-63\"/>\r\n      <use x=\"546.142578\" xlink:href=\"#DejaVuSans-6c\"/>\r\n      <use x=\"573.925781\" xlink:href=\"#DejaVuSans-65\"/>\r\n      <use x=\"635.449219\" xlink:href=\"#DejaVuSans-5d\"/>\r\n     </g>\r\n    </g>\r\n   </g>\r\n   <g id=\"matplotlib.axis_2\">\r\n    <g id=\"ytick_1\">\r\n     <g id=\"line2d_13\">\r\n      <path clip-path=\"url(#p0f991a8e33)\" d=\"M 43.78125 461.740925 \r\nL 449.599432 461.740925 \r\n\" style=\"fill:none;stroke:#b0b0b0;stroke-linecap:square;stroke-width:0.8;\"/>\r\n     </g>\r\n     <g id=\"line2d_14\">\r\n      <defs>\r\n       <path d=\"M 0 0 \r\nL -3.5 0 \r\n\" id=\"mef773e8b1f\" style=\"stroke:#000000;stroke-width:0.8;\"/>\r\n      </defs>\r\n      <g>\r\n       <use style=\"stroke:#000000;stroke-width:0.8;\" x=\"43.78125\" xlink:href=\"#mef773e8b1f\" y=\"461.740925\"/>\r\n      </g>\r\n     </g>\r\n     <g id=\"text_8\">\r\n      <!-- 0.2 -->\r\n      <g transform=\"translate(20.878125 465.540144)scale(0.1 -0.1)\">\r\n       <defs>\r\n        <path d=\"M 684 794 \r\nL 1344 794 \r\nL 1344 0 \r\nL 684 0 \r\nL 684 794 \r\nz\r\n\" id=\"DejaVuSans-2e\" transform=\"scale(0.015625)\"/>\r\n       </defs>\r\n       <use xlink:href=\"#DejaVuSans-30\"/>\r\n       <use x=\"63.623047\" xlink:href=\"#DejaVuSans-2e\"/>\r\n       <use x=\"95.410156\" xlink:href=\"#DejaVuSans-32\"/>\r\n      </g>\r\n     </g>\r\n    </g>\r\n    <g id=\"ytick_2\">\r\n     <g id=\"line2d_15\">\r\n      <path clip-path=\"url(#p0f991a8e33)\" d=\"M 43.78125 412.499386 \r\nL 449.599432 412.499386 \r\n\" style=\"fill:none;stroke:#b0b0b0;stroke-linecap:square;stroke-width:0.8;\"/>\r\n     </g>\r\n     <g id=\"line2d_16\">\r\n      <g>\r\n       <use style=\"stroke:#000000;stroke-width:0.8;\" x=\"43.78125\" xlink:href=\"#mef773e8b1f\" y=\"412.499386\"/>\r\n      </g>\r\n     </g>\r\n     <g id=\"text_9\">\r\n      <!-- 0.4 -->\r\n      <g transform=\"translate(20.878125 416.298605)scale(0.1 -0.1)\">\r\n       <defs>\r\n        <path d=\"M 2419 4116 \r\nL 825 1625 \r\nL 2419 1625 \r\nL 2419 4116 \r\nz\r\nM 2253 4666 \r\nL 3047 4666 \r\nL 3047 1625 \r\nL 3713 1625 \r\nL 3713 1100 \r\nL 3047 1100 \r\nL 3047 0 \r\nL 2419 0 \r\nL 2419 1100 \r\nL 313 1100 \r\nL 313 1709 \r\nL 2253 4666 \r\nz\r\n\" id=\"DejaVuSans-34\" transform=\"scale(0.015625)\"/>\r\n       </defs>\r\n       <use xlink:href=\"#DejaVuSans-30\"/>\r\n       <use x=\"63.623047\" xlink:href=\"#DejaVuSans-2e\"/>\r\n       <use x=\"95.410156\" xlink:href=\"#DejaVuSans-34\"/>\r\n      </g>\r\n     </g>\r\n    </g>\r\n    <g id=\"ytick_3\">\r\n     <g id=\"line2d_17\">\r\n      <path clip-path=\"url(#p0f991a8e33)\" d=\"M 43.78125 363.257847 \r\nL 449.599432 363.257847 \r\n\" style=\"fill:none;stroke:#b0b0b0;stroke-linecap:square;stroke-width:0.8;\"/>\r\n     </g>\r\n     <g id=\"line2d_18\">\r\n      <g>\r\n       <use style=\"stroke:#000000;stroke-width:0.8;\" x=\"43.78125\" xlink:href=\"#mef773e8b1f\" y=\"363.257847\"/>\r\n      </g>\r\n     </g>\r\n     <g id=\"text_10\">\r\n      <!-- 0.6 -->\r\n      <g transform=\"translate(20.878125 367.057066)scale(0.1 -0.1)\">\r\n       <defs>\r\n        <path d=\"M 2113 2584 \r\nQ 1688 2584 1439 2293 \r\nQ 1191 2003 1191 1497 \r\nQ 1191 994 1439 701 \r\nQ 1688 409 2113 409 \r\nQ 2538 409 2786 701 \r\nQ 3034 994 3034 1497 \r\nQ 3034 2003 2786 2293 \r\nQ 2538 2584 2113 2584 \r\nz\r\nM 3366 4563 \r\nL 3366 3988 \r\nQ 3128 4100 2886 4159 \r\nQ 2644 4219 2406 4219 \r\nQ 1781 4219 1451 3797 \r\nQ 1122 3375 1075 2522 \r\nQ 1259 2794 1537 2939 \r\nQ 1816 3084 2150 3084 \r\nQ 2853 3084 3261 2657 \r\nQ 3669 2231 3669 1497 \r\nQ 3669 778 3244 343 \r\nQ 2819 -91 2113 -91 \r\nQ 1303 -91 875 529 \r\nQ 447 1150 447 2328 \r\nQ 447 3434 972 4092 \r\nQ 1497 4750 2381 4750 \r\nQ 2619 4750 2861 4703 \r\nQ 3103 4656 3366 4563 \r\nz\r\n\" id=\"DejaVuSans-36\" transform=\"scale(0.015625)\"/>\r\n       </defs>\r\n       <use xlink:href=\"#DejaVuSans-30\"/>\r\n       <use x=\"63.623047\" xlink:href=\"#DejaVuSans-2e\"/>\r\n       <use x=\"95.410156\" xlink:href=\"#DejaVuSans-36\"/>\r\n      </g>\r\n     </g>\r\n    </g>\r\n    <g id=\"ytick_4\">\r\n     <g id=\"line2d_19\">\r\n      <path clip-path=\"url(#p0f991a8e33)\" d=\"M 43.78125 314.016308 \r\nL 449.599432 314.016308 \r\n\" style=\"fill:none;stroke:#b0b0b0;stroke-linecap:square;stroke-width:0.8;\"/>\r\n     </g>\r\n     <g id=\"line2d_20\">\r\n      <g>\r\n       <use style=\"stroke:#000000;stroke-width:0.8;\" x=\"43.78125\" xlink:href=\"#mef773e8b1f\" y=\"314.016308\"/>\r\n      </g>\r\n     </g>\r\n     <g id=\"text_11\">\r\n      <!-- 0.8 -->\r\n      <g transform=\"translate(20.878125 317.815527)scale(0.1 -0.1)\">\r\n       <defs>\r\n        <path d=\"M 2034 2216 \r\nQ 1584 2216 1326 1975 \r\nQ 1069 1734 1069 1313 \r\nQ 1069 891 1326 650 \r\nQ 1584 409 2034 409 \r\nQ 2484 409 2743 651 \r\nQ 3003 894 3003 1313 \r\nQ 3003 1734 2745 1975 \r\nQ 2488 2216 2034 2216 \r\nz\r\nM 1403 2484 \r\nQ 997 2584 770 2862 \r\nQ 544 3141 544 3541 \r\nQ 544 4100 942 4425 \r\nQ 1341 4750 2034 4750 \r\nQ 2731 4750 3128 4425 \r\nQ 3525 4100 3525 3541 \r\nQ 3525 3141 3298 2862 \r\nQ 3072 2584 2669 2484 \r\nQ 3125 2378 3379 2068 \r\nQ 3634 1759 3634 1313 \r\nQ 3634 634 3220 271 \r\nQ 2806 -91 2034 -91 \r\nQ 1263 -91 848 271 \r\nQ 434 634 434 1313 \r\nQ 434 1759 690 2068 \r\nQ 947 2378 1403 2484 \r\nz\r\nM 1172 3481 \r\nQ 1172 3119 1398 2916 \r\nQ 1625 2713 2034 2713 \r\nQ 2441 2713 2670 2916 \r\nQ 2900 3119 2900 3481 \r\nQ 2900 3844 2670 4047 \r\nQ 2441 4250 2034 4250 \r\nQ 1625 4250 1398 4047 \r\nQ 1172 3844 1172 3481 \r\nz\r\n\" id=\"DejaVuSans-38\" transform=\"scale(0.015625)\"/>\r\n       </defs>\r\n       <use xlink:href=\"#DejaVuSans-30\"/>\r\n       <use x=\"63.623047\" xlink:href=\"#DejaVuSans-2e\"/>\r\n       <use x=\"95.410156\" xlink:href=\"#DejaVuSans-38\"/>\r\n      </g>\r\n     </g>\r\n    </g>\r\n    <g id=\"ytick_5\">\r\n     <g id=\"line2d_21\">\r\n      <path clip-path=\"url(#p0f991a8e33)\" d=\"M 43.78125 264.774769 \r\nL 449.599432 264.774769 \r\n\" style=\"fill:none;stroke:#b0b0b0;stroke-linecap:square;stroke-width:0.8;\"/>\r\n     </g>\r\n     <g id=\"line2d_22\">\r\n      <g>\r\n       <use style=\"stroke:#000000;stroke-width:0.8;\" x=\"43.78125\" xlink:href=\"#mef773e8b1f\" y=\"264.774769\"/>\r\n      </g>\r\n     </g>\r\n     <g id=\"text_12\">\r\n      <!-- 1.0 -->\r\n      <g transform=\"translate(20.878125 268.573988)scale(0.1 -0.1)\">\r\n       <use xlink:href=\"#DejaVuSans-31\"/>\r\n       <use x=\"63.623047\" xlink:href=\"#DejaVuSans-2e\"/>\r\n       <use x=\"95.410156\" xlink:href=\"#DejaVuSans-30\"/>\r\n      </g>\r\n     </g>\r\n    </g>\r\n    <g id=\"ytick_6\">\r\n     <g id=\"line2d_23\">\r\n      <path clip-path=\"url(#p0f991a8e33)\" d=\"M 43.78125 215.53323 \r\nL 449.599432 215.53323 \r\n\" style=\"fill:none;stroke:#b0b0b0;stroke-linecap:square;stroke-width:0.8;\"/>\r\n     </g>\r\n     <g id=\"line2d_24\">\r\n      <g>\r\n       <use style=\"stroke:#000000;stroke-width:0.8;\" x=\"43.78125\" xlink:href=\"#mef773e8b1f\" y=\"215.53323\"/>\r\n      </g>\r\n     </g>\r\n     <g id=\"text_13\">\r\n      <!-- 1.2 -->\r\n      <g transform=\"translate(20.878125 219.332449)scale(0.1 -0.1)\">\r\n       <use xlink:href=\"#DejaVuSans-31\"/>\r\n       <use x=\"63.623047\" xlink:href=\"#DejaVuSans-2e\"/>\r\n       <use x=\"95.410156\" xlink:href=\"#DejaVuSans-32\"/>\r\n      </g>\r\n     </g>\r\n    </g>\r\n    <g id=\"ytick_7\">\r\n     <g id=\"line2d_25\">\r\n      <path clip-path=\"url(#p0f991a8e33)\" d=\"M 43.78125 166.291691 \r\nL 449.599432 166.291691 \r\n\" style=\"fill:none;stroke:#b0b0b0;stroke-linecap:square;stroke-width:0.8;\"/>\r\n     </g>\r\n     <g id=\"line2d_26\">\r\n      <g>\r\n       <use style=\"stroke:#000000;stroke-width:0.8;\" x=\"43.78125\" xlink:href=\"#mef773e8b1f\" y=\"166.291691\"/>\r\n      </g>\r\n     </g>\r\n     <g id=\"text_14\">\r\n      <!-- 1.4 -->\r\n      <g transform=\"translate(20.878125 170.09091)scale(0.1 -0.1)\">\r\n       <use xlink:href=\"#DejaVuSans-31\"/>\r\n       <use x=\"63.623047\" xlink:href=\"#DejaVuSans-2e\"/>\r\n       <use x=\"95.410156\" xlink:href=\"#DejaVuSans-34\"/>\r\n      </g>\r\n     </g>\r\n    </g>\r\n    <g id=\"ytick_8\">\r\n     <g id=\"line2d_27\">\r\n      <path clip-path=\"url(#p0f991a8e33)\" d=\"M 43.78125 117.050153 \r\nL 449.599432 117.050153 \r\n\" style=\"fill:none;stroke:#b0b0b0;stroke-linecap:square;stroke-width:0.8;\"/>\r\n     </g>\r\n     <g id=\"line2d_28\">\r\n      <g>\r\n       <use style=\"stroke:#000000;stroke-width:0.8;\" x=\"43.78125\" xlink:href=\"#mef773e8b1f\" y=\"117.050153\"/>\r\n      </g>\r\n     </g>\r\n     <g id=\"text_15\">\r\n      <!-- 1.6 -->\r\n      <g transform=\"translate(20.878125 120.849371)scale(0.1 -0.1)\">\r\n       <use xlink:href=\"#DejaVuSans-31\"/>\r\n       <use x=\"63.623047\" xlink:href=\"#DejaVuSans-2e\"/>\r\n       <use x=\"95.410156\" xlink:href=\"#DejaVuSans-36\"/>\r\n      </g>\r\n     </g>\r\n    </g>\r\n    <g id=\"text_16\">\r\n     <!-- loss [%] -->\r\n     <g transform=\"translate(14.798438 308.659219)rotate(-90)scale(0.1 -0.1)\">\r\n      <defs>\r\n       <path d=\"M 2834 3397 \r\nL 2834 2853 \r\nQ 2591 2978 2328 3040 \r\nQ 2066 3103 1784 3103 \r\nQ 1356 3103 1142 2972 \r\nQ 928 2841 928 2578 \r\nQ 928 2378 1081 2264 \r\nQ 1234 2150 1697 2047 \r\nL 1894 2003 \r\nQ 2506 1872 2764 1633 \r\nQ 3022 1394 3022 966 \r\nQ 3022 478 2636 193 \r\nQ 2250 -91 1575 -91 \r\nQ 1294 -91 989 -36 \r\nQ 684 19 347 128 \r\nL 347 722 \r\nQ 666 556 975 473 \r\nQ 1284 391 1588 391 \r\nQ 1994 391 2212 530 \r\nQ 2431 669 2431 922 \r\nQ 2431 1156 2273 1281 \r\nQ 2116 1406 1581 1522 \r\nL 1381 1569 \r\nQ 847 1681 609 1914 \r\nQ 372 2147 372 2553 \r\nQ 372 3047 722 3315 \r\nQ 1072 3584 1716 3584 \r\nQ 2034 3584 2315 3537 \r\nQ 2597 3491 2834 3397 \r\nz\r\n\" id=\"DejaVuSans-73\" transform=\"scale(0.015625)\"/>\r\n       <path d=\"M 4653 2053 \r\nQ 4381 2053 4226 1822 \r\nQ 4072 1591 4072 1178 \r\nQ 4072 772 4226 539 \r\nQ 4381 306 4653 306 \r\nQ 4919 306 5073 539 \r\nQ 5228 772 5228 1178 \r\nQ 5228 1588 5073 1820 \r\nQ 4919 2053 4653 2053 \r\nz\r\nM 4653 2450 \r\nQ 5147 2450 5437 2106 \r\nQ 5728 1763 5728 1178 \r\nQ 5728 594 5436 251 \r\nQ 5144 -91 4653 -91 \r\nQ 4153 -91 3862 251 \r\nQ 3572 594 3572 1178 \r\nQ 3572 1766 3864 2108 \r\nQ 4156 2450 4653 2450 \r\nz\r\nM 1428 4353 \r\nQ 1159 4353 1004 4120 \r\nQ 850 3888 850 3481 \r\nQ 850 3069 1003 2837 \r\nQ 1156 2606 1428 2606 \r\nQ 1700 2606 1854 2837 \r\nQ 2009 3069 2009 3481 \r\nQ 2009 3884 1853 4118 \r\nQ 1697 4353 1428 4353 \r\nz\r\nM 4250 4750 \r\nL 4750 4750 \r\nL 1831 -91 \r\nL 1331 -91 \r\nL 4250 4750 \r\nz\r\nM 1428 4750 \r\nQ 1922 4750 2215 4408 \r\nQ 2509 4066 2509 3481 \r\nQ 2509 2891 2217 2550 \r\nQ 1925 2209 1428 2209 \r\nQ 931 2209 642 2551 \r\nQ 353 2894 353 3481 \r\nQ 353 4063 643 4406 \r\nQ 934 4750 1428 4750 \r\nz\r\n\" id=\"DejaVuSans-25\" transform=\"scale(0.015625)\"/>\r\n      </defs>\r\n      <use xlink:href=\"#DejaVuSans-6c\"/>\r\n      <use x=\"27.783203\" xlink:href=\"#DejaVuSans-6f\"/>\r\n      <use x=\"88.964844\" xlink:href=\"#DejaVuSans-73\"/>\r\n      <use x=\"141.064453\" xlink:href=\"#DejaVuSans-73\"/>\r\n      <use x=\"193.164062\" xlink:href=\"#DejaVuSans-20\"/>\r\n      <use x=\"224.951172\" xlink:href=\"#DejaVuSans-5b\"/>\r\n      <use x=\"263.964844\" xlink:href=\"#DejaVuSans-25\"/>\r\n      <use x=\"358.984375\" xlink:href=\"#DejaVuSans-5d\"/>\r\n     </g>\r\n    </g>\r\n   </g>\r\n   <g id=\"line2d_29\">\r\n    <path clip-path=\"url(#p0f991a8e33)\" d=\"M 62.227531 148.660213 \r\nL 77.599432 448.204228 \r\nL 92.971333 465.108186 \r\nL 108.343233 473.242999 \r\nL 123.715134 469.880961 \r\nL 139.087035 478.022639 \r\nL 154.458936 480.071906 \r\nL 169.830837 472.948667 \r\nL 185.202738 484.146714 \r\nL 200.574638 475.37816 \r\nL 215.946539 482.948541 \r\nL 231.31844 486.432727 \r\nL 246.690341 475.430748 \r\nL 262.062242 475.693337 \r\nL 277.434143 398.640684 \r\nL 292.806043 467.521451 \r\nL 308.177944 482.261513 \r\nL 323.549845 480.677966 \r\nL 338.921746 474.451114 \r\nL 354.293647 456.308902 \r\nL 369.665548 461.884132 \r\nL 385.037448 480.856085 \r\nL 400.409349 485.508306 \r\nL 415.78125 91.087273 \r\nL 431.153151 474.554804 \r\n\" style=\"fill:none;stroke:#008000;stroke-linecap:square;stroke-width:1.5;\"/>\r\n   </g>\r\n   <g id=\"line2d_30\">\r\n    <path clip-path=\"url(#p0f991a8e33)\" d=\"M 62.227531 442.575849 \r\nL 77.599432 450.169224 \r\nL 92.971333 466.813391 \r\nL 108.343233 471.031201 \r\nL 123.715134 471.556703 \r\nL 139.087035 469.954968 \r\nL 154.458936 447.534903 \r\nL 169.830837 449.192429 \r\nL 185.202738 465.263636 \r\nL 200.574638 476.420618 \r\nL 215.946539 428.471641 \r\nL 231.31844 436.676722 \r\nL 246.690341 478.109211 \r\nL 262.062242 423.678086 \r\nL 277.434143 472.10764 \r\nL 292.806043 447.767548 \r\nL 308.177944 424.441119 \r\nL 323.549845 413.676491 \r\nL 338.921746 459.538742 \r\nL 354.293647 331.116668 \r\nL 369.665548 408.302424 \r\nL 385.037448 407.460381 \r\nL 400.409349 106.037054 \r\nL 415.78125 373.802518 \r\nL 431.153151 428.131684 \r\n\" style=\"fill:none;stroke:#4169e1;stroke-linecap:square;stroke-width:1.5;\"/>\r\n   </g>\r\n   <g id=\"patch_3\">\r\n    <path d=\"M 43.78125 506.2 \r\nL 43.78125 71.32 \r\n\" style=\"fill:none;stroke:#000000;stroke-linecap:square;stroke-linejoin:miter;stroke-width:0.8;\"/>\r\n   </g>\r\n   <g id=\"patch_4\">\r\n    <path d=\"M 449.599432 506.2 \r\nL 449.599432 71.32 \r\n\" style=\"fill:none;stroke:#000000;stroke-linecap:square;stroke-linejoin:miter;stroke-width:0.8;\"/>\r\n   </g>\r\n   <g id=\"patch_5\">\r\n    <path d=\"M 43.78125 506.2 \r\nL 449.599432 506.2 \r\n\" style=\"fill:none;stroke:#000000;stroke-linecap:square;stroke-linejoin:miter;stroke-width:0.8;\"/>\r\n   </g>\r\n   <g id=\"patch_6\">\r\n    <path d=\"M 43.78125 71.32 \r\nL 449.599432 71.32 \r\n\" style=\"fill:none;stroke:#000000;stroke-linecap:square;stroke-linejoin:miter;stroke-width:0.8;\"/>\r\n   </g>\r\n   <g id=\"text_17\">\r\n    <!-- Loss -->\r\n    <g transform=\"translate(233.529716 65.32)scale(0.12 -0.12)\">\r\n     <defs>\r\n      <path d=\"M 628 4666 \r\nL 1259 4666 \r\nL 1259 531 \r\nL 3531 531 \r\nL 3531 0 \r\nL 628 0 \r\nL 628 4666 \r\nz\r\n\" id=\"DejaVuSans-4c\" transform=\"scale(0.015625)\"/>\r\n     </defs>\r\n     <use xlink:href=\"#DejaVuSans-4c\"/>\r\n     <use x=\"53.962891\" xlink:href=\"#DejaVuSans-6f\"/>\r\n     <use x=\"115.144531\" xlink:href=\"#DejaVuSans-73\"/>\r\n     <use x=\"167.244141\" xlink:href=\"#DejaVuSans-73\"/>\r\n    </g>\r\n   </g>\r\n  </g>\r\n  <g id=\"axes_2\">\r\n   <g id=\"patch_7\">\r\n    <path d=\"M 530.763068 506.2 \r\nL 936.58125 506.2 \r\nL 936.58125 71.32 \r\nL 530.763068 71.32 \r\nz\r\n\" style=\"fill:#ffffff;\"/>\r\n   </g>\r\n   <g id=\"matplotlib.axis_3\">\r\n    <g id=\"xtick_7\">\r\n     <g id=\"line2d_31\">\r\n      <path clip-path=\"url(#p5d1f806b47)\" d=\"M 549.209349 506.2 \r\nL 549.209349 71.32 \r\n\" style=\"fill:none;stroke:#b0b0b0;stroke-linecap:square;stroke-width:0.8;\"/>\r\n     </g>\r\n     <g id=\"line2d_32\">\r\n      <g>\r\n       <use style=\"stroke:#000000;stroke-width:0.8;\" x=\"549.209349\" xlink:href=\"#md0b58e2e3c\" y=\"506.2\"/>\r\n      </g>\r\n     </g>\r\n     <g id=\"text_18\">\r\n      <!-- 0 -->\r\n      <g transform=\"translate(546.028099 520.798438)scale(0.1 -0.1)\">\r\n       <use xlink:href=\"#DejaVuSans-30\"/>\r\n      </g>\r\n     </g>\r\n    </g>\r\n    <g id=\"xtick_8\">\r\n     <g id=\"line2d_33\">\r\n      <path clip-path=\"url(#p5d1f806b47)\" d=\"M 626.068853 506.2 \r\nL 626.068853 71.32 \r\n\" style=\"fill:none;stroke:#b0b0b0;stroke-linecap:square;stroke-width:0.8;\"/>\r\n     </g>\r\n     <g id=\"line2d_34\">\r\n      <g>\r\n       <use style=\"stroke:#000000;stroke-width:0.8;\" x=\"626.068853\" xlink:href=\"#md0b58e2e3c\" y=\"506.2\"/>\r\n      </g>\r\n     </g>\r\n     <g id=\"text_19\">\r\n      <!-- 5 -->\r\n      <g transform=\"translate(622.887603 520.798438)scale(0.1 -0.1)\">\r\n       <use xlink:href=\"#DejaVuSans-35\"/>\r\n      </g>\r\n     </g>\r\n    </g>\r\n    <g id=\"xtick_9\">\r\n     <g id=\"line2d_35\">\r\n      <path clip-path=\"url(#p5d1f806b47)\" d=\"M 702.928357 506.2 \r\nL 702.928357 71.32 \r\n\" style=\"fill:none;stroke:#b0b0b0;stroke-linecap:square;stroke-width:0.8;\"/>\r\n     </g>\r\n     <g id=\"line2d_36\">\r\n      <g>\r\n       <use style=\"stroke:#000000;stroke-width:0.8;\" x=\"702.928357\" xlink:href=\"#md0b58e2e3c\" y=\"506.2\"/>\r\n      </g>\r\n     </g>\r\n     <g id=\"text_20\">\r\n      <!-- 10 -->\r\n      <g transform=\"translate(696.565857 520.798438)scale(0.1 -0.1)\">\r\n       <use xlink:href=\"#DejaVuSans-31\"/>\r\n       <use x=\"63.623047\" xlink:href=\"#DejaVuSans-30\"/>\r\n      </g>\r\n     </g>\r\n    </g>\r\n    <g id=\"xtick_10\">\r\n     <g id=\"line2d_37\">\r\n      <path clip-path=\"url(#p5d1f806b47)\" d=\"M 779.787862 506.2 \r\nL 779.787862 71.32 \r\n\" style=\"fill:none;stroke:#b0b0b0;stroke-linecap:square;stroke-width:0.8;\"/>\r\n     </g>\r\n     <g id=\"line2d_38\">\r\n      <g>\r\n       <use style=\"stroke:#000000;stroke-width:0.8;\" x=\"779.787862\" xlink:href=\"#md0b58e2e3c\" y=\"506.2\"/>\r\n      </g>\r\n     </g>\r\n     <g id=\"text_21\">\r\n      <!-- 15 -->\r\n      <g transform=\"translate(773.425362 520.798438)scale(0.1 -0.1)\">\r\n       <use xlink:href=\"#DejaVuSans-31\"/>\r\n       <use x=\"63.623047\" xlink:href=\"#DejaVuSans-35\"/>\r\n      </g>\r\n     </g>\r\n    </g>\r\n    <g id=\"xtick_11\">\r\n     <g id=\"line2d_39\">\r\n      <path clip-path=\"url(#p5d1f806b47)\" d=\"M 856.647366 506.2 \r\nL 856.647366 71.32 \r\n\" style=\"fill:none;stroke:#b0b0b0;stroke-linecap:square;stroke-width:0.8;\"/>\r\n     </g>\r\n     <g id=\"line2d_40\">\r\n      <g>\r\n       <use style=\"stroke:#000000;stroke-width:0.8;\" x=\"856.647366\" xlink:href=\"#md0b58e2e3c\" y=\"506.2\"/>\r\n      </g>\r\n     </g>\r\n     <g id=\"text_22\">\r\n      <!-- 20 -->\r\n      <g transform=\"translate(850.284866 520.798438)scale(0.1 -0.1)\">\r\n       <use xlink:href=\"#DejaVuSans-32\"/>\r\n       <use x=\"63.623047\" xlink:href=\"#DejaVuSans-30\"/>\r\n      </g>\r\n     </g>\r\n    </g>\r\n    <g id=\"xtick_12\">\r\n     <g id=\"line2d_41\">\r\n      <path clip-path=\"url(#p5d1f806b47)\" d=\"M 933.50687 506.2 \r\nL 933.50687 71.32 \r\n\" style=\"fill:none;stroke:#b0b0b0;stroke-linecap:square;stroke-width:0.8;\"/>\r\n     </g>\r\n     <g id=\"line2d_42\">\r\n      <g>\r\n       <use style=\"stroke:#000000;stroke-width:0.8;\" x=\"933.50687\" xlink:href=\"#md0b58e2e3c\" y=\"506.2\"/>\r\n      </g>\r\n     </g>\r\n     <g id=\"text_23\">\r\n      <!-- 25 -->\r\n      <g transform=\"translate(927.14437 520.798438)scale(0.1 -0.1)\">\r\n       <use xlink:href=\"#DejaVuSans-32\"/>\r\n       <use x=\"63.623047\" xlink:href=\"#DejaVuSans-35\"/>\r\n      </g>\r\n     </g>\r\n    </g>\r\n    <g id=\"text_24\">\r\n     <!-- Epoch [cycle] -->\r\n     <g transform=\"translate(699.947159 534.476563)scale(0.1 -0.1)\">\r\n      <use xlink:href=\"#DejaVuSans-45\"/>\r\n      <use x=\"63.183594\" xlink:href=\"#DejaVuSans-70\"/>\r\n      <use x=\"126.660156\" xlink:href=\"#DejaVuSans-6f\"/>\r\n      <use x=\"187.841797\" xlink:href=\"#DejaVuSans-63\"/>\r\n      <use x=\"242.822266\" xlink:href=\"#DejaVuSans-68\"/>\r\n      <use x=\"306.201172\" xlink:href=\"#DejaVuSans-20\"/>\r\n      <use x=\"337.988281\" xlink:href=\"#DejaVuSans-5b\"/>\r\n      <use x=\"377.001953\" xlink:href=\"#DejaVuSans-63\"/>\r\n      <use x=\"431.982422\" xlink:href=\"#DejaVuSans-79\"/>\r\n      <use x=\"491.162109\" xlink:href=\"#DejaVuSans-63\"/>\r\n      <use x=\"546.142578\" xlink:href=\"#DejaVuSans-6c\"/>\r\n      <use x=\"573.925781\" xlink:href=\"#DejaVuSans-65\"/>\r\n      <use x=\"635.449219\" xlink:href=\"#DejaVuSans-5d\"/>\r\n     </g>\r\n    </g>\r\n   </g>\r\n   <g id=\"matplotlib.axis_4\">\r\n    <g id=\"ytick_9\">\r\n     <g id=\"line2d_43\">\r\n      <path clip-path=\"url(#p5d1f806b47)\" d=\"M 530.763068 483.058661 \r\nL 936.58125 483.058661 \r\n\" style=\"fill:none;stroke:#b0b0b0;stroke-linecap:square;stroke-width:0.8;\"/>\r\n     </g>\r\n     <g id=\"line2d_44\">\r\n      <g>\r\n       <use style=\"stroke:#000000;stroke-width:0.8;\" x=\"530.763068\" xlink:href=\"#mef773e8b1f\" y=\"483.058661\"/>\r\n      </g>\r\n     </g>\r\n     <g id=\"text_25\">\r\n      <!-- 0.10 -->\r\n      <g transform=\"translate(501.497443 486.85788)scale(0.1 -0.1)\">\r\n       <use xlink:href=\"#DejaVuSans-30\"/>\r\n       <use x=\"63.623047\" xlink:href=\"#DejaVuSans-2e\"/>\r\n       <use x=\"95.410156\" xlink:href=\"#DejaVuSans-31\"/>\r\n       <use x=\"159.033203\" xlink:href=\"#DejaVuSans-30\"/>\r\n      </g>\r\n     </g>\r\n    </g>\r\n    <g id=\"ytick_10\">\r\n     <g id=\"line2d_45\">\r\n      <path clip-path=\"url(#p5d1f806b47)\" d=\"M 530.763068 426.159589 \r\nL 936.58125 426.159589 \r\n\" style=\"fill:none;stroke:#b0b0b0;stroke-linecap:square;stroke-width:0.8;\"/>\r\n     </g>\r\n     <g id=\"line2d_46\">\r\n      <g>\r\n       <use style=\"stroke:#000000;stroke-width:0.8;\" x=\"530.763068\" xlink:href=\"#mef773e8b1f\" y=\"426.159589\"/>\r\n      </g>\r\n     </g>\r\n     <g id=\"text_26\">\r\n      <!-- 0.15 -->\r\n      <g transform=\"translate(501.497443 429.958808)scale(0.1 -0.1)\">\r\n       <use xlink:href=\"#DejaVuSans-30\"/>\r\n       <use x=\"63.623047\" xlink:href=\"#DejaVuSans-2e\"/>\r\n       <use x=\"95.410156\" xlink:href=\"#DejaVuSans-31\"/>\r\n       <use x=\"159.033203\" xlink:href=\"#DejaVuSans-35\"/>\r\n      </g>\r\n     </g>\r\n    </g>\r\n    <g id=\"ytick_11\">\r\n     <g id=\"line2d_47\">\r\n      <path clip-path=\"url(#p5d1f806b47)\" d=\"M 530.763068 369.260517 \r\nL 936.58125 369.260517 \r\n\" style=\"fill:none;stroke:#b0b0b0;stroke-linecap:square;stroke-width:0.8;\"/>\r\n     </g>\r\n     <g id=\"line2d_48\">\r\n      <g>\r\n       <use style=\"stroke:#000000;stroke-width:0.8;\" x=\"530.763068\" xlink:href=\"#mef773e8b1f\" y=\"369.260517\"/>\r\n      </g>\r\n     </g>\r\n     <g id=\"text_27\">\r\n      <!-- 0.20 -->\r\n      <g transform=\"translate(501.497443 373.059736)scale(0.1 -0.1)\">\r\n       <use xlink:href=\"#DejaVuSans-30\"/>\r\n       <use x=\"63.623047\" xlink:href=\"#DejaVuSans-2e\"/>\r\n       <use x=\"95.410156\" xlink:href=\"#DejaVuSans-32\"/>\r\n       <use x=\"159.033203\" xlink:href=\"#DejaVuSans-30\"/>\r\n      </g>\r\n     </g>\r\n    </g>\r\n    <g id=\"ytick_12\">\r\n     <g id=\"line2d_49\">\r\n      <path clip-path=\"url(#p5d1f806b47)\" d=\"M 530.763068 312.361445 \r\nL 936.58125 312.361445 \r\n\" style=\"fill:none;stroke:#b0b0b0;stroke-linecap:square;stroke-width:0.8;\"/>\r\n     </g>\r\n     <g id=\"line2d_50\">\r\n      <g>\r\n       <use style=\"stroke:#000000;stroke-width:0.8;\" x=\"530.763068\" xlink:href=\"#mef773e8b1f\" y=\"312.361445\"/>\r\n      </g>\r\n     </g>\r\n     <g id=\"text_28\">\r\n      <!-- 0.25 -->\r\n      <g transform=\"translate(501.497443 316.160664)scale(0.1 -0.1)\">\r\n       <use xlink:href=\"#DejaVuSans-30\"/>\r\n       <use x=\"63.623047\" xlink:href=\"#DejaVuSans-2e\"/>\r\n       <use x=\"95.410156\" xlink:href=\"#DejaVuSans-32\"/>\r\n       <use x=\"159.033203\" xlink:href=\"#DejaVuSans-35\"/>\r\n      </g>\r\n     </g>\r\n    </g>\r\n    <g id=\"ytick_13\">\r\n     <g id=\"line2d_51\">\r\n      <path clip-path=\"url(#p5d1f806b47)\" d=\"M 530.763068 255.462373 \r\nL 936.58125 255.462373 \r\n\" style=\"fill:none;stroke:#b0b0b0;stroke-linecap:square;stroke-width:0.8;\"/>\r\n     </g>\r\n     <g id=\"line2d_52\">\r\n      <g>\r\n       <use style=\"stroke:#000000;stroke-width:0.8;\" x=\"530.763068\" xlink:href=\"#mef773e8b1f\" y=\"255.462373\"/>\r\n      </g>\r\n     </g>\r\n     <g id=\"text_29\">\r\n      <!-- 0.30 -->\r\n      <g transform=\"translate(501.497443 259.261592)scale(0.1 -0.1)\">\r\n       <defs>\r\n        <path d=\"M 2597 2516 \r\nQ 3050 2419 3304 2112 \r\nQ 3559 1806 3559 1356 \r\nQ 3559 666 3084 287 \r\nQ 2609 -91 1734 -91 \r\nQ 1441 -91 1130 -33 \r\nQ 819 25 488 141 \r\nL 488 750 \r\nQ 750 597 1062 519 \r\nQ 1375 441 1716 441 \r\nQ 2309 441 2620 675 \r\nQ 2931 909 2931 1356 \r\nQ 2931 1769 2642 2001 \r\nQ 2353 2234 1838 2234 \r\nL 1294 2234 \r\nL 1294 2753 \r\nL 1863 2753 \r\nQ 2328 2753 2575 2939 \r\nQ 2822 3125 2822 3475 \r\nQ 2822 3834 2567 4026 \r\nQ 2313 4219 1838 4219 \r\nQ 1578 4219 1281 4162 \r\nQ 984 4106 628 3988 \r\nL 628 4550 \r\nQ 988 4650 1302 4700 \r\nQ 1616 4750 1894 4750 \r\nQ 2613 4750 3031 4423 \r\nQ 3450 4097 3450 3541 \r\nQ 3450 3153 3228 2886 \r\nQ 3006 2619 2597 2516 \r\nz\r\n\" id=\"DejaVuSans-33\" transform=\"scale(0.015625)\"/>\r\n       </defs>\r\n       <use xlink:href=\"#DejaVuSans-30\"/>\r\n       <use x=\"63.623047\" xlink:href=\"#DejaVuSans-2e\"/>\r\n       <use x=\"95.410156\" xlink:href=\"#DejaVuSans-33\"/>\r\n       <use x=\"159.033203\" xlink:href=\"#DejaVuSans-30\"/>\r\n      </g>\r\n     </g>\r\n    </g>\r\n    <g id=\"ytick_14\">\r\n     <g id=\"line2d_53\">\r\n      <path clip-path=\"url(#p5d1f806b47)\" d=\"M 530.763068 198.563301 \r\nL 936.58125 198.563301 \r\n\" style=\"fill:none;stroke:#b0b0b0;stroke-linecap:square;stroke-width:0.8;\"/>\r\n     </g>\r\n     <g id=\"line2d_54\">\r\n      <g>\r\n       <use style=\"stroke:#000000;stroke-width:0.8;\" x=\"530.763068\" xlink:href=\"#mef773e8b1f\" y=\"198.563301\"/>\r\n      </g>\r\n     </g>\r\n     <g id=\"text_30\">\r\n      <!-- 0.35 -->\r\n      <g transform=\"translate(501.497443 202.36252)scale(0.1 -0.1)\">\r\n       <use xlink:href=\"#DejaVuSans-30\"/>\r\n       <use x=\"63.623047\" xlink:href=\"#DejaVuSans-2e\"/>\r\n       <use x=\"95.410156\" xlink:href=\"#DejaVuSans-33\"/>\r\n       <use x=\"159.033203\" xlink:href=\"#DejaVuSans-35\"/>\r\n      </g>\r\n     </g>\r\n    </g>\r\n    <g id=\"ytick_15\">\r\n     <g id=\"line2d_55\">\r\n      <path clip-path=\"url(#p5d1f806b47)\" d=\"M 530.763068 141.664229 \r\nL 936.58125 141.664229 \r\n\" style=\"fill:none;stroke:#b0b0b0;stroke-linecap:square;stroke-width:0.8;\"/>\r\n     </g>\r\n     <g id=\"line2d_56\">\r\n      <g>\r\n       <use style=\"stroke:#000000;stroke-width:0.8;\" x=\"530.763068\" xlink:href=\"#mef773e8b1f\" y=\"141.664229\"/>\r\n      </g>\r\n     </g>\r\n     <g id=\"text_31\">\r\n      <!-- 0.40 -->\r\n      <g transform=\"translate(501.497443 145.463448)scale(0.1 -0.1)\">\r\n       <use xlink:href=\"#DejaVuSans-30\"/>\r\n       <use x=\"63.623047\" xlink:href=\"#DejaVuSans-2e\"/>\r\n       <use x=\"95.410156\" xlink:href=\"#DejaVuSans-34\"/>\r\n       <use x=\"159.033203\" xlink:href=\"#DejaVuSans-30\"/>\r\n      </g>\r\n     </g>\r\n    </g>\r\n    <g id=\"ytick_16\">\r\n     <g id=\"line2d_57\">\r\n      <path clip-path=\"url(#p5d1f806b47)\" d=\"M 530.763068 84.765157 \r\nL 936.58125 84.765157 \r\n\" style=\"fill:none;stroke:#b0b0b0;stroke-linecap:square;stroke-width:0.8;\"/>\r\n     </g>\r\n     <g id=\"line2d_58\">\r\n      <g>\r\n       <use style=\"stroke:#000000;stroke-width:0.8;\" x=\"530.763068\" xlink:href=\"#mef773e8b1f\" y=\"84.765157\"/>\r\n      </g>\r\n     </g>\r\n     <g id=\"text_32\">\r\n      <!-- 0.45 -->\r\n      <g transform=\"translate(501.497443 88.564376)scale(0.1 -0.1)\">\r\n       <use xlink:href=\"#DejaVuSans-30\"/>\r\n       <use x=\"63.623047\" xlink:href=\"#DejaVuSans-2e\"/>\r\n       <use x=\"95.410156\" xlink:href=\"#DejaVuSans-34\"/>\r\n       <use x=\"159.033203\" xlink:href=\"#DejaVuSans-35\"/>\r\n      </g>\r\n     </g>\r\n    </g>\r\n    <g id=\"text_33\">\r\n     <!-- Acc [%] -->\r\n     <g transform=\"translate(495.417756 307.832656)rotate(-90)scale(0.1 -0.1)\">\r\n      <defs>\r\n       <path d=\"M 2188 4044 \r\nL 1331 1722 \r\nL 3047 1722 \r\nL 2188 4044 \r\nz\r\nM 1831 4666 \r\nL 2547 4666 \r\nL 4325 0 \r\nL 3669 0 \r\nL 3244 1197 \r\nL 1141 1197 \r\nL 716 0 \r\nL 50 0 \r\nL 1831 4666 \r\nz\r\n\" id=\"DejaVuSans-41\" transform=\"scale(0.015625)\"/>\r\n      </defs>\r\n      <use xlink:href=\"#DejaVuSans-41\"/>\r\n      <use x=\"66.658203\" xlink:href=\"#DejaVuSans-63\"/>\r\n      <use x=\"121.638672\" xlink:href=\"#DejaVuSans-63\"/>\r\n      <use x=\"176.619141\" xlink:href=\"#DejaVuSans-20\"/>\r\n      <use x=\"208.40625\" xlink:href=\"#DejaVuSans-5b\"/>\r\n      <use x=\"247.419922\" xlink:href=\"#DejaVuSans-25\"/>\r\n      <use x=\"342.439453\" xlink:href=\"#DejaVuSans-5d\"/>\r\n     </g>\r\n    </g>\r\n   </g>\r\n   <g id=\"line2d_59\">\r\n    <path clip-path=\"url(#p5d1f806b47)\" d=\"M 549.209349 486.432727 \r\nL 564.58125 387.255559 \r\nL 579.953151 250.247905 \r\nL 595.325052 174.586951 \r\nL 610.696952 176.631859 \r\nL 626.068853 161.295184 \r\nL 641.440754 186.856298 \r\nL 656.812655 195.035862 \r\nL 672.184556 217.529647 \r\nL 687.556457 227.75412 \r\nL 702.928357 192.990988 \r\nL 718.300258 218.552101 \r\nL 733.672159 197.08077 \r\nL 749.04406 206.282755 \r\nL 764.415961 178.676733 \r\nL 779.787862 180.721641 \r\nL 795.159762 198.10319 \r\nL 810.531663 245.135669 \r\nL 825.903564 207.305209 \r\nL 841.275465 185.833844 \r\nL 856.647366 224.686758 \r\nL 872.019267 212.417445 \r\nL 887.391167 185.833844 \r\nL 902.763068 194.013408 \r\nL 918.134969 175.609405 \r\n\" style=\"fill:none;stroke:#008000;stroke-linecap:square;stroke-width:1.5;\"/>\r\n   </g>\r\n   <g id=\"line2d_60\">\r\n    <path clip-path=\"url(#p5d1f806b47)\" d=\"M 549.209349 290.947803 \r\nL 564.58125 209.372093 \r\nL 579.953151 131.875144 \r\nL 595.325052 164.505428 \r\nL 610.696952 99.244861 \r\nL 626.068853 197.135712 \r\nL 641.440754 111.481208 \r\nL 656.812655 160.426634 \r\nL 672.184556 250.159965 \r\nL 687.556457 176.74181 \r\nL 702.928357 188.978158 \r\nL 718.300258 266.475107 \r\nL 733.672159 127.79635 \r\nL 749.04406 91.087273 \r\nL 764.415961 209.372093 \r\nL 779.787862 250.159965 \r\nL 795.159762 303.184184 \r\nL 810.531663 188.978158 \r\nL 825.903564 237.923583 \r\nL 841.275465 127.79635 \r\nL 856.647366 266.475107 \r\nL 872.019267 107.402415 \r\nL 887.391167 254.238725 \r\nL 902.763068 323.578103 \r\nL 918.134969 205.293299 \r\n\" style=\"fill:none;stroke:#4169e1;stroke-linecap:square;stroke-width:1.5;\"/>\r\n   </g>\r\n   <g id=\"patch_8\">\r\n    <path d=\"M 530.763068 506.2 \r\nL 530.763068 71.32 \r\n\" style=\"fill:none;stroke:#000000;stroke-linecap:square;stroke-linejoin:miter;stroke-width:0.8;\"/>\r\n   </g>\r\n   <g id=\"patch_9\">\r\n    <path d=\"M 936.58125 506.2 \r\nL 936.58125 71.32 \r\n\" style=\"fill:none;stroke:#000000;stroke-linecap:square;stroke-linejoin:miter;stroke-width:0.8;\"/>\r\n   </g>\r\n   <g id=\"patch_10\">\r\n    <path d=\"M 530.763068 506.2 \r\nL 936.58125 506.2 \r\n\" style=\"fill:none;stroke:#000000;stroke-linecap:square;stroke-linejoin:miter;stroke-width:0.8;\"/>\r\n   </g>\r\n   <g id=\"patch_11\">\r\n    <path d=\"M 530.763068 71.32 \r\nL 936.58125 71.32 \r\n\" style=\"fill:none;stroke:#000000;stroke-linecap:square;stroke-linejoin:miter;stroke-width:0.8;\"/>\r\n   </g>\r\n   <g id=\"text_34\">\r\n    <!-- Accuracy -->\r\n    <g transform=\"translate(706.278409 65.32)scale(0.12 -0.12)\">\r\n     <defs>\r\n      <path d=\"M 544 1381 \r\nL 544 3500 \r\nL 1119 3500 \r\nL 1119 1403 \r\nQ 1119 906 1312 657 \r\nQ 1506 409 1894 409 \r\nQ 2359 409 2629 706 \r\nQ 2900 1003 2900 1516 \r\nL 2900 3500 \r\nL 3475 3500 \r\nL 3475 0 \r\nL 2900 0 \r\nL 2900 538 \r\nQ 2691 219 2414 64 \r\nQ 2138 -91 1772 -91 \r\nQ 1169 -91 856 284 \r\nQ 544 659 544 1381 \r\nz\r\nM 1991 3584 \r\nL 1991 3584 \r\nz\r\n\" id=\"DejaVuSans-75\" transform=\"scale(0.015625)\"/>\r\n      <path d=\"M 2631 2963 \r\nQ 2534 3019 2420 3045 \r\nQ 2306 3072 2169 3072 \r\nQ 1681 3072 1420 2755 \r\nQ 1159 2438 1159 1844 \r\nL 1159 0 \r\nL 581 0 \r\nL 581 3500 \r\nL 1159 3500 \r\nL 1159 2956 \r\nQ 1341 3275 1631 3429 \r\nQ 1922 3584 2338 3584 \r\nQ 2397 3584 2469 3576 \r\nQ 2541 3569 2628 3553 \r\nL 2631 2963 \r\nz\r\n\" id=\"DejaVuSans-72\" transform=\"scale(0.015625)\"/>\r\n      <path d=\"M 2194 1759 \r\nQ 1497 1759 1228 1600 \r\nQ 959 1441 959 1056 \r\nQ 959 750 1161 570 \r\nQ 1363 391 1709 391 \r\nQ 2188 391 2477 730 \r\nQ 2766 1069 2766 1631 \r\nL 2766 1759 \r\nL 2194 1759 \r\nz\r\nM 3341 1997 \r\nL 3341 0 \r\nL 2766 0 \r\nL 2766 531 \r\nQ 2569 213 2275 61 \r\nQ 1981 -91 1556 -91 \r\nQ 1019 -91 701 211 \r\nQ 384 513 384 1019 \r\nQ 384 1609 779 1909 \r\nQ 1175 2209 1959 2209 \r\nL 2766 2209 \r\nL 2766 2266 \r\nQ 2766 2663 2505 2880 \r\nQ 2244 3097 1772 3097 \r\nQ 1472 3097 1187 3025 \r\nQ 903 2953 641 2809 \r\nL 641 3341 \r\nQ 956 3463 1253 3523 \r\nQ 1550 3584 1831 3584 \r\nQ 2591 3584 2966 3190 \r\nQ 3341 2797 3341 1997 \r\nz\r\n\" id=\"DejaVuSans-61\" transform=\"scale(0.015625)\"/>\r\n     </defs>\r\n     <use xlink:href=\"#DejaVuSans-41\"/>\r\n     <use x=\"66.658203\" xlink:href=\"#DejaVuSans-63\"/>\r\n     <use x=\"121.638672\" xlink:href=\"#DejaVuSans-63\"/>\r\n     <use x=\"176.619141\" xlink:href=\"#DejaVuSans-75\"/>\r\n     <use x=\"239.998047\" xlink:href=\"#DejaVuSans-72\"/>\r\n     <use x=\"281.111328\" xlink:href=\"#DejaVuSans-61\"/>\r\n     <use x=\"342.390625\" xlink:href=\"#DejaVuSans-63\"/>\r\n     <use x=\"397.371094\" xlink:href=\"#DejaVuSans-79\"/>\r\n    </g>\r\n   </g>\r\n  </g>\r\n  <g id=\"text_35\">\r\n   <!-- LEARNING BEHAVIOR -->\r\n   <g transform=\"translate(412.161563 22.838125)scale(0.12 -0.12)\">\r\n    <defs>\r\n     <path d=\"M 2841 2188 \r\nQ 3044 2119 3236 1894 \r\nQ 3428 1669 3622 1275 \r\nL 4263 0 \r\nL 3584 0 \r\nL 2988 1197 \r\nQ 2756 1666 2539 1819 \r\nQ 2322 1972 1947 1972 \r\nL 1259 1972 \r\nL 1259 0 \r\nL 628 0 \r\nL 628 4666 \r\nL 2053 4666 \r\nQ 2853 4666 3247 4331 \r\nQ 3641 3997 3641 3322 \r\nQ 3641 2881 3436 2590 \r\nQ 3231 2300 2841 2188 \r\nz\r\nM 1259 4147 \r\nL 1259 2491 \r\nL 2053 2491 \r\nQ 2509 2491 2742 2702 \r\nQ 2975 2913 2975 3322 \r\nQ 2975 3731 2742 3939 \r\nQ 2509 4147 2053 4147 \r\nL 1259 4147 \r\nz\r\n\" id=\"DejaVuSans-52\" transform=\"scale(0.015625)\"/>\r\n     <path d=\"M 628 4666 \r\nL 1478 4666 \r\nL 3547 763 \r\nL 3547 4666 \r\nL 4159 4666 \r\nL 4159 0 \r\nL 3309 0 \r\nL 1241 3903 \r\nL 1241 0 \r\nL 628 0 \r\nL 628 4666 \r\nz\r\n\" id=\"DejaVuSans-4e\" transform=\"scale(0.015625)\"/>\r\n     <path d=\"M 628 4666 \r\nL 1259 4666 \r\nL 1259 0 \r\nL 628 0 \r\nL 628 4666 \r\nz\r\n\" id=\"DejaVuSans-49\" transform=\"scale(0.015625)\"/>\r\n     <path d=\"M 3809 666 \r\nL 3809 1919 \r\nL 2778 1919 \r\nL 2778 2438 \r\nL 4434 2438 \r\nL 4434 434 \r\nQ 4069 175 3628 42 \r\nQ 3188 -91 2688 -91 \r\nQ 1594 -91 976 548 \r\nQ 359 1188 359 2328 \r\nQ 359 3472 976 4111 \r\nQ 1594 4750 2688 4750 \r\nQ 3144 4750 3555 4637 \r\nQ 3966 4525 4313 4306 \r\nL 4313 3634 \r\nQ 3963 3931 3569 4081 \r\nQ 3175 4231 2741 4231 \r\nQ 1884 4231 1454 3753 \r\nQ 1025 3275 1025 2328 \r\nQ 1025 1384 1454 906 \r\nQ 1884 428 2741 428 \r\nQ 3075 428 3337 486 \r\nQ 3600 544 3809 666 \r\nz\r\n\" id=\"DejaVuSans-47\" transform=\"scale(0.015625)\"/>\r\n     <path d=\"M 1259 2228 \r\nL 1259 519 \r\nL 2272 519 \r\nQ 2781 519 3026 730 \r\nQ 3272 941 3272 1375 \r\nQ 3272 1813 3026 2020 \r\nQ 2781 2228 2272 2228 \r\nL 1259 2228 \r\nz\r\nM 1259 4147 \r\nL 1259 2741 \r\nL 2194 2741 \r\nQ 2656 2741 2882 2914 \r\nQ 3109 3088 3109 3444 \r\nQ 3109 3797 2882 3972 \r\nQ 2656 4147 2194 4147 \r\nL 1259 4147 \r\nz\r\nM 628 4666 \r\nL 2241 4666 \r\nQ 2963 4666 3353 4366 \r\nQ 3744 4066 3744 3513 \r\nQ 3744 3084 3544 2831 \r\nQ 3344 2578 2956 2516 \r\nQ 3422 2416 3680 2098 \r\nQ 3938 1781 3938 1306 \r\nQ 3938 681 3513 340 \r\nQ 3088 0 2303 0 \r\nL 628 0 \r\nL 628 4666 \r\nz\r\n\" id=\"DejaVuSans-42\" transform=\"scale(0.015625)\"/>\r\n     <path d=\"M 628 4666 \r\nL 1259 4666 \r\nL 1259 2753 \r\nL 3553 2753 \r\nL 3553 4666 \r\nL 4184 4666 \r\nL 4184 0 \r\nL 3553 0 \r\nL 3553 2222 \r\nL 1259 2222 \r\nL 1259 0 \r\nL 628 0 \r\nL 628 4666 \r\nz\r\n\" id=\"DejaVuSans-48\" transform=\"scale(0.015625)\"/>\r\n     <path d=\"M 1831 0 \r\nL 50 4666 \r\nL 709 4666 \r\nL 2188 738 \r\nL 3669 4666 \r\nL 4325 4666 \r\nL 2547 0 \r\nL 1831 0 \r\nz\r\n\" id=\"DejaVuSans-56\" transform=\"scale(0.015625)\"/>\r\n     <path d=\"M 2522 4238 \r\nQ 1834 4238 1429 3725 \r\nQ 1025 3213 1025 2328 \r\nQ 1025 1447 1429 934 \r\nQ 1834 422 2522 422 \r\nQ 3209 422 3611 934 \r\nQ 4013 1447 4013 2328 \r\nQ 4013 3213 3611 3725 \r\nQ 3209 4238 2522 4238 \r\nz\r\nM 2522 4750 \r\nQ 3503 4750 4090 4092 \r\nQ 4678 3434 4678 2328 \r\nQ 4678 1225 4090 567 \r\nQ 3503 -91 2522 -91 \r\nQ 1538 -91 948 565 \r\nQ 359 1222 359 2328 \r\nQ 359 3434 948 4092 \r\nQ 1538 4750 2522 4750 \r\nz\r\n\" id=\"DejaVuSans-4f\" transform=\"scale(0.015625)\"/>\r\n    </defs>\r\n    <use xlink:href=\"#DejaVuSans-4c\"/>\r\n    <use x=\"55.712891\" xlink:href=\"#DejaVuSans-45\"/>\r\n    <use x=\"118.896484\" xlink:href=\"#DejaVuSans-41\"/>\r\n    <use x=\"187.304688\" xlink:href=\"#DejaVuSans-52\"/>\r\n    <use x=\"256.787109\" xlink:href=\"#DejaVuSans-4e\"/>\r\n    <use x=\"331.591797\" xlink:href=\"#DejaVuSans-49\"/>\r\n    <use x=\"361.083984\" xlink:href=\"#DejaVuSans-4e\"/>\r\n    <use x=\"435.888672\" xlink:href=\"#DejaVuSans-47\"/>\r\n    <use x=\"513.378906\" xlink:href=\"#DejaVuSans-20\"/>\r\n    <use x=\"545.166016\" xlink:href=\"#DejaVuSans-42\"/>\r\n    <use x=\"613.769531\" xlink:href=\"#DejaVuSans-45\"/>\r\n    <use x=\"676.953125\" xlink:href=\"#DejaVuSans-48\"/>\r\n    <use x=\"752.148438\" xlink:href=\"#DejaVuSans-41\"/>\r\n    <use x=\"814.181641\" xlink:href=\"#DejaVuSans-56\"/>\r\n    <use x=\"882.589844\" xlink:href=\"#DejaVuSans-49\"/>\r\n    <use x=\"912.082031\" xlink:href=\"#DejaVuSans-4f\"/>\r\n    <use x=\"990.792969\" xlink:href=\"#DejaVuSans-52\"/>\r\n   </g>\r\n  </g>\r\n  <g id=\"legend_1\">\r\n   <g id=\"patch_12\">\r\n    <path d=\"M 942.159375 66.7125 \r\nL 1046.98125 66.7125 \r\nQ 1048.98125 66.7125 1048.98125 64.7125 \r\nL 1048.98125 7 \r\nQ 1048.98125 5 1046.98125 5 \r\nL 942.159375 5 \r\nQ 940.159375 5 940.159375 7 \r\nL 940.159375 64.7125 \r\nQ 940.159375 66.7125 942.159375 66.7125 \r\nz\r\n\" style=\"fill:#ffffff;opacity:0.8;stroke:#cccccc;stroke-linejoin:miter;\"/>\r\n   </g>\r\n   <g id=\"line2d_61\">\r\n    <path d=\"M 944.159375 13.098437 \r\nL 964.159375 13.098437 \r\n\" style=\"fill:none;stroke:#008000;stroke-linecap:square;stroke-width:1.5;\"/>\r\n   </g>\r\n   <g id=\"line2d_62\"/>\r\n   <g id=\"text_36\">\r\n    <!-- Train Loss -->\r\n    <g transform=\"translate(972.159375 16.598437)scale(0.1 -0.1)\">\r\n     <defs>\r\n      <path d=\"M -19 4666 \r\nL 3928 4666 \r\nL 3928 4134 \r\nL 2272 4134 \r\nL 2272 0 \r\nL 1638 0 \r\nL 1638 4134 \r\nL -19 4134 \r\nL -19 4666 \r\nz\r\n\" id=\"DejaVuSans-54\" transform=\"scale(0.015625)\"/>\r\n      <path d=\"M 603 3500 \r\nL 1178 3500 \r\nL 1178 0 \r\nL 603 0 \r\nL 603 3500 \r\nz\r\nM 603 4863 \r\nL 1178 4863 \r\nL 1178 4134 \r\nL 603 4134 \r\nL 603 4863 \r\nz\r\n\" id=\"DejaVuSans-69\" transform=\"scale(0.015625)\"/>\r\n      <path d=\"M 3513 2113 \r\nL 3513 0 \r\nL 2938 0 \r\nL 2938 2094 \r\nQ 2938 2591 2744 2837 \r\nQ 2550 3084 2163 3084 \r\nQ 1697 3084 1428 2787 \r\nQ 1159 2491 1159 1978 \r\nL 1159 0 \r\nL 581 0 \r\nL 581 3500 \r\nL 1159 3500 \r\nL 1159 2956 \r\nQ 1366 3272 1645 3428 \r\nQ 1925 3584 2291 3584 \r\nQ 2894 3584 3203 3211 \r\nQ 3513 2838 3513 2113 \r\nz\r\n\" id=\"DejaVuSans-6e\" transform=\"scale(0.015625)\"/>\r\n     </defs>\r\n     <use xlink:href=\"#DejaVuSans-54\"/>\r\n     <use x=\"46.333984\" xlink:href=\"#DejaVuSans-72\"/>\r\n     <use x=\"87.447266\" xlink:href=\"#DejaVuSans-61\"/>\r\n     <use x=\"148.726562\" xlink:href=\"#DejaVuSans-69\"/>\r\n     <use x=\"176.509766\" xlink:href=\"#DejaVuSans-6e\"/>\r\n     <use x=\"239.888672\" xlink:href=\"#DejaVuSans-20\"/>\r\n     <use x=\"271.675781\" xlink:href=\"#DejaVuSans-4c\"/>\r\n     <use x=\"325.638672\" xlink:href=\"#DejaVuSans-6f\"/>\r\n     <use x=\"386.820312\" xlink:href=\"#DejaVuSans-73\"/>\r\n     <use x=\"438.919922\" xlink:href=\"#DejaVuSans-73\"/>\r\n    </g>\r\n   </g>\r\n   <g id=\"line2d_63\">\r\n    <path d=\"M 944.159375 27.776562 \r\nL 964.159375 27.776562 \r\n\" style=\"fill:none;stroke:#4169e1;stroke-linecap:square;stroke-width:1.5;\"/>\r\n   </g>\r\n   <g id=\"line2d_64\"/>\r\n   <g id=\"text_37\">\r\n    <!-- Test Loss -->\r\n    <g transform=\"translate(972.159375 31.276562)scale(0.1 -0.1)\">\r\n     <defs>\r\n      <path d=\"M 1172 4494 \r\nL 1172 3500 \r\nL 2356 3500 \r\nL 2356 3053 \r\nL 1172 3053 \r\nL 1172 1153 \r\nQ 1172 725 1289 603 \r\nQ 1406 481 1766 481 \r\nL 2356 481 \r\nL 2356 0 \r\nL 1766 0 \r\nQ 1100 0 847 248 \r\nQ 594 497 594 1153 \r\nL 594 3053 \r\nL 172 3053 \r\nL 172 3500 \r\nL 594 3500 \r\nL 594 4494 \r\nL 1172 4494 \r\nz\r\n\" id=\"DejaVuSans-74\" transform=\"scale(0.015625)\"/>\r\n     </defs>\r\n     <use xlink:href=\"#DejaVuSans-54\"/>\r\n     <use x=\"44.083984\" xlink:href=\"#DejaVuSans-65\"/>\r\n     <use x=\"105.607422\" xlink:href=\"#DejaVuSans-73\"/>\r\n     <use x=\"157.707031\" xlink:href=\"#DejaVuSans-74\"/>\r\n     <use x=\"196.916016\" xlink:href=\"#DejaVuSans-20\"/>\r\n     <use x=\"228.703125\" xlink:href=\"#DejaVuSans-4c\"/>\r\n     <use x=\"282.666016\" xlink:href=\"#DejaVuSans-6f\"/>\r\n     <use x=\"343.847656\" xlink:href=\"#DejaVuSans-73\"/>\r\n     <use x=\"395.947266\" xlink:href=\"#DejaVuSans-73\"/>\r\n    </g>\r\n   </g>\r\n   <g id=\"line2d_65\">\r\n    <path d=\"M 944.159375 42.454687 \r\nL 964.159375 42.454687 \r\n\" style=\"fill:none;stroke:#008000;stroke-linecap:square;stroke-width:1.5;\"/>\r\n   </g>\r\n   <g id=\"line2d_66\"/>\r\n   <g id=\"text_38\">\r\n    <!-- Train Accuracy -->\r\n    <g transform=\"translate(972.159375 45.954687)scale(0.1 -0.1)\">\r\n     <use xlink:href=\"#DejaVuSans-54\"/>\r\n     <use x=\"46.333984\" xlink:href=\"#DejaVuSans-72\"/>\r\n     <use x=\"87.447266\" xlink:href=\"#DejaVuSans-61\"/>\r\n     <use x=\"148.726562\" xlink:href=\"#DejaVuSans-69\"/>\r\n     <use x=\"176.509766\" xlink:href=\"#DejaVuSans-6e\"/>\r\n     <use x=\"239.888672\" xlink:href=\"#DejaVuSans-20\"/>\r\n     <use x=\"271.675781\" xlink:href=\"#DejaVuSans-41\"/>\r\n     <use x=\"338.333984\" xlink:href=\"#DejaVuSans-63\"/>\r\n     <use x=\"393.314453\" xlink:href=\"#DejaVuSans-63\"/>\r\n     <use x=\"448.294922\" xlink:href=\"#DejaVuSans-75\"/>\r\n     <use x=\"511.673828\" xlink:href=\"#DejaVuSans-72\"/>\r\n     <use x=\"552.787109\" xlink:href=\"#DejaVuSans-61\"/>\r\n     <use x=\"614.066406\" xlink:href=\"#DejaVuSans-63\"/>\r\n     <use x=\"669.046875\" xlink:href=\"#DejaVuSans-79\"/>\r\n    </g>\r\n   </g>\r\n   <g id=\"line2d_67\">\r\n    <path d=\"M 944.159375 57.132812 \r\nL 964.159375 57.132812 \r\n\" style=\"fill:none;stroke:#4169e1;stroke-linecap:square;stroke-width:1.5;\"/>\r\n   </g>\r\n   <g id=\"line2d_68\"/>\r\n   <g id=\"text_39\">\r\n    <!-- Test Accuracy -->\r\n    <g transform=\"translate(972.159375 60.632812)scale(0.1 -0.1)\">\r\n     <use xlink:href=\"#DejaVuSans-54\"/>\r\n     <use x=\"44.083984\" xlink:href=\"#DejaVuSans-65\"/>\r\n     <use x=\"105.607422\" xlink:href=\"#DejaVuSans-73\"/>\r\n     <use x=\"157.707031\" xlink:href=\"#DejaVuSans-74\"/>\r\n     <use x=\"196.916016\" xlink:href=\"#DejaVuSans-20\"/>\r\n     <use x=\"228.703125\" xlink:href=\"#DejaVuSans-41\"/>\r\n     <use x=\"295.361328\" xlink:href=\"#DejaVuSans-63\"/>\r\n     <use x=\"350.341797\" xlink:href=\"#DejaVuSans-63\"/>\r\n     <use x=\"405.322266\" xlink:href=\"#DejaVuSans-75\"/>\r\n     <use x=\"468.701172\" xlink:href=\"#DejaVuSans-72\"/>\r\n     <use x=\"509.814453\" xlink:href=\"#DejaVuSans-61\"/>\r\n     <use x=\"571.09375\" xlink:href=\"#DejaVuSans-63\"/>\r\n     <use x=\"626.074219\" xlink:href=\"#DejaVuSans-79\"/>\r\n    </g>\r\n   </g>\r\n  </g>\r\n </g>\r\n <defs>\r\n  <clipPath id=\"p0f991a8e33\">\r\n   <rect height=\"434.88\" width=\"405.818182\" x=\"43.78125\" y=\"71.32\"/>\r\n  </clipPath>\r\n  <clipPath id=\"p5d1f806b47\">\r\n   <rect height=\"434.88\" width=\"405.818182\" x=\"530.763068\" y=\"71.32\"/>\r\n  </clipPath>\r\n </defs>\r\n</svg>\r\n",
      "image/png": "[encoded data removed]"
     },
     "metadata": {
      "needs_background": "light"
     }
    }
   ],
   "source": [
    "# reporting results\n",
    "# reporte de entrenamiento para el modelo\n",
    "# base de la figura\n",
    "fig, (ax1, ax2) = plt.subplots(1,2, figsize=(16,8))\n",
    "\n",
    "# datos de la figura en de perdida y precision\n",
    "ax1.plot(history_lstm.history[\"loss\"], 'green', label = \"Train Loss\")\n",
    "ax1.plot(history_lstm.history[\"val_loss\"], 'royalblue', label = \"Test Loss\")\n",
    "ax2.plot(history_lstm.history[\"accuracy\"], 'green', label = \"Train Accuracy\")\n",
    "ax2.plot(history_lstm.history[\"val_accuracy\"], 'royalblue', label = \"Test Accuracy\")\n",
    "\n",
    "# leyenda de la grafica\n",
    "fig.suptitle(\"LEARNING BEHAVIOR\")\n",
    "ax1.grid(True)\n",
    "ax2.grid(True)\n",
    "ax1.set_title(\"Loss\")\n",
    "ax2.set_title(\"Accuracy\")\n",
    "ax1.set(xlabel = \"Epoch [cycle]\", ylabel = \"loss [%]\")\n",
    "ax2.set(xlabel = \"Epoch [cycle]\", ylabel = \"Acc [%]\")\n",
    "fig.legend()\n",
    "fig.show()"
   ]
  },
  {
   "cell_type": "code",
   "execution_count": 50,
   "metadata": {},
   "outputs": [
    {
     "output_type": "stream",
     "name": "stdout",
     "text": [
      "False\nc:\\Users\\Felipe\\Documents\\GitHub\\sa-artea\\VVG-MLModel-Trainer\\Data\\Reports\\vvg_lstm_classifier-17-May-2021-Text-Data-Paintings-learn-curve.jpg\n"
     ]
    }
   ],
   "source": [
    "# saving image in png file\n",
    "work_learn_img = model_fname + \"-\" + str_date + \"-\" + work_sufix + \"-learn-curve.\" + imgext\n",
    "img_fpn = os.path.join(root_folder, dataf, reportf, work_learn_img)\n",
    "print(os.path.exists(img_fpn))\n",
    "print(img_fpn)"
   ]
  },
  {
   "cell_type": "code",
   "execution_count": 51,
   "metadata": {},
   "outputs": [],
   "source": [
    "# saving rendered image\n",
    "fig.savefig(img_fpn, dpi = fig.dpi)"
   ]
  },
  {
   "cell_type": "code",
   "execution_count": null,
   "metadata": {},
   "outputs": [],
   "source": []
  }
 ]
}